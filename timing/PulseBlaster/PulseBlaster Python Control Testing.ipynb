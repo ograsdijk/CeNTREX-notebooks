{
 "cells": [
  {
   "cell_type": "code",
   "execution_count": 1,
   "metadata": {},
   "outputs": [
    {
     "name": "stdout",
     "output_type": "stream",
     "text": [
      "Copyright (c) 2015 SpinCore Technologies, Inc.\n",
      "Using SpinAPI Library version b'20171214'\n",
      "Found 1 boards in the system.\n",
      "\n"
     ]
    }
   ],
   "source": [
    "from spinapi import *\n",
    "\n",
    "print(\"Copyright (c) 2015 SpinCore Technologies, Inc.\");\n",
    "print(\"Using SpinAPI Library version %s\" % pb_get_version())\n",
    "print(\"Found %d boards in the system.\\n\" % pb_count_boards())"
   ]
  },
  {
   "cell_type": "code",
   "execution_count": 2,
   "metadata": {},
   "outputs": [],
   "source": [
    "pb_select_board(0)\n",
    "if pb_init() != 0:\n",
    "    print(\"Error initializing board: %s\" % pb_get_error())"
   ]
  },
  {
   "cell_type": "code",
   "execution_count": 3,
   "metadata": {},
   "outputs": [
    {
     "name": "stdout",
     "output_type": "stream",
     "text": [
      "20171214\n",
      "Board is running.\n",
      "6147\n"
     ]
    }
   ],
   "source": [
    "print(pb_get_version().decode())\n",
    "print(pb_status_message().decode().strip())\n",
    "print(pb_get_firmware_id())"
   ]
  },
  {
   "cell_type": "markdown",
   "metadata": {},
   "source": [
    "## 1us off/ 2us on"
   ]
  },
  {
   "cell_type": "code",
   "execution_count": 4,
   "metadata": {},
   "outputs": [
    {
     "name": "stdout",
     "output_type": "stream",
     "text": [
      "Board is running.\n"
     ]
    }
   ],
   "source": [
    "pb_reset()\n",
    "\n",
    "pb_core_clock(250.0)\n",
    "pb_start_programming(PULSE_PROGRAM)\n",
    "start = pb_inst_pbonly(0x0, CONTINUE, 0, 1 * us)\n",
    "pb_inst_pbonly(0xFFFFFF, BRANCH , start, 2 * us)\n",
    "pb_stop_programming()\n",
    "\n",
    "pb_start()\n",
    "print(pb_status_message().decode().strip())"
   ]
  },
  {
   "cell_type": "markdown",
   "metadata": {},
   "source": [
    "## 200ns on / 50ns off"
   ]
  },
  {
   "cell_type": "code",
   "execution_count": 5,
   "metadata": {},
   "outputs": [
    {
     "name": "stdout",
     "output_type": "stream",
     "text": [
      "Board is running.\n"
     ]
    }
   ],
   "source": [
    "pb_reset()\n",
    "\n",
    "pb_core_clock(250.0)\n",
    "pb_start_programming(PULSE_PROGRAM)\n",
    "start = pb_inst_pbonly(0xFFFFFF, CONTINUE , 0, 100.0)\n",
    "pb_inst_pbonly(0xFFFFFF, CONTINUE , 0, 100.0)\n",
    "pb_inst_pbonly(0x0, BRANCH, start, 50.0)\n",
    "pb_stop_programming()\n",
    "\n",
    "pb_start()\n",
    "print(pb_status_message().decode().strip())"
   ]
  },
  {
   "cell_type": "markdown",
   "metadata": {},
   "source": [
    "## Using Code Translate An Instruction String"
   ]
  },
  {
   "cell_type": "code",
   "execution_count": 6,
   "metadata": {},
   "outputs": [],
   "source": [
    "import re\n",
    "import matplotlib.pyplot as plt\n",
    "import numpy as np\n",
    "\n",
    "class PulseSequenceInterpreter:\n",
    "    def __init__(self, sequence, clock = 250e6):\n",
    "        self.time_units = {'ns':1, 'us':1e3, 'ms':1e6, 's':1e9}\n",
    "        self.clock = clock\n",
    "        \n",
    "        OFF = int('0b0000 0000 0000 0000 0000 0000'.replace(' ', ''),2)\n",
    "        ONE_PERIOD = int('0b1000 0000 0000 0000 0000 0000'.replace(' ', ''),2)\n",
    "        TWO_PERIOD = int('0b0100 0000 0000 0000 0000 0000'.replace(' ', ''),2)\n",
    "        THREE_PERIOD = int('0b1100 0000 0000 0000 0000 0000'.replace(' ', ''),2)\n",
    "        FOUR_PERIOD = int('0b0010 0000 0000 0000 0000 0000'.replace(' ', ''),2)\n",
    "        FIVE_PERIOD = int('0b1010 0000 0000 0000 0000 0000'.replace(' ', ''),2)\n",
    "        ON = int('0b1110 0000 0000 0000 0000 0000'.replace(' ', ''),2)\n",
    "        self.fast = [ONE_PERIOD, TWO_PERIOD, THREE_PERIOD, FOUR_PERIOD, FIVE_PERIOD]\n",
    "        self.on = ON\n",
    "            \n",
    "        if isinstance(sequence, str):\n",
    "            self.addresses, self.sequence = self._string_to_sequence_list(sequence)\n",
    "            \n",
    "    def _string_to_sequence_list(self, instructions_string):\n",
    "        sequence = [seq.replace(\"\\t\", \"\").strip() for seq in instructions_string.rstrip().split(\"\\n\")]\n",
    "        sequence = [seq.split('//')[0] if '//' in seq else seq for seq in sequence]\n",
    "        sequence = [seq.strip().split(',') for seq in sequence]\n",
    "        sequence = [seq for seq in sequence if len(seq) != 1]\n",
    "        sequence_dict = []\n",
    "        addresses = {}\n",
    "        for idx, seq in enumerate(sequence):\n",
    "            seq_dict = {}\n",
    "\n",
    "            if ':' in seq[0]:\n",
    "                seq_dict['label'] = seq[0].split(':')[0].strip()\n",
    "                seq[0] = seq[0].split(':')[-1].strip()\n",
    "            else:\n",
    "                seq_dict['label'] = ''\n",
    "\n",
    "            tmp = int(seq[0].replace(' ', ''), 2) if seq[0][:2] == '0b' else int(seq[0].replace(' ', ''), 16)\n",
    "            seq_dict['channels'] = channels = [tmp >> i & 1 for i in range(24)]\n",
    "\n",
    "            t = re.split('([a-zA-Z].*)',seq[1].strip())\n",
    "            t = list(filter(None, t))\n",
    "            seq_dict['time'] = int(float(t[0])*self.time_units[t[1]])\n",
    "\n",
    "            if len(seq) > 2:\n",
    "                seq_dict['opcode'] = seq[2].strip()\n",
    "                if len(seq) > 3:\n",
    "                    seq_dict['instdata'] = seq[3].strip()\n",
    "                else:\n",
    "                    seq_dict['instdata'] = ''\n",
    "            else:\n",
    "                seq_dict['opcode'] = ''\n",
    "                seq_dict['instdata'] = ''\n",
    "\n",
    "            sequence_dict.append(seq_dict)\n",
    "            if seq_dict['label'] != '':\n",
    "                addresses[seq_dict['label']] = idx\n",
    "        \n",
    "        nested = []\n",
    "        for idx, seq in enumerate(sequence_dict):\n",
    "            if seq['opcode'].upper() == 'LOOP':\n",
    "                nested.append(idx)\n",
    "            elif seq['opcode'].upper() == 'END_LOOP':\n",
    "                seq['instdata'] = nested.pop()\n",
    "                \n",
    "        return addresses, sequence_dict\n",
    "    \n",
    "    def _append_sequence(self, seq, t, c):\n",
    "        num = sum([1 << c for c,v in enumerate(seq['channels']) if v == 1])\n",
    "        for idf, f in enumerate(self.fast):\n",
    "            if (num >> 21) == (f >> 21):\n",
    "                c.append(seq['channels'])\n",
    "                c.append(c[0])\n",
    "                t.append(int(1/self.clock*1e9)*(idf+1))\n",
    "                t.append(seq['time']-int(1/self.clock*1e9)*(idf+1))\n",
    "                return\n",
    "        if (self.on >> 21) == (num >> 21):\n",
    "            c.append(seq['channels'])\n",
    "            t.append(seq['time'])\n",
    "        else:\n",
    "            c.append([0]*24)\n",
    "            t.append(seq['time'])\n",
    "        return\n",
    "\n",
    "    def generate_pulse_sequence(self):\n",
    "        c = [[0]*24]\n",
    "        t = [0]\n",
    "        \n",
    "        ids = 0\n",
    "        nested = []\n",
    "\n",
    "        while True:\n",
    "            seq = self.sequence[ids]\n",
    "            if seq['opcode'].upper() == 'LOOP':\n",
    "                if (len(nested) == 0) or (nested[-1]['opcode'] != 'LOOP') or (nested[-1]['address'] != ids):  \n",
    "                    nested.append({'opcode':seq['opcode'], 'address':ids, 'loop_increment':int(seq['instdata'])})\n",
    "                elif (nested[-1]['opcode'] == 'LOOP') & (nested[-1]['address'] == ids):\n",
    "                    nested[-1]['loop_increment'] -= 1\n",
    "                    if nested[-1]['loop_increment'] <= 1:\n",
    "                        nested.pop()\n",
    "                ids += 1\n",
    "\n",
    "            elif seq['opcode'].upper() == 'END_LOOP':\n",
    "                if len(nested) == 0:\n",
    "                    ids += 1\n",
    "                elif nested[-1]['opcode'] == 'LOOP':\n",
    "                    ids = nested[-1]['address']\n",
    "                else:\n",
    "                    ids += 1\n",
    "\n",
    "            elif seq['opcode'].upper() == 'JSR':\n",
    "                if seq['instdata'].isdigit():\n",
    "                    nested.append({'opcode':seq['opcode'], 'address':seq['instdata'], 'return':ids+1})\n",
    "                else:\n",
    "                    nested.append({'opcode':seq['opcode'], 'address':self.addresses[seq['instdata']], 'return':ids+1})\n",
    "                ids = nested[-1]['address']\n",
    "\n",
    "            elif seq['opcode'].upper() == 'RTS':\n",
    "                ids = nested[-1]['return']\n",
    "                nested.pop()\n",
    "\n",
    "            elif seq['opcode'].upper() == 'BRANCH':\n",
    "                self._append_sequence(seq, t, c)\n",
    "                break\n",
    "\n",
    "            elif seq['opcode'].upper() == 'STOP':\n",
    "                self._append_sequence(seq, t, c)\n",
    "                break\n",
    "\n",
    "            elif seq['opcode'].upper() == 'LONG_DELAY':\n",
    "                t.append(int(seq['instdata'])*seq['time'])\n",
    "                num = sum([1 << c for c,v in enumerate(seq['channels']) if v == 1])\n",
    "                if (num >> 21) == (self.on >> 21):\n",
    "                    c.append(seq['channels'])\n",
    "                else:\n",
    "                    c.append([0]*24)\n",
    "                ids += 1\n",
    "                continue\n",
    "            else:\n",
    "                ids += 1\n",
    "                if ids >= len(self.sequence):\n",
    "                    break\n",
    "            self._append_sequence(seq, t, c)\n",
    "        return np.array(t),np.array(c)\n",
    "    \n",
    "    def plot_pulse_sequence(self, channels = None):\n",
    "        t,c = self.generate_pulse_sequence()\n",
    "        tcum = np.cumsum(np.array(t)/1e9)\n",
    "        c = np.array(c)[:,:21]\n",
    "        select = np.where(np.sum(c, axis = 0) != 0)[0]\n",
    "        c = c[:,select]\n",
    "        if isinstance(channels, type(None)) or (len(channels) != len(select)):\n",
    "            channels = ['CH '+str(i) for i in select]\n",
    "        fig, ax = plt.subplots(figsize = (18,18/21*len(select)))\n",
    "        for ids, s in enumerate(c.T):\n",
    "            ax.step(tcum,s+1.3*ids, lw = 3)\n",
    "        ax.get_yaxis().set_ticks([])\n",
    "        ax.legend(channels, fontsize = 15)\n",
    "        ax.set_xlabel('time [s]', fontsize = 15)\n",
    "        ax.tick_params(axis='both', which='major', labelsize=15)\n",
    "        ax.tick_params(axis='both', which='minor', labelsize=12)\n",
    "        ax.xaxis.get_offset_text().set_size(15)"
   ]
  },
  {
   "cell_type": "code",
   "execution_count": 430,
   "metadata": {},
   "outputs": [],
   "source": [
    "from spinapi import *\n",
    "\n",
    "class PulseSequenceProgrammer:\n",
    "    def __init__(self, board_number, sequence, addresses, clock = 250e6):\n",
    "        self.board_number = board_number\n",
    "        self.clock = clock\n",
    "        self.sequence = sequence\n",
    "        self.addresses = addresses\n",
    "    \n",
    "    def program_device(self, board_number = None):\n",
    "        \n",
    "        if type(board_number) == None:\n",
    "            board_number = self.board_number\n",
    "            \n",
    "        addresses = self.addresses\n",
    "        sequence = self.sequence\n",
    "        \n",
    "        pb_reset()\n",
    "\n",
    "        pb_core_clock(int(self.clock/1e6))\n",
    "        pb_start_programming(PULSE_PROGRAM)\n",
    "        try:\n",
    "            for seq in sequence:\n",
    "                opcode = seq['opcode']\n",
    "                instdata = seq['instdata']\n",
    "                duration = seq['time']\n",
    "                channels = seq['channels']\n",
    "                channels = np.sum([i*2**idx for idx, i in enumerate(channels)])\n",
    "                if opcode.upper() == 'JSR':\n",
    "                    try:\n",
    "                        pb_inst_pbonly(channels, JSR, addresses[instdata], duration*ns)\n",
    "                    except KeyError:\n",
    "                        pb_inst_pbonly(channels, JSR, instdata, duration*ns)\n",
    "                elif opcode.upper() == 'RTS':\n",
    "                    pb_inst_pbonly(channels, RTS, 0, duration*ns)\n",
    "                elif opcode.upper() == 'BRANCH':\n",
    "                    try:\n",
    "                        pb_inst_pbonly(channels, BRANCH, addresses[instdata], duration*ns)\n",
    "                    except KeyError:\n",
    "                        pb_inst_pbonly(channels, BRANCH, instdata, duration*ns)\n",
    "                elif opcode.upper() == 'LOOP':\n",
    "                    pb_inst_pbonly(channels, LOOP, eval(instdata), duration*ns)\n",
    "                elif opcode.upper() == 'END_LOOP':\n",
    "                    try:\n",
    "                        pb_inst_pbonly(channels, END_LOOP, addresses[instdata], duration*ns)\n",
    "                    except KeyError:\n",
    "                        pb_inst_pbonly(channels, END_LOOP, instdata, duration*ns)\n",
    "                elif opcode.upper() == 'LONG_DELAY':\n",
    "                    pb_inst_pbonly(channels, LONG_DELAY, eval(instdata), duration*ns)\n",
    "                else:\n",
    "                    if opcode == '':\n",
    "                        opcode = '0'\n",
    "                    pb_inst_pbonly(channels, eval(opcode), 0, duration*ns)\n",
    "        except Exception as e:\n",
    "            print(seq)\n",
    "            raise e\n",
    "        pb_stop_programming()"
   ]
  },
  {
   "cell_type": "code",
   "execution_count": 8,
   "metadata": {},
   "outputs": [
    {
     "data": {
      "text/plain": [
       "0"
      ]
     },
     "execution_count": 8,
     "metadata": {},
     "output_type": "execute_result"
    },
    {
     "data": {
      "image/png": "[encoded data removed]",
      "text/plain": [
       "<Figure size 1296x1296 with 1 Axes>"
      ]
     },
     "metadata": {
      "needs_background": "light"
     },
     "output_type": "display_data"
    }
   ],
   "source": [
    "sequence = \"\"\"// Sample program for SpinCore PulseBlaster Interpreter.\n",
    "// Simple all on all off pattern.\n",
    "\n",
    "label: 0b1111 1111 1111 1111 1111 1111, 10 ms // All bits on for 500 ms, Continue to next instruction\n",
    "       0b0000 0000 0000 0000 0000 0000, 10 ms, branch, label // All bits off for 500 ms, branch to label\n",
    "\"\"\"\n",
    "interpreter = PulseSequenceInterpreter(sequence)\n",
    "t,c = interpreter.generate_pulse_sequence()\n",
    "interpreter.plot_pulse_sequence()\n",
    "\n",
    "programmer = PulseSequenceProgrammer(0, interpreter.sequence, interpreter.addresses)\n",
    "programmer.program_device()\n",
    "pb_start()"
   ]
  },
  {
   "cell_type": "code",
   "execution_count": 334,
   "metadata": {},
   "outputs": [
    {
     "data": {
      "text/plain": [
       "0"
      ]
     },
     "execution_count": 334,
     "metadata": {},
     "output_type": "execute_result"
    },
    {
     "data": {
      "image/png": "[encoded data removed]",
      "text/plain": [
       "<Figure size 1296x1296 with 1 Axes>"
      ]
     },
     "metadata": {
      "needs_background": "light"
     },
     "output_type": "display_data"
    }
   ],
   "source": [
    "sequence = \"\"\"// Sample program for SpinCore PulseBlaster Interpreter.\n",
    "// SOS using sub routines.\n",
    "       0x000000, 50ms, CONTINUE\n",
    "start: 0x000000, 1ms, JSR, short\n",
    "       0x000000, 1ms, JSR, long\n",
    "       0x000000, 1ms, JSR, short\n",
    "       0x000000, 50ms, BRANCH, start\n",
    "\n",
    "// 3 Short\t\t\t\n",
    "short: 0xFFFFFF, 10ms\n",
    "       0x000000, 10ms\n",
    "       0xFFFFFF, 10ms\n",
    "       0x000000, 10ms\n",
    "       0xFFFFFF, 10ms\n",
    "       0x000000, 10ms, RTS\n",
    "\t\t\t\n",
    "// 3 Long\n",
    "long:  0xFFFFFF, 30ms\n",
    "       0x000000, 10ms\n",
    "       0xFFFFFF, 30ms\n",
    "       0x000000, 10ms\n",
    "       0xFFFFFF, 30ms\n",
    "       0x000000, 10ms, RTS\n",
    "\"\"\"\n",
    "interpreter = PulseSequenceInterpreter(sequence)\n",
    "t,c = interpreter.generate_pulse_sequence()\n",
    "interpreter.plot_pulse_sequence()\n",
    "\n",
    "programmer = PulseSequenceProgrammer(0, interpreter.sequence, interpreter.addresses)\n",
    "programmer.program_device()\n",
    "pb_start()"
   ]
  },
  {
   "cell_type": "code",
   "execution_count": 10,
   "metadata": {},
   "outputs": [
    {
     "data": {
      "text/plain": [
       "0"
      ]
     },
     "execution_count": 10,
     "metadata": {},
     "output_type": "execute_result"
    },
    {
     "data": {
      "image/png": "[encoded data removed]",
      "text/plain": [
       "<Figure size 1296x1296 with 1 Axes>"
      ]
     },
     "metadata": {
      "needs_background": "light"
     },
     "output_type": "display_data"
    }
   ],
   "source": [
    "sequence =  \"\"\"// Sample program for SpinCore PulseBlaster Interpreter.\n",
    "// SOS using loops.\n",
    "\n",
    "// 3 Short\t\t\t\n",
    "       0x000000, 500ms, CONTINUE\n",
    "start: 0xFFFFFF, 100ms, LOOP, 3\n",
    "       0x000000, 100ms, END_LOOP\n",
    "\t\t\t\n",
    "// 3 Long\n",
    "       0xFFFFFF, 300ms, LOOP, 3\n",
    "       0x000000, 100ms, END_LOOP\n",
    "\t\t\t\n",
    "// 3 Short\t\t\t\n",
    "       0xFFFFFF, 100ms, LOOP, 3\n",
    "       0x000000, 100ms, END_LOOP\n",
    "\t\t\t\n",
    "// A pause\n",
    "       0x000000, 500ms, branch, start // branch to start\n",
    "\"\"\"\n",
    "\n",
    "interpreter = PulseSequenceInterpreter(sequence)\n",
    "t,c = interpreter.generate_pulse_sequence()\n",
    "interpreter.plot_pulse_sequence()\n",
    "\n",
    "programmer = PulseSequenceProgrammer(0, interpreter.sequence, interpreter.addresses)\n",
    "programmer.program_device()\n",
    "pb_start()"
   ]
  },
  {
   "cell_type": "code",
   "execution_count": 386,
   "metadata": {},
   "outputs": [
    {
     "data": {
      "text/plain": [
       "0"
      ]
     },
     "execution_count": 386,
     "metadata": {},
     "output_type": "execute_result"
    },
    {
     "data": {
      "image/png": "[encoded data removed]",
      "text/plain": [
       "<Figure size 1296x246.857 with 1 Axes>"
      ]
     },
     "metadata": {
      "needs_background": "light"
     },
     "output_type": "display_data"
    }
   ],
   "source": [
    "sequence = \"\"\"// \n",
    "start: 0b1110 0000 0000 0000 0000 1111, 50 ns // All bits on for 50 ns, Continue to next instruction\n",
    "       0b1010 0000 0000 0000 0000 0101, 50 ns // 5 clock cycle pulse on channel 0 only\n",
    "       0b0000 0000 0000 0000 0000 0000, 50 ns, branch, start\n",
    "\"\"\"\n",
    "interpreter = PulseSequenceInterpreter(sequence)\n",
    "t,c = interpreter.generate_pulse_sequence()\n",
    "interpreter.plot_pulse_sequence()\n",
    "\n",
    "programmer = PulseSequenceProgrammer(0, interpreter.sequence, interpreter.addresses)\n",
    "programmer.program_device()\n",
    "pb_start()"
   ]
  },
  {
   "cell_type": "markdown",
   "metadata": {},
   "source": [
    "## Setting Up Easier Pulse Generation"
   ]
  },
  {
   "cell_type": "code",
   "execution_count": 163,
   "metadata": {},
   "outputs": [],
   "source": [
    "def generate_repeating_pulse(channels, frequency, duty_cycle, toffset, duration):\n",
    "    nr_20ns_cycles = int(duration/(20))\n",
    "    offset = int(toffset / 20)\n",
    "    c = [[0]*24 for _ in range(nr_20ns_cycles)]\n",
    "    t = np.array([20]*nr_20ns_cycles)\n",
    "    dut = int(duty_cycle / 20)\n",
    "    f = int(1/frequency / 20e-9)\n",
    "    \n",
    "    ctemp = [0]*24\n",
    "    ctemp[-3:] = [1,1,1]\n",
    "    for chan in channels:\n",
    "        ctemp[chan] = 1\n",
    "    \n",
    "    idf = 0\n",
    "    for idx in range(offset, nr_20ns_cycles):\n",
    "        if idf < dut:\n",
    "            c[idx] = ctemp\n",
    "        idf += 1\n",
    "        if idf % f == 0:\n",
    "            idf = 0\n",
    "    return t, c"
   ]
  },
  {
   "cell_type": "code",
   "execution_count": 220,
   "metadata": {},
   "outputs": [],
   "source": [
    "t, c = generate_repeating_pulse([0,1], 1e5, 1000, 1000, 210000)\n",
    "t1, c1 = generate_repeating_pulse([2], 1e5/5, 1000, 2500, 210000)\n",
    "for idr, chs1 in enumerate(c1):\n",
    "    for idc, ch1 in enumerate(chs1):\n",
    "        if ch1:\n",
    "            c[idr][idc] = 1"
   ]
  },
  {
   "cell_type": "code",
   "execution_count": 221,
   "metadata": {},
   "outputs": [
    {
     "data": {
      "image/png": "[encoded data removed]",
      "text/plain": [
       "<Figure size 1296x185.143 with 1 Axes>"
      ]
     },
     "metadata": {
      "needs_background": "light"
     },
     "output_type": "display_data"
    }
   ],
   "source": [
    "tcum = np.cumsum(np.array(t)/1e9)\n",
    "c = np.array(c)[:,:21]\n",
    "select = np.where(np.sum(c, axis = 0) != 0)[0]\n",
    "c = c[:,select]\n",
    "channels = None\n",
    "if isinstance(channels, type(None)) or (len(channels) != len(select)):\n",
    "    channels = ['CH '+str(i) for i in select]\n",
    "fig, ax = plt.subplots(figsize = (18,18/21*len(select)))\n",
    "for ids, s in enumerate(c.T):\n",
    "    ax.step(tcum,s+1.3*ids, lw = 3)\n",
    "ax.get_yaxis().set_ticks([])\n",
    "ax.legend(channels, fontsize = 15)\n",
    "ax.set_xlabel('time [s]', fontsize = 15)\n",
    "ax.tick_params(axis='both', which='major', labelsize=15)\n",
    "ax.tick_params(axis='both', which='minor', labelsize=12)\n",
    "ax.xaxis.get_offset_text().set_size(15)"
   ]
  },
  {
   "cell_type": "markdown",
   "metadata": {},
   "source": [
    "## Method without generating a new instruction for every 20ns"
   ]
  },
  {
   "cell_type": "code",
   "execution_count": 814,
   "metadata": {},
   "outputs": [],
   "source": [
    "from functools import reduce \n",
    "def gcd(a, b):\n",
    "    \"\"\"Return greatest common divisor using Euclid's Algorithm.\"\"\"\n",
    "    while b:      \n",
    "        a, b = b, a % b\n",
    "    return a\n",
    "\n",
    "def gcdm(*args):\n",
    "    \"\"\"Return gcm of args\"\"\"\n",
    "    return reduce(gcd, args)\n",
    "\n",
    "def generate_repeating_pulses(pulses, duration):\n",
    "    c = []\n",
    "    t = []\n",
    "    \n",
    "    min_instruction_len = 20 # minimum instruction length in ns\n",
    "    nr_cycles = int(duration/min_instruction_len)\n",
    "    \n",
    "    # calculating the offset, frequency and amount of time at high state\n",
    "    # in units of minimum_instruction_len\n",
    "    pulses_cycle_units = []\n",
    "    instruction_cycles = []\n",
    "    for pulse in pulses:\n",
    "        f = int(1/pulse['frequency'] / (min_instruction_len*1e-9))\n",
    "        o = int(pulse['offset'] / min_instruction_len)\n",
    "        h = int(pulse['high'] / min_instruction_len)\n",
    "        instruction_cycles.append(f)\n",
    "        instruction_cycles.append(h)\n",
    "        if o != 0:\n",
    "            instruction_cycles.append(o)\n",
    "        pulses_cycle_units.append({'frequency':f, 'offset':o, 'high':h, 'channels':pulse['channels']})        \n",
    "    \n",
    "    # checking whether the minimum clock cycles instruction length can be increased\n",
    "    # by checking for the greatest common denominator to speed up sequence generation\n",
    "    if instruction_cycles:\n",
    "        instruction_cycles.append(nr_cycles)\n",
    "    gcd_cycles = gcdm(*instruction_cycles)\n",
    "    if gcd_cycles != 1:\n",
    "        for pulse in pulses_cycle_units:\n",
    "            pulse['frequency'] //= gcd_cycles\n",
    "            pulse['offset'] //= gcd_cycles\n",
    "            pulse['high'] //= gcd_cycles\n",
    "            \n",
    "    min_instruction_len *= gcd_cycles\n",
    "    nr_cycles = int(duration/min_instruction_len)\n",
    "    \n",
    "    # generating the pulseblaster instructions\n",
    "    idx_reset_pulse = [0]*len(pulses)\n",
    "                    \n",
    "    for idx in range(nr_cycles):\n",
    "        channels_active = []\n",
    "        for idx_pulse, pulse in enumerate(pulses_cycle_units):\n",
    "            if idx >= pulse['offset']:\n",
    "                if idx_reset_pulse[idx_pulse] < pulse['high']:\n",
    "                    [channels_active.append(ch) for ch in pulse['channels']]\n",
    "                idx_reset_pulse[idx_pulse] += 1\n",
    "                idx_reset_pulse[idx_pulse] = idx_reset_pulse[idx_pulse] % pulse['frequency']\n",
    "                \n",
    "        if channels_active:\n",
    "            chs = [0]*24\n",
    "            chs[-3:] = [1,1,1]\n",
    "            for idx in np.unique(channels_active):\n",
    "                chs[idx] = 1\n",
    "            if not c:\n",
    "                t.append(min_instruction_len)\n",
    "                c.append(chs)\n",
    "            else:\n",
    "                if c[-1] == chs:\n",
    "                    t[-1] += min_instruction_len\n",
    "                else:\n",
    "                    t.append(min_instruction_len)\n",
    "                    c.append(chs)\n",
    "        else:\n",
    "            if not c:\n",
    "                c.append([0]*24)\n",
    "                t.append(min_instruction_len)\n",
    "            else:\n",
    "                if c[-1] == [0]*24:\n",
    "                    t[-1] += min_instruction_len\n",
    "                else:\n",
    "                    c.append([0]*24)\n",
    "                    t.append(min_instruction_len)\n",
    "    \n",
    "    pulse_sequence = []\n",
    "    for t_, c_ in zip(t,c):\n",
    "        s = {'label': '', 'channels': c_, 'time': t_, 'opcode': 'CONTINUE', 'instdata': 0}\n",
    "        pulse_sequence.append(s)\n",
    "\n",
    "    t = [0]+t\n",
    "    c = [[0]*24]+c\n",
    "    \n",
    "    return t, c, pulse_sequence"
   ]
  },
  {
   "cell_type": "code",
   "execution_count": 815,
   "metadata": {},
   "outputs": [
    {
     "name": "stdout",
     "output_type": "stream",
     "text": [
      "{'label': '', 'channels': [1, 0, 0, 0, 0, 0, 0, 0, 0, 0, 0, 0, 0, 0, 0, 0, 0, 0, 0, 0, 0, 1, 1, 1], 'time': 1000, 'opcode': 'CONTINUE', 'instdata': 0}\n",
      "{'label': '', 'channels': [0, 0, 0, 0, 0, 0, 0, 0, 0, 0, 0, 0, 0, 0, 0, 0, 0, 0, 0, 0, 0, 0, 0, 0], 'time': 500, 'opcode': 'CONTINUE', 'instdata': 0}\n",
      "{'label': '', 'channels': [0, 1, 0, 0, 0, 0, 0, 0, 0, 0, 0, 0, 0, 0, 0, 0, 0, 0, 0, 0, 0, 1, 1, 1], 'time': 2000, 'opcode': 'CONTINUE', 'instdata': 0}\n",
      "{'label': '', 'channels': [0, 0, 0, 0, 0, 0, 0, 0, 0, 0, 0, 0, 0, 0, 0, 0, 0, 0, 0, 0, 0, 0, 0, 0], 'time': 6500, 'opcode': 'CONTINUE', 'instdata': 0}\n",
      "{'label': '', 'channels': [1, 0, 0, 0, 0, 0, 0, 0, 0, 0, 0, 0, 0, 0, 0, 0, 0, 0, 0, 0, 0, 1, 1, 1], 'time': 1000, 'opcode': 'CONTINUE', 'instdata': 0}\n",
      "{'label': '', 'channels': [0, 0, 0, 0, 0, 0, 0, 0, 0, 0, 0, 0, 0, 0, 0, 0, 0, 0, 0, 0, 0, 0, 0, 0], 'time': 500, 'opcode': 'CONTINUE', 'instdata': 0}\n",
      "{'label': '', 'channels': [0, 1, 0, 0, 0, 0, 0, 0, 0, 0, 0, 0, 0, 0, 0, 0, 0, 0, 0, 0, 0, 1, 1, 1], 'time': 2000, 'opcode': 'CONTINUE', 'instdata': 0}\n",
      "{'label': '', 'channels': [0, 0, 0, 0, 0, 0, 0, 0, 0, 0, 0, 0, 0, 0, 0, 0, 0, 0, 0, 0, 0, 0, 0, 0], 'time': 6500, 'opcode': 'CONTINUE', 'instdata': 0}\n",
      "{'label': '', 'channels': [0, 0, 0, 0, 0, 0, 0, 0, 0, 0, 0, 0, 0, 0, 0, 0, 0, 0, 0, 0, 0, 0, 0, 0], 'time': 10000, 'opcode': 'BRANCH', 'instdata': 0}\n"
     ]
    }
   ],
   "source": [
    "pulse1 = {'frequency':1e5, 'offset':0, 'high': 1000, 'channels':[0]}\n",
    "pulse2 = {'frequency':1e5, 'offset':1500, 'high': 2000, 'channels':[1]}\n",
    "t, c, sequence = generate_repeating_pulses([pulse1, pulse2], 20000)\n",
    "sequence.append({'label':'', 'channels':[0]*24, 'time':10000, 'opcode':'BRANCH', 'instdata':0})\n",
    "\n",
    "programmer = PulseSequenceProgrammer(0, sequence, {})\n",
    "programmer.program_device()\n",
    "pb_start()\n",
    "\n",
    "for s in sequence:\n",
    "    print(s)"
   ]
  },
  {
   "cell_type": "code",
   "execution_count": 816,
   "metadata": {},
   "outputs": [
    {
     "data": {
      "image/png": "[encoded data removed]",
      "text/plain": [
       "<Figure size 1296x123.429 with 1 Axes>"
      ]
     },
     "metadata": {
      "needs_background": "light"
     },
     "output_type": "display_data"
    }
   ],
   "source": [
    "tcum = np.cumsum(np.array(t)/1e9)\n",
    "c = np.array(c)[:,:21]\n",
    "select = np.where(np.sum(c, axis = 0) != 0)[0]\n",
    "c = c[:,select]\n",
    "channels = None\n",
    "if isinstance(channels, type(None)) or (len(channels) != len(select)):\n",
    "    channels = ['CH '+str(i) for i in select]\n",
    "fig, ax = plt.subplots(figsize = (18,18/21*len(select)))\n",
    "for ids, s in enumerate(c.T):\n",
    "    ax.step(tcum,s+1.3*ids, lw = 3)\n",
    "ax.get_yaxis().set_ticks([])\n",
    "ax.legend(channels, fontsize = 15)\n",
    "ax.set_xlabel('time [s]', fontsize = 15)\n",
    "ax.tick_params(axis='both', which='major', labelsize=15)\n",
    "ax.tick_params(axis='both', which='minor', labelsize=12)\n",
    "ax.xaxis.get_offset_text().set_size(15)"
   ]
  },
  {
   "cell_type": "code",
   "execution_count": 817,
   "metadata": {},
   "outputs": [
    {
     "data": {
      "text/plain": [
       "0"
      ]
     },
     "execution_count": 817,
     "metadata": {},
     "output_type": "execute_result"
    }
   ],
   "source": [
    "pulse1 = {'frequency':1e5, 'offset':1000, 'high': 1000, 'channels':[0]}\n",
    "pulse2 = {'frequency':1e5, 'offset':1000, 'high': 2000, 'channels':[1]}\n",
    "pulse3 = {'frequency':1e5/5, 'offset':2500, 'high':1000, 'channels':[2]}\n",
    "pulse4 = {'frequency':1e5/5/2, 'offset':4000, 'high':1000, 'channels':[3,4]}\n",
    "t, c, sequence = generate_repeating_pulses([pulse1, pulse2, pulse3, pulse4], 10000)\n",
    "sequence.append({'label':'', 'channels':[0]*24, 'time':10000, 'opcode':'BRANCH', 'instdata':0})\n",
    "\n",
    "programmer = PulseSequenceProgrammer(0, sequence, {})\n",
    "programmer.program_device()\n",
    "pb_start()"
   ]
  },
  {
   "cell_type": "code",
   "execution_count": 818,
   "metadata": {},
   "outputs": [
    {
     "data": {
      "image/png": "[encoded data removed]",
      "text/plain": [
       "<Figure size 1296x308.571 with 1 Axes>"
      ]
     },
     "metadata": {
      "needs_background": "light"
     },
     "output_type": "display_data"
    }
   ],
   "source": [
    "tcum = np.cumsum(np.array(t)/1e9)\n",
    "c = np.array(c)[:,:21]\n",
    "select = np.where(np.sum(c, axis = 0) != 0)[0]\n",
    "c = c[:,select]\n",
    "channels = None\n",
    "if isinstance(channels, type(None)) or (len(channels) != len(select)):\n",
    "    channels = ['CH '+str(i) for i in select]\n",
    "fig, ax = plt.subplots(figsize = (18,18/21*len(select)))\n",
    "for ids, s in enumerate(c.T):\n",
    "    ax.step(tcum,s+1.3*ids, lw = 3)\n",
    "ax.get_yaxis().set_ticks([])\n",
    "ax.legend(channels, fontsize = 15)\n",
    "ax.set_xlabel('time [s]', fontsize = 15)\n",
    "ax.tick_params(axis='both', which='major', labelsize=15)\n",
    "ax.tick_params(axis='both', which='minor', labelsize=12)\n",
    "ax.xaxis.get_offset_text().set_size(15)"
   ]
  },
  {
   "cell_type": "code",
   "execution_count": 819,
   "metadata": {},
   "outputs": [
    {
     "data": {
      "text/plain": [
       "0"
      ]
     },
     "execution_count": 819,
     "metadata": {},
     "output_type": "execute_result"
    }
   ],
   "source": [
    "factor = 10\n",
    "pulse_flashlamp = {'frequency':10*factor, 'offset':0, 'high': 400e4, 'channels':[0]}\n",
    "pulse_qswitch = {'frequency':5*factor, 'offset':200e3, 'high':400e4, 'channels':[1]}\n",
    "t, c, sequence = generate_repeating_pulses([pulse_flashlamp, pulse_qswitch], 0.4*1e9/factor-1e5)\n",
    "sequence.append({'label':'', 'channels':[0]*24, 'time':1e5, 'opcode':'BRANCH', 'instdata':0})\n",
    "\n",
    "programmer = PulseSequenceProgrammer(0, sequence, {})\n",
    "programmer.program_device()\n",
    "pb_start()"
   ]
  },
  {
   "cell_type": "code",
   "execution_count": 820,
   "metadata": {},
   "outputs": [
    {
     "data": {
      "image/png": "[encoded data removed]",
      "text/plain": [
       "<Figure size 1296x123.429 with 1 Axes>"
      ]
     },
     "metadata": {
      "needs_background": "light"
     },
     "output_type": "display_data"
    }
   ],
   "source": [
    "tcum = np.cumsum(np.array(t)/1e9)\n",
    "c = np.array(c)[:,:21]\n",
    "select = np.where(np.sum(c, axis = 0) != 0)[0]\n",
    "c = c[:,select]\n",
    "channels = None\n",
    "if isinstance(channels, type(None)) or (len(channels) != len(select)):\n",
    "    channels = ['CH '+str(i) for i in select]\n",
    "fig, ax = plt.subplots(figsize = (18,18/21*len(select)))\n",
    "for ids, s in enumerate(c.T):\n",
    "    ax.step(tcum,s+1.3*ids, lw = 3)\n",
    "ax.get_yaxis().set_ticks([])\n",
    "ax.legend(channels, fontsize = 15)\n",
    "ax.set_xlabel('time [s]', fontsize = 15)\n",
    "ax.tick_params(axis='both', which='major', labelsize=15)\n",
    "ax.tick_params(axis='both', which='minor', labelsize=12)\n",
    "ax.xaxis.get_offset_text().set_size(15)"
   ]
  },
  {
   "cell_type": "code",
   "execution_count": 821,
   "metadata": {},
   "outputs": [
    {
     "data": {
      "text/plain": [
       "0"
      ]
     },
     "execution_count": 821,
     "metadata": {},
     "output_type": "execute_result"
    }
   ],
   "source": [
    "pulse1 = {'frequency':1e5, 'offset':0, 'high': 1000, 'channels':[0]}\n",
    "pulse2 = {'frequency':1e5/2, 'offset':1000, 'high':1000, 'channels':[1]}\n",
    "t, c, sequence = generate_repeating_pulses([pulse1, pulse2], 2e4-1e3)\n",
    "sequence.append({'label':'', 'channels':[0]*24, 'time':1e3, 'opcode':'BRANCH', 'instdata':0})\n",
    "\n",
    "programmer = PulseSequenceProgrammer(0, sequence, {})\n",
    "programmer.program_device()\n",
    "pb_start()"
   ]
  },
  {
   "cell_type": "code",
   "execution_count": 822,
   "metadata": {},
   "outputs": [
    {
     "data": {
      "image/png": "[encoded data removed]",
      "text/plain": [
       "<Figure size 1296x123.429 with 1 Axes>"
      ]
     },
     "metadata": {
      "needs_background": "light"
     },
     "output_type": "display_data"
    }
   ],
   "source": [
    "tcum = np.cumsum(np.array(t)/1e9)\n",
    "c = np.array(c)[:,:21]\n",
    "select = np.where(np.sum(c, axis = 0) != 0)[0]\n",
    "c = c[:,select]\n",
    "channels = None\n",
    "if isinstance(channels, type(None)) or (len(channels) != len(select)):\n",
    "    channels = ['CH '+str(i) for i in select]\n",
    "fig, ax = plt.subplots(figsize = (18,18/21*len(select)))\n",
    "for ids, s in enumerate(c.T):\n",
    "    ax.step(tcum,s+1.3*ids, lw = 3)\n",
    "ax.get_yaxis().set_ticks([])\n",
    "ax.legend(channels, fontsize = 15)\n",
    "ax.set_xlabel('time [s]', fontsize = 15)\n",
    "ax.tick_params(axis='both', which='major', labelsize=15)\n",
    "ax.tick_params(axis='both', which='minor', labelsize=12)\n",
    "ax.xaxis.get_offset_text().set_size(15)"
   ]
  },
  {
   "cell_type": "code",
   "execution_count": 823,
   "metadata": {},
   "outputs": [
    {
     "name": "stdout",
     "output_type": "stream",
     "text": [
      "{'label': '', 'channels': [1, 0, 0, 0, 0, 0, 0, 0, 0, 0, 0, 0, 0, 0, 0, 0, 0, 0, 0, 0, 0, 1, 1, 1], 'time': 1000, 'opcode': 'CONTINUE', 'instdata': 0}\n",
      "{'label': '', 'channels': [0, 1, 0, 0, 0, 0, 0, 0, 0, 0, 0, 0, 0, 0, 0, 0, 0, 0, 0, 0, 0, 1, 1, 1], 'time': 1000, 'opcode': 'CONTINUE', 'instdata': 0}\n",
      "{'label': '', 'channels': [0, 0, 0, 0, 0, 0, 0, 0, 0, 0, 0, 0, 0, 0, 0, 0, 0, 0, 0, 0, 0, 0, 0, 0], 'time': 8000, 'opcode': 'CONTINUE', 'instdata': 0}\n",
      "{'label': '', 'channels': [1, 0, 0, 0, 0, 0, 0, 0, 0, 0, 0, 0, 0, 0, 0, 0, 0, 0, 0, 0, 0, 1, 1, 1], 'time': 1000, 'opcode': 'CONTINUE', 'instdata': 0}\n",
      "{'label': '', 'channels': [0, 0, 0, 0, 0, 0, 0, 0, 0, 0, 0, 0, 0, 0, 0, 0, 0, 0, 0, 0, 0, 0, 0, 0], 'time': 9000, 'opcode': 'CONTINUE', 'instdata': 0}\n",
      "{'label': '', 'channels': [1, 0, 0, 0, 0, 0, 0, 0, 0, 0, 0, 0, 0, 0, 0, 0, 0, 0, 0, 0, 0, 1, 1, 1], 'time': 1000, 'opcode': 'CONTINUE', 'instdata': 0}\n",
      "{'label': '', 'channels': [0, 0, 0, 0, 0, 0, 0, 0, 0, 0, 0, 0, 0, 0, 0, 0, 0, 0, 0, 0, 0, 0, 0, 0], 'time': 9000, 'opcode': 'CONTINUE', 'instdata': 0}\n",
      "{'label': '', 'channels': [1, 0, 0, 0, 0, 0, 0, 0, 0, 0, 0, 0, 0, 0, 0, 0, 0, 0, 0, 0, 0, 1, 1, 1], 'time': 1000, 'opcode': 'CONTINUE', 'instdata': 0}\n",
      "{'label': '', 'channels': [0, 0, 0, 0, 0, 0, 0, 0, 0, 0, 0, 0, 0, 0, 0, 0, 0, 0, 0, 0, 0, 0, 0, 0], 'time': 8000, 'opcode': 'CONTINUE', 'instdata': 0}\n",
      "{'label': '', 'channels': [0, 0, 0, 0, 0, 0, 0, 0, 0, 0, 0, 0, 0, 0, 0, 0, 0, 0, 0, 0, 0, 0, 0, 0], 'time': 1000, 'opcode': 'BRANCH', 'instdata': 0}\n"
     ]
    }
   ],
   "source": [
    "pulse1 = {'frequency':1e5, 'offset':0, 'high': 1000, 'channels':[0]}\n",
    "pulse2 = {'frequency':1e5/4, 'offset':1000, 'high':1000, 'channels':[1]}\n",
    "t, c, sequence = generate_repeating_pulses([pulse1, pulse2], 4e4-1e3)\n",
    "sequence.append({'label':'', 'channels':[0]*24, 'time':int(1e3), 'opcode':'BRANCH', 'instdata':0})\n",
    "\n",
    "programmer = PulseSequenceProgrammer(0, sequence, {})\n",
    "programmer.program_device()\n",
    "pb_start()\n",
    "\n",
    "for s in sequence:\n",
    "    print(s)"
   ]
  },
  {
   "cell_type": "code",
   "execution_count": 824,
   "metadata": {},
   "outputs": [
    {
     "data": {
      "image/png": "[encoded data removed]",
      "text/plain": [
       "<Figure size 1296x123.429 with 1 Axes>"
      ]
     },
     "metadata": {
      "needs_background": "light"
     },
     "output_type": "display_data"
    }
   ],
   "source": [
    "tcum = np.cumsum(np.array(t)/1e9)\n",
    "c = np.array(c)[:,:21]\n",
    "select = np.where(np.sum(c, axis = 0) != 0)[0]\n",
    "c = c[:,select]\n",
    "channels = None\n",
    "if isinstance(channels, type(None)) or (len(channels) != len(select)):\n",
    "    channels = ['CH '+str(i) for i in select]\n",
    "fig, ax = plt.subplots(figsize = (18,18/21*len(select)))\n",
    "for ids, s in enumerate(c.T):\n",
    "    ax.step(tcum,s+1.3*ids, lw = 3)\n",
    "ax.get_yaxis().set_ticks([])\n",
    "ax.legend(channels, fontsize = 15)\n",
    "ax.set_xlabel('time [s]', fontsize = 15)\n",
    "ax.tick_params(axis='both', which='major', labelsize=15)\n",
    "ax.tick_params(axis='both', which='minor', labelsize=12)\n",
    "ax.xaxis.get_offset_text().set_size(15)"
   ]
  },
  {
   "cell_type": "code",
   "execution_count": 869,
   "metadata": {},
   "outputs": [],
   "source": [
    "from functools import reduce \n",
    "def gcd(a, b):\n",
    "    \"\"\"Return greatest common divisor using Euclid's Algorithm.\"\"\"\n",
    "    while b:      \n",
    "        a, b = b, a % b\n",
    "    return a\n",
    "\n",
    "def gcdm(*args):\n",
    "    \"\"\"Return gcm of args\"\"\"\n",
    "    return reduce(gcd, args)\n",
    "\n",
    "def generate_repeating_pulses(pulses):\n",
    "    c = []\n",
    "    t = []\n",
    "    \n",
    "    min_instruction_len = 20 # minimum instruction length in ns\n",
    "    \n",
    "    # calculating the minimum duration required to perform all pulses\n",
    "    duration = int(round(max([1/p['frequency'] for p in pulses])/1e-9,2))\n",
    "    nr_cycles = int(duration/min_instruction_len)\n",
    "        \n",
    "    # calculating the offset, frequency and amount of time at high state\n",
    "    # in units of minimum_instruction_len\n",
    "    pulses_cycle_units = []\n",
    "    instruction_cycles = []\n",
    "    for pulse in pulses:\n",
    "        f = int(1/pulse['frequency'] / (min_instruction_len*1e-9))\n",
    "        o = int(pulse['offset'] / min_instruction_len)\n",
    "        h = int(pulse['high'] / min_instruction_len)\n",
    "        instruction_cycles.append(f)\n",
    "        instruction_cycles.append(h)\n",
    "        if o != 0:\n",
    "            instruction_cycles.append(o)\n",
    "        pulses_cycle_units.append({'frequency':f, 'offset':o, 'high':h, 'channels':pulse['channels']})        \n",
    "    \n",
    "        \n",
    "    \n",
    "    # checking whether the minimum clock cycles instruction length can be increased\n",
    "    # by checking for the greatest common denominator to speed up sequence generation\n",
    "    if instruction_cycles:\n",
    "        instruction_cycles.append(nr_cycles)\n",
    "    gcd_cycles = gcdm(*instruction_cycles)\n",
    "    if gcd_cycles != 1:\n",
    "        for pulse in pulses_cycle_units:\n",
    "            pulse['frequency'] //= gcd_cycles\n",
    "            pulse['offset'] //= gcd_cycles\n",
    "            pulse['high'] //= gcd_cycles\n",
    "            \n",
    "    min_instruction_len *= gcd_cycles\n",
    "    nr_cycles = int(duration/min_instruction_len)-1\n",
    "    \n",
    "    print('minimum instruction cycles : {0}'.format(min_instruction_len))\n",
    "    \n",
    "    # generating the pulseblaster instructions\n",
    "    idx_reset_pulse = [0]*len(pulses)\n",
    "                    \n",
    "    for idx in range(nr_cycles):\n",
    "        channels_active = []\n",
    "        for idx_pulse, pulse in enumerate(pulses_cycle_units):\n",
    "            if idx >= pulse['offset']:\n",
    "                if idx_reset_pulse[idx_pulse] < pulse['high']:\n",
    "                    [channels_active.append(ch) for ch in pulse['channels']]\n",
    "                idx_reset_pulse[idx_pulse] += 1\n",
    "                idx_reset_pulse[idx_pulse] = idx_reset_pulse[idx_pulse] % pulse['frequency']\n",
    "                \n",
    "        if channels_active:\n",
    "            chs = [0]*24\n",
    "            chs[-3:] = [1,1,1]\n",
    "            for idx in np.unique(channels_active):\n",
    "                chs[idx] = 1\n",
    "            if not c:\n",
    "                t.append(min_instruction_len)\n",
    "                c.append(chs)\n",
    "            else:\n",
    "                if c[-1] == chs:\n",
    "                    t[-1] += min_instruction_len\n",
    "                else:\n",
    "                    t.append(min_instruction_len)\n",
    "                    c.append(chs)\n",
    "        else:\n",
    "            if not c:\n",
    "                c.append([0]*24)\n",
    "                t.append(min_instruction_len)\n",
    "            else:\n",
    "                if c[-1] == [0]*24:\n",
    "                    t[-1] += min_instruction_len\n",
    "                else:\n",
    "                    c.append([0]*24)\n",
    "                    t.append(min_instruction_len)\n",
    "    \n",
    "    pulse_sequence = []\n",
    "    for t_, c_ in zip(t,c):\n",
    "        s = {'label': '', 'channels': c_, 'time': t_, 'opcode': 'CONTINUE', 'instdata': 0}\n",
    "        pulse_sequence.append(s)\n",
    "    pulse_sequence.append({'label':'', 'channels':[0]*24, 'time':min_instruction_len, 'opcode':'BRANCH', 'instdata':0})\n",
    "\n",
    "    t = [0]+t\n",
    "    c = [[0]*24]+c\n",
    "    t.append(min_instruction_len)\n",
    "    c.append([0]*24)\n",
    "    \n",
    "    return t, c, pulse_sequence"
   ]
  },
  {
   "cell_type": "code",
   "execution_count": 870,
   "metadata": {},
   "outputs": [
    {
     "name": "stdout",
     "output_type": "stream",
     "text": [
      "minimum instruction cycles : 1000\n",
      "{'label': '', 'channels': [1, 0, 0, 0, 0, 0, 0, 0, 0, 0, 0, 0, 0, 0, 0, 0, 0, 0, 0, 0, 0, 1, 1, 1], 'time': 1000, 'opcode': 'CONTINUE', 'instdata': 0}\n",
      "{'label': '', 'channels': [0, 1, 0, 0, 0, 0, 0, 0, 0, 0, 0, 0, 0, 0, 0, 0, 0, 0, 0, 0, 0, 1, 1, 1], 'time': 1000, 'opcode': 'CONTINUE', 'instdata': 0}\n",
      "{'label': '', 'channels': [0, 0, 0, 0, 0, 0, 0, 0, 0, 0, 0, 0, 0, 0, 0, 0, 0, 0, 0, 0, 0, 0, 0, 0], 'time': 8000, 'opcode': 'CONTINUE', 'instdata': 0}\n",
      "{'label': '', 'channels': [1, 0, 0, 0, 0, 0, 0, 0, 0, 0, 0, 0, 0, 0, 0, 0, 0, 0, 0, 0, 0, 1, 1, 1], 'time': 1000, 'opcode': 'CONTINUE', 'instdata': 0}\n",
      "{'label': '', 'channels': [0, 0, 0, 0, 0, 0, 0, 0, 0, 0, 0, 0, 0, 0, 0, 0, 0, 0, 0, 0, 0, 0, 0, 0], 'time': 9000, 'opcode': 'CONTINUE', 'instdata': 0}\n",
      "{'label': '', 'channels': [1, 0, 0, 0, 0, 0, 0, 0, 0, 0, 0, 0, 0, 0, 0, 0, 0, 0, 0, 0, 0, 1, 1, 1], 'time': 1000, 'opcode': 'CONTINUE', 'instdata': 0}\n",
      "{'label': '', 'channels': [0, 0, 0, 0, 0, 0, 0, 0, 0, 0, 0, 0, 0, 0, 0, 0, 0, 0, 0, 0, 0, 0, 0, 0], 'time': 9000, 'opcode': 'CONTINUE', 'instdata': 0}\n",
      "{'label': '', 'channels': [1, 0, 0, 0, 0, 0, 0, 0, 0, 0, 0, 0, 0, 0, 0, 0, 0, 0, 0, 0, 0, 1, 1, 1], 'time': 1000, 'opcode': 'CONTINUE', 'instdata': 0}\n",
      "{'label': '', 'channels': [0, 0, 0, 0, 0, 0, 0, 0, 0, 0, 0, 0, 0, 0, 0, 0, 0, 0, 0, 0, 0, 0, 0, 0], 'time': 8000, 'opcode': 'CONTINUE', 'instdata': 0}\n",
      "{'label': '', 'channels': [0, 0, 0, 0, 0, 0, 0, 0, 0, 0, 0, 0, 0, 0, 0, 0, 0, 0, 0, 0, 0, 0, 0, 0], 'time': 1000, 'opcode': 'BRANCH', 'instdata': 0}\n"
     ]
    },
    {
     "data": {
      "image/png": "[encoded data removed]",
      "text/plain": [
       "<Figure size 1296x123.429 with 1 Axes>"
      ]
     },
     "metadata": {
      "needs_background": "light"
     },
     "output_type": "display_data"
    }
   ],
   "source": [
    "pulse1 = {'frequency':1e5, 'offset':0, 'high': 1000, 'channels':[0]}\n",
    "pulse2 = {'frequency':1e5/4, 'offset':1000, 'high':1000, 'channels':[1]}\n",
    "t, c, sequence = generate_repeating_pulses([pulse1, pulse2])\n",
    "\n",
    "programmer = PulseSequenceProgrammer(0, sequence, {})\n",
    "programmer.program_device()\n",
    "pb_start()\n",
    "\n",
    "for s in sequence:\n",
    "    print(s)\n",
    "    \n",
    "tcum = np.cumsum(np.array(t)/1e9)\n",
    "c = np.array(c)[:,:21]\n",
    "select = np.where(np.sum(c, axis = 0) != 0)[0]\n",
    "c = c[:,select]\n",
    "channels = None\n",
    "if isinstance(channels, type(None)) or (len(channels) != len(select)):\n",
    "    channels = ['CH '+str(i) for i in select]\n",
    "fig, ax = plt.subplots(figsize = (18,18/21*len(select)))\n",
    "for ids, s in enumerate(c.T):\n",
    "    ax.step(tcum,s+1.3*ids, lw = 3)\n",
    "ax.get_yaxis().set_ticks([])\n",
    "ax.legend(channels, fontsize = 15)\n",
    "ax.set_xlabel('time [s]', fontsize = 15)\n",
    "ax.tick_params(axis='both', which='major', labelsize=15)\n",
    "ax.tick_params(axis='both', which='minor', labelsize=12)\n",
    "ax.xaxis.get_offset_text().set_size(15)"
   ]
  },
  {
   "cell_type": "code",
   "execution_count": 871,
   "metadata": {},
   "outputs": [
    {
     "name": "stdout",
     "output_type": "stream",
     "text": [
      "minimum instruction cycles : 20\n",
      "{'label': '', 'channels': [1, 0, 0, 0, 0, 0, 0, 0, 0, 0, 0, 0, 0, 0, 0, 0, 0, 0, 0, 0, 0, 1, 1, 1], 'time': 214980, 'opcode': 'CONTINUE', 'instdata': 0}\n",
      "{'label': '', 'channels': [1, 1, 0, 0, 0, 0, 0, 0, 0, 0, 0, 0, 0, 0, 0, 0, 0, 0, 0, 0, 0, 1, 1, 1], 'time': 9785020, 'opcode': 'CONTINUE', 'instdata': 0}\n",
      "{'label': '', 'channels': [0, 1, 0, 0, 0, 0, 0, 0, 0, 0, 0, 0, 0, 0, 0, 0, 0, 0, 0, 0, 0, 1, 1, 1], 'time': 214980, 'opcode': 'CONTINUE', 'instdata': 0}\n",
      "{'label': '', 'channels': [0, 0, 0, 0, 0, 0, 0, 0, 0, 0, 0, 0, 0, 0, 0, 0, 0, 0, 0, 0, 0, 0, 0, 0], 'time': 9785020, 'opcode': 'CONTINUE', 'instdata': 0}\n",
      "{'label': '', 'channels': [1, 0, 0, 0, 0, 0, 0, 0, 0, 0, 0, 0, 0, 0, 0, 0, 0, 0, 0, 0, 0, 1, 1, 1], 'time': 10000000, 'opcode': 'CONTINUE', 'instdata': 0}\n",
      "{'label': '', 'channels': [0, 0, 0, 0, 0, 0, 0, 0, 0, 0, 0, 0, 0, 0, 0, 0, 0, 0, 0, 0, 0, 0, 0, 0], 'time': 10000000, 'opcode': 'CONTINUE', 'instdata': 0}\n",
      "{'label': '', 'channels': [1, 0, 0, 0, 0, 0, 0, 0, 0, 0, 0, 0, 0, 0, 0, 0, 0, 0, 0, 0, 0, 1, 1, 1], 'time': 10000000, 'opcode': 'CONTINUE', 'instdata': 0}\n",
      "{'label': '', 'channels': [0, 0, 0, 0, 0, 0, 0, 0, 0, 0, 0, 0, 0, 0, 0, 0, 0, 0, 0, 0, 0, 0, 0, 0], 'time': 10000000, 'opcode': 'CONTINUE', 'instdata': 0}\n",
      "{'label': '', 'channels': [1, 0, 0, 0, 0, 0, 0, 0, 0, 0, 0, 0, 0, 0, 0, 0, 0, 0, 0, 0, 0, 1, 1, 1], 'time': 10000000, 'opcode': 'CONTINUE', 'instdata': 0}\n",
      "{'label': '', 'channels': [0, 0, 0, 0, 0, 0, 0, 0, 0, 0, 0, 0, 0, 0, 0, 0, 0, 0, 0, 0, 0, 0, 0, 0], 'time': 10000000, 'opcode': 'CONTINUE', 'instdata': 0}\n",
      "{'label': '', 'channels': [1, 0, 0, 0, 0, 0, 0, 0, 0, 0, 0, 0, 0, 0, 0, 0, 0, 0, 0, 0, 0, 1, 1, 1], 'time': 10000000, 'opcode': 'CONTINUE', 'instdata': 0}\n",
      "{'label': '', 'channels': [0, 0, 0, 0, 0, 0, 0, 0, 0, 0, 0, 0, 0, 0, 0, 0, 0, 0, 0, 0, 0, 0, 0, 0], 'time': 9999980, 'opcode': 'CONTINUE', 'instdata': 0}\n",
      "{'label': '', 'channels': [0, 0, 0, 0, 0, 0, 0, 0, 0, 0, 0, 0, 0, 0, 0, 0, 0, 0, 0, 0, 0, 0, 0, 0], 'time': 20, 'opcode': 'BRANCH', 'instdata': 0}\n"
     ]
    },
    {
     "data": {
      "image/png": "[encoded data removed]",
      "text/plain": [
       "<Figure size 1296x123.429 with 1 Axes>"
      ]
     },
     "metadata": {
      "needs_background": "light"
     },
     "output_type": "display_data"
    }
   ],
   "source": [
    "pulse1 = {'frequency':50, 'offset':0, 'high': int(10e-3/1e-9), 'channels':[0]}\n",
    "pulse2 = {'frequency':10, 'offset':int(215e-6/1e-9), 'high':int(10e-3/1e-9), 'channels':[1]}\n",
    "t, c, sequence = generate_repeating_pulses([pulse1, pulse2])\n",
    "\n",
    "programmer = PulseSequenceProgrammer(0, sequence, {})\n",
    "programmer.program_device()\n",
    "pb_start()\n",
    "\n",
    "for s in sequence:\n",
    "    print(s)\n",
    "    \n",
    "tcum = np.cumsum(np.array(t)/1e9)\n",
    "c = np.array(c)[:,:21]\n",
    "select = np.where(np.sum(c, axis = 0) != 0)[0]\n",
    "c = c[:,select]\n",
    "channels = None\n",
    "if isinstance(channels, type(None)) or (len(channels) != len(select)):\n",
    "    channels = ['CH '+str(i) for i in select]\n",
    "fig, ax = plt.subplots(figsize = (18,18/21*len(select)))\n",
    "for ids, s in enumerate(c.T):\n",
    "    ax.step(tcum,s+1.3*ids, lw = 3)\n",
    "ax.get_yaxis().set_ticks([])\n",
    "ax.legend(channels, fontsize = 15)\n",
    "ax.set_xlabel('time [s]', fontsize = 15)\n",
    "ax.tick_params(axis='both', which='major', labelsize=15)\n",
    "ax.tick_params(axis='both', which='minor', labelsize=12)\n",
    "ax.xaxis.get_offset_text().set_size(15)"
   ]
  },
  {
   "cell_type": "code",
   "execution_count": 879,
   "metadata": {},
   "outputs": [
    {
     "name": "stdout",
     "output_type": "stream",
     "text": [
      "minimum instruction cycles : 5000\n",
      "{'label': '', 'channels': [1, 0, 0, 0, 0, 0, 0, 0, 0, 0, 0, 0, 0, 0, 0, 0, 0, 0, 0, 0, 0, 1, 1, 1], 'time': 2000000, 'opcode': 'CONTINUE', 'instdata': 0}\n",
      "{'label': '', 'channels': [1, 1, 0, 0, 0, 0, 0, 0, 0, 0, 0, 0, 0, 0, 0, 0, 0, 0, 0, 0, 0, 1, 1, 1], 'time': 215000, 'opcode': 'CONTINUE', 'instdata': 0}\n",
      "{'label': '', 'channels': [1, 1, 1, 0, 0, 0, 0, 0, 0, 0, 0, 0, 0, 0, 0, 0, 0, 0, 0, 0, 0, 1, 1, 1], 'time': 7785000, 'opcode': 'CONTINUE', 'instdata': 0}\n",
      "{'label': '', 'channels': [0, 1, 1, 0, 0, 0, 0, 0, 0, 0, 0, 0, 0, 0, 0, 0, 0, 0, 0, 0, 0, 1, 1, 1], 'time': 2000000, 'opcode': 'CONTINUE', 'instdata': 0}\n",
      "{'label': '', 'channels': [0, 0, 1, 0, 0, 0, 0, 0, 0, 0, 0, 0, 0, 0, 0, 0, 0, 0, 0, 0, 0, 1, 1, 1], 'time': 215000, 'opcode': 'CONTINUE', 'instdata': 0}\n",
      "{'label': '', 'channels': [0, 0, 0, 0, 0, 0, 0, 0, 0, 0, 0, 0, 0, 0, 0, 0, 0, 0, 0, 0, 0, 0, 0, 0], 'time': 9785000, 'opcode': 'CONTINUE', 'instdata': 0}\n",
      "{'label': '', 'channels': [0, 1, 0, 0, 0, 0, 0, 0, 0, 0, 0, 0, 0, 0, 0, 0, 0, 0, 0, 0, 0, 1, 1, 1], 'time': 10000000, 'opcode': 'CONTINUE', 'instdata': 0}\n",
      "{'label': '', 'channels': [0, 0, 0, 0, 0, 0, 0, 0, 0, 0, 0, 0, 0, 0, 0, 0, 0, 0, 0, 0, 0, 0, 0, 0], 'time': 10000000, 'opcode': 'CONTINUE', 'instdata': 0}\n",
      "{'label': '', 'channels': [0, 1, 0, 0, 0, 0, 0, 0, 0, 0, 0, 0, 0, 0, 0, 0, 0, 0, 0, 0, 0, 1, 1, 1], 'time': 10000000, 'opcode': 'CONTINUE', 'instdata': 0}\n",
      "{'label': '', 'channels': [0, 0, 0, 0, 0, 0, 0, 0, 0, 0, 0, 0, 0, 0, 0, 0, 0, 0, 0, 0, 0, 0, 0, 0], 'time': 10000000, 'opcode': 'CONTINUE', 'instdata': 0}\n",
      "{'label': '', 'channels': [0, 1, 0, 0, 0, 0, 0, 0, 0, 0, 0, 0, 0, 0, 0, 0, 0, 0, 0, 0, 0, 1, 1, 1], 'time': 10000000, 'opcode': 'CONTINUE', 'instdata': 0}\n",
      "{'label': '', 'channels': [0, 0, 0, 0, 0, 0, 0, 0, 0, 0, 0, 0, 0, 0, 0, 0, 0, 0, 0, 0, 0, 0, 0, 0], 'time': 10000000, 'opcode': 'CONTINUE', 'instdata': 0}\n",
      "{'label': '', 'channels': [0, 1, 0, 0, 0, 0, 0, 0, 0, 0, 0, 0, 0, 0, 0, 0, 0, 0, 0, 0, 0, 1, 1, 1], 'time': 10000000, 'opcode': 'CONTINUE', 'instdata': 0}\n",
      "{'label': '', 'channels': [0, 0, 0, 0, 0, 0, 0, 0, 0, 0, 0, 0, 0, 0, 0, 0, 0, 0, 0, 0, 0, 0, 0, 0], 'time': 10000000, 'opcode': 'CONTINUE', 'instdata': 0}\n",
      "{'label': '', 'channels': [0, 1, 0, 0, 0, 0, 0, 0, 0, 0, 0, 0, 0, 0, 0, 0, 0, 0, 0, 0, 0, 1, 1, 1], 'time': 10000000, 'opcode': 'CONTINUE', 'instdata': 0}\n",
      "{'label': '', 'channels': [0, 0, 0, 0, 0, 0, 0, 0, 0, 0, 0, 0, 0, 0, 0, 0, 0, 0, 0, 0, 0, 0, 0, 0], 'time': 10000000, 'opcode': 'CONTINUE', 'instdata': 0}\n",
      "{'label': '', 'channels': [0, 1, 0, 0, 0, 0, 0, 0, 0, 0, 0, 0, 0, 0, 0, 0, 0, 0, 0, 0, 0, 1, 1, 1], 'time': 10000000, 'opcode': 'CONTINUE', 'instdata': 0}\n",
      "{'label': '', 'channels': [0, 0, 0, 0, 0, 0, 0, 0, 0, 0, 0, 0, 0, 0, 0, 0, 0, 0, 0, 0, 0, 0, 0, 0], 'time': 10000000, 'opcode': 'CONTINUE', 'instdata': 0}\n",
      "{'label': '', 'channels': [0, 1, 0, 0, 0, 0, 0, 0, 0, 0, 0, 0, 0, 0, 0, 0, 0, 0, 0, 0, 0, 1, 1, 1], 'time': 10000000, 'opcode': 'CONTINUE', 'instdata': 0}\n",
      "{'label': '', 'channels': [0, 0, 0, 0, 0, 0, 0, 0, 0, 0, 0, 0, 0, 0, 0, 0, 0, 0, 0, 0, 0, 0, 0, 0], 'time': 10000000, 'opcode': 'CONTINUE', 'instdata': 0}\n",
      "{'label': '', 'channels': [0, 1, 0, 0, 0, 0, 0, 0, 0, 0, 0, 0, 0, 0, 0, 0, 0, 0, 0, 0, 0, 1, 1, 1], 'time': 10000000, 'opcode': 'CONTINUE', 'instdata': 0}\n",
      "{'label': '', 'channels': [0, 0, 0, 0, 0, 0, 0, 0, 0, 0, 0, 0, 0, 0, 0, 0, 0, 0, 0, 0, 0, 0, 0, 0], 'time': 10000000, 'opcode': 'CONTINUE', 'instdata': 0}\n",
      "{'label': '', 'channels': [0, 1, 0, 0, 0, 0, 0, 0, 0, 0, 0, 0, 0, 0, 0, 0, 0, 0, 0, 0, 0, 1, 1, 1], 'time': 10000000, 'opcode': 'CONTINUE', 'instdata': 0}\n",
      "{'label': '', 'channels': [0, 0, 0, 0, 0, 0, 0, 0, 0, 0, 0, 0, 0, 0, 0, 0, 0, 0, 0, 0, 0, 0, 0, 0], 'time': 7995000, 'opcode': 'CONTINUE', 'instdata': 0}\n",
      "{'label': '', 'channels': [0, 0, 0, 0, 0, 0, 0, 0, 0, 0, 0, 0, 0, 0, 0, 0, 0, 0, 0, 0, 0, 0, 0, 0], 'time': 5000, 'opcode': 'BRANCH', 'instdata': 0}\n"
     ]
    },
    {
     "data": {
      "image/png": "[encoded data removed]",
      "text/plain": [
       "<Figure size 1296x185.143 with 1 Axes>"
      ]
     },
     "metadata": {
      "needs_background": "light"
     },
     "output_type": "display_data"
    }
   ],
   "source": [
    "trigger = {'frequency':5, 'offset':0, 'high': int(round(10e-3/1e-9,2)), 'channels':[0]}\n",
    "flashlamp = {'frequency':50, 'offset':int(round(2e-3/1e-9,2)), 'high': int(round(10e-3/1e-9,2)), 'channels':[1]}\n",
    "qswitch = {'frequency':5, 'offset':int(round(2e-3/1e-9,2))+int(round(215e-6/1e-9,2)), 'high':int(round(10e-3/1e-9,2)), 'channels':[2]}\n",
    "t, c, sequence = generate_repeating_pulses([trigger, flashlamp, qswitch])\n",
    "\n",
    "programmer = PulseSequenceProgrammer(0, sequence, {})\n",
    "programmer.program_device()\n",
    "pb_start()\n",
    "\n",
    "for s in sequence:\n",
    "    print(s)\n",
    "    \n",
    "tcum = np.cumsum(np.array(t)/1e9)\n",
    "c = np.array(c)[:,:21]\n",
    "select = np.where(np.sum(c, axis = 0) != 0)[0]\n",
    "c = c[:,select]\n",
    "channels = None\n",
    "if isinstance(channels, type(None)) or (len(channels) != len(select)):\n",
    "    channels = ['CH '+str(i) for i in select]\n",
    "fig, ax = plt.subplots(figsize = (18,18/21*len(select)))\n",
    "for ids, s in enumerate(c.T):\n",
    "    ax.step(tcum,s+1.3*ids, lw = 3)\n",
    "ax.get_yaxis().set_ticks([])\n",
    "ax.legend(channels, fontsize = 15)\n",
    "ax.set_xlabel('time [s]', fontsize = 15)\n",
    "ax.tick_params(axis='both', which='major', labelsize=15)\n",
    "ax.tick_params(axis='both', which='minor', labelsize=12)\n",
    "ax.xaxis.get_offset_text().set_size(15)"
   ]
  },
  {
   "cell_type": "code",
   "execution_count": 880,
   "metadata": {},
   "outputs": [],
   "source": [
    "from functools import reduce \n",
    "def gcd(a, b):\n",
    "    \"\"\"Return greatest common divisor using Euclid's Algorithm.\"\"\"\n",
    "    while b:      \n",
    "        a, b = b, a % b\n",
    "    return a\n",
    "\n",
    "def gcdm(*args):\n",
    "    \"\"\"Return gcm of args\"\"\"\n",
    "    return reduce(gcd, args)\n",
    "\n",
    "def generate_repeating_pulses(pulses, duration = None):\n",
    "    c = []\n",
    "    t = []\n",
    "    \n",
    "    min_instruction_len = 20 # minimum instruction length in ns\n",
    "    \n",
    "    # calculating the minimum duration required to perform all pulses\n",
    "    if type(duration) == type(None):\n",
    "        duration = int(round(max([1/p['frequency'] for p in pulses])/1e-9,2))\n",
    "    nr_cycles = int(duration/min_instruction_len)\n",
    "        \n",
    "    # calculating the offset, frequency and amount of time at high state\n",
    "    # in units of minimum_instruction_len\n",
    "    pulses_cycle_units = []\n",
    "    instruction_cycles = []\n",
    "    for pulse in pulses:\n",
    "        f = int(1/pulse['frequency'] / (min_instruction_len*1e-9))\n",
    "        o = int(pulse['offset'] / min_instruction_len)\n",
    "        h = int(pulse['high'] / min_instruction_len)\n",
    "        instruction_cycles.append(f)\n",
    "        instruction_cycles.append(h)\n",
    "        if o != 0:\n",
    "            instruction_cycles.append(o)\n",
    "        pulses_cycle_units.append({'frequency':f, 'offset':o, 'high':h, 'channels':pulse['channels']})        \n",
    "    \n",
    "        \n",
    "    \n",
    "    # checking whether the minimum clock cycles instruction length can be increased\n",
    "    # by checking for the greatest common denominator to speed up sequence generation\n",
    "    if instruction_cycles:\n",
    "        instruction_cycles.append(nr_cycles)\n",
    "    gcd_cycles = gcdm(*instruction_cycles)\n",
    "    if gcd_cycles != 1:\n",
    "        for pulse in pulses_cycle_units:\n",
    "            pulse['frequency'] //= gcd_cycles\n",
    "            pulse['offset'] //= gcd_cycles\n",
    "            pulse['high'] //= gcd_cycles\n",
    "            \n",
    "    min_instruction_len *= gcd_cycles\n",
    "    nr_cycles = int(duration/min_instruction_len)-1\n",
    "    \n",
    "    print('minimum instruction cycles : {0}'.format(min_instruction_len))\n",
    "    \n",
    "    # generating the pulseblaster instructions\n",
    "    idx_reset_pulse = [0]*len(pulses)\n",
    "                    \n",
    "    for idx in range(nr_cycles):\n",
    "        channels_active = []\n",
    "        for idx_pulse, pulse in enumerate(pulses_cycle_units):\n",
    "            if idx >= pulse['offset']:\n",
    "                if idx_reset_pulse[idx_pulse] < pulse['high']:\n",
    "                    [channels_active.append(ch) for ch in pulse['channels']]\n",
    "                idx_reset_pulse[idx_pulse] += 1\n",
    "                idx_reset_pulse[idx_pulse] = idx_reset_pulse[idx_pulse] % pulse['frequency']\n",
    "                \n",
    "        if channels_active:\n",
    "            chs = [0]*24\n",
    "            chs[-3:] = [1,1,1]\n",
    "            for idx in np.unique(channels_active):\n",
    "                chs[idx] = 1\n",
    "            if not c:\n",
    "                t.append(min_instruction_len)\n",
    "                c.append(chs)\n",
    "            else:\n",
    "                if c[-1] == chs:\n",
    "                    t[-1] += min_instruction_len\n",
    "                else:\n",
    "                    t.append(min_instruction_len)\n",
    "                    c.append(chs)\n",
    "        else:\n",
    "            if not c:\n",
    "                c.append([0]*24)\n",
    "                t.append(min_instruction_len)\n",
    "            else:\n",
    "                if c[-1] == [0]*24:\n",
    "                    t[-1] += min_instruction_len\n",
    "                else:\n",
    "                    c.append([0]*24)\n",
    "                    t.append(min_instruction_len)\n",
    "    \n",
    "    pulse_sequence = []\n",
    "    for t_, c_ in zip(t,c):\n",
    "        s = {'label': '', 'channels': c_, 'time': t_, 'opcode': 'CONTINUE', 'instdata': 0}\n",
    "        pulse_sequence.append(s)\n",
    "    pulse_sequence.append({'label':'', 'channels':[0]*24, 'time':min_instruction_len, 'opcode':'BRANCH', 'instdata':0})\n",
    "\n",
    "    t = [0]+t\n",
    "    c = [[0]*24]+c\n",
    "    t.append(min_instruction_len)\n",
    "    c.append([0]*24)\n",
    "    \n",
    "    return t, c, pulse_sequence"
   ]
  },
  {
   "cell_type": "code",
   "execution_count": 881,
   "metadata": {},
   "outputs": [
    {
     "name": "stdout",
     "output_type": "stream",
     "text": [
      "minimum instruction cycles : 5000\n",
      "{'label': '', 'channels': [1, 0, 0, 0, 0, 0, 0, 0, 0, 0, 0, 0, 0, 0, 0, 0, 0, 0, 0, 0, 0, 1, 1, 1], 'time': 2000000, 'opcode': 'CONTINUE', 'instdata': 0}\n",
      "{'label': '', 'channels': [1, 1, 0, 0, 0, 0, 0, 0, 0, 0, 0, 0, 0, 0, 0, 0, 0, 0, 0, 0, 0, 1, 1, 1], 'time': 215000, 'opcode': 'CONTINUE', 'instdata': 0}\n",
      "{'label': '', 'channels': [1, 1, 1, 0, 0, 0, 0, 0, 0, 0, 0, 0, 0, 0, 0, 0, 0, 0, 0, 0, 0, 1, 1, 1], 'time': 7785000, 'opcode': 'CONTINUE', 'instdata': 0}\n",
      "{'label': '', 'channels': [0, 1, 1, 0, 0, 0, 0, 0, 0, 0, 0, 0, 0, 0, 0, 0, 0, 0, 0, 0, 0, 1, 1, 1], 'time': 2000000, 'opcode': 'CONTINUE', 'instdata': 0}\n",
      "{'label': '', 'channels': [0, 0, 1, 0, 0, 0, 0, 0, 0, 0, 0, 0, 0, 0, 0, 0, 0, 0, 0, 0, 0, 1, 1, 1], 'time': 215000, 'opcode': 'CONTINUE', 'instdata': 0}\n",
      "{'label': '', 'channels': [0, 0, 0, 0, 0, 0, 0, 0, 0, 0, 0, 0, 0, 0, 0, 0, 0, 0, 0, 0, 0, 0, 0, 0], 'time': 9785000, 'opcode': 'CONTINUE', 'instdata': 0}\n",
      "{'label': '', 'channels': [0, 1, 0, 0, 0, 0, 0, 0, 0, 0, 0, 0, 0, 0, 0, 0, 0, 0, 0, 0, 0, 1, 1, 1], 'time': 10000000, 'opcode': 'CONTINUE', 'instdata': 0}\n",
      "{'label': '', 'channels': [0, 0, 0, 0, 0, 0, 0, 0, 0, 0, 0, 0, 0, 0, 0, 0, 0, 0, 0, 0, 0, 0, 0, 0], 'time': 10000000, 'opcode': 'CONTINUE', 'instdata': 0}\n",
      "{'label': '', 'channels': [0, 1, 0, 0, 0, 0, 0, 0, 0, 0, 0, 0, 0, 0, 0, 0, 0, 0, 0, 0, 0, 1, 1, 1], 'time': 10000000, 'opcode': 'CONTINUE', 'instdata': 0}\n",
      "{'label': '', 'channels': [0, 0, 0, 0, 0, 0, 0, 0, 0, 0, 0, 0, 0, 0, 0, 0, 0, 0, 0, 0, 0, 0, 0, 0], 'time': 10000000, 'opcode': 'CONTINUE', 'instdata': 0}\n",
      "{'label': '', 'channels': [0, 1, 0, 0, 0, 0, 0, 0, 0, 0, 0, 0, 0, 0, 0, 0, 0, 0, 0, 0, 0, 1, 1, 1], 'time': 10000000, 'opcode': 'CONTINUE', 'instdata': 0}\n",
      "{'label': '', 'channels': [0, 0, 0, 0, 0, 0, 0, 0, 0, 0, 0, 0, 0, 0, 0, 0, 0, 0, 0, 0, 0, 0, 0, 0], 'time': 10000000, 'opcode': 'CONTINUE', 'instdata': 0}\n",
      "{'label': '', 'channels': [0, 1, 0, 0, 0, 0, 0, 0, 0, 0, 0, 0, 0, 0, 0, 0, 0, 0, 0, 0, 0, 1, 1, 1], 'time': 10000000, 'opcode': 'CONTINUE', 'instdata': 0}\n",
      "{'label': '', 'channels': [0, 0, 0, 0, 0, 0, 0, 0, 0, 0, 0, 0, 0, 0, 0, 0, 0, 0, 0, 0, 0, 0, 0, 0], 'time': 10000000, 'opcode': 'CONTINUE', 'instdata': 0}\n",
      "{'label': '', 'channels': [0, 1, 0, 0, 0, 0, 0, 0, 0, 0, 0, 0, 0, 0, 0, 0, 0, 0, 0, 0, 0, 1, 1, 1], 'time': 10000000, 'opcode': 'CONTINUE', 'instdata': 0}\n",
      "{'label': '', 'channels': [0, 0, 0, 0, 0, 0, 0, 0, 0, 0, 0, 0, 0, 0, 0, 0, 0, 0, 0, 0, 0, 0, 0, 0], 'time': 10000000, 'opcode': 'CONTINUE', 'instdata': 0}\n",
      "{'label': '', 'channels': [0, 1, 0, 0, 0, 0, 0, 0, 0, 0, 0, 0, 0, 0, 0, 0, 0, 0, 0, 0, 0, 1, 1, 1], 'time': 10000000, 'opcode': 'CONTINUE', 'instdata': 0}\n",
      "{'label': '', 'channels': [0, 0, 0, 0, 0, 0, 0, 0, 0, 0, 0, 0, 0, 0, 0, 0, 0, 0, 0, 0, 0, 0, 0, 0], 'time': 10000000, 'opcode': 'CONTINUE', 'instdata': 0}\n",
      "{'label': '', 'channels': [0, 1, 0, 0, 0, 0, 0, 0, 0, 0, 0, 0, 0, 0, 0, 0, 0, 0, 0, 0, 0, 1, 1, 1], 'time': 10000000, 'opcode': 'CONTINUE', 'instdata': 0}\n",
      "{'label': '', 'channels': [0, 0, 0, 0, 0, 0, 0, 0, 0, 0, 0, 0, 0, 0, 0, 0, 0, 0, 0, 0, 0, 0, 0, 0], 'time': 10000000, 'opcode': 'CONTINUE', 'instdata': 0}\n",
      "{'label': '', 'channels': [0, 1, 0, 0, 0, 0, 0, 0, 0, 0, 0, 0, 0, 0, 0, 0, 0, 0, 0, 0, 0, 1, 1, 1], 'time': 10000000, 'opcode': 'CONTINUE', 'instdata': 0}\n",
      "{'label': '', 'channels': [0, 0, 0, 0, 0, 0, 0, 0, 0, 0, 0, 0, 0, 0, 0, 0, 0, 0, 0, 0, 0, 0, 0, 0], 'time': 10000000, 'opcode': 'CONTINUE', 'instdata': 0}\n",
      "{'label': '', 'channels': [0, 1, 0, 0, 0, 0, 0, 0, 0, 0, 0, 0, 0, 0, 0, 0, 0, 0, 0, 0, 0, 1, 1, 1], 'time': 10000000, 'opcode': 'CONTINUE', 'instdata': 0}\n",
      "{'label': '', 'channels': [0, 0, 0, 0, 0, 0, 0, 0, 0, 0, 0, 0, 0, 0, 0, 0, 0, 0, 0, 0, 0, 0, 0, 0], 'time': 7995000, 'opcode': 'CONTINUE', 'instdata': 0}\n",
      "{'label': '', 'channels': [0, 0, 0, 0, 0, 0, 0, 0, 0, 0, 0, 0, 0, 0, 0, 0, 0, 0, 0, 0, 0, 0, 0, 0], 'time': 5000, 'opcode': 'BRANCH', 'instdata': 0}\n"
     ]
    },
    {
     "data": {
      "image/png": "[encoded data removed]",
      "text/plain": [
       "<Figure size 1296x185.143 with 1 Axes>"
      ]
     },
     "metadata": {
      "needs_background": "light"
     },
     "output_type": "display_data"
    }
   ],
   "source": [
    "trigger = {'frequency':5, 'offset':0, 'high': int(round(10e-3/1e-9,2)), 'channels':[0]}\n",
    "flashlamp = {'frequency':50, 'offset':int(round(2e-3/1e-9,2)), 'high': int(round(10e-3/1e-9,2)), 'channels':[1]}\n",
    "qswitch = {'frequency':5, 'offset':int(round(2e-3/1e-9,2))+int(round(215e-6/1e-9,2)), 'high':int(round(10e-3/1e-9,2)), 'channels':[2]}\n",
    "t, c, sequence = generate_repeating_pulses([trigger, flashlamp, qswitch])\n",
    "\n",
    "programmer = PulseSequenceProgrammer(0, sequence, {})\n",
    "programmer.program_device()\n",
    "pb_start()\n",
    "\n",
    "for s in sequence:\n",
    "    print(s)\n",
    "    \n",
    "tcum = np.cumsum(np.array(t)/1e9)\n",
    "c = np.array(c)[:,:21]\n",
    "select = np.where(np.sum(c, axis = 0) != 0)[0]\n",
    "c = c[:,select]\n",
    "channels = None\n",
    "if isinstance(channels, type(None)) or (len(channels) != len(select)):\n",
    "    channels = ['CH '+str(i) for i in select]\n",
    "fig, ax = plt.subplots(figsize = (18,18/21*len(select)))\n",
    "for ids, s in enumerate(c.T):\n",
    "    ax.step(tcum,s+1.3*ids, lw = 3)\n",
    "ax.get_yaxis().set_ticks([])\n",
    "ax.legend(channels, fontsize = 15)\n",
    "ax.set_xlabel('time [s]', fontsize = 15)\n",
    "ax.tick_params(axis='both', which='major', labelsize=15)\n",
    "ax.tick_params(axis='both', which='minor', labelsize=12)\n",
    "ax.xaxis.get_offset_text().set_size(15)"
   ]
  },
  {
   "cell_type": "markdown",
   "metadata": {},
   "source": [
    "## Adding active high or low functionality"
   ]
  },
  {
   "cell_type": "code",
   "execution_count": 1146,
   "metadata": {},
   "outputs": [],
   "source": [
    "from functools import reduce \n",
    "def gcd(a, b):\n",
    "    \"\"\"Return greatest common divisor using Euclid's Algorithm.\"\"\"\n",
    "    while b:      \n",
    "        a, b = b, a % b\n",
    "    return a\n",
    "\n",
    "def gcdm(*args):\n",
    "    \"\"\"Return gcm of args\"\"\"\n",
    "    return reduce(gcd, args)\n",
    "\n",
    "def all_channels_off(pulses):\n",
    "    c = [0]*24\n",
    "    for pulse in pulses:\n",
    "        if not pulse['active_high']:\n",
    "            for ch in pulse['channels']:\n",
    "                c[ch] = 1\n",
    "            c[-3:] = [1,1,1]\n",
    "    return c\n",
    "\n",
    "def generate_repeating_pulses(pulses, duration = None):\n",
    "    c = []\n",
    "    t = []\n",
    "    \n",
    "    min_instruction_len = 20 # minimum instruction length in ns\n",
    "    \n",
    "    # calculating the minimum duration required to perform all pulses\n",
    "    if type(duration) == type(None):\n",
    "        duration = int(round(max([1/p['frequency'] for p in pulses])/1e-9,2))\n",
    "    nr_cycles = int(duration/min_instruction_len)\n",
    "        \n",
    "    # calculating the offset, frequency and amount of time at high state\n",
    "    # in units of minimum_instruction_len\n",
    "    pulses_cycle_units = []\n",
    "    instruction_cycles = []\n",
    "    for pulse in pulses:\n",
    "        f = int(1/pulse['frequency'] / (min_instruction_len*1e-9))\n",
    "        o = int(pulse['offset'] / min_instruction_len)\n",
    "        h = int(pulse['high'] / min_instruction_len)\n",
    "        instruction_cycles.append(f)\n",
    "        instruction_cycles.append(h)\n",
    "        if o != 0:\n",
    "            instruction_cycles.append(o)\n",
    "        pulses_cycle_units.append({'frequency':f, 'offset':o, 'high':h, 'channels':pulse['channels'], \n",
    "                                   'active_high':pulse['active_high']})        \n",
    "    \n",
    "        \n",
    "    \n",
    "    # checking whether the minimum clock cycles instruction length can be increased\n",
    "    # by checking for the greatest common denominator to speed up sequence generation\n",
    "    if instruction_cycles:\n",
    "        instruction_cycles.append(nr_cycles)\n",
    "    gcd_cycles = gcdm(*instruction_cycles)\n",
    "    if gcd_cycles != 1:\n",
    "        for pulse in pulses_cycle_units:\n",
    "            pulse['frequency'] //= gcd_cycles\n",
    "            pulse['offset'] //= gcd_cycles\n",
    "            pulse['high'] //= gcd_cycles\n",
    "            \n",
    "    min_instruction_len *= gcd_cycles\n",
    "    nr_cycles = int(duration/min_instruction_len)-1\n",
    "    \n",
    "    print('minimum instruction cycles : {0}'.format(min_instruction_len))\n",
    "    \n",
    "    # generating the pulseblaster instructions\n",
    "    idx_reset_pulse = [0]*len(pulses)\n",
    "        \n",
    "    for idx in range(nr_cycles):\n",
    "        channels_active = []\n",
    "        for idx_pulse, pulse in enumerate(pulses_cycle_units):\n",
    "            if idx >= pulse['offset']:\n",
    "                if idx_reset_pulse[idx_pulse] < pulse['high']:\n",
    "                    [channels_active.append(ch) for ch in pulse['channels']]\n",
    "                idx_reset_pulse[idx_pulse] += 1\n",
    "                idx_reset_pulse[idx_pulse] = idx_reset_pulse[idx_pulse] % pulse['frequency']\n",
    "        \n",
    "        if channels_active:\n",
    "            chs = [0]*24\n",
    "            chs[-3:] = [1,1,1]\n",
    "            for idx in channels_active:\n",
    "                chs[idx] = 1\n",
    "            if not c:\n",
    "                t.append(min_instruction_len)\n",
    "                c.append(chs)\n",
    "            else:\n",
    "                if c[-1] == chs:\n",
    "                    t[-1] += min_instruction_len\n",
    "                else:\n",
    "                    t.append(min_instruction_len)\n",
    "                    c.append(chs)\n",
    "        else:\n",
    "            if not c:\n",
    "                c.append([0]*24)\n",
    "                t.append(min_instruction_len)\n",
    "            else:\n",
    "                if c[-1] == [0]*24:\n",
    "                    t[-1] += min_instruction_len\n",
    "                else:\n",
    "                    c.append([0]*24)\n",
    "                    t.append(min_instruction_len)\n",
    "    \n",
    "    channels_inverted = [p for pulse in pulses for p in pulse['channels'] if not pulse['active_high']]\n",
    "    channels_off = all_channels_off(pulses)\n",
    "    for c_ in c:\n",
    "        for ch_inv in channels_inverted:\n",
    "            if c_[ch_inv]:\n",
    "                c_[ch_inv] = 0\n",
    "                if c_[:20] == [0]*20:\n",
    "                    c_[-3:] = [0,0,0]\n",
    "            else:\n",
    "                if c_ == [0]*24:\n",
    "                    c_[-3:] = [1,1,1]\n",
    "                c_[ch_inv] = 1\n",
    "    \n",
    "    pulse_sequence = []\n",
    "    for t_, c_ in zip(t,c):\n",
    "        s = {'label': '', 'channels': c_, 'time': t_, 'opcode': 'CONTINUE', 'instdata': 0}\n",
    "        pulse_sequence.append(s)\n",
    "    pulse_sequence.append({'label':'', 'channels':channels_off.copy(), 'time':min_instruction_len, 'opcode':'BRANCH', 'instdata':0})\n",
    "\n",
    "    t = [0]+t\n",
    "    c = [channels_off]+c\n",
    "    t.append(min_instruction_len)\n",
    "    c.append(channels_off)\n",
    "    \n",
    "    return t, c, pulse_sequence"
   ]
  },
  {
   "cell_type": "code",
   "execution_count": 1147,
   "metadata": {},
   "outputs": [
    {
     "name": "stdout",
     "output_type": "stream",
     "text": [
      "minimum instruction cycles : 5000\n",
      "{'label': '', 'channels': [0, 0, 0, 0, 0, 0, 0, 0, 0, 0, 0, 0, 0, 0, 0, 0, 0, 0, 0, 0, 0, 0, 0, 0], 'time': 2000000, 'opcode': 'CONTINUE', 'instdata': 0}\n",
      "{'label': '', 'channels': [0, 1, 0, 0, 0, 0, 0, 0, 0, 0, 0, 0, 0, 0, 0, 0, 0, 0, 0, 0, 0, 1, 1, 1], 'time': 215000, 'opcode': 'CONTINUE', 'instdata': 0}\n",
      "{'label': '', 'channels': [0, 1, 1, 0, 0, 0, 0, 0, 0, 0, 0, 0, 0, 0, 0, 0, 0, 0, 0, 0, 0, 1, 1, 1], 'time': 7785000, 'opcode': 'CONTINUE', 'instdata': 0}\n",
      "{'label': '', 'channels': [1, 1, 1, 0, 0, 0, 0, 0, 0, 0, 0, 0, 0, 0, 0, 0, 0, 0, 0, 0, 0, 1, 1, 1], 'time': 2000000, 'opcode': 'CONTINUE', 'instdata': 0}\n",
      "{'label': '', 'channels': [1, 0, 1, 0, 0, 0, 0, 0, 0, 0, 0, 0, 0, 0, 0, 0, 0, 0, 0, 0, 0, 1, 1, 1], 'time': 215000, 'opcode': 'CONTINUE', 'instdata': 0}\n",
      "{'label': '', 'channels': [1, 0, 0, 0, 0, 0, 0, 0, 0, 0, 0, 0, 0, 0, 0, 0, 0, 0, 0, 0, 0, 1, 1, 1], 'time': 9785000, 'opcode': 'CONTINUE', 'instdata': 0}\n",
      "{'label': '', 'channels': [1, 1, 0, 0, 0, 0, 0, 0, 0, 0, 0, 0, 0, 0, 0, 0, 0, 0, 0, 0, 0, 1, 1, 1], 'time': 10000000, 'opcode': 'CONTINUE', 'instdata': 0}\n",
      "{'label': '', 'channels': [1, 0, 0, 0, 0, 0, 0, 0, 0, 0, 0, 0, 0, 0, 0, 0, 0, 0, 0, 0, 0, 1, 1, 1], 'time': 10000000, 'opcode': 'CONTINUE', 'instdata': 0}\n",
      "{'label': '', 'channels': [1, 1, 0, 0, 0, 0, 0, 0, 0, 0, 0, 0, 0, 0, 0, 0, 0, 0, 0, 0, 0, 1, 1, 1], 'time': 10000000, 'opcode': 'CONTINUE', 'instdata': 0}\n",
      "{'label': '', 'channels': [1, 0, 0, 0, 0, 0, 0, 0, 0, 0, 0, 0, 0, 0, 0, 0, 0, 0, 0, 0, 0, 1, 1, 1], 'time': 10000000, 'opcode': 'CONTINUE', 'instdata': 0}\n",
      "{'label': '', 'channels': [1, 1, 0, 0, 0, 0, 0, 0, 0, 0, 0, 0, 0, 0, 0, 0, 0, 0, 0, 0, 0, 1, 1, 1], 'time': 10000000, 'opcode': 'CONTINUE', 'instdata': 0}\n",
      "{'label': '', 'channels': [1, 0, 0, 0, 0, 0, 0, 0, 0, 0, 0, 0, 0, 0, 0, 0, 0, 0, 0, 0, 0, 1, 1, 1], 'time': 10000000, 'opcode': 'CONTINUE', 'instdata': 0}\n",
      "{'label': '', 'channels': [1, 1, 0, 0, 0, 0, 0, 0, 0, 0, 0, 0, 0, 0, 0, 0, 0, 0, 0, 0, 0, 1, 1, 1], 'time': 10000000, 'opcode': 'CONTINUE', 'instdata': 0}\n",
      "{'label': '', 'channels': [1, 0, 0, 0, 0, 0, 0, 0, 0, 0, 0, 0, 0, 0, 0, 0, 0, 0, 0, 0, 0, 1, 1, 1], 'time': 7995000, 'opcode': 'CONTINUE', 'instdata': 0}\n",
      "{'label': '', 'channels': [1, 0, 0, 0, 0, 0, 0, 0, 0, 0, 0, 0, 0, 0, 0, 0, 0, 0, 0, 0, 0, 1, 1, 1], 'time': 5000, 'opcode': 'BRANCH', 'instdata': 0}\n"
     ]
    },
    {
     "data": {
      "image/png": "[encoded data removed]",
      "text/plain": [
       "<Figure size 1296x185.143 with 1 Axes>"
      ]
     },
     "metadata": {
      "needs_background": "light"
     },
     "output_type": "display_data"
    }
   ],
   "source": [
    "trigger = {'frequency':10, 'offset':0, 'high': int(round(10e-3/1e-9,2)), 'channels':[0], 'active_high':False}\n",
    "flashlamp = {'frequency':50, 'offset':int(round(2e-3/1e-9,2)), 'high': int(round(10e-3/1e-9,2)), 'channels':[1], 'active_high':True}\n",
    "qswitch = {'frequency':10, 'offset':int(round(2e-3/1e-9,2))+int(round(215e-6/1e-9,2)), 'high':int(round(10e-3/1e-9,2)), 'channels':[2], 'active_high':True}\n",
    "t, c, sequence = generate_repeating_pulses([trigger, flashlamp, qswitch])\n",
    "\n",
    "programmer = PulseSequenceProgrammer(0, sequence, {})\n",
    "programmer.program_device()\n",
    "pb_start()\n",
    "\n",
    "for s in sequence:\n",
    "    print(s)\n",
    "    \n",
    "tcum = np.cumsum(np.array(t)/1e9)\n",
    "c = np.array(c)[:,:21]\n",
    "select = np.where(np.sum(c, axis = 0) != 0)[0]\n",
    "c = c[:,select]\n",
    "channels = None\n",
    "if isinstance(channels, type(None)) or (len(channels) != len(select)):\n",
    "    channels = ['CH '+str(i) for i in select]\n",
    "fig, ax = plt.subplots(figsize = (18,18/21*len(select)))\n",
    "for ids, s in enumerate(c.T):\n",
    "    ax.step(tcum,s+1.3*ids, lw = 3)\n",
    "ax.get_yaxis().set_ticks([])\n",
    "ax.legend(channels, fontsize = 15)\n",
    "ax.set_xlabel('time [s]', fontsize = 15)\n",
    "ax.tick_params(axis='both', which='major', labelsize=15)\n",
    "ax.tick_params(axis='both', which='minor', labelsize=12)\n",
    "ax.xaxis.get_offset_text().set_size(15)"
   ]
  },
  {
   "cell_type": "markdown",
   "metadata": {},
   "source": [
    "## Adding frequency on a frequence, e.g. switching a 10Hz pulse at 2Hz"
   ]
  },
  {
   "cell_type": "code",
   "execution_count": 1148,
   "metadata": {},
   "outputs": [],
   "source": [
    "from functools import reduce \n",
    "def gcd(a, b):\n",
    "    \"\"\"Return greatest common divisor using Euclid's Algorithm.\"\"\"\n",
    "    while b:      \n",
    "        a, b = b, a % b\n",
    "    return a\n",
    "\n",
    "def gcdm(*args):\n",
    "    \"\"\"Return gcm of args\"\"\"\n",
    "    return reduce(gcd, args)\n",
    "\n",
    "def all_channels_off(pulses):\n",
    "    c = [0]*24\n",
    "    for pulse in pulses:\n",
    "        if not pulse['active_high']:\n",
    "            for ch in pulse['channels']:\n",
    "                c[ch] = 1\n",
    "            c[-3:] = [1,1,1]\n",
    "    return c\n",
    "\n",
    "def generate_repeating_pulses(pulses, masking_pulses, duration = None):\n",
    "    c = []\n",
    "    t = []\n",
    "    \n",
    "    min_instruction_len = 20 # minimum instruction length in ns\n",
    "    \n",
    "    # calculating the minimum duration required to perform all pulses\n",
    "    if type(duration) == type(None):\n",
    "        frequencies = [p['frequency'] for p in pulses]+[p['frequency'] for p in masking_pulses]\n",
    "        duration = int(round(max([1/f for f in frequencies])/1e-9,2))\n",
    "    nr_cycles = int(duration/min_instruction_len)\n",
    "        \n",
    "    # calculating the offset, frequency and amount of time at high state\n",
    "    # in units of minimum_instruction_len\n",
    "    pulses_cycle_units = []\n",
    "    instruction_cycles = []\n",
    "    for pulse in pulses:\n",
    "        f = int(1/pulse['frequency'] / (min_instruction_len*1e-9))\n",
    "        o = int(pulse['offset'] / min_instruction_len)\n",
    "        h = int(pulse['high'] / min_instruction_len)\n",
    "        instruction_cycles.append(f)\n",
    "        instruction_cycles.append(h)\n",
    "        if o != 0:\n",
    "            instruction_cycles.append(o)\n",
    "        pulses_cycle_units.append({'frequency':f, 'offset':o, 'high':h, 'channels':pulse['channels'], \n",
    "                                   'active_high':pulse['active_high']})\n",
    "    \n",
    "    # calculating the offset, frequency of the masking pulses\n",
    "    masking_pulses_cycle_units = []\n",
    "    for pulse in masking_pulses:\n",
    "        f = int(1/pulse['frequency'] / (min_instruction_len*1e-9))\n",
    "        o = int(pulse['offset'] / min_instruction_len)\n",
    "        h = int(f / 2)\n",
    "        instruction_cycles.append(f)\n",
    "        instruction_cycles.append(h)\n",
    "        if o != 0:\n",
    "            instruction_cycles.append(o)\n",
    "        masking_pulses_cycle_units.append({'frequency':f, 'offset':o, 'high':h, 'channels':pulse['channels']})\n",
    "\n",
    "    # checking whether the minimum clock cycles instruction length can be increased\n",
    "    # by checking for the greatest common denominator to speed up sequence generation\n",
    "    if instruction_cycles:\n",
    "        instruction_cycles.append(nr_cycles)\n",
    "    gcd_cycles = gcdm(*instruction_cycles)\n",
    "    if gcd_cycles != 1:\n",
    "        for pulse in pulses_cycle_units:\n",
    "            pulse['frequency'] //= gcd_cycles\n",
    "            pulse['offset'] //= gcd_cycles\n",
    "            pulse['high'] //= gcd_cycles\n",
    "        for pulse in masking_pulses_cycle_units:\n",
    "            pulse['frequency'] //= gcd_cycles\n",
    "            pulse['offset'] //= gcd_cycles\n",
    "            pulse['high'] //= gcd_cycles\n",
    "            \n",
    "    min_instruction_len *= gcd_cycles\n",
    "    nr_cycles = int(duration/min_instruction_len)-1\n",
    "    \n",
    "    print('minimum instruction cycles : {0}'.format(min_instruction_len))\n",
    "    \n",
    "    # generating the pulseblaster instructions\n",
    "    idx_reset_pulse = [0]*len(pulses)\n",
    "    idx_reset_masking_pulse = [0]*len(masking_pulses)\n",
    "        \n",
    "    for idx in range(nr_cycles):\n",
    "        # calculating for the regular switches\n",
    "        channels_active = []\n",
    "        for idx_pulse, pulse in enumerate(pulses_cycle_units):\n",
    "            if idx >= pulse['offset']:\n",
    "                if idx_reset_pulse[idx_pulse] < pulse['high']:\n",
    "                    [channels_active.append(ch) for ch in pulse['channels']]\n",
    "                idx_reset_pulse[idx_pulse] += 1\n",
    "                idx_reset_pulse[idx_pulse] = idx_reset_pulse[idx_pulse] % pulse['frequency']\n",
    "                \n",
    "        # calculating for the masking switches:\n",
    "        channels_masking_active = [p for pulse in pulses_cycle_units for p in pulse['channels']]\n",
    "        for idx_pulse, pulse in enumerate(masking_pulses_cycle_units):\n",
    "            if idx >= pulse['offset']:\n",
    "                if idx_reset_masking_pulse[idx_pulse] >= pulse['high']:\n",
    "                    [channels_masking_active.remove(ch) for ch in pulse['channels']]\n",
    "                idx_reset_masking_pulse[idx_pulse] += 1\n",
    "                idx_reset_masking_pulse[idx_pulse] = idx_reset_masking_pulse[idx_pulse] % pulse['frequency']\n",
    "        if channels_active:\n",
    "            chs = [0]*24\n",
    "            chs[-3:] = [1,1,1]\n",
    "            for idx in channels_active:\n",
    "                if idx in channels_masking_active:\n",
    "                    chs[idx] = 1\n",
    "            if not c:\n",
    "                t.append(min_instruction_len)\n",
    "                c.append(chs)\n",
    "            else:\n",
    "                if c[-1] == chs:\n",
    "                    t[-1] += min_instruction_len\n",
    "                else:\n",
    "                    t.append(min_instruction_len)\n",
    "                    c.append(chs)\n",
    "        else:\n",
    "            if not c:\n",
    "                c.append([0]*24)\n",
    "                t.append(min_instruction_len)\n",
    "            else:\n",
    "                if c[-1] == [0]*24:\n",
    "                    t[-1] += min_instruction_len\n",
    "                else:\n",
    "                    c.append([0]*24)\n",
    "                    t.append(min_instruction_len)\n",
    "    \n",
    "    channels_inverted = [p for pulse in pulses for p in pulse['channels'] if not pulse['active_high']]\n",
    "    channels_off = all_channels_off(pulses)\n",
    "    for c_ in c:\n",
    "        for ch_inv in channels_inverted:\n",
    "            if c_[ch_inv]:\n",
    "                c_[ch_inv] = 0\n",
    "                if c_[:20] == [0]*20:\n",
    "                    c_[-3:] = [0,0,0]\n",
    "            else:\n",
    "                if c_ == [0]*24:\n",
    "                    c_[-3:] = [1,1,1]\n",
    "                c_[ch_inv] = 1\n",
    "    \n",
    "    pulse_sequence = []\n",
    "    for t_, c_ in zip(t,c):\n",
    "        s = {'label': '', 'channels': c_, 'time': t_, 'opcode': 'CONTINUE', 'instdata': 0}\n",
    "        pulse_sequence.append(s)\n",
    "    pulse_sequence.append({'label':'', 'channels':channels_off.copy(), 'time':min_instruction_len, 'opcode':'BRANCH', 'instdata':0})\n",
    "\n",
    "    t = [0]+t\n",
    "    c = [channels_off]+c\n",
    "    t.append(min_instruction_len)\n",
    "    c.append(channels_off)\n",
    "    \n",
    "    return t, c, pulse_sequence"
   ]
  },
  {
   "cell_type": "code",
   "execution_count": 1149,
   "metadata": {},
   "outputs": [
    {
     "name": "stdout",
     "output_type": "stream",
     "text": [
      "minimum instruction cycles : 5000\n",
      "{'label': '', 'channels': [1, 0, 0, 0, 0, 0, 0, 0, 0, 0, 0, 0, 0, 0, 0, 0, 0, 0, 0, 0, 0, 1, 1, 1], 'time': 2000000, 'opcode': 'CONTINUE', 'instdata': 0}\n",
      "{'label': '', 'channels': [1, 1, 0, 0, 0, 0, 0, 0, 0, 0, 0, 0, 0, 0, 0, 0, 0, 0, 0, 0, 0, 1, 1, 1], 'time': 215000, 'opcode': 'CONTINUE', 'instdata': 0}\n",
      "{'label': '', 'channels': [1, 1, 1, 0, 0, 0, 0, 0, 0, 0, 0, 0, 0, 0, 0, 0, 0, 0, 0, 0, 0, 1, 1, 1], 'time': 7785000, 'opcode': 'CONTINUE', 'instdata': 0}\n",
      "{'label': '', 'channels': [0, 1, 1, 0, 0, 0, 0, 0, 0, 0, 0, 0, 0, 0, 0, 0, 0, 0, 0, 0, 0, 1, 1, 1], 'time': 2000000, 'opcode': 'CONTINUE', 'instdata': 0}\n",
      "{'label': '', 'channels': [0, 0, 1, 0, 0, 0, 0, 0, 0, 0, 0, 0, 0, 0, 0, 0, 0, 0, 0, 0, 0, 1, 1, 1], 'time': 215000, 'opcode': 'CONTINUE', 'instdata': 0}\n",
      "{'label': '', 'channels': [0, 0, 0, 0, 0, 0, 0, 0, 0, 0, 0, 0, 0, 0, 0, 0, 0, 0, 0, 0, 0, 0, 0, 0], 'time': 89785000, 'opcode': 'CONTINUE', 'instdata': 0}\n",
      "{'label': '', 'channels': [0, 1, 0, 0, 0, 0, 0, 0, 0, 0, 0, 0, 0, 0, 0, 0, 0, 0, 0, 0, 0, 1, 1, 1], 'time': 10000000, 'opcode': 'CONTINUE', 'instdata': 0}\n",
      "{'label': '', 'channels': [0, 0, 0, 0, 0, 0, 0, 0, 0, 0, 0, 0, 0, 0, 0, 0, 0, 0, 0, 0, 0, 0, 0, 0], 'time': 88000000, 'opcode': 'CONTINUE', 'instdata': 0}\n",
      "{'label': '', 'channels': [1, 0, 0, 0, 0, 0, 0, 0, 0, 0, 0, 0, 0, 0, 0, 0, 0, 0, 0, 0, 0, 1, 1, 1], 'time': 2215000, 'opcode': 'CONTINUE', 'instdata': 0}\n",
      "{'label': '', 'channels': [1, 0, 1, 0, 0, 0, 0, 0, 0, 0, 0, 0, 0, 0, 0, 0, 0, 0, 0, 0, 0, 1, 1, 1], 'time': 7785000, 'opcode': 'CONTINUE', 'instdata': 0}\n",
      "{'label': '', 'channels': [0, 0, 1, 0, 0, 0, 0, 0, 0, 0, 0, 0, 0, 0, 0, 0, 0, 0, 0, 0, 0, 1, 1, 1], 'time': 2215000, 'opcode': 'CONTINUE', 'instdata': 0}\n",
      "{'label': '', 'channels': [0, 0, 0, 0, 0, 0, 0, 0, 0, 0, 0, 0, 0, 0, 0, 0, 0, 0, 0, 0, 0, 0, 0, 0], 'time': 89785000, 'opcode': 'CONTINUE', 'instdata': 0}\n",
      "{'label': '', 'channels': [0, 0, 0, 0, 0, 0, 0, 0, 0, 0, 0, 0, 0, 0, 0, 0, 0, 0, 0, 0, 0, 1, 1, 1], 'time': 10000000, 'opcode': 'CONTINUE', 'instdata': 0}\n",
      "{'label': '', 'channels': [0, 0, 0, 0, 0, 0, 0, 0, 0, 0, 0, 0, 0, 0, 0, 0, 0, 0, 0, 0, 0, 0, 0, 0], 'time': 87995000, 'opcode': 'CONTINUE', 'instdata': 0}\n",
      "{'label': '', 'channels': [0, 0, 0, 0, 0, 0, 0, 0, 0, 0, 0, 0, 0, 0, 0, 0, 0, 0, 0, 0, 0, 0, 0, 0], 'time': 5000, 'opcode': 'BRANCH', 'instdata': 0}\n"
     ]
    },
    {
     "data": {
      "image/png": "[encoded data removed]",
      "text/plain": [
       "<Figure size 1296x185.143 with 1 Axes>"
      ]
     },
     "metadata": {
      "needs_background": "light"
     },
     "output_type": "display_data"
    }
   ],
   "source": [
    "trigger = {'frequency':5, 'offset':0, 'high': int(round(10e-3/1e-9,2)), 'channels':[0], \n",
    "           'active_high':True}\n",
    "flashlamp = {'frequency':10, 'offset':int(round(2e-3/1e-9,2)), 'high': int(round(10e-3/1e-9,2)), 'channels':[1], \n",
    "             'active_high':True}\n",
    "qswitch = {'frequency':5, 'offset':int(round(2e-3/1e-9,2))+int(round(215e-6/1e-9,2)), 'high':int(round(10e-3/1e-9,2)), 'channels':[2], \n",
    "           'active_high':True}\n",
    "\n",
    "flashlamp_mask = {'frequency':2.5, 'offset':int(round(2e-3/1e-9,2)), 'channels':[1]}\n",
    "\n",
    "t, c, sequence = generate_repeating_pulses([trigger, flashlamp, qswitch], [flashlamp_mask])\n",
    "\n",
    "programmer = PulseSequenceProgrammer(0, sequence, {})\n",
    "programmer.program_device()\n",
    "pb_start()\n",
    "\n",
    "for s in sequence:\n",
    "    print(s)\n",
    "    \n",
    "tcum = np.cumsum(np.array(t)/1e9)\n",
    "c = np.array(c)[:,:21]\n",
    "select = np.where(np.sum(c, axis = 0) != 0)[0]\n",
    "c = c[:,select]\n",
    "channels = None\n",
    "if isinstance(channels, type(None)) or (len(channels) != len(select)):\n",
    "    channels = ['CH '+str(i) for i in select]\n",
    "fig, ax = plt.subplots(figsize = (18,18/21*len(select)))\n",
    "for ids, s in enumerate(c.T):\n",
    "    ax.step(tcum,s+1.3*ids, lw = 3)\n",
    "ax.get_yaxis().set_ticks([])\n",
    "ax.legend(channels, fontsize = 15)\n",
    "ax.set_xlabel('time [s]', fontsize = 15)\n",
    "ax.tick_params(axis='both', which='major', labelsize=15)\n",
    "ax.tick_params(axis='both', which='minor', labelsize=12)\n",
    "ax.xaxis.get_offset_text().set_size(15)"
   ]
  },
  {
   "cell_type": "code",
   "execution_count": 1150,
   "metadata": {},
   "outputs": [
    {
     "name": "stdout",
     "output_type": "stream",
     "text": [
      "minimum instruction cycles : 5000\n",
      "{'label': '', 'channels': [1, 0, 0, 0, 0, 0, 0, 0, 0, 0, 0, 0, 0, 0, 0, 0, 0, 0, 0, 0, 0, 1, 1, 1], 'time': 2000000, 'opcode': 'CONTINUE', 'instdata': 0}\n",
      "{'label': '', 'channels': [1, 1, 0, 0, 0, 0, 0, 0, 0, 0, 0, 0, 0, 0, 0, 0, 0, 0, 0, 0, 0, 1, 1, 1], 'time': 215000, 'opcode': 'CONTINUE', 'instdata': 0}\n",
      "{'label': '', 'channels': [1, 1, 1, 0, 0, 0, 0, 0, 0, 0, 0, 0, 0, 0, 0, 0, 0, 0, 0, 0, 0, 1, 1, 1], 'time': 7785000, 'opcode': 'CONTINUE', 'instdata': 0}\n",
      "{'label': '', 'channels': [0, 1, 1, 0, 0, 0, 0, 0, 0, 0, 0, 0, 0, 0, 0, 0, 0, 0, 0, 0, 0, 1, 1, 1], 'time': 2000000, 'opcode': 'CONTINUE', 'instdata': 0}\n",
      "{'label': '', 'channels': [0, 0, 1, 0, 0, 0, 0, 0, 0, 0, 0, 0, 0, 0, 0, 0, 0, 0, 0, 0, 0, 1, 1, 1], 'time': 215000, 'opcode': 'CONTINUE', 'instdata': 0}\n",
      "{'label': '', 'channels': [0, 0, 0, 0, 0, 0, 0, 0, 0, 0, 0, 0, 0, 0, 0, 0, 0, 0, 0, 0, 0, 0, 0, 0], 'time': 9785000, 'opcode': 'CONTINUE', 'instdata': 0}\n",
      "{'label': '', 'channels': [0, 1, 0, 0, 0, 0, 0, 0, 0, 0, 0, 0, 0, 0, 0, 0, 0, 0, 0, 0, 0, 1, 1, 1], 'time': 10000000, 'opcode': 'CONTINUE', 'instdata': 0}\n",
      "{'label': '', 'channels': [0, 0, 0, 0, 0, 0, 0, 0, 0, 0, 0, 0, 0, 0, 0, 0, 0, 0, 0, 0, 0, 0, 0, 0], 'time': 10000000, 'opcode': 'CONTINUE', 'instdata': 0}\n",
      "{'label': '', 'channels': [0, 1, 0, 0, 0, 0, 0, 0, 0, 0, 0, 0, 0, 0, 0, 0, 0, 0, 0, 0, 0, 1, 1, 1], 'time': 10000000, 'opcode': 'CONTINUE', 'instdata': 0}\n",
      "{'label': '', 'channels': [0, 0, 0, 0, 0, 0, 0, 0, 0, 0, 0, 0, 0, 0, 0, 0, 0, 0, 0, 0, 0, 0, 0, 0], 'time': 10000000, 'opcode': 'CONTINUE', 'instdata': 0}\n",
      "{'label': '', 'channels': [0, 0, 0, 0, 0, 0, 0, 0, 0, 0, 0, 0, 0, 0, 0, 0, 0, 0, 0, 0, 0, 1, 1, 1], 'time': 10000000, 'opcode': 'CONTINUE', 'instdata': 0}\n",
      "{'label': '', 'channels': [0, 0, 0, 0, 0, 0, 0, 0, 0, 0, 0, 0, 0, 0, 0, 0, 0, 0, 0, 0, 0, 0, 0, 0], 'time': 10000000, 'opcode': 'CONTINUE', 'instdata': 0}\n",
      "{'label': '', 'channels': [0, 0, 0, 0, 0, 0, 0, 0, 0, 0, 0, 0, 0, 0, 0, 0, 0, 0, 0, 0, 0, 1, 1, 1], 'time': 10000000, 'opcode': 'CONTINUE', 'instdata': 0}\n",
      "{'label': '', 'channels': [0, 0, 0, 0, 0, 0, 0, 0, 0, 0, 0, 0, 0, 0, 0, 0, 0, 0, 0, 0, 0, 0, 0, 0], 'time': 10000000, 'opcode': 'CONTINUE', 'instdata': 0}\n",
      "{'label': '', 'channels': [0, 1, 0, 0, 0, 0, 0, 0, 0, 0, 0, 0, 0, 0, 0, 0, 0, 0, 0, 0, 0, 1, 1, 1], 'time': 10000000, 'opcode': 'CONTINUE', 'instdata': 0}\n",
      "{'label': '', 'channels': [0, 0, 0, 0, 0, 0, 0, 0, 0, 0, 0, 0, 0, 0, 0, 0, 0, 0, 0, 0, 0, 0, 0, 0], 'time': 10000000, 'opcode': 'CONTINUE', 'instdata': 0}\n",
      "{'label': '', 'channels': [0, 1, 0, 0, 0, 0, 0, 0, 0, 0, 0, 0, 0, 0, 0, 0, 0, 0, 0, 0, 0, 1, 1, 1], 'time': 10000000, 'opcode': 'CONTINUE', 'instdata': 0}\n",
      "{'label': '', 'channels': [0, 0, 0, 0, 0, 0, 0, 0, 0, 0, 0, 0, 0, 0, 0, 0, 0, 0, 0, 0, 0, 0, 0, 0], 'time': 10000000, 'opcode': 'CONTINUE', 'instdata': 0}\n",
      "{'label': '', 'channels': [0, 1, 0, 0, 0, 0, 0, 0, 0, 0, 0, 0, 0, 0, 0, 0, 0, 0, 0, 0, 0, 1, 1, 1], 'time': 10000000, 'opcode': 'CONTINUE', 'instdata': 0}\n",
      "{'label': '', 'channels': [0, 0, 0, 0, 0, 0, 0, 0, 0, 0, 0, 0, 0, 0, 0, 0, 0, 0, 0, 0, 0, 0, 0, 0], 'time': 10000000, 'opcode': 'CONTINUE', 'instdata': 0}\n",
      "{'label': '', 'channels': [0, 0, 0, 0, 0, 0, 0, 0, 0, 0, 0, 0, 0, 0, 0, 0, 0, 0, 0, 0, 0, 1, 1, 1], 'time': 10000000, 'opcode': 'CONTINUE', 'instdata': 0}\n",
      "{'label': '', 'channels': [0, 0, 0, 0, 0, 0, 0, 0, 0, 0, 0, 0, 0, 0, 0, 0, 0, 0, 0, 0, 0, 0, 0, 0], 'time': 10000000, 'opcode': 'CONTINUE', 'instdata': 0}\n",
      "{'label': '', 'channels': [0, 0, 0, 0, 0, 0, 0, 0, 0, 0, 0, 0, 0, 0, 0, 0, 0, 0, 0, 0, 0, 1, 1, 1], 'time': 10000000, 'opcode': 'CONTINUE', 'instdata': 0}\n",
      "{'label': '', 'channels': [0, 0, 0, 0, 0, 0, 0, 0, 0, 0, 0, 0, 0, 0, 0, 0, 0, 0, 0, 0, 0, 0, 0, 0], 'time': 10000000, 'opcode': 'CONTINUE', 'instdata': 0}\n",
      "{'label': '', 'channels': [0, 1, 0, 0, 0, 0, 0, 0, 0, 0, 0, 0, 0, 0, 0, 0, 0, 0, 0, 0, 0, 1, 1, 1], 'time': 10000000, 'opcode': 'CONTINUE', 'instdata': 0}\n",
      "{'label': '', 'channels': [0, 0, 0, 0, 0, 0, 0, 0, 0, 0, 0, 0, 0, 0, 0, 0, 0, 0, 0, 0, 0, 0, 0, 0], 'time': 10000000, 'opcode': 'CONTINUE', 'instdata': 0}\n",
      "{'label': '', 'channels': [0, 1, 0, 0, 0, 0, 0, 0, 0, 0, 0, 0, 0, 0, 0, 0, 0, 0, 0, 0, 0, 1, 1, 1], 'time': 10000000, 'opcode': 'CONTINUE', 'instdata': 0}\n",
      "{'label': '', 'channels': [0, 0, 0, 0, 0, 0, 0, 0, 0, 0, 0, 0, 0, 0, 0, 0, 0, 0, 0, 0, 0, 0, 0, 0], 'time': 10000000, 'opcode': 'CONTINUE', 'instdata': 0}\n",
      "{'label': '', 'channels': [0, 1, 0, 0, 0, 0, 0, 0, 0, 0, 0, 0, 0, 0, 0, 0, 0, 0, 0, 0, 0, 1, 1, 1], 'time': 10000000, 'opcode': 'CONTINUE', 'instdata': 0}\n",
      "{'label': '', 'channels': [0, 0, 0, 0, 0, 0, 0, 0, 0, 0, 0, 0, 0, 0, 0, 0, 0, 0, 0, 0, 0, 0, 0, 0], 'time': 10000000, 'opcode': 'CONTINUE', 'instdata': 0}\n",
      "{'label': '', 'channels': [0, 0, 0, 0, 0, 0, 0, 0, 0, 0, 0, 0, 0, 0, 0, 0, 0, 0, 0, 0, 0, 1, 1, 1], 'time': 10000000, 'opcode': 'CONTINUE', 'instdata': 0}\n",
      "{'label': '', 'channels': [0, 0, 0, 0, 0, 0, 0, 0, 0, 0, 0, 0, 0, 0, 0, 0, 0, 0, 0, 0, 0, 0, 0, 0], 'time': 10000000, 'opcode': 'CONTINUE', 'instdata': 0}\n",
      "{'label': '', 'channels': [0, 0, 0, 0, 0, 0, 0, 0, 0, 0, 0, 0, 0, 0, 0, 0, 0, 0, 0, 0, 0, 1, 1, 1], 'time': 10000000, 'opcode': 'CONTINUE', 'instdata': 0}\n",
      "{'label': '', 'channels': [0, 0, 0, 0, 0, 0, 0, 0, 0, 0, 0, 0, 0, 0, 0, 0, 0, 0, 0, 0, 0, 0, 0, 0], 'time': 10000000, 'opcode': 'CONTINUE', 'instdata': 0}\n",
      "{'label': '', 'channels': [0, 1, 0, 0, 0, 0, 0, 0, 0, 0, 0, 0, 0, 0, 0, 0, 0, 0, 0, 0, 0, 1, 1, 1], 'time': 10000000, 'opcode': 'CONTINUE', 'instdata': 0}\n",
      "{'label': '', 'channels': [0, 0, 0, 0, 0, 0, 0, 0, 0, 0, 0, 0, 0, 0, 0, 0, 0, 0, 0, 0, 0, 0, 0, 0], 'time': 10000000, 'opcode': 'CONTINUE', 'instdata': 0}\n",
      "{'label': '', 'channels': [0, 1, 0, 0, 0, 0, 0, 0, 0, 0, 0, 0, 0, 0, 0, 0, 0, 0, 0, 0, 0, 1, 1, 1], 'time': 10000000, 'opcode': 'CONTINUE', 'instdata': 0}\n",
      "{'label': '', 'channels': [0, 0, 0, 0, 0, 0, 0, 0, 0, 0, 0, 0, 0, 0, 0, 0, 0, 0, 0, 0, 0, 0, 0, 0], 'time': 10000000, 'opcode': 'CONTINUE', 'instdata': 0}\n",
      "{'label': '', 'channels': [0, 1, 0, 0, 0, 0, 0, 0, 0, 0, 0, 0, 0, 0, 0, 0, 0, 0, 0, 0, 0, 1, 1, 1], 'time': 10000000, 'opcode': 'CONTINUE', 'instdata': 0}\n",
      "{'label': '', 'channels': [0, 0, 0, 0, 0, 0, 0, 0, 0, 0, 0, 0, 0, 0, 0, 0, 0, 0, 0, 0, 0, 0, 0, 0], 'time': 10000000, 'opcode': 'CONTINUE', 'instdata': 0}\n",
      "{'label': '', 'channels': [0, 0, 0, 0, 0, 0, 0, 0, 0, 0, 0, 0, 0, 0, 0, 0, 0, 0, 0, 0, 0, 1, 1, 1], 'time': 10000000, 'opcode': 'CONTINUE', 'instdata': 0}\n",
      "{'label': '', 'channels': [0, 0, 0, 0, 0, 0, 0, 0, 0, 0, 0, 0, 0, 0, 0, 0, 0, 0, 0, 0, 0, 0, 0, 0], 'time': 10000000, 'opcode': 'CONTINUE', 'instdata': 0}\n",
      "{'label': '', 'channels': [0, 0, 0, 0, 0, 0, 0, 0, 0, 0, 0, 0, 0, 0, 0, 0, 0, 0, 0, 0, 0, 1, 1, 1], 'time': 10000000, 'opcode': 'CONTINUE', 'instdata': 0}\n",
      "{'label': '', 'channels': [0, 0, 0, 0, 0, 0, 0, 0, 0, 0, 0, 0, 0, 0, 0, 0, 0, 0, 0, 0, 0, 0, 0, 0], 'time': 10000000, 'opcode': 'CONTINUE', 'instdata': 0}\n",
      "{'label': '', 'channels': [0, 1, 0, 0, 0, 0, 0, 0, 0, 0, 0, 0, 0, 0, 0, 0, 0, 0, 0, 0, 0, 1, 1, 1], 'time': 10000000, 'opcode': 'CONTINUE', 'instdata': 0}\n",
      "{'label': '', 'channels': [0, 0, 0, 0, 0, 0, 0, 0, 0, 0, 0, 0, 0, 0, 0, 0, 0, 0, 0, 0, 0, 0, 0, 0], 'time': 10000000, 'opcode': 'CONTINUE', 'instdata': 0}\n",
      "{'label': '', 'channels': [0, 1, 0, 0, 0, 0, 0, 0, 0, 0, 0, 0, 0, 0, 0, 0, 0, 0, 0, 0, 0, 1, 1, 1], 'time': 10000000, 'opcode': 'CONTINUE', 'instdata': 0}\n",
      "{'label': '', 'channels': [0, 0, 0, 0, 0, 0, 0, 0, 0, 0, 0, 0, 0, 0, 0, 0, 0, 0, 0, 0, 0, 0, 0, 0], 'time': 10000000, 'opcode': 'CONTINUE', 'instdata': 0}\n",
      "{'label': '', 'channels': [0, 1, 0, 0, 0, 0, 0, 0, 0, 0, 0, 0, 0, 0, 0, 0, 0, 0, 0, 0, 0, 1, 1, 1], 'time': 10000000, 'opcode': 'CONTINUE', 'instdata': 0}\n",
      "{'label': '', 'channels': [0, 0, 0, 0, 0, 0, 0, 0, 0, 0, 0, 0, 0, 0, 0, 0, 0, 0, 0, 0, 0, 0, 0, 0], 'time': 10000000, 'opcode': 'CONTINUE', 'instdata': 0}\n",
      "{'label': '', 'channels': [0, 0, 0, 0, 0, 0, 0, 0, 0, 0, 0, 0, 0, 0, 0, 0, 0, 0, 0, 0, 0, 1, 1, 1], 'time': 10000000, 'opcode': 'CONTINUE', 'instdata': 0}\n",
      "{'label': '', 'channels': [0, 0, 0, 0, 0, 0, 0, 0, 0, 0, 0, 0, 0, 0, 0, 0, 0, 0, 0, 0, 0, 0, 0, 0], 'time': 10000000, 'opcode': 'CONTINUE', 'instdata': 0}\n",
      "{'label': '', 'channels': [0, 0, 0, 0, 0, 0, 0, 0, 0, 0, 0, 0, 0, 0, 0, 0, 0, 0, 0, 0, 0, 1, 1, 1], 'time': 10000000, 'opcode': 'CONTINUE', 'instdata': 0}\n",
      "{'label': '', 'channels': [0, 0, 0, 0, 0, 0, 0, 0, 0, 0, 0, 0, 0, 0, 0, 0, 0, 0, 0, 0, 0, 0, 0, 0], 'time': 7995000, 'opcode': 'CONTINUE', 'instdata': 0}\n",
      "{'label': '', 'channels': [0, 0, 0, 0, 0, 0, 0, 0, 0, 0, 0, 0, 0, 0, 0, 0, 0, 0, 0, 0, 0, 0, 0, 0], 'time': 5000, 'opcode': 'BRANCH', 'instdata': 0}\n"
     ]
    },
    {
     "data": {
      "image/png": "[encoded data removed]",
      "text/plain": [
       "<Figure size 1296x185.143 with 1 Axes>"
      ]
     },
     "metadata": {
      "needs_background": "light"
     },
     "output_type": "display_data"
    }
   ],
   "source": [
    "trigger = {'frequency':2, 'offset':0, 'high': int(round(10e-3/1e-9,2)), 'channels':[0], \n",
    "           'active_high':True}\n",
    "flashlamp = {'frequency':50, 'offset':int(round(2e-3/1e-9,2)), 'high': int(round(10e-3/1e-9,2)), 'channels':[1], \n",
    "             'active_high':True}\n",
    "qswitch = {'frequency':2, 'offset':int(round(2e-3/1e-9,2))+int(round(215e-6/1e-9,2)), 'high':int(round(10e-3/1e-9,2)), 'channels':[2], \n",
    "           'active_high':True}\n",
    "\n",
    "flashlamp_mask = {'frequency':10, 'offset':int(round(2e-3/1e-9,2)), 'channels':[1]}\n",
    "\n",
    "t, c, sequence = generate_repeating_pulses([trigger, flashlamp, qswitch], [flashlamp_mask])\n",
    "\n",
    "programmer = PulseSequenceProgrammer(0, sequence, {})\n",
    "programmer.program_device()\n",
    "pb_start()\n",
    "\n",
    "for s in sequence:\n",
    "    print(s)\n",
    "    \n",
    "tcum = np.cumsum(np.array(t)/1e9)\n",
    "c = np.array(c)[:,:21]\n",
    "select = np.where(np.sum(c, axis = 0) != 0)[0]\n",
    "c = c[:,select]\n",
    "channels = None\n",
    "if isinstance(channels, type(None)) or (len(channels) != len(select)):\n",
    "    channels = ['CH '+str(i) for i in select]\n",
    "fig, ax = plt.subplots(figsize = (18,18/21*len(select)))\n",
    "for ids, s in enumerate(c.T):\n",
    "    ax.step(tcum,s+1.3*ids, lw = 3)\n",
    "ax.get_yaxis().set_ticks([])\n",
    "ax.legend(channels, fontsize = 15)\n",
    "ax.set_xlabel('time [s]', fontsize = 15)\n",
    "ax.tick_params(axis='both', which='major', labelsize=15)\n",
    "ax.tick_params(axis='both', which='minor', labelsize=12)\n",
    "ax.xaxis.get_offset_text().set_size(15)"
   ]
  },
  {
   "cell_type": "code",
   "execution_count": null,
   "metadata": {},
   "outputs": [],
   "source": []
  }
 ],
 "metadata": {
  "kernelspec": {
   "display_name": "Python 3",
   "language": "python",
   "name": "python3"
  },
  "language_info": {
   "codemirror_mode": {
    "name": "ipython",
    "version": 3
   },
   "file_extension": ".py",
   "mimetype": "text/x-python",
   "name": "python",
   "nbconvert_exporter": "python",
   "pygments_lexer": "ipython3",
   "version": "3.7.2"
  }
 },
 "nbformat": 4,
 "nbformat_minor": 2
}
