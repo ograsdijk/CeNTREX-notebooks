{
 "cells": [
  {
   "cell_type": "markdown",
   "id": "0709623c-e1c5-4975-ad54-014ba0c22de3",
   "metadata": {},
   "source": [
    "# Multipass with mirrors instead of prisms"
   ]
  },
  {
   "cell_type": "code",
   "execution_count": 1,
   "id": "d4e7fd92-c66f-44e7-bff5-bffc6a94513d",
   "metadata": {},
   "outputs": [],
   "source": [
    "import numpy as np\n",
    "import pandas as pd\n",
    "import seaborn as sns\n",
    "from astropy import units\n",
    "import matplotlib.pyplot as plt\n",
    "from centrex_TlF.utils import detuning"
   ]
  },
  {
   "cell_type": "markdown",
   "id": "987c20d0-ec1e-4c62-aae9-f5a40a335a28",
   "metadata": {
    "tags": []
   },
   "source": [
    "# Parameter Definitions"
   ]
  },
  {
   "cell_type": "code",
   "execution_count": 2,
   "id": "435cdd1c-b379-41ea-8245-bf3d600d5dd6",
   "metadata": {},
   "outputs": [],
   "source": [
    "vz = 184\n",
    "vzσ = 16\n",
    "vp = 0\n",
    "vpσ = 2\n",
    "\n",
    "λ = 271.7 * units.nm\n",
    "f = λ.to(units.Hz, equivalencies=units.spectral())  "
   ]
  },
  {
   "cell_type": "markdown",
   "id": "d4fa5cac-d44a-40f0-baa8-bbf3af9ef561",
   "metadata": {
    "tags": []
   },
   "source": [
    "# Analytical\n",
    "\n",
    "Any angle $\\theta$ between the forward velocity $v_z$ and laser beam generates a velocity component along the laser direction, equal to $v_{pl} = v_z \\cdot \\sin\\theta$. If $v_z$ has a Gaussian distribution this is still valid and the new distribution has a mean of $\\mu(v_z) \\cdot \\sin\\theta$ and an std of $\\sigma(v_z) \\cdot \\sin\\theta$.\n",
    "\n",
    "For an existing perpendicular velocity component $v_\\perp$ (i.e. a molecular beam spread), the forward component velocity component contribution along the laser  that is normal and has a mean of $\\mu(v_z) \\cdot \\sin\\theta$ and an std of $\\sigma(v_z) \\cdot \\sin\\theta$. The existing perpendicular velocity $v_\\perp$ contributes $\\mu(v_\\perp) \\cdot \\cos\\theta$ and an std of $\\sigma(v_\\perp) \\cdot \\cos\\theta$. So the total contribution along the laser direction is given by a normal distribution with:\n",
    "* mean : $\\mu(v_z) \\cdot \\sin\\theta + \\mu(v_\\perp) \\cdot \\cos{\\theta}$\n",
    "* std: $\\sqrt{(\\sigma(v_z) \\cdot \\sin\\theta)^2 + (\\sigma(v_\\perp) \\cdot \\cos\\theta)^2}$\n",
    "\n",
    "## Velocity to detuning\n",
    "$f = f_0 (1 + v/c)$, e.g. the detuning is $\\delta = f_0 \\cdot v/c$, which for UV at $271.7$ nm ($1103.3951$ THz) is given by:\n",
    "\n",
    "$\\delta = f_0 \\cdot v/c = 3.68 * v $ [MHz for $v$ in m/s]"
   ]
  },
  {
   "cell_type": "markdown",
   "id": "8deb819e-f4f8-4b3a-ab60-eb1da831f54b",
   "metadata": {},
   "source": [
    "## Calculations\n",
    "\n",
    "### Zig-zag aligned with the molecular beam"
   ]
  },
  {
   "cell_type": "code",
   "execution_count": 3,
   "id": "d33c16f7-cb79-40d7-b55a-61c6fcb9da8b",
   "metadata": {},
   "outputs": [],
   "source": [
    "def get_mean_std(θ: float, μvz: float, σvz: float, μvp: float, σvp: float):\n",
    "    return μvz*np.sin(θ) + μvp*np.cos(θ), np.sqrt( (σvz*np.sin(θ))**2 + (σvp*np.cos(θ))**2 )"
   ]
  },
  {
   "cell_type": "code",
   "execution_count": 4,
   "id": "6c2d5ab3-0804-43b9-862e-77dff3a67bf1",
   "metadata": {},
   "outputs": [
    {
     "name": "stdout",
     "output_type": "stream",
     "text": [
      "================================\n",
      "0.0 degrees\n",
      "1st pass :  0.00 +/- 2.00 m/s\n",
      "2nd pass :  0.00 +/- 2.00 m/s\n",
      "================================\n",
      "0.5 degrees\n",
      "1st pass :  1.61 +/- 2.00 m/s\n",
      "2nd pass : -1.61 +/- 2.00 m/s\n",
      "================================\n",
      "1.0 degrees\n",
      "1st pass :  3.21 +/- 2.02 m/s\n",
      "2nd pass : -3.21 +/- 2.02 m/s\n",
      "================================\n",
      "1.5 degrees\n",
      "1st pass :  4.82 +/- 2.04 m/s\n",
      "2nd pass : -4.82 +/- 2.04 m/s\n",
      "================================\n",
      "2.0 degrees\n",
      "1st pass :  6.42 +/- 2.08 m/s\n",
      "2nd pass : -6.42 +/- 2.08 m/s\n"
     ]
    }
   ],
   "source": [
    "for θ in np.linspace(0, 2, 5):\n",
    "    print(\"==\"*16)\n",
    "    print(f\"{θ:.1f} degrees\")\n",
    "    μ, σ = get_mean_std(np.deg2rad(θ), vz, vzσ, vp, vpσ)\n",
    "    print(f\"1st pass : {μ:>5.2f} +/- {σ:.2f} m/s\")\n",
    "    μ, σ = get_mean_std(np.deg2rad(-θ), vz, vzσ, vp, vpσ)\n",
    "    print(f\"2nd pass : {μ:>5.2f} +/- {σ:.2f} m/s\")"
   ]
  },
  {
   "cell_type": "code",
   "execution_count": 5,
   "id": "eb86a388-4daf-4024-8897-e78c860e0558",
   "metadata": {},
   "outputs": [
    {
     "name": "stdout",
     "output_type": "stream",
     "text": [
      "================================\n",
      "0.0 degrees\n",
      "1st pass :   0.00 +/- 7.36 MHz\n",
      "2nd pass :   0.00 +/- 7.36 MHz\n",
      "================================\n",
      "0.5 degrees\n",
      "1st pass :   5.91 +/- 7.38 MHz\n",
      "2nd pass :  -5.91 +/- 7.38 MHz\n",
      "================================\n",
      "1.0 degrees\n",
      "1st pass :  11.82 +/- 7.43 MHz\n",
      "2nd pass : -11.82 +/- 7.43 MHz\n",
      "================================\n",
      "1.5 degrees\n",
      "1st pass :  17.73 +/- 7.52 MHz\n",
      "2nd pass : -17.73 +/- 7.52 MHz\n",
      "================================\n",
      "2.0 degrees\n",
      "1st pass :  23.63 +/- 7.64 MHz\n",
      "2nd pass : -23.63 +/- 7.64 MHz\n"
     ]
    }
   ],
   "source": [
    "for θ in np.linspace(0, 2, 5):\n",
    "    print(\"==\"*16)\n",
    "    print(f\"{θ:.1f} degrees\")\n",
    "    μ, σ = get_mean_std(np.deg2rad(θ), vz, vzσ, vp, vpσ)\n",
    "    μ, σ = (\n",
    "        detuning.velocity_to_detuning(μ, f.value, 2*np.pi) / 1e6,\n",
    "        detuning.velocity_to_detuning(σ, f.value, 2*np.pi) / 1e6 \n",
    "    )\n",
    "    print(f\"1st pass : {μ:>6.2f} +/- {σ:.2f} MHz\")\n",
    "    μ, σ = get_mean_std(np.deg2rad(-θ), vz, vzσ, vp, vpσ)\n",
    "    μ, σ = (\n",
    "        detuning.velocity_to_detuning(μ, f.value, 2*np.pi) / 1e6,\n",
    "        detuning.velocity_to_detuning(σ, f.value, 2*np.pi) / 1e6 \n",
    "    )\n",
    "    print(f\"2nd pass : {μ:>6.2f} +/- {σ:.2f} MHz\")"
   ]
  },
  {
   "cell_type": "markdown",
   "id": "0c14c002-a49f-4b80-8622-966138465e9a",
   "metadata": {},
   "source": [
    "### Zig-zag misaligned with the molecular beam"
   ]
  },
  {
   "cell_type": "code",
   "execution_count": 6,
   "id": "3a65d62a-89b0-4615-93bf-f8f40a104dc5",
   "metadata": {},
   "outputs": [
    {
     "name": "stdout",
     "output_type": "stream",
     "text": [
      "================================\n",
      "0.0 degrees\n",
      "1st pass :  5.91 +/- 7.38 MHz\n",
      "2nd pass : -5.91 +/- 7.38 MHz\n",
      "================================\n",
      "0.5 degrees\n",
      "1st pass : 11.82 +/- 7.43 MHz\n",
      "2nd pass :  0.00 +/- 7.36 MHz\n",
      "================================\n",
      "1.0 degrees\n",
      "1st pass : 17.73 +/- 7.52 MHz\n",
      "2nd pass :  5.91 +/- 7.38 MHz\n",
      "================================\n",
      "1.5 degrees\n",
      "1st pass : 23.63 +/- 7.64 MHz\n",
      "2nd pass : 11.82 +/- 7.43 MHz\n",
      "================================\n",
      "2.0 degrees\n",
      "1st pass : 29.54 +/- 7.79 MHz\n",
      "2nd pass : 17.73 +/- 7.52 MHz\n"
     ]
    }
   ],
   "source": [
    "mis_alignment = 0.5\n",
    "\n",
    "for θ in np.linspace(0, 2, 5):\n",
    "    print(\"==\"*16)\n",
    "    print(f\"{θ:.1f} degrees\")\n",
    "    μ, σ = get_mean_std(np.deg2rad(θ+mis_alignment), vz, vzσ, vp, vpσ)\n",
    "    μ, σ = (\n",
    "        detuning.velocity_to_detuning(μ, f.value, 2*np.pi) / 1e6,\n",
    "        detuning.velocity_to_detuning(σ, f.value, 2*np.pi) / 1e6 \n",
    "    )\n",
    "    print(f\"1st pass : {μ:>5.2f} +/- {σ:.2f} MHz\")\n",
    "    μ, σ = get_mean_std(np.deg2rad(θ-mis_alignment), vz, vzσ, vp, vpσ)\n",
    "    μ, σ = (\n",
    "        detuning.velocity_to_detuning(μ, f.value, 2*np.pi) / 1e6,\n",
    "        detuning.velocity_to_detuning(σ, f.value, 2*np.pi) / 1e6 \n",
    "    )\n",
    "    print(f\"2nd pass : {μ:>5.2f} +/- {σ:.2f} MHz\")\n"
   ]
  },
  {
   "cell_type": "markdown",
   "id": "b967f798-64f8-4c0e-bcab-27534461ff60",
   "metadata": {},
   "source": [
    "## Conclusion\n",
    "\n",
    "The mirrors are roughly 25\" apart, and the windows are 2\" wide, e.g. a maximum angle of $4.6^\\circ$ if the beam starts at one edge and exits at the other. We can align much better so an angle of $\\leq 0.5^\\circ$ is realistic. This would mean a central detuning of $\\pm 6$ MHz per pass, and a standard deviation that is effectively unchanged from the $0^\\circ$ case.\n",
    "\n",
    "A misalignment of the zig-zag with the beam would just shift the center of the detuned peaks (to 1st order), not a problem."
   ]
  },
  {
   "cell_type": "markdown",
   "id": "73ba1385-4b7e-4681-bbaf-ff91347c5cc2",
   "metadata": {},
   "source": [
    "# Simulated Monte Carlo"
   ]
  },
  {
   "cell_type": "code",
   "execution_count": 7,
   "id": "6c5a26ed-3142-4a4a-a735-4599640446b1",
   "metadata": {},
   "outputs": [],
   "source": [
    "n_trajectories = 50_000\n",
    "\n",
    "vforward = np.random.normal(loc = vz, scale = vzσ, size = n_trajectories)\n",
    "vperpendicular = np.random.normal(loc = vp, scale = vpσ, size = n_trajectories)"
   ]
  },
  {
   "cell_type": "markdown",
   "id": "5f4f03a3-c3c2-4047-9b54-1c2981ae0d95",
   "metadata": {},
   "source": [
    "## Zig-zag aligned with the molecular beam"
   ]
  },
  {
   "cell_type": "code",
   "execution_count": 8,
   "id": "9867dd95-6061-475f-84ef-5eddf9da6bd4",
   "metadata": {
    "tags": []
   },
   "outputs": [],
   "source": [
    "df = pd.DataFrame()\n",
    "for θ in np.linspace(0, 2, 5):\n",
    "    v_detuning = np.sin(np.arcsin(vperpendicular/vforward) + np.deg2rad(θ)) * np.sqrt(vforward**2 + vperpendicular**2)\n",
    "    df = pd.concat([df, pd.DataFrame({θ: v_detuning})], axis = 1)"
   ]
  },
  {
   "cell_type": "code",
   "execution_count": 9,
   "id": "58ddd11f-d623-4b4e-8e58-1e78dc046789",
   "metadata": {},
   "outputs": [
    {
     "data": {
      "text/html": [
       "<div>\n",
       "<style scoped>\n",
       "    .dataframe tbody tr th:only-of-type {\n",
       "        vertical-align: middle;\n",
       "    }\n",
       "\n",
       "    .dataframe tbody tr th {\n",
       "        vertical-align: top;\n",
       "    }\n",
       "\n",
       "    .dataframe thead th {\n",
       "        text-align: right;\n",
       "    }\n",
       "</style>\n",
       "<table border=\"1\" class=\"dataframe\">\n",
       "  <thead>\n",
       "    <tr style=\"text-align: right;\">\n",
       "      <th></th>\n",
       "      <th>0.0</th>\n",
       "      <th>0.5</th>\n",
       "      <th>1.0</th>\n",
       "      <th>1.5</th>\n",
       "      <th>2.0</th>\n",
       "    </tr>\n",
       "  </thead>\n",
       "  <tbody>\n",
       "    <tr>\n",
       "      <th>mean</th>\n",
       "      <td>-0.012926</td>\n",
       "      <td>1.592680</td>\n",
       "      <td>3.198165</td>\n",
       "      <td>4.803406</td>\n",
       "      <td>6.408281</td>\n",
       "    </tr>\n",
       "    <tr>\n",
       "      <th>std</th>\n",
       "      <td>1.993396</td>\n",
       "      <td>1.997209</td>\n",
       "      <td>2.010510</td>\n",
       "      <td>2.033110</td>\n",
       "      <td>2.064697</td>\n",
       "    </tr>\n",
       "    <tr>\n",
       "      <th>25%</th>\n",
       "      <td>-1.342679</td>\n",
       "      <td>0.261163</td>\n",
       "      <td>1.852524</td>\n",
       "      <td>3.441013</td>\n",
       "      <td>5.019424</td>\n",
       "    </tr>\n",
       "    <tr>\n",
       "      <th>50%</th>\n",
       "      <td>-0.017885</td>\n",
       "      <td>1.586446</td>\n",
       "      <td>3.193751</td>\n",
       "      <td>4.803986</td>\n",
       "      <td>6.409111</td>\n",
       "    </tr>\n",
       "    <tr>\n",
       "      <th>75%</th>\n",
       "      <td>1.320708</td>\n",
       "      <td>2.925707</td>\n",
       "      <td>4.547228</td>\n",
       "      <td>6.173105</td>\n",
       "      <td>7.799895</td>\n",
       "    </tr>\n",
       "  </tbody>\n",
       "</table>\n",
       "</div>"
      ],
      "text/plain": [
       "           0.0       0.5       1.0       1.5       2.0\n",
       "mean -0.012926  1.592680  3.198165  4.803406  6.408281\n",
       "std   1.993396  1.997209  2.010510  2.033110  2.064697\n",
       "25%  -1.342679  0.261163  1.852524  3.441013  5.019424\n",
       "50%  -0.017885  1.586446  3.193751  4.803986  6.409111\n",
       "75%   1.320708  2.925707  4.547228  6.173105  7.799895"
      ]
     },
     "execution_count": 9,
     "metadata": {},
     "output_type": "execute_result"
    }
   ],
   "source": [
    "df.describe().loc[['mean', 'std', '25%', '50%', '75%']]"
   ]
  },
  {
   "cell_type": "code",
   "execution_count": 10,
   "id": "4c5036e3-46fd-450e-9041-ff379eda592f",
   "metadata": {},
   "outputs": [],
   "source": [
    "df = pd.DataFrame()\n",
    "for θ in np.linspace(0, 2, 5):\n",
    "    v_detuning = np.sin(np.arcsin(vperpendicular/vforward) + np.deg2rad(θ)) * np.sqrt(vforward**2 + vperpendicular**2)\n",
    "    df = pd.concat([df, pd.DataFrame({'v detuning': v_detuning, 'θ': np.ones(n_trajectories)*θ})], axis = 0)"
   ]
  },
  {
   "cell_type": "code",
   "execution_count": 11,
   "id": "403085b3-f62c-407a-ab71-5601923feecc",
   "metadata": {},
   "outputs": [
    {
     "data": {
      "text/html": [
       "<div>\n",
       "<style scoped>\n",
       "    .dataframe tbody tr th:only-of-type {\n",
       "        vertical-align: middle;\n",
       "    }\n",
       "\n",
       "    .dataframe tbody tr th {\n",
       "        vertical-align: top;\n",
       "    }\n",
       "\n",
       "    .dataframe thead th {\n",
       "        text-align: right;\n",
       "    }\n",
       "</style>\n",
       "<table border=\"1\" class=\"dataframe\">\n",
       "  <thead>\n",
       "    <tr style=\"text-align: right;\">\n",
       "      <th></th>\n",
       "      <th>mean</th>\n",
       "      <th>std</th>\n",
       "    </tr>\n",
       "    <tr>\n",
       "      <th>θ</th>\n",
       "      <th></th>\n",
       "      <th></th>\n",
       "    </tr>\n",
       "  </thead>\n",
       "  <tbody>\n",
       "    <tr>\n",
       "      <th>0.0</th>\n",
       "      <td>-0.047574</td>\n",
       "      <td>7.336755</td>\n",
       "    </tr>\n",
       "    <tr>\n",
       "      <th>0.5</th>\n",
       "      <td>5.861907</td>\n",
       "      <td>7.350787</td>\n",
       "    </tr>\n",
       "    <tr>\n",
       "      <th>1.0</th>\n",
       "      <td>11.770941</td>\n",
       "      <td>7.399744</td>\n",
       "    </tr>\n",
       "    <tr>\n",
       "      <th>1.5</th>\n",
       "      <td>17.679079</td>\n",
       "      <td>7.482923</td>\n",
       "    </tr>\n",
       "    <tr>\n",
       "      <th>2.0</th>\n",
       "      <td>23.585871</td>\n",
       "      <td>7.599178</td>\n",
       "    </tr>\n",
       "  </tbody>\n",
       "</table>\n",
       "</div>"
      ],
      "text/plain": [
       "          mean       std\n",
       "θ                       \n",
       "0.0  -0.047574  7.336755\n",
       "0.5   5.861907  7.350787\n",
       "1.0  11.770941  7.399744\n",
       "1.5  17.679079  7.482923\n",
       "2.0  23.585871  7.599178"
      ]
     },
     "execution_count": 11,
     "metadata": {},
     "output_type": "execute_result"
    }
   ],
   "source": [
    "df['v detuning MHz'] = df['v detuning'].apply(lambda x: detuning.velocity_to_detuning(x, f.value, 2*np.pi)) / 1e6\n",
    "\n",
    "df.groupby('θ').describe()['v detuning MHz'][['mean', 'std']]"
   ]
  },
  {
   "cell_type": "code",
   "execution_count": 12,
   "id": "6a8d7174-ba20-42e0-a075-3539fac8d5dc",
   "metadata": {},
   "outputs": [
    {
     "data": {
      "image/png": "[encoded data removed]",
      "text/plain": [
       "<Figure size 720x360 with 5 Axes>"
      ]
     },
     "metadata": {},
     "output_type": "display_data"
    }
   ],
   "source": [
    "sns.set_theme(style=\"white\", rc={\"axes.facecolor\": (0, 0, 0, 0)})\n",
    "# Initialize the FacetGrid object\n",
    "pal = sns.cubehelix_palette(5, rot=-.25, light=.7)\n",
    "g = sns.FacetGrid(df, row=\"θ\", hue=\"θ\", aspect=10, height=1, palette=pal)\n",
    "\n",
    "# Draw the densities in a few steps\n",
    "g.map(sns.kdeplot, \"v detuning\",\n",
    "      bw_adjust=.5, clip_on=False,\n",
    "      fill=True, alpha=1, linewidth=1.5)\n",
    "g.map(sns.kdeplot, \"v detuning\", clip_on=False, color=\"w\", lw=2, bw_adjust=.5)\n",
    "\n",
    "# passing color=None to refline() uses the hue mapping\n",
    "g.refline(y=0, linewidth=2, linestyle=\"-\", color=None, clip_on=False)\n",
    "\n",
    "# Define and use a simple function to label the plot in axes coordinates\n",
    "def label(x, color, label):\n",
    "    ax = plt.gca()\n",
    "    ax.text(0, .2, f\"{label}°\", fontweight=\"bold\", color=color,\n",
    "            ha=\"left\", va=\"center\", transform=ax.transAxes)\n",
    "\n",
    "\n",
    "g.map(label, \"v detuning\")\n",
    "\n",
    "# Set the subplots to overlap\n",
    "g.figure.subplots_adjust(hspace=-.25)\n",
    "\n",
    "# Remove axes details that don't play well with overlap\n",
    "g.set_titles(\"\")\n",
    "g.set(yticks=[], ylabel=\"\")\n",
    "g.despine(bottom=True, left=True);"
   ]
  },
  {
   "cell_type": "code",
   "execution_count": 13,
   "id": "5f12b04c-8394-47ff-9c61-321a175a7b07",
   "metadata": {},
   "outputs": [
    {
     "data": {
      "image/png": "[encoded data removed]",
      "text/plain": [
       "<Figure size 720x360 with 5 Axes>"
      ]
     },
     "metadata": {},
     "output_type": "display_data"
    }
   ],
   "source": [
    "sns.set_theme(style=\"white\", rc={\"axes.facecolor\": (0, 0, 0, 0)})\n",
    "# Initialize the FacetGrid object\n",
    "pal = sns.cubehelix_palette(5, rot=-.25, light=.7)\n",
    "g = sns.FacetGrid(df, row=\"θ\", hue=\"θ\", aspect=10, height=1, palette=pal)\n",
    "\n",
    "# Draw the densities in a few steps\n",
    "g.map(sns.kdeplot, \"v detuning MHz\",\n",
    "      bw_adjust=.5, clip_on=False,\n",
    "      fill=True, alpha=1, linewidth=1.5)\n",
    "g.map(sns.kdeplot, \"v detuning MHz\", clip_on=False, color=\"w\", lw=2, bw_adjust=.5)\n",
    "\n",
    "# passing color=None to refline() uses the hue mapping\n",
    "g.refline(y=0, linewidth=2, linestyle=\"-\", color=None, clip_on=False)\n",
    "\n",
    "# Define and use a simple function to label the plot in axes coordinates\n",
    "def label(x, color, label):\n",
    "    ax = plt.gca()\n",
    "    ax.text(0, .2, f\"{label}°\", fontweight=\"bold\", color=color,\n",
    "            ha=\"left\", va=\"center\", transform=ax.transAxes)\n",
    "\n",
    "\n",
    "g.map(label, \"v detuning MHz\")\n",
    "\n",
    "# Set the subplots to overlap\n",
    "g.figure.subplots_adjust(hspace=-.25)\n",
    "\n",
    "# Remove axes details that don't play well with overlap\n",
    "g.set_titles(\"\")\n",
    "g.set(yticks=[], ylabel=\"\")\n",
    "g.despine(bottom=True, left=True);"
   ]
  },
  {
   "cell_type": "markdown",
   "id": "87e11e58-3c49-48f2-92a5-ac7baf5d5545",
   "metadata": {},
   "source": [
    "If the laser intersects the molecular beam at the same angle for each pass (e.g. a zig-zag perfectly aligned with the molecular beam) the detunings will alternate between positive and negative per pass.\n",
    "\n",
    "The mirrors are roughly 25\" apart, and the windows are 2\" wide, e.g. a maximum angle of $4.6^\\circ$ if the beam starts at one edge and exits at the other. We can align much better so an angle of $\\leq 0.5^\\circ$ is realistic. This would mean a central detuning of $\\pm 6$ MHz per pass, and a standard deviation that is effectively unchanged from the $0^\\circ$ case"
   ]
  },
  {
   "cell_type": "markdown",
   "id": "faca8782-24d1-4eff-a379-ecce0ade7829",
   "metadata": {},
   "source": [
    "## Zig-zag misaligned with the molecular beam\n",
    "Assume the first pass has an increase angle due to the `mis_alignment` angle"
   ]
  },
  {
   "cell_type": "code",
   "execution_count": 14,
   "id": "1fb325f6-fd05-428d-b71e-81cacf823801",
   "metadata": {},
   "outputs": [],
   "source": [
    "mis_alignment = 0.5"
   ]
  },
  {
   "cell_type": "markdown",
   "id": "9770b5ed-0d8c-42bc-93f8-fa58037e9b2e",
   "metadata": {},
   "source": [
    "### Even passes"
   ]
  },
  {
   "cell_type": "code",
   "execution_count": 15,
   "id": "7c2f01bb-884f-4fa7-b037-bb4dbbdbc1fa",
   "metadata": {},
   "outputs": [
    {
     "data": {
      "text/html": [
       "<div>\n",
       "<style scoped>\n",
       "    .dataframe tbody tr th:only-of-type {\n",
       "        vertical-align: middle;\n",
       "    }\n",
       "\n",
       "    .dataframe tbody tr th {\n",
       "        vertical-align: top;\n",
       "    }\n",
       "\n",
       "    .dataframe thead th {\n",
       "        text-align: right;\n",
       "    }\n",
       "</style>\n",
       "<table border=\"1\" class=\"dataframe\">\n",
       "  <thead>\n",
       "    <tr style=\"text-align: right;\">\n",
       "      <th></th>\n",
       "      <th>0.0</th>\n",
       "      <th>0.5</th>\n",
       "      <th>1.0</th>\n",
       "      <th>1.5</th>\n",
       "      <th>2.0</th>\n",
       "    </tr>\n",
       "  </thead>\n",
       "  <tbody>\n",
       "    <tr>\n",
       "      <th>mean</th>\n",
       "      <td>1.592680</td>\n",
       "      <td>3.198165</td>\n",
       "      <td>4.803406</td>\n",
       "      <td>6.408281</td>\n",
       "      <td>8.012668</td>\n",
       "    </tr>\n",
       "    <tr>\n",
       "      <th>std</th>\n",
       "      <td>1.997209</td>\n",
       "      <td>2.010510</td>\n",
       "      <td>2.033110</td>\n",
       "      <td>2.064697</td>\n",
       "      <td>2.104856</td>\n",
       "    </tr>\n",
       "    <tr>\n",
       "      <th>25%</th>\n",
       "      <td>0.261163</td>\n",
       "      <td>1.852524</td>\n",
       "      <td>3.441013</td>\n",
       "      <td>5.019424</td>\n",
       "      <td>6.595499</td>\n",
       "    </tr>\n",
       "    <tr>\n",
       "      <th>50%</th>\n",
       "      <td>1.586446</td>\n",
       "      <td>3.193751</td>\n",
       "      <td>4.803986</td>\n",
       "      <td>6.409111</td>\n",
       "      <td>8.015421</td>\n",
       "    </tr>\n",
       "    <tr>\n",
       "      <th>75%</th>\n",
       "      <td>2.925707</td>\n",
       "      <td>4.547228</td>\n",
       "      <td>6.173105</td>\n",
       "      <td>7.799895</td>\n",
       "      <td>9.431359</td>\n",
       "    </tr>\n",
       "  </tbody>\n",
       "</table>\n",
       "</div>"
      ],
      "text/plain": [
       "           0.0       0.5       1.0       1.5       2.0\n",
       "mean  1.592680  3.198165  4.803406  6.408281  8.012668\n",
       "std   1.997209  2.010510  2.033110  2.064697  2.104856\n",
       "25%   0.261163  1.852524  3.441013  5.019424  6.595499\n",
       "50%   1.586446  3.193751  4.803986  6.409111  8.015421\n",
       "75%   2.925707  4.547228  6.173105  7.799895  9.431359"
      ]
     },
     "metadata": {},
     "output_type": "display_data"
    },
    {
     "data": {
      "text/html": [
       "<div>\n",
       "<style scoped>\n",
       "    .dataframe tbody tr th:only-of-type {\n",
       "        vertical-align: middle;\n",
       "    }\n",
       "\n",
       "    .dataframe tbody tr th {\n",
       "        vertical-align: top;\n",
       "    }\n",
       "\n",
       "    .dataframe thead th {\n",
       "        text-align: right;\n",
       "    }\n",
       "</style>\n",
       "<table border=\"1\" class=\"dataframe\">\n",
       "  <thead>\n",
       "    <tr style=\"text-align: right;\">\n",
       "      <th></th>\n",
       "      <th>0.0</th>\n",
       "      <th>0.5</th>\n",
       "      <th>1.0</th>\n",
       "      <th>1.5</th>\n",
       "      <th>2.0</th>\n",
       "    </tr>\n",
       "  </thead>\n",
       "  <tbody>\n",
       "    <tr>\n",
       "      <th>mean</th>\n",
       "      <td>5.861907</td>\n",
       "      <td>11.770941</td>\n",
       "      <td>17.679079</td>\n",
       "      <td>23.585871</td>\n",
       "      <td>29.490866</td>\n",
       "    </tr>\n",
       "    <tr>\n",
       "      <th>std</th>\n",
       "      <td>7.350787</td>\n",
       "      <td>7.399744</td>\n",
       "      <td>7.482923</td>\n",
       "      <td>7.599178</td>\n",
       "      <td>7.746984</td>\n",
       "    </tr>\n",
       "    <tr>\n",
       "      <th>25%</th>\n",
       "      <td>0.961220</td>\n",
       "      <td>6.818269</td>\n",
       "      <td>12.664753</td>\n",
       "      <td>18.474140</td>\n",
       "      <td>24.274933</td>\n",
       "    </tr>\n",
       "    <tr>\n",
       "      <th>50%</th>\n",
       "      <td>5.838964</td>\n",
       "      <td>11.754697</td>\n",
       "      <td>17.681216</td>\n",
       "      <td>23.588926</td>\n",
       "      <td>29.500996</td>\n",
       "    </tr>\n",
       "    <tr>\n",
       "      <th>75%</th>\n",
       "      <td>10.768152</td>\n",
       "      <td>16.736210</td>\n",
       "      <td>22.720298</td>\n",
       "      <td>28.707747</td>\n",
       "      <td>34.712400</td>\n",
       "    </tr>\n",
       "  </tbody>\n",
       "</table>\n",
       "</div>"
      ],
      "text/plain": [
       "            0.0        0.5        1.0        1.5        2.0\n",
       "mean   5.861907  11.770941  17.679079  23.585871  29.490866\n",
       "std    7.350787   7.399744   7.482923   7.599178   7.746984\n",
       "25%    0.961220   6.818269  12.664753  18.474140  24.274933\n",
       "50%    5.838964  11.754697  17.681216  23.588926  29.500996\n",
       "75%   10.768152  16.736210  22.720298  28.707747  34.712400"
      ]
     },
     "metadata": {},
     "output_type": "display_data"
    }
   ],
   "source": [
    "df = pd.DataFrame()\n",
    "for θ in np.linspace(0, 2, 5):\n",
    "    v_detuning = np.sin(np.arcsin(vperpendicular/vforward) + np.deg2rad(θ) + np.deg2rad(mis_alignment)) * np.sqrt(vforward**2 + vperpendicular**2)\n",
    "    df = pd.concat([df, pd.DataFrame({θ: v_detuning})], axis = 1)\n",
    "display(df.describe().loc[['mean', 'std', '25%', '50%', '75%']])\n",
    "df = df.apply(lambda x: detuning.velocity_to_detuning(x, f.value, 2*np.pi)) / 1e6\n",
    "display(df.describe().loc[['mean', 'std', '25%', '50%', '75%']])"
   ]
  },
  {
   "cell_type": "markdown",
   "id": "993fa374-de36-4d80-b567-59c599cb98a0",
   "metadata": {},
   "source": [
    "### Odd Passes"
   ]
  },
  {
   "cell_type": "code",
   "execution_count": 16,
   "id": "fe578ee8-ccfd-48d8-a61f-6c944a2e7847",
   "metadata": {},
   "outputs": [
    {
     "data": {
      "text/html": [
       "<div>\n",
       "<style scoped>\n",
       "    .dataframe tbody tr th:only-of-type {\n",
       "        vertical-align: middle;\n",
       "    }\n",
       "\n",
       "    .dataframe tbody tr th {\n",
       "        vertical-align: top;\n",
       "    }\n",
       "\n",
       "    .dataframe thead th {\n",
       "        text-align: right;\n",
       "    }\n",
       "</style>\n",
       "<table border=\"1\" class=\"dataframe\">\n",
       "  <thead>\n",
       "    <tr style=\"text-align: right;\">\n",
       "      <th></th>\n",
       "      <th>0.0</th>\n",
       "      <th>0.5</th>\n",
       "      <th>1.0</th>\n",
       "      <th>1.5</th>\n",
       "      <th>2.0</th>\n",
       "    </tr>\n",
       "  </thead>\n",
       "  <tbody>\n",
       "    <tr>\n",
       "      <th>mean</th>\n",
       "      <td>-1.618531</td>\n",
       "      <td>-0.012926</td>\n",
       "      <td>1.592680</td>\n",
       "      <td>3.198165</td>\n",
       "      <td>4.803406</td>\n",
       "    </tr>\n",
       "    <tr>\n",
       "      <th>std</th>\n",
       "      <td>1.999128</td>\n",
       "      <td>1.993396</td>\n",
       "      <td>1.997209</td>\n",
       "      <td>2.010510</td>\n",
       "      <td>2.033110</td>\n",
       "    </tr>\n",
       "    <tr>\n",
       "      <th>25%</th>\n",
       "      <td>-2.954404</td>\n",
       "      <td>-1.342679</td>\n",
       "      <td>0.261163</td>\n",
       "      <td>1.852524</td>\n",
       "      <td>3.441013</td>\n",
       "    </tr>\n",
       "    <tr>\n",
       "      <th>50%</th>\n",
       "      <td>-1.622538</td>\n",
       "      <td>-0.017885</td>\n",
       "      <td>1.586446</td>\n",
       "      <td>3.193751</td>\n",
       "      <td>4.803986</td>\n",
       "    </tr>\n",
       "    <tr>\n",
       "      <th>75%</th>\n",
       "      <td>-0.277676</td>\n",
       "      <td>1.320708</td>\n",
       "      <td>2.925707</td>\n",
       "      <td>4.547228</td>\n",
       "      <td>6.173105</td>\n",
       "    </tr>\n",
       "  </tbody>\n",
       "</table>\n",
       "</div>"
      ],
      "text/plain": [
       "           0.0       0.5       1.0       1.5       2.0\n",
       "mean -1.618531 -0.012926  1.592680  3.198165  4.803406\n",
       "std   1.999128  1.993396  1.997209  2.010510  2.033110\n",
       "25%  -2.954404 -1.342679  0.261163  1.852524  3.441013\n",
       "50%  -1.622538 -0.017885  1.586446  3.193751  4.803986\n",
       "75%  -0.277676  1.320708  2.925707  4.547228  6.173105"
      ]
     },
     "metadata": {},
     "output_type": "display_data"
    },
    {
     "data": {
      "text/html": [
       "<div>\n",
       "<style scoped>\n",
       "    .dataframe tbody tr th:only-of-type {\n",
       "        vertical-align: middle;\n",
       "    }\n",
       "\n",
       "    .dataframe tbody tr th {\n",
       "        vertical-align: top;\n",
       "    }\n",
       "\n",
       "    .dataframe thead th {\n",
       "        text-align: right;\n",
       "    }\n",
       "</style>\n",
       "<table border=\"1\" class=\"dataframe\">\n",
       "  <thead>\n",
       "    <tr style=\"text-align: right;\">\n",
       "      <th></th>\n",
       "      <th>0.0</th>\n",
       "      <th>0.5</th>\n",
       "      <th>1.0</th>\n",
       "      <th>1.5</th>\n",
       "      <th>2.0</th>\n",
       "    </tr>\n",
       "  </thead>\n",
       "  <tbody>\n",
       "    <tr>\n",
       "      <th>mean</th>\n",
       "      <td>-5.957051</td>\n",
       "      <td>-0.047574</td>\n",
       "      <td>5.861907</td>\n",
       "      <td>11.770941</td>\n",
       "      <td>17.679079</td>\n",
       "    </tr>\n",
       "    <tr>\n",
       "      <th>std</th>\n",
       "      <td>7.357850</td>\n",
       "      <td>7.336755</td>\n",
       "      <td>7.350787</td>\n",
       "      <td>7.399744</td>\n",
       "      <td>7.482923</td>\n",
       "    </tr>\n",
       "    <tr>\n",
       "      <th>25%</th>\n",
       "      <td>-10.873771</td>\n",
       "      <td>-4.941769</td>\n",
       "      <td>0.961220</td>\n",
       "      <td>6.818269</td>\n",
       "      <td>12.664753</td>\n",
       "    </tr>\n",
       "    <tr>\n",
       "      <th>50%</th>\n",
       "      <td>-5.971798</td>\n",
       "      <td>-0.065826</td>\n",
       "      <td>5.838964</td>\n",
       "      <td>11.754697</td>\n",
       "      <td>17.681216</td>\n",
       "    </tr>\n",
       "    <tr>\n",
       "      <th>75%</th>\n",
       "      <td>-1.021996</td>\n",
       "      <td>4.860905</td>\n",
       "      <td>10.768152</td>\n",
       "      <td>16.736210</td>\n",
       "      <td>22.720298</td>\n",
       "    </tr>\n",
       "  </tbody>\n",
       "</table>\n",
       "</div>"
      ],
      "text/plain": [
       "            0.0       0.5        1.0        1.5        2.0\n",
       "mean  -5.957051 -0.047574   5.861907  11.770941  17.679079\n",
       "std    7.357850  7.336755   7.350787   7.399744   7.482923\n",
       "25%  -10.873771 -4.941769   0.961220   6.818269  12.664753\n",
       "50%   -5.971798 -0.065826   5.838964  11.754697  17.681216\n",
       "75%   -1.021996  4.860905  10.768152  16.736210  22.720298"
      ]
     },
     "metadata": {},
     "output_type": "display_data"
    }
   ],
   "source": [
    "df = pd.DataFrame()\n",
    "for θ in np.linspace(0, 2, 5):\n",
    "    v_detuning = np.sin(np.arcsin(vperpendicular/vforward) + np.deg2rad(θ) - np.deg2rad(mis_alignment)) * np.sqrt(vforward**2 + vperpendicular**2)\n",
    "    df = pd.concat([df, pd.DataFrame({θ: v_detuning})], axis = 1)\n",
    "display(df.describe().loc[['mean', 'std', '25%', '50%', '75%']])\n",
    "df = df.apply(lambda x: detuning.velocity_to_detuning(x, f.value, 2*np.pi)) / 1e6\n",
    "display(df.describe().loc[['mean', 'std', '25%', '50%', '75%']])"
   ]
  },
  {
   "cell_type": "markdown",
   "id": "96b98560-951a-4244-9dd4-fa91bb456a54",
   "metadata": {},
   "source": [
    "So for a misalignment of the beam with the laser of $0.5^\\circ$ and a zig-zag pattern with an angle of $0.5^\\circ$ the detuning will be $11.8$ MHz and $0$ MHz, so still a detuning of $\\pm 6$ MHz"
   ]
  },
  {
   "cell_type": "markdown",
   "id": "06310118-064b-4160-85b6-6343d70bfaa4",
   "metadata": {},
   "source": [
    "# Experimental Realization\n",
    "\n",
    "[CVI Laseroptics](https://www.cvilaseroptics.com/products/mirrors/uncoated-mirror-substrates/rm-uv) sells rectangular mirror substrates, and have UV coatings they can apply.  \n",
    "[Thorlabs](https://www.thorlabs.com/newgrouppage9.cfm?objectgroup_id=3971) sells rectangular mirror mounts.\n",
    "\n",
    "Specifically the 50 mm x 30 mm substrates with the `KM100C` mounts should work nicely.\n"
   ]
  }
 ],
 "metadata": {
  "kernelspec": {
   "display_name": "Python 3 (ipykernel)",
   "language": "python",
   "name": "python3"
  },
  "language_info": {
   "codemirror_mode": {
    "name": "ipython",
    "version": 3
   },
   "file_extension": ".py",
   "mimetype": "text/x-python",
   "name": "python",
   "nbconvert_exporter": "python",
   "pygments_lexer": "ipython3",
   "version": "3.8.13"
  }
 },
 "nbformat": 4,
 "nbformat_minor": 5
}
