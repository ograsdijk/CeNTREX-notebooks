{
 "cells": [
  {
   "cell_type": "code",
   "execution_count": null,
   "metadata": {},
   "outputs": [],
   "source": [
    "from scipy.interpolate import griddata\n",
    "from matplotlib import colors\n",
    "\n",
    "def create_grid_trajectories(interpolateTrajectories, probabilities):\n",
    "    x0 = []\n",
    "    y0 = []\n",
    "    for idL in range(len(interpolateTrajectories)):\n",
    "        traj = interpolateTrajectories[idL]\n",
    "        x0.append(traj[0](0.000))\n",
    "        y0.append(traj[1](0.000))\n",
    "    x0 = np.array(x0)\n",
    "    y0 = np.array(y0)\n",
    "    \n",
    "    dx = np.min(np.abs(np.diff(x0)[np.diff(x0) != 0]))\n",
    "    dy = np.min(np.abs(np.diff(y0)[np.diff(y0) != 0]))\n",
    "    \n",
    "    xi = np.linspace(x0.min(), x0.max(), int(np.sqrt(500))*2)\n",
    "    yi = np.linspace(y0.min(), y0.max(), int(np.sqrt(500))*2)\n",
    "    X, Y = np.meshgrid(xi, yi)\n",
    "    Z = griddata((x0,y0), probabilities, (X,Y), method = 'linear')\n",
    "    return x0,y0,xi,yi,X,Y,Z\n",
    "    \n",
    "def plot_grid_trajectories(interpolateTrajectories, probabilities):\n",
    "    x0,y0,xi,yi,X,Y,Z = create_grid_trajectories(interpolateTrajectories, probabilities)\n",
    "    fig, ax = plt.subplots(figsize = (14,11))\n",
    "    cax = ax.pcolormesh(X,Y,Z)\n",
    "    vmin, vmax = cax.get_clim()\n",
    "    ax.scatter(x0, y0, c = probabilities, edgecolors = 'k', s = 50, vmin = vmin, vmax = vmax, lw = 2)\n",
    "    cbar = fig.colorbar(cax)\n",
    "    cbar.set_label('probability', fontsize = 15)\n",
    "    cs = ax.contour(xi, yi, Z, colors = ['C3', 'k'], levels = [0.95, 0.99], linewidths = 3)\n",
    "    cbar.add_lines(cs)\n",
    "    ax.set_xlabel(\"x [m]\", fontsize = 15)\n",
    "    ax.set_ylabel(\"y [m]\", fontsize = 15)\n",
    "    ax.set_title('Probability to stay in state', fontsize = 15);\n",
    "    ax.set_xticks([-0.008, -0.004, 0, 0.004, 0.008])\n",
    "    set_fontsize(ax, 15)\n",
    "    set_fontsize(cbar.ax, 15)\n",
    "    ax.set_aspect(1/1.35)"
   ]
  }
 ],
 "metadata": {
  "kernelspec": {
   "display_name": "Python 3",
   "language": "python",
   "name": "python3"
  },
  "language_info": {
   "codemirror_mode": {
    "name": "ipython",
    "version": 3
   },
   "file_extension": ".py",
   "mimetype": "text/x-python",
   "name": "python",
   "nbconvert_exporter": "python",
   "pygments_lexer": "ipython3",
   "version": "3.7.5"
  }
 },
 "nbformat": 4,
 "nbformat_minor": 4
}
