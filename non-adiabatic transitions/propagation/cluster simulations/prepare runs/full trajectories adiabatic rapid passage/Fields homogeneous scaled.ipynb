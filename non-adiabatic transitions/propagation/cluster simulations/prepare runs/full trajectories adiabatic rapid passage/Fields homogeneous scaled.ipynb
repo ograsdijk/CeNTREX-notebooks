{
 "cells": [
  {
   "cell_type": "markdown",
   "metadata": {},
   "source": [
    "# Preparing the pickle files for `State-evolution` cluster runs of particles transitioning through the quadrupole lens\n",
    "\n",
    "Particles propagate from a homogenous field in z to the quadrupole field in the yz plane back into a homogeneous field in z.  \n",
    "The homogeneous field can be scaled with a scaling factor, where `scaling factor = 1` corresponds to 84V/cm.\n",
    "The `scaling factor` and `trajectory idx` are iterated over on the cluster"
   ]
  },
  {
   "cell_type": "code",
   "execution_count": 1,
   "metadata": {},
   "outputs": [],
   "source": [
    "from utils.fields import *\n",
    "from utils.trajectories import *\n",
    "import matplotlib.pyplot as plt\n",
    "%load_ext autoreload\n",
    "%autoreload 2"
   ]
  },
  {
   "cell_type": "code",
   "execution_count": 2,
   "metadata": {},
   "outputs": [],
   "source": [
    "pickle_dir = 'options pickles/'\n",
    "trajectory_dir = 'trajectories/'"
   ]
  },
  {
   "cell_type": "code",
   "execution_count": 3,
   "metadata": {},
   "outputs": [],
   "source": [
    "from trajectories import *\n",
    "positions = load_trajectories(trajectory_dir+'positions_545.mat')\n",
    "velocities = load_velocities(trajectory_dir+'velocities_545.mat')\n",
    "\n",
    "t, (xT, yT, zT), (xVelocity, yVelocity, zVelocity) = get_time_position_velocity(positions, velocities)"
   ]
  },
  {
   "cell_type": "code",
   "execution_count": 4,
   "metadata": {},
   "outputs": [],
   "source": [
    "def makeInterpolate(t,x,y,z):\n",
    "    \"\"\"\n",
    "    Note that for the field simulations the molecular\n",
    "    beam directin is z.\n",
    "    Interpolating the trajectories, quadruatic for \n",
    "    gravitational shift, linear otherwise.\n",
    "    \"\"\"\n",
    "    intTrajX = interp1d(t, x, kind = 'linear')\n",
    "    intTrajY = interp1d(t, y, kind = 'quadratic')\n",
    "    intTrajZ = interp1d(t, z, kind = 'linear')\n",
    "\n",
    "    rootfun = lambda t: intTrajZ(t) - (0.8052-0.15)\n",
    "    tstart = brentq(rootfun, 0.001, 0.015)\n",
    "    rootfun = lambda t: intTrajZ(t) - (0.8052+0.6+0.15)\n",
    "    tstop = brentq(rootfun, 0.001, 0.015)\n",
    "    \n",
    "    intTrajX = interp1d(t-tstart, x, kind = 'linear')\n",
    "    intTrajY = interp1d(t-tstart, y, kind = 'quadratic')\n",
    "    intTrajZ = interp1d(t-tstart, z-(0.8052-0.15)-0.45, kind = 'linear')\n",
    "    \n",
    "    return intTrajX, intTrajY, intTrajZ, tstop-tstart"
   ]
  },
  {
   "cell_type": "code",
   "execution_count": 5,
   "metadata": {},
   "outputs": [],
   "source": [
    "interpolateTrajectories = []\n",
    "for idInt in range(t.shape[1]):\n",
    "    interpolateTrajectories.append((makeInterpolate(t[:,idInt], xT[:,idInt], yT[:,idInt], zT[:,idInt])))"
   ]
  },
  {
   "cell_type": "code",
   "execution_count": 6,
   "metadata": {},
   "outputs": [],
   "source": [
    "del t, xT, yT, zT, xVelocity, yVelocity, zVelocity"
   ]
  },
  {
   "cell_type": "markdown",
   "metadata": {},
   "source": [
    "generating the interpolating functions for the homogeneous potential and quadrupole potential  \n",
    "`quadrupole field` : `c` is a matrix containing the 3rd order polynomial terms in x and y; `intfun` is a spline function for the field along the z axis  \n",
    "`homogeneous field` : `cP` is a matrix containing the 3rd order polynomial terms in x and y; `intfunP` is a spline function for the field along the z axis"
   ]
  },
  {
   "cell_type": "code",
   "execution_count": 7,
   "metadata": {},
   "outputs": [],
   "source": [
    "c, intfun = fit_potential_xyz(\"D:/Adiabatic Transfer/propagation/fields/\"+'potentialQuadrupole.fld', 0.022, 0.019, 0, 0)\n",
    "cP, intfunP = fit_potential_xyz('D:/Adiabatic Transfer/propagation/fields/'+'potentialElectrodes.fld', 0.022, 0.019, .45, 0)"
   ]
  },
  {
   "cell_type": "markdown",
   "metadata": {},
   "source": [
    "taking the derivatives of the polynomial fits to facilitate the field calculations in `State-evolution`"
   ]
  },
  {
   "cell_type": "code",
   "execution_count": 8,
   "metadata": {},
   "outputs": [],
   "source": [
    "from numpy.polynomial import polynomial\n",
    "\n",
    "x_cder = polynomial.polyder(c, axis = 0)\n",
    "x_cPder = polynomial.polyder(cP, axis = 0)\n",
    "y_cder = polynomial.polyder(c, axis = 1)\n",
    "y_cPder = polynomial.polyder(cP, axis = 1)"
   ]
  },
  {
   "cell_type": "markdown",
   "metadata": {},
   "source": [
    "pickling the spline functions and 2d polynomial matrices for use in `State-evolution`"
   ]
  },
  {
   "cell_type": "code",
   "execution_count": 9,
   "metadata": {},
   "outputs": [],
   "source": [
    "import pickle \n",
    "\n",
    "with open(pickle_dir+'potential_plate_z_run1.pkl', 'wb') as wfp:\n",
    "    pickle.dump(intfunP, wfp)\n",
    "    \n",
    "with open(pickle_dir+'potential_quadrupole_z_run1.pkl', 'wb') as wfp:\n",
    "    pickle.dump(intfun, wfp)\n",
    "    \n",
    "with open(pickle_dir+'potential_plate_xy_run1.pkl', 'wb') as wfp:\n",
    "    pickle.dump([cP, x_cPder, y_cPder], wfp)\n",
    "    \n",
    "with open(pickle_dir+'potential_quadrupole_xy_run1.pkl', 'wb') as wfp:\n",
    "    pickle.dump([c, x_cder, y_cder], wfp)\n",
    "    \n",
    "with open(pickle_dir+'trajectories_run1.pkl', 'wb') as wfp:\n",
    "    pickle.dump(interpolateTrajectories, wfp)"
   ]
  },
  {
   "cell_type": "code",
   "execution_count": null,
   "metadata": {},
   "outputs": [],
   "source": []
  }
 ],
 "metadata": {
  "kernelspec": {
   "display_name": "Python 3",
   "language": "python",
   "name": "python3"
  },
  "language_info": {
   "codemirror_mode": {
    "name": "ipython",
    "version": 3
   },
   "file_extension": ".py",
   "mimetype": "text/x-python",
   "name": "python",
   "nbconvert_exporter": "python",
   "pygments_lexer": "ipython3",
   "version": "3.7.5"
  }
 },
 "nbformat": 4,
 "nbformat_minor": 4
}
