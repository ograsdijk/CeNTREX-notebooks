{
 "cells": [
  {
   "cell_type": "code",
   "execution_count": 1,
   "metadata": {},
   "outputs": [],
   "source": [
    "import niscope\n",
    "import matplotlib.pyplot as plt\n",
    "import numpy as np\n",
    "import h5py"
   ]
  },
  {
   "cell_type": "code",
   "execution_count": 10,
   "metadata": {},
   "outputs": [],
   "source": [
    "from tqdm import tqdm\n",
    "\n",
    "def acquire_waveforms(fname, channel, nrSamples, samplingRate, bandwidth, iterations, compression = None):\n",
    "    with niscope.Session(\"PXI1Slot2\") as session:\n",
    "        session.binary_sample_width = 16\n",
    "        session.max_input_frequency = bandwidth\n",
    "        session.channels[channel].configure_vertical(range=5.0, coupling=niscope.VerticalCoupling.AC)\n",
    "        session.configure_horizontal_timing(min_sample_rate=int(samplingRate), min_num_pts=int(nrSamples), ref_position=50.0, num_records=1, enforce_realtime=True)\n",
    "\n",
    "        waveform = np.ndarray(nrSamples, dtype = np.int16)\n",
    "        for iteration in tqdm(range(iterations)):\n",
    "            waveform = np.ndarray(nrSamples, dtype = np.int16)\n",
    "            with session.initiate():\n",
    "                info = session.channels[channel].fetch_into(waveform, num_records=1)[0]\n",
    "\n",
    "            with h5py.File(fname+'.hdf5', 'a') as f:\n",
    "                if '/waveforms' not in f:\n",
    "                    grp = f.create_group('waveforms')\n",
    "                else:\n",
    "                    grp = f['waveforms']\n",
    "                if compression == None:\n",
    "                    dset = grp.create_dataset(\"record_{0}\".format(iteration), (nrSamples, ), dtype = np.int16)\n",
    "                else:\n",
    "                    dset = grp.create_dataset(\"record_{0}\".format(iteration), (nrSamples, ), dtype = np.int16, compression=\"gzip\", compression_opts = compression)\n",
    "                dset[:] = waveform\n",
    "                dset.attrs['gain'] = info.gain\n",
    "                dset.attrs['offset'] = info.offset\n",
    "                dset.attrs['x_increment'] = info.x_increment\n",
    "                dset.attrs['absolute_initial_x'] = info.absolute_initial_x"
   ]
  },
  {
   "cell_type": "code",
   "execution_count": 11,
   "metadata": {},
   "outputs": [
    {
     "name": "stderr",
     "output_type": "stream",
     "text": [
      "100%|██████████| 10/10 [05:21<00:00, 32.61s/it]\n"
     ]
    }
   ],
   "source": [
    "nrSamples = int(805306192)\n",
    "samplingRate = int(250e6)\n",
    "bandwidth = int(270e6)\n",
    "\n",
    "acquire_waveforms('single_photons', 2, nrSamples, samplingRate, bandwidth, 10, compression = 1)"
   ]
  },
  {
   "cell_type": "code",
   "execution_count": 12,
   "metadata": {},
   "outputs": [
    {
     "name": "stderr",
     "output_type": "stream",
     "text": [
      "100%|██████████| 10/10 [04:35<00:00, 29.64s/it]\n"
     ]
    }
   ],
   "source": [
    "nrSamples = int(805306192)\n",
    "samplingRate = int(250e6)\n",
    "bandwidth = int(270e6)\n",
    "\n",
    "acquire_waveforms('single_photons_lightsoff', 2, nrSamples, samplingRate, bandwidth, 10, compression = 1)"
   ]
  },
  {
   "cell_type": "code",
   "execution_count": 13,
   "metadata": {},
   "outputs": [
    {
     "name": "stderr",
     "output_type": "stream",
     "text": [
      "100%|██████████| 10/10 [04:59<00:00, 29.97s/it]\n"
     ]
    }
   ],
   "source": [
    "nrSamples = int(805306192)\n",
    "samplingRate = int(250e6)\n",
    "bandwidth = int(270e6)\n",
    "\n",
    "acquire_waveforms('single_photons_lightson_500Ohm_ampstage1', 2, nrSamples, samplingRate, bandwidth, 10, compression = 1)"
   ]
  },
  {
   "cell_type": "code",
   "execution_count": 14,
   "metadata": {},
   "outputs": [
    {
     "name": "stderr",
     "output_type": "stream",
     "text": [
      "100%|██████████| 10/10 [05:01<00:00, 30.38s/it]\n"
     ]
    }
   ],
   "source": [
    "nrSamples = int(805306192)\n",
    "samplingRate = int(250e6)\n",
    "bandwidth = int(270e6)\n",
    "\n",
    "acquire_waveforms('single_photons_lightsoff_500Ohm_ampstage1', 2, nrSamples, samplingRate, bandwidth, 10, compression = 1)"
   ]
  },
  {
   "cell_type": "code",
   "execution_count": 15,
   "metadata": {},
   "outputs": [
    {
     "name": "stderr",
     "output_type": "stream",
     "text": [
      "100%|██████████| 10/10 [04:57<00:00, 29.79s/it]\n"
     ]
    }
   ],
   "source": [
    "nrSamples = int(805306192)\n",
    "samplingRate = int(250e6)\n",
    "bandwidth = int(270e6)\n",
    "\n",
    "acquire_waveforms('single_photons_lightson_50Ohm_ampstage1', 2, nrSamples, samplingRate, bandwidth, 10, compression = 1)"
   ]
  },
  {
   "cell_type": "code",
   "execution_count": 16,
   "metadata": {},
   "outputs": [
    {
     "name": "stderr",
     "output_type": "stream",
     "text": [
      "100%|██████████| 10/10 [04:56<00:00, 29.71s/it]\n"
     ]
    }
   ],
   "source": [
    "nrSamples = int(805306192)\n",
    "samplingRate = int(250e6)\n",
    "bandwidth = int(270e6)\n",
    "\n",
    "acquire_waveforms('single_photons_lightsoff_50Ohm_ampstage1', 2, nrSamples, samplingRate, bandwidth, 10, compression = 1)"
   ]
  },
  {
   "cell_type": "code",
   "execution_count": 17,
   "metadata": {},
   "outputs": [
    {
     "name": "stderr",
     "output_type": "stream",
     "text": [
      "100%|██████████| 10/10 [06:15<00:00, 37.54s/it]\n"
     ]
    }
   ],
   "source": [
    "nrSamples = int(805306192)\n",
    "samplingRate = int(250e6)\n",
    "bandwidth = int(270e6)\n",
    "\n",
    "acquire_waveforms('single_photons_lightson_50Ohm_ampstage123', 2, nrSamples, samplingRate, bandwidth, 10, compression = 1)"
   ]
  },
  {
   "cell_type": "code",
   "execution_count": 18,
   "metadata": {},
   "outputs": [
    {
     "name": "stderr",
     "output_type": "stream",
     "text": [
      "100%|██████████| 10/10 [07:38<00:00, 45.22s/it]\n"
     ]
    }
   ],
   "source": [
    "nrSamples = int(805306192)\n",
    "samplingRate = int(250e6)\n",
    "bandwidth = int(270e6)\n",
    "\n",
    "acquire_waveforms('single_photons_lightsoff_50Ohm_ampstage123', 2, nrSamples, samplingRate, bandwidth, 10, compression = 1)"
   ]
  },
  {
   "cell_type": "code",
   "execution_count": 19,
   "metadata": {},
   "outputs": [
    {
     "name": "stderr",
     "output_type": "stream",
     "text": [
      "100%|██████████| 10/10 [05:42<00:00, 34.22s/it]\n"
     ]
    }
   ],
   "source": [
    "nrSamples = int(805306192)\n",
    "samplingRate = int(250e6)\n",
    "bandwidth = int(270e6)\n",
    "\n",
    "acquire_waveforms('single_photons_lightson_50Ohm_ampstage12', 2, nrSamples, samplingRate, bandwidth, 10, compression = 1)"
   ]
  },
  {
   "cell_type": "code",
   "execution_count": 20,
   "metadata": {},
   "outputs": [
    {
     "name": "stderr",
     "output_type": "stream",
     "text": [
      "100%|██████████| 10/10 [05:34<00:00, 34.15s/it]\n"
     ]
    }
   ],
   "source": [
    "nrSamples = int(805306192)\n",
    "samplingRate = int(250e6)\n",
    "bandwidth = int(270e6)\n",
    "\n",
    "acquire_waveforms('single_photons_lightsoff_50Ohm_ampstage12', 2, nrSamples, samplingRate, bandwidth, 10, compression = 1)"
   ]
  },
  {
   "cell_type": "code",
   "execution_count": null,
   "metadata": {},
   "outputs": [
    {
     "name": "stderr",
     "output_type": "stream",
     "text": [
      " 90%|█████████ | 9/10 [04:03<00:27, 27.90s/it]"
     ]
    }
   ],
   "source": [
    "nrSamples = int(805306192)\n",
    "samplingRate = int(250e6)\n",
    "bandwidth = int(270e6)\n",
    "\n",
    "acquire_waveforms('single_photons_lightsoff_50Ohm_ampstage123_5MHzLP', 2, nrSamples, samplingRate, bandwidth, 10, compression = 1)"
   ]
  },
  {
   "cell_type": "code",
   "execution_count": null,
   "metadata": {},
   "outputs": [],
   "source": []
  }
 ],
 "metadata": {
  "kernelspec": {
   "display_name": "Python 3",
   "language": "python",
   "name": "python3"
  },
  "language_info": {
   "codemirror_mode": {
    "name": "ipython",
    "version": 3
   },
   "file_extension": ".py",
   "mimetype": "text/x-python",
   "name": "python",
   "nbconvert_exporter": "python",
   "pygments_lexer": "ipython3",
   "version": "3.7.0"
  }
 },
 "nbformat": 4,
 "nbformat_minor": 2
}
