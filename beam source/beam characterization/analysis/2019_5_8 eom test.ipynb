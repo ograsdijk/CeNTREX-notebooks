{
 "cells": [
  {
   "cell_type": "code",
   "execution_count": 1,
   "metadata": {},
   "outputs": [],
   "source": [
    "import h5py\n",
    "import matplotlib.pyplot as plt\n",
    "import numpy as np\n",
    "import tqdm"
   ]
  },
  {
   "cell_type": "code",
   "execution_count": 6,
   "metadata": {},
   "outputs": [],
   "source": [
    "data_loc = \"D:/Beam Characterization/2019_5_8/\"\n",
    "fname = \"2019_05_08_EOM_off.hdf\""
   ]
  },
  {
   "cell_type": "code",
   "execution_count": 7,
   "metadata": {},
   "outputs": [
    {
     "name": "stdout",
     "output_type": "stream",
     "text": [
      "1557328665 EOM_off\n",
      "1557328942 EOM_off\n",
      "1557329575 EOM_off\n",
      "1557329851 EOM_off\n",
      "1557330143 EOM_off\n",
      "1557330427 EOM_off\n",
      "1557330713 EOM_off\n",
      "1557330997 EOM_off\n",
      "1557331285 EOM_off\n",
      "1557331613 EOM_off\n"
     ]
    }
   ],
   "source": [
    "with h5py.File(data_loc+fname, 'r') as f:\n",
    "    runs = list(f.keys())\n",
    "    for name in f.keys():\n",
    "        print(name)"
   ]
  },
  {
   "cell_type": "code",
   "execution_count": null,
   "metadata": {},
   "outputs": [],
   "source": []
  }
 ],
 "metadata": {
  "kernelspec": {
   "display_name": "Python 3",
   "language": "python",
   "name": "python3"
  },
  "language_info": {
   "codemirror_mode": {
    "name": "ipython",
    "version": 3
   },
   "file_extension": ".py",
   "mimetype": "text/x-python",
   "name": "python",
   "nbconvert_exporter": "python",
   "pygments_lexer": "ipython3",
   "version": "3.7.2"
  }
 },
 "nbformat": 4,
 "nbformat_minor": 2
}
