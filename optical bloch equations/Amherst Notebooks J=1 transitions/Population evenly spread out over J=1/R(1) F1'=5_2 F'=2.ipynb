{
 "cells": [
  {
   "cell_type": "code",
   "execution_count": 1,
   "id": "7d8a7537-0017-470b-8014-10fee27536eb",
   "metadata": {
    "execution": {
     "iopub.execute_input": "2022-03-06T03:05:52.898939Z",
     "iopub.status.busy": "2022-03-06T03:05:52.897938Z",
     "iopub.status.idle": "2022-03-06T03:05:57.641173Z",
     "shell.execute_reply": "2022-03-06T03:05:57.641173Z"
    },
    "papermill": {
     "duration": 4.773231,
     "end_time": "2022-03-06T03:05:57.641173",
     "exception": false,
     "start_time": "2022-03-06T03:05:52.867942",
     "status": "completed"
    },
    "tags": []
   },
   "outputs": [],
   "source": [
    "%load_ext autoreload\n",
    "%autoreload 2\n",
    "\n",
    "import numpy as np\n",
    "import sympy as smp\n",
    "from tqdm import tqdm\n",
    "from sympy import Symbol, symbols\n",
    "import centrex_TlF as centrex\n",
    "import matplotlib.pyplot as plt\n",
    "from julia import Main"
   ]
  },
  {
   "cell_type": "markdown",
   "id": "6b24d705-f2c7-4949-826b-60484c6990f5",
   "metadata": {
    "papermill": {
     "duration": 0.022999,
     "end_time": "2022-03-06T03:05:57.687173",
     "exception": false,
     "start_time": "2022-03-06T03:05:57.664174",
     "status": "completed"
    },
    "tags": []
   },
   "source": [
    "### Papermill parameters"
   ]
  },
  {
   "cell_type": "code",
   "execution_count": 2,
   "id": "9788a2c1-095c-4d35-8c1b-a0548a74c8d2",
   "metadata": {
    "execution": {
     "iopub.execute_input": "2022-03-06T03:05:57.743174Z",
     "iopub.status.busy": "2022-03-06T03:05:57.743174Z",
     "iopub.status.idle": "2022-03-06T03:05:57.799176Z",
     "shell.execute_reply": "2022-03-06T03:05:57.798174Z"
    },
    "papermill": {
     "duration": 0.089002,
     "end_time": "2022-03-06T03:05:57.799176",
     "exception": false,
     "start_time": "2022-03-06T03:05:57.710174",
     "status": "completed"
    },
    "tags": [
     "parameters"
    ]
   },
   "outputs": [],
   "source": [
    "Γ = 2*np.pi*1.56e6\n",
    "\n",
    "transition_type = \"R\"\n",
    "ground_J = 1\n",
    "excited_F = 2\n",
    "excited_F1 = 3/2\n",
    "system_J = [1,3]\n",
    "\n",
    "laser_power = 23.8e-3 # power in W\n",
    "σlaser = 0.000914\n",
    "npasses = 9\n",
    "multipass_offset = 0.01\n",
    "distance_between_passes = 0.03556/npasses\n",
    "power_loss_per_pass = 20.2/23.8\n",
    "\n",
    "vcm = 150\n",
    "vcm_sigma = 30\n",
    "vperp_sigma = 38\n",
    "\n",
    "ωp = 0.65*Γ\n",
    "\n",
    "β = 3.8\n",
    "ωphase = 0.0\n",
    "\n",
    "scan_range = [-30,31,2]\n",
    "\n",
    "nprocs = 7"
   ]
  },
  {
   "cell_type": "code",
   "execution_count": 3,
   "id": "b737b53e",
   "metadata": {
    "execution": {
     "iopub.execute_input": "2022-03-06T03:05:57.858172Z",
     "iopub.status.busy": "2022-03-06T03:05:57.857172Z",
     "iopub.status.idle": "2022-03-06T03:05:57.926173Z",
     "shell.execute_reply": "2022-03-06T03:05:57.927174Z"
    },
    "papermill": {
     "duration": 0.097997,
     "end_time": "2022-03-06T03:05:57.927174",
     "exception": false,
     "start_time": "2022-03-06T03:05:57.829177",
     "status": "completed"
    },
    "tags": [
     "injected-parameters"
    ]
   },
   "outputs": [],
   "source": [
    "# Parameters\n",
    "transition_type = \"R\"\n",
    "excited_J = 2\n",
    "excited_F = 2\n",
    "excited_F1 = 2.5\n",
    "system_Js = [1, 3]\n"
   ]
  },
  {
   "cell_type": "code",
   "execution_count": 4,
   "id": "c21c06f6-c1af-496a-b304-7469b9ba8a17",
   "metadata": {
    "execution": {
     "iopub.execute_input": "2022-03-06T03:05:57.973172Z",
     "iopub.status.busy": "2022-03-06T03:05:57.973172Z",
     "iopub.status.idle": "2022-03-06T03:05:58.544174Z",
     "shell.execute_reply": "2022-03-06T03:05:58.545173Z"
    },
    "papermill": {
     "duration": 0.597002,
     "end_time": "2022-03-06T03:05:58.545173",
     "exception": false,
     "start_time": "2022-03-06T03:05:57.948171",
     "status": "completed"
    },
    "tags": []
   },
   "outputs": [],
   "source": [
    "trans = centrex.transitions.LaserTransition(\n",
    "    f\"{transition_type}{ground_J}\",\n",
    "    F1 = excited_F1,\n",
    "    F = excited_F\n",
    ")\n",
    "population_J = trans.ground_selector.J"
   ]
  },
  {
   "cell_type": "code",
   "execution_count": 5,
   "id": "a8bac859-a1d8-41cf-87c1-45cb8e44710d",
   "metadata": {
    "execution": {
     "iopub.execute_input": "2022-03-06T03:05:58.593174Z",
     "iopub.status.busy": "2022-03-06T03:05:58.592173Z",
     "iopub.status.idle": "2022-03-06T03:05:58.672177Z",
     "shell.execute_reply": "2022-03-06T03:05:58.673174Z"
    },
    "papermill": {
     "duration": 0.106003,
     "end_time": "2022-03-06T03:05:58.673174",
     "exception": false,
     "start_time": "2022-03-06T03:05:58.567171",
     "status": "completed"
    },
    "tags": []
   },
   "outputs": [
    {
     "name": "stdout",
     "output_type": "stream",
     "text": [
      "excited state : QuantumSelector(J=2, F1=2.5, F=2, mF=None, electronic='B', P=1, Ω=None)\n",
      "population in states : QuantumSelector(J=1, F1=None, F=None, mF=None, electronic='X', P=None, Ω=None)\n"
     ]
    }
   ],
   "source": [
    "excited_state = centrex.states.QuantumSelector(\n",
    "                    J=excited_J, F=excited_F, F1=excited_F1, \n",
    "                    electronic = 'B', P = trans.excited_selector.P\n",
    ")\n",
    "population_states = centrex.states.QuantumSelector(J=population_J, electronic = 'X')\n",
    "\n",
    "print(f\"excited state : {excited_state}\")\n",
    "print(f\"population in states : {population_states}\")"
   ]
  },
  {
   "cell_type": "markdown",
   "id": "21d17f10-4029-4df6-842f-0e7c76366a7c",
   "metadata": {
    "papermill": {
     "duration": 0.023,
     "end_time": "2022-03-06T03:05:58.721175",
     "exception": false,
     "start_time": "2022-03-06T03:05:58.698175",
     "status": "completed"
    },
    "tags": []
   },
   "source": [
    "# Initial setup\n",
    "## Involved states"
   ]
  },
  {
   "cell_type": "code",
   "execution_count": 6,
   "id": "8a6852be-2045-4f4d-b899-c2717f66efa9",
   "metadata": {
    "execution": {
     "iopub.execute_input": "2022-03-06T03:05:58.777173Z",
     "iopub.status.busy": "2022-03-06T03:05:58.777173Z",
     "iopub.status.idle": "2022-03-06T03:05:58.843174Z",
     "shell.execute_reply": "2022-03-06T03:05:58.844173Z"
    },
    "papermill": {
     "duration": 0.1,
     "end_time": "2022-03-06T03:05:58.844173",
     "exception": false,
     "start_time": "2022-03-06T03:05:58.744173",
     "status": "completed"
    },
    "tags": []
   },
   "outputs": [],
   "source": [
    "gnd = centrex.states.QuantumSelector(J=system_J, electronic = 'X')\n",
    "exc = excited_state\n",
    "\n",
    "gnd_laser = centrex.states.QuantumSelector(J=trans.ground_selector.J, electronic = 'X')\n",
    "exc_laser = excited_state"
   ]
  },
  {
   "cell_type": "code",
   "execution_count": 7,
   "id": "7f40b6a0-2e4a-489a-892c-84cf72f711c0",
   "metadata": {
    "execution": {
     "iopub.execute_input": "2022-03-06T03:05:58.893173Z",
     "iopub.status.busy": "2022-03-06T03:05:58.893173Z",
     "iopub.status.idle": "2022-03-06T03:05:58.954173Z",
     "shell.execute_reply": "2022-03-06T03:05:58.953172Z"
    },
    "papermill": {
     "duration": 0.086,
     "end_time": "2022-03-06T03:05:58.954173",
     "exception": false,
     "start_time": "2022-03-06T03:05:58.868173",
     "status": "completed"
    },
    "tags": []
   },
   "outputs": [],
   "source": [
    "syspars = centrex.states.SystemParameters(\n",
    "    nprocs  = nprocs,\n",
    "    Γ       = Γ,\n",
    "    X  = gnd,\n",
    "    B = [exc]\n",
    ")"
   ]
  },
  {
   "cell_type": "markdown",
   "id": "5783d09d-767e-4901-b328-5a3d8529c562",
   "metadata": {
    "papermill": {
     "duration": 0.022001,
     "end_time": "2022-03-06T03:05:58.998173",
     "exception": false,
     "start_time": "2022-03-06T03:05:58.976172",
     "status": "completed"
    },
    "tags": []
   },
   "source": [
    "## Parameters"
   ]
  },
  {
   "cell_type": "code",
   "execution_count": 8,
   "id": "afce7fb3-65f2-4ace-b238-b74f88ff4659",
   "metadata": {
    "execution": {
     "iopub.execute_input": "2022-03-06T03:05:59.053173Z",
     "iopub.status.busy": "2022-03-06T03:05:59.052171Z",
     "iopub.status.idle": "2022-03-06T03:05:59.141173Z",
     "shell.execute_reply": "2022-03-06T03:05:59.142173Z"
    },
    "papermill": {
     "duration": 0.120998,
     "end_time": "2022-03-06T03:05:59.142173",
     "exception": false,
     "start_time": "2022-03-06T03:05:59.021175",
     "status": "completed"
    },
    "tags": []
   },
   "outputs": [],
   "source": [
    "odepars = centrex.lindblad.odeParameters(\n",
    "    Ωl = \"Ωl0 * phase_modulation(t, β, ωphase) * multipass_2d_intensity(vz*t, y0+vy*t, ampl, xlocs, ylocs, σzlaser, σylaser)\",\n",
    "    Ωl0     = 1*syspars.Γ,    # Rabi frequency of the laser [rad/s]\n",
    "    δl      = 0.0,              # detuning of the laser [rad/s]\n",
    "    \n",
    "    # laser beam properties\n",
    "    σzlaser = σlaser * np.sqrt(2),\n",
    "    σylaser = σlaser * np.sqrt(2),\n",
    "    \n",
    "    # laser multipass\n",
    "    ampl = [np.sqrt(power_loss_per_pass**n) for n in range(npasses)],\n",
    "    xlocs = [(n-1)*distance_between_passes + multipass_offset for n in centrex.utils.light.multipass_prism_order(npasses)],\n",
    "    ylocs = npasses*[0.0],\n",
    "    \n",
    "    # laser phase modulation\n",
    "    ωphase = ωphase,       # laser phase modulation frequency [rad/s]\n",
    "    β      = β,             # laser phase modulation depth [rad]\n",
    "\n",
    "    # laser polarization switching\n",
    "    ωp = ωp,           # polarization switching frequency [rad/s]\n",
    "    φp = 0.0,                 # polarization switching phase [rad]\n",
    "    Pl  = \"sin(ωp*t + φp)\",\n",
    "    Plz = \"Pl>0\",\n",
    "    Plx = \"Pl<=0\",\n",
    "    Ply = 0.0,\n",
    "    \n",
    "    # molecules\n",
    "    y0 = 0.,                   # molecule start y position [m]\n",
    "    vz = 150.,                 # longitudinal molecular velocity [m/s]\n",
    "    vy = 0.,                   # molecule vy [m/s]\n",
    ")\n"
   ]
  },
  {
   "cell_type": "markdown",
   "id": "94aff443-8f03-4464-b85e-cea4b4407fd1",
   "metadata": {
    "papermill": {
     "duration": 0.025001,
     "end_time": "2022-03-06T03:05:59.190173",
     "exception": false,
     "start_time": "2022-03-06T03:05:59.165172",
     "status": "completed"
    },
    "tags": []
   },
   "source": [
    "## Transitions"
   ]
  },
  {
   "cell_type": "code",
   "execution_count": 9,
   "id": "8ab6c2cd-69a9-43bc-b367-70604948ee8e",
   "metadata": {
    "execution": {
     "iopub.execute_input": "2022-03-06T03:05:59.249173Z",
     "iopub.status.busy": "2022-03-06T03:05:59.249173Z",
     "iopub.status.idle": "2022-03-06T03:05:59.316175Z",
     "shell.execute_reply": "2022-03-06T03:05:59.317175Z"
    },
    "papermill": {
     "duration": 0.104003,
     "end_time": "2022-03-06T03:05:59.317175",
     "exception": false,
     "start_time": "2022-03-06T03:05:59.213172",
     "status": "completed"
    },
    "tags": []
   },
   "outputs": [],
   "source": [
    "transitions = [\n",
    "    centrex.couplings.TransitionSelector(\n",
    "        ground = 1*centrex.states.generate_coupled_states_ground_X(gnd_laser),\n",
    "        excited = 1*centrex.states.generate_coupled_states_excited_B(exc_laser),\n",
    "        polarizations        = [[0,0,1],[1,0,0],[0,1,0]],\n",
    "        polarization_symbols = symbols(\"Plz     Plx     Ply\"),\n",
    "        Ω = smp.Symbol('Ωl', complex = True),\n",
    "        δ = smp.Symbol('δl'),\n",
    "        description = \"laser transition\",        \n",
    "    ),\n",
    "]"
   ]
  },
  {
   "cell_type": "code",
   "execution_count": 10,
   "id": "8830dc74-5aef-4786-b0b6-d086c03b86a7",
   "metadata": {
    "execution": {
     "iopub.execute_input": "2022-03-06T03:05:59.370174Z",
     "iopub.status.busy": "2022-03-06T03:05:59.370174Z",
     "iopub.status.idle": "2022-03-06T03:05:59.440175Z",
     "shell.execute_reply": "2022-03-06T03:05:59.441173Z"
    },
    "papermill": {
     "duration": 0.097,
     "end_time": "2022-03-06T03:05:59.441173",
     "exception": false,
     "start_time": "2022-03-06T03:05:59.344173",
     "status": "completed"
    },
    "tags": []
   },
   "outputs": [
    {
     "data": {
      "text/plain": [
       "\"R(1) F1'=5_2 F'=2\""
      ]
     },
     "execution_count": 10,
     "metadata": {},
     "output_type": "execute_result"
    }
   ],
   "source": [
    "transition_name = centrex.transitions.identify_transition(\n",
    "    transitions[0].ground[0],\n",
    "    transitions[0].excited[0]\n",
    ")\n",
    "transition_name = transition_name.replace(\",\",\"\").replace(\"/\",\"_\")\n",
    "transition_name"
   ]
  },
  {
   "cell_type": "markdown",
   "id": "e6bed866-24bc-4cbb-9664-022df1a48188",
   "metadata": {
    "papermill": {
     "duration": 0.023,
     "end_time": "2022-03-06T03:05:59.487172",
     "exception": false,
     "start_time": "2022-03-06T03:05:59.464172",
     "status": "completed"
    },
    "tags": []
   },
   "source": [
    "## Generate System"
   ]
  },
  {
   "cell_type": "code",
   "execution_count": 11,
   "id": "4ed1375f-f64b-45c0-8ca8-f98491e8c8f0",
   "metadata": {
    "execution": {
     "iopub.execute_input": "2022-03-06T03:05:59.542174Z",
     "iopub.status.busy": "2022-03-06T03:05:59.541174Z",
     "iopub.status.idle": "2022-03-06T03:08:12.744007Z",
     "shell.execute_reply": "2022-03-06T03:08:12.745007Z"
    },
    "papermill": {
     "duration": 133.231835,
     "end_time": "2022-03-06T03:08:12.745007",
     "exception": false,
     "start_time": "2022-03-06T03:05:59.513172",
     "status": "completed"
    },
    "tags": []
   },
   "outputs": [
    {
     "data": {
      "text/html": [
       "<pre style=\"white-space:pre;overflow-x:auto;line-height:normal;font-family:Menlo,'DejaVu Sans Mono',consolas,'Courier New',monospace\"><span style=\"color: #7fbfbf; text-decoration-color: #7fbfbf\">[21:05:59] </span><span style=\"color: #000080; text-decoration-color: #000080\">INFO    </span> generate_OBE_system: <span style=\"color: #008080; text-decoration-color: #008080; font-weight: bold\">1</span>/<span style=\"color: #008080; text-decoration-color: #008080; font-weight: bold\">6</span> -&gt; Generating the reduced      <a href=\"file://C:\\Users\\ogras\\anaconda3\\lib\\site-packages\\centrex_tlf-0.2-py3.8.egg\\centrex_TlF\\lindblad\\utils_setup.py\"><span style=\"color: #7f7f7f; text-decoration-color: #7f7f7f\">utils_setup.py</span></a><span style=\"color: #7f7f7f; text-decoration-color: #7f7f7f\">:</span><a href=\"file://C:\\Users\\ogras\\anaconda3\\lib\\site-packages\\centrex_tlf-0.2-py3.8.egg\\centrex_TlF\\lindblad\\utils_setup.py#88\"><span style=\"color: #7f7f7f; text-decoration-color: #7f7f7f\">88</span></a>\n",
       "                    Hamiltonian                                                              \n",
       "</pre>\n"
      ],
      "text/plain": [
       "\u001b[2;36m[21:05:59]\u001b[0m\u001b[2;36m \u001b[0m\u001b[34mINFO    \u001b[0m generate_OBE_system: \u001b[1;36m1\u001b[0m/\u001b[1;36m6\u001b[0m -> Generating the reduced      \u001b]8;id=819819;file://C:\\Users\\ogras\\anaconda3\\lib\\site-packages\\centrex_tlf-0.2-py3.8.egg\\centrex_TlF\\lindblad\\utils_setup.py\u001b\\\u001b[2mutils_setup.py\u001b[0m\u001b]8;;\u001b\\\u001b[2m:\u001b[0m\u001b]8;id=264577;file://C:\\Users\\ogras\\anaconda3\\lib\\site-packages\\centrex_tlf-0.2-py3.8.egg\\centrex_TlF\\lindblad\\utils_setup.py#88\u001b\\\u001b[2m88\u001b[0m\u001b]8;;\u001b\\\n",
       "                    Hamiltonian                                                              \n"
      ]
     },
     "metadata": {},
     "output_type": "display_data"
    },
    {
     "data": {
      "text/html": [
       "<pre style=\"white-space:pre;overflow-x:auto;line-height:normal;font-family:Menlo,'DejaVu Sans Mono',consolas,'Courier New',monospace\"><span style=\"color: #7fbfbf; text-decoration-color: #7fbfbf\">[21:06:07] </span><span style=\"color: #000080; text-decoration-color: #000080\">INFO    </span> generate_OBE_system: <span style=\"color: #008080; text-decoration-color: #008080; font-weight: bold\">2</span>/<span style=\"color: #008080; text-decoration-color: #008080; font-weight: bold\">6</span> -&gt; Generating the couplings   <a href=\"file://C:\\Users\\ogras\\anaconda3\\lib\\site-packages\\centrex_tlf-0.2-py3.8.egg\\centrex_TlF\\lindblad\\utils_setup.py\"><span style=\"color: #7f7f7f; text-decoration-color: #7f7f7f\">utils_setup.py</span></a><span style=\"color: #7f7f7f; text-decoration-color: #7f7f7f\">:</span><a href=\"file://C:\\Users\\ogras\\anaconda3\\lib\\site-packages\\centrex_tlf-0.2-py3.8.egg\\centrex_TlF\\lindblad\\utils_setup.py#103\"><span style=\"color: #7f7f7f; text-decoration-color: #7f7f7f\">103</span></a>\n",
       "                    corresponding to the transitions                                         \n",
       "</pre>\n"
      ],
      "text/plain": [
       "\u001b[2;36m[21:06:07]\u001b[0m\u001b[2;36m \u001b[0m\u001b[34mINFO    \u001b[0m generate_OBE_system: \u001b[1;36m2\u001b[0m/\u001b[1;36m6\u001b[0m -> Generating the couplings   \u001b]8;id=815823;file://C:\\Users\\ogras\\anaconda3\\lib\\site-packages\\centrex_tlf-0.2-py3.8.egg\\centrex_TlF\\lindblad\\utils_setup.py\u001b\\\u001b[2mutils_setup.py\u001b[0m\u001b]8;;\u001b\\\u001b[2m:\u001b[0m\u001b]8;id=548618;file://C:\\Users\\ogras\\anaconda3\\lib\\site-packages\\centrex_tlf-0.2-py3.8.egg\\centrex_TlF\\lindblad\\utils_setup.py#103\u001b\\\u001b[2m103\u001b[0m\u001b]8;;\u001b\\\n",
       "                    corresponding to the transitions                                         \n"
      ]
     },
     "metadata": {},
     "output_type": "display_data"
    },
    {
     "data": {
      "text/html": [
       "<pre style=\"white-space:pre;overflow-x:auto;line-height:normal;font-family:Menlo,'DejaVu Sans Mono',consolas,'Courier New',monospace\"><span style=\"color: #7fbfbf; text-decoration-color: #7fbfbf\">[21:07:14] </span><span style=\"color: #000080; text-decoration-color: #000080\">INFO    </span> generate_OBE_system: <span style=\"color: #008080; text-decoration-color: #008080; font-weight: bold\">3</span>/<span style=\"color: #008080; text-decoration-color: #008080; font-weight: bold\">6</span> -&gt; Generating the symbolic    <a href=\"file://C:\\Users\\ogras\\anaconda3\\lib\\site-packages\\centrex_tlf-0.2-py3.8.egg\\centrex_TlF\\lindblad\\utils_setup.py\"><span style=\"color: #7f7f7f; text-decoration-color: #7f7f7f\">utils_setup.py</span></a><span style=\"color: #7f7f7f; text-decoration-color: #7f7f7f\">:</span><a href=\"file://C:\\Users\\ogras\\anaconda3\\lib\\site-packages\\centrex_tlf-0.2-py3.8.egg\\centrex_TlF\\lindblad\\utils_setup.py#138\"><span style=\"color: #7f7f7f; text-decoration-color: #7f7f7f\">138</span></a>\n",
       "                    Hamiltonian                                                              \n",
       "</pre>\n"
      ],
      "text/plain": [
       "\u001b[2;36m[21:07:14]\u001b[0m\u001b[2;36m \u001b[0m\u001b[34mINFO    \u001b[0m generate_OBE_system: \u001b[1;36m3\u001b[0m/\u001b[1;36m6\u001b[0m -> Generating the symbolic    \u001b]8;id=219437;file://C:\\Users\\ogras\\anaconda3\\lib\\site-packages\\centrex_tlf-0.2-py3.8.egg\\centrex_TlF\\lindblad\\utils_setup.py\u001b\\\u001b[2mutils_setup.py\u001b[0m\u001b]8;;\u001b\\\u001b[2m:\u001b[0m\u001b]8;id=123678;file://C:\\Users\\ogras\\anaconda3\\lib\\site-packages\\centrex_tlf-0.2-py3.8.egg\\centrex_TlF\\lindblad\\utils_setup.py#138\u001b\\\u001b[2m138\u001b[0m\u001b]8;;\u001b\\\n",
       "                    Hamiltonian                                                              \n"
      ]
     },
     "metadata": {},
     "output_type": "display_data"
    },
    {
     "data": {
      "text/html": [
       "<pre style=\"white-space:pre;overflow-x:auto;line-height:normal;font-family:Menlo,'DejaVu Sans Mono',consolas,'Courier New',monospace\"><span style=\"color: #7fbfbf; text-decoration-color: #7fbfbf\">[21:07:30] </span><span style=\"color: #000080; text-decoration-color: #000080\">INFO    </span> generate_OBE_system: <span style=\"color: #008080; text-decoration-color: #008080; font-weight: bold\">4</span>/<span style=\"color: #008080; text-decoration-color: #008080; font-weight: bold\">6</span> -&gt; Generating the collapse    <a href=\"file://C:\\Users\\ogras\\anaconda3\\lib\\site-packages\\centrex_tlf-0.2-py3.8.egg\\centrex_TlF\\lindblad\\utils_setup.py\"><span style=\"color: #7f7f7f; text-decoration-color: #7f7f7f\">utils_setup.py</span></a><span style=\"color: #7f7f7f; text-decoration-color: #7f7f7f\">:</span><a href=\"file://C:\\Users\\ogras\\anaconda3\\lib\\site-packages\\centrex_tlf-0.2-py3.8.egg\\centrex_TlF\\lindblad\\utils_setup.py#149\"><span style=\"color: #7f7f7f; text-decoration-color: #7f7f7f\">149</span></a>\n",
       "                    matrices                                                                 \n",
       "</pre>\n"
      ],
      "text/plain": [
       "\u001b[2;36m[21:07:30]\u001b[0m\u001b[2;36m \u001b[0m\u001b[34mINFO    \u001b[0m generate_OBE_system: \u001b[1;36m4\u001b[0m/\u001b[1;36m6\u001b[0m -> Generating the collapse    \u001b]8;id=368949;file://C:\\Users\\ogras\\anaconda3\\lib\\site-packages\\centrex_tlf-0.2-py3.8.egg\\centrex_TlF\\lindblad\\utils_setup.py\u001b\\\u001b[2mutils_setup.py\u001b[0m\u001b]8;;\u001b\\\u001b[2m:\u001b[0m\u001b]8;id=393303;file://C:\\Users\\ogras\\anaconda3\\lib\\site-packages\\centrex_tlf-0.2-py3.8.egg\\centrex_TlF\\lindblad\\utils_setup.py#149\u001b\\\u001b[2m149\u001b[0m\u001b]8;;\u001b\\\n",
       "                    matrices                                                                 \n"
      ]
     },
     "metadata": {},
     "output_type": "display_data"
    },
    {
     "name": "stdout",
     "output_type": "stream",
     "text": [
      "Warning: Branching ratio sum > 1, difference = 2.22e-16\n"
     ]
    },
    {
     "data": {
      "text/html": [
       "<pre style=\"white-space:pre;overflow-x:auto;line-height:normal;font-family:Menlo,'DejaVu Sans Mono',consolas,'Courier New',monospace\"><span style=\"color: #7fbfbf; text-decoration-color: #7fbfbf\">[21:07:31] </span><span style=\"color: #000080; text-decoration-color: #000080\">INFO    </span> generate_OBE_system: <span style=\"color: #008080; text-decoration-color: #008080; font-weight: bold\">5</span>/<span style=\"color: #008080; text-decoration-color: #008080; font-weight: bold\">6</span> -&gt; Transforming the           <a href=\"file://C:\\Users\\ogras\\anaconda3\\lib\\site-packages\\centrex_tlf-0.2-py3.8.egg\\centrex_TlF\\lindblad\\utils_setup.py\"><span style=\"color: #7f7f7f; text-decoration-color: #7f7f7f\">utils_setup.py</span></a><span style=\"color: #7f7f7f; text-decoration-color: #7f7f7f\">:</span><a href=\"file://C:\\Users\\ogras\\anaconda3\\lib\\site-packages\\centrex_tlf-0.2-py3.8.egg\\centrex_TlF\\lindblad\\utils_setup.py#178\"><span style=\"color: #7f7f7f; text-decoration-color: #7f7f7f\">178</span></a>\n",
       "                    Hamiltonian and collapse matrices into a symbolic                        \n",
       "                    system of equations                                                      \n",
       "</pre>\n"
      ],
      "text/plain": [
       "\u001b[2;36m[21:07:31]\u001b[0m\u001b[2;36m \u001b[0m\u001b[34mINFO    \u001b[0m generate_OBE_system: \u001b[1;36m5\u001b[0m/\u001b[1;36m6\u001b[0m -> Transforming the           \u001b]8;id=421802;file://C:\\Users\\ogras\\anaconda3\\lib\\site-packages\\centrex_tlf-0.2-py3.8.egg\\centrex_TlF\\lindblad\\utils_setup.py\u001b\\\u001b[2mutils_setup.py\u001b[0m\u001b]8;;\u001b\\\u001b[2m:\u001b[0m\u001b]8;id=489304;file://C:\\Users\\ogras\\anaconda3\\lib\\site-packages\\centrex_tlf-0.2-py3.8.egg\\centrex_TlF\\lindblad\\utils_setup.py#178\u001b\\\u001b[2m178\u001b[0m\u001b]8;;\u001b\\\n",
       "                    Hamiltonian and collapse matrices into a symbolic                        \n",
       "                    system of equations                                                      \n"
      ]
     },
     "metadata": {},
     "output_type": "display_data"
    },
    {
     "data": {
      "text/html": [
       "<pre style=\"white-space:pre;overflow-x:auto;line-height:normal;font-family:Menlo,'DejaVu Sans Mono',consolas,'Courier New',monospace\"><span style=\"color: #7fbfbf; text-decoration-color: #7fbfbf\">[21:07:32] </span><span style=\"color: #000080; text-decoration-color: #000080\">INFO    </span> generate_OBE_system: <span style=\"color: #008080; text-decoration-color: #008080; font-weight: bold\">6</span>/<span style=\"color: #008080; text-decoration-color: #008080; font-weight: bold\">6</span> -&gt; Generating Julia code      <a href=\"file://C:\\Users\\ogras\\anaconda3\\lib\\site-packages\\centrex_tlf-0.2-py3.8.egg\\centrex_TlF\\lindblad\\utils_setup.py\"><span style=\"color: #7f7f7f; text-decoration-color: #7f7f7f\">utils_setup.py</span></a><span style=\"color: #7f7f7f; text-decoration-color: #7f7f7f\">:</span><a href=\"file://C:\\Users\\ogras\\anaconda3\\lib\\site-packages\\centrex_tlf-0.2-py3.8.egg\\centrex_TlF\\lindblad\\utils_setup.py#186\"><span style=\"color: #7f7f7f; text-decoration-color: #7f7f7f\">186</span></a>\n",
       "                    representing the system of equations                                     \n",
       "</pre>\n"
      ],
      "text/plain": [
       "\u001b[2;36m[21:07:32]\u001b[0m\u001b[2;36m \u001b[0m\u001b[34mINFO    \u001b[0m generate_OBE_system: \u001b[1;36m6\u001b[0m/\u001b[1;36m6\u001b[0m -> Generating Julia code      \u001b]8;id=929126;file://C:\\Users\\ogras\\anaconda3\\lib\\site-packages\\centrex_tlf-0.2-py3.8.egg\\centrex_TlF\\lindblad\\utils_setup.py\u001b\\\u001b[2mutils_setup.py\u001b[0m\u001b]8;;\u001b\\\u001b[2m:\u001b[0m\u001b]8;id=336769;file://C:\\Users\\ogras\\anaconda3\\lib\\site-packages\\centrex_tlf-0.2-py3.8.egg\\centrex_TlF\\lindblad\\utils_setup.py#186\u001b\\\u001b[2m186\u001b[0m\u001b]8;;\u001b\\\n",
       "                    representing the system of equations                                     \n"
      ]
     },
     "metadata": {},
     "output_type": "display_data"
    },
    {
     "data": {
      "text/html": [
       "<pre style=\"white-space:pre;overflow-x:auto;line-height:normal;font-family:Menlo,'DejaVu Sans Mono',consolas,'Courier New',monospace\"><span style=\"color: #7fbfbf; text-decoration-color: #7fbfbf\">[21:07:41] </span><span style=\"color: #000080; text-decoration-color: #000080\">INFO    </span> setup_OBE_system_julia: <span style=\"color: #008080; text-decoration-color: #008080; font-weight: bold\">1</span>/<span style=\"color: #008080; text-decoration-color: #008080; font-weight: bold\">3</span> -&gt; Generating the preamble <a href=\"file://C:\\Users\\ogras\\anaconda3\\lib\\site-packages\\centrex_tlf-0.2-py3.8.egg\\centrex_TlF\\lindblad\\utils_setup.py\"><span style=\"color: #7f7f7f; text-decoration-color: #7f7f7f\">utils_setup.py</span></a><span style=\"color: #7f7f7f; text-decoration-color: #7f7f7f\">:</span><a href=\"file://C:\\Users\\ogras\\anaconda3\\lib\\site-packages\\centrex_tlf-0.2-py3.8.egg\\centrex_TlF\\lindblad\\utils_setup.py#266\"><span style=\"color: #7f7f7f; text-decoration-color: #7f7f7f\">266</span></a>\n",
       "</pre>\n"
      ],
      "text/plain": [
       "\u001b[2;36m[21:07:41]\u001b[0m\u001b[2;36m \u001b[0m\u001b[34mINFO    \u001b[0m setup_OBE_system_julia: \u001b[1;36m1\u001b[0m/\u001b[1;36m3\u001b[0m -> Generating the preamble \u001b]8;id=19519;file://C:\\Users\\ogras\\anaconda3\\lib\\site-packages\\centrex_tlf-0.2-py3.8.egg\\centrex_TlF\\lindblad\\utils_setup.py\u001b\\\u001b[2mutils_setup.py\u001b[0m\u001b]8;;\u001b\\\u001b[2m:\u001b[0m\u001b]8;id=920640;file://C:\\Users\\ogras\\anaconda3\\lib\\site-packages\\centrex_tlf-0.2-py3.8.egg\\centrex_TlF\\lindblad\\utils_setup.py#266\u001b\\\u001b[2m266\u001b[0m\u001b]8;;\u001b\\\n"
      ]
     },
     "metadata": {},
     "output_type": "display_data"
    },
    {
     "data": {
      "text/html": [
       "<pre style=\"white-space:pre;overflow-x:auto;line-height:normal;font-family:Menlo,'DejaVu Sans Mono',consolas,'Courier New',monospace\"><span style=\"color: #7fbfbf; text-decoration-color: #7fbfbf\">           </span><span style=\"color: #000080; text-decoration-color: #000080\">INFO    </span> setup_OBE_system_julia: <span style=\"color: #008080; text-decoration-color: #008080; font-weight: bold\">2</span>/<span style=\"color: #008080; text-decoration-color: #008080; font-weight: bold\">3</span> -&gt; Initializing Julia on <span style=\"color: #008080; text-decoration-color: #008080; font-weight: bold\">7</span> <a href=\"file://C:\\Users\\ogras\\anaconda3\\lib\\site-packages\\centrex_tlf-0.2-py3.8.egg\\centrex_TlF\\lindblad\\utils_setup.py\"><span style=\"color: #7f7f7f; text-decoration-color: #7f7f7f\">utils_setup.py</span></a><span style=\"color: #7f7f7f; text-decoration-color: #7f7f7f\">:</span><a href=\"file://C:\\Users\\ogras\\anaconda3\\lib\\site-packages\\centrex_tlf-0.2-py3.8.egg\\centrex_TlF\\lindblad\\utils_setup.py#270\"><span style=\"color: #7f7f7f; text-decoration-color: #7f7f7f\">270</span></a>\n",
       "                    cores                                                                    \n",
       "</pre>\n"
      ],
      "text/plain": [
       "\u001b[2;36m          \u001b[0m\u001b[2;36m \u001b[0m\u001b[34mINFO    \u001b[0m setup_OBE_system_julia: \u001b[1;36m2\u001b[0m/\u001b[1;36m3\u001b[0m -> Initializing Julia on \u001b[1;36m7\u001b[0m \u001b]8;id=33173;file://C:\\Users\\ogras\\anaconda3\\lib\\site-packages\\centrex_tlf-0.2-py3.8.egg\\centrex_TlF\\lindblad\\utils_setup.py\u001b\\\u001b[2mutils_setup.py\u001b[0m\u001b]8;;\u001b\\\u001b[2m:\u001b[0m\u001b]8;id=331206;file://C:\\Users\\ogras\\anaconda3\\lib\\site-packages\\centrex_tlf-0.2-py3.8.egg\\centrex_TlF\\lindblad\\utils_setup.py#270\u001b\\\u001b[2m270\u001b[0m\u001b]8;;\u001b\\\n",
       "                    cores                                                                    \n"
      ]
     },
     "metadata": {},
     "output_type": "display_data"
    },
    {
     "name": "stdout",
     "output_type": "stream",
     "text": [
      "Initialized Julia with 7 processes\n"
     ]
    },
    {
     "data": {
      "text/html": [
       "<pre style=\"white-space:pre;overflow-x:auto;line-height:normal;font-family:Menlo,'DejaVu Sans Mono',consolas,'Courier New',monospace\"><span style=\"color: #7fbfbf; text-decoration-color: #7fbfbf\">[21:08:11] </span><span style=\"color: #000080; text-decoration-color: #000080\">INFO    </span> setup_OBE_system_julia: <span style=\"color: #008080; text-decoration-color: #008080; font-weight: bold\">3</span>/<span style=\"color: #008080; text-decoration-color: #008080; font-weight: bold\">3</span> -&gt; Defining the ODE        <a href=\"file://C:\\Users\\ogras\\anaconda3\\lib\\site-packages\\centrex_tlf-0.2-py3.8.egg\\centrex_TlF\\lindblad\\utils_setup.py\"><span style=\"color: #7f7f7f; text-decoration-color: #7f7f7f\">utils_setup.py</span></a><span style=\"color: #7f7f7f; text-decoration-color: #7f7f7f\">:</span><a href=\"file://C:\\Users\\ogras\\anaconda3\\lib\\site-packages\\centrex_tlf-0.2-py3.8.egg\\centrex_TlF\\lindblad\\utils_setup.py#277\"><span style=\"color: #7f7f7f; text-decoration-color: #7f7f7f\">277</span></a>\n",
       "                    equation and parameters in Julia                                         \n",
       "</pre>\n"
      ],
      "text/plain": [
       "\u001b[2;36m[21:08:11]\u001b[0m\u001b[2;36m \u001b[0m\u001b[34mINFO    \u001b[0m setup_OBE_system_julia: \u001b[1;36m3\u001b[0m/\u001b[1;36m3\u001b[0m -> Defining the ODE        \u001b]8;id=196339;file://C:\\Users\\ogras\\anaconda3\\lib\\site-packages\\centrex_tlf-0.2-py3.8.egg\\centrex_TlF\\lindblad\\utils_setup.py\u001b\\\u001b[2mutils_setup.py\u001b[0m\u001b]8;;\u001b\\\u001b[2m:\u001b[0m\u001b]8;id=163983;file://C:\\Users\\ogras\\anaconda3\\lib\\site-packages\\centrex_tlf-0.2-py3.8.egg\\centrex_TlF\\lindblad\\utils_setup.py#277\u001b\\\u001b[2m277\u001b[0m\u001b]8;;\u001b\\\n",
       "                    equation and parameters in Julia                                         \n"
      ]
     },
     "metadata": {},
     "output_type": "display_data"
    },
    {
     "name": "stdout",
     "output_type": "stream",
     "text": [
      "Wall time: 2min 13s\n"
     ]
    }
   ],
   "source": [
    "%%time\n",
    "obe_system = centrex.lindblad.setup_OBE_system_julia(syspars, odepars, transitions, verbose=True, full_output=True, \n",
    "                                                     qn_compact=centrex.states.QuantumSelector(J=3, electronic = 'X'))"
   ]
  },
  {
   "cell_type": "markdown",
   "id": "e2979859-216a-46aa-a6ed-72a507abf26b",
   "metadata": {
    "papermill": {
     "duration": 0.026,
     "end_time": "2022-03-06T03:08:12.798007",
     "exception": false,
     "start_time": "2022-03-06T03:08:12.772007",
     "status": "completed"
    },
    "tags": []
   },
   "source": [
    "# Simulations\n",
    "## Single trajectory"
   ]
  },
  {
   "cell_type": "code",
   "execution_count": 12,
   "id": "a7dfeb67-36ab-4ed5-9af1-ad66daeddeac",
   "metadata": {
    "execution": {
     "iopub.execute_input": "2022-03-06T03:08:12.857007Z",
     "iopub.status.busy": "2022-03-06T03:08:12.856006Z",
     "iopub.status.idle": "2022-03-06T03:08:12.916006Z",
     "shell.execute_reply": "2022-03-06T03:08:12.917007Z"
    },
    "papermill": {
     "duration": 0.091002,
     "end_time": "2022-03-06T03:08:12.917007",
     "exception": false,
     "start_time": "2022-03-06T03:08:12.826005",
     "status": "completed"
    },
    "tags": []
   },
   "outputs": [
    {
     "name": "stdout",
     "output_type": "stream",
     "text": [
      "Ωl0 : 0.84 Γ\n"
     ]
    }
   ],
   "source": [
    "Ωl0 = centrex.utils.light.calculate_rabi_from_power_gaussian_beam(\n",
    "                        laser_power,\n",
    "                        obe_system.couplings[0]['main coupling'],\n",
    "                        σlaser,\n",
    "                        σlaser\n",
    "    ).real\n",
    "print(f\"Ωl0 : {Ωl0 / syspars.Γ:.2f} Γ\")"
   ]
  },
  {
   "cell_type": "code",
   "execution_count": 13,
   "id": "f29311e6-5f91-40cc-b852-150cb39f3072",
   "metadata": {
    "execution": {
     "iopub.execute_input": "2022-03-06T03:08:12.978007Z",
     "iopub.status.busy": "2022-03-06T03:08:12.978007Z",
     "iopub.status.idle": "2022-03-06T03:08:13.044007Z",
     "shell.execute_reply": "2022-03-06T03:08:13.045007Z"
    },
    "papermill": {
     "duration": 0.102,
     "end_time": "2022-03-06T03:08:13.045007",
     "exception": false,
     "start_time": "2022-03-06T03:08:12.943007",
     "status": "completed"
    },
    "tags": []
   },
   "outputs": [],
   "source": [
    "odepars.Ωl0 = Ωl0\n",
    "odepars.ωphase = ωphase\n",
    "odepars.ωp = ωp"
   ]
  },
  {
   "cell_type": "code",
   "execution_count": 14,
   "id": "39446a36-7821-474c-8be2-cf0892f0d017",
   "metadata": {
    "execution": {
     "iopub.execute_input": "2022-03-06T03:08:13.101006Z",
     "iopub.status.busy": "2022-03-06T03:08:13.101006Z",
     "iopub.status.idle": "2022-03-06T03:08:19.194466Z",
     "shell.execute_reply": "2022-03-06T03:08:19.193466Z"
    },
    "papermill": {
     "duration": 6.12346,
     "end_time": "2022-03-06T03:08:19.194466",
     "exception": false,
     "start_time": "2022-03-06T03:08:13.071006",
     "status": "completed"
    },
    "tags": []
   },
   "outputs": [],
   "source": [
    "ρ = centrex.utils.generate_population_states(population_states.get_indices(obe_system.QN), len(obe_system.QN))\n",
    "t_array, results = centrex.lindblad.do_simulation_single(odepars, (0,50e-3/odepars.vz+10e-6), ρ)"
   ]
  },
  {
   "cell_type": "code",
   "execution_count": 15,
   "id": "c2022834-a208-480a-bce9-4649d182fa91",
   "metadata": {
    "execution": {
     "iopub.execute_input": "2022-03-06T03:08:19.254465Z",
     "iopub.status.busy": "2022-03-06T03:08:19.253465Z",
     "iopub.status.idle": "2022-03-06T03:08:19.637466Z",
     "shell.execute_reply": "2022-03-06T03:08:19.638466Z"
    },
    "papermill": {
     "duration": 0.416002,
     "end_time": "2022-03-06T03:08:19.638466",
     "exception": false,
     "start_time": "2022-03-06T03:08:19.222464",
     "status": "completed"
    },
    "tags": []
   },
   "outputs": [],
   "source": [
    "multipass = np.abs(odepars.get_parameter_evolution(t_array, \"Ωl\").real)"
   ]
  },
  {
   "cell_type": "code",
   "execution_count": 16,
   "id": "51d3bd7a-ad1b-46a3-a5e0-e10ee58fd9c6",
   "metadata": {
    "execution": {
     "iopub.execute_input": "2022-03-06T03:08:19.702465Z",
     "iopub.status.busy": "2022-03-06T03:08:19.701466Z",
     "iopub.status.idle": "2022-03-06T03:08:20.206481Z",
     "shell.execute_reply": "2022-03-06T03:08:20.207482Z"
    },
    "papermill": {
     "duration": 0.538015,
     "end_time": "2022-03-06T03:08:20.207482",
     "exception": false,
     "start_time": "2022-03-06T03:08:19.669467",
     "status": "completed"
    },
    "tags": []
   },
   "outputs": [
    {
     "data": {
      "image/png": "[encoded data removed]",
      "text/plain": [
       "<Figure size 720x432 with 1 Axes>"
      ]
     },
     "metadata": {
      "needs_background": "light"
     },
     "output_type": "display_data"
    }
   ],
   "source": [
    "fig, ax = plt.subplots(figsize = (10,6)) \n",
    "ax.plot(t_array*1e6, results.T, lw = 2);\n",
    "ax.plot(t_array*1e6, multipass/multipass.max()*0.8, 'k--', lw = 2,\n",
    "        label = 'multipass')\n",
    "ax.set_xlabel('time [μs]')\n",
    "ax.set_ylabel('population')\n",
    "ax.legend(fontsize = 14)\n",
    "ax.grid(True)"
   ]
  },
  {
   "cell_type": "code",
   "execution_count": 17,
   "id": "89232317-cb62-428d-b2a6-5b27d31cb99c",
   "metadata": {
    "execution": {
     "iopub.execute_input": "2022-03-06T03:08:20.273479Z",
     "iopub.status.busy": "2022-03-06T03:08:20.272480Z",
     "iopub.status.idle": "2022-03-06T03:08:20.346479Z",
     "shell.execute_reply": "2022-03-06T03:08:20.347478Z"
    },
    "papermill": {
     "duration": 0.109999,
     "end_time": "2022-03-06T03:08:20.347478",
     "exception": false,
     "start_time": "2022-03-06T03:08:20.237479",
     "status": "completed"
    },
    "tags": []
   },
   "outputs": [
    {
     "name": "stdout",
     "output_type": "stream",
     "text": [
      "|X, J = 1, F₁ = 1/2, F = 0, mF = 0, I₁ = 1/2, I₂ = 1/2, P = -, Ω = 0>\n",
      "|X, J = 3, F₁ = None, F = None, mF = None, I₁ = 1/2, I₂ = 1/2, P = -, Ω = 0>\n"
     ]
    }
   ],
   "source": [
    "for states in np.array(obe_system.QN)[results[:,-1] > 0.05]:\n",
    "    print(states.find_largest_component())"
   ]
  },
  {
   "cell_type": "code",
   "execution_count": 18,
   "id": "40e8f6c3-2370-4163-aaab-2b0be25a8e6d",
   "metadata": {
    "execution": {
     "iopub.execute_input": "2022-03-06T03:08:20.412479Z",
     "iopub.status.busy": "2022-03-06T03:08:20.411479Z",
     "iopub.status.idle": "2022-03-06T03:08:20.535479Z",
     "shell.execute_reply": "2022-03-06T03:08:20.535479Z"
    },
    "papermill": {
     "duration": 0.157,
     "end_time": "2022-03-06T03:08:20.535479",
     "exception": false,
     "start_time": "2022-03-06T03:08:20.378479",
     "status": "completed"
    },
    "tags": []
   },
   "outputs": [
    {
     "data": {
      "text/plain": [
       "1.6692441857767673"
      ]
     },
     "execution_count": 18,
     "metadata": {},
     "output_type": "execute_result"
    }
   ],
   "source": [
    "np.trapz(results[exc.get_indices(obe_system.QN),:].sum(axis = 0), t_array)*syspars.Γ"
   ]
  },
  {
   "cell_type": "markdown",
   "id": "38d78351-bc19-4793-94db-8e2436d6cb14",
   "metadata": {
    "papermill": {
     "duration": 0.037998,
     "end_time": "2022-03-06T03:08:20.609476",
     "exception": false,
     "start_time": "2022-03-06T03:08:20.571478",
     "status": "completed"
    },
    "tags": []
   },
   "source": [
    "## Detuning Scan"
   ]
  },
  {
   "cell_type": "code",
   "execution_count": 19,
   "id": "db3160c7-b51e-4cd3-8f8c-5dfeaffa8d31",
   "metadata": {
    "execution": {
     "iopub.execute_input": "2022-03-06T03:08:20.679477Z",
     "iopub.status.busy": "2022-03-06T03:08:20.679477Z",
     "iopub.status.idle": "2022-03-06T03:08:50.155410Z",
     "shell.execute_reply": "2022-03-06T03:08:50.156413Z"
    },
    "papermill": {
     "duration": 29.510936,
     "end_time": "2022-03-06T03:08:50.156413",
     "exception": false,
     "start_time": "2022-03-06T03:08:20.645477",
     "status": "completed"
    },
    "tags": []
   },
   "outputs": [
    {
     "name": "stdout",
     "output_type": "stream",
     "text": [
      "Wall time: 29.4 s\n"
     ]
    }
   ],
   "source": [
    "%%time\n",
    "\n",
    "odepars.Ωl0 = Ωl0\n",
    "odepars.ωphase = ωphase\n",
    "odepars.ωp = ωp\n",
    "\n",
    "tspan = (0,1000e-6)\n",
    "ρ = centrex.utils.generate_population_states(\n",
    "        centrex.states.QuantumSelector(J=1, F=[1,2], electronic = 'X').get_indices(obe_system.QN), \n",
    "        len(obe_system.QN)\n",
    "    )\n",
    "\n",
    "δl_scan = np.linspace(-5,5,101)*syspars.Γ\n",
    "\n",
    "parameters = [\"δl\"]\n",
    "values = [δl_scan]\n",
    "\n",
    "output_func = centrex.lindblad.setup_state_integral_calculation(\n",
    "                states = exc.get_indices(obe_system.QN, mode = \"julia\"),\n",
    "                nphotons = True\n",
    "            )\n",
    "\n",
    "cb = centrex.lindblad.setup_discrete_callback_terminate(odepars, \"vz*t >= 50e-3\")\n",
    "\n",
    "ens_prob = centrex.lindblad.setup_problem_parameter_scan(\n",
    "                        odepars, tspan, ρ, parameters, values, \n",
    "                        dimensions = 1,\n",
    "                        output_func = output_func,\n",
    "                        zipped = True\n",
    "            )\n",
    "\n",
    "centrex.lindblad.solve_problem_parameter_scan(ensemble_problem_name = ens_prob, saveat = 1e-7,\n",
    "                                             callback = cb)"
   ]
  },
  {
   "cell_type": "code",
   "execution_count": 20,
   "id": "817d03c6-c2e3-4f75-8bdd-fad4b3c694f1",
   "metadata": {
    "execution": {
     "iopub.execute_input": "2022-03-06T03:08:50.231410Z",
     "iopub.status.busy": "2022-03-06T03:08:50.230410Z",
     "iopub.status.idle": "2022-03-06T03:08:50.393410Z",
     "shell.execute_reply": "2022-03-06T03:08:50.394410Z"
    },
    "papermill": {
     "duration": 0.201998,
     "end_time": "2022-03-06T03:08:50.394410",
     "exception": false,
     "start_time": "2022-03-06T03:08:50.192412",
     "status": "completed"
    },
    "tags": []
   },
   "outputs": [
    {
     "data": {
      "image/png": "[encoded data removed]",
      "text/plain": [
       "<Figure size 576x360 with 1 Axes>"
      ]
     },
     "metadata": {
      "needs_background": "light"
     },
     "output_type": "display_data"
    }
   ],
   "source": [
    "results = centrex.lindblad.get_results_parameter_scan()\n",
    "\n",
    "fig, ax = plt.subplots(figsize = (8,5))\n",
    "ax.plot(δl_scan/syspars.Γ, results, '-')\n",
    "ax.grid(True)"
   ]
  },
  {
   "cell_type": "markdown",
   "id": "b6dcbe1d-3795-47c2-8019-a008c982afd3",
   "metadata": {
    "papermill": {
     "duration": 0.036,
     "end_time": "2022-03-06T03:08:50.461409",
     "exception": false,
     "start_time": "2022-03-06T03:08:50.425409",
     "status": "completed"
    },
    "tags": []
   },
   "source": [
    "## Trajectory Scan"
   ]
  },
  {
   "cell_type": "code",
   "execution_count": 21,
   "id": "a124f5a7-7a18-41ed-bac2-8c21ef7f46fd",
   "metadata": {
    "execution": {
     "iopub.execute_input": "2022-03-06T03:08:50.544409Z",
     "iopub.status.busy": "2022-03-06T03:08:50.544409Z",
     "iopub.status.idle": "2022-03-06T03:08:52.916113Z",
     "shell.execute_reply": "2022-03-06T03:08:52.917109Z"
    },
    "papermill": {
     "duration": 2.4097,
     "end_time": "2022-03-06T03:08:52.917109",
     "exception": false,
     "start_time": "2022-03-06T03:08:50.507409",
     "status": "completed"
    },
    "tags": []
   },
   "outputs": [],
   "source": [
    "ntrajectories = 500\n",
    "\n",
    "n = int(1e7)\n",
    "vz = centrex.utils.generate_random_longitudinal_velocities(n, vcm, vcm_sigma)\n",
    "vx, vy = centrex.utils.generate_random_transverse_velocities(n, vperp_sigma)\n",
    "x0, y0 = centrex.utils.generate_random_coords_circle_2D(n, 0.0025)\n",
    "apertures = [(47e-3, 6.35e-3), (73e-3, 12.7e-3), (290e-3, 2.54e-3)]\n",
    "mask = np.ones(n, dtype = bool)\n",
    "for (location, diameter) in apertures:\n",
    "    t = location / vz\n",
    "    r = np.sqrt((x0+vx*t)**2 + (y0+vy*t)**2)\n",
    "    m = r < diameter/2\n",
    "    mask &= m\n",
    "    \n",
    "start_loc = 358e-3 - 0.03556/2 - 10e-3\n",
    "t = start_loc / vz\n",
    "x0, y0 = x0 + vx*t, y0 + vy*t\n",
    "\n",
    "x0 = x0[mask][:ntrajectories]\n",
    "y0 = y0[mask][:ntrajectories]\n",
    "vx = vx[mask][:ntrajectories]\n",
    "vy = vy[mask][:ntrajectories]\n",
    "vz = vz[mask][:ntrajectories]\n",
    "\n",
    "assert mask.sum() >= ntrajectories, \"not enough trajectories make it through apertures\"\n",
    "del t, mask\n",
    "\n",
    "δls = centrex.utils.detuning.velocity_to_detuning(vx, 1106e12, syspars.Γ)*syspars.Γ"
   ]
  },
  {
   "cell_type": "code",
   "execution_count": 22,
   "id": "ed2e89ae-b7e3-4645-af48-70a3fe13327a",
   "metadata": {
    "execution": {
     "iopub.execute_input": "2022-03-06T03:08:52.985112Z",
     "iopub.status.busy": "2022-03-06T03:08:52.985112Z",
     "iopub.status.idle": "2022-03-06T03:09:43.861857Z",
     "shell.execute_reply": "2022-03-06T03:09:43.862858Z"
    },
    "papermill": {
     "duration": 50.913746,
     "end_time": "2022-03-06T03:09:43.862858",
     "exception": false,
     "start_time": "2022-03-06T03:08:52.949112",
     "status": "completed"
    },
    "tags": []
   },
   "outputs": [],
   "source": [
    "odepars.Ωl0 = Ωl0\n",
    "odepars.ωphase = ωphase\n",
    "odepars.ωp = ωp\n",
    "\n",
    "tspan = (0,1000e-6)\n",
    "ρ = centrex.utils.generate_population_states(\n",
    "        centrex.states.QuantumSelector(J=1, F=[1,2], electronic = 'X').get_indices(obe_system.QN), \n",
    "        len(obe_system.QN)\n",
    "    )\n",
    "\n",
    "parameters = [\"vz\", \"δl\", \"y0\"]\n",
    "values = [vz, δls, y0]\n",
    "\n",
    "output_func = centrex.lindblad.setup_state_integral_calculation(\n",
    "                states = exc.get_indices(obe_system.QN, mode = \"julia\"),\n",
    "                nphotons = True\n",
    "            )\n",
    "\n",
    "cb = centrex.lindblad.setup_discrete_callback_terminate(odepars, \"vz*t >= 50e-3\")\n",
    "\n",
    "ens_prob = centrex.lindblad.setup_problem_parameter_scan(\n",
    "                        odepars, tspan, ρ, parameters, values, \n",
    "                        dimensions = 1,\n",
    "                        output_func = output_func,\n",
    "                        zipped = True\n",
    "            )\n",
    "\n",
    "centrex.lindblad.solve_problem_parameter_scan(ensemble_problem_name = ens_prob, saveat = 1e-7,\n",
    "                                             callback = cb)"
   ]
  },
  {
   "cell_type": "code",
   "execution_count": 23,
   "id": "29942c9f-5a7c-4c12-b72f-29ad3cb82fdc",
   "metadata": {
    "execution": {
     "iopub.execute_input": "2022-03-06T03:09:43.934858Z",
     "iopub.status.busy": "2022-03-06T03:09:43.933859Z",
     "iopub.status.idle": "2022-03-06T03:09:44.002858Z",
     "shell.execute_reply": "2022-03-06T03:09:44.003858Z"
    },
    "papermill": {
     "duration": 0.108001,
     "end_time": "2022-03-06T03:09:44.003858",
     "exception": false,
     "start_time": "2022-03-06T03:09:43.895857",
     "status": "completed"
    },
    "tags": []
   },
   "outputs": [],
   "source": [
    "results = centrex.lindblad.get_results_parameter_scan()"
   ]
  },
  {
   "cell_type": "code",
   "execution_count": 24,
   "id": "75347af4-d3a1-460a-badb-152170f68dbe",
   "metadata": {
    "execution": {
     "iopub.execute_input": "2022-03-06T03:09:44.073857Z",
     "iopub.status.busy": "2022-03-06T03:09:44.073857Z",
     "iopub.status.idle": "2022-03-06T03:09:44.142858Z",
     "shell.execute_reply": "2022-03-06T03:09:44.143858Z"
    },
    "papermill": {
     "duration": 0.107,
     "end_time": "2022-03-06T03:09:44.143858",
     "exception": false,
     "start_time": "2022-03-06T03:09:44.036858",
     "status": "completed"
    },
    "tags": []
   },
   "outputs": [
    {
     "data": {
      "text/plain": [
       "1.8376338027062848"
      ]
     },
     "execution_count": 24,
     "metadata": {},
     "output_type": "execute_result"
    }
   ],
   "source": [
    "np.average(results)"
   ]
  },
  {
   "cell_type": "markdown",
   "id": "5ee62fd7-919a-40df-8c52-140906fb0a39",
   "metadata": {
    "papermill": {
     "duration": 0.035,
     "end_time": "2022-03-06T03:09:44.210857",
     "exception": false,
     "start_time": "2022-03-06T03:09:44.175857",
     "status": "completed"
    },
    "tags": []
   },
   "source": [
    "## Detuning scan over trajectories for approximate power used in measurement"
   ]
  },
  {
   "cell_type": "code",
   "execution_count": 25,
   "id": "38eaf1fb-7795-477e-a0ae-c43652420275",
   "metadata": {
    "execution": {
     "iopub.execute_input": "2022-03-06T03:09:44.291861Z",
     "iopub.status.busy": "2022-03-06T03:09:44.291861Z",
     "iopub.status.idle": "2022-03-06T03:09:46.641029Z",
     "shell.execute_reply": "2022-03-06T03:09:46.642030Z"
    },
    "papermill": {
     "duration": 2.390173,
     "end_time": "2022-03-06T03:09:46.642030",
     "exception": false,
     "start_time": "2022-03-06T03:09:44.251857",
     "status": "completed"
    },
    "tags": []
   },
   "outputs": [],
   "source": [
    "ntrajectories = 100\n",
    "\n",
    "n = int(1e7)\n",
    "vz = centrex.utils.generate_random_longitudinal_velocities(n, vcm, vcm_sigma)\n",
    "vx, vy = centrex.utils.generate_random_transverse_velocities(n, vperp_sigma)\n",
    "x0, y0 = centrex.utils.generate_random_coords_circle_2D(n, 0.0025)\n",
    "apertures = [(47e-3, 6.35e-3), (73e-3, 12.7e-3), (290e-3, 2.54e-3)]\n",
    "mask = np.ones(n, dtype = bool)\n",
    "for (location, diameter) in apertures:\n",
    "    t = location / vz\n",
    "    r = np.sqrt((x0+vx*t)**2 + (y0+vy*t)**2)\n",
    "    m = r < diameter/2\n",
    "    mask &= m\n",
    "    \n",
    "start_loc = 358e-3 - 0.03556/2 - 10e-3\n",
    "t = start_loc / vz\n",
    "x0, y0 = x0 + vx*t, y0 + vy*t\n",
    "\n",
    "x0 = x0[mask][:ntrajectories]\n",
    "y0 = y0[mask][:ntrajectories]\n",
    "vx = vx[mask][:ntrajectories]\n",
    "vy = vy[mask][:ntrajectories]\n",
    "vz = vz[mask][:ntrajectories]\n",
    "\n",
    "assert mask.sum() >= ntrajectories, \"not enough trajectories make it through apertures\"\n",
    "del t, mask\n",
    "\n",
    "δls = centrex.utils.detuning.velocity_to_detuning(vx, 1106e12, syspars.Γ)*syspars.Γ"
   ]
  },
  {
   "cell_type": "code",
   "execution_count": 26,
   "id": "aa77c713-c05f-42bd-838a-e488ab436af8",
   "metadata": {
    "execution": {
     "iopub.execute_input": "2022-03-06T03:09:46.714029Z",
     "iopub.status.busy": "2022-03-06T03:09:46.714029Z",
     "iopub.status.idle": "2022-03-06T03:32:06.655844Z",
     "shell.execute_reply": "2022-03-06T03:32:06.654844Z"
    },
    "papermill": {
     "duration": 1339.981815,
     "end_time": "2022-03-06T03:32:06.655844",
     "exception": false,
     "start_time": "2022-03-06T03:09:46.674029",
     "status": "completed"
    },
    "tags": []
   },
   "outputs": [
    {
     "name": "stderr",
     "output_type": "stream",
     "text": [
      "\r",
      "  0%|                                                                                                             | 0/31 [00:00<?, ?it/s]"
     ]
    },
    {
     "name": "stderr",
     "output_type": "stream",
     "text": [
      "\r",
      "  3%|███▎                                                                                                 | 1/31 [01:20<40:01, 80.04s/it]"
     ]
    },
    {
     "name": "stderr",
     "output_type": "stream",
     "text": [
      "\r",
      "  6%|██████▌                                                                                              | 2/31 [02:35<37:17, 77.16s/it]"
     ]
    },
    {
     "name": "stderr",
     "output_type": "stream",
     "text": [
      "\r",
      " 10%|█████████▊                                                                                           | 3/31 [03:44<34:21, 73.62s/it]"
     ]
    },
    {
     "name": "stderr",
     "output_type": "stream",
     "text": [
      "\r",
      " 13%|█████████████                                                                                        | 4/31 [04:47<31:11, 69.33s/it]"
     ]
    },
    {
     "name": "stderr",
     "output_type": "stream",
     "text": [
      "\r",
      " 16%|████████████████▎                                                                                    | 5/31 [05:46<28:29, 65.76s/it]"
     ]
    },
    {
     "name": "stderr",
     "output_type": "stream",
     "text": [
      "\r",
      " 19%|███████████████████▌                                                                                 | 6/31 [06:41<25:49, 61.97s/it]"
     ]
    },
    {
     "name": "stderr",
     "output_type": "stream",
     "text": [
      "\r",
      " 23%|██████████████████████▊                                                                              | 7/31 [07:31<23:15, 58.15s/it]"
     ]
    },
    {
     "name": "stderr",
     "output_type": "stream",
     "text": [
      "\r",
      " 26%|██████████████████████████                                                                           | 8/31 [08:17<20:44, 54.11s/it]"
     ]
    },
    {
     "name": "stderr",
     "output_type": "stream",
     "text": [
      "\r",
      " 29%|█████████████████████████████▎                                                                       | 9/31 [08:57<18:16, 49.86s/it]"
     ]
    },
    {
     "name": "stderr",
     "output_type": "stream",
     "text": [
      "\r",
      " 32%|████████████████████████████████▎                                                                   | 10/31 [09:34<15:59, 45.70s/it]"
     ]
    },
    {
     "name": "stderr",
     "output_type": "stream",
     "text": [
      "\r",
      " 35%|███████████████████████████████████▍                                                                | 11/31 [10:05<13:45, 41.27s/it]"
     ]
    },
    {
     "name": "stderr",
     "output_type": "stream",
     "text": [
      "\r",
      " 39%|██████████████████████████████████████▋                                                             | 12/31 [10:31<11:38, 36.77s/it]"
     ]
    },
    {
     "name": "stderr",
     "output_type": "stream",
     "text": [
      "\r",
      " 42%|█████████████████████████████████████████▉                                                          | 13/31 [10:53<09:39, 32.17s/it]"
     ]
    },
    {
     "name": "stderr",
     "output_type": "stream",
     "text": [
      "\r",
      " 45%|█████████████████████████████████████████████▏                                                      | 14/31 [11:09<07:44, 27.31s/it]"
     ]
    },
    {
     "name": "stderr",
     "output_type": "stream",
     "text": [
      "\r",
      " 48%|████████████████████████████████████████████████▍                                                   | 15/31 [11:21<06:03, 22.70s/it]"
     ]
    },
    {
     "name": "stderr",
     "output_type": "stream",
     "text": [
      "\r",
      " 52%|███████████████████████████████████████████████████▌                                                | 16/31 [11:31<04:43, 18.91s/it]"
     ]
    },
    {
     "name": "stderr",
     "output_type": "stream",
     "text": [
      "\r",
      " 55%|██████████████████████████████████████████████████████▊                                             | 17/31 [11:42<03:52, 16.58s/it]"
     ]
    },
    {
     "name": "stderr",
     "output_type": "stream",
     "text": [
      "\r",
      " 58%|██████████████████████████████████████████████████████████                                          | 18/31 [11:57<03:27, 15.96s/it]"
     ]
    },
    {
     "name": "stderr",
     "output_type": "stream",
     "text": [
      "\r",
      " 61%|█████████████████████████████████████████████████████████████▎                                      | 19/31 [12:15<03:21, 16.79s/it]"
     ]
    },
    {
     "name": "stderr",
     "output_type": "stream",
     "text": [
      "\r",
      " 65%|████████████████████████████████████████████████████████████████▌                                   | 20/31 [12:39<03:27, 18.86s/it]"
     ]
    },
    {
     "name": "stderr",
     "output_type": "stream",
     "text": [
      "\r",
      " 68%|███████████████████████████████████████████████████████████████████▋                                | 21/31 [13:08<03:37, 21.77s/it]"
     ]
    },
    {
     "name": "stderr",
     "output_type": "stream",
     "text": [
      "\r",
      " 71%|██████████████████████████████████████████████████████████████████████▉                             | 22/31 [13:41<03:47, 25.31s/it]"
     ]
    },
    {
     "name": "stderr",
     "output_type": "stream",
     "text": [
      "\r",
      " 74%|██████████████████████████████████████████████████████████████████████████▏                         | 23/31 [14:19<03:52, 29.11s/it]"
     ]
    },
    {
     "name": "stderr",
     "output_type": "stream",
     "text": [
      "\r",
      " 77%|█████████████████████████████████████████████████████████████████████████████▍                      | 24/31 [15:03<03:53, 33.40s/it]"
     ]
    },
    {
     "name": "stderr",
     "output_type": "stream",
     "text": [
      "\r",
      " 81%|████████████████████████████████████████████████████████████████████████████████▋                   | 25/31 [15:51<03:47, 37.95s/it]"
     ]
    },
    {
     "name": "stderr",
     "output_type": "stream",
     "text": [
      "\r",
      " 84%|███████████████████████████████████████████████████████████████████████████████████▊                | 26/31 [16:44<03:32, 42.47s/it]"
     ]
    },
    {
     "name": "stderr",
     "output_type": "stream",
     "text": [
      "\r",
      " 87%|███████████████████████████████████████████████████████████████████████████████████████             | 27/31 [17:41<03:07, 46.91s/it]"
     ]
    },
    {
     "name": "stderr",
     "output_type": "stream",
     "text": [
      "\r",
      " 90%|██████████████████████████████████████████████████████████████████████████████████████████▎         | 28/31 [18:43<02:34, 51.39s/it]"
     ]
    },
    {
     "name": "stderr",
     "output_type": "stream",
     "text": [
      "\r",
      " 94%|█████████████████████████████████████████████████████████████████████████████████████████████▌      | 29/31 [19:51<01:52, 56.24s/it]"
     ]
    },
    {
     "name": "stderr",
     "output_type": "stream",
     "text": [
      "\r",
      " 97%|████████████████████████████████████████████████████████████████████████████████████████████████▊   | 30/31 [21:03<01:01, 61.05s/it]"
     ]
    },
    {
     "name": "stderr",
     "output_type": "stream",
     "text": [
      "\r",
      "100%|████████████████████████████████████████████████████████████████████████████████████████████████████| 31/31 [22:19<00:00, 65.56s/it]"
     ]
    },
    {
     "name": "stderr",
     "output_type": "stream",
     "text": [
      "\r",
      "100%|████████████████████████████████████████████████████████████████████████████████████████████████████| 31/31 [22:19<00:00, 43.22s/it]"
     ]
    },
    {
     "name": "stderr",
     "output_type": "stream",
     "text": [
      "\n"
     ]
    }
   ],
   "source": [
    "import copy\n",
    "\n",
    "odepars.Ωl0 = Ωl0\n",
    "odepars.ωphase = ωphase\n",
    "odepars.ωp = ωp\n",
    "\n",
    "tspan = (0,1000e-6)\n",
    "ρ = centrex.utils.generate_population_states(\n",
    "        population_states.get_indices(obe_system.QN), \n",
    "        len(obe_system.QN)\n",
    "    )\n",
    "\n",
    "parameters = [\"vz\", \"δl\", \"y0\"]\n",
    "values = [vz, δls, y0]\n",
    "\n",
    "output_func = centrex.lindblad.setup_state_integral_calculation(\n",
    "                states = exc.get_indices(obe_system.QN, mode = \"julia\"),\n",
    "                nphotons = True\n",
    "            )\n",
    "\n",
    "δl_scan = np.arange(*scan_range)*syspars.Γ\n",
    "\n",
    "results = []\n",
    "for δli in tqdm(δl_scan):\n",
    "    vals = copy.copy(values)\n",
    "    vals[1] = vals[1] + δli\n",
    "    cb = centrex.lindblad.setup_discrete_callback_terminate(odepars, \"vz*t >= 50e-3\")\n",
    "\n",
    "    ens_prob = centrex.lindblad.setup_problem_parameter_scan(\n",
    "                            odepars, tspan, ρ, parameters, vals, \n",
    "                            dimensions = 1,\n",
    "                            output_func = output_func,\n",
    "                            zipped = True\n",
    "                )\n",
    "\n",
    "    centrex.lindblad.solve_problem_parameter_scan(ensemble_problem_name = ens_prob, saveat = 1e-7,\n",
    "                                                 callback = cb)\n",
    "    res = centrex.lindblad.get_results_parameter_scan()\n",
    "    results.append(np.average(res))\n",
    "results = np.asarray(results)    \n",
    "odepars.Ωl0 = Ωl0"
   ]
  },
  {
   "cell_type": "code",
   "execution_count": 27,
   "id": "65a46fd6-e56a-4566-9b6c-e22ce7cc03bc",
   "metadata": {
    "execution": {
     "iopub.execute_input": "2022-03-06T03:32:06.763845Z",
     "iopub.status.busy": "2022-03-06T03:32:06.762844Z",
     "iopub.status.idle": "2022-03-06T03:32:06.930845Z",
     "shell.execute_reply": "2022-03-06T03:32:06.931844Z"
    },
    "papermill": {
     "duration": 0.235,
     "end_time": "2022-03-06T03:32:06.931844",
     "exception": false,
     "start_time": "2022-03-06T03:32:06.696844",
     "status": "completed"
    },
    "tags": []
   },
   "outputs": [
    {
     "name": "stdout",
     "output_type": "stream",
     "text": [
      "maximum signal : 1.75\n"
     ]
    },
    {
     "data": {
      "image/png": "[encoded data removed]",
      "text/plain": [
       "<Figure size 576x360 with 1 Axes>"
      ]
     },
     "metadata": {
      "needs_background": "light"
     },
     "output_type": "display_data"
    }
   ],
   "source": [
    "fig, ax = plt.subplots(figsize = (8,5))\n",
    "ax.plot(δl_scan / (2*np.pi*1e6), results, '-', lw = 2)\n",
    "ax.plot(δl_scan / (2*np.pi*1e6), results, '.', ms = 13, color = 'C3')\n",
    "\n",
    "ax.set_xlabel(\"δ [MHz]\", fontsize = 14)\n",
    "ax.set_ylabel(\"# photons\", fontsize = 14)\n",
    "ax.grid(True)\n",
    "\n",
    "print(f\"maximum signal : {np.max(results):.2f}\")"
   ]
  },
  {
   "cell_type": "markdown",
   "id": "72eafcf4-c61e-4385-b7ea-b25b66dfdf03",
   "metadata": {
    "papermill": {
     "duration": 0.049997,
     "end_time": "2022-03-06T03:32:07.027844",
     "exception": false,
     "start_time": "2022-03-06T03:32:06.977847",
     "status": "completed"
    },
    "tags": []
   },
   "source": [
    "### Save Trajectory Detuning Scan Data"
   ]
  },
  {
   "cell_type": "code",
   "execution_count": 28,
   "id": "e839a1b3-8e15-4162-991a-37f98acfccc9",
   "metadata": {
    "execution": {
     "iopub.execute_input": "2022-03-06T03:32:07.126843Z",
     "iopub.status.busy": "2022-03-06T03:32:07.126843Z",
     "iopub.status.idle": "2022-03-06T03:32:07.184845Z",
     "shell.execute_reply": "2022-03-06T03:32:07.185845Z"
    },
    "papermill": {
     "duration": 0.114,
     "end_time": "2022-03-06T03:32:07.185845",
     "exception": false,
     "start_time": "2022-03-06T03:32:07.071845",
     "status": "completed"
    },
    "tags": []
   },
   "outputs": [],
   "source": [
    "import pickle\n",
    "\n",
    "with open(f\"{transition_name}.pkl\", \"wb\") as f:\n",
    "    pickle.dump(\n",
    "        dict(\n",
    "            δl_scan = δl_scan,\n",
    "            signal = results\n",
    "        ),\n",
    "        f\n",
    "    )"
   ]
  },
  {
   "cell_type": "markdown",
   "id": "0524b68f-0953-47ef-9ebb-9e4608052bb7",
   "metadata": {
    "papermill": {
     "duration": 0.054,
     "end_time": "2022-03-06T03:32:07.279844",
     "exception": false,
     "start_time": "2022-03-06T03:32:07.225844",
     "status": "completed"
    },
    "tags": []
   },
   "source": [
    "### Fit to resonance\n",
    "#### Define Gaussian and Lorentzian functions"
   ]
  },
  {
   "cell_type": "code",
   "execution_count": 29,
   "id": "18b6bc2b-6557-47f1-8b51-bb9452ca3bad",
   "metadata": {
    "execution": {
     "iopub.execute_input": "2022-03-06T03:32:07.366844Z",
     "iopub.status.busy": "2022-03-06T03:32:07.366844Z",
     "iopub.status.idle": "2022-03-06T03:32:07.566844Z",
     "shell.execute_reply": "2022-03-06T03:32:07.565845Z"
    },
    "papermill": {
     "duration": 0.246,
     "end_time": "2022-03-06T03:32:07.566844",
     "exception": false,
     "start_time": "2022-03-06T03:32:07.320844",
     "status": "completed"
    },
    "tags": []
   },
   "outputs": [],
   "source": [
    "from scipy.optimize import curve_fit\n",
    "from scipy.special import voigt_profile\n",
    "\n",
    "def gaussian(x, a, μ, σ):\n",
    "    return a*np.exp(-(x-μ)**2 / (2*σ**2))\n",
    "\n",
    "def lorentzian( x, x0, a, gam ):\n",
    "    return a * gam**2 / ( gam**2 + ( x - x0 )**2)\n",
    "\n",
    "def voigt(x, a, μ, σ):\n",
    "    return a * voigt_profile(x - μ, σ, σ)"
   ]
  },
  {
   "cell_type": "code",
   "execution_count": 30,
   "id": "3b541b6c-a9ab-4b83-a094-56adaa32b6d1",
   "metadata": {
    "execution": {
     "iopub.execute_input": "2022-03-06T03:32:07.652867Z",
     "iopub.status.busy": "2022-03-06T03:32:07.652867Z",
     "iopub.status.idle": "2022-03-06T03:32:08.353865Z",
     "shell.execute_reply": "2022-03-06T03:32:08.354865Z"
    },
    "papermill": {
     "duration": 0.747021,
     "end_time": "2022-03-06T03:32:08.354865",
     "exception": false,
     "start_time": "2022-03-06T03:32:07.607844",
     "status": "completed"
    },
    "tags": []
   },
   "outputs": [],
   "source": [
    "import lmfit\n",
    "from lmfit.models import LorentzianModel, GaussianModel, VoigtModel"
   ]
  },
  {
   "cell_type": "markdown",
   "id": "091f6f6a-3410-40eb-b7d6-ee229eff10a8",
   "metadata": {
    "papermill": {
     "duration": 0.042002,
     "end_time": "2022-03-06T03:32:08.441867",
     "exception": false,
     "start_time": "2022-03-06T03:32:08.399865",
     "status": "completed"
    },
    "tags": []
   },
   "source": [
    "#### Fit Lorentzian to scan"
   ]
  },
  {
   "cell_type": "code",
   "execution_count": 31,
   "id": "c3dd75a8-ff6e-4dd2-881d-5e142ef5b4ad",
   "metadata": {
    "execution": {
     "iopub.execute_input": "2022-03-06T03:32:08.534866Z",
     "iopub.status.busy": "2022-03-06T03:32:08.533865Z",
     "iopub.status.idle": "2022-03-06T03:32:08.623865Z",
     "shell.execute_reply": "2022-03-06T03:32:08.623865Z"
    },
    "papermill": {
     "duration": 0.138997,
     "end_time": "2022-03-06T03:32:08.624865",
     "exception": false,
     "start_time": "2022-03-06T03:32:08.485868",
     "status": "completed"
    },
    "tags": []
   },
   "outputs": [
    {
     "name": "stdout",
     "output_type": "stream",
     "text": [
      "[[Model]]\n",
      "    Model(lorentzian)\n",
      "[[Fit Statistics]]\n",
      "    # fitting method   = leastsq\n",
      "    # function evals   = 21\n",
      "    # data points      = 31\n",
      "    # variables        = 3\n",
      "    chi-square         = 0.07458334\n",
      "    reduced chi-square = 0.00266369\n",
      "    Akaike info crit   = -180.924587\n",
      "    Bayesian info crit = -176.622625\n",
      "[[Variables]]\n",
      "    amplitude:  6.6182e+08 +/- 9886933.29 (1.49%) (init = 4.805121e+08)\n",
      "    center:    -10984192.0 +/- 1705841.04 (15.53%) (init = -9801769)\n",
      "    sigma:      1.2414e+08 +/- 2634920.65 (2.12%) (init = 8.821592e+07)\n",
      "    fwhm:       2.4828e+08 +/- 5269841.30 (2.12%) == '2.0000000*sigma'\n",
      "    height:     1.69698151 +/- 0.02361344 (1.39%) == '0.3183099*amplitude/max(1e-15, sigma)'\n",
      "[[Correlations]] (unreported correlations are < 0.100)\n",
      "    C(amplitude, sigma) = 0.757\n"
     ]
    }
   ],
   "source": [
    "model = LorentzianModel()\n",
    "params = model.guess(\n",
    "                    results, \n",
    "                    x = δl_scan\n",
    ")\n",
    "fit = model.fit(results, params, x = δl_scan)\n",
    "print(fit.fit_report())"
   ]
  },
  {
   "cell_type": "code",
   "execution_count": 32,
   "id": "aea2ff27-ba35-4041-97bc-66afb538dcaa",
   "metadata": {
    "execution": {
     "iopub.execute_input": "2022-03-06T03:32:08.712888Z",
     "iopub.status.busy": "2022-03-06T03:32:08.712888Z",
     "iopub.status.idle": "2022-03-06T03:32:08.925889Z",
     "shell.execute_reply": "2022-03-06T03:32:08.926889Z"
    },
    "papermill": {
     "duration": 0.262025,
     "end_time": "2022-03-06T03:32:08.926889",
     "exception": false,
     "start_time": "2022-03-06T03:32:08.664864",
     "status": "completed"
    },
    "tags": []
   },
   "outputs": [
    {
     "data": {
      "image/png": "[encoded data removed]",
      "text/plain": [
       "<Figure size 576x360 with 1 Axes>"
      ]
     },
     "metadata": {
      "needs_background": "light"
     },
     "output_type": "display_data"
    }
   ],
   "source": [
    "_x = np.linspace(δl_scan.min(), δl_scan.max(), 201)\n",
    "y = fit.eval(x = _x)\n",
    "\n",
    "fig, ax = plt.subplots(figsize = (8,5))\n",
    "ax.plot(δl_scan / (2*np.pi*1e6), results, '.', ms = 13, label = 'data')\n",
    "ax.plot(_x / (2*np.pi*1e6), y, label = 'fit', lw = 2)\n",
    "\n",
    "ax.set_xlabel(\"δ [MHz]\", fontsize = 14)\n",
    "ax.set_ylabel(\"# photons\", fontsize = 14)\n",
    "ax.legend(fontsize = 14)\n",
    "ax.set_title(\"Lorentzian Fit\", fontsize = 15)\n",
    "ax.grid(True)"
   ]
  },
  {
   "cell_type": "code",
   "execution_count": 33,
   "id": "7db03d55-3233-4aff-a947-1860b3cf301e",
   "metadata": {
    "execution": {
     "iopub.execute_input": "2022-03-06T03:32:09.026887Z",
     "iopub.status.busy": "2022-03-06T03:32:09.026887Z",
     "iopub.status.idle": "2022-03-06T03:32:09.318888Z",
     "shell.execute_reply": "2022-03-06T03:32:09.319887Z"
    },
    "papermill": {
     "duration": 0.338,
     "end_time": "2022-03-06T03:32:09.319887",
     "exception": false,
     "start_time": "2022-03-06T03:32:08.981887",
     "status": "completed"
    },
    "tags": []
   },
   "outputs": [
    {
     "data": {
      "image/png": "[encoded data removed]",
      "text/plain": [
       "<Figure size 432x432 with 2 Axes>"
      ]
     },
     "metadata": {
      "needs_background": "light"
     },
     "output_type": "display_data"
    }
   ],
   "source": [
    "_ = fit.plot()"
   ]
  },
  {
   "cell_type": "markdown",
   "id": "de774ff7-7f22-4f5f-a1bf-b969780a21b8",
   "metadata": {
    "papermill": {
     "duration": 0.043,
     "end_time": "2022-03-06T03:32:09.404888",
     "exception": false,
     "start_time": "2022-03-06T03:32:09.361888",
     "status": "completed"
    },
    "tags": []
   },
   "source": [
    "#### Fit Gaussian to scan"
   ]
  },
  {
   "cell_type": "code",
   "execution_count": 34,
   "id": "2406e400-d8a4-42a6-a169-6940ee1cdea8",
   "metadata": {
    "execution": {
     "iopub.execute_input": "2022-03-06T03:32:09.497889Z",
     "iopub.status.busy": "2022-03-06T03:32:09.496887Z",
     "iopub.status.idle": "2022-03-06T03:32:09.589889Z",
     "shell.execute_reply": "2022-03-06T03:32:09.590888Z"
    },
    "papermill": {
     "duration": 0.143001,
     "end_time": "2022-03-06T03:32:09.590888",
     "exception": false,
     "start_time": "2022-03-06T03:32:09.447887",
     "status": "completed"
    },
    "tags": []
   },
   "outputs": [
    {
     "name": "stdout",
     "output_type": "stream",
     "text": [
      "[[Model]]\n",
      "    Model(gaussian)\n",
      "[[Fit Statistics]]\n",
      "    # fitting method   = leastsq\n",
      "    # function evals   = 33\n",
      "    # data points      = 31\n",
      "    # variables        = 3\n",
      "    chi-square         = 0.54769489\n",
      "    reduced chi-square = 0.01956053\n",
      "    Akaike info crit   = -119.116748\n",
      "    Bayesian info crit = -114.814786\n",
      "[[Variables]]\n",
      "    amplitude:  4.9945e+08 +/- 16589835.5 (3.32%) (init = 3.844097e+08)\n",
      "    center:    -8118163.68 +/- 4952626.55 (61.01%) (init = -9801769)\n",
      "    sigma:      1.3049e+08 +/- 5103861.88 (3.91%) (init = 8.821592e+07)\n",
      "    fwhm:       3.0728e+08 +/- 12018676.0 (3.91%) == '2.3548200*sigma'\n",
      "    height:     1.52694908 +/- 0.05030177 (3.29%) == '0.3989423*amplitude/max(1e-15, sigma)'\n",
      "[[Correlations]] (unreported correlations are < 0.100)\n",
      "    C(amplitude, sigma) = 0.596\n"
     ]
    }
   ],
   "source": [
    "model = GaussianModel()\n",
    "params = model.guess(\n",
    "                    results, \n",
    "                    x = δl_scan\n",
    ")\n",
    "fit = model.fit(results, params, x = δl_scan)\n",
    "print(fit.fit_report())"
   ]
  },
  {
   "cell_type": "code",
   "execution_count": 35,
   "id": "da38a3a8-2bc3-40b8-bc8e-a25b4bbae3e8",
   "metadata": {
    "execution": {
     "iopub.execute_input": "2022-03-06T03:32:09.690887Z",
     "iopub.status.busy": "2022-03-06T03:32:09.689887Z",
     "iopub.status.idle": "2022-03-06T03:32:09.889889Z",
     "shell.execute_reply": "2022-03-06T03:32:09.888888Z"
    },
    "papermill": {
     "duration": 0.251001,
     "end_time": "2022-03-06T03:32:09.889889",
     "exception": false,
     "start_time": "2022-03-06T03:32:09.638888",
     "status": "completed"
    },
    "tags": []
   },
   "outputs": [
    {
     "data": {
      "image/png": "[encoded data removed]",
      "text/plain": [
       "<Figure size 576x360 with 1 Axes>"
      ]
     },
     "metadata": {
      "needs_background": "light"
     },
     "output_type": "display_data"
    }
   ],
   "source": [
    "_x = np.linspace(δl_scan.min(), δl_scan.max(), 201)\n",
    "y = fit.eval(x = _x)\n",
    "\n",
    "fig, ax = plt.subplots(figsize = (8,5))\n",
    "ax.plot(δl_scan / (2*np.pi*1e6), results, '.', ms = 13, label = 'data')\n",
    "ax.plot(_x / (2*np.pi*1e6), y, label = 'fit', lw = 2)\n",
    "\n",
    "ax.set_xlabel(\"δ [MHz]\", fontsize = 14)\n",
    "ax.set_ylabel(\"# photons\", fontsize = 14)\n",
    "ax.legend(fontsize = 14)\n",
    "ax.set_title(\"Gaussian Fit\", fontsize = 15)\n",
    "ax.grid(True)"
   ]
  },
  {
   "cell_type": "code",
   "execution_count": 36,
   "id": "4e0bd614-03a0-4e0c-b644-72986d4026a4",
   "metadata": {
    "execution": {
     "iopub.execute_input": "2022-03-06T03:32:09.981889Z",
     "iopub.status.busy": "2022-03-06T03:32:09.980888Z",
     "iopub.status.idle": "2022-03-06T03:32:10.267192Z",
     "shell.execute_reply": "2022-03-06T03:32:10.267192Z"
    },
    "papermill": {
     "duration": 0.335306,
     "end_time": "2022-03-06T03:32:10.268194",
     "exception": false,
     "start_time": "2022-03-06T03:32:09.932888",
     "status": "completed"
    },
    "tags": []
   },
   "outputs": [
    {
     "data": {
      "image/png": "[encoded data removed]",
      "text/plain": [
       "<Figure size 432x432 with 2 Axes>"
      ]
     },
     "metadata": {
      "needs_background": "light"
     },
     "output_type": "display_data"
    }
   ],
   "source": [
    "_ = fit.plot()"
   ]
  },
  {
   "cell_type": "markdown",
   "id": "2e23e87f-79c2-470a-aec8-f9918c7f2c91",
   "metadata": {
    "papermill": {
     "duration": 0.046001,
     "end_time": "2022-03-06T03:32:10.361192",
     "exception": false,
     "start_time": "2022-03-06T03:32:10.315191",
     "status": "completed"
    },
    "tags": []
   },
   "source": [
    "#### Fit Voigt to scan"
   ]
  },
  {
   "cell_type": "code",
   "execution_count": 37,
   "id": "427de737-3ec5-4376-9fce-d4557da3a20d",
   "metadata": {
    "execution": {
     "iopub.execute_input": "2022-03-06T03:32:10.465193Z",
     "iopub.status.busy": "2022-03-06T03:32:10.464193Z",
     "iopub.status.idle": "2022-03-06T03:32:10.567191Z",
     "shell.execute_reply": "2022-03-06T03:32:10.568191Z"
    },
    "papermill": {
     "duration": 0.150997,
     "end_time": "2022-03-06T03:32:10.568191",
     "exception": false,
     "start_time": "2022-03-06T03:32:10.417194",
     "status": "completed"
    },
    "tags": []
   },
   "outputs": [
    {
     "name": "stdout",
     "output_type": "stream",
     "text": [
      "[[Model]]\n",
      "    Model(voigt)\n",
      "[[Fit Statistics]]\n",
      "    # fitting method   = leastsq\n",
      "    # function evals   = 29\n",
      "    # data points      = 31\n",
      "    # variables        = 3\n",
      "    chi-square         = 0.26107062\n",
      "    reduced chi-square = 0.00932395\n",
      "    Akaike info crit   = -142.085497\n",
      "    Bayesian info crit = -137.783536\n",
      "[[Variables]]\n",
      "    amplitude:  5.9023e+08 +/- 14731565.3 (2.50%) (init = 5.766145e+08)\n",
      "    center:    -9580550.50 +/- 3295197.71 (34.39%) (init = -9801769)\n",
      "    sigma:      76380110.3 +/- 2499300.02 (3.27%) (init = 5.734035e+07)\n",
      "    gamma:      76380110.3 +/- 2499300.03 (3.27%) == 'sigma'\n",
      "    fwhm:       2.7507e+08 +/- 5473274.07 (1.99%) == '1.0692*gamma+sqrt(0.8664*gamma**2+5.545083*sigma**2)'\n",
      "    height:     1.61281058 +/- 0.02964048 (1.84%) == '(amplitude/(max(1e-15, sigma*sqrt(2*pi))))*wofz((1j*gamma)/(max(1e-15, sigma*sqrt(2)))).real'\n",
      "[[Correlations]] (unreported correlations are < 0.100)\n",
      "    C(amplitude, sigma) = 0.679\n"
     ]
    }
   ],
   "source": [
    "model = VoigtModel()\n",
    "params = model.guess(\n",
    "                    results, \n",
    "                    x = δl_scan\n",
    ")\n",
    "fit = model.fit(results, params, x = δl_scan)\n",
    "print(fit.fit_report())"
   ]
  },
  {
   "cell_type": "code",
   "execution_count": 38,
   "id": "50403281-0ba4-4572-a029-2614a6647796",
   "metadata": {
    "execution": {
     "iopub.execute_input": "2022-03-06T03:32:10.671192Z",
     "iopub.status.busy": "2022-03-06T03:32:10.671192Z",
     "iopub.status.idle": "2022-03-06T03:32:10.885192Z",
     "shell.execute_reply": "2022-03-06T03:32:10.886192Z"
    },
    "papermill": {
     "duration": 0.269001,
     "end_time": "2022-03-06T03:32:10.886192",
     "exception": false,
     "start_time": "2022-03-06T03:32:10.617191",
     "status": "completed"
    },
    "tags": []
   },
   "outputs": [
    {
     "data": {
      "image/png": "[encoded data removed]",
      "text/plain": [
       "<Figure size 576x360 with 1 Axes>"
      ]
     },
     "metadata": {
      "needs_background": "light"
     },
     "output_type": "display_data"
    }
   ],
   "source": [
    "_x = np.linspace(δl_scan.min(), δl_scan.max(), 201)\n",
    "y = fit.eval(x = _x)\n",
    "\n",
    "fig, ax = plt.subplots(figsize = (8,5))\n",
    "ax.plot(δl_scan / (2*np.pi*1e6), results, '.', ms = 13, label = 'data')\n",
    "ax.plot(_x / (2*np.pi*1e6), y, label = 'fit', lw = 2)\n",
    "\n",
    "ax.set_xlabel(\"δ [MHz]\", fontsize = 14)\n",
    "ax.set_ylabel(\"# photons\", fontsize = 14)\n",
    "ax.legend(fontsize = 14)\n",
    "ax.set_title(\"Voigt Fit\", fontsize = 15)\n",
    "ax.grid(True)"
   ]
  },
  {
   "cell_type": "code",
   "execution_count": 39,
   "id": "f3cfa0ae-8cd4-44d3-a3b2-86b49bd91fd5",
   "metadata": {
    "execution": {
     "iopub.execute_input": "2022-03-06T03:32:10.981192Z",
     "iopub.status.busy": "2022-03-06T03:32:10.981192Z",
     "iopub.status.idle": "2022-03-06T03:32:11.282192Z",
     "shell.execute_reply": "2022-03-06T03:32:11.281193Z"
    },
    "papermill": {
     "duration": 0.348998,
     "end_time": "2022-03-06T03:32:11.282192",
     "exception": false,
     "start_time": "2022-03-06T03:32:10.933194",
     "status": "completed"
    },
    "tags": []
   },
   "outputs": [
    {
     "data": {
      "image/png": "[encoded data removed]",
      "text/plain": [
       "<Figure size 432x432 with 2 Axes>"
      ]
     },
     "metadata": {
      "needs_background": "light"
     },
     "output_type": "display_data"
    }
   ],
   "source": [
    "_ = fit.plot()"
   ]
  },
  {
   "cell_type": "code",
   "execution_count": null,
   "id": "7e576c63-d35f-4274-954b-1ed373a0be02",
   "metadata": {
    "papermill": {
     "duration": 0.048998,
     "end_time": "2022-03-06T03:32:11.380191",
     "exception": false,
     "start_time": "2022-03-06T03:32:11.331193",
     "status": "completed"
    },
    "tags": []
   },
   "outputs": [],
   "source": []
  }
 ],
 "metadata": {
  "kernelspec": {
   "display_name": "Python 3 (ipykernel)",
   "language": "python",
   "name": "python3"
  },
  "language_info": {
   "codemirror_mode": {
    "name": "ipython",
    "version": 3
   },
   "file_extension": ".py",
   "mimetype": "text/x-python",
   "name": "python",
   "nbconvert_exporter": "python",
   "pygments_lexer": "ipython3",
   "version": "3.8.12"
  },
  "papermill": {
   "default_parameters": {},
   "duration": 1581.878976,
   "end_time": "2022-03-06T03:32:12.428926",
   "environment_variables": {},
   "exception": null,
   "input_path": "multipass amherst template.ipynb",
   "output_path": "R(1) F1'=5_2 F'=2.ipynb",
   "parameters": {
    "excited_F": 2,
    "excited_F1": 2.5,
    "excited_J": 2,
    "system_Js": [
     1,
     3
    ],
    "transition_type": "R"
   },
   "start_time": "2022-03-06T03:05:50.549950",
   "version": "2.3.4"
  }
 },
 "nbformat": 4,
 "nbformat_minor": 5
}