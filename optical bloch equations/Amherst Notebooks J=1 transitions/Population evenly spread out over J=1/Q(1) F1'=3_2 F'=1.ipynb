{
 "cells": [
  {
   "cell_type": "code",
   "execution_count": 1,
   "id": "7d8a7537-0017-470b-8014-10fee27536eb",
   "metadata": {
    "execution": {
     "iopub.execute_input": "2022-03-06T01:41:15.975100Z",
     "iopub.status.busy": "2022-03-06T01:41:15.974101Z",
     "iopub.status.idle": "2022-03-06T01:41:20.675106Z",
     "shell.execute_reply": "2022-03-06T01:41:20.676107Z"
    },
    "papermill": {
     "duration": 4.738007,
     "end_time": "2022-03-06T01:41:20.676107",
     "exception": false,
     "start_time": "2022-03-06T01:41:15.938100",
     "status": "completed"
    },
    "tags": []
   },
   "outputs": [],
   "source": [
    "%load_ext autoreload\n",
    "%autoreload 2\n",
    "\n",
    "import numpy as np\n",
    "import sympy as smp\n",
    "from tqdm import tqdm\n",
    "from sympy import Symbol, symbols\n",
    "import centrex_TlF as centrex\n",
    "import matplotlib.pyplot as plt\n",
    "from julia import Main"
   ]
  },
  {
   "cell_type": "markdown",
   "id": "6b24d705-f2c7-4949-826b-60484c6990f5",
   "metadata": {
    "papermill": {
     "duration": 0.022003,
     "end_time": "2022-03-06T01:41:20.720109",
     "exception": false,
     "start_time": "2022-03-06T01:41:20.698106",
     "status": "completed"
    },
    "tags": []
   },
   "source": [
    "### Papermill parameters"
   ]
  },
  {
   "cell_type": "code",
   "execution_count": 2,
   "id": "9788a2c1-095c-4d35-8c1b-a0548a74c8d2",
   "metadata": {
    "execution": {
     "iopub.execute_input": "2022-03-06T01:41:20.767106Z",
     "iopub.status.busy": "2022-03-06T01:41:20.766106Z",
     "iopub.status.idle": "2022-03-06T01:41:20.833109Z",
     "shell.execute_reply": "2022-03-06T01:41:20.834108Z"
    },
    "papermill": {
     "duration": 0.093001,
     "end_time": "2022-03-06T01:41:20.834108",
     "exception": false,
     "start_time": "2022-03-06T01:41:20.741107",
     "status": "completed"
    },
    "tags": [
     "parameters"
    ]
   },
   "outputs": [],
   "source": [
    "Γ = 2*np.pi*1.56e6\n",
    "\n",
    "transition_type = \"R\"\n",
    "ground_J = 1\n",
    "excited_F = 2\n",
    "excited_F1 = 3/2\n",
    "system_J = [1,3]\n",
    "\n",
    "laser_power = 23.8e-3 # power in W\n",
    "σlaser = 0.000914\n",
    "npasses = 9\n",
    "multipass_offset = 0.01\n",
    "distance_between_passes = 0.03556/npasses\n",
    "power_loss_per_pass = 20.2/23.8\n",
    "\n",
    "vcm = 150\n",
    "vcm_sigma = 30\n",
    "vperp_sigma = 38\n",
    "\n",
    "ωp = 0.65*Γ\n",
    "\n",
    "β = 3.8\n",
    "ωphase = 0.0\n",
    "\n",
    "scan_range = [-30,31,2]\n",
    "\n",
    "nprocs = 7"
   ]
  },
  {
   "cell_type": "code",
   "execution_count": 3,
   "id": "9024769b",
   "metadata": {
    "execution": {
     "iopub.execute_input": "2022-03-06T01:41:20.883107Z",
     "iopub.status.busy": "2022-03-06T01:41:20.882106Z",
     "iopub.status.idle": "2022-03-06T01:41:20.944109Z",
     "shell.execute_reply": "2022-03-06T01:41:20.945109Z"
    },
    "papermill": {
     "duration": 0.088003,
     "end_time": "2022-03-06T01:41:20.945109",
     "exception": false,
     "start_time": "2022-03-06T01:41:20.857106",
     "status": "completed"
    },
    "tags": [
     "injected-parameters"
    ]
   },
   "outputs": [],
   "source": [
    "# Parameters\n",
    "transition_type = \"Q\"\n",
    "excited_J = 1\n",
    "excited_F = 1\n",
    "excited_F1 = 1.5\n",
    "system_Js = [1, 3]\n"
   ]
  },
  {
   "cell_type": "code",
   "execution_count": 4,
   "id": "c21c06f6-c1af-496a-b304-7469b9ba8a17",
   "metadata": {
    "execution": {
     "iopub.execute_input": "2022-03-06T01:41:20.994106Z",
     "iopub.status.busy": "2022-03-06T01:41:20.994106Z",
     "iopub.status.idle": "2022-03-06T01:41:21.590107Z",
     "shell.execute_reply": "2022-03-06T01:41:21.590107Z"
    },
    "papermill": {
     "duration": 0.622,
     "end_time": "2022-03-06T01:41:21.590107",
     "exception": false,
     "start_time": "2022-03-06T01:41:20.968107",
     "status": "completed"
    },
    "tags": []
   },
   "outputs": [],
   "source": [
    "trans = centrex.transitions.LaserTransition(\n",
    "    f\"{transition_type}{ground_J}\",\n",
    "    F1 = excited_F1,\n",
    "    F = excited_F\n",
    ")\n",
    "population_J = trans.ground_selector.J"
   ]
  },
  {
   "cell_type": "code",
   "execution_count": 5,
   "id": "a8bac859-a1d8-41cf-87c1-45cb8e44710d",
   "metadata": {
    "execution": {
     "iopub.execute_input": "2022-03-06T01:41:21.639106Z",
     "iopub.status.busy": "2022-03-06T01:41:21.638106Z",
     "iopub.status.idle": "2022-03-06T01:41:21.702107Z",
     "shell.execute_reply": "2022-03-06T01:41:21.701105Z"
    },
    "papermill": {
     "duration": 0.088999,
     "end_time": "2022-03-06T01:41:21.702107",
     "exception": false,
     "start_time": "2022-03-06T01:41:21.613108",
     "status": "completed"
    },
    "tags": []
   },
   "outputs": [
    {
     "name": "stdout",
     "output_type": "stream",
     "text": [
      "excited state : QuantumSelector(J=1, F1=1.5, F=1, mF=None, electronic='B', P=1, Ω=None)\n",
      "population in states : QuantumSelector(J=1, F1=None, F=None, mF=None, electronic='X', P=None, Ω=None)\n"
     ]
    }
   ],
   "source": [
    "excited_state = centrex.states.QuantumSelector(\n",
    "                    J=excited_J, F=excited_F, F1=excited_F1, \n",
    "                    electronic = 'B', P = trans.excited_selector.P\n",
    ")\n",
    "population_states = centrex.states.QuantumSelector(J=population_J, electronic = 'X')\n",
    "\n",
    "print(f\"excited state : {excited_state}\")\n",
    "print(f\"population in states : {population_states}\")"
   ]
  },
  {
   "cell_type": "markdown",
   "id": "21d17f10-4029-4df6-842f-0e7c76366a7c",
   "metadata": {
    "papermill": {
     "duration": 0.023997,
     "end_time": "2022-03-06T01:41:21.748107",
     "exception": false,
     "start_time": "2022-03-06T01:41:21.724110",
     "status": "completed"
    },
    "tags": []
   },
   "source": [
    "# Initial setup\n",
    "## Involved states"
   ]
  },
  {
   "cell_type": "code",
   "execution_count": 6,
   "id": "8a6852be-2045-4f4d-b899-c2717f66efa9",
   "metadata": {
    "execution": {
     "iopub.execute_input": "2022-03-06T01:41:21.816106Z",
     "iopub.status.busy": "2022-03-06T01:41:21.816106Z",
     "iopub.status.idle": "2022-03-06T01:41:21.890107Z",
     "shell.execute_reply": "2022-03-06T01:41:21.891106Z"
    },
    "papermill": {
     "duration": 0.104999,
     "end_time": "2022-03-06T01:41:21.891106",
     "exception": false,
     "start_time": "2022-03-06T01:41:21.786107",
     "status": "completed"
    },
    "tags": []
   },
   "outputs": [],
   "source": [
    "gnd = centrex.states.QuantumSelector(J=system_J, electronic = 'X')\n",
    "exc = excited_state\n",
    "\n",
    "gnd_laser = centrex.states.QuantumSelector(J=trans.ground_selector.J, electronic = 'X')\n",
    "exc_laser = excited_state"
   ]
  },
  {
   "cell_type": "code",
   "execution_count": 7,
   "id": "7f40b6a0-2e4a-489a-892c-84cf72f711c0",
   "metadata": {
    "execution": {
     "iopub.execute_input": "2022-03-06T01:41:21.941109Z",
     "iopub.status.busy": "2022-03-06T01:41:21.940107Z",
     "iopub.status.idle": "2022-03-06T01:41:22.001105Z",
     "shell.execute_reply": "2022-03-06T01:41:22.002106Z"
    },
    "papermill": {
     "duration": 0.088,
     "end_time": "2022-03-06T01:41:22.002106",
     "exception": false,
     "start_time": "2022-03-06T01:41:21.914106",
     "status": "completed"
    },
    "tags": []
   },
   "outputs": [],
   "source": [
    "syspars = centrex.states.SystemParameters(\n",
    "    nprocs  = nprocs,\n",
    "    Γ       = Γ,\n",
    "    X  = gnd,\n",
    "    B = [exc]\n",
    ")"
   ]
  },
  {
   "cell_type": "markdown",
   "id": "5783d09d-767e-4901-b328-5a3d8529c562",
   "metadata": {
    "papermill": {
     "duration": 0.026999,
     "end_time": "2022-03-06T01:41:22.052106",
     "exception": false,
     "start_time": "2022-03-06T01:41:22.025107",
     "status": "completed"
    },
    "tags": []
   },
   "source": [
    "## Parameters"
   ]
  },
  {
   "cell_type": "code",
   "execution_count": 8,
   "id": "afce7fb3-65f2-4ace-b238-b74f88ff4659",
   "metadata": {
    "execution": {
     "iopub.execute_input": "2022-03-06T01:41:22.103107Z",
     "iopub.status.busy": "2022-03-06T01:41:22.103107Z",
     "iopub.status.idle": "2022-03-06T01:41:22.176106Z",
     "shell.execute_reply": "2022-03-06T01:41:22.177106Z"
    },
    "papermill": {
     "duration": 0.101999,
     "end_time": "2022-03-06T01:41:22.177106",
     "exception": false,
     "start_time": "2022-03-06T01:41:22.075107",
     "status": "completed"
    },
    "tags": []
   },
   "outputs": [],
   "source": [
    "odepars = centrex.lindblad.odeParameters(\n",
    "    Ωl = \"Ωl0 * phase_modulation(t, β, ωphase) * multipass_2d_intensity(vz*t, y0+vy*t, ampl, xlocs, ylocs, σzlaser, σylaser)\",\n",
    "    Ωl0     = 1*syspars.Γ,    # Rabi frequency of the laser [rad/s]\n",
    "    δl      = 0.0,              # detuning of the laser [rad/s]\n",
    "    \n",
    "    # laser beam properties\n",
    "    σzlaser = σlaser * np.sqrt(2),\n",
    "    σylaser = σlaser * np.sqrt(2),\n",
    "    \n",
    "    # laser multipass\n",
    "    ampl = [np.sqrt(power_loss_per_pass**n) for n in range(npasses)],\n",
    "    xlocs = [(n-1)*distance_between_passes + multipass_offset for n in centrex.utils.light.multipass_prism_order(npasses)],\n",
    "    ylocs = npasses*[0.0],\n",
    "    \n",
    "    # laser phase modulation\n",
    "    ωphase = ωphase,       # laser phase modulation frequency [rad/s]\n",
    "    β      = β,             # laser phase modulation depth [rad]\n",
    "\n",
    "    # laser polarization switching\n",
    "    ωp = ωp,           # polarization switching frequency [rad/s]\n",
    "    φp = 0.0,                 # polarization switching phase [rad]\n",
    "    Pl  = \"sin(ωp*t + φp)\",\n",
    "    Plz = \"Pl>0\",\n",
    "    Plx = \"Pl<=0\",\n",
    "    Ply = 0.0,\n",
    "    \n",
    "    # molecules\n",
    "    y0 = 0.,                   # molecule start y position [m]\n",
    "    vz = 150.,                 # longitudinal molecular velocity [m/s]\n",
    "    vy = 0.,                   # molecule vy [m/s]\n",
    ")\n"
   ]
  },
  {
   "cell_type": "markdown",
   "id": "94aff443-8f03-4464-b85e-cea4b4407fd1",
   "metadata": {
    "papermill": {
     "duration": 0.022999,
     "end_time": "2022-03-06T01:41:22.222106",
     "exception": false,
     "start_time": "2022-03-06T01:41:22.199107",
     "status": "completed"
    },
    "tags": []
   },
   "source": [
    "## Transitions"
   ]
  },
  {
   "cell_type": "code",
   "execution_count": 9,
   "id": "8ab6c2cd-69a9-43bc-b367-70604948ee8e",
   "metadata": {
    "execution": {
     "iopub.execute_input": "2022-03-06T01:41:22.286106Z",
     "iopub.status.busy": "2022-03-06T01:41:22.286106Z",
     "iopub.status.idle": "2022-03-06T01:41:22.350107Z",
     "shell.execute_reply": "2022-03-06T01:41:22.351106Z"
    },
    "papermill": {
     "duration": 0.106001,
     "end_time": "2022-03-06T01:41:22.351106",
     "exception": false,
     "start_time": "2022-03-06T01:41:22.245105",
     "status": "completed"
    },
    "tags": []
   },
   "outputs": [],
   "source": [
    "transitions = [\n",
    "    centrex.couplings.TransitionSelector(\n",
    "        ground = 1*centrex.states.generate_coupled_states_ground_X(gnd_laser),\n",
    "        excited = 1*centrex.states.generate_coupled_states_excited_B(exc_laser),\n",
    "        polarizations        = [[0,0,1],[1,0,0],[0,1,0]],\n",
    "        polarization_symbols = symbols(\"Plz     Plx     Ply\"),\n",
    "        Ω = smp.Symbol('Ωl', complex = True),\n",
    "        δ = smp.Symbol('δl'),\n",
    "        description = \"laser transition\",        \n",
    "    ),\n",
    "]"
   ]
  },
  {
   "cell_type": "code",
   "execution_count": 10,
   "id": "8830dc74-5aef-4786-b0b6-d086c03b86a7",
   "metadata": {
    "execution": {
     "iopub.execute_input": "2022-03-06T01:41:22.400107Z",
     "iopub.status.busy": "2022-03-06T01:41:22.400107Z",
     "iopub.status.idle": "2022-03-06T01:41:22.461108Z",
     "shell.execute_reply": "2022-03-06T01:41:22.462106Z"
    },
    "papermill": {
     "duration": 0.088,
     "end_time": "2022-03-06T01:41:22.462106",
     "exception": false,
     "start_time": "2022-03-06T01:41:22.374106",
     "status": "completed"
    },
    "tags": []
   },
   "outputs": [
    {
     "data": {
      "text/plain": [
       "\"Q(1) F1'=3_2 F'=1\""
      ]
     },
     "execution_count": 10,
     "metadata": {},
     "output_type": "execute_result"
    }
   ],
   "source": [
    "transition_name = centrex.transitions.identify_transition(\n",
    "    transitions[0].ground[0],\n",
    "    transitions[0].excited[0]\n",
    ")\n",
    "transition_name = transition_name.replace(\",\",\"\").replace(\"/\",\"_\")\n",
    "transition_name"
   ]
  },
  {
   "cell_type": "markdown",
   "id": "e6bed866-24bc-4cbb-9664-022df1a48188",
   "metadata": {
    "papermill": {
     "duration": 0.024003,
     "end_time": "2022-03-06T01:41:22.509108",
     "exception": false,
     "start_time": "2022-03-06T01:41:22.485105",
     "status": "completed"
    },
    "tags": []
   },
   "source": [
    "## Generate System"
   ]
  },
  {
   "cell_type": "code",
   "execution_count": 11,
   "id": "4ed1375f-f64b-45c0-8ca8-f98491e8c8f0",
   "metadata": {
    "execution": {
     "iopub.execute_input": "2022-03-06T01:41:22.563108Z",
     "iopub.status.busy": "2022-03-06T01:41:22.563108Z",
     "iopub.status.idle": "2022-03-06T01:42:40.613509Z",
     "shell.execute_reply": "2022-03-06T01:42:40.612509Z"
    },
    "papermill": {
     "duration": 78.079402,
     "end_time": "2022-03-06T01:42:40.613509",
     "exception": false,
     "start_time": "2022-03-06T01:41:22.534107",
     "status": "completed"
    },
    "tags": []
   },
   "outputs": [
    {
     "data": {
      "text/html": [
       "<pre style=\"white-space:pre;overflow-x:auto;line-height:normal;font-family:Menlo,'DejaVu Sans Mono',consolas,'Courier New',monospace\"><span style=\"color: #7fbfbf; text-decoration-color: #7fbfbf\">[19:41:22] </span><span style=\"color: #000080; text-decoration-color: #000080\">INFO    </span> generate_OBE_system: <span style=\"color: #008080; text-decoration-color: #008080; font-weight: bold\">1</span>/<span style=\"color: #008080; text-decoration-color: #008080; font-weight: bold\">6</span> -&gt; Generating the reduced      <a href=\"file://C:\\Users\\ogras\\anaconda3\\lib\\site-packages\\centrex_tlf-0.2-py3.8.egg\\centrex_TlF\\lindblad\\utils_setup.py\"><span style=\"color: #7f7f7f; text-decoration-color: #7f7f7f\">utils_setup.py</span></a><span style=\"color: #7f7f7f; text-decoration-color: #7f7f7f\">:</span><a href=\"file://C:\\Users\\ogras\\anaconda3\\lib\\site-packages\\centrex_tlf-0.2-py3.8.egg\\centrex_TlF\\lindblad\\utils_setup.py#88\"><span style=\"color: #7f7f7f; text-decoration-color: #7f7f7f\">88</span></a>\n",
       "                    Hamiltonian                                                              \n",
       "</pre>\n"
      ],
      "text/plain": [
       "\u001b[2;36m[19:41:22]\u001b[0m\u001b[2;36m \u001b[0m\u001b[34mINFO    \u001b[0m generate_OBE_system: \u001b[1;36m1\u001b[0m/\u001b[1;36m6\u001b[0m -> Generating the reduced      \u001b]8;id=47441;file://C:\\Users\\ogras\\anaconda3\\lib\\site-packages\\centrex_tlf-0.2-py3.8.egg\\centrex_TlF\\lindblad\\utils_setup.py\u001b\\\u001b[2mutils_setup.py\u001b[0m\u001b]8;;\u001b\\\u001b[2m:\u001b[0m\u001b]8;id=69192;file://C:\\Users\\ogras\\anaconda3\\lib\\site-packages\\centrex_tlf-0.2-py3.8.egg\\centrex_TlF\\lindblad\\utils_setup.py#88\u001b\\\u001b[2m88\u001b[0m\u001b]8;;\u001b\\\n",
       "                    Hamiltonian                                                              \n"
      ]
     },
     "metadata": {},
     "output_type": "display_data"
    },
    {
     "data": {
      "text/html": [
       "<pre style=\"white-space:pre;overflow-x:auto;line-height:normal;font-family:Menlo,'DejaVu Sans Mono',consolas,'Courier New',monospace\"><span style=\"color: #7fbfbf; text-decoration-color: #7fbfbf\">[19:41:25] </span><span style=\"color: #000080; text-decoration-color: #000080\">INFO    </span> generate_OBE_system: <span style=\"color: #008080; text-decoration-color: #008080; font-weight: bold\">2</span>/<span style=\"color: #008080; text-decoration-color: #008080; font-weight: bold\">6</span> -&gt; Generating the couplings   <a href=\"file://C:\\Users\\ogras\\anaconda3\\lib\\site-packages\\centrex_tlf-0.2-py3.8.egg\\centrex_TlF\\lindblad\\utils_setup.py\"><span style=\"color: #7f7f7f; text-decoration-color: #7f7f7f\">utils_setup.py</span></a><span style=\"color: #7f7f7f; text-decoration-color: #7f7f7f\">:</span><a href=\"file://C:\\Users\\ogras\\anaconda3\\lib\\site-packages\\centrex_tlf-0.2-py3.8.egg\\centrex_TlF\\lindblad\\utils_setup.py#103\"><span style=\"color: #7f7f7f; text-decoration-color: #7f7f7f\">103</span></a>\n",
       "                    corresponding to the transitions                                         \n",
       "</pre>\n"
      ],
      "text/plain": [
       "\u001b[2;36m[19:41:25]\u001b[0m\u001b[2;36m \u001b[0m\u001b[34mINFO    \u001b[0m generate_OBE_system: \u001b[1;36m2\u001b[0m/\u001b[1;36m6\u001b[0m -> Generating the couplings   \u001b]8;id=824106;file://C:\\Users\\ogras\\anaconda3\\lib\\site-packages\\centrex_tlf-0.2-py3.8.egg\\centrex_TlF\\lindblad\\utils_setup.py\u001b\\\u001b[2mutils_setup.py\u001b[0m\u001b]8;;\u001b\\\u001b[2m:\u001b[0m\u001b]8;id=410186;file://C:\\Users\\ogras\\anaconda3\\lib\\site-packages\\centrex_tlf-0.2-py3.8.egg\\centrex_TlF\\lindblad\\utils_setup.py#103\u001b\\\u001b[2m103\u001b[0m\u001b]8;;\u001b\\\n",
       "                    corresponding to the transitions                                         \n"
      ]
     },
     "metadata": {},
     "output_type": "display_data"
    },
    {
     "data": {
      "text/html": [
       "<pre style=\"white-space:pre;overflow-x:auto;line-height:normal;font-family:Menlo,'DejaVu Sans Mono',consolas,'Courier New',monospace\"><span style=\"color: #7fbfbf; text-decoration-color: #7fbfbf\">[19:41:44] </span><span style=\"color: #000080; text-decoration-color: #000080\">INFO    </span> generate_OBE_system: <span style=\"color: #008080; text-decoration-color: #008080; font-weight: bold\">3</span>/<span style=\"color: #008080; text-decoration-color: #008080; font-weight: bold\">6</span> -&gt; Generating the symbolic    <a href=\"file://C:\\Users\\ogras\\anaconda3\\lib\\site-packages\\centrex_tlf-0.2-py3.8.egg\\centrex_TlF\\lindblad\\utils_setup.py\"><span style=\"color: #7f7f7f; text-decoration-color: #7f7f7f\">utils_setup.py</span></a><span style=\"color: #7f7f7f; text-decoration-color: #7f7f7f\">:</span><a href=\"file://C:\\Users\\ogras\\anaconda3\\lib\\site-packages\\centrex_tlf-0.2-py3.8.egg\\centrex_TlF\\lindblad\\utils_setup.py#138\"><span style=\"color: #7f7f7f; text-decoration-color: #7f7f7f\">138</span></a>\n",
       "                    Hamiltonian                                                              \n",
       "</pre>\n"
      ],
      "text/plain": [
       "\u001b[2;36m[19:41:44]\u001b[0m\u001b[2;36m \u001b[0m\u001b[34mINFO    \u001b[0m generate_OBE_system: \u001b[1;36m3\u001b[0m/\u001b[1;36m6\u001b[0m -> Generating the symbolic    \u001b]8;id=659415;file://C:\\Users\\ogras\\anaconda3\\lib\\site-packages\\centrex_tlf-0.2-py3.8.egg\\centrex_TlF\\lindblad\\utils_setup.py\u001b\\\u001b[2mutils_setup.py\u001b[0m\u001b]8;;\u001b\\\u001b[2m:\u001b[0m\u001b]8;id=866771;file://C:\\Users\\ogras\\anaconda3\\lib\\site-packages\\centrex_tlf-0.2-py3.8.egg\\centrex_TlF\\lindblad\\utils_setup.py#138\u001b\\\u001b[2m138\u001b[0m\u001b]8;;\u001b\\\n",
       "                    Hamiltonian                                                              \n"
      ]
     },
     "metadata": {},
     "output_type": "display_data"
    },
    {
     "data": {
      "text/html": [
       "<pre style=\"white-space:pre;overflow-x:auto;line-height:normal;font-family:Menlo,'DejaVu Sans Mono',consolas,'Courier New',monospace\"><span style=\"color: #7fbfbf; text-decoration-color: #7fbfbf\">[19:41:59] </span><span style=\"color: #000080; text-decoration-color: #000080\">INFO    </span> generate_OBE_system: <span style=\"color: #008080; text-decoration-color: #008080; font-weight: bold\">4</span>/<span style=\"color: #008080; text-decoration-color: #008080; font-weight: bold\">6</span> -&gt; Generating the collapse    <a href=\"file://C:\\Users\\ogras\\anaconda3\\lib\\site-packages\\centrex_tlf-0.2-py3.8.egg\\centrex_TlF\\lindblad\\utils_setup.py\"><span style=\"color: #7f7f7f; text-decoration-color: #7f7f7f\">utils_setup.py</span></a><span style=\"color: #7f7f7f; text-decoration-color: #7f7f7f\">:</span><a href=\"file://C:\\Users\\ogras\\anaconda3\\lib\\site-packages\\centrex_tlf-0.2-py3.8.egg\\centrex_TlF\\lindblad\\utils_setup.py#149\"><span style=\"color: #7f7f7f; text-decoration-color: #7f7f7f\">149</span></a>\n",
       "                    matrices                                                                 \n",
       "</pre>\n"
      ],
      "text/plain": [
       "\u001b[2;36m[19:41:59]\u001b[0m\u001b[2;36m \u001b[0m\u001b[34mINFO    \u001b[0m generate_OBE_system: \u001b[1;36m4\u001b[0m/\u001b[1;36m6\u001b[0m -> Generating the collapse    \u001b]8;id=626388;file://C:\\Users\\ogras\\anaconda3\\lib\\site-packages\\centrex_tlf-0.2-py3.8.egg\\centrex_TlF\\lindblad\\utils_setup.py\u001b\\\u001b[2mutils_setup.py\u001b[0m\u001b]8;;\u001b\\\u001b[2m:\u001b[0m\u001b]8;id=638724;file://C:\\Users\\ogras\\anaconda3\\lib\\site-packages\\centrex_tlf-0.2-py3.8.egg\\centrex_TlF\\lindblad\\utils_setup.py#149\u001b\\\u001b[2m149\u001b[0m\u001b]8;;\u001b\\\n",
       "                    matrices                                                                 \n"
      ]
     },
     "metadata": {},
     "output_type": "display_data"
    },
    {
     "name": "stdout",
     "output_type": "stream",
     "text": [
      "Warning: Branching ratio sum > 1, difference = 2.22e-16\n",
      "Warning: Branching ratio sum > 1, difference = 2.22e-16\n"
     ]
    },
    {
     "data": {
      "text/html": [
       "<pre style=\"white-space:pre;overflow-x:auto;line-height:normal;font-family:Menlo,'DejaVu Sans Mono',consolas,'Courier New',monospace\"><span style=\"color: #7fbfbf; text-decoration-color: #7fbfbf\">           </span><span style=\"color: #000080; text-decoration-color: #000080\">INFO    </span> generate_OBE_system: <span style=\"color: #008080; text-decoration-color: #008080; font-weight: bold\">5</span>/<span style=\"color: #008080; text-decoration-color: #008080; font-weight: bold\">6</span> -&gt; Transforming the           <a href=\"file://C:\\Users\\ogras\\anaconda3\\lib\\site-packages\\centrex_tlf-0.2-py3.8.egg\\centrex_TlF\\lindblad\\utils_setup.py\"><span style=\"color: #7f7f7f; text-decoration-color: #7f7f7f\">utils_setup.py</span></a><span style=\"color: #7f7f7f; text-decoration-color: #7f7f7f\">:</span><a href=\"file://C:\\Users\\ogras\\anaconda3\\lib\\site-packages\\centrex_tlf-0.2-py3.8.egg\\centrex_TlF\\lindblad\\utils_setup.py#178\"><span style=\"color: #7f7f7f; text-decoration-color: #7f7f7f\">178</span></a>\n",
       "                    Hamiltonian and collapse matrices into a symbolic                        \n",
       "                    system of equations                                                      \n",
       "</pre>\n"
      ],
      "text/plain": [
       "\u001b[2;36m          \u001b[0m\u001b[2;36m \u001b[0m\u001b[34mINFO    \u001b[0m generate_OBE_system: \u001b[1;36m5\u001b[0m/\u001b[1;36m6\u001b[0m -> Transforming the           \u001b]8;id=9691;file://C:\\Users\\ogras\\anaconda3\\lib\\site-packages\\centrex_tlf-0.2-py3.8.egg\\centrex_TlF\\lindblad\\utils_setup.py\u001b\\\u001b[2mutils_setup.py\u001b[0m\u001b]8;;\u001b\\\u001b[2m:\u001b[0m\u001b]8;id=440099;file://C:\\Users\\ogras\\anaconda3\\lib\\site-packages\\centrex_tlf-0.2-py3.8.egg\\centrex_TlF\\lindblad\\utils_setup.py#178\u001b\\\u001b[2m178\u001b[0m\u001b]8;;\u001b\\\n",
       "                    Hamiltonian and collapse matrices into a symbolic                        \n",
       "                    system of equations                                                      \n"
      ]
     },
     "metadata": {},
     "output_type": "display_data"
    },
    {
     "data": {
      "text/html": [
       "<pre style=\"white-space:pre;overflow-x:auto;line-height:normal;font-family:Menlo,'DejaVu Sans Mono',consolas,'Courier New',monospace\"><span style=\"color: #7fbfbf; text-decoration-color: #7fbfbf\">[19:42:00] </span><span style=\"color: #000080; text-decoration-color: #000080\">INFO    </span> generate_OBE_system: <span style=\"color: #008080; text-decoration-color: #008080; font-weight: bold\">6</span>/<span style=\"color: #008080; text-decoration-color: #008080; font-weight: bold\">6</span> -&gt; Generating Julia code      <a href=\"file://C:\\Users\\ogras\\anaconda3\\lib\\site-packages\\centrex_tlf-0.2-py3.8.egg\\centrex_TlF\\lindblad\\utils_setup.py\"><span style=\"color: #7f7f7f; text-decoration-color: #7f7f7f\">utils_setup.py</span></a><span style=\"color: #7f7f7f; text-decoration-color: #7f7f7f\">:</span><a href=\"file://C:\\Users\\ogras\\anaconda3\\lib\\site-packages\\centrex_tlf-0.2-py3.8.egg\\centrex_TlF\\lindblad\\utils_setup.py#186\"><span style=\"color: #7f7f7f; text-decoration-color: #7f7f7f\">186</span></a>\n",
       "                    representing the system of equations                                     \n",
       "</pre>\n"
      ],
      "text/plain": [
       "\u001b[2;36m[19:42:00]\u001b[0m\u001b[2;36m \u001b[0m\u001b[34mINFO    \u001b[0m generate_OBE_system: \u001b[1;36m6\u001b[0m/\u001b[1;36m6\u001b[0m -> Generating Julia code      \u001b]8;id=844031;file://C:\\Users\\ogras\\anaconda3\\lib\\site-packages\\centrex_tlf-0.2-py3.8.egg\\centrex_TlF\\lindblad\\utils_setup.py\u001b\\\u001b[2mutils_setup.py\u001b[0m\u001b]8;;\u001b\\\u001b[2m:\u001b[0m\u001b]8;id=424300;file://C:\\Users\\ogras\\anaconda3\\lib\\site-packages\\centrex_tlf-0.2-py3.8.egg\\centrex_TlF\\lindblad\\utils_setup.py#186\u001b\\\u001b[2m186\u001b[0m\u001b]8;;\u001b\\\n",
       "                    representing the system of equations                                     \n"
      ]
     },
     "metadata": {},
     "output_type": "display_data"
    },
    {
     "data": {
      "text/html": [
       "<pre style=\"white-space:pre;overflow-x:auto;line-height:normal;font-family:Menlo,'DejaVu Sans Mono',consolas,'Courier New',monospace\"><span style=\"color: #7fbfbf; text-decoration-color: #7fbfbf\">[19:42:08] </span><span style=\"color: #000080; text-decoration-color: #000080\">INFO    </span> setup_OBE_system_julia: <span style=\"color: #008080; text-decoration-color: #008080; font-weight: bold\">1</span>/<span style=\"color: #008080; text-decoration-color: #008080; font-weight: bold\">3</span> -&gt; Generating the preamble <a href=\"file://C:\\Users\\ogras\\anaconda3\\lib\\site-packages\\centrex_tlf-0.2-py3.8.egg\\centrex_TlF\\lindblad\\utils_setup.py\"><span style=\"color: #7f7f7f; text-decoration-color: #7f7f7f\">utils_setup.py</span></a><span style=\"color: #7f7f7f; text-decoration-color: #7f7f7f\">:</span><a href=\"file://C:\\Users\\ogras\\anaconda3\\lib\\site-packages\\centrex_tlf-0.2-py3.8.egg\\centrex_TlF\\lindblad\\utils_setup.py#266\"><span style=\"color: #7f7f7f; text-decoration-color: #7f7f7f\">266</span></a>\n",
       "</pre>\n"
      ],
      "text/plain": [
       "\u001b[2;36m[19:42:08]\u001b[0m\u001b[2;36m \u001b[0m\u001b[34mINFO    \u001b[0m setup_OBE_system_julia: \u001b[1;36m1\u001b[0m/\u001b[1;36m3\u001b[0m -> Generating the preamble \u001b]8;id=184955;file://C:\\Users\\ogras\\anaconda3\\lib\\site-packages\\centrex_tlf-0.2-py3.8.egg\\centrex_TlF\\lindblad\\utils_setup.py\u001b\\\u001b[2mutils_setup.py\u001b[0m\u001b]8;;\u001b\\\u001b[2m:\u001b[0m\u001b]8;id=973152;file://C:\\Users\\ogras\\anaconda3\\lib\\site-packages\\centrex_tlf-0.2-py3.8.egg\\centrex_TlF\\lindblad\\utils_setup.py#266\u001b\\\u001b[2m266\u001b[0m\u001b]8;;\u001b\\\n"
      ]
     },
     "metadata": {},
     "output_type": "display_data"
    },
    {
     "data": {
      "text/html": [
       "<pre style=\"white-space:pre;overflow-x:auto;line-height:normal;font-family:Menlo,'DejaVu Sans Mono',consolas,'Courier New',monospace\"><span style=\"color: #7fbfbf; text-decoration-color: #7fbfbf\">           </span><span style=\"color: #000080; text-decoration-color: #000080\">INFO    </span> setup_OBE_system_julia: <span style=\"color: #008080; text-decoration-color: #008080; font-weight: bold\">2</span>/<span style=\"color: #008080; text-decoration-color: #008080; font-weight: bold\">3</span> -&gt; Initializing Julia on <span style=\"color: #008080; text-decoration-color: #008080; font-weight: bold\">7</span> <a href=\"file://C:\\Users\\ogras\\anaconda3\\lib\\site-packages\\centrex_tlf-0.2-py3.8.egg\\centrex_TlF\\lindblad\\utils_setup.py\"><span style=\"color: #7f7f7f; text-decoration-color: #7f7f7f\">utils_setup.py</span></a><span style=\"color: #7f7f7f; text-decoration-color: #7f7f7f\">:</span><a href=\"file://C:\\Users\\ogras\\anaconda3\\lib\\site-packages\\centrex_tlf-0.2-py3.8.egg\\centrex_TlF\\lindblad\\utils_setup.py#270\"><span style=\"color: #7f7f7f; text-decoration-color: #7f7f7f\">270</span></a>\n",
       "                    cores                                                                    \n",
       "</pre>\n"
      ],
      "text/plain": [
       "\u001b[2;36m          \u001b[0m\u001b[2;36m \u001b[0m\u001b[34mINFO    \u001b[0m setup_OBE_system_julia: \u001b[1;36m2\u001b[0m/\u001b[1;36m3\u001b[0m -> Initializing Julia on \u001b[1;36m7\u001b[0m \u001b]8;id=90910;file://C:\\Users\\ogras\\anaconda3\\lib\\site-packages\\centrex_tlf-0.2-py3.8.egg\\centrex_TlF\\lindblad\\utils_setup.py\u001b\\\u001b[2mutils_setup.py\u001b[0m\u001b]8;;\u001b\\\u001b[2m:\u001b[0m\u001b]8;id=857460;file://C:\\Users\\ogras\\anaconda3\\lib\\site-packages\\centrex_tlf-0.2-py3.8.egg\\centrex_TlF\\lindblad\\utils_setup.py#270\u001b\\\u001b[2m270\u001b[0m\u001b]8;;\u001b\\\n",
       "                    cores                                                                    \n"
      ]
     },
     "metadata": {},
     "output_type": "display_data"
    },
    {
     "name": "stdout",
     "output_type": "stream",
     "text": [
      "Initialized Julia with 7 processes\n"
     ]
    },
    {
     "data": {
      "text/html": [
       "<pre style=\"white-space:pre;overflow-x:auto;line-height:normal;font-family:Menlo,'DejaVu Sans Mono',consolas,'Courier New',monospace\"><span style=\"color: #7fbfbf; text-decoration-color: #7fbfbf\">[19:42:39] </span><span style=\"color: #000080; text-decoration-color: #000080\">INFO    </span> setup_OBE_system_julia: <span style=\"color: #008080; text-decoration-color: #008080; font-weight: bold\">3</span>/<span style=\"color: #008080; text-decoration-color: #008080; font-weight: bold\">3</span> -&gt; Defining the ODE        <a href=\"file://C:\\Users\\ogras\\anaconda3\\lib\\site-packages\\centrex_tlf-0.2-py3.8.egg\\centrex_TlF\\lindblad\\utils_setup.py\"><span style=\"color: #7f7f7f; text-decoration-color: #7f7f7f\">utils_setup.py</span></a><span style=\"color: #7f7f7f; text-decoration-color: #7f7f7f\">:</span><a href=\"file://C:\\Users\\ogras\\anaconda3\\lib\\site-packages\\centrex_tlf-0.2-py3.8.egg\\centrex_TlF\\lindblad\\utils_setup.py#277\"><span style=\"color: #7f7f7f; text-decoration-color: #7f7f7f\">277</span></a>\n",
       "                    equation and parameters in Julia                                         \n",
       "</pre>\n"
      ],
      "text/plain": [
       "\u001b[2;36m[19:42:39]\u001b[0m\u001b[2;36m \u001b[0m\u001b[34mINFO    \u001b[0m setup_OBE_system_julia: \u001b[1;36m3\u001b[0m/\u001b[1;36m3\u001b[0m -> Defining the ODE        \u001b]8;id=76572;file://C:\\Users\\ogras\\anaconda3\\lib\\site-packages\\centrex_tlf-0.2-py3.8.egg\\centrex_TlF\\lindblad\\utils_setup.py\u001b\\\u001b[2mutils_setup.py\u001b[0m\u001b]8;;\u001b\\\u001b[2m:\u001b[0m\u001b]8;id=446197;file://C:\\Users\\ogras\\anaconda3\\lib\\site-packages\\centrex_tlf-0.2-py3.8.egg\\centrex_TlF\\lindblad\\utils_setup.py#277\u001b\\\u001b[2m277\u001b[0m\u001b]8;;\u001b\\\n",
       "                    equation and parameters in Julia                                         \n"
      ]
     },
     "metadata": {},
     "output_type": "display_data"
    },
    {
     "name": "stdout",
     "output_type": "stream",
     "text": [
      "Wall time: 1min 17s\n"
     ]
    }
   ],
   "source": [
    "%%time\n",
    "obe_system = centrex.lindblad.setup_OBE_system_julia(syspars, odepars, transitions, verbose=True, full_output=True, \n",
    "                                                     qn_compact=centrex.states.QuantumSelector(J=3, electronic = 'X'))"
   ]
  },
  {
   "cell_type": "markdown",
   "id": "e2979859-216a-46aa-a6ed-72a507abf26b",
   "metadata": {
    "papermill": {
     "duration": 0.026998,
     "end_time": "2022-03-06T01:42:40.667511",
     "exception": false,
     "start_time": "2022-03-06T01:42:40.640513",
     "status": "completed"
    },
    "tags": []
   },
   "source": [
    "# Simulations\n",
    "## Single trajectory"
   ]
  },
  {
   "cell_type": "code",
   "execution_count": 12,
   "id": "a7dfeb67-36ab-4ed5-9af1-ad66daeddeac",
   "metadata": {
    "execution": {
     "iopub.execute_input": "2022-03-06T01:42:40.725509Z",
     "iopub.status.busy": "2022-03-06T01:42:40.725509Z",
     "iopub.status.idle": "2022-03-06T01:42:40.788512Z",
     "shell.execute_reply": "2022-03-06T01:42:40.788512Z"
    },
    "papermill": {
     "duration": 0.093001,
     "end_time": "2022-03-06T01:42:40.788512",
     "exception": false,
     "start_time": "2022-03-06T01:42:40.695511",
     "status": "completed"
    },
    "tags": []
   },
   "outputs": [
    {
     "name": "stdout",
     "output_type": "stream",
     "text": [
      "Ωl0 : 0.24 Γ\n"
     ]
    }
   ],
   "source": [
    "Ωl0 = centrex.utils.light.calculate_rabi_from_power_gaussian_beam(\n",
    "                        laser_power,\n",
    "                        obe_system.couplings[0]['main coupling'],\n",
    "                        σlaser,\n",
    "                        σlaser\n",
    "    ).real\n",
    "print(f\"Ωl0 : {Ωl0 / syspars.Γ:.2f} Γ\")"
   ]
  },
  {
   "cell_type": "code",
   "execution_count": 13,
   "id": "f29311e6-5f91-40cc-b852-150cb39f3072",
   "metadata": {
    "execution": {
     "iopub.execute_input": "2022-03-06T01:42:40.862509Z",
     "iopub.status.busy": "2022-03-06T01:42:40.862509Z",
     "iopub.status.idle": "2022-03-06T01:42:40.929509Z",
     "shell.execute_reply": "2022-03-06T01:42:40.930511Z"
    },
    "papermill": {
     "duration": 0.112001,
     "end_time": "2022-03-06T01:42:40.930511",
     "exception": false,
     "start_time": "2022-03-06T01:42:40.818510",
     "status": "completed"
    },
    "tags": []
   },
   "outputs": [],
   "source": [
    "odepars.Ωl0 = Ωl0\n",
    "odepars.ωphase = ωphase\n",
    "odepars.ωp = ωp"
   ]
  },
  {
   "cell_type": "code",
   "execution_count": 14,
   "id": "39446a36-7821-474c-8be2-cf0892f0d017",
   "metadata": {
    "execution": {
     "iopub.execute_input": "2022-03-06T01:42:41.004510Z",
     "iopub.status.busy": "2022-03-06T01:42:41.003509Z",
     "iopub.status.idle": "2022-03-06T01:42:47.018046Z",
     "shell.execute_reply": "2022-03-06T01:42:47.019045Z"
    },
    "papermill": {
     "duration": 6.050536,
     "end_time": "2022-03-06T01:42:47.019045",
     "exception": false,
     "start_time": "2022-03-06T01:42:40.968509",
     "status": "completed"
    },
    "tags": []
   },
   "outputs": [],
   "source": [
    "ρ = centrex.utils.generate_population_states(population_states.get_indices(obe_system.QN), len(obe_system.QN))\n",
    "t_array, results = centrex.lindblad.do_simulation_single(odepars, (0,50e-3/odepars.vz+10e-6), ρ)"
   ]
  },
  {
   "cell_type": "code",
   "execution_count": 15,
   "id": "c2022834-a208-480a-bce9-4649d182fa91",
   "metadata": {
    "execution": {
     "iopub.execute_input": "2022-03-06T01:42:47.100045Z",
     "iopub.status.busy": "2022-03-06T01:42:47.099045Z",
     "iopub.status.idle": "2022-03-06T01:42:47.491076Z",
     "shell.execute_reply": "2022-03-06T01:42:47.492076Z"
    },
    "papermill": {
     "duration": 0.429031,
     "end_time": "2022-03-06T01:42:47.492076",
     "exception": false,
     "start_time": "2022-03-06T01:42:47.063045",
     "status": "completed"
    },
    "tags": []
   },
   "outputs": [],
   "source": [
    "multipass = np.abs(odepars.get_parameter_evolution(t_array, \"Ωl\").real)"
   ]
  },
  {
   "cell_type": "code",
   "execution_count": 16,
   "id": "51d3bd7a-ad1b-46a3-a5e0-e10ee58fd9c6",
   "metadata": {
    "execution": {
     "iopub.execute_input": "2022-03-06T01:42:47.550077Z",
     "iopub.status.busy": "2022-03-06T01:42:47.549075Z",
     "iopub.status.idle": "2022-03-06T01:42:47.826076Z",
     "shell.execute_reply": "2022-03-06T01:42:47.826076Z"
    },
    "papermill": {
     "duration": 0.308,
     "end_time": "2022-03-06T01:42:47.827075",
     "exception": false,
     "start_time": "2022-03-06T01:42:47.519075",
     "status": "completed"
    },
    "tags": []
   },
   "outputs": [
    {
     "data": {
      "image/png": "[encoded data removed]",
      "text/plain": [
       "<Figure size 720x432 with 1 Axes>"
      ]
     },
     "metadata": {
      "needs_background": "light"
     },
     "output_type": "display_data"
    }
   ],
   "source": [
    "fig, ax = plt.subplots(figsize = (10,6)) \n",
    "ax.plot(t_array*1e6, results.T, lw = 2);\n",
    "ax.plot(t_array*1e6, multipass/multipass.max()*0.8, 'k--', lw = 2,\n",
    "        label = 'multipass')\n",
    "ax.set_xlabel('time [μs]')\n",
    "ax.set_ylabel('population')\n",
    "ax.legend(fontsize = 14)\n",
    "ax.grid(True)"
   ]
  },
  {
   "cell_type": "code",
   "execution_count": 17,
   "id": "89232317-cb62-428d-b2a6-5b27d31cb99c",
   "metadata": {
    "execution": {
     "iopub.execute_input": "2022-03-06T01:42:47.893075Z",
     "iopub.status.busy": "2022-03-06T01:42:47.893075Z",
     "iopub.status.idle": "2022-03-06T01:42:47.971089Z",
     "shell.execute_reply": "2022-03-06T01:42:47.970089Z"
    },
    "papermill": {
     "duration": 0.113013,
     "end_time": "2022-03-06T01:42:47.971089",
     "exception": false,
     "start_time": "2022-03-06T01:42:47.858076",
     "status": "completed"
    },
    "tags": []
   },
   "outputs": [
    {
     "name": "stdout",
     "output_type": "stream",
     "text": [
      "|X, J = 1, F₁ = 3/2, F = 2, mF = -2, I₁ = 1/2, I₂ = 1/2, P = -, Ω = 0>\n",
      "|X, J = 1, F₁ = 3/2, F = 2, mF = -1, I₁ = 1/2, I₂ = 1/2, P = -, Ω = 0>\n",
      "|X, J = 1, F₁ = 3/2, F = 2, mF = 1, I₁ = 1/2, I₂ = 1/2, P = -, Ω = 0>\n",
      "|X, J = 1, F₁ = 3/2, F = 2, mF = 2, I₁ = 1/2, I₂ = 1/2, P = -, Ω = 0>\n",
      "|X, J = 3, F₁ = None, F = None, mF = None, I₁ = 1/2, I₂ = 1/2, P = -, Ω = 0>\n"
     ]
    }
   ],
   "source": [
    "for states in np.array(obe_system.QN)[results[:,-1] > 0.05]:\n",
    "    print(states.find_largest_component())"
   ]
  },
  {
   "cell_type": "code",
   "execution_count": 18,
   "id": "40e8f6c3-2370-4163-aaab-2b0be25a8e6d",
   "metadata": {
    "execution": {
     "iopub.execute_input": "2022-03-06T01:42:48.035089Z",
     "iopub.status.busy": "2022-03-06T01:42:48.034088Z",
     "iopub.status.idle": "2022-03-06T01:42:48.126090Z",
     "shell.execute_reply": "2022-03-06T01:42:48.127090Z"
    },
    "papermill": {
     "duration": 0.124996,
     "end_time": "2022-03-06T01:42:48.127090",
     "exception": false,
     "start_time": "2022-03-06T01:42:48.002094",
     "status": "completed"
    },
    "tags": []
   },
   "outputs": [
    {
     "data": {
      "text/plain": [
       "3.4112219498114964"
      ]
     },
     "execution_count": 18,
     "metadata": {},
     "output_type": "execute_result"
    }
   ],
   "source": [
    "np.trapz(results[exc.get_indices(obe_system.QN),:].sum(axis = 0), t_array)*syspars.Γ"
   ]
  },
  {
   "cell_type": "markdown",
   "id": "38d78351-bc19-4793-94db-8e2436d6cb14",
   "metadata": {
    "papermill": {
     "duration": 0.052,
     "end_time": "2022-03-06T01:42:48.211090",
     "exception": false,
     "start_time": "2022-03-06T01:42:48.159090",
     "status": "completed"
    },
    "tags": []
   },
   "source": [
    "## Detuning Scan"
   ]
  },
  {
   "cell_type": "code",
   "execution_count": 19,
   "id": "db3160c7-b51e-4cd3-8f8c-5dfeaffa8d31",
   "metadata": {
    "execution": {
     "iopub.execute_input": "2022-03-06T01:42:48.292089Z",
     "iopub.status.busy": "2022-03-06T01:42:48.292089Z",
     "iopub.status.idle": "2022-03-06T01:43:18.283570Z",
     "shell.execute_reply": "2022-03-06T01:43:18.284570Z"
    },
    "papermill": {
     "duration": 30.027481,
     "end_time": "2022-03-06T01:43:18.284570",
     "exception": false,
     "start_time": "2022-03-06T01:42:48.257089",
     "status": "completed"
    },
    "tags": []
   },
   "outputs": [
    {
     "name": "stdout",
     "output_type": "stream",
     "text": [
      "Wall time: 29.9 s\n"
     ]
    }
   ],
   "source": [
    "%%time\n",
    "\n",
    "odepars.Ωl0 = Ωl0\n",
    "odepars.ωphase = ωphase\n",
    "odepars.ωp = ωp\n",
    "\n",
    "tspan = (0,1000e-6)\n",
    "ρ = centrex.utils.generate_population_states(\n",
    "        centrex.states.QuantumSelector(J=1, F=[1,2], electronic = 'X').get_indices(obe_system.QN), \n",
    "        len(obe_system.QN)\n",
    "    )\n",
    "\n",
    "δl_scan = np.linspace(-5,5,101)*syspars.Γ\n",
    "\n",
    "parameters = [\"δl\"]\n",
    "values = [δl_scan]\n",
    "\n",
    "output_func = centrex.lindblad.setup_state_integral_calculation(\n",
    "                states = exc.get_indices(obe_system.QN, mode = \"julia\"),\n",
    "                nphotons = True\n",
    "            )\n",
    "\n",
    "cb = centrex.lindblad.setup_discrete_callback_terminate(odepars, \"vz*t >= 50e-3\")\n",
    "\n",
    "ens_prob = centrex.lindblad.setup_problem_parameter_scan(\n",
    "                        odepars, tspan, ρ, parameters, values, \n",
    "                        dimensions = 1,\n",
    "                        output_func = output_func,\n",
    "                        zipped = True\n",
    "            )\n",
    "\n",
    "centrex.lindblad.solve_problem_parameter_scan(ensemble_problem_name = ens_prob, saveat = 1e-7,\n",
    "                                             callback = cb)"
   ]
  },
  {
   "cell_type": "code",
   "execution_count": 20,
   "id": "817d03c6-c2e3-4f75-8bdd-fad4b3c694f1",
   "metadata": {
    "execution": {
     "iopub.execute_input": "2022-03-06T01:43:18.352573Z",
     "iopub.status.busy": "2022-03-06T01:43:18.351571Z",
     "iopub.status.idle": "2022-03-06T01:43:18.502570Z",
     "shell.execute_reply": "2022-03-06T01:43:18.503569Z"
    },
    "papermill": {
     "duration": 0.187999,
     "end_time": "2022-03-06T01:43:18.503569",
     "exception": false,
     "start_time": "2022-03-06T01:43:18.315570",
     "status": "completed"
    },
    "tags": []
   },
   "outputs": [
    {
     "data": {
      "image/png": "[encoded data removed]",
      "text/plain": [
       "<Figure size 576x360 with 1 Axes>"
      ]
     },
     "metadata": {
      "needs_background": "light"
     },
     "output_type": "display_data"
    }
   ],
   "source": [
    "results = centrex.lindblad.get_results_parameter_scan()\n",
    "\n",
    "fig, ax = plt.subplots(figsize = (8,5))\n",
    "ax.plot(δl_scan/syspars.Γ, results, '-')\n",
    "ax.grid(True)"
   ]
  },
  {
   "cell_type": "markdown",
   "id": "b6dcbe1d-3795-47c2-8019-a008c982afd3",
   "metadata": {
    "papermill": {
     "duration": 0.035001,
     "end_time": "2022-03-06T01:43:18.569571",
     "exception": false,
     "start_time": "2022-03-06T01:43:18.534570",
     "status": "completed"
    },
    "tags": []
   },
   "source": [
    "## Trajectory Scan"
   ]
  },
  {
   "cell_type": "code",
   "execution_count": 21,
   "id": "a124f5a7-7a18-41ed-bac2-8c21ef7f46fd",
   "metadata": {
    "execution": {
     "iopub.execute_input": "2022-03-06T01:43:18.656570Z",
     "iopub.status.busy": "2022-03-06T01:43:18.656570Z",
     "iopub.status.idle": "2022-03-06T01:43:21.060246Z",
     "shell.execute_reply": "2022-03-06T01:43:21.061247Z"
    },
    "papermill": {
     "duration": 2.456678,
     "end_time": "2022-03-06T01:43:21.061247",
     "exception": false,
     "start_time": "2022-03-06T01:43:18.604569",
     "status": "completed"
    },
    "tags": []
   },
   "outputs": [],
   "source": [
    "ntrajectories = 500\n",
    "\n",
    "n = int(1e7)\n",
    "vz = centrex.utils.generate_random_longitudinal_velocities(n, vcm, vcm_sigma)\n",
    "vx, vy = centrex.utils.generate_random_transverse_velocities(n, vperp_sigma)\n",
    "x0, y0 = centrex.utils.generate_random_coords_circle_2D(n, 0.0025)\n",
    "apertures = [(47e-3, 6.35e-3), (73e-3, 12.7e-3), (290e-3, 2.54e-3)]\n",
    "mask = np.ones(n, dtype = bool)\n",
    "for (location, diameter) in apertures:\n",
    "    t = location / vz\n",
    "    r = np.sqrt((x0+vx*t)**2 + (y0+vy*t)**2)\n",
    "    m = r < diameter/2\n",
    "    mask &= m\n",
    "    \n",
    "start_loc = 358e-3 - 0.03556/2 - 10e-3\n",
    "t = start_loc / vz\n",
    "x0, y0 = x0 + vx*t, y0 + vy*t\n",
    "\n",
    "x0 = x0[mask][:ntrajectories]\n",
    "y0 = y0[mask][:ntrajectories]\n",
    "vx = vx[mask][:ntrajectories]\n",
    "vy = vy[mask][:ntrajectories]\n",
    "vz = vz[mask][:ntrajectories]\n",
    "\n",
    "assert mask.sum() >= ntrajectories, \"not enough trajectories make it through apertures\"\n",
    "del t, mask\n",
    "\n",
    "δls = centrex.utils.detuning.velocity_to_detuning(vx, 1106e12, syspars.Γ)*syspars.Γ"
   ]
  },
  {
   "cell_type": "code",
   "execution_count": 22,
   "id": "ed2e89ae-b7e3-4645-af48-70a3fe13327a",
   "metadata": {
    "execution": {
     "iopub.execute_input": "2022-03-06T01:43:21.131247Z",
     "iopub.status.busy": "2022-03-06T01:43:21.131247Z",
     "iopub.status.idle": "2022-03-06T01:44:14.369155Z",
     "shell.execute_reply": "2022-03-06T01:44:14.370154Z"
    },
    "papermill": {
     "duration": 53.277906,
     "end_time": "2022-03-06T01:44:14.370154",
     "exception": false,
     "start_time": "2022-03-06T01:43:21.092248",
     "status": "completed"
    },
    "tags": []
   },
   "outputs": [],
   "source": [
    "odepars.Ωl0 = Ωl0\n",
    "odepars.ωphase = ωphase\n",
    "odepars.ωp = ωp\n",
    "\n",
    "tspan = (0,1000e-6)\n",
    "ρ = centrex.utils.generate_population_states(\n",
    "        centrex.states.QuantumSelector(J=1, F=[1,2], electronic = 'X').get_indices(obe_system.QN), \n",
    "        len(obe_system.QN)\n",
    "    )\n",
    "\n",
    "parameters = [\"vz\", \"δl\", \"y0\"]\n",
    "values = [vz, δls, y0]\n",
    "\n",
    "output_func = centrex.lindblad.setup_state_integral_calculation(\n",
    "                states = exc.get_indices(obe_system.QN, mode = \"julia\"),\n",
    "                nphotons = True\n",
    "            )\n",
    "\n",
    "cb = centrex.lindblad.setup_discrete_callback_terminate(odepars, \"vz*t >= 50e-3\")\n",
    "\n",
    "ens_prob = centrex.lindblad.setup_problem_parameter_scan(\n",
    "                        odepars, tspan, ρ, parameters, values, \n",
    "                        dimensions = 1,\n",
    "                        output_func = output_func,\n",
    "                        zipped = True\n",
    "            )\n",
    "\n",
    "centrex.lindblad.solve_problem_parameter_scan(ensemble_problem_name = ens_prob, saveat = 1e-7,\n",
    "                                             callback = cb)"
   ]
  },
  {
   "cell_type": "code",
   "execution_count": 23,
   "id": "29942c9f-5a7c-4c12-b72f-29ad3cb82fdc",
   "metadata": {
    "execution": {
     "iopub.execute_input": "2022-03-06T01:44:14.438154Z",
     "iopub.status.busy": "2022-03-06T01:44:14.438154Z",
     "iopub.status.idle": "2022-03-06T01:44:14.496154Z",
     "shell.execute_reply": "2022-03-06T01:44:14.495155Z"
    },
    "papermill": {
     "duration": 0.091999,
     "end_time": "2022-03-06T01:44:14.496154",
     "exception": false,
     "start_time": "2022-03-06T01:44:14.404155",
     "status": "completed"
    },
    "tags": []
   },
   "outputs": [],
   "source": [
    "results = centrex.lindblad.get_results_parameter_scan()"
   ]
  },
  {
   "cell_type": "code",
   "execution_count": 24,
   "id": "75347af4-d3a1-460a-badb-152170f68dbe",
   "metadata": {
    "execution": {
     "iopub.execute_input": "2022-03-06T01:44:14.564153Z",
     "iopub.status.busy": "2022-03-06T01:44:14.563154Z",
     "iopub.status.idle": "2022-03-06T01:44:14.637154Z",
     "shell.execute_reply": "2022-03-06T01:44:14.636155Z"
    },
    "papermill": {
     "duration": 0.108999,
     "end_time": "2022-03-06T01:44:14.637154",
     "exception": false,
     "start_time": "2022-03-06T01:44:14.528155",
     "status": "completed"
    },
    "tags": []
   },
   "outputs": [
    {
     "data": {
      "text/plain": [
       "3.36590370174924"
      ]
     },
     "execution_count": 24,
     "metadata": {},
     "output_type": "execute_result"
    }
   ],
   "source": [
    "np.average(results)"
   ]
  },
  {
   "cell_type": "markdown",
   "id": "5ee62fd7-919a-40df-8c52-140906fb0a39",
   "metadata": {
    "papermill": {
     "duration": 0.032998,
     "end_time": "2022-03-06T01:44:14.704153",
     "exception": false,
     "start_time": "2022-03-06T01:44:14.671155",
     "status": "completed"
    },
    "tags": []
   },
   "source": [
    "## Detuning scan over trajectories for approximate power used in measurement"
   ]
  },
  {
   "cell_type": "code",
   "execution_count": 25,
   "id": "38eaf1fb-7795-477e-a0ae-c43652420275",
   "metadata": {
    "execution": {
     "iopub.execute_input": "2022-03-06T01:44:14.777155Z",
     "iopub.status.busy": "2022-03-06T01:44:14.776154Z",
     "iopub.status.idle": "2022-03-06T01:44:16.999513Z",
     "shell.execute_reply": "2022-03-06T01:44:17.000514Z"
    },
    "papermill": {
     "duration": 2.264358,
     "end_time": "2022-03-06T01:44:17.000514",
     "exception": false,
     "start_time": "2022-03-06T01:44:14.736156",
     "status": "completed"
    },
    "tags": []
   },
   "outputs": [],
   "source": [
    "ntrajectories = 100\n",
    "\n",
    "n = int(1e7)\n",
    "vz = centrex.utils.generate_random_longitudinal_velocities(n, vcm, vcm_sigma)\n",
    "vx, vy = centrex.utils.generate_random_transverse_velocities(n, vperp_sigma)\n",
    "x0, y0 = centrex.utils.generate_random_coords_circle_2D(n, 0.0025)\n",
    "apertures = [(47e-3, 6.35e-3), (73e-3, 12.7e-3), (290e-3, 2.54e-3)]\n",
    "mask = np.ones(n, dtype = bool)\n",
    "for (location, diameter) in apertures:\n",
    "    t = location / vz\n",
    "    r = np.sqrt((x0+vx*t)**2 + (y0+vy*t)**2)\n",
    "    m = r < diameter/2\n",
    "    mask &= m\n",
    "    \n",
    "start_loc = 358e-3 - 0.03556/2 - 10e-3\n",
    "t = start_loc / vz\n",
    "x0, y0 = x0 + vx*t, y0 + vy*t\n",
    "\n",
    "x0 = x0[mask][:ntrajectories]\n",
    "y0 = y0[mask][:ntrajectories]\n",
    "vx = vx[mask][:ntrajectories]\n",
    "vy = vy[mask][:ntrajectories]\n",
    "vz = vz[mask][:ntrajectories]\n",
    "\n",
    "assert mask.sum() >= ntrajectories, \"not enough trajectories make it through apertures\"\n",
    "del t, mask\n",
    "\n",
    "δls = centrex.utils.detuning.velocity_to_detuning(vx, 1106e12, syspars.Γ)*syspars.Γ"
   ]
  },
  {
   "cell_type": "code",
   "execution_count": 26,
   "id": "aa77c713-c05f-42bd-838a-e488ab436af8",
   "metadata": {
    "execution": {
     "iopub.execute_input": "2022-03-06T01:44:17.077514Z",
     "iopub.status.busy": "2022-03-06T01:44:17.076512Z",
     "iopub.status.idle": "2022-03-06T02:04:09.049084Z",
     "shell.execute_reply": "2022-03-06T02:04:09.048083Z"
    },
    "papermill": {
     "duration": 1192.013567,
     "end_time": "2022-03-06T02:04:09.049084",
     "exception": false,
     "start_time": "2022-03-06T01:44:17.035517",
     "status": "completed"
    },
    "tags": []
   },
   "outputs": [
    {
     "name": "stderr",
     "output_type": "stream",
     "text": [
      "\r",
      "  0%|                                                                                                             | 0/31 [00:00<?, ?it/s]"
     ]
    },
    {
     "name": "stderr",
     "output_type": "stream",
     "text": [
      "\r",
      "  3%|███▎                                                                                                 | 1/31 [01:08<34:05, 68.18s/it]"
     ]
    },
    {
     "name": "stderr",
     "output_type": "stream",
     "text": [
      "\r",
      "  6%|██████▌                                                                                              | 2/31 [02:13<32:12, 66.64s/it]"
     ]
    },
    {
     "name": "stderr",
     "output_type": "stream",
     "text": [
      "\r",
      " 10%|█████████▊                                                                                           | 3/31 [03:13<29:44, 63.72s/it]"
     ]
    },
    {
     "name": "stderr",
     "output_type": "stream",
     "text": [
      "\r",
      " 13%|█████████████                                                                                        | 4/31 [04:15<28:15, 62.79s/it]"
     ]
    },
    {
     "name": "stderr",
     "output_type": "stream",
     "text": [
      "\r",
      " 16%|████████████████▎                                                                                    | 5/31 [05:07<25:29, 58.82s/it]"
     ]
    },
    {
     "name": "stderr",
     "output_type": "stream",
     "text": [
      "\r",
      " 19%|███████████████████▌                                                                                 | 6/31 [05:53<22:45, 54.63s/it]"
     ]
    },
    {
     "name": "stderr",
     "output_type": "stream",
     "text": [
      "\r",
      " 23%|██████████████████████▊                                                                              | 7/31 [06:36<20:18, 50.78s/it]"
     ]
    },
    {
     "name": "stderr",
     "output_type": "stream",
     "text": [
      "\r",
      " 26%|██████████████████████████                                                                           | 8/31 [07:15<18:05, 47.19s/it]"
     ]
    },
    {
     "name": "stderr",
     "output_type": "stream",
     "text": [
      "\r",
      " 29%|█████████████████████████████▎                                                                       | 9/31 [07:51<15:54, 43.41s/it]"
     ]
    },
    {
     "name": "stderr",
     "output_type": "stream",
     "text": [
      "\r",
      " 32%|████████████████████████████████▎                                                                   | 10/31 [08:22<13:50, 39.56s/it]"
     ]
    },
    {
     "name": "stderr",
     "output_type": "stream",
     "text": [
      "\r",
      " 35%|███████████████████████████████████▍                                                                | 11/31 [08:48<11:53, 35.69s/it]"
     ]
    },
    {
     "name": "stderr",
     "output_type": "stream",
     "text": [
      "\r",
      " 39%|██████████████████████████████████████▋                                                             | 12/31 [09:11<10:03, 31.75s/it]"
     ]
    },
    {
     "name": "stderr",
     "output_type": "stream",
     "text": [
      "\r",
      " 42%|█████████████████████████████████████████▉                                                          | 13/31 [09:30<08:21, 27.84s/it]"
     ]
    },
    {
     "name": "stderr",
     "output_type": "stream",
     "text": [
      "\r",
      " 45%|█████████████████████████████████████████████▏                                                      | 14/31 [09:45<06:45, 23.84s/it]"
     ]
    },
    {
     "name": "stderr",
     "output_type": "stream",
     "text": [
      "\r",
      " 48%|████████████████████████████████████████████████▍                                                   | 15/31 [09:56<05:21, 20.10s/it]"
     ]
    },
    {
     "name": "stderr",
     "output_type": "stream",
     "text": [
      "\r",
      " 52%|███████████████████████████████████████████████████▌                                                | 16/31 [10:07<04:18, 17.22s/it]"
     ]
    },
    {
     "name": "stderr",
     "output_type": "stream",
     "text": [
      "\r",
      " 55%|██████████████████████████████████████████████████████▊                                             | 17/31 [10:18<03:38, 15.62s/it]"
     ]
    },
    {
     "name": "stderr",
     "output_type": "stream",
     "text": [
      "\r",
      " 58%|██████████████████████████████████████████████████████████                                          | 18/31 [10:33<03:18, 15.30s/it]"
     ]
    },
    {
     "name": "stderr",
     "output_type": "stream",
     "text": [
      "\r",
      " 61%|█████████████████████████████████████████████████████████████▎                                      | 19/31 [10:52<03:15, 16.27s/it]"
     ]
    },
    {
     "name": "stderr",
     "output_type": "stream",
     "text": [
      "\r",
      " 65%|████████████████████████████████████████████████████████████████▌                                   | 20/31 [11:15<03:21, 18.32s/it]"
     ]
    },
    {
     "name": "stderr",
     "output_type": "stream",
     "text": [
      "\r",
      " 68%|███████████████████████████████████████████████████████████████████▋                                | 21/31 [11:42<03:30, 21.05s/it]"
     ]
    },
    {
     "name": "stderr",
     "output_type": "stream",
     "text": [
      "\r",
      " 71%|██████████████████████████████████████████████████████████████████████▉                             | 22/31 [12:14<03:37, 24.20s/it]"
     ]
    },
    {
     "name": "stderr",
     "output_type": "stream",
     "text": [
      "\r",
      " 74%|██████████████████████████████████████████████████████████████████████████▏                         | 23/31 [12:49<03:40, 27.60s/it]"
     ]
    },
    {
     "name": "stderr",
     "output_type": "stream",
     "text": [
      "\r",
      " 77%|█████████████████████████████████████████████████████████████████████████████▍                      | 24/31 [13:29<03:38, 31.28s/it]"
     ]
    },
    {
     "name": "stderr",
     "output_type": "stream",
     "text": [
      "\r",
      " 81%|████████████████████████████████████████████████████████████████████████████████▋                   | 25/31 [14:13<03:29, 34.97s/it]"
     ]
    },
    {
     "name": "stderr",
     "output_type": "stream",
     "text": [
      "\r",
      " 84%|███████████████████████████████████████████████████████████████████████████████████▊                | 26/31 [14:59<03:12, 38.48s/it]"
     ]
    },
    {
     "name": "stderr",
     "output_type": "stream",
     "text": [
      "\r",
      " 87%|███████████████████████████████████████████████████████████████████████████████████████             | 27/31 [15:51<02:49, 42.35s/it]"
     ]
    },
    {
     "name": "stderr",
     "output_type": "stream",
     "text": [
      "\r",
      " 90%|██████████████████████████████████████████████████████████████████████████████████████████▎         | 28/31 [16:46<02:18, 46.30s/it]"
     ]
    },
    {
     "name": "stderr",
     "output_type": "stream",
     "text": [
      "\r",
      " 94%|█████████████████████████████████████████████████████████████████████████████████████████████▌      | 29/31 [17:44<01:39, 49.67s/it]"
     ]
    },
    {
     "name": "stderr",
     "output_type": "stream",
     "text": [
      "\r",
      " 97%|████████████████████████████████████████████████████████████████████████████████████████████████▊   | 30/31 [18:45<00:53, 53.29s/it]"
     ]
    },
    {
     "name": "stderr",
     "output_type": "stream",
     "text": [
      "\r",
      "100%|████████████████████████████████████████████████████████████████████████████████████████████████████| 31/31 [19:51<00:00, 57.07s/it]"
     ]
    },
    {
     "name": "stderr",
     "output_type": "stream",
     "text": [
      "\r",
      "100%|████████████████████████████████████████████████████████████████████████████████████████████████████| 31/31 [19:51<00:00, 38.45s/it]"
     ]
    },
    {
     "name": "stderr",
     "output_type": "stream",
     "text": [
      "\n"
     ]
    }
   ],
   "source": [
    "import copy\n",
    "\n",
    "odepars.Ωl0 = Ωl0\n",
    "odepars.ωphase = ωphase\n",
    "odepars.ωp = ωp\n",
    "\n",
    "tspan = (0,1000e-6)\n",
    "ρ = centrex.utils.generate_population_states(\n",
    "        population_states.get_indices(obe_system.QN), \n",
    "        len(obe_system.QN)\n",
    "    )\n",
    "\n",
    "parameters = [\"vz\", \"δl\", \"y0\"]\n",
    "values = [vz, δls, y0]\n",
    "\n",
    "output_func = centrex.lindblad.setup_state_integral_calculation(\n",
    "                states = exc.get_indices(obe_system.QN, mode = \"julia\"),\n",
    "                nphotons = True\n",
    "            )\n",
    "\n",
    "δl_scan = np.arange(*scan_range)*syspars.Γ\n",
    "\n",
    "results = []\n",
    "for δli in tqdm(δl_scan):\n",
    "    vals = copy.copy(values)\n",
    "    vals[1] = vals[1] + δli\n",
    "    cb = centrex.lindblad.setup_discrete_callback_terminate(odepars, \"vz*t >= 50e-3\")\n",
    "\n",
    "    ens_prob = centrex.lindblad.setup_problem_parameter_scan(\n",
    "                            odepars, tspan, ρ, parameters, vals, \n",
    "                            dimensions = 1,\n",
    "                            output_func = output_func,\n",
    "                            zipped = True\n",
    "                )\n",
    "\n",
    "    centrex.lindblad.solve_problem_parameter_scan(ensemble_problem_name = ens_prob, saveat = 1e-7,\n",
    "                                                 callback = cb)\n",
    "    res = centrex.lindblad.get_results_parameter_scan()\n",
    "    results.append(np.average(res))\n",
    "results = np.asarray(results)    \n",
    "odepars.Ωl0 = Ωl0"
   ]
  },
  {
   "cell_type": "code",
   "execution_count": 27,
   "id": "65a46fd6-e56a-4566-9b6c-e22ce7cc03bc",
   "metadata": {
    "execution": {
     "iopub.execute_input": "2022-03-06T02:04:09.132084Z",
     "iopub.status.busy": "2022-03-06T02:04:09.132084Z",
     "iopub.status.idle": "2022-03-06T02:04:09.450087Z",
     "shell.execute_reply": "2022-03-06T02:04:09.450087Z"
    },
    "papermill": {
     "duration": 0.361998,
     "end_time": "2022-03-06T02:04:09.451083",
     "exception": false,
     "start_time": "2022-03-06T02:04:09.089085",
     "status": "completed"
    },
    "tags": []
   },
   "outputs": [
    {
     "name": "stdout",
     "output_type": "stream",
     "text": [
      "maximum signal : 3.61\n"
     ]
    },
    {
     "name": "stderr",
     "output_type": "stream",
     "text": [
      "[autoreload of centrex_TlF.lindblad.utils_julia failed: Traceback (most recent call last):\n",
      "  File \"C:\\Users\\ogras\\anaconda3\\lib\\site-packages\\IPython\\extensions\\autoreload.py\", line 245, in check\n",
      "    superreload(m, reload, self.old_objects)\n",
      "  File \"C:\\Users\\ogras\\anaconda3\\lib\\site-packages\\IPython\\extensions\\autoreload.py\", line 410, in superreload\n",
      "    update_generic(old_obj, new_obj)\n",
      "  File \"C:\\Users\\ogras\\anaconda3\\lib\\site-packages\\IPython\\extensions\\autoreload.py\", line 347, in update_generic\n",
      "    update(a, b)\n",
      "  File \"C:\\Users\\ogras\\anaconda3\\lib\\site-packages\\IPython\\extensions\\autoreload.py\", line 317, in update_class\n",
      "    update_instances(old, new)\n",
      "  File \"C:\\Users\\ogras\\anaconda3\\lib\\site-packages\\IPython\\extensions\\autoreload.py\", line 280, in update_instances\n",
      "    ref.__class__ = new\n",
      "  File \"C:\\Users\\ogras\\anaconda3\\lib\\site-packages\\centrex_tlf-0.2-py3.8.egg\\centrex_TlF\\lindblad\\utils_julia.py\", line 232, in __setattr__\n",
      "    raise AssertionError(\n",
      "AssertionError: Cannot instantiate new parameter on initialized OdeParameters object\n",
      "]\n"
     ]
    },
    {
     "data": {
      "image/png": "[encoded data removed]",
      "text/plain": [
       "<Figure size 576x360 with 1 Axes>"
      ]
     },
     "metadata": {
      "needs_background": "light"
     },
     "output_type": "display_data"
    }
   ],
   "source": [
    "fig, ax = plt.subplots(figsize = (8,5))\n",
    "ax.plot(δl_scan / (2*np.pi*1e6), results, '-', lw = 2)\n",
    "ax.plot(δl_scan / (2*np.pi*1e6), results, '.', ms = 13, color = 'C3')\n",
    "\n",
    "ax.set_xlabel(\"δ [MHz]\", fontsize = 14)\n",
    "ax.set_ylabel(\"# photons\", fontsize = 14)\n",
    "ax.grid(True)\n",
    "\n",
    "print(f\"maximum signal : {np.max(results):.2f}\")"
   ]
  },
  {
   "cell_type": "markdown",
   "id": "72eafcf4-c61e-4385-b7ea-b25b66dfdf03",
   "metadata": {
    "papermill": {
     "duration": 0.039999,
     "end_time": "2022-03-06T02:04:09.531083",
     "exception": false,
     "start_time": "2022-03-06T02:04:09.491084",
     "status": "completed"
    },
    "tags": []
   },
   "source": [
    "### Save Trajectory Detuning Scan Data"
   ]
  },
  {
   "cell_type": "code",
   "execution_count": 28,
   "id": "e839a1b3-8e15-4162-991a-37f98acfccc9",
   "metadata": {
    "execution": {
     "iopub.execute_input": "2022-03-06T02:04:09.616084Z",
     "iopub.status.busy": "2022-03-06T02:04:09.616084Z",
     "iopub.status.idle": "2022-03-06T02:04:09.684085Z",
     "shell.execute_reply": "2022-03-06T02:04:09.685084Z"
    },
    "papermill": {
     "duration": 0.113,
     "end_time": "2022-03-06T02:04:09.685084",
     "exception": false,
     "start_time": "2022-03-06T02:04:09.572084",
     "status": "completed"
    },
    "tags": []
   },
   "outputs": [],
   "source": [
    "import pickle\n",
    "\n",
    "with open(f\"{transition_name}.pkl\", \"wb\") as f:\n",
    "    pickle.dump(\n",
    "        dict(\n",
    "            δl_scan = δl_scan,\n",
    "            signal = results\n",
    "        ),\n",
    "        f\n",
    "    )"
   ]
  },
  {
   "cell_type": "markdown",
   "id": "0524b68f-0953-47ef-9ebb-9e4608052bb7",
   "metadata": {
    "papermill": {
     "duration": 0.045997,
     "end_time": "2022-03-06T02:04:09.774084",
     "exception": false,
     "start_time": "2022-03-06T02:04:09.728087",
     "status": "completed"
    },
    "tags": []
   },
   "source": [
    "### Fit to resonance\n",
    "#### Define Gaussian and Lorentzian functions"
   ]
  },
  {
   "cell_type": "code",
   "execution_count": 29,
   "id": "18b6bc2b-6557-47f1-8b51-bb9452ca3bad",
   "metadata": {
    "execution": {
     "iopub.execute_input": "2022-03-06T02:04:09.861084Z",
     "iopub.status.busy": "2022-03-06T02:04:09.859084Z",
     "iopub.status.idle": "2022-03-06T02:04:10.048084Z",
     "shell.execute_reply": "2022-03-06T02:04:10.047084Z"
    },
    "papermill": {
     "duration": 0.229999,
     "end_time": "2022-03-06T02:04:10.048084",
     "exception": false,
     "start_time": "2022-03-06T02:04:09.818085",
     "status": "completed"
    },
    "tags": []
   },
   "outputs": [],
   "source": [
    "from scipy.optimize import curve_fit\n",
    "from scipy.special import voigt_profile\n",
    "\n",
    "def gaussian(x, a, μ, σ):\n",
    "    return a*np.exp(-(x-μ)**2 / (2*σ**2))\n",
    "\n",
    "def lorentzian( x, x0, a, gam ):\n",
    "    return a * gam**2 / ( gam**2 + ( x - x0 )**2)\n",
    "\n",
    "def voigt(x, a, μ, σ):\n",
    "    return a * voigt_profile(x - μ, σ, σ)"
   ]
  },
  {
   "cell_type": "code",
   "execution_count": 30,
   "id": "3b541b6c-a9ab-4b83-a094-56adaa32b6d1",
   "metadata": {
    "execution": {
     "iopub.execute_input": "2022-03-06T02:04:10.132083Z",
     "iopub.status.busy": "2022-03-06T02:04:10.132083Z",
     "iopub.status.idle": "2022-03-06T02:04:10.790083Z",
     "shell.execute_reply": "2022-03-06T02:04:10.791084Z"
    },
    "papermill": {
     "duration": 0.701999,
     "end_time": "2022-03-06T02:04:10.791084",
     "exception": false,
     "start_time": "2022-03-06T02:04:10.089085",
     "status": "completed"
    },
    "tags": []
   },
   "outputs": [],
   "source": [
    "import lmfit\n",
    "from lmfit.models import LorentzianModel, GaussianModel, VoigtModel"
   ]
  },
  {
   "cell_type": "markdown",
   "id": "091f6f6a-3410-40eb-b7d6-ee229eff10a8",
   "metadata": {
    "papermill": {
     "duration": 0.041,
     "end_time": "2022-03-06T02:04:10.873084",
     "exception": false,
     "start_time": "2022-03-06T02:04:10.832084",
     "status": "completed"
    },
    "tags": []
   },
   "source": [
    "#### Fit Lorentzian to scan"
   ]
  },
  {
   "cell_type": "code",
   "execution_count": 31,
   "id": "c3dd75a8-ff6e-4dd2-881d-5e142ef5b4ad",
   "metadata": {
    "execution": {
     "iopub.execute_input": "2022-03-06T02:04:10.958083Z",
     "iopub.status.busy": "2022-03-06T02:04:10.958083Z",
     "iopub.status.idle": "2022-03-06T02:04:11.057085Z",
     "shell.execute_reply": "2022-03-06T02:04:11.058085Z"
    },
    "papermill": {
     "duration": 0.145003,
     "end_time": "2022-03-06T02:04:11.058085",
     "exception": false,
     "start_time": "2022-03-06T02:04:10.913082",
     "status": "completed"
    },
    "tags": []
   },
   "outputs": [
    {
     "name": "stdout",
     "output_type": "stream",
     "text": [
      "[[Model]]\n",
      "    Model(lorentzian)\n",
      "[[Fit Statistics]]\n",
      "    # fitting method   = leastsq\n",
      "    # function evals   = 21\n",
      "    # data points      = 31\n",
      "    # variables        = 3\n",
      "    chi-square         = 0.16374061\n",
      "    reduced chi-square = 0.00584788\n",
      "    Akaike info crit   = -156.547227\n",
      "    Bayesian info crit = -152.245265\n",
      "[[Variables]]\n",
      "    amplitude:  1.0692e+09 +/- 12388165.9 (1.16%) (init = 8.393175e+08)\n",
      "    center:    -14443048.9 +/- 1074244.98 (7.44%) (init = -9801769)\n",
      "    sigma:      96941765.0 +/- 1594191.62 (1.64%) (init = 6.861238e+07)\n",
      "    fwhm:       1.9388e+08 +/- 3188383.25 (1.64%) == '2.0000000*sigma'\n",
      "    height:     3.51083273 +/- 0.03922543 (1.12%) == '0.3183099*amplitude/max(1e-15, sigma)'\n",
      "[[Correlations]] (unreported correlations are < 0.100)\n",
      "    C(amplitude, sigma) = 0.734\n"
     ]
    }
   ],
   "source": [
    "model = LorentzianModel()\n",
    "params = model.guess(\n",
    "                    results, \n",
    "                    x = δl_scan\n",
    ")\n",
    "fit = model.fit(results, params, x = δl_scan)\n",
    "print(fit.fit_report())"
   ]
  },
  {
   "cell_type": "code",
   "execution_count": 32,
   "id": "aea2ff27-ba35-4041-97bc-66afb538dcaa",
   "metadata": {
    "execution": {
     "iopub.execute_input": "2022-03-06T02:04:11.164083Z",
     "iopub.status.busy": "2022-03-06T02:04:11.164083Z",
     "iopub.status.idle": "2022-03-06T02:04:11.374086Z",
     "shell.execute_reply": "2022-03-06T02:04:11.375083Z"
    },
    "papermill": {
     "duration": 0.258997,
     "end_time": "2022-03-06T02:04:11.375083",
     "exception": false,
     "start_time": "2022-03-06T02:04:11.116086",
     "status": "completed"
    },
    "tags": []
   },
   "outputs": [
    {
     "data": {
      "image/png": "[encoded data removed]",
      "text/plain": [
       "<Figure size 576x360 with 1 Axes>"
      ]
     },
     "metadata": {
      "needs_background": "light"
     },
     "output_type": "display_data"
    }
   ],
   "source": [
    "_x = np.linspace(δl_scan.min(), δl_scan.max(), 201)\n",
    "y = fit.eval(x = _x)\n",
    "\n",
    "fig, ax = plt.subplots(figsize = (8,5))\n",
    "ax.plot(δl_scan / (2*np.pi*1e6), results, '.', ms = 13, label = 'data')\n",
    "ax.plot(_x / (2*np.pi*1e6), y, label = 'fit', lw = 2)\n",
    "\n",
    "ax.set_xlabel(\"δ [MHz]\", fontsize = 14)\n",
    "ax.set_ylabel(\"# photons\", fontsize = 14)\n",
    "ax.legend(fontsize = 14)\n",
    "ax.set_title(\"Lorentzian Fit\", fontsize = 15)\n",
    "ax.grid(True)"
   ]
  },
  {
   "cell_type": "code",
   "execution_count": 33,
   "id": "7db03d55-3233-4aff-a947-1860b3cf301e",
   "metadata": {
    "execution": {
     "iopub.execute_input": "2022-03-06T02:04:11.472084Z",
     "iopub.status.busy": "2022-03-06T02:04:11.472084Z",
     "iopub.status.idle": "2022-03-06T02:04:11.782105Z",
     "shell.execute_reply": "2022-03-06T02:04:11.783105Z"
    },
    "papermill": {
     "duration": 0.36502,
     "end_time": "2022-03-06T02:04:11.783105",
     "exception": false,
     "start_time": "2022-03-06T02:04:11.418085",
     "status": "completed"
    },
    "tags": []
   },
   "outputs": [
    {
     "data": {
      "image/png": "[encoded data removed]",
      "text/plain": [
       "<Figure size 432x432 with 2 Axes>"
      ]
     },
     "metadata": {
      "needs_background": "light"
     },
     "output_type": "display_data"
    }
   ],
   "source": [
    "_ = fit.plot()"
   ]
  },
  {
   "cell_type": "markdown",
   "id": "de774ff7-7f22-4f5f-a1bf-b969780a21b8",
   "metadata": {
    "papermill": {
     "duration": 0.043999,
     "end_time": "2022-03-06T02:04:11.871105",
     "exception": false,
     "start_time": "2022-03-06T02:04:11.827106",
     "status": "completed"
    },
    "tags": []
   },
   "source": [
    "#### Fit Gaussian to scan"
   ]
  },
  {
   "cell_type": "code",
   "execution_count": 34,
   "id": "2406e400-d8a4-42a6-a169-6940ee1cdea8",
   "metadata": {
    "execution": {
     "iopub.execute_input": "2022-03-06T02:04:11.963107Z",
     "iopub.status.busy": "2022-03-06T02:04:11.963107Z",
     "iopub.status.idle": "2022-03-06T02:04:12.070106Z",
     "shell.execute_reply": "2022-03-06T02:04:12.069107Z"
    },
    "papermill": {
     "duration": 0.155002,
     "end_time": "2022-03-06T02:04:12.070106",
     "exception": false,
     "start_time": "2022-03-06T02:04:11.915104",
     "status": "completed"
    },
    "tags": []
   },
   "outputs": [
    {
     "name": "stdout",
     "output_type": "stream",
     "text": [
      "[[Model]]\n",
      "    Model(gaussian)\n",
      "[[Fit Statistics]]\n",
      "    # fitting method   = leastsq\n",
      "    # function evals   = 37\n",
      "    # data points      = 31\n",
      "    # variables        = 3\n",
      "    chi-square         = 1.91277079\n",
      "    reduced chi-square = 0.06831324\n",
      "    Akaike info crit   = -80.3484644\n",
      "    Bayesian info crit = -76.0465028\n",
      "[[Variables]]\n",
      "    amplitude:  8.2082e+08 +/- 27312194.2 (3.33%) (init = 6.71454e+08)\n",
      "    center:    -12085866.1 +/- 4009258.51 (33.17%) (init = -9801769)\n",
      "    sigma:      1.0446e+08 +/- 4021557.14 (3.85%) (init = 6.861238e+07)\n",
      "    fwhm:       2.4598e+08 +/- 9470043.16 (3.85%) == '2.3548200*sigma'\n",
      "    height:     3.13485078 +/- 0.10425240 (3.33%) == '0.3989423*amplitude/max(1e-15, sigma)'\n",
      "[[Correlations]] (unreported correlations are < 0.100)\n",
      "    C(amplitude, sigma) = 0.579\n"
     ]
    }
   ],
   "source": [
    "model = GaussianModel()\n",
    "params = model.guess(\n",
    "                    results, \n",
    "                    x = δl_scan\n",
    ")\n",
    "fit = model.fit(results, params, x = δl_scan)\n",
    "print(fit.fit_report())"
   ]
  },
  {
   "cell_type": "code",
   "execution_count": 35,
   "id": "da38a3a8-2bc3-40b8-bc8e-a25b4bbae3e8",
   "metadata": {
    "execution": {
     "iopub.execute_input": "2022-03-06T02:04:12.171105Z",
     "iopub.status.busy": "2022-03-06T02:04:12.171105Z",
     "iopub.status.idle": "2022-03-06T02:04:12.369104Z",
     "shell.execute_reply": "2022-03-06T02:04:12.370106Z"
    },
    "papermill": {
     "duration": 0.254001,
     "end_time": "2022-03-06T02:04:12.370106",
     "exception": false,
     "start_time": "2022-03-06T02:04:12.116105",
     "status": "completed"
    },
    "tags": []
   },
   "outputs": [
    {
     "data": {
      "image/png": "[encoded data removed]",
      "text/plain": [
       "<Figure size 576x360 with 1 Axes>"
      ]
     },
     "metadata": {
      "needs_background": "light"
     },
     "output_type": "display_data"
    }
   ],
   "source": [
    "_x = np.linspace(δl_scan.min(), δl_scan.max(), 201)\n",
    "y = fit.eval(x = _x)\n",
    "\n",
    "fig, ax = plt.subplots(figsize = (8,5))\n",
    "ax.plot(δl_scan / (2*np.pi*1e6), results, '.', ms = 13, label = 'data')\n",
    "ax.plot(_x / (2*np.pi*1e6), y, label = 'fit', lw = 2)\n",
    "\n",
    "ax.set_xlabel(\"δ [MHz]\", fontsize = 14)\n",
    "ax.set_ylabel(\"# photons\", fontsize = 14)\n",
    "ax.legend(fontsize = 14)\n",
    "ax.set_title(\"Gaussian Fit\", fontsize = 15)\n",
    "ax.grid(True)"
   ]
  },
  {
   "cell_type": "code",
   "execution_count": 36,
   "id": "4e0bd614-03a0-4e0c-b644-72986d4026a4",
   "metadata": {
    "execution": {
     "iopub.execute_input": "2022-03-06T02:04:12.468105Z",
     "iopub.status.busy": "2022-03-06T02:04:12.467103Z",
     "iopub.status.idle": "2022-03-06T02:04:12.763128Z",
     "shell.execute_reply": "2022-03-06T02:04:12.763128Z"
    },
    "papermill": {
     "duration": 0.345023,
     "end_time": "2022-03-06T02:04:12.763128",
     "exception": false,
     "start_time": "2022-03-06T02:04:12.418105",
     "status": "completed"
    },
    "tags": []
   },
   "outputs": [
    {
     "data": {
      "image/png": "[encoded data removed]",
      "text/plain": [
       "<Figure size 432x432 with 2 Axes>"
      ]
     },
     "metadata": {
      "needs_background": "light"
     },
     "output_type": "display_data"
    }
   ],
   "source": [
    "_ = fit.plot()"
   ]
  },
  {
   "cell_type": "markdown",
   "id": "2e23e87f-79c2-470a-aec8-f9918c7f2c91",
   "metadata": {
    "papermill": {
     "duration": 0.047004,
     "end_time": "2022-03-06T02:04:12.856131",
     "exception": false,
     "start_time": "2022-03-06T02:04:12.809127",
     "status": "completed"
    },
    "tags": []
   },
   "source": [
    "#### Fit Voigt to scan"
   ]
  },
  {
   "cell_type": "code",
   "execution_count": 37,
   "id": "427de737-3ec5-4376-9fce-d4557da3a20d",
   "metadata": {
    "execution": {
     "iopub.execute_input": "2022-03-06T02:04:12.949127Z",
     "iopub.status.busy": "2022-03-06T02:04:12.949127Z",
     "iopub.status.idle": "2022-03-06T02:04:13.062126Z",
     "shell.execute_reply": "2022-03-06T02:04:13.063127Z"
    },
    "papermill": {
     "duration": 0.162999,
     "end_time": "2022-03-06T02:04:13.063127",
     "exception": false,
     "start_time": "2022-03-06T02:04:12.900128",
     "status": "completed"
    },
    "tags": []
   },
   "outputs": [
    {
     "name": "stdout",
     "output_type": "stream",
     "text": [
      "[[Model]]\n",
      "    Model(voigt)\n",
      "[[Fit Statistics]]\n",
      "    # fitting method   = leastsq\n",
      "    # function evals   = 29\n",
      "    # data points      = 31\n",
      "    # variables        = 3\n",
      "    chi-square         = 0.64871737\n",
      "    reduced chi-square = 0.02316848\n",
      "    Akaike info crit   = -113.869106\n",
      "    Bayesian info crit = -109.567144\n",
      "[[Variables]]\n",
      "    amplitude:  9.6362e+08 +/- 20199586.7 (2.10%) (init = 1.007181e+09)\n",
      "    center:    -13252079.3 +/- 2230030.85 (16.83%) (init = -9801769)\n",
      "    sigma:      60433106.4 +/- 1653344.47 (2.74%) (init = 4.459805e+07)\n",
      "    gamma:      60433106.4 +/- 1653344.47 (2.74%) == 'sigma'\n",
      "    fwhm:       2.1764e+08 +/- 3620696.73 (1.66%) == '1.0692*gamma+sqrt(0.8664*gamma**2+5.545083*sigma**2)'\n",
      "    height:     3.32791819 +/- 0.05231224 (1.57%) == '(amplitude/(max(1e-15, sigma*sqrt(2*pi))))*wofz((1j*gamma)/(max(1e-15, sigma*sqrt(2)))).real'\n",
      "[[Correlations]] (unreported correlations are < 0.100)\n",
      "    C(amplitude, sigma) = 0.663\n"
     ]
    }
   ],
   "source": [
    "model = VoigtModel()\n",
    "params = model.guess(\n",
    "                    results, \n",
    "                    x = δl_scan\n",
    ")\n",
    "fit = model.fit(results, params, x = δl_scan)\n",
    "print(fit.fit_report())"
   ]
  },
  {
   "cell_type": "code",
   "execution_count": 38,
   "id": "50403281-0ba4-4572-a029-2614a6647796",
   "metadata": {
    "execution": {
     "iopub.execute_input": "2022-03-06T02:04:13.160127Z",
     "iopub.status.busy": "2022-03-06T02:04:13.160127Z",
     "iopub.status.idle": "2022-03-06T02:04:13.348147Z",
     "shell.execute_reply": "2022-03-06T02:04:13.349146Z"
    },
    "papermill": {
     "duration": 0.239017,
     "end_time": "2022-03-06T02:04:13.349146",
     "exception": false,
     "start_time": "2022-03-06T02:04:13.110129",
     "status": "completed"
    },
    "tags": []
   },
   "outputs": [
    {
     "data": {
      "image/png": "[encoded data removed]",
      "text/plain": [
       "<Figure size 576x360 with 1 Axes>"
      ]
     },
     "metadata": {
      "needs_background": "light"
     },
     "output_type": "display_data"
    }
   ],
   "source": [
    "_x = np.linspace(δl_scan.min(), δl_scan.max(), 201)\n",
    "y = fit.eval(x = _x)\n",
    "\n",
    "fig, ax = plt.subplots(figsize = (8,5))\n",
    "ax.plot(δl_scan / (2*np.pi*1e6), results, '.', ms = 13, label = 'data')\n",
    "ax.plot(_x / (2*np.pi*1e6), y, label = 'fit', lw = 2)\n",
    "\n",
    "ax.set_xlabel(\"δ [MHz]\", fontsize = 14)\n",
    "ax.set_ylabel(\"# photons\", fontsize = 14)\n",
    "ax.legend(fontsize = 14)\n",
    "ax.set_title(\"Voigt Fit\", fontsize = 15)\n",
    "ax.grid(True)"
   ]
  },
  {
   "cell_type": "code",
   "execution_count": 39,
   "id": "f3cfa0ae-8cd4-44d3-a3b2-86b49bd91fd5",
   "metadata": {
    "execution": {
     "iopub.execute_input": "2022-03-06T02:04:13.449147Z",
     "iopub.status.busy": "2022-03-06T02:04:13.448146Z",
     "iopub.status.idle": "2022-03-06T02:04:13.757355Z",
     "shell.execute_reply": "2022-03-06T02:04:13.757355Z"
    },
    "papermill": {
     "duration": 0.361208,
     "end_time": "2022-03-06T02:04:13.757355",
     "exception": false,
     "start_time": "2022-03-06T02:04:13.396147",
     "status": "completed"
    },
    "tags": []
   },
   "outputs": [
    {
     "data": {
      "image/png": "[encoded data removed]",
      "text/plain": [
       "<Figure size 432x432 with 2 Axes>"
      ]
     },
     "metadata": {
      "needs_background": "light"
     },
     "output_type": "display_data"
    }
   ],
   "source": [
    "_ = fit.plot()"
   ]
  },
  {
   "cell_type": "code",
   "execution_count": null,
   "id": "7e576c63-d35f-4274-954b-1ed373a0be02",
   "metadata": {
    "papermill": {
     "duration": 0.050001,
     "end_time": "2022-03-06T02:04:13.858356",
     "exception": false,
     "start_time": "2022-03-06T02:04:13.808355",
     "status": "completed"
    },
    "tags": []
   },
   "outputs": [],
   "source": []
  }
 ],
 "metadata": {
  "kernelspec": {
   "display_name": "Python 3 (ipykernel)",
   "language": "python",
   "name": "python3"
  },
  "language_info": {
   "codemirror_mode": {
    "name": "ipython",
    "version": 3
   },
   "file_extension": ".py",
   "mimetype": "text/x-python",
   "name": "python",
   "nbconvert_exporter": "python",
   "pygments_lexer": "ipython3",
   "version": "3.8.12"
  },
  "papermill": {
   "default_parameters": {},
   "duration": 1383.667875,
   "end_time": "2022-03-06T02:04:15.995911",
   "environment_variables": {},
   "exception": null,
   "input_path": "multipass amherst template.ipynb",
   "output_path": "Q(1) F1'=3_2 F'=1.ipynb",
   "parameters": {
    "excited_F": 1,
    "excited_F1": 1.5,
    "excited_J": 1,
    "system_Js": [
     1,
     3
    ],
    "transition_type": "Q"
   },
   "start_time": "2022-03-06T01:41:12.328036",
   "version": "2.3.4"
  }
 },
 "nbformat": 4,
 "nbformat_minor": 5
}