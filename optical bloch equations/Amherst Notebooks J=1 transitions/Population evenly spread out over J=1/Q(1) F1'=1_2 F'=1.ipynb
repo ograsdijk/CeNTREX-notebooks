{
 "cells": [
  {
   "cell_type": "code",
   "execution_count": 1,
   "id": "7d8a7537-0017-470b-8014-10fee27536eb",
   "metadata": {
    "execution": {
     "iopub.execute_input": "2022-03-06T04:07:44.079002Z",
     "iopub.status.busy": "2022-03-06T04:07:44.078002Z",
     "iopub.status.idle": "2022-03-06T04:07:48.661059Z",
     "shell.execute_reply": "2022-03-06T04:07:48.661059Z"
    },
    "papermill": {
     "duration": 4.629057,
     "end_time": "2022-03-06T04:07:48.661059",
     "exception": false,
     "start_time": "2022-03-06T04:07:44.032002",
     "status": "completed"
    },
    "tags": []
   },
   "outputs": [],
   "source": [
    "%load_ext autoreload\n",
    "%autoreload 2\n",
    "\n",
    "import numpy as np\n",
    "import sympy as smp\n",
    "from tqdm import tqdm\n",
    "from sympy import Symbol, symbols\n",
    "import centrex_TlF as centrex\n",
    "import matplotlib.pyplot as plt\n",
    "from julia import Main"
   ]
  },
  {
   "cell_type": "markdown",
   "id": "6b24d705-f2c7-4949-826b-60484c6990f5",
   "metadata": {
    "papermill": {
     "duration": 0.022999,
     "end_time": "2022-03-06T04:07:48.706058",
     "exception": false,
     "start_time": "2022-03-06T04:07:48.683059",
     "status": "completed"
    },
    "tags": []
   },
   "source": [
    "### Papermill parameters"
   ]
  },
  {
   "cell_type": "code",
   "execution_count": 2,
   "id": "9788a2c1-095c-4d35-8c1b-a0548a74c8d2",
   "metadata": {
    "execution": {
     "iopub.execute_input": "2022-03-06T04:07:48.756057Z",
     "iopub.status.busy": "2022-03-06T04:07:48.756057Z",
     "iopub.status.idle": "2022-03-06T04:07:48.818059Z",
     "shell.execute_reply": "2022-03-06T04:07:48.817058Z"
    },
    "papermill": {
     "duration": 0.089002,
     "end_time": "2022-03-06T04:07:48.818059",
     "exception": false,
     "start_time": "2022-03-06T04:07:48.729057",
     "status": "completed"
    },
    "tags": [
     "parameters"
    ]
   },
   "outputs": [],
   "source": [
    "Γ = 2*np.pi*1.56e6\n",
    "\n",
    "transition_type = \"R\"\n",
    "ground_J = 1\n",
    "excited_F = 2\n",
    "excited_F1 = 3/2\n",
    "system_J = [1,3]\n",
    "\n",
    "laser_power = 23.8e-3 # power in W\n",
    "σlaser = 0.000914\n",
    "npasses = 9\n",
    "multipass_offset = 0.01\n",
    "distance_between_passes = 0.03556/npasses\n",
    "power_loss_per_pass = 20.2/23.8\n",
    "\n",
    "vcm = 150\n",
    "vcm_sigma = 30\n",
    "vperp_sigma = 38\n",
    "\n",
    "ωp = 0.65*Γ\n",
    "\n",
    "β = 3.8\n",
    "ωphase = 0.0\n",
    "\n",
    "scan_range = [-30,31,2]\n",
    "\n",
    "nprocs = 7"
   ]
  },
  {
   "cell_type": "code",
   "execution_count": 3,
   "id": "51562417",
   "metadata": {
    "execution": {
     "iopub.execute_input": "2022-03-06T04:07:48.864059Z",
     "iopub.status.busy": "2022-03-06T04:07:48.864059Z",
     "iopub.status.idle": "2022-03-06T04:07:48.925058Z",
     "shell.execute_reply": "2022-03-06T04:07:48.926058Z"
    },
    "papermill": {
     "duration": 0.086,
     "end_time": "2022-03-06T04:07:48.926058",
     "exception": false,
     "start_time": "2022-03-06T04:07:48.840058",
     "status": "completed"
    },
    "tags": [
     "injected-parameters"
    ]
   },
   "outputs": [],
   "source": [
    "# Parameters\n",
    "transition_type = \"Q\"\n",
    "excited_J = 1\n",
    "excited_F = 1\n",
    "excited_F1 = 0.5\n",
    "system_Js = [1, 3]\n"
   ]
  },
  {
   "cell_type": "code",
   "execution_count": 4,
   "id": "c21c06f6-c1af-496a-b304-7469b9ba8a17",
   "metadata": {
    "execution": {
     "iopub.execute_input": "2022-03-06T04:07:48.972057Z",
     "iopub.status.busy": "2022-03-06T04:07:48.972057Z",
     "iopub.status.idle": "2022-03-06T04:07:49.563058Z",
     "shell.execute_reply": "2022-03-06T04:07:49.563058Z"
    },
    "papermill": {
     "duration": 0.615001,
     "end_time": "2022-03-06T04:07:49.563058",
     "exception": false,
     "start_time": "2022-03-06T04:07:48.948057",
     "status": "completed"
    },
    "tags": []
   },
   "outputs": [],
   "source": [
    "trans = centrex.transitions.LaserTransition(\n",
    "    f\"{transition_type}{ground_J}\",\n",
    "    F1 = excited_F1,\n",
    "    F = excited_F\n",
    ")\n",
    "population_J = trans.ground_selector.J"
   ]
  },
  {
   "cell_type": "code",
   "execution_count": 5,
   "id": "a8bac859-a1d8-41cf-87c1-45cb8e44710d",
   "metadata": {
    "execution": {
     "iopub.execute_input": "2022-03-06T04:07:49.616059Z",
     "iopub.status.busy": "2022-03-06T04:07:49.616059Z",
     "iopub.status.idle": "2022-03-06T04:07:49.689059Z",
     "shell.execute_reply": "2022-03-06T04:07:49.689059Z"
    },
    "papermill": {
     "duration": 0.100001,
     "end_time": "2022-03-06T04:07:49.689059",
     "exception": false,
     "start_time": "2022-03-06T04:07:49.589058",
     "status": "completed"
    },
    "tags": []
   },
   "outputs": [
    {
     "name": "stdout",
     "output_type": "stream",
     "text": [
      "excited state : QuantumSelector(J=1, F1=0.5, F=1, mF=None, electronic='B', P=1, Ω=None)\n",
      "population in states : QuantumSelector(J=1, F1=None, F=None, mF=None, electronic='X', P=None, Ω=None)\n"
     ]
    }
   ],
   "source": [
    "excited_state = centrex.states.QuantumSelector(\n",
    "                    J=excited_J, F=excited_F, F1=excited_F1, \n",
    "                    electronic = 'B', P = trans.excited_selector.P\n",
    ")\n",
    "population_states = centrex.states.QuantumSelector(J=population_J, electronic = 'X')\n",
    "\n",
    "print(f\"excited state : {excited_state}\")\n",
    "print(f\"population in states : {population_states}\")"
   ]
  },
  {
   "cell_type": "markdown",
   "id": "21d17f10-4029-4df6-842f-0e7c76366a7c",
   "metadata": {
    "papermill": {
     "duration": 0.022001,
     "end_time": "2022-03-06T04:07:49.734059",
     "exception": false,
     "start_time": "2022-03-06T04:07:49.712058",
     "status": "completed"
    },
    "tags": []
   },
   "source": [
    "# Initial setup\n",
    "## Involved states"
   ]
  },
  {
   "cell_type": "code",
   "execution_count": 6,
   "id": "8a6852be-2045-4f4d-b899-c2717f66efa9",
   "metadata": {
    "execution": {
     "iopub.execute_input": "2022-03-06T04:07:49.785058Z",
     "iopub.status.busy": "2022-03-06T04:07:49.784061Z",
     "iopub.status.idle": "2022-03-06T04:07:49.860058Z",
     "shell.execute_reply": "2022-03-06T04:07:49.861057Z"
    },
    "papermill": {
     "duration": 0.103,
     "end_time": "2022-03-06T04:07:49.861057",
     "exception": false,
     "start_time": "2022-03-06T04:07:49.758057",
     "status": "completed"
    },
    "tags": []
   },
   "outputs": [],
   "source": [
    "gnd = centrex.states.QuantumSelector(J=system_J, electronic = 'X')\n",
    "exc = excited_state\n",
    "\n",
    "gnd_laser = centrex.states.QuantumSelector(J=trans.ground_selector.J, electronic = 'X')\n",
    "exc_laser = excited_state"
   ]
  },
  {
   "cell_type": "code",
   "execution_count": 7,
   "id": "7f40b6a0-2e4a-489a-892c-84cf72f711c0",
   "metadata": {
    "execution": {
     "iopub.execute_input": "2022-03-06T04:07:49.908059Z",
     "iopub.status.busy": "2022-03-06T04:07:49.908059Z",
     "iopub.status.idle": "2022-03-06T04:07:49.989060Z",
     "shell.execute_reply": "2022-03-06T04:07:49.989060Z"
    },
    "papermill": {
     "duration": 0.106002,
     "end_time": "2022-03-06T04:07:49.989060",
     "exception": false,
     "start_time": "2022-03-06T04:07:49.883058",
     "status": "completed"
    },
    "tags": []
   },
   "outputs": [],
   "source": [
    "syspars = centrex.states.SystemParameters(\n",
    "    nprocs  = nprocs,\n",
    "    Γ       = Γ,\n",
    "    X  = gnd,\n",
    "    B = [exc]\n",
    ")"
   ]
  },
  {
   "cell_type": "markdown",
   "id": "5783d09d-767e-4901-b328-5a3d8529c562",
   "metadata": {
    "papermill": {
     "duration": 0.025003,
     "end_time": "2022-03-06T04:07:50.037060",
     "exception": false,
     "start_time": "2022-03-06T04:07:50.012057",
     "status": "completed"
    },
    "tags": []
   },
   "source": [
    "## Parameters"
   ]
  },
  {
   "cell_type": "code",
   "execution_count": 8,
   "id": "afce7fb3-65f2-4ace-b238-b74f88ff4659",
   "metadata": {
    "execution": {
     "iopub.execute_input": "2022-03-06T04:07:50.093059Z",
     "iopub.status.busy": "2022-03-06T04:07:50.092057Z",
     "iopub.status.idle": "2022-03-06T04:07:50.177059Z",
     "shell.execute_reply": "2022-03-06T04:07:50.178057Z"
    },
    "papermill": {
     "duration": 0.117998,
     "end_time": "2022-03-06T04:07:50.178057",
     "exception": false,
     "start_time": "2022-03-06T04:07:50.060059",
     "status": "completed"
    },
    "tags": []
   },
   "outputs": [],
   "source": [
    "odepars = centrex.lindblad.odeParameters(\n",
    "    Ωl = \"Ωl0 * phase_modulation(t, β, ωphase) * multipass_2d_intensity(vz*t, y0+vy*t, ampl, xlocs, ylocs, σzlaser, σylaser)\",\n",
    "    Ωl0     = 1*syspars.Γ,    # Rabi frequency of the laser [rad/s]\n",
    "    δl      = 0.0,              # detuning of the laser [rad/s]\n",
    "    \n",
    "    # laser beam properties\n",
    "    σzlaser = σlaser * np.sqrt(2),\n",
    "    σylaser = σlaser * np.sqrt(2),\n",
    "    \n",
    "    # laser multipass\n",
    "    ampl = [np.sqrt(power_loss_per_pass**n) for n in range(npasses)],\n",
    "    xlocs = [(n-1)*distance_between_passes + multipass_offset for n in centrex.utils.light.multipass_prism_order(npasses)],\n",
    "    ylocs = npasses*[0.0],\n",
    "    \n",
    "    # laser phase modulation\n",
    "    ωphase = ωphase,       # laser phase modulation frequency [rad/s]\n",
    "    β      = β,             # laser phase modulation depth [rad]\n",
    "\n",
    "    # laser polarization switching\n",
    "    ωp = ωp,           # polarization switching frequency [rad/s]\n",
    "    φp = 0.0,                 # polarization switching phase [rad]\n",
    "    Pl  = \"sin(ωp*t + φp)\",\n",
    "    Plz = \"Pl>0\",\n",
    "    Plx = \"Pl<=0\",\n",
    "    Ply = 0.0,\n",
    "    \n",
    "    # molecules\n",
    "    y0 = 0.,                   # molecule start y position [m]\n",
    "    vz = 150.,                 # longitudinal molecular velocity [m/s]\n",
    "    vy = 0.,                   # molecule vy [m/s]\n",
    ")\n"
   ]
  },
  {
   "cell_type": "markdown",
   "id": "94aff443-8f03-4464-b85e-cea4b4407fd1",
   "metadata": {
    "papermill": {
     "duration": 0.024002,
     "end_time": "2022-03-06T04:07:50.225060",
     "exception": false,
     "start_time": "2022-03-06T04:07:50.201058",
     "status": "completed"
    },
    "tags": []
   },
   "source": [
    "## Transitions"
   ]
  },
  {
   "cell_type": "code",
   "execution_count": 9,
   "id": "8ab6c2cd-69a9-43bc-b367-70604948ee8e",
   "metadata": {
    "execution": {
     "iopub.execute_input": "2022-03-06T04:07:50.275940Z",
     "iopub.status.busy": "2022-03-06T04:07:50.274939Z",
     "iopub.status.idle": "2022-03-06T04:07:50.334941Z",
     "shell.execute_reply": "2022-03-06T04:07:50.335940Z"
    },
    "papermill": {
     "duration": 0.087002,
     "end_time": "2022-03-06T04:07:50.335940",
     "exception": false,
     "start_time": "2022-03-06T04:07:50.248938",
     "status": "completed"
    },
    "tags": []
   },
   "outputs": [],
   "source": [
    "transitions = [\n",
    "    centrex.couplings.TransitionSelector(\n",
    "        ground = 1*centrex.states.generate_coupled_states_ground_X(gnd_laser),\n",
    "        excited = 1*centrex.states.generate_coupled_states_excited_B(exc_laser),\n",
    "        polarizations        = [[0,0,1],[1,0,0],[0,1,0]],\n",
    "        polarization_symbols = symbols(\"Plz     Plx     Ply\"),\n",
    "        Ω = smp.Symbol('Ωl', complex = True),\n",
    "        δ = smp.Symbol('δl'),\n",
    "        description = \"laser transition\",        \n",
    "    ),\n",
    "]"
   ]
  },
  {
   "cell_type": "code",
   "execution_count": 10,
   "id": "8830dc74-5aef-4786-b0b6-d086c03b86a7",
   "metadata": {
    "execution": {
     "iopub.execute_input": "2022-03-06T04:07:50.383940Z",
     "iopub.status.busy": "2022-03-06T04:07:50.382939Z",
     "iopub.status.idle": "2022-03-06T04:07:50.459940Z",
     "shell.execute_reply": "2022-03-06T04:07:50.459940Z"
    },
    "papermill": {
     "duration": 0.102002,
     "end_time": "2022-03-06T04:07:50.459940",
     "exception": false,
     "start_time": "2022-03-06T04:07:50.357938",
     "status": "completed"
    },
    "tags": []
   },
   "outputs": [
    {
     "data": {
      "text/plain": [
       "\"Q(1) F1'=1_2 F'=1\""
      ]
     },
     "execution_count": 10,
     "metadata": {},
     "output_type": "execute_result"
    }
   ],
   "source": [
    "transition_name = centrex.transitions.identify_transition(\n",
    "    transitions[0].ground[0],\n",
    "    transitions[0].excited[0]\n",
    ")\n",
    "transition_name = transition_name.replace(\",\",\"\").replace(\"/\",\"_\")\n",
    "transition_name"
   ]
  },
  {
   "cell_type": "markdown",
   "id": "e6bed866-24bc-4cbb-9664-022df1a48188",
   "metadata": {
    "papermill": {
     "duration": 0.024996,
     "end_time": "2022-03-06T04:07:50.511938",
     "exception": false,
     "start_time": "2022-03-06T04:07:50.486942",
     "status": "completed"
    },
    "tags": []
   },
   "source": [
    "## Generate System"
   ]
  },
  {
   "cell_type": "code",
   "execution_count": 11,
   "id": "4ed1375f-f64b-45c0-8ca8-f98491e8c8f0",
   "metadata": {
    "execution": {
     "iopub.execute_input": "2022-03-06T04:07:50.562942Z",
     "iopub.status.busy": "2022-03-06T04:07:50.561941Z",
     "iopub.status.idle": "2022-03-06T04:09:05.269915Z",
     "shell.execute_reply": "2022-03-06T04:09:05.269915Z"
    },
    "papermill": {
     "duration": 74.734976,
     "end_time": "2022-03-06T04:09:05.269915",
     "exception": false,
     "start_time": "2022-03-06T04:07:50.534939",
     "status": "completed"
    },
    "tags": []
   },
   "outputs": [
    {
     "data": {
      "text/html": [
       "<pre style=\"white-space:pre;overflow-x:auto;line-height:normal;font-family:Menlo,'DejaVu Sans Mono',consolas,'Courier New',monospace\"><span style=\"color: #7fbfbf; text-decoration-color: #7fbfbf\">[22:07:50] </span><span style=\"color: #000080; text-decoration-color: #000080\">INFO    </span> generate_OBE_system: <span style=\"color: #008080; text-decoration-color: #008080; font-weight: bold\">1</span>/<span style=\"color: #008080; text-decoration-color: #008080; font-weight: bold\">6</span> -&gt; Generating the reduced      <a href=\"file://C:\\Users\\ogras\\anaconda3\\lib\\site-packages\\centrex_tlf-0.2-py3.8.egg\\centrex_TlF\\lindblad\\utils_setup.py\"><span style=\"color: #7f7f7f; text-decoration-color: #7f7f7f\">utils_setup.py</span></a><span style=\"color: #7f7f7f; text-decoration-color: #7f7f7f\">:</span><a href=\"file://C:\\Users\\ogras\\anaconda3\\lib\\site-packages\\centrex_tlf-0.2-py3.8.egg\\centrex_TlF\\lindblad\\utils_setup.py#88\"><span style=\"color: #7f7f7f; text-decoration-color: #7f7f7f\">88</span></a>\n",
       "                    Hamiltonian                                                              \n",
       "</pre>\n"
      ],
      "text/plain": [
       "\u001b[2;36m[22:07:50]\u001b[0m\u001b[2;36m \u001b[0m\u001b[34mINFO    \u001b[0m generate_OBE_system: \u001b[1;36m1\u001b[0m/\u001b[1;36m6\u001b[0m -> Generating the reduced      \u001b]8;id=731194;file://C:\\Users\\ogras\\anaconda3\\lib\\site-packages\\centrex_tlf-0.2-py3.8.egg\\centrex_TlF\\lindblad\\utils_setup.py\u001b\\\u001b[2mutils_setup.py\u001b[0m\u001b]8;;\u001b\\\u001b[2m:\u001b[0m\u001b]8;id=553665;file://C:\\Users\\ogras\\anaconda3\\lib\\site-packages\\centrex_tlf-0.2-py3.8.egg\\centrex_TlF\\lindblad\\utils_setup.py#88\u001b\\\u001b[2m88\u001b[0m\u001b]8;;\u001b\\\n",
       "                    Hamiltonian                                                              \n"
      ]
     },
     "metadata": {},
     "output_type": "display_data"
    },
    {
     "data": {
      "text/html": [
       "<pre style=\"white-space:pre;overflow-x:auto;line-height:normal;font-family:Menlo,'DejaVu Sans Mono',consolas,'Courier New',monospace\"><span style=\"color: #7fbfbf; text-decoration-color: #7fbfbf\">[22:07:53] </span><span style=\"color: #000080; text-decoration-color: #000080\">INFO    </span> generate_OBE_system: <span style=\"color: #008080; text-decoration-color: #008080; font-weight: bold\">2</span>/<span style=\"color: #008080; text-decoration-color: #008080; font-weight: bold\">6</span> -&gt; Generating the couplings   <a href=\"file://C:\\Users\\ogras\\anaconda3\\lib\\site-packages\\centrex_tlf-0.2-py3.8.egg\\centrex_TlF\\lindblad\\utils_setup.py\"><span style=\"color: #7f7f7f; text-decoration-color: #7f7f7f\">utils_setup.py</span></a><span style=\"color: #7f7f7f; text-decoration-color: #7f7f7f\">:</span><a href=\"file://C:\\Users\\ogras\\anaconda3\\lib\\site-packages\\centrex_tlf-0.2-py3.8.egg\\centrex_TlF\\lindblad\\utils_setup.py#103\"><span style=\"color: #7f7f7f; text-decoration-color: #7f7f7f\">103</span></a>\n",
       "                    corresponding to the transitions                                         \n",
       "</pre>\n"
      ],
      "text/plain": [
       "\u001b[2;36m[22:07:53]\u001b[0m\u001b[2;36m \u001b[0m\u001b[34mINFO    \u001b[0m generate_OBE_system: \u001b[1;36m2\u001b[0m/\u001b[1;36m6\u001b[0m -> Generating the couplings   \u001b]8;id=488459;file://C:\\Users\\ogras\\anaconda3\\lib\\site-packages\\centrex_tlf-0.2-py3.8.egg\\centrex_TlF\\lindblad\\utils_setup.py\u001b\\\u001b[2mutils_setup.py\u001b[0m\u001b]8;;\u001b\\\u001b[2m:\u001b[0m\u001b]8;id=119506;file://C:\\Users\\ogras\\anaconda3\\lib\\site-packages\\centrex_tlf-0.2-py3.8.egg\\centrex_TlF\\lindblad\\utils_setup.py#103\u001b\\\u001b[2m103\u001b[0m\u001b]8;;\u001b\\\n",
       "                    corresponding to the transitions                                         \n"
      ]
     },
     "metadata": {},
     "output_type": "display_data"
    },
    {
     "data": {
      "text/html": [
       "<pre style=\"white-space:pre;overflow-x:auto;line-height:normal;font-family:Menlo,'DejaVu Sans Mono',consolas,'Courier New',monospace\"><span style=\"color: #7fbfbf; text-decoration-color: #7fbfbf\">[22:08:10] </span><span style=\"color: #000080; text-decoration-color: #000080\">INFO    </span> generate_OBE_system: <span style=\"color: #008080; text-decoration-color: #008080; font-weight: bold\">3</span>/<span style=\"color: #008080; text-decoration-color: #008080; font-weight: bold\">6</span> -&gt; Generating the symbolic    <a href=\"file://C:\\Users\\ogras\\anaconda3\\lib\\site-packages\\centrex_tlf-0.2-py3.8.egg\\centrex_TlF\\lindblad\\utils_setup.py\"><span style=\"color: #7f7f7f; text-decoration-color: #7f7f7f\">utils_setup.py</span></a><span style=\"color: #7f7f7f; text-decoration-color: #7f7f7f\">:</span><a href=\"file://C:\\Users\\ogras\\anaconda3\\lib\\site-packages\\centrex_tlf-0.2-py3.8.egg\\centrex_TlF\\lindblad\\utils_setup.py#138\"><span style=\"color: #7f7f7f; text-decoration-color: #7f7f7f\">138</span></a>\n",
       "                    Hamiltonian                                                              \n",
       "</pre>\n"
      ],
      "text/plain": [
       "\u001b[2;36m[22:08:10]\u001b[0m\u001b[2;36m \u001b[0m\u001b[34mINFO    \u001b[0m generate_OBE_system: \u001b[1;36m3\u001b[0m/\u001b[1;36m6\u001b[0m -> Generating the symbolic    \u001b]8;id=151223;file://C:\\Users\\ogras\\anaconda3\\lib\\site-packages\\centrex_tlf-0.2-py3.8.egg\\centrex_TlF\\lindblad\\utils_setup.py\u001b\\\u001b[2mutils_setup.py\u001b[0m\u001b]8;;\u001b\\\u001b[2m:\u001b[0m\u001b]8;id=736582;file://C:\\Users\\ogras\\anaconda3\\lib\\site-packages\\centrex_tlf-0.2-py3.8.egg\\centrex_TlF\\lindblad\\utils_setup.py#138\u001b\\\u001b[2m138\u001b[0m\u001b]8;;\u001b\\\n",
       "                    Hamiltonian                                                              \n"
      ]
     },
     "metadata": {},
     "output_type": "display_data"
    },
    {
     "data": {
      "text/html": [
       "<pre style=\"white-space:pre;overflow-x:auto;line-height:normal;font-family:Menlo,'DejaVu Sans Mono',consolas,'Courier New',monospace\"><span style=\"color: #7fbfbf; text-decoration-color: #7fbfbf\">[22:08:24] </span><span style=\"color: #000080; text-decoration-color: #000080\">INFO    </span> generate_OBE_system: <span style=\"color: #008080; text-decoration-color: #008080; font-weight: bold\">4</span>/<span style=\"color: #008080; text-decoration-color: #008080; font-weight: bold\">6</span> -&gt; Generating the collapse    <a href=\"file://C:\\Users\\ogras\\anaconda3\\lib\\site-packages\\centrex_tlf-0.2-py3.8.egg\\centrex_TlF\\lindblad\\utils_setup.py\"><span style=\"color: #7f7f7f; text-decoration-color: #7f7f7f\">utils_setup.py</span></a><span style=\"color: #7f7f7f; text-decoration-color: #7f7f7f\">:</span><a href=\"file://C:\\Users\\ogras\\anaconda3\\lib\\site-packages\\centrex_tlf-0.2-py3.8.egg\\centrex_TlF\\lindblad\\utils_setup.py#149\"><span style=\"color: #7f7f7f; text-decoration-color: #7f7f7f\">149</span></a>\n",
       "                    matrices                                                                 \n",
       "</pre>\n"
      ],
      "text/plain": [
       "\u001b[2;36m[22:08:24]\u001b[0m\u001b[2;36m \u001b[0m\u001b[34mINFO    \u001b[0m generate_OBE_system: \u001b[1;36m4\u001b[0m/\u001b[1;36m6\u001b[0m -> Generating the collapse    \u001b]8;id=220203;file://C:\\Users\\ogras\\anaconda3\\lib\\site-packages\\centrex_tlf-0.2-py3.8.egg\\centrex_TlF\\lindblad\\utils_setup.py\u001b\\\u001b[2mutils_setup.py\u001b[0m\u001b]8;;\u001b\\\u001b[2m:\u001b[0m\u001b]8;id=98529;file://C:\\Users\\ogras\\anaconda3\\lib\\site-packages\\centrex_tlf-0.2-py3.8.egg\\centrex_TlF\\lindblad\\utils_setup.py#149\u001b\\\u001b[2m149\u001b[0m\u001b]8;;\u001b\\\n",
       "                    matrices                                                                 \n"
      ]
     },
     "metadata": {},
     "output_type": "display_data"
    },
    {
     "name": "stdout",
     "output_type": "stream",
     "text": [
      "Warning: Branching ratio sum > 1, difference = 2.22e-16\n"
     ]
    },
    {
     "data": {
      "text/html": [
       "<pre style=\"white-space:pre;overflow-x:auto;line-height:normal;font-family:Menlo,'DejaVu Sans Mono',consolas,'Courier New',monospace\"><span style=\"color: #7fbfbf; text-decoration-color: #7fbfbf\">           </span><span style=\"color: #000080; text-decoration-color: #000080\">INFO    </span> generate_OBE_system: <span style=\"color: #008080; text-decoration-color: #008080; font-weight: bold\">5</span>/<span style=\"color: #008080; text-decoration-color: #008080; font-weight: bold\">6</span> -&gt; Transforming the           <a href=\"file://C:\\Users\\ogras\\anaconda3\\lib\\site-packages\\centrex_tlf-0.2-py3.8.egg\\centrex_TlF\\lindblad\\utils_setup.py\"><span style=\"color: #7f7f7f; text-decoration-color: #7f7f7f\">utils_setup.py</span></a><span style=\"color: #7f7f7f; text-decoration-color: #7f7f7f\">:</span><a href=\"file://C:\\Users\\ogras\\anaconda3\\lib\\site-packages\\centrex_tlf-0.2-py3.8.egg\\centrex_TlF\\lindblad\\utils_setup.py#178\"><span style=\"color: #7f7f7f; text-decoration-color: #7f7f7f\">178</span></a>\n",
       "                    Hamiltonian and collapse matrices into a symbolic                        \n",
       "                    system of equations                                                      \n",
       "</pre>\n"
      ],
      "text/plain": [
       "\u001b[2;36m          \u001b[0m\u001b[2;36m \u001b[0m\u001b[34mINFO    \u001b[0m generate_OBE_system: \u001b[1;36m5\u001b[0m/\u001b[1;36m6\u001b[0m -> Transforming the           \u001b]8;id=720886;file://C:\\Users\\ogras\\anaconda3\\lib\\site-packages\\centrex_tlf-0.2-py3.8.egg\\centrex_TlF\\lindblad\\utils_setup.py\u001b\\\u001b[2mutils_setup.py\u001b[0m\u001b]8;;\u001b\\\u001b[2m:\u001b[0m\u001b]8;id=580393;file://C:\\Users\\ogras\\anaconda3\\lib\\site-packages\\centrex_tlf-0.2-py3.8.egg\\centrex_TlF\\lindblad\\utils_setup.py#178\u001b\\\u001b[2m178\u001b[0m\u001b]8;;\u001b\\\n",
       "                    Hamiltonian and collapse matrices into a symbolic                        \n",
       "                    system of equations                                                      \n"
      ]
     },
     "metadata": {},
     "output_type": "display_data"
    },
    {
     "data": {
      "text/html": [
       "<pre style=\"white-space:pre;overflow-x:auto;line-height:normal;font-family:Menlo,'DejaVu Sans Mono',consolas,'Courier New',monospace\"><span style=\"color: #7fbfbf; text-decoration-color: #7fbfbf\">[22:08:26] </span><span style=\"color: #000080; text-decoration-color: #000080\">INFO    </span> generate_OBE_system: <span style=\"color: #008080; text-decoration-color: #008080; font-weight: bold\">6</span>/<span style=\"color: #008080; text-decoration-color: #008080; font-weight: bold\">6</span> -&gt; Generating Julia code      <a href=\"file://C:\\Users\\ogras\\anaconda3\\lib\\site-packages\\centrex_tlf-0.2-py3.8.egg\\centrex_TlF\\lindblad\\utils_setup.py\"><span style=\"color: #7f7f7f; text-decoration-color: #7f7f7f\">utils_setup.py</span></a><span style=\"color: #7f7f7f; text-decoration-color: #7f7f7f\">:</span><a href=\"file://C:\\Users\\ogras\\anaconda3\\lib\\site-packages\\centrex_tlf-0.2-py3.8.egg\\centrex_TlF\\lindblad\\utils_setup.py#186\"><span style=\"color: #7f7f7f; text-decoration-color: #7f7f7f\">186</span></a>\n",
       "                    representing the system of equations                                     \n",
       "</pre>\n"
      ],
      "text/plain": [
       "\u001b[2;36m[22:08:26]\u001b[0m\u001b[2;36m \u001b[0m\u001b[34mINFO    \u001b[0m generate_OBE_system: \u001b[1;36m6\u001b[0m/\u001b[1;36m6\u001b[0m -> Generating Julia code      \u001b]8;id=671285;file://C:\\Users\\ogras\\anaconda3\\lib\\site-packages\\centrex_tlf-0.2-py3.8.egg\\centrex_TlF\\lindblad\\utils_setup.py\u001b\\\u001b[2mutils_setup.py\u001b[0m\u001b]8;;\u001b\\\u001b[2m:\u001b[0m\u001b]8;id=569371;file://C:\\Users\\ogras\\anaconda3\\lib\\site-packages\\centrex_tlf-0.2-py3.8.egg\\centrex_TlF\\lindblad\\utils_setup.py#186\u001b\\\u001b[2m186\u001b[0m\u001b]8;;\u001b\\\n",
       "                    representing the system of equations                                     \n"
      ]
     },
     "metadata": {},
     "output_type": "display_data"
    },
    {
     "data": {
      "text/html": [
       "<pre style=\"white-space:pre;overflow-x:auto;line-height:normal;font-family:Menlo,'DejaVu Sans Mono',consolas,'Courier New',monospace\"><span style=\"color: #7fbfbf; text-decoration-color: #7fbfbf\">[22:08:33] </span><span style=\"color: #000080; text-decoration-color: #000080\">INFO    </span> setup_OBE_system_julia: <span style=\"color: #008080; text-decoration-color: #008080; font-weight: bold\">1</span>/<span style=\"color: #008080; text-decoration-color: #008080; font-weight: bold\">3</span> -&gt; Generating the preamble <a href=\"file://C:\\Users\\ogras\\anaconda3\\lib\\site-packages\\centrex_tlf-0.2-py3.8.egg\\centrex_TlF\\lindblad\\utils_setup.py\"><span style=\"color: #7f7f7f; text-decoration-color: #7f7f7f\">utils_setup.py</span></a><span style=\"color: #7f7f7f; text-decoration-color: #7f7f7f\">:</span><a href=\"file://C:\\Users\\ogras\\anaconda3\\lib\\site-packages\\centrex_tlf-0.2-py3.8.egg\\centrex_TlF\\lindblad\\utils_setup.py#266\"><span style=\"color: #7f7f7f; text-decoration-color: #7f7f7f\">266</span></a>\n",
       "</pre>\n"
      ],
      "text/plain": [
       "\u001b[2;36m[22:08:33]\u001b[0m\u001b[2;36m \u001b[0m\u001b[34mINFO    \u001b[0m setup_OBE_system_julia: \u001b[1;36m1\u001b[0m/\u001b[1;36m3\u001b[0m -> Generating the preamble \u001b]8;id=142740;file://C:\\Users\\ogras\\anaconda3\\lib\\site-packages\\centrex_tlf-0.2-py3.8.egg\\centrex_TlF\\lindblad\\utils_setup.py\u001b\\\u001b[2mutils_setup.py\u001b[0m\u001b]8;;\u001b\\\u001b[2m:\u001b[0m\u001b]8;id=594471;file://C:\\Users\\ogras\\anaconda3\\lib\\site-packages\\centrex_tlf-0.2-py3.8.egg\\centrex_TlF\\lindblad\\utils_setup.py#266\u001b\\\u001b[2m266\u001b[0m\u001b]8;;\u001b\\\n"
      ]
     },
     "metadata": {},
     "output_type": "display_data"
    },
    {
     "data": {
      "text/html": [
       "<pre style=\"white-space:pre;overflow-x:auto;line-height:normal;font-family:Menlo,'DejaVu Sans Mono',consolas,'Courier New',monospace\"><span style=\"color: #7fbfbf; text-decoration-color: #7fbfbf\">           </span><span style=\"color: #000080; text-decoration-color: #000080\">INFO    </span> setup_OBE_system_julia: <span style=\"color: #008080; text-decoration-color: #008080; font-weight: bold\">2</span>/<span style=\"color: #008080; text-decoration-color: #008080; font-weight: bold\">3</span> -&gt; Initializing Julia on <span style=\"color: #008080; text-decoration-color: #008080; font-weight: bold\">7</span> <a href=\"file://C:\\Users\\ogras\\anaconda3\\lib\\site-packages\\centrex_tlf-0.2-py3.8.egg\\centrex_TlF\\lindblad\\utils_setup.py\"><span style=\"color: #7f7f7f; text-decoration-color: #7f7f7f\">utils_setup.py</span></a><span style=\"color: #7f7f7f; text-decoration-color: #7f7f7f\">:</span><a href=\"file://C:\\Users\\ogras\\anaconda3\\lib\\site-packages\\centrex_tlf-0.2-py3.8.egg\\centrex_TlF\\lindblad\\utils_setup.py#270\"><span style=\"color: #7f7f7f; text-decoration-color: #7f7f7f\">270</span></a>\n",
       "                    cores                                                                    \n",
       "</pre>\n"
      ],
      "text/plain": [
       "\u001b[2;36m          \u001b[0m\u001b[2;36m \u001b[0m\u001b[34mINFO    \u001b[0m setup_OBE_system_julia: \u001b[1;36m2\u001b[0m/\u001b[1;36m3\u001b[0m -> Initializing Julia on \u001b[1;36m7\u001b[0m \u001b]8;id=606708;file://C:\\Users\\ogras\\anaconda3\\lib\\site-packages\\centrex_tlf-0.2-py3.8.egg\\centrex_TlF\\lindblad\\utils_setup.py\u001b\\\u001b[2mutils_setup.py\u001b[0m\u001b]8;;\u001b\\\u001b[2m:\u001b[0m\u001b]8;id=398521;file://C:\\Users\\ogras\\anaconda3\\lib\\site-packages\\centrex_tlf-0.2-py3.8.egg\\centrex_TlF\\lindblad\\utils_setup.py#270\u001b\\\u001b[2m270\u001b[0m\u001b]8;;\u001b\\\n",
       "                    cores                                                                    \n"
      ]
     },
     "metadata": {},
     "output_type": "display_data"
    },
    {
     "name": "stdout",
     "output_type": "stream",
     "text": [
      "Initialized Julia with 7 processes\n"
     ]
    },
    {
     "data": {
      "text/html": [
       "<pre style=\"white-space:pre;overflow-x:auto;line-height:normal;font-family:Menlo,'DejaVu Sans Mono',consolas,'Courier New',monospace\"><span style=\"color: #7fbfbf; text-decoration-color: #7fbfbf\">[22:09:04] </span><span style=\"color: #000080; text-decoration-color: #000080\">INFO    </span> setup_OBE_system_julia: <span style=\"color: #008080; text-decoration-color: #008080; font-weight: bold\">3</span>/<span style=\"color: #008080; text-decoration-color: #008080; font-weight: bold\">3</span> -&gt; Defining the ODE        <a href=\"file://C:\\Users\\ogras\\anaconda3\\lib\\site-packages\\centrex_tlf-0.2-py3.8.egg\\centrex_TlF\\lindblad\\utils_setup.py\"><span style=\"color: #7f7f7f; text-decoration-color: #7f7f7f\">utils_setup.py</span></a><span style=\"color: #7f7f7f; text-decoration-color: #7f7f7f\">:</span><a href=\"file://C:\\Users\\ogras\\anaconda3\\lib\\site-packages\\centrex_tlf-0.2-py3.8.egg\\centrex_TlF\\lindblad\\utils_setup.py#277\"><span style=\"color: #7f7f7f; text-decoration-color: #7f7f7f\">277</span></a>\n",
       "                    equation and parameters in Julia                                         \n",
       "</pre>\n"
      ],
      "text/plain": [
       "\u001b[2;36m[22:09:04]\u001b[0m\u001b[2;36m \u001b[0m\u001b[34mINFO    \u001b[0m setup_OBE_system_julia: \u001b[1;36m3\u001b[0m/\u001b[1;36m3\u001b[0m -> Defining the ODE        \u001b]8;id=217221;file://C:\\Users\\ogras\\anaconda3\\lib\\site-packages\\centrex_tlf-0.2-py3.8.egg\\centrex_TlF\\lindblad\\utils_setup.py\u001b\\\u001b[2mutils_setup.py\u001b[0m\u001b]8;;\u001b\\\u001b[2m:\u001b[0m\u001b]8;id=382938;file://C:\\Users\\ogras\\anaconda3\\lib\\site-packages\\centrex_tlf-0.2-py3.8.egg\\centrex_TlF\\lindblad\\utils_setup.py#277\u001b\\\u001b[2m277\u001b[0m\u001b]8;;\u001b\\\n",
       "                    equation and parameters in Julia                                         \n"
      ]
     },
     "metadata": {},
     "output_type": "display_data"
    },
    {
     "name": "stdout",
     "output_type": "stream",
     "text": [
      "Wall time: 1min 14s\n"
     ]
    }
   ],
   "source": [
    "%%time\n",
    "obe_system = centrex.lindblad.setup_OBE_system_julia(syspars, odepars, transitions, verbose=True, full_output=True, \n",
    "                                                     qn_compact=centrex.states.QuantumSelector(J=3, electronic = 'X'))"
   ]
  },
  {
   "cell_type": "markdown",
   "id": "e2979859-216a-46aa-a6ed-72a507abf26b",
   "metadata": {
    "papermill": {
     "duration": 0.027,
     "end_time": "2022-03-06T04:09:05.324914",
     "exception": false,
     "start_time": "2022-03-06T04:09:05.297914",
     "status": "completed"
    },
    "tags": []
   },
   "source": [
    "# Simulations\n",
    "## Single trajectory"
   ]
  },
  {
   "cell_type": "code",
   "execution_count": 12,
   "id": "a7dfeb67-36ab-4ed5-9af1-ad66daeddeac",
   "metadata": {
    "execution": {
     "iopub.execute_input": "2022-03-06T04:09:05.385916Z",
     "iopub.status.busy": "2022-03-06T04:09:05.384916Z",
     "iopub.status.idle": "2022-03-06T04:09:05.454917Z",
     "shell.execute_reply": "2022-03-06T04:09:05.455916Z"
    },
    "papermill": {
     "duration": 0.104003,
     "end_time": "2022-03-06T04:09:05.455916",
     "exception": false,
     "start_time": "2022-03-06T04:09:05.351913",
     "status": "completed"
    },
    "tags": []
   },
   "outputs": [
    {
     "name": "stdout",
     "output_type": "stream",
     "text": [
      "Ωl0 : 2.18 Γ\n"
     ]
    }
   ],
   "source": [
    "Ωl0 = centrex.utils.light.calculate_rabi_from_power_gaussian_beam(\n",
    "                        laser_power,\n",
    "                        obe_system.couplings[0]['main coupling'],\n",
    "                        σlaser,\n",
    "                        σlaser\n",
    "    ).real\n",
    "print(f\"Ωl0 : {Ωl0 / syspars.Γ:.2f} Γ\")"
   ]
  },
  {
   "cell_type": "code",
   "execution_count": 13,
   "id": "f29311e6-5f91-40cc-b852-150cb39f3072",
   "metadata": {
    "execution": {
     "iopub.execute_input": "2022-03-06T04:09:05.516918Z",
     "iopub.status.busy": "2022-03-06T04:09:05.515917Z",
     "iopub.status.idle": "2022-03-06T04:09:05.580913Z",
     "shell.execute_reply": "2022-03-06T04:09:05.581914Z"
    },
    "papermill": {
     "duration": 0.099001,
     "end_time": "2022-03-06T04:09:05.581914",
     "exception": false,
     "start_time": "2022-03-06T04:09:05.482913",
     "status": "completed"
    },
    "tags": []
   },
   "outputs": [],
   "source": [
    "odepars.Ωl0 = Ωl0\n",
    "odepars.ωphase = ωphase\n",
    "odepars.ωp = ωp"
   ]
  },
  {
   "cell_type": "code",
   "execution_count": 14,
   "id": "39446a36-7821-474c-8be2-cf0892f0d017",
   "metadata": {
    "execution": {
     "iopub.execute_input": "2022-03-06T04:09:05.641916Z",
     "iopub.status.busy": "2022-03-06T04:09:05.640914Z",
     "iopub.status.idle": "2022-03-06T04:09:11.590042Z",
     "shell.execute_reply": "2022-03-06T04:09:11.589045Z"
    },
    "papermill": {
     "duration": 5.980129,
     "end_time": "2022-03-06T04:09:11.590042",
     "exception": false,
     "start_time": "2022-03-06T04:09:05.609913",
     "status": "completed"
    },
    "tags": []
   },
   "outputs": [],
   "source": [
    "ρ = centrex.utils.generate_population_states(population_states.get_indices(obe_system.QN), len(obe_system.QN))\n",
    "t_array, results = centrex.lindblad.do_simulation_single(odepars, (0,50e-3/odepars.vz+10e-6), ρ)"
   ]
  },
  {
   "cell_type": "code",
   "execution_count": 15,
   "id": "c2022834-a208-480a-bce9-4649d182fa91",
   "metadata": {
    "execution": {
     "iopub.execute_input": "2022-03-06T04:09:11.662044Z",
     "iopub.status.busy": "2022-03-06T04:09:11.661044Z",
     "iopub.status.idle": "2022-03-06T04:09:12.064052Z",
     "shell.execute_reply": "2022-03-06T04:09:12.065051Z"
    },
    "papermill": {
     "duration": 0.44801,
     "end_time": "2022-03-06T04:09:12.065051",
     "exception": false,
     "start_time": "2022-03-06T04:09:11.617041",
     "status": "completed"
    },
    "tags": []
   },
   "outputs": [],
   "source": [
    "multipass = np.abs(odepars.get_parameter_evolution(t_array, \"Ωl\").real)"
   ]
  },
  {
   "cell_type": "code",
   "execution_count": 16,
   "id": "51d3bd7a-ad1b-46a3-a5e0-e10ee58fd9c6",
   "metadata": {
    "execution": {
     "iopub.execute_input": "2022-03-06T04:09:12.138054Z",
     "iopub.status.busy": "2022-03-06T04:09:12.137051Z",
     "iopub.status.idle": "2022-03-06T04:09:12.462051Z",
     "shell.execute_reply": "2022-03-06T04:09:12.461053Z"
    },
    "papermill": {
     "duration": 0.370001,
     "end_time": "2022-03-06T04:09:12.462051",
     "exception": false,
     "start_time": "2022-03-06T04:09:12.092050",
     "status": "completed"
    },
    "tags": []
   },
   "outputs": [
    {
     "data": {
      "image/png": "[encoded data removed]",
      "text/plain": [
       "<Figure size 720x432 with 1 Axes>"
      ]
     },
     "metadata": {
      "needs_background": "light"
     },
     "output_type": "display_data"
    }
   ],
   "source": [
    "fig, ax = plt.subplots(figsize = (10,6)) \n",
    "ax.plot(t_array*1e6, results.T, lw = 2);\n",
    "ax.plot(t_array*1e6, multipass/multipass.max()*0.8, 'k--', lw = 2,\n",
    "        label = 'multipass')\n",
    "ax.set_xlabel('time [μs]')\n",
    "ax.set_ylabel('population')\n",
    "ax.legend(fontsize = 14)\n",
    "ax.grid(True)"
   ]
  },
  {
   "cell_type": "code",
   "execution_count": 17,
   "id": "89232317-cb62-428d-b2a6-5b27d31cb99c",
   "metadata": {
    "execution": {
     "iopub.execute_input": "2022-03-06T04:09:12.525050Z",
     "iopub.status.busy": "2022-03-06T04:09:12.524051Z",
     "iopub.status.idle": "2022-03-06T04:09:12.619052Z",
     "shell.execute_reply": "2022-03-06T04:09:12.619052Z"
    },
    "papermill": {
     "duration": 0.127,
     "end_time": "2022-03-06T04:09:12.619052",
     "exception": false,
     "start_time": "2022-03-06T04:09:12.492052",
     "status": "completed"
    },
    "tags": []
   },
   "outputs": [
    {
     "name": "stdout",
     "output_type": "stream",
     "text": [
      "|X, J = 1, F₁ = 3/2, F = 1, mF = -1, I₁ = 1/2, I₂ = 1/2, P = -, Ω = 0>\n",
      "|X, J = 1, F₁ = 3/2, F = 1, mF = 0, I₁ = 1/2, I₂ = 1/2, P = -, Ω = 0>\n",
      "|X, J = 1, F₁ = 3/2, F = 1, mF = 1, I₁ = 1/2, I₂ = 1/2, P = -, Ω = 0>\n",
      "|X, J = 1, F₁ = 3/2, F = 2, mF = -2, I₁ = 1/2, I₂ = 1/2, P = -, Ω = 0>\n",
      "|X, J = 1, F₁ = 3/2, F = 2, mF = -1, I₁ = 1/2, I₂ = 1/2, P = -, Ω = 0>\n",
      "|X, J = 1, F₁ = 3/2, F = 2, mF = 1, I₁ = 1/2, I₂ = 1/2, P = -, Ω = 0>\n",
      "|X, J = 1, F₁ = 3/2, F = 2, mF = 2, I₁ = 1/2, I₂ = 1/2, P = -, Ω = 0>\n"
     ]
    }
   ],
   "source": [
    "for states in np.array(obe_system.QN)[results[:,-1] > 0.05]:\n",
    "    print(states.find_largest_component())"
   ]
  },
  {
   "cell_type": "code",
   "execution_count": 18,
   "id": "40e8f6c3-2370-4163-aaab-2b0be25a8e6d",
   "metadata": {
    "execution": {
     "iopub.execute_input": "2022-03-06T04:09:12.690053Z",
     "iopub.status.busy": "2022-03-06T04:09:12.689053Z",
     "iopub.status.idle": "2022-03-06T04:09:12.777052Z",
     "shell.execute_reply": "2022-03-06T04:09:12.778051Z"
    },
    "papermill": {
     "duration": 0.123001,
     "end_time": "2022-03-06T04:09:12.778051",
     "exception": false,
     "start_time": "2022-03-06T04:09:12.655050",
     "status": "completed"
    },
    "tags": []
   },
   "outputs": [
    {
     "data": {
      "text/plain": [
       "15.801844567103549"
      ]
     },
     "execution_count": 18,
     "metadata": {},
     "output_type": "execute_result"
    }
   ],
   "source": [
    "np.trapz(results[exc.get_indices(obe_system.QN),:].sum(axis = 0), t_array)*syspars.Γ"
   ]
  },
  {
   "cell_type": "markdown",
   "id": "38d78351-bc19-4793-94db-8e2436d6cb14",
   "metadata": {
    "papermill": {
     "duration": 0.031008,
     "end_time": "2022-03-06T04:09:12.839062",
     "exception": false,
     "start_time": "2022-03-06T04:09:12.808054",
     "status": "completed"
    },
    "tags": []
   },
   "source": [
    "## Detuning Scan"
   ]
  },
  {
   "cell_type": "code",
   "execution_count": 19,
   "id": "db3160c7-b51e-4cd3-8f8c-5dfeaffa8d31",
   "metadata": {
    "execution": {
     "iopub.execute_input": "2022-03-06T04:09:12.910065Z",
     "iopub.status.busy": "2022-03-06T04:09:12.910065Z",
     "iopub.status.idle": "2022-03-06T04:09:45.835344Z",
     "shell.execute_reply": "2022-03-06T04:09:45.835344Z"
    },
    "papermill": {
     "duration": 32.961283,
     "end_time": "2022-03-06T04:09:45.835344",
     "exception": false,
     "start_time": "2022-03-06T04:09:12.874061",
     "status": "completed"
    },
    "tags": []
   },
   "outputs": [
    {
     "name": "stdout",
     "output_type": "stream",
     "text": [
      "Wall time: 32.8 s\n"
     ]
    }
   ],
   "source": [
    "%%time\n",
    "\n",
    "odepars.Ωl0 = Ωl0\n",
    "odepars.ωphase = ωphase\n",
    "odepars.ωp = ωp\n",
    "\n",
    "tspan = (0,1000e-6)\n",
    "ρ = centrex.utils.generate_population_states(\n",
    "        centrex.states.QuantumSelector(J=1, F=[1,2], electronic = 'X').get_indices(obe_system.QN), \n",
    "        len(obe_system.QN)\n",
    "    )\n",
    "\n",
    "δl_scan = np.linspace(-5,5,101)*syspars.Γ\n",
    "\n",
    "parameters = [\"δl\"]\n",
    "values = [δl_scan]\n",
    "\n",
    "output_func = centrex.lindblad.setup_state_integral_calculation(\n",
    "                states = exc.get_indices(obe_system.QN, mode = \"julia\"),\n",
    "                nphotons = True\n",
    "            )\n",
    "\n",
    "cb = centrex.lindblad.setup_discrete_callback_terminate(odepars, \"vz*t >= 50e-3\")\n",
    "\n",
    "ens_prob = centrex.lindblad.setup_problem_parameter_scan(\n",
    "                        odepars, tspan, ρ, parameters, values, \n",
    "                        dimensions = 1,\n",
    "                        output_func = output_func,\n",
    "                        zipped = True\n",
    "            )\n",
    "\n",
    "centrex.lindblad.solve_problem_parameter_scan(ensemble_problem_name = ens_prob, saveat = 1e-7,\n",
    "                                             callback = cb)"
   ]
  },
  {
   "cell_type": "code",
   "execution_count": 20,
   "id": "817d03c6-c2e3-4f75-8bdd-fad4b3c694f1",
   "metadata": {
    "execution": {
     "iopub.execute_input": "2022-03-06T04:09:45.912344Z",
     "iopub.status.busy": "2022-03-06T04:09:45.911343Z",
     "iopub.status.idle": "2022-03-06T04:09:46.081343Z",
     "shell.execute_reply": "2022-03-06T04:09:46.082342Z"
    },
    "papermill": {
     "duration": 0.211002,
     "end_time": "2022-03-06T04:09:46.082342",
     "exception": false,
     "start_time": "2022-03-06T04:09:45.871340",
     "status": "completed"
    },
    "tags": []
   },
   "outputs": [
    {
     "data": {
      "image/png": "[encoded data removed]",
      "text/plain": [
       "<Figure size 576x360 with 1 Axes>"
      ]
     },
     "metadata": {
      "needs_background": "light"
     },
     "output_type": "display_data"
    }
   ],
   "source": [
    "results = centrex.lindblad.get_results_parameter_scan()\n",
    "\n",
    "fig, ax = plt.subplots(figsize = (8,5))\n",
    "ax.plot(δl_scan/syspars.Γ, results, '-')\n",
    "ax.grid(True)"
   ]
  },
  {
   "cell_type": "markdown",
   "id": "b6dcbe1d-3795-47c2-8019-a008c982afd3",
   "metadata": {
    "papermill": {
     "duration": 0.038,
     "end_time": "2022-03-06T04:09:46.162348",
     "exception": false,
     "start_time": "2022-03-06T04:09:46.124348",
     "status": "completed"
    },
    "tags": []
   },
   "source": [
    "## Trajectory Scan"
   ]
  },
  {
   "cell_type": "code",
   "execution_count": 21,
   "id": "a124f5a7-7a18-41ed-bac2-8c21ef7f46fd",
   "metadata": {
    "execution": {
     "iopub.execute_input": "2022-03-06T04:09:46.238349Z",
     "iopub.status.busy": "2022-03-06T04:09:46.237350Z",
     "iopub.status.idle": "2022-03-06T04:09:48.419351Z",
     "shell.execute_reply": "2022-03-06T04:09:48.420351Z"
    },
    "papermill": {
     "duration": 2.222004,
     "end_time": "2022-03-06T04:09:48.420351",
     "exception": false,
     "start_time": "2022-03-06T04:09:46.198347",
     "status": "completed"
    },
    "tags": []
   },
   "outputs": [],
   "source": [
    "ntrajectories = 500\n",
    "\n",
    "n = int(1e7)\n",
    "vz = centrex.utils.generate_random_longitudinal_velocities(n, vcm, vcm_sigma)\n",
    "vx, vy = centrex.utils.generate_random_transverse_velocities(n, vperp_sigma)\n",
    "x0, y0 = centrex.utils.generate_random_coords_circle_2D(n, 0.0025)\n",
    "apertures = [(47e-3, 6.35e-3), (73e-3, 12.7e-3), (290e-3, 2.54e-3)]\n",
    "mask = np.ones(n, dtype = bool)\n",
    "for (location, diameter) in apertures:\n",
    "    t = location / vz\n",
    "    r = np.sqrt((x0+vx*t)**2 + (y0+vy*t)**2)\n",
    "    m = r < diameter/2\n",
    "    mask &= m\n",
    "    \n",
    "start_loc = 358e-3 - 0.03556/2 - 10e-3\n",
    "t = start_loc / vz\n",
    "x0, y0 = x0 + vx*t, y0 + vy*t\n",
    "\n",
    "x0 = x0[mask][:ntrajectories]\n",
    "y0 = y0[mask][:ntrajectories]\n",
    "vx = vx[mask][:ntrajectories]\n",
    "vy = vy[mask][:ntrajectories]\n",
    "vz = vz[mask][:ntrajectories]\n",
    "\n",
    "assert mask.sum() >= ntrajectories, \"not enough trajectories make it through apertures\"\n",
    "del t, mask\n",
    "\n",
    "δls = centrex.utils.detuning.velocity_to_detuning(vx, 1106e12, syspars.Γ)*syspars.Γ"
   ]
  },
  {
   "cell_type": "code",
   "execution_count": 22,
   "id": "ed2e89ae-b7e3-4645-af48-70a3fe13327a",
   "metadata": {
    "execution": {
     "iopub.execute_input": "2022-03-06T04:09:48.489351Z",
     "iopub.status.busy": "2022-03-06T04:09:48.489351Z",
     "iopub.status.idle": "2022-03-06T04:10:59.714701Z",
     "shell.execute_reply": "2022-03-06T04:10:59.713703Z"
    },
    "papermill": {
     "duration": 71.26235,
     "end_time": "2022-03-06T04:10:59.714701",
     "exception": false,
     "start_time": "2022-03-06T04:09:48.452351",
     "status": "completed"
    },
    "tags": []
   },
   "outputs": [],
   "source": [
    "odepars.Ωl0 = Ωl0\n",
    "odepars.ωphase = ωphase\n",
    "odepars.ωp = ωp\n",
    "\n",
    "tspan = (0,1000e-6)\n",
    "ρ = centrex.utils.generate_population_states(\n",
    "        centrex.states.QuantumSelector(J=1, F=[1,2], electronic = 'X').get_indices(obe_system.QN), \n",
    "        len(obe_system.QN)\n",
    "    )\n",
    "\n",
    "parameters = [\"vz\", \"δl\", \"y0\"]\n",
    "values = [vz, δls, y0]\n",
    "\n",
    "output_func = centrex.lindblad.setup_state_integral_calculation(\n",
    "                states = exc.get_indices(obe_system.QN, mode = \"julia\"),\n",
    "                nphotons = True\n",
    "            )\n",
    "\n",
    "cb = centrex.lindblad.setup_discrete_callback_terminate(odepars, \"vz*t >= 50e-3\")\n",
    "\n",
    "ens_prob = centrex.lindblad.setup_problem_parameter_scan(\n",
    "                        odepars, tspan, ρ, parameters, values, \n",
    "                        dimensions = 1,\n",
    "                        output_func = output_func,\n",
    "                        zipped = True\n",
    "            )\n",
    "\n",
    "centrex.lindblad.solve_problem_parameter_scan(ensemble_problem_name = ens_prob, saveat = 1e-7,\n",
    "                                             callback = cb)"
   ]
  },
  {
   "cell_type": "code",
   "execution_count": 23,
   "id": "29942c9f-5a7c-4c12-b72f-29ad3cb82fdc",
   "metadata": {
    "execution": {
     "iopub.execute_input": "2022-03-06T04:10:59.779702Z",
     "iopub.status.busy": "2022-03-06T04:10:59.779702Z",
     "iopub.status.idle": "2022-03-06T04:10:59.841702Z",
     "shell.execute_reply": "2022-03-06T04:10:59.842703Z"
    },
    "papermill": {
     "duration": 0.097001,
     "end_time": "2022-03-06T04:10:59.842703",
     "exception": false,
     "start_time": "2022-03-06T04:10:59.745702",
     "status": "completed"
    },
    "tags": []
   },
   "outputs": [],
   "source": [
    "results = centrex.lindblad.get_results_parameter_scan()"
   ]
  },
  {
   "cell_type": "code",
   "execution_count": 24,
   "id": "75347af4-d3a1-460a-badb-152170f68dbe",
   "metadata": {
    "execution": {
     "iopub.execute_input": "2022-03-06T04:10:59.907703Z",
     "iopub.status.busy": "2022-03-06T04:10:59.907703Z",
     "iopub.status.idle": "2022-03-06T04:10:59.967702Z",
     "shell.execute_reply": "2022-03-06T04:10:59.968702Z"
    },
    "papermill": {
     "duration": 0.094,
     "end_time": "2022-03-06T04:10:59.968702",
     "exception": false,
     "start_time": "2022-03-06T04:10:59.874702",
     "status": "completed"
    },
    "tags": []
   },
   "outputs": [
    {
     "data": {
      "text/plain": [
       "14.505710468489113"
      ]
     },
     "execution_count": 24,
     "metadata": {},
     "output_type": "execute_result"
    }
   ],
   "source": [
    "np.average(results)"
   ]
  },
  {
   "cell_type": "markdown",
   "id": "5ee62fd7-919a-40df-8c52-140906fb0a39",
   "metadata": {
    "papermill": {
     "duration": 0.034999,
     "end_time": "2022-03-06T04:11:00.035700",
     "exception": false,
     "start_time": "2022-03-06T04:11:00.000701",
     "status": "completed"
    },
    "tags": []
   },
   "source": [
    "## Detuning scan over trajectories for approximate power used in measurement"
   ]
  },
  {
   "cell_type": "code",
   "execution_count": 25,
   "id": "38eaf1fb-7795-477e-a0ae-c43652420275",
   "metadata": {
    "execution": {
     "iopub.execute_input": "2022-03-06T04:11:00.106703Z",
     "iopub.status.busy": "2022-03-06T04:11:00.105700Z",
     "iopub.status.idle": "2022-03-06T04:11:02.335349Z",
     "shell.execute_reply": "2022-03-06T04:11:02.335349Z"
    },
    "papermill": {
     "duration": 2.266646,
     "end_time": "2022-03-06T04:11:02.335349",
     "exception": false,
     "start_time": "2022-03-06T04:11:00.068703",
     "status": "completed"
    },
    "tags": []
   },
   "outputs": [],
   "source": [
    "ntrajectories = 100\n",
    "\n",
    "n = int(1e7)\n",
    "vz = centrex.utils.generate_random_longitudinal_velocities(n, vcm, vcm_sigma)\n",
    "vx, vy = centrex.utils.generate_random_transverse_velocities(n, vperp_sigma)\n",
    "x0, y0 = centrex.utils.generate_random_coords_circle_2D(n, 0.0025)\n",
    "apertures = [(47e-3, 6.35e-3), (73e-3, 12.7e-3), (290e-3, 2.54e-3)]\n",
    "mask = np.ones(n, dtype = bool)\n",
    "for (location, diameter) in apertures:\n",
    "    t = location / vz\n",
    "    r = np.sqrt((x0+vx*t)**2 + (y0+vy*t)**2)\n",
    "    m = r < diameter/2\n",
    "    mask &= m\n",
    "    \n",
    "start_loc = 358e-3 - 0.03556/2 - 10e-3\n",
    "t = start_loc / vz\n",
    "x0, y0 = x0 + vx*t, y0 + vy*t\n",
    "\n",
    "x0 = x0[mask][:ntrajectories]\n",
    "y0 = y0[mask][:ntrajectories]\n",
    "vx = vx[mask][:ntrajectories]\n",
    "vy = vy[mask][:ntrajectories]\n",
    "vz = vz[mask][:ntrajectories]\n",
    "\n",
    "assert mask.sum() >= ntrajectories, \"not enough trajectories make it through apertures\"\n",
    "del t, mask\n",
    "\n",
    "δls = centrex.utils.detuning.velocity_to_detuning(vx, 1106e12, syspars.Γ)*syspars.Γ"
   ]
  },
  {
   "cell_type": "code",
   "execution_count": 26,
   "id": "aa77c713-c05f-42bd-838a-e488ab436af8",
   "metadata": {
    "execution": {
     "iopub.execute_input": "2022-03-06T04:11:02.405350Z",
     "iopub.status.busy": "2022-03-06T04:11:02.404349Z",
     "iopub.status.idle": "2022-03-06T04:31:20.994163Z",
     "shell.execute_reply": "2022-03-06T04:31:20.993163Z"
    },
    "papermill": {
     "duration": 1218.625813,
     "end_time": "2022-03-06T04:31:20.994163",
     "exception": false,
     "start_time": "2022-03-06T04:11:02.368350",
     "status": "completed"
    },
    "tags": []
   },
   "outputs": [
    {
     "name": "stderr",
     "output_type": "stream",
     "text": [
      "\r",
      "  0%|                                                                                                             | 0/31 [00:00<?, ?it/s]"
     ]
    },
    {
     "name": "stderr",
     "output_type": "stream",
     "text": [
      "\r",
      "  3%|███▎                                                                                                 | 1/31 [01:06<33:25, 66.84s/it]"
     ]
    },
    {
     "name": "stderr",
     "output_type": "stream",
     "text": [
      "\r",
      "  6%|██████▌                                                                                              | 2/31 [02:08<30:58, 64.08s/it]"
     ]
    },
    {
     "name": "stderr",
     "output_type": "stream",
     "text": [
      "\r",
      " 10%|█████████▊                                                                                           | 3/31 [03:07<28:42, 61.53s/it]"
     ]
    },
    {
     "name": "stderr",
     "output_type": "stream",
     "text": [
      "\r",
      " 13%|█████████████                                                                                        | 4/31 [04:02<26:27, 58.78s/it]"
     ]
    },
    {
     "name": "stderr",
     "output_type": "stream",
     "text": [
      "\r",
      " 16%|████████████████▎                                                                                    | 5/31 [04:52<24:13, 55.89s/it]"
     ]
    },
    {
     "name": "stderr",
     "output_type": "stream",
     "text": [
      "\r",
      " 19%|███████████████████▌                                                                                 | 6/31 [05:40<22:06, 53.05s/it]"
     ]
    },
    {
     "name": "stderr",
     "output_type": "stream",
     "text": [
      "\r",
      " 23%|██████████████████████▊                                                                              | 7/31 [06:24<20:03, 50.15s/it]"
     ]
    },
    {
     "name": "stderr",
     "output_type": "stream",
     "text": [
      "\r",
      " 26%|██████████████████████████                                                                           | 8/31 [07:04<17:58, 46.90s/it]"
     ]
    },
    {
     "name": "stderr",
     "output_type": "stream",
     "text": [
      "\r",
      " 29%|█████████████████████████████▎                                                                       | 9/31 [07:40<15:56, 43.49s/it]"
     ]
    },
    {
     "name": "stderr",
     "output_type": "stream",
     "text": [
      "\r",
      " 32%|████████████████████████████████▎                                                                   | 10/31 [08:13<14:07, 40.35s/it]"
     ]
    },
    {
     "name": "stderr",
     "output_type": "stream",
     "text": [
      "\r",
      " 35%|███████████████████████████████████▍                                                                | 11/31 [08:42<12:16, 36.81s/it]"
     ]
    },
    {
     "name": "stderr",
     "output_type": "stream",
     "text": [
      "\r",
      " 39%|██████████████████████████████████████▋                                                             | 12/31 [09:07<10:31, 33.22s/it]"
     ]
    },
    {
     "name": "stderr",
     "output_type": "stream",
     "text": [
      "\r",
      " 42%|█████████████████████████████████████████▉                                                          | 13/31 [09:28<08:51, 29.52s/it]"
     ]
    },
    {
     "name": "stderr",
     "output_type": "stream",
     "text": [
      "\r",
      " 45%|█████████████████████████████████████████████▏                                                      | 14/31 [09:45<07:19, 25.84s/it]"
     ]
    },
    {
     "name": "stderr",
     "output_type": "stream",
     "text": [
      "\r",
      " 48%|████████████████████████████████████████████████▍                                                   | 15/31 [10:00<06:00, 22.51s/it]"
     ]
    },
    {
     "name": "stderr",
     "output_type": "stream",
     "text": [
      "\r",
      " 52%|███████████████████████████████████████████████████▌                                                | 16/31 [10:14<04:59, 19.97s/it]"
     ]
    },
    {
     "name": "stderr",
     "output_type": "stream",
     "text": [
      "\r",
      " 55%|██████████████████████████████████████████████████████▊                                             | 17/31 [10:29<04:18, 18.47s/it]"
     ]
    },
    {
     "name": "stderr",
     "output_type": "stream",
     "text": [
      "\r",
      " 58%|██████████████████████████████████████████████████████████                                          | 18/31 [10:47<03:58, 18.31s/it]"
     ]
    },
    {
     "name": "stderr",
     "output_type": "stream",
     "text": [
      "\r",
      " 61%|█████████████████████████████████████████████████████████████▎                                      | 19/31 [11:09<03:51, 19.25s/it]"
     ]
    },
    {
     "name": "stderr",
     "output_type": "stream",
     "text": [
      "\r",
      " 65%|████████████████████████████████████████████████████████████████▌                                   | 20/31 [11:34<03:52, 21.16s/it]"
     ]
    },
    {
     "name": "stderr",
     "output_type": "stream",
     "text": [
      "\r",
      " 68%|███████████████████████████████████████████████████████████████████▋                                | 21/31 [12:04<03:56, 23.69s/it]"
     ]
    },
    {
     "name": "stderr",
     "output_type": "stream",
     "text": [
      "\r",
      " 71%|██████████████████████████████████████████████████████████████████████▉                             | 22/31 [12:37<03:58, 26.46s/it]"
     ]
    },
    {
     "name": "stderr",
     "output_type": "stream",
     "text": [
      "\r",
      " 74%|██████████████████████████████████████████████████████████████████████████▏                         | 23/31 [13:13<03:55, 29.49s/it]"
     ]
    },
    {
     "name": "stderr",
     "output_type": "stream",
     "text": [
      "\r",
      " 77%|█████████████████████████████████████████████████████████████████████████████▍                      | 24/31 [13:55<03:51, 33.03s/it]"
     ]
    },
    {
     "name": "stderr",
     "output_type": "stream",
     "text": [
      "\r",
      " 81%|████████████████████████████████████████████████████████████████████████████████▋                   | 25/31 [14:39<03:38, 36.41s/it]"
     ]
    },
    {
     "name": "stderr",
     "output_type": "stream",
     "text": [
      "\r",
      " 84%|███████████████████████████████████████████████████████████████████████████████████▊                | 26/31 [15:26<03:17, 39.57s/it]"
     ]
    },
    {
     "name": "stderr",
     "output_type": "stream",
     "text": [
      "\r",
      " 87%|███████████████████████████████████████████████████████████████████████████████████████             | 27/31 [16:17<02:52, 43.10s/it]"
     ]
    },
    {
     "name": "stderr",
     "output_type": "stream",
     "text": [
      "\r",
      " 90%|██████████████████████████████████████████████████████████████████████████████████████████▎         | 28/31 [17:12<02:19, 46.65s/it]"
     ]
    },
    {
     "name": "stderr",
     "output_type": "stream",
     "text": [
      "\r",
      " 94%|█████████████████████████████████████████████████████████████████████████████████████████████▌      | 29/31 [18:10<01:40, 50.03s/it]"
     ]
    },
    {
     "name": "stderr",
     "output_type": "stream",
     "text": [
      "\r",
      " 97%|████████████████████████████████████████████████████████████████████████████████████████████████▊   | 30/31 [19:12<00:53, 53.57s/it]"
     ]
    },
    {
     "name": "stderr",
     "output_type": "stream",
     "text": [
      "\r",
      "100%|████████████████████████████████████████████████████████████████████████████████████████████████████| 31/31 [20:18<00:00, 57.32s/it]"
     ]
    },
    {
     "name": "stderr",
     "output_type": "stream",
     "text": [
      "\r",
      "100%|████████████████████████████████████████████████████████████████████████████████████████████████████| 31/31 [20:18<00:00, 39.30s/it]"
     ]
    },
    {
     "name": "stderr",
     "output_type": "stream",
     "text": [
      "\n"
     ]
    }
   ],
   "source": [
    "import copy\n",
    "\n",
    "odepars.Ωl0 = Ωl0\n",
    "odepars.ωphase = ωphase\n",
    "odepars.ωp = ωp\n",
    "\n",
    "tspan = (0,1000e-6)\n",
    "ρ = centrex.utils.generate_population_states(\n",
    "        population_states.get_indices(obe_system.QN), \n",
    "        len(obe_system.QN)\n",
    "    )\n",
    "\n",
    "parameters = [\"vz\", \"δl\", \"y0\"]\n",
    "values = [vz, δls, y0]\n",
    "\n",
    "output_func = centrex.lindblad.setup_state_integral_calculation(\n",
    "                states = exc.get_indices(obe_system.QN, mode = \"julia\"),\n",
    "                nphotons = True\n",
    "            )\n",
    "\n",
    "δl_scan = np.arange(*scan_range)*syspars.Γ\n",
    "\n",
    "results = []\n",
    "for δli in tqdm(δl_scan):\n",
    "    vals = copy.copy(values)\n",
    "    vals[1] = vals[1] + δli\n",
    "    cb = centrex.lindblad.setup_discrete_callback_terminate(odepars, \"vz*t >= 50e-3\")\n",
    "\n",
    "    ens_prob = centrex.lindblad.setup_problem_parameter_scan(\n",
    "                            odepars, tspan, ρ, parameters, vals, \n",
    "                            dimensions = 1,\n",
    "                            output_func = output_func,\n",
    "                            zipped = True\n",
    "                )\n",
    "\n",
    "    centrex.lindblad.solve_problem_parameter_scan(ensemble_problem_name = ens_prob, saveat = 1e-7,\n",
    "                                                 callback = cb)\n",
    "    res = centrex.lindblad.get_results_parameter_scan()\n",
    "    results.append(np.average(res))\n",
    "results = np.asarray(results)    \n",
    "odepars.Ωl0 = Ωl0"
   ]
  },
  {
   "cell_type": "code",
   "execution_count": 27,
   "id": "65a46fd6-e56a-4566-9b6c-e22ce7cc03bc",
   "metadata": {
    "execution": {
     "iopub.execute_input": "2022-03-06T04:31:21.103163Z",
     "iopub.status.busy": "2022-03-06T04:31:21.103163Z",
     "iopub.status.idle": "2022-03-06T04:31:21.271029Z",
     "shell.execute_reply": "2022-03-06T04:31:21.272028Z"
    },
    "papermill": {
     "duration": 0.222866,
     "end_time": "2022-03-06T04:31:21.272028",
     "exception": false,
     "start_time": "2022-03-06T04:31:21.049162",
     "status": "completed"
    },
    "tags": []
   },
   "outputs": [
    {
     "name": "stdout",
     "output_type": "stream",
     "text": [
      "maximum signal : 14.48\n"
     ]
    },
    {
     "data": {
      "image/png": "[encoded data removed]",
      "text/plain": [
       "<Figure size 576x360 with 1 Axes>"
      ]
     },
     "metadata": {
      "needs_background": "light"
     },
     "output_type": "display_data"
    }
   ],
   "source": [
    "fig, ax = plt.subplots(figsize = (8,5))\n",
    "ax.plot(δl_scan / (2*np.pi*1e6), results, '-', lw = 2)\n",
    "ax.plot(δl_scan / (2*np.pi*1e6), results, '.', ms = 13, color = 'C3')\n",
    "\n",
    "ax.set_xlabel(\"δ [MHz]\", fontsize = 14)\n",
    "ax.set_ylabel(\"# photons\", fontsize = 14)\n",
    "ax.grid(True)\n",
    "\n",
    "print(f\"maximum signal : {np.max(results):.2f}\")"
   ]
  },
  {
   "cell_type": "markdown",
   "id": "72eafcf4-c61e-4385-b7ea-b25b66dfdf03",
   "metadata": {
    "papermill": {
     "duration": 0.039997,
     "end_time": "2022-03-06T04:31:21.355027",
     "exception": false,
     "start_time": "2022-03-06T04:31:21.315030",
     "status": "completed"
    },
    "tags": []
   },
   "source": [
    "### Save Trajectory Detuning Scan Data"
   ]
  },
  {
   "cell_type": "code",
   "execution_count": 28,
   "id": "e839a1b3-8e15-4162-991a-37f98acfccc9",
   "metadata": {
    "execution": {
     "iopub.execute_input": "2022-03-06T04:31:21.444029Z",
     "iopub.status.busy": "2022-03-06T04:31:21.442029Z",
     "iopub.status.idle": "2022-03-06T04:31:21.524028Z",
     "shell.execute_reply": "2022-03-06T04:31:21.524028Z"
    },
    "papermill": {
     "duration": 0.129001,
     "end_time": "2022-03-06T04:31:21.524028",
     "exception": false,
     "start_time": "2022-03-06T04:31:21.395027",
     "status": "completed"
    },
    "tags": []
   },
   "outputs": [],
   "source": [
    "import pickle\n",
    "\n",
    "with open(f\"{transition_name}.pkl\", \"wb\") as f:\n",
    "    pickle.dump(\n",
    "        dict(\n",
    "            δl_scan = δl_scan,\n",
    "            signal = results\n",
    "        ),\n",
    "        f\n",
    "    )"
   ]
  },
  {
   "cell_type": "markdown",
   "id": "0524b68f-0953-47ef-9ebb-9e4608052bb7",
   "metadata": {
    "papermill": {
     "duration": 0.041998,
     "end_time": "2022-03-06T04:31:21.614027",
     "exception": false,
     "start_time": "2022-03-06T04:31:21.572029",
     "status": "completed"
    },
    "tags": []
   },
   "source": [
    "### Fit to resonance\n",
    "#### Define Gaussian and Lorentzian functions"
   ]
  },
  {
   "cell_type": "code",
   "execution_count": 29,
   "id": "18b6bc2b-6557-47f1-8b51-bb9452ca3bad",
   "metadata": {
    "execution": {
     "iopub.execute_input": "2022-03-06T04:31:21.703029Z",
     "iopub.status.busy": "2022-03-06T04:31:21.703029Z",
     "iopub.status.idle": "2022-03-06T04:31:21.905029Z",
     "shell.execute_reply": "2022-03-06T04:31:21.905029Z"
    },
    "papermill": {
     "duration": 0.250001,
     "end_time": "2022-03-06T04:31:21.905029",
     "exception": false,
     "start_time": "2022-03-06T04:31:21.655028",
     "status": "completed"
    },
    "tags": []
   },
   "outputs": [],
   "source": [
    "from scipy.optimize import curve_fit\n",
    "from scipy.special import voigt_profile\n",
    "\n",
    "def gaussian(x, a, μ, σ):\n",
    "    return a*np.exp(-(x-μ)**2 / (2*σ**2))\n",
    "\n",
    "def lorentzian( x, x0, a, gam ):\n",
    "    return a * gam**2 / ( gam**2 + ( x - x0 )**2)\n",
    "\n",
    "def voigt(x, a, μ, σ):\n",
    "    return a * voigt_profile(x - μ, σ, σ)"
   ]
  },
  {
   "cell_type": "code",
   "execution_count": 30,
   "id": "3b541b6c-a9ab-4b83-a094-56adaa32b6d1",
   "metadata": {
    "execution": {
     "iopub.execute_input": "2022-03-06T04:31:22.015535Z",
     "iopub.status.busy": "2022-03-06T04:31:22.015030Z",
     "iopub.status.idle": "2022-03-06T04:31:22.715721Z",
     "shell.execute_reply": "2022-03-06T04:31:22.714722Z"
    },
    "papermill": {
     "duration": 0.749689,
     "end_time": "2022-03-06T04:31:22.715721",
     "exception": false,
     "start_time": "2022-03-06T04:31:21.966032",
     "status": "completed"
    },
    "tags": []
   },
   "outputs": [],
   "source": [
    "import lmfit\n",
    "from lmfit.models import LorentzianModel, GaussianModel, VoigtModel"
   ]
  },
  {
   "cell_type": "markdown",
   "id": "091f6f6a-3410-40eb-b7d6-ee229eff10a8",
   "metadata": {
    "papermill": {
     "duration": 0.042002,
     "end_time": "2022-03-06T04:31:22.798723",
     "exception": false,
     "start_time": "2022-03-06T04:31:22.756721",
     "status": "completed"
    },
    "tags": []
   },
   "source": [
    "#### Fit Lorentzian to scan"
   ]
  },
  {
   "cell_type": "code",
   "execution_count": 31,
   "id": "c3dd75a8-ff6e-4dd2-881d-5e142ef5b4ad",
   "metadata": {
    "execution": {
     "iopub.execute_input": "2022-03-06T04:31:22.886720Z",
     "iopub.status.busy": "2022-03-06T04:31:22.886720Z",
     "iopub.status.idle": "2022-03-06T04:31:22.997722Z",
     "shell.execute_reply": "2022-03-06T04:31:22.998721Z"
    },
    "papermill": {
     "duration": 0.155,
     "end_time": "2022-03-06T04:31:22.998721",
     "exception": false,
     "start_time": "2022-03-06T04:31:22.843721",
     "status": "completed"
    },
    "tags": []
   },
   "outputs": [
    {
     "name": "stdout",
     "output_type": "stream",
     "text": [
      "[[Model]]\n",
      "    Model(lorentzian)\n",
      "[[Fit Statistics]]\n",
      "    # fitting method   = leastsq\n",
      "    # function evals   = 21\n",
      "    # data points      = 31\n",
      "    # variables        = 3\n",
      "    chi-square         = 1.05880529\n",
      "    reduced chi-square = 0.03781447\n",
      "    Akaike info crit   = -98.6822266\n",
      "    Bayesian info crit = -94.3802650\n",
      "[[Variables]]\n",
      "    amplitude:  2.5696e+09 +/- 22850753.7 (0.89%) (init = 2.583219e+09)\n",
      "    center:     3703313.09 +/- 484658.492 (13.09%) (init = 9801769)\n",
      "    sigma:      55005372.8 +/- 692476.338 (1.26%) (init = 4.900885e+07)\n",
      "    fwhm:       1.1001e+08 +/- 1384952.68 (1.26%) == '2.0000000*sigma'\n",
      "    height:     14.8697245 +/- 0.13129113 (0.88%) == '0.3183099*amplitude/max(1e-15, sigma)'\n",
      "[[Correlations]] (unreported correlations are < 0.100)\n",
      "    C(amplitude, sigma) = 0.713\n"
     ]
    }
   ],
   "source": [
    "model = LorentzianModel()\n",
    "params = model.guess(\n",
    "                    results, \n",
    "                    x = δl_scan\n",
    ")\n",
    "fit = model.fit(results, params, x = δl_scan)\n",
    "print(fit.fit_report())"
   ]
  },
  {
   "cell_type": "code",
   "execution_count": 32,
   "id": "aea2ff27-ba35-4041-97bc-66afb538dcaa",
   "metadata": {
    "execution": {
     "iopub.execute_input": "2022-03-06T04:31:23.089720Z",
     "iopub.status.busy": "2022-03-06T04:31:23.089720Z",
     "iopub.status.idle": "2022-03-06T04:31:23.297724Z",
     "shell.execute_reply": "2022-03-06T04:31:23.298723Z"
    },
    "papermill": {
     "duration": 0.255002,
     "end_time": "2022-03-06T04:31:23.298723",
     "exception": false,
     "start_time": "2022-03-06T04:31:23.043721",
     "status": "completed"
    },
    "tags": []
   },
   "outputs": [
    {
     "data": {
      "image/png": "[encoded data removed]",
      "text/plain": [
       "<Figure size 576x360 with 1 Axes>"
      ]
     },
     "metadata": {
      "needs_background": "light"
     },
     "output_type": "display_data"
    }
   ],
   "source": [
    "_x = np.linspace(δl_scan.min(), δl_scan.max(), 201)\n",
    "y = fit.eval(x = _x)\n",
    "\n",
    "fig, ax = plt.subplots(figsize = (8,5))\n",
    "ax.plot(δl_scan / (2*np.pi*1e6), results, '.', ms = 13, label = 'data')\n",
    "ax.plot(_x / (2*np.pi*1e6), y, label = 'fit', lw = 2)\n",
    "\n",
    "ax.set_xlabel(\"δ [MHz]\", fontsize = 14)\n",
    "ax.set_ylabel(\"# photons\", fontsize = 14)\n",
    "ax.legend(fontsize = 14)\n",
    "ax.set_title(\"Lorentzian Fit\", fontsize = 15)\n",
    "ax.grid(True)"
   ]
  },
  {
   "cell_type": "code",
   "execution_count": 33,
   "id": "7db03d55-3233-4aff-a947-1860b3cf301e",
   "metadata": {
    "execution": {
     "iopub.execute_input": "2022-03-06T04:31:23.389721Z",
     "iopub.status.busy": "2022-03-06T04:31:23.389721Z",
     "iopub.status.idle": "2022-03-06T04:31:23.710723Z",
     "shell.execute_reply": "2022-03-06T04:31:23.711722Z"
    },
    "papermill": {
     "duration": 0.371003,
     "end_time": "2022-03-06T04:31:23.711722",
     "exception": false,
     "start_time": "2022-03-06T04:31:23.340719",
     "status": "completed"
    },
    "tags": []
   },
   "outputs": [
    {
     "data": {
      "image/png": "[encoded data removed]",
      "text/plain": [
       "<Figure size 432x432 with 2 Axes>"
      ]
     },
     "metadata": {
      "needs_background": "light"
     },
     "output_type": "display_data"
    }
   ],
   "source": [
    "_ = fit.plot()"
   ]
  },
  {
   "cell_type": "markdown",
   "id": "de774ff7-7f22-4f5f-a1bf-b969780a21b8",
   "metadata": {
    "papermill": {
     "duration": 0.043001,
     "end_time": "2022-03-06T04:31:23.798722",
     "exception": false,
     "start_time": "2022-03-06T04:31:23.755721",
     "status": "completed"
    },
    "tags": []
   },
   "source": [
    "#### Fit Gaussian to scan"
   ]
  },
  {
   "cell_type": "code",
   "execution_count": 34,
   "id": "2406e400-d8a4-42a6-a169-6940ee1cdea8",
   "metadata": {
    "execution": {
     "iopub.execute_input": "2022-03-06T04:31:23.889723Z",
     "iopub.status.busy": "2022-03-06T04:31:23.889723Z",
     "iopub.status.idle": "2022-03-06T04:31:23.981723Z",
     "shell.execute_reply": "2022-03-06T04:31:23.982723Z"
    },
    "papermill": {
     "duration": 0.139,
     "end_time": "2022-03-06T04:31:23.982723",
     "exception": false,
     "start_time": "2022-03-06T04:31:23.843723",
     "status": "completed"
    },
    "tags": []
   },
   "outputs": [
    {
     "name": "stdout",
     "output_type": "stream",
     "text": [
      "[[Model]]\n",
      "    Model(gaussian)\n",
      "[[Fit Statistics]]\n",
      "    # fitting method   = leastsq\n",
      "    # function evals   = 33\n",
      "    # data points      = 31\n",
      "    # variables        = 3\n",
      "    chi-square         = 16.9674862\n",
      "    reduced chi-square = 0.60598165\n",
      "    Akaike info crit   = -12.6833363\n",
      "    Bayesian info crit = -8.38137469\n",
      "[[Variables]]\n",
      "    amplitude:  1.9777e+09 +/- 60971756.8 (3.08%) (init = 2.066575e+09)\n",
      "    center:     3381745.27 +/- 2095185.92 (61.96%) (init = 9801769)\n",
      "    sigma:      58854649.9 +/- 2095185.97 (3.56%) (init = 4.900885e+07)\n",
      "    fwhm:       1.3859e+08 +/- 4933785.83 (3.56%) == '2.3548200*sigma'\n",
      "    height:     13.4053711 +/- 0.41328868 (3.08%) == '0.3989423*amplitude/max(1e-15, sigma)'\n",
      "[[Correlations]] (unreported correlations are < 0.100)\n",
      "    C(amplitude, sigma) = 0.577\n"
     ]
    }
   ],
   "source": [
    "model = GaussianModel()\n",
    "params = model.guess(\n",
    "                    results, \n",
    "                    x = δl_scan\n",
    ")\n",
    "fit = model.fit(results, params, x = δl_scan)\n",
    "print(fit.fit_report())"
   ]
  },
  {
   "cell_type": "code",
   "execution_count": 35,
   "id": "da38a3a8-2bc3-40b8-bc8e-a25b4bbae3e8",
   "metadata": {
    "execution": {
     "iopub.execute_input": "2022-03-06T04:31:24.087720Z",
     "iopub.status.busy": "2022-03-06T04:31:24.084722Z",
     "iopub.status.idle": "2022-03-06T04:31:24.296724Z",
     "shell.execute_reply": "2022-03-06T04:31:24.295722Z"
    },
    "papermill": {
     "duration": 0.268003,
     "end_time": "2022-03-06T04:31:24.296724",
     "exception": false,
     "start_time": "2022-03-06T04:31:24.028721",
     "status": "completed"
    },
    "tags": []
   },
   "outputs": [
    {
     "data": {
      "image/png": "[encoded data removed]",
      "text/plain": [
       "<Figure size 576x360 with 1 Axes>"
      ]
     },
     "metadata": {
      "needs_background": "light"
     },
     "output_type": "display_data"
    }
   ],
   "source": [
    "_x = np.linspace(δl_scan.min(), δl_scan.max(), 201)\n",
    "y = fit.eval(x = _x)\n",
    "\n",
    "fig, ax = plt.subplots(figsize = (8,5))\n",
    "ax.plot(δl_scan / (2*np.pi*1e6), results, '.', ms = 13, label = 'data')\n",
    "ax.plot(_x / (2*np.pi*1e6), y, label = 'fit', lw = 2)\n",
    "\n",
    "ax.set_xlabel(\"δ [MHz]\", fontsize = 14)\n",
    "ax.set_ylabel(\"# photons\", fontsize = 14)\n",
    "ax.legend(fontsize = 14)\n",
    "ax.set_title(\"Gaussian Fit\", fontsize = 15)\n",
    "ax.grid(True)"
   ]
  },
  {
   "cell_type": "code",
   "execution_count": 36,
   "id": "4e0bd614-03a0-4e0c-b644-72986d4026a4",
   "metadata": {
    "execution": {
     "iopub.execute_input": "2022-03-06T04:31:24.390723Z",
     "iopub.status.busy": "2022-03-06T04:31:24.390723Z",
     "iopub.status.idle": "2022-03-06T04:31:24.675722Z",
     "shell.execute_reply": "2022-03-06T04:31:24.676724Z"
    },
    "papermill": {
     "duration": 0.333004,
     "end_time": "2022-03-06T04:31:24.676724",
     "exception": false,
     "start_time": "2022-03-06T04:31:24.343720",
     "status": "completed"
    },
    "tags": []
   },
   "outputs": [
    {
     "data": {
      "image/png": "[encoded data removed]",
      "text/plain": [
       "<Figure size 432x432 with 2 Axes>"
      ]
     },
     "metadata": {
      "needs_background": "light"
     },
     "output_type": "display_data"
    }
   ],
   "source": [
    "_ = fit.plot()"
   ]
  },
  {
   "cell_type": "markdown",
   "id": "2e23e87f-79c2-470a-aec8-f9918c7f2c91",
   "metadata": {
    "papermill": {
     "duration": 0.046,
     "end_time": "2022-03-06T04:31:24.775721",
     "exception": false,
     "start_time": "2022-03-06T04:31:24.729721",
     "status": "completed"
    },
    "tags": []
   },
   "source": [
    "#### Fit Voigt to scan"
   ]
  },
  {
   "cell_type": "code",
   "execution_count": 37,
   "id": "427de737-3ec5-4376-9fce-d4557da3a20d",
   "metadata": {
    "execution": {
     "iopub.execute_input": "2022-03-06T04:31:24.871721Z",
     "iopub.status.busy": "2022-03-06T04:31:24.870720Z",
     "iopub.status.idle": "2022-03-06T04:31:24.975722Z",
     "shell.execute_reply": "2022-03-06T04:31:24.976721Z"
    },
    "papermill": {
     "duration": 0.154,
     "end_time": "2022-03-06T04:31:24.976721",
     "exception": false,
     "start_time": "2022-03-06T04:31:24.822721",
     "status": "completed"
    },
    "tags": []
   },
   "outputs": [
    {
     "name": "stdout",
     "output_type": "stream",
     "text": [
      "[[Model]]\n",
      "    Model(voigt)\n",
      "[[Fit Statistics]]\n",
      "    # fitting method   = leastsq\n",
      "    # function evals   = 21\n",
      "    # data points      = 31\n",
      "    # variables        = 3\n",
      "    chi-square         = 1.81795384\n",
      "    reduced chi-square = 0.06492692\n",
      "    Akaike info crit   = -81.9245435\n",
      "    Bayesian info crit = -77.6225819\n",
      "[[Variables]]\n",
      "    amplitude:  2.3360e+09 +/- 25208432.9 (1.08%) (init = 3.099863e+09)\n",
      "    center:     3501704.09 +/- 664297.570 (18.97%) (init = 9801769)\n",
      "    sigma:      34535801.4 +/- 485242.121 (1.41%) (init = 3.185575e+07)\n",
      "    gamma:      34535801.4 +/- 485242.123 (1.41%) == 'sigma'\n",
      "    fwhm:       1.2437e+08 +/- 1062642.77 (0.85%) == '1.0692*gamma+sqrt(0.8664*gamma**2+5.545083*sigma**2)'\n",
      "    height:     14.1173414 +/- 0.11553322 (0.82%) == '(amplitude/(max(1e-15, sigma*sqrt(2*pi))))*wofz((1j*gamma)/(max(1e-15, sigma*sqrt(2)))).real'\n",
      "[[Correlations]] (unreported correlations are < 0.100)\n",
      "    C(amplitude, sigma) = 0.653\n"
     ]
    }
   ],
   "source": [
    "model = VoigtModel()\n",
    "params = model.guess(\n",
    "                    results, \n",
    "                    x = δl_scan\n",
    ")\n",
    "fit = model.fit(results, params, x = δl_scan)\n",
    "print(fit.fit_report())"
   ]
  },
  {
   "cell_type": "code",
   "execution_count": 38,
   "id": "50403281-0ba4-4572-a029-2614a6647796",
   "metadata": {
    "execution": {
     "iopub.execute_input": "2022-03-06T04:31:25.085721Z",
     "iopub.status.busy": "2022-03-06T04:31:25.085721Z",
     "iopub.status.idle": "2022-03-06T04:31:25.277609Z",
     "shell.execute_reply": "2022-03-06T04:31:25.278608Z"
    },
    "papermill": {
     "duration": 0.245888,
     "end_time": "2022-03-06T04:31:25.278608",
     "exception": false,
     "start_time": "2022-03-06T04:31:25.032720",
     "status": "completed"
    },
    "tags": []
   },
   "outputs": [
    {
     "data": {
      "image/png": "[encoded data removed]",
      "text/plain": [
       "<Figure size 576x360 with 1 Axes>"
      ]
     },
     "metadata": {
      "needs_background": "light"
     },
     "output_type": "display_data"
    }
   ],
   "source": [
    "_x = np.linspace(δl_scan.min(), δl_scan.max(), 201)\n",
    "y = fit.eval(x = _x)\n",
    "\n",
    "fig, ax = plt.subplots(figsize = (8,5))\n",
    "ax.plot(δl_scan / (2*np.pi*1e6), results, '.', ms = 13, label = 'data')\n",
    "ax.plot(_x / (2*np.pi*1e6), y, label = 'fit', lw = 2)\n",
    "\n",
    "ax.set_xlabel(\"δ [MHz]\", fontsize = 14)\n",
    "ax.set_ylabel(\"# photons\", fontsize = 14)\n",
    "ax.legend(fontsize = 14)\n",
    "ax.set_title(\"Voigt Fit\", fontsize = 15)\n",
    "ax.grid(True)"
   ]
  },
  {
   "cell_type": "code",
   "execution_count": 39,
   "id": "f3cfa0ae-8cd4-44d3-a3b2-86b49bd91fd5",
   "metadata": {
    "execution": {
     "iopub.execute_input": "2022-03-06T04:31:25.375608Z",
     "iopub.status.busy": "2022-03-06T04:31:25.374607Z",
     "iopub.status.idle": "2022-03-06T04:31:25.667609Z",
     "shell.execute_reply": "2022-03-06T04:31:25.668608Z"
    },
    "papermill": {
     "duration": 0.343,
     "end_time": "2022-03-06T04:31:25.668608",
     "exception": false,
     "start_time": "2022-03-06T04:31:25.325608",
     "status": "completed"
    },
    "tags": []
   },
   "outputs": [
    {
     "data": {
      "image/png": "[encoded data removed]",
      "text/plain": [
       "<Figure size 432x432 with 2 Axes>"
      ]
     },
     "metadata": {
      "needs_background": "light"
     },
     "output_type": "display_data"
    }
   ],
   "source": [
    "_ = fit.plot()"
   ]
  },
  {
   "cell_type": "code",
   "execution_count": null,
   "id": "7e576c63-d35f-4274-954b-1ed373a0be02",
   "metadata": {
    "papermill": {
     "duration": 0.050001,
     "end_time": "2022-03-06T04:31:25.766608",
     "exception": false,
     "start_time": "2022-03-06T04:31:25.716607",
     "status": "completed"
    },
    "tags": []
   },
   "outputs": [],
   "source": []
  }
 ],
 "metadata": {
  "kernelspec": {
   "display_name": "Python 3 (ipykernel)",
   "language": "python",
   "name": "python3"
  },
  "language_info": {
   "codemirror_mode": {
    "name": "ipython",
    "version": 3
   },
   "file_extension": ".py",
   "mimetype": "text/x-python",
   "name": "python",
   "nbconvert_exporter": "python",
   "pygments_lexer": "ipython3",
   "version": "3.8.12"
  },
  "papermill": {
   "default_parameters": {},
   "duration": 1426.140889,
   "end_time": "2022-03-06T04:31:27.680634",
   "environment_variables": {},
   "exception": null,
   "input_path": "multipass amherst template.ipynb",
   "output_path": "Q(1) F1'=1_2 F'=1.ipynb",
   "parameters": {
    "excited_F": 1,
    "excited_F1": 0.5,
    "excited_J": 1,
    "system_Js": [
     1,
     3
    ],
    "transition_type": "Q"
   },
   "start_time": "2022-03-06T04:07:41.539745",
   "version": "2.3.4"
  }
 },
 "nbformat": 4,
 "nbformat_minor": 5
}