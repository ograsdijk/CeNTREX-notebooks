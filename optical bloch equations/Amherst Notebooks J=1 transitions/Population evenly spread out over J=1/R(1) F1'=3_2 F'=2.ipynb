{
 "cells": [
  {
   "cell_type": "code",
   "execution_count": 1,
   "id": "7d8a7537-0017-470b-8014-10fee27536eb",
   "metadata": {
    "execution": {
     "iopub.execute_input": "2022-03-06T02:38:57.879245Z",
     "iopub.status.busy": "2022-03-06T02:38:57.879245Z",
     "iopub.status.idle": "2022-03-06T02:39:02.582955Z",
     "shell.execute_reply": "2022-03-06T02:39:02.583953Z"
    },
    "papermill": {
     "duration": 4.748711,
     "end_time": "2022-03-06T02:39:02.583953",
     "exception": false,
     "start_time": "2022-03-06T02:38:57.835242",
     "status": "completed"
    },
    "tags": []
   },
   "outputs": [],
   "source": [
    "%load_ext autoreload\n",
    "%autoreload 2\n",
    "\n",
    "import numpy as np\n",
    "import sympy as smp\n",
    "from tqdm import tqdm\n",
    "from sympy import Symbol, symbols\n",
    "import centrex_TlF as centrex\n",
    "import matplotlib.pyplot as plt\n",
    "from julia import Main"
   ]
  },
  {
   "cell_type": "markdown",
   "id": "6b24d705-f2c7-4949-826b-60484c6990f5",
   "metadata": {
    "papermill": {
     "duration": 0.036003,
     "end_time": "2022-03-06T02:39:02.641954",
     "exception": false,
     "start_time": "2022-03-06T02:39:02.605951",
     "status": "completed"
    },
    "tags": []
   },
   "source": [
    "### Papermill parameters"
   ]
  },
  {
   "cell_type": "code",
   "execution_count": 2,
   "id": "9788a2c1-095c-4d35-8c1b-a0548a74c8d2",
   "metadata": {
    "execution": {
     "iopub.execute_input": "2022-03-06T02:39:02.689955Z",
     "iopub.status.busy": "2022-03-06T02:39:02.689955Z",
     "iopub.status.idle": "2022-03-06T02:39:02.754953Z",
     "shell.execute_reply": "2022-03-06T02:39:02.753954Z"
    },
    "papermill": {
     "duration": 0.090999,
     "end_time": "2022-03-06T02:39:02.754953",
     "exception": false,
     "start_time": "2022-03-06T02:39:02.663954",
     "status": "completed"
    },
    "tags": [
     "parameters"
    ]
   },
   "outputs": [],
   "source": [
    "Γ = 2*np.pi*1.56e6\n",
    "\n",
    "transition_type = \"R\"\n",
    "ground_J = 1\n",
    "excited_F = 2\n",
    "excited_F1 = 3/2\n",
    "system_J = [1,3]\n",
    "\n",
    "laser_power = 23.8e-3 # power in W\n",
    "σlaser = 0.000914\n",
    "npasses = 9\n",
    "multipass_offset = 0.01\n",
    "distance_between_passes = 0.03556/npasses\n",
    "power_loss_per_pass = 20.2/23.8\n",
    "\n",
    "vcm = 150\n",
    "vcm_sigma = 30\n",
    "vperp_sigma = 38\n",
    "\n",
    "ωp = 0.65*Γ\n",
    "\n",
    "β = 3.8\n",
    "ωphase = 0.0\n",
    "\n",
    "scan_range = [-30,31,2]\n",
    "\n",
    "nprocs = 7"
   ]
  },
  {
   "cell_type": "code",
   "execution_count": 3,
   "id": "9200b547",
   "metadata": {
    "execution": {
     "iopub.execute_input": "2022-03-06T02:39:02.805952Z",
     "iopub.status.busy": "2022-03-06T02:39:02.805952Z",
     "iopub.status.idle": "2022-03-06T02:39:02.879953Z",
     "shell.execute_reply": "2022-03-06T02:39:02.878955Z"
    },
    "papermill": {
     "duration": 0.102,
     "end_time": "2022-03-06T02:39:02.879953",
     "exception": false,
     "start_time": "2022-03-06T02:39:02.777953",
     "status": "completed"
    },
    "tags": [
     "injected-parameters"
    ]
   },
   "outputs": [],
   "source": [
    "# Parameters\n",
    "transition_type = \"R\"\n",
    "excited_J = 2\n",
    "excited_F = 2\n",
    "excited_F1 = 1.5\n",
    "system_Js = [1, 3]\n"
   ]
  },
  {
   "cell_type": "code",
   "execution_count": 4,
   "id": "c21c06f6-c1af-496a-b304-7469b9ba8a17",
   "metadata": {
    "execution": {
     "iopub.execute_input": "2022-03-06T02:39:02.928954Z",
     "iopub.status.busy": "2022-03-06T02:39:02.928954Z",
     "iopub.status.idle": "2022-03-06T02:39:03.528968Z",
     "shell.execute_reply": "2022-03-06T02:39:03.529967Z"
    },
    "papermill": {
     "duration": 0.626014,
     "end_time": "2022-03-06T02:39:03.529967",
     "exception": false,
     "start_time": "2022-03-06T02:39:02.903953",
     "status": "completed"
    },
    "tags": []
   },
   "outputs": [],
   "source": [
    "trans = centrex.transitions.LaserTransition(\n",
    "    f\"{transition_type}{ground_J}\",\n",
    "    F1 = excited_F1,\n",
    "    F = excited_F\n",
    ")\n",
    "population_J = trans.ground_selector.J"
   ]
  },
  {
   "cell_type": "code",
   "execution_count": 5,
   "id": "a8bac859-a1d8-41cf-87c1-45cb8e44710d",
   "metadata": {
    "execution": {
     "iopub.execute_input": "2022-03-06T02:39:03.586967Z",
     "iopub.status.busy": "2022-03-06T02:39:03.585968Z",
     "iopub.status.idle": "2022-03-06T02:39:03.653968Z",
     "shell.execute_reply": "2022-03-06T02:39:03.654968Z"
    },
    "papermill": {
     "duration": 0.098002,
     "end_time": "2022-03-06T02:39:03.654968",
     "exception": false,
     "start_time": "2022-03-06T02:39:03.556966",
     "status": "completed"
    },
    "tags": []
   },
   "outputs": [
    {
     "name": "stdout",
     "output_type": "stream",
     "text": [
      "excited state : QuantumSelector(J=2, F1=1.5, F=2, mF=None, electronic='B', P=1, Ω=None)\n",
      "population in states : QuantumSelector(J=1, F1=None, F=None, mF=None, electronic='X', P=None, Ω=None)\n"
     ]
    }
   ],
   "source": [
    "excited_state = centrex.states.QuantumSelector(\n",
    "                    J=excited_J, F=excited_F, F1=excited_F1, \n",
    "                    electronic = 'B', P = trans.excited_selector.P\n",
    ")\n",
    "population_states = centrex.states.QuantumSelector(J=population_J, electronic = 'X')\n",
    "\n",
    "print(f\"excited state : {excited_state}\")\n",
    "print(f\"population in states : {population_states}\")"
   ]
  },
  {
   "cell_type": "markdown",
   "id": "21d17f10-4029-4df6-842f-0e7c76366a7c",
   "metadata": {
    "papermill": {
     "duration": 0.026999,
     "end_time": "2022-03-06T02:39:03.716967",
     "exception": false,
     "start_time": "2022-03-06T02:39:03.689968",
     "status": "completed"
    },
    "tags": []
   },
   "source": [
    "# Initial setup\n",
    "## Involved states"
   ]
  },
  {
   "cell_type": "code",
   "execution_count": 6,
   "id": "8a6852be-2045-4f4d-b899-c2717f66efa9",
   "metadata": {
    "execution": {
     "iopub.execute_input": "2022-03-06T02:39:03.771967Z",
     "iopub.status.busy": "2022-03-06T02:39:03.770966Z",
     "iopub.status.idle": "2022-03-06T02:39:03.827967Z",
     "shell.execute_reply": "2022-03-06T02:39:03.828967Z"
    },
    "papermill": {
     "duration": 0.085999,
     "end_time": "2022-03-06T02:39:03.828967",
     "exception": false,
     "start_time": "2022-03-06T02:39:03.742968",
     "status": "completed"
    },
    "tags": []
   },
   "outputs": [],
   "source": [
    "gnd = centrex.states.QuantumSelector(J=system_J, electronic = 'X')\n",
    "exc = excited_state\n",
    "\n",
    "gnd_laser = centrex.states.QuantumSelector(J=trans.ground_selector.J, electronic = 'X')\n",
    "exc_laser = excited_state"
   ]
  },
  {
   "cell_type": "code",
   "execution_count": 7,
   "id": "7f40b6a0-2e4a-489a-892c-84cf72f711c0",
   "metadata": {
    "execution": {
     "iopub.execute_input": "2022-03-06T02:39:03.877969Z",
     "iopub.status.busy": "2022-03-06T02:39:03.877969Z",
     "iopub.status.idle": "2022-03-06T02:39:03.937967Z",
     "shell.execute_reply": "2022-03-06T02:39:03.937967Z"
    },
    "papermill": {
     "duration": 0.085002,
     "end_time": "2022-03-06T02:39:03.937967",
     "exception": false,
     "start_time": "2022-03-06T02:39:03.852965",
     "status": "completed"
    },
    "tags": []
   },
   "outputs": [],
   "source": [
    "syspars = centrex.states.SystemParameters(\n",
    "    nprocs  = nprocs,\n",
    "    Γ       = Γ,\n",
    "    X  = gnd,\n",
    "    B = [exc]\n",
    ")"
   ]
  },
  {
   "cell_type": "markdown",
   "id": "5783d09d-767e-4901-b328-5a3d8529c562",
   "metadata": {
    "papermill": {
     "duration": 0.023001,
     "end_time": "2022-03-06T02:39:03.984966",
     "exception": false,
     "start_time": "2022-03-06T02:39:03.961965",
     "status": "completed"
    },
    "tags": []
   },
   "source": [
    "## Parameters"
   ]
  },
  {
   "cell_type": "code",
   "execution_count": 8,
   "id": "afce7fb3-65f2-4ace-b238-b74f88ff4659",
   "metadata": {
    "execution": {
     "iopub.execute_input": "2022-03-06T02:39:04.036969Z",
     "iopub.status.busy": "2022-03-06T02:39:04.036969Z",
     "iopub.status.idle": "2022-03-06T02:39:04.110968Z",
     "shell.execute_reply": "2022-03-06T02:39:04.111968Z"
    },
    "papermill": {
     "duration": 0.104002,
     "end_time": "2022-03-06T02:39:04.111968",
     "exception": false,
     "start_time": "2022-03-06T02:39:04.007966",
     "status": "completed"
    },
    "tags": []
   },
   "outputs": [],
   "source": [
    "odepars = centrex.lindblad.odeParameters(\n",
    "    Ωl = \"Ωl0 * phase_modulation(t, β, ωphase) * multipass_2d_intensity(vz*t, y0+vy*t, ampl, xlocs, ylocs, σzlaser, σylaser)\",\n",
    "    Ωl0     = 1*syspars.Γ,    # Rabi frequency of the laser [rad/s]\n",
    "    δl      = 0.0,              # detuning of the laser [rad/s]\n",
    "    \n",
    "    # laser beam properties\n",
    "    σzlaser = σlaser * np.sqrt(2),\n",
    "    σylaser = σlaser * np.sqrt(2),\n",
    "    \n",
    "    # laser multipass\n",
    "    ampl = [np.sqrt(power_loss_per_pass**n) for n in range(npasses)],\n",
    "    xlocs = [(n-1)*distance_between_passes + multipass_offset for n in centrex.utils.light.multipass_prism_order(npasses)],\n",
    "    ylocs = npasses*[0.0],\n",
    "    \n",
    "    # laser phase modulation\n",
    "    ωphase = ωphase,       # laser phase modulation frequency [rad/s]\n",
    "    β      = β,             # laser phase modulation depth [rad]\n",
    "\n",
    "    # laser polarization switching\n",
    "    ωp = ωp,           # polarization switching frequency [rad/s]\n",
    "    φp = 0.0,                 # polarization switching phase [rad]\n",
    "    Pl  = \"sin(ωp*t + φp)\",\n",
    "    Plz = \"Pl>0\",\n",
    "    Plx = \"Pl<=0\",\n",
    "    Ply = 0.0,\n",
    "    \n",
    "    # molecules\n",
    "    y0 = 0.,                   # molecule start y position [m]\n",
    "    vz = 150.,                 # longitudinal molecular velocity [m/s]\n",
    "    vy = 0.,                   # molecule vy [m/s]\n",
    ")\n"
   ]
  },
  {
   "cell_type": "markdown",
   "id": "94aff443-8f03-4464-b85e-cea4b4407fd1",
   "metadata": {
    "papermill": {
     "duration": 0.037001,
     "end_time": "2022-03-06T02:39:04.179967",
     "exception": false,
     "start_time": "2022-03-06T02:39:04.142966",
     "status": "completed"
    },
    "tags": []
   },
   "source": [
    "## Transitions"
   ]
  },
  {
   "cell_type": "code",
   "execution_count": 9,
   "id": "8ab6c2cd-69a9-43bc-b367-70604948ee8e",
   "metadata": {
    "execution": {
     "iopub.execute_input": "2022-03-06T02:39:04.229966Z",
     "iopub.status.busy": "2022-03-06T02:39:04.228965Z",
     "iopub.status.idle": "2022-03-06T02:39:04.298967Z",
     "shell.execute_reply": "2022-03-06T02:39:04.299967Z"
    },
    "papermill": {
     "duration": 0.097002,
     "end_time": "2022-03-06T02:39:04.299967",
     "exception": false,
     "start_time": "2022-03-06T02:39:04.202965",
     "status": "completed"
    },
    "tags": []
   },
   "outputs": [],
   "source": [
    "transitions = [\n",
    "    centrex.couplings.TransitionSelector(\n",
    "        ground = 1*centrex.states.generate_coupled_states_ground_X(gnd_laser),\n",
    "        excited = 1*centrex.states.generate_coupled_states_excited_B(exc_laser),\n",
    "        polarizations        = [[0,0,1],[1,0,0],[0,1,0]],\n",
    "        polarization_symbols = symbols(\"Plz     Plx     Ply\"),\n",
    "        Ω = smp.Symbol('Ωl', complex = True),\n",
    "        δ = smp.Symbol('δl'),\n",
    "        description = \"laser transition\",        \n",
    "    ),\n",
    "]"
   ]
  },
  {
   "cell_type": "code",
   "execution_count": 10,
   "id": "8830dc74-5aef-4786-b0b6-d086c03b86a7",
   "metadata": {
    "execution": {
     "iopub.execute_input": "2022-03-06T02:39:04.351979Z",
     "iopub.status.busy": "2022-03-06T02:39:04.350978Z",
     "iopub.status.idle": "2022-03-06T02:39:04.422979Z",
     "shell.execute_reply": "2022-03-06T02:39:04.423980Z"
    },
    "papermill": {
     "duration": 0.099006,
     "end_time": "2022-03-06T02:39:04.423980",
     "exception": false,
     "start_time": "2022-03-06T02:39:04.324974",
     "status": "completed"
    },
    "tags": []
   },
   "outputs": [
    {
     "data": {
      "text/plain": [
       "\"R(1) F1'=3_2 F'=2\""
      ]
     },
     "execution_count": 10,
     "metadata": {},
     "output_type": "execute_result"
    }
   ],
   "source": [
    "transition_name = centrex.transitions.identify_transition(\n",
    "    transitions[0].ground[0],\n",
    "    transitions[0].excited[0]\n",
    ")\n",
    "transition_name = transition_name.replace(\",\",\"\").replace(\"/\",\"_\")\n",
    "transition_name"
   ]
  },
  {
   "cell_type": "markdown",
   "id": "e6bed866-24bc-4cbb-9664-022df1a48188",
   "metadata": {
    "papermill": {
     "duration": 0.022998,
     "end_time": "2022-03-06T02:39:04.473973",
     "exception": false,
     "start_time": "2022-03-06T02:39:04.450975",
     "status": "completed"
    },
    "tags": []
   },
   "source": [
    "## Generate System"
   ]
  },
  {
   "cell_type": "code",
   "execution_count": 11,
   "id": "4ed1375f-f64b-45c0-8ca8-f98491e8c8f0",
   "metadata": {
    "execution": {
     "iopub.execute_input": "2022-03-06T02:39:04.521974Z",
     "iopub.status.busy": "2022-03-06T02:39:04.521974Z",
     "iopub.status.idle": "2022-03-06T02:41:21.753652Z",
     "shell.execute_reply": "2022-03-06T02:41:21.752652Z"
    },
    "papermill": {
     "duration": 137.257677,
     "end_time": "2022-03-06T02:41:21.753652",
     "exception": false,
     "start_time": "2022-03-06T02:39:04.495975",
     "status": "completed"
    },
    "tags": []
   },
   "outputs": [
    {
     "data": {
      "text/html": [
       "<pre style=\"white-space:pre;overflow-x:auto;line-height:normal;font-family:Menlo,'DejaVu Sans Mono',consolas,'Courier New',monospace\"><span style=\"color: #7fbfbf; text-decoration-color: #7fbfbf\">[20:39:04] </span><span style=\"color: #000080; text-decoration-color: #000080\">INFO    </span> generate_OBE_system: <span style=\"color: #008080; text-decoration-color: #008080; font-weight: bold\">1</span>/<span style=\"color: #008080; text-decoration-color: #008080; font-weight: bold\">6</span> -&gt; Generating the reduced      <a href=\"file://C:\\Users\\ogras\\anaconda3\\lib\\site-packages\\centrex_tlf-0.2-py3.8.egg\\centrex_TlF\\lindblad\\utils_setup.py\"><span style=\"color: #7f7f7f; text-decoration-color: #7f7f7f\">utils_setup.py</span></a><span style=\"color: #7f7f7f; text-decoration-color: #7f7f7f\">:</span><a href=\"file://C:\\Users\\ogras\\anaconda3\\lib\\site-packages\\centrex_tlf-0.2-py3.8.egg\\centrex_TlF\\lindblad\\utils_setup.py#88\"><span style=\"color: #7f7f7f; text-decoration-color: #7f7f7f\">88</span></a>\n",
       "                    Hamiltonian                                                              \n",
       "</pre>\n"
      ],
      "text/plain": [
       "\u001b[2;36m[20:39:04]\u001b[0m\u001b[2;36m \u001b[0m\u001b[34mINFO    \u001b[0m generate_OBE_system: \u001b[1;36m1\u001b[0m/\u001b[1;36m6\u001b[0m -> Generating the reduced      \u001b]8;id=778730;file://C:\\Users\\ogras\\anaconda3\\lib\\site-packages\\centrex_tlf-0.2-py3.8.egg\\centrex_TlF\\lindblad\\utils_setup.py\u001b\\\u001b[2mutils_setup.py\u001b[0m\u001b]8;;\u001b\\\u001b[2m:\u001b[0m\u001b]8;id=198537;file://C:\\Users\\ogras\\anaconda3\\lib\\site-packages\\centrex_tlf-0.2-py3.8.egg\\centrex_TlF\\lindblad\\utils_setup.py#88\u001b\\\u001b[2m88\u001b[0m\u001b]8;;\u001b\\\n",
       "                    Hamiltonian                                                              \n"
      ]
     },
     "metadata": {},
     "output_type": "display_data"
    },
    {
     "data": {
      "text/html": [
       "<pre style=\"white-space:pre;overflow-x:auto;line-height:normal;font-family:Menlo,'DejaVu Sans Mono',consolas,'Courier New',monospace\"><span style=\"color: #7fbfbf; text-decoration-color: #7fbfbf\">[20:39:12] </span><span style=\"color: #000080; text-decoration-color: #000080\">INFO    </span> generate_OBE_system: <span style=\"color: #008080; text-decoration-color: #008080; font-weight: bold\">2</span>/<span style=\"color: #008080; text-decoration-color: #008080; font-weight: bold\">6</span> -&gt; Generating the couplings   <a href=\"file://C:\\Users\\ogras\\anaconda3\\lib\\site-packages\\centrex_tlf-0.2-py3.8.egg\\centrex_TlF\\lindblad\\utils_setup.py\"><span style=\"color: #7f7f7f; text-decoration-color: #7f7f7f\">utils_setup.py</span></a><span style=\"color: #7f7f7f; text-decoration-color: #7f7f7f\">:</span><a href=\"file://C:\\Users\\ogras\\anaconda3\\lib\\site-packages\\centrex_tlf-0.2-py3.8.egg\\centrex_TlF\\lindblad\\utils_setup.py#103\"><span style=\"color: #7f7f7f; text-decoration-color: #7f7f7f\">103</span></a>\n",
       "                    corresponding to the transitions                                         \n",
       "</pre>\n"
      ],
      "text/plain": [
       "\u001b[2;36m[20:39:12]\u001b[0m\u001b[2;36m \u001b[0m\u001b[34mINFO    \u001b[0m generate_OBE_system: \u001b[1;36m2\u001b[0m/\u001b[1;36m6\u001b[0m -> Generating the couplings   \u001b]8;id=975725;file://C:\\Users\\ogras\\anaconda3\\lib\\site-packages\\centrex_tlf-0.2-py3.8.egg\\centrex_TlF\\lindblad\\utils_setup.py\u001b\\\u001b[2mutils_setup.py\u001b[0m\u001b]8;;\u001b\\\u001b[2m:\u001b[0m\u001b]8;id=883336;file://C:\\Users\\ogras\\anaconda3\\lib\\site-packages\\centrex_tlf-0.2-py3.8.egg\\centrex_TlF\\lindblad\\utils_setup.py#103\u001b\\\u001b[2m103\u001b[0m\u001b]8;;\u001b\\\n",
       "                    corresponding to the transitions                                         \n"
      ]
     },
     "metadata": {},
     "output_type": "display_data"
    },
    {
     "data": {
      "text/html": [
       "<pre style=\"white-space:pre;overflow-x:auto;line-height:normal;font-family:Menlo,'DejaVu Sans Mono',consolas,'Courier New',monospace\"><span style=\"color: #7fbfbf; text-decoration-color: #7fbfbf\">[20:40:20] </span><span style=\"color: #000080; text-decoration-color: #000080\">INFO    </span> generate_OBE_system: <span style=\"color: #008080; text-decoration-color: #008080; font-weight: bold\">3</span>/<span style=\"color: #008080; text-decoration-color: #008080; font-weight: bold\">6</span> -&gt; Generating the symbolic    <a href=\"file://C:\\Users\\ogras\\anaconda3\\lib\\site-packages\\centrex_tlf-0.2-py3.8.egg\\centrex_TlF\\lindblad\\utils_setup.py\"><span style=\"color: #7f7f7f; text-decoration-color: #7f7f7f\">utils_setup.py</span></a><span style=\"color: #7f7f7f; text-decoration-color: #7f7f7f\">:</span><a href=\"file://C:\\Users\\ogras\\anaconda3\\lib\\site-packages\\centrex_tlf-0.2-py3.8.egg\\centrex_TlF\\lindblad\\utils_setup.py#138\"><span style=\"color: #7f7f7f; text-decoration-color: #7f7f7f\">138</span></a>\n",
       "                    Hamiltonian                                                              \n",
       "</pre>\n"
      ],
      "text/plain": [
       "\u001b[2;36m[20:40:20]\u001b[0m\u001b[2;36m \u001b[0m\u001b[34mINFO    \u001b[0m generate_OBE_system: \u001b[1;36m3\u001b[0m/\u001b[1;36m6\u001b[0m -> Generating the symbolic    \u001b]8;id=51956;file://C:\\Users\\ogras\\anaconda3\\lib\\site-packages\\centrex_tlf-0.2-py3.8.egg\\centrex_TlF\\lindblad\\utils_setup.py\u001b\\\u001b[2mutils_setup.py\u001b[0m\u001b]8;;\u001b\\\u001b[2m:\u001b[0m\u001b]8;id=281975;file://C:\\Users\\ogras\\anaconda3\\lib\\site-packages\\centrex_tlf-0.2-py3.8.egg\\centrex_TlF\\lindblad\\utils_setup.py#138\u001b\\\u001b[2m138\u001b[0m\u001b]8;;\u001b\\\n",
       "                    Hamiltonian                                                              \n"
      ]
     },
     "metadata": {},
     "output_type": "display_data"
    },
    {
     "data": {
      "text/html": [
       "<pre style=\"white-space:pre;overflow-x:auto;line-height:normal;font-family:Menlo,'DejaVu Sans Mono',consolas,'Courier New',monospace\"><span style=\"color: #7fbfbf; text-decoration-color: #7fbfbf\">[20:40:37] </span><span style=\"color: #000080; text-decoration-color: #000080\">INFO    </span> generate_OBE_system: <span style=\"color: #008080; text-decoration-color: #008080; font-weight: bold\">4</span>/<span style=\"color: #008080; text-decoration-color: #008080; font-weight: bold\">6</span> -&gt; Generating the collapse    <a href=\"file://C:\\Users\\ogras\\anaconda3\\lib\\site-packages\\centrex_tlf-0.2-py3.8.egg\\centrex_TlF\\lindblad\\utils_setup.py\"><span style=\"color: #7f7f7f; text-decoration-color: #7f7f7f\">utils_setup.py</span></a><span style=\"color: #7f7f7f; text-decoration-color: #7f7f7f\">:</span><a href=\"file://C:\\Users\\ogras\\anaconda3\\lib\\site-packages\\centrex_tlf-0.2-py3.8.egg\\centrex_TlF\\lindblad\\utils_setup.py#149\"><span style=\"color: #7f7f7f; text-decoration-color: #7f7f7f\">149</span></a>\n",
       "                    matrices                                                                 \n",
       "</pre>\n"
      ],
      "text/plain": [
       "\u001b[2;36m[20:40:37]\u001b[0m\u001b[2;36m \u001b[0m\u001b[34mINFO    \u001b[0m generate_OBE_system: \u001b[1;36m4\u001b[0m/\u001b[1;36m6\u001b[0m -> Generating the collapse    \u001b]8;id=49484;file://C:\\Users\\ogras\\anaconda3\\lib\\site-packages\\centrex_tlf-0.2-py3.8.egg\\centrex_TlF\\lindblad\\utils_setup.py\u001b\\\u001b[2mutils_setup.py\u001b[0m\u001b]8;;\u001b\\\u001b[2m:\u001b[0m\u001b]8;id=734915;file://C:\\Users\\ogras\\anaconda3\\lib\\site-packages\\centrex_tlf-0.2-py3.8.egg\\centrex_TlF\\lindblad\\utils_setup.py#149\u001b\\\u001b[2m149\u001b[0m\u001b]8;;\u001b\\\n",
       "                    matrices                                                                 \n"
      ]
     },
     "metadata": {},
     "output_type": "display_data"
    },
    {
     "data": {
      "text/html": [
       "<pre style=\"white-space:pre;overflow-x:auto;line-height:normal;font-family:Menlo,'DejaVu Sans Mono',consolas,'Courier New',monospace\"><span style=\"color: #7fbfbf; text-decoration-color: #7fbfbf\">           </span><span style=\"color: #000080; text-decoration-color: #000080\">INFO    </span> generate_OBE_system: <span style=\"color: #008080; text-decoration-color: #008080; font-weight: bold\">5</span>/<span style=\"color: #008080; text-decoration-color: #008080; font-weight: bold\">6</span> -&gt; Transforming the           <a href=\"file://C:\\Users\\ogras\\anaconda3\\lib\\site-packages\\centrex_tlf-0.2-py3.8.egg\\centrex_TlF\\lindblad\\utils_setup.py\"><span style=\"color: #7f7f7f; text-decoration-color: #7f7f7f\">utils_setup.py</span></a><span style=\"color: #7f7f7f; text-decoration-color: #7f7f7f\">:</span><a href=\"file://C:\\Users\\ogras\\anaconda3\\lib\\site-packages\\centrex_tlf-0.2-py3.8.egg\\centrex_TlF\\lindblad\\utils_setup.py#178\"><span style=\"color: #7f7f7f; text-decoration-color: #7f7f7f\">178</span></a>\n",
       "                    Hamiltonian and collapse matrices into a symbolic                        \n",
       "                    system of equations                                                      \n",
       "</pre>\n"
      ],
      "text/plain": [
       "\u001b[2;36m          \u001b[0m\u001b[2;36m \u001b[0m\u001b[34mINFO    \u001b[0m generate_OBE_system: \u001b[1;36m5\u001b[0m/\u001b[1;36m6\u001b[0m -> Transforming the           \u001b]8;id=12620;file://C:\\Users\\ogras\\anaconda3\\lib\\site-packages\\centrex_tlf-0.2-py3.8.egg\\centrex_TlF\\lindblad\\utils_setup.py\u001b\\\u001b[2mutils_setup.py\u001b[0m\u001b]8;;\u001b\\\u001b[2m:\u001b[0m\u001b]8;id=959148;file://C:\\Users\\ogras\\anaconda3\\lib\\site-packages\\centrex_tlf-0.2-py3.8.egg\\centrex_TlF\\lindblad\\utils_setup.py#178\u001b\\\u001b[2m178\u001b[0m\u001b]8;;\u001b\\\n",
       "                    Hamiltonian and collapse matrices into a symbolic                        \n",
       "                    system of equations                                                      \n"
      ]
     },
     "metadata": {},
     "output_type": "display_data"
    },
    {
     "data": {
      "text/html": [
       "<pre style=\"white-space:pre;overflow-x:auto;line-height:normal;font-family:Menlo,'DejaVu Sans Mono',consolas,'Courier New',monospace\"><span style=\"color: #7fbfbf; text-decoration-color: #7fbfbf\">[20:40:39] </span><span style=\"color: #000080; text-decoration-color: #000080\">INFO    </span> generate_OBE_system: <span style=\"color: #008080; text-decoration-color: #008080; font-weight: bold\">6</span>/<span style=\"color: #008080; text-decoration-color: #008080; font-weight: bold\">6</span> -&gt; Generating Julia code      <a href=\"file://C:\\Users\\ogras\\anaconda3\\lib\\site-packages\\centrex_tlf-0.2-py3.8.egg\\centrex_TlF\\lindblad\\utils_setup.py\"><span style=\"color: #7f7f7f; text-decoration-color: #7f7f7f\">utils_setup.py</span></a><span style=\"color: #7f7f7f; text-decoration-color: #7f7f7f\">:</span><a href=\"file://C:\\Users\\ogras\\anaconda3\\lib\\site-packages\\centrex_tlf-0.2-py3.8.egg\\centrex_TlF\\lindblad\\utils_setup.py#186\"><span style=\"color: #7f7f7f; text-decoration-color: #7f7f7f\">186</span></a>\n",
       "                    representing the system of equations                                     \n",
       "</pre>\n"
      ],
      "text/plain": [
       "\u001b[2;36m[20:40:39]\u001b[0m\u001b[2;36m \u001b[0m\u001b[34mINFO    \u001b[0m generate_OBE_system: \u001b[1;36m6\u001b[0m/\u001b[1;36m6\u001b[0m -> Generating Julia code      \u001b]8;id=70620;file://C:\\Users\\ogras\\anaconda3\\lib\\site-packages\\centrex_tlf-0.2-py3.8.egg\\centrex_TlF\\lindblad\\utils_setup.py\u001b\\\u001b[2mutils_setup.py\u001b[0m\u001b]8;;\u001b\\\u001b[2m:\u001b[0m\u001b]8;id=582456;file://C:\\Users\\ogras\\anaconda3\\lib\\site-packages\\centrex_tlf-0.2-py3.8.egg\\centrex_TlF\\lindblad\\utils_setup.py#186\u001b\\\u001b[2m186\u001b[0m\u001b]8;;\u001b\\\n",
       "                    representing the system of equations                                     \n"
      ]
     },
     "metadata": {},
     "output_type": "display_data"
    },
    {
     "data": {
      "text/html": [
       "<pre style=\"white-space:pre;overflow-x:auto;line-height:normal;font-family:Menlo,'DejaVu Sans Mono',consolas,'Courier New',monospace\"><span style=\"color: #7fbfbf; text-decoration-color: #7fbfbf\">[20:40:49] </span><span style=\"color: #000080; text-decoration-color: #000080\">INFO    </span> setup_OBE_system_julia: <span style=\"color: #008080; text-decoration-color: #008080; font-weight: bold\">1</span>/<span style=\"color: #008080; text-decoration-color: #008080; font-weight: bold\">3</span> -&gt; Generating the preamble <a href=\"file://C:\\Users\\ogras\\anaconda3\\lib\\site-packages\\centrex_tlf-0.2-py3.8.egg\\centrex_TlF\\lindblad\\utils_setup.py\"><span style=\"color: #7f7f7f; text-decoration-color: #7f7f7f\">utils_setup.py</span></a><span style=\"color: #7f7f7f; text-decoration-color: #7f7f7f\">:</span><a href=\"file://C:\\Users\\ogras\\anaconda3\\lib\\site-packages\\centrex_tlf-0.2-py3.8.egg\\centrex_TlF\\lindblad\\utils_setup.py#266\"><span style=\"color: #7f7f7f; text-decoration-color: #7f7f7f\">266</span></a>\n",
       "</pre>\n"
      ],
      "text/plain": [
       "\u001b[2;36m[20:40:49]\u001b[0m\u001b[2;36m \u001b[0m\u001b[34mINFO    \u001b[0m setup_OBE_system_julia: \u001b[1;36m1\u001b[0m/\u001b[1;36m3\u001b[0m -> Generating the preamble \u001b]8;id=977504;file://C:\\Users\\ogras\\anaconda3\\lib\\site-packages\\centrex_tlf-0.2-py3.8.egg\\centrex_TlF\\lindblad\\utils_setup.py\u001b\\\u001b[2mutils_setup.py\u001b[0m\u001b]8;;\u001b\\\u001b[2m:\u001b[0m\u001b]8;id=367954;file://C:\\Users\\ogras\\anaconda3\\lib\\site-packages\\centrex_tlf-0.2-py3.8.egg\\centrex_TlF\\lindblad\\utils_setup.py#266\u001b\\\u001b[2m266\u001b[0m\u001b]8;;\u001b\\\n"
      ]
     },
     "metadata": {},
     "output_type": "display_data"
    },
    {
     "data": {
      "text/html": [
       "<pre style=\"white-space:pre;overflow-x:auto;line-height:normal;font-family:Menlo,'DejaVu Sans Mono',consolas,'Courier New',monospace\"><span style=\"color: #7fbfbf; text-decoration-color: #7fbfbf\">           </span><span style=\"color: #000080; text-decoration-color: #000080\">INFO    </span> setup_OBE_system_julia: <span style=\"color: #008080; text-decoration-color: #008080; font-weight: bold\">2</span>/<span style=\"color: #008080; text-decoration-color: #008080; font-weight: bold\">3</span> -&gt; Initializing Julia on <span style=\"color: #008080; text-decoration-color: #008080; font-weight: bold\">7</span> <a href=\"file://C:\\Users\\ogras\\anaconda3\\lib\\site-packages\\centrex_tlf-0.2-py3.8.egg\\centrex_TlF\\lindblad\\utils_setup.py\"><span style=\"color: #7f7f7f; text-decoration-color: #7f7f7f\">utils_setup.py</span></a><span style=\"color: #7f7f7f; text-decoration-color: #7f7f7f\">:</span><a href=\"file://C:\\Users\\ogras\\anaconda3\\lib\\site-packages\\centrex_tlf-0.2-py3.8.egg\\centrex_TlF\\lindblad\\utils_setup.py#270\"><span style=\"color: #7f7f7f; text-decoration-color: #7f7f7f\">270</span></a>\n",
       "                    cores                                                                    \n",
       "</pre>\n"
      ],
      "text/plain": [
       "\u001b[2;36m          \u001b[0m\u001b[2;36m \u001b[0m\u001b[34mINFO    \u001b[0m setup_OBE_system_julia: \u001b[1;36m2\u001b[0m/\u001b[1;36m3\u001b[0m -> Initializing Julia on \u001b[1;36m7\u001b[0m \u001b]8;id=667798;file://C:\\Users\\ogras\\anaconda3\\lib\\site-packages\\centrex_tlf-0.2-py3.8.egg\\centrex_TlF\\lindblad\\utils_setup.py\u001b\\\u001b[2mutils_setup.py\u001b[0m\u001b]8;;\u001b\\\u001b[2m:\u001b[0m\u001b]8;id=829380;file://C:\\Users\\ogras\\anaconda3\\lib\\site-packages\\centrex_tlf-0.2-py3.8.egg\\centrex_TlF\\lindblad\\utils_setup.py#270\u001b\\\u001b[2m270\u001b[0m\u001b]8;;\u001b\\\n",
       "                    cores                                                                    \n"
      ]
     },
     "metadata": {},
     "output_type": "display_data"
    },
    {
     "name": "stdout",
     "output_type": "stream",
     "text": [
      "Initialized Julia with 7 processes\n"
     ]
    },
    {
     "data": {
      "text/html": [
       "<pre style=\"white-space:pre;overflow-x:auto;line-height:normal;font-family:Menlo,'DejaVu Sans Mono',consolas,'Courier New',monospace\"><span style=\"color: #7fbfbf; text-decoration-color: #7fbfbf\">[20:41:20] </span><span style=\"color: #000080; text-decoration-color: #000080\">INFO    </span> setup_OBE_system_julia: <span style=\"color: #008080; text-decoration-color: #008080; font-weight: bold\">3</span>/<span style=\"color: #008080; text-decoration-color: #008080; font-weight: bold\">3</span> -&gt; Defining the ODE        <a href=\"file://C:\\Users\\ogras\\anaconda3\\lib\\site-packages\\centrex_tlf-0.2-py3.8.egg\\centrex_TlF\\lindblad\\utils_setup.py\"><span style=\"color: #7f7f7f; text-decoration-color: #7f7f7f\">utils_setup.py</span></a><span style=\"color: #7f7f7f; text-decoration-color: #7f7f7f\">:</span><a href=\"file://C:\\Users\\ogras\\anaconda3\\lib\\site-packages\\centrex_tlf-0.2-py3.8.egg\\centrex_TlF\\lindblad\\utils_setup.py#277\"><span style=\"color: #7f7f7f; text-decoration-color: #7f7f7f\">277</span></a>\n",
       "                    equation and parameters in Julia                                         \n",
       "</pre>\n"
      ],
      "text/plain": [
       "\u001b[2;36m[20:41:20]\u001b[0m\u001b[2;36m \u001b[0m\u001b[34mINFO    \u001b[0m setup_OBE_system_julia: \u001b[1;36m3\u001b[0m/\u001b[1;36m3\u001b[0m -> Defining the ODE        \u001b]8;id=935236;file://C:\\Users\\ogras\\anaconda3\\lib\\site-packages\\centrex_tlf-0.2-py3.8.egg\\centrex_TlF\\lindblad\\utils_setup.py\u001b\\\u001b[2mutils_setup.py\u001b[0m\u001b]8;;\u001b\\\u001b[2m:\u001b[0m\u001b]8;id=522010;file://C:\\Users\\ogras\\anaconda3\\lib\\site-packages\\centrex_tlf-0.2-py3.8.egg\\centrex_TlF\\lindblad\\utils_setup.py#277\u001b\\\u001b[2m277\u001b[0m\u001b]8;;\u001b\\\n",
       "                    equation and parameters in Julia                                         \n"
      ]
     },
     "metadata": {},
     "output_type": "display_data"
    },
    {
     "name": "stdout",
     "output_type": "stream",
     "text": [
      "Wall time: 2min 17s\n"
     ]
    }
   ],
   "source": [
    "%%time\n",
    "obe_system = centrex.lindblad.setup_OBE_system_julia(syspars, odepars, transitions, verbose=True, full_output=True, \n",
    "                                                     qn_compact=centrex.states.QuantumSelector(J=3, electronic = 'X'))"
   ]
  },
  {
   "cell_type": "markdown",
   "id": "e2979859-216a-46aa-a6ed-72a507abf26b",
   "metadata": {
    "papermill": {
     "duration": 0.040997,
     "end_time": "2022-03-06T02:41:21.821651",
     "exception": false,
     "start_time": "2022-03-06T02:41:21.780654",
     "status": "completed"
    },
    "tags": []
   },
   "source": [
    "# Simulations\n",
    "## Single trajectory"
   ]
  },
  {
   "cell_type": "code",
   "execution_count": 12,
   "id": "a7dfeb67-36ab-4ed5-9af1-ad66daeddeac",
   "metadata": {
    "execution": {
     "iopub.execute_input": "2022-03-06T02:41:21.885653Z",
     "iopub.status.busy": "2022-03-06T02:41:21.885653Z",
     "iopub.status.idle": "2022-03-06T02:41:21.953654Z",
     "shell.execute_reply": "2022-03-06T02:41:21.954656Z"
    },
    "papermill": {
     "duration": 0.103002,
     "end_time": "2022-03-06T02:41:21.954656",
     "exception": false,
     "start_time": "2022-03-06T02:41:21.851654",
     "status": "completed"
    },
    "tags": []
   },
   "outputs": [
    {
     "name": "stdout",
     "output_type": "stream",
     "text": [
      "Ωl0 : -0.79 Γ\n"
     ]
    }
   ],
   "source": [
    "Ωl0 = centrex.utils.light.calculate_rabi_from_power_gaussian_beam(\n",
    "                        laser_power,\n",
    "                        obe_system.couplings[0]['main coupling'],\n",
    "                        σlaser,\n",
    "                        σlaser\n",
    "    ).real\n",
    "print(f\"Ωl0 : {Ωl0 / syspars.Γ:.2f} Γ\")"
   ]
  },
  {
   "cell_type": "code",
   "execution_count": 13,
   "id": "f29311e6-5f91-40cc-b852-150cb39f3072",
   "metadata": {
    "execution": {
     "iopub.execute_input": "2022-03-06T02:41:22.039669Z",
     "iopub.status.busy": "2022-03-06T02:41:22.038669Z",
     "iopub.status.idle": "2022-03-06T02:41:22.113671Z",
     "shell.execute_reply": "2022-03-06T02:41:22.113671Z"
    },
    "papermill": {
     "duration": 0.113742,
     "end_time": "2022-03-06T02:41:22.114671",
     "exception": false,
     "start_time": "2022-03-06T02:41:22.000929",
     "status": "completed"
    },
    "tags": []
   },
   "outputs": [],
   "source": [
    "odepars.Ωl0 = Ωl0\n",
    "odepars.ωphase = ωphase\n",
    "odepars.ωp = ωp"
   ]
  },
  {
   "cell_type": "code",
   "execution_count": 14,
   "id": "39446a36-7821-474c-8be2-cf0892f0d017",
   "metadata": {
    "execution": {
     "iopub.execute_input": "2022-03-06T02:41:22.176671Z",
     "iopub.status.busy": "2022-03-06T02:41:22.175672Z",
     "iopub.status.idle": "2022-03-06T02:41:28.090370Z",
     "shell.execute_reply": "2022-03-06T02:41:28.091369Z"
    },
    "papermill": {
     "duration": 5.946701,
     "end_time": "2022-03-06T02:41:28.091369",
     "exception": false,
     "start_time": "2022-03-06T02:41:22.144668",
     "status": "completed"
    },
    "tags": []
   },
   "outputs": [],
   "source": [
    "ρ = centrex.utils.generate_population_states(population_states.get_indices(obe_system.QN), len(obe_system.QN))\n",
    "t_array, results = centrex.lindblad.do_simulation_single(odepars, (0,50e-3/odepars.vz+10e-6), ρ)"
   ]
  },
  {
   "cell_type": "code",
   "execution_count": 15,
   "id": "c2022834-a208-480a-bce9-4649d182fa91",
   "metadata": {
    "execution": {
     "iopub.execute_input": "2022-03-06T02:41:28.164380Z",
     "iopub.status.busy": "2022-03-06T02:41:28.164380Z",
     "iopub.status.idle": "2022-03-06T02:41:28.550378Z",
     "shell.execute_reply": "2022-03-06T02:41:28.549378Z"
    },
    "papermill": {
     "duration": 0.419008,
     "end_time": "2022-03-06T02:41:28.550378",
     "exception": false,
     "start_time": "2022-03-06T02:41:28.131370",
     "status": "completed"
    },
    "tags": []
   },
   "outputs": [],
   "source": [
    "multipass = np.abs(odepars.get_parameter_evolution(t_array, \"Ωl\").real)"
   ]
  },
  {
   "cell_type": "code",
   "execution_count": 16,
   "id": "51d3bd7a-ad1b-46a3-a5e0-e10ee58fd9c6",
   "metadata": {
    "execution": {
     "iopub.execute_input": "2022-03-06T02:41:28.619379Z",
     "iopub.status.busy": "2022-03-06T02:41:28.618380Z",
     "iopub.status.idle": "2022-03-06T02:41:28.898388Z",
     "shell.execute_reply": "2022-03-06T02:41:28.899387Z"
    },
    "papermill": {
     "duration": 0.32201,
     "end_time": "2022-03-06T02:41:28.899387",
     "exception": false,
     "start_time": "2022-03-06T02:41:28.577377",
     "status": "completed"
    },
    "tags": []
   },
   "outputs": [
    {
     "data": {
      "image/png": "[encoded data removed]",
      "text/plain": [
       "<Figure size 720x432 with 1 Axes>"
      ]
     },
     "metadata": {
      "needs_background": "light"
     },
     "output_type": "display_data"
    }
   ],
   "source": [
    "fig, ax = plt.subplots(figsize = (10,6)) \n",
    "ax.plot(t_array*1e6, results.T, lw = 2);\n",
    "ax.plot(t_array*1e6, multipass/multipass.max()*0.8, 'k--', lw = 2,\n",
    "        label = 'multipass')\n",
    "ax.set_xlabel('time [μs]')\n",
    "ax.set_ylabel('population')\n",
    "ax.legend(fontsize = 14)\n",
    "ax.grid(True)"
   ]
  },
  {
   "cell_type": "code",
   "execution_count": 17,
   "id": "89232317-cb62-428d-b2a6-5b27d31cb99c",
   "metadata": {
    "execution": {
     "iopub.execute_input": "2022-03-06T02:41:28.962391Z",
     "iopub.status.busy": "2022-03-06T02:41:28.961393Z",
     "iopub.status.idle": "2022-03-06T02:41:29.056391Z",
     "shell.execute_reply": "2022-03-06T02:41:29.055387Z"
    },
    "papermill": {
     "duration": 0.129004,
     "end_time": "2022-03-06T02:41:29.056391",
     "exception": false,
     "start_time": "2022-03-06T02:41:28.927387",
     "status": "completed"
    },
    "tags": []
   },
   "outputs": [
    {
     "name": "stdout",
     "output_type": "stream",
     "text": [
      "|X, J = 1, F₁ = 1/2, F = 0, mF = 0, I₁ = 1/2, I₂ = 1/2, P = -, Ω = 0>\n",
      "|X, J = 1, F₁ = 3/2, F = 1, mF = -1, I₁ = 1/2, I₂ = 1/2, P = -, Ω = 0>\n",
      "|X, J = 1, F₁ = 3/2, F = 1, mF = 0, I₁ = 1/2, I₂ = 1/2, P = -, Ω = 0>\n",
      "|X, J = 1, F₁ = 3/2, F = 1, mF = 1, I₁ = 1/2, I₂ = 1/2, P = -, Ω = 0>\n",
      "|X, J = 3, F₁ = None, F = None, mF = None, I₁ = 1/2, I₂ = 1/2, P = -, Ω = 0>\n"
     ]
    }
   ],
   "source": [
    "for states in np.array(obe_system.QN)[results[:,-1] > 0.05]:\n",
    "    print(states.find_largest_component())"
   ]
  },
  {
   "cell_type": "code",
   "execution_count": 18,
   "id": "40e8f6c3-2370-4163-aaab-2b0be25a8e6d",
   "metadata": {
    "execution": {
     "iopub.execute_input": "2022-03-06T02:41:29.140391Z",
     "iopub.status.busy": "2022-03-06T02:41:29.140391Z",
     "iopub.status.idle": "2022-03-06T02:41:29.278400Z",
     "shell.execute_reply": "2022-03-06T02:41:29.278400Z"
    },
    "papermill": {
     "duration": 0.173012,
     "end_time": "2022-03-06T02:41:29.278400",
     "exception": false,
     "start_time": "2022-03-06T02:41:29.105388",
     "status": "completed"
    },
    "tags": []
   },
   "outputs": [
    {
     "data": {
      "text/plain": [
       "2.3167963302338923"
      ]
     },
     "execution_count": 18,
     "metadata": {},
     "output_type": "execute_result"
    }
   ],
   "source": [
    "np.trapz(results[exc.get_indices(obe_system.QN),:].sum(axis = 0), t_array)*syspars.Γ"
   ]
  },
  {
   "cell_type": "markdown",
   "id": "38d78351-bc19-4793-94db-8e2436d6cb14",
   "metadata": {
    "papermill": {
     "duration": 0.034,
     "end_time": "2022-03-06T02:41:29.343398",
     "exception": false,
     "start_time": "2022-03-06T02:41:29.309398",
     "status": "completed"
    },
    "tags": []
   },
   "source": [
    "## Detuning Scan"
   ]
  },
  {
   "cell_type": "code",
   "execution_count": 19,
   "id": "db3160c7-b51e-4cd3-8f8c-5dfeaffa8d31",
   "metadata": {
    "execution": {
     "iopub.execute_input": "2022-03-06T02:41:29.413400Z",
     "iopub.status.busy": "2022-03-06T02:41:29.412399Z",
     "iopub.status.idle": "2022-03-06T02:41:57.189526Z",
     "shell.execute_reply": "2022-03-06T02:41:57.190524Z"
    },
    "papermill": {
     "duration": 27.814126,
     "end_time": "2022-03-06T02:41:57.190524",
     "exception": false,
     "start_time": "2022-03-06T02:41:29.376398",
     "status": "completed"
    },
    "tags": []
   },
   "outputs": [
    {
     "name": "stdout",
     "output_type": "stream",
     "text": [
      "Wall time: 27.7 s\n"
     ]
    }
   ],
   "source": [
    "%%time\n",
    "\n",
    "odepars.Ωl0 = Ωl0\n",
    "odepars.ωphase = ωphase\n",
    "odepars.ωp = ωp\n",
    "\n",
    "tspan = (0,1000e-6)\n",
    "ρ = centrex.utils.generate_population_states(\n",
    "        centrex.states.QuantumSelector(J=1, F=[1,2], electronic = 'X').get_indices(obe_system.QN), \n",
    "        len(obe_system.QN)\n",
    "    )\n",
    "\n",
    "δl_scan = np.linspace(-5,5,101)*syspars.Γ\n",
    "\n",
    "parameters = [\"δl\"]\n",
    "values = [δl_scan]\n",
    "\n",
    "output_func = centrex.lindblad.setup_state_integral_calculation(\n",
    "                states = exc.get_indices(obe_system.QN, mode = \"julia\"),\n",
    "                nphotons = True\n",
    "            )\n",
    "\n",
    "cb = centrex.lindblad.setup_discrete_callback_terminate(odepars, \"vz*t >= 50e-3\")\n",
    "\n",
    "ens_prob = centrex.lindblad.setup_problem_parameter_scan(\n",
    "                        odepars, tspan, ρ, parameters, values, \n",
    "                        dimensions = 1,\n",
    "                        output_func = output_func,\n",
    "                        zipped = True\n",
    "            )\n",
    "\n",
    "centrex.lindblad.solve_problem_parameter_scan(ensemble_problem_name = ens_prob, saveat = 1e-7,\n",
    "                                             callback = cb)"
   ]
  },
  {
   "cell_type": "code",
   "execution_count": 20,
   "id": "817d03c6-c2e3-4f75-8bdd-fad4b3c694f1",
   "metadata": {
    "execution": {
     "iopub.execute_input": "2022-03-06T02:41:57.259529Z",
     "iopub.status.busy": "2022-03-06T02:41:57.258527Z",
     "iopub.status.idle": "2022-03-06T02:41:57.427525Z",
     "shell.execute_reply": "2022-03-06T02:41:57.427525Z"
    },
    "papermill": {
     "duration": 0.204999,
     "end_time": "2022-03-06T02:41:57.427525",
     "exception": false,
     "start_time": "2022-03-06T02:41:57.222526",
     "status": "completed"
    },
    "tags": []
   },
   "outputs": [
    {
     "data": {
      "image/png": "[encoded data removed]",
      "text/plain": [
       "<Figure size 576x360 with 1 Axes>"
      ]
     },
     "metadata": {
      "needs_background": "light"
     },
     "output_type": "display_data"
    }
   ],
   "source": [
    "results = centrex.lindblad.get_results_parameter_scan()\n",
    "\n",
    "fig, ax = plt.subplots(figsize = (8,5))\n",
    "ax.plot(δl_scan/syspars.Γ, results, '-')\n",
    "ax.grid(True)"
   ]
  },
  {
   "cell_type": "markdown",
   "id": "b6dcbe1d-3795-47c2-8019-a008c982afd3",
   "metadata": {
    "papermill": {
     "duration": 0.034002,
     "end_time": "2022-03-06T02:41:57.492539",
     "exception": false,
     "start_time": "2022-03-06T02:41:57.458537",
     "status": "completed"
    },
    "tags": []
   },
   "source": [
    "## Trajectory Scan"
   ]
  },
  {
   "cell_type": "code",
   "execution_count": 21,
   "id": "a124f5a7-7a18-41ed-bac2-8c21ef7f46fd",
   "metadata": {
    "execution": {
     "iopub.execute_input": "2022-03-06T02:41:57.560537Z",
     "iopub.status.busy": "2022-03-06T02:41:57.560537Z",
     "iopub.status.idle": "2022-03-06T02:41:59.780561Z",
     "shell.execute_reply": "2022-03-06T02:41:59.781562Z"
    },
    "papermill": {
     "duration": 2.259026,
     "end_time": "2022-03-06T02:41:59.781562",
     "exception": false,
     "start_time": "2022-03-06T02:41:57.522536",
     "status": "completed"
    },
    "tags": []
   },
   "outputs": [],
   "source": [
    "ntrajectories = 500\n",
    "\n",
    "n = int(1e7)\n",
    "vz = centrex.utils.generate_random_longitudinal_velocities(n, vcm, vcm_sigma)\n",
    "vx, vy = centrex.utils.generate_random_transverse_velocities(n, vperp_sigma)\n",
    "x0, y0 = centrex.utils.generate_random_coords_circle_2D(n, 0.0025)\n",
    "apertures = [(47e-3, 6.35e-3), (73e-3, 12.7e-3), (290e-3, 2.54e-3)]\n",
    "mask = np.ones(n, dtype = bool)\n",
    "for (location, diameter) in apertures:\n",
    "    t = location / vz\n",
    "    r = np.sqrt((x0+vx*t)**2 + (y0+vy*t)**2)\n",
    "    m = r < diameter/2\n",
    "    mask &= m\n",
    "    \n",
    "start_loc = 358e-3 - 0.03556/2 - 10e-3\n",
    "t = start_loc / vz\n",
    "x0, y0 = x0 + vx*t, y0 + vy*t\n",
    "\n",
    "x0 = x0[mask][:ntrajectories]\n",
    "y0 = y0[mask][:ntrajectories]\n",
    "vx = vx[mask][:ntrajectories]\n",
    "vy = vy[mask][:ntrajectories]\n",
    "vz = vz[mask][:ntrajectories]\n",
    "\n",
    "assert mask.sum() >= ntrajectories, \"not enough trajectories make it through apertures\"\n",
    "del t, mask\n",
    "\n",
    "δls = centrex.utils.detuning.velocity_to_detuning(vx, 1106e12, syspars.Γ)*syspars.Γ"
   ]
  },
  {
   "cell_type": "code",
   "execution_count": 22,
   "id": "ed2e89ae-b7e3-4645-af48-70a3fe13327a",
   "metadata": {
    "execution": {
     "iopub.execute_input": "2022-03-06T02:41:59.850562Z",
     "iopub.status.busy": "2022-03-06T02:41:59.850562Z",
     "iopub.status.idle": "2022-03-06T02:42:44.643321Z",
     "shell.execute_reply": "2022-03-06T02:42:44.644320Z"
    },
    "papermill": {
     "duration": 44.82976,
     "end_time": "2022-03-06T02:42:44.644320",
     "exception": false,
     "start_time": "2022-03-06T02:41:59.814560",
     "status": "completed"
    },
    "tags": []
   },
   "outputs": [],
   "source": [
    "odepars.Ωl0 = Ωl0\n",
    "odepars.ωphase = ωphase\n",
    "odepars.ωp = ωp\n",
    "\n",
    "tspan = (0,1000e-6)\n",
    "ρ = centrex.utils.generate_population_states(\n",
    "        centrex.states.QuantumSelector(J=1, F=[1,2], electronic = 'X').get_indices(obe_system.QN), \n",
    "        len(obe_system.QN)\n",
    "    )\n",
    "\n",
    "parameters = [\"vz\", \"δl\", \"y0\"]\n",
    "values = [vz, δls, y0]\n",
    "\n",
    "output_func = centrex.lindblad.setup_state_integral_calculation(\n",
    "                states = exc.get_indices(obe_system.QN, mode = \"julia\"),\n",
    "                nphotons = True\n",
    "            )\n",
    "\n",
    "cb = centrex.lindblad.setup_discrete_callback_terminate(odepars, \"vz*t >= 50e-3\")\n",
    "\n",
    "ens_prob = centrex.lindblad.setup_problem_parameter_scan(\n",
    "                        odepars, tspan, ρ, parameters, values, \n",
    "                        dimensions = 1,\n",
    "                        output_func = output_func,\n",
    "                        zipped = True\n",
    "            )\n",
    "\n",
    "centrex.lindblad.solve_problem_parameter_scan(ensemble_problem_name = ens_prob, saveat = 1e-7,\n",
    "                                             callback = cb)"
   ]
  },
  {
   "cell_type": "code",
   "execution_count": 23,
   "id": "29942c9f-5a7c-4c12-b72f-29ad3cb82fdc",
   "metadata": {
    "execution": {
     "iopub.execute_input": "2022-03-06T02:42:44.739325Z",
     "iopub.status.busy": "2022-03-06T02:42:44.739325Z",
     "iopub.status.idle": "2022-03-06T02:42:44.800322Z",
     "shell.execute_reply": "2022-03-06T02:42:44.800322Z"
    },
    "papermill": {
     "duration": 0.115001,
     "end_time": "2022-03-06T02:42:44.800322",
     "exception": false,
     "start_time": "2022-03-06T02:42:44.685321",
     "status": "completed"
    },
    "tags": []
   },
   "outputs": [],
   "source": [
    "results = centrex.lindblad.get_results_parameter_scan()"
   ]
  },
  {
   "cell_type": "code",
   "execution_count": 24,
   "id": "75347af4-d3a1-460a-badb-152170f68dbe",
   "metadata": {
    "execution": {
     "iopub.execute_input": "2022-03-06T02:42:44.868319Z",
     "iopub.status.busy": "2022-03-06T02:42:44.868319Z",
     "iopub.status.idle": "2022-03-06T02:42:44.937321Z",
     "shell.execute_reply": "2022-03-06T02:42:44.938321Z"
    },
    "papermill": {
     "duration": 0.105001,
     "end_time": "2022-03-06T02:42:44.938321",
     "exception": false,
     "start_time": "2022-03-06T02:42:44.833320",
     "status": "completed"
    },
    "tags": []
   },
   "outputs": [
    {
     "data": {
      "text/plain": [
       "2.4701232474355823"
      ]
     },
     "execution_count": 24,
     "metadata": {},
     "output_type": "execute_result"
    }
   ],
   "source": [
    "np.average(results)"
   ]
  },
  {
   "cell_type": "markdown",
   "id": "5ee62fd7-919a-40df-8c52-140906fb0a39",
   "metadata": {
    "papermill": {
     "duration": 0.033001,
     "end_time": "2022-03-06T02:42:45.003321",
     "exception": false,
     "start_time": "2022-03-06T02:42:44.970320",
     "status": "completed"
    },
    "tags": []
   },
   "source": [
    "## Detuning scan over trajectories for approximate power used in measurement"
   ]
  },
  {
   "cell_type": "code",
   "execution_count": 25,
   "id": "38eaf1fb-7795-477e-a0ae-c43652420275",
   "metadata": {
    "execution": {
     "iopub.execute_input": "2022-03-06T02:42:45.080323Z",
     "iopub.status.busy": "2022-03-06T02:42:45.080323Z",
     "iopub.status.idle": "2022-03-06T02:42:47.285337Z",
     "shell.execute_reply": "2022-03-06T02:42:47.286336Z"
    },
    "papermill": {
     "duration": 2.245017,
     "end_time": "2022-03-06T02:42:47.286336",
     "exception": false,
     "start_time": "2022-03-06T02:42:45.041319",
     "status": "completed"
    },
    "tags": []
   },
   "outputs": [],
   "source": [
    "ntrajectories = 100\n",
    "\n",
    "n = int(1e7)\n",
    "vz = centrex.utils.generate_random_longitudinal_velocities(n, vcm, vcm_sigma)\n",
    "vx, vy = centrex.utils.generate_random_transverse_velocities(n, vperp_sigma)\n",
    "x0, y0 = centrex.utils.generate_random_coords_circle_2D(n, 0.0025)\n",
    "apertures = [(47e-3, 6.35e-3), (73e-3, 12.7e-3), (290e-3, 2.54e-3)]\n",
    "mask = np.ones(n, dtype = bool)\n",
    "for (location, diameter) in apertures:\n",
    "    t = location / vz\n",
    "    r = np.sqrt((x0+vx*t)**2 + (y0+vy*t)**2)\n",
    "    m = r < diameter/2\n",
    "    mask &= m\n",
    "    \n",
    "start_loc = 358e-3 - 0.03556/2 - 10e-3\n",
    "t = start_loc / vz\n",
    "x0, y0 = x0 + vx*t, y0 + vy*t\n",
    "\n",
    "x0 = x0[mask][:ntrajectories]\n",
    "y0 = y0[mask][:ntrajectories]\n",
    "vx = vx[mask][:ntrajectories]\n",
    "vy = vy[mask][:ntrajectories]\n",
    "vz = vz[mask][:ntrajectories]\n",
    "\n",
    "assert mask.sum() >= ntrajectories, \"not enough trajectories make it through apertures\"\n",
    "del t, mask\n",
    "\n",
    "δls = centrex.utils.detuning.velocity_to_detuning(vx, 1106e12, syspars.Γ)*syspars.Γ"
   ]
  },
  {
   "cell_type": "code",
   "execution_count": 26,
   "id": "aa77c713-c05f-42bd-838a-e488ab436af8",
   "metadata": {
    "execution": {
     "iopub.execute_input": "2022-03-06T02:42:47.374336Z",
     "iopub.status.busy": "2022-03-06T02:42:47.374336Z",
     "iopub.status.idle": "2022-03-06T03:05:44.686742Z",
     "shell.execute_reply": "2022-03-06T03:05:44.684743Z"
    },
    "papermill": {
     "duration": 1377.353406,
     "end_time": "2022-03-06T03:05:44.686742",
     "exception": false,
     "start_time": "2022-03-06T02:42:47.333336",
     "status": "completed"
    },
    "tags": []
   },
   "outputs": [
    {
     "name": "stderr",
     "output_type": "stream",
     "text": [
      "\r",
      "  0%|                                                                                                             | 0/31 [00:00<?, ?it/s]"
     ]
    },
    {
     "name": "stderr",
     "output_type": "stream",
     "text": [
      "\r",
      "  3%|███▎                                                                                                 | 1/31 [01:21<40:31, 81.04s/it]"
     ]
    },
    {
     "name": "stderr",
     "output_type": "stream",
     "text": [
      "\r",
      "  6%|██████▌                                                                                              | 2/31 [02:37<37:48, 78.21s/it]"
     ]
    },
    {
     "name": "stderr",
     "output_type": "stream",
     "text": [
      "\r",
      " 10%|█████████▊                                                                                           | 3/31 [03:49<35:08, 75.32s/it]"
     ]
    },
    {
     "name": "stderr",
     "output_type": "stream",
     "text": [
      "\r",
      " 13%|█████████████                                                                                        | 4/31 [04:56<32:23, 72.00s/it]"
     ]
    },
    {
     "name": "stderr",
     "output_type": "stream",
     "text": [
      "\r",
      " 16%|████████████████▎                                                                                    | 5/31 [05:57<29:32, 68.18s/it]"
     ]
    },
    {
     "name": "stderr",
     "output_type": "stream",
     "text": [
      "\r",
      " 19%|███████████████████▌                                                                                 | 6/31 [06:55<26:57, 64.70s/it]"
     ]
    },
    {
     "name": "stderr",
     "output_type": "stream",
     "text": [
      "\r",
      " 23%|██████████████████████▊                                                                              | 7/31 [07:49<24:29, 61.24s/it]"
     ]
    },
    {
     "name": "stderr",
     "output_type": "stream",
     "text": [
      "\r",
      " 26%|██████████████████████████                                                                           | 8/31 [08:36<21:44, 56.73s/it]"
     ]
    },
    {
     "name": "stderr",
     "output_type": "stream",
     "text": [
      "\r",
      " 29%|█████████████████████████████▎                                                                       | 9/31 [09:18<19:08, 52.22s/it]"
     ]
    },
    {
     "name": "stderr",
     "output_type": "stream",
     "text": [
      "\r",
      " 32%|████████████████████████████████▎                                                                   | 10/31 [09:55<16:35, 47.42s/it]"
     ]
    },
    {
     "name": "stderr",
     "output_type": "stream",
     "text": [
      "\r",
      " 35%|███████████████████████████████████▍                                                                | 11/31 [10:27<14:15, 42.78s/it]"
     ]
    },
    {
     "name": "stderr",
     "output_type": "stream",
     "text": [
      "\r",
      " 39%|██████████████████████████████████████▋                                                             | 12/31 [10:54<11:59, 37.86s/it]"
     ]
    },
    {
     "name": "stderr",
     "output_type": "stream",
     "text": [
      "\r",
      " 42%|█████████████████████████████████████████▉                                                          | 13/31 [11:16<09:53, 32.95s/it]"
     ]
    },
    {
     "name": "stderr",
     "output_type": "stream",
     "text": [
      "\r",
      " 45%|█████████████████████████████████████████████▏                                                      | 14/31 [11:31<07:49, 27.59s/it]"
     ]
    },
    {
     "name": "stderr",
     "output_type": "stream",
     "text": [
      "\r",
      " 48%|████████████████████████████████████████████████▍                                                   | 15/31 [11:41<05:58, 22.39s/it]"
     ]
    },
    {
     "name": "stderr",
     "output_type": "stream",
     "text": [
      "\r",
      " 52%|███████████████████████████████████████████████████▌                                                | 16/31 [11:49<04:31, 18.07s/it]"
     ]
    },
    {
     "name": "stderr",
     "output_type": "stream",
     "text": [
      "\r",
      " 55%|██████████████████████████████████████████████████████▊                                             | 17/31 [11:59<03:37, 15.53s/it]"
     ]
    },
    {
     "name": "stderr",
     "output_type": "stream",
     "text": [
      "\r",
      " 58%|██████████████████████████████████████████████████████████                                          | 18/31 [12:13<03:15, 15.04s/it]"
     ]
    },
    {
     "name": "stderr",
     "output_type": "stream",
     "text": [
      "\r",
      " 61%|█████████████████████████████████████████████████████████████▎                                      | 19/31 [12:32<03:16, 16.40s/it]"
     ]
    },
    {
     "name": "stderr",
     "output_type": "stream",
     "text": [
      "\r",
      " 65%|████████████████████████████████████████████████████████████████▌                                   | 20/31 [12:57<03:26, 18.81s/it]"
     ]
    },
    {
     "name": "stderr",
     "output_type": "stream",
     "text": [
      "\r",
      " 68%|███████████████████████████████████████████████████████████████████▋                                | 21/31 [13:27<03:42, 22.26s/it]"
     ]
    },
    {
     "name": "stderr",
     "output_type": "stream",
     "text": [
      "\r",
      " 71%|██████████████████████████████████████████████████████████████████████▉                             | 22/31 [14:03<03:56, 26.24s/it]"
     ]
    },
    {
     "name": "stderr",
     "output_type": "stream",
     "text": [
      "\r",
      " 74%|██████████████████████████████████████████████████████████████████████████▏                         | 23/31 [14:43<04:04, 30.56s/it]"
     ]
    },
    {
     "name": "stderr",
     "output_type": "stream",
     "text": [
      "\r",
      " 77%|█████████████████████████████████████████████████████████████████████████████▍                      | 24/31 [15:30<04:08, 35.47s/it]"
     ]
    },
    {
     "name": "stderr",
     "output_type": "stream",
     "text": [
      "\r",
      " 81%|████████████████████████████████████████████████████████████████████████████████▋                   | 25/31 [16:20<03:57, 39.67s/it]"
     ]
    },
    {
     "name": "stderr",
     "output_type": "stream",
     "text": [
      "\r",
      " 84%|███████████████████████████████████████████████████████████████████████████████████▊                | 26/31 [17:14<03:40, 44.14s/it]"
     ]
    },
    {
     "name": "stderr",
     "output_type": "stream",
     "text": [
      "\r",
      " 87%|███████████████████████████████████████████████████████████████████████████████████████             | 27/31 [18:15<03:16, 49.01s/it]"
     ]
    },
    {
     "name": "stderr",
     "output_type": "stream",
     "text": [
      "\r",
      " 90%|██████████████████████████████████████████████████████████████████████████████████████████▎         | 28/31 [19:17<02:39, 53.20s/it]"
     ]
    },
    {
     "name": "stderr",
     "output_type": "stream",
     "text": [
      "\r",
      " 94%|█████████████████████████████████████████████████████████████████████████████████████████████▌      | 29/31 [20:28<01:57, 58.53s/it]"
     ]
    },
    {
     "name": "stderr",
     "output_type": "stream",
     "text": [
      "\r",
      " 97%|████████████████████████████████████████████████████████████████████████████████████████████████▊   | 30/31 [21:40<01:02, 62.35s/it]"
     ]
    },
    {
     "name": "stderr",
     "output_type": "stream",
     "text": [
      "\r",
      "100%|████████████████████████████████████████████████████████████████████████████████████████████████████| 31/31 [22:57<00:00, 66.71s/it]"
     ]
    },
    {
     "name": "stderr",
     "output_type": "stream",
     "text": [
      "\r",
      "100%|████████████████████████████████████████████████████████████████████████████████████████████████████| 31/31 [22:57<00:00, 44.42s/it]"
     ]
    },
    {
     "name": "stderr",
     "output_type": "stream",
     "text": [
      "\n"
     ]
    }
   ],
   "source": [
    "import copy\n",
    "\n",
    "odepars.Ωl0 = Ωl0\n",
    "odepars.ωphase = ωphase\n",
    "odepars.ωp = ωp\n",
    "\n",
    "tspan = (0,1000e-6)\n",
    "ρ = centrex.utils.generate_population_states(\n",
    "        population_states.get_indices(obe_system.QN), \n",
    "        len(obe_system.QN)\n",
    "    )\n",
    "\n",
    "parameters = [\"vz\", \"δl\", \"y0\"]\n",
    "values = [vz, δls, y0]\n",
    "\n",
    "output_func = centrex.lindblad.setup_state_integral_calculation(\n",
    "                states = exc.get_indices(obe_system.QN, mode = \"julia\"),\n",
    "                nphotons = True\n",
    "            )\n",
    "\n",
    "δl_scan = np.arange(*scan_range)*syspars.Γ\n",
    "\n",
    "results = []\n",
    "for δli in tqdm(δl_scan):\n",
    "    vals = copy.copy(values)\n",
    "    vals[1] = vals[1] + δli\n",
    "    cb = centrex.lindblad.setup_discrete_callback_terminate(odepars, \"vz*t >= 50e-3\")\n",
    "\n",
    "    ens_prob = centrex.lindblad.setup_problem_parameter_scan(\n",
    "                            odepars, tspan, ρ, parameters, vals, \n",
    "                            dimensions = 1,\n",
    "                            output_func = output_func,\n",
    "                            zipped = True\n",
    "                )\n",
    "\n",
    "    centrex.lindblad.solve_problem_parameter_scan(ensemble_problem_name = ens_prob, saveat = 1e-7,\n",
    "                                                 callback = cb)\n",
    "    res = centrex.lindblad.get_results_parameter_scan()\n",
    "    results.append(np.average(res))\n",
    "results = np.asarray(results)    \n",
    "odepars.Ωl0 = Ωl0"
   ]
  },
  {
   "cell_type": "code",
   "execution_count": 27,
   "id": "65a46fd6-e56a-4566-9b6c-e22ce7cc03bc",
   "metadata": {
    "execution": {
     "iopub.execute_input": "2022-03-06T03:05:44.769745Z",
     "iopub.status.busy": "2022-03-06T03:05:44.769745Z",
     "iopub.status.idle": "2022-03-06T03:05:44.939745Z",
     "shell.execute_reply": "2022-03-06T03:05:44.940744Z"
    },
    "papermill": {
     "duration": 0.216002,
     "end_time": "2022-03-06T03:05:44.940744",
     "exception": false,
     "start_time": "2022-03-06T03:05:44.724742",
     "status": "completed"
    },
    "tags": []
   },
   "outputs": [
    {
     "name": "stdout",
     "output_type": "stream",
     "text": [
      "maximum signal : 2.27\n"
     ]
    },
    {
     "data": {
      "image/png": "[encoded data removed]",
      "text/plain": [
       "<Figure size 576x360 with 1 Axes>"
      ]
     },
     "metadata": {
      "needs_background": "light"
     },
     "output_type": "display_data"
    }
   ],
   "source": [
    "fig, ax = plt.subplots(figsize = (8,5))\n",
    "ax.plot(δl_scan / (2*np.pi*1e6), results, '-', lw = 2)\n",
    "ax.plot(δl_scan / (2*np.pi*1e6), results, '.', ms = 13, color = 'C3')\n",
    "\n",
    "ax.set_xlabel(\"δ [MHz]\", fontsize = 14)\n",
    "ax.set_ylabel(\"# photons\", fontsize = 14)\n",
    "ax.grid(True)\n",
    "\n",
    "print(f\"maximum signal : {np.max(results):.2f}\")"
   ]
  },
  {
   "cell_type": "markdown",
   "id": "72eafcf4-c61e-4385-b7ea-b25b66dfdf03",
   "metadata": {
    "papermill": {
     "duration": 0.039,
     "end_time": "2022-03-06T03:05:45.027742",
     "exception": false,
     "start_time": "2022-03-06T03:05:44.988742",
     "status": "completed"
    },
    "tags": []
   },
   "source": [
    "### Save Trajectory Detuning Scan Data"
   ]
  },
  {
   "cell_type": "code",
   "execution_count": 28,
   "id": "e839a1b3-8e15-4162-991a-37f98acfccc9",
   "metadata": {
    "execution": {
     "iopub.execute_input": "2022-03-06T03:05:45.110746Z",
     "iopub.status.busy": "2022-03-06T03:05:45.110746Z",
     "iopub.status.idle": "2022-03-06T03:05:45.174746Z",
     "shell.execute_reply": "2022-03-06T03:05:45.175743Z"
    },
    "papermill": {
     "duration": 0.107001,
     "end_time": "2022-03-06T03:05:45.175743",
     "exception": false,
     "start_time": "2022-03-06T03:05:45.068742",
     "status": "completed"
    },
    "tags": []
   },
   "outputs": [],
   "source": [
    "import pickle\n",
    "\n",
    "with open(f\"{transition_name}.pkl\", \"wb\") as f:\n",
    "    pickle.dump(\n",
    "        dict(\n",
    "            δl_scan = δl_scan,\n",
    "            signal = results\n",
    "        ),\n",
    "        f\n",
    "    )"
   ]
  },
  {
   "cell_type": "markdown",
   "id": "0524b68f-0953-47ef-9ebb-9e4608052bb7",
   "metadata": {
    "papermill": {
     "duration": 0.039005,
     "end_time": "2022-03-06T03:05:45.253747",
     "exception": false,
     "start_time": "2022-03-06T03:05:45.214742",
     "status": "completed"
    },
    "tags": []
   },
   "source": [
    "### Fit to resonance\n",
    "#### Define Gaussian and Lorentzian functions"
   ]
  },
  {
   "cell_type": "code",
   "execution_count": 29,
   "id": "18b6bc2b-6557-47f1-8b51-bb9452ca3bad",
   "metadata": {
    "execution": {
     "iopub.execute_input": "2022-03-06T03:05:45.340745Z",
     "iopub.status.busy": "2022-03-06T03:05:45.340745Z",
     "iopub.status.idle": "2022-03-06T03:05:45.536743Z",
     "shell.execute_reply": "2022-03-06T03:05:45.537742Z"
    },
    "papermill": {
     "duration": 0.241,
     "end_time": "2022-03-06T03:05:45.537742",
     "exception": false,
     "start_time": "2022-03-06T03:05:45.296742",
     "status": "completed"
    },
    "tags": []
   },
   "outputs": [],
   "source": [
    "from scipy.optimize import curve_fit\n",
    "from scipy.special import voigt_profile\n",
    "\n",
    "def gaussian(x, a, μ, σ):\n",
    "    return a*np.exp(-(x-μ)**2 / (2*σ**2))\n",
    "\n",
    "def lorentzian( x, x0, a, gam ):\n",
    "    return a * gam**2 / ( gam**2 + ( x - x0 )**2)\n",
    "\n",
    "def voigt(x, a, μ, σ):\n",
    "    return a * voigt_profile(x - μ, σ, σ)"
   ]
  },
  {
   "cell_type": "code",
   "execution_count": 30,
   "id": "3b541b6c-a9ab-4b83-a094-56adaa32b6d1",
   "metadata": {
    "execution": {
     "iopub.execute_input": "2022-03-06T03:05:45.622779Z",
     "iopub.status.busy": "2022-03-06T03:05:45.622779Z",
     "iopub.status.idle": "2022-03-06T03:05:46.321780Z",
     "shell.execute_reply": "2022-03-06T03:05:46.320781Z"
    },
    "papermill": {
     "duration": 0.744001,
     "end_time": "2022-03-06T03:05:46.321780",
     "exception": false,
     "start_time": "2022-03-06T03:05:45.577779",
     "status": "completed"
    },
    "tags": []
   },
   "outputs": [],
   "source": [
    "import lmfit\n",
    "from lmfit.models import LorentzianModel, GaussianModel, VoigtModel"
   ]
  },
  {
   "cell_type": "markdown",
   "id": "091f6f6a-3410-40eb-b7d6-ee229eff10a8",
   "metadata": {
    "papermill": {
     "duration": 0.059002,
     "end_time": "2022-03-06T03:05:46.420780",
     "exception": false,
     "start_time": "2022-03-06T03:05:46.361778",
     "status": "completed"
    },
    "tags": []
   },
   "source": [
    "#### Fit Lorentzian to scan"
   ]
  },
  {
   "cell_type": "code",
   "execution_count": 31,
   "id": "c3dd75a8-ff6e-4dd2-881d-5e142ef5b4ad",
   "metadata": {
    "execution": {
     "iopub.execute_input": "2022-03-06T03:05:46.517779Z",
     "iopub.status.busy": "2022-03-06T03:05:46.516779Z",
     "iopub.status.idle": "2022-03-06T03:05:46.621780Z",
     "shell.execute_reply": "2022-03-06T03:05:46.621780Z"
    },
    "papermill": {
     "duration": 0.151002,
     "end_time": "2022-03-06T03:05:46.621780",
     "exception": false,
     "start_time": "2022-03-06T03:05:46.470778",
     "status": "completed"
    },
    "tags": []
   },
   "outputs": [
    {
     "name": "stdout",
     "output_type": "stream",
     "text": [
      "[[Model]]\n",
      "    Model(lorentzian)\n",
      "[[Fit Statistics]]\n",
      "    # fitting method   = leastsq\n",
      "    # function evals   = 17\n",
      "    # data points      = 31\n",
      "    # variables        = 3\n",
      "    chi-square         = 0.02838324\n",
      "    reduced chi-square = 0.00101369\n",
      "    Akaike info crit   = -210.874249\n",
      "    Bayesian info crit = -206.572288\n",
      "[[Variables]]\n",
      "    amplitude:  9.4631e+08 +/- 6437019.97 (0.68%) (init = 6.128204e+08)\n",
      "    center:     8119023.58 +/- 820890.923 (10.11%) (init = 9801769)\n",
      "    sigma:      1.3329e+08 +/- 1288110.24 (0.97%) (init = 8.821592e+07)\n",
      "    fwhm:       2.6657e+08 +/- 2576220.47 (0.97%) == '2.0000000*sigma'\n",
      "    height:     2.25993371 +/- 0.01411151 (0.62%) == '0.3183099*amplitude/max(1e-15, sigma)'\n",
      "[[Correlations]] (unreported correlations are < 0.100)\n",
      "    C(amplitude, sigma) = 0.766\n"
     ]
    }
   ],
   "source": [
    "model = LorentzianModel()\n",
    "params = model.guess(\n",
    "                    results, \n",
    "                    x = δl_scan\n",
    ")\n",
    "fit = model.fit(results, params, x = δl_scan)\n",
    "print(fit.fit_report())"
   ]
  },
  {
   "cell_type": "code",
   "execution_count": 32,
   "id": "aea2ff27-ba35-4041-97bc-66afb538dcaa",
   "metadata": {
    "execution": {
     "iopub.execute_input": "2022-03-06T03:05:46.716782Z",
     "iopub.status.busy": "2022-03-06T03:05:46.715780Z",
     "iopub.status.idle": "2022-03-06T03:05:46.921780Z",
     "shell.execute_reply": "2022-03-06T03:05:46.921780Z"
    },
    "papermill": {
     "duration": 0.260999,
     "end_time": "2022-03-06T03:05:46.922779",
     "exception": false,
     "start_time": "2022-03-06T03:05:46.661780",
     "status": "completed"
    },
    "tags": []
   },
   "outputs": [
    {
     "data": {
      "image/png": "[encoded data removed]",
      "text/plain": [
       "<Figure size 576x360 with 1 Axes>"
      ]
     },
     "metadata": {
      "needs_background": "light"
     },
     "output_type": "display_data"
    }
   ],
   "source": [
    "_x = np.linspace(δl_scan.min(), δl_scan.max(), 201)\n",
    "y = fit.eval(x = _x)\n",
    "\n",
    "fig, ax = plt.subplots(figsize = (8,5))\n",
    "ax.plot(δl_scan / (2*np.pi*1e6), results, '.', ms = 13, label = 'data')\n",
    "ax.plot(_x / (2*np.pi*1e6), y, label = 'fit', lw = 2)\n",
    "\n",
    "ax.set_xlabel(\"δ [MHz]\", fontsize = 14)\n",
    "ax.set_ylabel(\"# photons\", fontsize = 14)\n",
    "ax.legend(fontsize = 14)\n",
    "ax.set_title(\"Lorentzian Fit\", fontsize = 15)\n",
    "ax.grid(True)"
   ]
  },
  {
   "cell_type": "code",
   "execution_count": 33,
   "id": "7db03d55-3233-4aff-a947-1860b3cf301e",
   "metadata": {
    "execution": {
     "iopub.execute_input": "2022-03-06T03:05:47.015779Z",
     "iopub.status.busy": "2022-03-06T03:05:47.014778Z",
     "iopub.status.idle": "2022-03-06T03:05:47.316768Z",
     "shell.execute_reply": "2022-03-06T03:05:47.317768Z"
    },
    "papermill": {
     "duration": 0.350989,
     "end_time": "2022-03-06T03:05:47.317768",
     "exception": false,
     "start_time": "2022-03-06T03:05:46.966779",
     "status": "completed"
    },
    "tags": []
   },
   "outputs": [
    {
     "data": {
      "image/png": "[encoded data removed]",
      "text/plain": [
       "<Figure size 432x432 with 2 Axes>"
      ]
     },
     "metadata": {
      "needs_background": "light"
     },
     "output_type": "display_data"
    }
   ],
   "source": [
    "_ = fit.plot()"
   ]
  },
  {
   "cell_type": "markdown",
   "id": "de774ff7-7f22-4f5f-a1bf-b969780a21b8",
   "metadata": {
    "papermill": {
     "duration": 0.04529,
     "end_time": "2022-03-06T03:05:47.426059",
     "exception": false,
     "start_time": "2022-03-06T03:05:47.380769",
     "status": "completed"
    },
    "tags": []
   },
   "source": [
    "#### Fit Gaussian to scan"
   ]
  },
  {
   "cell_type": "code",
   "execution_count": 34,
   "id": "2406e400-d8a4-42a6-a169-6940ee1cdea8",
   "metadata": {
    "execution": {
     "iopub.execute_input": "2022-03-06T03:05:47.521057Z",
     "iopub.status.busy": "2022-03-06T03:05:47.520061Z",
     "iopub.status.idle": "2022-03-06T03:05:47.617060Z",
     "shell.execute_reply": "2022-03-06T03:05:47.618058Z"
    },
    "papermill": {
     "duration": 0.144001,
     "end_time": "2022-03-06T03:05:47.618058",
     "exception": false,
     "start_time": "2022-03-06T03:05:47.474057",
     "status": "completed"
    },
    "tags": []
   },
   "outputs": [
    {
     "name": "stdout",
     "output_type": "stream",
     "text": [
      "[[Model]]\n",
      "    Model(gaussian)\n",
      "[[Fit Statistics]]\n",
      "    # fitting method   = leastsq\n",
      "    # function evals   = 33\n",
      "    # data points      = 31\n",
      "    # variables        = 3\n",
      "    chi-square         = 0.67416485\n",
      "    reduced chi-square = 0.02407732\n",
      "    Akaike info crit   = -112.676302\n",
      "    Bayesian info crit = -108.374341\n",
      "[[Variables]]\n",
      "    amplitude:  7.0501e+08 +/- 18974725.6 (2.69%) (init = 4.902563e+08)\n",
      "    center:     7767850.18 +/- 4178416.18 (53.79%) (init = 9801769)\n",
      "    sigma:      1.3648e+08 +/- 4358428.64 (3.19%) (init = 8.821592e+07)\n",
      "    fwhm:       3.2139e+08 +/- 10263314.9 (3.19%) == '2.3548200*sigma'\n",
      "    height:     2.06075074 +/- 0.05475941 (2.66%) == '0.3989423*amplitude/max(1e-15, sigma)'\n",
      "[[Correlations]] (unreported correlations are < 0.100)\n",
      "    C(amplitude, sigma) = 0.604\n"
     ]
    }
   ],
   "source": [
    "model = GaussianModel()\n",
    "params = model.guess(\n",
    "                    results, \n",
    "                    x = δl_scan\n",
    ")\n",
    "fit = model.fit(results, params, x = δl_scan)\n",
    "print(fit.fit_report())"
   ]
  },
  {
   "cell_type": "code",
   "execution_count": 35,
   "id": "da38a3a8-2bc3-40b8-bc8e-a25b4bbae3e8",
   "metadata": {
    "execution": {
     "iopub.execute_input": "2022-03-06T03:05:47.727059Z",
     "iopub.status.busy": "2022-03-06T03:05:47.727059Z",
     "iopub.status.idle": "2022-03-06T03:05:47.920058Z",
     "shell.execute_reply": "2022-03-06T03:05:47.921061Z"
    },
    "papermill": {
     "duration": 0.250003,
     "end_time": "2022-03-06T03:05:47.921061",
     "exception": false,
     "start_time": "2022-03-06T03:05:47.671058",
     "status": "completed"
    },
    "tags": []
   },
   "outputs": [
    {
     "data": {
      "image/png": "[encoded data removed]",
      "text/plain": [
       "<Figure size 576x360 with 1 Axes>"
      ]
     },
     "metadata": {
      "needs_background": "light"
     },
     "output_type": "display_data"
    }
   ],
   "source": [
    "_x = np.linspace(δl_scan.min(), δl_scan.max(), 201)\n",
    "y = fit.eval(x = _x)\n",
    "\n",
    "fig, ax = plt.subplots(figsize = (8,5))\n",
    "ax.plot(δl_scan / (2*np.pi*1e6), results, '.', ms = 13, label = 'data')\n",
    "ax.plot(_x / (2*np.pi*1e6), y, label = 'fit', lw = 2)\n",
    "\n",
    "ax.set_xlabel(\"δ [MHz]\", fontsize = 14)\n",
    "ax.set_ylabel(\"# photons\", fontsize = 14)\n",
    "ax.legend(fontsize = 14)\n",
    "ax.set_title(\"Gaussian Fit\", fontsize = 15)\n",
    "ax.grid(True)"
   ]
  },
  {
   "cell_type": "code",
   "execution_count": 36,
   "id": "4e0bd614-03a0-4e0c-b644-72986d4026a4",
   "metadata": {
    "execution": {
     "iopub.execute_input": "2022-03-06T03:05:48.015061Z",
     "iopub.status.busy": "2022-03-06T03:05:48.015061Z",
     "iopub.status.idle": "2022-03-06T03:05:48.270058Z",
     "shell.execute_reply": "2022-03-06T03:05:48.269060Z"
    },
    "papermill": {
     "duration": 0.303,
     "end_time": "2022-03-06T03:05:48.270058",
     "exception": false,
     "start_time": "2022-03-06T03:05:47.967058",
     "status": "completed"
    },
    "tags": []
   },
   "outputs": [
    {
     "data": {
      "image/png": "[encoded data removed]",
      "text/plain": [
       "<Figure size 432x432 with 2 Axes>"
      ]
     },
     "metadata": {
      "needs_background": "light"
     },
     "output_type": "display_data"
    }
   ],
   "source": [
    "_ = fit.plot()"
   ]
  },
  {
   "cell_type": "markdown",
   "id": "2e23e87f-79c2-470a-aec8-f9918c7f2c91",
   "metadata": {
    "papermill": {
     "duration": 0.043,
     "end_time": "2022-03-06T03:05:48.357057",
     "exception": false,
     "start_time": "2022-03-06T03:05:48.314057",
     "status": "completed"
    },
    "tags": []
   },
   "source": [
    "#### Fit Voigt to scan"
   ]
  },
  {
   "cell_type": "code",
   "execution_count": 37,
   "id": "427de737-3ec5-4376-9fce-d4557da3a20d",
   "metadata": {
    "execution": {
     "iopub.execute_input": "2022-03-06T03:05:48.455059Z",
     "iopub.status.busy": "2022-03-06T03:05:48.455059Z",
     "iopub.status.idle": "2022-03-06T03:05:48.555061Z",
     "shell.execute_reply": "2022-03-06T03:05:48.554061Z"
    },
    "papermill": {
     "duration": 0.151,
     "end_time": "2022-03-06T03:05:48.555061",
     "exception": false,
     "start_time": "2022-03-06T03:05:48.404061",
     "status": "completed"
    },
    "tags": []
   },
   "outputs": [
    {
     "name": "stdout",
     "output_type": "stream",
     "text": [
      "[[Model]]\n",
      "    Model(voigt)\n",
      "[[Fit Statistics]]\n",
      "    # fitting method   = leastsq\n",
      "    # function evals   = 29\n",
      "    # data points      = 31\n",
      "    # variables        = 3\n",
      "    chi-square         = 0.27299437\n",
      "    reduced chi-square = 0.00974980\n",
      "    Akaike info crit   = -140.701031\n",
      "    Bayesian info crit = -136.399069\n",
      "[[Variables]]\n",
      "    amplitude:  8.3968e+08 +/- 15696141.2 (1.87%) (init = 7.353845e+08)\n",
      "    center:     8092288.19 +/- 2603522.71 (32.17%) (init = 9801769)\n",
      "    sigma:      81222753.4 +/- 1994798.21 (2.46%) (init = 5.734035e+07)\n",
      "    gamma:      81222753.4 +/- 1994798.21 (2.46%) == 'sigma'\n",
      "    fwhm:       2.9251e+08 +/- 4368454.04 (1.49%) == '1.0692*gamma+sqrt(0.8664*gamma**2+5.545083*sigma**2)'\n",
      "    height:     2.15763125 +/- 0.02944919 (1.36%) == '(amplitude/(max(1e-15, sigma*sqrt(2*pi))))*wofz((1j*gamma)/(max(1e-15, sigma*sqrt(2)))).real'\n",
      "[[Correlations]] (unreported correlations are < 0.100)\n",
      "    C(amplitude, sigma) = 0.686\n"
     ]
    }
   ],
   "source": [
    "model = VoigtModel()\n",
    "params = model.guess(\n",
    "                    results, \n",
    "                    x = δl_scan\n",
    ")\n",
    "fit = model.fit(results, params, x = δl_scan)\n",
    "print(fit.fit_report())"
   ]
  },
  {
   "cell_type": "code",
   "execution_count": 38,
   "id": "50403281-0ba4-4572-a029-2614a6647796",
   "metadata": {
    "execution": {
     "iopub.execute_input": "2022-03-06T03:05:48.656060Z",
     "iopub.status.busy": "2022-03-06T03:05:48.655059Z",
     "iopub.status.idle": "2022-03-06T03:05:48.866908Z",
     "shell.execute_reply": "2022-03-06T03:05:48.867908Z"
    },
    "papermill": {
     "duration": 0.268851,
     "end_time": "2022-03-06T03:05:48.867908",
     "exception": false,
     "start_time": "2022-03-06T03:05:48.599057",
     "status": "completed"
    },
    "tags": []
   },
   "outputs": [
    {
     "data": {
      "image/png": "[encoded data removed]",
      "text/plain": [
       "<Figure size 576x360 with 1 Axes>"
      ]
     },
     "metadata": {
      "needs_background": "light"
     },
     "output_type": "display_data"
    }
   ],
   "source": [
    "_x = np.linspace(δl_scan.min(), δl_scan.max(), 201)\n",
    "y = fit.eval(x = _x)\n",
    "\n",
    "fig, ax = plt.subplots(figsize = (8,5))\n",
    "ax.plot(δl_scan / (2*np.pi*1e6), results, '.', ms = 13, label = 'data')\n",
    "ax.plot(_x / (2*np.pi*1e6), y, label = 'fit', lw = 2)\n",
    "\n",
    "ax.set_xlabel(\"δ [MHz]\", fontsize = 14)\n",
    "ax.set_ylabel(\"# photons\", fontsize = 14)\n",
    "ax.legend(fontsize = 14)\n",
    "ax.set_title(\"Voigt Fit\", fontsize = 15)\n",
    "ax.grid(True)"
   ]
  },
  {
   "cell_type": "code",
   "execution_count": 39,
   "id": "f3cfa0ae-8cd4-44d3-a3b2-86b49bd91fd5",
   "metadata": {
    "execution": {
     "iopub.execute_input": "2022-03-06T03:05:48.964910Z",
     "iopub.status.busy": "2022-03-06T03:05:48.964910Z",
     "iopub.status.idle": "2022-03-06T03:05:49.264908Z",
     "shell.execute_reply": "2022-03-06T03:05:49.264908Z"
    },
    "papermill": {
     "duration": 0.350998,
     "end_time": "2022-03-06T03:05:49.265908",
     "exception": false,
     "start_time": "2022-03-06T03:05:48.914910",
     "status": "completed"
    },
    "tags": []
   },
   "outputs": [
    {
     "data": {
      "image/png": "[encoded data removed]",
      "text/plain": [
       "<Figure size 432x432 with 2 Axes>"
      ]
     },
     "metadata": {
      "needs_background": "light"
     },
     "output_type": "display_data"
    }
   ],
   "source": [
    "_ = fit.plot()"
   ]
  },
  {
   "cell_type": "code",
   "execution_count": null,
   "id": "7e576c63-d35f-4274-954b-1ed373a0be02",
   "metadata": {
    "papermill": {
     "duration": 0.051002,
     "end_time": "2022-03-06T03:05:49.367908",
     "exception": false,
     "start_time": "2022-03-06T03:05:49.316906",
     "status": "completed"
    },
    "tags": []
   },
   "outputs": [],
   "source": []
  }
 ],
 "metadata": {
  "kernelspec": {
   "display_name": "Python 3 (ipykernel)",
   "language": "python",
   "name": "python3"
  },
  "language_info": {
   "codemirror_mode": {
    "name": "ipython",
    "version": 3
   },
   "file_extension": ".py",
   "mimetype": "text/x-python",
   "name": "python",
   "nbconvert_exporter": "python",
   "pygments_lexer": "ipython3",
   "version": "3.8.12"
  },
  "papermill": {
   "default_parameters": {},
   "duration": 1614.863341,
   "end_time": "2022-03-06T03:05:50.396949",
   "environment_variables": {},
   "exception": null,
   "input_path": "multipass amherst template.ipynb",
   "output_path": "R(1) F1'=3_2 F'=2.ipynb",
   "parameters": {
    "excited_F": 2,
    "excited_F1": 1.5,
    "excited_J": 2,
    "system_Js": [
     1,
     3
    ],
    "transition_type": "R"
   },
   "start_time": "2022-03-06T02:38:55.533608",
   "version": "2.3.4"
  }
 },
 "nbformat": 4,
 "nbformat_minor": 5
}