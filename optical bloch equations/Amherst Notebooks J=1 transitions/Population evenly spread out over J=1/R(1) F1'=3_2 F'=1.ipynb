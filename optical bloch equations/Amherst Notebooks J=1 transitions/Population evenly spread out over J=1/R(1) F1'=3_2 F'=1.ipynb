{
 "cells": [
  {
   "cell_type": "code",
   "execution_count": 1,
   "id": "7d8a7537-0017-470b-8014-10fee27536eb",
   "metadata": {
    "execution": {
     "iopub.execute_input": "2022-03-06T02:15:56.818176Z",
     "iopub.status.busy": "2022-03-06T02:15:56.818176Z",
     "iopub.status.idle": "2022-03-06T02:16:01.717374Z",
     "shell.execute_reply": "2022-03-06T02:16:01.718377Z"
    },
    "papermill": {
     "duration": 4.933203,
     "end_time": "2022-03-06T02:16:01.718377",
     "exception": false,
     "start_time": "2022-03-06T02:15:56.785174",
     "status": "completed"
    },
    "tags": []
   },
   "outputs": [],
   "source": [
    "%load_ext autoreload\n",
    "%autoreload 2\n",
    "\n",
    "import numpy as np\n",
    "import sympy as smp\n",
    "from tqdm import tqdm\n",
    "from sympy import Symbol, symbols\n",
    "import centrex_TlF as centrex\n",
    "import matplotlib.pyplot as plt\n",
    "from julia import Main"
   ]
  },
  {
   "cell_type": "markdown",
   "id": "6b24d705-f2c7-4949-826b-60484c6990f5",
   "metadata": {
    "papermill": {
     "duration": 0.025001,
     "end_time": "2022-03-06T02:16:01.772376",
     "exception": false,
     "start_time": "2022-03-06T02:16:01.747375",
     "status": "completed"
    },
    "tags": []
   },
   "source": [
    "### Papermill parameters"
   ]
  },
  {
   "cell_type": "code",
   "execution_count": 2,
   "id": "9788a2c1-095c-4d35-8c1b-a0548a74c8d2",
   "metadata": {
    "execution": {
     "iopub.execute_input": "2022-03-06T02:16:01.838373Z",
     "iopub.status.busy": "2022-03-06T02:16:01.838373Z",
     "iopub.status.idle": "2022-03-06T02:16:01.907375Z",
     "shell.execute_reply": "2022-03-06T02:16:01.906376Z"
    },
    "papermill": {
     "duration": 0.107,
     "end_time": "2022-03-06T02:16:01.907375",
     "exception": false,
     "start_time": "2022-03-06T02:16:01.800375",
     "status": "completed"
    },
    "tags": [
     "parameters"
    ]
   },
   "outputs": [],
   "source": [
    "Γ = 2*np.pi*1.56e6\n",
    "\n",
    "transition_type = \"R\"\n",
    "ground_J = 1\n",
    "excited_F = 2\n",
    "excited_F1 = 3/2\n",
    "system_J = [1,3]\n",
    "\n",
    "laser_power = 23.8e-3 # power in W\n",
    "σlaser = 0.000914\n",
    "npasses = 9\n",
    "multipass_offset = 0.01\n",
    "distance_between_passes = 0.03556/npasses\n",
    "power_loss_per_pass = 20.2/23.8\n",
    "\n",
    "vcm = 150\n",
    "vcm_sigma = 30\n",
    "vperp_sigma = 38\n",
    "\n",
    "ωp = 0.65*Γ\n",
    "\n",
    "β = 3.8\n",
    "ωphase = 0.0\n",
    "\n",
    "scan_range = [-30,31,2]\n",
    "\n",
    "nprocs = 7"
   ]
  },
  {
   "cell_type": "code",
   "execution_count": 3,
   "id": "c2c5fa5d",
   "metadata": {
    "execution": {
     "iopub.execute_input": "2022-03-06T02:16:01.959375Z",
     "iopub.status.busy": "2022-03-06T02:16:01.959375Z",
     "iopub.status.idle": "2022-03-06T02:16:02.030375Z",
     "shell.execute_reply": "2022-03-06T02:16:02.031374Z"
    },
    "papermill": {
     "duration": 0.101001,
     "end_time": "2022-03-06T02:16:02.031374",
     "exception": false,
     "start_time": "2022-03-06T02:16:01.930373",
     "status": "completed"
    },
    "tags": [
     "injected-parameters"
    ]
   },
   "outputs": [],
   "source": [
    "# Parameters\n",
    "transition_type = \"R\"\n",
    "excited_J = 2\n",
    "excited_F = 1\n",
    "excited_F1 = 1.5\n",
    "system_Js = [1, 3]\n"
   ]
  },
  {
   "cell_type": "code",
   "execution_count": 4,
   "id": "c21c06f6-c1af-496a-b304-7469b9ba8a17",
   "metadata": {
    "execution": {
     "iopub.execute_input": "2022-03-06T02:16:02.082374Z",
     "iopub.status.busy": "2022-03-06T02:16:02.081374Z",
     "iopub.status.idle": "2022-03-06T02:16:02.718045Z",
     "shell.execute_reply": "2022-03-06T02:16:02.719045Z"
    },
    "papermill": {
     "duration": 0.663668,
     "end_time": "2022-03-06T02:16:02.719045",
     "exception": false,
     "start_time": "2022-03-06T02:16:02.055377",
     "status": "completed"
    },
    "tags": []
   },
   "outputs": [],
   "source": [
    "trans = centrex.transitions.LaserTransition(\n",
    "    f\"{transition_type}{ground_J}\",\n",
    "    F1 = excited_F1,\n",
    "    F = excited_F\n",
    ")\n",
    "population_J = trans.ground_selector.J"
   ]
  },
  {
   "cell_type": "code",
   "execution_count": 5,
   "id": "a8bac859-a1d8-41cf-87c1-45cb8e44710d",
   "metadata": {
    "execution": {
     "iopub.execute_input": "2022-03-06T02:16:02.782045Z",
     "iopub.status.busy": "2022-03-06T02:16:02.782045Z",
     "iopub.status.idle": "2022-03-06T02:16:02.844561Z",
     "shell.execute_reply": "2022-03-06T02:16:02.845565Z"
    },
    "papermill": {
     "duration": 0.093519,
     "end_time": "2022-03-06T02:16:02.845565",
     "exception": false,
     "start_time": "2022-03-06T02:16:02.752046",
     "status": "completed"
    },
    "tags": []
   },
   "outputs": [
    {
     "name": "stdout",
     "output_type": "stream",
     "text": [
      "excited state : QuantumSelector(J=2, F1=1.5, F=1, mF=None, electronic='B', P=1, Ω=None)\n",
      "population in states : QuantumSelector(J=1, F1=None, F=None, mF=None, electronic='X', P=None, Ω=None)\n"
     ]
    }
   ],
   "source": [
    "excited_state = centrex.states.QuantumSelector(\n",
    "                    J=excited_J, F=excited_F, F1=excited_F1, \n",
    "                    electronic = 'B', P = trans.excited_selector.P\n",
    ")\n",
    "population_states = centrex.states.QuantumSelector(J=population_J, electronic = 'X')\n",
    "\n",
    "print(f\"excited state : {excited_state}\")\n",
    "print(f\"population in states : {population_states}\")"
   ]
  },
  {
   "cell_type": "markdown",
   "id": "21d17f10-4029-4df6-842f-0e7c76366a7c",
   "metadata": {
    "papermill": {
     "duration": 0.025004,
     "end_time": "2022-03-06T02:16:02.896562",
     "exception": false,
     "start_time": "2022-03-06T02:16:02.871558",
     "status": "completed"
    },
    "tags": []
   },
   "source": [
    "# Initial setup\n",
    "## Involved states"
   ]
  },
  {
   "cell_type": "code",
   "execution_count": 6,
   "id": "8a6852be-2045-4f4d-b899-c2717f66efa9",
   "metadata": {
    "execution": {
     "iopub.execute_input": "2022-03-06T02:16:02.954562Z",
     "iopub.status.busy": "2022-03-06T02:16:02.953562Z",
     "iopub.status.idle": "2022-03-06T02:16:03.017570Z",
     "shell.execute_reply": "2022-03-06T02:16:03.018571Z"
    },
    "papermill": {
     "duration": 0.098011,
     "end_time": "2022-03-06T02:16:03.018571",
     "exception": false,
     "start_time": "2022-03-06T02:16:02.920560",
     "status": "completed"
    },
    "tags": []
   },
   "outputs": [],
   "source": [
    "gnd = centrex.states.QuantumSelector(J=system_J, electronic = 'X')\n",
    "exc = excited_state\n",
    "\n",
    "gnd_laser = centrex.states.QuantumSelector(J=trans.ground_selector.J, electronic = 'X')\n",
    "exc_laser = excited_state"
   ]
  },
  {
   "cell_type": "code",
   "execution_count": 7,
   "id": "7f40b6a0-2e4a-489a-892c-84cf72f711c0",
   "metadata": {
    "execution": {
     "iopub.execute_input": "2022-03-06T02:16:03.077572Z",
     "iopub.status.busy": "2022-03-06T02:16:03.077572Z",
     "iopub.status.idle": "2022-03-06T02:16:03.142577Z",
     "shell.execute_reply": "2022-03-06T02:16:03.143578Z"
    },
    "papermill": {
     "duration": 0.100011,
     "end_time": "2022-03-06T02:16:03.143578",
     "exception": false,
     "start_time": "2022-03-06T02:16:03.043567",
     "status": "completed"
    },
    "tags": []
   },
   "outputs": [],
   "source": [
    "syspars = centrex.states.SystemParameters(\n",
    "    nprocs  = nprocs,\n",
    "    Γ       = Γ,\n",
    "    X  = gnd,\n",
    "    B = [exc]\n",
    ")"
   ]
  },
  {
   "cell_type": "markdown",
   "id": "5783d09d-767e-4901-b328-5a3d8529c562",
   "metadata": {
    "papermill": {
     "duration": 0.022,
     "end_time": "2022-03-06T02:16:03.189573",
     "exception": false,
     "start_time": "2022-03-06T02:16:03.167573",
     "status": "completed"
    },
    "tags": []
   },
   "source": [
    "## Parameters"
   ]
  },
  {
   "cell_type": "code",
   "execution_count": 8,
   "id": "afce7fb3-65f2-4ace-b238-b74f88ff4659",
   "metadata": {
    "execution": {
     "iopub.execute_input": "2022-03-06T02:16:03.249576Z",
     "iopub.status.busy": "2022-03-06T02:16:03.248577Z",
     "iopub.status.idle": "2022-03-06T02:16:03.347584Z",
     "shell.execute_reply": "2022-03-06T02:16:03.348586Z"
    },
    "papermill": {
     "duration": 0.137013,
     "end_time": "2022-03-06T02:16:03.348586",
     "exception": false,
     "start_time": "2022-03-06T02:16:03.211573",
     "status": "completed"
    },
    "tags": []
   },
   "outputs": [],
   "source": [
    "odepars = centrex.lindblad.odeParameters(\n",
    "    Ωl = \"Ωl0 * phase_modulation(t, β, ωphase) * multipass_2d_intensity(vz*t, y0+vy*t, ampl, xlocs, ylocs, σzlaser, σylaser)\",\n",
    "    Ωl0     = 1*syspars.Γ,    # Rabi frequency of the laser [rad/s]\n",
    "    δl      = 0.0,              # detuning of the laser [rad/s]\n",
    "    \n",
    "    # laser beam properties\n",
    "    σzlaser = σlaser * np.sqrt(2),\n",
    "    σylaser = σlaser * np.sqrt(2),\n",
    "    \n",
    "    # laser multipass\n",
    "    ampl = [np.sqrt(power_loss_per_pass**n) for n in range(npasses)],\n",
    "    xlocs = [(n-1)*distance_between_passes + multipass_offset for n in centrex.utils.light.multipass_prism_order(npasses)],\n",
    "    ylocs = npasses*[0.0],\n",
    "    \n",
    "    # laser phase modulation\n",
    "    ωphase = ωphase,       # laser phase modulation frequency [rad/s]\n",
    "    β      = β,             # laser phase modulation depth [rad]\n",
    "\n",
    "    # laser polarization switching\n",
    "    ωp = ωp,           # polarization switching frequency [rad/s]\n",
    "    φp = 0.0,                 # polarization switching phase [rad]\n",
    "    Pl  = \"sin(ωp*t + φp)\",\n",
    "    Plz = \"Pl>0\",\n",
    "    Plx = \"Pl<=0\",\n",
    "    Ply = 0.0,\n",
    "    \n",
    "    # molecules\n",
    "    y0 = 0.,                   # molecule start y position [m]\n",
    "    vz = 150.,                 # longitudinal molecular velocity [m/s]\n",
    "    vy = 0.,                   # molecule vy [m/s]\n",
    ")\n"
   ]
  },
  {
   "cell_type": "markdown",
   "id": "94aff443-8f03-4464-b85e-cea4b4407fd1",
   "metadata": {
    "papermill": {
     "duration": 0.025012,
     "end_time": "2022-03-06T02:16:03.401596",
     "exception": false,
     "start_time": "2022-03-06T02:16:03.376584",
     "status": "completed"
    },
    "tags": []
   },
   "source": [
    "## Transitions"
   ]
  },
  {
   "cell_type": "code",
   "execution_count": 9,
   "id": "8ab6c2cd-69a9-43bc-b367-70604948ee8e",
   "metadata": {
    "execution": {
     "iopub.execute_input": "2022-03-06T02:16:03.459595Z",
     "iopub.status.busy": "2022-03-06T02:16:03.459595Z",
     "iopub.status.idle": "2022-03-06T02:16:03.518595Z",
     "shell.execute_reply": "2022-03-06T02:16:03.519595Z"
    },
    "papermill": {
     "duration": 0.09,
     "end_time": "2022-03-06T02:16:03.519595",
     "exception": false,
     "start_time": "2022-03-06T02:16:03.429595",
     "status": "completed"
    },
    "tags": []
   },
   "outputs": [],
   "source": [
    "transitions = [\n",
    "    centrex.couplings.TransitionSelector(\n",
    "        ground = 1*centrex.states.generate_coupled_states_ground_X(gnd_laser),\n",
    "        excited = 1*centrex.states.generate_coupled_states_excited_B(exc_laser),\n",
    "        polarizations        = [[0,0,1],[1,0,0],[0,1,0]],\n",
    "        polarization_symbols = symbols(\"Plz     Plx     Ply\"),\n",
    "        Ω = smp.Symbol('Ωl', complex = True),\n",
    "        δ = smp.Symbol('δl'),\n",
    "        description = \"laser transition\",        \n",
    "    ),\n",
    "]"
   ]
  },
  {
   "cell_type": "code",
   "execution_count": 10,
   "id": "8830dc74-5aef-4786-b0b6-d086c03b86a7",
   "metadata": {
    "execution": {
     "iopub.execute_input": "2022-03-06T02:16:03.588594Z",
     "iopub.status.busy": "2022-03-06T02:16:03.587595Z",
     "iopub.status.idle": "2022-03-06T02:16:03.663595Z",
     "shell.execute_reply": "2022-03-06T02:16:03.662596Z"
    },
    "papermill": {
     "duration": 0.103999,
     "end_time": "2022-03-06T02:16:03.663595",
     "exception": false,
     "start_time": "2022-03-06T02:16:03.559596",
     "status": "completed"
    },
    "tags": []
   },
   "outputs": [
    {
     "data": {
      "text/plain": [
       "\"R(1) F1'=3_2 F'=1\""
      ]
     },
     "execution_count": 10,
     "metadata": {},
     "output_type": "execute_result"
    }
   ],
   "source": [
    "transition_name = centrex.transitions.identify_transition(\n",
    "    transitions[0].ground[0],\n",
    "    transitions[0].excited[0]\n",
    ")\n",
    "transition_name = transition_name.replace(\",\",\"\").replace(\"/\",\"_\")\n",
    "transition_name"
   ]
  },
  {
   "cell_type": "markdown",
   "id": "e6bed866-24bc-4cbb-9664-022df1a48188",
   "metadata": {
    "papermill": {
     "duration": 0.023004,
     "end_time": "2022-03-06T02:16:03.710602",
     "exception": false,
     "start_time": "2022-03-06T02:16:03.687598",
     "status": "completed"
    },
    "tags": []
   },
   "source": [
    "## Generate System"
   ]
  },
  {
   "cell_type": "code",
   "execution_count": 11,
   "id": "4ed1375f-f64b-45c0-8ca8-f98491e8c8f0",
   "metadata": {
    "execution": {
     "iopub.execute_input": "2022-03-06T02:16:03.760600Z",
     "iopub.status.busy": "2022-03-06T02:16:03.759600Z",
     "iopub.status.idle": "2022-03-06T02:17:32.080671Z",
     "shell.execute_reply": "2022-03-06T02:17:32.081670Z"
    },
    "papermill": {
     "duration": 88.348068,
     "end_time": "2022-03-06T02:17:32.081670",
     "exception": false,
     "start_time": "2022-03-06T02:16:03.733602",
     "status": "completed"
    },
    "tags": []
   },
   "outputs": [
    {
     "data": {
      "text/html": [
       "<pre style=\"white-space:pre;overflow-x:auto;line-height:normal;font-family:Menlo,'DejaVu Sans Mono',consolas,'Courier New',monospace\"><span style=\"color: #7fbfbf; text-decoration-color: #7fbfbf\">[20:16:03] </span><span style=\"color: #000080; text-decoration-color: #000080\">INFO    </span> generate_OBE_system: <span style=\"color: #008080; text-decoration-color: #008080; font-weight: bold\">1</span>/<span style=\"color: #008080; text-decoration-color: #008080; font-weight: bold\">6</span> -&gt; Generating the reduced      <a href=\"file://C:\\Users\\ogras\\anaconda3\\lib\\site-packages\\centrex_tlf-0.2-py3.8.egg\\centrex_TlF\\lindblad\\utils_setup.py\"><span style=\"color: #7f7f7f; text-decoration-color: #7f7f7f\">utils_setup.py</span></a><span style=\"color: #7f7f7f; text-decoration-color: #7f7f7f\">:</span><a href=\"file://C:\\Users\\ogras\\anaconda3\\lib\\site-packages\\centrex_tlf-0.2-py3.8.egg\\centrex_TlF\\lindblad\\utils_setup.py#88\"><span style=\"color: #7f7f7f; text-decoration-color: #7f7f7f\">88</span></a>\n",
       "                    Hamiltonian                                                              \n",
       "</pre>\n"
      ],
      "text/plain": [
       "\u001b[2;36m[20:16:03]\u001b[0m\u001b[2;36m \u001b[0m\u001b[34mINFO    \u001b[0m generate_OBE_system: \u001b[1;36m1\u001b[0m/\u001b[1;36m6\u001b[0m -> Generating the reduced      \u001b]8;id=9919;file://C:\\Users\\ogras\\anaconda3\\lib\\site-packages\\centrex_tlf-0.2-py3.8.egg\\centrex_TlF\\lindblad\\utils_setup.py\u001b\\\u001b[2mutils_setup.py\u001b[0m\u001b]8;;\u001b\\\u001b[2m:\u001b[0m\u001b]8;id=606678;file://C:\\Users\\ogras\\anaconda3\\lib\\site-packages\\centrex_tlf-0.2-py3.8.egg\\centrex_TlF\\lindblad\\utils_setup.py#88\u001b\\\u001b[2m88\u001b[0m\u001b]8;;\u001b\\\n",
       "                    Hamiltonian                                                              \n"
      ]
     },
     "metadata": {},
     "output_type": "display_data"
    },
    {
     "data": {
      "text/html": [
       "<pre style=\"white-space:pre;overflow-x:auto;line-height:normal;font-family:Menlo,'DejaVu Sans Mono',consolas,'Courier New',monospace\"><span style=\"color: #7fbfbf; text-decoration-color: #7fbfbf\">[20:16:12] </span><span style=\"color: #000080; text-decoration-color: #000080\">INFO    </span> generate_OBE_system: <span style=\"color: #008080; text-decoration-color: #008080; font-weight: bold\">2</span>/<span style=\"color: #008080; text-decoration-color: #008080; font-weight: bold\">6</span> -&gt; Generating the couplings   <a href=\"file://C:\\Users\\ogras\\anaconda3\\lib\\site-packages\\centrex_tlf-0.2-py3.8.egg\\centrex_TlF\\lindblad\\utils_setup.py\"><span style=\"color: #7f7f7f; text-decoration-color: #7f7f7f\">utils_setup.py</span></a><span style=\"color: #7f7f7f; text-decoration-color: #7f7f7f\">:</span><a href=\"file://C:\\Users\\ogras\\anaconda3\\lib\\site-packages\\centrex_tlf-0.2-py3.8.egg\\centrex_TlF\\lindblad\\utils_setup.py#103\"><span style=\"color: #7f7f7f; text-decoration-color: #7f7f7f\">103</span></a>\n",
       "                    corresponding to the transitions                                         \n",
       "</pre>\n"
      ],
      "text/plain": [
       "\u001b[2;36m[20:16:12]\u001b[0m\u001b[2;36m \u001b[0m\u001b[34mINFO    \u001b[0m generate_OBE_system: \u001b[1;36m2\u001b[0m/\u001b[1;36m6\u001b[0m -> Generating the couplings   \u001b]8;id=66799;file://C:\\Users\\ogras\\anaconda3\\lib\\site-packages\\centrex_tlf-0.2-py3.8.egg\\centrex_TlF\\lindblad\\utils_setup.py\u001b\\\u001b[2mutils_setup.py\u001b[0m\u001b]8;;\u001b\\\u001b[2m:\u001b[0m\u001b]8;id=737954;file://C:\\Users\\ogras\\anaconda3\\lib\\site-packages\\centrex_tlf-0.2-py3.8.egg\\centrex_TlF\\lindblad\\utils_setup.py#103\u001b\\\u001b[2m103\u001b[0m\u001b]8;;\u001b\\\n",
       "                    corresponding to the transitions                                         \n"
      ]
     },
     "metadata": {},
     "output_type": "display_data"
    },
    {
     "data": {
      "text/html": [
       "<pre style=\"white-space:pre;overflow-x:auto;line-height:normal;font-family:Menlo,'DejaVu Sans Mono',consolas,'Courier New',monospace\"><span style=\"color: #7fbfbf; text-decoration-color: #7fbfbf\">[20:16:34] </span><span style=\"color: #000080; text-decoration-color: #000080\">INFO    </span> generate_OBE_system: <span style=\"color: #008080; text-decoration-color: #008080; font-weight: bold\">3</span>/<span style=\"color: #008080; text-decoration-color: #008080; font-weight: bold\">6</span> -&gt; Generating the symbolic    <a href=\"file://C:\\Users\\ogras\\anaconda3\\lib\\site-packages\\centrex_tlf-0.2-py3.8.egg\\centrex_TlF\\lindblad\\utils_setup.py\"><span style=\"color: #7f7f7f; text-decoration-color: #7f7f7f\">utils_setup.py</span></a><span style=\"color: #7f7f7f; text-decoration-color: #7f7f7f\">:</span><a href=\"file://C:\\Users\\ogras\\anaconda3\\lib\\site-packages\\centrex_tlf-0.2-py3.8.egg\\centrex_TlF\\lindblad\\utils_setup.py#138\"><span style=\"color: #7f7f7f; text-decoration-color: #7f7f7f\">138</span></a>\n",
       "                    Hamiltonian                                                              \n",
       "</pre>\n"
      ],
      "text/plain": [
       "\u001b[2;36m[20:16:34]\u001b[0m\u001b[2;36m \u001b[0m\u001b[34mINFO    \u001b[0m generate_OBE_system: \u001b[1;36m3\u001b[0m/\u001b[1;36m6\u001b[0m -> Generating the symbolic    \u001b]8;id=153583;file://C:\\Users\\ogras\\anaconda3\\lib\\site-packages\\centrex_tlf-0.2-py3.8.egg\\centrex_TlF\\lindblad\\utils_setup.py\u001b\\\u001b[2mutils_setup.py\u001b[0m\u001b]8;;\u001b\\\u001b[2m:\u001b[0m\u001b]8;id=461534;file://C:\\Users\\ogras\\anaconda3\\lib\\site-packages\\centrex_tlf-0.2-py3.8.egg\\centrex_TlF\\lindblad\\utils_setup.py#138\u001b\\\u001b[2m138\u001b[0m\u001b]8;;\u001b\\\n",
       "                    Hamiltonian                                                              \n"
      ]
     },
     "metadata": {},
     "output_type": "display_data"
    },
    {
     "data": {
      "text/html": [
       "<pre style=\"white-space:pre;overflow-x:auto;line-height:normal;font-family:Menlo,'DejaVu Sans Mono',consolas,'Courier New',monospace\"><span style=\"color: #7fbfbf; text-decoration-color: #7fbfbf\">[20:16:49] </span><span style=\"color: #000080; text-decoration-color: #000080\">INFO    </span> generate_OBE_system: <span style=\"color: #008080; text-decoration-color: #008080; font-weight: bold\">4</span>/<span style=\"color: #008080; text-decoration-color: #008080; font-weight: bold\">6</span> -&gt; Generating the collapse    <a href=\"file://C:\\Users\\ogras\\anaconda3\\lib\\site-packages\\centrex_tlf-0.2-py3.8.egg\\centrex_TlF\\lindblad\\utils_setup.py\"><span style=\"color: #7f7f7f; text-decoration-color: #7f7f7f\">utils_setup.py</span></a><span style=\"color: #7f7f7f; text-decoration-color: #7f7f7f\">:</span><a href=\"file://C:\\Users\\ogras\\anaconda3\\lib\\site-packages\\centrex_tlf-0.2-py3.8.egg\\centrex_TlF\\lindblad\\utils_setup.py#149\"><span style=\"color: #7f7f7f; text-decoration-color: #7f7f7f\">149</span></a>\n",
       "                    matrices                                                                 \n",
       "</pre>\n"
      ],
      "text/plain": [
       "\u001b[2;36m[20:16:49]\u001b[0m\u001b[2;36m \u001b[0m\u001b[34mINFO    \u001b[0m generate_OBE_system: \u001b[1;36m4\u001b[0m/\u001b[1;36m6\u001b[0m -> Generating the collapse    \u001b]8;id=838532;file://C:\\Users\\ogras\\anaconda3\\lib\\site-packages\\centrex_tlf-0.2-py3.8.egg\\centrex_TlF\\lindblad\\utils_setup.py\u001b\\\u001b[2mutils_setup.py\u001b[0m\u001b]8;;\u001b\\\u001b[2m:\u001b[0m\u001b]8;id=542531;file://C:\\Users\\ogras\\anaconda3\\lib\\site-packages\\centrex_tlf-0.2-py3.8.egg\\centrex_TlF\\lindblad\\utils_setup.py#149\u001b\\\u001b[2m149\u001b[0m\u001b]8;;\u001b\\\n",
       "                    matrices                                                                 \n"
      ]
     },
     "metadata": {},
     "output_type": "display_data"
    },
    {
     "data": {
      "text/html": [
       "<pre style=\"white-space:pre;overflow-x:auto;line-height:normal;font-family:Menlo,'DejaVu Sans Mono',consolas,'Courier New',monospace\"><span style=\"color: #7fbfbf; text-decoration-color: #7fbfbf\">           </span><span style=\"color: #000080; text-decoration-color: #000080\">INFO    </span> generate_OBE_system: <span style=\"color: #008080; text-decoration-color: #008080; font-weight: bold\">5</span>/<span style=\"color: #008080; text-decoration-color: #008080; font-weight: bold\">6</span> -&gt; Transforming the           <a href=\"file://C:\\Users\\ogras\\anaconda3\\lib\\site-packages\\centrex_tlf-0.2-py3.8.egg\\centrex_TlF\\lindblad\\utils_setup.py\"><span style=\"color: #7f7f7f; text-decoration-color: #7f7f7f\">utils_setup.py</span></a><span style=\"color: #7f7f7f; text-decoration-color: #7f7f7f\">:</span><a href=\"file://C:\\Users\\ogras\\anaconda3\\lib\\site-packages\\centrex_tlf-0.2-py3.8.egg\\centrex_TlF\\lindblad\\utils_setup.py#178\"><span style=\"color: #7f7f7f; text-decoration-color: #7f7f7f\">178</span></a>\n",
       "                    Hamiltonian and collapse matrices into a symbolic                        \n",
       "                    system of equations                                                      \n",
       "</pre>\n"
      ],
      "text/plain": [
       "\u001b[2;36m          \u001b[0m\u001b[2;36m \u001b[0m\u001b[34mINFO    \u001b[0m generate_OBE_system: \u001b[1;36m5\u001b[0m/\u001b[1;36m6\u001b[0m -> Transforming the           \u001b]8;id=899016;file://C:\\Users\\ogras\\anaconda3\\lib\\site-packages\\centrex_tlf-0.2-py3.8.egg\\centrex_TlF\\lindblad\\utils_setup.py\u001b\\\u001b[2mutils_setup.py\u001b[0m\u001b]8;;\u001b\\\u001b[2m:\u001b[0m\u001b]8;id=123836;file://C:\\Users\\ogras\\anaconda3\\lib\\site-packages\\centrex_tlf-0.2-py3.8.egg\\centrex_TlF\\lindblad\\utils_setup.py#178\u001b\\\u001b[2m178\u001b[0m\u001b]8;;\u001b\\\n",
       "                    Hamiltonian and collapse matrices into a symbolic                        \n",
       "                    system of equations                                                      \n"
      ]
     },
     "metadata": {},
     "output_type": "display_data"
    },
    {
     "data": {
      "text/html": [
       "<pre style=\"white-space:pre;overflow-x:auto;line-height:normal;font-family:Menlo,'DejaVu Sans Mono',consolas,'Courier New',monospace\"><span style=\"color: #7fbfbf; text-decoration-color: #7fbfbf\">[20:16:50] </span><span style=\"color: #000080; text-decoration-color: #000080\">INFO    </span> generate_OBE_system: <span style=\"color: #008080; text-decoration-color: #008080; font-weight: bold\">6</span>/<span style=\"color: #008080; text-decoration-color: #008080; font-weight: bold\">6</span> -&gt; Generating Julia code      <a href=\"file://C:\\Users\\ogras\\anaconda3\\lib\\site-packages\\centrex_tlf-0.2-py3.8.egg\\centrex_TlF\\lindblad\\utils_setup.py\"><span style=\"color: #7f7f7f; text-decoration-color: #7f7f7f\">utils_setup.py</span></a><span style=\"color: #7f7f7f; text-decoration-color: #7f7f7f\">:</span><a href=\"file://C:\\Users\\ogras\\anaconda3\\lib\\site-packages\\centrex_tlf-0.2-py3.8.egg\\centrex_TlF\\lindblad\\utils_setup.py#186\"><span style=\"color: #7f7f7f; text-decoration-color: #7f7f7f\">186</span></a>\n",
       "                    representing the system of equations                                     \n",
       "</pre>\n"
      ],
      "text/plain": [
       "\u001b[2;36m[20:16:50]\u001b[0m\u001b[2;36m \u001b[0m\u001b[34mINFO    \u001b[0m generate_OBE_system: \u001b[1;36m6\u001b[0m/\u001b[1;36m6\u001b[0m -> Generating Julia code      \u001b]8;id=122580;file://C:\\Users\\ogras\\anaconda3\\lib\\site-packages\\centrex_tlf-0.2-py3.8.egg\\centrex_TlF\\lindblad\\utils_setup.py\u001b\\\u001b[2mutils_setup.py\u001b[0m\u001b]8;;\u001b\\\u001b[2m:\u001b[0m\u001b]8;id=817847;file://C:\\Users\\ogras\\anaconda3\\lib\\site-packages\\centrex_tlf-0.2-py3.8.egg\\centrex_TlF\\lindblad\\utils_setup.py#186\u001b\\\u001b[2m186\u001b[0m\u001b]8;;\u001b\\\n",
       "                    representing the system of equations                                     \n"
      ]
     },
     "metadata": {},
     "output_type": "display_data"
    },
    {
     "data": {
      "text/html": [
       "<pre style=\"white-space:pre;overflow-x:auto;line-height:normal;font-family:Menlo,'DejaVu Sans Mono',consolas,'Courier New',monospace\"><span style=\"color: #7fbfbf; text-decoration-color: #7fbfbf\">[20:16:59] </span><span style=\"color: #000080; text-decoration-color: #000080\">INFO    </span> setup_OBE_system_julia: <span style=\"color: #008080; text-decoration-color: #008080; font-weight: bold\">1</span>/<span style=\"color: #008080; text-decoration-color: #008080; font-weight: bold\">3</span> -&gt; Generating the preamble <a href=\"file://C:\\Users\\ogras\\anaconda3\\lib\\site-packages\\centrex_tlf-0.2-py3.8.egg\\centrex_TlF\\lindblad\\utils_setup.py\"><span style=\"color: #7f7f7f; text-decoration-color: #7f7f7f\">utils_setup.py</span></a><span style=\"color: #7f7f7f; text-decoration-color: #7f7f7f\">:</span><a href=\"file://C:\\Users\\ogras\\anaconda3\\lib\\site-packages\\centrex_tlf-0.2-py3.8.egg\\centrex_TlF\\lindblad\\utils_setup.py#266\"><span style=\"color: #7f7f7f; text-decoration-color: #7f7f7f\">266</span></a>\n",
       "</pre>\n"
      ],
      "text/plain": [
       "\u001b[2;36m[20:16:59]\u001b[0m\u001b[2;36m \u001b[0m\u001b[34mINFO    \u001b[0m setup_OBE_system_julia: \u001b[1;36m1\u001b[0m/\u001b[1;36m3\u001b[0m -> Generating the preamble \u001b]8;id=963353;file://C:\\Users\\ogras\\anaconda3\\lib\\site-packages\\centrex_tlf-0.2-py3.8.egg\\centrex_TlF\\lindblad\\utils_setup.py\u001b\\\u001b[2mutils_setup.py\u001b[0m\u001b]8;;\u001b\\\u001b[2m:\u001b[0m\u001b]8;id=748448;file://C:\\Users\\ogras\\anaconda3\\lib\\site-packages\\centrex_tlf-0.2-py3.8.egg\\centrex_TlF\\lindblad\\utils_setup.py#266\u001b\\\u001b[2m266\u001b[0m\u001b]8;;\u001b\\\n"
      ]
     },
     "metadata": {},
     "output_type": "display_data"
    },
    {
     "data": {
      "text/html": [
       "<pre style=\"white-space:pre;overflow-x:auto;line-height:normal;font-family:Menlo,'DejaVu Sans Mono',consolas,'Courier New',monospace\"><span style=\"color: #7fbfbf; text-decoration-color: #7fbfbf\">           </span><span style=\"color: #000080; text-decoration-color: #000080\">INFO    </span> setup_OBE_system_julia: <span style=\"color: #008080; text-decoration-color: #008080; font-weight: bold\">2</span>/<span style=\"color: #008080; text-decoration-color: #008080; font-weight: bold\">3</span> -&gt; Initializing Julia on <span style=\"color: #008080; text-decoration-color: #008080; font-weight: bold\">7</span> <a href=\"file://C:\\Users\\ogras\\anaconda3\\lib\\site-packages\\centrex_tlf-0.2-py3.8.egg\\centrex_TlF\\lindblad\\utils_setup.py\"><span style=\"color: #7f7f7f; text-decoration-color: #7f7f7f\">utils_setup.py</span></a><span style=\"color: #7f7f7f; text-decoration-color: #7f7f7f\">:</span><a href=\"file://C:\\Users\\ogras\\anaconda3\\lib\\site-packages\\centrex_tlf-0.2-py3.8.egg\\centrex_TlF\\lindblad\\utils_setup.py#270\"><span style=\"color: #7f7f7f; text-decoration-color: #7f7f7f\">270</span></a>\n",
       "                    cores                                                                    \n",
       "</pre>\n"
      ],
      "text/plain": [
       "\u001b[2;36m          \u001b[0m\u001b[2;36m \u001b[0m\u001b[34mINFO    \u001b[0m setup_OBE_system_julia: \u001b[1;36m2\u001b[0m/\u001b[1;36m3\u001b[0m -> Initializing Julia on \u001b[1;36m7\u001b[0m \u001b]8;id=653566;file://C:\\Users\\ogras\\anaconda3\\lib\\site-packages\\centrex_tlf-0.2-py3.8.egg\\centrex_TlF\\lindblad\\utils_setup.py\u001b\\\u001b[2mutils_setup.py\u001b[0m\u001b]8;;\u001b\\\u001b[2m:\u001b[0m\u001b]8;id=377544;file://C:\\Users\\ogras\\anaconda3\\lib\\site-packages\\centrex_tlf-0.2-py3.8.egg\\centrex_TlF\\lindblad\\utils_setup.py#270\u001b\\\u001b[2m270\u001b[0m\u001b]8;;\u001b\\\n",
       "                    cores                                                                    \n"
      ]
     },
     "metadata": {},
     "output_type": "display_data"
    },
    {
     "name": "stdout",
     "output_type": "stream",
     "text": [
      "Initialized Julia with 7 processes\n"
     ]
    },
    {
     "data": {
      "text/html": [
       "<pre style=\"white-space:pre;overflow-x:auto;line-height:normal;font-family:Menlo,'DejaVu Sans Mono',consolas,'Courier New',monospace\"><span style=\"color: #7fbfbf; text-decoration-color: #7fbfbf\">[20:17:31] </span><span style=\"color: #000080; text-decoration-color: #000080\">INFO    </span> setup_OBE_system_julia: <span style=\"color: #008080; text-decoration-color: #008080; font-weight: bold\">3</span>/<span style=\"color: #008080; text-decoration-color: #008080; font-weight: bold\">3</span> -&gt; Defining the ODE        <a href=\"file://C:\\Users\\ogras\\anaconda3\\lib\\site-packages\\centrex_tlf-0.2-py3.8.egg\\centrex_TlF\\lindblad\\utils_setup.py\"><span style=\"color: #7f7f7f; text-decoration-color: #7f7f7f\">utils_setup.py</span></a><span style=\"color: #7f7f7f; text-decoration-color: #7f7f7f\">:</span><a href=\"file://C:\\Users\\ogras\\anaconda3\\lib\\site-packages\\centrex_tlf-0.2-py3.8.egg\\centrex_TlF\\lindblad\\utils_setup.py#277\"><span style=\"color: #7f7f7f; text-decoration-color: #7f7f7f\">277</span></a>\n",
       "                    equation and parameters in Julia                                         \n",
       "</pre>\n"
      ],
      "text/plain": [
       "\u001b[2;36m[20:17:31]\u001b[0m\u001b[2;36m \u001b[0m\u001b[34mINFO    \u001b[0m setup_OBE_system_julia: \u001b[1;36m3\u001b[0m/\u001b[1;36m3\u001b[0m -> Defining the ODE        \u001b]8;id=828547;file://C:\\Users\\ogras\\anaconda3\\lib\\site-packages\\centrex_tlf-0.2-py3.8.egg\\centrex_TlF\\lindblad\\utils_setup.py\u001b\\\u001b[2mutils_setup.py\u001b[0m\u001b]8;;\u001b\\\u001b[2m:\u001b[0m\u001b]8;id=690458;file://C:\\Users\\ogras\\anaconda3\\lib\\site-packages\\centrex_tlf-0.2-py3.8.egg\\centrex_TlF\\lindblad\\utils_setup.py#277\u001b\\\u001b[2m277\u001b[0m\u001b]8;;\u001b\\\n",
       "                    equation and parameters in Julia                                         \n"
      ]
     },
     "metadata": {},
     "output_type": "display_data"
    },
    {
     "name": "stdout",
     "output_type": "stream",
     "text": [
      "Wall time: 1min 28s\n"
     ]
    }
   ],
   "source": [
    "%%time\n",
    "obe_system = centrex.lindblad.setup_OBE_system_julia(syspars, odepars, transitions, verbose=True, full_output=True, \n",
    "                                                     qn_compact=centrex.states.QuantumSelector(J=3, electronic = 'X'))"
   ]
  },
  {
   "cell_type": "markdown",
   "id": "e2979859-216a-46aa-a6ed-72a507abf26b",
   "metadata": {
    "papermill": {
     "duration": 0.029005,
     "end_time": "2022-03-06T02:17:32.136673",
     "exception": false,
     "start_time": "2022-03-06T02:17:32.107668",
     "status": "completed"
    },
    "tags": []
   },
   "source": [
    "# Simulations\n",
    "## Single trajectory"
   ]
  },
  {
   "cell_type": "code",
   "execution_count": 12,
   "id": "a7dfeb67-36ab-4ed5-9af1-ad66daeddeac",
   "metadata": {
    "execution": {
     "iopub.execute_input": "2022-03-06T02:17:32.196671Z",
     "iopub.status.busy": "2022-03-06T02:17:32.196671Z",
     "iopub.status.idle": "2022-03-06T02:17:32.254671Z",
     "shell.execute_reply": "2022-03-06T02:17:32.254671Z"
    },
    "papermill": {
     "duration": 0.089002,
     "end_time": "2022-03-06T02:17:32.255670",
     "exception": false,
     "start_time": "2022-03-06T02:17:32.166668",
     "status": "completed"
    },
    "tags": []
   },
   "outputs": [
    {
     "name": "stdout",
     "output_type": "stream",
     "text": [
      "Ωl0 : 1.52 Γ\n"
     ]
    }
   ],
   "source": [
    "Ωl0 = centrex.utils.light.calculate_rabi_from_power_gaussian_beam(\n",
    "                        laser_power,\n",
    "                        obe_system.couplings[0]['main coupling'],\n",
    "                        σlaser,\n",
    "                        σlaser\n",
    "    ).real\n",
    "print(f\"Ωl0 : {Ωl0 / syspars.Γ:.2f} Γ\")"
   ]
  },
  {
   "cell_type": "code",
   "execution_count": 13,
   "id": "f29311e6-5f91-40cc-b852-150cb39f3072",
   "metadata": {
    "execution": {
     "iopub.execute_input": "2022-03-06T02:17:32.316670Z",
     "iopub.status.busy": "2022-03-06T02:17:32.315669Z",
     "iopub.status.idle": "2022-03-06T02:17:32.380691Z",
     "shell.execute_reply": "2022-03-06T02:17:32.381690Z"
    },
    "papermill": {
     "duration": 0.096019,
     "end_time": "2022-03-06T02:17:32.381690",
     "exception": false,
     "start_time": "2022-03-06T02:17:32.285671",
     "status": "completed"
    },
    "tags": []
   },
   "outputs": [],
   "source": [
    "odepars.Ωl0 = Ωl0\n",
    "odepars.ωphase = ωphase\n",
    "odepars.ωp = ωp"
   ]
  },
  {
   "cell_type": "code",
   "execution_count": 14,
   "id": "39446a36-7821-474c-8be2-cf0892f0d017",
   "metadata": {
    "execution": {
     "iopub.execute_input": "2022-03-06T02:17:32.439698Z",
     "iopub.status.busy": "2022-03-06T02:17:32.438699Z",
     "iopub.status.idle": "2022-03-06T02:17:38.236743Z",
     "shell.execute_reply": "2022-03-06T02:17:38.237746Z"
    },
    "papermill": {
     "duration": 5.829051,
     "end_time": "2022-03-06T02:17:38.237746",
     "exception": false,
     "start_time": "2022-03-06T02:17:32.408695",
     "status": "completed"
    },
    "tags": []
   },
   "outputs": [],
   "source": [
    "ρ = centrex.utils.generate_population_states(population_states.get_indices(obe_system.QN), len(obe_system.QN))\n",
    "t_array, results = centrex.lindblad.do_simulation_single(odepars, (0,50e-3/odepars.vz+10e-6), ρ)"
   ]
  },
  {
   "cell_type": "code",
   "execution_count": 15,
   "id": "c2022834-a208-480a-bce9-4649d182fa91",
   "metadata": {
    "execution": {
     "iopub.execute_input": "2022-03-06T02:17:38.309743Z",
     "iopub.status.busy": "2022-03-06T02:17:38.308745Z",
     "iopub.status.idle": "2022-03-06T02:17:38.689743Z",
     "shell.execute_reply": "2022-03-06T02:17:38.690744Z"
    },
    "papermill": {
     "duration": 0.416998,
     "end_time": "2022-03-06T02:17:38.690744",
     "exception": false,
     "start_time": "2022-03-06T02:17:38.273746",
     "status": "completed"
    },
    "tags": []
   },
   "outputs": [],
   "source": [
    "multipass = np.abs(odepars.get_parameter_evolution(t_array, \"Ωl\").real)"
   ]
  },
  {
   "cell_type": "code",
   "execution_count": 16,
   "id": "51d3bd7a-ad1b-46a3-a5e0-e10ee58fd9c6",
   "metadata": {
    "execution": {
     "iopub.execute_input": "2022-03-06T02:17:38.755744Z",
     "iopub.status.busy": "2022-03-06T02:17:38.754744Z",
     "iopub.status.idle": "2022-03-06T02:17:39.285744Z",
     "shell.execute_reply": "2022-03-06T02:17:39.286743Z"
    },
    "papermill": {
     "duration": 0.563,
     "end_time": "2022-03-06T02:17:39.286743",
     "exception": false,
     "start_time": "2022-03-06T02:17:38.723743",
     "status": "completed"
    },
    "tags": []
   },
   "outputs": [
    {
     "data": {
      "image/png": "[encoded data removed]",
      "text/plain": [
       "<Figure size 720x432 with 1 Axes>"
      ]
     },
     "metadata": {
      "needs_background": "light"
     },
     "output_type": "display_data"
    }
   ],
   "source": [
    "fig, ax = plt.subplots(figsize = (10,6)) \n",
    "ax.plot(t_array*1e6, results.T, lw = 2);\n",
    "ax.plot(t_array*1e6, multipass/multipass.max()*0.8, 'k--', lw = 2,\n",
    "        label = 'multipass')\n",
    "ax.set_xlabel('time [μs]')\n",
    "ax.set_ylabel('population')\n",
    "ax.legend(fontsize = 14)\n",
    "ax.grid(True)"
   ]
  },
  {
   "cell_type": "code",
   "execution_count": 17,
   "id": "89232317-cb62-428d-b2a6-5b27d31cb99c",
   "metadata": {
    "execution": {
     "iopub.execute_input": "2022-03-06T02:17:39.350745Z",
     "iopub.status.busy": "2022-03-06T02:17:39.350745Z",
     "iopub.status.idle": "2022-03-06T02:17:39.426744Z",
     "shell.execute_reply": "2022-03-06T02:17:39.427744Z"
    },
    "papermill": {
     "duration": 0.110001,
     "end_time": "2022-03-06T02:17:39.427744",
     "exception": false,
     "start_time": "2022-03-06T02:17:39.317743",
     "status": "completed"
    },
    "tags": []
   },
   "outputs": [
    {
     "name": "stdout",
     "output_type": "stream",
     "text": [
      "|X, J = 1, F₁ = 3/2, F = 2, mF = -2, I₁ = 1/2, I₂ = 1/2, P = -, Ω = 0>\n",
      "|X, J = 1, F₁ = 3/2, F = 2, mF = 2, I₁ = 1/2, I₂ = 1/2, P = -, Ω = 0>\n",
      "|X, J = 3, F₁ = None, F = None, mF = None, I₁ = 1/2, I₂ = 1/2, P = -, Ω = 0>\n"
     ]
    }
   ],
   "source": [
    "for states in np.array(obe_system.QN)[results[:,-1] > 0.05]:\n",
    "    print(states.find_largest_component())"
   ]
  },
  {
   "cell_type": "code",
   "execution_count": 18,
   "id": "40e8f6c3-2370-4163-aaab-2b0be25a8e6d",
   "metadata": {
    "execution": {
     "iopub.execute_input": "2022-03-06T02:17:39.494743Z",
     "iopub.status.busy": "2022-03-06T02:17:39.494743Z",
     "iopub.status.idle": "2022-03-06T02:17:39.584449Z",
     "shell.execute_reply": "2022-03-06T02:17:39.585449Z"
    },
    "papermill": {
     "duration": 0.127708,
     "end_time": "2022-03-06T02:17:39.585449",
     "exception": false,
     "start_time": "2022-03-06T02:17:39.457741",
     "status": "completed"
    },
    "tags": []
   },
   "outputs": [
    {
     "data": {
      "text/plain": [
       "2.812853224031678"
      ]
     },
     "execution_count": 18,
     "metadata": {},
     "output_type": "execute_result"
    }
   ],
   "source": [
    "np.trapz(results[exc.get_indices(obe_system.QN),:].sum(axis = 0), t_array)*syspars.Γ"
   ]
  },
  {
   "cell_type": "markdown",
   "id": "38d78351-bc19-4793-94db-8e2436d6cb14",
   "metadata": {
    "papermill": {
     "duration": 0.032003,
     "end_time": "2022-03-06T02:17:39.646450",
     "exception": false,
     "start_time": "2022-03-06T02:17:39.614447",
     "status": "completed"
    },
    "tags": []
   },
   "source": [
    "## Detuning Scan"
   ]
  },
  {
   "cell_type": "code",
   "execution_count": 19,
   "id": "db3160c7-b51e-4cd3-8f8c-5dfeaffa8d31",
   "metadata": {
    "execution": {
     "iopub.execute_input": "2022-03-06T02:17:39.729449Z",
     "iopub.status.busy": "2022-03-06T02:17:39.728449Z",
     "iopub.status.idle": "2022-03-06T02:18:08.934437Z",
     "shell.execute_reply": "2022-03-06T02:18:08.934437Z"
    },
    "papermill": {
     "duration": 29.243988,
     "end_time": "2022-03-06T02:18:08.934437",
     "exception": false,
     "start_time": "2022-03-06T02:17:39.690449",
     "status": "completed"
    },
    "tags": []
   },
   "outputs": [
    {
     "name": "stdout",
     "output_type": "stream",
     "text": [
      "Wall time: 29.1 s\n"
     ]
    }
   ],
   "source": [
    "%%time\n",
    "\n",
    "odepars.Ωl0 = Ωl0\n",
    "odepars.ωphase = ωphase\n",
    "odepars.ωp = ωp\n",
    "\n",
    "tspan = (0,1000e-6)\n",
    "ρ = centrex.utils.generate_population_states(\n",
    "        centrex.states.QuantumSelector(J=1, F=[1,2], electronic = 'X').get_indices(obe_system.QN), \n",
    "        len(obe_system.QN)\n",
    "    )\n",
    "\n",
    "δl_scan = np.linspace(-5,5,101)*syspars.Γ\n",
    "\n",
    "parameters = [\"δl\"]\n",
    "values = [δl_scan]\n",
    "\n",
    "output_func = centrex.lindblad.setup_state_integral_calculation(\n",
    "                states = exc.get_indices(obe_system.QN, mode = \"julia\"),\n",
    "                nphotons = True\n",
    "            )\n",
    "\n",
    "cb = centrex.lindblad.setup_discrete_callback_terminate(odepars, \"vz*t >= 50e-3\")\n",
    "\n",
    "ens_prob = centrex.lindblad.setup_problem_parameter_scan(\n",
    "                        odepars, tspan, ρ, parameters, values, \n",
    "                        dimensions = 1,\n",
    "                        output_func = output_func,\n",
    "                        zipped = True\n",
    "            )\n",
    "\n",
    "centrex.lindblad.solve_problem_parameter_scan(ensemble_problem_name = ens_prob, saveat = 1e-7,\n",
    "                                             callback = cb)"
   ]
  },
  {
   "cell_type": "code",
   "execution_count": 20,
   "id": "817d03c6-c2e3-4f75-8bdd-fad4b3c694f1",
   "metadata": {
    "execution": {
     "iopub.execute_input": "2022-03-06T02:18:08.998437Z",
     "iopub.status.busy": "2022-03-06T02:18:08.997436Z",
     "iopub.status.idle": "2022-03-06T02:18:09.167439Z",
     "shell.execute_reply": "2022-03-06T02:18:09.168438Z"
    },
    "papermill": {
     "duration": 0.203999,
     "end_time": "2022-03-06T02:18:09.168438",
     "exception": false,
     "start_time": "2022-03-06T02:18:08.964439",
     "status": "completed"
    },
    "tags": []
   },
   "outputs": [
    {
     "data": {
      "image/png": "[encoded data removed]",
      "text/plain": [
       "<Figure size 576x360 with 1 Axes>"
      ]
     },
     "metadata": {
      "needs_background": "light"
     },
     "output_type": "display_data"
    }
   ],
   "source": [
    "results = centrex.lindblad.get_results_parameter_scan()\n",
    "\n",
    "fig, ax = plt.subplots(figsize = (8,5))\n",
    "ax.plot(δl_scan/syspars.Γ, results, '-')\n",
    "ax.grid(True)"
   ]
  },
  {
   "cell_type": "markdown",
   "id": "b6dcbe1d-3795-47c2-8019-a008c982afd3",
   "metadata": {
    "papermill": {
     "duration": 0.031997,
     "end_time": "2022-03-06T02:18:09.237436",
     "exception": false,
     "start_time": "2022-03-06T02:18:09.205439",
     "status": "completed"
    },
    "tags": []
   },
   "source": [
    "## Trajectory Scan"
   ]
  },
  {
   "cell_type": "code",
   "execution_count": 21,
   "id": "a124f5a7-7a18-41ed-bac2-8c21ef7f46fd",
   "metadata": {
    "execution": {
     "iopub.execute_input": "2022-03-06T02:18:09.317440Z",
     "iopub.status.busy": "2022-03-06T02:18:09.317440Z",
     "iopub.status.idle": "2022-03-06T02:18:11.524433Z",
     "shell.execute_reply": "2022-03-06T02:18:11.525431Z"
    },
    "papermill": {
     "duration": 2.252994,
     "end_time": "2022-03-06T02:18:11.525431",
     "exception": false,
     "start_time": "2022-03-06T02:18:09.272437",
     "status": "completed"
    },
    "tags": []
   },
   "outputs": [],
   "source": [
    "ntrajectories = 500\n",
    "\n",
    "n = int(1e7)\n",
    "vz = centrex.utils.generate_random_longitudinal_velocities(n, vcm, vcm_sigma)\n",
    "vx, vy = centrex.utils.generate_random_transverse_velocities(n, vperp_sigma)\n",
    "x0, y0 = centrex.utils.generate_random_coords_circle_2D(n, 0.0025)\n",
    "apertures = [(47e-3, 6.35e-3), (73e-3, 12.7e-3), (290e-3, 2.54e-3)]\n",
    "mask = np.ones(n, dtype = bool)\n",
    "for (location, diameter) in apertures:\n",
    "    t = location / vz\n",
    "    r = np.sqrt((x0+vx*t)**2 + (y0+vy*t)**2)\n",
    "    m = r < diameter/2\n",
    "    mask &= m\n",
    "    \n",
    "start_loc = 358e-3 - 0.03556/2 - 10e-3\n",
    "t = start_loc / vz\n",
    "x0, y0 = x0 + vx*t, y0 + vy*t\n",
    "\n",
    "x0 = x0[mask][:ntrajectories]\n",
    "y0 = y0[mask][:ntrajectories]\n",
    "vx = vx[mask][:ntrajectories]\n",
    "vy = vy[mask][:ntrajectories]\n",
    "vz = vz[mask][:ntrajectories]\n",
    "\n",
    "assert mask.sum() >= ntrajectories, \"not enough trajectories make it through apertures\"\n",
    "del t, mask\n",
    "\n",
    "δls = centrex.utils.detuning.velocity_to_detuning(vx, 1106e12, syspars.Γ)*syspars.Γ"
   ]
  },
  {
   "cell_type": "code",
   "execution_count": 22,
   "id": "ed2e89ae-b7e3-4645-af48-70a3fe13327a",
   "metadata": {
    "execution": {
     "iopub.execute_input": "2022-03-06T02:18:11.592433Z",
     "iopub.status.busy": "2022-03-06T02:18:11.591432Z",
     "iopub.status.idle": "2022-03-06T02:19:01.123170Z",
     "shell.execute_reply": "2022-03-06T02:19:01.124167Z"
    },
    "papermill": {
     "duration": 49.567736,
     "end_time": "2022-03-06T02:19:01.124167",
     "exception": false,
     "start_time": "2022-03-06T02:18:11.556431",
     "status": "completed"
    },
    "tags": []
   },
   "outputs": [],
   "source": [
    "odepars.Ωl0 = Ωl0\n",
    "odepars.ωphase = ωphase\n",
    "odepars.ωp = ωp\n",
    "\n",
    "tspan = (0,1000e-6)\n",
    "ρ = centrex.utils.generate_population_states(\n",
    "        centrex.states.QuantumSelector(J=1, F=[1,2], electronic = 'X').get_indices(obe_system.QN), \n",
    "        len(obe_system.QN)\n",
    "    )\n",
    "\n",
    "parameters = [\"vz\", \"δl\", \"y0\"]\n",
    "values = [vz, δls, y0]\n",
    "\n",
    "output_func = centrex.lindblad.setup_state_integral_calculation(\n",
    "                states = exc.get_indices(obe_system.QN, mode = \"julia\"),\n",
    "                nphotons = True\n",
    "            )\n",
    "\n",
    "cb = centrex.lindblad.setup_discrete_callback_terminate(odepars, \"vz*t >= 50e-3\")\n",
    "\n",
    "ens_prob = centrex.lindblad.setup_problem_parameter_scan(\n",
    "                        odepars, tspan, ρ, parameters, values, \n",
    "                        dimensions = 1,\n",
    "                        output_func = output_func,\n",
    "                        zipped = True\n",
    "            )\n",
    "\n",
    "centrex.lindblad.solve_problem_parameter_scan(ensemble_problem_name = ens_prob, saveat = 1e-7,\n",
    "                                             callback = cb)"
   ]
  },
  {
   "cell_type": "code",
   "execution_count": 23,
   "id": "29942c9f-5a7c-4c12-b72f-29ad3cb82fdc",
   "metadata": {
    "execution": {
     "iopub.execute_input": "2022-03-06T02:19:01.195167Z",
     "iopub.status.busy": "2022-03-06T02:19:01.195167Z",
     "iopub.status.idle": "2022-03-06T02:19:01.266167Z",
     "shell.execute_reply": "2022-03-06T02:19:01.267167Z"
    },
    "papermill": {
     "duration": 0.106998,
     "end_time": "2022-03-06T02:19:01.267167",
     "exception": false,
     "start_time": "2022-03-06T02:19:01.160169",
     "status": "completed"
    },
    "tags": []
   },
   "outputs": [],
   "source": [
    "results = centrex.lindblad.get_results_parameter_scan()"
   ]
  },
  {
   "cell_type": "code",
   "execution_count": 24,
   "id": "75347af4-d3a1-460a-badb-152170f68dbe",
   "metadata": {
    "execution": {
     "iopub.execute_input": "2022-03-06T02:19:01.332168Z",
     "iopub.status.busy": "2022-03-06T02:19:01.332168Z",
     "iopub.status.idle": "2022-03-06T02:19:01.411169Z",
     "shell.execute_reply": "2022-03-06T02:19:01.412168Z"
    },
    "papermill": {
     "duration": 0.113999,
     "end_time": "2022-03-06T02:19:01.412168",
     "exception": false,
     "start_time": "2022-03-06T02:19:01.298169",
     "status": "completed"
    },
    "tags": []
   },
   "outputs": [
    {
     "data": {
      "text/plain": [
       "2.662823065171986"
      ]
     },
     "execution_count": 24,
     "metadata": {},
     "output_type": "execute_result"
    }
   ],
   "source": [
    "np.average(results)"
   ]
  },
  {
   "cell_type": "markdown",
   "id": "5ee62fd7-919a-40df-8c52-140906fb0a39",
   "metadata": {
    "papermill": {
     "duration": 0.032999,
     "end_time": "2022-03-06T02:19:01.480167",
     "exception": false,
     "start_time": "2022-03-06T02:19:01.447168",
     "status": "completed"
    },
    "tags": []
   },
   "source": [
    "## Detuning scan over trajectories for approximate power used in measurement"
   ]
  },
  {
   "cell_type": "code",
   "execution_count": 25,
   "id": "38eaf1fb-7795-477e-a0ae-c43652420275",
   "metadata": {
    "execution": {
     "iopub.execute_input": "2022-03-06T02:19:01.558168Z",
     "iopub.status.busy": "2022-03-06T02:19:01.558168Z",
     "iopub.status.idle": "2022-03-06T02:19:03.806199Z",
     "shell.execute_reply": "2022-03-06T02:19:03.807199Z"
    },
    "papermill": {
     "duration": 2.292028,
     "end_time": "2022-03-06T02:19:03.807199",
     "exception": false,
     "start_time": "2022-03-06T02:19:01.515171",
     "status": "completed"
    },
    "tags": []
   },
   "outputs": [],
   "source": [
    "ntrajectories = 100\n",
    "\n",
    "n = int(1e7)\n",
    "vz = centrex.utils.generate_random_longitudinal_velocities(n, vcm, vcm_sigma)\n",
    "vx, vy = centrex.utils.generate_random_transverse_velocities(n, vperp_sigma)\n",
    "x0, y0 = centrex.utils.generate_random_coords_circle_2D(n, 0.0025)\n",
    "apertures = [(47e-3, 6.35e-3), (73e-3, 12.7e-3), (290e-3, 2.54e-3)]\n",
    "mask = np.ones(n, dtype = bool)\n",
    "for (location, diameter) in apertures:\n",
    "    t = location / vz\n",
    "    r = np.sqrt((x0+vx*t)**2 + (y0+vy*t)**2)\n",
    "    m = r < diameter/2\n",
    "    mask &= m\n",
    "    \n",
    "start_loc = 358e-3 - 0.03556/2 - 10e-3\n",
    "t = start_loc / vz\n",
    "x0, y0 = x0 + vx*t, y0 + vy*t\n",
    "\n",
    "x0 = x0[mask][:ntrajectories]\n",
    "y0 = y0[mask][:ntrajectories]\n",
    "vx = vx[mask][:ntrajectories]\n",
    "vy = vy[mask][:ntrajectories]\n",
    "vz = vz[mask][:ntrajectories]\n",
    "\n",
    "assert mask.sum() >= ntrajectories, \"not enough trajectories make it through apertures\"\n",
    "del t, mask\n",
    "\n",
    "δls = centrex.utils.detuning.velocity_to_detuning(vx, 1106e12, syspars.Γ)*syspars.Γ"
   ]
  },
  {
   "cell_type": "code",
   "execution_count": 26,
   "id": "aa77c713-c05f-42bd-838a-e488ab436af8",
   "metadata": {
    "execution": {
     "iopub.execute_input": "2022-03-06T02:19:03.886203Z",
     "iopub.status.busy": "2022-03-06T02:19:03.886203Z",
     "iopub.status.idle": "2022-03-06T02:38:49.173367Z",
     "shell.execute_reply": "2022-03-06T02:38:49.171366Z"
    },
    "papermill": {
     "duration": 1185.332167,
     "end_time": "2022-03-06T02:38:49.173367",
     "exception": false,
     "start_time": "2022-03-06T02:19:03.841200",
     "status": "completed"
    },
    "tags": []
   },
   "outputs": [
    {
     "name": "stderr",
     "output_type": "stream",
     "text": [
      "\r",
      "  0%|                                                                                                             | 0/31 [00:00<?, ?it/s]"
     ]
    },
    {
     "name": "stderr",
     "output_type": "stream",
     "text": [
      "\r",
      "  3%|███▎                                                                                                 | 1/31 [01:08<34:04, 68.13s/it]"
     ]
    },
    {
     "name": "stderr",
     "output_type": "stream",
     "text": [
      "\r",
      "  6%|██████▌                                                                                              | 2/31 [02:14<32:31, 67.30s/it]"
     ]
    },
    {
     "name": "stderr",
     "output_type": "stream",
     "text": [
      "\r",
      " 10%|█████████▊                                                                                           | 3/31 [03:15<29:54, 64.10s/it]"
     ]
    },
    {
     "name": "stderr",
     "output_type": "stream",
     "text": [
      "\r",
      " 13%|█████████████                                                                                        | 4/31 [04:12<27:39, 61.47s/it]"
     ]
    },
    {
     "name": "stderr",
     "output_type": "stream",
     "text": [
      "\r",
      " 16%|████████████████▎                                                                                    | 5/31 [05:03<24:58, 57.62s/it]"
     ]
    },
    {
     "name": "stderr",
     "output_type": "stream",
     "text": [
      "\r",
      " 19%|███████████████████▌                                                                                 | 6/31 [05:51<22:35, 54.23s/it]"
     ]
    },
    {
     "name": "stderr",
     "output_type": "stream",
     "text": [
      "\r",
      " 23%|██████████████████████▊                                                                              | 7/31 [06:34<20:14, 50.60s/it]"
     ]
    },
    {
     "name": "stderr",
     "output_type": "stream",
     "text": [
      "\r",
      " 26%|██████████████████████████                                                                           | 8/31 [07:13<17:58, 46.87s/it]"
     ]
    },
    {
     "name": "stderr",
     "output_type": "stream",
     "text": [
      "\r",
      " 29%|█████████████████████████████▎                                                                       | 9/31 [07:49<15:59, 43.63s/it]"
     ]
    },
    {
     "name": "stderr",
     "output_type": "stream",
     "text": [
      "\r",
      " 32%|████████████████████████████████▎                                                                   | 10/31 [08:21<14:00, 40.02s/it]"
     ]
    },
    {
     "name": "stderr",
     "output_type": "stream",
     "text": [
      "\r",
      " 35%|███████████████████████████████████▍                                                                | 11/31 [08:49<12:05, 36.26s/it]"
     ]
    },
    {
     "name": "stderr",
     "output_type": "stream",
     "text": [
      "\r",
      " 39%|██████████████████████████████████████▋                                                             | 12/31 [09:13<10:18, 32.54s/it]"
     ]
    },
    {
     "name": "stderr",
     "output_type": "stream",
     "text": [
      "\r",
      " 42%|█████████████████████████████████████████▉                                                          | 13/31 [09:32<08:34, 28.60s/it]"
     ]
    },
    {
     "name": "stderr",
     "output_type": "stream",
     "text": [
      "\r",
      " 45%|█████████████████████████████████████████████▏                                                      | 14/31 [09:46<06:49, 24.11s/it]"
     ]
    },
    {
     "name": "stderr",
     "output_type": "stream",
     "text": [
      "\r",
      " 48%|████████████████████████████████████████████████▍                                                   | 15/31 [09:57<05:21, 20.10s/it]"
     ]
    },
    {
     "name": "stderr",
     "output_type": "stream",
     "text": [
      "\r",
      " 52%|███████████████████████████████████████████████████▌                                                | 16/31 [10:06<04:12, 16.85s/it]"
     ]
    },
    {
     "name": "stderr",
     "output_type": "stream",
     "text": [
      "\r",
      " 55%|██████████████████████████████████████████████████████▊                                             | 17/31 [10:16<03:25, 14.70s/it]"
     ]
    },
    {
     "name": "stderr",
     "output_type": "stream",
     "text": [
      "\r",
      " 58%|██████████████████████████████████████████████████████████                                          | 18/31 [10:29<03:07, 14.39s/it]"
     ]
    },
    {
     "name": "stderr",
     "output_type": "stream",
     "text": [
      "\r",
      " 61%|█████████████████████████████████████████████████████████████▎                                      | 19/31 [10:47<03:03, 15.28s/it]"
     ]
    },
    {
     "name": "stderr",
     "output_type": "stream",
     "text": [
      "\r",
      " 65%|████████████████████████████████████████████████████████████████▌                                   | 20/31 [11:10<03:12, 17.53s/it]"
     ]
    },
    {
     "name": "stderr",
     "output_type": "stream",
     "text": [
      "\r",
      " 68%|███████████████████████████████████████████████████████████████████▋                                | 21/31 [11:38<03:27, 20.74s/it]"
     ]
    },
    {
     "name": "stderr",
     "output_type": "stream",
     "text": [
      "\r",
      " 71%|██████████████████████████████████████████████████████████████████████▉                             | 22/31 [12:09<03:34, 23.79s/it]"
     ]
    },
    {
     "name": "stderr",
     "output_type": "stream",
     "text": [
      "\r",
      " 74%|██████████████████████████████████████████████████████████████████████████▏                         | 23/31 [12:43<03:36, 27.08s/it]"
     ]
    },
    {
     "name": "stderr",
     "output_type": "stream",
     "text": [
      "\r",
      " 77%|█████████████████████████████████████████████████████████████████████████████▍                      | 24/31 [13:22<03:33, 30.48s/it]"
     ]
    },
    {
     "name": "stderr",
     "output_type": "stream",
     "text": [
      "\r",
      " 81%|████████████████████████████████████████████████████████████████████████████████▋                   | 25/31 [14:06<03:27, 34.51s/it]"
     ]
    },
    {
     "name": "stderr",
     "output_type": "stream",
     "text": [
      "\r",
      " 84%|███████████████████████████████████████████████████████████████████████████████████▊                | 26/31 [14:53<03:11, 38.30s/it]"
     ]
    },
    {
     "name": "stderr",
     "output_type": "stream",
     "text": [
      "\r",
      " 87%|███████████████████████████████████████████████████████████████████████████████████████             | 27/31 [15:44<02:48, 42.24s/it]"
     ]
    },
    {
     "name": "stderr",
     "output_type": "stream",
     "text": [
      "\r",
      " 90%|██████████████████████████████████████████████████████████████████████████████████████████▎         | 28/31 [16:39<02:18, 46.03s/it]"
     ]
    },
    {
     "name": "stderr",
     "output_type": "stream",
     "text": [
      "\r",
      " 94%|█████████████████████████████████████████████████████████████████████████████████████████████▌      | 29/31 [17:37<01:39, 49.53s/it]"
     ]
    },
    {
     "name": "stderr",
     "output_type": "stream",
     "text": [
      "\r",
      " 97%|████████████████████████████████████████████████████████████████████████████████████████████████▊   | 30/31 [18:39<00:53, 53.28s/it]"
     ]
    },
    {
     "name": "stderr",
     "output_type": "stream",
     "text": [
      "\r",
      "100%|████████████████████████████████████████████████████████████████████████████████████████████████████| 31/31 [19:45<00:00, 56.99s/it]"
     ]
    },
    {
     "name": "stderr",
     "output_type": "stream",
     "text": [
      "\r",
      "100%|████████████████████████████████████████████████████████████████████████████████████████████████████| 31/31 [19:45<00:00, 38.23s/it]"
     ]
    },
    {
     "name": "stderr",
     "output_type": "stream",
     "text": [
      "\n"
     ]
    }
   ],
   "source": [
    "import copy\n",
    "\n",
    "odepars.Ωl0 = Ωl0\n",
    "odepars.ωphase = ωphase\n",
    "odepars.ωp = ωp\n",
    "\n",
    "tspan = (0,1000e-6)\n",
    "ρ = centrex.utils.generate_population_states(\n",
    "        population_states.get_indices(obe_system.QN), \n",
    "        len(obe_system.QN)\n",
    "    )\n",
    "\n",
    "parameters = [\"vz\", \"δl\", \"y0\"]\n",
    "values = [vz, δls, y0]\n",
    "\n",
    "output_func = centrex.lindblad.setup_state_integral_calculation(\n",
    "                states = exc.get_indices(obe_system.QN, mode = \"julia\"),\n",
    "                nphotons = True\n",
    "            )\n",
    "\n",
    "δl_scan = np.arange(*scan_range)*syspars.Γ\n",
    "\n",
    "results = []\n",
    "for δli in tqdm(δl_scan):\n",
    "    vals = copy.copy(values)\n",
    "    vals[1] = vals[1] + δli\n",
    "    cb = centrex.lindblad.setup_discrete_callback_terminate(odepars, \"vz*t >= 50e-3\")\n",
    "\n",
    "    ens_prob = centrex.lindblad.setup_problem_parameter_scan(\n",
    "                            odepars, tspan, ρ, parameters, vals, \n",
    "                            dimensions = 1,\n",
    "                            output_func = output_func,\n",
    "                            zipped = True\n",
    "                )\n",
    "\n",
    "    centrex.lindblad.solve_problem_parameter_scan(ensemble_problem_name = ens_prob, saveat = 1e-7,\n",
    "                                                 callback = cb)\n",
    "    res = centrex.lindblad.get_results_parameter_scan()\n",
    "    results.append(np.average(res))\n",
    "results = np.asarray(results)    \n",
    "odepars.Ωl0 = Ωl0"
   ]
  },
  {
   "cell_type": "code",
   "execution_count": 27,
   "id": "65a46fd6-e56a-4566-9b6c-e22ce7cc03bc",
   "metadata": {
    "execution": {
     "iopub.execute_input": "2022-03-06T02:38:49.267367Z",
     "iopub.status.busy": "2022-03-06T02:38:49.266365Z",
     "iopub.status.idle": "2022-03-06T02:38:49.438368Z",
     "shell.execute_reply": "2022-03-06T02:38:49.439367Z"
    },
    "papermill": {
     "duration": 0.219001,
     "end_time": "2022-03-06T02:38:49.439367",
     "exception": false,
     "start_time": "2022-03-06T02:38:49.220366",
     "status": "completed"
    },
    "tags": []
   },
   "outputs": [
    {
     "name": "stdout",
     "output_type": "stream",
     "text": [
      "maximum signal : 2.84\n"
     ]
    },
    {
     "data": {
      "image/png": "[encoded data removed]",
      "text/plain": [
       "<Figure size 576x360 with 1 Axes>"
      ]
     },
     "metadata": {
      "needs_background": "light"
     },
     "output_type": "display_data"
    }
   ],
   "source": [
    "fig, ax = plt.subplots(figsize = (8,5))\n",
    "ax.plot(δl_scan / (2*np.pi*1e6), results, '-', lw = 2)\n",
    "ax.plot(δl_scan / (2*np.pi*1e6), results, '.', ms = 13, color = 'C3')\n",
    "\n",
    "ax.set_xlabel(\"δ [MHz]\", fontsize = 14)\n",
    "ax.set_ylabel(\"# photons\", fontsize = 14)\n",
    "ax.grid(True)\n",
    "\n",
    "print(f\"maximum signal : {np.max(results):.2f}\")"
   ]
  },
  {
   "cell_type": "markdown",
   "id": "72eafcf4-c61e-4385-b7ea-b25b66dfdf03",
   "metadata": {
    "papermill": {
     "duration": 0.045999,
     "end_time": "2022-03-06T02:38:49.535364",
     "exception": false,
     "start_time": "2022-03-06T02:38:49.489365",
     "status": "completed"
    },
    "tags": []
   },
   "source": [
    "### Save Trajectory Detuning Scan Data"
   ]
  },
  {
   "cell_type": "code",
   "execution_count": 28,
   "id": "e839a1b3-8e15-4162-991a-37f98acfccc9",
   "metadata": {
    "execution": {
     "iopub.execute_input": "2022-03-06T02:38:49.638366Z",
     "iopub.status.busy": "2022-03-06T02:38:49.637365Z",
     "iopub.status.idle": "2022-03-06T02:38:49.703369Z",
     "shell.execute_reply": "2022-03-06T02:38:49.704366Z"
    },
    "papermill": {
     "duration": 0.123,
     "end_time": "2022-03-06T02:38:49.704366",
     "exception": false,
     "start_time": "2022-03-06T02:38:49.581366",
     "status": "completed"
    },
    "tags": []
   },
   "outputs": [],
   "source": [
    "import pickle\n",
    "\n",
    "with open(f\"{transition_name}.pkl\", \"wb\") as f:\n",
    "    pickle.dump(\n",
    "        dict(\n",
    "            δl_scan = δl_scan,\n",
    "            signal = results\n",
    "        ),\n",
    "        f\n",
    "    )"
   ]
  },
  {
   "cell_type": "markdown",
   "id": "0524b68f-0953-47ef-9ebb-9e4608052bb7",
   "metadata": {
    "papermill": {
     "duration": 0.054,
     "end_time": "2022-03-06T02:38:49.798367",
     "exception": false,
     "start_time": "2022-03-06T02:38:49.744367",
     "status": "completed"
    },
    "tags": []
   },
   "source": [
    "### Fit to resonance\n",
    "#### Define Gaussian and Lorentzian functions"
   ]
  },
  {
   "cell_type": "code",
   "execution_count": 29,
   "id": "18b6bc2b-6557-47f1-8b51-bb9452ca3bad",
   "metadata": {
    "execution": {
     "iopub.execute_input": "2022-03-06T02:38:49.892367Z",
     "iopub.status.busy": "2022-03-06T02:38:49.891365Z",
     "iopub.status.idle": "2022-03-06T02:38:50.113381Z",
     "shell.execute_reply": "2022-03-06T02:38:50.112382Z"
    },
    "papermill": {
     "duration": 0.269013,
     "end_time": "2022-03-06T02:38:50.113381",
     "exception": false,
     "start_time": "2022-03-06T02:38:49.844368",
     "status": "completed"
    },
    "tags": []
   },
   "outputs": [],
   "source": [
    "from scipy.optimize import curve_fit\n",
    "from scipy.special import voigt_profile\n",
    "\n",
    "def gaussian(x, a, μ, σ):\n",
    "    return a*np.exp(-(x-μ)**2 / (2*σ**2))\n",
    "\n",
    "def lorentzian( x, x0, a, gam ):\n",
    "    return a * gam**2 / ( gam**2 + ( x - x0 )**2)\n",
    "\n",
    "def voigt(x, a, μ, σ):\n",
    "    return a * voigt_profile(x - μ, σ, σ)"
   ]
  },
  {
   "cell_type": "code",
   "execution_count": 30,
   "id": "3b541b6c-a9ab-4b83-a094-56adaa32b6d1",
   "metadata": {
    "execution": {
     "iopub.execute_input": "2022-03-06T02:38:50.195382Z",
     "iopub.status.busy": "2022-03-06T02:38:50.195382Z",
     "iopub.status.idle": "2022-03-06T02:38:50.930384Z",
     "shell.execute_reply": "2022-03-06T02:38:50.931382Z"
    },
    "papermill": {
     "duration": 0.778001,
     "end_time": "2022-03-06T02:38:50.931382",
     "exception": false,
     "start_time": "2022-03-06T02:38:50.153381",
     "status": "completed"
    },
    "tags": []
   },
   "outputs": [],
   "source": [
    "import lmfit\n",
    "from lmfit.models import LorentzianModel, GaussianModel, VoigtModel"
   ]
  },
  {
   "cell_type": "markdown",
   "id": "091f6f6a-3410-40eb-b7d6-ee229eff10a8",
   "metadata": {
    "papermill": {
     "duration": 0.042999,
     "end_time": "2022-03-06T02:38:51.017381",
     "exception": false,
     "start_time": "2022-03-06T02:38:50.974382",
     "status": "completed"
    },
    "tags": []
   },
   "source": [
    "#### Fit Lorentzian to scan"
   ]
  },
  {
   "cell_type": "code",
   "execution_count": 31,
   "id": "c3dd75a8-ff6e-4dd2-881d-5e142ef5b4ad",
   "metadata": {
    "execution": {
     "iopub.execute_input": "2022-03-06T02:38:51.101382Z",
     "iopub.status.busy": "2022-03-06T02:38:51.101382Z",
     "iopub.status.idle": "2022-03-06T02:38:51.202382Z",
     "shell.execute_reply": "2022-03-06T02:38:51.202382Z"
    },
    "papermill": {
     "duration": 0.144001,
     "end_time": "2022-03-06T02:38:51.202382",
     "exception": false,
     "start_time": "2022-03-06T02:38:51.058381",
     "status": "completed"
    },
    "tags": []
   },
   "outputs": [
    {
     "name": "stdout",
     "output_type": "stream",
     "text": [
      "[[Model]]\n",
      "    Model(lorentzian)\n",
      "[[Fit Statistics]]\n",
      "    # fitting method   = leastsq\n",
      "    # function evals   = 21\n",
      "    # data points      = 31\n",
      "    # variables        = 3\n",
      "    chi-square         = 0.04328406\n",
      "    reduced chi-square = 0.00154586\n",
      "    Akaike info crit   = -197.792697\n",
      "    Bayesian info crit = -193.490735\n",
      "[[Variables]]\n",
      "    amplitude:  8.0469e+08 +/- 6105467.65 (0.76%) (init = 6.621293e+08)\n",
      "    center:     11486029.2 +/- 662035.366 (5.76%) (init = 9801769)\n",
      "    sigma:      90549162.5 +/- 974751.106 (1.08%) (init = 6.861238e+07)\n",
      "    fwhm:       1.8110e+08 +/- 1949502.21 (1.08%) == '2.0000000*sigma'\n",
      "    height:     2.82876178 +/- 0.02082991 (0.74%) == '0.3183099*amplitude/max(1e-15, sigma)'\n",
      "[[Correlations]] (unreported correlations are < 0.100)\n",
      "    C(amplitude, sigma) = 0.730\n"
     ]
    }
   ],
   "source": [
    "model = LorentzianModel()\n",
    "params = model.guess(\n",
    "                    results, \n",
    "                    x = δl_scan\n",
    ")\n",
    "fit = model.fit(results, params, x = δl_scan)\n",
    "print(fit.fit_report())"
   ]
  },
  {
   "cell_type": "code",
   "execution_count": 32,
   "id": "aea2ff27-ba35-4041-97bc-66afb538dcaa",
   "metadata": {
    "execution": {
     "iopub.execute_input": "2022-03-06T02:38:51.315391Z",
     "iopub.status.busy": "2022-03-06T02:38:51.315391Z",
     "iopub.status.idle": "2022-03-06T02:38:51.597390Z",
     "shell.execute_reply": "2022-03-06T02:38:51.597390Z"
    },
    "papermill": {
     "duration": 0.336999,
     "end_time": "2022-03-06T02:38:51.597390",
     "exception": false,
     "start_time": "2022-03-06T02:38:51.260391",
     "status": "completed"
    },
    "tags": []
   },
   "outputs": [
    {
     "data": {
      "image/png": "[encoded data removed]",
      "text/plain": [
       "<Figure size 576x360 with 1 Axes>"
      ]
     },
     "metadata": {
      "needs_background": "light"
     },
     "output_type": "display_data"
    }
   ],
   "source": [
    "_x = np.linspace(δl_scan.min(), δl_scan.max(), 201)\n",
    "y = fit.eval(x = _x)\n",
    "\n",
    "fig, ax = plt.subplots(figsize = (8,5))\n",
    "ax.plot(δl_scan / (2*np.pi*1e6), results, '.', ms = 13, label = 'data')\n",
    "ax.plot(_x / (2*np.pi*1e6), y, label = 'fit', lw = 2)\n",
    "\n",
    "ax.set_xlabel(\"δ [MHz]\", fontsize = 14)\n",
    "ax.set_ylabel(\"# photons\", fontsize = 14)\n",
    "ax.legend(fontsize = 14)\n",
    "ax.set_title(\"Lorentzian Fit\", fontsize = 15)\n",
    "ax.grid(True)"
   ]
  },
  {
   "cell_type": "code",
   "execution_count": 33,
   "id": "7db03d55-3233-4aff-a947-1860b3cf301e",
   "metadata": {
    "execution": {
     "iopub.execute_input": "2022-03-06T02:38:51.696390Z",
     "iopub.status.busy": "2022-03-06T02:38:51.695391Z",
     "iopub.status.idle": "2022-03-06T02:38:52.017571Z",
     "shell.execute_reply": "2022-03-06T02:38:52.018572Z"
    },
    "papermill": {
     "duration": 0.371181,
     "end_time": "2022-03-06T02:38:52.018572",
     "exception": false,
     "start_time": "2022-03-06T02:38:51.647391",
     "status": "completed"
    },
    "tags": []
   },
   "outputs": [
    {
     "data": {
      "image/png": "[encoded data removed]",
      "text/plain": [
       "<Figure size 432x432 with 2 Axes>"
      ]
     },
     "metadata": {
      "needs_background": "light"
     },
     "output_type": "display_data"
    }
   ],
   "source": [
    "_ = fit.plot()"
   ]
  },
  {
   "cell_type": "markdown",
   "id": "de774ff7-7f22-4f5f-a1bf-b969780a21b8",
   "metadata": {
    "papermill": {
     "duration": 0.043,
     "end_time": "2022-03-06T02:38:52.104570",
     "exception": false,
     "start_time": "2022-03-06T02:38:52.061570",
     "status": "completed"
    },
    "tags": []
   },
   "source": [
    "#### Fit Gaussian to scan"
   ]
  },
  {
   "cell_type": "code",
   "execution_count": 34,
   "id": "2406e400-d8a4-42a6-a169-6940ee1cdea8",
   "metadata": {
    "execution": {
     "iopub.execute_input": "2022-03-06T02:38:52.197571Z",
     "iopub.status.busy": "2022-03-06T02:38:52.197571Z",
     "iopub.status.idle": "2022-03-06T02:38:52.301570Z",
     "shell.execute_reply": "2022-03-06T02:38:52.302571Z"
    },
    "papermill": {
     "duration": 0.155001,
     "end_time": "2022-03-06T02:38:52.302571",
     "exception": false,
     "start_time": "2022-03-06T02:38:52.147570",
     "status": "completed"
    },
    "tags": []
   },
   "outputs": [
    {
     "name": "stdout",
     "output_type": "stream",
     "text": [
      "[[Model]]\n",
      "    Model(gaussian)\n",
      "[[Fit Statistics]]\n",
      "    # fitting method   = leastsq\n",
      "    # function evals   = 41\n",
      "    # data points      = 31\n",
      "    # variables        = 3\n",
      "    chi-square         = 1.33129551\n",
      "    reduced chi-square = 0.04754627\n",
      "    Akaike info crit   = -91.5828748\n",
      "    Bayesian info crit = -87.2809132\n",
      "[[Variables]]\n",
      "    amplitude:  6.1799e+08 +/- 22030184.3 (3.56%) (init = 5.297034e+08)\n",
      "    center:     10295552.8 +/- 4025213.72 (39.10%) (init = 9801769)\n",
      "    sigma:      97826725.9 +/- 4029784.10 (4.12%) (init = 6.861238e+07)\n",
      "    fwhm:       2.3036e+08 +/- 9489416.20 (4.12%) == '2.3548200*sigma'\n",
      "    height:     2.52021420 +/- 0.08982401 (3.56%) == '0.3989423*amplitude/max(1e-15, sigma)'\n",
      "[[Correlations]] (unreported correlations are < 0.100)\n",
      "    C(amplitude, sigma) = 0.578\n"
     ]
    }
   ],
   "source": [
    "model = GaussianModel()\n",
    "params = model.guess(\n",
    "                    results, \n",
    "                    x = δl_scan\n",
    ")\n",
    "fit = model.fit(results, params, x = δl_scan)\n",
    "print(fit.fit_report())"
   ]
  },
  {
   "cell_type": "code",
   "execution_count": 35,
   "id": "da38a3a8-2bc3-40b8-bc8e-a25b4bbae3e8",
   "metadata": {
    "execution": {
     "iopub.execute_input": "2022-03-06T02:38:52.408571Z",
     "iopub.status.busy": "2022-03-06T02:38:52.408571Z",
     "iopub.status.idle": "2022-03-06T02:38:52.616572Z",
     "shell.execute_reply": "2022-03-06T02:38:52.617572Z"
    },
    "papermill": {
     "duration": 0.263,
     "end_time": "2022-03-06T02:38:52.617572",
     "exception": false,
     "start_time": "2022-03-06T02:38:52.354572",
     "status": "completed"
    },
    "tags": []
   },
   "outputs": [
    {
     "data": {
      "image/png": "[encoded data removed]",
      "text/plain": [
       "<Figure size 576x360 with 1 Axes>"
      ]
     },
     "metadata": {
      "needs_background": "light"
     },
     "output_type": "display_data"
    }
   ],
   "source": [
    "_x = np.linspace(δl_scan.min(), δl_scan.max(), 201)\n",
    "y = fit.eval(x = _x)\n",
    "\n",
    "fig, ax = plt.subplots(figsize = (8,5))\n",
    "ax.plot(δl_scan / (2*np.pi*1e6), results, '.', ms = 13, label = 'data')\n",
    "ax.plot(_x / (2*np.pi*1e6), y, label = 'fit', lw = 2)\n",
    "\n",
    "ax.set_xlabel(\"δ [MHz]\", fontsize = 14)\n",
    "ax.set_ylabel(\"# photons\", fontsize = 14)\n",
    "ax.legend(fontsize = 14)\n",
    "ax.set_title(\"Gaussian Fit\", fontsize = 15)\n",
    "ax.grid(True)"
   ]
  },
  {
   "cell_type": "code",
   "execution_count": 36,
   "id": "4e0bd614-03a0-4e0c-b644-72986d4026a4",
   "metadata": {
    "execution": {
     "iopub.execute_input": "2022-03-06T02:38:52.708574Z",
     "iopub.status.busy": "2022-03-06T02:38:52.707572Z",
     "iopub.status.idle": "2022-03-06T02:38:53.005570Z",
     "shell.execute_reply": "2022-03-06T02:38:53.004571Z"
    },
    "papermill": {
     "duration": 0.344001,
     "end_time": "2022-03-06T02:38:53.005570",
     "exception": false,
     "start_time": "2022-03-06T02:38:52.661569",
     "status": "completed"
    },
    "tags": []
   },
   "outputs": [
    {
     "data": {
      "image/png": "[encoded data removed]",
      "text/plain": [
       "<Figure size 432x432 with 2 Axes>"
      ]
     },
     "metadata": {
      "needs_background": "light"
     },
     "output_type": "display_data"
    }
   ],
   "source": [
    "_ = fit.plot()"
   ]
  },
  {
   "cell_type": "markdown",
   "id": "2e23e87f-79c2-470a-aec8-f9918c7f2c91",
   "metadata": {
    "papermill": {
     "duration": 0.046005,
     "end_time": "2022-03-06T02:38:53.114574",
     "exception": false,
     "start_time": "2022-03-06T02:38:53.068569",
     "status": "completed"
    },
    "tags": []
   },
   "source": [
    "#### Fit Voigt to scan"
   ]
  },
  {
   "cell_type": "code",
   "execution_count": 37,
   "id": "427de737-3ec5-4376-9fce-d4557da3a20d",
   "metadata": {
    "execution": {
     "iopub.execute_input": "2022-03-06T02:38:53.208572Z",
     "iopub.status.busy": "2022-03-06T02:38:53.207573Z",
     "iopub.status.idle": "2022-03-06T02:38:53.317571Z",
     "shell.execute_reply": "2022-03-06T02:38:53.318572Z"
    },
    "papermill": {
     "duration": 0.159,
     "end_time": "2022-03-06T02:38:53.318572",
     "exception": false,
     "start_time": "2022-03-06T02:38:53.159572",
     "status": "completed"
    },
    "tags": []
   },
   "outputs": [
    {
     "name": "stdout",
     "output_type": "stream",
     "text": [
      "[[Model]]\n",
      "    Model(voigt)\n",
      "[[Fit Statistics]]\n",
      "    # fitting method   = leastsq\n",
      "    # function evals   = 29\n",
      "    # data points      = 31\n",
      "    # variables        = 3\n",
      "    chi-square         = 0.39022342\n",
      "    reduced chi-square = 0.01393655\n",
      "    Akaike info crit   = -129.625714\n",
      "    Bayesian info crit = -125.323752\n",
      "[[Variables]]\n",
      "    amplitude:  7.2454e+08 +/- 15069772.4 (2.08%) (init = 7.945551e+08)\n",
      "    center:     10891737.6 +/- 2068890.97 (19.00%) (init = 9801769)\n",
      "    sigma:      56327968.6 +/- 1527994.79 (2.71%) (init = 4.459805e+07)\n",
      "    gamma:      56327968.6 +/- 1527994.79 (2.71%) == 'sigma'\n",
      "    fwhm:       2.0285e+08 +/- 3346190.61 (1.65%) == '1.0692*gamma+sqrt(0.8664*gamma**2+5.545083*sigma**2)'\n",
      "    height:     2.68461855 +/- 0.04199623 (1.56%) == '(amplitude/(max(1e-15, sigma*sqrt(2*pi))))*wofz((1j*gamma)/(max(1e-15, sigma*sqrt(2)))).real'\n",
      "[[Correlations]] (unreported correlations are < 0.100)\n",
      "    C(amplitude, sigma) = 0.660\n"
     ]
    }
   ],
   "source": [
    "model = VoigtModel()\n",
    "params = model.guess(\n",
    "                    results, \n",
    "                    x = δl_scan\n",
    ")\n",
    "fit = model.fit(results, params, x = δl_scan)\n",
    "print(fit.fit_report())"
   ]
  },
  {
   "cell_type": "code",
   "execution_count": 38,
   "id": "50403281-0ba4-4572-a029-2614a6647796",
   "metadata": {
    "execution": {
     "iopub.execute_input": "2022-03-06T02:38:53.423600Z",
     "iopub.status.busy": "2022-03-06T02:38:53.422601Z",
     "iopub.status.idle": "2022-03-06T02:38:53.617601Z",
     "shell.execute_reply": "2022-03-06T02:38:53.617601Z"
    },
    "papermill": {
     "duration": 0.25303,
     "end_time": "2022-03-06T02:38:53.617601",
     "exception": false,
     "start_time": "2022-03-06T02:38:53.364571",
     "status": "completed"
    },
    "tags": []
   },
   "outputs": [
    {
     "data": {
      "image/png": "[encoded data removed]",
      "text/plain": [
       "<Figure size 576x360 with 1 Axes>"
      ]
     },
     "metadata": {
      "needs_background": "light"
     },
     "output_type": "display_data"
    }
   ],
   "source": [
    "_x = np.linspace(δl_scan.min(), δl_scan.max(), 201)\n",
    "y = fit.eval(x = _x)\n",
    "\n",
    "fig, ax = plt.subplots(figsize = (8,5))\n",
    "ax.plot(δl_scan / (2*np.pi*1e6), results, '.', ms = 13, label = 'data')\n",
    "ax.plot(_x / (2*np.pi*1e6), y, label = 'fit', lw = 2)\n",
    "\n",
    "ax.set_xlabel(\"δ [MHz]\", fontsize = 14)\n",
    "ax.set_ylabel(\"# photons\", fontsize = 14)\n",
    "ax.legend(fontsize = 14)\n",
    "ax.set_title(\"Voigt Fit\", fontsize = 15)\n",
    "ax.grid(True)"
   ]
  },
  {
   "cell_type": "code",
   "execution_count": 39,
   "id": "f3cfa0ae-8cd4-44d3-a3b2-86b49bd91fd5",
   "metadata": {
    "execution": {
     "iopub.execute_input": "2022-03-06T02:38:53.717601Z",
     "iopub.status.busy": "2022-03-06T02:38:53.717601Z",
     "iopub.status.idle": "2022-03-06T02:38:54.015602Z",
     "shell.execute_reply": "2022-03-06T02:38:54.016599Z"
    },
    "papermill": {
     "duration": 0.351001,
     "end_time": "2022-03-06T02:38:54.016599",
     "exception": false,
     "start_time": "2022-03-06T02:38:53.665598",
     "status": "completed"
    },
    "tags": []
   },
   "outputs": [
    {
     "data": {
      "image/png": "[encoded data removed]",
      "text/plain": [
       "<Figure size 432x432 with 2 Axes>"
      ]
     },
     "metadata": {
      "needs_background": "light"
     },
     "output_type": "display_data"
    }
   ],
   "source": [
    "_ = fit.plot()"
   ]
  },
  {
   "cell_type": "code",
   "execution_count": null,
   "id": "7e576c63-d35f-4274-954b-1ed373a0be02",
   "metadata": {
    "papermill": {
     "duration": 0.049998,
     "end_time": "2022-03-06T02:38:54.113598",
     "exception": false,
     "start_time": "2022-03-06T02:38:54.063600",
     "status": "completed"
    },
    "tags": []
   },
   "outputs": [],
   "source": []
  }
 ],
 "metadata": {
  "kernelspec": {
   "display_name": "Python 3 (ipykernel)",
   "language": "python",
   "name": "python3"
  },
  "language_info": {
   "codemirror_mode": {
    "name": "ipython",
    "version": 3
   },
   "file_extension": ".py",
   "mimetype": "text/x-python",
   "name": "python",
   "nbconvert_exporter": "python",
   "pygments_lexer": "ipython3",
   "version": "3.8.12"
  },
  "papermill": {
   "default_parameters": {},
   "duration": 1382.253476,
   "end_time": "2022-03-06T02:38:55.355610",
   "environment_variables": {},
   "exception": null,
   "input_path": "multipass amherst template.ipynb",
   "output_path": "R(1) F1'=3_2 F'=1.ipynb",
   "parameters": {
    "excited_F": 1,
    "excited_F1": 1.5,
    "excited_J": 2,
    "system_Js": [
     1,
     3
    ],
    "transition_type": "R"
   },
   "start_time": "2022-03-06T02:15:53.102134",
   "version": "2.3.4"
  }
 },
 "nbformat": 4,
 "nbformat_minor": 5
}