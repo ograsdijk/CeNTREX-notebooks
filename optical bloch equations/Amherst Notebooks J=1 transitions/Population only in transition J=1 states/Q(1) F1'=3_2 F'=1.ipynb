{
 "cells": [
  {
   "cell_type": "code",
   "execution_count": 1,
   "id": "7d8a7537-0017-470b-8014-10fee27536eb",
   "metadata": {
    "execution": {
     "iopub.execute_input": "2022-03-06T00:30:49.854213Z",
     "iopub.status.busy": "2022-03-06T00:30:49.853210Z",
     "iopub.status.idle": "2022-03-06T00:30:54.619018Z",
     "shell.execute_reply": "2022-03-06T00:30:54.620017Z"
    },
    "papermill": {
     "duration": 4.798809,
     "end_time": "2022-03-06T00:30:54.620017",
     "exception": false,
     "start_time": "2022-03-06T00:30:49.821208",
     "status": "completed"
    },
    "tags": []
   },
   "outputs": [],
   "source": [
    "%load_ext autoreload\n",
    "%autoreload 2\n",
    "\n",
    "import numpy as np\n",
    "import sympy as smp\n",
    "from tqdm import tqdm\n",
    "from sympy import Symbol, symbols\n",
    "import centrex_TlF as centrex\n",
    "import matplotlib.pyplot as plt\n",
    "from julia import Main"
   ]
  },
  {
   "cell_type": "markdown",
   "id": "6b24d705-f2c7-4949-826b-60484c6990f5",
   "metadata": {
    "papermill": {
     "duration": 0.022999,
     "end_time": "2022-03-06T00:30:54.665015",
     "exception": false,
     "start_time": "2022-03-06T00:30:54.642016",
     "status": "completed"
    },
    "tags": []
   },
   "source": [
    "### Papermill parameters"
   ]
  },
  {
   "cell_type": "code",
   "execution_count": 2,
   "id": "9788a2c1-095c-4d35-8c1b-a0548a74c8d2",
   "metadata": {
    "execution": {
     "iopub.execute_input": "2022-03-06T00:30:54.714016Z",
     "iopub.status.busy": "2022-03-06T00:30:54.713016Z",
     "iopub.status.idle": "2022-03-06T00:30:54.776961Z",
     "shell.execute_reply": "2022-03-06T00:30:54.777962Z"
    },
    "papermill": {
     "duration": 0.090947,
     "end_time": "2022-03-06T00:30:54.777962",
     "exception": false,
     "start_time": "2022-03-06T00:30:54.687015",
     "status": "completed"
    },
    "tags": [
     "parameters"
    ]
   },
   "outputs": [],
   "source": [
    "Γ = 2*np.pi*1.56e6\n",
    "\n",
    "transition_type = \"R\"\n",
    "ground_J = 1\n",
    "excited_F = 2\n",
    "excited_F1 = 3/2\n",
    "system_J = [1,3]\n",
    "\n",
    "laser_power = 23.8e-3 # power in W\n",
    "σlaser = 0.000914\n",
    "npasses = 9\n",
    "multipass_offset = 0.01\n",
    "distance_between_passes = 0.03556/npasses\n",
    "power_loss_per_pass = 20.2/23.8\n",
    "\n",
    "vcm = 150\n",
    "vcm_sigma = 30\n",
    "vperp_sigma = 38\n",
    "\n",
    "ωp = 0.65*Γ\n",
    "\n",
    "β = 3.8\n",
    "ωphase = 0.0\n",
    "\n",
    "scan_range = [-30,31,2]\n",
    "\n",
    "nprocs = 7"
   ]
  },
  {
   "cell_type": "code",
   "execution_count": 3,
   "id": "8170d6fc",
   "metadata": {
    "execution": {
     "iopub.execute_input": "2022-03-06T00:30:54.827961Z",
     "iopub.status.busy": "2022-03-06T00:30:54.827961Z",
     "iopub.status.idle": "2022-03-06T00:30:54.901965Z",
     "shell.execute_reply": "2022-03-06T00:30:54.902963Z"
    },
    "papermill": {
     "duration": 0.101002,
     "end_time": "2022-03-06T00:30:54.902963",
     "exception": false,
     "start_time": "2022-03-06T00:30:54.801961",
     "status": "completed"
    },
    "tags": [
     "injected-parameters"
    ]
   },
   "outputs": [],
   "source": [
    "# Parameters\n",
    "transition_type = \"Q\"\n",
    "excited_J = 1\n",
    "excited_F = 1\n",
    "excited_F1 = 1.5\n",
    "system_Js = [1, 3]\n"
   ]
  },
  {
   "cell_type": "code",
   "execution_count": 4,
   "id": "c21c06f6-c1af-496a-b304-7469b9ba8a17",
   "metadata": {
    "execution": {
     "iopub.execute_input": "2022-03-06T00:30:54.952962Z",
     "iopub.status.busy": "2022-03-06T00:30:54.951960Z",
     "iopub.status.idle": "2022-03-06T00:30:55.561962Z",
     "shell.execute_reply": "2022-03-06T00:30:55.562962Z"
    },
    "papermill": {
     "duration": 0.636,
     "end_time": "2022-03-06T00:30:55.562962",
     "exception": false,
     "start_time": "2022-03-06T00:30:54.926962",
     "status": "completed"
    },
    "tags": []
   },
   "outputs": [],
   "source": [
    "trans = centrex.transitions.LaserTransition(\n",
    "    f\"{transition_type}{ground_J}\",\n",
    "    F1 = excited_F1,\n",
    "    F = excited_F\n",
    ")\n",
    "population_J = trans.ground_selector.J\n",
    "population_F = np.unique([g.F for g in trans.ground_states])"
   ]
  },
  {
   "cell_type": "code",
   "execution_count": 5,
   "id": "a8bac859-a1d8-41cf-87c1-45cb8e44710d",
   "metadata": {
    "execution": {
     "iopub.execute_input": "2022-03-06T00:30:55.611961Z",
     "iopub.status.busy": "2022-03-06T00:30:55.611961Z",
     "iopub.status.idle": "2022-03-06T00:30:55.672961Z",
     "shell.execute_reply": "2022-03-06T00:30:55.673960Z"
    },
    "papermill": {
     "duration": 0.088999,
     "end_time": "2022-03-06T00:30:55.673960",
     "exception": false,
     "start_time": "2022-03-06T00:30:55.584961",
     "status": "completed"
    },
    "tags": []
   },
   "outputs": [
    {
     "name": "stdout",
     "output_type": "stream",
     "text": [
      "excited state : QuantumSelector(J=1, F1=1.5, F=1, mF=None, electronic='B', P=1, Ω=None)\n",
      "population in states : QuantumSelector(J=1, F1=None, F=array([0., 1., 2.]), mF=None, electronic='X', P=None, Ω=None)\n"
     ]
    }
   ],
   "source": [
    "excited_state = centrex.states.QuantumSelector(\n",
    "                    J=excited_J, F=excited_F, F1=excited_F1, \n",
    "                    electronic = 'B', P = trans.excited_selector.P\n",
    ")\n",
    "population_states = centrex.states.QuantumSelector(J=population_J, F=population_F, electronic = 'X')\n",
    "\n",
    "print(f\"excited state : {excited_state}\")\n",
    "print(f\"population in states : {population_states}\")"
   ]
  },
  {
   "cell_type": "markdown",
   "id": "21d17f10-4029-4df6-842f-0e7c76366a7c",
   "metadata": {
    "papermill": {
     "duration": 0.023001,
     "end_time": "2022-03-06T00:30:55.719961",
     "exception": false,
     "start_time": "2022-03-06T00:30:55.696960",
     "status": "completed"
    },
    "tags": []
   },
   "source": [
    "# Initial setup\n",
    "## Involved states"
   ]
  },
  {
   "cell_type": "code",
   "execution_count": 6,
   "id": "8a6852be-2045-4f4d-b899-c2717f66efa9",
   "metadata": {
    "execution": {
     "iopub.execute_input": "2022-03-06T00:30:55.769148Z",
     "iopub.status.busy": "2022-03-06T00:30:55.769148Z",
     "iopub.status.idle": "2022-03-06T00:30:55.830147Z",
     "shell.execute_reply": "2022-03-06T00:30:55.831148Z"
    },
    "papermill": {
     "duration": 0.088003,
     "end_time": "2022-03-06T00:30:55.831148",
     "exception": false,
     "start_time": "2022-03-06T00:30:55.743145",
     "status": "completed"
    },
    "tags": []
   },
   "outputs": [],
   "source": [
    "gnd = centrex.states.QuantumSelector(J=system_J, electronic = 'X')\n",
    "exc = excited_state\n",
    "\n",
    "gnd_laser = centrex.states.QuantumSelector(J=trans.ground_selector.J, electronic = 'X')\n",
    "exc_laser = excited_state"
   ]
  },
  {
   "cell_type": "code",
   "execution_count": 7,
   "id": "7f40b6a0-2e4a-489a-892c-84cf72f711c0",
   "metadata": {
    "execution": {
     "iopub.execute_input": "2022-03-06T00:30:55.896145Z",
     "iopub.status.busy": "2022-03-06T00:30:55.895143Z",
     "iopub.status.idle": "2022-03-06T00:30:55.957144Z",
     "shell.execute_reply": "2022-03-06T00:30:55.958144Z"
    },
    "papermill": {
     "duration": 0.089,
     "end_time": "2022-03-06T00:30:55.958144",
     "exception": false,
     "start_time": "2022-03-06T00:30:55.869144",
     "status": "completed"
    },
    "tags": []
   },
   "outputs": [],
   "source": [
    "syspars = centrex.states.SystemParameters(\n",
    "    nprocs  = nprocs,\n",
    "    Γ       = Γ,\n",
    "    X  = gnd,\n",
    "    B = [exc]\n",
    ")"
   ]
  },
  {
   "cell_type": "markdown",
   "id": "5783d09d-767e-4901-b328-5a3d8529c562",
   "metadata": {
    "papermill": {
     "duration": 0.023,
     "end_time": "2022-03-06T00:30:56.005144",
     "exception": false,
     "start_time": "2022-03-06T00:30:55.982144",
     "status": "completed"
    },
    "tags": []
   },
   "source": [
    "## Parameters"
   ]
  },
  {
   "cell_type": "code",
   "execution_count": 8,
   "id": "afce7fb3-65f2-4ace-b238-b74f88ff4659",
   "metadata": {
    "execution": {
     "iopub.execute_input": "2022-03-06T00:30:56.056144Z",
     "iopub.status.busy": "2022-03-06T00:30:56.056144Z",
     "iopub.status.idle": "2022-03-06T00:30:56.132151Z",
     "shell.execute_reply": "2022-03-06T00:30:56.132151Z"
    },
    "papermill": {
     "duration": 0.104007,
     "end_time": "2022-03-06T00:30:56.132151",
     "exception": false,
     "start_time": "2022-03-06T00:30:56.028144",
     "status": "completed"
    },
    "tags": []
   },
   "outputs": [],
   "source": [
    "odepars = centrex.lindblad.odeParameters(\n",
    "    Ωl = \"Ωl0 * phase_modulation(t, β, ωphase) * multipass_2d_intensity(vz*t, y0+vy*t, ampl, xlocs, ylocs, σzlaser, σylaser)\",\n",
    "    Ωl0     = 1*syspars.Γ,    # Rabi frequency of the laser [rad/s]\n",
    "    δl      = 0.0,              # detuning of the laser [rad/s]\n",
    "    \n",
    "    # laser beam properties\n",
    "    σzlaser = σlaser * np.sqrt(2),\n",
    "    σylaser = σlaser * np.sqrt(2),\n",
    "    \n",
    "    # laser multipass\n",
    "    ampl = [np.sqrt(power_loss_per_pass**n) for n in range(npasses)],\n",
    "    xlocs = [(n-1)*distance_between_passes + multipass_offset for n in centrex.utils.light.multipass_prism_order(npasses)],\n",
    "    ylocs = npasses*[0.0],\n",
    "    \n",
    "    # laser phase modulation\n",
    "    ωphase = ωphase,       # laser phase modulation frequency [rad/s]\n",
    "    β      = β,             # laser phase modulation depth [rad]\n",
    "\n",
    "    # laser polarization switching\n",
    "    ωp = ωp,           # polarization switching frequency [rad/s]\n",
    "    φp = 0.0,                 # polarization switching phase [rad]\n",
    "    Pl  = \"sin(ωp*t + φp)\",\n",
    "    Plz = \"Pl>0\",\n",
    "    Plx = \"Pl<=0\",\n",
    "    Ply = 0.0,\n",
    "    \n",
    "    # molecules\n",
    "    y0 = 0.,                   # molecule start y position [m]\n",
    "    vz = 150.,                 # longitudinal molecular velocity [m/s]\n",
    "    vy = 0.,                   # molecule vy [m/s]\n",
    ")\n"
   ]
  },
  {
   "cell_type": "markdown",
   "id": "94aff443-8f03-4464-b85e-cea4b4407fd1",
   "metadata": {
    "papermill": {
     "duration": 0.023999,
     "end_time": "2022-03-06T00:30:56.179149",
     "exception": false,
     "start_time": "2022-03-06T00:30:56.155150",
     "status": "completed"
    },
    "tags": []
   },
   "source": [
    "## Transitions"
   ]
  },
  {
   "cell_type": "code",
   "execution_count": 9,
   "id": "8ab6c2cd-69a9-43bc-b367-70604948ee8e",
   "metadata": {
    "execution": {
     "iopub.execute_input": "2022-03-06T00:30:56.240153Z",
     "iopub.status.busy": "2022-03-06T00:30:56.240153Z",
     "iopub.status.idle": "2022-03-06T00:30:56.303151Z",
     "shell.execute_reply": "2022-03-06T00:30:56.304151Z"
    },
    "papermill": {
     "duration": 0.097001,
     "end_time": "2022-03-06T00:30:56.304151",
     "exception": false,
     "start_time": "2022-03-06T00:30:56.207150",
     "status": "completed"
    },
    "tags": []
   },
   "outputs": [],
   "source": [
    "transitions = [\n",
    "    centrex.couplings.TransitionSelector(\n",
    "        ground = 1*centrex.states.generate_coupled_states_ground_X(gnd_laser),\n",
    "        excited = 1*centrex.states.generate_coupled_states_excited_B(exc_laser),\n",
    "        polarizations        = [[0,0,1],[1,0,0],[0,1,0]],\n",
    "        polarization_symbols = symbols(\"Plz     Plx     Ply\"),\n",
    "        Ω = smp.Symbol('Ωl', complex = True),\n",
    "        δ = smp.Symbol('δl'),\n",
    "        description = \"laser transition\",        \n",
    "    ),\n",
    "]"
   ]
  },
  {
   "cell_type": "code",
   "execution_count": 10,
   "id": "8830dc74-5aef-4786-b0b6-d086c03b86a7",
   "metadata": {
    "execution": {
     "iopub.execute_input": "2022-03-06T00:30:56.370157Z",
     "iopub.status.busy": "2022-03-06T00:30:56.369157Z",
     "iopub.status.idle": "2022-03-06T00:30:56.430158Z",
     "shell.execute_reply": "2022-03-06T00:30:56.431159Z"
    },
    "papermill": {
     "duration": 0.102002,
     "end_time": "2022-03-06T00:30:56.431159",
     "exception": false,
     "start_time": "2022-03-06T00:30:56.329157",
     "status": "completed"
    },
    "tags": []
   },
   "outputs": [
    {
     "data": {
      "text/plain": [
       "\"Q(1) F1'=3_2 F'=1\""
      ]
     },
     "execution_count": 10,
     "metadata": {},
     "output_type": "execute_result"
    }
   ],
   "source": [
    "transition_name = centrex.transitions.identify_transition(\n",
    "    transitions[0].ground[0],\n",
    "    transitions[0].excited[0]\n",
    ")\n",
    "transition_name = transition_name.replace(\",\",\"\").replace(\"/\",\"_\")\n",
    "transition_name"
   ]
  },
  {
   "cell_type": "markdown",
   "id": "e6bed866-24bc-4cbb-9664-022df1a48188",
   "metadata": {
    "papermill": {
     "duration": 0.024,
     "end_time": "2022-03-06T00:30:56.479157",
     "exception": false,
     "start_time": "2022-03-06T00:30:56.455157",
     "status": "completed"
    },
    "tags": []
   },
   "source": [
    "## Generate System"
   ]
  },
  {
   "cell_type": "code",
   "execution_count": 11,
   "id": "4ed1375f-f64b-45c0-8ca8-f98491e8c8f0",
   "metadata": {
    "execution": {
     "iopub.execute_input": "2022-03-06T00:30:56.537158Z",
     "iopub.status.busy": "2022-03-06T00:30:56.537158Z",
     "iopub.status.idle": "2022-03-06T00:32:15.267003Z",
     "shell.execute_reply": "2022-03-06T00:32:15.266003Z"
    },
    "papermill": {
     "duration": 78.760843,
     "end_time": "2022-03-06T00:32:15.267003",
     "exception": false,
     "start_time": "2022-03-06T00:30:56.506160",
     "status": "completed"
    },
    "tags": []
   },
   "outputs": [
    {
     "name": "stderr",
     "output_type": "stream",
     "text": [
      "INFO:centrex_TlF.lindblad.utils_setup:generate_OBE_system: 1/6 -> Generating the reduced Hamiltonian\n"
     ]
    },
    {
     "name": "stderr",
     "output_type": "stream",
     "text": [
      "INFO:centrex_TlF.lindblad.utils_setup:generate_OBE_system: 2/6 -> Generating the couplings corresponding to the transitions\n"
     ]
    },
    {
     "name": "stderr",
     "output_type": "stream",
     "text": [
      "INFO:centrex_TlF.lindblad.utils_setup:generate_OBE_system: 3/6 -> Generating the symbolic Hamiltonian\n"
     ]
    },
    {
     "name": "stderr",
     "output_type": "stream",
     "text": [
      "INFO:centrex_TlF.lindblad.utils_setup:generate_OBE_system: 4/6 -> Generating the collapse matrices\n"
     ]
    },
    {
     "name": "stdout",
     "output_type": "stream",
     "text": [
      "Warning: Branching ratio sum > 1, difference = 2.22e-16\n",
      "Warning: Branching ratio sum > 1, difference = 2.22e-16\n"
     ]
    },
    {
     "name": "stderr",
     "output_type": "stream",
     "text": [
      "INFO:centrex_TlF.lindblad.utils_setup:generate_OBE_system: 5/6 -> Transforming the Hamiltonian and collapse matrices into a symbolic system of equations\n"
     ]
    },
    {
     "name": "stderr",
     "output_type": "stream",
     "text": [
      "INFO:centrex_TlF.lindblad.utils_setup:generate_OBE_system: 6/6 -> Generating Julia code representing the system of equations\n"
     ]
    },
    {
     "name": "stderr",
     "output_type": "stream",
     "text": [
      "INFO:centrex_TlF.lindblad.utils_setup:setup_OBE_system_julia: 1/3 -> Generating the preamble\n"
     ]
    },
    {
     "name": "stderr",
     "output_type": "stream",
     "text": [
      "INFO:centrex_TlF.lindblad.utils_setup:setup_OBE_system_julia: 2/3 -> Initializing Julia on 7 cores\n"
     ]
    },
    {
     "name": "stderr",
     "output_type": "stream",
     "text": [
      "INFO:centrex_TlF.lindblad.utils_setup:setup_OBE_system_julia: 3/3 -> Defining the ODE equation and parameters in Julia\n"
     ]
    },
    {
     "name": "stdout",
     "output_type": "stream",
     "text": [
      "Initialized Julia with 7 processes\n",
      "Wall time: 1min 18s\n"
     ]
    }
   ],
   "source": [
    "%%time\n",
    "obe_system = centrex.lindblad.setup_OBE_system_julia(syspars, odepars, transitions, verbose=True, full_output=True, \n",
    "                                                     qn_compact=centrex.states.QuantumSelector(J=3, electronic = 'X'))"
   ]
  },
  {
   "cell_type": "markdown",
   "id": "e2979859-216a-46aa-a6ed-72a507abf26b",
   "metadata": {
    "papermill": {
     "duration": 0.027,
     "end_time": "2022-03-06T00:32:15.334000",
     "exception": false,
     "start_time": "2022-03-06T00:32:15.307000",
     "status": "completed"
    },
    "tags": []
   },
   "source": [
    "# Simulations\n",
    "## Single trajectory"
   ]
  },
  {
   "cell_type": "code",
   "execution_count": 12,
   "id": "a7dfeb67-36ab-4ed5-9af1-ad66daeddeac",
   "metadata": {
    "execution": {
     "iopub.execute_input": "2022-03-06T00:32:15.390002Z",
     "iopub.status.busy": "2022-03-06T00:32:15.390002Z",
     "iopub.status.idle": "2022-03-06T00:32:15.450000Z",
     "shell.execute_reply": "2022-03-06T00:32:15.451000Z"
    },
    "papermill": {
     "duration": 0.09,
     "end_time": "2022-03-06T00:32:15.451000",
     "exception": false,
     "start_time": "2022-03-06T00:32:15.361000",
     "status": "completed"
    },
    "tags": []
   },
   "outputs": [
    {
     "name": "stdout",
     "output_type": "stream",
     "text": [
      "Ωl0 : 0.24 Γ\n"
     ]
    }
   ],
   "source": [
    "Ωl0 = centrex.utils.light.calculate_rabi_from_power_gaussian_beam(\n",
    "                        laser_power,\n",
    "                        obe_system.couplings[0]['main coupling'],\n",
    "                        σlaser,\n",
    "                        σlaser\n",
    "    ).real\n",
    "print(f\"Ωl0 : {Ωl0 / syspars.Γ:.2f} Γ\")"
   ]
  },
  {
   "cell_type": "code",
   "execution_count": 13,
   "id": "f29311e6-5f91-40cc-b852-150cb39f3072",
   "metadata": {
    "execution": {
     "iopub.execute_input": "2022-03-06T00:32:15.505001Z",
     "iopub.status.busy": "2022-03-06T00:32:15.505001Z",
     "iopub.status.idle": "2022-03-06T00:32:15.573002Z",
     "shell.execute_reply": "2022-03-06T00:32:15.574002Z"
    },
    "papermill": {
     "duration": 0.097999,
     "end_time": "2022-03-06T00:32:15.574002",
     "exception": false,
     "start_time": "2022-03-06T00:32:15.476003",
     "status": "completed"
    },
    "tags": []
   },
   "outputs": [],
   "source": [
    "odepars.Ωl0 = Ωl0\n",
    "odepars.ωphase = ωphase\n",
    "odepars.ωp = ωp"
   ]
  },
  {
   "cell_type": "code",
   "execution_count": 14,
   "id": "39446a36-7821-474c-8be2-cf0892f0d017",
   "metadata": {
    "execution": {
     "iopub.execute_input": "2022-03-06T00:32:15.631002Z",
     "iopub.status.busy": "2022-03-06T00:32:15.631002Z",
     "iopub.status.idle": "2022-03-06T00:32:21.885210Z",
     "shell.execute_reply": "2022-03-06T00:32:21.885210Z"
    },
    "papermill": {
     "duration": 6.284209,
     "end_time": "2022-03-06T00:32:21.885210",
     "exception": false,
     "start_time": "2022-03-06T00:32:15.601001",
     "status": "completed"
    },
    "tags": []
   },
   "outputs": [],
   "source": [
    "ρ = centrex.utils.generate_population_states(population_states.get_indices(obe_system.QN), len(obe_system.QN))\n",
    "t_array, results = centrex.lindblad.do_simulation_single(odepars, (0,50e-3/odepars.vz+10e-6), ρ)"
   ]
  },
  {
   "cell_type": "code",
   "execution_count": 15,
   "id": "c2022834-a208-480a-bce9-4649d182fa91",
   "metadata": {
    "execution": {
     "iopub.execute_input": "2022-03-06T00:32:21.955208Z",
     "iopub.status.busy": "2022-03-06T00:32:21.955208Z",
     "iopub.status.idle": "2022-03-06T00:32:22.419199Z",
     "shell.execute_reply": "2022-03-06T00:32:22.419199Z"
    },
    "papermill": {
     "duration": 0.505991,
     "end_time": "2022-03-06T00:32:22.419199",
     "exception": false,
     "start_time": "2022-03-06T00:32:21.913208",
     "status": "completed"
    },
    "tags": []
   },
   "outputs": [],
   "source": [
    "multipass = np.abs(odepars.get_parameter_evolution(t_array, \"Ωl\").real)"
   ]
  },
  {
   "cell_type": "code",
   "execution_count": 16,
   "id": "51d3bd7a-ad1b-46a3-a5e0-e10ee58fd9c6",
   "metadata": {
    "execution": {
     "iopub.execute_input": "2022-03-06T00:32:22.488200Z",
     "iopub.status.busy": "2022-03-06T00:32:22.487200Z",
     "iopub.status.idle": "2022-03-06T00:32:22.844196Z",
     "shell.execute_reply": "2022-03-06T00:32:22.845198Z"
    },
    "papermill": {
     "duration": 0.398002,
     "end_time": "2022-03-06T00:32:22.845198",
     "exception": false,
     "start_time": "2022-03-06T00:32:22.447196",
     "status": "completed"
    },
    "tags": []
   },
   "outputs": [
    {
     "data": {
      "image/png": "[encoded data removed]",
      "text/plain": [
       "<Figure size 720x432 with 1 Axes>"
      ]
     },
     "metadata": {
      "needs_background": "light"
     },
     "output_type": "display_data"
    }
   ],
   "source": [
    "fig, ax = plt.subplots(figsize = (10,6)) \n",
    "ax.plot(t_array*1e6, results.T, lw = 2);\n",
    "ax.plot(t_array*1e6, multipass/multipass.max()*0.8, 'k--', lw = 2,\n",
    "        label = 'multipass')\n",
    "ax.set_xlabel('time [μs]')\n",
    "ax.set_ylabel('population')\n",
    "ax.legend(fontsize = 14)\n",
    "ax.grid(True)"
   ]
  },
  {
   "cell_type": "code",
   "execution_count": 17,
   "id": "89232317-cb62-428d-b2a6-5b27d31cb99c",
   "metadata": {
    "execution": {
     "iopub.execute_input": "2022-03-06T00:32:22.930199Z",
     "iopub.status.busy": "2022-03-06T00:32:22.929200Z",
     "iopub.status.idle": "2022-03-06T00:32:23.034198Z",
     "shell.execute_reply": "2022-03-06T00:32:23.035199Z"
    },
    "papermill": {
     "duration": 0.155002,
     "end_time": "2022-03-06T00:32:23.035199",
     "exception": false,
     "start_time": "2022-03-06T00:32:22.880197",
     "status": "completed"
    },
    "tags": []
   },
   "outputs": [
    {
     "name": "stdout",
     "output_type": "stream",
     "text": [
      "|X, J = 1, F₁ = 3/2, F = 2, mF = -2, I₁ = 1/2, I₂ = 1/2, P = -, Ω = 0>\n",
      "|X, J = 1, F₁ = 3/2, F = 2, mF = -1, I₁ = 1/2, I₂ = 1/2, P = -, Ω = 0>\n",
      "|X, J = 1, F₁ = 3/2, F = 2, mF = 1, I₁ = 1/2, I₂ = 1/2, P = -, Ω = 0>\n",
      "|X, J = 1, F₁ = 3/2, F = 2, mF = 2, I₁ = 1/2, I₂ = 1/2, P = -, Ω = 0>\n",
      "|X, J = 3, F₁ = None, F = None, mF = None, I₁ = 1/2, I₂ = 1/2, P = -, Ω = 0>\n"
     ]
    }
   ],
   "source": [
    "for states in np.array(obe_system.QN)[results[:,-1] > 0.05]:\n",
    "    print(states.find_largest_component())"
   ]
  },
  {
   "cell_type": "code",
   "execution_count": 18,
   "id": "40e8f6c3-2370-4163-aaab-2b0be25a8e6d",
   "metadata": {
    "execution": {
     "iopub.execute_input": "2022-03-06T00:32:23.141198Z",
     "iopub.status.busy": "2022-03-06T00:32:23.140199Z",
     "iopub.status.idle": "2022-03-06T00:32:23.238198Z",
     "shell.execute_reply": "2022-03-06T00:32:23.239198Z"
    },
    "papermill": {
     "duration": 0.147997,
     "end_time": "2022-03-06T00:32:23.239198",
     "exception": false,
     "start_time": "2022-03-06T00:32:23.091201",
     "status": "completed"
    },
    "tags": []
   },
   "outputs": [
    {
     "data": {
      "text/plain": [
       "3.4112219498114964"
      ]
     },
     "execution_count": 18,
     "metadata": {},
     "output_type": "execute_result"
    }
   ],
   "source": [
    "np.trapz(results[exc.get_indices(obe_system.QN),:].sum(axis = 0), t_array)*syspars.Γ"
   ]
  },
  {
   "cell_type": "markdown",
   "id": "38d78351-bc19-4793-94db-8e2436d6cb14",
   "metadata": {
    "papermill": {
     "duration": 0.051004,
     "end_time": "2022-03-06T00:32:23.321201",
     "exception": false,
     "start_time": "2022-03-06T00:32:23.270197",
     "status": "completed"
    },
    "tags": []
   },
   "source": [
    "## Detuning Scan"
   ]
  },
  {
   "cell_type": "code",
   "execution_count": 19,
   "id": "db3160c7-b51e-4cd3-8f8c-5dfeaffa8d31",
   "metadata": {
    "execution": {
     "iopub.execute_input": "2022-03-06T00:32:23.405201Z",
     "iopub.status.busy": "2022-03-06T00:32:23.405201Z",
     "iopub.status.idle": "2022-03-06T00:32:55.099092Z",
     "shell.execute_reply": "2022-03-06T00:32:55.099092Z"
    },
    "papermill": {
     "duration": 31.742895,
     "end_time": "2022-03-06T00:32:55.099092",
     "exception": false,
     "start_time": "2022-03-06T00:32:23.356197",
     "status": "completed"
    },
    "tags": []
   },
   "outputs": [
    {
     "name": "stdout",
     "output_type": "stream",
     "text": [
      "Wall time: 31.6 s\n"
     ]
    }
   ],
   "source": [
    "%%time\n",
    "\n",
    "odepars.Ωl0 = Ωl0\n",
    "odepars.ωphase = ωphase\n",
    "odepars.ωp = ωp\n",
    "\n",
    "tspan = (0,1000e-6)\n",
    "ρ = centrex.utils.generate_population_states(\n",
    "        centrex.states.QuantumSelector(J=1, F=[1,2], electronic = 'X').get_indices(obe_system.QN), \n",
    "        len(obe_system.QN)\n",
    "    )\n",
    "\n",
    "δl_scan = np.linspace(-5,5,101)*syspars.Γ\n",
    "\n",
    "parameters = [\"δl\"]\n",
    "values = [δl_scan]\n",
    "\n",
    "output_func = centrex.lindblad.setup_state_integral_calculation(\n",
    "                states = exc.get_indices(obe_system.QN, mode = \"julia\"),\n",
    "                nphotons = True\n",
    "            )\n",
    "\n",
    "cb = centrex.lindblad.setup_discrete_callback_terminate(odepars, \"vz*t >= 50e-3\")\n",
    "\n",
    "ens_prob = centrex.lindblad.setup_problem_parameter_scan(\n",
    "                        odepars, tspan, ρ, parameters, values, \n",
    "                        dimensions = 1,\n",
    "                        output_func = output_func,\n",
    "                        zipped = True\n",
    "            )\n",
    "\n",
    "centrex.lindblad.solve_problem_parameter_scan(ensemble_problem_name = ens_prob, saveat = 1e-7,\n",
    "                                             callback = cb)"
   ]
  },
  {
   "cell_type": "code",
   "execution_count": 20,
   "id": "817d03c6-c2e3-4f75-8bdd-fad4b3c694f1",
   "metadata": {
    "execution": {
     "iopub.execute_input": "2022-03-06T00:32:55.164094Z",
     "iopub.status.busy": "2022-03-06T00:32:55.164094Z",
     "iopub.status.idle": "2022-03-06T00:32:55.321092Z",
     "shell.execute_reply": "2022-03-06T00:32:55.322093Z"
    },
    "papermill": {
     "duration": 0.192999,
     "end_time": "2022-03-06T00:32:55.322093",
     "exception": false,
     "start_time": "2022-03-06T00:32:55.129094",
     "status": "completed"
    },
    "tags": []
   },
   "outputs": [
    {
     "data": {
      "image/png": "[encoded data removed]",
      "text/plain": [
       "<Figure size 576x360 with 1 Axes>"
      ]
     },
     "metadata": {
      "needs_background": "light"
     },
     "output_type": "display_data"
    }
   ],
   "source": [
    "results = centrex.lindblad.get_results_parameter_scan()\n",
    "\n",
    "fig, ax = plt.subplots(figsize = (8,5))\n",
    "ax.plot(δl_scan/syspars.Γ, results, '-')\n",
    "ax.grid(True)"
   ]
  },
  {
   "cell_type": "markdown",
   "id": "b6dcbe1d-3795-47c2-8019-a008c982afd3",
   "metadata": {
    "papermill": {
     "duration": 0.032,
     "end_time": "2022-03-06T00:32:55.397092",
     "exception": false,
     "start_time": "2022-03-06T00:32:55.365092",
     "status": "completed"
    },
    "tags": []
   },
   "source": [
    "## Trajectory Scan"
   ]
  },
  {
   "cell_type": "code",
   "execution_count": 21,
   "id": "a124f5a7-7a18-41ed-bac2-8c21ef7f46fd",
   "metadata": {
    "execution": {
     "iopub.execute_input": "2022-03-06T00:32:55.470093Z",
     "iopub.status.busy": "2022-03-06T00:32:55.470093Z",
     "iopub.status.idle": "2022-03-06T00:32:57.729016Z",
     "shell.execute_reply": "2022-03-06T00:32:57.730017Z"
    },
    "papermill": {
     "duration": 2.299924,
     "end_time": "2022-03-06T00:32:57.730017",
     "exception": false,
     "start_time": "2022-03-06T00:32:55.430093",
     "status": "completed"
    },
    "tags": []
   },
   "outputs": [],
   "source": [
    "ntrajectories = 500\n",
    "\n",
    "n = int(1e7)\n",
    "vz = centrex.utils.generate_random_longitudinal_velocities(n, vcm, vcm_sigma)\n",
    "vx, vy = centrex.utils.generate_random_transverse_velocities(n, vperp_sigma)\n",
    "x0, y0 = centrex.utils.generate_random_coords_circle_2D(n, 0.0025)\n",
    "apertures = [(47e-3, 6.35e-3), (73e-3, 12.7e-3), (290e-3, 2.54e-3)]\n",
    "mask = np.ones(n, dtype = bool)\n",
    "for (location, diameter) in apertures:\n",
    "    t = location / vz\n",
    "    r = np.sqrt((x0+vx*t)**2 + (y0+vy*t)**2)\n",
    "    m = r < diameter/2\n",
    "    mask &= m\n",
    "    \n",
    "start_loc = 358e-3 - 0.03556/2 - 10e-3\n",
    "t = start_loc / vz\n",
    "x0, y0 = x0 + vx*t, y0 + vy*t\n",
    "\n",
    "x0 = x0[mask][:ntrajectories]\n",
    "y0 = y0[mask][:ntrajectories]\n",
    "vx = vx[mask][:ntrajectories]\n",
    "vy = vy[mask][:ntrajectories]\n",
    "vz = vz[mask][:ntrajectories]\n",
    "\n",
    "assert mask.sum() >= ntrajectories, \"not enough trajectories make it through apertures\"\n",
    "del t, mask\n",
    "\n",
    "δls = centrex.utils.detuning.velocity_to_detuning(vx, 1106e12, syspars.Γ)*syspars.Γ"
   ]
  },
  {
   "cell_type": "code",
   "execution_count": 22,
   "id": "ed2e89ae-b7e3-4645-af48-70a3fe13327a",
   "metadata": {
    "execution": {
     "iopub.execute_input": "2022-03-06T00:32:57.799017Z",
     "iopub.status.busy": "2022-03-06T00:32:57.798019Z",
     "iopub.status.idle": "2022-03-06T00:33:52.221844Z",
     "shell.execute_reply": "2022-03-06T00:33:52.220844Z"
    },
    "papermill": {
     "duration": 54.461826,
     "end_time": "2022-03-06T00:33:52.221844",
     "exception": false,
     "start_time": "2022-03-06T00:32:57.760018",
     "status": "completed"
    },
    "tags": []
   },
   "outputs": [],
   "source": [
    "odepars.Ωl0 = Ωl0\n",
    "odepars.ωphase = ωphase\n",
    "odepars.ωp = ωp\n",
    "\n",
    "tspan = (0,1000e-6)\n",
    "ρ = centrex.utils.generate_population_states(\n",
    "        centrex.states.QuantumSelector(J=1, F=[1,2], electronic = 'X').get_indices(obe_system.QN), \n",
    "        len(obe_system.QN)\n",
    "    )\n",
    "\n",
    "parameters = [\"vz\", \"δl\", \"y0\"]\n",
    "values = [vz, δls, y0]\n",
    "\n",
    "output_func = centrex.lindblad.setup_state_integral_calculation(\n",
    "                states = exc.get_indices(obe_system.QN, mode = \"julia\"),\n",
    "                nphotons = True\n",
    "            )\n",
    "\n",
    "cb = centrex.lindblad.setup_discrete_callback_terminate(odepars, \"vz*t >= 50e-3\")\n",
    "\n",
    "ens_prob = centrex.lindblad.setup_problem_parameter_scan(\n",
    "                        odepars, tspan, ρ, parameters, values, \n",
    "                        dimensions = 1,\n",
    "                        output_func = output_func,\n",
    "                        zipped = True\n",
    "            )\n",
    "\n",
    "centrex.lindblad.solve_problem_parameter_scan(ensemble_problem_name = ens_prob, saveat = 1e-7,\n",
    "                                             callback = cb)"
   ]
  },
  {
   "cell_type": "code",
   "execution_count": 23,
   "id": "29942c9f-5a7c-4c12-b72f-29ad3cb82fdc",
   "metadata": {
    "execution": {
     "iopub.execute_input": "2022-03-06T00:33:52.310503Z",
     "iopub.status.busy": "2022-03-06T00:33:52.309504Z",
     "iopub.status.idle": "2022-03-06T00:33:52.378502Z",
     "shell.execute_reply": "2022-03-06T00:33:52.379502Z"
    },
    "papermill": {
     "duration": 0.120656,
     "end_time": "2022-03-06T00:33:52.379502",
     "exception": false,
     "start_time": "2022-03-06T00:33:52.258846",
     "status": "completed"
    },
    "tags": []
   },
   "outputs": [],
   "source": [
    "results = centrex.lindblad.get_results_parameter_scan()"
   ]
  },
  {
   "cell_type": "code",
   "execution_count": 24,
   "id": "75347af4-d3a1-460a-badb-152170f68dbe",
   "metadata": {
    "execution": {
     "iopub.execute_input": "2022-03-06T00:33:52.445506Z",
     "iopub.status.busy": "2022-03-06T00:33:52.444502Z",
     "iopub.status.idle": "2022-03-06T00:33:52.506501Z",
     "shell.execute_reply": "2022-03-06T00:33:52.505501Z"
    },
    "papermill": {
     "duration": 0.095994,
     "end_time": "2022-03-06T00:33:52.506501",
     "exception": false,
     "start_time": "2022-03-06T00:33:52.410507",
     "status": "completed"
    },
    "tags": []
   },
   "outputs": [
    {
     "data": {
      "text/plain": [
       "3.3891267565327134"
      ]
     },
     "execution_count": 24,
     "metadata": {},
     "output_type": "execute_result"
    }
   ],
   "source": [
    "np.average(results)"
   ]
  },
  {
   "cell_type": "markdown",
   "id": "5ee62fd7-919a-40df-8c52-140906fb0a39",
   "metadata": {
    "papermill": {
     "duration": 0.033,
     "end_time": "2022-03-06T00:33:52.578501",
     "exception": false,
     "start_time": "2022-03-06T00:33:52.545501",
     "status": "completed"
    },
    "tags": []
   },
   "source": [
    "## Detuning scan over trajectories for approximate power used in measurement"
   ]
  },
  {
   "cell_type": "code",
   "execution_count": 25,
   "id": "38eaf1fb-7795-477e-a0ae-c43652420275",
   "metadata": {
    "execution": {
     "iopub.execute_input": "2022-03-06T00:33:52.650503Z",
     "iopub.status.busy": "2022-03-06T00:33:52.650503Z",
     "iopub.status.idle": "2022-03-06T00:33:54.897519Z",
     "shell.execute_reply": "2022-03-06T00:33:54.897519Z"
    },
    "papermill": {
     "duration": 2.287015,
     "end_time": "2022-03-06T00:33:54.897519",
     "exception": false,
     "start_time": "2022-03-06T00:33:52.610504",
     "status": "completed"
    },
    "tags": []
   },
   "outputs": [],
   "source": [
    "ntrajectories = 100\n",
    "\n",
    "n = int(1e7)\n",
    "vz = centrex.utils.generate_random_longitudinal_velocities(n, vcm, vcm_sigma)\n",
    "vx, vy = centrex.utils.generate_random_transverse_velocities(n, vperp_sigma)\n",
    "x0, y0 = centrex.utils.generate_random_coords_circle_2D(n, 0.0025)\n",
    "apertures = [(47e-3, 6.35e-3), (73e-3, 12.7e-3), (290e-3, 2.54e-3)]\n",
    "mask = np.ones(n, dtype = bool)\n",
    "for (location, diameter) in apertures:\n",
    "    t = location / vz\n",
    "    r = np.sqrt((x0+vx*t)**2 + (y0+vy*t)**2)\n",
    "    m = r < diameter/2\n",
    "    mask &= m\n",
    "    \n",
    "start_loc = 358e-3 - 0.03556/2 - 10e-3\n",
    "t = start_loc / vz\n",
    "x0, y0 = x0 + vx*t, y0 + vy*t\n",
    "\n",
    "x0 = x0[mask][:ntrajectories]\n",
    "y0 = y0[mask][:ntrajectories]\n",
    "vx = vx[mask][:ntrajectories]\n",
    "vy = vy[mask][:ntrajectories]\n",
    "vz = vz[mask][:ntrajectories]\n",
    "\n",
    "assert mask.sum() >= ntrajectories, \"not enough trajectories make it through apertures\"\n",
    "del t, mask\n",
    "\n",
    "δls = centrex.utils.detuning.velocity_to_detuning(vx, 1106e12, syspars.Γ)*syspars.Γ"
   ]
  },
  {
   "cell_type": "code",
   "execution_count": 26,
   "id": "aa77c713-c05f-42bd-838a-e488ab436af8",
   "metadata": {
    "execution": {
     "iopub.execute_input": "2022-03-06T00:33:54.967519Z",
     "iopub.status.busy": "2022-03-06T00:33:54.967519Z",
     "iopub.status.idle": "2022-03-06T00:53:46.317495Z",
     "shell.execute_reply": "2022-03-06T00:53:46.315496Z"
    },
    "papermill": {
     "duration": 1191.387975,
     "end_time": "2022-03-06T00:53:46.317495",
     "exception": false,
     "start_time": "2022-03-06T00:33:54.929520",
     "status": "completed"
    },
    "tags": []
   },
   "outputs": [
    {
     "name": "stderr",
     "output_type": "stream",
     "text": [
      "\r",
      "  0%|                                                                                                             | 0/31 [00:00<?, ?it/s]"
     ]
    },
    {
     "name": "stderr",
     "output_type": "stream",
     "text": [
      "\r",
      "  3%|███▎                                                                                                 | 1/31 [01:07<33:42, 67.41s/it]"
     ]
    },
    {
     "name": "stderr",
     "output_type": "stream",
     "text": [
      "\r",
      "  6%|██████▌                                                                                              | 2/31 [02:12<32:00, 66.21s/it]"
     ]
    },
    {
     "name": "stderr",
     "output_type": "stream",
     "text": [
      "\r",
      " 10%|█████████▊                                                                                           | 3/31 [03:12<29:27, 63.11s/it]"
     ]
    },
    {
     "name": "stderr",
     "output_type": "stream",
     "text": [
      "\r",
      " 13%|█████████████                                                                                        | 4/31 [04:07<27:02, 60.11s/it]"
     ]
    },
    {
     "name": "stderr",
     "output_type": "stream",
     "text": [
      "\r",
      " 16%|████████████████▎                                                                                    | 5/31 [05:00<24:58, 57.63s/it]"
     ]
    },
    {
     "name": "stderr",
     "output_type": "stream",
     "text": [
      "\r",
      " 19%|███████████████████▌                                                                                 | 6/31 [05:49<22:46, 54.64s/it]"
     ]
    },
    {
     "name": "stderr",
     "output_type": "stream",
     "text": [
      "\r",
      " 23%|██████████████████████▊                                                                              | 7/31 [06:32<20:19, 50.79s/it]"
     ]
    },
    {
     "name": "stderr",
     "output_type": "stream",
     "text": [
      "\r",
      " 26%|██████████████████████████                                                                           | 8/31 [07:12<18:07, 47.30s/it]"
     ]
    },
    {
     "name": "stderr",
     "output_type": "stream",
     "text": [
      "\r",
      " 29%|█████████████████████████████▎                                                                       | 9/31 [07:48<16:06, 43.93s/it]"
     ]
    },
    {
     "name": "stderr",
     "output_type": "stream",
     "text": [
      "\r",
      " 32%|████████████████████████████████▎                                                                   | 10/31 [08:21<14:07, 40.35s/it]"
     ]
    },
    {
     "name": "stderr",
     "output_type": "stream",
     "text": [
      "\r",
      " 35%|███████████████████████████████████▍                                                                | 11/31 [08:51<12:25, 37.25s/it]"
     ]
    },
    {
     "name": "stderr",
     "output_type": "stream",
     "text": [
      "\r",
      " 39%|██████████████████████████████████████▋                                                             | 12/31 [09:16<10:37, 33.54s/it]"
     ]
    },
    {
     "name": "stderr",
     "output_type": "stream",
     "text": [
      "\r",
      " 42%|█████████████████████████████████████████▉                                                          | 13/31 [09:36<08:47, 29.30s/it]"
     ]
    },
    {
     "name": "stderr",
     "output_type": "stream",
     "text": [
      "\r",
      " 45%|█████████████████████████████████████████████▏                                                      | 14/31 [09:51<07:06, 25.08s/it]"
     ]
    },
    {
     "name": "stderr",
     "output_type": "stream",
     "text": [
      "\r",
      " 48%|████████████████████████████████████████████████▍                                                   | 15/31 [10:03<05:38, 21.13s/it]"
     ]
    },
    {
     "name": "stderr",
     "output_type": "stream",
     "text": [
      "\r",
      " 52%|███████████████████████████████████████████████████▌                                                | 16/31 [10:13<04:28, 17.92s/it]"
     ]
    },
    {
     "name": "stderr",
     "output_type": "stream",
     "text": [
      "\r",
      " 55%|██████████████████████████████████████████████████████▊                                             | 17/31 [10:25<03:42, 15.92s/it]"
     ]
    },
    {
     "name": "stderr",
     "output_type": "stream",
     "text": [
      "\r",
      " 58%|██████████████████████████████████████████████████████████                                          | 18/31 [10:39<03:18, 15.29s/it]"
     ]
    },
    {
     "name": "stderr",
     "output_type": "stream",
     "text": [
      "\r",
      " 61%|█████████████████████████████████████████████████████████████▎                                      | 19/31 [10:56<03:13, 16.08s/it]"
     ]
    },
    {
     "name": "stderr",
     "output_type": "stream",
     "text": [
      "\r",
      " 65%|████████████████████████████████████████████████████████████████▌                                   | 20/31 [11:18<03:16, 17.87s/it]"
     ]
    },
    {
     "name": "stderr",
     "output_type": "stream",
     "text": [
      "\r",
      " 68%|███████████████████████████████████████████████████████████████████▋                                | 21/31 [11:45<03:24, 20.46s/it]"
     ]
    },
    {
     "name": "stderr",
     "output_type": "stream",
     "text": [
      "\r",
      " 71%|██████████████████████████████████████████████████████████████████████▉                             | 22/31 [12:15<03:31, 23.46s/it]"
     ]
    },
    {
     "name": "stderr",
     "output_type": "stream",
     "text": [
      "\r",
      " 74%|██████████████████████████████████████████████████████████████████████████▏                         | 23/31 [12:50<03:33, 26.68s/it]"
     ]
    },
    {
     "name": "stderr",
     "output_type": "stream",
     "text": [
      "\r",
      " 77%|█████████████████████████████████████████████████████████████████████████████▍                      | 24/31 [13:29<03:32, 30.39s/it]"
     ]
    },
    {
     "name": "stderr",
     "output_type": "stream",
     "text": [
      "\r",
      " 81%|████████████████████████████████████████████████████████████████████████████████▋                   | 25/31 [14:12<03:25, 34.31s/it]"
     ]
    },
    {
     "name": "stderr",
     "output_type": "stream",
     "text": [
      "\r",
      " 84%|███████████████████████████████████████████████████████████████████████████████████▊                | 26/31 [14:59<03:10, 38.12s/it]"
     ]
    },
    {
     "name": "stderr",
     "output_type": "stream",
     "text": [
      "\r",
      " 87%|███████████████████████████████████████████████████████████████████████████████████████             | 27/31 [15:49<02:47, 41.76s/it]"
     ]
    },
    {
     "name": "stderr",
     "output_type": "stream",
     "text": [
      "\r",
      " 90%|██████████████████████████████████████████████████████████████████████████████████████████▎         | 28/31 [16:43<02:15, 45.24s/it]"
     ]
    },
    {
     "name": "stderr",
     "output_type": "stream",
     "text": [
      "\r",
      " 94%|█████████████████████████████████████████████████████████████████████████████████████████████▌      | 29/31 [17:41<01:38, 49.07s/it]"
     ]
    },
    {
     "name": "stderr",
     "output_type": "stream",
     "text": [
      "\r",
      " 97%|████████████████████████████████████████████████████████████████████████████████████████████████▊   | 30/31 [18:43<00:52, 52.94s/it]"
     ]
    },
    {
     "name": "stderr",
     "output_type": "stream",
     "text": [
      "\r",
      "100%|████████████████████████████████████████████████████████████████████████████████████████████████████| 31/31 [19:51<00:00, 57.45s/it]"
     ]
    },
    {
     "name": "stderr",
     "output_type": "stream",
     "text": [
      "\r",
      "100%|████████████████████████████████████████████████████████████████████████████████████████████████████| 31/31 [19:51<00:00, 38.43s/it]"
     ]
    },
    {
     "name": "stderr",
     "output_type": "stream",
     "text": [
      "\n"
     ]
    }
   ],
   "source": [
    "import copy\n",
    "\n",
    "odepars.Ωl0 = Ωl0\n",
    "odepars.ωphase = ωphase\n",
    "odepars.ωp = ωp\n",
    "\n",
    "tspan = (0,1000e-6)\n",
    "ρ = centrex.utils.generate_population_states(\n",
    "        population_states.get_indices(obe_system.QN), \n",
    "        len(obe_system.QN)\n",
    "    )\n",
    "\n",
    "parameters = [\"vz\", \"δl\", \"y0\"]\n",
    "values = [vz, δls, y0]\n",
    "\n",
    "output_func = centrex.lindblad.setup_state_integral_calculation(\n",
    "                states = exc.get_indices(obe_system.QN, mode = \"julia\"),\n",
    "                nphotons = True\n",
    "            )\n",
    "\n",
    "δl_scan = np.arange(*scan_range)*syspars.Γ\n",
    "\n",
    "results = []\n",
    "for δli in tqdm(δl_scan):\n",
    "    vals = copy.copy(values)\n",
    "    vals[1] = vals[1] + δli\n",
    "    cb = centrex.lindblad.setup_discrete_callback_terminate(odepars, \"vz*t >= 50e-3\")\n",
    "\n",
    "    ens_prob = centrex.lindblad.setup_problem_parameter_scan(\n",
    "                            odepars, tspan, ρ, parameters, vals, \n",
    "                            dimensions = 1,\n",
    "                            output_func = output_func,\n",
    "                            zipped = True\n",
    "                )\n",
    "\n",
    "    centrex.lindblad.solve_problem_parameter_scan(ensemble_problem_name = ens_prob, saveat = 1e-7,\n",
    "                                                 callback = cb)\n",
    "    res = centrex.lindblad.get_results_parameter_scan()\n",
    "    results.append(np.average(res))\n",
    "results = np.asarray(results)    \n",
    "odepars.Ωl0 = Ωl0"
   ]
  },
  {
   "cell_type": "code",
   "execution_count": 27,
   "id": "65a46fd6-e56a-4566-9b6c-e22ce7cc03bc",
   "metadata": {
    "execution": {
     "iopub.execute_input": "2022-03-06T00:53:46.403500Z",
     "iopub.status.busy": "2022-03-06T00:53:46.402498Z",
     "iopub.status.idle": "2022-03-06T00:53:46.556497Z",
     "shell.execute_reply": "2022-03-06T00:53:46.557497Z"
    },
    "papermill": {
     "duration": 0.199001,
     "end_time": "2022-03-06T00:53:46.557497",
     "exception": false,
     "start_time": "2022-03-06T00:53:46.358496",
     "status": "completed"
    },
    "tags": []
   },
   "outputs": [
    {
     "name": "stdout",
     "output_type": "stream",
     "text": [
      "maximum signal : 3.51\n"
     ]
    },
    {
     "data": {
      "image/png": "[encoded data removed]",
      "text/plain": [
       "<Figure size 576x360 with 1 Axes>"
      ]
     },
     "metadata": {
      "needs_background": "light"
     },
     "output_type": "display_data"
    }
   ],
   "source": [
    "fig, ax = plt.subplots(figsize = (8,5))\n",
    "ax.plot(δl_scan / (2*np.pi*1e6), results, '-', lw = 2)\n",
    "ax.plot(δl_scan / (2*np.pi*1e6), results, '.', ms = 13, color = 'C3')\n",
    "\n",
    "ax.set_xlabel(\"δ [MHz]\", fontsize = 14)\n",
    "ax.set_ylabel(\"# photons\", fontsize = 14)\n",
    "ax.grid(True)\n",
    "\n",
    "print(f\"maximum signal : {np.max(results):.2f}\")"
   ]
  },
  {
   "cell_type": "markdown",
   "id": "72eafcf4-c61e-4385-b7ea-b25b66dfdf03",
   "metadata": {
    "papermill": {
     "duration": 0.094,
     "end_time": "2022-03-06T00:53:46.690496",
     "exception": false,
     "start_time": "2022-03-06T00:53:46.596496",
     "status": "completed"
    },
    "tags": []
   },
   "source": [
    "### Save Trajectory Detuning Scan Data"
   ]
  },
  {
   "cell_type": "code",
   "execution_count": 28,
   "id": "e839a1b3-8e15-4162-991a-37f98acfccc9",
   "metadata": {
    "execution": {
     "iopub.execute_input": "2022-03-06T00:53:46.780497Z",
     "iopub.status.busy": "2022-03-06T00:53:46.780497Z",
     "iopub.status.idle": "2022-03-06T00:53:46.839498Z",
     "shell.execute_reply": "2022-03-06T00:53:46.839498Z"
    },
    "papermill": {
     "duration": 0.107001,
     "end_time": "2022-03-06T00:53:46.839498",
     "exception": false,
     "start_time": "2022-03-06T00:53:46.732497",
     "status": "completed"
    },
    "tags": []
   },
   "outputs": [],
   "source": [
    "import pickle\n",
    "\n",
    "with open(f\"{transition_name}.pkl\", \"wb\") as f:\n",
    "    pickle.dump(\n",
    "        dict(\n",
    "            δl_scan = δl_scan,\n",
    "            signal = results\n",
    "        ),\n",
    "        f\n",
    "    )"
   ]
  },
  {
   "cell_type": "markdown",
   "id": "0524b68f-0953-47ef-9ebb-9e4608052bb7",
   "metadata": {
    "papermill": {
     "duration": 0.042,
     "end_time": "2022-03-06T00:53:46.922495",
     "exception": false,
     "start_time": "2022-03-06T00:53:46.880495",
     "status": "completed"
    },
    "tags": []
   },
   "source": [
    "### Fit to resonance\n",
    "#### Define Gaussian and Lorentzian functions"
   ]
  },
  {
   "cell_type": "code",
   "execution_count": 29,
   "id": "18b6bc2b-6557-47f1-8b51-bb9452ca3bad",
   "metadata": {
    "execution": {
     "iopub.execute_input": "2022-03-06T00:53:47.015497Z",
     "iopub.status.busy": "2022-03-06T00:53:47.014495Z",
     "iopub.status.idle": "2022-03-06T00:53:47.220497Z",
     "shell.execute_reply": "2022-03-06T00:53:47.220497Z"
    },
    "papermill": {
     "duration": 0.255999,
     "end_time": "2022-03-06T00:53:47.220497",
     "exception": false,
     "start_time": "2022-03-06T00:53:46.964498",
     "status": "completed"
    },
    "tags": []
   },
   "outputs": [],
   "source": [
    "from scipy.optimize import curve_fit\n",
    "from scipy.special import voigt_profile\n",
    "\n",
    "def gaussian(x, a, μ, σ):\n",
    "    return a*np.exp(-(x-μ)**2 / (2*σ**2))\n",
    "\n",
    "def lorentzian( x, x0, a, gam ):\n",
    "    return a * gam**2 / ( gam**2 + ( x - x0 )**2)\n",
    "\n",
    "def voigt(x, a, μ, σ):\n",
    "    return a * voigt_profile(x - μ, σ, σ)"
   ]
  },
  {
   "cell_type": "code",
   "execution_count": 30,
   "id": "3b541b6c-a9ab-4b83-a094-56adaa32b6d1",
   "metadata": {
    "execution": {
     "iopub.execute_input": "2022-03-06T00:53:47.309496Z",
     "iopub.status.busy": "2022-03-06T00:53:47.309496Z",
     "iopub.status.idle": "2022-03-06T00:53:48.028509Z",
     "shell.execute_reply": "2022-03-06T00:53:48.029508Z"
    },
    "papermill": {
     "duration": 0.767012,
     "end_time": "2022-03-06T00:53:48.029508",
     "exception": false,
     "start_time": "2022-03-06T00:53:47.262496",
     "status": "completed"
    },
    "tags": []
   },
   "outputs": [
    {
     "name": "stderr",
     "output_type": "stream",
     "text": [
      "INFO:numexpr.utils:Note: NumExpr detected 12 cores but \"NUMEXPR_MAX_THREADS\" not set, so enforcing safe limit of 8.\n"
     ]
    },
    {
     "name": "stderr",
     "output_type": "stream",
     "text": [
      "INFO:numexpr.utils:NumExpr defaulting to 8 threads.\n"
     ]
    }
   ],
   "source": [
    "import lmfit\n",
    "from lmfit.models import LorentzianModel, GaussianModel, VoigtModel"
   ]
  },
  {
   "cell_type": "markdown",
   "id": "091f6f6a-3410-40eb-b7d6-ee229eff10a8",
   "metadata": {
    "papermill": {
     "duration": 0.049002,
     "end_time": "2022-03-06T00:53:48.117510",
     "exception": false,
     "start_time": "2022-03-06T00:53:48.068508",
     "status": "completed"
    },
    "tags": []
   },
   "source": [
    "#### Fit Lorentzian to scan"
   ]
  },
  {
   "cell_type": "code",
   "execution_count": 31,
   "id": "c3dd75a8-ff6e-4dd2-881d-5e142ef5b4ad",
   "metadata": {
    "execution": {
     "iopub.execute_input": "2022-03-06T00:53:48.221510Z",
     "iopub.status.busy": "2022-03-06T00:53:48.220509Z",
     "iopub.status.idle": "2022-03-06T00:53:48.315510Z",
     "shell.execute_reply": "2022-03-06T00:53:48.315510Z"
    },
    "papermill": {
     "duration": 0.142002,
     "end_time": "2022-03-06T00:53:48.315510",
     "exception": false,
     "start_time": "2022-03-06T00:53:48.173508",
     "status": "completed"
    },
    "tags": []
   },
   "outputs": [
    {
     "name": "stdout",
     "output_type": "stream",
     "text": [
      "[[Model]]\n",
      "    Model(lorentzian)\n",
      "[[Fit Statistics]]\n",
      "    # fitting method   = leastsq\n",
      "    # function evals   = 17\n",
      "    # data points      = 31\n",
      "    # variables        = 3\n",
      "    chi-square         = 0.69233495\n",
      "    reduced chi-square = 0.02472625\n",
      "    Akaike info crit   = -111.851851\n",
      "    Bayesian info crit = -107.549889\n",
      "##  Warning: uncertainties could not be estimated:\n",
      "    center:     at initial value\n",
      "[[Variables]]\n",
      "    amplitude:  1.0843e+09 (init = 9.265021e+08)\n",
      "    center:     3.3114e-09 (init = 3.311369e-09)\n",
      "    sigma:      1.0161e+08 (init = 7.841415e+07)\n",
      "    fwhm:       2.0322e+08 == '2.0000000*sigma'\n",
      "    height:     3.39669661 == '0.3183099*amplitude/max(1e-15, sigma)'\n"
     ]
    }
   ],
   "source": [
    "model = LorentzianModel()\n",
    "params = model.guess(\n",
    "                    results, \n",
    "                    x = δl_scan\n",
    ")\n",
    "fit = model.fit(results, params, x = δl_scan)\n",
    "print(fit.fit_report())"
   ]
  },
  {
   "cell_type": "code",
   "execution_count": 32,
   "id": "aea2ff27-ba35-4041-97bc-66afb538dcaa",
   "metadata": {
    "execution": {
     "iopub.execute_input": "2022-03-06T00:53:48.408511Z",
     "iopub.status.busy": "2022-03-06T00:53:48.408511Z",
     "iopub.status.idle": "2022-03-06T00:53:48.614510Z",
     "shell.execute_reply": "2022-03-06T00:53:48.615509Z"
    },
    "papermill": {
     "duration": 0.258,
     "end_time": "2022-03-06T00:53:48.615509",
     "exception": false,
     "start_time": "2022-03-06T00:53:48.357509",
     "status": "completed"
    },
    "tags": []
   },
   "outputs": [
    {
     "data": {
      "image/png": "[encoded data removed]",
      "text/plain": [
       "<Figure size 576x360 with 1 Axes>"
      ]
     },
     "metadata": {
      "needs_background": "light"
     },
     "output_type": "display_data"
    }
   ],
   "source": [
    "_x = np.linspace(δl_scan.min(), δl_scan.max(), 201)\n",
    "y = fit.eval(x = _x)\n",
    "\n",
    "fig, ax = plt.subplots(figsize = (8,5))\n",
    "ax.plot(δl_scan / (2*np.pi*1e6), results, '.', ms = 13, label = 'data')\n",
    "ax.plot(_x / (2*np.pi*1e6), y, label = 'fit', lw = 2)\n",
    "\n",
    "ax.set_xlabel(\"δ [MHz]\", fontsize = 14)\n",
    "ax.set_ylabel(\"# photons\", fontsize = 14)\n",
    "ax.legend(fontsize = 14)\n",
    "ax.set_title(\"Lorentzian Fit\", fontsize = 15)\n",
    "ax.grid(True)"
   ]
  },
  {
   "cell_type": "code",
   "execution_count": 33,
   "id": "7db03d55-3233-4aff-a947-1860b3cf301e",
   "metadata": {
    "execution": {
     "iopub.execute_input": "2022-03-06T00:53:48.719509Z",
     "iopub.status.busy": "2022-03-06T00:53:48.718508Z",
     "iopub.status.idle": "2022-03-06T00:53:49.025974Z",
     "shell.execute_reply": "2022-03-06T00:53:49.026973Z"
    },
    "papermill": {
     "duration": 0.356463,
     "end_time": "2022-03-06T00:53:49.026973",
     "exception": false,
     "start_time": "2022-03-06T00:53:48.670510",
     "status": "completed"
    },
    "tags": []
   },
   "outputs": [
    {
     "data": {
      "image/png": "[encoded data removed]",
      "text/plain": [
       "<Figure size 432x432 with 2 Axes>"
      ]
     },
     "metadata": {
      "needs_background": "light"
     },
     "output_type": "display_data"
    }
   ],
   "source": [
    "_ = fit.plot()"
   ]
  },
  {
   "cell_type": "markdown",
   "id": "de774ff7-7f22-4f5f-a1bf-b969780a21b8",
   "metadata": {
    "papermill": {
     "duration": 0.043004,
     "end_time": "2022-03-06T00:53:49.111975",
     "exception": false,
     "start_time": "2022-03-06T00:53:49.068971",
     "status": "completed"
    },
    "tags": []
   },
   "source": [
    "#### Fit Gaussian to scan"
   ]
  },
  {
   "cell_type": "code",
   "execution_count": 34,
   "id": "2406e400-d8a4-42a6-a169-6940ee1cdea8",
   "metadata": {
    "execution": {
     "iopub.execute_input": "2022-03-06T00:53:49.219972Z",
     "iopub.status.busy": "2022-03-06T00:53:49.219972Z",
     "iopub.status.idle": "2022-03-06T00:53:49.308975Z",
     "shell.execute_reply": "2022-03-06T00:53:49.309974Z"
    },
    "papermill": {
     "duration": 0.139001,
     "end_time": "2022-03-06T00:53:49.309974",
     "exception": false,
     "start_time": "2022-03-06T00:53:49.170973",
     "status": "completed"
    },
    "tags": []
   },
   "outputs": [
    {
     "name": "stdout",
     "output_type": "stream",
     "text": [
      "[[Model]]\n",
      "    Model(gaussian)\n",
      "[[Fit Statistics]]\n",
      "    # fitting method   = leastsq\n",
      "    # function evals   = 33\n",
      "    # data points      = 31\n",
      "    # variables        = 3\n",
      "    chi-square         = 2.00145548\n",
      "    reduced chi-square = 0.07148055\n",
      "    Akaike info crit   = -78.9434889\n",
      "    Bayesian info crit = -74.6415273\n",
      "##  Warning: uncertainties could not be estimated:\n",
      "    center:     at initial value\n",
      "[[Variables]]\n",
      "    amplitude:  8.2550e+08 (init = 7.412017e+08)\n",
      "    center:     3.3114e-09 (init = 3.311369e-09)\n",
      "    sigma:      1.0738e+08 (init = 7.841415e+07)\n",
      "    fwhm:       2.5286e+08 == '2.3548200*sigma'\n",
      "    height:     3.06695837 == '0.3989423*amplitude/max(1e-15, sigma)'\n"
     ]
    }
   ],
   "source": [
    "model = GaussianModel()\n",
    "params = model.guess(\n",
    "                    results, \n",
    "                    x = δl_scan\n",
    ")\n",
    "fit = model.fit(results, params, x = δl_scan)\n",
    "print(fit.fit_report())"
   ]
  },
  {
   "cell_type": "code",
   "execution_count": 35,
   "id": "da38a3a8-2bc3-40b8-bc8e-a25b4bbae3e8",
   "metadata": {
    "execution": {
     "iopub.execute_input": "2022-03-06T00:53:49.404976Z",
     "iopub.status.busy": "2022-03-06T00:53:49.403976Z",
     "iopub.status.idle": "2022-03-06T00:53:49.591974Z",
     "shell.execute_reply": "2022-03-06T00:53:49.592974Z"
    },
    "papermill": {
     "duration": 0.238999,
     "end_time": "2022-03-06T00:53:49.592974",
     "exception": false,
     "start_time": "2022-03-06T00:53:49.353975",
     "status": "completed"
    },
    "tags": []
   },
   "outputs": [
    {
     "data": {
      "image/png": "[encoded data removed]",
      "text/plain": [
       "<Figure size 576x360 with 1 Axes>"
      ]
     },
     "metadata": {
      "needs_background": "light"
     },
     "output_type": "display_data"
    }
   ],
   "source": [
    "_x = np.linspace(δl_scan.min(), δl_scan.max(), 201)\n",
    "y = fit.eval(x = _x)\n",
    "\n",
    "fig, ax = plt.subplots(figsize = (8,5))\n",
    "ax.plot(δl_scan / (2*np.pi*1e6), results, '.', ms = 13, label = 'data')\n",
    "ax.plot(_x / (2*np.pi*1e6), y, label = 'fit', lw = 2)\n",
    "\n",
    "ax.set_xlabel(\"δ [MHz]\", fontsize = 14)\n",
    "ax.set_ylabel(\"# photons\", fontsize = 14)\n",
    "ax.legend(fontsize = 14)\n",
    "ax.set_title(\"Gaussian Fit\", fontsize = 15)\n",
    "ax.grid(True)"
   ]
  },
  {
   "cell_type": "code",
   "execution_count": 36,
   "id": "4e0bd614-03a0-4e0c-b644-72986d4026a4",
   "metadata": {
    "execution": {
     "iopub.execute_input": "2022-03-06T00:53:49.708974Z",
     "iopub.status.busy": "2022-03-06T00:53:49.708974Z",
     "iopub.status.idle": "2022-03-06T00:53:50.001974Z",
     "shell.execute_reply": "2022-03-06T00:53:50.002974Z"
    },
    "papermill": {
     "duration": 0.349001,
     "end_time": "2022-03-06T00:53:50.002974",
     "exception": false,
     "start_time": "2022-03-06T00:53:49.653973",
     "status": "completed"
    },
    "tags": []
   },
   "outputs": [
    {
     "data": {
      "image/png": "[encoded data removed]",
      "text/plain": [
       "<Figure size 432x432 with 2 Axes>"
      ]
     },
     "metadata": {
      "needs_background": "light"
     },
     "output_type": "display_data"
    }
   ],
   "source": [
    "_ = fit.plot()"
   ]
  },
  {
   "cell_type": "markdown",
   "id": "2e23e87f-79c2-470a-aec8-f9918c7f2c91",
   "metadata": {
    "papermill": {
     "duration": 0.052001,
     "end_time": "2022-03-06T00:53:50.103974",
     "exception": false,
     "start_time": "2022-03-06T00:53:50.051973",
     "status": "completed"
    },
    "tags": []
   },
   "source": [
    "#### Fit Voigt to scan"
   ]
  },
  {
   "cell_type": "code",
   "execution_count": 37,
   "id": "427de737-3ec5-4376-9fce-d4557da3a20d",
   "metadata": {
    "execution": {
     "iopub.execute_input": "2022-03-06T00:53:50.228972Z",
     "iopub.status.busy": "2022-03-06T00:53:50.228972Z",
     "iopub.status.idle": "2022-03-06T00:53:50.335972Z",
     "shell.execute_reply": "2022-03-06T00:53:50.336973Z"
    },
    "papermill": {
     "duration": 0.171998,
     "end_time": "2022-03-06T00:53:50.336973",
     "exception": false,
     "start_time": "2022-03-06T00:53:50.164975",
     "status": "completed"
    },
    "tags": []
   },
   "outputs": [
    {
     "name": "stdout",
     "output_type": "stream",
     "text": [
      "[[Model]]\n",
      "    Model(voigt)\n",
      "[[Fit Statistics]]\n",
      "    # fitting method   = leastsq\n",
      "    # function evals   = 25\n",
      "    # data points      = 31\n",
      "    # variables        = 3\n",
      "    chi-square         = 0.95543019\n",
      "    reduced chi-square = 0.03412251\n",
      "    Akaike info crit   = -101.867004\n",
      "    Bayesian info crit = -97.5650426\n",
      "##  Warning: uncertainties could not be estimated:\n",
      "    center:     at initial value\n",
      "[[Variables]]\n",
      "    amplitude:  9.7298e+08 (init = 1.111803e+09)\n",
      "    center:     3.3114e-09 (init = 3.311369e-09)\n",
      "    sigma:      62719866.6 (init = 5.09692e+07)\n",
      "    gamma:      62719866.6 == 'sigma'\n",
      "    fwhm:       2.2587e+08 == '1.0692*gamma+sqrt(0.8664*gamma**2+5.545083*sigma**2)'\n",
      "    height:     3.23773544 == '(amplitude/(max(1e-15, sigma*sqrt(2*pi))))*wofz((1j*gamma)/(max(1e-15, sigma*sqrt(2)))).real'\n"
     ]
    }
   ],
   "source": [
    "model = VoigtModel()\n",
    "params = model.guess(\n",
    "                    results, \n",
    "                    x = δl_scan\n",
    ")\n",
    "fit = model.fit(results, params, x = δl_scan)\n",
    "print(fit.fit_report())"
   ]
  },
  {
   "cell_type": "code",
   "execution_count": 38,
   "id": "50403281-0ba4-4572-a029-2614a6647796",
   "metadata": {
    "execution": {
     "iopub.execute_input": "2022-03-06T00:53:50.439974Z",
     "iopub.status.busy": "2022-03-06T00:53:50.438974Z",
     "iopub.status.idle": "2022-03-06T00:53:50.651973Z",
     "shell.execute_reply": "2022-03-06T00:53:50.652973Z"
    },
    "papermill": {
     "duration": 0.268,
     "end_time": "2022-03-06T00:53:50.652973",
     "exception": false,
     "start_time": "2022-03-06T00:53:50.384973",
     "status": "completed"
    },
    "tags": []
   },
   "outputs": [
    {
     "data": {
      "image/png": "[encoded data removed]",
      "text/plain": [
       "<Figure size 576x360 with 1 Axes>"
      ]
     },
     "metadata": {
      "needs_background": "light"
     },
     "output_type": "display_data"
    }
   ],
   "source": [
    "_x = np.linspace(δl_scan.min(), δl_scan.max(), 201)\n",
    "y = fit.eval(x = _x)\n",
    "\n",
    "fig, ax = plt.subplots(figsize = (8,5))\n",
    "ax.plot(δl_scan / (2*np.pi*1e6), results, '.', ms = 13, label = 'data')\n",
    "ax.plot(_x / (2*np.pi*1e6), y, label = 'fit', lw = 2)\n",
    "\n",
    "ax.set_xlabel(\"δ [MHz]\", fontsize = 14)\n",
    "ax.set_ylabel(\"# photons\", fontsize = 14)\n",
    "ax.legend(fontsize = 14)\n",
    "ax.set_title(\"Voigt Fit\", fontsize = 15)\n",
    "ax.grid(True)"
   ]
  },
  {
   "cell_type": "code",
   "execution_count": 39,
   "id": "f3cfa0ae-8cd4-44d3-a3b2-86b49bd91fd5",
   "metadata": {
    "execution": {
     "iopub.execute_input": "2022-03-06T00:53:50.771978Z",
     "iopub.status.busy": "2022-03-06T00:53:50.771978Z",
     "iopub.status.idle": "2022-03-06T00:53:51.059974Z",
     "shell.execute_reply": "2022-03-06T00:53:51.060973Z"
    },
    "papermill": {
     "duration": 0.359,
     "end_time": "2022-03-06T00:53:51.060973",
     "exception": false,
     "start_time": "2022-03-06T00:53:50.701973",
     "status": "completed"
    },
    "tags": []
   },
   "outputs": [
    {
     "data": {
      "image/png": "[encoded data removed]",
      "text/plain": [
       "<Figure size 432x432 with 2 Axes>"
      ]
     },
     "metadata": {
      "needs_background": "light"
     },
     "output_type": "display_data"
    }
   ],
   "source": [
    "_ = fit.plot()"
   ]
  },
  {
   "cell_type": "code",
   "execution_count": null,
   "id": "7e576c63-d35f-4274-954b-1ed373a0be02",
   "metadata": {
    "papermill": {
     "duration": 0.056999,
     "end_time": "2022-03-06T00:53:51.168972",
     "exception": false,
     "start_time": "2022-03-06T00:53:51.111973",
     "status": "completed"
    },
    "tags": []
   },
   "outputs": [],
   "source": []
  }
 ],
 "metadata": {
  "kernelspec": {
   "display_name": "Python 3 (ipykernel)",
   "language": "python",
   "name": "python3"
  },
  "language_info": {
   "codemirror_mode": {
    "name": "ipython",
    "version": 3
   },
   "file_extension": ".py",
   "mimetype": "text/x-python",
   "name": "python",
   "nbconvert_exporter": "python",
   "pygments_lexer": "ipython3",
   "version": "3.8.12"
  },
  "papermill": {
   "default_parameters": {},
   "duration": 1387.003876,
   "end_time": "2022-03-06T00:53:53.076179",
   "environment_variables": {},
   "exception": null,
   "input_path": "multipass amherst template.ipynb",
   "output_path": "Q(1) F1'=3_2 F'=1.ipynb",
   "parameters": {
    "excited_F": 1,
    "excited_F1": 1.5,
    "excited_J": 1,
    "system_Js": [
     1,
     3
    ],
    "transition_type": "Q"
   },
   "start_time": "2022-03-06T00:30:46.072303",
   "version": "2.3.4"
  }
 },
 "nbformat": 4,
 "nbformat_minor": 5
}