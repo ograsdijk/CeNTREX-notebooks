{
 "cells": [
  {
   "cell_type": "code",
   "execution_count": 1,
   "id": "7d8a7537-0017-470b-8014-10fee27536eb",
   "metadata": {
    "execution": {
     "iopub.execute_input": "2022-03-05T23:45:02.400564Z",
     "iopub.status.busy": "2022-03-05T23:45:02.399564Z",
     "iopub.status.idle": "2022-03-05T23:45:07.327788Z",
     "shell.execute_reply": "2022-03-05T23:45:07.328791Z"
    },
    "papermill": {
     "duration": 4.957938,
     "end_time": "2022-03-05T23:45:07.328791",
     "exception": false,
     "start_time": "2022-03-05T23:45:02.370853",
     "status": "completed"
    },
    "tags": []
   },
   "outputs": [],
   "source": [
    "%load_ext autoreload\n",
    "%autoreload 2\n",
    "\n",
    "import numpy as np\n",
    "import sympy as smp\n",
    "from tqdm import tqdm\n",
    "from sympy import Symbol, symbols\n",
    "import centrex_TlF as centrex\n",
    "import matplotlib.pyplot as plt\n",
    "from julia import Main"
   ]
  },
  {
   "cell_type": "markdown",
   "id": "6b24d705-f2c7-4949-826b-60484c6990f5",
   "metadata": {
    "papermill": {
     "duration": 0.027289,
     "end_time": "2022-03-05T23:45:07.382539",
     "exception": false,
     "start_time": "2022-03-05T23:45:07.355250",
     "status": "completed"
    },
    "tags": []
   },
   "source": [
    "### Papermill parameters"
   ]
  },
  {
   "cell_type": "code",
   "execution_count": 2,
   "id": "9788a2c1-095c-4d35-8c1b-a0548a74c8d2",
   "metadata": {
    "execution": {
     "iopub.execute_input": "2022-03-05T23:45:07.445374Z",
     "iopub.status.busy": "2022-03-05T23:45:07.444372Z",
     "iopub.status.idle": "2022-03-05T23:45:07.511205Z",
     "shell.execute_reply": "2022-03-05T23:45:07.512203Z"
    },
    "papermill": {
     "duration": 0.096772,
     "end_time": "2022-03-05T23:45:07.512203",
     "exception": false,
     "start_time": "2022-03-05T23:45:07.415431",
     "status": "completed"
    },
    "tags": [
     "parameters"
    ]
   },
   "outputs": [],
   "source": [
    "Γ = 2*np.pi*1.56e6\n",
    "\n",
    "transition_type = \"R\"\n",
    "ground_J = 1\n",
    "excited_F = 2\n",
    "excited_F1 = 3/2\n",
    "system_J = [1,3]\n",
    "\n",
    "laser_power = 23.8e-3 # power in W\n",
    "σlaser = 0.000914\n",
    "npasses = 9\n",
    "multipass_offset = 0.01\n",
    "distance_between_passes = 0.03556/npasses\n",
    "power_loss_per_pass = 20.2/23.8\n",
    "\n",
    "vcm = 150\n",
    "vcm_sigma = 30\n",
    "vperp_sigma = 38\n",
    "\n",
    "ωp = 0.65*Γ\n",
    "\n",
    "β = 3.8\n",
    "ωphase = 0.0\n",
    "\n",
    "scan_range = [-30,31,2]\n",
    "\n",
    "nprocs = 7"
   ]
  },
  {
   "cell_type": "code",
   "execution_count": 3,
   "id": "6e879cbf",
   "metadata": {
    "execution": {
     "iopub.execute_input": "2022-03-05T23:45:07.566611Z",
     "iopub.status.busy": "2022-03-05T23:45:07.566611Z",
     "iopub.status.idle": "2022-03-05T23:45:07.633922Z",
     "shell.execute_reply": "2022-03-05T23:45:07.633922Z"
    },
    "papermill": {
     "duration": 0.098324,
     "end_time": "2022-03-05T23:45:07.634921",
     "exception": false,
     "start_time": "2022-03-05T23:45:07.536597",
     "status": "completed"
    },
    "tags": [
     "injected-parameters"
    ]
   },
   "outputs": [],
   "source": [
    "# Parameters\n",
    "transition_type = \"Q\"\n",
    "excited_J = 1\n",
    "excited_F = 0\n",
    "excited_F1 = 0.5\n",
    "system_Js = [1, 3]\n"
   ]
  },
  {
   "cell_type": "code",
   "execution_count": 4,
   "id": "c21c06f6-c1af-496a-b304-7469b9ba8a17",
   "metadata": {
    "execution": {
     "iopub.execute_input": "2022-03-05T23:45:07.685320Z",
     "iopub.status.busy": "2022-03-05T23:45:07.684321Z",
     "iopub.status.idle": "2022-03-05T23:45:08.325388Z",
     "shell.execute_reply": "2022-03-05T23:45:08.326388Z"
    },
    "papermill": {
     "duration": 0.66893,
     "end_time": "2022-03-05T23:45:08.326694",
     "exception": false,
     "start_time": "2022-03-05T23:45:07.657764",
     "status": "completed"
    },
    "tags": []
   },
   "outputs": [],
   "source": [
    "trans = centrex.transitions.LaserTransition(\n",
    "    f\"{transition_type}{ground_J}\",\n",
    "    F1 = excited_F1,\n",
    "    F = excited_F\n",
    ")\n",
    "population_J = trans.ground_selector.J\n",
    "population_F = np.unique([g.F for g in trans.ground_states])"
   ]
  },
  {
   "cell_type": "code",
   "execution_count": 5,
   "id": "a8bac859-a1d8-41cf-87c1-45cb8e44710d",
   "metadata": {
    "execution": {
     "iopub.execute_input": "2022-03-05T23:45:08.381389Z",
     "iopub.status.busy": "2022-03-05T23:45:08.380389Z",
     "iopub.status.idle": "2022-03-05T23:45:08.446760Z",
     "shell.execute_reply": "2022-03-05T23:45:08.447761Z"
    },
    "papermill": {
     "duration": 0.097372,
     "end_time": "2022-03-05T23:45:08.447761",
     "exception": false,
     "start_time": "2022-03-05T23:45:08.350389",
     "status": "completed"
    },
    "tags": []
   },
   "outputs": [
    {
     "name": "stdout",
     "output_type": "stream",
     "text": [
      "excited state : QuantumSelector(J=1, F1=0.5, F=0, mF=None, electronic='B', P=1, Ω=None)\n",
      "population in states : QuantumSelector(J=1, F1=None, F=array([1.]), mF=None, electronic='X', P=None, Ω=None)\n"
     ]
    }
   ],
   "source": [
    "excited_state = centrex.states.QuantumSelector(\n",
    "                    J=excited_J, F=excited_F, F1=excited_F1, \n",
    "                    electronic = 'B', P = trans.excited_selector.P\n",
    ")\n",
    "population_states = centrex.states.QuantumSelector(J=population_J, F=population_F, electronic = 'X')\n",
    "\n",
    "print(f\"excited state : {excited_state}\")\n",
    "print(f\"population in states : {population_states}\")"
   ]
  },
  {
   "cell_type": "markdown",
   "id": "21d17f10-4029-4df6-842f-0e7c76366a7c",
   "metadata": {
    "papermill": {
     "duration": 0.027297,
     "end_time": "2022-03-05T23:45:08.499508",
     "exception": false,
     "start_time": "2022-03-05T23:45:08.472211",
     "status": "completed"
    },
    "tags": []
   },
   "source": [
    "# Initial setup\n",
    "## Involved states"
   ]
  },
  {
   "cell_type": "code",
   "execution_count": 6,
   "id": "8a6852be-2045-4f4d-b899-c2717f66efa9",
   "metadata": {
    "execution": {
     "iopub.execute_input": "2022-03-05T23:45:08.572267Z",
     "iopub.status.busy": "2022-03-05T23:45:08.572267Z",
     "iopub.status.idle": "2022-03-05T23:45:08.628823Z",
     "shell.execute_reply": "2022-03-05T23:45:08.629823Z"
    },
    "papermill": {
     "duration": 0.088557,
     "end_time": "2022-03-05T23:45:08.629823",
     "exception": false,
     "start_time": "2022-03-05T23:45:08.541266",
     "status": "completed"
    },
    "tags": []
   },
   "outputs": [],
   "source": [
    "gnd = centrex.states.QuantumSelector(J=system_J, electronic = 'X')\n",
    "exc = excited_state\n",
    "\n",
    "gnd_laser = centrex.states.QuantumSelector(J=trans.ground_selector.J, electronic = 'X')\n",
    "exc_laser = excited_state"
   ]
  },
  {
   "cell_type": "code",
   "execution_count": 7,
   "id": "7f40b6a0-2e4a-489a-892c-84cf72f711c0",
   "metadata": {
    "execution": {
     "iopub.execute_input": "2022-03-05T23:45:08.691794Z",
     "iopub.status.busy": "2022-03-05T23:45:08.690792Z",
     "iopub.status.idle": "2022-03-05T23:45:08.753410Z",
     "shell.execute_reply": "2022-03-05T23:45:08.754410Z"
    },
    "papermill": {
     "duration": 0.093098,
     "end_time": "2022-03-05T23:45:08.754410",
     "exception": false,
     "start_time": "2022-03-05T23:45:08.661312",
     "status": "completed"
    },
    "tags": []
   },
   "outputs": [],
   "source": [
    "syspars = centrex.states.SystemParameters(\n",
    "    nprocs  = nprocs,\n",
    "    Γ       = Γ,\n",
    "    X  = gnd,\n",
    "    B = [exc]\n",
    ")"
   ]
  },
  {
   "cell_type": "markdown",
   "id": "5783d09d-767e-4901-b328-5a3d8529c562",
   "metadata": {
    "papermill": {
     "duration": 0.031387,
     "end_time": "2022-03-05T23:45:08.810933",
     "exception": false,
     "start_time": "2022-03-05T23:45:08.779546",
     "status": "completed"
    },
    "tags": []
   },
   "source": [
    "## Parameters"
   ]
  },
  {
   "cell_type": "code",
   "execution_count": 8,
   "id": "afce7fb3-65f2-4ace-b238-b74f88ff4659",
   "metadata": {
    "execution": {
     "iopub.execute_input": "2022-03-05T23:45:08.869128Z",
     "iopub.status.busy": "2022-03-05T23:45:08.869128Z",
     "iopub.status.idle": "2022-03-05T23:45:08.954051Z",
     "shell.execute_reply": "2022-03-05T23:45:08.954051Z"
    },
    "papermill": {
     "duration": 0.117211,
     "end_time": "2022-03-05T23:45:08.954051",
     "exception": false,
     "start_time": "2022-03-05T23:45:08.836840",
     "status": "completed"
    },
    "tags": []
   },
   "outputs": [],
   "source": [
    "odepars = centrex.lindblad.odeParameters(\n",
    "    Ωl = \"Ωl0 * phase_modulation(t, β, ωphase) * multipass_2d_intensity(vz*t, y0+vy*t, ampl, xlocs, ylocs, σzlaser, σylaser)\",\n",
    "    Ωl0     = 1*syspars.Γ,    # Rabi frequency of the laser [rad/s]\n",
    "    δl      = 0.0,              # detuning of the laser [rad/s]\n",
    "    \n",
    "    # laser beam properties\n",
    "    σzlaser = σlaser * np.sqrt(2),\n",
    "    σylaser = σlaser * np.sqrt(2),\n",
    "    \n",
    "    # laser multipass\n",
    "    ampl = [np.sqrt(power_loss_per_pass**n) for n in range(npasses)],\n",
    "    xlocs = [(n-1)*distance_between_passes + multipass_offset for n in centrex.utils.light.multipass_prism_order(npasses)],\n",
    "    ylocs = npasses*[0.0],\n",
    "    \n",
    "    # laser phase modulation\n",
    "    ωphase = ωphase,       # laser phase modulation frequency [rad/s]\n",
    "    β      = β,             # laser phase modulation depth [rad]\n",
    "\n",
    "    # laser polarization switching\n",
    "    ωp = ωp,           # polarization switching frequency [rad/s]\n",
    "    φp = 0.0,                 # polarization switching phase [rad]\n",
    "    Pl  = \"sin(ωp*t + φp)\",\n",
    "    Plz = \"Pl>0\",\n",
    "    Plx = \"Pl<=0\",\n",
    "    Ply = 0.0,\n",
    "    \n",
    "    # molecules\n",
    "    y0 = 0.,                   # molecule start y position [m]\n",
    "    vz = 150.,                 # longitudinal molecular velocity [m/s]\n",
    "    vy = 0.,                   # molecule vy [m/s]\n",
    ")\n"
   ]
  },
  {
   "cell_type": "markdown",
   "id": "94aff443-8f03-4464-b85e-cea4b4407fd1",
   "metadata": {
    "papermill": {
     "duration": 0.025091,
     "end_time": "2022-03-05T23:45:09.002582",
     "exception": false,
     "start_time": "2022-03-05T23:45:08.977491",
     "status": "completed"
    },
    "tags": []
   },
   "source": [
    "## Transitions"
   ]
  },
  {
   "cell_type": "code",
   "execution_count": 9,
   "id": "8ab6c2cd-69a9-43bc-b367-70604948ee8e",
   "metadata": {
    "execution": {
     "iopub.execute_input": "2022-03-05T23:45:09.063065Z",
     "iopub.status.busy": "2022-03-05T23:45:09.062064Z",
     "iopub.status.idle": "2022-03-05T23:45:09.125313Z",
     "shell.execute_reply": "2022-03-05T23:45:09.126314Z"
    },
    "papermill": {
     "duration": 0.100652,
     "end_time": "2022-03-05T23:45:09.126314",
     "exception": false,
     "start_time": "2022-03-05T23:45:09.025662",
     "status": "completed"
    },
    "tags": []
   },
   "outputs": [],
   "source": [
    "transitions = [\n",
    "    centrex.couplings.TransitionSelector(\n",
    "        ground = 1*centrex.states.generate_coupled_states_ground_X(gnd_laser),\n",
    "        excited = 1*centrex.states.generate_coupled_states_excited_B(exc_laser),\n",
    "        polarizations        = [[0,0,1],[1,0,0],[0,1,0]],\n",
    "        polarization_symbols = symbols(\"Plz     Plx     Ply\"),\n",
    "        Ω = smp.Symbol('Ωl', complex = True),\n",
    "        δ = smp.Symbol('δl'),\n",
    "        description = \"laser transition\",        \n",
    "    ),\n",
    "]"
   ]
  },
  {
   "cell_type": "code",
   "execution_count": 10,
   "id": "8830dc74-5aef-4786-b0b6-d086c03b86a7",
   "metadata": {
    "execution": {
     "iopub.execute_input": "2022-03-05T23:45:09.182312Z",
     "iopub.status.busy": "2022-03-05T23:45:09.181312Z",
     "iopub.status.idle": "2022-03-05T23:45:09.252325Z",
     "shell.execute_reply": "2022-03-05T23:45:09.252325Z"
    },
    "papermill": {
     "duration": 0.103015,
     "end_time": "2022-03-05T23:45:09.253327",
     "exception": false,
     "start_time": "2022-03-05T23:45:09.150312",
     "status": "completed"
    },
    "tags": []
   },
   "outputs": [
    {
     "data": {
      "text/plain": [
       "\"Q(1) F1'=1_2 F'=0\""
      ]
     },
     "execution_count": 10,
     "metadata": {},
     "output_type": "execute_result"
    }
   ],
   "source": [
    "transition_name = centrex.transitions.identify_transition(\n",
    "    transitions[0].ground[0],\n",
    "    transitions[0].excited[0]\n",
    ")\n",
    "transition_name = transition_name.replace(\",\",\"\").replace(\"/\",\"_\")\n",
    "transition_name"
   ]
  },
  {
   "cell_type": "markdown",
   "id": "e6bed866-24bc-4cbb-9664-022df1a48188",
   "metadata": {
    "papermill": {
     "duration": 0.040009,
     "end_time": "2022-03-05T23:45:09.337333",
     "exception": false,
     "start_time": "2022-03-05T23:45:09.297324",
     "status": "completed"
    },
    "tags": []
   },
   "source": [
    "## Generate System"
   ]
  },
  {
   "cell_type": "code",
   "execution_count": 11,
   "id": "4ed1375f-f64b-45c0-8ca8-f98491e8c8f0",
   "metadata": {
    "execution": {
     "iopub.execute_input": "2022-03-05T23:45:09.424332Z",
     "iopub.status.busy": "2022-03-05T23:45:09.423333Z",
     "iopub.status.idle": "2022-03-05T23:46:07.325027Z",
     "shell.execute_reply": "2022-03-05T23:46:07.325027Z"
    },
    "papermill": {
     "duration": 57.950695,
     "end_time": "2022-03-05T23:46:07.325027",
     "exception": false,
     "start_time": "2022-03-05T23:45:09.374332",
     "status": "completed"
    },
    "tags": []
   },
   "outputs": [
    {
     "name": "stderr",
     "output_type": "stream",
     "text": [
      "INFO:centrex_TlF.lindblad.utils_setup:generate_OBE_system: 1/6 -> Generating the reduced Hamiltonian\n"
     ]
    },
    {
     "name": "stderr",
     "output_type": "stream",
     "text": [
      "INFO:centrex_TlF.lindblad.utils_setup:generate_OBE_system: 2/6 -> Generating the couplings corresponding to the transitions\n"
     ]
    },
    {
     "name": "stderr",
     "output_type": "stream",
     "text": [
      "INFO:centrex_TlF.lindblad.utils_setup:generate_OBE_system: 3/6 -> Generating the symbolic Hamiltonian\n"
     ]
    },
    {
     "name": "stderr",
     "output_type": "stream",
     "text": [
      "INFO:centrex_TlF.lindblad.utils_setup:generate_OBE_system: 4/6 -> Generating the collapse matrices\n"
     ]
    },
    {
     "name": "stderr",
     "output_type": "stream",
     "text": [
      "INFO:centrex_TlF.lindblad.utils_setup:generate_OBE_system: 5/6 -> Transforming the Hamiltonian and collapse matrices into a symbolic system of equations\n"
     ]
    },
    {
     "name": "stderr",
     "output_type": "stream",
     "text": [
      "INFO:centrex_TlF.lindblad.utils_setup:generate_OBE_system: 6/6 -> Generating Julia code representing the system of equations\n"
     ]
    },
    {
     "name": "stderr",
     "output_type": "stream",
     "text": [
      "INFO:centrex_TlF.lindblad.utils_setup:setup_OBE_system_julia: 1/3 -> Generating the preamble\n"
     ]
    },
    {
     "name": "stderr",
     "output_type": "stream",
     "text": [
      "INFO:centrex_TlF.lindblad.utils_setup:setup_OBE_system_julia: 2/3 -> Initializing Julia on 7 cores\n"
     ]
    },
    {
     "name": "stderr",
     "output_type": "stream",
     "text": [
      "INFO:centrex_TlF.lindblad.utils_setup:setup_OBE_system_julia: 3/3 -> Defining the ODE equation and parameters in Julia\n"
     ]
    },
    {
     "name": "stdout",
     "output_type": "stream",
     "text": [
      "Initialized Julia with 7 processes\n",
      "Wall time: 57.8 s\n"
     ]
    }
   ],
   "source": [
    "%%time\n",
    "obe_system = centrex.lindblad.setup_OBE_system_julia(syspars, odepars, transitions, verbose=True, full_output=True, \n",
    "                                                     qn_compact=centrex.states.QuantumSelector(J=3, electronic = 'X'))"
   ]
  },
  {
   "cell_type": "markdown",
   "id": "e2979859-216a-46aa-a6ed-72a507abf26b",
   "metadata": {
    "papermill": {
     "duration": 0.040312,
     "end_time": "2022-03-05T23:46:07.394154",
     "exception": false,
     "start_time": "2022-03-05T23:46:07.353842",
     "status": "completed"
    },
    "tags": []
   },
   "source": [
    "# Simulations\n",
    "## Single trajectory"
   ]
  },
  {
   "cell_type": "code",
   "execution_count": 12,
   "id": "a7dfeb67-36ab-4ed5-9af1-ad66daeddeac",
   "metadata": {
    "execution": {
     "iopub.execute_input": "2022-03-05T23:46:07.460808Z",
     "iopub.status.busy": "2022-03-05T23:46:07.460808Z",
     "iopub.status.idle": "2022-03-05T23:46:07.526847Z",
     "shell.execute_reply": "2022-03-05T23:46:07.526847Z"
    },
    "papermill": {
     "duration": 0.104042,
     "end_time": "2022-03-05T23:46:07.526847",
     "exception": false,
     "start_time": "2022-03-05T23:46:07.422805",
     "status": "completed"
    },
    "tags": []
   },
   "outputs": [
    {
     "name": "stdout",
     "output_type": "stream",
     "text": [
      "Ωl0 : -2.38 Γ\n"
     ]
    }
   ],
   "source": [
    "Ωl0 = centrex.utils.light.calculate_rabi_from_power_gaussian_beam(\n",
    "                        laser_power,\n",
    "                        obe_system.couplings[0]['main coupling'],\n",
    "                        σlaser,\n",
    "                        σlaser\n",
    "    ).real\n",
    "print(f\"Ωl0 : {Ωl0 / syspars.Γ:.2f} Γ\")"
   ]
  },
  {
   "cell_type": "code",
   "execution_count": 13,
   "id": "f29311e6-5f91-40cc-b852-150cb39f3072",
   "metadata": {
    "execution": {
     "iopub.execute_input": "2022-03-05T23:46:07.595895Z",
     "iopub.status.busy": "2022-03-05T23:46:07.595895Z",
     "iopub.status.idle": "2022-03-05T23:46:07.666903Z",
     "shell.execute_reply": "2022-03-05T23:46:07.667902Z"
    },
    "papermill": {
     "duration": 0.105658,
     "end_time": "2022-03-05T23:46:07.667902",
     "exception": false,
     "start_time": "2022-03-05T23:46:07.562244",
     "status": "completed"
    },
    "tags": []
   },
   "outputs": [],
   "source": [
    "odepars.Ωl0 = Ωl0\n",
    "odepars.ωphase = ωphase\n",
    "odepars.ωp = ωp"
   ]
  },
  {
   "cell_type": "code",
   "execution_count": 14,
   "id": "39446a36-7821-474c-8be2-cf0892f0d017",
   "metadata": {
    "execution": {
     "iopub.execute_input": "2022-03-05T23:46:07.737075Z",
     "iopub.status.busy": "2022-03-05T23:46:07.736667Z",
     "iopub.status.idle": "2022-03-05T23:46:11.908350Z",
     "shell.execute_reply": "2022-03-05T23:46:11.909348Z"
    },
    "papermill": {
     "duration": 4.206073,
     "end_time": "2022-03-05T23:46:11.909348",
     "exception": false,
     "start_time": "2022-03-05T23:46:07.703275",
     "status": "completed"
    },
    "tags": []
   },
   "outputs": [],
   "source": [
    "ρ = centrex.utils.generate_population_states(population_states.get_indices(obe_system.QN), len(obe_system.QN))\n",
    "t_array, results = centrex.lindblad.do_simulation_single(odepars, (0,50e-3/odepars.vz+10e-6), ρ)"
   ]
  },
  {
   "cell_type": "code",
   "execution_count": 15,
   "id": "c2022834-a208-480a-bce9-4649d182fa91",
   "metadata": {
    "execution": {
     "iopub.execute_input": "2022-03-05T23:46:11.967153Z",
     "iopub.status.busy": "2022-03-05T23:46:11.965868Z",
     "iopub.status.idle": "2022-03-05T23:46:12.594803Z",
     "shell.execute_reply": "2022-03-05T23:46:12.594803Z"
    },
    "papermill": {
     "duration": 0.658243,
     "end_time": "2022-03-05T23:46:12.594803",
     "exception": false,
     "start_time": "2022-03-05T23:46:11.936560",
     "status": "completed"
    },
    "tags": []
   },
   "outputs": [],
   "source": [
    "multipass = np.abs(odepars.get_parameter_evolution(t_array, \"Ωl\").real)"
   ]
  },
  {
   "cell_type": "code",
   "execution_count": 16,
   "id": "51d3bd7a-ad1b-46a3-a5e0-e10ee58fd9c6",
   "metadata": {
    "execution": {
     "iopub.execute_input": "2022-03-05T23:46:12.654660Z",
     "iopub.status.busy": "2022-03-05T23:46:12.653664Z",
     "iopub.status.idle": "2022-03-05T23:46:12.953310Z",
     "shell.execute_reply": "2022-03-05T23:46:12.954309Z"
    },
    "papermill": {
     "duration": 0.33149,
     "end_time": "2022-03-05T23:46:12.954309",
     "exception": false,
     "start_time": "2022-03-05T23:46:12.622819",
     "status": "completed"
    },
    "tags": []
   },
   "outputs": [
    {
     "data": {
      "image/png": "[encoded data removed]",
      "text/plain": [
       "<Figure size 720x432 with 1 Axes>"
      ]
     },
     "metadata": {
      "needs_background": "light"
     },
     "output_type": "display_data"
    }
   ],
   "source": [
    "fig, ax = plt.subplots(figsize = (10,6)) \n",
    "ax.plot(t_array*1e6, results.T, lw = 2);\n",
    "ax.plot(t_array*1e6, multipass/multipass.max()*0.8, 'k--', lw = 2,\n",
    "        label = 'multipass')\n",
    "ax.set_xlabel('time [μs]')\n",
    "ax.set_ylabel('population')\n",
    "ax.legend(fontsize = 14)\n",
    "ax.grid(True)"
   ]
  },
  {
   "cell_type": "code",
   "execution_count": 17,
   "id": "89232317-cb62-428d-b2a6-5b27d31cb99c",
   "metadata": {
    "execution": {
     "iopub.execute_input": "2022-03-05T23:46:13.023718Z",
     "iopub.status.busy": "2022-03-05T23:46:13.022718Z",
     "iopub.status.idle": "2022-03-05T23:46:13.109331Z",
     "shell.execute_reply": "2022-03-05T23:46:13.109331Z"
    },
    "papermill": {
     "duration": 0.12673,
     "end_time": "2022-03-05T23:46:13.109331",
     "exception": false,
     "start_time": "2022-03-05T23:46:12.982601",
     "status": "completed"
    },
    "tags": []
   },
   "outputs": [
    {
     "name": "stdout",
     "output_type": "stream",
     "text": [
      "|X, J = 1, F₁ = 1/2, F = 1, mF = -1, I₁ = 1/2, I₂ = 1/2, P = -, Ω = 0>\n",
      "|X, J = 1, F₁ = 1/2, F = 1, mF = 1, I₁ = 1/2, I₂ = 1/2, P = -, Ω = 0>\n",
      "|X, J = 1, F₁ = 3/2, F = 1, mF = -1, I₁ = 1/2, I₂ = 1/2, P = -, Ω = 0>\n",
      "|X, J = 1, F₁ = 3/2, F = 1, mF = 1, I₁ = 1/2, I₂ = 1/2, P = -, Ω = 0>\n"
     ]
    }
   ],
   "source": [
    "for states in np.array(obe_system.QN)[results[:,-1] > 0.05]:\n",
    "    print(states.find_largest_component())"
   ]
  },
  {
   "cell_type": "code",
   "execution_count": 18,
   "id": "40e8f6c3-2370-4163-aaab-2b0be25a8e6d",
   "metadata": {
    "execution": {
     "iopub.execute_input": "2022-03-05T23:46:13.174370Z",
     "iopub.status.busy": "2022-03-05T23:46:13.174370Z",
     "iopub.status.idle": "2022-03-05T23:46:13.247882Z",
     "shell.execute_reply": "2022-03-05T23:46:13.247882Z"
    },
    "papermill": {
     "duration": 0.107515,
     "end_time": "2022-03-05T23:46:13.247882",
     "exception": false,
     "start_time": "2022-03-05T23:46:13.140367",
     "status": "completed"
    },
    "tags": []
   },
   "outputs": [
    {
     "data": {
      "text/plain": [
       "1.9982227398120864"
      ]
     },
     "execution_count": 18,
     "metadata": {},
     "output_type": "execute_result"
    }
   ],
   "source": [
    "np.trapz(results[exc.get_indices(obe_system.QN),:].sum(axis = 0), t_array)*syspars.Γ"
   ]
  },
  {
   "cell_type": "markdown",
   "id": "38d78351-bc19-4793-94db-8e2436d6cb14",
   "metadata": {
    "papermill": {
     "duration": 0.029999,
     "end_time": "2022-03-05T23:46:13.319459",
     "exception": false,
     "start_time": "2022-03-05T23:46:13.289460",
     "status": "completed"
    },
    "tags": []
   },
   "source": [
    "## Detuning Scan"
   ]
  },
  {
   "cell_type": "code",
   "execution_count": 19,
   "id": "db3160c7-b51e-4cd3-8f8c-5dfeaffa8d31",
   "metadata": {
    "execution": {
     "iopub.execute_input": "2022-03-05T23:46:13.381459Z",
     "iopub.status.busy": "2022-03-05T23:46:13.380460Z",
     "iopub.status.idle": "2022-03-05T23:46:35.170398Z",
     "shell.execute_reply": "2022-03-05T23:46:35.170398Z"
    },
    "papermill": {
     "duration": 21.82094,
     "end_time": "2022-03-05T23:46:35.170398",
     "exception": false,
     "start_time": "2022-03-05T23:46:13.349458",
     "status": "completed"
    },
    "tags": []
   },
   "outputs": [
    {
     "name": "stdout",
     "output_type": "stream",
     "text": [
      "Wall time: 21.7 s\n"
     ]
    }
   ],
   "source": [
    "%%time\n",
    "\n",
    "odepars.Ωl0 = Ωl0\n",
    "odepars.ωphase = ωphase\n",
    "odepars.ωp = ωp\n",
    "\n",
    "tspan = (0,1000e-6)\n",
    "ρ = centrex.utils.generate_population_states(\n",
    "        centrex.states.QuantumSelector(J=1, F=[1,2], electronic = 'X').get_indices(obe_system.QN), \n",
    "        len(obe_system.QN)\n",
    "    )\n",
    "\n",
    "δl_scan = np.linspace(-5,5,101)*syspars.Γ\n",
    "\n",
    "parameters = [\"δl\"]\n",
    "values = [δl_scan]\n",
    "\n",
    "output_func = centrex.lindblad.setup_state_integral_calculation(\n",
    "                states = exc.get_indices(obe_system.QN, mode = \"julia\"),\n",
    "                nphotons = True\n",
    "            )\n",
    "\n",
    "cb = centrex.lindblad.setup_discrete_callback_terminate(odepars, \"vz*t >= 50e-3\")\n",
    "\n",
    "ens_prob = centrex.lindblad.setup_problem_parameter_scan(\n",
    "                        odepars, tspan, ρ, parameters, values, \n",
    "                        dimensions = 1,\n",
    "                        output_func = output_func,\n",
    "                        zipped = True\n",
    "            )\n",
    "\n",
    "centrex.lindblad.solve_problem_parameter_scan(ensemble_problem_name = ens_prob, saveat = 1e-7,\n",
    "                                             callback = cb)"
   ]
  },
  {
   "cell_type": "code",
   "execution_count": 20,
   "id": "817d03c6-c2e3-4f75-8bdd-fad4b3c694f1",
   "metadata": {
    "execution": {
     "iopub.execute_input": "2022-03-05T23:46:35.233424Z",
     "iopub.status.busy": "2022-03-05T23:46:35.233424Z",
     "iopub.status.idle": "2022-03-05T23:46:35.389045Z",
     "shell.execute_reply": "2022-03-05T23:46:35.388047Z"
    },
    "papermill": {
     "duration": 0.188093,
     "end_time": "2022-03-05T23:46:35.389045",
     "exception": false,
     "start_time": "2022-03-05T23:46:35.200952",
     "status": "completed"
    },
    "tags": []
   },
   "outputs": [
    {
     "data": {
      "image/png": "[encoded data removed]",
      "text/plain": [
       "<Figure size 576x360 with 1 Axes>"
      ]
     },
     "metadata": {
      "needs_background": "light"
     },
     "output_type": "display_data"
    }
   ],
   "source": [
    "results = centrex.lindblad.get_results_parameter_scan()\n",
    "\n",
    "fig, ax = plt.subplots(figsize = (8,5))\n",
    "ax.plot(δl_scan/syspars.Γ, results, '-')\n",
    "ax.grid(True)"
   ]
  },
  {
   "cell_type": "markdown",
   "id": "b6dcbe1d-3795-47c2-8019-a008c982afd3",
   "metadata": {
    "papermill": {
     "duration": 0.029247,
     "end_time": "2022-03-05T23:46:35.450319",
     "exception": false,
     "start_time": "2022-03-05T23:46:35.421072",
     "status": "completed"
    },
    "tags": []
   },
   "source": [
    "## Trajectory Scan"
   ]
  },
  {
   "cell_type": "code",
   "execution_count": 21,
   "id": "a124f5a7-7a18-41ed-bac2-8c21ef7f46fd",
   "metadata": {
    "execution": {
     "iopub.execute_input": "2022-03-05T23:46:35.516885Z",
     "iopub.status.busy": "2022-03-05T23:46:35.516598Z",
     "iopub.status.idle": "2022-03-05T23:46:37.861591Z",
     "shell.execute_reply": "2022-03-05T23:46:37.861591Z"
    },
    "papermill": {
     "duration": 2.381275,
     "end_time": "2022-03-05T23:46:37.861591",
     "exception": false,
     "start_time": "2022-03-05T23:46:35.480316",
     "status": "completed"
    },
    "tags": []
   },
   "outputs": [],
   "source": [
    "ntrajectories = 500\n",
    "\n",
    "n = int(1e7)\n",
    "vz = centrex.utils.generate_random_longitudinal_velocities(n, vcm, vcm_sigma)\n",
    "vx, vy = centrex.utils.generate_random_transverse_velocities(n, vperp_sigma)\n",
    "x0, y0 = centrex.utils.generate_random_coords_circle_2D(n, 0.0025)\n",
    "apertures = [(47e-3, 6.35e-3), (73e-3, 12.7e-3), (290e-3, 2.54e-3)]\n",
    "mask = np.ones(n, dtype = bool)\n",
    "for (location, diameter) in apertures:\n",
    "    t = location / vz\n",
    "    r = np.sqrt((x0+vx*t)**2 + (y0+vy*t)**2)\n",
    "    m = r < diameter/2\n",
    "    mask &= m\n",
    "    \n",
    "start_loc = 358e-3 - 0.03556/2 - 10e-3\n",
    "t = start_loc / vz\n",
    "x0, y0 = x0 + vx*t, y0 + vy*t\n",
    "\n",
    "x0 = x0[mask][:ntrajectories]\n",
    "y0 = y0[mask][:ntrajectories]\n",
    "vx = vx[mask][:ntrajectories]\n",
    "vy = vy[mask][:ntrajectories]\n",
    "vz = vz[mask][:ntrajectories]\n",
    "\n",
    "assert mask.sum() >= ntrajectories, \"not enough trajectories make it through apertures\"\n",
    "del t, mask\n",
    "\n",
    "δls = centrex.utils.detuning.velocity_to_detuning(vx, 1106e12, syspars.Γ)*syspars.Γ"
   ]
  },
  {
   "cell_type": "code",
   "execution_count": 22,
   "id": "ed2e89ae-b7e3-4645-af48-70a3fe13327a",
   "metadata": {
    "execution": {
     "iopub.execute_input": "2022-03-05T23:46:37.934301Z",
     "iopub.status.busy": "2022-03-05T23:46:37.934301Z",
     "iopub.status.idle": "2022-03-05T23:47:00.672144Z",
     "shell.execute_reply": "2022-03-05T23:47:00.673141Z"
    },
    "papermill": {
     "duration": 22.77737,
     "end_time": "2022-03-05T23:47:00.673141",
     "exception": false,
     "start_time": "2022-03-05T23:46:37.895771",
     "status": "completed"
    },
    "tags": []
   },
   "outputs": [],
   "source": [
    "odepars.Ωl0 = Ωl0\n",
    "odepars.ωphase = ωphase\n",
    "odepars.ωp = ωp\n",
    "\n",
    "tspan = (0,1000e-6)\n",
    "ρ = centrex.utils.generate_population_states(\n",
    "        centrex.states.QuantumSelector(J=1, F=[1,2], electronic = 'X').get_indices(obe_system.QN), \n",
    "        len(obe_system.QN)\n",
    "    )\n",
    "\n",
    "parameters = [\"vz\", \"δl\", \"y0\"]\n",
    "values = [vz, δls, y0]\n",
    "\n",
    "output_func = centrex.lindblad.setup_state_integral_calculation(\n",
    "                states = exc.get_indices(obe_system.QN, mode = \"julia\"),\n",
    "                nphotons = True\n",
    "            )\n",
    "\n",
    "cb = centrex.lindblad.setup_discrete_callback_terminate(odepars, \"vz*t >= 50e-3\")\n",
    "\n",
    "ens_prob = centrex.lindblad.setup_problem_parameter_scan(\n",
    "                        odepars, tspan, ρ, parameters, values, \n",
    "                        dimensions = 1,\n",
    "                        output_func = output_func,\n",
    "                        zipped = True\n",
    "            )\n",
    "\n",
    "centrex.lindblad.solve_problem_parameter_scan(ensemble_problem_name = ens_prob, saveat = 1e-7,\n",
    "                                             callback = cb)"
   ]
  },
  {
   "cell_type": "code",
   "execution_count": 23,
   "id": "29942c9f-5a7c-4c12-b72f-29ad3cb82fdc",
   "metadata": {
    "execution": {
     "iopub.execute_input": "2022-03-05T23:47:00.740506Z",
     "iopub.status.busy": "2022-03-05T23:47:00.740506Z",
     "iopub.status.idle": "2022-03-05T23:47:00.799018Z",
     "shell.execute_reply": "2022-03-05T23:47:00.798019Z"
    },
    "papermill": {
     "duration": 0.092081,
     "end_time": "2022-03-05T23:47:00.799018",
     "exception": false,
     "start_time": "2022-03-05T23:47:00.706937",
     "status": "completed"
    },
    "tags": []
   },
   "outputs": [],
   "source": [
    "results = centrex.lindblad.get_results_parameter_scan()"
   ]
  },
  {
   "cell_type": "code",
   "execution_count": 24,
   "id": "75347af4-d3a1-460a-badb-152170f68dbe",
   "metadata": {
    "execution": {
     "iopub.execute_input": "2022-03-05T23:47:00.878020Z",
     "iopub.status.busy": "2022-03-05T23:47:00.877019Z",
     "iopub.status.idle": "2022-03-05T23:47:00.948902Z",
     "shell.execute_reply": "2022-03-05T23:47:00.949903Z"
    },
    "papermill": {
     "duration": 0.107885,
     "end_time": "2022-03-05T23:47:00.949903",
     "exception": false,
     "start_time": "2022-03-05T23:47:00.842018",
     "status": "completed"
    },
    "tags": []
   },
   "outputs": [
    {
     "data": {
      "text/plain": [
       "1.0771739621752898"
      ]
     },
     "execution_count": 24,
     "metadata": {},
     "output_type": "execute_result"
    }
   ],
   "source": [
    "np.average(results)"
   ]
  },
  {
   "cell_type": "markdown",
   "id": "5ee62fd7-919a-40df-8c52-140906fb0a39",
   "metadata": {
    "papermill": {
     "duration": 0.033367,
     "end_time": "2022-03-05T23:47:01.020188",
     "exception": false,
     "start_time": "2022-03-05T23:47:00.986821",
     "status": "completed"
    },
    "tags": []
   },
   "source": [
    "## Detuning scan over trajectories for approximate power used in measurement"
   ]
  },
  {
   "cell_type": "code",
   "execution_count": 25,
   "id": "38eaf1fb-7795-477e-a0ae-c43652420275",
   "metadata": {
    "execution": {
     "iopub.execute_input": "2022-03-05T23:47:01.094559Z",
     "iopub.status.busy": "2022-03-05T23:47:01.093559Z",
     "iopub.status.idle": "2022-03-05T23:47:03.345750Z",
     "shell.execute_reply": "2022-03-05T23:47:03.345750Z"
    },
    "papermill": {
     "duration": 2.292981,
     "end_time": "2022-03-05T23:47:03.345750",
     "exception": false,
     "start_time": "2022-03-05T23:47:01.052769",
     "status": "completed"
    },
    "tags": []
   },
   "outputs": [],
   "source": [
    "ntrajectories = 100\n",
    "\n",
    "n = int(1e7)\n",
    "vz = centrex.utils.generate_random_longitudinal_velocities(n, vcm, vcm_sigma)\n",
    "vx, vy = centrex.utils.generate_random_transverse_velocities(n, vperp_sigma)\n",
    "x0, y0 = centrex.utils.generate_random_coords_circle_2D(n, 0.0025)\n",
    "apertures = [(47e-3, 6.35e-3), (73e-3, 12.7e-3), (290e-3, 2.54e-3)]\n",
    "mask = np.ones(n, dtype = bool)\n",
    "for (location, diameter) in apertures:\n",
    "    t = location / vz\n",
    "    r = np.sqrt((x0+vx*t)**2 + (y0+vy*t)**2)\n",
    "    m = r < diameter/2\n",
    "    mask &= m\n",
    "    \n",
    "start_loc = 358e-3 - 0.03556/2 - 10e-3\n",
    "t = start_loc / vz\n",
    "x0, y0 = x0 + vx*t, y0 + vy*t\n",
    "\n",
    "x0 = x0[mask][:ntrajectories]\n",
    "y0 = y0[mask][:ntrajectories]\n",
    "vx = vx[mask][:ntrajectories]\n",
    "vy = vy[mask][:ntrajectories]\n",
    "vz = vz[mask][:ntrajectories]\n",
    "\n",
    "assert mask.sum() >= ntrajectories, \"not enough trajectories make it through apertures\"\n",
    "del t, mask\n",
    "\n",
    "δls = centrex.utils.detuning.velocity_to_detuning(vx, 1106e12, syspars.Γ)*syspars.Γ"
   ]
  },
  {
   "cell_type": "code",
   "execution_count": 26,
   "id": "aa77c713-c05f-42bd-838a-e488ab436af8",
   "metadata": {
    "execution": {
     "iopub.execute_input": "2022-03-05T23:47:03.433517Z",
     "iopub.status.busy": "2022-03-05T23:47:03.433517Z",
     "iopub.status.idle": "2022-03-06T00:00:31.150205Z",
     "shell.execute_reply": "2022-03-06T00:00:31.149204Z"
    },
    "papermill": {
     "duration": 807.755469,
     "end_time": "2022-03-06T00:00:31.150205",
     "exception": false,
     "start_time": "2022-03-05T23:47:03.394736",
     "status": "completed"
    },
    "tags": []
   },
   "outputs": [
    {
     "name": "stderr",
     "output_type": "stream",
     "text": [
      "\r",
      "  0%|                                                                                                             | 0/31 [00:00<?, ?it/s]"
     ]
    },
    {
     "name": "stderr",
     "output_type": "stream",
     "text": [
      "\r",
      "  3%|███▎                                                                                                 | 1/31 [00:48<24:09, 48.32s/it]"
     ]
    },
    {
     "name": "stderr",
     "output_type": "stream",
     "text": [
      "\r",
      "  6%|██████▌                                                                                              | 2/31 [01:34<22:41, 46.95s/it]"
     ]
    },
    {
     "name": "stderr",
     "output_type": "stream",
     "text": [
      "\r",
      " 10%|█████████▊                                                                                           | 3/31 [02:15<20:42, 44.39s/it]"
     ]
    },
    {
     "name": "stderr",
     "output_type": "stream",
     "text": [
      "\r",
      " 13%|█████████████                                                                                        | 4/31 [02:53<18:53, 41.97s/it]"
     ]
    },
    {
     "name": "stderr",
     "output_type": "stream",
     "text": [
      "\r",
      " 16%|████████████████▎                                                                                    | 5/31 [03:30<17:21, 40.04s/it]"
     ]
    },
    {
     "name": "stderr",
     "output_type": "stream",
     "text": [
      "\r",
      " 19%|███████████████████▌                                                                                 | 6/31 [04:03<15:41, 37.67s/it]"
     ]
    },
    {
     "name": "stderr",
     "output_type": "stream",
     "text": [
      "\r",
      " 23%|██████████████████████▊                                                                              | 7/31 [04:34<14:07, 35.30s/it]"
     ]
    },
    {
     "name": "stderr",
     "output_type": "stream",
     "text": [
      "\r",
      " 26%|██████████████████████████                                                                           | 8/31 [05:00<12:30, 32.65s/it]"
     ]
    },
    {
     "name": "stderr",
     "output_type": "stream",
     "text": [
      "\r",
      " 29%|█████████████████████████████▎                                                                       | 9/31 [05:25<11:00, 30.01s/it]"
     ]
    },
    {
     "name": "stderr",
     "output_type": "stream",
     "text": [
      "\r",
      " 32%|████████████████████████████████▎                                                                   | 10/31 [05:46<09:35, 27.40s/it]"
     ]
    },
    {
     "name": "stderr",
     "output_type": "stream",
     "text": [
      "\r",
      " 35%|███████████████████████████████████▍                                                                | 11/31 [06:05<08:13, 24.69s/it]"
     ]
    },
    {
     "name": "stderr",
     "output_type": "stream",
     "text": [
      "\r",
      " 39%|██████████████████████████████████████▋                                                             | 12/31 [06:19<06:51, 21.64s/it]"
     ]
    },
    {
     "name": "stderr",
     "output_type": "stream",
     "text": [
      "\r",
      " 42%|█████████████████████████████████████████▉                                                          | 13/31 [06:31<05:36, 18.67s/it]"
     ]
    },
    {
     "name": "stderr",
     "output_type": "stream",
     "text": [
      "\r",
      " 45%|█████████████████████████████████████████████▏                                                      | 14/31 [06:40<04:26, 15.68s/it]"
     ]
    },
    {
     "name": "stderr",
     "output_type": "stream",
     "text": [
      "\r",
      " 48%|████████████████████████████████████████████████▍                                                   | 15/31 [06:46<03:25, 12.85s/it]"
     ]
    },
    {
     "name": "stderr",
     "output_type": "stream",
     "text": [
      "\r",
      " 52%|███████████████████████████████████████████████████▌                                                | 16/31 [06:51<02:37, 10.52s/it]"
     ]
    },
    {
     "name": "stderr",
     "output_type": "stream",
     "text": [
      "\r",
      " 55%|██████████████████████████████████████████████████████▊                                             | 17/31 [06:57<02:07,  9.13s/it]"
     ]
    },
    {
     "name": "stderr",
     "output_type": "stream",
     "text": [
      "\r",
      " 58%|██████████████████████████████████████████████████████████                                          | 18/31 [07:05<01:51,  8.58s/it]"
     ]
    },
    {
     "name": "stderr",
     "output_type": "stream",
     "text": [
      "\r",
      " 61%|█████████████████████████████████████████████████████████████▎                                      | 19/31 [07:15<01:48,  9.07s/it]"
     ]
    },
    {
     "name": "stderr",
     "output_type": "stream",
     "text": [
      "\r",
      " 65%|████████████████████████████████████████████████████████████████▌                                   | 20/31 [07:28<01:54, 10.44s/it]"
     ]
    },
    {
     "name": "stderr",
     "output_type": "stream",
     "text": [
      "\r",
      " 68%|███████████████████████████████████████████████████████████████████▋                                | 21/31 [07:45<02:03, 12.31s/it]"
     ]
    },
    {
     "name": "stderr",
     "output_type": "stream",
     "text": [
      "\r",
      " 71%|██████████████████████████████████████████████████████████████████████▉                             | 22/31 [08:05<02:12, 14.70s/it]"
     ]
    },
    {
     "name": "stderr",
     "output_type": "stream",
     "text": [
      "\r",
      " 74%|██████████████████████████████████████████████████████████████████████████▏                         | 23/31 [08:28<02:17, 17.16s/it]"
     ]
    },
    {
     "name": "stderr",
     "output_type": "stream",
     "text": [
      "\r",
      " 77%|█████████████████████████████████████████████████████████████████████████████▍                      | 24/31 [08:55<02:19, 19.99s/it]"
     ]
    },
    {
     "name": "stderr",
     "output_type": "stream",
     "text": [
      "\r",
      " 81%|████████████████████████████████████████████████████████████████████████████████▋                   | 25/31 [09:25<02:18, 23.03s/it]"
     ]
    },
    {
     "name": "stderr",
     "output_type": "stream",
     "text": [
      "\r",
      " 84%|███████████████████████████████████████████████████████████████████████████████████▊                | 26/31 [09:58<02:09, 25.85s/it]"
     ]
    },
    {
     "name": "stderr",
     "output_type": "stream",
     "text": [
      "\r",
      " 87%|███████████████████████████████████████████████████████████████████████████████████████             | 27/31 [10:32<01:54, 28.53s/it]"
     ]
    },
    {
     "name": "stderr",
     "output_type": "stream",
     "text": [
      "\r",
      " 90%|██████████████████████████████████████████████████████████████████████████████████████████▎         | 28/31 [11:11<01:34, 31.44s/it]"
     ]
    },
    {
     "name": "stderr",
     "output_type": "stream",
     "text": [
      "\r",
      " 94%|█████████████████████████████████████████████████████████████████████████████████████████████▌      | 29/31 [11:52<01:08, 34.48s/it]"
     ]
    },
    {
     "name": "stderr",
     "output_type": "stream",
     "text": [
      "\r",
      " 97%|████████████████████████████████████████████████████████████████████████████████████████████████▊   | 30/31 [12:38<00:37, 37.97s/it]"
     ]
    },
    {
     "name": "stderr",
     "output_type": "stream",
     "text": [
      "\r",
      "100%|████████████████████████████████████████████████████████████████████████████████████████████████████| 31/31 [13:27<00:00, 41.24s/it]"
     ]
    },
    {
     "name": "stderr",
     "output_type": "stream",
     "text": [
      "\r",
      "100%|████████████████████████████████████████████████████████████████████████████████████████████████████| 31/31 [13:27<00:00, 26.05s/it]"
     ]
    },
    {
     "name": "stderr",
     "output_type": "stream",
     "text": [
      "\n"
     ]
    }
   ],
   "source": [
    "import copy\n",
    "\n",
    "odepars.Ωl0 = Ωl0\n",
    "odepars.ωphase = ωphase\n",
    "odepars.ωp = ωp\n",
    "\n",
    "tspan = (0,1000e-6)\n",
    "ρ = centrex.utils.generate_population_states(\n",
    "        population_states.get_indices(obe_system.QN), \n",
    "        len(obe_system.QN)\n",
    "    )\n",
    "\n",
    "parameters = [\"vz\", \"δl\", \"y0\"]\n",
    "values = [vz, δls, y0]\n",
    "\n",
    "output_func = centrex.lindblad.setup_state_integral_calculation(\n",
    "                states = exc.get_indices(obe_system.QN, mode = \"julia\"),\n",
    "                nphotons = True\n",
    "            )\n",
    "\n",
    "δl_scan = np.arange(*scan_range)*syspars.Γ\n",
    "\n",
    "results = []\n",
    "for δli in tqdm(δl_scan):\n",
    "    vals = copy.copy(values)\n",
    "    vals[1] = vals[1] + δli\n",
    "    cb = centrex.lindblad.setup_discrete_callback_terminate(odepars, \"vz*t >= 50e-3\")\n",
    "\n",
    "    ens_prob = centrex.lindblad.setup_problem_parameter_scan(\n",
    "                            odepars, tspan, ρ, parameters, vals, \n",
    "                            dimensions = 1,\n",
    "                            output_func = output_func,\n",
    "                            zipped = True\n",
    "                )\n",
    "\n",
    "    centrex.lindblad.solve_problem_parameter_scan(ensemble_problem_name = ens_prob, saveat = 1e-7,\n",
    "                                                 callback = cb)\n",
    "    res = centrex.lindblad.get_results_parameter_scan()\n",
    "    results.append(np.average(res))\n",
    "results = np.asarray(results)    \n",
    "odepars.Ωl0 = Ωl0"
   ]
  },
  {
   "cell_type": "code",
   "execution_count": 27,
   "id": "65a46fd6-e56a-4566-9b6c-e22ce7cc03bc",
   "metadata": {
    "execution": {
     "iopub.execute_input": "2022-03-06T00:00:31.256449Z",
     "iopub.status.busy": "2022-03-06T00:00:31.255451Z",
     "iopub.status.idle": "2022-03-06T00:00:31.440769Z",
     "shell.execute_reply": "2022-03-06T00:00:31.441768Z"
    },
    "papermill": {
     "duration": 0.248561,
     "end_time": "2022-03-06T00:00:31.441768",
     "exception": false,
     "start_time": "2022-03-06T00:00:31.193207",
     "status": "completed"
    },
    "tags": []
   },
   "outputs": [
    {
     "name": "stdout",
     "output_type": "stream",
     "text": [
      "maximum signal : 1.97\n"
     ]
    },
    {
     "data": {
      "image/png": "[encoded data removed]",
      "text/plain": [
       "<Figure size 576x360 with 1 Axes>"
      ]
     },
     "metadata": {
      "needs_background": "light"
     },
     "output_type": "display_data"
    }
   ],
   "source": [
    "fig, ax = plt.subplots(figsize = (8,5))\n",
    "ax.plot(δl_scan / (2*np.pi*1e6), results, '-', lw = 2)\n",
    "ax.plot(δl_scan / (2*np.pi*1e6), results, '.', ms = 13, color = 'C3')\n",
    "\n",
    "ax.set_xlabel(\"δ [MHz]\", fontsize = 14)\n",
    "ax.set_ylabel(\"# photons\", fontsize = 14)\n",
    "ax.grid(True)\n",
    "\n",
    "print(f\"maximum signal : {np.max(results):.2f}\")"
   ]
  },
  {
   "cell_type": "markdown",
   "id": "72eafcf4-c61e-4385-b7ea-b25b66dfdf03",
   "metadata": {
    "papermill": {
     "duration": 0.044308,
     "end_time": "2022-03-06T00:00:31.526260",
     "exception": false,
     "start_time": "2022-03-06T00:00:31.481952",
     "status": "completed"
    },
    "tags": []
   },
   "source": [
    "### Save Trajectory Detuning Scan Data"
   ]
  },
  {
   "cell_type": "code",
   "execution_count": 28,
   "id": "e839a1b3-8e15-4162-991a-37f98acfccc9",
   "metadata": {
    "execution": {
     "iopub.execute_input": "2022-03-06T00:00:31.624099Z",
     "iopub.status.busy": "2022-03-06T00:00:31.623098Z",
     "iopub.status.idle": "2022-03-06T00:00:31.686437Z",
     "shell.execute_reply": "2022-03-06T00:00:31.686437Z"
    },
    "papermill": {
     "duration": 0.112401,
     "end_time": "2022-03-06T00:00:31.686437",
     "exception": false,
     "start_time": "2022-03-06T00:00:31.574036",
     "status": "completed"
    },
    "tags": []
   },
   "outputs": [],
   "source": [
    "import pickle\n",
    "\n",
    "with open(f\"{transition_name}.pkl\", \"wb\") as f:\n",
    "    pickle.dump(\n",
    "        dict(\n",
    "            δl_scan = δl_scan,\n",
    "            signal = results\n",
    "        ),\n",
    "        f\n",
    "    )"
   ]
  },
  {
   "cell_type": "markdown",
   "id": "0524b68f-0953-47ef-9ebb-9e4608052bb7",
   "metadata": {
    "papermill": {
     "duration": 0.051515,
     "end_time": "2022-03-06T00:00:31.780959",
     "exception": false,
     "start_time": "2022-03-06T00:00:31.729444",
     "status": "completed"
    },
    "tags": []
   },
   "source": [
    "### Fit to resonance\n",
    "#### Define Gaussian and Lorentzian functions"
   ]
  },
  {
   "cell_type": "code",
   "execution_count": 29,
   "id": "18b6bc2b-6557-47f1-8b51-bb9452ca3bad",
   "metadata": {
    "execution": {
     "iopub.execute_input": "2022-03-06T00:00:31.894960Z",
     "iopub.status.busy": "2022-03-06T00:00:31.893961Z",
     "iopub.status.idle": "2022-03-06T00:00:32.117440Z",
     "shell.execute_reply": "2022-03-06T00:00:32.118442Z"
    },
    "papermill": {
     "duration": 0.282216,
     "end_time": "2022-03-06T00:00:32.118442",
     "exception": false,
     "start_time": "2022-03-06T00:00:31.836226",
     "status": "completed"
    },
    "tags": []
   },
   "outputs": [],
   "source": [
    "from scipy.optimize import curve_fit\n",
    "from scipy.special import voigt_profile\n",
    "\n",
    "def gaussian(x, a, μ, σ):\n",
    "    return a*np.exp(-(x-μ)**2 / (2*σ**2))\n",
    "\n",
    "def lorentzian( x, x0, a, gam ):\n",
    "    return a * gam**2 / ( gam**2 + ( x - x0 )**2)\n",
    "\n",
    "def voigt(x, a, μ, σ):\n",
    "    return a * voigt_profile(x - μ, σ, σ)"
   ]
  },
  {
   "cell_type": "code",
   "execution_count": 30,
   "id": "3b541b6c-a9ab-4b83-a094-56adaa32b6d1",
   "metadata": {
    "execution": {
     "iopub.execute_input": "2022-03-06T00:00:32.211962Z",
     "iopub.status.busy": "2022-03-06T00:00:32.211962Z",
     "iopub.status.idle": "2022-03-06T00:00:32.944698Z",
     "shell.execute_reply": "2022-03-06T00:00:32.945698Z"
    },
    "papermill": {
     "duration": 0.783431,
     "end_time": "2022-03-06T00:00:32.946015",
     "exception": false,
     "start_time": "2022-03-06T00:00:32.162584",
     "status": "completed"
    },
    "tags": []
   },
   "outputs": [
    {
     "name": "stderr",
     "output_type": "stream",
     "text": [
      "INFO:numexpr.utils:Note: NumExpr detected 12 cores but \"NUMEXPR_MAX_THREADS\" not set, so enforcing safe limit of 8.\n"
     ]
    },
    {
     "name": "stderr",
     "output_type": "stream",
     "text": [
      "INFO:numexpr.utils:NumExpr defaulting to 8 threads.\n"
     ]
    }
   ],
   "source": [
    "import lmfit\n",
    "from lmfit.models import LorentzianModel, GaussianModel, VoigtModel"
   ]
  },
  {
   "cell_type": "markdown",
   "id": "091f6f6a-3410-40eb-b7d6-ee229eff10a8",
   "metadata": {
    "papermill": {
     "duration": 0.046999,
     "end_time": "2022-03-06T00:00:33.043695",
     "exception": false,
     "start_time": "2022-03-06T00:00:32.996696",
     "status": "completed"
    },
    "tags": []
   },
   "source": [
    "#### Fit Lorentzian to scan"
   ]
  },
  {
   "cell_type": "code",
   "execution_count": 31,
   "id": "c3dd75a8-ff6e-4dd2-881d-5e142ef5b4ad",
   "metadata": {
    "execution": {
     "iopub.execute_input": "2022-03-06T00:00:33.136022Z",
     "iopub.status.busy": "2022-03-06T00:00:33.136022Z",
     "iopub.status.idle": "2022-03-06T00:00:33.244446Z",
     "shell.execute_reply": "2022-03-06T00:00:33.244446Z"
    },
    "papermill": {
     "duration": 0.159752,
     "end_time": "2022-03-06T00:00:33.244446",
     "exception": false,
     "start_time": "2022-03-06T00:00:33.084694",
     "status": "completed"
    },
    "tags": []
   },
   "outputs": [
    {
     "name": "stdout",
     "output_type": "stream",
     "text": [
      "[[Model]]\n",
      "    Model(lorentzian)\n",
      "[[Fit Statistics]]\n",
      "    # fitting method   = leastsq\n",
      "    # function evals   = 21\n",
      "    # data points      = 31\n",
      "    # variables        = 3\n",
      "    chi-square         = 0.04417934\n",
      "    reduced chi-square = 0.00157783\n",
      "    Akaike info crit   = -197.158044\n",
      "    Bayesian info crit = -192.856082\n",
      "[[Variables]]\n",
      "    amplitude:  8.0364e+08 +/- 7638925.10 (0.95%) (init = 6.848577e+08)\n",
      "    center:     11274774.3 +/- 1089815.39 (9.67%) (init = 9801769)\n",
      "    sigma:      1.2478e+08 +/- 1685237.88 (1.35%) (init = 1.078195e+08)\n",
      "    fwhm:       2.4956e+08 +/- 3370475.76 (1.35%) == '2.0000000*sigma'\n",
      "    height:     2.05003127 +/- 0.01813228 (0.88%) == '0.3183099*amplitude/max(1e-15, sigma)'\n",
      "[[Correlations]] (unreported correlations are < 0.100)\n",
      "    C(amplitude, sigma) = 0.758\n"
     ]
    }
   ],
   "source": [
    "model = LorentzianModel()\n",
    "params = model.guess(\n",
    "                    results, \n",
    "                    x = δl_scan\n",
    ")\n",
    "fit = model.fit(results, params, x = δl_scan)\n",
    "print(fit.fit_report())"
   ]
  },
  {
   "cell_type": "code",
   "execution_count": 32,
   "id": "aea2ff27-ba35-4041-97bc-66afb538dcaa",
   "metadata": {
    "execution": {
     "iopub.execute_input": "2022-03-06T00:00:33.337899Z",
     "iopub.status.busy": "2022-03-06T00:00:33.336898Z",
     "iopub.status.idle": "2022-03-06T00:00:33.540081Z",
     "shell.execute_reply": "2022-03-06T00:00:33.540081Z"
    },
    "papermill": {
     "duration": 0.247061,
     "end_time": "2022-03-06T00:00:33.540081",
     "exception": false,
     "start_time": "2022-03-06T00:00:33.293020",
     "status": "completed"
    },
    "tags": []
   },
   "outputs": [
    {
     "data": {
      "image/png": "[encoded data removed]",
      "text/plain": [
       "<Figure size 576x360 with 1 Axes>"
      ]
     },
     "metadata": {
      "needs_background": "light"
     },
     "output_type": "display_data"
    }
   ],
   "source": [
    "_x = np.linspace(δl_scan.min(), δl_scan.max(), 201)\n",
    "y = fit.eval(x = _x)\n",
    "\n",
    "fig, ax = plt.subplots(figsize = (8,5))\n",
    "ax.plot(δl_scan / (2*np.pi*1e6), results, '.', ms = 13, label = 'data')\n",
    "ax.plot(_x / (2*np.pi*1e6), y, label = 'fit', lw = 2)\n",
    "\n",
    "ax.set_xlabel(\"δ [MHz]\", fontsize = 14)\n",
    "ax.set_ylabel(\"# photons\", fontsize = 14)\n",
    "ax.legend(fontsize = 14)\n",
    "ax.set_title(\"Lorentzian Fit\", fontsize = 15)\n",
    "ax.grid(True)"
   ]
  },
  {
   "cell_type": "code",
   "execution_count": 33,
   "id": "7db03d55-3233-4aff-a947-1860b3cf301e",
   "metadata": {
    "execution": {
     "iopub.execute_input": "2022-03-06T00:00:33.629079Z",
     "iopub.status.busy": "2022-03-06T00:00:33.628079Z",
     "iopub.status.idle": "2022-03-06T00:00:33.907372Z",
     "shell.execute_reply": "2022-03-06T00:00:33.907372Z"
    },
    "papermill": {
     "duration": 0.324293,
     "end_time": "2022-03-06T00:00:33.907372",
     "exception": false,
     "start_time": "2022-03-06T00:00:33.583079",
     "status": "completed"
    },
    "tags": []
   },
   "outputs": [
    {
     "data": {
      "image/png": "[encoded data removed]",
      "text/plain": [
       "<Figure size 432x432 with 2 Axes>"
      ]
     },
     "metadata": {
      "needs_background": "light"
     },
     "output_type": "display_data"
    }
   ],
   "source": [
    "_ = fit.plot()"
   ]
  },
  {
   "cell_type": "markdown",
   "id": "de774ff7-7f22-4f5f-a1bf-b969780a21b8",
   "metadata": {
    "papermill": {
     "duration": 0.04231,
     "end_time": "2022-03-06T00:00:33.997024",
     "exception": false,
     "start_time": "2022-03-06T00:00:33.954714",
     "status": "completed"
    },
    "tags": []
   },
   "source": [
    "#### Fit Gaussian to scan"
   ]
  },
  {
   "cell_type": "code",
   "execution_count": 34,
   "id": "2406e400-d8a4-42a6-a169-6940ee1cdea8",
   "metadata": {
    "execution": {
     "iopub.execute_input": "2022-03-06T00:00:34.090128Z",
     "iopub.status.busy": "2022-03-06T00:00:34.090128Z",
     "iopub.status.idle": "2022-03-06T00:00:34.170587Z",
     "shell.execute_reply": "2022-03-06T00:00:34.170587Z"
    },
    "papermill": {
     "duration": 0.133706,
     "end_time": "2022-03-06T00:00:34.171587",
     "exception": false,
     "start_time": "2022-03-06T00:00:34.037881",
     "status": "completed"
    },
    "tags": []
   },
   "outputs": [
    {
     "name": "stdout",
     "output_type": "stream",
     "text": [
      "[[Model]]\n",
      "    Model(gaussian)\n",
      "[[Fit Statistics]]\n",
      "    # fitting method   = leastsq\n",
      "    # function evals   = 25\n",
      "    # data points      = 31\n",
      "    # variables        = 3\n",
      "    chi-square         = 0.27223534\n",
      "    reduced chi-square = 0.00972269\n",
      "    Akaike info crit   = -140.787343\n",
      "    Bayesian info crit = -136.485381\n",
      "[[Variables]]\n",
      "    amplitude:  5.9736e+08 +/- 11435467.8 (1.91%) (init = 5.478862e+08)\n",
      "    center:     10545499.8 +/- 2761006.54 (26.18%) (init = 9801769)\n",
      "    sigma:      1.2588e+08 +/- 2824185.33 (2.24%) (init = 1.078195e+08)\n",
      "    fwhm:       2.9643e+08 +/- 6650448.12 (2.24%) == '2.3548200*sigma'\n",
      "    height:     1.89313480 +/- 0.03603093 (1.90%) == '0.3989423*amplitude/max(1e-15, sigma)'\n",
      "[[Correlations]] (unreported correlations are < 0.100)\n",
      "    C(amplitude, sigma) = 0.591\n"
     ]
    }
   ],
   "source": [
    "model = GaussianModel()\n",
    "params = model.guess(\n",
    "                    results, \n",
    "                    x = δl_scan\n",
    ")\n",
    "fit = model.fit(results, params, x = δl_scan)\n",
    "print(fit.fit_report())"
   ]
  },
  {
   "cell_type": "code",
   "execution_count": 35,
   "id": "da38a3a8-2bc3-40b8-bc8e-a25b4bbae3e8",
   "metadata": {
    "execution": {
     "iopub.execute_input": "2022-03-06T00:00:34.265088Z",
     "iopub.status.busy": "2022-03-06T00:00:34.264081Z",
     "iopub.status.idle": "2022-03-06T00:00:34.450374Z",
     "shell.execute_reply": "2022-03-06T00:00:34.450374Z"
    },
    "papermill": {
     "duration": 0.237422,
     "end_time": "2022-03-06T00:00:34.451375",
     "exception": false,
     "start_time": "2022-03-06T00:00:34.213953",
     "status": "completed"
    },
    "tags": []
   },
   "outputs": [
    {
     "data": {
      "image/png": "[encoded data removed]",
      "text/plain": [
       "<Figure size 576x360 with 1 Axes>"
      ]
     },
     "metadata": {
      "needs_background": "light"
     },
     "output_type": "display_data"
    }
   ],
   "source": [
    "_x = np.linspace(δl_scan.min(), δl_scan.max(), 201)\n",
    "y = fit.eval(x = _x)\n",
    "\n",
    "fig, ax = plt.subplots(figsize = (8,5))\n",
    "ax.plot(δl_scan / (2*np.pi*1e6), results, '.', ms = 13, label = 'data')\n",
    "ax.plot(_x / (2*np.pi*1e6), y, label = 'fit', lw = 2)\n",
    "\n",
    "ax.set_xlabel(\"δ [MHz]\", fontsize = 14)\n",
    "ax.set_ylabel(\"# photons\", fontsize = 14)\n",
    "ax.legend(fontsize = 14)\n",
    "ax.set_title(\"Gaussian Fit\", fontsize = 15)\n",
    "ax.grid(True)"
   ]
  },
  {
   "cell_type": "code",
   "execution_count": 36,
   "id": "4e0bd614-03a0-4e0c-b644-72986d4026a4",
   "metadata": {
    "execution": {
     "iopub.execute_input": "2022-03-06T00:00:34.548180Z",
     "iopub.status.busy": "2022-03-06T00:00:34.548180Z",
     "iopub.status.idle": "2022-03-06T00:00:34.842082Z",
     "shell.execute_reply": "2022-03-06T00:00:34.843082Z"
    },
    "papermill": {
     "duration": 0.343624,
     "end_time": "2022-03-06T00:00:34.843082",
     "exception": false,
     "start_time": "2022-03-06T00:00:34.499458",
     "status": "completed"
    },
    "tags": []
   },
   "outputs": [
    {
     "data": {
      "image/png": "[encoded data removed]",
      "text/plain": [
       "<Figure size 432x432 with 2 Axes>"
      ]
     },
     "metadata": {
      "needs_background": "light"
     },
     "output_type": "display_data"
    }
   ],
   "source": [
    "_ = fit.plot()"
   ]
  },
  {
   "cell_type": "markdown",
   "id": "2e23e87f-79c2-470a-aec8-f9918c7f2c91",
   "metadata": {
    "papermill": {
     "duration": 0.057668,
     "end_time": "2022-03-06T00:00:34.947117",
     "exception": false,
     "start_time": "2022-03-06T00:00:34.889449",
     "status": "completed"
    },
    "tags": []
   },
   "source": [
    "#### Fit Voigt to scan"
   ]
  },
  {
   "cell_type": "code",
   "execution_count": 37,
   "id": "427de737-3ec5-4376-9fce-d4557da3a20d",
   "metadata": {
    "execution": {
     "iopub.execute_input": "2022-03-06T00:00:35.049529Z",
     "iopub.status.busy": "2022-03-06T00:00:35.048529Z",
     "iopub.status.idle": "2022-03-06T00:00:35.152615Z",
     "shell.execute_reply": "2022-03-06T00:00:35.153615Z"
    },
    "papermill": {
     "duration": 0.16155,
     "end_time": "2022-03-06T00:00:35.153615",
     "exception": false,
     "start_time": "2022-03-06T00:00:34.992065",
     "status": "completed"
    },
    "tags": []
   },
   "outputs": [
    {
     "name": "stdout",
     "output_type": "stream",
     "text": [
      "[[Model]]\n",
      "    Model(voigt)\n",
      "[[Fit Statistics]]\n",
      "    # fitting method   = leastsq\n",
      "    # function evals   = 21\n",
      "    # data points      = 31\n",
      "    # variables        = 3\n",
      "    chi-square         = 0.04146568\n",
      "    reduced chi-square = 0.00148092\n",
      "    Akaike info crit   = -199.123168\n",
      "    Bayesian info crit = -194.821206\n",
      "[[Variables]]\n",
      "    amplitude:  7.1279e+08 +/- 5827066.89 (0.82%) (init = 8.218293e+08)\n",
      "    center:     10998602.8 +/- 1067978.08 (9.71%) (init = 9801769)\n",
      "    sigma:      75480638.8 +/- 808721.325 (1.07%) (init = 7.008265e+07)\n",
      "    gamma:      75480638.8 +/- 808721.327 (1.07%) == 'sigma'\n",
      "    fwhm:       2.7183e+08 +/- 1771037.27 (0.65%) == '1.0692*gamma+sqrt(0.8664*gamma**2+5.545083*sigma**2)'\n",
      "    height:     1.97091528 +/- 0.01187961 (0.60%) == '(amplitude/(max(1e-15, sigma*sqrt(2*pi))))*wofz((1j*gamma)/(max(1e-15, sigma*sqrt(2)))).real'\n",
      "[[Correlations]] (unreported correlations are < 0.100)\n",
      "    C(amplitude, sigma) = 0.678\n"
     ]
    }
   ],
   "source": [
    "model = VoigtModel()\n",
    "params = model.guess(\n",
    "                    results, \n",
    "                    x = δl_scan\n",
    ")\n",
    "fit = model.fit(results, params, x = δl_scan)\n",
    "print(fit.fit_report())"
   ]
  },
  {
   "cell_type": "code",
   "execution_count": 38,
   "id": "50403281-0ba4-4572-a029-2614a6647796",
   "metadata": {
    "execution": {
     "iopub.execute_input": "2022-03-06T00:00:35.264441Z",
     "iopub.status.busy": "2022-03-06T00:00:35.264441Z",
     "iopub.status.idle": "2022-03-06T00:00:35.464442Z",
     "shell.execute_reply": "2022-03-06T00:00:35.465442Z"
    },
    "papermill": {
     "duration": 0.261395,
     "end_time": "2022-03-06T00:00:35.465835",
     "exception": false,
     "start_time": "2022-03-06T00:00:35.204440",
     "status": "completed"
    },
    "tags": []
   },
   "outputs": [
    {
     "data": {
      "image/png": "[encoded data removed]",
      "text/plain": [
       "<Figure size 576x360 with 1 Axes>"
      ]
     },
     "metadata": {
      "needs_background": "light"
     },
     "output_type": "display_data"
    }
   ],
   "source": [
    "_x = np.linspace(δl_scan.min(), δl_scan.max(), 201)\n",
    "y = fit.eval(x = _x)\n",
    "\n",
    "fig, ax = plt.subplots(figsize = (8,5))\n",
    "ax.plot(δl_scan / (2*np.pi*1e6), results, '.', ms = 13, label = 'data')\n",
    "ax.plot(_x / (2*np.pi*1e6), y, label = 'fit', lw = 2)\n",
    "\n",
    "ax.set_xlabel(\"δ [MHz]\", fontsize = 14)\n",
    "ax.set_ylabel(\"# photons\", fontsize = 14)\n",
    "ax.legend(fontsize = 14)\n",
    "ax.set_title(\"Voigt Fit\", fontsize = 15)\n",
    "ax.grid(True)"
   ]
  },
  {
   "cell_type": "code",
   "execution_count": 39,
   "id": "f3cfa0ae-8cd4-44d3-a3b2-86b49bd91fd5",
   "metadata": {
    "execution": {
     "iopub.execute_input": "2022-03-06T00:00:35.562892Z",
     "iopub.status.busy": "2022-03-06T00:00:35.562892Z",
     "iopub.status.idle": "2022-03-06T00:00:35.866366Z",
     "shell.execute_reply": "2022-03-06T00:00:35.866366Z"
    },
    "papermill": {
     "duration": 0.353907,
     "end_time": "2022-03-06T00:00:35.867366",
     "exception": false,
     "start_time": "2022-03-06T00:00:35.513459",
     "status": "completed"
    },
    "tags": []
   },
   "outputs": [
    {
     "data": {
      "image/png": "[encoded data removed]",
      "text/plain": [
       "<Figure size 432x432 with 2 Axes>"
      ]
     },
     "metadata": {
      "needs_background": "light"
     },
     "output_type": "display_data"
    }
   ],
   "source": [
    "_ = fit.plot()"
   ]
  },
  {
   "cell_type": "code",
   "execution_count": null,
   "id": "7e576c63-d35f-4274-954b-1ed373a0be02",
   "metadata": {
    "papermill": {
     "duration": 0.056541,
     "end_time": "2022-03-06T00:00:35.976236",
     "exception": false,
     "start_time": "2022-03-06T00:00:35.919695",
     "status": "completed"
    },
    "tags": []
   },
   "outputs": [],
   "source": []
  }
 ],
 "metadata": {
  "kernelspec": {
   "display_name": "Python 3 (ipykernel)",
   "language": "python",
   "name": "python3"
  },
  "language_info": {
   "codemirror_mode": {
    "name": "ipython",
    "version": 3
   },
   "file_extension": ".py",
   "mimetype": "text/x-python",
   "name": "python",
   "nbconvert_exporter": "python",
   "pygments_lexer": "ipython3",
   "version": "3.8.12"
  },
  "papermill": {
   "default_parameters": {},
   "duration": 937.249605,
   "end_time": "2022-03-06T00:00:37.121865",
   "environment_variables": {},
   "exception": null,
   "input_path": "multipass amherst template.ipynb",
   "output_path": "Q(1) F1'=1_2 F'=0.ipynb",
   "parameters": {
    "excited_F": 0,
    "excited_F1": 0.5,
    "excited_J": 1,
    "system_Js": [
     1,
     3
    ],
    "transition_type": "Q"
   },
   "start_time": "2022-03-05T23:44:59.872260",
   "version": "2.3.4"
  }
 },
 "nbformat": 4,
 "nbformat_minor": 5
}