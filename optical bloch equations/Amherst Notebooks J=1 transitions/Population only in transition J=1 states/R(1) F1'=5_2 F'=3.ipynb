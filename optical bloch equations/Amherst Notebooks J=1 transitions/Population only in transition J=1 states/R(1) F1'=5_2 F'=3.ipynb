{
 "cells": [
  {
   "cell_type": "code",
   "execution_count": 1,
   "id": "7d8a7537-0017-470b-8014-10fee27536eb",
   "metadata": {
    "execution": {
     "iopub.execute_input": "2022-03-05T23:17:45.327269Z",
     "iopub.status.busy": "2022-03-05T23:17:45.327269Z",
     "iopub.status.idle": "2022-03-05T23:17:50.270142Z",
     "shell.execute_reply": "2022-03-05T23:17:50.271142Z"
    },
    "papermill": {
     "duration": 4.984843,
     "end_time": "2022-03-05T23:17:50.271142",
     "exception": false,
     "start_time": "2022-03-05T23:17:45.286299",
     "status": "completed"
    },
    "tags": []
   },
   "outputs": [],
   "source": [
    "%load_ext autoreload\n",
    "%autoreload 2\n",
    "\n",
    "import numpy as np\n",
    "import sympy as smp\n",
    "from tqdm import tqdm\n",
    "from sympy import Symbol, symbols\n",
    "import centrex_TlF as centrex\n",
    "import matplotlib.pyplot as plt\n",
    "from julia import Main"
   ]
  },
  {
   "cell_type": "markdown",
   "id": "6b24d705-f2c7-4949-826b-60484c6990f5",
   "metadata": {
    "papermill": {
     "duration": 0.022011,
     "end_time": "2022-03-05T23:17:50.315152",
     "exception": false,
     "start_time": "2022-03-05T23:17:50.293141",
     "status": "completed"
    },
    "tags": []
   },
   "source": [
    "### Papermill parameters"
   ]
  },
  {
   "cell_type": "code",
   "execution_count": 2,
   "id": "9788a2c1-095c-4d35-8c1b-a0548a74c8d2",
   "metadata": {
    "execution": {
     "iopub.execute_input": "2022-03-05T23:17:50.365157Z",
     "iopub.status.busy": "2022-03-05T23:17:50.365157Z",
     "iopub.status.idle": "2022-03-05T23:17:50.428155Z",
     "shell.execute_reply": "2022-03-05T23:17:50.428155Z"
    },
    "papermill": {
     "duration": 0.089003,
     "end_time": "2022-03-05T23:17:50.428155",
     "exception": false,
     "start_time": "2022-03-05T23:17:50.339152",
     "status": "completed"
    },
    "tags": [
     "parameters"
    ]
   },
   "outputs": [],
   "source": [
    "Γ = 2*np.pi*1.56e6\n",
    "\n",
    "transition_type = \"R\"\n",
    "ground_J = 1\n",
    "excited_F = 2\n",
    "excited_F1 = 3/2\n",
    "system_J = [1,3]\n",
    "\n",
    "laser_power = 23.8e-3 # power in W\n",
    "σlaser = 0.000914\n",
    "npasses = 9\n",
    "multipass_offset = 0.01\n",
    "distance_between_passes = 0.03556/npasses\n",
    "power_loss_per_pass = 20.2/23.8\n",
    "\n",
    "vcm = 150\n",
    "vcm_sigma = 30\n",
    "vperp_sigma = 38\n",
    "\n",
    "ωp = 0.65*Γ\n",
    "\n",
    "β = 3.8\n",
    "ωphase = 0.0\n",
    "\n",
    "scan_range = [-30,31,2]\n",
    "\n",
    "nprocs = 7"
   ]
  },
  {
   "cell_type": "code",
   "execution_count": 3,
   "id": "2f44b723",
   "metadata": {
    "execution": {
     "iopub.execute_input": "2022-03-05T23:17:50.497164Z",
     "iopub.status.busy": "2022-03-05T23:17:50.496166Z",
     "iopub.status.idle": "2022-03-05T23:17:50.569413Z",
     "shell.execute_reply": "2022-03-05T23:17:50.568412Z"
    },
    "papermill": {
     "duration": 0.113246,
     "end_time": "2022-03-05T23:17:50.569413",
     "exception": false,
     "start_time": "2022-03-05T23:17:50.456167",
     "status": "completed"
    },
    "tags": [
     "injected-parameters"
    ]
   },
   "outputs": [],
   "source": [
    "# Parameters\n",
    "transition_type = \"R\"\n",
    "excited_J = 2\n",
    "excited_F = 3\n",
    "excited_F1 = 2.5\n",
    "system_Js = [1, 3]\n"
   ]
  },
  {
   "cell_type": "code",
   "execution_count": 4,
   "id": "c21c06f6-c1af-496a-b304-7469b9ba8a17",
   "metadata": {
    "execution": {
     "iopub.execute_input": "2022-03-05T23:17:50.619217Z",
     "iopub.status.busy": "2022-03-05T23:17:50.619217Z",
     "iopub.status.idle": "2022-03-05T23:17:51.244603Z",
     "shell.execute_reply": "2022-03-05T23:17:51.244603Z"
    },
    "papermill": {
     "duration": 0.651977,
     "end_time": "2022-03-05T23:17:51.244603",
     "exception": false,
     "start_time": "2022-03-05T23:17:50.592626",
     "status": "completed"
    },
    "tags": []
   },
   "outputs": [],
   "source": [
    "trans = centrex.transitions.LaserTransition(\n",
    "    f\"{transition_type}{ground_J}\",\n",
    "    F1 = excited_F1,\n",
    "    F = excited_F\n",
    ")\n",
    "population_J = trans.ground_selector.J\n",
    "population_F = np.unique([g.F for g in trans.ground_states])"
   ]
  },
  {
   "cell_type": "code",
   "execution_count": 5,
   "id": "a8bac859-a1d8-41cf-87c1-45cb8e44710d",
   "metadata": {
    "execution": {
     "iopub.execute_input": "2022-03-05T23:17:51.299166Z",
     "iopub.status.busy": "2022-03-05T23:17:51.299166Z",
     "iopub.status.idle": "2022-03-05T23:17:51.369201Z",
     "shell.execute_reply": "2022-03-05T23:17:51.368202Z"
    },
    "papermill": {
     "duration": 0.100785,
     "end_time": "2022-03-05T23:17:51.369201",
     "exception": false,
     "start_time": "2022-03-05T23:17:51.268416",
     "status": "completed"
    },
    "tags": []
   },
   "outputs": [
    {
     "name": "stdout",
     "output_type": "stream",
     "text": [
      "excited state : QuantumSelector(J=2, F1=2.5, F=3, mF=None, electronic='B', P=1, Ω=None)\n",
      "population in states : QuantumSelector(J=1, F1=None, F=array([2.]), mF=None, electronic='X', P=None, Ω=None)\n"
     ]
    }
   ],
   "source": [
    "excited_state = centrex.states.QuantumSelector(\n",
    "                    J=excited_J, F=excited_F, F1=excited_F1, \n",
    "                    electronic = 'B', P = trans.excited_selector.P\n",
    ")\n",
    "population_states = centrex.states.QuantumSelector(J=population_J, F=population_F, electronic = 'X')\n",
    "\n",
    "print(f\"excited state : {excited_state}\")\n",
    "print(f\"population in states : {population_states}\")"
   ]
  },
  {
   "cell_type": "markdown",
   "id": "21d17f10-4029-4df6-842f-0e7c76366a7c",
   "metadata": {
    "papermill": {
     "duration": 0.02733,
     "end_time": "2022-03-05T23:17:51.439201",
     "exception": false,
     "start_time": "2022-03-05T23:17:51.411871",
     "status": "completed"
    },
    "tags": []
   },
   "source": [
    "# Initial setup\n",
    "## Involved states"
   ]
  },
  {
   "cell_type": "code",
   "execution_count": 6,
   "id": "8a6852be-2045-4f4d-b899-c2717f66efa9",
   "metadata": {
    "execution": {
     "iopub.execute_input": "2022-03-05T23:17:51.492196Z",
     "iopub.status.busy": "2022-03-05T23:17:51.491196Z",
     "iopub.status.idle": "2022-03-05T23:17:51.569461Z",
     "shell.execute_reply": "2022-03-05T23:17:51.570461Z"
    },
    "papermill": {
     "duration": 0.10526,
     "end_time": "2022-03-05T23:17:51.570461",
     "exception": false,
     "start_time": "2022-03-05T23:17:51.465201",
     "status": "completed"
    },
    "tags": []
   },
   "outputs": [],
   "source": [
    "gnd = centrex.states.QuantumSelector(J=system_J, electronic = 'X')\n",
    "exc = excited_state\n",
    "\n",
    "gnd_laser = centrex.states.QuantumSelector(J=trans.ground_selector.J, electronic = 'X')\n",
    "exc_laser = excited_state"
   ]
  },
  {
   "cell_type": "code",
   "execution_count": 7,
   "id": "7f40b6a0-2e4a-489a-892c-84cf72f711c0",
   "metadata": {
    "execution": {
     "iopub.execute_input": "2022-03-05T23:17:51.623462Z",
     "iopub.status.busy": "2022-03-05T23:17:51.623462Z",
     "iopub.status.idle": "2022-03-05T23:17:51.681308Z",
     "shell.execute_reply": "2022-03-05T23:17:51.681308Z"
    },
    "papermill": {
     "duration": 0.085847,
     "end_time": "2022-03-05T23:17:51.681308",
     "exception": false,
     "start_time": "2022-03-05T23:17:51.595461",
     "status": "completed"
    },
    "tags": []
   },
   "outputs": [],
   "source": [
    "syspars = centrex.states.SystemParameters(\n",
    "    nprocs  = nprocs,\n",
    "    Γ       = Γ,\n",
    "    X  = gnd,\n",
    "    B = [exc]\n",
    ")"
   ]
  },
  {
   "cell_type": "markdown",
   "id": "5783d09d-767e-4901-b328-5a3d8529c562",
   "metadata": {
    "papermill": {
     "duration": 0.027957,
     "end_time": "2022-03-05T23:17:51.734198",
     "exception": false,
     "start_time": "2022-03-05T23:17:51.706241",
     "status": "completed"
    },
    "tags": []
   },
   "source": [
    "## Parameters"
   ]
  },
  {
   "cell_type": "code",
   "execution_count": 8,
   "id": "afce7fb3-65f2-4ace-b238-b74f88ff4659",
   "metadata": {
    "execution": {
     "iopub.execute_input": "2022-03-05T23:17:51.810263Z",
     "iopub.status.busy": "2022-03-05T23:17:51.810263Z",
     "iopub.status.idle": "2022-03-05T23:17:51.895259Z",
     "shell.execute_reply": "2022-03-05T23:17:51.896255Z"
    },
    "papermill": {
     "duration": 0.132056,
     "end_time": "2022-03-05T23:17:51.896255",
     "exception": false,
     "start_time": "2022-03-05T23:17:51.764199",
     "status": "completed"
    },
    "tags": []
   },
   "outputs": [],
   "source": [
    "odepars = centrex.lindblad.odeParameters(\n",
    "    Ωl = \"Ωl0 * phase_modulation(t, β, ωphase) * multipass_2d_intensity(vz*t, y0+vy*t, ampl, xlocs, ylocs, σzlaser, σylaser)\",\n",
    "    Ωl0     = 1*syspars.Γ,    # Rabi frequency of the laser [rad/s]\n",
    "    δl      = 0.0,              # detuning of the laser [rad/s]\n",
    "    \n",
    "    # laser beam properties\n",
    "    σzlaser = σlaser * np.sqrt(2),\n",
    "    σylaser = σlaser * np.sqrt(2),\n",
    "    \n",
    "    # laser multipass\n",
    "    ampl = [np.sqrt(power_loss_per_pass**n) for n in range(npasses)],\n",
    "    xlocs = [(n-1)*distance_between_passes + multipass_offset for n in centrex.utils.light.multipass_prism_order(npasses)],\n",
    "    ylocs = npasses*[0.0],\n",
    "    \n",
    "    # laser phase modulation\n",
    "    ωphase = ωphase,       # laser phase modulation frequency [rad/s]\n",
    "    β      = β,             # laser phase modulation depth [rad]\n",
    "\n",
    "    # laser polarization switching\n",
    "    ωp = ωp,           # polarization switching frequency [rad/s]\n",
    "    φp = 0.0,                 # polarization switching phase [rad]\n",
    "    Pl  = \"sin(ωp*t + φp)\",\n",
    "    Plz = \"Pl>0\",\n",
    "    Plx = \"Pl<=0\",\n",
    "    Ply = 0.0,\n",
    "    \n",
    "    # molecules\n",
    "    y0 = 0.,                   # molecule start y position [m]\n",
    "    vz = 150.,                 # longitudinal molecular velocity [m/s]\n",
    "    vy = 0.,                   # molecule vy [m/s]\n",
    ")\n"
   ]
  },
  {
   "cell_type": "markdown",
   "id": "94aff443-8f03-4464-b85e-cea4b4407fd1",
   "metadata": {
    "papermill": {
     "duration": 0.023007,
     "end_time": "2022-03-05T23:17:51.952314",
     "exception": false,
     "start_time": "2022-03-05T23:17:51.929307",
     "status": "completed"
    },
    "tags": []
   },
   "source": [
    "## Transitions"
   ]
  },
  {
   "cell_type": "code",
   "execution_count": 9,
   "id": "8ab6c2cd-69a9-43bc-b367-70604948ee8e",
   "metadata": {
    "execution": {
     "iopub.execute_input": "2022-03-05T23:17:52.002310Z",
     "iopub.status.busy": "2022-03-05T23:17:52.002310Z",
     "iopub.status.idle": "2022-03-05T23:17:52.070324Z",
     "shell.execute_reply": "2022-03-05T23:17:52.071324Z"
    },
    "papermill": {
     "duration": 0.095997,
     "end_time": "2022-03-05T23:17:52.071324",
     "exception": false,
     "start_time": "2022-03-05T23:17:51.975327",
     "status": "completed"
    },
    "tags": []
   },
   "outputs": [],
   "source": [
    "transitions = [\n",
    "    centrex.couplings.TransitionSelector(\n",
    "        ground = 1*centrex.states.generate_coupled_states_ground_X(gnd_laser),\n",
    "        excited = 1*centrex.states.generate_coupled_states_excited_B(exc_laser),\n",
    "        polarizations        = [[0,0,1],[1,0,0],[0,1,0]],\n",
    "        polarization_symbols = symbols(\"Plz     Plx     Ply\"),\n",
    "        Ω = smp.Symbol('Ωl', complex = True),\n",
    "        δ = smp.Symbol('δl'),\n",
    "        description = \"laser transition\",        \n",
    "    ),\n",
    "]"
   ]
  },
  {
   "cell_type": "code",
   "execution_count": 10,
   "id": "8830dc74-5aef-4786-b0b6-d086c03b86a7",
   "metadata": {
    "execution": {
     "iopub.execute_input": "2022-03-05T23:17:52.131310Z",
     "iopub.status.busy": "2022-03-05T23:17:52.131310Z",
     "iopub.status.idle": "2022-03-05T23:17:52.195307Z",
     "shell.execute_reply": "2022-03-05T23:17:52.194307Z"
    },
    "papermill": {
     "duration": 0.098999,
     "end_time": "2022-03-05T23:17:52.195307",
     "exception": false,
     "start_time": "2022-03-05T23:17:52.096308",
     "status": "completed"
    },
    "tags": []
   },
   "outputs": [
    {
     "data": {
      "text/plain": [
       "\"R(1) F1'=5_2 F'=3\""
      ]
     },
     "execution_count": 10,
     "metadata": {},
     "output_type": "execute_result"
    }
   ],
   "source": [
    "transition_name = centrex.transitions.identify_transition(\n",
    "    transitions[0].ground[0],\n",
    "    transitions[0].excited[0]\n",
    ")\n",
    "transition_name = transition_name.replace(\",\",\"\").replace(\"/\",\"_\")\n",
    "transition_name"
   ]
  },
  {
   "cell_type": "markdown",
   "id": "e6bed866-24bc-4cbb-9664-022df1a48188",
   "metadata": {
    "papermill": {
     "duration": 0.026506,
     "end_time": "2022-03-05T23:17:52.248314",
     "exception": false,
     "start_time": "2022-03-05T23:17:52.221808",
     "status": "completed"
    },
    "tags": []
   },
   "source": [
    "## Generate System"
   ]
  },
  {
   "cell_type": "code",
   "execution_count": 11,
   "id": "4ed1375f-f64b-45c0-8ca8-f98491e8c8f0",
   "metadata": {
    "execution": {
     "iopub.execute_input": "2022-03-05T23:17:52.301431Z",
     "iopub.status.busy": "2022-03-05T23:17:52.301431Z",
     "iopub.status.idle": "2022-03-05T23:20:48.331744Z",
     "shell.execute_reply": "2022-03-05T23:20:48.330745Z"
    },
    "papermill": {
     "duration": 176.057423,
     "end_time": "2022-03-05T23:20:48.331744",
     "exception": false,
     "start_time": "2022-03-05T23:17:52.274321",
     "status": "completed"
    },
    "tags": []
   },
   "outputs": [
    {
     "name": "stderr",
     "output_type": "stream",
     "text": [
      "INFO:centrex_TlF.lindblad.utils_setup:generate_OBE_system: 1/6 -> Generating the reduced Hamiltonian\n"
     ]
    },
    {
     "name": "stderr",
     "output_type": "stream",
     "text": [
      "INFO:centrex_TlF.lindblad.utils_setup:generate_OBE_system: 2/6 -> Generating the couplings corresponding to the transitions\n"
     ]
    },
    {
     "name": "stderr",
     "output_type": "stream",
     "text": [
      "INFO:centrex_TlF.lindblad.utils_setup:generate_OBE_system: 3/6 -> Generating the symbolic Hamiltonian\n"
     ]
    },
    {
     "name": "stderr",
     "output_type": "stream",
     "text": [
      "INFO:centrex_TlF.lindblad.utils_setup:generate_OBE_system: 4/6 -> Generating the collapse matrices\n"
     ]
    },
    {
     "name": "stderr",
     "output_type": "stream",
     "text": [
      "INFO:centrex_TlF.lindblad.utils_setup:generate_OBE_system: 5/6 -> Transforming the Hamiltonian and collapse matrices into a symbolic system of equations\n"
     ]
    },
    {
     "name": "stderr",
     "output_type": "stream",
     "text": [
      "INFO:centrex_TlF.lindblad.utils_setup:generate_OBE_system: 6/6 -> Generating Julia code representing the system of equations\n"
     ]
    },
    {
     "name": "stderr",
     "output_type": "stream",
     "text": [
      "INFO:centrex_TlF.lindblad.utils_setup:setup_OBE_system_julia: 1/3 -> Generating the preamble\n"
     ]
    },
    {
     "name": "stderr",
     "output_type": "stream",
     "text": [
      "INFO:centrex_TlF.lindblad.utils_setup:setup_OBE_system_julia: 2/3 -> Initializing Julia on 7 cores\n"
     ]
    },
    {
     "name": "stderr",
     "output_type": "stream",
     "text": [
      "INFO:centrex_TlF.lindblad.utils_setup:setup_OBE_system_julia: 3/3 -> Defining the ODE equation and parameters in Julia\n"
     ]
    },
    {
     "name": "stdout",
     "output_type": "stream",
     "text": [
      "Initialized Julia with 7 processes\n"
     ]
    },
    {
     "name": "stdout",
     "output_type": "stream",
     "text": [
      "Wall time: 2min 55s\n"
     ]
    }
   ],
   "source": [
    "%%time\n",
    "obe_system = centrex.lindblad.setup_OBE_system_julia(syspars, odepars, transitions, verbose=True, full_output=True, \n",
    "                                                     qn_compact=centrex.states.QuantumSelector(J=3, electronic = 'X'))"
   ]
  },
  {
   "cell_type": "markdown",
   "id": "e2979859-216a-46aa-a6ed-72a507abf26b",
   "metadata": {
    "papermill": {
     "duration": 0.026999,
     "end_time": "2022-03-05T23:20:48.385744",
     "exception": false,
     "start_time": "2022-03-05T23:20:48.358745",
     "status": "completed"
    },
    "tags": []
   },
   "source": [
    "# Simulations\n",
    "## Single trajectory"
   ]
  },
  {
   "cell_type": "code",
   "execution_count": 12,
   "id": "a7dfeb67-36ab-4ed5-9af1-ad66daeddeac",
   "metadata": {
    "execution": {
     "iopub.execute_input": "2022-03-05T23:20:48.443745Z",
     "iopub.status.busy": "2022-03-05T23:20:48.442746Z",
     "iopub.status.idle": "2022-03-05T23:20:48.513750Z",
     "shell.execute_reply": "2022-03-05T23:20:48.513750Z"
    },
    "papermill": {
     "duration": 0.101004,
     "end_time": "2022-03-05T23:20:48.513750",
     "exception": false,
     "start_time": "2022-03-05T23:20:48.412746",
     "status": "completed"
    },
    "tags": []
   },
   "outputs": [
    {
     "name": "stdout",
     "output_type": "stream",
     "text": [
      "Ωl0 : 1.99 Γ\n"
     ]
    }
   ],
   "source": [
    "Ωl0 = centrex.utils.light.calculate_rabi_from_power_gaussian_beam(\n",
    "                        laser_power,\n",
    "                        obe_system.couplings[0]['main coupling'],\n",
    "                        σlaser,\n",
    "                        σlaser\n",
    "    ).real\n",
    "print(f\"Ωl0 : {Ωl0 / syspars.Γ:.2f} Γ\")"
   ]
  },
  {
   "cell_type": "code",
   "execution_count": 13,
   "id": "f29311e6-5f91-40cc-b852-150cb39f3072",
   "metadata": {
    "execution": {
     "iopub.execute_input": "2022-03-05T23:20:48.604552Z",
     "iopub.status.busy": "2022-03-05T23:20:48.603552Z",
     "iopub.status.idle": "2022-03-05T23:20:48.682552Z",
     "shell.execute_reply": "2022-03-05T23:20:48.683552Z"
    },
    "papermill": {
     "duration": 0.130807,
     "end_time": "2022-03-05T23:20:48.683552",
     "exception": false,
     "start_time": "2022-03-05T23:20:48.552745",
     "status": "completed"
    },
    "tags": []
   },
   "outputs": [],
   "source": [
    "odepars.Ωl0 = Ωl0\n",
    "odepars.ωphase = ωphase\n",
    "odepars.ωp = ωp"
   ]
  },
  {
   "cell_type": "code",
   "execution_count": 14,
   "id": "39446a36-7821-474c-8be2-cf0892f0d017",
   "metadata": {
    "execution": {
     "iopub.execute_input": "2022-03-05T23:20:48.757551Z",
     "iopub.status.busy": "2022-03-05T23:20:48.757551Z",
     "iopub.status.idle": "2022-03-05T23:20:54.534541Z",
     "shell.execute_reply": "2022-03-05T23:20:54.535540Z"
    },
    "papermill": {
     "duration": 5.81099,
     "end_time": "2022-03-05T23:20:54.535540",
     "exception": false,
     "start_time": "2022-03-05T23:20:48.724550",
     "status": "completed"
    },
    "tags": []
   },
   "outputs": [],
   "source": [
    "ρ = centrex.utils.generate_population_states(population_states.get_indices(obe_system.QN), len(obe_system.QN))\n",
    "t_array, results = centrex.lindblad.do_simulation_single(odepars, (0,50e-3/odepars.vz+10e-6), ρ)"
   ]
  },
  {
   "cell_type": "code",
   "execution_count": 15,
   "id": "c2022834-a208-480a-bce9-4649d182fa91",
   "metadata": {
    "execution": {
     "iopub.execute_input": "2022-03-05T23:20:54.597720Z",
     "iopub.status.busy": "2022-03-05T23:20:54.597720Z",
     "iopub.status.idle": "2022-03-05T23:20:55.051459Z",
     "shell.execute_reply": "2022-03-05T23:20:55.052459Z"
    },
    "papermill": {
     "duration": 0.48792,
     "end_time": "2022-03-05T23:20:55.052459",
     "exception": false,
     "start_time": "2022-03-05T23:20:54.564539",
     "status": "completed"
    },
    "tags": []
   },
   "outputs": [],
   "source": [
    "multipass = np.abs(odepars.get_parameter_evolution(t_array, \"Ωl\").real)"
   ]
  },
  {
   "cell_type": "code",
   "execution_count": 16,
   "id": "51d3bd7a-ad1b-46a3-a5e0-e10ee58fd9c6",
   "metadata": {
    "execution": {
     "iopub.execute_input": "2022-03-05T23:20:55.113842Z",
     "iopub.status.busy": "2022-03-05T23:20:55.112841Z",
     "iopub.status.idle": "2022-03-05T23:20:55.437197Z",
     "shell.execute_reply": "2022-03-05T23:20:55.438197Z"
    },
    "papermill": {
     "duration": 0.358607,
     "end_time": "2022-03-05T23:20:55.438197",
     "exception": false,
     "start_time": "2022-03-05T23:20:55.079590",
     "status": "completed"
    },
    "tags": []
   },
   "outputs": [
    {
     "data": {
      "image/png": "[encoded data removed]",
      "text/plain": [
       "<Figure size 720x432 with 1 Axes>"
      ]
     },
     "metadata": {
      "needs_background": "light"
     },
     "output_type": "display_data"
    }
   ],
   "source": [
    "fig, ax = plt.subplots(figsize = (10,6)) \n",
    "ax.plot(t_array*1e6, results.T, lw = 2);\n",
    "ax.plot(t_array*1e6, multipass/multipass.max()*0.8, 'k--', lw = 2,\n",
    "        label = 'multipass')\n",
    "ax.set_xlabel('time [μs]')\n",
    "ax.set_ylabel('population')\n",
    "ax.legend(fontsize = 14)\n",
    "ax.grid(True)"
   ]
  },
  {
   "cell_type": "code",
   "execution_count": 17,
   "id": "89232317-cb62-428d-b2a6-5b27d31cb99c",
   "metadata": {
    "execution": {
     "iopub.execute_input": "2022-03-05T23:20:55.504232Z",
     "iopub.status.busy": "2022-03-05T23:20:55.503231Z",
     "iopub.status.idle": "2022-03-05T23:20:55.578263Z",
     "shell.execute_reply": "2022-03-05T23:20:55.578263Z"
    },
    "papermill": {
     "duration": 0.107351,
     "end_time": "2022-03-05T23:20:55.579574",
     "exception": false,
     "start_time": "2022-03-05T23:20:55.472223",
     "status": "completed"
    },
    "tags": []
   },
   "outputs": [
    {
     "name": "stdout",
     "output_type": "stream",
     "text": [
      "|X, J = 3, F₁ = None, F = None, mF = None, I₁ = 1/2, I₂ = 1/2, P = -, Ω = 0>\n"
     ]
    }
   ],
   "source": [
    "for states in np.array(obe_system.QN)[results[:,-1] > 0.05]:\n",
    "    print(states.find_largest_component())"
   ]
  },
  {
   "cell_type": "code",
   "execution_count": 18,
   "id": "40e8f6c3-2370-4163-aaab-2b0be25a8e6d",
   "metadata": {
    "execution": {
     "iopub.execute_input": "2022-03-05T23:20:55.640749Z",
     "iopub.status.busy": "2022-03-05T23:20:55.639742Z",
     "iopub.status.idle": "2022-03-05T23:20:55.813191Z",
     "shell.execute_reply": "2022-03-05T23:20:55.813191Z"
    },
    "papermill": {
     "duration": 0.204356,
     "end_time": "2022-03-05T23:20:55.813191",
     "exception": false,
     "start_time": "2022-03-05T23:20:55.608835",
     "status": "completed"
    },
    "tags": []
   },
   "outputs": [
    {
     "data": {
      "text/plain": [
       "2.1018961203163165"
      ]
     },
     "execution_count": 18,
     "metadata": {},
     "output_type": "execute_result"
    }
   ],
   "source": [
    "np.trapz(results[exc.get_indices(obe_system.QN),:].sum(axis = 0), t_array)*syspars.Γ"
   ]
  },
  {
   "cell_type": "markdown",
   "id": "38d78351-bc19-4793-94db-8e2436d6cb14",
   "metadata": {
    "papermill": {
     "duration": 0.028541,
     "end_time": "2022-03-05T23:20:55.872734",
     "exception": false,
     "start_time": "2022-03-05T23:20:55.844193",
     "status": "completed"
    },
    "tags": []
   },
   "source": [
    "## Detuning Scan"
   ]
  },
  {
   "cell_type": "code",
   "execution_count": 19,
   "id": "db3160c7-b51e-4cd3-8f8c-5dfeaffa8d31",
   "metadata": {
    "execution": {
     "iopub.execute_input": "2022-03-05T23:20:55.945237Z",
     "iopub.status.busy": "2022-03-05T23:20:55.945237Z",
     "iopub.status.idle": "2022-03-05T23:21:19.383267Z",
     "shell.execute_reply": "2022-03-05T23:21:19.384266Z"
    },
    "papermill": {
     "duration": 23.479029,
     "end_time": "2022-03-05T23:21:19.384266",
     "exception": false,
     "start_time": "2022-03-05T23:20:55.905237",
     "status": "completed"
    },
    "tags": []
   },
   "outputs": [
    {
     "name": "stdout",
     "output_type": "stream",
     "text": [
      "Wall time: 23.4 s\n"
     ]
    }
   ],
   "source": [
    "%%time\n",
    "\n",
    "odepars.Ωl0 = Ωl0\n",
    "odepars.ωphase = ωphase\n",
    "odepars.ωp = ωp\n",
    "\n",
    "tspan = (0,1000e-6)\n",
    "ρ = centrex.utils.generate_population_states(\n",
    "        centrex.states.QuantumSelector(J=1, F=[1,2], electronic = 'X').get_indices(obe_system.QN), \n",
    "        len(obe_system.QN)\n",
    "    )\n",
    "\n",
    "δl_scan = np.linspace(-5,5,101)*syspars.Γ\n",
    "\n",
    "parameters = [\"δl\"]\n",
    "values = [δl_scan]\n",
    "\n",
    "output_func = centrex.lindblad.setup_state_integral_calculation(\n",
    "                states = exc.get_indices(obe_system.QN, mode = \"julia\"),\n",
    "                nphotons = True\n",
    "            )\n",
    "\n",
    "cb = centrex.lindblad.setup_discrete_callback_terminate(odepars, \"vz*t >= 50e-3\")\n",
    "\n",
    "ens_prob = centrex.lindblad.setup_problem_parameter_scan(\n",
    "                        odepars, tspan, ρ, parameters, values, \n",
    "                        dimensions = 1,\n",
    "                        output_func = output_func,\n",
    "                        zipped = True\n",
    "            )\n",
    "\n",
    "centrex.lindblad.solve_problem_parameter_scan(ensemble_problem_name = ens_prob, saveat = 1e-7,\n",
    "                                             callback = cb)"
   ]
  },
  {
   "cell_type": "code",
   "execution_count": 20,
   "id": "817d03c6-c2e3-4f75-8bdd-fad4b3c694f1",
   "metadata": {
    "execution": {
     "iopub.execute_input": "2022-03-05T23:21:19.447472Z",
     "iopub.status.busy": "2022-03-05T23:21:19.446472Z",
     "iopub.status.idle": "2022-03-05T23:21:19.616194Z",
     "shell.execute_reply": "2022-03-05T23:21:19.617194Z"
    },
    "papermill": {
     "duration": 0.201993,
     "end_time": "2022-03-05T23:21:19.617194",
     "exception": false,
     "start_time": "2022-03-05T23:21:19.415201",
     "status": "completed"
    },
    "tags": []
   },
   "outputs": [
    {
     "data": {
      "image/png": "[encoded data removed]",
      "text/plain": [
       "<Figure size 576x360 with 1 Axes>"
      ]
     },
     "metadata": {
      "needs_background": "light"
     },
     "output_type": "display_data"
    }
   ],
   "source": [
    "results = centrex.lindblad.get_results_parameter_scan()\n",
    "\n",
    "fig, ax = plt.subplots(figsize = (8,5))\n",
    "ax.plot(δl_scan/syspars.Γ, results, '-')\n",
    "ax.grid(True)"
   ]
  },
  {
   "cell_type": "markdown",
   "id": "b6dcbe1d-3795-47c2-8019-a008c982afd3",
   "metadata": {
    "papermill": {
     "duration": 0.030016,
     "end_time": "2022-03-05T23:21:19.676655",
     "exception": false,
     "start_time": "2022-03-05T23:21:19.646639",
     "status": "completed"
    },
    "tags": []
   },
   "source": [
    "## Trajectory Scan"
   ]
  },
  {
   "cell_type": "code",
   "execution_count": 21,
   "id": "a124f5a7-7a18-41ed-bac2-8c21ef7f46fd",
   "metadata": {
    "execution": {
     "iopub.execute_input": "2022-03-05T23:21:19.742720Z",
     "iopub.status.busy": "2022-03-05T23:21:19.741718Z",
     "iopub.status.idle": "2022-03-05T23:21:22.147193Z",
     "shell.execute_reply": "2022-03-05T23:21:22.147193Z"
    },
    "papermill": {
     "duration": 2.439917,
     "end_time": "2022-03-05T23:21:22.147193",
     "exception": false,
     "start_time": "2022-03-05T23:21:19.707276",
     "status": "completed"
    },
    "tags": []
   },
   "outputs": [],
   "source": [
    "ntrajectories = 500\n",
    "\n",
    "n = int(1e7)\n",
    "vz = centrex.utils.generate_random_longitudinal_velocities(n, vcm, vcm_sigma)\n",
    "vx, vy = centrex.utils.generate_random_transverse_velocities(n, vperp_sigma)\n",
    "x0, y0 = centrex.utils.generate_random_coords_circle_2D(n, 0.0025)\n",
    "apertures = [(47e-3, 6.35e-3), (73e-3, 12.7e-3), (290e-3, 2.54e-3)]\n",
    "mask = np.ones(n, dtype = bool)\n",
    "for (location, diameter) in apertures:\n",
    "    t = location / vz\n",
    "    r = np.sqrt((x0+vx*t)**2 + (y0+vy*t)**2)\n",
    "    m = r < diameter/2\n",
    "    mask &= m\n",
    "    \n",
    "start_loc = 358e-3 - 0.03556/2 - 10e-3\n",
    "t = start_loc / vz\n",
    "x0, y0 = x0 + vx*t, y0 + vy*t\n",
    "\n",
    "x0 = x0[mask][:ntrajectories]\n",
    "y0 = y0[mask][:ntrajectories]\n",
    "vx = vx[mask][:ntrajectories]\n",
    "vy = vy[mask][:ntrajectories]\n",
    "vz = vz[mask][:ntrajectories]\n",
    "\n",
    "assert mask.sum() >= ntrajectories, \"not enough trajectories make it through apertures\"\n",
    "del t, mask\n",
    "\n",
    "δls = centrex.utils.detuning.velocity_to_detuning(vx, 1106e12, syspars.Γ)*syspars.Γ"
   ]
  },
  {
   "cell_type": "code",
   "execution_count": 22,
   "id": "ed2e89ae-b7e3-4645-af48-70a3fe13327a",
   "metadata": {
    "execution": {
     "iopub.execute_input": "2022-03-05T23:21:22.226191Z",
     "iopub.status.busy": "2022-03-05T23:21:22.226191Z",
     "iopub.status.idle": "2022-03-05T23:21:43.523735Z",
     "shell.execute_reply": "2022-03-05T23:21:43.524736Z"
    },
    "papermill": {
     "duration": 21.338545,
     "end_time": "2022-03-05T23:21:43.524736",
     "exception": false,
     "start_time": "2022-03-05T23:21:22.186191",
     "status": "completed"
    },
    "tags": []
   },
   "outputs": [],
   "source": [
    "odepars.Ωl0 = Ωl0\n",
    "odepars.ωphase = ωphase\n",
    "odepars.ωp = ωp\n",
    "\n",
    "tspan = (0,1000e-6)\n",
    "ρ = centrex.utils.generate_population_states(\n",
    "        centrex.states.QuantumSelector(J=1, F=[1,2], electronic = 'X').get_indices(obe_system.QN), \n",
    "        len(obe_system.QN)\n",
    "    )\n",
    "\n",
    "parameters = [\"vz\", \"δl\", \"y0\"]\n",
    "values = [vz, δls, y0]\n",
    "\n",
    "output_func = centrex.lindblad.setup_state_integral_calculation(\n",
    "                states = exc.get_indices(obe_system.QN, mode = \"julia\"),\n",
    "                nphotons = True\n",
    "            )\n",
    "\n",
    "cb = centrex.lindblad.setup_discrete_callback_terminate(odepars, \"vz*t >= 50e-3\")\n",
    "\n",
    "ens_prob = centrex.lindblad.setup_problem_parameter_scan(\n",
    "                        odepars, tspan, ρ, parameters, values, \n",
    "                        dimensions = 1,\n",
    "                        output_func = output_func,\n",
    "                        zipped = True\n",
    "            )\n",
    "\n",
    "centrex.lindblad.solve_problem_parameter_scan(ensemble_problem_name = ens_prob, saveat = 1e-7,\n",
    "                                             callback = cb)"
   ]
  },
  {
   "cell_type": "code",
   "execution_count": 23,
   "id": "29942c9f-5a7c-4c12-b72f-29ad3cb82fdc",
   "metadata": {
    "execution": {
     "iopub.execute_input": "2022-03-05T23:21:43.598744Z",
     "iopub.status.busy": "2022-03-05T23:21:43.597745Z",
     "iopub.status.idle": "2022-03-05T23:21:43.678364Z",
     "shell.execute_reply": "2022-03-05T23:21:43.679364Z"
    },
    "papermill": {
     "duration": 0.11962,
     "end_time": "2022-03-05T23:21:43.679364",
     "exception": false,
     "start_time": "2022-03-05T23:21:43.559744",
     "status": "completed"
    },
    "tags": []
   },
   "outputs": [],
   "source": [
    "results = centrex.lindblad.get_results_parameter_scan()"
   ]
  },
  {
   "cell_type": "code",
   "execution_count": 24,
   "id": "75347af4-d3a1-460a-badb-152170f68dbe",
   "metadata": {
    "execution": {
     "iopub.execute_input": "2022-03-05T23:21:43.752398Z",
     "iopub.status.busy": "2022-03-05T23:21:43.752398Z",
     "iopub.status.idle": "2022-03-05T23:21:43.819127Z",
     "shell.execute_reply": "2022-03-05T23:21:43.820126Z"
    },
    "papermill": {
     "duration": 0.106036,
     "end_time": "2022-03-05T23:21:43.820425",
     "exception": false,
     "start_time": "2022-03-05T23:21:43.714389",
     "status": "completed"
    },
    "tags": []
   },
   "outputs": [
    {
     "data": {
      "text/plain": [
       "0.9539842978112024"
      ]
     },
     "execution_count": 24,
     "metadata": {},
     "output_type": "execute_result"
    }
   ],
   "source": [
    "np.average(results)"
   ]
  },
  {
   "cell_type": "markdown",
   "id": "5ee62fd7-919a-40df-8c52-140906fb0a39",
   "metadata": {
    "papermill": {
     "duration": 0.039001,
     "end_time": "2022-03-05T23:21:43.890128",
     "exception": false,
     "start_time": "2022-03-05T23:21:43.851127",
     "status": "completed"
    },
    "tags": []
   },
   "source": [
    "## Detuning scan over trajectories for approximate power used in measurement"
   ]
  },
  {
   "cell_type": "code",
   "execution_count": 25,
   "id": "38eaf1fb-7795-477e-a0ae-c43652420275",
   "metadata": {
    "execution": {
     "iopub.execute_input": "2022-03-05T23:21:43.974126Z",
     "iopub.status.busy": "2022-03-05T23:21:43.973126Z",
     "iopub.status.idle": "2022-03-05T23:21:46.292265Z",
     "shell.execute_reply": "2022-03-05T23:21:46.292265Z"
    },
    "papermill": {
     "duration": 2.360135,
     "end_time": "2022-03-05T23:21:46.293263",
     "exception": false,
     "start_time": "2022-03-05T23:21:43.933128",
     "status": "completed"
    },
    "tags": []
   },
   "outputs": [],
   "source": [
    "ntrajectories = 100\n",
    "\n",
    "n = int(1e7)\n",
    "vz = centrex.utils.generate_random_longitudinal_velocities(n, vcm, vcm_sigma)\n",
    "vx, vy = centrex.utils.generate_random_transverse_velocities(n, vperp_sigma)\n",
    "x0, y0 = centrex.utils.generate_random_coords_circle_2D(n, 0.0025)\n",
    "apertures = [(47e-3, 6.35e-3), (73e-3, 12.7e-3), (290e-3, 2.54e-3)]\n",
    "mask = np.ones(n, dtype = bool)\n",
    "for (location, diameter) in apertures:\n",
    "    t = location / vz\n",
    "    r = np.sqrt((x0+vx*t)**2 + (y0+vy*t)**2)\n",
    "    m = r < diameter/2\n",
    "    mask &= m\n",
    "    \n",
    "start_loc = 358e-3 - 0.03556/2 - 10e-3\n",
    "t = start_loc / vz\n",
    "x0, y0 = x0 + vx*t, y0 + vy*t\n",
    "\n",
    "x0 = x0[mask][:ntrajectories]\n",
    "y0 = y0[mask][:ntrajectories]\n",
    "vx = vx[mask][:ntrajectories]\n",
    "vy = vy[mask][:ntrajectories]\n",
    "vz = vz[mask][:ntrajectories]\n",
    "\n",
    "assert mask.sum() >= ntrajectories, \"not enough trajectories make it through apertures\"\n",
    "del t, mask\n",
    "\n",
    "δls = centrex.utils.detuning.velocity_to_detuning(vx, 1106e12, syspars.Γ)*syspars.Γ"
   ]
  },
  {
   "cell_type": "code",
   "execution_count": 26,
   "id": "aa77c713-c05f-42bd-838a-e488ab436af8",
   "metadata": {
    "execution": {
     "iopub.execute_input": "2022-03-05T23:21:46.367323Z",
     "iopub.status.busy": "2022-03-05T23:21:46.367323Z",
     "iopub.status.idle": "2022-03-05T23:44:52.719284Z",
     "shell.execute_reply": "2022-03-05T23:44:52.718285Z"
    },
    "papermill": {
     "duration": 1386.391631,
     "end_time": "2022-03-05T23:44:52.719284",
     "exception": false,
     "start_time": "2022-03-05T23:21:46.327653",
     "status": "completed"
    },
    "tags": []
   },
   "outputs": [
    {
     "name": "stderr",
     "output_type": "stream",
     "text": [
      "\r",
      "  0%|                                                                                                             | 0/31 [00:00<?, ?it/s]"
     ]
    },
    {
     "name": "stderr",
     "output_type": "stream",
     "text": [
      "\r",
      "  3%|███▎                                                                                                 | 1/31 [01:26<43:16, 86.55s/it]"
     ]
    },
    {
     "name": "stderr",
     "output_type": "stream",
     "text": [
      "\r",
      "  6%|██████▌                                                                                              | 2/31 [02:48<40:36, 84.01s/it]"
     ]
    },
    {
     "name": "stderr",
     "output_type": "stream",
     "text": [
      "\r",
      " 10%|█████████▊                                                                                           | 3/31 [04:06<37:50, 81.07s/it]"
     ]
    },
    {
     "name": "stderr",
     "output_type": "stream",
     "text": [
      "\r",
      " 13%|█████████████                                                                                        | 4/31 [05:15<34:23, 76.41s/it]"
     ]
    },
    {
     "name": "stderr",
     "output_type": "stream",
     "text": [
      "\r",
      " 16%|████████████████▎                                                                                    | 5/31 [06:19<31:10, 71.95s/it]"
     ]
    },
    {
     "name": "stderr",
     "output_type": "stream",
     "text": [
      "\r",
      " 19%|███████████████████▌                                                                                 | 6/31 [07:17<27:57, 67.10s/it]"
     ]
    },
    {
     "name": "stderr",
     "output_type": "stream",
     "text": [
      "\r",
      " 23%|██████████████████████▊                                                                              | 7/31 [08:08<24:48, 62.00s/it]"
     ]
    },
    {
     "name": "stderr",
     "output_type": "stream",
     "text": [
      "\r",
      " 26%|██████████████████████████                                                                           | 8/31 [08:54<21:48, 56.88s/it]"
     ]
    },
    {
     "name": "stderr",
     "output_type": "stream",
     "text": [
      "\r",
      " 29%|█████████████████████████████▎                                                                       | 9/31 [09:34<18:52, 51.49s/it]"
     ]
    },
    {
     "name": "stderr",
     "output_type": "stream",
     "text": [
      "\r",
      " 32%|████████████████████████████████▎                                                                   | 10/31 [10:08<16:08, 46.11s/it]"
     ]
    },
    {
     "name": "stderr",
     "output_type": "stream",
     "text": [
      "\r",
      " 35%|███████████████████████████████████▍                                                                | 11/31 [10:35<13:26, 40.31s/it]"
     ]
    },
    {
     "name": "stderr",
     "output_type": "stream",
     "text": [
      "\r",
      " 39%|██████████████████████████████████████▋                                                             | 12/31 [10:55<10:46, 34.01s/it]"
     ]
    },
    {
     "name": "stderr",
     "output_type": "stream",
     "text": [
      "\r",
      " 42%|█████████████████████████████████████████▉                                                          | 13/31 [11:07<08:16, 27.57s/it]"
     ]
    },
    {
     "name": "stderr",
     "output_type": "stream",
     "text": [
      "\r",
      " 45%|█████████████████████████████████████████████▏                                                      | 14/31 [11:15<06:06, 21.57s/it]"
     ]
    },
    {
     "name": "stderr",
     "output_type": "stream",
     "text": [
      "\r",
      " 48%|████████████████████████████████████████████████▍                                                   | 15/31 [11:20<04:26, 16.63s/it]"
     ]
    },
    {
     "name": "stderr",
     "output_type": "stream",
     "text": [
      "\r",
      " 52%|███████████████████████████████████████████████████▌                                                | 16/31 [11:24<03:12, 12.82s/it]"
     ]
    },
    {
     "name": "stderr",
     "output_type": "stream",
     "text": [
      "\r",
      " 55%|██████████████████████████████████████████████████████▊                                             | 17/31 [11:30<02:27, 10.56s/it]"
     ]
    },
    {
     "name": "stderr",
     "output_type": "stream",
     "text": [
      "\r",
      " 58%|██████████████████████████████████████████████████████████                                          | 18/31 [11:38<02:09,  9.97s/it]"
     ]
    },
    {
     "name": "stderr",
     "output_type": "stream",
     "text": [
      "\r",
      " 61%|█████████████████████████████████████████████████████████████▎                                      | 19/31 [11:52<02:11, 10.99s/it]"
     ]
    },
    {
     "name": "stderr",
     "output_type": "stream",
     "text": [
      "\r",
      " 65%|████████████████████████████████████████████████████████████████▌                                   | 20/31 [12:12<02:30, 13.68s/it]"
     ]
    },
    {
     "name": "stderr",
     "output_type": "stream",
     "text": [
      "\r",
      " 68%|███████████████████████████████████████████████████████████████████▋                                | 21/31 [12:38<02:55, 17.57s/it]"
     ]
    },
    {
     "name": "stderr",
     "output_type": "stream",
     "text": [
      "\r",
      " 71%|██████████████████████████████████████████████████████████████████████▉                             | 22/31 [13:13<03:24, 22.71s/it]"
     ]
    },
    {
     "name": "stderr",
     "output_type": "stream",
     "text": [
      "\r",
      " 74%|██████████████████████████████████████████████████████████████████████████▏                         | 23/31 [13:53<03:42, 27.79s/it]"
     ]
    },
    {
     "name": "stderr",
     "output_type": "stream",
     "text": [
      "\r",
      " 77%|█████████████████████████████████████████████████████████████████████████████▍                      | 24/31 [14:42<03:59, 34.18s/it]"
     ]
    },
    {
     "name": "stderr",
     "output_type": "stream",
     "text": [
      "\r",
      " 81%|████████████████████████████████████████████████████████████████████████████████▋                   | 25/31 [15:36<04:02, 40.37s/it]"
     ]
    },
    {
     "name": "stderr",
     "output_type": "stream",
     "text": [
      "\r",
      " 84%|███████████████████████████████████████████████████████████████████████████████████▊                | 26/31 [16:37<03:51, 46.32s/it]"
     ]
    },
    {
     "name": "stderr",
     "output_type": "stream",
     "text": [
      "\r",
      " 87%|███████████████████████████████████████████████████████████████████████████████████████             | 27/31 [17:42<03:28, 52.07s/it]"
     ]
    },
    {
     "name": "stderr",
     "output_type": "stream",
     "text": [
      "\r",
      " 90%|██████████████████████████████████████████████████████████████████████████████████████████▎         | 28/31 [18:53<02:53, 57.85s/it]"
     ]
    },
    {
     "name": "stderr",
     "output_type": "stream",
     "text": [
      "\r",
      " 94%|█████████████████████████████████████████████████████████████████████████████████████████████▌      | 29/31 [20:12<02:08, 64.08s/it]"
     ]
    },
    {
     "name": "stderr",
     "output_type": "stream",
     "text": [
      "\r",
      " 97%|████████████████████████████████████████████████████████████████████████████████████████████████▊   | 30/31 [21:35<01:09, 69.66s/it]"
     ]
    },
    {
     "name": "stderr",
     "output_type": "stream",
     "text": [
      "\r",
      "100%|████████████████████████████████████████████████████████████████████████████████████████████████████| 31/31 [23:06<00:00, 76.01s/it]"
     ]
    },
    {
     "name": "stderr",
     "output_type": "stream",
     "text": [
      "\r",
      "100%|████████████████████████████████████████████████████████████████████████████████████████████████████| 31/31 [23:06<00:00, 44.71s/it]"
     ]
    },
    {
     "name": "stderr",
     "output_type": "stream",
     "text": [
      "\n"
     ]
    }
   ],
   "source": [
    "import copy\n",
    "\n",
    "odepars.Ωl0 = Ωl0\n",
    "odepars.ωphase = ωphase\n",
    "odepars.ωp = ωp\n",
    "\n",
    "tspan = (0,1000e-6)\n",
    "ρ = centrex.utils.generate_population_states(\n",
    "        population_states.get_indices(obe_system.QN), \n",
    "        len(obe_system.QN)\n",
    "    )\n",
    "\n",
    "parameters = [\"vz\", \"δl\", \"y0\"]\n",
    "values = [vz, δls, y0]\n",
    "\n",
    "output_func = centrex.lindblad.setup_state_integral_calculation(\n",
    "                states = exc.get_indices(obe_system.QN, mode = \"julia\"),\n",
    "                nphotons = True\n",
    "            )\n",
    "\n",
    "δl_scan = np.arange(*scan_range)*syspars.Γ\n",
    "\n",
    "results = []\n",
    "for δli in tqdm(δl_scan):\n",
    "    vals = copy.copy(values)\n",
    "    vals[1] = vals[1] + δli\n",
    "    cb = centrex.lindblad.setup_discrete_callback_terminate(odepars, \"vz*t >= 50e-3\")\n",
    "\n",
    "    ens_prob = centrex.lindblad.setup_problem_parameter_scan(\n",
    "                            odepars, tspan, ρ, parameters, vals, \n",
    "                            dimensions = 1,\n",
    "                            output_func = output_func,\n",
    "                            zipped = True\n",
    "                )\n",
    "\n",
    "    centrex.lindblad.solve_problem_parameter_scan(ensemble_problem_name = ens_prob, saveat = 1e-7,\n",
    "                                                 callback = cb)\n",
    "    res = centrex.lindblad.get_results_parameter_scan()\n",
    "    results.append(np.average(res))\n",
    "results = np.asarray(results)    \n",
    "odepars.Ωl0 = Ωl0"
   ]
  },
  {
   "cell_type": "code",
   "execution_count": 27,
   "id": "65a46fd6-e56a-4566-9b6c-e22ce7cc03bc",
   "metadata": {
    "execution": {
     "iopub.execute_input": "2022-03-05T23:44:52.826965Z",
     "iopub.status.busy": "2022-03-05T23:44:52.826965Z",
     "iopub.status.idle": "2022-03-05T23:44:53.020498Z",
     "shell.execute_reply": "2022-03-05T23:44:53.020498Z"
    },
    "papermill": {
     "duration": 0.246887,
     "end_time": "2022-03-05T23:44:53.020498",
     "exception": false,
     "start_time": "2022-03-05T23:44:52.773611",
     "status": "completed"
    },
    "tags": []
   },
   "outputs": [
    {
     "name": "stdout",
     "output_type": "stream",
     "text": [
      "maximum signal : 2.10\n"
     ]
    },
    {
     "data": {
      "image/png": "[encoded data removed]",
      "text/plain": [
       "<Figure size 576x360 with 1 Axes>"
      ]
     },
     "metadata": {
      "needs_background": "light"
     },
     "output_type": "display_data"
    }
   ],
   "source": [
    "fig, ax = plt.subplots(figsize = (8,5))\n",
    "ax.plot(δl_scan / (2*np.pi*1e6), results, '-', lw = 2)\n",
    "ax.plot(δl_scan / (2*np.pi*1e6), results, '.', ms = 13, color = 'C3')\n",
    "\n",
    "ax.set_xlabel(\"δ [MHz]\", fontsize = 14)\n",
    "ax.set_ylabel(\"# photons\", fontsize = 14)\n",
    "ax.grid(True)\n",
    "\n",
    "print(f\"maximum signal : {np.max(results):.2f}\")"
   ]
  },
  {
   "cell_type": "markdown",
   "id": "72eafcf4-c61e-4385-b7ea-b25b66dfdf03",
   "metadata": {
    "papermill": {
     "duration": 0.04636,
     "end_time": "2022-03-05T23:44:53.120856",
     "exception": false,
     "start_time": "2022-03-05T23:44:53.074496",
     "status": "completed"
    },
    "tags": []
   },
   "source": [
    "### Save Trajectory Detuning Scan Data"
   ]
  },
  {
   "cell_type": "code",
   "execution_count": 28,
   "id": "e839a1b3-8e15-4162-991a-37f98acfccc9",
   "metadata": {
    "execution": {
     "iopub.execute_input": "2022-03-05T23:44:53.224281Z",
     "iopub.status.busy": "2022-03-05T23:44:53.223282Z",
     "iopub.status.idle": "2022-03-05T23:44:53.279282Z",
     "shell.execute_reply": "2022-03-05T23:44:53.280282Z"
    },
    "papermill": {
     "duration": 0.114001,
     "end_time": "2022-03-05T23:44:53.280282",
     "exception": false,
     "start_time": "2022-03-05T23:44:53.166281",
     "status": "completed"
    },
    "tags": []
   },
   "outputs": [],
   "source": [
    "import pickle\n",
    "\n",
    "with open(f\"{transition_name}.pkl\", \"wb\") as f:\n",
    "    pickle.dump(\n",
    "        dict(\n",
    "            δl_scan = δl_scan,\n",
    "            signal = results\n",
    "        ),\n",
    "        f\n",
    "    )"
   ]
  },
  {
   "cell_type": "markdown",
   "id": "0524b68f-0953-47ef-9ebb-9e4608052bb7",
   "metadata": {
    "papermill": {
     "duration": 0.041002,
     "end_time": "2022-03-05T23:44:53.361284",
     "exception": false,
     "start_time": "2022-03-05T23:44:53.320282",
     "status": "completed"
    },
    "tags": []
   },
   "source": [
    "### Fit to resonance\n",
    "#### Define Gaussian and Lorentzian functions"
   ]
  },
  {
   "cell_type": "code",
   "execution_count": 29,
   "id": "18b6bc2b-6557-47f1-8b51-bb9452ca3bad",
   "metadata": {
    "execution": {
     "iopub.execute_input": "2022-03-05T23:44:53.459783Z",
     "iopub.status.busy": "2022-03-05T23:44:53.459783Z",
     "iopub.status.idle": "2022-03-05T23:44:53.694307Z",
     "shell.execute_reply": "2022-03-05T23:44:53.694307Z"
    },
    "papermill": {
     "duration": 0.288985,
     "end_time": "2022-03-05T23:44:53.695307",
     "exception": false,
     "start_time": "2022-03-05T23:44:53.406322",
     "status": "completed"
    },
    "tags": []
   },
   "outputs": [],
   "source": [
    "from scipy.optimize import curve_fit\n",
    "from scipy.special import voigt_profile\n",
    "\n",
    "def gaussian(x, a, μ, σ):\n",
    "    return a*np.exp(-(x-μ)**2 / (2*σ**2))\n",
    "\n",
    "def lorentzian( x, x0, a, gam ):\n",
    "    return a * gam**2 / ( gam**2 + ( x - x0 )**2)\n",
    "\n",
    "def voigt(x, a, μ, σ):\n",
    "    return a * voigt_profile(x - μ, σ, σ)"
   ]
  },
  {
   "cell_type": "code",
   "execution_count": 30,
   "id": "3b541b6c-a9ab-4b83-a094-56adaa32b6d1",
   "metadata": {
    "execution": {
     "iopub.execute_input": "2022-03-05T23:44:53.791309Z",
     "iopub.status.busy": "2022-03-05T23:44:53.790306Z",
     "iopub.status.idle": "2022-03-05T23:44:54.504746Z",
     "shell.execute_reply": "2022-03-05T23:44:54.505676Z"
    },
    "papermill": {
     "duration": 0.760371,
     "end_time": "2022-03-05T23:44:54.505676",
     "exception": false,
     "start_time": "2022-03-05T23:44:53.745305",
     "status": "completed"
    },
    "tags": []
   },
   "outputs": [
    {
     "name": "stderr",
     "output_type": "stream",
     "text": [
      "INFO:numexpr.utils:Note: NumExpr detected 12 cores but \"NUMEXPR_MAX_THREADS\" not set, so enforcing safe limit of 8.\n"
     ]
    },
    {
     "name": "stderr",
     "output_type": "stream",
     "text": [
      "INFO:numexpr.utils:NumExpr defaulting to 8 threads.\n"
     ]
    }
   ],
   "source": [
    "import lmfit\n",
    "from lmfit.models import LorentzianModel, GaussianModel, VoigtModel"
   ]
  },
  {
   "cell_type": "markdown",
   "id": "091f6f6a-3410-40eb-b7d6-ee229eff10a8",
   "metadata": {
    "papermill": {
     "duration": 0.042034,
     "end_time": "2022-03-05T23:44:54.589641",
     "exception": false,
     "start_time": "2022-03-05T23:44:54.547607",
     "status": "completed"
    },
    "tags": []
   },
   "source": [
    "#### Fit Lorentzian to scan"
   ]
  },
  {
   "cell_type": "code",
   "execution_count": 31,
   "id": "c3dd75a8-ff6e-4dd2-881d-5e142ef5b4ad",
   "metadata": {
    "execution": {
     "iopub.execute_input": "2022-03-05T23:44:54.682582Z",
     "iopub.status.busy": "2022-03-05T23:44:54.682582Z",
     "iopub.status.idle": "2022-03-05T23:44:54.773373Z",
     "shell.execute_reply": "2022-03-05T23:44:54.773373Z"
    },
    "papermill": {
     "duration": 0.133594,
     "end_time": "2022-03-05T23:44:54.773373",
     "exception": false,
     "start_time": "2022-03-05T23:44:54.639779",
     "status": "completed"
    },
    "tags": []
   },
   "outputs": [
    {
     "name": "stdout",
     "output_type": "stream",
     "text": [
      "[[Model]]\n",
      "    Model(lorentzian)\n",
      "[[Fit Statistics]]\n",
      "    # fitting method   = leastsq\n",
      "    # function evals   = 25\n",
      "    # data points      = 31\n",
      "    # variables        = 3\n",
      "    chi-square         = 0.16423249\n",
      "    reduced chi-square = 0.00586545\n",
      "    Akaike info crit   = -156.454243\n",
      "    Bayesian info crit = -152.152282\n",
      "##  Warning: uncertainties could not be estimated:\n",
      "    center:     at initial value\n",
      "[[Variables]]\n",
      "    amplitude:  2.0487e+09 (init = 8.095481e+08)\n",
      "    center:    -1.4192e-09 (init = -1.419158e-09)\n",
      "    sigma:      2.9596e+08 (init = 1.960354e+08)\n",
      "    fwhm:       5.9193e+08 == '2.0000000*sigma'\n",
      "    height:     2.20337166 == '0.3183099*amplitude/max(1e-15, sigma)'\n"
     ]
    }
   ],
   "source": [
    "model = LorentzianModel()\n",
    "params = model.guess(\n",
    "                    results, \n",
    "                    x = δl_scan\n",
    ")\n",
    "fit = model.fit(results, params, x = δl_scan)\n",
    "print(fit.fit_report())"
   ]
  },
  {
   "cell_type": "code",
   "execution_count": 32,
   "id": "aea2ff27-ba35-4041-97bc-66afb538dcaa",
   "metadata": {
    "execution": {
     "iopub.execute_input": "2022-03-05T23:44:54.894371Z",
     "iopub.status.busy": "2022-03-05T23:44:54.893372Z",
     "iopub.status.idle": "2022-03-05T23:44:55.120910Z",
     "shell.execute_reply": "2022-03-05T23:44:55.120910Z"
    },
    "papermill": {
     "duration": 0.289538,
     "end_time": "2022-03-05T23:44:55.120910",
     "exception": false,
     "start_time": "2022-03-05T23:44:54.831372",
     "status": "completed"
    },
    "tags": []
   },
   "outputs": [
    {
     "data": {
      "image/png": "[encoded data removed]",
      "text/plain": [
       "<Figure size 576x360 with 1 Axes>"
      ]
     },
     "metadata": {
      "needs_background": "light"
     },
     "output_type": "display_data"
    }
   ],
   "source": [
    "_x = np.linspace(δl_scan.min(), δl_scan.max(), 201)\n",
    "y = fit.eval(x = _x)\n",
    "\n",
    "fig, ax = plt.subplots(figsize = (8,5))\n",
    "ax.plot(δl_scan / (2*np.pi*1e6), results, '.', ms = 13, label = 'data')\n",
    "ax.plot(_x / (2*np.pi*1e6), y, label = 'fit', lw = 2)\n",
    "\n",
    "ax.set_xlabel(\"δ [MHz]\", fontsize = 14)\n",
    "ax.set_ylabel(\"# photons\", fontsize = 14)\n",
    "ax.legend(fontsize = 14)\n",
    "ax.set_title(\"Lorentzian Fit\", fontsize = 15)\n",
    "ax.grid(True)"
   ]
  },
  {
   "cell_type": "code",
   "execution_count": 33,
   "id": "7db03d55-3233-4aff-a947-1860b3cf301e",
   "metadata": {
    "execution": {
     "iopub.execute_input": "2022-03-05T23:44:55.211386Z",
     "iopub.status.busy": "2022-03-05T23:44:55.211386Z",
     "iopub.status.idle": "2022-03-05T23:44:55.539380Z",
     "shell.execute_reply": "2022-03-05T23:44:55.539380Z"
    },
    "papermill": {
     "duration": 0.376993,
     "end_time": "2022-03-05T23:44:55.539380",
     "exception": false,
     "start_time": "2022-03-05T23:44:55.162387",
     "status": "completed"
    },
    "tags": []
   },
   "outputs": [
    {
     "data": {
      "image/png": "[encoded data removed]",
      "text/plain": [
       "<Figure size 432x432 with 2 Axes>"
      ]
     },
     "metadata": {
      "needs_background": "light"
     },
     "output_type": "display_data"
    }
   ],
   "source": [
    "_ = fit.plot()"
   ]
  },
  {
   "cell_type": "markdown",
   "id": "de774ff7-7f22-4f5f-a1bf-b969780a21b8",
   "metadata": {
    "papermill": {
     "duration": 0.046001,
     "end_time": "2022-03-05T23:44:55.628234",
     "exception": false,
     "start_time": "2022-03-05T23:44:55.582233",
     "status": "completed"
    },
    "tags": []
   },
   "source": [
    "#### Fit Gaussian to scan"
   ]
  },
  {
   "cell_type": "code",
   "execution_count": 34,
   "id": "2406e400-d8a4-42a6-a169-6940ee1cdea8",
   "metadata": {
    "execution": {
     "iopub.execute_input": "2022-03-05T23:44:55.723279Z",
     "iopub.status.busy": "2022-03-05T23:44:55.722278Z",
     "iopub.status.idle": "2022-03-05T23:44:55.819213Z",
     "shell.execute_reply": "2022-03-05T23:44:55.818212Z"
    },
    "papermill": {
     "duration": 0.144978,
     "end_time": "2022-03-05T23:44:55.819213",
     "exception": false,
     "start_time": "2022-03-05T23:44:55.674235",
     "status": "completed"
    },
    "tags": []
   },
   "outputs": [
    {
     "name": "stdout",
     "output_type": "stream",
     "text": [
      "[[Model]]\n",
      "    Model(gaussian)\n",
      "[[Fit Statistics]]\n",
      "    # fitting method   = leastsq\n",
      "    # function evals   = 21\n",
      "    # data points      = 31\n",
      "    # variables        = 3\n",
      "    chi-square         = 0.06277975\n",
      "    reduced chi-square = 0.00224213\n",
      "    Akaike info crit   = -186.265407\n",
      "    Bayesian info crit = -181.963446\n",
      "##  Warning: uncertainties could not be estimated:\n",
      "    center:     at initial value\n",
      "[[Variables]]\n",
      "    amplitude:  1.3087e+09 (init = 6.476385e+08)\n",
      "    center:    -1.4192e-09 (init = -1.419158e-09)\n",
      "    sigma:      2.3979e+08 (init = 1.960354e+08)\n",
      "    fwhm:       5.6466e+08 == '2.3548200*sigma'\n",
      "    height:     2.17730047 == '0.3989423*amplitude/max(1e-15, sigma)'\n"
     ]
    }
   ],
   "source": [
    "model = GaussianModel()\n",
    "params = model.guess(\n",
    "                    results, \n",
    "                    x = δl_scan\n",
    ")\n",
    "fit = model.fit(results, params, x = δl_scan)\n",
    "print(fit.fit_report())"
   ]
  },
  {
   "cell_type": "code",
   "execution_count": 35,
   "id": "da38a3a8-2bc3-40b8-bc8e-a25b4bbae3e8",
   "metadata": {
    "execution": {
     "iopub.execute_input": "2022-03-05T23:44:55.932302Z",
     "iopub.status.busy": "2022-03-05T23:44:55.932302Z",
     "iopub.status.idle": "2022-03-05T23:44:56.131599Z",
     "shell.execute_reply": "2022-03-05T23:44:56.132599Z"
    },
    "papermill": {
     "duration": 0.252889,
     "end_time": "2022-03-05T23:44:56.132599",
     "exception": false,
     "start_time": "2022-03-05T23:44:55.879710",
     "status": "completed"
    },
    "tags": []
   },
   "outputs": [
    {
     "data": {
      "image/png": "[encoded data removed]",
      "text/plain": [
       "<Figure size 576x360 with 1 Axes>"
      ]
     },
     "metadata": {
      "needs_background": "light"
     },
     "output_type": "display_data"
    }
   ],
   "source": [
    "_x = np.linspace(δl_scan.min(), δl_scan.max(), 201)\n",
    "y = fit.eval(x = _x)\n",
    "\n",
    "fig, ax = plt.subplots(figsize = (8,5))\n",
    "ax.plot(δl_scan / (2*np.pi*1e6), results, '.', ms = 13, label = 'data')\n",
    "ax.plot(_x / (2*np.pi*1e6), y, label = 'fit', lw = 2)\n",
    "\n",
    "ax.set_xlabel(\"δ [MHz]\", fontsize = 14)\n",
    "ax.set_ylabel(\"# photons\", fontsize = 14)\n",
    "ax.legend(fontsize = 14)\n",
    "ax.set_title(\"Gaussian Fit\", fontsize = 15)\n",
    "ax.grid(True)"
   ]
  },
  {
   "cell_type": "code",
   "execution_count": 36,
   "id": "4e0bd614-03a0-4e0c-b644-72986d4026a4",
   "metadata": {
    "execution": {
     "iopub.execute_input": "2022-03-05T23:44:56.230298Z",
     "iopub.status.busy": "2022-03-05T23:44:56.229299Z",
     "iopub.status.idle": "2022-03-05T23:44:56.540275Z",
     "shell.execute_reply": "2022-03-05T23:44:56.540275Z"
    },
    "papermill": {
     "duration": 0.364619,
     "end_time": "2022-03-05T23:44:56.541274",
     "exception": false,
     "start_time": "2022-03-05T23:44:56.176655",
     "status": "completed"
    },
    "tags": []
   },
   "outputs": [
    {
     "data": {
      "image/png": "[encoded data removed]",
      "text/plain": [
       "<Figure size 432x432 with 2 Axes>"
      ]
     },
     "metadata": {
      "needs_background": "light"
     },
     "output_type": "display_data"
    }
   ],
   "source": [
    "_ = fit.plot()"
   ]
  },
  {
   "cell_type": "markdown",
   "id": "2e23e87f-79c2-470a-aec8-f9918c7f2c91",
   "metadata": {
    "papermill": {
     "duration": 0.04795,
     "end_time": "2022-03-05T23:44:56.632375",
     "exception": false,
     "start_time": "2022-03-05T23:44:56.584425",
     "status": "completed"
    },
    "tags": []
   },
   "source": [
    "#### Fit Voigt to scan"
   ]
  },
  {
   "cell_type": "code",
   "execution_count": 37,
   "id": "427de737-3ec5-4376-9fce-d4557da3a20d",
   "metadata": {
    "execution": {
     "iopub.execute_input": "2022-03-05T23:44:56.730594Z",
     "iopub.status.busy": "2022-03-05T23:44:56.729593Z",
     "iopub.status.idle": "2022-03-05T23:44:56.818636Z",
     "shell.execute_reply": "2022-03-05T23:44:56.819635Z"
    },
    "papermill": {
     "duration": 0.140213,
     "end_time": "2022-03-05T23:44:56.819635",
     "exception": false,
     "start_time": "2022-03-05T23:44:56.679422",
     "status": "completed"
    },
    "tags": []
   },
   "outputs": [
    {
     "name": "stdout",
     "output_type": "stream",
     "text": [
      "[[Model]]\n",
      "    Model(voigt)\n",
      "[[Fit Statistics]]\n",
      "    # fitting method   = leastsq\n",
      "    # function evals   = 21\n",
      "    # data points      = 31\n",
      "    # variables        = 3\n",
      "    chi-square         = 0.08697446\n",
      "    reduced chi-square = 0.00310623\n",
      "    Akaike info crit   = -176.159968\n",
      "    Bayesian info crit = -171.858007\n",
      "##  Warning: uncertainties could not be estimated:\n",
      "    center:     at initial value\n",
      "[[Variables]]\n",
      "    amplitude:  1.6629e+09 (init = 9.714577e+08)\n",
      "    center:    -1.4192e-09 (init = -1.419158e-09)\n",
      "    sigma:      1.5876e+08 (init = 1.27423e+08)\n",
      "    gamma:      1.5876e+08 == 'sigma'\n",
      "    fwhm:       5.7172e+08 == '1.0692*gamma+sqrt(0.8664*gamma**2+5.545083*sigma**2)'\n",
      "    height:     2.18610217 == '(amplitude/(max(1e-15, sigma*sqrt(2*pi))))*wofz((1j*gamma)/(max(1e-15, sigma*sqrt(2)))).real'\n"
     ]
    }
   ],
   "source": [
    "model = VoigtModel()\n",
    "params = model.guess(\n",
    "                    results, \n",
    "                    x = δl_scan\n",
    ")\n",
    "fit = model.fit(results, params, x = δl_scan)\n",
    "print(fit.fit_report())"
   ]
  },
  {
   "cell_type": "code",
   "execution_count": 38,
   "id": "50403281-0ba4-4572-a029-2614a6647796",
   "metadata": {
    "execution": {
     "iopub.execute_input": "2022-03-05T23:44:56.915211Z",
     "iopub.status.busy": "2022-03-05T23:44:56.914210Z",
     "iopub.status.idle": "2022-03-05T23:44:57.102351Z",
     "shell.execute_reply": "2022-03-05T23:44:57.101351Z"
    },
    "papermill": {
     "duration": 0.237139,
     "end_time": "2022-03-05T23:44:57.102351",
     "exception": false,
     "start_time": "2022-03-05T23:44:56.865212",
     "status": "completed"
    },
    "tags": []
   },
   "outputs": [
    {
     "data": {
      "image/png": "[encoded data removed]",
      "text/plain": [
       "<Figure size 576x360 with 1 Axes>"
      ]
     },
     "metadata": {
      "needs_background": "light"
     },
     "output_type": "display_data"
    }
   ],
   "source": [
    "_x = np.linspace(δl_scan.min(), δl_scan.max(), 201)\n",
    "y = fit.eval(x = _x)\n",
    "\n",
    "fig, ax = plt.subplots(figsize = (8,5))\n",
    "ax.plot(δl_scan / (2*np.pi*1e6), results, '.', ms = 13, label = 'data')\n",
    "ax.plot(_x / (2*np.pi*1e6), y, label = 'fit', lw = 2)\n",
    "\n",
    "ax.set_xlabel(\"δ [MHz]\", fontsize = 14)\n",
    "ax.set_ylabel(\"# photons\", fontsize = 14)\n",
    "ax.legend(fontsize = 14)\n",
    "ax.set_title(\"Voigt Fit\", fontsize = 15)\n",
    "ax.grid(True)"
   ]
  },
  {
   "cell_type": "code",
   "execution_count": 39,
   "id": "f3cfa0ae-8cd4-44d3-a3b2-86b49bd91fd5",
   "metadata": {
    "execution": {
     "iopub.execute_input": "2022-03-05T23:44:57.219281Z",
     "iopub.status.busy": "2022-03-05T23:44:57.218282Z",
     "iopub.status.idle": "2022-03-05T23:44:57.583823Z",
     "shell.execute_reply": "2022-03-05T23:44:57.583823Z"
    },
    "papermill": {
     "duration": 0.430216,
     "end_time": "2022-03-05T23:44:57.583823",
     "exception": false,
     "start_time": "2022-03-05T23:44:57.153607",
     "status": "completed"
    },
    "tags": []
   },
   "outputs": [
    {
     "data": {
      "image/png": "[encoded data removed]",
      "text/plain": [
       "<Figure size 432x432 with 2 Axes>"
      ]
     },
     "metadata": {
      "needs_background": "light"
     },
     "output_type": "display_data"
    }
   ],
   "source": [
    "_ = fit.plot()"
   ]
  },
  {
   "cell_type": "code",
   "execution_count": null,
   "id": "7e576c63-d35f-4274-954b-1ed373a0be02",
   "metadata": {
    "papermill": {
     "duration": 0.054061,
     "end_time": "2022-03-05T23:44:57.712883",
     "exception": false,
     "start_time": "2022-03-05T23:44:57.658822",
     "status": "completed"
    },
    "tags": []
   },
   "outputs": [],
   "source": []
  }
 ],
 "metadata": {
  "kernelspec": {
   "display_name": "Python 3 (ipykernel)",
   "language": "python",
   "name": "python3"
  },
  "language_info": {
   "codemirror_mode": {
    "name": "ipython",
    "version": 3
   },
   "file_extension": ".py",
   "mimetype": "text/x-python",
   "name": "python",
   "nbconvert_exporter": "python",
   "pygments_lexer": "ipython3",
   "version": "3.8.12"
  },
  "papermill": {
   "default_parameters": {},
   "duration": 1636.742522,
   "end_time": "2022-03-05T23:44:59.721618",
   "environment_variables": {},
   "exception": null,
   "input_path": "multipass amherst template.ipynb",
   "output_path": "R(1) F1'=5_2 F'=3.ipynb",
   "parameters": {
    "excited_F": 3,
    "excited_F1": 2.5,
    "excited_J": 2,
    "system_Js": [
     1,
     3
    ],
    "transition_type": "R"
   },
   "start_time": "2022-03-05T23:17:42.979096",
   "version": "2.3.4"
  }
 },
 "nbformat": 4,
 "nbformat_minor": 5
}