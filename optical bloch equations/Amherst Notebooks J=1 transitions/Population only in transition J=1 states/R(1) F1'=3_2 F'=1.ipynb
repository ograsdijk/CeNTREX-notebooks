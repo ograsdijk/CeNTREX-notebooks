{
 "cells": [
  {
   "cell_type": "code",
   "execution_count": 1,
   "id": "7d8a7537-0017-470b-8014-10fee27536eb",
   "metadata": {
    "execution": {
     "iopub.execute_input": "2022-03-05T21:34:35.713835Z",
     "iopub.status.busy": "2022-03-05T21:34:35.713835Z",
     "iopub.status.idle": "2022-03-05T21:34:41.043990Z",
     "shell.execute_reply": "2022-03-05T21:34:41.044989Z"
    },
    "papermill": {
     "duration": 5.386156,
     "end_time": "2022-03-05T21:34:41.044989",
     "exception": false,
     "start_time": "2022-03-05T21:34:35.658833",
     "status": "completed"
    },
    "tags": []
   },
   "outputs": [],
   "source": [
    "%load_ext autoreload\n",
    "%autoreload 2\n",
    "\n",
    "import numpy as np\n",
    "import sympy as smp\n",
    "from tqdm import tqdm\n",
    "from sympy import Symbol, symbols\n",
    "import centrex_TlF as centrex\n",
    "import matplotlib.pyplot as plt\n",
    "from julia import Main"
   ]
  },
  {
   "cell_type": "markdown",
   "id": "6b24d705-f2c7-4949-826b-60484c6990f5",
   "metadata": {
    "papermill": {
     "duration": 0.025005,
     "end_time": "2022-03-05T21:34:41.094992",
     "exception": false,
     "start_time": "2022-03-05T21:34:41.069987",
     "status": "completed"
    },
    "tags": []
   },
   "source": [
    "### Papermill parameters"
   ]
  },
  {
   "cell_type": "code",
   "execution_count": 2,
   "id": "9788a2c1-095c-4d35-8c1b-a0548a74c8d2",
   "metadata": {
    "execution": {
     "iopub.execute_input": "2022-03-05T21:34:41.154990Z",
     "iopub.status.busy": "2022-03-05T21:34:41.154990Z",
     "iopub.status.idle": "2022-03-05T21:34:41.217988Z",
     "shell.execute_reply": "2022-03-05T21:34:41.218989Z"
    },
    "papermill": {
     "duration": 0.092999,
     "end_time": "2022-03-05T21:34:41.218989",
     "exception": false,
     "start_time": "2022-03-05T21:34:41.125990",
     "status": "completed"
    },
    "tags": [
     "parameters"
    ]
   },
   "outputs": [],
   "source": [
    "Γ = 2*np.pi*1.56e6\n",
    "\n",
    "transition_type = \"R\"\n",
    "ground_J = 1\n",
    "excited_F = 2\n",
    "excited_F1 = 3/2\n",
    "system_J = [1,3]\n",
    "\n",
    "laser_power = 23.8e-3 # power in W\n",
    "σlaser = 0.000914\n",
    "npasses = 9\n",
    "multipass_offset = 0.01\n",
    "distance_between_passes = 0.03556/npasses\n",
    "power_loss_per_pass = 20.2/23.8\n",
    "\n",
    "vcm = 150\n",
    "vcm_sigma = 30\n",
    "vperp_sigma = 38\n",
    "\n",
    "ωp = 0.65*Γ\n",
    "\n",
    "β = 3.8\n",
    "ωphase = 0.0\n",
    "\n",
    "scan_range = [-30,31,2]\n",
    "\n",
    "nprocs = 7"
   ]
  },
  {
   "cell_type": "code",
   "execution_count": 3,
   "id": "95961f6d",
   "metadata": {
    "execution": {
     "iopub.execute_input": "2022-03-05T21:34:41.269989Z",
     "iopub.status.busy": "2022-03-05T21:34:41.268989Z",
     "iopub.status.idle": "2022-03-05T21:34:41.326990Z",
     "shell.execute_reply": "2022-03-05T21:34:41.325991Z"
    },
    "papermill": {
     "duration": 0.083999,
     "end_time": "2022-03-05T21:34:41.326990",
     "exception": false,
     "start_time": "2022-03-05T21:34:41.242991",
     "status": "completed"
    },
    "tags": [
     "injected-parameters"
    ]
   },
   "outputs": [],
   "source": [
    "# Parameters\n",
    "transition_type = \"R\"\n",
    "excited_J = 2\n",
    "excited_F = 1\n",
    "excited_F1 = 1.5\n",
    "system_Js = [1, 3]\n"
   ]
  },
  {
   "cell_type": "code",
   "execution_count": 4,
   "id": "c21c06f6-c1af-496a-b304-7469b9ba8a17",
   "metadata": {
    "execution": {
     "iopub.execute_input": "2022-03-05T21:34:41.378990Z",
     "iopub.status.busy": "2022-03-05T21:34:41.377989Z",
     "iopub.status.idle": "2022-03-05T21:34:42.036989Z",
     "shell.execute_reply": "2022-03-05T21:34:42.037989Z"
    },
    "papermill": {
     "duration": 0.686001,
     "end_time": "2022-03-05T21:34:42.037989",
     "exception": false,
     "start_time": "2022-03-05T21:34:41.351988",
     "status": "completed"
    },
    "tags": []
   },
   "outputs": [],
   "source": [
    "trans = centrex.transitions.LaserTransition(\n",
    "    f\"{transition_type}{ground_J}\",\n",
    "    F1 = excited_F1,\n",
    "    F = excited_F\n",
    ")\n",
    "population_J = trans.ground_selector.J\n",
    "population_F = np.unique([g.F for g in trans.ground_states])"
   ]
  },
  {
   "cell_type": "code",
   "execution_count": 5,
   "id": "a8bac859-a1d8-41cf-87c1-45cb8e44710d",
   "metadata": {
    "execution": {
     "iopub.execute_input": "2022-03-05T21:34:42.094989Z",
     "iopub.status.busy": "2022-03-05T21:34:42.093991Z",
     "iopub.status.idle": "2022-03-05T21:34:42.162989Z",
     "shell.execute_reply": "2022-03-05T21:34:42.162989Z"
    },
    "papermill": {
     "duration": 0.1,
     "end_time": "2022-03-05T21:34:42.162989",
     "exception": false,
     "start_time": "2022-03-05T21:34:42.062989",
     "status": "completed"
    },
    "tags": []
   },
   "outputs": [
    {
     "name": "stdout",
     "output_type": "stream",
     "text": [
      "excited state : QuantumSelector(J=2, F1=1.5, F=1, mF=None, electronic='B', P=1, Ω=None)\n",
      "population in states : QuantumSelector(J=1, F1=None, F=array([0., 1., 2.]), mF=None, electronic='X', P=None, Ω=None)\n"
     ]
    }
   ],
   "source": [
    "excited_state = centrex.states.QuantumSelector(\n",
    "                    J=excited_J, F=excited_F, F1=excited_F1, \n",
    "                    electronic = 'B', P = trans.excited_selector.P\n",
    ")\n",
    "population_states = centrex.states.QuantumSelector(J=population_J, F=population_F, electronic = 'X')\n",
    "\n",
    "print(f\"excited state : {excited_state}\")\n",
    "print(f\"population in states : {population_states}\")"
   ]
  },
  {
   "cell_type": "markdown",
   "id": "21d17f10-4029-4df6-842f-0e7c76366a7c",
   "metadata": {
    "papermill": {
     "duration": 0.035001,
     "end_time": "2022-03-05T21:34:42.224990",
     "exception": false,
     "start_time": "2022-03-05T21:34:42.189989",
     "status": "completed"
    },
    "tags": []
   },
   "source": [
    "# Initial setup\n",
    "## Involved states"
   ]
  },
  {
   "cell_type": "code",
   "execution_count": 6,
   "id": "8a6852be-2045-4f4d-b899-c2717f66efa9",
   "metadata": {
    "execution": {
     "iopub.execute_input": "2022-03-05T21:34:42.283989Z",
     "iopub.status.busy": "2022-03-05T21:34:42.282990Z",
     "iopub.status.idle": "2022-03-05T21:34:42.349988Z",
     "shell.execute_reply": "2022-03-05T21:34:42.349988Z"
    },
    "papermill": {
     "duration": 0.094999,
     "end_time": "2022-03-05T21:34:42.349988",
     "exception": false,
     "start_time": "2022-03-05T21:34:42.254989",
     "status": "completed"
    },
    "tags": []
   },
   "outputs": [],
   "source": [
    "gnd = centrex.states.QuantumSelector(J=system_J, electronic = 'X')\n",
    "exc = excited_state\n",
    "\n",
    "gnd_laser = centrex.states.QuantumSelector(J=trans.ground_selector.J, electronic = 'X')\n",
    "exc_laser = excited_state"
   ]
  },
  {
   "cell_type": "code",
   "execution_count": 7,
   "id": "7f40b6a0-2e4a-489a-892c-84cf72f711c0",
   "metadata": {
    "execution": {
     "iopub.execute_input": "2022-03-05T21:34:42.398989Z",
     "iopub.status.busy": "2022-03-05T21:34:42.398989Z",
     "iopub.status.idle": "2022-03-05T21:34:42.461990Z",
     "shell.execute_reply": "2022-03-05T21:34:42.461990Z"
    },
    "papermill": {
     "duration": 0.089002,
     "end_time": "2022-03-05T21:34:42.461990",
     "exception": false,
     "start_time": "2022-03-05T21:34:42.372988",
     "status": "completed"
    },
    "tags": []
   },
   "outputs": [],
   "source": [
    "syspars = centrex.states.SystemParameters(\n",
    "    nprocs  = nprocs,\n",
    "    Γ       = Γ,\n",
    "    X  = gnd,\n",
    "    B = [exc]\n",
    ")"
   ]
  },
  {
   "cell_type": "markdown",
   "id": "5783d09d-767e-4901-b328-5a3d8529c562",
   "metadata": {
    "papermill": {
     "duration": 0.037002,
     "end_time": "2022-03-05T21:34:42.522989",
     "exception": false,
     "start_time": "2022-03-05T21:34:42.485987",
     "status": "completed"
    },
    "tags": []
   },
   "source": [
    "## Parameters"
   ]
  },
  {
   "cell_type": "code",
   "execution_count": 8,
   "id": "afce7fb3-65f2-4ace-b238-b74f88ff4659",
   "metadata": {
    "execution": {
     "iopub.execute_input": "2022-03-05T21:34:42.577989Z",
     "iopub.status.busy": "2022-03-05T21:34:42.576989Z",
     "iopub.status.idle": "2022-03-05T21:34:42.650989Z",
     "shell.execute_reply": "2022-03-05T21:34:42.651990Z"
    },
    "papermill": {
     "duration": 0.104001,
     "end_time": "2022-03-05T21:34:42.651990",
     "exception": false,
     "start_time": "2022-03-05T21:34:42.547989",
     "status": "completed"
    },
    "tags": []
   },
   "outputs": [],
   "source": [
    "odepars = centrex.lindblad.odeParameters(\n",
    "    Ωl = \"Ωl0 * phase_modulation(t, β, ωphase) * multipass_2d_intensity(vz*t, y0+vy*t, ampl, xlocs, ylocs, σzlaser, σylaser)\",\n",
    "    Ωl0     = 1*syspars.Γ,    # Rabi frequency of the laser [rad/s]\n",
    "    δl      = 0.0,              # detuning of the laser [rad/s]\n",
    "    \n",
    "    # laser beam properties\n",
    "    σzlaser = σlaser * np.sqrt(2),\n",
    "    σylaser = σlaser * np.sqrt(2),\n",
    "    \n",
    "    # laser multipass\n",
    "    ampl = [np.sqrt(power_loss_per_pass**n) for n in range(npasses)],\n",
    "    xlocs = [(n-1)*distance_between_passes + multipass_offset for n in centrex.utils.light.multipass_prism_order(npasses)],\n",
    "    ylocs = npasses*[0.0],\n",
    "    \n",
    "    # laser phase modulation\n",
    "    ωphase = ωphase,       # laser phase modulation frequency [rad/s]\n",
    "    β      = β,             # laser phase modulation depth [rad]\n",
    "\n",
    "    # laser polarization switching\n",
    "    ωp = ωp,           # polarization switching frequency [rad/s]\n",
    "    φp = 0.0,                 # polarization switching phase [rad]\n",
    "    Pl  = \"sin(ωp*t + φp)\",\n",
    "    Plz = \"Pl>0\",\n",
    "    Plx = \"Pl<=0\",\n",
    "    Ply = 0.0,\n",
    "    \n",
    "    # molecules\n",
    "    y0 = 0.,                   # molecule start y position [m]\n",
    "    vz = 150.,                 # longitudinal molecular velocity [m/s]\n",
    "    vy = 0.,                   # molecule vy [m/s]\n",
    ")\n"
   ]
  },
  {
   "cell_type": "markdown",
   "id": "94aff443-8f03-4464-b85e-cea4b4407fd1",
   "metadata": {
    "papermill": {
     "duration": 0.026001,
     "end_time": "2022-03-05T21:34:42.704990",
     "exception": false,
     "start_time": "2022-03-05T21:34:42.678989",
     "status": "completed"
    },
    "tags": []
   },
   "source": [
    "## Transitions"
   ]
  },
  {
   "cell_type": "code",
   "execution_count": 9,
   "id": "8ab6c2cd-69a9-43bc-b367-70604948ee8e",
   "metadata": {
    "execution": {
     "iopub.execute_input": "2022-03-05T21:34:42.758989Z",
     "iopub.status.busy": "2022-03-05T21:34:42.757988Z",
     "iopub.status.idle": "2022-03-05T21:34:42.823990Z",
     "shell.execute_reply": "2022-03-05T21:34:42.824990Z"
    },
    "papermill": {
     "duration": 0.093001,
     "end_time": "2022-03-05T21:34:42.824990",
     "exception": false,
     "start_time": "2022-03-05T21:34:42.731989",
     "status": "completed"
    },
    "tags": []
   },
   "outputs": [],
   "source": [
    "transitions = [\n",
    "    centrex.couplings.TransitionSelector(\n",
    "        ground = 1*centrex.states.generate_coupled_states_ground_X(gnd_laser),\n",
    "        excited = 1*centrex.states.generate_coupled_states_excited_B(exc_laser),\n",
    "        polarizations        = [[0,0,1],[1,0,0],[0,1,0]],\n",
    "        polarization_symbols = symbols(\"Plz     Plx     Ply\"),\n",
    "        Ω = smp.Symbol('Ωl', complex = True),\n",
    "        δ = smp.Symbol('δl'),\n",
    "        description = \"laser transition\",        \n",
    "    ),\n",
    "]"
   ]
  },
  {
   "cell_type": "code",
   "execution_count": 10,
   "id": "8830dc74-5aef-4786-b0b6-d086c03b86a7",
   "metadata": {
    "execution": {
     "iopub.execute_input": "2022-03-05T21:34:42.881989Z",
     "iopub.status.busy": "2022-03-05T21:34:42.881989Z",
     "iopub.status.idle": "2022-03-05T21:34:42.949991Z",
     "shell.execute_reply": "2022-03-05T21:34:42.949991Z"
    },
    "papermill": {
     "duration": 0.096,
     "end_time": "2022-03-05T21:34:42.949991",
     "exception": false,
     "start_time": "2022-03-05T21:34:42.853991",
     "status": "completed"
    },
    "tags": []
   },
   "outputs": [
    {
     "data": {
      "text/plain": [
       "\"R(1) F1'=3_2 F'=1\""
      ]
     },
     "execution_count": 10,
     "metadata": {},
     "output_type": "execute_result"
    }
   ],
   "source": [
    "transition_name = centrex.transitions.identify_transition(\n",
    "    transitions[0].ground[0],\n",
    "    transitions[0].excited[0]\n",
    ")\n",
    "transition_name = transition_name.replace(\",\",\"\").replace(\"/\",\"_\")\n",
    "transition_name"
   ]
  },
  {
   "cell_type": "markdown",
   "id": "e6bed866-24bc-4cbb-9664-022df1a48188",
   "metadata": {
    "papermill": {
     "duration": 0.027997,
     "end_time": "2022-03-05T21:34:43.009987",
     "exception": false,
     "start_time": "2022-03-05T21:34:42.981990",
     "status": "completed"
    },
    "tags": []
   },
   "source": [
    "## Generate System"
   ]
  },
  {
   "cell_type": "code",
   "execution_count": 11,
   "id": "4ed1375f-f64b-45c0-8ca8-f98491e8c8f0",
   "metadata": {
    "execution": {
     "iopub.execute_input": "2022-03-05T21:34:43.088990Z",
     "iopub.status.busy": "2022-03-05T21:34:43.088990Z",
     "iopub.status.idle": "2022-03-05T21:36:17.299239Z",
     "shell.execute_reply": "2022-03-05T21:36:17.298239Z"
    },
    "papermill": {
     "duration": 94.25625,
     "end_time": "2022-03-05T21:36:17.299239",
     "exception": false,
     "start_time": "2022-03-05T21:34:43.042989",
     "status": "completed"
    },
    "tags": []
   },
   "outputs": [
    {
     "name": "stderr",
     "output_type": "stream",
     "text": [
      "INFO:centrex_TlF.lindblad.utils_setup:generate_OBE_system: 1/6 -> Generating the reduced Hamiltonian\n",
      "INFO:centrex_TlF.lindblad.utils_setup:generate_OBE_system: 2/6 -> Generating the couplings corresponding to the transitions\n",
      "INFO:centrex_TlF.lindblad.utils_setup:generate_OBE_system: 3/6 -> Generating the symbolic Hamiltonian\n",
      "INFO:centrex_TlF.lindblad.utils_setup:generate_OBE_system: 4/6 -> Generating the collapse matrices\n",
      "INFO:centrex_TlF.lindblad.utils_setup:generate_OBE_system: 5/6 -> Transforming the Hamiltonian and collapse matrices into a symbolic system of equations\n",
      "INFO:centrex_TlF.lindblad.utils_setup:generate_OBE_system: 6/6 -> Generating Julia code representing the system of equations\n",
      "INFO:centrex_TlF.lindblad.utils_setup:setup_OBE_system_julia: 1/3 -> Generating the preamble\n",
      "INFO:centrex_TlF.lindblad.utils_setup:setup_OBE_system_julia: 2/3 -> Initializing Julia on 7 cores\n",
      "INFO:centrex_TlF.lindblad.utils_setup:setup_OBE_system_julia: 3/3 -> Defining the ODE equation and parameters in Julia\n"
     ]
    },
    {
     "name": "stdout",
     "output_type": "stream",
     "text": [
      "Initialized Julia with 7 processes\n",
      "Wall time: 1min 34s\n"
     ]
    }
   ],
   "source": [
    "%%time\n",
    "obe_system = centrex.lindblad.setup_OBE_system_julia(syspars, odepars, transitions, verbose=True, full_output=True, \n",
    "                                                     qn_compact=centrex.states.QuantumSelector(J=3, electronic = 'X'))"
   ]
  },
  {
   "cell_type": "markdown",
   "id": "e2979859-216a-46aa-a6ed-72a507abf26b",
   "metadata": {
    "papermill": {
     "duration": 0.036,
     "end_time": "2022-03-05T21:36:17.365239",
     "exception": false,
     "start_time": "2022-03-05T21:36:17.329239",
     "status": "completed"
    },
    "tags": []
   },
   "source": [
    "# Simulations\n",
    "## Single trajectory"
   ]
  },
  {
   "cell_type": "code",
   "execution_count": 12,
   "id": "a7dfeb67-36ab-4ed5-9af1-ad66daeddeac",
   "metadata": {
    "execution": {
     "iopub.execute_input": "2022-03-05T21:36:17.418239Z",
     "iopub.status.busy": "2022-03-05T21:36:17.418239Z",
     "iopub.status.idle": "2022-03-05T21:36:17.485239Z",
     "shell.execute_reply": "2022-03-05T21:36:17.486239Z"
    },
    "papermill": {
     "duration": 0.095999,
     "end_time": "2022-03-05T21:36:17.486239",
     "exception": false,
     "start_time": "2022-03-05T21:36:17.390240",
     "status": "completed"
    },
    "tags": []
   },
   "outputs": [
    {
     "name": "stdout",
     "output_type": "stream",
     "text": [
      "Ωl0 : 1.52 Γ\n"
     ]
    }
   ],
   "source": [
    "Ωl0 = centrex.utils.light.calculate_rabi_from_power_gaussian_beam(\n",
    "                        laser_power,\n",
    "                        obe_system.couplings[0]['main coupling'],\n",
    "                        σlaser,\n",
    "                        σlaser\n",
    "    ).real\n",
    "print(f\"Ωl0 : {Ωl0 / syspars.Γ:.2f} Γ\")"
   ]
  },
  {
   "cell_type": "code",
   "execution_count": 13,
   "id": "f29311e6-5f91-40cc-b852-150cb39f3072",
   "metadata": {
    "execution": {
     "iopub.execute_input": "2022-03-05T21:36:17.541239Z",
     "iopub.status.busy": "2022-03-05T21:36:17.541239Z",
     "iopub.status.idle": "2022-03-05T21:36:17.598008Z",
     "shell.execute_reply": "2022-03-05T21:36:17.597008Z"
    },
    "papermill": {
     "duration": 0.08677,
     "end_time": "2022-03-05T21:36:17.598008",
     "exception": false,
     "start_time": "2022-03-05T21:36:17.511238",
     "status": "completed"
    },
    "tags": []
   },
   "outputs": [],
   "source": [
    "odepars.Ωl0 = Ωl0\n",
    "odepars.ωphase = ωphase\n",
    "odepars.ωp = ωp"
   ]
  },
  {
   "cell_type": "code",
   "execution_count": 14,
   "id": "39446a36-7821-474c-8be2-cf0892f0d017",
   "metadata": {
    "execution": {
     "iopub.execute_input": "2022-03-05T21:36:17.652008Z",
     "iopub.status.busy": "2022-03-05T21:36:17.652008Z",
     "iopub.status.idle": "2022-03-05T21:36:23.619074Z",
     "shell.execute_reply": "2022-03-05T21:36:23.620073Z"
    },
    "papermill": {
     "duration": 5.997064,
     "end_time": "2022-03-05T21:36:23.620073",
     "exception": false,
     "start_time": "2022-03-05T21:36:17.623009",
     "status": "completed"
    },
    "tags": []
   },
   "outputs": [],
   "source": [
    "ρ = centrex.utils.generate_population_states(population_states.get_indices(obe_system.QN), len(obe_system.QN))\n",
    "t_array, results = centrex.lindblad.do_simulation_single(odepars, (0,50e-3/odepars.vz+10e-6), ρ)"
   ]
  },
  {
   "cell_type": "code",
   "execution_count": 15,
   "id": "c2022834-a208-480a-bce9-4649d182fa91",
   "metadata": {
    "execution": {
     "iopub.execute_input": "2022-03-05T21:36:23.676895Z",
     "iopub.status.busy": "2022-03-05T21:36:23.676895Z",
     "iopub.status.idle": "2022-03-05T21:36:24.056705Z",
     "shell.execute_reply": "2022-03-05T21:36:24.056705Z"
    },
    "papermill": {
     "duration": 0.409254,
     "end_time": "2022-03-05T21:36:24.056705",
     "exception": false,
     "start_time": "2022-03-05T21:36:23.647451",
     "status": "completed"
    },
    "tags": []
   },
   "outputs": [],
   "source": [
    "multipass = np.abs(odepars.get_parameter_evolution(t_array, \"Ωl\").real)"
   ]
  },
  {
   "cell_type": "code",
   "execution_count": 16,
   "id": "51d3bd7a-ad1b-46a3-a5e0-e10ee58fd9c6",
   "metadata": {
    "execution": {
     "iopub.execute_input": "2022-03-05T21:36:24.118475Z",
     "iopub.status.busy": "2022-03-05T21:36:24.117939Z",
     "iopub.status.idle": "2022-03-05T21:36:24.698132Z",
     "shell.execute_reply": "2022-03-05T21:36:24.698955Z"
    },
    "papermill": {
     "duration": 0.615244,
     "end_time": "2022-03-05T21:36:24.698955",
     "exception": false,
     "start_time": "2022-03-05T21:36:24.083711",
     "status": "completed"
    },
    "tags": []
   },
   "outputs": [
    {
     "data": {
      "image/png": "[encoded data removed]",
      "text/plain": [
       "<Figure size 720x432 with 1 Axes>"
      ]
     },
     "metadata": {
      "needs_background": "light"
     },
     "output_type": "display_data"
    }
   ],
   "source": [
    "fig, ax = plt.subplots(figsize = (10,6)) \n",
    "ax.plot(t_array*1e6, results.T, lw = 2);\n",
    "ax.plot(t_array*1e6, multipass/multipass.max()*0.8, 'k--', lw = 2,\n",
    "        label = 'multipass')\n",
    "ax.set_xlabel('time [μs]')\n",
    "ax.set_ylabel('population')\n",
    "ax.legend(fontsize = 14)\n",
    "ax.grid(True)"
   ]
  },
  {
   "cell_type": "code",
   "execution_count": 17,
   "id": "89232317-cb62-428d-b2a6-5b27d31cb99c",
   "metadata": {
    "execution": {
     "iopub.execute_input": "2022-03-05T21:36:24.765962Z",
     "iopub.status.busy": "2022-03-05T21:36:24.764962Z",
     "iopub.status.idle": "2022-03-05T21:36:24.836897Z",
     "shell.execute_reply": "2022-03-05T21:36:24.837309Z"
    },
    "papermill": {
     "duration": 0.108357,
     "end_time": "2022-03-05T21:36:24.837309",
     "exception": false,
     "start_time": "2022-03-05T21:36:24.728952",
     "status": "completed"
    },
    "tags": []
   },
   "outputs": [
    {
     "name": "stdout",
     "output_type": "stream",
     "text": [
      "|X, J = 1, F₁ = 3/2, F = 2, mF = -2, I₁ = 1/2, I₂ = 1/2, P = -, Ω = 0>\n",
      "|X, J = 1, F₁ = 3/2, F = 2, mF = 2, I₁ = 1/2, I₂ = 1/2, P = -, Ω = 0>\n",
      "|X, J = 3, F₁ = None, F = None, mF = None, I₁ = 1/2, I₂ = 1/2, P = -, Ω = 0>\n"
     ]
    }
   ],
   "source": [
    "for states in np.array(obe_system.QN)[results[:,-1] > 0.05]:\n",
    "    print(states.find_largest_component())"
   ]
  },
  {
   "cell_type": "code",
   "execution_count": 18,
   "id": "40e8f6c3-2370-4163-aaab-2b0be25a8e6d",
   "metadata": {
    "execution": {
     "iopub.execute_input": "2022-03-05T21:36:24.917500Z",
     "iopub.status.busy": "2022-03-05T21:36:24.917500Z",
     "iopub.status.idle": "2022-03-05T21:36:25.023595Z",
     "shell.execute_reply": "2022-03-05T21:36:25.022597Z"
    },
    "papermill": {
     "duration": 0.153142,
     "end_time": "2022-03-05T21:36:25.023595",
     "exception": false,
     "start_time": "2022-03-05T21:36:24.870453",
     "status": "completed"
    },
    "tags": []
   },
   "outputs": [
    {
     "data": {
      "text/plain": [
       "2.812853224031678"
      ]
     },
     "execution_count": 18,
     "metadata": {},
     "output_type": "execute_result"
    }
   ],
   "source": [
    "np.trapz(results[exc.get_indices(obe_system.QN),:].sum(axis = 0), t_array)*syspars.Γ"
   ]
  },
  {
   "cell_type": "markdown",
   "id": "38d78351-bc19-4793-94db-8e2436d6cb14",
   "metadata": {
    "papermill": {
     "duration": 0.041082,
     "end_time": "2022-03-05T21:36:25.097195",
     "exception": false,
     "start_time": "2022-03-05T21:36:25.056113",
     "status": "completed"
    },
    "tags": []
   },
   "source": [
    "## Detuning Scan"
   ]
  },
  {
   "cell_type": "code",
   "execution_count": 19,
   "id": "db3160c7-b51e-4cd3-8f8c-5dfeaffa8d31",
   "metadata": {
    "execution": {
     "iopub.execute_input": "2022-03-05T21:36:25.165989Z",
     "iopub.status.busy": "2022-03-05T21:36:25.165271Z",
     "iopub.status.idle": "2022-03-05T21:36:56.096704Z",
     "shell.execute_reply": "2022-03-05T21:36:56.096704Z"
    },
    "papermill": {
     "duration": 30.964435,
     "end_time": "2022-03-05T21:36:56.096704",
     "exception": false,
     "start_time": "2022-03-05T21:36:25.132269",
     "status": "completed"
    },
    "tags": []
   },
   "outputs": [
    {
     "name": "stdout",
     "output_type": "stream",
     "text": [
      "Wall time: 30.8 s\n"
     ]
    }
   ],
   "source": [
    "%%time\n",
    "\n",
    "odepars.Ωl0 = Ωl0\n",
    "odepars.ωphase = ωphase\n",
    "odepars.ωp = ωp\n",
    "\n",
    "tspan = (0,1000e-6)\n",
    "ρ = centrex.utils.generate_population_states(\n",
    "        centrex.states.QuantumSelector(J=1, F=[1,2], electronic = 'X').get_indices(obe_system.QN), \n",
    "        len(obe_system.QN)\n",
    "    )\n",
    "\n",
    "δl_scan = np.linspace(-5,5,101)*syspars.Γ\n",
    "\n",
    "parameters = [\"δl\"]\n",
    "values = [δl_scan]\n",
    "\n",
    "output_func = centrex.lindblad.setup_state_integral_calculation(\n",
    "                states = exc.get_indices(obe_system.QN, mode = \"julia\"),\n",
    "                nphotons = True\n",
    "            )\n",
    "\n",
    "cb = centrex.lindblad.setup_discrete_callback_terminate(odepars, \"vz*t >= 50e-3\")\n",
    "\n",
    "ens_prob = centrex.lindblad.setup_problem_parameter_scan(\n",
    "                        odepars, tspan, ρ, parameters, values, \n",
    "                        dimensions = 1,\n",
    "                        output_func = output_func,\n",
    "                        zipped = True\n",
    "            )\n",
    "\n",
    "centrex.lindblad.solve_problem_parameter_scan(ensemble_problem_name = ens_prob, saveat = 1e-7,\n",
    "                                             callback = cb)"
   ]
  },
  {
   "cell_type": "code",
   "execution_count": 20,
   "id": "817d03c6-c2e3-4f75-8bdd-fad4b3c694f1",
   "metadata": {
    "execution": {
     "iopub.execute_input": "2022-03-05T21:36:56.167702Z",
     "iopub.status.busy": "2022-03-05T21:36:56.167702Z",
     "iopub.status.idle": "2022-03-05T21:36:56.337705Z",
     "shell.execute_reply": "2022-03-05T21:36:56.338706Z"
    },
    "papermill": {
     "duration": 0.208003,
     "end_time": "2022-03-05T21:36:56.338706",
     "exception": false,
     "start_time": "2022-03-05T21:36:56.130703",
     "status": "completed"
    },
    "tags": []
   },
   "outputs": [
    {
     "data": {
      "image/png": "[encoded data removed]",
      "text/plain": [
       "<Figure size 576x360 with 1 Axes>"
      ]
     },
     "metadata": {
      "needs_background": "light"
     },
     "output_type": "display_data"
    }
   ],
   "source": [
    "results = centrex.lindblad.get_results_parameter_scan()\n",
    "\n",
    "fig, ax = plt.subplots(figsize = (8,5))\n",
    "ax.plot(δl_scan/syspars.Γ, results, '-')\n",
    "ax.grid(True)"
   ]
  },
  {
   "cell_type": "markdown",
   "id": "b6dcbe1d-3795-47c2-8019-a008c982afd3",
   "metadata": {
    "papermill": {
     "duration": 0.030999,
     "end_time": "2022-03-05T21:36:56.408700",
     "exception": false,
     "start_time": "2022-03-05T21:36:56.377701",
     "status": "completed"
    },
    "tags": []
   },
   "source": [
    "## Trajectory Scan"
   ]
  },
  {
   "cell_type": "code",
   "execution_count": 21,
   "id": "a124f5a7-7a18-41ed-bac2-8c21ef7f46fd",
   "metadata": {
    "execution": {
     "iopub.execute_input": "2022-03-05T21:36:56.483702Z",
     "iopub.status.busy": "2022-03-05T21:36:56.483702Z",
     "iopub.status.idle": "2022-03-05T21:36:57.665713Z",
     "shell.execute_reply": "2022-03-05T21:36:57.666713Z"
    },
    "papermill": {
     "duration": 1.225011,
     "end_time": "2022-03-05T21:36:57.666713",
     "exception": false,
     "start_time": "2022-03-05T21:36:56.441702",
     "status": "completed"
    },
    "tags": []
   },
   "outputs": [],
   "source": [
    "ntrajectories = 500\n",
    "\n",
    "n = int(5e6)\n",
    "vz = centrex.utils.generate_random_longitudinal_velocities(n, vcm, vcm_sigma)\n",
    "vx, vy = centrex.utils.generate_random_transverse_velocities(n, vperp_sigma)\n",
    "x0, y0 = centrex.utils.generate_random_coords_circle_2D(n, 0.0025)\n",
    "apertures = [(47e-3, 6.35e-3), (73e-3, 12.7e-3), (290e-3, 2.54e-3)]\n",
    "mask = np.ones(n, dtype = bool)\n",
    "for (location, diameter) in apertures:\n",
    "    t = location / vz\n",
    "    r = np.sqrt((x0+vx*t)**2 + (y0+vy*t)**2)\n",
    "    m = r < diameter/2\n",
    "    mask &= m\n",
    "    \n",
    "start_loc = 358e-3 - 0.03556/2 - 10e-3\n",
    "t = start_loc / vz\n",
    "x0, y0 = x0 + vx*t, y0 + vy*t\n",
    "\n",
    "x0 = x0[mask][:ntrajectories]\n",
    "y0 = y0[mask][:ntrajectories]\n",
    "vx = vx[mask][:ntrajectories]\n",
    "vy = vy[mask][:ntrajectories]\n",
    "vz = vz[mask][:ntrajectories]\n",
    "\n",
    "assert mask.sum() >= ntrajectories, \"not enough trajectories make it through apertures\"\n",
    "del t, mask\n",
    "\n",
    "δls = centrex.utils.detuning.velocity_to_detuning(vx, 1106e12, syspars.Γ)*syspars.Γ"
   ]
  },
  {
   "cell_type": "code",
   "execution_count": 22,
   "id": "ed2e89ae-b7e3-4645-af48-70a3fe13327a",
   "metadata": {
    "execution": {
     "iopub.execute_input": "2022-03-05T21:36:57.734712Z",
     "iopub.status.busy": "2022-03-05T21:36:57.733712Z",
     "iopub.status.idle": "2022-03-05T21:37:48.994246Z",
     "shell.execute_reply": "2022-03-05T21:37:48.995246Z"
    },
    "papermill": {
     "duration": 51.296531,
     "end_time": "2022-03-05T21:37:48.995246",
     "exception": false,
     "start_time": "2022-03-05T21:36:57.698715",
     "status": "completed"
    },
    "tags": []
   },
   "outputs": [],
   "source": [
    "odepars.Ωl0 = Ωl0\n",
    "odepars.ωphase = ωphase\n",
    "odepars.ωp = ωp\n",
    "\n",
    "tspan = (0,1000e-6)\n",
    "ρ = centrex.utils.generate_population_states(\n",
    "        centrex.states.QuantumSelector(J=1, F=[1,2], electronic = 'X').get_indices(obe_system.QN), \n",
    "        len(obe_system.QN)\n",
    "    )\n",
    "\n",
    "parameters = [\"vz\", \"δl\", \"y0\"]\n",
    "values = [vz, δls, y0]\n",
    "\n",
    "output_func = centrex.lindblad.setup_state_integral_calculation(\n",
    "                states = exc.get_indices(obe_system.QN, mode = \"julia\"),\n",
    "                nphotons = True\n",
    "            )\n",
    "\n",
    "cb = centrex.lindblad.setup_discrete_callback_terminate(odepars, \"vz*t >= 50e-3\")\n",
    "\n",
    "ens_prob = centrex.lindblad.setup_problem_parameter_scan(\n",
    "                        odepars, tspan, ρ, parameters, values, \n",
    "                        dimensions = 1,\n",
    "                        output_func = output_func,\n",
    "                        zipped = True\n",
    "            )\n",
    "\n",
    "centrex.lindblad.solve_problem_parameter_scan(ensemble_problem_name = ens_prob, saveat = 1e-7,\n",
    "                                             callback = cb)"
   ]
  },
  {
   "cell_type": "code",
   "execution_count": 23,
   "id": "29942c9f-5a7c-4c12-b72f-29ad3cb82fdc",
   "metadata": {
    "execution": {
     "iopub.execute_input": "2022-03-05T21:37:49.072245Z",
     "iopub.status.busy": "2022-03-05T21:37:49.071243Z",
     "iopub.status.idle": "2022-03-05T21:37:49.136244Z",
     "shell.execute_reply": "2022-03-05T21:37:49.137244Z"
    },
    "papermill": {
     "duration": 0.109999,
     "end_time": "2022-03-05T21:37:49.137244",
     "exception": false,
     "start_time": "2022-03-05T21:37:49.027245",
     "status": "completed"
    },
    "tags": []
   },
   "outputs": [],
   "source": [
    "results = centrex.lindblad.get_results_parameter_scan()"
   ]
  },
  {
   "cell_type": "code",
   "execution_count": 24,
   "id": "75347af4-d3a1-460a-badb-152170f68dbe",
   "metadata": {
    "execution": {
     "iopub.execute_input": "2022-03-05T21:37:49.203245Z",
     "iopub.status.busy": "2022-03-05T21:37:49.202244Z",
     "iopub.status.idle": "2022-03-05T21:37:49.277244Z",
     "shell.execute_reply": "2022-03-05T21:37:49.278244Z"
    },
    "papermill": {
     "duration": 0.11,
     "end_time": "2022-03-05T21:37:49.278244",
     "exception": false,
     "start_time": "2022-03-05T21:37:49.168244",
     "status": "completed"
    },
    "tags": []
   },
   "outputs": [
    {
     "data": {
      "text/plain": [
       "2.683146823543685"
      ]
     },
     "execution_count": 24,
     "metadata": {},
     "output_type": "execute_result"
    }
   ],
   "source": [
    "np.average(results)"
   ]
  },
  {
   "cell_type": "markdown",
   "id": "5ee62fd7-919a-40df-8c52-140906fb0a39",
   "metadata": {
    "papermill": {
     "duration": 0.032003,
     "end_time": "2022-03-05T21:37:49.351158",
     "exception": false,
     "start_time": "2022-03-05T21:37:49.319155",
     "status": "completed"
    },
    "tags": []
   },
   "source": [
    "## Detuning scan over trajectories for approximate power used in measurement"
   ]
  },
  {
   "cell_type": "code",
   "execution_count": 25,
   "id": "38eaf1fb-7795-477e-a0ae-c43652420275",
   "metadata": {
    "execution": {
     "iopub.execute_input": "2022-03-05T21:37:49.426154Z",
     "iopub.status.busy": "2022-03-05T21:37:49.425154Z",
     "iopub.status.idle": "2022-03-05T21:37:50.667148Z",
     "shell.execute_reply": "2022-03-05T21:37:50.667148Z"
    },
    "papermill": {
     "duration": 1.283992,
     "end_time": "2022-03-05T21:37:50.667148",
     "exception": false,
     "start_time": "2022-03-05T21:37:49.383156",
     "status": "completed"
    },
    "tags": []
   },
   "outputs": [],
   "source": [
    "ntrajectories = 100\n",
    "\n",
    "n = int(5e6)\n",
    "vz = centrex.utils.generate_random_longitudinal_velocities(n, vcm, vcm_sigma)\n",
    "vx, vy = centrex.utils.generate_random_transverse_velocities(n, vperp_sigma)\n",
    "x0, y0 = centrex.utils.generate_random_coords_circle_2D(n, 0.0025)\n",
    "apertures = [(47e-3, 6.35e-3), (73e-3, 12.7e-3), (290e-3, 2.54e-3)]\n",
    "mask = np.ones(n, dtype = bool)\n",
    "for (location, diameter) in apertures:\n",
    "    t = location / vz\n",
    "    r = np.sqrt((x0+vx*t)**2 + (y0+vy*t)**2)\n",
    "    m = r < diameter/2\n",
    "    mask &= m\n",
    "    \n",
    "start_loc = 358e-3 - 0.03556/2 - 10e-3\n",
    "t = start_loc / vz\n",
    "x0, y0 = x0 + vx*t, y0 + vy*t\n",
    "\n",
    "x0 = x0[mask][:ntrajectories]\n",
    "y0 = y0[mask][:ntrajectories]\n",
    "vx = vx[mask][:ntrajectories]\n",
    "vy = vy[mask][:ntrajectories]\n",
    "vz = vz[mask][:ntrajectories]\n",
    "\n",
    "assert mask.sum() >= ntrajectories, \"not enough trajectories make it through apertures\"\n",
    "del t, mask\n",
    "\n",
    "δls = centrex.utils.detuning.velocity_to_detuning(vx, 1106e12, syspars.Γ)*syspars.Γ"
   ]
  },
  {
   "cell_type": "code",
   "execution_count": 26,
   "id": "aa77c713-c05f-42bd-838a-e488ab436af8",
   "metadata": {
    "execution": {
     "iopub.execute_input": "2022-03-05T21:37:50.753150Z",
     "iopub.status.busy": "2022-03-05T21:37:50.752148Z",
     "iopub.status.idle": "2022-03-05T21:58:50.347616Z",
     "shell.execute_reply": "2022-03-05T21:58:50.346617Z"
    },
    "papermill": {
     "duration": 1259.64047,
     "end_time": "2022-03-05T21:58:50.348615",
     "exception": false,
     "start_time": "2022-03-05T21:37:50.708145",
     "status": "completed"
    },
    "tags": []
   },
   "outputs": [
    {
     "name": "stderr",
     "output_type": "stream",
     "text": [
      "100%|████████████████████████████████████████████████████████████████████████████████████████████████████| 31/31 [20:59<00:00, 40.63s/it]\n"
     ]
    }
   ],
   "source": [
    "import copy\n",
    "\n",
    "odepars.Ωl0 = Ωl0\n",
    "odepars.ωphase = ωphase\n",
    "odepars.ωp = ωp\n",
    "\n",
    "tspan = (0,1000e-6)\n",
    "ρ = centrex.utils.generate_population_states(\n",
    "        population_states.get_indices(obe_system.QN), \n",
    "        len(obe_system.QN)\n",
    "    )\n",
    "\n",
    "parameters = [\"vz\", \"δl\", \"y0\"]\n",
    "values = [vz, δls, y0]\n",
    "\n",
    "output_func = centrex.lindblad.setup_state_integral_calculation(\n",
    "                states = exc.get_indices(obe_system.QN, mode = \"julia\"),\n",
    "                nphotons = True\n",
    "            )\n",
    "\n",
    "δl_scan = np.arange(*scan_range)*syspars.Γ\n",
    "\n",
    "results = []\n",
    "for δli in tqdm(δl_scan):\n",
    "    vals = copy.copy(values)\n",
    "    vals[1] = vals[1] + δli\n",
    "    cb = centrex.lindblad.setup_discrete_callback_terminate(odepars, \"vz*t >= 50e-3\")\n",
    "\n",
    "    ens_prob = centrex.lindblad.setup_problem_parameter_scan(\n",
    "                            odepars, tspan, ρ, parameters, vals, \n",
    "                            dimensions = 1,\n",
    "                            output_func = output_func,\n",
    "                            zipped = True\n",
    "                )\n",
    "\n",
    "    centrex.lindblad.solve_problem_parameter_scan(ensemble_problem_name = ens_prob, saveat = 1e-7,\n",
    "                                                 callback = cb)\n",
    "    res = centrex.lindblad.get_results_parameter_scan()\n",
    "    results.append(np.average(res))\n",
    "results = np.asarray(results)    \n",
    "odepars.Ωl0 = Ωl0"
   ]
  },
  {
   "cell_type": "code",
   "execution_count": 27,
   "id": "65a46fd6-e56a-4566-9b6c-e22ce7cc03bc",
   "metadata": {
    "execution": {
     "iopub.execute_input": "2022-03-05T21:58:50.451526Z",
     "iopub.status.busy": "2022-03-05T21:58:50.450526Z",
     "iopub.status.idle": "2022-03-05T21:58:50.604421Z",
     "shell.execute_reply": "2022-03-05T21:58:50.605421Z"
    },
    "papermill": {
     "duration": 0.19955,
     "end_time": "2022-03-05T21:58:50.605421",
     "exception": false,
     "start_time": "2022-03-05T21:58:50.405871",
     "status": "completed"
    },
    "tags": []
   },
   "outputs": [
    {
     "name": "stdout",
     "output_type": "stream",
     "text": [
      "maximum signal : 2.76\n"
     ]
    },
    {
     "data": {
      "image/png": "[encoded data removed]",
      "text/plain": [
       "<Figure size 576x360 with 1 Axes>"
      ]
     },
     "metadata": {
      "needs_background": "light"
     },
     "output_type": "display_data"
    }
   ],
   "source": [
    "fig, ax = plt.subplots(figsize = (8,5))\n",
    "ax.plot(δl_scan / (2*np.pi*1e6), results, '-', lw = 2)\n",
    "ax.plot(δl_scan / (2*np.pi*1e6), results, '.', ms = 13, color = 'C3')\n",
    "\n",
    "ax.set_xlabel(\"δ [MHz]\", fontsize = 14)\n",
    "ax.set_ylabel(\"# photons\", fontsize = 14)\n",
    "ax.grid(True)\n",
    "\n",
    "print(f\"maximum signal : {np.max(results):.2f}\")"
   ]
  },
  {
   "cell_type": "markdown",
   "id": "72eafcf4-c61e-4385-b7ea-b25b66dfdf03",
   "metadata": {
    "papermill": {
     "duration": 0.059253,
     "end_time": "2022-03-05T21:58:50.706677",
     "exception": false,
     "start_time": "2022-03-05T21:58:50.647424",
     "status": "completed"
    },
    "tags": []
   },
   "source": [
    "### Save Trajectory Detuning Scan Data"
   ]
  },
  {
   "cell_type": "code",
   "execution_count": 28,
   "id": "e839a1b3-8e15-4162-991a-37f98acfccc9",
   "metadata": {
    "execution": {
     "iopub.execute_input": "2022-03-05T21:58:50.850248Z",
     "iopub.status.busy": "2022-03-05T21:58:50.849247Z",
     "iopub.status.idle": "2022-03-05T21:58:50.931322Z",
     "shell.execute_reply": "2022-03-05T21:58:50.931322Z"
    },
    "papermill": {
     "duration": 0.137717,
     "end_time": "2022-03-05T21:58:50.931322",
     "exception": false,
     "start_time": "2022-03-05T21:58:50.793605",
     "status": "completed"
    },
    "tags": []
   },
   "outputs": [],
   "source": [
    "import pickle\n",
    "\n",
    "with open(f\"{transition_name}.pkl\", \"wb\") as f:\n",
    "    pickle.dump(\n",
    "        dict(\n",
    "            δl_scan = δl_scan,\n",
    "            signal = results\n",
    "        ),\n",
    "        f\n",
    "    )"
   ]
  },
  {
   "cell_type": "markdown",
   "id": "0524b68f-0953-47ef-9ebb-9e4608052bb7",
   "metadata": {
    "papermill": {
     "duration": 0.043933,
     "end_time": "2022-03-05T21:58:51.020668",
     "exception": false,
     "start_time": "2022-03-05T21:58:50.976735",
     "status": "completed"
    },
    "tags": []
   },
   "source": [
    "### Fit to resonance\n",
    "#### Define Gaussian and Lorentzian functions"
   ]
  },
  {
   "cell_type": "code",
   "execution_count": 29,
   "id": "18b6bc2b-6557-47f1-8b51-bb9452ca3bad",
   "metadata": {
    "execution": {
     "iopub.execute_input": "2022-03-05T21:58:51.116413Z",
     "iopub.status.busy": "2022-03-05T21:58:51.116413Z",
     "iopub.status.idle": "2022-03-05T21:58:51.333411Z",
     "shell.execute_reply": "2022-03-05T21:58:51.334412Z"
    },
    "papermill": {
     "duration": 0.267944,
     "end_time": "2022-03-05T21:58:51.334412",
     "exception": false,
     "start_time": "2022-03-05T21:58:51.066468",
     "status": "completed"
    },
    "tags": []
   },
   "outputs": [],
   "source": [
    "from scipy.optimize import curve_fit\n",
    "from scipy.special import voigt_profile\n",
    "\n",
    "def gaussian(x, a, μ, σ):\n",
    "    return a*np.exp(-(x-μ)**2 / (2*σ**2))\n",
    "\n",
    "def lorentzian( x, x0, a, gam ):\n",
    "    return a * gam**2 / ( gam**2 + ( x - x0 )**2)\n",
    "\n",
    "def voigt(x, a, μ, σ):\n",
    "    return a * voigt_profile(x - μ, σ, σ)"
   ]
  },
  {
   "cell_type": "code",
   "execution_count": 30,
   "id": "3b541b6c-a9ab-4b83-a094-56adaa32b6d1",
   "metadata": {
    "execution": {
     "iopub.execute_input": "2022-03-05T21:58:51.435616Z",
     "iopub.status.busy": "2022-03-05T21:58:51.434616Z",
     "iopub.status.idle": "2022-03-05T21:58:52.182943Z",
     "shell.execute_reply": "2022-03-05T21:58:52.182943Z"
    },
    "papermill": {
     "duration": 0.807681,
     "end_time": "2022-03-05T21:58:52.182943",
     "exception": false,
     "start_time": "2022-03-05T21:58:51.375262",
     "status": "completed"
    },
    "tags": []
   },
   "outputs": [
    {
     "name": "stderr",
     "output_type": "stream",
     "text": [
      "INFO:numexpr.utils:Note: NumExpr detected 12 cores but \"NUMEXPR_MAX_THREADS\" not set, so enforcing safe limit of 8.\n",
      "INFO:numexpr.utils:NumExpr defaulting to 8 threads.\n"
     ]
    }
   ],
   "source": [
    "import lmfit\n",
    "from lmfit.models import LorentzianModel, GaussianModel, VoigtModel"
   ]
  },
  {
   "cell_type": "markdown",
   "id": "091f6f6a-3410-40eb-b7d6-ee229eff10a8",
   "metadata": {
    "papermill": {
     "duration": 0.049,
     "end_time": "2022-03-05T21:58:52.292968",
     "exception": false,
     "start_time": "2022-03-05T21:58:52.243968",
     "status": "completed"
    },
    "tags": []
   },
   "source": [
    "#### Fit Lorentzian to scan"
   ]
  },
  {
   "cell_type": "code",
   "execution_count": 31,
   "id": "c3dd75a8-ff6e-4dd2-881d-5e142ef5b4ad",
   "metadata": {
    "execution": {
     "iopub.execute_input": "2022-03-05T21:58:52.391969Z",
     "iopub.status.busy": "2022-03-05T21:58:52.391969Z",
     "iopub.status.idle": "2022-03-05T21:58:52.500620Z",
     "shell.execute_reply": "2022-03-05T21:58:52.501620Z"
    },
    "papermill": {
     "duration": 0.163651,
     "end_time": "2022-03-05T21:58:52.501620",
     "exception": false,
     "start_time": "2022-03-05T21:58:52.337969",
     "status": "completed"
    },
    "tags": []
   },
   "outputs": [
    {
     "name": "stdout",
     "output_type": "stream",
     "text": [
      "[[Model]]\n",
      "    Model(lorentzian)\n",
      "[[Fit Statistics]]\n",
      "    # fitting method   = leastsq\n",
      "    # function evals   = 21\n",
      "    # data points      = 31\n",
      "    # variables        = 3\n",
      "    chi-square         = 0.02424696\n",
      "    reduced chi-square = 8.6596e-04\n",
      "    Akaike info crit   = -215.756989\n",
      "    Bayesian info crit = -211.455027\n",
      "[[Variables]]\n",
      "    amplitude:  7.9732e+08 +/- 4589503.45 (0.58%) (init = 6.42535e+08)\n",
      "    center:     6312837.55 +/- 505701.290 (8.01%) (init = 9801769)\n",
      "    sigma:      91223644.6 +/- 745035.582 (0.82%) (init = 6.861238e+07)\n",
      "    fwhm:       1.8245e+08 +/- 1490071.16 (0.82%) == '2.0000000*sigma'\n",
      "    height:     2.78213139 +/- 0.01553471 (0.56%) == '0.3183099*amplitude/max(1e-15, sigma)'\n",
      "[[Correlations]] (unreported correlations are < 0.100)\n",
      "    C(amplitude, sigma) = 0.730\n"
     ]
    }
   ],
   "source": [
    "model = LorentzianModel()\n",
    "params = model.guess(\n",
    "                    results, \n",
    "                    x = δl_scan\n",
    ")\n",
    "fit = model.fit(results, params, x = δl_scan)\n",
    "print(fit.fit_report())"
   ]
  },
  {
   "cell_type": "code",
   "execution_count": 32,
   "id": "aea2ff27-ba35-4041-97bc-66afb538dcaa",
   "metadata": {
    "execution": {
     "iopub.execute_input": "2022-03-05T21:58:52.598538Z",
     "iopub.status.busy": "2022-03-05T21:58:52.597540Z",
     "iopub.status.idle": "2022-03-05T21:58:52.809415Z",
     "shell.execute_reply": "2022-03-05T21:58:52.808416Z"
    },
    "papermill": {
     "duration": 0.265879,
     "end_time": "2022-03-05T21:58:52.809415",
     "exception": false,
     "start_time": "2022-03-05T21:58:52.543536",
     "status": "completed"
    },
    "tags": []
   },
   "outputs": [
    {
     "data": {
      "image/png": "[encoded data removed]",
      "text/plain": [
       "<Figure size 576x360 with 1 Axes>"
      ]
     },
     "metadata": {
      "needs_background": "light"
     },
     "output_type": "display_data"
    }
   ],
   "source": [
    "_x = np.linspace(δl_scan.min(), δl_scan.max(), 201)\n",
    "y = fit.eval(x = _x)\n",
    "\n",
    "fig, ax = plt.subplots(figsize = (8,5))\n",
    "ax.plot(δl_scan / (2*np.pi*1e6), results, '.', ms = 13, label = 'data')\n",
    "ax.plot(_x / (2*np.pi*1e6), y, label = 'fit', lw = 2)\n",
    "\n",
    "ax.set_xlabel(\"δ [MHz]\", fontsize = 14)\n",
    "ax.set_ylabel(\"# photons\", fontsize = 14)\n",
    "ax.legend(fontsize = 14)\n",
    "ax.set_title(\"Lorentzian Fit\", fontsize = 15)\n",
    "ax.grid(True)"
   ]
  },
  {
   "cell_type": "code",
   "execution_count": 33,
   "id": "7db03d55-3233-4aff-a947-1860b3cf301e",
   "metadata": {
    "execution": {
     "iopub.execute_input": "2022-03-05T21:58:52.899418Z",
     "iopub.status.busy": "2022-03-05T21:58:52.898418Z",
     "iopub.status.idle": "2022-03-05T21:58:53.215273Z",
     "shell.execute_reply": "2022-03-05T21:58:53.215273Z"
    },
    "papermill": {
     "duration": 0.360858,
     "end_time": "2022-03-05T21:58:53.215273",
     "exception": false,
     "start_time": "2022-03-05T21:58:52.854415",
     "status": "completed"
    },
    "tags": []
   },
   "outputs": [
    {
     "data": {
      "image/png": "[encoded data removed]",
      "text/plain": [
       "<Figure size 432x432 with 2 Axes>"
      ]
     },
     "metadata": {
      "needs_background": "light"
     },
     "output_type": "display_data"
    }
   ],
   "source": [
    "_ = fit.plot()"
   ]
  },
  {
   "cell_type": "markdown",
   "id": "de774ff7-7f22-4f5f-a1bf-b969780a21b8",
   "metadata": {
    "papermill": {
     "duration": 0.047,
     "end_time": "2022-03-05T21:58:53.318305",
     "exception": false,
     "start_time": "2022-03-05T21:58:53.271305",
     "status": "completed"
    },
    "tags": []
   },
   "source": [
    "#### Fit Gaussian to scan"
   ]
  },
  {
   "cell_type": "code",
   "execution_count": 34,
   "id": "2406e400-d8a4-42a6-a169-6940ee1cdea8",
   "metadata": {
    "execution": {
     "iopub.execute_input": "2022-03-05T21:58:53.425603Z",
     "iopub.status.busy": "2022-03-05T21:58:53.425603Z",
     "iopub.status.idle": "2022-03-05T21:58:53.527340Z",
     "shell.execute_reply": "2022-03-05T21:58:53.526340Z"
    },
    "papermill": {
     "duration": 0.158035,
     "end_time": "2022-03-05T21:58:53.527340",
     "exception": false,
     "start_time": "2022-03-05T21:58:53.369305",
     "status": "completed"
    },
    "tags": []
   },
   "outputs": [
    {
     "name": "stdout",
     "output_type": "stream",
     "text": [
      "[[Model]]\n",
      "    Model(gaussian)\n",
      "[[Fit Statistics]]\n",
      "    # fitting method   = leastsq\n",
      "    # function evals   = 41\n",
      "    # data points      = 31\n",
      "    # variables        = 3\n",
      "    chi-square         = 1.16149667\n",
      "    reduced chi-square = 0.04148202\n",
      "    Akaike info crit   = -95.8126118\n",
      "    Bayesian info crit = -91.5106502\n",
      "[[Variables]]\n",
      "    amplitude:  6.1103e+08 +/- 20588723.0 (3.37%) (init = 5.14028e+08)\n",
      "    center:     5328688.84 +/- 3809308.18 (71.49%) (init = 9801769)\n",
      "    sigma:      97941753.4 +/- 3813314.44 (3.89%) (init = 6.861238e+07)\n",
      "    fwhm:       2.3064e+08 +/- 8979669.13 (3.89%) == '2.3548200*sigma'\n",
      "    height:     2.48889097 +/- 0.08384979 (3.37%) == '0.3989423*amplitude/max(1e-15, sigma)'\n",
      "[[Correlations]] (unreported correlations are < 0.100)\n",
      "    C(amplitude, sigma) = 0.578\n"
     ]
    }
   ],
   "source": [
    "model = GaussianModel()\n",
    "params = model.guess(\n",
    "                    results, \n",
    "                    x = δl_scan\n",
    ")\n",
    "fit = model.fit(results, params, x = δl_scan)\n",
    "print(fit.fit_report())"
   ]
  },
  {
   "cell_type": "code",
   "execution_count": 35,
   "id": "da38a3a8-2bc3-40b8-bc8e-a25b4bbae3e8",
   "metadata": {
    "execution": {
     "iopub.execute_input": "2022-03-05T21:58:53.637341Z",
     "iopub.status.busy": "2022-03-05T21:58:53.637341Z",
     "iopub.status.idle": "2022-03-05T21:58:53.838821Z",
     "shell.execute_reply": "2022-03-05T21:58:53.839819Z"
    },
    "papermill": {
     "duration": 0.254478,
     "end_time": "2022-03-05T21:58:53.839819",
     "exception": false,
     "start_time": "2022-03-05T21:58:53.585341",
     "status": "completed"
    },
    "tags": []
   },
   "outputs": [
    {
     "data": {
      "image/png": "[encoded data removed]",
      "text/plain": [
       "<Figure size 576x360 with 1 Axes>"
      ]
     },
     "metadata": {
      "needs_background": "light"
     },
     "output_type": "display_data"
    }
   ],
   "source": [
    "_x = np.linspace(δl_scan.min(), δl_scan.max(), 201)\n",
    "y = fit.eval(x = _x)\n",
    "\n",
    "fig, ax = plt.subplots(figsize = (8,5))\n",
    "ax.plot(δl_scan / (2*np.pi*1e6), results, '.', ms = 13, label = 'data')\n",
    "ax.plot(_x / (2*np.pi*1e6), y, label = 'fit', lw = 2)\n",
    "\n",
    "ax.set_xlabel(\"δ [MHz]\", fontsize = 14)\n",
    "ax.set_ylabel(\"# photons\", fontsize = 14)\n",
    "ax.legend(fontsize = 14)\n",
    "ax.set_title(\"Gaussian Fit\", fontsize = 15)\n",
    "ax.grid(True)"
   ]
  },
  {
   "cell_type": "code",
   "execution_count": 36,
   "id": "4e0bd614-03a0-4e0c-b644-72986d4026a4",
   "metadata": {
    "execution": {
     "iopub.execute_input": "2022-03-05T21:58:53.936884Z",
     "iopub.status.busy": "2022-03-05T21:58:53.936884Z",
     "iopub.status.idle": "2022-03-05T21:58:54.245806Z",
     "shell.execute_reply": "2022-03-05T21:58:54.246329Z"
    },
    "papermill": {
     "duration": 0.359018,
     "end_time": "2022-03-05T21:58:54.246329",
     "exception": false,
     "start_time": "2022-03-05T21:58:53.887311",
     "status": "completed"
    },
    "tags": []
   },
   "outputs": [
    {
     "data": {
      "image/png": "[encoded data removed]",
      "text/plain": [
       "<Figure size 432x432 with 2 Axes>"
      ]
     },
     "metadata": {
      "needs_background": "light"
     },
     "output_type": "display_data"
    }
   ],
   "source": [
    "_ = fit.plot()"
   ]
  },
  {
   "cell_type": "markdown",
   "id": "2e23e87f-79c2-470a-aec8-f9918c7f2c91",
   "metadata": {
    "papermill": {
     "duration": 0.062161,
     "end_time": "2022-03-05T21:58:54.362797",
     "exception": false,
     "start_time": "2022-03-05T21:58:54.300636",
     "status": "completed"
    },
    "tags": []
   },
   "source": [
    "#### Fit Voigt to scan"
   ]
  },
  {
   "cell_type": "code",
   "execution_count": 37,
   "id": "427de737-3ec5-4376-9fce-d4557da3a20d",
   "metadata": {
    "execution": {
     "iopub.execute_input": "2022-03-05T21:58:54.473141Z",
     "iopub.status.busy": "2022-03-05T21:58:54.473141Z",
     "iopub.status.idle": "2022-03-05T21:58:54.573480Z",
     "shell.execute_reply": "2022-03-05T21:58:54.574479Z"
    },
    "papermill": {
     "duration": 0.163452,
     "end_time": "2022-03-05T21:58:54.574479",
     "exception": false,
     "start_time": "2022-03-05T21:58:54.411027",
     "status": "completed"
    },
    "tags": []
   },
   "outputs": [
    {
     "name": "stdout",
     "output_type": "stream",
     "text": [
      "[[Model]]\n",
      "    Model(voigt)\n",
      "[[Fit Statistics]]\n",
      "    # fitting method   = leastsq\n",
      "    # function evals   = 29\n",
      "    # data points      = 31\n",
      "    # variables        = 3\n",
      "    chi-square         = 0.29980860\n",
      "    reduced chi-square = 0.01070745\n",
      "    Akaike info crit   = -137.796545\n",
      "    Bayesian info crit = -133.494583\n",
      "[[Variables]]\n",
      "    amplitude:  7.1749e+08 +/- 13245661.1 (1.85%) (init = 7.71042e+08)\n",
      "    center:     5853637.50 +/- 1845777.29 (31.53%) (init = 9801769)\n",
      "    sigma:      56624175.5 +/- 1363418.55 (2.41%) (init = 4.459805e+07)\n",
      "    gamma:      56624175.5 +/- 1363418.56 (2.41%) == 'sigma'\n",
      "    fwhm:       2.0392e+08 +/- 2985781.38 (1.46%) == '1.0692*gamma+sqrt(0.8664*gamma**2+5.545083*sigma**2)'\n",
      "    height:     2.64456181 +/- 0.03671557 (1.39%) == '(amplitude/(max(1e-15, sigma*sqrt(2*pi))))*wofz((1j*gamma)/(max(1e-15, sigma*sqrt(2)))).real'\n",
      "[[Correlations]] (unreported correlations are < 0.100)\n",
      "    C(amplitude, sigma) = 0.660\n"
     ]
    }
   ],
   "source": [
    "model = VoigtModel()\n",
    "params = model.guess(\n",
    "                    results, \n",
    "                    x = δl_scan\n",
    ")\n",
    "fit = model.fit(results, params, x = δl_scan)\n",
    "print(fit.fit_report())"
   ]
  },
  {
   "cell_type": "code",
   "execution_count": 38,
   "id": "50403281-0ba4-4572-a029-2614a6647796",
   "metadata": {
    "execution": {
     "iopub.execute_input": "2022-03-05T21:58:54.686889Z",
     "iopub.status.busy": "2022-03-05T21:58:54.685880Z",
     "iopub.status.idle": "2022-03-05T21:58:54.886035Z",
     "shell.execute_reply": "2022-03-05T21:58:54.886719Z"
    },
    "papermill": {
     "duration": 0.254765,
     "end_time": "2022-03-05T21:58:54.886719",
     "exception": false,
     "start_time": "2022-03-05T21:58:54.631954",
     "status": "completed"
    },
    "tags": []
   },
   "outputs": [
    {
     "data": {
      "image/png": "[encoded data removed]",
      "text/plain": [
       "<Figure size 576x360 with 1 Axes>"
      ]
     },
     "metadata": {
      "needs_background": "light"
     },
     "output_type": "display_data"
    }
   ],
   "source": [
    "_x = np.linspace(δl_scan.min(), δl_scan.max(), 201)\n",
    "y = fit.eval(x = _x)\n",
    "\n",
    "fig, ax = plt.subplots(figsize = (8,5))\n",
    "ax.plot(δl_scan / (2*np.pi*1e6), results, '.', ms = 13, label = 'data')\n",
    "ax.plot(_x / (2*np.pi*1e6), y, label = 'fit', lw = 2)\n",
    "\n",
    "ax.set_xlabel(\"δ [MHz]\", fontsize = 14)\n",
    "ax.set_ylabel(\"# photons\", fontsize = 14)\n",
    "ax.legend(fontsize = 14)\n",
    "ax.set_title(\"Voigt Fit\", fontsize = 15)\n",
    "ax.grid(True)"
   ]
  },
  {
   "cell_type": "code",
   "execution_count": 39,
   "id": "f3cfa0ae-8cd4-44d3-a3b2-86b49bd91fd5",
   "metadata": {
    "execution": {
     "iopub.execute_input": "2022-03-05T21:58:54.990700Z",
     "iopub.status.busy": "2022-03-05T21:58:54.989700Z",
     "iopub.status.idle": "2022-03-05T21:58:55.280616Z",
     "shell.execute_reply": "2022-03-05T21:58:55.281616Z"
    },
    "papermill": {
     "duration": 0.342897,
     "end_time": "2022-03-05T21:58:55.281616",
     "exception": false,
     "start_time": "2022-03-05T21:58:54.938719",
     "status": "completed"
    },
    "tags": []
   },
   "outputs": [
    {
     "data": {
      "image/png": "[encoded data removed]",
      "text/plain": [
       "<Figure size 432x432 with 2 Axes>"
      ]
     },
     "metadata": {
      "needs_background": "light"
     },
     "output_type": "display_data"
    }
   ],
   "source": [
    "_ = fit.plot()"
   ]
  },
  {
   "cell_type": "code",
   "execution_count": null,
   "id": "7e576c63-d35f-4274-954b-1ed373a0be02",
   "metadata": {
    "papermill": {
     "duration": 0.053103,
     "end_time": "2022-03-05T21:58:55.386776",
     "exception": false,
     "start_time": "2022-03-05T21:58:55.333673",
     "status": "completed"
    },
    "tags": []
   },
   "outputs": [],
   "source": []
  }
 ],
 "metadata": {
  "kernelspec": {
   "display_name": "Python 3 (ipykernel)",
   "language": "python",
   "name": "python3"
  },
  "language_info": {
   "codemirror_mode": {
    "name": "ipython",
    "version": 3
   },
   "file_extension": ".py",
   "mimetype": "text/x-python",
   "name": "python",
   "nbconvert_exporter": "python",
   "pygments_lexer": "ipython3",
   "version": "3.8.12"
  },
  "papermill": {
   "default_parameters": {},
   "duration": 1464.670572,
   "end_time": "2022-03-05T21:58:56.636678",
   "environment_variables": {},
   "exception": null,
   "input_path": "multipass amherst template.ipynb",
   "output_path": "R(1) F1'=3_2 F'=1).ipyn",
   "parameters": {
    "excited_F": 1,
    "excited_F1": 1.5,
    "excited_J": 2,
    "system_Js": [
     1,
     3
    ],
    "transition_type": "R"
   },
   "start_time": "2022-03-05T21:34:31.966106",
   "version": "2.3.4"
  }
 },
 "nbformat": 4,
 "nbformat_minor": 5
}
