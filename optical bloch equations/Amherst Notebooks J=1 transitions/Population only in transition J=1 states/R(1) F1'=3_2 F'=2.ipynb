{
 "cells": [
  {
   "cell_type": "code",
   "execution_count": 1,
   "id": "7d8a7537-0017-470b-8014-10fee27536eb",
   "metadata": {
    "execution": {
     "iopub.execute_input": "2022-03-05T21:58:59.198301Z",
     "iopub.status.busy": "2022-03-05T21:58:59.198301Z",
     "iopub.status.idle": "2022-03-05T21:59:04.092566Z",
     "shell.execute_reply": "2022-03-05T21:59:04.092566Z"
    },
    "papermill": {
     "duration": 4.931714,
     "end_time": "2022-03-05T21:59:04.092566",
     "exception": false,
     "start_time": "2022-03-05T21:58:59.160852",
     "status": "completed"
    },
    "tags": []
   },
   "outputs": [],
   "source": [
    "%load_ext autoreload\n",
    "%autoreload 2\n",
    "\n",
    "import numpy as np\n",
    "import sympy as smp\n",
    "from tqdm import tqdm\n",
    "from sympy import Symbol, symbols\n",
    "import centrex_TlF as centrex\n",
    "import matplotlib.pyplot as plt\n",
    "from julia import Main"
   ]
  },
  {
   "cell_type": "markdown",
   "id": "6b24d705-f2c7-4949-826b-60484c6990f5",
   "metadata": {
    "papermill": {
     "duration": 0.030349,
     "end_time": "2022-03-05T21:59:04.148516",
     "exception": false,
     "start_time": "2022-03-05T21:59:04.118167",
     "status": "completed"
    },
    "tags": []
   },
   "source": [
    "### Papermill parameters"
   ]
  },
  {
   "cell_type": "code",
   "execution_count": 2,
   "id": "9788a2c1-095c-4d35-8c1b-a0548a74c8d2",
   "metadata": {
    "execution": {
     "iopub.execute_input": "2022-03-05T21:59:04.203381Z",
     "iopub.status.busy": "2022-03-05T21:59:04.202383Z",
     "iopub.status.idle": "2022-03-05T21:59:04.279712Z",
     "shell.execute_reply": "2022-03-05T21:59:04.279712Z"
    },
    "papermill": {
     "duration": 0.106994,
     "end_time": "2022-03-05T21:59:04.279712",
     "exception": false,
     "start_time": "2022-03-05T21:59:04.172718",
     "status": "completed"
    },
    "tags": [
     "parameters"
    ]
   },
   "outputs": [],
   "source": [
    "Γ = 2*np.pi*1.56e6\n",
    "\n",
    "transition_type = \"R\"\n",
    "ground_J = 1\n",
    "excited_F = 2\n",
    "excited_F1 = 3/2\n",
    "system_J = [1,3]\n",
    "\n",
    "laser_power = 23.8e-3 # power in W\n",
    "σlaser = 0.000914\n",
    "npasses = 9\n",
    "multipass_offset = 0.01\n",
    "distance_between_passes = 0.03556/npasses\n",
    "power_loss_per_pass = 20.2/23.8\n",
    "\n",
    "vcm = 150\n",
    "vcm_sigma = 30\n",
    "vperp_sigma = 38\n",
    "\n",
    "ωp = 0.65*Γ\n",
    "\n",
    "β = 3.8\n",
    "ωphase = 0.0\n",
    "\n",
    "scan_range = [-30,31,2]\n",
    "\n",
    "nprocs = 7"
   ]
  },
  {
   "cell_type": "code",
   "execution_count": 3,
   "id": "de3560fb",
   "metadata": {
    "execution": {
     "iopub.execute_input": "2022-03-05T21:59:04.337628Z",
     "iopub.status.busy": "2022-03-05T21:59:04.336626Z",
     "iopub.status.idle": "2022-03-05T21:59:04.403105Z",
     "shell.execute_reply": "2022-03-05T21:59:04.403105Z"
    },
    "papermill": {
     "duration": 0.099858,
     "end_time": "2022-03-05T21:59:04.403105",
     "exception": false,
     "start_time": "2022-03-05T21:59:04.303247",
     "status": "completed"
    },
    "tags": [
     "injected-parameters"
    ]
   },
   "outputs": [],
   "source": [
    "# Parameters\n",
    "transition_type = \"R\"\n",
    "excited_J = 2\n",
    "excited_F = 2\n",
    "excited_F1 = 1.5\n",
    "system_Js = [1, 3]\n"
   ]
  },
  {
   "cell_type": "code",
   "execution_count": 4,
   "id": "c21c06f6-c1af-496a-b304-7469b9ba8a17",
   "metadata": {
    "execution": {
     "iopub.execute_input": "2022-03-05T21:59:04.458108Z",
     "iopub.status.busy": "2022-03-05T21:59:04.457106Z",
     "iopub.status.idle": "2022-03-05T21:59:05.087638Z",
     "shell.execute_reply": "2022-03-05T21:59:05.088636Z"
    },
    "papermill": {
     "duration": 0.656529,
     "end_time": "2022-03-05T21:59:05.088636",
     "exception": false,
     "start_time": "2022-03-05T21:59:04.432107",
     "status": "completed"
    },
    "tags": []
   },
   "outputs": [],
   "source": [
    "trans = centrex.transitions.LaserTransition(\n",
    "    f\"{transition_type}{ground_J}\",\n",
    "    F1 = excited_F1,\n",
    "    F = excited_F\n",
    ")\n",
    "population_J = trans.ground_selector.J\n",
    "population_F = np.unique([g.F for g in trans.ground_states])"
   ]
  },
  {
   "cell_type": "code",
   "execution_count": 5,
   "id": "a8bac859-a1d8-41cf-87c1-45cb8e44710d",
   "metadata": {
    "execution": {
     "iopub.execute_input": "2022-03-05T21:59:05.143926Z",
     "iopub.status.busy": "2022-03-05T21:59:05.142926Z",
     "iopub.status.idle": "2022-03-05T21:59:05.213922Z",
     "shell.execute_reply": "2022-03-05T21:59:05.212922Z"
    },
    "papermill": {
     "duration": 0.102458,
     "end_time": "2022-03-05T21:59:05.213922",
     "exception": false,
     "start_time": "2022-03-05T21:59:05.111464",
     "status": "completed"
    },
    "tags": []
   },
   "outputs": [
    {
     "name": "stdout",
     "output_type": "stream",
     "text": [
      "excited state : QuantumSelector(J=2, F1=1.5, F=2, mF=None, electronic='B', P=1, Ω=None)\n",
      "population in states : QuantumSelector(J=1, F1=None, F=array([1., 2.]), mF=None, electronic='X', P=None, Ω=None)\n"
     ]
    }
   ],
   "source": [
    "excited_state = centrex.states.QuantumSelector(\n",
    "                    J=excited_J, F=excited_F, F1=excited_F1, \n",
    "                    electronic = 'B', P = trans.excited_selector.P\n",
    ")\n",
    "population_states = centrex.states.QuantumSelector(J=population_J, F=population_F, electronic = 'X')\n",
    "\n",
    "print(f\"excited state : {excited_state}\")\n",
    "print(f\"population in states : {population_states}\")"
   ]
  },
  {
   "cell_type": "markdown",
   "id": "21d17f10-4029-4df6-842f-0e7c76366a7c",
   "metadata": {
    "papermill": {
     "duration": 0.033916,
     "end_time": "2022-03-05T21:59:05.272878",
     "exception": false,
     "start_time": "2022-03-05T21:59:05.238962",
     "status": "completed"
    },
    "tags": []
   },
   "source": [
    "# Initial setup\n",
    "## Involved states"
   ]
  },
  {
   "cell_type": "code",
   "execution_count": 6,
   "id": "8a6852be-2045-4f4d-b899-c2717f66efa9",
   "metadata": {
    "execution": {
     "iopub.execute_input": "2022-03-05T21:59:05.327556Z",
     "iopub.status.busy": "2022-03-05T21:59:05.326556Z",
     "iopub.status.idle": "2022-03-05T21:59:05.401644Z",
     "shell.execute_reply": "2022-03-05T21:59:05.402644Z"
    },
    "papermill": {
     "duration": 0.10489,
     "end_time": "2022-03-05T21:59:05.402644",
     "exception": false,
     "start_time": "2022-03-05T21:59:05.297754",
     "status": "completed"
    },
    "tags": []
   },
   "outputs": [],
   "source": [
    "gnd = centrex.states.QuantumSelector(J=system_J, electronic = 'X')\n",
    "exc = excited_state\n",
    "\n",
    "gnd_laser = centrex.states.QuantumSelector(J=trans.ground_selector.J, electronic = 'X')\n",
    "exc_laser = excited_state"
   ]
  },
  {
   "cell_type": "code",
   "execution_count": 7,
   "id": "7f40b6a0-2e4a-489a-892c-84cf72f711c0",
   "metadata": {
    "execution": {
     "iopub.execute_input": "2022-03-05T21:59:05.458645Z",
     "iopub.status.busy": "2022-03-05T21:59:05.457645Z",
     "iopub.status.idle": "2022-03-05T21:59:05.527643Z",
     "shell.execute_reply": "2022-03-05T21:59:05.526643Z"
    },
    "papermill": {
     "duration": 0.098999,
     "end_time": "2022-03-05T21:59:05.527643",
     "exception": false,
     "start_time": "2022-03-05T21:59:05.428644",
     "status": "completed"
    },
    "tags": []
   },
   "outputs": [],
   "source": [
    "syspars = centrex.states.SystemParameters(\n",
    "    nprocs  = nprocs,\n",
    "    Γ       = Γ,\n",
    "    X  = gnd,\n",
    "    B = [exc]\n",
    ")"
   ]
  },
  {
   "cell_type": "markdown",
   "id": "5783d09d-767e-4901-b328-5a3d8529c562",
   "metadata": {
    "papermill": {
     "duration": 0.024,
     "end_time": "2022-03-05T21:59:05.577509",
     "exception": false,
     "start_time": "2022-03-05T21:59:05.553509",
     "status": "completed"
    },
    "tags": []
   },
   "source": [
    "## Parameters"
   ]
  },
  {
   "cell_type": "code",
   "execution_count": 8,
   "id": "afce7fb3-65f2-4ace-b238-b74f88ff4659",
   "metadata": {
    "execution": {
     "iopub.execute_input": "2022-03-05T21:59:05.629686Z",
     "iopub.status.busy": "2022-03-05T21:59:05.629686Z",
     "iopub.status.idle": "2022-03-05T21:59:05.713372Z",
     "shell.execute_reply": "2022-03-05T21:59:05.714371Z"
    },
    "papermill": {
     "duration": 0.114024,
     "end_time": "2022-03-05T21:59:05.714371",
     "exception": false,
     "start_time": "2022-03-05T21:59:05.600347",
     "status": "completed"
    },
    "tags": []
   },
   "outputs": [],
   "source": [
    "odepars = centrex.lindblad.odeParameters(\n",
    "    Ωl = \"Ωl0 * phase_modulation(t, β, ωphase) * multipass_2d_intensity(vz*t, y0+vy*t, ampl, xlocs, ylocs, σzlaser, σylaser)\",\n",
    "    Ωl0     = 1*syspars.Γ,    # Rabi frequency of the laser [rad/s]\n",
    "    δl      = 0.0,              # detuning of the laser [rad/s]\n",
    "    \n",
    "    # laser beam properties\n",
    "    σzlaser = σlaser * np.sqrt(2),\n",
    "    σylaser = σlaser * np.sqrt(2),\n",
    "    \n",
    "    # laser multipass\n",
    "    ampl = [np.sqrt(power_loss_per_pass**n) for n in range(npasses)],\n",
    "    xlocs = [(n-1)*distance_between_passes + multipass_offset for n in centrex.utils.light.multipass_prism_order(npasses)],\n",
    "    ylocs = npasses*[0.0],\n",
    "    \n",
    "    # laser phase modulation\n",
    "    ωphase = ωphase,       # laser phase modulation frequency [rad/s]\n",
    "    β      = β,             # laser phase modulation depth [rad]\n",
    "\n",
    "    # laser polarization switching\n",
    "    ωp = ωp,           # polarization switching frequency [rad/s]\n",
    "    φp = 0.0,                 # polarization switching phase [rad]\n",
    "    Pl  = \"sin(ωp*t + φp)\",\n",
    "    Plz = \"Pl>0\",\n",
    "    Plx = \"Pl<=0\",\n",
    "    Ply = 0.0,\n",
    "    \n",
    "    # molecules\n",
    "    y0 = 0.,                   # molecule start y position [m]\n",
    "    vz = 150.,                 # longitudinal molecular velocity [m/s]\n",
    "    vy = 0.,                   # molecule vy [m/s]\n",
    ")\n"
   ]
  },
  {
   "cell_type": "markdown",
   "id": "94aff443-8f03-4464-b85e-cea4b4407fd1",
   "metadata": {
    "papermill": {
     "duration": 0.025005,
     "end_time": "2022-03-05T21:59:05.764167",
     "exception": false,
     "start_time": "2022-03-05T21:59:05.739162",
     "status": "completed"
    },
    "tags": []
   },
   "source": [
    "## Transitions"
   ]
  },
  {
   "cell_type": "code",
   "execution_count": 9,
   "id": "8ab6c2cd-69a9-43bc-b367-70604948ee8e",
   "metadata": {
    "execution": {
     "iopub.execute_input": "2022-03-05T21:59:05.817601Z",
     "iopub.status.busy": "2022-03-05T21:59:05.817601Z",
     "iopub.status.idle": "2022-03-05T21:59:05.884599Z",
     "shell.execute_reply": "2022-03-05T21:59:05.885600Z"
    },
    "papermill": {
     "duration": 0.096647,
     "end_time": "2022-03-05T21:59:05.885600",
     "exception": false,
     "start_time": "2022-03-05T21:59:05.788953",
     "status": "completed"
    },
    "tags": []
   },
   "outputs": [],
   "source": [
    "transitions = [\n",
    "    centrex.couplings.TransitionSelector(\n",
    "        ground = 1*centrex.states.generate_coupled_states_ground_X(gnd_laser),\n",
    "        excited = 1*centrex.states.generate_coupled_states_excited_B(exc_laser),\n",
    "        polarizations        = [[0,0,1],[1,0,0],[0,1,0]],\n",
    "        polarization_symbols = symbols(\"Plz     Plx     Ply\"),\n",
    "        Ω = smp.Symbol('Ωl', complex = True),\n",
    "        δ = smp.Symbol('δl'),\n",
    "        description = \"laser transition\",        \n",
    "    ),\n",
    "]"
   ]
  },
  {
   "cell_type": "code",
   "execution_count": 10,
   "id": "8830dc74-5aef-4786-b0b6-d086c03b86a7",
   "metadata": {
    "execution": {
     "iopub.execute_input": "2022-03-05T21:59:05.946601Z",
     "iopub.status.busy": "2022-03-05T21:59:05.945860Z",
     "iopub.status.idle": "2022-03-05T21:59:06.009372Z",
     "shell.execute_reply": "2022-03-05T21:59:06.010372Z"
    },
    "papermill": {
     "duration": 0.095773,
     "end_time": "2022-03-05T21:59:06.010372",
     "exception": false,
     "start_time": "2022-03-05T21:59:05.914599",
     "status": "completed"
    },
    "tags": []
   },
   "outputs": [
    {
     "data": {
      "text/plain": [
       "\"R(1) F1'=3_2 F'=2\""
      ]
     },
     "execution_count": 10,
     "metadata": {},
     "output_type": "execute_result"
    }
   ],
   "source": [
    "transition_name = centrex.transitions.identify_transition(\n",
    "    transitions[0].ground[0],\n",
    "    transitions[0].excited[0]\n",
    ")\n",
    "transition_name = transition_name.replace(\",\",\"\").replace(\"/\",\"_\")\n",
    "transition_name"
   ]
  },
  {
   "cell_type": "markdown",
   "id": "e6bed866-24bc-4cbb-9664-022df1a48188",
   "metadata": {
    "papermill": {
     "duration": 0.025001,
     "end_time": "2022-03-05T21:59:06.061372",
     "exception": false,
     "start_time": "2022-03-05T21:59:06.036371",
     "status": "completed"
    },
    "tags": []
   },
   "source": [
    "## Generate System"
   ]
  },
  {
   "cell_type": "code",
   "execution_count": 11,
   "id": "4ed1375f-f64b-45c0-8ca8-f98491e8c8f0",
   "metadata": {
    "execution": {
     "iopub.execute_input": "2022-03-05T21:59:06.115050Z",
     "iopub.status.busy": "2022-03-05T21:59:06.115050Z",
     "iopub.status.idle": "2022-03-05T22:01:29.948275Z",
     "shell.execute_reply": "2022-03-05T22:01:29.948275Z"
    },
    "papermill": {
     "duration": 143.863538,
     "end_time": "2022-03-05T22:01:29.949274",
     "exception": false,
     "start_time": "2022-03-05T21:59:06.085736",
     "status": "completed"
    },
    "tags": []
   },
   "outputs": [
    {
     "name": "stderr",
     "output_type": "stream",
     "text": [
      "INFO:centrex_TlF.lindblad.utils_setup:generate_OBE_system: 1/6 -> Generating the reduced Hamiltonian\n"
     ]
    },
    {
     "name": "stderr",
     "output_type": "stream",
     "text": [
      "INFO:centrex_TlF.lindblad.utils_setup:generate_OBE_system: 2/6 -> Generating the couplings corresponding to the transitions\n"
     ]
    },
    {
     "name": "stderr",
     "output_type": "stream",
     "text": [
      "INFO:centrex_TlF.lindblad.utils_setup:generate_OBE_system: 3/6 -> Generating the symbolic Hamiltonian\n"
     ]
    },
    {
     "name": "stderr",
     "output_type": "stream",
     "text": [
      "INFO:centrex_TlF.lindblad.utils_setup:generate_OBE_system: 4/6 -> Generating the collapse matrices\n"
     ]
    },
    {
     "name": "stderr",
     "output_type": "stream",
     "text": [
      "INFO:centrex_TlF.lindblad.utils_setup:generate_OBE_system: 5/6 -> Transforming the Hamiltonian and collapse matrices into a symbolic system of equations\n"
     ]
    },
    {
     "name": "stderr",
     "output_type": "stream",
     "text": [
      "INFO:centrex_TlF.lindblad.utils_setup:generate_OBE_system: 6/6 -> Generating Julia code representing the system of equations\n"
     ]
    },
    {
     "name": "stderr",
     "output_type": "stream",
     "text": [
      "INFO:centrex_TlF.lindblad.utils_setup:setup_OBE_system_julia: 1/3 -> Generating the preamble\n"
     ]
    },
    {
     "name": "stderr",
     "output_type": "stream",
     "text": [
      "INFO:centrex_TlF.lindblad.utils_setup:setup_OBE_system_julia: 2/3 -> Initializing Julia on 7 cores\n"
     ]
    },
    {
     "name": "stderr",
     "output_type": "stream",
     "text": [
      "INFO:centrex_TlF.lindblad.utils_setup:setup_OBE_system_julia: 3/3 -> Defining the ODE equation and parameters in Julia\n"
     ]
    },
    {
     "name": "stdout",
     "output_type": "stream",
     "text": [
      "Initialized Julia with 7 processes\n"
     ]
    },
    {
     "name": "stdout",
     "output_type": "stream",
     "text": [
      "Wall time: 2min 23s\n"
     ]
    }
   ],
   "source": [
    "%%time\n",
    "obe_system = centrex.lindblad.setup_OBE_system_julia(syspars, odepars, transitions, verbose=True, full_output=True, \n",
    "                                                     qn_compact=centrex.states.QuantumSelector(J=3, electronic = 'X'))"
   ]
  },
  {
   "cell_type": "markdown",
   "id": "e2979859-216a-46aa-a6ed-72a507abf26b",
   "metadata": {
    "papermill": {
     "duration": 0.037999,
     "end_time": "2022-03-05T22:01:30.022415",
     "exception": false,
     "start_time": "2022-03-05T22:01:29.984416",
     "status": "completed"
    },
    "tags": []
   },
   "source": [
    "# Simulations\n",
    "## Single trajectory"
   ]
  },
  {
   "cell_type": "code",
   "execution_count": 12,
   "id": "a7dfeb67-36ab-4ed5-9af1-ad66daeddeac",
   "metadata": {
    "execution": {
     "iopub.execute_input": "2022-03-05T22:01:30.086416Z",
     "iopub.status.busy": "2022-03-05T22:01:30.086416Z",
     "iopub.status.idle": "2022-03-05T22:01:30.147416Z",
     "shell.execute_reply": "2022-03-05T22:01:30.148415Z"
    },
    "papermill": {
     "duration": 0.096,
     "end_time": "2022-03-05T22:01:30.148415",
     "exception": false,
     "start_time": "2022-03-05T22:01:30.052415",
     "status": "completed"
    },
    "tags": []
   },
   "outputs": [
    {
     "name": "stdout",
     "output_type": "stream",
     "text": [
      "Ωl0 : -0.79 Γ\n"
     ]
    }
   ],
   "source": [
    "Ωl0 = centrex.utils.light.calculate_rabi_from_power_gaussian_beam(\n",
    "                        laser_power,\n",
    "                        obe_system.couplings[0]['main coupling'],\n",
    "                        σlaser,\n",
    "                        σlaser\n",
    "    ).real\n",
    "print(f\"Ωl0 : {Ωl0 / syspars.Γ:.2f} Γ\")"
   ]
  },
  {
   "cell_type": "code",
   "execution_count": 13,
   "id": "f29311e6-5f91-40cc-b852-150cb39f3072",
   "metadata": {
    "execution": {
     "iopub.execute_input": "2022-03-05T22:01:30.220483Z",
     "iopub.status.busy": "2022-03-05T22:01:30.219484Z",
     "iopub.status.idle": "2022-03-05T22:01:30.283875Z",
     "shell.execute_reply": "2022-03-05T22:01:30.283875Z"
    },
    "papermill": {
     "duration": 0.095073,
     "end_time": "2022-03-05T22:01:30.283875",
     "exception": false,
     "start_time": "2022-03-05T22:01:30.188802",
     "status": "completed"
    },
    "tags": []
   },
   "outputs": [],
   "source": [
    "odepars.Ωl0 = Ωl0\n",
    "odepars.ωphase = ωphase\n",
    "odepars.ωp = ωp"
   ]
  },
  {
   "cell_type": "code",
   "execution_count": 14,
   "id": "39446a36-7821-474c-8be2-cf0892f0d017",
   "metadata": {
    "execution": {
     "iopub.execute_input": "2022-03-05T22:01:30.346875Z",
     "iopub.status.busy": "2022-03-05T22:01:30.345875Z",
     "iopub.status.idle": "2022-03-05T22:01:36.787770Z",
     "shell.execute_reply": "2022-03-05T22:01:36.786772Z"
    },
    "papermill": {
     "duration": 6.476895,
     "end_time": "2022-03-05T22:01:36.787770",
     "exception": false,
     "start_time": "2022-03-05T22:01:30.310875",
     "status": "completed"
    },
    "tags": []
   },
   "outputs": [],
   "source": [
    "ρ = centrex.utils.generate_population_states(population_states.get_indices(obe_system.QN), len(obe_system.QN))\n",
    "t_array, results = centrex.lindblad.do_simulation_single(odepars, (0,50e-3/odepars.vz+10e-6), ρ)"
   ]
  },
  {
   "cell_type": "code",
   "execution_count": 15,
   "id": "c2022834-a208-480a-bce9-4649d182fa91",
   "metadata": {
    "execution": {
     "iopub.execute_input": "2022-03-05T22:01:36.867814Z",
     "iopub.status.busy": "2022-03-05T22:01:36.866815Z",
     "iopub.status.idle": "2022-03-05T22:01:37.277707Z",
     "shell.execute_reply": "2022-03-05T22:01:37.278707Z"
    },
    "papermill": {
     "duration": 0.444304,
     "end_time": "2022-03-05T22:01:37.278707",
     "exception": false,
     "start_time": "2022-03-05T22:01:36.834403",
     "status": "completed"
    },
    "tags": []
   },
   "outputs": [],
   "source": [
    "multipass = np.abs(odepars.get_parameter_evolution(t_array, \"Ωl\").real)"
   ]
  },
  {
   "cell_type": "code",
   "execution_count": 16,
   "id": "51d3bd7a-ad1b-46a3-a5e0-e10ee58fd9c6",
   "metadata": {
    "execution": {
     "iopub.execute_input": "2022-03-05T22:01:37.336165Z",
     "iopub.status.busy": "2022-03-05T22:01:37.336165Z",
     "iopub.status.idle": "2022-03-05T22:01:37.596064Z",
     "shell.execute_reply": "2022-03-05T22:01:37.597064Z"
    },
    "papermill": {
     "duration": 0.291182,
     "end_time": "2022-03-05T22:01:37.597064",
     "exception": false,
     "start_time": "2022-03-05T22:01:37.305882",
     "status": "completed"
    },
    "tags": []
   },
   "outputs": [
    {
     "data": {
      "image/png": "[encoded data removed]",
      "text/plain": [
       "<Figure size 720x432 with 1 Axes>"
      ]
     },
     "metadata": {
      "needs_background": "light"
     },
     "output_type": "display_data"
    }
   ],
   "source": [
    "fig, ax = plt.subplots(figsize = (10,6)) \n",
    "ax.plot(t_array*1e6, results.T, lw = 2);\n",
    "ax.plot(t_array*1e6, multipass/multipass.max()*0.8, 'k--', lw = 2,\n",
    "        label = 'multipass')\n",
    "ax.set_xlabel('time [μs]')\n",
    "ax.set_ylabel('population')\n",
    "ax.legend(fontsize = 14)\n",
    "ax.grid(True)"
   ]
  },
  {
   "cell_type": "code",
   "execution_count": 17,
   "id": "89232317-cb62-428d-b2a6-5b27d31cb99c",
   "metadata": {
    "execution": {
     "iopub.execute_input": "2022-03-05T22:01:37.658939Z",
     "iopub.status.busy": "2022-03-05T22:01:37.658939Z",
     "iopub.status.idle": "2022-03-05T22:01:37.737193Z",
     "shell.execute_reply": "2022-03-05T22:01:37.737193Z"
    },
    "papermill": {
     "duration": 0.109849,
     "end_time": "2022-03-05T22:01:37.737193",
     "exception": false,
     "start_time": "2022-03-05T22:01:37.627344",
     "status": "completed"
    },
    "tags": []
   },
   "outputs": [
    {
     "name": "stdout",
     "output_type": "stream",
     "text": [
      "|X, J = 1, F₁ = 3/2, F = 1, mF = -1, I₁ = 1/2, I₂ = 1/2, P = -, Ω = 0>\n",
      "|X, J = 1, F₁ = 3/2, F = 1, mF = 0, I₁ = 1/2, I₂ = 1/2, P = -, Ω = 0>\n",
      "|X, J = 1, F₁ = 3/2, F = 1, mF = 1, I₁ = 1/2, I₂ = 1/2, P = -, Ω = 0>\n",
      "|X, J = 3, F₁ = None, F = None, mF = None, I₁ = 1/2, I₂ = 1/2, P = -, Ω = 0>\n"
     ]
    }
   ],
   "source": [
    "for states in np.array(obe_system.QN)[results[:,-1] > 0.05]:\n",
    "    print(states.find_largest_component())"
   ]
  },
  {
   "cell_type": "code",
   "execution_count": 18,
   "id": "40e8f6c3-2370-4163-aaab-2b0be25a8e6d",
   "metadata": {
    "execution": {
     "iopub.execute_input": "2022-03-05T22:01:37.807925Z",
     "iopub.status.busy": "2022-03-05T22:01:37.806924Z",
     "iopub.status.idle": "2022-03-05T22:01:37.937364Z",
     "shell.execute_reply": "2022-03-05T22:01:37.937364Z"
    },
    "papermill": {
     "duration": 0.169284,
     "end_time": "2022-03-05T22:01:37.937364",
     "exception": false,
     "start_time": "2022-03-05T22:01:37.768080",
     "status": "completed"
    },
    "tags": []
   },
   "outputs": [
    {
     "data": {
      "text/plain": [
       "2.527340012824509"
      ]
     },
     "execution_count": 18,
     "metadata": {},
     "output_type": "execute_result"
    }
   ],
   "source": [
    "np.trapz(results[exc.get_indices(obe_system.QN),:].sum(axis = 0), t_array)*syspars.Γ"
   ]
  },
  {
   "cell_type": "markdown",
   "id": "38d78351-bc19-4793-94db-8e2436d6cb14",
   "metadata": {
    "papermill": {
     "duration": 0.030317,
     "end_time": "2022-03-05T22:01:38.003971",
     "exception": false,
     "start_time": "2022-03-05T22:01:37.973654",
     "status": "completed"
    },
    "tags": []
   },
   "source": [
    "## Detuning Scan"
   ]
  },
  {
   "cell_type": "code",
   "execution_count": 19,
   "id": "db3160c7-b51e-4cd3-8f8c-5dfeaffa8d31",
   "metadata": {
    "execution": {
     "iopub.execute_input": "2022-03-05T22:01:38.068456Z",
     "iopub.status.busy": "2022-03-05T22:01:38.068456Z",
     "iopub.status.idle": "2022-03-05T22:02:10.317726Z",
     "shell.execute_reply": "2022-03-05T22:02:10.317726Z"
    },
    "papermill": {
     "duration": 32.280279,
     "end_time": "2022-03-05T22:02:10.317726",
     "exception": false,
     "start_time": "2022-03-05T22:01:38.037447",
     "status": "completed"
    },
    "tags": []
   },
   "outputs": [
    {
     "name": "stdout",
     "output_type": "stream",
     "text": [
      "Wall time: 32.2 s\n"
     ]
    }
   ],
   "source": [
    "%%time\n",
    "\n",
    "odepars.Ωl0 = Ωl0\n",
    "odepars.ωphase = ωphase\n",
    "odepars.ωp = ωp\n",
    "\n",
    "tspan = (0,1000e-6)\n",
    "ρ = centrex.utils.generate_population_states(\n",
    "        centrex.states.QuantumSelector(J=1, F=[1,2], electronic = 'X').get_indices(obe_system.QN), \n",
    "        len(obe_system.QN)\n",
    "    )\n",
    "\n",
    "δl_scan = np.linspace(-5,5,101)*syspars.Γ\n",
    "\n",
    "parameters = [\"δl\"]\n",
    "values = [δl_scan]\n",
    "\n",
    "output_func = centrex.lindblad.setup_state_integral_calculation(\n",
    "                states = exc.get_indices(obe_system.QN, mode = \"julia\"),\n",
    "                nphotons = True\n",
    "            )\n",
    "\n",
    "cb = centrex.lindblad.setup_discrete_callback_terminate(odepars, \"vz*t >= 50e-3\")\n",
    "\n",
    "ens_prob = centrex.lindblad.setup_problem_parameter_scan(\n",
    "                        odepars, tspan, ρ, parameters, values, \n",
    "                        dimensions = 1,\n",
    "                        output_func = output_func,\n",
    "                        zipped = True\n",
    "            )\n",
    "\n",
    "centrex.lindblad.solve_problem_parameter_scan(ensemble_problem_name = ens_prob, saveat = 1e-7,\n",
    "                                             callback = cb)"
   ]
  },
  {
   "cell_type": "code",
   "execution_count": 20,
   "id": "817d03c6-c2e3-4f75-8bdd-fad4b3c694f1",
   "metadata": {
    "execution": {
     "iopub.execute_input": "2022-03-05T22:02:10.386853Z",
     "iopub.status.busy": "2022-03-05T22:02:10.386853Z",
     "iopub.status.idle": "2022-03-05T22:02:10.567463Z",
     "shell.execute_reply": "2022-03-05T22:02:10.567463Z"
    },
    "papermill": {
     "duration": 0.216052,
     "end_time": "2022-03-05T22:02:10.567463",
     "exception": false,
     "start_time": "2022-03-05T22:02:10.351411",
     "status": "completed"
    },
    "tags": []
   },
   "outputs": [
    {
     "data": {
      "image/png": "[encoded data removed]",
      "text/plain": [
       "<Figure size 576x360 with 1 Axes>"
      ]
     },
     "metadata": {
      "needs_background": "light"
     },
     "output_type": "display_data"
    }
   ],
   "source": [
    "results = centrex.lindblad.get_results_parameter_scan()\n",
    "\n",
    "fig, ax = plt.subplots(figsize = (8,5))\n",
    "ax.plot(δl_scan/syspars.Γ, results, '-')\n",
    "ax.grid(True)"
   ]
  },
  {
   "cell_type": "markdown",
   "id": "b6dcbe1d-3795-47c2-8019-a008c982afd3",
   "metadata": {
    "papermill": {
     "duration": 0.036997,
     "end_time": "2022-03-05T22:02:10.637462",
     "exception": false,
     "start_time": "2022-03-05T22:02:10.600465",
     "status": "completed"
    },
    "tags": []
   },
   "source": [
    "## Trajectory Scan"
   ]
  },
  {
   "cell_type": "code",
   "execution_count": 21,
   "id": "a124f5a7-7a18-41ed-bac2-8c21ef7f46fd",
   "metadata": {
    "execution": {
     "iopub.execute_input": "2022-03-05T22:02:10.705464Z",
     "iopub.status.busy": "2022-03-05T22:02:10.704464Z",
     "iopub.status.idle": "2022-03-05T22:02:11.934746Z",
     "shell.execute_reply": "2022-03-05T22:02:11.934746Z"
    },
    "papermill": {
     "duration": 1.266282,
     "end_time": "2022-03-05T22:02:11.934746",
     "exception": false,
     "start_time": "2022-03-05T22:02:10.668464",
     "status": "completed"
    },
    "tags": []
   },
   "outputs": [],
   "source": [
    "ntrajectories = 500\n",
    "\n",
    "n = int(5e6)\n",
    "vz = centrex.utils.generate_random_longitudinal_velocities(n, vcm, vcm_sigma)\n",
    "vx, vy = centrex.utils.generate_random_transverse_velocities(n, vperp_sigma)\n",
    "x0, y0 = centrex.utils.generate_random_coords_circle_2D(n, 0.0025)\n",
    "apertures = [(47e-3, 6.35e-3), (73e-3, 12.7e-3), (290e-3, 2.54e-3)]\n",
    "mask = np.ones(n, dtype = bool)\n",
    "for (location, diameter) in apertures:\n",
    "    t = location / vz\n",
    "    r = np.sqrt((x0+vx*t)**2 + (y0+vy*t)**2)\n",
    "    m = r < diameter/2\n",
    "    mask &= m\n",
    "    \n",
    "start_loc = 358e-3 - 0.03556/2 - 10e-3\n",
    "t = start_loc / vz\n",
    "x0, y0 = x0 + vx*t, y0 + vy*t\n",
    "\n",
    "x0 = x0[mask][:ntrajectories]\n",
    "y0 = y0[mask][:ntrajectories]\n",
    "vx = vx[mask][:ntrajectories]\n",
    "vy = vy[mask][:ntrajectories]\n",
    "vz = vz[mask][:ntrajectories]\n",
    "\n",
    "assert mask.sum() >= ntrajectories, \"not enough trajectories make it through apertures\"\n",
    "del t, mask\n",
    "\n",
    "δls = centrex.utils.detuning.velocity_to_detuning(vx, 1106e12, syspars.Γ)*syspars.Γ"
   ]
  },
  {
   "cell_type": "code",
   "execution_count": 22,
   "id": "ed2e89ae-b7e3-4645-af48-70a3fe13327a",
   "metadata": {
    "execution": {
     "iopub.execute_input": "2022-03-05T22:02:12.010724Z",
     "iopub.status.busy": "2022-03-05T22:02:12.009723Z",
     "iopub.status.idle": "2022-03-05T22:03:02.874391Z",
     "shell.execute_reply": "2022-03-05T22:03:02.874391Z"
    },
    "papermill": {
     "duration": 50.906493,
     "end_time": "2022-03-05T22:03:02.874391",
     "exception": false,
     "start_time": "2022-03-05T22:02:11.967898",
     "status": "completed"
    },
    "tags": []
   },
   "outputs": [],
   "source": [
    "odepars.Ωl0 = Ωl0\n",
    "odepars.ωphase = ωphase\n",
    "odepars.ωp = ωp\n",
    "\n",
    "tspan = (0,1000e-6)\n",
    "ρ = centrex.utils.generate_population_states(\n",
    "        centrex.states.QuantumSelector(J=1, F=[1,2], electronic = 'X').get_indices(obe_system.QN), \n",
    "        len(obe_system.QN)\n",
    "    )\n",
    "\n",
    "parameters = [\"vz\", \"δl\", \"y0\"]\n",
    "values = [vz, δls, y0]\n",
    "\n",
    "output_func = centrex.lindblad.setup_state_integral_calculation(\n",
    "                states = exc.get_indices(obe_system.QN, mode = \"julia\"),\n",
    "                nphotons = True\n",
    "            )\n",
    "\n",
    "cb = centrex.lindblad.setup_discrete_callback_terminate(odepars, \"vz*t >= 50e-3\")\n",
    "\n",
    "ens_prob = centrex.lindblad.setup_problem_parameter_scan(\n",
    "                        odepars, tspan, ρ, parameters, values, \n",
    "                        dimensions = 1,\n",
    "                        output_func = output_func,\n",
    "                        zipped = True\n",
    "            )\n",
    "\n",
    "centrex.lindblad.solve_problem_parameter_scan(ensemble_problem_name = ens_prob, saveat = 1e-7,\n",
    "                                             callback = cb)"
   ]
  },
  {
   "cell_type": "code",
   "execution_count": 23,
   "id": "29942c9f-5a7c-4c12-b72f-29ad3cb82fdc",
   "metadata": {
    "execution": {
     "iopub.execute_input": "2022-03-05T22:03:02.939611Z",
     "iopub.status.busy": "2022-03-05T22:03:02.938611Z",
     "iopub.status.idle": "2022-03-05T22:03:02.998125Z",
     "shell.execute_reply": "2022-03-05T22:03:02.998125Z"
    },
    "papermill": {
     "duration": 0.094378,
     "end_time": "2022-03-05T22:03:02.999125",
     "exception": false,
     "start_time": "2022-03-05T22:03:02.904747",
     "status": "completed"
    },
    "tags": []
   },
   "outputs": [],
   "source": [
    "results = centrex.lindblad.get_results_parameter_scan()"
   ]
  },
  {
   "cell_type": "code",
   "execution_count": 24,
   "id": "75347af4-d3a1-460a-badb-152170f68dbe",
   "metadata": {
    "execution": {
     "iopub.execute_input": "2022-03-05T22:03:03.064116Z",
     "iopub.status.busy": "2022-03-05T22:03:03.063116Z",
     "iopub.status.idle": "2022-03-05T22:03:03.136553Z",
     "shell.execute_reply": "2022-03-05T22:03:03.137591Z"
    },
    "papermill": {
     "duration": 0.107588,
     "end_time": "2022-03-05T22:03:03.137591",
     "exception": false,
     "start_time": "2022-03-05T22:03:03.030003",
     "status": "completed"
    },
    "tags": []
   },
   "outputs": [
    {
     "data": {
      "text/plain": [
       "2.4710746430213955"
      ]
     },
     "execution_count": 24,
     "metadata": {},
     "output_type": "execute_result"
    }
   ],
   "source": [
    "np.average(results)"
   ]
  },
  {
   "cell_type": "markdown",
   "id": "5ee62fd7-919a-40df-8c52-140906fb0a39",
   "metadata": {
    "papermill": {
     "duration": 0.031934,
     "end_time": "2022-03-05T22:03:03.203561",
     "exception": false,
     "start_time": "2022-03-05T22:03:03.171627",
     "status": "completed"
    },
    "tags": []
   },
   "source": [
    "## Detuning scan over trajectories for approximate power used in measurement"
   ]
  },
  {
   "cell_type": "code",
   "execution_count": 25,
   "id": "38eaf1fb-7795-477e-a0ae-c43652420275",
   "metadata": {
    "execution": {
     "iopub.execute_input": "2022-03-05T22:03:03.279742Z",
     "iopub.status.busy": "2022-03-05T22:03:03.279742Z",
     "iopub.status.idle": "2022-03-05T22:03:04.492693Z",
     "shell.execute_reply": "2022-03-05T22:03:04.493693Z"
    },
    "papermill": {
     "duration": 1.254813,
     "end_time": "2022-03-05T22:03:04.493693",
     "exception": false,
     "start_time": "2022-03-05T22:03:03.238880",
     "status": "completed"
    },
    "tags": []
   },
   "outputs": [],
   "source": [
    "ntrajectories = 100\n",
    "\n",
    "n = int(5e6)\n",
    "vz = centrex.utils.generate_random_longitudinal_velocities(n, vcm, vcm_sigma)\n",
    "vx, vy = centrex.utils.generate_random_transverse_velocities(n, vperp_sigma)\n",
    "x0, y0 = centrex.utils.generate_random_coords_circle_2D(n, 0.0025)\n",
    "apertures = [(47e-3, 6.35e-3), (73e-3, 12.7e-3), (290e-3, 2.54e-3)]\n",
    "mask = np.ones(n, dtype = bool)\n",
    "for (location, diameter) in apertures:\n",
    "    t = location / vz\n",
    "    r = np.sqrt((x0+vx*t)**2 + (y0+vy*t)**2)\n",
    "    m = r < diameter/2\n",
    "    mask &= m\n",
    "    \n",
    "start_loc = 358e-3 - 0.03556/2 - 10e-3\n",
    "t = start_loc / vz\n",
    "x0, y0 = x0 + vx*t, y0 + vy*t\n",
    "\n",
    "x0 = x0[mask][:ntrajectories]\n",
    "y0 = y0[mask][:ntrajectories]\n",
    "vx = vx[mask][:ntrajectories]\n",
    "vy = vy[mask][:ntrajectories]\n",
    "vz = vz[mask][:ntrajectories]\n",
    "\n",
    "assert mask.sum() >= ntrajectories, \"not enough trajectories make it through apertures\"\n",
    "del t, mask\n",
    "\n",
    "δls = centrex.utils.detuning.velocity_to_detuning(vx, 1106e12, syspars.Γ)*syspars.Γ"
   ]
  },
  {
   "cell_type": "code",
   "execution_count": 26,
   "id": "aa77c713-c05f-42bd-838a-e488ab436af8",
   "metadata": {
    "execution": {
     "iopub.execute_input": "2022-03-05T22:03:04.575745Z",
     "iopub.status.busy": "2022-03-05T22:03:04.575745Z",
     "iopub.status.idle": "2022-03-05T22:28:46.487202Z",
     "shell.execute_reply": "2022-03-05T22:28:46.484202Z"
    },
    "papermill": {
     "duration": 1541.953244,
     "end_time": "2022-03-05T22:28:46.487202",
     "exception": false,
     "start_time": "2022-03-05T22:03:04.533958",
     "status": "completed"
    },
    "tags": []
   },
   "outputs": [
    {
     "name": "stderr",
     "output_type": "stream",
     "text": [
      "\r",
      "  0%|                                                                                                             | 0/31 [00:00<?, ?it/s]"
     ]
    },
    {
     "name": "stderr",
     "output_type": "stream",
     "text": [
      "\r",
      "  3%|███▎                                                                                                 | 1/31 [01:32<46:27, 92.93s/it]"
     ]
    },
    {
     "name": "stderr",
     "output_type": "stream",
     "text": [
      "\r",
      "  6%|██████▌                                                                                              | 2/31 [02:59<43:01, 89.03s/it]"
     ]
    },
    {
     "name": "stderr",
     "output_type": "stream",
     "text": [
      "\r",
      " 10%|█████████▊                                                                                           | 3/31 [04:21<40:01, 85.76s/it]"
     ]
    },
    {
     "name": "stderr",
     "output_type": "stream",
     "text": [
      "\r",
      " 13%|█████████████                                                                                        | 4/31 [05:36<36:46, 81.73s/it]"
     ]
    },
    {
     "name": "stderr",
     "output_type": "stream",
     "text": [
      "\r",
      " 16%|████████████████▎                                                                                    | 5/31 [06:48<33:49, 78.06s/it]"
     ]
    },
    {
     "name": "stderr",
     "output_type": "stream",
     "text": [
      "\r",
      " 19%|███████████████████▌                                                                                 | 6/31 [07:53<30:46, 73.87s/it]"
     ]
    },
    {
     "name": "stderr",
     "output_type": "stream",
     "text": [
      "\r",
      " 23%|██████████████████████▊                                                                              | 7/31 [08:54<27:46, 69.46s/it]"
     ]
    },
    {
     "name": "stderr",
     "output_type": "stream",
     "text": [
      "\r",
      " 26%|██████████████████████████                                                                           | 8/31 [09:48<24:44, 64.53s/it]"
     ]
    },
    {
     "name": "stderr",
     "output_type": "stream",
     "text": [
      "\r",
      " 29%|█████████████████████████████▎                                                                       | 9/31 [10:36<21:45, 59.33s/it]"
     ]
    },
    {
     "name": "stderr",
     "output_type": "stream",
     "text": [
      "\r",
      " 32%|████████████████████████████████▎                                                                   | 10/31 [11:18<18:55, 54.07s/it]"
     ]
    },
    {
     "name": "stderr",
     "output_type": "stream",
     "text": [
      "\r",
      " 35%|███████████████████████████████████▍                                                                | 11/31 [11:54<16:09, 48.48s/it]"
     ]
    },
    {
     "name": "stderr",
     "output_type": "stream",
     "text": [
      "\r",
      " 39%|██████████████████████████████████████▋                                                             | 12/31 [12:23<13:32, 42.74s/it]"
     ]
    },
    {
     "name": "stderr",
     "output_type": "stream",
     "text": [
      "\r",
      " 42%|█████████████████████████████████████████▉                                                          | 13/31 [12:48<11:08, 37.14s/it]"
     ]
    },
    {
     "name": "stderr",
     "output_type": "stream",
     "text": [
      "\r",
      " 45%|█████████████████████████████████████████████▏                                                      | 14/31 [13:05<08:51, 31.27s/it]"
     ]
    },
    {
     "name": "stderr",
     "output_type": "stream",
     "text": [
      "\r",
      " 48%|████████████████████████████████████████████████▍                                                   | 15/31 [13:17<06:47, 25.45s/it]"
     ]
    },
    {
     "name": "stderr",
     "output_type": "stream",
     "text": [
      "\r",
      " 52%|███████████████████████████████████████████████████▌                                                | 16/31 [13:27<05:08, 20.58s/it]"
     ]
    },
    {
     "name": "stderr",
     "output_type": "stream",
     "text": [
      "\r",
      " 55%|██████████████████████████████████████████████████████▊                                             | 17/31 [13:38<04:08, 17.76s/it]"
     ]
    },
    {
     "name": "stderr",
     "output_type": "stream",
     "text": [
      "\r",
      " 58%|██████████████████████████████████████████████████████████                                          | 18/31 [13:54<03:46, 17.41s/it]"
     ]
    },
    {
     "name": "stderr",
     "output_type": "stream",
     "text": [
      "\r",
      " 61%|█████████████████████████████████████████████████████████████▎                                      | 19/31 [14:17<03:48, 19.04s/it]"
     ]
    },
    {
     "name": "stderr",
     "output_type": "stream",
     "text": [
      "\r",
      " 65%|████████████████████████████████████████████████████████████████▌                                   | 20/31 [14:46<04:02, 22.04s/it]"
     ]
    },
    {
     "name": "stderr",
     "output_type": "stream",
     "text": [
      "\r",
      " 68%|███████████████████████████████████████████████████████████████████▋                                | 21/31 [15:19<04:11, 25.17s/it]"
     ]
    },
    {
     "name": "stderr",
     "output_type": "stream",
     "text": [
      "\r",
      " 71%|██████████████████████████████████████████████████████████████████████▉                             | 22/31 [15:56<04:19, 28.79s/it]"
     ]
    },
    {
     "name": "stderr",
     "output_type": "stream",
     "text": [
      "\r",
      " 74%|██████████████████████████████████████████████████████████████████████████▏                         | 23/31 [16:38<04:21, 32.73s/it]"
     ]
    },
    {
     "name": "stderr",
     "output_type": "stream",
     "text": [
      "\r",
      " 77%|█████████████████████████████████████████████████████████████████████████████▍                      | 24/31 [17:31<04:32, 38.88s/it]"
     ]
    },
    {
     "name": "stderr",
     "output_type": "stream",
     "text": [
      "\r",
      " 81%|████████████████████████████████████████████████████████████████████████████████▋                   | 25/31 [18:23<04:17, 42.84s/it]"
     ]
    },
    {
     "name": "stderr",
     "output_type": "stream",
     "text": [
      "\r",
      " 84%|███████████████████████████████████████████████████████████████████████████████████▊                | 26/31 [19:22<03:58, 47.76s/it]"
     ]
    },
    {
     "name": "stderr",
     "output_type": "stream",
     "text": [
      "\r",
      " 87%|███████████████████████████████████████████████████████████████████████████████████████             | 27/31 [20:26<03:29, 52.48s/it]"
     ]
    },
    {
     "name": "stderr",
     "output_type": "stream",
     "text": [
      "\r",
      " 90%|██████████████████████████████████████████████████████████████████████████████████████████▎         | 28/31 [21:36<02:53, 57.88s/it]"
     ]
    },
    {
     "name": "stderr",
     "output_type": "stream",
     "text": [
      "\r",
      " 94%|█████████████████████████████████████████████████████████████████████████████████████████████▌      | 29/31 [22:50<02:05, 62.74s/it]"
     ]
    },
    {
     "name": "stderr",
     "output_type": "stream",
     "text": [
      "\r",
      " 97%|████████████████████████████████████████████████████████████████████████████████████████████████▊   | 30/31 [24:11<01:07, 68.00s/it]"
     ]
    },
    {
     "name": "stderr",
     "output_type": "stream",
     "text": [
      "\r",
      "100%|████████████████████████████████████████████████████████████████████████████████████████████████████| 31/31 [25:41<00:00, 74.72s/it]"
     ]
    },
    {
     "name": "stderr",
     "output_type": "stream",
     "text": [
      "\r",
      "100%|████████████████████████████████████████████████████████████████████████████████████████████████████| 31/31 [25:41<00:00, 49.73s/it]"
     ]
    },
    {
     "name": "stderr",
     "output_type": "stream",
     "text": [
      "\n"
     ]
    }
   ],
   "source": [
    "import copy\n",
    "\n",
    "odepars.Ωl0 = Ωl0\n",
    "odepars.ωphase = ωphase\n",
    "odepars.ωp = ωp\n",
    "\n",
    "tspan = (0,1000e-6)\n",
    "ρ = centrex.utils.generate_population_states(\n",
    "        population_states.get_indices(obe_system.QN), \n",
    "        len(obe_system.QN)\n",
    "    )\n",
    "\n",
    "parameters = [\"vz\", \"δl\", \"y0\"]\n",
    "values = [vz, δls, y0]\n",
    "\n",
    "output_func = centrex.lindblad.setup_state_integral_calculation(\n",
    "                states = exc.get_indices(obe_system.QN, mode = \"julia\"),\n",
    "                nphotons = True\n",
    "            )\n",
    "\n",
    "δl_scan = np.arange(*scan_range)*syspars.Γ\n",
    "\n",
    "results = []\n",
    "for δli in tqdm(δl_scan):\n",
    "    vals = copy.copy(values)\n",
    "    vals[1] = vals[1] + δli\n",
    "    cb = centrex.lindblad.setup_discrete_callback_terminate(odepars, \"vz*t >= 50e-3\")\n",
    "\n",
    "    ens_prob = centrex.lindblad.setup_problem_parameter_scan(\n",
    "                            odepars, tspan, ρ, parameters, vals, \n",
    "                            dimensions = 1,\n",
    "                            output_func = output_func,\n",
    "                            zipped = True\n",
    "                )\n",
    "\n",
    "    centrex.lindblad.solve_problem_parameter_scan(ensemble_problem_name = ens_prob, saveat = 1e-7,\n",
    "                                                 callback = cb)\n",
    "    res = centrex.lindblad.get_results_parameter_scan()\n",
    "    results.append(np.average(res))\n",
    "results = np.asarray(results)    \n",
    "odepars.Ωl0 = Ωl0"
   ]
  },
  {
   "cell_type": "code",
   "execution_count": 27,
   "id": "65a46fd6-e56a-4566-9b6c-e22ce7cc03bc",
   "metadata": {
    "execution": {
     "iopub.execute_input": "2022-03-05T22:28:46.577202Z",
     "iopub.status.busy": "2022-03-05T22:28:46.577202Z",
     "iopub.status.idle": "2022-03-05T22:28:46.752201Z",
     "shell.execute_reply": "2022-03-05T22:28:46.753201Z"
    },
    "papermill": {
     "duration": 0.221999,
     "end_time": "2022-03-05T22:28:46.753201",
     "exception": false,
     "start_time": "2022-03-05T22:28:46.531202",
     "status": "completed"
    },
    "tags": []
   },
   "outputs": [
    {
     "name": "stdout",
     "output_type": "stream",
     "text": [
      "maximum signal : 2.48\n"
     ]
    },
    {
     "data": {
      "image/png": "[encoded data removed]",
      "text/plain": [
       "<Figure size 576x360 with 1 Axes>"
      ]
     },
     "metadata": {
      "needs_background": "light"
     },
     "output_type": "display_data"
    }
   ],
   "source": [
    "fig, ax = plt.subplots(figsize = (8,5))\n",
    "ax.plot(δl_scan / (2*np.pi*1e6), results, '-', lw = 2)\n",
    "ax.plot(δl_scan / (2*np.pi*1e6), results, '.', ms = 13, color = 'C3')\n",
    "\n",
    "ax.set_xlabel(\"δ [MHz]\", fontsize = 14)\n",
    "ax.set_ylabel(\"# photons\", fontsize = 14)\n",
    "ax.grid(True)\n",
    "\n",
    "print(f\"maximum signal : {np.max(results):.2f}\")"
   ]
  },
  {
   "cell_type": "markdown",
   "id": "72eafcf4-c61e-4385-b7ea-b25b66dfdf03",
   "metadata": {
    "papermill": {
     "duration": 0.042,
     "end_time": "2022-03-05T22:28:46.835202",
     "exception": false,
     "start_time": "2022-03-05T22:28:46.793202",
     "status": "completed"
    },
    "tags": []
   },
   "source": [
    "### Save Trajectory Detuning Scan Data"
   ]
  },
  {
   "cell_type": "code",
   "execution_count": 28,
   "id": "e839a1b3-8e15-4162-991a-37f98acfccc9",
   "metadata": {
    "execution": {
     "iopub.execute_input": "2022-03-05T22:28:46.929427Z",
     "iopub.status.busy": "2022-03-05T22:28:46.928428Z",
     "iopub.status.idle": "2022-03-05T22:28:46.987802Z",
     "shell.execute_reply": "2022-03-05T22:28:46.986804Z"
    },
    "papermill": {
     "duration": 0.105234,
     "end_time": "2022-03-05T22:28:46.987802",
     "exception": false,
     "start_time": "2022-03-05T22:28:46.882568",
     "status": "completed"
    },
    "tags": []
   },
   "outputs": [],
   "source": [
    "import pickle\n",
    "\n",
    "with open(f\"{transition_name}.pkl\", \"wb\") as f:\n",
    "    pickle.dump(\n",
    "        dict(\n",
    "            δl_scan = δl_scan,\n",
    "            signal = results\n",
    "        ),\n",
    "        f\n",
    "    )"
   ]
  },
  {
   "cell_type": "markdown",
   "id": "0524b68f-0953-47ef-9ebb-9e4608052bb7",
   "metadata": {
    "papermill": {
     "duration": 0.054586,
     "end_time": "2022-03-05T22:28:47.081713",
     "exception": false,
     "start_time": "2022-03-05T22:28:47.027127",
     "status": "completed"
    },
    "tags": []
   },
   "source": [
    "### Fit to resonance\n",
    "#### Define Gaussian and Lorentzian functions"
   ]
  },
  {
   "cell_type": "code",
   "execution_count": 29,
   "id": "18b6bc2b-6557-47f1-8b51-bb9452ca3bad",
   "metadata": {
    "execution": {
     "iopub.execute_input": "2022-03-05T22:28:47.203662Z",
     "iopub.status.busy": "2022-03-05T22:28:47.203662Z",
     "iopub.status.idle": "2022-03-05T22:28:47.457643Z",
     "shell.execute_reply": "2022-03-05T22:28:47.458643Z"
    },
    "papermill": {
     "duration": 0.312788,
     "end_time": "2022-03-05T22:28:47.458643",
     "exception": false,
     "start_time": "2022-03-05T22:28:47.145855",
     "status": "completed"
    },
    "tags": []
   },
   "outputs": [],
   "source": [
    "from scipy.optimize import curve_fit\n",
    "from scipy.special import voigt_profile\n",
    "\n",
    "def gaussian(x, a, μ, σ):\n",
    "    return a*np.exp(-(x-μ)**2 / (2*σ**2))\n",
    "\n",
    "def lorentzian( x, x0, a, gam ):\n",
    "    return a * gam**2 / ( gam**2 + ( x - x0 )**2)\n",
    "\n",
    "def voigt(x, a, μ, σ):\n",
    "    return a * voigt_profile(x - μ, σ, σ)"
   ]
  },
  {
   "cell_type": "code",
   "execution_count": 30,
   "id": "3b541b6c-a9ab-4b83-a094-56adaa32b6d1",
   "metadata": {
    "execution": {
     "iopub.execute_input": "2022-03-05T22:28:47.602646Z",
     "iopub.status.busy": "2022-03-05T22:28:47.601650Z",
     "iopub.status.idle": "2022-03-05T22:28:48.473548Z",
     "shell.execute_reply": "2022-03-05T22:28:48.474546Z"
    },
    "papermill": {
     "duration": 0.940386,
     "end_time": "2022-03-05T22:28:48.475032",
     "exception": false,
     "start_time": "2022-03-05T22:28:47.534646",
     "status": "completed"
    },
    "tags": []
   },
   "outputs": [
    {
     "name": "stderr",
     "output_type": "stream",
     "text": [
      "INFO:numexpr.utils:Note: NumExpr detected 12 cores but \"NUMEXPR_MAX_THREADS\" not set, so enforcing safe limit of 8.\n"
     ]
    },
    {
     "name": "stderr",
     "output_type": "stream",
     "text": [
      "INFO:numexpr.utils:NumExpr defaulting to 8 threads.\n"
     ]
    }
   ],
   "source": [
    "import lmfit\n",
    "from lmfit.models import LorentzianModel, GaussianModel, VoigtModel"
   ]
  },
  {
   "cell_type": "markdown",
   "id": "091f6f6a-3410-40eb-b7d6-ee229eff10a8",
   "metadata": {
    "papermill": {
     "duration": 0.049,
     "end_time": "2022-03-05T22:28:48.577547",
     "exception": false,
     "start_time": "2022-03-05T22:28:48.528547",
     "status": "completed"
    },
    "tags": []
   },
   "source": [
    "#### Fit Lorentzian to scan"
   ]
  },
  {
   "cell_type": "code",
   "execution_count": 31,
   "id": "c3dd75a8-ff6e-4dd2-881d-5e142ef5b4ad",
   "metadata": {
    "execution": {
     "iopub.execute_input": "2022-03-05T22:28:48.690549Z",
     "iopub.status.busy": "2022-03-05T22:28:48.689548Z",
     "iopub.status.idle": "2022-03-05T22:28:48.802548Z",
     "shell.execute_reply": "2022-03-05T22:28:48.803548Z"
    },
    "papermill": {
     "duration": 0.176001,
     "end_time": "2022-03-05T22:28:48.803548",
     "exception": false,
     "start_time": "2022-03-05T22:28:48.627547",
     "status": "completed"
    },
    "tags": []
   },
   "outputs": [
    {
     "name": "stdout",
     "output_type": "stream",
     "text": [
      "[[Model]]\n",
      "    Model(lorentzian)\n",
      "[[Fit Statistics]]\n",
      "    # fitting method   = leastsq\n",
      "    # function evals   = 17\n",
      "    # data points      = 31\n",
      "    # variables        = 3\n",
      "    chi-square         = 0.03405630\n",
      "    reduced chi-square = 0.00121630\n",
      "    Akaike info crit   = -205.225551\n",
      "    Bayesian info crit = -200.923589\n",
      "[[Variables]]\n",
      "    amplitude:  1.0204e+09 +/- 6988245.77 (0.68%) (init = 6.717219e+08)\n",
      "    center:     6277358.30 +/- 819435.126 (13.05%) (init = 9801769)\n",
      "    sigma:      1.3179e+08 +/- 1282298.03 (0.97%) (init = 8.821592e+07)\n",
      "    fwhm:       2.6357e+08 +/- 2564596.05 (0.97%) == '2.0000000*sigma'\n",
      "    height:     2.46467581 +/- 0.01553502 (0.63%) == '0.3183099*amplitude/max(1e-15, sigma)'\n",
      "[[Correlations]] (unreported correlations are < 0.100)\n",
      "    C(amplitude, sigma) = 0.764\n"
     ]
    }
   ],
   "source": [
    "model = LorentzianModel()\n",
    "params = model.guess(\n",
    "                    results, \n",
    "                    x = δl_scan\n",
    ")\n",
    "fit = model.fit(results, params, x = δl_scan)\n",
    "print(fit.fit_report())"
   ]
  },
  {
   "cell_type": "code",
   "execution_count": 32,
   "id": "aea2ff27-ba35-4041-97bc-66afb538dcaa",
   "metadata": {
    "execution": {
     "iopub.execute_input": "2022-03-05T22:28:48.906548Z",
     "iopub.status.busy": "2022-03-05T22:28:48.905548Z",
     "iopub.status.idle": "2022-03-05T22:28:49.126547Z",
     "shell.execute_reply": "2022-03-05T22:28:49.126547Z"
    },
    "papermill": {
     "duration": 0.277,
     "end_time": "2022-03-05T22:28:49.126547",
     "exception": false,
     "start_time": "2022-03-05T22:28:48.849547",
     "status": "completed"
    },
    "tags": []
   },
   "outputs": [
    {
     "data": {
      "image/png": "[encoded data removed]",
      "text/plain": [
       "<Figure size 576x360 with 1 Axes>"
      ]
     },
     "metadata": {
      "needs_background": "light"
     },
     "output_type": "display_data"
    }
   ],
   "source": [
    "_x = np.linspace(δl_scan.min(), δl_scan.max(), 201)\n",
    "y = fit.eval(x = _x)\n",
    "\n",
    "fig, ax = plt.subplots(figsize = (8,5))\n",
    "ax.plot(δl_scan / (2*np.pi*1e6), results, '.', ms = 13, label = 'data')\n",
    "ax.plot(_x / (2*np.pi*1e6), y, label = 'fit', lw = 2)\n",
    "\n",
    "ax.set_xlabel(\"δ [MHz]\", fontsize = 14)\n",
    "ax.set_ylabel(\"# photons\", fontsize = 14)\n",
    "ax.legend(fontsize = 14)\n",
    "ax.set_title(\"Lorentzian Fit\", fontsize = 15)\n",
    "ax.grid(True)"
   ]
  },
  {
   "cell_type": "code",
   "execution_count": 33,
   "id": "7db03d55-3233-4aff-a947-1860b3cf301e",
   "metadata": {
    "execution": {
     "iopub.execute_input": "2022-03-05T22:28:49.229547Z",
     "iopub.status.busy": "2022-03-05T22:28:49.228546Z",
     "iopub.status.idle": "2022-03-05T22:28:49.551347Z",
     "shell.execute_reply": "2022-03-05T22:28:49.551347Z"
    },
    "papermill": {
     "duration": 0.376799,
     "end_time": "2022-03-05T22:28:49.551347",
     "exception": false,
     "start_time": "2022-03-05T22:28:49.174548",
     "status": "completed"
    },
    "tags": []
   },
   "outputs": [
    {
     "data": {
      "image/png": "[encoded data removed]",
      "text/plain": [
       "<Figure size 432x432 with 2 Axes>"
      ]
     },
     "metadata": {
      "needs_background": "light"
     },
     "output_type": "display_data"
    }
   ],
   "source": [
    "_ = fit.plot()"
   ]
  },
  {
   "cell_type": "markdown",
   "id": "de774ff7-7f22-4f5f-a1bf-b969780a21b8",
   "metadata": {
    "papermill": {
     "duration": 0.049513,
     "end_time": "2022-03-05T22:28:49.661856",
     "exception": false,
     "start_time": "2022-03-05T22:28:49.612343",
     "status": "completed"
    },
    "tags": []
   },
   "source": [
    "#### Fit Gaussian to scan"
   ]
  },
  {
   "cell_type": "code",
   "execution_count": 34,
   "id": "2406e400-d8a4-42a6-a169-6940ee1cdea8",
   "metadata": {
    "execution": {
     "iopub.execute_input": "2022-03-05T22:28:49.799856Z",
     "iopub.status.busy": "2022-03-05T22:28:49.798856Z",
     "iopub.status.idle": "2022-03-05T22:28:49.886275Z",
     "shell.execute_reply": "2022-03-05T22:28:49.887275Z"
    },
    "papermill": {
     "duration": 0.165418,
     "end_time": "2022-03-05T22:28:49.887275",
     "exception": false,
     "start_time": "2022-03-05T22:28:49.721857",
     "status": "completed"
    },
    "tags": []
   },
   "outputs": [
    {
     "name": "stdout",
     "output_type": "stream",
     "text": [
      "[[Model]]\n",
      "    Model(gaussian)\n",
      "[[Fit Statistics]]\n",
      "    # fitting method   = leastsq\n",
      "    # function evals   = 33\n",
      "    # data points      = 31\n",
      "    # variables        = 3\n",
      "    chi-square         = 0.81036483\n",
      "    reduced chi-square = 0.02894160\n",
      "    Akaike info crit   = -106.971996\n",
      "    Bayesian info crit = -102.670034\n",
      "[[Variables]]\n",
      "    amplitude:  7.6139e+08 +/- 20673292.5 (2.72%) (init = 5.373776e+08)\n",
      "    center:     6168818.15 +/- 4183042.00 (67.81%) (init = 9801769)\n",
      "    sigma:      1.3530e+08 +/- 4351261.40 (3.22%) (init = 8.821592e+07)\n",
      "    fwhm:       3.1860e+08 +/- 10246437.4 (3.22%) == '2.3548200*sigma'\n",
      "    height:     2.24507514 +/- 0.06025202 (2.68%) == '0.3989423*amplitude/max(1e-15, sigma)'\n",
      "[[Correlations]] (unreported correlations are < 0.100)\n",
      "    C(amplitude, sigma) = 0.602\n"
     ]
    }
   ],
   "source": [
    "model = GaussianModel()\n",
    "params = model.guess(\n",
    "                    results, \n",
    "                    x = δl_scan\n",
    ")\n",
    "fit = model.fit(results, params, x = δl_scan)\n",
    "print(fit.fit_report())"
   ]
  },
  {
   "cell_type": "code",
   "execution_count": 35,
   "id": "da38a3a8-2bc3-40b8-bc8e-a25b4bbae3e8",
   "metadata": {
    "execution": {
     "iopub.execute_input": "2022-03-05T22:28:49.994605Z",
     "iopub.status.busy": "2022-03-05T22:28:49.994605Z",
     "iopub.status.idle": "2022-03-05T22:28:50.201230Z",
     "shell.execute_reply": "2022-03-05T22:28:50.202232Z"
    },
    "papermill": {
     "duration": 0.269957,
     "end_time": "2022-03-05T22:28:50.202232",
     "exception": false,
     "start_time": "2022-03-05T22:28:49.932275",
     "status": "completed"
    },
    "tags": []
   },
   "outputs": [
    {
     "data": {
      "image/png": "[encoded data removed]",
      "text/plain": [
       "<Figure size 576x360 with 1 Axes>"
      ]
     },
     "metadata": {
      "needs_background": "light"
     },
     "output_type": "display_data"
    }
   ],
   "source": [
    "_x = np.linspace(δl_scan.min(), δl_scan.max(), 201)\n",
    "y = fit.eval(x = _x)\n",
    "\n",
    "fig, ax = plt.subplots(figsize = (8,5))\n",
    "ax.plot(δl_scan / (2*np.pi*1e6), results, '.', ms = 13, label = 'data')\n",
    "ax.plot(_x / (2*np.pi*1e6), y, label = 'fit', lw = 2)\n",
    "\n",
    "ax.set_xlabel(\"δ [MHz]\", fontsize = 14)\n",
    "ax.set_ylabel(\"# photons\", fontsize = 14)\n",
    "ax.legend(fontsize = 14)\n",
    "ax.set_title(\"Gaussian Fit\", fontsize = 15)\n",
    "ax.grid(True)"
   ]
  },
  {
   "cell_type": "code",
   "execution_count": 36,
   "id": "4e0bd614-03a0-4e0c-b644-72986d4026a4",
   "metadata": {
    "execution": {
     "iopub.execute_input": "2022-03-05T22:28:50.312251Z",
     "iopub.status.busy": "2022-03-05T22:28:50.312251Z",
     "iopub.status.idle": "2022-03-05T22:28:50.609184Z",
     "shell.execute_reply": "2022-03-05T22:28:50.610184Z"
    },
    "papermill": {
     "duration": 0.359935,
     "end_time": "2022-03-05T22:28:50.610184",
     "exception": false,
     "start_time": "2022-03-05T22:28:50.250249",
     "status": "completed"
    },
    "tags": []
   },
   "outputs": [
    {
     "data": {
      "image/png": "[encoded data removed]",
      "text/plain": [
       "<Figure size 432x432 with 2 Axes>"
      ]
     },
     "metadata": {
      "needs_background": "light"
     },
     "output_type": "display_data"
    }
   ],
   "source": [
    "_ = fit.plot()"
   ]
  },
  {
   "cell_type": "markdown",
   "id": "2e23e87f-79c2-470a-aec8-f9918c7f2c91",
   "metadata": {
    "papermill": {
     "duration": 0.052002,
     "end_time": "2022-03-05T22:28:50.710185",
     "exception": false,
     "start_time": "2022-03-05T22:28:50.658183",
     "status": "completed"
    },
    "tags": []
   },
   "source": [
    "### Fit Voigt to scan"
   ]
  },
  {
   "cell_type": "code",
   "execution_count": 37,
   "id": "427de737-3ec5-4376-9fce-d4557da3a20d",
   "metadata": {
    "execution": {
     "iopub.execute_input": "2022-03-05T22:28:50.815238Z",
     "iopub.status.busy": "2022-03-05T22:28:50.815238Z",
     "iopub.status.idle": "2022-03-05T22:28:50.910803Z",
     "shell.execute_reply": "2022-03-05T22:28:50.911803Z"
    },
    "papermill": {
     "duration": 0.151107,
     "end_time": "2022-03-05T22:28:50.911803",
     "exception": false,
     "start_time": "2022-03-05T22:28:50.760696",
     "status": "completed"
    },
    "tags": []
   },
   "outputs": [
    {
     "name": "stdout",
     "output_type": "stream",
     "text": [
      "[[Model]]\n",
      "    Model(voigt)\n",
      "[[Fit Statistics]]\n",
      "    # fitting method   = leastsq\n",
      "    # function evals   = 29\n",
      "    # data points      = 31\n",
      "    # variables        = 3\n",
      "    chi-square         = 0.32508395\n",
      "    reduced chi-square = 0.01161014\n",
      "    Akaike info crit   = -135.287429\n",
      "    Bayesian info crit = -130.985468\n",
      "[[Variables]]\n",
      "    amplitude:  9.0605e+08 +/- 17004577.5 (1.88%) (init = 8.060663e+08)\n",
      "    center:     6362655.46 +/- 2591049.72 (40.72%) (init = 9801769)\n",
      "    sigma:      80385455.1 +/- 1981298.41 (2.46%) (init = 5.734035e+07)\n",
      "    gamma:      80385455.1 +/- 1981298.40 (2.46%) == 'sigma'\n",
      "    fwhm:       2.8949e+08 +/- 4338890.53 (1.50%) == '1.0692*gamma+sqrt(0.8664*gamma**2+5.545083*sigma**2)'\n",
      "    height:     2.35242577 +/- 0.03229067 (1.37%) == '(amplitude/(max(1e-15, sigma*sqrt(2*pi))))*wofz((1j*gamma)/(max(1e-15, sigma*sqrt(2)))).real'\n",
      "[[Correlations]] (unreported correlations are < 0.100)\n",
      "    C(amplitude, sigma) = 0.685\n"
     ]
    }
   ],
   "source": [
    "model = VoigtModel()\n",
    "params = model.guess(\n",
    "                    results, \n",
    "                    x = δl_scan\n",
    ")\n",
    "fit = model.fit(results, params, x = δl_scan)\n",
    "print(fit.fit_report())"
   ]
  },
  {
   "cell_type": "code",
   "execution_count": 38,
   "id": "50403281-0ba4-4572-a029-2614a6647796",
   "metadata": {
    "execution": {
     "iopub.execute_input": "2022-03-05T22:28:51.008887Z",
     "iopub.status.busy": "2022-03-05T22:28:51.007887Z",
     "iopub.status.idle": "2022-03-05T22:28:51.199219Z",
     "shell.execute_reply": "2022-03-05T22:28:51.199219Z"
    },
    "papermill": {
     "duration": 0.242223,
     "end_time": "2022-03-05T22:28:51.200219",
     "exception": false,
     "start_time": "2022-03-05T22:28:50.957996",
     "status": "completed"
    },
    "tags": []
   },
   "outputs": [
    {
     "data": {
      "image/png": "[encoded data removed]",
      "text/plain": [
       "<Figure size 576x360 with 1 Axes>"
      ]
     },
     "metadata": {
      "needs_background": "light"
     },
     "output_type": "display_data"
    }
   ],
   "source": [
    "_x = np.linspace(δl_scan.min(), δl_scan.max(), 201)\n",
    "y = fit.eval(x = _x)\n",
    "\n",
    "fig, ax = plt.subplots(figsize = (8,5))\n",
    "ax.plot(δl_scan / (2*np.pi*1e6), results, '.', ms = 13, label = 'data')\n",
    "ax.plot(_x / (2*np.pi*1e6), y, label = 'fit', lw = 2)\n",
    "\n",
    "ax.set_xlabel(\"δ [MHz]\", fontsize = 14)\n",
    "ax.set_ylabel(\"# photons\", fontsize = 14)\n",
    "ax.legend(fontsize = 14)\n",
    "ax.set_title(\"Voigt Fit\", fontsize = 15)\n",
    "ax.grid(True)"
   ]
  },
  {
   "cell_type": "code",
   "execution_count": 39,
   "id": "f3cfa0ae-8cd4-44d3-a3b2-86b49bd91fd5",
   "metadata": {
    "execution": {
     "iopub.execute_input": "2022-03-05T22:28:51.303335Z",
     "iopub.status.busy": "2022-03-05T22:28:51.302569Z",
     "iopub.status.idle": "2022-03-05T22:28:51.576573Z",
     "shell.execute_reply": "2022-03-05T22:28:51.577573Z"
    },
    "papermill": {
     "duration": 0.327354,
     "end_time": "2022-03-05T22:28:51.577573",
     "exception": false,
     "start_time": "2022-03-05T22:28:51.250219",
     "status": "completed"
    },
    "tags": []
   },
   "outputs": [
    {
     "data": {
      "image/png": "[encoded data removed]",
      "text/plain": [
       "<Figure size 432x432 with 2 Axes>"
      ]
     },
     "metadata": {
      "needs_background": "light"
     },
     "output_type": "display_data"
    }
   ],
   "source": [
    "_ = fit.plot()"
   ]
  },
  {
   "cell_type": "code",
   "execution_count": null,
   "id": "7e576c63-d35f-4274-954b-1ed373a0be02",
   "metadata": {
    "papermill": {
     "duration": 0.049359,
     "end_time": "2022-03-05T22:28:51.672603",
     "exception": false,
     "start_time": "2022-03-05T22:28:51.623244",
     "status": "completed"
    },
    "tags": []
   },
   "outputs": [],
   "source": []
  }
 ],
 "metadata": {
  "kernelspec": {
   "display_name": "Python 3 (ipykernel)",
   "language": "python",
   "name": "python3"
  },
  "language_info": {
   "codemirror_mode": {
    "name": "ipython",
    "version": 3
   },
   "file_extension": ".py",
   "mimetype": "text/x-python",
   "name": "python",
   "nbconvert_exporter": "python",
   "pygments_lexer": "ipython3",
   "version": "3.8.12"
  },
  "papermill": {
   "default_parameters": {},
   "duration": 1796.998224,
   "end_time": "2022-03-05T22:28:53.847993",
   "environment_variables": {},
   "exception": null,
   "input_path": "multipass amherst template.ipynb",
   "output_path": "R(1) F1'=3_2 F'=2).ipyn",
   "parameters": {
    "excited_F": 2,
    "excited_F1": 1.5,
    "excited_J": 2,
    "system_Js": [
     1,
     3
    ],
    "transition_type": "R"
   },
   "start_time": "2022-03-05T21:58:56.849769",
   "version": "2.3.4"
  }
 },
 "nbformat": 4,
 "nbformat_minor": 5
}