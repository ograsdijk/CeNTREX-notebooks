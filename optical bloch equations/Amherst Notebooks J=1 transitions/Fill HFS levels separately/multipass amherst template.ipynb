{
 "cells": [
  {
   "cell_type": "code",
   "execution_count": null,
   "id": "7d8a7537-0017-470b-8014-10fee27536eb",
   "metadata": {},
   "outputs": [],
   "source": [
    "%load_ext autoreload\n",
    "%autoreload 2\n",
    "\n",
    "import pickle\n",
    "import numpy as np\n",
    "import sympy as smp\n",
    "from tqdm import tqdm\n",
    "from sympy import Symbol, symbols\n",
    "import centrex_TlF as centrex\n",
    "import matplotlib.pyplot as plt\n",
    "from julia import Main"
   ]
  },
  {
   "cell_type": "markdown",
   "id": "6b24d705-f2c7-4949-826b-60484c6990f5",
   "metadata": {},
   "source": [
    "### Papermill parameters"
   ]
  },
  {
   "cell_type": "code",
   "execution_count": null,
   "id": "9788a2c1-095c-4d35-8c1b-a0548a74c8d2",
   "metadata": {
    "tags": [
     "parameters"
    ]
   },
   "outputs": [],
   "source": [
    "Γ = 2*np.pi*1.56e6\n",
    "\n",
    "transition_type = \"R\"\n",
    "ground_J = 1\n",
    "excited_J = 2\n",
    "excited_F = 2\n",
    "excited_F1 = 3/2\n",
    "system_J = [1,3]\n",
    "\n",
    "laser_power = 23.8e-3 # power in W\n",
    "σlaser = 0.000914\n",
    "npasses = 9\n",
    "multipass_offset = 0.01\n",
    "distance_between_passes = 0.03556/npasses\n",
    "power_loss_per_pass = 20.2/23.8\n",
    "\n",
    "vcm = 150\n",
    "\n",
    "ωp = 0.65*Γ\n",
    "\n",
    "β = 3.8\n",
    "ωphase = 0.0\n",
    "\n",
    "scan_range = [-10,10.25,0.25]\n",
    "\n",
    "nprocs = 7"
   ]
  },
  {
   "cell_type": "code",
   "execution_count": null,
   "id": "c21c06f6-c1af-496a-b304-7469b9ba8a17",
   "metadata": {},
   "outputs": [],
   "source": [
    "trans = centrex.transitions.LaserTransition(\n",
    "    f\"{transition_type}{ground_J}\",\n",
    "    F1 = excited_F1,\n",
    "    F = excited_F\n",
    ")\n",
    "trans"
   ]
  },
  {
   "cell_type": "code",
   "execution_count": null,
   "id": "a8bac859-a1d8-41cf-87c1-45cb8e44710d",
   "metadata": {},
   "outputs": [],
   "source": [
    "excited_state = centrex.states.QuantumSelector(\n",
    "                    J=excited_J, F=excited_F, F1=excited_F1, \n",
    "                    electronic = 'B', P = trans.excited_selector.P\n",
    ")\n",
    "print(f\"excited state : {excited_state}\")"
   ]
  },
  {
   "cell_type": "markdown",
   "id": "21d17f10-4029-4df6-842f-0e7c76366a7c",
   "metadata": {},
   "source": [
    "# Initial setup\n",
    "## Involved states"
   ]
  },
  {
   "cell_type": "code",
   "execution_count": null,
   "id": "8a6852be-2045-4f4d-b899-c2717f66efa9",
   "metadata": {},
   "outputs": [],
   "source": [
    "gnd = centrex.states.QuantumSelector(J=system_J, electronic = 'X')\n",
    "exc = excited_state\n",
    "\n",
    "gnd_laser = centrex.states.QuantumSelector(J=trans.ground_selector.J, electronic = 'X')\n",
    "exc_laser = excited_state"
   ]
  },
  {
   "cell_type": "code",
   "execution_count": null,
   "id": "7f40b6a0-2e4a-489a-892c-84cf72f711c0",
   "metadata": {},
   "outputs": [],
   "source": [
    "syspars = centrex.states.SystemParameters(\n",
    "    nprocs  = nprocs,\n",
    "    Γ       = Γ,\n",
    "    X  = gnd,\n",
    "    B = [exc]\n",
    ")"
   ]
  },
  {
   "cell_type": "markdown",
   "id": "5783d09d-767e-4901-b328-5a3d8529c562",
   "metadata": {
    "tags": []
   },
   "source": [
    "## Parameters"
   ]
  },
  {
   "cell_type": "code",
   "execution_count": null,
   "id": "afce7fb3-65f2-4ace-b238-b74f88ff4659",
   "metadata": {},
   "outputs": [],
   "source": [
    "odepars = centrex.lindblad.odeParameters(\n",
    "    Ωl = \"Ωl0 * phase_modulation(t, β, ωphase) * multipass_2d_intensity(vz*t, y0+vy*t, ampl, xlocs, ylocs, σzlaser, σylaser)\",\n",
    "    Ωl0     = 1*syspars.Γ,    # Rabi frequency of the laser [rad/s]\n",
    "    δl      = 0.0,              # detuning of the laser [rad/s]\n",
    "    \n",
    "    # laser beam properties\n",
    "    σzlaser = σlaser * np.sqrt(2),\n",
    "    σylaser = σlaser * np.sqrt(2),\n",
    "    \n",
    "    # laser multipass\n",
    "    ampl = [np.sqrt(power_loss_per_pass**n) for n in range(npasses)],\n",
    "    xlocs = [(n-1)*distance_between_passes + multipass_offset for n in centrex.utils.light.multipass_prism_order(npasses)],\n",
    "    ylocs = npasses*[0.0],\n",
    "    \n",
    "    # laser phase modulation\n",
    "    ωphase = ωphase,       # laser phase modulation frequency [rad/s]\n",
    "    β      = β,             # laser phase modulation depth [rad]\n",
    "\n",
    "    # laser polarization switching\n",
    "    ωp = ωp,           # polarization switching frequency [rad/s]\n",
    "    φp = 0.0,                 # polarization switching phase [rad]\n",
    "    Pl  = \"sin(ωp*t + φp)\",\n",
    "    Plz = \"Pl>0\",\n",
    "    Plx = \"Pl<=0\",\n",
    "    Ply = 0.0,\n",
    "    \n",
    "    # molecules\n",
    "    y0 = 0.,                   # molecule start y position [m]\n",
    "    vz = vcm,                 # longitudinal molecular velocity [m/s]\n",
    "    vy = 0.,                   # molecule vy [m/s]\n",
    ")\n"
   ]
  },
  {
   "cell_type": "markdown",
   "id": "94aff443-8f03-4464-b85e-cea4b4407fd1",
   "metadata": {},
   "source": [
    "## Transitions"
   ]
  },
  {
   "cell_type": "code",
   "execution_count": null,
   "id": "8ab6c2cd-69a9-43bc-b367-70604948ee8e",
   "metadata": {},
   "outputs": [],
   "source": [
    "transitions = [\n",
    "    centrex.couplings.TransitionSelector(\n",
    "        ground = 1*centrex.states.generate_coupled_states_ground_X(gnd_laser),\n",
    "        excited = 1*centrex.states.generate_coupled_states_excited_B(exc_laser),\n",
    "        polarizations        = [[0,0,1],[1,0,0],[0,1,0]],\n",
    "        polarization_symbols = symbols(\"Plz     Plx     Ply\"),\n",
    "        Ω = smp.Symbol('Ωl', complex = True),\n",
    "        δ = smp.Symbol('δl'),\n",
    "        description = \"laser transition\",        \n",
    "    ),\n",
    "]"
   ]
  },
  {
   "cell_type": "code",
   "execution_count": null,
   "id": "8830dc74-5aef-4786-b0b6-d086c03b86a7",
   "metadata": {},
   "outputs": [],
   "source": [
    "transition_name = centrex.transitions.identify_transition(\n",
    "    transitions[0].ground[0],\n",
    "    transitions[0].excited[0]\n",
    ")\n",
    "transition_name = transition_name.replace(\",\",\"\").replace(\"/\",\"_\")\n",
    "transition_name"
   ]
  },
  {
   "cell_type": "markdown",
   "id": "e6bed866-24bc-4cbb-9664-022df1a48188",
   "metadata": {
    "tags": []
   },
   "source": [
    "## Generate System"
   ]
  },
  {
   "cell_type": "code",
   "execution_count": null,
   "id": "4ed1375f-f64b-45c0-8ca8-f98491e8c8f0",
   "metadata": {},
   "outputs": [],
   "source": [
    "%%time\n",
    "obe_system = centrex.lindblad.setup_OBE_system_julia(syspars, odepars, transitions, verbose=True, full_output=True, \n",
    "                                                     qn_compact=centrex.states.QuantumSelector(J=3, electronic = 'X'))"
   ]
  },
  {
   "cell_type": "markdown",
   "id": "e2979859-216a-46aa-a6ed-72a507abf26b",
   "metadata": {},
   "source": [
    "# Simulations\n",
    "## Single trajectory for population in each HFS separately"
   ]
  },
  {
   "cell_type": "code",
   "execution_count": null,
   "id": "a7dfeb67-36ab-4ed5-9af1-ad66daeddeac",
   "metadata": {},
   "outputs": [],
   "source": [
    "Ωl0 = centrex.utils.light.calculate_rabi_from_power_gaussian_beam(\n",
    "                        laser_power,\n",
    "                        obe_system.couplings[0]['main coupling'],\n",
    "                        σlaser,\n",
    "                        σlaser\n",
    "    ).real\n",
    "print(f\"Ωl0 : {Ωl0 / syspars.Γ:.2f} Γ\")"
   ]
  },
  {
   "cell_type": "code",
   "execution_count": null,
   "id": "f29311e6-5f91-40cc-b852-150cb39f3072",
   "metadata": {},
   "outputs": [],
   "source": [
    "odepars.Ωl0 = Ωl0\n",
    "odepars.ωphase = ωphase\n",
    "odepars.ωp = ωp"
   ]
  },
  {
   "cell_type": "code",
   "execution_count": null,
   "id": "1359a04f-71fe-481c-8a86-b98c4cf570b2",
   "metadata": {},
   "outputs": [],
   "source": [
    "nphotons = []\n",
    "res = []\n",
    "for idx, state in tqdm(enumerate(obe_system.QN), \n",
    "                       total = centrex.utils.J_levels(\n",
    "                           trans.ground_selector.J\n",
    "                       )\n",
    "                      ):\n",
    "    state = state.find_largest_component()\n",
    "    if (state.J == 1) & (state.electronic_state == 'X'):\n",
    "        ρ = centrex.utils.generate_population_states([idx], len(obe_system.QN))\n",
    "        t_array, results = centrex.lindblad.do_simulation_single(odepars, (0,50e-3/odepars.vz+10e-6), ρ)\n",
    "        res.append({'t': t_array, 'data': results})\n",
    "        nphotons.append(\n",
    "            np.trapz(results[exc.get_indices(obe_system.QN),:].sum(axis = 0), t_array)*syspars.Γ\n",
    "        )"
   ]
  },
  {
   "cell_type": "code",
   "execution_count": null,
   "id": "51d3bd7a-ad1b-46a3-a5e0-e10ee58fd9c6",
   "metadata": {},
   "outputs": [],
   "source": [
    "for idx, state in tqdm(enumerate(obe_system.QN), \n",
    "                       total = centrex.utils.J_levels(\n",
    "                           trans.ground_selector.J\n",
    "                       )\n",
    "                      ):\n",
    "    state = state.find_largest_component()\n",
    "    \n",
    "    if (state.J == 1) & (state.electronic_state == 'X'):\n",
    "        t_array, results = res[idx].values()\n",
    "        _t = np.linspace(t_array.min(), t_array.max(), 201)\n",
    "        multipass = np.abs(odepars.get_parameter_evolution(_t, \"Ωl\").real)\n",
    "        \n",
    "        fig, ax = plt.subplots(figsize = (10,6)) \n",
    "        ax.plot(t_array*1e6, results.T, lw = 2);\n",
    "        ax.plot(_t*1e6, multipass/multipass.max()*0.8, 'k--', lw = 2,\n",
    "                label = 'multipass')\n",
    "        ax.set_xlabel('time [μs]')\n",
    "        ax.set_ylabel('population')\n",
    "        ax.set_title(f\"{state}\")\n",
    "        ax.legend(fontsize = 14)\n",
    "        ax.grid(True)"
   ]
  },
  {
   "cell_type": "markdown",
   "id": "6fbd29c5-da35-45d8-91bc-55b448c1b943",
   "metadata": {},
   "source": [
    "### Calculate Branching ratios"
   ]
  },
  {
   "cell_type": "code",
   "execution_count": null,
   "id": "98d54ca9-94b4-4b51-821c-1be8b333a170",
   "metadata": {},
   "outputs": [],
   "source": [
    "branch = {}\n",
    "for idx,i,j in zip(*np.nonzero(obe_system.C_array)):\n",
    "    g = obe_system.QN[i].find_largest_component()\n",
    "    e = obe_system.QN[j].find_largest_component()\n",
    "    if trans.ground_selector.J == g.J:\n",
    "        br = (obe_system.C_array[idx,i,j]**2 / syspars.Γ).real\n",
    "        key = f\"{e.J}, {e.F1}, {e.F}, {e.mF}\"\n",
    "        if branch.get(key) is None:\n",
    "            branch[key] = br\n",
    "        else:\n",
    "            branch[key] += br\n",
    "branch"
   ]
  },
  {
   "cell_type": "markdown",
   "id": "d0b6025f-1c82-49fb-a4f3-b7ebecf08b83",
   "metadata": {},
   "source": [
    "### Save Results to pickle file"
   ]
  },
  {
   "cell_type": "code",
   "execution_count": null,
   "id": "888f6ad4-14ff-4ed4-b12d-414f19f913ad",
   "metadata": {},
   "outputs": [],
   "source": [
    "with open(f\"{transition_name}.pkl\", \"wb\") as f:\n",
    "    pickle.dump(\n",
    "        dict(\n",
    "            QN = obe_system.QN,\n",
    "            results = res,\n",
    "            nphotons = nphotons,\n",
    "            branching = branch\n",
    "        ),\n",
    "        f\n",
    "    )"
   ]
  },
  {
   "cell_type": "markdown",
   "id": "38d78351-bc19-4793-94db-8e2436d6cb14",
   "metadata": {},
   "source": [
    "## Detuning Scan"
   ]
  },
  {
   "cell_type": "code",
   "execution_count": null,
   "id": "db3160c7-b51e-4cd3-8f8c-5dfeaffa8d31",
   "metadata": {},
   "outputs": [],
   "source": [
    "odepars.Ωl0 = Ωl0\n",
    "odepars.ωphase = ωphase\n",
    "odepars.ωp = ωp\n",
    "\n",
    "tspan = (0,1000e-6)\n",
    "\n",
    "δl_scan = np.arange(*scan_range)*syspars.Γ\n",
    "\n",
    "parameters = [\"δl\"]\n",
    "values = [δl_scan]\n",
    "\n",
    "output_func = centrex.lindblad.setup_state_integral_calculation(\n",
    "                states = exc.get_indices(obe_system.QN, mode = \"julia\"),\n",
    "                nphotons = True\n",
    "            )\n",
    "cb = centrex.lindblad.setup_discrete_callback_terminate(odepars, \"vz*t >= 50e-3\")"
   ]
  },
  {
   "cell_type": "code",
   "execution_count": null,
   "id": "c4863189-5621-4218-906a-a80ac56c039b",
   "metadata": {},
   "outputs": [],
   "source": [
    "scan_results = []\n",
    "for idx, state in tqdm(enumerate(obe_system.QN), \n",
    "                       total = centrex.utils.J_levels(\n",
    "                           trans.ground_selector.J\n",
    "                       )\n",
    "                      ):\n",
    "    state = state.find_largest_component()\n",
    "    if (state.J == 1) & (state.electronic_state == 'X'):\n",
    "        ρ = centrex.utils.generate_population_states([idx], len(obe_system.QN))\n",
    "\n",
    "        ens_prob = centrex.lindblad.setup_problem_parameter_scan(\n",
    "                                odepars, tspan, ρ, parameters, values, \n",
    "                                dimensions = 1,\n",
    "                                output_func = output_func,\n",
    "                                zipped = True\n",
    "                    )\n",
    "\n",
    "        centrex.lindblad.solve_problem_parameter_scan(ensemble_problem_name = ens_prob, saveat = 1e-7,\n",
    "                                                     callback = cb)\n",
    "        scan_results.append(centrex.lindblad.get_results_parameter_scan())"
   ]
  },
  {
   "cell_type": "code",
   "execution_count": null,
   "id": "d75f8808-bc3c-4912-8904-078c88e29df9",
   "metadata": {},
   "outputs": [],
   "source": [
    "for idx, state in tqdm(enumerate(obe_system.QN), \n",
    "                       total = centrex.utils.J_levels(\n",
    "                           trans.ground_selector.J\n",
    "                       )\n",
    "                      ):\n",
    "    state = state.find_largest_component()\n",
    "    \n",
    "    if (state.J == 1) & (state.electronic_state == 'X'):\n",
    "        results = scan_results[idx]\n",
    "        \n",
    "        fig, ax = plt.subplots(figsize = (8,5))\n",
    "        ax.plot(δl_scan/syspars.Γ, results, '-', lw = 2)\n",
    "        ax.set_xlabel(\"δ [Γ]\")\n",
    "        ax.set_label(\"#photons\")\n",
    "        ax.set_title(f\"{state}\")\n",
    "        ax.grid(True)"
   ]
  },
  {
   "cell_type": "code",
   "execution_count": null,
   "id": "511117b5-ec67-43e4-818a-eecc2a10b4f4",
   "metadata": {},
   "outputs": [],
   "source": []
  }
 ],
 "metadata": {
  "kernelspec": {
   "display_name": "Python 3 (ipykernel)",
   "language": "python",
   "name": "python3"
  },
  "language_info": {
   "codemirror_mode": {
    "name": "ipython",
    "version": 3
   },
   "file_extension": ".py",
   "mimetype": "text/x-python",
   "name": "python",
   "nbconvert_exporter": "python",
   "pygments_lexer": "ipython3",
   "version": "3.8.12"
  }
 },
 "nbformat": 4,
 "nbformat_minor": 5
}
