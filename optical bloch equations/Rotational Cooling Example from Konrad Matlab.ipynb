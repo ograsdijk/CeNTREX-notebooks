{
 "cells": [
  {
   "cell_type": "code",
   "execution_count": 26,
   "metadata": {},
   "outputs": [],
   "source": [
    "import numpy as np\n",
    "from scipy.io import loadmat\n",
    "import scipy.constants as cst\n",
    "import matplotlib.pyplot as plt\n",
    "from sympy.physics.wigner import wigner_3j, wigner_6j, wigner_9j"
   ]
  },
  {
   "cell_type": "code",
   "execution_count": 27,
   "metadata": {},
   "outputs": [],
   "source": [
    "time_of_flight = 100 # microseconds\n",
    "switching_freq = 15/100 # MHz\n",
    "no_switches = np.floor(time_of_flight*switching_freq)\n",
    "t_step = time_of_flight*1000/no_switches # ns"
   ]
  },
  {
   "cell_type": "markdown",
   "metadata": {},
   "source": [
    "physical constants"
   ]
  },
  {
   "cell_type": "code",
   "execution_count": 28,
   "metadata": {},
   "outputs": [],
   "source": [
    "hbar = cst.hbar\n",
    "k_B = cst.k\n",
    "c = cst.c\n",
    "eps_0 = cst.epsilon_0\n",
    "Gamma = 1/99 # 1/lifetime of the excited state [GHz]\n",
    "a0 = cst.physical_constants['Bohr radius'][0] # m\n",
    "q_e = cst.e\n",
    "r_expval = 0.32*a0\n",
    "mu_r_expval = 5.22*r_expval\n",
    "B_0 = 6.68667*1e9 # Hz\n",
    "T = 7 # K\n",
    "r_expval=0.32*a0 # [m]\n",
    "r_expval_m=5.22*r_expval"
   ]
  },
  {
   "cell_type": "code",
   "execution_count": 29,
   "metadata": {},
   "outputs": [],
   "source": [
    "def delta_kr(i,j):\n",
    "    if i == j:\n",
    "        return 1\n",
    "    else:\n",
    "        return 0"
   ]
  },
  {
   "cell_type": "code",
   "execution_count": 30,
   "metadata": {},
   "outputs": [],
   "source": [
    "def ThreeJSymbol(j1,m1,j2,m2,j3,m3):\n",
    "    \"\"\"\n",
    "    Purely here for compatibility of direct translation of Konrad's matlab code.\n",
    "    \"\"\"\n",
    "    return float(wigner_3j(j1,j2,j3,m1,m2,m3))\n",
    "\n",
    "def SixJSymbol(j1,j2,j3,j4,j5,j6):\n",
    "    \"\"\"\n",
    "    Purely here for compatibility of direct translation of Konrad's matlab code.\n",
    "    \"\"\"\n",
    "    return float(wigner_6j(j1,j2,j3,j4,j5,j6))\n",
    "\n",
    "def NineJSymbol(j1,j2,j3,j4,j5,j6,j7,j8,j9):\n",
    "    \"\"\"\n",
    "    Purely here for compatibility of direct translation of Konrad's matlab code.\n",
    "    \"\"\"\n",
    "    return float(wigner_9j(j1,j2,j3,j4,j5,j6,j7,j8,j9))"
   ]
  },
  {
   "cell_type": "code",
   "execution_count": 31,
   "metadata": {},
   "outputs": [],
   "source": [
    "def generate_states(J_ground, J_excited, parity):\n",
    "    \"\"\"\n",
    "    P=0 - e, P=1 - f (parity type of the excited state); Ground -> X1Sigma+, Excited B3Pi1\n",
    "    \"\"\"\n",
    "    G = []\n",
    "    E = []\n",
    "    for jg in J_ground:\n",
    "        if jg == 0:\n",
    "            # (X or B,J,W,F1,F,mF,parity type) \n",
    "            G=[[0,0,0,1/2,0,0,0],[0,0,0,1/2,1,-1,0],[0,0,0,1/2,1,0,0],[0,0,0,1/2,1,1,0]] \n",
    "        else:\n",
    "            W = 0\n",
    "            for F1 in [-1/2, 1/2]:\n",
    "                for F2 in [-1/2, 1/2]:\n",
    "                    F = jg+F1+F2\n",
    "                    for mF in np.arange(-F,F+1):\n",
    "                        G.append([0,jg,W,jg+F1,F,mF,0])\n",
    "    for je in J_excited:\n",
    "        if je == 0:\n",
    "            # (X or B, J,|W|,F1,F,mF,parity) \n",
    "            E=[[1,0,1,1/2,0,0,parity], [1,0,1,1/2,1,-1,parity], [1,0,1,1/2,1,0,parity], [1,0,1,1/2,1,1,parity]]  \n",
    "        else:\n",
    "            W = 1\n",
    "            for F1 in [-1/2,1/2]:\n",
    "                for F2 in [-1/2,1/2]:\n",
    "                    F = je+F1+F2\n",
    "                    for mF in np.arange(-F,F+1):\n",
    "                        E.append([1,je,W,je+F1,F,mF,parity])\n",
    "    return G,E"
   ]
  },
  {
   "cell_type": "code",
   "execution_count": 32,
   "metadata": {},
   "outputs": [],
   "source": [
    "def dipoleHelper(S, Mixing_M, ind):\n",
    "    st = []\n",
    "    if S[0] > 0:\n",
    "        if S[1] == 1:\n",
    "            for i in range(0,8):\n",
    "                if Mixing_M[ind, i] != 0:\n",
    "                    if i == 0:\n",
    "                        st.append([1, S[2], 1/2, 0, S[5], i])\n",
    "                    elif i == 1:\n",
    "                        st.append([1, S[2], 1/2, 1, S[5], i])\n",
    "                    elif i == 2:\n",
    "                        st.append([1, S[2], 3/2, 1, S[5], i])\n",
    "                    elif i == 3:\n",
    "                        st.append([1, S[2], 3/2, 2, S[5], i])\n",
    "                    elif i == 4:\n",
    "                        st.append([2, S[2], 3/2, 1, S[5], i])\n",
    "                    elif i == 5:\n",
    "                        st.append([2, S[2], 3/2, 2, S[5], i])\n",
    "                    elif i == 6:\n",
    "                        st.append([2, S[2], 5/2, 2, S[5], i])\n",
    "                    elif i == 8:\n",
    "                        st.append([3, S[2], 5/2, 2, S[5], i])\n",
    "        elif S[1] == 2:\n",
    "            for i in range(0,11):\n",
    "                if Mixing_M[ind, i] != 0:\n",
    "                    if i == 0:\n",
    "                        st.append([1, S[2], 1/2, 1, S[5], i])\n",
    "                    elif i == 1:\n",
    "                        st.append([1, S[2], 3/2, 1, S[5], i])\n",
    "                    elif i == 2:\n",
    "                        st.append([1, S[2], 3/2, 2, S[5], i])\n",
    "                    elif i == 3:\n",
    "                        st.append([2, S[2], 3/2, 1, S[5], i])\n",
    "                    elif i == 4:\n",
    "                        st.append([2, S[2], 3/2, 2, S[5], i])\n",
    "                    elif i == 5:\n",
    "                        st.append([2, S[2], 5/2, 2, S[5], i])\n",
    "                    elif i == 6:\n",
    "                        st.append([2, S[2], 5/2, 3, S[5], i])\n",
    "                    elif i == 7:\n",
    "                        st.append([3, S[2], 5/2, 2, S[5], i])\n",
    "                    elif i == 8:\n",
    "                        st.append([3, S[2], 5/2, 3, S[5], i])\n",
    "                    elif i == 9:\n",
    "                        st.append([3, S[2], 7/2, 3, S[5], i])\n",
    "                    elif i == 10:\n",
    "                        st.append([4, S[2], 7/2, 3, S[5], i])\n",
    "    else:\n",
    "        st.append([S[1], S[2], S[3], S[4], S[5]])\n",
    "    return st"
   ]
  },
  {
   "cell_type": "code",
   "execution_count": 33,
   "metadata": {},
   "outputs": [],
   "source": [
    "def dipoleTransitionMatrixElement(E,G,p,mixing):\n",
    "    \"\"\"\n",
    "    Wtf is p? Konrads code has absolutely no comments anywhere\n",
    "    \"\"\"\n",
    "    if not mixing:\n",
    "        Je, We, F1e, Fe, Me, Pe = E[1:]\n",
    "        Jg, Wg, F1g, Fg, Mg, Pg = G[1:]\n",
    "        \n",
    "        power = Fe-Me+Fg+F1g+F1e+2*Je-We+3\n",
    "        parg = (-1)**(Jg+Pg)\n",
    "        pare = (-1)**(Je+Pe)\n",
    "        delta = 1-delta_kr(parg,pare)\n",
    "            \n",
    "        s = 0\n",
    "        for q in [-1,0,1]:\n",
    "            if (Wg != 0) & (We != 0):\n",
    "                s += ThreeJSymbol(Je,-We,1,q,Jg,Wg)+(-1)**Pe*ThreeJSymbol(Je,We,1,q,Jg,Wg)+(-1)**Pg*ThreeJSymbol(Je,-We,1,q,Jg,-Wg)+(-1)**(Pg+Pe)*ThreeJSymbol(Je,We,1,q,Jg,-Wg)\n",
    "            elif (Wg == 0) & (We != 0):\n",
    "                s += np.sqrt(2)*(ThreeJSymbol(Je,-We,1,q,Jg,Wg)+(-1)**Pe*ThreeJSymbol(Je,We,1,q,Jg,Wg))\n",
    "            elif (Wg != 0) & (We == 0):\n",
    "                s += np.sqrt(2)*(ThreeJSymbol(Je,-We,1,q,Jg,Wg)+(-1)**Pg*ThreeJSymbol(Je,-We,1,q,Jg,-Wg));\n",
    "            else:\n",
    "                s += 2*ThreeJSymbol(Je,-We,1,q,Jg,Wg)\n",
    "        x = ((-1)**power)*delta*s*np.sqrt((2*Fg+1)*(2*Jg+1)*(2*Fe+1)*(2*Je+1)*(2*F1g+1)*(2*F1e+1)) \\\n",
    "                         *ThreeJSymbol(Fe,-Me,1,p,Fg,Mg) \\\n",
    "                         *SixJSymbol(Jg,F1g,1/2,F1e,Je,1) \\\n",
    "                         *SixJSymbol(F1g,Fg,1/2,Fe,F1e,1)*1/2\n",
    "    if mixing:\n",
    "        x = 0\n",
    "        \n",
    "        if ((E[0] > 0) & (E[1] == 1)) | ((G[0] > 0) & (G[1] == 1)):\n",
    "            Mixing_M = np.zeros([4,8])\n",
    "            Mixing_M[0,:] = [1,0,0,0,0,0,0,0] # E. Norrgard et al.\n",
    "            Mixing_M[1,:] = [0,0.9996,0.0203,0,0.018,0,0,0]\n",
    "            Mixing_M[2,:] = [0,0.0267,-0.8519,0,-0.5231,0,0,0]\n",
    "            Mixing_M[3,:] = [0,0,0,0.8483,0,0.5293,0.0138,0.0064]\n",
    "        elif ((E[0] > 0) & (E[1] == 2)) | ((G[0] > 0) & (G[1] == 2)):\n",
    "            Mixing_M = np.zeros([4,11]);  # |J,F1,F>: |1,1/2,1>,|1,3/2,1>,|1,3/2,2>,|2,3/2,1>,|2,3/2,2>,|2,5/2,2>,|2,5/2,3>,|3,5/2,2>,|3,5/2,3>,|3,7/2,3>,|4,7/2,3>\n",
    "            Mixing_M[0,:] = [-0.0048,-0.5235,0,0.8521,0,0,0,0,0,0,0]\n",
    "            Mixing_M[1,:] = [0,0,0.5294,0,-0.8483,-0.0011,0,-0.0103,0,0,0]\n",
    "            Mixing_M[2,:] = [0,0,0.0103,0,0.012,-0.9353,0,-0.3534,0,0,0]\n",
    "            Mixing_M[3,:] = [0,0,0,0,0,0,0.9342,0,0.3568,0.01,0.0032]\n",
    "            \n",
    "        e_ind = 0\n",
    "        g_ind = 0\n",
    "        if E[1] == 1:\n",
    "            if E[3] == 1/2:\n",
    "                e_ind = 0 if E[4] == 0 else 1\n",
    "            else:\n",
    "                e_ind = 2 if E[4] == 1 else 3\n",
    "        elif E[1] == 2:\n",
    "            if E[3] == 3/2:\n",
    "                e_ind = 0 if E[4] == 1 else 1\n",
    "            else:\n",
    "                e_ind = 2 if E[4] == 2 else 3\n",
    "\n",
    "        if G[1] == 1:\n",
    "            if G[3] == 1/2:\n",
    "                g_ind = 0 if G[4] == 0 else 1\n",
    "            else:\n",
    "                g_ind = 2 if G[4] == 1 else 3\n",
    "        elif G[1] == 2:\n",
    "            if G[3] == 3/2:\n",
    "                g_ind = 0 if G[4] == 1 else 1\n",
    "            else:\n",
    "                g_ind = 2 if G[4] == 2 else 3\n",
    "        \n",
    "        \n",
    "        E_st = dipoleHelper(E, Mixing_M, e_ind)\n",
    "        G_st = dipoleHelper(G, Mixing_M, g_ind)\n",
    "        \n",
    "        for i,e_st in enumerate(E_st):\n",
    "            for j,g_st in enumerate(G_st):\n",
    "                Je, We, F1e, Fe, Me = e_st[:5]\n",
    "                Jg, Wg, F1g, Fg, Mg = g_st[:5]\n",
    "                Pe_mixed = E[6]\n",
    "                Pg_mixed = E[6]\n",
    "                                \n",
    "                Je_mixed = E[1]\n",
    "                Jg_mixed = G[1]\n",
    "                \n",
    "                Pe = Je-Je_mixed+Pe_mixed % 2\n",
    "                Pg = Jg-Jg_mixed+Pg_mixed % 2\n",
    "\n",
    "                power = Fe-Me+Fg+F1g+F1e+2*Je-We+3\n",
    "                parg = (-1)**(Jg_mixed+Pg_mixed)\n",
    "                pare = (-1)**(Je_mixed+Pe_mixed)\n",
    "                delta = 1-delta_kr(parg,pare)\n",
    "                \n",
    "                if delta == 0:\n",
    "                    print('delta = 0')\n",
    "                    continue\n",
    "                \n",
    "                s = 0\n",
    "                for q in [-1,0,1]:\n",
    "                    if (Wg != 0) & (We != 0):\n",
    "                        print('1')\n",
    "                        s += ThreeJSymbol(Je,-We,1,q,Jg,Wg) \\\n",
    "                           + (-1)**Pe*ThreeJSymbol(Je,We,1,q,Jg,Wg) \\\n",
    "                           + (-1)**Pg*ThreeJSymbol(Je,-We,1,q,Jg,-Wg) \\\n",
    "                           + (-1)**(Pg+Pe)*ThreeJSymbol(Je,We,1,q,Jg,-Wg)\n",
    "                    elif (Wg == 0) & (We != 0):\n",
    "                        print('2')\n",
    "                        s += np.sqrt(2)*(ThreeJSymbol(Je,-We,1,q,Jg,Wg) \\\n",
    "                                         + (-1)**Pe*ThreeJSymbol(Je,We,1,q,Jg,Wg))\n",
    "                    elif (Wg != 0) & (We == 0):\n",
    "                        print('3')\n",
    "                        s += np.sqrt(2)*(ThreeJSymbol(Je,-We,1,q,Jg,Wg) \\\n",
    "                                         + (-1)**Pg*ThreeJSymbol(Je,-We,1,q,Jg,-Wg))\n",
    "                    else:\n",
    "                        print('4')\n",
    "                        s += 2*ThreeJSymbol(Je,-We,1,q,Jg,Wg)\n",
    "                partial_x = ((-1)**power)*delta*s*np.sqrt((2*Fg+1)*(2*Jg+1)*(2*Fe+1)*(2*Je+1)*(2*F1g+1)*(2*F1e+1)) \\\n",
    "                                         *ThreeJSymbol(Fe,-Me,1,p,Fg,Mg) \\\n",
    "                                         *SixJSymbol(Jg,F1g,1/2,F1e,Je,1) \\\n",
    "                                         *SixJSymbol(F1g,Fg,1/2,Fe,F1e,1)*1/2\n",
    "                print(partial_x)\n",
    "                \n",
    "                if (E[0] > 0) & (G[0] == 0):\n",
    "                    x += partial_x*Mixing_M[e_ind, e_st[5]]\n",
    "                elif ((E[0] == 0) & (G[0] > 0)):\n",
    "                    x += partial_x*Mixing_M[g_ind, g_st[5]]\n",
    "                elif ((E[0] > 0) & (G[0] > 0)):\n",
    "                    x += partial_x*Mixing_M[g_ind, g_st[5]]*Mixing_M[e_ind, e_st[5]]\n",
    "                else:\n",
    "                    x = partial_x\n",
    "    return x"
   ]
  },
  {
   "cell_type": "code",
   "execution_count": 34,
   "metadata": {},
   "outputs": [],
   "source": [
    "def boltzmann_distribution(rot_constant, temperature, J_list):\n",
    "    init = np.zeros(len(J_list))\n",
    "    Z = 0\n",
    "    g = 1\n",
    "    for J in J_list:\n",
    "        g = 4*(2*J+1)\n",
    "        Z += g*np.exp(-rot_constant*J*(J+1)*2*np.pi*hbar/(temperature*k_B))\n",
    "    for idx, J in enumerate(J_list):\n",
    "        g = 4*(2*J+1)\n",
    "        init[idx] = g*np.exp(-rot_constant*J*(J+1)*2*np.pi*hbar/(temperature*k_B))/Z\n",
    "    return init"
   ]
  },
  {
   "cell_type": "markdown",
   "metadata": {},
   "source": [
    "### states"
   ]
  },
  {
   "cell_type": "code",
   "execution_count": 35,
   "metadata": {},
   "outputs": [],
   "source": [
    "J_g = [0,1,3]\n",
    "J_e = [1]\n",
    "\n",
    "ground_states, excited_states = generate_states(J_g, J_e, 1)"
   ]
  },
  {
   "cell_type": "code",
   "execution_count": 36,
   "metadata": {},
   "outputs": [
    {
     "data": {
      "text/plain": [
       "(112, 112, 3)"
      ]
     },
     "execution_count": 36,
     "metadata": {},
     "output_type": "execute_result"
    }
   ],
   "source": [
    "rabi_matrix = loadmat('TransitionMatrix_EtoE_mixing_full.mat')['rabi_matrix']\n",
    "rabi_matrix.shape"
   ]
  },
  {
   "cell_type": "code",
   "execution_count": 37,
   "metadata": {},
   "outputs": [],
   "source": [
    "# elemination of states that don't participate in the process\n",
    "# not sure why these particular states were chosen to ignore\n",
    "\n",
    "# -1 because matlab indexing starts at 1\n",
    "for i in range(104-1,101-1,-1):\n",
    "    rabi_matrix[i,:,:] = 0\n",
    "    rabi_matrix[:,i,:] = 0\n",
    "for i in range(100-1,37,-1):\n",
    "    rabi_matrix[i,:,:] = 0\n",
    "    rabi_matrix[:,i,:] = 0\n",
    "    \n",
    "n = 36+3+5"
   ]
  },
  {
   "cell_type": "code",
   "execution_count": 38,
   "metadata": {},
   "outputs": [],
   "source": [
    "ini = boltzmann_distribution(B_0,T, range(0,20+1))"
   ]
  },
  {
   "cell_type": "code",
   "execution_count": 39,
   "metadata": {},
   "outputs": [],
   "source": [
    "ic = np.zeros([n,n])\n",
    "idx = 0\n",
    "for j in J_g:\n",
    "    for i in np.arange(0,4*(2*j+1)):\n",
    "        k = idx+i\n",
    "        ic[k,k] = ini[j+1]/(4*(2*j+1))\n",
    "    idx += 4*(2*j+1)\n",
    "ic /= np.sum(ini[:max(J_g)])"
   ]
  },
  {
   "cell_type": "code",
   "execution_count": 40,
   "metadata": {},
   "outputs": [
    {
     "data": {
      "text/plain": [
       "array([4.51479157e-02, 1.23577435e-01, 1.71454290e-01, 1.82312749e-01,\n",
       "       1.62436032e-01, 1.25525981e-01, 8.55786804e-02, 5.19726668e-02,\n",
       "       2.82861857e-02, 1.38516340e-02, 6.12024571e-03, 2.44489252e-03,\n",
       "       8.84371078e-04, 2.90002065e-04, 8.62895774e-05, 2.33144552e-05,\n",
       "       5.72349052e-06, 1.27725831e-06, 2.59212713e-07, 4.78567584e-08,\n",
       "       8.04019977e-09])"
      ]
     },
     "execution_count": 40,
     "metadata": {},
     "output_type": "execute_result"
    }
   ],
   "source": [
    "ini"
   ]
  },
  {
   "cell_type": "code",
   "execution_count": 41,
   "metadata": {},
   "outputs": [
    {
     "data": {
      "text/plain": [
       "array([0.09081778, 0.09081778, 0.09081778, 0.09081778, 0.04200092,\n",
       "       0.04200092, 0.04200092, 0.04200092, 0.04200092, 0.04200092,\n",
       "       0.04200092, 0.04200092, 0.04200092, 0.04200092, 0.04200092,\n",
       "       0.04200092, 0.0170536 , 0.0170536 , 0.0170536 , 0.0170536 ,\n",
       "       0.0170536 , 0.0170536 , 0.0170536 , 0.0170536 , 0.0170536 ,\n",
       "       0.0170536 , 0.0170536 , 0.0170536 , 0.0170536 , 0.0170536 ,\n",
       "       0.0170536 , 0.0170536 , 0.0170536 , 0.0170536 , 0.0170536 ,\n",
       "       0.0170536 , 0.0170536 , 0.0170536 , 0.0170536 , 0.0170536 ,\n",
       "       0.0170536 , 0.0170536 , 0.0170536 , 0.0170536 ])"
      ]
     },
     "execution_count": 41,
     "metadata": {},
     "output_type": "execute_result"
    }
   ],
   "source": [
    "np.diag(ic)"
   ]
  },
  {
   "cell_type": "code",
   "execution_count": 42,
   "metadata": {},
   "outputs": [],
   "source": [
    "from sympy import Symbol"
   ]
  },
  {
   "cell_type": "code",
   "execution_count": 43,
   "metadata": {},
   "outputs": [],
   "source": [
    "\"\"\" Energies \"\"\"\n",
    "w1 = Symbol(u'ω_0', real = True)\n",
    "w2 = Symbol(u'ω_1', real = True)\n",
    "we = Symbol(u'ω_{e}', real = True)\n",
    "we2 = Symbol(u'ω_{e2}', real = True)\n",
    "\n",
    "\"\"\" Light Frequencies \"\"\"\n",
    "wm0 = Symbol(u'ω_{m0}', real = True)\n",
    "wm1 = Symbol(u'ω_{m1}', real = True)\n",
    "wL= Symbol(u'ω_{L}', real = True)\n",
    "wL2 = Symbol(u'ω_{L2}', real = True)\n",
    "\n",
    "\"\"\" Rabi Frequencies \"\"\"\n",
    "Wm0 = Symbol(u'Ω_{m0}', real = True)\n",
    "Wm1 = Symbol(u'Ω_{m1}', real = True)\n",
    "WL = Symbol(u'Ω_{L}', real = True)\n",
    "WL2 = Symbol(u'Ω_{L2}', real = True)\n",
    "\n",
    "\"\"\" Detunings \"\"\"\n",
    "dm0 = Symbol(u'Δ_{m0}', real = True)\n",
    "dm1 = Symbol(u'Δ_{m1}', real = True)\n",
    "dL = Symbol(u'Δ_{L}', real = True)\n",
    "dL2 = Symbol(u'Δ_{L2}', real = True)\n",
    "\n",
    "\"\"\" Microwave angles and polarization \"\"\"\n",
    "am0 = Symbol(u'α_0', real = True)\n",
    "pm0 = Symbol(u'p_0', real = True)\n",
    "am1 = Symbol(u'α_1', real = True)\n",
    "pm1 = Symbol(u'p_0', real = True)\n",
    "\n",
    "\"\"\" Laser Polarization \"\"\"\n",
    "pL = Symbol(u'p_L', real = True)"
   ]
  },
  {
   "cell_type": "code",
   "execution_count": 44,
   "metadata": {},
   "outputs": [],
   "source": [
    "# Values \n",
    "Del_10=22.24*1e-6*2*np.pi\n",
    "Del_1=0.17595*1e-3*2*np.pi\n",
    "Del_11=14.54*1e-6*2*np.pi\n",
    "Del_21=44.52*1e-6*2*np.pi\n",
    "Del_2=0.27881*1e-3*2*np.pi\n",
    "Del_22=33.22*1e-6*2*np.pi\n",
    "Del_32=63.95*1e-6*2*np.pi\n",
    "Del_3=0.38458*1e-3*2*np.pi\n",
    "Del_33=54.38*1e-6*2*np.pi\n",
    "Del_0=13.3*1e-6*2*np.pi\n",
    "det_L=(Del_2/2+Del_21)\n",
    "det_m0=0\n",
    "det_m1=0\n",
    "det_m3=0\n",
    "polangle_m0=np.pi/4\n",
    "dirangle_m0=np.pi/4\n",
    "polangle_m1=np.pi/4\n",
    "dirangle_m1=np.pi/4\n",
    "polangle_m3=np.pi/4\n",
    "dirangle_m3=np.pi/2"
   ]
  },
  {
   "cell_type": "code",
   "execution_count": 45,
   "metadata": {},
   "outputs": [],
   "source": [
    "# Light Properties\n",
    "P_L=0.05 # [W]\n",
    "diam_L=0.003 # [m]\n",
    "P_L2=0.00 # [W]\n",
    "diam_L2=0.003 # [m]\n",
    "P_m0=0.000 # [W]\n",
    "diam_m0=0.05 #[m]\n",
    "P_m1=0.5 # [W]\n",
    "diam_m1=0.05 # [m]\n",
    "\n",
    "Rabi_m0=1e-9*q_e*r_expval_m*np.sqrt(8*P_m0/(np.pi*c*eps_0*diam_m0**2))/hbar # [GHz]\n",
    "Rabi_m1=1e-9*q_e*r_expval_m*np.sqrt(8*P_m1/(np.pi*c*eps_0*diam_m1**2))/hbar # [GHz]\n",
    "Rabi_L=1e-9*q_e*r_expval*np.sqrt(8*P_L/(np.pi*c*eps_0*diam_L**2))/hbar\n",
    "Rabi_L2=1e-9*q_e*r_expval*np.sqrt(8*P_L2/(np.pi*c*eps_0*diam_L2**2))/hbar"
   ]
  },
  {
   "cell_type": "code",
   "execution_count": 19,
   "metadata": {},
   "outputs": [],
   "source": [
    "BR = loadmat('BranchingRatios_EtoE_mixing_full.mat')['BR']"
   ]
  },
  {
   "cell_type": "code",
   "execution_count": 20,
   "metadata": {},
   "outputs": [],
   "source": [
    "# elemination of states that don't participate in the process\n",
    "# not sure why these particular states were chosen to ignore\n",
    "\n",
    "# -1 because matlab indexing starts at 1\n",
    "for i in range(104-1,101-1,-1):\n",
    "    BR[i,:] = 0\n",
    "    BR[:,i] = 0\n",
    "for i in range(100-1,37,-1):\n",
    "    BR[i,:] = 0\n",
    "    BR[:,i] = 0\n",
    "    \n",
    "for i in range(0,n-8):\n",
    "    BR[i,:] = 0"
   ]
  },
  {
   "cell_type": "code",
   "execution_count": 21,
   "metadata": {},
   "outputs": [],
   "source": [
    "from optical_bloch import Hamiltonian, Dissipator, BlochEquations"
   ]
  },
  {
   "cell_type": "code",
   "execution_count": 22,
   "metadata": {},
   "outputs": [],
   "source": [
    "L = Dissipator(n)"
   ]
  },
  {
   "cell_type": "code",
   "execution_count": 23,
   "metadata": {},
   "outputs": [],
   "source": [
    "G = Symbol('G', real = True)\n",
    "DR = [0]*(n-8)\n",
    "DR += [G,G,G,G,G,G,G,G]"
   ]
  },
  {
   "cell_type": "code",
   "execution_count": 33,
   "metadata": {},
   "outputs": [],
   "source": [
    "L.fromBranching(BR,DR)"
   ]
  },
  {
   "cell_type": "code",
   "execution_count": null,
   "metadata": {},
   "outputs": [],
   "source": [
    "syms t pol_mod pol_mod_m real;\n",
    "\n",
    "# Laser 1\n",
    "WLp=W_L/sqrt(2)*sin(pi/2*(1+sign(sin(2*pi*switching_freq*t)))/2)*pol_mod;\n",
    "WLm=W_L/sqrt(2)*sin(pi/2*(1+sign(sin(2*pi*switching_freq*t)))/2)*pol_mod;\n",
    "WLz=W_L*cos(pi/2*(1+sign(sin(2*pi*switching_freq*t)))/2)*pol_mod+(1-pol_mod)*W_L;\n",
    "\n",
    "\n",
    "WL_pol=[WLm,WLz,-WLp];\n",
    "\n",
    "# Laser 2\n",
    "WLp2=0;\n",
    "WLm2=0;\n",
    "WLz2=W_L2;\n",
    "\n",
    "WL_pol2=[WLm2,WLz2,-WLp2];\n",
    "\n",
    "# Microwaves\n",
    "Wm1p=W_m1/sqrt(2)*(sin(p_m1)+1i*cos(a_m1)*cos(p_m1));\n",
    "Wm1m=W_m1/sqrt(2)*(sin(p_m1)-1i*cos(a_m1)*cos(p_m1));\n",
    "Wm1z=-W_m1*cos(p_m1)*sin(a_m1);\n",
    "\n",
    "Wm1_pol=[Wm1m,Wm1z,-Wm1p];\n",
    "\n",
    "Wm1_pol=subs(Wm1_pol,p_m1,pi/2*(1-pol_mod_m)+pol_mod_m*pi/2*(1+sign(sin(2*pi*switching_freq*t+pi/2)))/2);"
   ]
  }
 ],
 "metadata": {
  "kernelspec": {
   "display_name": "Python 3",
   "language": "python",
   "name": "python3"
  },
  "language_info": {
   "codemirror_mode": {
    "name": "ipython",
    "version": 3
   },
   "file_extension": ".py",
   "mimetype": "text/x-python",
   "name": "python",
   "nbconvert_exporter": "python",
   "pygments_lexer": "ipython3",
   "version": "3.7.7"
  }
 },
 "nbformat": 4,
 "nbformat_minor": 4
}
