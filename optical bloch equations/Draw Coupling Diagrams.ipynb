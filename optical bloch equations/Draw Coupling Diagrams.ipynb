{
 "cells": [
  {
   "cell_type": "code",
   "execution_count": 47,
   "id": "86eae1ce-09c6-49b5-a021-c383daa4642d",
   "metadata": {},
   "outputs": [],
   "source": [
    "import numpy as np\n",
    "from centrex_TlF_hamiltonian import states, hamiltonian\n",
    "import matplotlib.pyplot as plt"
   ]
  },
  {
   "cell_type": "code",
   "execution_count": 48,
   "id": "931bc3da-0f63-49ee-b795-c206aadc7ff2",
   "metadata": {},
   "outputs": [],
   "source": [
    "qn_select = states.QuantumSelector(J=1, electronic=states.ElectronicState.X)\n",
    "ground_states = states.generate_coupled_states_X(qn_select)\n",
    "ground_states, H_X = hamiltonian.generate_reduced_X_hamiltonian(ground_states, Jmin = 0, Jmax = 3)"
   ]
  },
  {
   "cell_type": "code",
   "execution_count": 51,
   "id": "1c1acc6e-c0de-4e48-afae-8931f43d7564",
   "metadata": {},
   "outputs": [],
   "source": [
    "qn_select = states.QuantumSelector(J=1, F=0, F1=1/2, electronic=states.ElectronicState.B, P=+1, Ω=1)\n",
    "excited_states = states.generate_coupled_states_B(qn_select)\n",
    "excited_states, H_B = hamiltonian.generate_reduced_X_hamiltonian(excited_states, Jmin = 0, Jmax = 3)"
   ]
  },
  {
   "cell_type": "code",
   "execution_count": 52,
   "id": "2ef753ae-50dd-4fb6-b388-dd74664dd5a4",
   "metadata": {},
   "outputs": [],
   "source": [
    "energies_ground = (np.diag(H_X) - H_X[0,0]).real / (2*np.pi)"
   ]
  },
  {
   "cell_type": "code",
   "execution_count": 53,
   "id": "24f71a0b-cc54-413c-8604-81e2b0bc2c4f",
   "metadata": {},
   "outputs": [],
   "source": [
    "energies_excited = (np.diag(H_B) - H_B[0,0]).real / (2*np.pi)"
   ]
  },
  {
   "cell_type": "code",
   "execution_count": 62,
   "id": "9214c562-0182-4fd3-885d-e024e863e6bb",
   "metadata": {},
   "outputs": [],
   "source": [
    "def group_sublevels(energies, atol=5e3):\n",
    "    atol = 5e3 # 5 kHz \n",
    "    indices = []\n",
    "    for energy in energies:\n",
    "        indices.append(tuple(np.where(np.isclose(energy, energies, atol = atol))[0]))\n",
    "    indices = set(indices)\n",
    "    return indices"
   ]
  },
  {
   "cell_type": "code",
   "execution_count": 150,
   "id": "704c77fc-fa5c-42ec-aa3f-bd9c4576722a",
   "metadata": {},
   "outputs": [],
   "source": [
    "indices_ground = group_sublevels(energies_ground)\n",
    "indices_excited = group_sublevels(energies_excited)\n",
    "indices_ground_involved = [1,3,4,6]"
   ]
  },
  {
   "cell_type": "code",
   "execution_count": 345,
   "id": "40f05c54-6f29-441e-9399-6c83832f1548",
   "metadata": {},
   "outputs": [],
   "source": [
    "def plot_levels(\n",
    "    indices, energies, states_array, indices_involved = None,\n",
    "    ax = None, energy_scaling = 1e3, color = 'k', \n",
    "    x_offset = None, y_offset = None, \n",
    "    lw = 5\n",
    "):\n",
    "    if ax is None:\n",
    "        fig, _ax = plt.subplots(figsize = (8,5))\n",
    "    else:\n",
    "        _ax = ax\n",
    "    _y_offset = 0 if y_offset is None else y_offset\n",
    "    _x_offset = 0 if x_offset is None else x_offset\n",
    "        \n",
    "    for inds in indices:\n",
    "        for idx in inds:\n",
    "            state = states_array[idx].largest\n",
    "            mF = state.mF\n",
    "            if indices_involved is not None:\n",
    "                alpha = 1.0 if idx in indices_involved else 0.5\n",
    "            else:\n",
    "                alpha = 1.0\n",
    "            _ax.hlines(\n",
    "                energies[idx]/energy_scaling + _y_offset/energy_scaling, \n",
    "                mF-0.25 + _x_offset, mF+0.25 + _x_offset, \n",
    "                colors = color, linestyles = '-', lw = lw,\n",
    "                alpha = alpha\n",
    "            )\n",
    "    if ax is None:\n",
    "        return fig, _ax"
   ]
  },
  {
   "cell_type": "code",
   "execution_count": 346,
   "id": "42cb8cbe-6473-4373-b0af-329f6566db01",
   "metadata": {},
   "outputs": [
    {
     "data": {
      "image/png": "[encoded data removed]",
      "text/plain": [
       "<Figure size 576x360 with 1 Axes>"
      ]
     },
     "metadata": {
      "needs_background": "light"
     },
     "output_type": "display_data"
    }
   ],
   "source": [
    "fig, ax = plot_levels(\n",
    "    indices_ground, energies_ground, ground_states, indices_involved = indices_ground_involved,\n",
    "    lw = 4, color = 'C0'\n",
    ")\n",
    "plot_levels(indices_excited, energies_excited, excited_states, ax = ax, color = 'C1', y_offset = 400e3, lw = 4)"
   ]
  },
  {
   "cell_type": "code",
   "execution_count": 347,
   "id": "83487d1a-78bd-49cc-99bc-4d5098f1abf4",
   "metadata": {},
   "outputs": [],
   "source": [
    "from dataclasses import dataclass\n",
    "from typing import Optional\n",
    "\n",
    "@dataclass\n",
    "class CouplingArrow:\n",
    "    index_ground: int\n",
    "    index_excited: int\n",
    "    x: float\n",
    "    y: float\n",
    "    dx: float\n",
    "    dy: float\n",
    "    yscaling: float\n",
    "    start_offset: float\n",
    "    head_offset: float\n",
    "    color: str\n",
    "    head_width: Optional[float] = None\n",
    "    head_length: Optional[float] = None\n",
    "    lw: float = 3\n",
    "    \n",
    "    def draw(self, ax):\n",
    "        x,y = self.x, self.y\n",
    "        dx, dy = self.dx, self.dy\n",
    "        y /= self.yscaling\n",
    "        dy /= self.yscaling\n",
    "        y += self.start_offset/self.yscaling\n",
    "        dy -= (self.start_offset + self.head_offset)/self.yscaling\n",
    "        ax.arrow(\n",
    "            x,y,dx,dy, \n",
    "            length_includes_head = True, head_width = self.head_width, head_length = self.head_length,\n",
    "            color = self.color, lw = self.lw\n",
    "        )\n",
    "        \n",
    "    @property\n",
    "    def vector(self):\n",
    "        return np.array([self.dx, self.dy])"
   ]
  },
  {
   "cell_type": "code",
   "execution_count": 348,
   "id": "a24582df-ff5f-4326-8903-4f483879601b",
   "metadata": {},
   "outputs": [],
   "source": [
    "def sort_xy(x, y):\n",
    "    x0 = np.mean(x)\n",
    "    y0 = np.mean(y)\n",
    "    \n",
    "    r = np.sqrt((x-x0)**2 + (y-y0)**2)\n",
    "    \n",
    "    # angles = np.arctan2(y-y0, x-x0)\n",
    "    # angles = np.arctan2(x-x0, y-y0)\n",
    "    angles = np.where((y-y0) > 0, np.arccos((x-x0)/r), 2*np.pi-np.arccos((x-x0)/r))\n",
    "\n",
    "    mask = np.argsort(angles)\n",
    "    \n",
    "    indices_pi2 = np.where(angles < np.pi/2)[0]\n",
    "    order = np.argsort(angles[indices_pi2])[::-1]\n",
    "    indices_pi2 = indices_pi2[order]\n",
    "    \n",
    "    for idx in indices_pi2:\n",
    "        mask  = np.delete(mask, np.where(mask == idx)[0])\n",
    "    mask = np.append(mask, indices_pi2)\n",
    "\n",
    "    # x_sorted = x[mask]\n",
    "    # y_sorted = y[mask]\n",
    "\n",
    "    return mask"
   ]
  },
  {
   "cell_type": "code",
   "execution_count": 349,
   "id": "d3d11cec-800e-4b9b-b3d4-526fbc60d59d",
   "metadata": {},
   "outputs": [],
   "source": [
    "def get_angle(vec1, vec2):\n",
    "    return np.arccos(vec1@vec2 / (np.linalg.norm(vec1) * np.linalg.norm(vec2)))"
   ]
  },
  {
   "cell_type": "code",
   "execution_count": 362,
   "id": "a8a1a635-15f0-4128-8193-8a33fd03d237",
   "metadata": {},
   "outputs": [
    {
     "data": {
      "image/png": "[encoded data removed]",
      "text/plain": [
       "<Figure size 576x360 with 1 Axes>"
      ]
     },
     "metadata": {
      "needs_background": "light"
     },
     "output_type": "display_data"
    }
   ],
   "source": [
    "couplings = [(1,0),(4,0),(3,0),(6,0)]\n",
    "y_offset = 400e3\n",
    "x_offset = 0\n",
    "arrow_width = 3\n",
    "head_width = 0.1\n",
    "head_length = 20\n",
    "energy_scaling = 1e3\n",
    "head_offset = 10e3\n",
    "start_offset = 10e3\n",
    "arrow_color = 'k'\n",
    "\n",
    "fig, ax = plot_levels(\n",
    "    indices_ground, energies_ground, ground_states, indices_involved = indices_ground_involved,\n",
    "    lw = 4, color = 'C0'\n",
    ")\n",
    "plot_levels(\n",
    "    indices_excited, energies_excited, excited_states, ax = ax, color = 'C1', \n",
    "    x_offset = x_offset, y_offset = y_offset, lw = 4)\n",
    "\n",
    "arrows = []\n",
    "\n",
    "for idg,ide in couplings:\n",
    "    gs = ground_states[idg].largest\n",
    "    es = excited_states[ide].largest\n",
    "    mFg, mFe = gs.mF, es.mF\n",
    "    x,y = mFg, energies_ground[idg]\n",
    "    dx = mFe-mFg + x_offset\n",
    "    dy = energies_excited[ide] + offset - y\n",
    "    \n",
    "    arrows.append(\n",
    "        CouplingArrow(\n",
    "            idg,ide,x,y,dx,dy,energy_scaling,\n",
    "            start_offset,head_offset,arrow_color,\n",
    "            head_width,head_length)\n",
    "    )\n",
    "    \n",
    "indices, counts = np.unique([arrow.index_excited for arrow in arrows], return_counts = True)\n",
    "arrows_per_level = {idx:c for idx,c in zip(indices, counts)}\n",
    "arrows_plotted_per_level = {idx:0 for idx in arrows_per_level.keys()}\n",
    "\n",
    "mask = np.argsort([get_angle(arrow.vector, np.array([1.0, 0])) for arrow in arrows])\n",
    "\n",
    "for arrow in np.asarray(arrows)[mask]:\n",
    "    ide = arrow.index_excited\n",
    "    nr_level = arrows_per_level[ide]\n",
    "    if nr_level > 1:\n",
    "        dx = 0.5/(nr_level-1)\n",
    "        arrow.dx += -(0.5/2) + dx*arrows_plotted_per_level[ide]\n",
    "        arrow.draw(ax)\n",
    "        arrows_plotted_per_level[ide] += 1"
   ]
  },
  {
   "cell_type": "code",
   "execution_count": null,
   "id": "57897cac-5bf9-42ea-a3ae-97f01e35367a",
   "metadata": {},
   "outputs": [],
   "source": [
    "import matplotlib as mpl\n",
    "import matplotlib.path as mpath\n",
    "import matplotlib.patches as mpatches\n",
    "\n",
    "def curly_arrow(start, end, arr_size = 1, n = 5, col='gray', linew=1., width = 0.1):\n",
    "    xmin, ymin = start\n",
    "    xmax, ymax = end\n",
    "    dist = np.sqrt((xmin - xmax)**2 + (ymin - ymax)**2)\n",
    "    n0 = dist / (2 * np.pi)\n",
    "    \n",
    "    x = np.linspace(0, dist, 151) + xmin\n",
    "    y = width * np.sin(n * x / n0) + ymin\n",
    "    line = plt.Line2D(x,y, color=col, lw=linew)\n",
    "    \n",
    "    del_x = xmax - xmin\n",
    "    del_y = ymax - ymin\n",
    "    ang = np.arctan2(del_y, del_x)\n",
    "    \n",
    "    line.set_transform(mpl.transforms.Affine2D().rotate_around(xmin, ymin, ang) + ax.transData)\n",
    "    ax.add_line(line)\n",
    "\n",
    "    verts = np.array([[0,1],[0,-1],[2,0],[0,1]]).astype(float) * arr_size\n",
    "    verts[:,1] += ymax\n",
    "    verts[:,0] += xmax\n",
    "    path = mpath.Path(verts)\n",
    "    patch = mpatches.PathPatch(path, fc=col, ec=col)\n",
    "\n",
    "    patch.set_transform(mpl.transforms.Affine2D().rotate_around(xmax, ymax, ang) + ax.transData)\n",
    "    return patch"
   ]
  },
  {
   "cell_type": "code",
   "execution_count": null,
   "id": "4df6aeb0-c2f6-4dfa-b98f-e3d46ce12647",
   "metadata": {},
   "outputs": [],
   "source": []
  }
 ],
 "metadata": {
  "kernelspec": {
   "display_name": "Python 3 (ipykernel)",
   "language": "python",
   "name": "python3"
  },
  "language_info": {
   "codemirror_mode": {
    "name": "ipython",
    "version": 3
   },
   "file_extension": ".py",
   "mimetype": "text/x-python",
   "name": "python",
   "nbconvert_exporter": "python",
   "pygments_lexer": "ipython3",
   "version": "3.8.13"
  }
 },
 "nbformat": 4,
 "nbformat_minor": 5
}
