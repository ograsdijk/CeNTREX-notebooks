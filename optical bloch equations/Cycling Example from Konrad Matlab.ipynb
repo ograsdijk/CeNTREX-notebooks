{
 "cells": [
  {
   "cell_type": "code",
   "execution_count": 1,
   "metadata": {},
   "outputs": [],
   "source": [
    "import numpy as np\n",
    "import scipy.constants as cst\n",
    "import matplotlib.pyplot as plt\n",
    "from sympy.physics.wigner import wigner_3j, wigner_6j, wigner_9j"
   ]
  },
  {
   "cell_type": "code",
   "execution_count": 2,
   "metadata": {},
   "outputs": [],
   "source": [
    "time_of_flight = 100 # microseconds\n",
    "switching_freq = 15/100 # MHz\n",
    "no_switches = np.floor(time_of_flight*switching_freq)\n",
    "t_step = time_of_flight*1000/no_switches # ns"
   ]
  },
  {
   "cell_type": "markdown",
   "metadata": {},
   "source": [
    "physical constants"
   ]
  },
  {
   "cell_type": "code",
   "execution_count": 3,
   "metadata": {},
   "outputs": [],
   "source": [
    "hbar = cst.hbar\n",
    "k_B = cst.k\n",
    "c = cst.c\n",
    "eps_0 = cst.epsilon_0\n",
    "gamma = 1/99 # 1/lifetime of the excited state [GHz]\n",
    "a0 = cst.physical_constants['Bohr radius'][0] # m\n",
    "q_e = cst.e\n",
    "r_expval = 0.32*a0\n",
    "mu_r_expval = 5.22*r_expval"
   ]
  },
  {
   "cell_type": "code",
   "execution_count": 7,
   "metadata": {},
   "outputs": [],
   "source": [
    "def delta_kr(i,j):\n",
    "    if i == j:\n",
    "        return 1\n",
    "    else:\n",
    "        return 0"
   ]
  },
  {
   "cell_type": "code",
   "execution_count": 88,
   "metadata": {},
   "outputs": [],
   "source": [
    "def ThreeJSymbol(j1,m1,j2,m2,j3,m3):\n",
    "    \"\"\"\n",
    "    Purely here for compatibility of direct translation of Konrad's matlab code.\n",
    "    \"\"\"\n",
    "    return float(wigner_3j(j1,j2,j3,m1,m2,m3))\n",
    "\n",
    "def SixJSymbol(j1,j2,j3,j4,j5,j6):\n",
    "    \"\"\"\n",
    "    Purely here for compatibility of direct translation of Konrad's matlab code.\n",
    "    \"\"\"\n",
    "    return float(wigner_6j(j1,j2,j3,j4,j5,j6))\n",
    "\n",
    "def NineJSymbol(j1,j2,j3,j4,j5,j6,j7,j8,j9):\n",
    "    \"\"\"\n",
    "    Purely here for compatibility of direct translation of Konrad's matlab code.\n",
    "    \"\"\"\n",
    "    return float(wigner_9j(j1,j2,j3,j4,j5,j6,j7,j8,j9))"
   ]
  },
  {
   "cell_type": "code",
   "execution_count": 89,
   "metadata": {},
   "outputs": [],
   "source": [
    "def generate_states(J_ground, J_excited, parity):\n",
    "    \"\"\"\n",
    "    P=0 - e, P=1 - f (parity type of the excited state); Ground -> X1Sigma+, Excited B3Pi1\n",
    "    \"\"\"\n",
    "    G = []\n",
    "    E = []\n",
    "    for jg in J_ground:\n",
    "        if jg == 0:\n",
    "            # (X or B,J,W,F1,F,mF,parity type) \n",
    "            G=[[0,0,0,1/2,0,0,0],[0,0,0,1/2,1,-1,0],[0,0,0,1/2,1,0,0],[0,0,0,1/2,1,1,0]] \n",
    "        else:\n",
    "            W = 0\n",
    "            for F1 in [-1/2, 1/2]:\n",
    "                for F2 in [-1/2, 1/2]:\n",
    "                    F = jg+F1+F2\n",
    "                    for mF in np.arange(-F,F+1):\n",
    "                        G.append([0,jg,W,jg+F1,F,mF,0])\n",
    "    for je in J_excited:\n",
    "        if je == 0:\n",
    "            # (X or B, J,|W|,F1,F,mF,parity) \n",
    "            E=[[1,0,1,1/2,0,0,parity], [1,0,1,1/2,1,-1,parity], [1,0,1,1/2,1,0,parity], [1,0,1,1/2,1,1,parity]]  \n",
    "        else:\n",
    "            W = 1\n",
    "            for F1 in [-1/2,1/2]:\n",
    "                for F2 in [-1/2,1/2]:\n",
    "                    F = je+F1+F2\n",
    "                    for mF in np.arange(-F,F+1):\n",
    "                        E.append([1,je,W,je+F1,F,mF,parity])\n",
    "    return G,E"
   ]
  },
  {
   "cell_type": "code",
   "execution_count": 90,
   "metadata": {},
   "outputs": [],
   "source": [
    "def dipoleHelper(S, Mixing_M, ind):\n",
    "    st = []\n",
    "    if S[0] > 0:\n",
    "        if S[1] == 1:\n",
    "            for i in range(0,8):\n",
    "                if Mixing_M[ind, i] != 0:\n",
    "                    if i == 0:\n",
    "                        st.append([1, S[2], 1/2, 0, S[5], i])\n",
    "                    elif i == 1:\n",
    "                        st.append([1, S[2], 1/2, 1, S[5], i])\n",
    "                    elif i == 2:\n",
    "                        st.append([1, S[2], 3/2, 1, S[5], i])\n",
    "                    elif i == 3:\n",
    "                        st.append([1, S[2], 3/2, 2, S[5], i])\n",
    "                    elif i == 4:\n",
    "                        st.append([2, S[2], 3/2, 1, S[5], i])\n",
    "                    elif i == 5:\n",
    "                        st.append([2, S[2], 3/2, 2, S[5], i])\n",
    "                    elif i == 6:\n",
    "                        st.append([2, S[2], 5/2, 2, S[5], i])\n",
    "                    elif i == 8:\n",
    "                        st.append([3, S[2], 5/2, 2, S[5], i])\n",
    "        elif S[1] == 2:\n",
    "            for i in range(0,11):\n",
    "                if Mixing_M[ind, i] != 0:\n",
    "                    if i == 0:\n",
    "                        st.append([1, S[2], 1/2, 1, S[5], i])\n",
    "                    elif i == 1:\n",
    "                        st.append([1, S[2], 3/2, 1, S[5], i])\n",
    "                    elif i == 2:\n",
    "                        st.append([1, S[2], 3/2, 2, S[5], i])\n",
    "                    elif i == 3:\n",
    "                        st.append([2, S[2], 3/2, 1, S[5], i])\n",
    "                    elif i == 4:\n",
    "                        st.append([2, S[2], 3/2, 2, S[5], i])\n",
    "                    elif i == 5:\n",
    "                        st.append([2, S[2], 5/2, 2, S[5], i])\n",
    "                    elif i == 6:\n",
    "                        st.append([2, S[2], 5/2, 3, S[5], i])\n",
    "                    elif i == 7:\n",
    "                        st.append([3, S[2], 5/2, 2, S[5], i])\n",
    "                    elif i == 8:\n",
    "                        st.append([3, S[2], 5/2, 3, S[5], i])\n",
    "                    elif i == 9:\n",
    "                        st.append([3, S[2], 7/2, 3, S[5], i])\n",
    "                    elif i == 10:\n",
    "                        st.append([4, S[2], 7/2, 3, S[5], i])\n",
    "    else:\n",
    "        st.append([S[1], S[2], S[3], S[4], S[5]])\n",
    "    return st"
   ]
  },
  {
   "cell_type": "code",
   "execution_count": 193,
   "metadata": {},
   "outputs": [],
   "source": [
    "def dipoleTransitionMatrixElement(E,G,p,mixing):\n",
    "    \"\"\"\n",
    "    Wtf is p? Konrads code has absolutely no comments anywhere\n",
    "    \"\"\"\n",
    "    if not mixing:\n",
    "        Je, We, F1e, Fe, Me, Pe = E[1:]\n",
    "        Jg, Wg, F1g, Fg, Mg, Pg = G[1:]\n",
    "        \n",
    "        power = Fe-Me+Fg+F1g+F1e+2*Je-We+3\n",
    "        parg = (-1)**(Jg+Pg)\n",
    "        pare = (-1)**(Je+Pe)\n",
    "        delta = 1-delta_kr(parg,pare)\n",
    "            \n",
    "        s = 0\n",
    "        for q in [-1,0,1]:\n",
    "            if (Wg != 0) & (We != 0):\n",
    "                s += ThreeJSymbol(Je,-We,1,q,Jg,Wg)+(-1)**Pe*ThreeJSymbol(Je,We,1,q,Jg,Wg)+(-1)**Pg*ThreeJSymbol(Je,-We,1,q,Jg,-Wg)+(-1)**(Pg+Pe)*ThreeJSymbol(Je,We,1,q,Jg,-Wg)\n",
    "            elif (Wg == 0) & (We != 0):\n",
    "                s += np.sqrt(2)*(ThreeJSymbol(Je,-We,1,q,Jg,Wg)+(-1)**Pe*ThreeJSymbol(Je,We,1,q,Jg,Wg))\n",
    "            elif (Wg != 0) & (We == 0):\n",
    "                s += np.sqrt(2)*(ThreeJSymbol(Je,-We,1,q,Jg,Wg)+(-1)**Pg*ThreeJSymbol(Je,-We,1,q,Jg,-Wg));\n",
    "            else:\n",
    "                s += 2*ThreeJSymbol(Je,-We,1,q,Jg,Wg)\n",
    "        x = ((-1)**power)*delta*s*np.sqrt((2*Fg+1)*(2*Jg+1)*(2*Fe+1)*(2*Je+1)*(2*F1g+1)*(2*F1e+1)) \\\n",
    "                         *ThreeJSymbol(Fe,-Me,1,p,Fg,Mg) \\\n",
    "                         *SixJSymbol(Jg,F1g,1/2,F1e,Je,1) \\\n",
    "                         *SixJSymbol(F1g,Fg,1/2,Fe,F1e,1)*1/2\n",
    "    if mixing:\n",
    "        x = 0\n",
    "        \n",
    "        if ((E[0] > 0) & (E[1] == 1)) | ((G[0] > 0) & (G[1] == 1)):\n",
    "            Mixing_M = np.zeros([4,8])\n",
    "            Mixing_M[0,:] = [1,0,0,0,0,0,0,0] # E. Norrgard et al.\n",
    "            Mixing_M[1,:] = [0,0.9996,0.0203,0,0.018,0,0,0]\n",
    "            Mixing_M[2,:] = [0,0.0267,-0.8519,0,-0.5231,0,0,0]\n",
    "            Mixing_M[3,:] = [0,0,0,0.8483,0,0.5293,0.0138,0.0064]\n",
    "        elif ((E[0] > 0) & (E[1] == 2)) | ((G[0] > 0) & (G[1] == 2)):\n",
    "            Mixing_M = np.zeros([4,11]);  # |J,F1,F>: |1,1/2,1>,|1,3/2,1>,|1,3/2,2>,|2,3/2,1>,|2,3/2,2>,|2,5/2,2>,|2,5/2,3>,|3,5/2,2>,|3,5/2,3>,|3,7/2,3>,|4,7/2,3>\n",
    "            Mixing_M[0,:] = [-0.0048,-0.5235,0,0.8521,0,0,0,0,0,0,0]\n",
    "            Mixing_M[1,:] = [0,0,0.5294,0,-0.8483,-0.0011,0,-0.0103,0,0,0]\n",
    "            Mixing_M[2,:] = [0,0,0.0103,0,0.012,-0.9353,0,-0.3534,0,0,0]\n",
    "            Mixing_M[3,:] = [0,0,0,0,0,0,0.9342,0,0.3568,0.01,0.0032]\n",
    "            \n",
    "        e_ind = 0\n",
    "        g_ind = 0\n",
    "        if E[1] == 1:\n",
    "            if E[3] == 1/2:\n",
    "                e_ind = 0 if E[4] == 0 else 1\n",
    "            else:\n",
    "                e_ind = 2 if E[4] == 1 else 3\n",
    "        elif E[1] == 2:\n",
    "            if E[3] == 3/2:\n",
    "                e_ind = 0 if E[4] == 1 else 1\n",
    "            else:\n",
    "                e_ind = 2 if E[4] == 2 else 3\n",
    "\n",
    "        if G[1] == 1:\n",
    "            if G[3] == 1/2:\n",
    "                g_ind = 0 if G[4] == 0 else 1\n",
    "            else:\n",
    "                g_ind = 2 if G[4] == 1 else 3\n",
    "        elif G[1] == 2:\n",
    "            if G[3] == 3/2:\n",
    "                g_ind = 0 if G[4] == 1 else 1\n",
    "            else:\n",
    "                g_ind = 2 if G[4] == 2 else 3\n",
    "        \n",
    "        \n",
    "        E_st = dipoleHelper(E, Mixing_M, e_ind)\n",
    "        G_st = dipoleHelper(G, Mixing_M, g_ind)\n",
    "        \n",
    "        for i,e_st in enumerate(E_st):\n",
    "            for j,g_st in enumerate(G_st):\n",
    "                Je, We, F1e, Fe, Me = e_st[:5]\n",
    "                Jg, Wg, F1g, Fg, Mg = g_st[:5]\n",
    "                Pe_mixed = E[6]\n",
    "                Pg_mixed = E[6]\n",
    "                                \n",
    "                Je_mixed = E[1]\n",
    "                Jg_mixed = G[1]\n",
    "                \n",
    "                Pe = Je-Je_mixed+Pe_mixed % 2\n",
    "                Pg = Jg-Jg_mixed+Pg_mixed % 2\n",
    "\n",
    "                power = Fe-Me+Fg+F1g+F1e+2*Je-We+3\n",
    "                parg = (-1)**(Jg_mixed+Pg_mixed)\n",
    "                pare = (-1)**(Je_mixed+Pe_mixed)\n",
    "                delta = 1-delta_kr(parg,pare)\n",
    "                \n",
    "                if delta == 0:\n",
    "                    print('delta = 0')\n",
    "                    continue\n",
    "                \n",
    "                s = 0\n",
    "                for q in [-1,0,1]:\n",
    "                    if (Wg != 0) & (We != 0):\n",
    "                        print('1')\n",
    "                        s += ThreeJSymbol(Je,-We,1,q,Jg,Wg) \\\n",
    "                           + (-1)**Pe*ThreeJSymbol(Je,We,1,q,Jg,Wg) \\\n",
    "                           + (-1)**Pg*ThreeJSymbol(Je,-We,1,q,Jg,-Wg) \\\n",
    "                           + (-1)**(Pg+Pe)*ThreeJSymbol(Je,We,1,q,Jg,-Wg)\n",
    "                    elif (Wg == 0) & (We != 0):\n",
    "                        print('2')\n",
    "                        s += np.sqrt(2)*(ThreeJSymbol(Je,-We,1,q,Jg,Wg) \\\n",
    "                                         + (-1)**Pe*ThreeJSymbol(Je,We,1,q,Jg,Wg))\n",
    "                    elif (Wg != 0) & (We == 0):\n",
    "                        print('3')\n",
    "                        s += np.sqrt(2)*(ThreeJSymbol(Je,-We,1,q,Jg,Wg) \\\n",
    "                                         + (-1)**Pg*ThreeJSymbol(Je,-We,1,q,Jg,-Wg))\n",
    "                    else:\n",
    "                        print('4')\n",
    "                        s += 2*ThreeJSymbol(Je,-We,1,q,Jg,Wg)\n",
    "                partial_x = ((-1)**power)*delta*s*np.sqrt((2*Fg+1)*(2*Jg+1)*(2*Fe+1)*(2*Je+1)*(2*F1g+1)*(2*F1e+1)) \\\n",
    "                                         *ThreeJSymbol(Fe,-Me,1,p,Fg,Mg) \\\n",
    "                                         *SixJSymbol(Jg,F1g,1/2,F1e,Je,1) \\\n",
    "                                         *SixJSymbol(F1g,Fg,1/2,Fe,F1e,1)*1/2\n",
    "                print(partial_x)\n",
    "                \n",
    "                if (E[0] > 0) & (G[0] == 0):\n",
    "                    x += partial_x*Mixing_M[e_ind, e_st[5]]\n",
    "                elif ((E[0] == 0) & (G[0] > 0)):\n",
    "                    x += partial_x*Mixing_M[g_ind, g_st[5]]\n",
    "                elif ((E[0] > 0) & (G[0] > 0)):\n",
    "                    x += partial_x*Mixing_M[g_ind, g_st[5]]*Mixing_M[e_ind, e_st[5]]\n",
    "                else:\n",
    "                    x = partial_x\n",
    "    return x"
   ]
  },
  {
   "cell_type": "markdown",
   "metadata": {},
   "source": [
    "### states"
   ]
  },
  {
   "cell_type": "code",
   "execution_count": 194,
   "metadata": {},
   "outputs": [],
   "source": [
    "J_g = [0,1,3]\n",
    "J_e = [1]\n",
    "\n",
    "ground_states, excited_states = generate_states(J_g, J_e, 1)"
   ]
  },
  {
   "cell_type": "code",
   "execution_count": 195,
   "metadata": {},
   "outputs": [
    {
     "name": "stdout",
     "output_type": "stream",
     "text": [
      "3\n",
      "3\n",
      "3\n",
      "0.0 0.408248290463863 -0.3333333333333333\n",
      "0.0\n",
      "3\n",
      "3\n",
      "3\n",
      "0.0 -0.408248290463863 -0.16666666666666666\n",
      "0.0\n",
      "3\n",
      "3\n",
      "3\n",
      "0.0 0.0 -0.16666666666666666\n",
      "-0.0\n"
     ]
    },
    {
     "data": {
      "text/plain": [
       "0.0"
      ]
     },
     "execution_count": 195,
     "metadata": {},
     "output_type": "execute_result"
    }
   ],
   "source": [
    "dipoleTransitionMatrixElement(ground_states[3],excited_states[1], p = 1, mixing = True)"
   ]
  },
  {
   "cell_type": "code",
   "execution_count": 147,
   "metadata": {},
   "outputs": [
    {
     "name": "stdout",
     "output_type": "stream",
     "text": [
      "-4.71e-01\n",
      "-3.33e-01\n",
      "4.71e-01\n",
      "4.71e-01\n",
      "-1.67e-01\n",
      "-1.67e-01\n",
      "4.71e-01\n",
      "-1.67e-01\n",
      "-2.89e-01\n",
      "-4.08e-01\n",
      "3.33e-01\n",
      "-1.67e-01\n",
      "5.89e-01\n",
      "-1.18e-01\n",
      "-1.67e-01\n",
      "5.89e-01\n",
      "-2.04e-01\n",
      "-2.89e-01\n",
      "4.08e-01\n",
      "2.89e-01\n",
      "5.00e-01\n",
      "2.89e-01\n",
      "2.04e-01\n",
      "6.12e-01\n",
      "1.67e-01\n",
      "1.18e-01\n",
      "6.12e-01\n",
      "5.00e-01\n"
     ]
    }
   ],
   "source": [
    "from itertools import product\n",
    "for g,e in product(ground_states, excited_states):\n",
    "    val = dipoleTransitionMatrixElement(e, g, 1, False)\n",
    "    if val != 0:\n",
    "        print(f'{val:.2e}')"
   ]
  },
  {
   "cell_type": "code",
   "execution_count": 161,
   "metadata": {},
   "outputs": [],
   "source": [
    "from scipy.signal import square"
   ]
  },
  {
   "cell_type": "code",
   "execution_count": 171,
   "metadata": {},
   "outputs": [
    {
     "data": {
      "text/plain": [
       "[<matplotlib.lines.Line2D at 0x1ab334959c8>]"
      ]
     },
     "execution_count": 171,
     "metadata": {},
     "output_type": "execute_result"
    },
    {
     "data": {
      "image/png": "[encoded data removed]",
      "text/plain": [
       "<Figure size 432x288 with 1 Axes>"
      ]
     },
     "metadata": {
      "needs_background": "light"
     },
     "output_type": "display_data"
    }
   ],
   "source": [
    "f = 5\n",
    "t = np.linspace(0,5,501)\n",
    "plt.plot(t, square(t*f, duty = 0.5))\n",
    "plt.plot(t, square(-t*f, duty = 0.5))"
   ]
  },
  {
   "cell_type": "code",
   "execution_count": null,
   "metadata": {},
   "outputs": [],
   "source": []
  }
 ],
 "metadata": {
  "kernelspec": {
   "display_name": "Python 3",
   "language": "python",
   "name": "python3"
  },
  "language_info": {
   "codemirror_mode": {
    "name": "ipython",
    "version": 3
   },
   "file_extension": ".py",
   "mimetype": "text/x-python",
   "name": "python",
   "nbconvert_exporter": "python",
   "pygments_lexer": "ipython3",
   "version": "3.7.7"
  }
 },
 "nbformat": 4,
 "nbformat_minor": 4
}
