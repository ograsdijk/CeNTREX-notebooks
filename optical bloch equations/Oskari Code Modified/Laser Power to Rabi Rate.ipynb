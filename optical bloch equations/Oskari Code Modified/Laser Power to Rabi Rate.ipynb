{
 "cells": [
  {
   "cell_type": "code",
   "execution_count": 1,
   "metadata": {},
   "outputs": [],
   "source": [
    "import numpy as np\n",
    "import astropy.units as units\n",
    "import astropy.constants as csts\n",
    "import scipy.constants as constants"
   ]
  },
  {
   "cell_type": "code",
   "execution_count": 2,
   "metadata": {},
   "outputs": [],
   "source": [
    "@units.quantity_input\n",
    "def calc_D_eff(Gamma: units.Hz, frequency: units.Hz):\n",
    "    c = csts.c\n",
    "    e0 = csts.eps0\n",
    "    hbar = csts.hbar\n",
    "    return np.sqrt( (Gamma) * 3*np.pi * e0 *hbar * c**3 / (2*np.pi * frequency)**3 ).decompose()"
   ]
  },
  {
   "cell_type": "code",
   "execution_count": 3,
   "metadata": {},
   "outputs": [
    {
     "data": {
      "text/latex": [
       "$2.6675506 \\times 10^{-30} \\; \\mathrm{A\\,m\\,s}$"
      ],
      "text/plain": [
       "<Quantity 2.66755059e-30 A m s>"
      ]
     },
     "execution_count": 3,
     "metadata": {},
     "output_type": "execute_result"
    }
   ],
   "source": [
    "# Calculate effective dipole moment for the optical transitions\n",
    "Gamma = units.Hz/100e-9 #Natural linewidth in 2*pi*Hz\n",
    "f = units.Hz * csts.c.value/271.7e-9\n",
    "D_eff = calc_D_eff(Gamma, f)\n",
    "D_eff"
   ]
  },
  {
   "cell_type": "code",
   "execution_count": 4,
   "metadata": {},
   "outputs": [
    {
     "data": {
      "text/latex": [
       "$25295.106 \\; \\mathrm{\\frac{Hz\\,cm}{V}}$"
      ],
      "text/plain": [
       "<Quantity 25295.10597251 cm Hz / V>"
      ]
     },
     "execution_count": 4,
     "metadata": {},
     "output_type": "execute_result"
    }
   ],
   "source": [
    "# Oskari uses Hz/(V/cm), assuming [mmomentum] = h/[length]\n",
    "conv_Ams_to_HzVcm = 1/constants.hbar * units.Hz/(units.V/units.cm)\n",
    "D_eff_HzVcm = D_eff.value*conv_Ams_to_HzVcm\n",
    "D_eff_HzVcm"
   ]
  },
  {
   "cell_type": "markdown",
   "metadata": {},
   "source": [
    "The Rabi frequency is defined as  \n",
    "$\\Omega_{i,j} = \\frac{\\vec{d}_{i,j}\\cdot \\vec{E}_0}{\\hbar}$  \n",
    "where $\\vec{d}_{i,j}$ is the transition dipole and $\\vec{E}_0$ is the vector electric field magnitude.\n",
    "\n",
    "The laser intensity given by $I = \\frac{cn\\epsilon_0}{2}|E|^2$, which is converted to power by integrating over the area of the laser beam."
   ]
  },
  {
   "cell_type": "code",
   "execution_count": 5,
   "metadata": {},
   "outputs": [],
   "source": [
    "@units.quantity_input\n",
    "def calculate_power_needed(Omega: units.Hz, ME, fwhm: units.m, D_TlF: units.Hz/(units.V/units.cm)):\n",
    "    \"\"\"\n",
    "    Function to calculate the power required to get peak Rabi rate Omega\n",
    "    for a transition with given matrix element with a gaussian spatial profile\n",
    "    \"\"\"\n",
    "    c = csts.c\n",
    "    epsilon_0 = csts.eps0\n",
    "    \n",
    "    #Calculate the electric field required\n",
    "    # need the factor 2pi due to the conversion to Hz\n",
    "    E =  Omega/(ME*D_TlF)\n",
    "\n",
    "    #Convert E to peak intensity\n",
    "    I = 1/2 * c * epsilon_0 * E**2\n",
    "\n",
    "    #Convert FWHM to standard deviation\n",
    "    sigma = fwhm/(2*np.sqrt(2*np.log(2)))\n",
    "\n",
    "    #Convert power to amplitude of the Gaussian\n",
    "    P = I * (2*np.pi *sigma**2)\n",
    "\n",
    "    return P.to(units.W)"
   ]
  },
  {
   "cell_type": "code",
   "execution_count": 6,
   "metadata": {},
   "outputs": [
    {
     "data": {
      "text/latex": [
       "$201.97161 \\; \\mathrm{W}$"
      ],
      "text/plain": [
       "<Quantity 201.97160624 W>"
      ]
     },
     "execution_count": 6,
     "metadata": {},
     "output_type": "execute_result"
    }
   ],
   "source": [
    "# ME_main is the coupling element from the main ground state to the main excited state\n",
    "ME_main = -0.39444661441301954+0j\n",
    "calculate_power_needed(4.5*Gamma*ME_main.real, ME_main.real, 2.06e-3*units.m, D_eff_HzVcm)"
   ]
  },
  {
   "cell_type": "code",
   "execution_count": 7,
   "metadata": {},
   "outputs": [],
   "source": [
    "@units.quantity_input\n",
    "def calculate_power_needed(Omega: units.Hz, ME, fwhm: units.m, D_TlF: units.A*units.s*units.m):\n",
    "    \"\"\"\n",
    "    Function to calculate the power required to get peak Rabi rate Omega\n",
    "    for a transition with given matrix element with a gaussian spatial profile\n",
    "    \"\"\"\n",
    "    c = csts.c\n",
    "    epsilon_0 = csts.eps0\n",
    "    \n",
    "    #Calculate the electric field required\n",
    "    E =  Omega*csts.hbar/(ME*D_TlF)\n",
    "\n",
    "    #Convert E to peak intensity\n",
    "    I = 1/2 * c * epsilon_0 * E**2\n",
    "\n",
    "    #Convert FWHM to standard deviation\n",
    "    sigma = fwhm/(2*np.sqrt(2*np.log(2)))\n",
    "\n",
    "    #Convert power to amplitude of the Gaussian\n",
    "    P = I * (2*np.pi *sigma**2)\n",
    "\n",
    "    return P.to(units.W)"
   ]
  },
  {
   "cell_type": "code",
   "execution_count": 8,
   "metadata": {},
   "outputs": [
    {
     "data": {
      "text/latex": [
       "$0.020197161 \\; \\mathrm{W}$"
      ],
      "text/plain": [
       "<Quantity 0.02019716 W>"
      ]
     },
     "execution_count": 8,
     "metadata": {},
     "output_type": "execute_result"
    }
   ],
   "source": [
    "calculate_power_needed(4.5*Gamma*ME_main.real, ME_main.real, 2.06e-3*units.m, D_eff)"
   ]
  },
  {
   "cell_type": "code",
   "execution_count": 9,
   "metadata": {},
   "outputs": [
    {
     "data": {
      "text/plain": [
       "39.47841760435743"
      ]
     },
     "execution_count": 9,
     "metadata": {},
     "output_type": "execute_result"
    }
   ],
   "source": [
    "(np.pi*2)**2"
   ]
  },
  {
   "cell_type": "markdown",
   "metadata": {},
   "source": [
    "Konrad's estimate uses a uniform circle to estimate the power, which corresponds to a $\\sqrt{2}$ factor in estimated Rabi rate.\n",
    "For $\\Omega = 4.5\\Gamma$ he retrieves 40 mW UV power."
   ]
  },
  {
   "cell_type": "code",
   "execution_count": 10,
   "metadata": {},
   "outputs": [
    {
     "data": {
      "text/latex": [
       "$0.040394321 \\; \\mathrm{W}$"
      ],
      "text/plain": [
       "<Quantity 0.04039432 W>"
      ]
     },
     "execution_count": 10,
     "metadata": {},
     "output_type": "execute_result"
    }
   ],
   "source": [
    "calculate_power_needed(4.5*Gamma*np.sqrt(2)*ME_main.real, ME_main.real, 2.06e-3*units.m, D_eff)"
   ]
  },
  {
   "cell_type": "code",
   "execution_count": 11,
   "metadata": {},
   "outputs": [],
   "source": [
    "@units.quantity_input\n",
    "def calculate_rabi_konrad(power: units.W, diameter: units.m, D_TlF: units.A*units.s*units.m):\n",
    "    c = csts.c\n",
    "    hbar = csts.hbar\n",
    "    eps0 = csts.eps0\n",
    "    return (D_TlF*np.sqrt(8*power/(np.pi*c*eps0*diameter**2))/hbar).to('Hz')"
   ]
  },
  {
   "cell_type": "code",
   "execution_count": 12,
   "metadata": {},
   "outputs": [
    {
     "data": {
      "text/latex": [
       "$44769660 \\; \\mathrm{Hz}$"
      ],
      "text/plain": [
       "<Quantity 44769659.90522188 Hz>"
      ]
     },
     "execution_count": 12,
     "metadata": {},
     "output_type": "execute_result"
    }
   ],
   "source": [
    "calculate_rabi_konrad(40*units.mW, 3.5*units.mm, D_eff)"
   ]
  },
  {
   "cell_type": "code",
   "execution_count": 13,
   "metadata": {},
   "outputs": [
    {
     "name": "stdout",
     "output_type": "stream",
     "text": [
      "Ω = 45533667.93 Hz\n",
      "Ω = 4.55 Γ\n"
     ]
    }
   ],
   "source": [
    "# Konrads conversion from power to Rabi rate Omega\n",
    "c = constants.c\n",
    "eps0 = constants.epsilon_0\n",
    "hbar = constants.hbar\n",
    "diam_L = 3.5e-3\n",
    "laser_power = 40e-3 # mW\n",
    "konrad_rabi = (constants.elementary_charge*csts.a0*0.32).value * np.sqrt(8*laser_power/(np.pi*c*eps0*diam_L**2))/hbar\n",
    "print(f'Ω = {konrad_rabi:.2f} Hz')\n",
    "print(f'Ω = {konrad_rabi/Gamma.value:.2f} Γ')"
   ]
  }
 ],
 "metadata": {
  "kernelspec": {
   "display_name": "Python 3",
   "language": "python",
   "name": "python3"
  },
  "language_info": {
   "codemirror_mode": {
    "name": "ipython",
    "version": 3
   },
   "file_extension": ".py",
   "mimetype": "text/x-python",
   "name": "python",
   "nbconvert_exporter": "python",
   "pygments_lexer": "ipython3",
   "version": "3.8.5"
  }
 },
 "nbformat": 4,
 "nbformat_minor": 4
}
