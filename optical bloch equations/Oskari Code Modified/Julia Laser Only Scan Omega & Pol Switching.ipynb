{
 "cells": [
  {
   "cell_type": "code",
   "execution_count": 1,
   "metadata": {},
   "outputs": [],
   "source": [
    "%load_ext autoreload\n",
    "%autoreload 2"
   ]
  },
  {
   "cell_type": "code",
   "execution_count": 2,
   "metadata": {},
   "outputs": [],
   "source": [
    "import sys\n",
    "import pickle\n",
    "import numpy as np\n",
    "import scipy.signal as signal\n",
    "import matplotlib.pyplot as plt\n",
    "from sympy.physics.wigner import wigner_3j, wigner_6j\n",
    "\n",
    "sys.path.append('./molecular-state-classes-and-functions/')\n",
    "from classes import UncoupledBasisState, CoupledBasisState, State"
   ]
  },
  {
   "cell_type": "code",
   "execution_count": 3,
   "metadata": {},
   "outputs": [],
   "source": [
    "from functions import find_state_idx_from_state, make_transform_matrix\n",
    "from functions import make_hamiltonian, make_hamiltonian_B, make_QN, ni_range, vector_to_state, matrix_to_states\n",
    "from state_functions import find_exact_states, calculate_BR\n",
    "from hamiltonian_functions import reduced_basis_hamiltonian\n",
    "from laser_functions import optical_coupling_matrix, ED_ME_mixed_state, calculate_power_needed, laser_field\n",
    "from collapse_functions import collapse_matrices\n",
    "from density_functions import generate_density_matrix"
   ]
  },
  {
   "cell_type": "markdown",
   "metadata": {},
   "source": [
    "## X State Hamiltonian"
   ]
  },
  {
   "cell_type": "code",
   "execution_count": 4,
   "metadata": {},
   "outputs": [],
   "source": [
    "H_X_uc = make_hamiltonian(\"./stored_data/TlF_X_state_hamiltonian_J0to4.pickle\")"
   ]
  },
  {
   "cell_type": "code",
   "execution_count": 5,
   "metadata": {},
   "outputs": [],
   "source": [
    "Jmin = 0\n",
    "Jmax = 4\n",
    "I_F = 1/2\n",
    "I_Tl = 1/2\n",
    "QN_X = [CoupledBasisState(F,mF,F1,J,I_F,I_Tl, electronic_state='X', P = (-1)**J, Omega = 0)\n",
    "      for J  in ni_range(Jmin, Jmax+1)\n",
    "      for F1 in ni_range(np.abs(J-I_F),J+I_F+1)\n",
    "      for F in ni_range(np.abs(F1-I_Tl),F1+I_Tl+1)\n",
    "      for mF in ni_range(-F, F+1)\n",
    "     ]"
   ]
  },
  {
   "cell_type": "code",
   "execution_count": 6,
   "metadata": {},
   "outputs": [],
   "source": [
    "### Transform Hamiltonian to coupled basis ###\n",
    "#Load transform matrix\n",
    "with open(\"./stored_data/UC_to_C_j0to4.pickle\",\"rb\") as f:\n",
    "    S_trans = pickle.load(f)"
   ]
  },
  {
   "cell_type": "code",
   "execution_count": 7,
   "metadata": {},
   "outputs": [],
   "source": [
    "#Transform matrix\n",
    "E = np.array((0,0,0))\n",
    "B = np.array((0,0,0.001))\n",
    "H_X =  S_trans.conj().T @ H_X_uc(E, B) @ S_trans"
   ]
  },
  {
   "cell_type": "code",
   "execution_count": 8,
   "metadata": {},
   "outputs": [
    {
     "name": "stdout",
     "output_type": "stream",
     "text": [
      "+1.0000+0.0000j x |X, J = 0, F1 = 1/2, F = 1, mF = 0, I1 = 1/2, I2 = 1/2, P = 1, Omega = 0>\n"
     ]
    }
   ],
   "source": [
    "D, V = np.linalg.eigh(H_X)\n",
    "\n",
    "# Diagonalize the Hamiltonian\n",
    "H_X_diag = V.conj().T @ H_X @ V\n",
    "\n",
    "# Remove very small entries from V\n",
    "# V[np.abs(V) < 1e-5] = 0\n",
    "\n",
    "# New set of quantum numbers:\n",
    "QN_X_diag = matrix_to_states(V, QN_X)\n",
    "\n",
    "state = vector_to_state(V[:,1],QN_X)\n",
    "state.print_state()"
   ]
  },
  {
   "cell_type": "code",
   "execution_count": 9,
   "metadata": {},
   "outputs": [],
   "source": [
    "# Define what states are to be included in the simulation\n",
    "Js_g = [0,1,2]\n",
    "ground_states_approx = [1*CoupledBasisState(F,mF,F1,J,I_F,I_Tl, electronic_state='X', P = (-1)**J, Omega = 0)\n",
    "                  for J  in Js_g\n",
    "                  for F1 in ni_range(np.abs(J-I_F),J+I_F+1)\n",
    "                  for F in ni_range(np.abs(F1-I_Tl),F1+I_Tl+1)\n",
    "                  for mF in ni_range(-F, F+1)\n",
    "                 ]\n",
    "\n",
    "ground_states = find_exact_states(ground_states_approx, H_X_diag, QN_X_diag)"
   ]
  },
  {
   "cell_type": "code",
   "execution_count": 10,
   "metadata": {},
   "outputs": [],
   "source": [
    "H_X_red = reduced_basis_hamiltonian(QN_X_diag, H_X_diag, ground_states)\n",
    "\n",
    "# Set small off diagonal terms to zero\n",
    "H_X_red[np.abs(H_X_red) < 0.1] = 0"
   ]
  },
  {
   "cell_type": "markdown",
   "metadata": {},
   "source": [
    "## B State Hamiltonian"
   ]
  },
  {
   "cell_type": "code",
   "execution_count": 11,
   "metadata": {},
   "outputs": [],
   "source": [
    "H_B = make_hamiltonian_B(\"./stored_data/B_hamiltonians_symbolic_coupled_P_1to3.pickle\")"
   ]
  },
  {
   "cell_type": "code",
   "execution_count": 12,
   "metadata": {},
   "outputs": [],
   "source": [
    "Jmin = 1\n",
    "Jmax = 3\n",
    "I_F = 1/2\n",
    "I_Tl = 1/2\n",
    "Ps = [-1, 1]\n",
    "QN_B = [CoupledBasisState(F,mF,F1,J,I_F,I_Tl,P = P, Omega = 1, electronic_state='B')\n",
    "      for J  in ni_range(Jmin, Jmax+1)\n",
    "      for F1 in ni_range(np.abs(J-I_F),J+I_F+1)\n",
    "      for F in ni_range(np.abs(F1-I_Tl),F1+I_Tl+1)\n",
    "      for mF in ni_range(-F, F+1)\n",
    "      for P in Ps\n",
    "     ]"
   ]
  },
  {
   "cell_type": "code",
   "execution_count": 13,
   "metadata": {},
   "outputs": [
    {
     "name": "stdout",
     "output_type": "stream",
     "text": [
      "+1.0000+0.0000j x |B, J = 1, F1 = 1/2, F = 0, mF = 0, I1 = 1/2, I2 = 1/2, P = -1, Omega = 1>\n"
     ]
    }
   ],
   "source": [
    "D,V = np.linalg.eigh(H_B)\n",
    "\n",
    "# Diagonalize the Hamiltonian\n",
    "H_B_diag = V.conj().T @ H_B @ V\n",
    "\n",
    "# New set of quantum numbers:\n",
    "QN_B_diag = matrix_to_states(V, QN_B)\n",
    "\n",
    "state = vector_to_state(V[:,1],QN_B)\n",
    "state.print_state()"
   ]
  },
  {
   "cell_type": "code",
   "execution_count": 14,
   "metadata": {},
   "outputs": [],
   "source": [
    "# Define what states are to be included in the simulation\n",
    "J = 1\n",
    "F1 = 3/2\n",
    "F = 1\n",
    "excited_states_approx = [1*CoupledBasisState(F,mF,F1,J,I_F,I_Tl, electronic_state='B', P = -1, Omega = 1)\n",
    "                  for mF in ni_range(-F, F+1)\n",
    "                 ]\n",
    "\n",
    "excited_states = find_exact_states(excited_states_approx, H_B_diag, QN_B_diag)"
   ]
  },
  {
   "cell_type": "code",
   "execution_count": 15,
   "metadata": {},
   "outputs": [],
   "source": [
    "H_B_red = reduced_basis_hamiltonian(QN_B_diag, H_B_diag, excited_states)"
   ]
  },
  {
   "cell_type": "markdown",
   "metadata": {},
   "source": [
    "## Optical Couplings\n",
    "Generating the matrix of optical couplings here. Assuming rotating frame so no $\\exp(i\\omega t)$ time-dependence"
   ]
  },
  {
   "cell_type": "code",
   "execution_count": 16,
   "metadata": {},
   "outputs": [],
   "source": [
    "# Define QN for the total Hamiltonian that includes both X and B\n",
    "QN = ground_states + excited_states\n",
    "\n",
    "# Define ground states for laser driven transition\n",
    "Js = [2]\n",
    "ground_states_laser_approx =  [1*CoupledBasisState(F,mF,F1,J,I_F,I_Tl, electronic_state='X', P = (-1)**J, Omega = 0)\n",
    "                                  for J  in Js\n",
    "                                  for F1 in ni_range(np.abs(J-I_F),J+I_F+1)\n",
    "                                  for F in ni_range(np.abs(F1-I_Tl),F1+I_Tl+1)\n",
    "                                  for mF in ni_range(-F, F+1)\n",
    "                                 ]\n",
    "\n",
    "ground_states_laser = find_exact_states(ground_states_laser_approx, H_X_diag, QN_X_diag)\n",
    "\n",
    "#Excited states for laser\n",
    "excited_states_laser = excited_states"
   ]
  },
  {
   "cell_type": "code",
   "execution_count": 17,
   "metadata": {},
   "outputs": [
    {
     "name": "stdout",
     "output_type": "stream",
     "text": [
      "True\n",
      "(16,)\n",
      "Wall time: 41.2 s\n"
     ]
    }
   ],
   "source": [
    "%%time\n",
    "# Coupling laser for z-polarized\n",
    "H_laser_z = optical_coupling_matrix(QN, ground_states_laser, excited_states_laser, pol_vec = np.array([0,0,1]), \n",
    "                                             reduced = False)\n",
    "H_laser_z[np.abs(H_laser_z) < 1e-3*np.max(np.abs(H_laser_z))] = 0\n",
    "\n",
    "# Check that coupling matrix is hermitian\n",
    "print(np.allclose(H_laser_z, H_laser_z.conj().T))\n",
    "\n",
    "# Check number of couplings added\n",
    "print(H_laser_z[np.abs(H_laser_z)>0].shape)"
   ]
  },
  {
   "cell_type": "code",
   "execution_count": 18,
   "metadata": {},
   "outputs": [
    {
     "name": "stdout",
     "output_type": "stream",
     "text": [
      "True\n",
      "(32,)\n",
      "Wall time: 41.2 s\n"
     ]
    }
   ],
   "source": [
    "%%time\n",
    "H_laser_x = optical_coupling_matrix(QN, ground_states_laser, excited_states_laser, pol_vec = np.array([1,0,0]), \n",
    "                                             reduced = False)\n",
    "H_laser_x[np.abs(H_laser_x) < 1e-3*np.max(np.abs(H_laser_x))] = 0\n",
    "\n",
    "# Check that coupling matrix is hermitian\n",
    "print(np.allclose(H_laser_x, H_laser_x.conj().T))\n",
    "\n",
    "# Check number of couplings added\n",
    "print(H_laser_x[np.abs(H_laser_x)>0].shape)"
   ]
  },
  {
   "cell_type": "code",
   "execution_count": 19,
   "metadata": {},
   "outputs": [
    {
     "data": {
      "text/plain": [
       "<matplotlib.image.AxesImage at 0x1fcd727ffc8>"
      ]
     },
     "execution_count": 19,
     "metadata": {},
     "output_type": "execute_result"
    },
    {
     "data": {
      "image/png": "[encoded data removed]",
      "text/plain": [
       "<Figure size 432x288 with 1 Axes>"
      ]
     },
     "metadata": {
      "needs_background": "light"
     },
     "output_type": "display_data"
    }
   ],
   "source": [
    "plt.imshow(H_laser_z.real)"
   ]
  },
  {
   "cell_type": "code",
   "execution_count": 20,
   "metadata": {},
   "outputs": [
    {
     "data": {
      "text/plain": [
       "<matplotlib.image.AxesImage at 0x1fcdb5f9888>"
      ]
     },
     "execution_count": 20,
     "metadata": {},
     "output_type": "execute_result"
    },
    {
     "data": {
      "image/png": "[encoded data removed]",
      "text/plain": [
       "<Figure size 432x288 with 1 Axes>"
      ]
     },
     "metadata": {
      "needs_background": "light"
     },
     "output_type": "display_data"
    }
   ],
   "source": [
    "plt.imshow(H_laser_x.real)"
   ]
  },
  {
   "cell_type": "code",
   "execution_count": 21,
   "metadata": {},
   "outputs": [],
   "source": [
    "# Calculate the matrix element for the \"main\" transition so that coupling matrix can be scaled to have appropriate rabi rate\n",
    "\n",
    "# Define approximate form of main ground state\n",
    "ground_main_approx = 1*CoupledBasisState(J=2,F1=5/2,F=2,mF=0,I1=1/2,I2=1/2,electronic_state='X', P = 1, Omega = 0)\n",
    "ground_main_i = find_state_idx_from_state(H_X_diag,ground_main_approx, QN_X_diag)\n",
    "ground_main = QN_X_diag[ground_main_i]\n",
    "\n",
    "# Define approximate form of main excited state\n",
    "excited_main_approx = 1*CoupledBasisState(J = 1,F1=3/2,F=1,mF=0,I1=1/2,I2=1/2, electronic_state='B', P = -1, Omega = 1)\n",
    "excited_main_i = find_state_idx_from_state(H_B_diag,excited_main_approx, QN_B_diag)\n",
    "excited_main = QN_B_diag[excited_main_i]\n",
    "\n",
    "ME_main = ED_ME_mixed_state(excited_main, ground_main, pol_vec = np.array([0,0,1]))"
   ]
  },
  {
   "cell_type": "code",
   "execution_count": 22,
   "metadata": {},
   "outputs": [
    {
     "data": {
      "text/plain": [
       "(-0.39444661382277774+0j)"
      ]
     },
     "execution_count": 22,
     "metadata": {},
     "output_type": "execute_result"
    }
   ],
   "source": [
    "ME_main"
   ]
  },
  {
   "cell_type": "markdown",
   "metadata": {},
   "source": [
    "## Collapse Operators"
   ]
  },
  {
   "cell_type": "code",
   "execution_count": 23,
   "metadata": {},
   "outputs": [],
   "source": [
    "Gamma = 1/100e-9 # 2*pi [Hz]"
   ]
  },
  {
   "cell_type": "code",
   "execution_count": 24,
   "metadata": {},
   "outputs": [],
   "source": [
    "excited_test_approx = 1*CoupledBasisState(J = 1, F1=3/2, F=1, mF=0, I1=1/2, I2=1/2, electronic_state='B', P = -1, Omega = 1)\n",
    "excited_test_i = find_state_idx_from_state(H_B_diag,excited_test_approx, QN_B_diag)\n",
    "excited_test = QN_B_diag[excited_test_i]\n",
    "\n",
    "ground_test_approx = 1*CoupledBasisState(J=0,F1=1/2,F=1,mF=0,I1=1/2,I2=1/2,electronic_state='X', P = 1, Omega = 0)\n",
    "ground_test_i = find_state_idx_from_state(H_X_diag,ground_test_approx, QN_X_diag)\n",
    "ground_test = QN_X_diag[ground_test_i]\n",
    "\n",
    "BRs = calculate_BR(excited_test, ground_states)"
   ]
  },
  {
   "cell_type": "code",
   "execution_count": 25,
   "metadata": {},
   "outputs": [],
   "source": [
    "C_array = collapse_matrices(QN, ground_states, excited_states, gamma = Gamma)\n",
    "C_conj_array = np.einsum('ijk->ikj', C_array.conj())"
   ]
  },
  {
   "cell_type": "markdown",
   "metadata": {},
   "source": [
    "## Density Matrix"
   ]
  },
  {
   "cell_type": "code",
   "execution_count": 26,
   "metadata": {},
   "outputs": [],
   "source": [
    "# Define states that are populated initially\n",
    "Js = [0,1,2]\n",
    "states_pop_approx = [1*CoupledBasisState(F,mF,F1,J,I_F,I_Tl, electronic_state='X', P = (-1)**J, Omega = 0)\n",
    "              for J  in Js\n",
    "              for F1 in ni_range(np.abs(J-I_Tl),J+I_Tl+1)\n",
    "              for F in ni_range(np.abs(F1-I_F),F1+I_F+1)\n",
    "              for mF in ni_range(-F, F+1)\n",
    "             ]\n",
    "\n",
    "states_pop = []\n",
    "for state in states_pop_approx:\n",
    "    i = find_state_idx_from_state(H_X_diag,state, QN_X_diag)\n",
    "    states_pop.append(QN_X_diag[i])\n",
    "    \n",
    "pops = np.ones(len(states_pop))/len(states_pop)\n",
    "\n",
    "rho_ini = generate_density_matrix(QN,states_pop,pops)"
   ]
  },
  {
   "cell_type": "code",
   "execution_count": 27,
   "metadata": {},
   "outputs": [],
   "source": [
    "import scipy.constants as cst\n",
    "\n",
    "def boltzmann_distribution(rot_constant, temperature, J_list):\n",
    "    init = np.zeros(len(J_list))\n",
    "    Z = 0\n",
    "    g = 1\n",
    "    for J in J_list:\n",
    "        g = 4*(2*J+1)\n",
    "        Z += g*np.exp(-rot_constant*J*(J+1)*2*np.pi*cst.hbar/(temperature*cst.k))\n",
    "    for idx, J in enumerate(J_list):\n",
    "        g = 4*(2*J+1)\n",
    "        init[idx] = g*np.exp(-rot_constant*J*(J+1)*2*np.pi*cst.hbar/(temperature*cst.k))/Z\n",
    "    return init"
   ]
  },
  {
   "cell_type": "code",
   "execution_count": 28,
   "metadata": {},
   "outputs": [],
   "source": [
    "B_0 = 6.68667*1e9 # Hz\n",
    "T = 7\n",
    "boltz_dist = boltzmann_distribution(B_0,T, np.arange(0,150,1))"
   ]
  },
  {
   "cell_type": "code",
   "execution_count": 29,
   "metadata": {},
   "outputs": [
    {
     "data": {
      "text/plain": [
       "[<matplotlib.lines.Line2D at 0x1fcdb6443c8>]"
      ]
     },
     "execution_count": 29,
     "metadata": {},
     "output_type": "execute_result"
    },
    {
     "data": {
      "image/png": "[encoded data removed]",
      "text/plain": [
       "<Figure size 432x288 with 1 Axes>"
      ]
     },
     "metadata": {
      "needs_background": "light"
     },
     "output_type": "display_data"
    }
   ],
   "source": [
    "plt.plot(boltz_dist[:20], '.', ms = 15)"
   ]
  },
  {
   "cell_type": "code",
   "execution_count": 30,
   "metadata": {},
   "outputs": [],
   "source": [
    "def get_J_indices(J_list):\n",
    "    spans = []\n",
    "    for J in J_list:\n",
    "        spans.append(4*(2*J+1))\n",
    "    indices = [(0,spans[0])]\n",
    "    for idx,span in enumerate(spans[1:]):\n",
    "        s = np.sum(spans[:idx+1])\n",
    "        indices.append((s, s+span))\n",
    "    return indices"
   ]
  },
  {
   "cell_type": "code",
   "execution_count": 31,
   "metadata": {},
   "outputs": [
    {
     "name": "stdout",
     "output_type": "stream",
     "text": [
      "0 4 0.011286978903789161\n",
      "1 12 0.01029811954327005\n",
      "2 20 0.008572714492675116\n"
     ]
    }
   ],
   "source": [
    "for idx, (idx_min, idx_max) in enumerate(get_J_indices([0,1,2])):\n",
    "    sl = np.s_[idx_min:idx_max, idx_min:idx_max]\n",
    "    print(idx, idx_max-idx_min, boltz_dist[idx]/(idx_max-idx_min))\n",
    "    np.fill_diagonal(rho_ini[sl], boltz_dist[idx]/(idx_max-idx_min))\n",
    "rho_ini /= np.diag(rho_ini).sum()"
   ]
  },
  {
   "cell_type": "code",
   "execution_count": 32,
   "metadata": {},
   "outputs": [
    {
     "data": {
      "image/png": "[encoded data removed]",
      "text/plain": [
       "<Figure size 432x288 with 1 Axes>"
      ]
     },
     "metadata": {
      "needs_background": "light"
     },
     "output_type": "display_data"
    }
   ],
   "source": [
    "for idx, (idx_min, idx_max) in enumerate(get_J_indices([0,1,2])):\n",
    "    sl = np.s_[idx_min:idx_max, idx_min:idx_max]\n",
    "    plt.plot(idx, np.sum(np.diag(rho_ini[sl])).real, '.', ms = 15)"
   ]
  },
  {
   "cell_type": "markdown",
   "metadata": {},
   "source": [
    "## Total Hamiltonian"
   ]
  },
  {
   "cell_type": "code",
   "execution_count": 33,
   "metadata": {},
   "outputs": [],
   "source": [
    "H_X_shifted = H_X_red - H_X_red[ground_main_i,ground_main_i]*np.eye(H_X_red.shape[0])\n",
    "\n",
    "detuning = 0\n",
    "H_B_shifted = np.diag(np.diag(H_B_red - H_B_diag[excited_main_i,excited_main_i] + detuning))"
   ]
  },
  {
   "cell_type": "code",
   "execution_count": 34,
   "metadata": {},
   "outputs": [],
   "source": [
    "_H = np.zeros([39,39], dtype = 'complex')\n",
    "_H[:36, :36] = H_X_shifted\n",
    "_H[36:,36:] = H_B_shifted"
   ]
  },
  {
   "cell_type": "code",
   "execution_count": 35,
   "metadata": {},
   "outputs": [],
   "source": [
    "Cprecalc = np.einsum('ijk,ikl', C_conj_array, C_array)"
   ]
  },
  {
   "cell_type": "markdown",
   "metadata": {},
   "source": [
    "## Some parameter definitions"
   ]
  },
  {
   "cell_type": "code",
   "execution_count": 36,
   "metadata": {},
   "outputs": [],
   "source": [
    "# Generate optical coupling matrix with set rabi rate\n",
    "Omega = np.abs(4.5*Gamma*ME_main)\n",
    "\n",
    "# Define frequency for polarization switching\n",
    "omega_p = Gamma\n",
    "wp = omega_p/(2*np.pi)"
   ]
  },
  {
   "cell_type": "markdown",
   "metadata": {},
   "source": [
    "## Julia"
   ]
  },
  {
   "cell_type": "code",
   "execution_count": 37,
   "metadata": {},
   "outputs": [],
   "source": [
    "from julia import Main"
   ]
  },
  {
   "cell_type": "code",
   "execution_count": 38,
   "metadata": {},
   "outputs": [],
   "source": [
    "Main.eval(\"\"\"using Waveforms\"\"\")\n",
    "Main.eval(\"\"\"using DifferentialEquations\"\"\")\n",
    "Main.eval(\"\"\"using StaticArrays\"\"\")\n",
    "Main.eval(\"\"\"using LinearAlgebra\"\"\")"
   ]
  },
  {
   "cell_type": "code",
   "execution_count": 39,
   "metadata": {},
   "outputs": [],
   "source": [
    "Main.C_array = C_array\n",
    "Main.C_conj_array = C_conj_array\n",
    "Main.H_laser_z = H_laser_z\n",
    "Main.H_laser_x = H_laser_x\n",
    "Main.ME_main = ME_main\n",
    "Main.Omega = Omega\n",
    "Main.wp = wp\n",
    "Main.Cprecalc = Cprecalc\n",
    "Main.rho_ini = rho_ini\n",
    "Main.Hprecalc = _H"
   ]
  },
  {
   "cell_type": "code",
   "execution_count": 40,
   "metadata": {},
   "outputs": [],
   "source": [
    "Main.eval(\"\"\"\n",
    "const C_array_const = C_array\n",
    "const C_conj_array_const = C_conj_array\n",
    "\"\"\");"
   ]
  },
  {
   "cell_type": "code",
   "execution_count": 41,
   "metadata": {},
   "outputs": [
    {
     "data": {
      "text/plain": [
       "(-0.39444661382277774+0j)"
      ]
     },
     "execution_count": 41,
     "metadata": {},
     "output_type": "execute_result"
    }
   ],
   "source": [
    "Main.eval(\"\"\"\n",
    "const H_laser_z_const = H_laser_z\n",
    "const H_laser_x_const = H_laser_x\n",
    "const Cprecalc_const = Cprecalc\n",
    "const Hprecalc_const = Hprecalc\n",
    "const ME_main_const = ME_main\n",
    "\"\"\")"
   ]
  },
  {
   "cell_type": "code",
   "execution_count": 42,
   "metadata": {},
   "outputs": [
    {
     "data": {
      "text/plain": [
       "<PyCall.jlwrap square_wave>"
      ]
     },
     "execution_count": 42,
     "metadata": {},
     "output_type": "execute_result"
    }
   ],
   "source": [
    "Main.eval(\"\"\"\n",
    "function square_wave(t::Float64, frequency::Float64, phase::Float64)\n",
    "    0.5.*(1 .+ squarewave(2*pi.*frequency.*t .+ phase))\n",
    "end\n",
    "\"\"\")"
   ]
  },
  {
   "cell_type": "code",
   "execution_count": 59,
   "metadata": {},
   "outputs": [
    {
     "data": {
      "text/plain": [
       "<PyCall.jlwrap H_oc_t>"
      ]
     },
     "execution_count": 59,
     "metadata": {},
     "output_type": "execute_result"
    }
   ],
   "source": [
    "Main.eval(\"\"\"\n",
    "function H_oc_t(result::Array{Complex{Float64},2}, t::Float64, Omega::Float64, wp::Float64)\n",
    "    result .= (Omega./ME_main_const)./2 .* (H_laser_z_const.*square_wave(t,wp,0.0) .+ H_laser_x_const.*square_wave(t,wp,3.141592653589793))\n",
    "end\n",
    "\"\"\")"
   ]
  },
  {
   "cell_type": "code",
   "execution_count": 60,
   "metadata": {},
   "outputs": [
    {
     "data": {
      "text/plain": [
       "<PyCall.jlwrap Hamiltonian!>"
      ]
     },
     "execution_count": 60,
     "metadata": {},
     "output_type": "execute_result"
    }
   ],
   "source": [
    "Main.eval(\"\"\"\n",
    "function Hamiltonian!(result::Array{Complex{Float64},2}, t::Float64, Omega::Float64, wp::Float64)\n",
    "    H_oc_t(result, t,Omega, wp)\n",
    "    result .+= Hprecalc_const\n",
    "end\n",
    "\"\"\")"
   ]
  },
  {
   "cell_type": "code",
   "execution_count": 73,
   "metadata": {},
   "outputs": [
    {
     "data": {
      "text/plain": [
       "array([[0.+0.j, 0.+0.j, 0.+0.j, ..., 0.+0.j, 0.+0.j, 0.+0.j],\n",
       "       [0.+0.j, 0.+0.j, 0.+0.j, ..., 0.+0.j, 0.+0.j, 0.+0.j],\n",
       "       [0.+0.j, 0.+0.j, 0.+0.j, ..., 0.+0.j, 0.+0.j, 0.+0.j],\n",
       "       ...,\n",
       "       [0.+0.j, 0.+0.j, 0.+0.j, ..., 0.+0.j, 0.+0.j, 0.+0.j],\n",
       "       [0.+0.j, 0.+0.j, 0.+0.j, ..., 0.+0.j, 0.+0.j, 0.+0.j],\n",
       "       [0.+0.j, 0.+0.j, 0.+0.j, ..., 0.+0.j, 0.+0.j, 0.+0.j]])"
      ]
     },
     "execution_count": 73,
     "metadata": {},
     "output_type": "execute_result"
    }
   ],
   "source": [
    "Main.eval(\"\"\"\n",
    "const intermediate1 = zeros(ComplexF64, 39, 39)\n",
    "const intermediate2 = zeros(ComplexF64, 39, 39)\n",
    "\"\"\")"
   ]
  },
  {
   "cell_type": "code",
   "execution_count": 74,
   "metadata": {},
   "outputs": [
    {
     "data": {
      "text/plain": [
       "<PyCall.jlwrap sum_mult!>"
      ]
     },
     "execution_count": 74,
     "metadata": {},
     "output_type": "execute_result"
    }
   ],
   "source": [
    "Main.eval(\"\"\"\n",
    "function sum_mult!(result::Array{Complex{Float64},2}, \n",
    "                  A::Array{Complex{Float64},3},\n",
    "                  B::Array{Complex{Float64},2}, \n",
    "                  C::Array{Complex{Float64},3},\n",
    "                  idx_max::Int64\n",
    "    )\n",
    "    @inbounds for i = 1:idx_max\n",
    "        mul!(intermediate1,B,C[i,:,:])\n",
    "        mul!(intermediate2, A[i,:,:], intermediate1)\n",
    "        result .+= intermediate2\n",
    "    end\n",
    "end\n",
    "\"\"\")"
   ]
  },
  {
   "cell_type": "code",
   "execution_count": 75,
   "metadata": {},
   "outputs": [
    {
     "data": {
      "text/plain": [
       "array([[0.+0.j, 0.+0.j, 0.+0.j, ..., 0.+0.j, 0.+0.j, 0.+0.j],\n",
       "       [0.+0.j, 0.+0.j, 0.+0.j, ..., 0.+0.j, 0.+0.j, 0.+0.j],\n",
       "       [0.+0.j, 0.+0.j, 0.+0.j, ..., 0.+0.j, 0.+0.j, 0.+0.j],\n",
       "       ...,\n",
       "       [0.+0.j, 0.+0.j, 0.+0.j, ..., 0.+0.j, 0.+0.j, 0.+0.j],\n",
       "       [0.+0.j, 0.+0.j, 0.+0.j, ..., 0.+0.j, 0.+0.j, 0.+0.j],\n",
       "       [0.+0.j, 0.+0.j, 0.+0.j, ..., 0.+0.j, 0.+0.j, 0.+0.j]])"
      ]
     },
     "execution_count": 75,
     "metadata": {},
     "output_type": "execute_result"
    }
   ],
   "source": [
    "Main.eval(\"const intermediate = zeros(ComplexF64,39,39)\")\n",
    "Main.eval(\"const Ham = zeros(ComplexF64,39,39)\")"
   ]
  },
  {
   "cell_type": "code",
   "execution_count": 76,
   "metadata": {},
   "outputs": [
    {
     "data": {
      "text/plain": [
       "<PyCall.jlwrap Lindblad_rhs!>"
      ]
     },
     "execution_count": 76,
     "metadata": {},
     "output_type": "execute_result"
    }
   ],
   "source": [
    "Main.eval(\"\"\"\n",
    "function Lindblad_rhs!(du::Array{Complex{Float64}}, u::Array{Complex{Float64},2}, p::Array{Float64}, t::Float64)\n",
    "    Omega = p[1]\n",
    "    wp = p[2]\n",
    "    \n",
    "    fill!(du,0.0)\n",
    "    sum_mult!(du,C_array_const,u,C_conj_array_const,33)\n",
    "    Hamiltonian!(Ham, t, Omega, wp)\n",
    "    mul!(intermediate, Ham, u)\n",
    "    du .-= 1im .* intermediate\n",
    "    mul!(intermediate, u, Ham)\n",
    "    du .+= 1im .* intermediate\n",
    "    mul!(intermediate, Cprecalc_const, u)\n",
    "    du .-= 0.5 .* intermediate\n",
    "    mul!(intermediate, u, Cprecalc_const)\n",
    "    du .-= 0.5 .* intermediate\n",
    "end\n",
    "\"\"\")"
   ]
  },
  {
   "cell_type": "code",
   "execution_count": 77,
   "metadata": {},
   "outputs": [],
   "source": [
    "Main.Omega = Omega\n",
    "Main.wp = wp"
   ]
  },
  {
   "cell_type": "code",
   "execution_count": 78,
   "metadata": {},
   "outputs": [
    {
     "data": {
      "text/plain": [
       "0"
      ]
     },
     "execution_count": 78,
     "metadata": {},
     "output_type": "execute_result"
    }
   ],
   "source": [
    "Main.eval(\"\"\"\n",
    "p = [Omega, wp]\n",
    "tmp = 0\n",
    "\"\"\")"
   ]
  },
  {
   "cell_type": "code",
   "execution_count": 79,
   "metadata": {},
   "outputs": [
    {
     "data": {
      "text/plain": [
       "0"
      ]
     },
     "execution_count": 79,
     "metadata": {},
     "output_type": "execute_result"
    }
   ],
   "source": [
    "Main.eval(\"\"\"\n",
    "tspan = (0.0f0, 100e-6)\n",
    "prob = ODEProblem(Lindblad_rhs!,rho_ini,tspan,p)\n",
    "tmp = 0\n",
    "\"\"\")"
   ]
  },
  {
   "cell_type": "code",
   "execution_count": 80,
   "metadata": {},
   "outputs": [
    {
     "name": "stdout",
     "output_type": "stream",
     "text": [
      "Wall time: 10.3 s\n"
     ]
    },
    {
     "data": {
      "text/plain": [
       "0"
      ]
     },
     "execution_count": 80,
     "metadata": {},
     "output_type": "execute_result"
    }
   ],
   "source": [
    "%%time\n",
    "Main.eval(\"\"\"\n",
    "sol = solve(prob, Tsit5())\n",
    "tmp = 0\n",
    "\"\"\")"
   ]
  },
  {
   "cell_type": "code",
   "execution_count": 81,
   "metadata": {},
   "outputs": [
    {
     "name": "stdout",
     "output_type": "stream",
     "text": [
      "3.3213728523421606\n"
     ]
    },
    {
     "data": {
      "image/png": "[encoded data removed]",
      "text/plain": [
       "<Figure size 864x576 with 1 Axes>"
      ]
     },
     "metadata": {
      "needs_background": "light"
     },
     "output_type": "display_data"
    },
    {
     "data": {
      "image/png": "[encoded data removed]",
      "text/plain": [
       "<Figure size 864x576 with 1 Axes>"
      ]
     },
     "metadata": {
      "needs_background": "light"
     },
     "output_type": "display_data"
    }
   ],
   "source": [
    "ut = np.array(Main.eval(\"sol[:]\")).T\n",
    "pop_results = np.real(np.einsum('jji->ji',ut.reshape((rho_ini.shape[0], rho_ini.shape[1], ut.shape[2]))))\n",
    "t_array = Main.eval(\"\"\"sol.t\"\"\")\n",
    "\n",
    "m = t_array <= 300e-6\n",
    "\n",
    "t_array = t_array[m]\n",
    "pop_results = pop_results[:,m]\n",
    "\n",
    "#Plot populations in different J\n",
    "P0_triplet = np.sum(pop_results[1:4,:], axis = 0)\n",
    "P0_singlet = np.sum(pop_results[0:1,:], axis = 0)\n",
    "P0 = np.sum(pop_results[:4], axis = 0)\n",
    "P1 = np.sum(pop_results[4:16,:], axis = 0)\n",
    "P2 = np.sum(pop_results[16:36,:], axis = 0)\n",
    "PB1 = np.sum(pop_results[36:,:], axis = 0)\n",
    "\n",
    "fig, ax = plt.subplots(figsize = (12,8))\n",
    "# ax.plot(t_array*1e6, P0_triplet, label = 'X, J = 0, F = 1')\n",
    "# ax.plot(t_array*1e6, P0_singlet, label = 'X, J = 0, F = 0')\n",
    "ax.plot(t_array*1e6, P0, label = 'X, J = 0')\n",
    "# ax.plot(t_array*1e6, P1, label = 'X, J = 1')\n",
    "ax.plot(t_array*1e6, P2, label = 'X, J = 2')\n",
    "ax.plot(t_array*1e6, PB1, label = 'B, J = 1')\n",
    "ax.legend(fontsize = 14)\n",
    "ax.set_xlabel(\"Time [us]\", fontsize = 14)\n",
    "ax.set_ylabel(\"Population in state\", fontsize = 14)\n",
    "ax.tick_params(axis='both', labelsize=14)\n",
    "ax.grid(True)\n",
    "\n",
    "fig, ax = plt.subplots(figsize = (12,8))\n",
    "# ax.plot(t_array*1e6, P0_triplet, label = 'X, J = 0, F = 1')\n",
    "# ax.plot(t_array*1e6, P0_singlet, label = 'X, J = 0, F = 0')\n",
    "ax.plot(t_array*1e6, P0, label = 'X, J = 0')\n",
    "ax.plot(t_array*1e6, P2, label = 'X, J = 2')\n",
    "ax.plot(t_array*1e6, PB1, label = 'B, J = 1 ')\n",
    "ax.legend(fontsize = 14)\n",
    "ax.set_xlabel(\"Time [us]\", fontsize = 14)\n",
    "ax.set_ylabel(\"Population in state\", fontsize = 14)\n",
    "ax.tick_params(axis='both', labelsize=14)\n",
    "ax.set_xlim(0,5e6/wp)\n",
    "for i in range(20):\n",
    "    ax.axvline(i*1e6/wp/2, zorder = 0, color = 'k')\n",
    "    \n",
    "print(P0[-1]/P0[0])"
   ]
  },
  {
   "cell_type": "code",
   "execution_count": 82,
   "metadata": {},
   "outputs": [
    {
     "name": "stdout",
     "output_type": "stream",
     "text": [
      "Wall time: 7.98 s\n"
     ]
    },
    {
     "data": {
      "text/plain": [
       "0"
      ]
     },
     "execution_count": 82,
     "metadata": {},
     "output_type": "execute_result"
    }
   ],
   "source": [
    "%%time\n",
    "Main.eval(\"\"\"\n",
    "sol = solve(prob, Tsit5(), save_start = true, save_end = true, save_everystep = false)\n",
    "tmp = 0\n",
    "\"\"\")"
   ]
  },
  {
   "cell_type": "code",
   "execution_count": 83,
   "metadata": {},
   "outputs": [
    {
     "data": {
      "text/plain": [
       "array([0.13271787, 0.44080551])"
      ]
     },
     "execution_count": 83,
     "metadata": {},
     "output_type": "execute_result"
    }
   ],
   "source": [
    "ut = np.array(Main.eval(\"sol[:]\")).T\n",
    "pop_results = np.real(np.einsum('jji->ji',ut.reshape((rho_ini.shape[0], rho_ini.shape[1], ut.shape[2]))))\n",
    "pop_results[:4].sum(axis = 0)"
   ]
  },
  {
   "cell_type": "code",
   "execution_count": 96,
   "metadata": {},
   "outputs": [
    {
     "data": {
      "text/plain": [
       "0"
      ]
     },
     "execution_count": 96,
     "metadata": {},
     "output_type": "execute_result"
    }
   ],
   "source": [
    "Main.eval(\"\"\"\n",
    "tspan = (0.0f0, 100e-6)\n",
    "prob = ODEProblem(Lindblad_rhs!,rho_ini,tspan,p)\n",
    "tmp = 0\n",
    "\"\"\")"
   ]
  },
  {
   "cell_type": "code",
   "execution_count": 97,
   "metadata": {},
   "outputs": [],
   "source": [
    "Main.eval(\"\"\"\n",
    "a = 1:1:10\n",
    "b = 1:1:10\n",
    "c = zeros(length(a)*length(b), 2)\n",
    "for i = 1:length(a)\n",
    "  for j = 1:length(b)\n",
    "     c[(i-1)*length(b)+j,1] = a[i]\n",
    "     c[(i-1)*length(b)+j,2] = b[j] end\n",
    "end\n",
    "\"\"\")"
   ]
  },
  {
   "cell_type": "code",
   "execution_count": 98,
   "metadata": {},
   "outputs": [
    {
     "data": {
      "text/plain": [
       "0"
      ]
     },
     "execution_count": 98,
     "metadata": {},
     "output_type": "execute_result"
    }
   ],
   "source": [
    "Main.eval(\"\"\"\n",
    "c[:,1] .*= Omega/4.5\n",
    "c[:,2] .*= wp/4\n",
    "tmp = 0\n",
    "\"\"\")"
   ]
  },
  {
   "cell_type": "code",
   "execution_count": 99,
   "metadata": {},
   "outputs": [
    {
     "data": {
      "text/plain": [
       "<PyCall.jlwrap prob_func>"
      ]
     },
     "execution_count": 99,
     "metadata": {},
     "output_type": "execute_result"
    }
   ],
   "source": [
    "Main.eval(\"\"\"\n",
    "function prob_func(prob,i,repeat)\n",
    "    remake(prob,p=[c[i,1],c[i,2]])\n",
    "end\n",
    "\"\"\")"
   ]
  },
  {
   "cell_type": "code",
   "execution_count": 94,
   "metadata": {},
   "outputs": [
    {
     "name": "stdout",
     "output_type": "stream",
     "text": [
      "Wall time: 14.7 s\n"
     ]
    }
   ],
   "source": [
    "%%time\n",
    "Main.eval(\"\"\"\n",
    "for i = 1:2\n",
    "    prob_func(prob, i, 0)\n",
    "    sim = solve(prob, Tsit5(), save_start = true, save_end = true, save_everystep = false)\n",
    "end\n",
    "\"\"\")"
   ]
  },
  {
   "cell_type": "code",
   "execution_count": 100,
   "metadata": {},
   "outputs": [
    {
     "data": {
      "text/plain": [
       "<PyCall.jlwrap EnsembleProblem with problem ODEProblem>"
      ]
     },
     "execution_count": 100,
     "metadata": {},
     "output_type": "execute_result"
    }
   ],
   "source": [
    "Main.eval(\"\"\"\n",
    "ens_prob = EnsembleProblem(prob, prob_func = prob_func)\n",
    "\"\"\")"
   ]
  },
  {
   "cell_type": "code",
   "execution_count": null,
   "metadata": {},
   "outputs": [],
   "source": [
    "%%time\n",
    "Main.eval(\"\"\"\n",
    "sim = solve(ens_prob, Tsit5(), ensemblealg=EnsembleSerial(), save_start = true, save_end = true, save_everystep = false; trajectories = 100)\n",
    "tmp = 0\n",
    "\"\"\")"
   ]
  },
  {
   "cell_type": "code",
   "execution_count": null,
   "metadata": {},
   "outputs": [],
   "source": []
  }
 ],
 "metadata": {
  "kernelspec": {
   "display_name": "Python 3",
   "language": "python",
   "name": "python3"
  },
  "language_info": {
   "codemirror_mode": {
    "name": "ipython",
    "version": 3
   },
   "file_extension": ".py",
   "mimetype": "text/x-python",
   "name": "python",
   "nbconvert_exporter": "python",
   "pygments_lexer": "ipython3",
   "version": "3.7.7"
  }
 },
 "nbformat": 4,
 "nbformat_minor": 4
}
