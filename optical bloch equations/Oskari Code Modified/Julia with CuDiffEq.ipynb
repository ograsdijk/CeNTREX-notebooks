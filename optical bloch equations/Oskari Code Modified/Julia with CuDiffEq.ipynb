{
 "cells": [
  {
   "cell_type": "code",
   "execution_count": 43,
   "metadata": {},
   "outputs": [],
   "source": [
    "import pickle\n",
    "import numpy as np\n",
    "import matplotlib.pyplot as plt"
   ]
  },
  {
   "cell_type": "code",
   "execution_count": 45,
   "metadata": {},
   "outputs": [],
   "source": [
    "fname = \"precalculated_arrays.pkl\""
   ]
  },
  {
   "cell_type": "code",
   "execution_count": null,
   "metadata": {},
   "outputs": [],
   "source": [
    "# desc = \"H_X_red, H_B_red, H_laser_z, H_laser_x, C_array, C_conj_array, rho_ini, ME_main, Gamma\"\n",
    "# with open(fname, 'wb') as f:\n",
    "#     pickle.dump([desc, H_X_red, H_B_red, H_laser_z, H_laser_x, C_array, C_conj_array, rho_ini, ME_main, Gamma], f)"
   ]
  },
  {
   "cell_type": "code",
   "execution_count": 51,
   "metadata": {},
   "outputs": [],
   "source": [
    "with open(fname, 'rb') as f:\n",
    "    desc, H_X_red, H_B_red, H_laser_z, H_laser_x, C_array, C_conj_array, rho_ini, ME_main, Gamma = pickle.load(f)"
   ]
  },
  {
   "cell_type": "code",
   "execution_count": 63,
   "metadata": {},
   "outputs": [],
   "source": [
    "Cprecalc = np.einsum('ijk,ikl', C_conj_array, C_array)"
   ]
  },
  {
   "cell_type": "code",
   "execution_count": 64,
   "metadata": {},
   "outputs": [],
   "source": [
    "_H = np.zeros([39,39], dtype = 'complex')\n",
    "_H[:36, :36] = H_X_shifted\n",
    "_H[36:,36:] = H_B_shifted"
   ]
  },
  {
   "cell_type": "code",
   "execution_count": 65,
   "metadata": {},
   "outputs": [],
   "source": [
    "Cprecalc = np.einsum('ijk,ikl', C_conj_array, C_array)"
   ]
  },
  {
   "cell_type": "markdown",
   "metadata": {},
   "source": [
    "## Julia"
   ]
  },
  {
   "cell_type": "code",
   "execution_count": 66,
   "metadata": {},
   "outputs": [],
   "source": [
    "from julia import Main"
   ]
  },
  {
   "cell_type": "code",
   "execution_count": 67,
   "metadata": {},
   "outputs": [],
   "source": [
    "Main.eval(\"\"\"using Waveforms\"\"\")\n",
    "Main.eval(\"\"\"using DifferentialEquations\"\"\")\n",
    "Main.eval(\"\"\"using StaticArrays\"\"\")\n",
    "Main.eval(\"\"\"using LinearAlgebra\"\"\")\n",
    "Main.eval(\"\"\"using CuArrays\"\"\")"
   ]
  },
  {
   "cell_type": "code",
   "execution_count": 235,
   "metadata": {},
   "outputs": [],
   "source": [
    "Omega = 4.5*Gamma*np.abs(ME_main)\n",
    "wp = Gamma/(2*np.pi)"
   ]
  },
  {
   "cell_type": "code",
   "execution_count": 236,
   "metadata": {},
   "outputs": [
    {
     "data": {
      "text/plain": [
       "2.7925268031909277e-07"
      ]
     },
     "execution_count": 236,
     "metadata": {},
     "output_type": "execute_result"
    }
   ],
   "source": [
    "1/(Omega/(2*2*np.pi*np.abs(ME_main)))"
   ]
  },
  {
   "cell_type": "code",
   "execution_count": 237,
   "metadata": {},
   "outputs": [
    {
     "data": {
      "text/plain": [
       "6.283185307179586e-07"
      ]
     },
     "execution_count": 237,
     "metadata": {},
     "output_type": "execute_result"
    }
   ],
   "source": [
    "1/wp"
   ]
  },
  {
   "cell_type": "code",
   "execution_count": 238,
   "metadata": {},
   "outputs": [],
   "source": [
    "Main.C_array = C_array\n",
    "Main.C_conj_array = C_conj_array\n",
    "Main.H_laser_z = H_laser_z\n",
    "Main.H_laser_x = H_laser_x\n",
    "Main.ME_main = ME_main\n",
    "Main.Omega = Omega\n",
    "Main.wp = wp\n",
    "Main.Cprecalc = Cprecalc\n",
    "Main.rho_ini = rho_ini\n",
    "Main.Hprecalc = _H"
   ]
  },
  {
   "cell_type": "code",
   "execution_count": 239,
   "metadata": {},
   "outputs": [
    {
     "data": {
      "text/plain": [
       "17750097.622024998"
      ]
     },
     "execution_count": 239,
     "metadata": {},
     "output_type": "execute_result"
    }
   ],
   "source": [
    "Main.eval(\"\"\"\n",
    "const rho_ini_const_GPU = CuArray(rho_ini)\n",
    "const H_laser_z_const_GPU = CuArray(H_laser_z)\n",
    "const H_laser_x_const_GPU = CuArray(H_laser_x)\n",
    "const Cprecalc_const_GPU = CuArray(Cprecalc)\n",
    "const Hprecalc_const_GPU = CuArray(Hprecalc)\n",
    "const C_array_const_GPU = CuArray(C_array)\n",
    "const C_conj_array_const_GPU = CuArray(C_conj_array)\n",
    "const wp_const = wp\n",
    "const ME_main_const = ME_main\n",
    "const Omega_const = Omega\n",
    "\"\"\")"
   ]
  },
  {
   "cell_type": "code",
   "execution_count": 242,
   "metadata": {},
   "outputs": [
    {
     "ename": "JuliaError",
     "evalue": "Exception 'scalar getindex is disallowed' occurred while calling julia code:\nconvert(PyCall.PyObject, z = similar(H_laser_z_const_GPU))",
     "output_type": "error",
     "traceback": [
      "\u001b[1;31m---------------------------------------------------------------------------\u001b[0m",
      "\u001b[1;31mJuliaError\u001b[0m                                Traceback (most recent call last)",
      "\u001b[1;32m<ipython-input-242-45faba00a724>\u001b[0m in \u001b[0;36m<module>\u001b[1;34m\u001b[0m\n\u001b[1;32m----> 1\u001b[1;33m \u001b[0mMain\u001b[0m\u001b[1;33m.\u001b[0m\u001b[0meval\u001b[0m\u001b[1;33m(\u001b[0m\u001b[1;34m\"z = similar(H_laser_z_const_GPU)\"\u001b[0m\u001b[1;33m)\u001b[0m\u001b[1;33m;\u001b[0m\u001b[1;33m\u001b[0m\u001b[1;33m\u001b[0m\u001b[0m\n\u001b[0m",
      "\u001b[1;32mC:\\ProgramData\\Anaconda3\\lib\\site-packages\\julia\\core.py\u001b[0m in \u001b[0;36meval\u001b[1;34m(self, src)\u001b[0m\n\u001b[0;32m    607\u001b[0m \u001b[1;33m\u001b[0m\u001b[0m\n\u001b[0;32m    608\u001b[0m         \u001b[1;32mif\u001b[0m \u001b[0mres\u001b[0m \u001b[1;32mis\u001b[0m \u001b[1;32mNone\u001b[0m\u001b[1;33m:\u001b[0m\u001b[1;33m\u001b[0m\u001b[1;33m\u001b[0m\u001b[0m\n\u001b[1;32m--> 609\u001b[1;33m             \u001b[0mself\u001b[0m\u001b[1;33m.\u001b[0m\u001b[0mcheck_exception\u001b[0m\u001b[1;33m(\u001b[0m\u001b[1;34m\"convert(PyCall.PyObject, {})\"\u001b[0m\u001b[1;33m.\u001b[0m\u001b[0mformat\u001b[0m\u001b[1;33m(\u001b[0m\u001b[0msrc\u001b[0m\u001b[1;33m)\u001b[0m\u001b[1;33m)\u001b[0m\u001b[1;33m\u001b[0m\u001b[1;33m\u001b[0m\u001b[0m\n\u001b[0m\u001b[0;32m    610\u001b[0m         \u001b[1;32mreturn\u001b[0m \u001b[0mself\u001b[0m\u001b[1;33m.\u001b[0m\u001b[0m_as_pyobj\u001b[0m\u001b[1;33m(\u001b[0m\u001b[0mres\u001b[0m\u001b[1;33m)\u001b[0m\u001b[1;33m\u001b[0m\u001b[1;33m\u001b[0m\u001b[0m\n\u001b[0;32m    611\u001b[0m \u001b[1;33m\u001b[0m\u001b[0m\n",
      "\u001b[1;32mC:\\ProgramData\\Anaconda3\\lib\\site-packages\\julia\\core.py\u001b[0m in \u001b[0;36mcheck_exception\u001b[1;34m(self, src)\u001b[0m\n\u001b[0;32m    584\u001b[0m             \u001b[0mexception\u001b[0m \u001b[1;33m=\u001b[0m \u001b[0msprint\u001b[0m\u001b[1;33m(\u001b[0m\u001b[0mshowerror\u001b[0m\u001b[1;33m,\u001b[0m \u001b[0mself\u001b[0m\u001b[1;33m.\u001b[0m\u001b[0m_as_pyobj\u001b[0m\u001b[1;33m(\u001b[0m\u001b[0mres\u001b[0m\u001b[1;33m)\u001b[0m\u001b[1;33m)\u001b[0m\u001b[1;33m\u001b[0m\u001b[1;33m\u001b[0m\u001b[0m\n\u001b[0;32m    585\u001b[0m         raise JuliaError(u'Exception \\'{}\\' occurred while calling julia code:\\n{}'\n\u001b[1;32m--> 586\u001b[1;33m                          .format(exception, src))\n\u001b[0m\u001b[0;32m    587\u001b[0m \u001b[1;33m\u001b[0m\u001b[0m\n\u001b[0;32m    588\u001b[0m     \u001b[1;32mdef\u001b[0m \u001b[0m_typeof_julia_exception_in_transit\u001b[0m\u001b[1;33m(\u001b[0m\u001b[0mself\u001b[0m\u001b[1;33m)\u001b[0m\u001b[1;33m:\u001b[0m\u001b[1;33m\u001b[0m\u001b[1;33m\u001b[0m\u001b[0m\n",
      "\u001b[1;31mJuliaError\u001b[0m: Exception 'scalar getindex is disallowed' occurred while calling julia code:\nconvert(PyCall.PyObject, z = similar(H_laser_z_const_GPU))"
     ]
    }
   ],
   "source": [
    "Main.eval(\"z = similar(H_laser_z_const_GPU)\");"
   ]
  },
  {
   "cell_type": "code",
   "execution_count": 244,
   "metadata": {},
   "outputs": [
    {
     "data": {
      "text/plain": [
       "<PyCall.jlwrap CuArray{Complex{Float64},2,Nothing}>"
      ]
     },
     "execution_count": 244,
     "metadata": {},
     "output_type": "execute_result"
    }
   ],
   "source": [
    "Main.eval(\"typeof(z)\")"
   ]
  },
  {
   "cell_type": "code",
   "execution_count": 245,
   "metadata": {},
   "outputs": [],
   "source": [
    "Main.eval(\"CuArrays.allowscalar(false)\")"
   ]
  },
  {
   "cell_type": "code",
   "execution_count": 246,
   "metadata": {},
   "outputs": [
    {
     "name": "stdout",
     "output_type": "stream",
     "text": [
      "230 µs ± 3.96 µs per loop (mean ± std. dev. of 7 runs, 1000 loops each)\n"
     ]
    }
   ],
   "source": [
    "%%timeit\n",
    "Main.eval(\"\"\"\n",
    "z .= H_laser_z_const_GPU*rho_ini_const_GPU\n",
    "tmp = 0\n",
    "\"\"\")"
   ]
  },
  {
   "cell_type": "code",
   "execution_count": 247,
   "metadata": {},
   "outputs": [
    {
     "data": {
      "text/plain": [
       "<PyCall.jlwrap sum_mult!>"
      ]
     },
     "execution_count": 247,
     "metadata": {},
     "output_type": "execute_result"
    }
   ],
   "source": [
    "Main.eval(\"\"\"\n",
    "function sum_mult!(result, A, B, C, idx_max)\n",
    "    intermediate1 = similar(result)\n",
    "    intermediate2 = similar(result)\n",
    "    @inbounds for i = 1:idx_max\n",
    "        mul!(intermediate1,B,C[i,:,:])\n",
    "        mul!(intermediate2, A[i,:,:], intermediate1)\n",
    "        result .+= intermediate2\n",
    "    end\n",
    "end\n",
    "\"\"\")"
   ]
  },
  {
   "cell_type": "code",
   "execution_count": 248,
   "metadata": {},
   "outputs": [
    {
     "data": {
      "text/plain": [
       "0"
      ]
     },
     "execution_count": 248,
     "metadata": {},
     "output_type": "execute_result"
    }
   ],
   "source": [
    "Main.eval(\"\"\"\n",
    "fill!(z,0)\n",
    "tmp = 0\n",
    "\"\"\")"
   ]
  },
  {
   "cell_type": "code",
   "execution_count": 249,
   "metadata": {},
   "outputs": [
    {
     "name": "stdout",
     "output_type": "stream",
     "text": [
      "Wall time: 0 ns\n"
     ]
    }
   ],
   "source": [
    "%time\n",
    "Main.eval(\"sum_mult!(z,C_array_const_GPU, rho_ini_const_GPU, C_conj_array_const_GPU, 33)\")"
   ]
  },
  {
   "cell_type": "code",
   "execution_count": 250,
   "metadata": {},
   "outputs": [
    {
     "name": "stdout",
     "output_type": "stream",
     "text": [
      "3.72 ms ± 17.8 µs per loop (mean ± std. dev. of 7 runs, 100 loops each)\n"
     ]
    }
   ],
   "source": [
    "%%timeit\n",
    "Main.eval(\"sum_mult!(z,C_array_const_GPU, rho_ini_const_GPU, C_conj_array_const_GPU, 33)\")"
   ]
  },
  {
   "cell_type": "code",
   "execution_count": 251,
   "metadata": {},
   "outputs": [
    {
     "data": {
      "text/plain": [
       "<PyCall.jlwrap square_wave>"
      ]
     },
     "execution_count": 251,
     "metadata": {},
     "output_type": "execute_result"
    }
   ],
   "source": [
    "Main.eval(\"\"\"\n",
    "function square_wave(t, frequency, phase)\n",
    "    0.5.*(1 .+ squarewave(2*pi.*frequency.*t .+ phase))\n",
    "end\n",
    "\"\"\")"
   ]
  },
  {
   "cell_type": "code",
   "execution_count": 252,
   "metadata": {},
   "outputs": [
    {
     "data": {
      "text/plain": [
       "<PyCall.jlwrap H_oc_t>"
      ]
     },
     "execution_count": 252,
     "metadata": {},
     "output_type": "execute_result"
    }
   ],
   "source": [
    "Main.eval(\"\"\"\n",
    "function H_oc_t(t, Omega, wp)\n",
    "    (Omega./ME_main_const)./2 .* (H_laser_z_const_GPU.*square_wave(t,wp,0.0) .+ H_laser_x_const_GPU.*square_wave(t,wp,3.141592653589793))\n",
    "end\n",
    "\"\"\")"
   ]
  },
  {
   "cell_type": "code",
   "execution_count": 253,
   "metadata": {},
   "outputs": [
    {
     "data": {
      "text/plain": [
       "<PyCall.jlwrap Hamiltonian>"
      ]
     },
     "execution_count": 253,
     "metadata": {},
     "output_type": "execute_result"
    }
   ],
   "source": [
    "Main.eval(\"\"\"\n",
    "function Hamiltonian(t, Omega, wp)\n",
    "    Hprecalc_const_GPU .+ H_oc_t(t,Omega, wp)\n",
    "end\n",
    "\"\"\")"
   ]
  },
  {
   "cell_type": "code",
   "execution_count": 254,
   "metadata": {},
   "outputs": [
    {
     "data": {
      "text/plain": [
       "<PyCall.jlwrap Lindblad_rhs!>"
      ]
     },
     "execution_count": 254,
     "metadata": {},
     "output_type": "execute_result"
    }
   ],
   "source": [
    "Main.eval(\"\"\"\n",
    "function Lindblad_rhs!(du, u, p, t)\n",
    "    @inbounds begin\n",
    "        Omega = p[1]\n",
    "        wp = p[2]\n",
    "\n",
    "        intermediate = similar(u)\n",
    "        fill!(du,0.0)\n",
    "        sum_mult!(du,C_array_const_GPU,u,C_conj_array_const_GPU,33)\n",
    "        Ham = Hamiltonian(t, Omega, wp)\n",
    "        mul!(intermediate, Ham, u)\n",
    "        du .-= 1im .* intermediate\n",
    "        mul!(intermediate, u, Ham)\n",
    "        du .+= 1im .* intermediate\n",
    "        mul!(intermediate, Cprecalc_const_GPU, u)\n",
    "        du .-= 0.5 .* intermediate\n",
    "        mul!(intermediate, u, Cprecalc_const_GPU)\n",
    "        du .-= 0.5 .* intermediate\n",
    "    end\n",
    "    nothing\n",
    "end\n",
    "\"\"\")"
   ]
  },
  {
   "cell_type": "code",
   "execution_count": 255,
   "metadata": {},
   "outputs": [
    {
     "data": {
      "text/plain": [
       "array([17750097.622025  ,  1591549.43091895])"
      ]
     },
     "execution_count": 255,
     "metadata": {},
     "output_type": "execute_result"
    }
   ],
   "source": [
    "Main.eval(\"p = [Omega, wp]\")"
   ]
  },
  {
   "cell_type": "code",
   "execution_count": 256,
   "metadata": {},
   "outputs": [
    {
     "name": "stdout",
     "output_type": "stream",
     "text": [
      "Wall time: 0 ns\n"
     ]
    },
    {
     "data": {
      "text/plain": [
       "0"
      ]
     },
     "execution_count": 256,
     "metadata": {},
     "output_type": "execute_result"
    }
   ],
   "source": [
    "%%time\n",
    "Main.eval(\"\"\"\n",
    "tspan = (0.0f0, 100e-6)\n",
    "prob = ODEProblem(Lindblad_rhs!,rho_ini_const_GPU,tspan,p)\n",
    "tmp = 0\n",
    "\"\"\")"
   ]
  },
  {
   "cell_type": "code",
   "execution_count": 257,
   "metadata": {},
   "outputs": [
    {
     "name": "stdout",
     "output_type": "stream",
     "text": [
      "Wall time: 29.1 s\n"
     ]
    },
    {
     "data": {
      "text/plain": [
       "0"
      ]
     },
     "execution_count": 257,
     "metadata": {},
     "output_type": "execute_result"
    }
   ],
   "source": [
    "%%time\n",
    "Main.eval(\"\"\"\n",
    "sol = solve(prob, Tsit5(), saveat = 5e-8)\n",
    "tmp = 0\n",
    "\"\"\")"
   ]
  },
  {
   "cell_type": "code",
   "execution_count": 258,
   "metadata": {},
   "outputs": [
    {
     "name": "stdout",
     "output_type": "stream",
     "text": [
      "3.3213728523421633\n"
     ]
    },
    {
     "data": {
      "image/png": "[encoded data removed]",
      "text/plain": [
       "<Figure size 864x576 with 1 Axes>"
      ]
     },
     "metadata": {
      "needs_background": "light"
     },
     "output_type": "display_data"
    },
    {
     "data": {
      "image/png": "[encoded data removed]",
      "text/plain": [
       "<Figure size 864x576 with 1 Axes>"
      ]
     },
     "metadata": {
      "needs_background": "light"
     },
     "output_type": "display_data"
    }
   ],
   "source": [
    "Main.eval(\"CuArrays.allowscalar(true)\")\n",
    "ut = np.array(Main.eval(\"sol.u\")).T\n",
    "Main.eval(\"CuArrays.allowscalar(false)\")\n",
    "pop_results = np.real(np.einsum('jji->ji',ut.reshape((rho_ini.shape[0], rho_ini.shape[1], ut.shape[2]))))\n",
    "t_array = Main.eval(\"\"\"sol.t\"\"\")\n",
    "\n",
    "m = t_array <= 300e-6\n",
    "\n",
    "t_array = t_array[m]\n",
    "pop_results = pop_results[:,m]\n",
    "\n",
    "#Plot populations in different J\n",
    "P0_triplet = np.sum(pop_results[1:4,:], axis = 0)\n",
    "P0_singlet = np.sum(pop_results[0:1,:], axis = 0)\n",
    "P0 = np.sum(pop_results[:4], axis = 0)\n",
    "P1 = np.sum(pop_results[4:16,:], axis = 0)\n",
    "P2 = np.sum(pop_results[16:36,:], axis = 0)\n",
    "PB1 = np.sum(pop_results[36:,:], axis = 0)\n",
    "\n",
    "fig, ax = plt.subplots(figsize = (12,8))\n",
    "# ax.plot(t_array*1e6, P0_triplet, label = 'X, J = 0, F = 1')\n",
    "# ax.plot(t_array*1e6, P0_singlet, label = 'X, J = 0, F = 0')\n",
    "ax.plot(t_array*1e6, P0, label = 'X, J = 0')\n",
    "# ax.plot(t_array*1e6, P1, label = 'X, J = 1')\n",
    "ax.plot(t_array*1e6, P2, label = 'X, J = 2')\n",
    "ax.plot(t_array*1e6, PB1, label = 'B, J = 1')\n",
    "ax.legend(fontsize = 14)\n",
    "ax.set_xlabel(\"Time [us]\", fontsize = 14)\n",
    "ax.set_ylabel(\"Population in state\", fontsize = 14)\n",
    "ax.tick_params(axis='both', labelsize=14)\n",
    "ax.grid(True)\n",
    "\n",
    "fig, ax = plt.subplots(figsize = (12,8))\n",
    "# ax.plot(t_array*1e6, P0_triplet, label = 'X, J = 0, F = 1')\n",
    "# ax.plot(t_array*1e6, P0_singlet, label = 'X, J = 0, F = 0')\n",
    "ax.plot(t_array*1e6, P0, label = 'X, J = 0')\n",
    "ax.plot(t_array*1e6, P2, label = 'X, J = 2')\n",
    "ax.plot(t_array*1e6, PB1, label = 'B, J = 1 ')\n",
    "ax.legend(fontsize = 14)\n",
    "ax.set_xlabel(\"Time [us]\", fontsize = 14)\n",
    "ax.set_ylabel(\"Population in state\", fontsize = 14)\n",
    "ax.tick_params(axis='both', labelsize=14)\n",
    "ax.set_xlim(0,5e6/wp)\n",
    "for i in range(20):\n",
    "    ax.axvline(i*1e6/wp/2, zorder = 0, color = 'k')\n",
    "    \n",
    "print(P0[-1]/P0[0])"
   ]
  },
  {
   "cell_type": "code",
   "execution_count": 278,
   "metadata": {},
   "outputs": [],
   "source": [
    "Main.eval(\"using DiffEqGPU \")\n",
    "Main.eval(\"using CUDA\")"
   ]
  },
  {
   "cell_type": "code",
   "execution_count": 220,
   "metadata": {},
   "outputs": [
    {
     "data": {
      "text/plain": [
       "[1095685.0383966048,\n",
       " 1643527.5575949072,\n",
       " 2191370.0767932096,\n",
       " 2739212.595991512,\n",
       " 3287055.1151898145,\n",
       " 3834897.634388117,\n",
       " 4382740.153586419,\n",
       " 4930582.6727847215,\n",
       " 5478425.191983024,\n",
       " 6026267.711181327,\n",
       " 6574110.230379629,\n",
       " 7121952.749577931,\n",
       " 7669795.268776234,\n",
       " 8217637.787974536,\n",
       " 8765480.307172839,\n",
       " 9313322.82637114,\n",
       " 9861165.345569443]"
      ]
     },
     "execution_count": 220,
     "metadata": {},
     "output_type": "execute_result"
    }
   ],
   "source": [
    "Main.eval(\"const Omegas = (Omega/4.5)*(0.5:0.25:4.5)\")"
   ]
  },
  {
   "cell_type": "code",
   "execution_count": 281,
   "metadata": {},
   "outputs": [
    {
     "ename": "JuliaError",
     "evalue": "Exception 'scalar getindex is disallowed' occurred while calling julia code:\nconvert(PyCall.PyObject, \nconst intermediate_GPU = similar(rho_ini_const_GPU)\nconst intermediate1_GPU = similar(rho_ini_const_GPU)\nconst intermediate2_GPU = similar(rho_ini_const_GPU)\n)",
     "output_type": "error",
     "traceback": [
      "\u001b[1;31m---------------------------------------------------------------------------\u001b[0m",
      "\u001b[1;31mJuliaError\u001b[0m                                Traceback (most recent call last)",
      "\u001b[1;32m<ipython-input-281-0b8b09e660a0>\u001b[0m in \u001b[0;36m<module>\u001b[1;34m\u001b[0m\n\u001b[0;32m      3\u001b[0m \u001b[0mconst\u001b[0m \u001b[0mintermediate1_GPU\u001b[0m \u001b[1;33m=\u001b[0m \u001b[0msimilar\u001b[0m\u001b[1;33m(\u001b[0m\u001b[0mrho_ini_const_GPU\u001b[0m\u001b[1;33m)\u001b[0m\u001b[1;33m\u001b[0m\u001b[1;33m\u001b[0m\u001b[0m\n\u001b[0;32m      4\u001b[0m \u001b[0mconst\u001b[0m \u001b[0mintermediate2_GPU\u001b[0m \u001b[1;33m=\u001b[0m \u001b[0msimilar\u001b[0m\u001b[1;33m(\u001b[0m\u001b[0mrho_ini_const_GPU\u001b[0m\u001b[1;33m)\u001b[0m\u001b[1;33m\u001b[0m\u001b[1;33m\u001b[0m\u001b[0m\n\u001b[1;32m----> 5\u001b[1;33m \"\"\")\n\u001b[0m",
      "\u001b[1;32mC:\\ProgramData\\Anaconda3\\lib\\site-packages\\julia\\core.py\u001b[0m in \u001b[0;36meval\u001b[1;34m(self, src)\u001b[0m\n\u001b[0;32m    607\u001b[0m \u001b[1;33m\u001b[0m\u001b[0m\n\u001b[0;32m    608\u001b[0m         \u001b[1;32mif\u001b[0m \u001b[0mres\u001b[0m \u001b[1;32mis\u001b[0m \u001b[1;32mNone\u001b[0m\u001b[1;33m:\u001b[0m\u001b[1;33m\u001b[0m\u001b[1;33m\u001b[0m\u001b[0m\n\u001b[1;32m--> 609\u001b[1;33m             \u001b[0mself\u001b[0m\u001b[1;33m.\u001b[0m\u001b[0mcheck_exception\u001b[0m\u001b[1;33m(\u001b[0m\u001b[1;34m\"convert(PyCall.PyObject, {})\"\u001b[0m\u001b[1;33m.\u001b[0m\u001b[0mformat\u001b[0m\u001b[1;33m(\u001b[0m\u001b[0msrc\u001b[0m\u001b[1;33m)\u001b[0m\u001b[1;33m)\u001b[0m\u001b[1;33m\u001b[0m\u001b[1;33m\u001b[0m\u001b[0m\n\u001b[0m\u001b[0;32m    610\u001b[0m         \u001b[1;32mreturn\u001b[0m \u001b[0mself\u001b[0m\u001b[1;33m.\u001b[0m\u001b[0m_as_pyobj\u001b[0m\u001b[1;33m(\u001b[0m\u001b[0mres\u001b[0m\u001b[1;33m)\u001b[0m\u001b[1;33m\u001b[0m\u001b[1;33m\u001b[0m\u001b[0m\n\u001b[0;32m    611\u001b[0m \u001b[1;33m\u001b[0m\u001b[0m\n",
      "\u001b[1;32mC:\\ProgramData\\Anaconda3\\lib\\site-packages\\julia\\core.py\u001b[0m in \u001b[0;36mcheck_exception\u001b[1;34m(self, src)\u001b[0m\n\u001b[0;32m    584\u001b[0m             \u001b[0mexception\u001b[0m \u001b[1;33m=\u001b[0m \u001b[0msprint\u001b[0m\u001b[1;33m(\u001b[0m\u001b[0mshowerror\u001b[0m\u001b[1;33m,\u001b[0m \u001b[0mself\u001b[0m\u001b[1;33m.\u001b[0m\u001b[0m_as_pyobj\u001b[0m\u001b[1;33m(\u001b[0m\u001b[0mres\u001b[0m\u001b[1;33m)\u001b[0m\u001b[1;33m)\u001b[0m\u001b[1;33m\u001b[0m\u001b[1;33m\u001b[0m\u001b[0m\n\u001b[0;32m    585\u001b[0m         raise JuliaError(u'Exception \\'{}\\' occurred while calling julia code:\\n{}'\n\u001b[1;32m--> 586\u001b[1;33m                          .format(exception, src))\n\u001b[0m\u001b[0;32m    587\u001b[0m \u001b[1;33m\u001b[0m\u001b[0m\n\u001b[0;32m    588\u001b[0m     \u001b[1;32mdef\u001b[0m \u001b[0m_typeof_julia_exception_in_transit\u001b[0m\u001b[1;33m(\u001b[0m\u001b[0mself\u001b[0m\u001b[1;33m)\u001b[0m\u001b[1;33m:\u001b[0m\u001b[1;33m\u001b[0m\u001b[1;33m\u001b[0m\u001b[0m\n",
      "\u001b[1;31mJuliaError\u001b[0m: Exception 'scalar getindex is disallowed' occurred while calling julia code:\nconvert(PyCall.PyObject, \nconst intermediate_GPU = similar(rho_ini_const_GPU)\nconst intermediate1_GPU = similar(rho_ini_const_GPU)\nconst intermediate2_GPU = similar(rho_ini_const_GPU)\n)"
     ]
    }
   ],
   "source": [
    "Main.eval(\"\"\"\n",
    "const intermediate_GPU = similar(rho_ini_const_GPU)\n",
    "const intermediate1_GPU = similar(rho_ini_const_GPU)\n",
    "const intermediate2_GPU = similar(rho_ini_const_GPU)\n",
    "\"\"\")"
   ]
  },
  {
   "cell_type": "code",
   "execution_count": 292,
   "metadata": {},
   "outputs": [
    {
     "data": {
      "text/plain": [
       "<PyCall.jlwrap Lindblad_rhs!>"
      ]
     },
     "execution_count": 292,
     "metadata": {},
     "output_type": "execute_result"
    }
   ],
   "source": [
    "Main.eval(\"\"\"\n",
    "function Lindblad_rhs!(du, u, p, t)\n",
    "    @inbounds begin\n",
    "        Omega = p[1]\n",
    "        wp = p[2]\n",
    "\n",
    "        for i = 1:idx_max\n",
    "            mul!(intermediate1_GPU,B,C[i,:,:])\n",
    "            mul!(intermediate2_GPU, A[i,:,:], intermediate1_GPU)\n",
    "            result .+= intermediate2_GPU\n",
    "        end\n",
    "        \n",
    "        Ham = Hprecalc_const_GPU\n",
    "        Ham .+= (Omega./ME_main_const)./2 .* (H_laser_z_const_GPU.*(0.5.*(1 .+ squarewave(2*pi.*frequency.*t .+ 0)))) \n",
    "        Ham .+= (Omega./ME_main_const)./2 .* (H_laser_x_const_GPU.*(0.5.*(1 .+ squarewave(2*pi.*frequency.*t .+ 3.141592653589793))))\n",
    "        \n",
    "        mul!(intermediate_GPU, Ham, u)\n",
    "        du -= 1im * intermediate_GPU\n",
    "        mul!(intermediate_GPU, u, Ham)\n",
    "        du += 1im * intermediate_GPU\n",
    "        mul!(intermediate_GPU, Cprecalc_const_GPU, u)\n",
    "        du -= 0.5 .* intermediate_GPU\n",
    "        mul!(intermediate_GPU, u, Cprecalc_const_GPU)\n",
    "        du -= 0.5 .* intermediate_GPU\n",
    "    end\n",
    "    nothing\n",
    "end\n",
    "\"\"\")"
   ]
  },
  {
   "cell_type": "code",
   "execution_count": 293,
   "metadata": {},
   "outputs": [
    {
     "data": {
      "text/plain": [
       "0"
      ]
     },
     "execution_count": 293,
     "metadata": {},
     "output_type": "execute_result"
    }
   ],
   "source": [
    "Main.eval(\"\"\"\n",
    "tspan = (0.0f0, 100e-6)\n",
    "prob = ODEProblem(Lindblad_rhs!,rho_ini,tspan,p)\n",
    "tmp = 0\n",
    "\"\"\")"
   ]
  },
  {
   "cell_type": "code",
   "execution_count": 294,
   "metadata": {},
   "outputs": [
    {
     "data": {
      "text/plain": [
       "<PyCall.jlwrap prob_func>"
      ]
     },
     "execution_count": 294,
     "metadata": {},
     "output_type": "execute_result"
    }
   ],
   "source": [
    "Main.eval(\"\"\"\n",
    "function prob_func(prob,i,repeat)\n",
    "    remake(prob,p=[Omegas[i],wp])\n",
    "end\n",
    "\"\"\")"
   ]
  },
  {
   "cell_type": "code",
   "execution_count": 295,
   "metadata": {},
   "outputs": [
    {
     "data": {
      "text/plain": [
       "<PyCall.jlwrap EnsembleProblem with problem ODEProblem>"
      ]
     },
     "execution_count": 295,
     "metadata": {},
     "output_type": "execute_result"
    }
   ],
   "source": [
    "Main.eval(\"\"\"\n",
    "ens_prob = EnsembleProblem(prob, prob_func = prob_func, safetycopy = false)\n",
    "\"\"\")"
   ]
  },
  {
   "cell_type": "code",
   "execution_count": 297,
   "metadata": {},
   "outputs": [
    {
     "ename": "JuliaError",
     "evalue": "Exception 'GPU compilation of gpu_kernel(Cassette.Context{nametype(Ctx),Nothing,Nothing,GPUifyLoops.var\"##PassType#253\",Nothing,Cassette.DisableHooks}, typeof(DiffEqGPU.gpu_kernel), typeof(Lindblad_rhs!), CUDAnative.CuDeviceArray{Complex{Float64},2,CUDAnative.AS.Global}, CUDAnative.CuDeviceArray{Complex{Float64},2,CUDAnative.AS.Global}, CUDAnative.CuDeviceArray{Float64,2,CUDAnative.AS.Global}, Float64) failed\nKernelError: recursion is currently not supported\n\nTry inspecting the generated code with any of the @device_code_... macros.\n\nStacktrace:\n [1] _nextind_str at strings/string.jl:141\n [2] nextind at strings/string.jl:137\n [3] _nextind_str at strings/string.jl:141\n [4] current_logger_for_env at logging.jl:386\n [5] #673 at C:\\Users\\ogras\\.julia\\packages\\CUDAdrv\\Uc14X\\src\\CUDAdrv.jl:64\n [6] lock at lock.jl:159\n [7] _functional at C:\\Users\\ogras\\.julia\\packages\\CUDAdrv\\Uc14X\\src\\CUDAdrv.jl:63\n [8] functional at C:\\Users\\ogras\\.julia\\packages\\CUDAdrv\\Uc14X\\src\\CUDAdrv.jl:55\n [9] #615#cache_fptr! at C:\\Users\\ogras\\.julia\\packages\\CUDAapi\\XuSHC\\src\\call.jl:31\n [10] initialize_thread at C:\\Users\\ogras\\.julia\\packages\\CUDAnative\\ierw8\\src\\init.jl:51\n [11] gpu_kernel at C:\\Users\\ogras\\.julia\\packages\\DiffEqGPU\\senL8\\src\\DiffEqGPU.jl:8' occurred while calling julia code:\n\nsol = solve(ens_prob,Tsit5(),EnsembleGPUArray(),trajectories=4)\ntmp = 0\n",
     "output_type": "error",
     "traceback": [
      "\u001b[1;31m---------------------------------------------------------------------------\u001b[0m",
      "\u001b[1;31mJuliaError\u001b[0m                                Traceback (most recent call last)",
      "\u001b[1;32m<timed exec>\u001b[0m in \u001b[0;36m<module>\u001b[1;34m\u001b[0m\n",
      "\u001b[1;32mC:\\ProgramData\\Anaconda3\\lib\\site-packages\\julia\\core.py\u001b[0m in \u001b[0;36meval\u001b[1;34m(self, src)\u001b[0m\n\u001b[0;32m    601\u001b[0m         \u001b[1;32mif\u001b[0m \u001b[0msrc\u001b[0m \u001b[1;32mis\u001b[0m \u001b[1;32mNone\u001b[0m\u001b[1;33m:\u001b[0m\u001b[1;33m\u001b[0m\u001b[1;33m\u001b[0m\u001b[0m\n\u001b[0;32m    602\u001b[0m             \u001b[1;32mreturn\u001b[0m \u001b[1;32mNone\u001b[0m\u001b[1;33m\u001b[0m\u001b[1;33m\u001b[0m\u001b[0m\n\u001b[1;32m--> 603\u001b[1;33m         \u001b[0mans\u001b[0m \u001b[1;33m=\u001b[0m \u001b[0mself\u001b[0m\u001b[1;33m.\u001b[0m\u001b[0m_call\u001b[0m\u001b[1;33m(\u001b[0m\u001b[0msrc\u001b[0m\u001b[1;33m)\u001b[0m\u001b[1;33m\u001b[0m\u001b[1;33m\u001b[0m\u001b[0m\n\u001b[0m\u001b[0;32m    604\u001b[0m         \u001b[1;32mif\u001b[0m \u001b[1;32mnot\u001b[0m \u001b[0mans\u001b[0m\u001b[1;33m:\u001b[0m\u001b[1;33m\u001b[0m\u001b[1;33m\u001b[0m\u001b[0m\n\u001b[0;32m    605\u001b[0m             \u001b[1;32mreturn\u001b[0m \u001b[1;32mNone\u001b[0m\u001b[1;33m\u001b[0m\u001b[1;33m\u001b[0m\u001b[0m\n",
      "\u001b[1;32mC:\\ProgramData\\Anaconda3\\lib\\site-packages\\julia\\core.py\u001b[0m in \u001b[0;36m_call\u001b[1;34m(self, src)\u001b[0m\n\u001b[0;32m    534\u001b[0m         \u001b[1;31m# logger.debug(\"_call(%s)\", src)\u001b[0m\u001b[1;33m\u001b[0m\u001b[1;33m\u001b[0m\u001b[1;33m\u001b[0m\u001b[0m\n\u001b[0;32m    535\u001b[0m         \u001b[0mans\u001b[0m \u001b[1;33m=\u001b[0m \u001b[0mself\u001b[0m\u001b[1;33m.\u001b[0m\u001b[0mapi\u001b[0m\u001b[1;33m.\u001b[0m\u001b[0mjl_eval_string\u001b[0m\u001b[1;33m(\u001b[0m\u001b[0msrc\u001b[0m\u001b[1;33m.\u001b[0m\u001b[0mencode\u001b[0m\u001b[1;33m(\u001b[0m\u001b[1;34m'utf-8'\u001b[0m\u001b[1;33m)\u001b[0m\u001b[1;33m)\u001b[0m\u001b[1;33m\u001b[0m\u001b[1;33m\u001b[0m\u001b[0m\n\u001b[1;32m--> 536\u001b[1;33m         \u001b[0mself\u001b[0m\u001b[1;33m.\u001b[0m\u001b[0mcheck_exception\u001b[0m\u001b[1;33m(\u001b[0m\u001b[0msrc\u001b[0m\u001b[1;33m)\u001b[0m\u001b[1;33m\u001b[0m\u001b[1;33m\u001b[0m\u001b[0m\n\u001b[0m\u001b[0;32m    537\u001b[0m \u001b[1;33m\u001b[0m\u001b[0m\n\u001b[0;32m    538\u001b[0m         \u001b[1;32mreturn\u001b[0m \u001b[0mans\u001b[0m\u001b[1;33m\u001b[0m\u001b[1;33m\u001b[0m\u001b[0m\n",
      "\u001b[1;32mC:\\ProgramData\\Anaconda3\\lib\\site-packages\\julia\\core.py\u001b[0m in \u001b[0;36mcheck_exception\u001b[1;34m(self, src)\u001b[0m\n\u001b[0;32m    584\u001b[0m             \u001b[0mexception\u001b[0m \u001b[1;33m=\u001b[0m \u001b[0msprint\u001b[0m\u001b[1;33m(\u001b[0m\u001b[0mshowerror\u001b[0m\u001b[1;33m,\u001b[0m \u001b[0mself\u001b[0m\u001b[1;33m.\u001b[0m\u001b[0m_as_pyobj\u001b[0m\u001b[1;33m(\u001b[0m\u001b[0mres\u001b[0m\u001b[1;33m)\u001b[0m\u001b[1;33m)\u001b[0m\u001b[1;33m\u001b[0m\u001b[1;33m\u001b[0m\u001b[0m\n\u001b[0;32m    585\u001b[0m         raise JuliaError(u'Exception \\'{}\\' occurred while calling julia code:\\n{}'\n\u001b[1;32m--> 586\u001b[1;33m                          .format(exception, src))\n\u001b[0m\u001b[0;32m    587\u001b[0m \u001b[1;33m\u001b[0m\u001b[0m\n\u001b[0;32m    588\u001b[0m     \u001b[1;32mdef\u001b[0m \u001b[0m_typeof_julia_exception_in_transit\u001b[0m\u001b[1;33m(\u001b[0m\u001b[0mself\u001b[0m\u001b[1;33m)\u001b[0m\u001b[1;33m:\u001b[0m\u001b[1;33m\u001b[0m\u001b[1;33m\u001b[0m\u001b[0m\n",
      "\u001b[1;31mJuliaError\u001b[0m: Exception 'GPU compilation of gpu_kernel(Cassette.Context{nametype(Ctx),Nothing,Nothing,GPUifyLoops.var\"##PassType#253\",Nothing,Cassette.DisableHooks}, typeof(DiffEqGPU.gpu_kernel), typeof(Lindblad_rhs!), CUDAnative.CuDeviceArray{Complex{Float64},2,CUDAnative.AS.Global}, CUDAnative.CuDeviceArray{Complex{Float64},2,CUDAnative.AS.Global}, CUDAnative.CuDeviceArray{Float64,2,CUDAnative.AS.Global}, Float64) failed\nKernelError: recursion is currently not supported\n\nTry inspecting the generated code with any of the @device_code_... macros.\n\nStacktrace:\n [1] _nextind_str at strings/string.jl:141\n [2] nextind at strings/string.jl:137\n [3] _nextind_str at strings/string.jl:141\n [4] current_logger_for_env at logging.jl:386\n [5] #673 at C:\\Users\\ogras\\.julia\\packages\\CUDAdrv\\Uc14X\\src\\CUDAdrv.jl:64\n [6] lock at lock.jl:159\n [7] _functional at C:\\Users\\ogras\\.julia\\packages\\CUDAdrv\\Uc14X\\src\\CUDAdrv.jl:63\n [8] functional at C:\\Users\\ogras\\.julia\\packages\\CUDAdrv\\Uc14X\\src\\CUDAdrv.jl:55\n [9] #615#cache_fptr! at C:\\Users\\ogras\\.julia\\packages\\CUDAapi\\XuSHC\\src\\call.jl:31\n [10] initialize_thread at C:\\Users\\ogras\\.julia\\packages\\CUDAnative\\ierw8\\src\\init.jl:51\n [11] gpu_kernel at C:\\Users\\ogras\\.julia\\packages\\DiffEqGPU\\senL8\\src\\DiffEqGPU.jl:8' occurred while calling julia code:\n\nsol = solve(ens_prob,Tsit5(),EnsembleGPUArray(),trajectories=4)\ntmp = 0\n"
     ]
    }
   ],
   "source": [
    "%%time\n",
    "Main.eval(\"CuArrays.allowscalar(true)\")\n",
    "Main.eval(\"\"\"\n",
    "sol = solve(ens_prob,Tsit5(),EnsembleGPUArray(),trajectories=4)\n",
    "tmp = 0\n",
    "\"\"\")\n",
    "Main.eval(\"CuArrays.allowscalar(False)\")"
   ]
  },
  {
   "cell_type": "code",
   "execution_count": null,
   "metadata": {},
   "outputs": [],
   "source": []
  }
 ],
 "metadata": {
  "kernelspec": {
   "display_name": "Python 3",
   "language": "python",
   "name": "python3"
  },
  "language_info": {
   "codemirror_mode": {
    "name": "ipython",
    "version": 3
   },
   "file_extension": ".py",
   "mimetype": "text/x-python",
   "name": "python",
   "nbconvert_exporter": "python",
   "pygments_lexer": "ipython3",
   "version": "3.7.7"
  }
 },
 "nbformat": 4,
 "nbformat_minor": 4
}
