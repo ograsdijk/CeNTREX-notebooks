{
 "cells": [
  {
   "cell_type": "code",
   "execution_count": 1,
   "metadata": {},
   "outputs": [],
   "source": [
    "using Waveforms\n",
    "using DifferentialEquations\n",
    "using StaticArrays\n",
    "using LinearAlgebra\n",
    "using BenchmarkTools\n",
    "using Distributions"
   ]
  },
  {
   "cell_type": "code",
   "execution_count": 2,
   "metadata": {},
   "outputs": [
    {
     "data": {
      "text/plain": [
       ":openblas64"
      ]
     },
     "execution_count": 2,
     "metadata": {},
     "output_type": "execute_result"
    }
   ],
   "source": [
    "BLAS.vendor()"
   ]
  },
  {
   "cell_type": "code",
   "execution_count": 3,
   "metadata": {},
   "outputs": [
    {
     "data": {
      "text/plain": [
       "#3 (generic function with 1 method)"
      ]
     },
     "execution_count": 3,
     "metadata": {},
     "output_type": "execute_result"
    }
   ],
   "source": [
    "const get_num_threads = function() # anonymous so it will be serialized when called\n",
    "    blas = LinearAlgebra.BLAS.vendor()\n",
    "    # Wrap in a try to catch unsupported blas versions\n",
    "    try\n",
    "        if blas == :openblas\n",
    "            return ccall((:openblas_get_num_threads, Base.libblas_name), Cint, ())\n",
    "        elseif blas == :openblas64\n",
    "            return ccall((:openblas_get_num_threads64_, Base.libblas_name), Cint, ())\n",
    "        elseif blas == :mkl\n",
    "            return ccall((:MKL_Get_Max_Num_Threads, Base.libblas_name), Cint, ())\n",
    "        end\n",
    "\n",
    "        # OSX BLAS looks at an environment variable\n",
    "        if Sys.isapple()\n",
    "            return tryparse(Cint, get(ENV, \"VECLIB_MAXIMUM_THREADS\", \"1\"))\n",
    "        end\n",
    "    catch\n",
    "    end\n",
    "\n",
    "    return nothing\n",
    "end"
   ]
  },
  {
   "cell_type": "code",
   "execution_count": 4,
   "metadata": {},
   "outputs": [
    {
     "data": {
      "text/latex": [
       "8"
      ],
      "text/plain": [
       "8"
      ]
     },
     "execution_count": 4,
     "metadata": {},
     "output_type": "execute_result"
    }
   ],
   "source": [
    "get_num_threads()"
   ]
  },
  {
   "cell_type": "code",
   "execution_count": 5,
   "metadata": {},
   "outputs": [],
   "source": [
    "x = rand(5000,5000)\n",
    "y = rand(5000,5000);"
   ]
  },
  {
   "cell_type": "code",
   "execution_count": 6,
   "metadata": {},
   "outputs": [
    {
     "data": {
      "text/plain": [
       "BenchmarkTools.Trial: \n",
       "  memory estimate:  190.73 MiB\n",
       "  allocs estimate:  2\n",
       "  --------------\n",
       "  minimum time:     1.080 s (0.00% GC)\n",
       "  median time:      1.095 s (0.00% GC)\n",
       "  mean time:        1.097 s (0.45% GC)\n",
       "  maximum time:     1.118 s (2.17% GC)\n",
       "  --------------\n",
       "  samples:          5\n",
       "  evals/sample:     1"
      ]
     },
     "execution_count": 6,
     "metadata": {},
     "output_type": "execute_result"
    }
   ],
   "source": [
    "@benchmark z = x*y"
   ]
  },
  {
   "cell_type": "code",
   "execution_count": 7,
   "metadata": {},
   "outputs": [],
   "source": [
    "z = zeros(5000,5000);"
   ]
  },
  {
   "cell_type": "code",
   "execution_count": 8,
   "metadata": {},
   "outputs": [
    {
     "data": {
      "text/plain": [
       "BenchmarkTools.Trial: \n",
       "  memory estimate:  0 bytes\n",
       "  allocs estimate:  0\n",
       "  --------------\n",
       "  minimum time:     1.050 s (0.00% GC)\n",
       "  median time:      1.070 s (0.00% GC)\n",
       "  mean time:        1.070 s (0.00% GC)\n",
       "  maximum time:     1.093 s (0.00% GC)\n",
       "  --------------\n",
       "  samples:          5\n",
       "  evals/sample:     1"
      ]
     },
     "execution_count": 8,
     "metadata": {},
     "output_type": "execute_result"
    }
   ],
   "source": [
    "@benchmark mul!(z,x,y)"
   ]
  },
  {
   "cell_type": "markdown",
   "metadata": {},
   "source": [
    "## Static Arrays are faster but only recommended for use of arrays with less than 100 elements"
   ]
  },
  {
   "cell_type": "code",
   "execution_count": 9,
   "metadata": {},
   "outputs": [],
   "source": [
    "x = @SMatrix rand(10,10)\n",
    "y = @SMatrix rand(10,10);"
   ]
  },
  {
   "cell_type": "code",
   "execution_count": 10,
   "metadata": {},
   "outputs": [
    {
     "data": {
      "text/plain": [
       "BenchmarkTools.Trial: \n",
       "  memory estimate:  816 bytes\n",
       "  allocs estimate:  1\n",
       "  --------------\n",
       "  minimum time:     262.983 ns (0.00% GC)\n",
       "  median time:      529.558 ns (0.00% GC)\n",
       "  mean time:        572.633 ns (14.50% GC)\n",
       "  maximum time:     52.927 μs (99.07% GC)\n",
       "  --------------\n",
       "  samples:          10000\n",
       "  evals/sample:     362"
      ]
     },
     "execution_count": 10,
     "metadata": {},
     "output_type": "execute_result"
    }
   ],
   "source": [
    "@benchmark z = x*y"
   ]
  },
  {
   "cell_type": "code",
   "execution_count": 11,
   "metadata": {},
   "outputs": [],
   "source": [
    "x = rand(10,10)\n",
    "y = rand(10,10);"
   ]
  },
  {
   "cell_type": "code",
   "execution_count": 12,
   "metadata": {},
   "outputs": [
    {
     "data": {
      "text/plain": [
       "BenchmarkTools.Trial: \n",
       "  memory estimate:  896 bytes\n",
       "  allocs estimate:  1\n",
       "  --------------\n",
       "  minimum time:     337.904 ns (0.00% GC)\n",
       "  median time:      642.466 ns (0.00% GC)\n",
       "  mean time:        677.353 ns (13.40% GC)\n",
       "  maximum time:     89.700 μs (99.17% GC)\n",
       "  --------------\n",
       "  samples:          10000\n",
       "  evals/sample:     219"
      ]
     },
     "execution_count": 12,
     "metadata": {},
     "output_type": "execute_result"
    }
   ],
   "source": [
    "@benchmark z = x*y"
   ]
  },
  {
   "cell_type": "code",
   "execution_count": 13,
   "metadata": {},
   "outputs": [],
   "source": [
    "x = Hermitian(rand(39,39) + I)\n",
    "y = Hermitian(rand(39,39));"
   ]
  },
  {
   "cell_type": "code",
   "execution_count": 14,
   "metadata": {},
   "outputs": [
    {
     "data": {
      "text/plain": [
       "BenchmarkTools.Trial: \n",
       "  memory estimate:  24.13 KiB\n",
       "  allocs estimate:  2\n",
       "  --------------\n",
       "  minimum time:     17.100 μs (0.00% GC)\n",
       "  median time:      25.401 μs (0.00% GC)\n",
       "  mean time:        30.110 μs (5.69% GC)\n",
       "  maximum time:     17.172 ms (99.69% GC)\n",
       "  --------------\n",
       "  samples:          10000\n",
       "  evals/sample:     1"
      ]
     },
     "execution_count": 14,
     "metadata": {},
     "output_type": "execute_result"
    }
   ],
   "source": [
    "@benchmark z = x*y"
   ]
  },
  {
   "cell_type": "code",
   "execution_count": 15,
   "metadata": {},
   "outputs": [],
   "source": [
    "x = Matrix(Hermitian(rand(39,39) + I))\n",
    "y = Matrix(Hermitian(rand(39,39)));"
   ]
  },
  {
   "cell_type": "code",
   "execution_count": 16,
   "metadata": {},
   "outputs": [
    {
     "data": {
      "text/plain": [
       "BenchmarkTools.Trial: \n",
       "  memory estimate:  12.06 KiB\n",
       "  allocs estimate:  1\n",
       "  --------------\n",
       "  minimum time:     5.050 μs (0.00% GC)\n",
       "  median time:      6.183 μs (0.00% GC)\n",
       "  mean time:        7.396 μs (6.92% GC)\n",
       "  maximum time:     2.910 ms (99.62% GC)\n",
       "  --------------\n",
       "  samples:          10000\n",
       "  evals/sample:     6"
      ]
     },
     "execution_count": 16,
     "metadata": {},
     "output_type": "execute_result"
    }
   ],
   "source": [
    "@benchmark z = x*y"
   ]
  },
  {
   "cell_type": "code",
   "execution_count": 17,
   "metadata": {},
   "outputs": [],
   "source": [
    "x = rand(39,39)\n",
    "y = rand(39,39);"
   ]
  },
  {
   "cell_type": "code",
   "execution_count": 18,
   "metadata": {},
   "outputs": [
    {
     "data": {
      "text/plain": [
       "BenchmarkTools.Trial: \n",
       "  memory estimate:  12.06 KiB\n",
       "  allocs estimate:  1\n",
       "  --------------\n",
       "  minimum time:     5.000 μs (0.00% GC)\n",
       "  median time:      5.217 μs (0.00% GC)\n",
       "  mean time:        5.960 μs (1.34% GC)\n",
       "  maximum time:     806.333 μs (98.77% GC)\n",
       "  --------------\n",
       "  samples:          10000\n",
       "  evals/sample:     6"
      ]
     },
     "execution_count": 18,
     "metadata": {},
     "output_type": "execute_result"
    }
   ],
   "source": [
    "@benchmark z = x*y"
   ]
  },
  {
   "cell_type": "markdown",
   "metadata": {},
   "source": [
    "### Checking some other aspects of the Lindblad RHS"
   ]
  },
  {
   "cell_type": "code",
   "execution_count": 19,
   "metadata": {},
   "outputs": [],
   "source": [
    "x = rand(ComplexF64, 39,39)\n",
    "y = rand(ComplexF64, 39,39);"
   ]
  },
  {
   "cell_type": "code",
   "execution_count": 20,
   "metadata": {},
   "outputs": [
    {
     "data": {
      "text/plain": [
       "BenchmarkTools.Trial: \n",
       "  memory estimate:  95.56 KiB\n",
       "  allocs estimate:  8\n",
       "  --------------\n",
       "  minimum time:     40.699 μs (0.00% GC)\n",
       "  median time:      44.200 μs (0.00% GC)\n",
       "  mean time:        53.716 μs (6.57% GC)\n",
       "  maximum time:     14.998 ms (99.46% GC)\n",
       "  --------------\n",
       "  samples:          10000\n",
       "  evals/sample:     1"
      ]
     },
     "execution_count": 20,
     "metadata": {},
     "output_type": "execute_result"
    }
   ],
   "source": [
    "@benchmark -1im * (x*y-y*x)"
   ]
  },
  {
   "cell_type": "code",
   "execution_count": 21,
   "metadata": {},
   "outputs": [
    {
     "data": {
      "text/plain": [
       "BenchmarkTools.Trial: \n",
       "  memory estimate:  215.02 KiB\n",
       "  allocs estimate:  18\n",
       "  --------------\n",
       "  minimum time:     81.100 μs (0.00% GC)\n",
       "  median time:      145.000 μs (0.00% GC)\n",
       "  mean time:        154.582 μs (13.97% GC)\n",
       "  maximum time:     29.071 ms (99.43% GC)\n",
       "  --------------\n",
       "  samples:          10000\n",
       "  evals/sample:     1"
      ]
     },
     "execution_count": 21,
     "metadata": {},
     "output_type": "execute_result"
    }
   ],
   "source": [
    "@benchmark -1im * (x*y-y*x) - 0.5*(y*x + x*y)"
   ]
  },
  {
   "cell_type": "code",
   "execution_count": 69,
   "metadata": {},
   "outputs": [],
   "source": [
    "x = rand(ComplexF64,39,39)\n",
    "y = rand(ComplexF64,36,39,39);"
   ]
  },
  {
   "cell_type": "code",
   "execution_count": 70,
   "metadata": {},
   "outputs": [
    {
     "data": {
      "text/plain": [
       "multi_test (generic function with 1 method)"
      ]
     },
     "execution_count": 70,
     "metadata": {},
     "output_type": "execute_result"
    }
   ],
   "source": [
    "function multi_test(x::Array{Complex{Float64},2},y::Array{Complex{Float64},2})}\n",
    "    -1im *(y*x-x*y) -0.5 * (y*x+x*y)\n",
    "end"
   ]
  },
  {
   "cell_type": "code",
   "execution_count": 71,
   "metadata": {},
   "outputs": [
    {
     "ename": "MethodError",
     "evalue": "MethodError: no method matching multi_test(::Array{Complex{Float64},2}, ::Array{Complex{Float64},3})\nClosest candidates are:\n  multi_test(::Array{Complex{Float64},2}, !Matched::Array{Complex{Float64},2}) at In[70]:2",
     "output_type": "error",
     "traceback": [
      "MethodError: no method matching multi_test(::Array{Complex{Float64},2}, ::Array{Complex{Float64},3})\nClosest candidates are:\n  multi_test(::Array{Complex{Float64},2}, !Matched::Array{Complex{Float64},2}) at In[70]:2",
      "",
      "Stacktrace:",
      " [1] macro expansion at .\\util.jl:175 [inlined]",
      " [2] top-level scope at .\\In[71]:1"
     ]
    }
   ],
   "source": [
    "@time multi_test(x,y);"
   ]
  },
  {
   "cell_type": "code",
   "execution_count": 72,
   "metadata": {},
   "outputs": [
    {
     "ename": "MethodError",
     "evalue": "MethodError: no method matching multi_test(::Array{Complex{Float64},2}, ::Array{Complex{Float64},3})\nClosest candidates are:\n  multi_test(::Array{Complex{Float64},2}, !Matched::Array{Complex{Float64},2}) at In[70]:2",
     "output_type": "error",
     "traceback": [
      "MethodError: no method matching multi_test(::Array{Complex{Float64},2}, ::Array{Complex{Float64},3})\nClosest candidates are:\n  multi_test(::Array{Complex{Float64},2}, !Matched::Array{Complex{Float64},2}) at In[70]:2",
      "",
      "Stacktrace:",
      " [1] ##core#363() at C:\\Users\\ogras\\.julia\\packages\\BenchmarkTools\\eCEpo\\src\\execution.jl:371",
      " [2] ##sample#364(::BenchmarkTools.Parameters) at C:\\Users\\ogras\\.julia\\packages\\BenchmarkTools\\eCEpo\\src\\execution.jl:377",
      " [3] _run(::BenchmarkTools.Benchmark{Symbol(\"##benchmark#362\")}, ::BenchmarkTools.Parameters; verbose::Bool, pad::String, kwargs::Base.Iterators.Pairs{Symbol,Integer,NTuple{4,Symbol},NamedTuple{(:samples, :evals, :gctrial, :gcsample),Tuple{Int64,Int64,Bool,Bool}}}) at C:\\Users\\ogras\\.julia\\packages\\BenchmarkTools\\eCEpo\\src\\execution.jl:405",
      " [4] (::Base.var\"#inner#2\"{Base.Iterators.Pairs{Symbol,Integer,NTuple{5,Symbol},NamedTuple{(:verbose, :samples, :evals, :gctrial, :gcsample),Tuple{Bool,Int64,Int64,Bool,Bool}}},typeof(BenchmarkTools._run),Tuple{BenchmarkTools.Benchmark{Symbol(\"##benchmark#362\")},BenchmarkTools.Parameters}})() at .\\essentials.jl:715",
      " [5] #invokelatest#1 at .\\essentials.jl:716 [inlined]",
      " [6] #run_result#37 at C:\\Users\\ogras\\.julia\\packages\\BenchmarkTools\\eCEpo\\src\\execution.jl:32 [inlined]",
      " [7] run(::BenchmarkTools.Benchmark{Symbol(\"##benchmark#362\")}, ::BenchmarkTools.Parameters; progressid::Nothing, nleaves::Float64, ndone::Float64, kwargs::Base.Iterators.Pairs{Symbol,Integer,NTuple{5,Symbol},NamedTuple{(:verbose, :samples, :evals, :gctrial, :gcsample),Tuple{Bool,Int64,Int64,Bool,Bool}}}) at C:\\Users\\ogras\\.julia\\packages\\BenchmarkTools\\eCEpo\\src\\execution.jl:94",
      " [8] #warmup#45 at C:\\Users\\ogras\\.julia\\packages\\BenchmarkTools\\eCEpo\\src\\execution.jl:141 [inlined]",
      " [9] warmup(::BenchmarkTools.Benchmark{Symbol(\"##benchmark#362\")}) at C:\\Users\\ogras\\.julia\\packages\\BenchmarkTools\\eCEpo\\src\\execution.jl:141",
      " [10] top-level scope at C:\\Users\\ogras\\.julia\\packages\\BenchmarkTools\\eCEpo\\src\\execution.jl:287",
      " [11] top-level scope at In[72]:1"
     ]
    }
   ],
   "source": [
    "@benchmark multi_test(x,y)"
   ]
  },
  {
   "cell_type": "code",
   "execution_count": 73,
   "metadata": {},
   "outputs": [
    {
     "data": {
      "text/plain": [
       "sum_matrix (generic function with 3 methods)"
      ]
     },
     "execution_count": 73,
     "metadata": {},
     "output_type": "execute_result"
    }
   ],
   "source": [
    "function sum_matrix(x,y)\n",
    "    s = zeros(39,39)\n",
    "    for i = 1:36\n",
    "        s = s + y[i,:,:]*x*y[i,:,:]\n",
    "    end\n",
    "end"
   ]
  },
  {
   "cell_type": "code",
   "execution_count": 74,
   "metadata": {},
   "outputs": [
    {
     "data": {
      "text/plain": [
       "BenchmarkTools.Trial: \n",
       "  memory estimate:  4.22 MiB\n",
       "  allocs estimate:  362\n",
       "  --------------\n",
       "  minimum time:     1.614 ms (0.00% GC)\n",
       "  median time:      2.918 ms (0.00% GC)\n",
       "  mean time:        3.206 ms (17.09% GC)\n",
       "  maximum time:     68.120 ms (95.28% GC)\n",
       "  --------------\n",
       "  samples:          1556\n",
       "  evals/sample:     1"
      ]
     },
     "execution_count": 74,
     "metadata": {},
     "output_type": "execute_result"
    }
   ],
   "source": [
    "@benchmark sum_matrix(x,y)"
   ]
  },
  {
   "cell_type": "code",
   "execution_count": 75,
   "metadata": {},
   "outputs": [],
   "source": [
    "x = rand(Float64,39,39)\n",
    "y = rand(Float64,36,39,39);"
   ]
  },
  {
   "cell_type": "code",
   "execution_count": 76,
   "metadata": {},
   "outputs": [
    {
     "data": {
      "text/plain": [
       "sum_matrix (generic function with 3 methods)"
      ]
     },
     "execution_count": 76,
     "metadata": {},
     "output_type": "execute_result"
    }
   ],
   "source": [
    "function sum_matrix(x,y)\n",
    "    s = zeros(Float64,39,39)\n",
    "    for i = 1:36\n",
    "        s = s + y[i,:,:]*x*y[i,:,:]\n",
    "    end\n",
    "end"
   ]
  },
  {
   "cell_type": "code",
   "execution_count": 77,
   "metadata": {},
   "outputs": [
    {
     "data": {
      "text/plain": [
       "BenchmarkTools.Trial: \n",
       "  memory estimate:  2.13 MiB\n",
       "  allocs estimate:  181\n",
       "  --------------\n",
       "  minimum time:     555.699 μs (0.00% GC)\n",
       "  median time:      714.149 μs (0.00% GC)\n",
       "  mean time:        992.701 μs (13.48% GC)\n",
       "  maximum time:     38.668 ms (96.69% GC)\n",
       "  --------------\n",
       "  samples:          5026\n",
       "  evals/sample:     1"
      ]
     },
     "execution_count": 77,
     "metadata": {},
     "output_type": "execute_result"
    }
   ],
   "source": [
    "@benchmark sum_matrix(x,y)"
   ]
  },
  {
   "cell_type": "code",
   "execution_count": 78,
   "metadata": {},
   "outputs": [
    {
     "data": {
      "text/plain": [
       "sum_matrix (generic function with 3 methods)"
      ]
     },
     "execution_count": 78,
     "metadata": {},
     "output_type": "execute_result"
    }
   ],
   "source": [
    "function sum_matrix(x::Array{Float64,2},y::Array{Float64,3})\n",
    "    s = zeros(Float64,39,39)\n",
    "    for i = 1:36\n",
    "        s = s + y[i,:,:]*x*y[i,:,:]\n",
    "    end\n",
    "end"
   ]
  },
  {
   "cell_type": "code",
   "execution_count": 79,
   "metadata": {},
   "outputs": [
    {
     "data": {
      "text/plain": [
       "BenchmarkTools.Trial: \n",
       "  memory estimate:  2.13 MiB\n",
       "  allocs estimate:  181\n",
       "  --------------\n",
       "  minimum time:     554.301 μs (0.00% GC)\n",
       "  median time:      708.100 μs (0.00% GC)\n",
       "  mean time:        893.571 μs (11.98% GC)\n",
       "  maximum time:     16.111 ms (91.48% GC)\n",
       "  --------------\n",
       "  samples:          5584\n",
       "  evals/sample:     1"
      ]
     },
     "execution_count": 79,
     "metadata": {},
     "output_type": "execute_result"
    }
   ],
   "source": [
    "@benchmark sum_matrix(x,y)"
   ]
  },
  {
   "cell_type": "code",
   "execution_count": 80,
   "metadata": {},
   "outputs": [],
   "source": [
    "x = rand(ComplexF64,39,39)\n",
    "y = rand(ComplexF64,36,39,39);"
   ]
  },
  {
   "cell_type": "code",
   "execution_count": 81,
   "metadata": {},
   "outputs": [
    {
     "data": {
      "text/plain": [
       "sum_matrix (generic function with 3 methods)"
      ]
     },
     "execution_count": 81,
     "metadata": {},
     "output_type": "execute_result"
    }
   ],
   "source": [
    "function sum_matrix(x::Array{Complex{Float64},2},y::Array{Complex{Float64},3})\n",
    "    s = zeros(ComplexF64,39,39)\n",
    "    for i = 1:36\n",
    "        s = s + y[i,:,:]*x*y[i,:,:]\n",
    "    end\n",
    "end"
   ]
  },
  {
   "cell_type": "code",
   "execution_count": 82,
   "metadata": {},
   "outputs": [
    {
     "data": {
      "text/plain": [
       "BenchmarkTools.Trial: \n",
       "  memory estimate:  4.22 MiB\n",
       "  allocs estimate:  362\n",
       "  --------------\n",
       "  minimum time:     1.673 ms (0.00% GC)\n",
       "  median time:      2.008 ms (0.00% GC)\n",
       "  mean time:        2.663 ms (10.41% GC)\n",
       "  maximum time:     56.540 ms (94.97% GC)\n",
       "  --------------\n",
       "  samples:          1873\n",
       "  evals/sample:     1"
      ]
     },
     "execution_count": 82,
     "metadata": {},
     "output_type": "execute_result"
    }
   ],
   "source": [
    "@benchmark sum_matrix(x,y)"
   ]
  },
  {
   "cell_type": "code",
   "execution_count": 83,
   "metadata": {},
   "outputs": [
    {
     "data": {
      "text/plain": [
       "sum_matrix_inbounds (generic function with 1 method)"
      ]
     },
     "execution_count": 83,
     "metadata": {},
     "output_type": "execute_result"
    }
   ],
   "source": [
    "function sum_matrix_inbounds(x::Array{Complex{Float64},2},y::Array{Complex{Float64},3})\n",
    "    s = zeros(ComplexF64,39,39)\n",
    "    @inbounds for i = 1:36\n",
    "        s = s + (y[i,:,:]*x)*y[i,:,:]\n",
    "    end\n",
    "end"
   ]
  },
  {
   "cell_type": "code",
   "execution_count": 84,
   "metadata": {},
   "outputs": [
    {
     "data": {
      "text/plain": [
       "BenchmarkTools.Trial: \n",
       "  memory estimate:  4.22 MiB\n",
       "  allocs estimate:  362\n",
       "  --------------\n",
       "  minimum time:     1.661 ms (0.00% GC)\n",
       "  median time:      3.010 ms (0.00% GC)\n",
       "  mean time:        3.334 ms (16.02% GC)\n",
       "  maximum time:     63.437 ms (94.66% GC)\n",
       "  --------------\n",
       "  samples:          1496\n",
       "  evals/sample:     1"
      ]
     },
     "execution_count": 84,
     "metadata": {},
     "output_type": "execute_result"
    }
   ],
   "source": [
    "@benchmark sum_matrix_inbounds(x,y)"
   ]
  },
  {
   "cell_type": "code",
   "execution_count": 85,
   "metadata": {},
   "outputs": [
    {
     "data": {
      "text/plain": [
       "sum_matrix_inbounds_sim (generic function with 1 method)"
      ]
     },
     "execution_count": 85,
     "metadata": {},
     "output_type": "execute_result"
    }
   ],
   "source": [
    "function sum_matrix_inbounds_sim(x::Array{Complex{Float64},2},y::Array{Complex{Float64},3})\n",
    "    s = zeros(ComplexF64,39,39)\n",
    "    @inbounds @simd for i = 1:36\n",
    "        s = s + (y[i,:,:]*x)*y[i,:,:]\n",
    "    end\n",
    "end"
   ]
  },
  {
   "cell_type": "code",
   "execution_count": 86,
   "metadata": {},
   "outputs": [
    {
     "data": {
      "text/plain": [
       "BenchmarkTools.Trial: \n",
       "  memory estimate:  4.22 MiB\n",
       "  allocs estimate:  362\n",
       "  --------------\n",
       "  minimum time:     1.673 ms (0.00% GC)\n",
       "  median time:      2.986 ms (0.00% GC)\n",
       "  mean time:        3.277 ms (15.95% GC)\n",
       "  maximum time:     62.220 ms (95.09% GC)\n",
       "  --------------\n",
       "  samples:          1523\n",
       "  evals/sample:     1"
      ]
     },
     "execution_count": 86,
     "metadata": {},
     "output_type": "execute_result"
    }
   ],
   "source": [
    "@benchmark sum_matrix_inbounds_sim(x,y)"
   ]
  },
  {
   "cell_type": "code",
   "execution_count": 87,
   "metadata": {},
   "outputs": [
    {
     "data": {
      "text/plain": [
       "sum_matrix_threads (generic function with 1 method)"
      ]
     },
     "execution_count": 87,
     "metadata": {},
     "output_type": "execute_result"
    }
   ],
   "source": [
    "function sum_matrix_threads(x::Array{Complex{Float64},2},y::Array{Complex{Float64},3})\n",
    "    s = zeros(ComplexF64,39,39)\n",
    "    Threads.@threads for i = 1:36\n",
    "        s = s + (y[i,:,:]*x)*y[i,:,:]\n",
    "    end\n",
    "    s\n",
    "end"
   ]
  },
  {
   "cell_type": "code",
   "execution_count": 88,
   "metadata": {},
   "outputs": [],
   "source": [
    "sum_matrix_threads(x,y);"
   ]
  },
  {
   "cell_type": "code",
   "execution_count": 89,
   "metadata": {},
   "outputs": [
    {
     "data": {
      "text/plain": [
       "BenchmarkTools.Trial: \n",
       "  memory estimate:  4.22 MiB\n",
       "  allocs estimate:  371\n",
       "  --------------\n",
       "  minimum time:     1.731 ms (0.00% GC)\n",
       "  median time:      2.979 ms (0.00% GC)\n",
       "  mean time:        3.252 ms (15.07% GC)\n",
       "  maximum time:     63.610 ms (96.90% GC)\n",
       "  --------------\n",
       "  samples:          1535\n",
       "  evals/sample:     1"
      ]
     },
     "execution_count": 89,
     "metadata": {},
     "output_type": "execute_result"
    }
   ],
   "source": [
    "@benchmark sum_matrix_threads(x,y)"
   ]
  },
  {
   "cell_type": "code",
   "execution_count": 90,
   "metadata": {},
   "outputs": [
    {
     "data": {
      "text/plain": [
       "BenchmarkTools.Trial: \n",
       "  memory estimate:  4.22 MiB\n",
       "  allocs estimate:  371\n",
       "  --------------\n",
       "  minimum time:     1.691 ms (0.00% GC)\n",
       "  median time:      2.998 ms (0.00% GC)\n",
       "  mean time:        3.368 ms (17.14% GC)\n",
       "  maximum time:     78.245 ms (96.24% GC)\n",
       "  --------------\n",
       "  samples:          1481\n",
       "  evals/sample:     1"
      ]
     },
     "execution_count": 90,
     "metadata": {},
     "output_type": "execute_result"
    }
   ],
   "source": [
    "@benchmark sum_matrix_threads(x,y)"
   ]
  },
  {
   "cell_type": "code",
   "execution_count": 91,
   "metadata": {},
   "outputs": [
    {
     "name": "stdout",
     "output_type": "stream",
     "text": [
      "  0.003549 seconds (371 allocations: 4.224 MiB)\n"
     ]
    }
   ],
   "source": [
    "@time sum_matrix_threads(x,y);"
   ]
  },
  {
   "cell_type": "code",
   "execution_count": 92,
   "metadata": {},
   "outputs": [
    {
     "name": "stdout",
     "output_type": "stream",
     "text": [
      "  0.003058 seconds (371 allocations: 4.224 MiB)\n"
     ]
    }
   ],
   "source": [
    "@time sum_matrix_threads(x,y);"
   ]
  },
  {
   "cell_type": "code",
   "execution_count": 93,
   "metadata": {},
   "outputs": [
    {
     "name": "stdout",
     "output_type": "stream",
     "text": [
      "  0.003428 seconds (362 allocations: 4.223 MiB)\n"
     ]
    }
   ],
   "source": [
    "@time sum_matrix_inbounds_sim(x,y)"
   ]
  },
  {
   "cell_type": "code",
   "execution_count": 150,
   "metadata": {},
   "outputs": [
    {
     "data": {
      "text/plain": [
       "sum_matrix_inbounds (generic function with 1 method)"
      ]
     },
     "execution_count": 150,
     "metadata": {},
     "output_type": "execute_result"
    }
   ],
   "source": [
    "function sum_matrix_inbounds(x::Array{Complex{Float64},2},y::Array{Complex{Float64},3})\n",
    "    s = zeros(ComplexF64,39,39)\n",
    "    @inbounds for i = 1:36\n",
    "        s .= s .+ y[i,:,:]*x*y[i,:,:]\n",
    "    end\n",
    "end"
   ]
  },
  {
   "cell_type": "code",
   "execution_count": 151,
   "metadata": {},
   "outputs": [
    {
     "data": {
      "text/plain": [
       "BenchmarkTools.Trial: \n",
       "  memory estimate:  3.38 MiB\n",
       "  allocs estimate:  290\n",
       "  --------------\n",
       "  minimum time:     1.598 ms (0.00% GC)\n",
       "  median time:      2.650 ms (0.00% GC)\n",
       "  mean time:        2.986 ms (15.48% GC)\n",
       "  maximum time:     87.838 ms (97.05% GC)\n",
       "  --------------\n",
       "  samples:          1693\n",
       "  evals/sample:     1"
      ]
     },
     "execution_count": 151,
     "metadata": {},
     "output_type": "execute_result"
    }
   ],
   "source": [
    "@benchmark sum_matrix_inbounds(x,y)"
   ]
  },
  {
   "cell_type": "code",
   "execution_count": 152,
   "metadata": {},
   "outputs": [
    {
     "data": {
      "text/plain": [
       "sum_matrix_inbounds (generic function with 1 method)"
      ]
     },
     "execution_count": 152,
     "metadata": {},
     "output_type": "execute_result"
    }
   ],
   "source": [
    "function sum_matrix_inbounds(x::Array{Complex{Float64},2},y::Array{Complex{Float64},3})\n",
    "    s = zeros(ComplexF64,39,39)\n",
    "    @inbounds for i = 1:36\n",
    "        a = @view y[i,:,:]\n",
    "        b = @view y[i,:,:]\n",
    "        s .= s .+ a*x*b\n",
    "    end\n",
    "end"
   ]
  },
  {
   "cell_type": "code",
   "execution_count": 153,
   "metadata": {},
   "outputs": [
    {
     "data": {
      "text/plain": [
       "BenchmarkTools.Trial: \n",
       "  memory estimate:  1.73 MiB\n",
       "  allocs estimate:  650\n",
       "  --------------\n",
       "  minimum time:     4.319 ms (0.00% GC)\n",
       "  median time:      4.868 ms (0.00% GC)\n",
       "  mean time:        5.058 ms (4.87% GC)\n",
       "  maximum time:     75.790 ms (93.88% GC)\n",
       "  --------------\n",
       "  samples:          988\n",
       "  evals/sample:     1"
      ]
     },
     "execution_count": 153,
     "metadata": {},
     "output_type": "execute_result"
    }
   ],
   "source": [
    "@benchmark sum_matrix_inbounds(x,y)"
   ]
  },
  {
   "cell_type": "code",
   "execution_count": 154,
   "metadata": {},
   "outputs": [
    {
     "data": {
      "text/plain": [
       "Lindblad_rhs (generic function with 1 method)"
      ]
     },
     "execution_count": 154,
     "metadata": {},
     "output_type": "execute_result"
    }
   ],
   "source": [
    "function Lindblad_rhs(u::Array{Complex{Float64},2},t::Float64)\n",
    "    s = zeros(ComplexF64,39,39)\n",
    "    @inbounds for i = 1:33\n",
    "        a = @view C_array_const[i,:,:]\n",
    "        b = @view C_conj_array_const[i,:,:]\n",
    "        s .= s .+ a*u*b\n",
    "    end\n",
    "    -1im .* (Hamiltonian(t).*u .- u*Hamiltonian(t)) .- 0.5 * (Cprecalc_const*u .+ u*Cprecalc_const) .+ s\n",
    "end"
   ]
  },
  {
   "cell_type": "code",
   "execution_count": 155,
   "metadata": {},
   "outputs": [
    {
     "name": "stderr",
     "output_type": "stream",
     "text": [
      "WARNING: redefining constant Cprecalc_const\n",
      "WARNING: redefining constant C_array_const\n",
      "WARNING: redefining constant C_conj_array_const\n"
     ]
    }
   ],
   "source": [
    "const Cprecalc_const = rand(ComplexF64,39,39)\n",
    "const C_array_const = rand(ComplexF64,36,39,39)\n",
    "const C_conj_array_const = rand(ComplexF64,36,39,39);"
   ]
  },
  {
   "cell_type": "code",
   "execution_count": 156,
   "metadata": {},
   "outputs": [
    {
     "data": {
      "text/plain": [
       "Hamiltonian (generic function with 1 method)"
      ]
     },
     "execution_count": 156,
     "metadata": {},
     "output_type": "execute_result"
    }
   ],
   "source": [
    "function Hamiltonian(t::Float64)::Array{Complex{Float64},2}\n",
    "    rand(ComplexF64,39,39)*t\n",
    "end"
   ]
  },
  {
   "cell_type": "code",
   "execution_count": 157,
   "metadata": {},
   "outputs": [],
   "source": [
    "u = rand(ComplexF64,39,39);"
   ]
  },
  {
   "cell_type": "code",
   "execution_count": 158,
   "metadata": {},
   "outputs": [
    {
     "data": {
      "text/plain": [
       "BenchmarkTools.Trial: \n",
       "  memory estimate:  1.82 MiB\n",
       "  allocs estimate:  616\n",
       "  --------------\n",
       "  minimum time:     4.138 ms (0.00% GC)\n",
       "  median time:      4.698 ms (0.00% GC)\n",
       "  mean time:        4.999 ms (5.99% GC)\n",
       "  maximum time:     107.664 ms (95.81% GC)\n",
       "  --------------\n",
       "  samples:          1000\n",
       "  evals/sample:     1"
      ]
     },
     "execution_count": 158,
     "metadata": {},
     "output_type": "execute_result"
    }
   ],
   "source": [
    "@benchmark Lindblad_rhs(u,1e-6)"
   ]
  },
  {
   "cell_type": "code",
   "execution_count": 159,
   "metadata": {},
   "outputs": [
    {
     "data": {
      "text/plain": [
       "sum_mult! (generic function with 1 method)"
      ]
     },
     "execution_count": 159,
     "metadata": {},
     "output_type": "execute_result"
    }
   ],
   "source": [
    "function sum_mult!(result::Array{Complex{Float64},2}, \n",
    "                  A::Array{Complex{Float64},3},\n",
    "                  B::Array{Complex{Float64},2}, \n",
    "                  C::Array{Complex{Float64},3})\n",
    "    @inbounds for i = 1:33\n",
    "        a = @view A[i,:,:]\n",
    "        c = @view C[i,:,:]\n",
    "        result .= result .+ a*B*c\n",
    "    end\n",
    "end"
   ]
  },
  {
   "cell_type": "code",
   "execution_count": 160,
   "metadata": {},
   "outputs": [],
   "source": [
    "s = zeros(ComplexF64,39,39);"
   ]
  },
  {
   "cell_type": "code",
   "execution_count": 161,
   "metadata": {},
   "outputs": [
    {
     "data": {
      "text/plain": [
       "BenchmarkTools.Trial: \n",
       "  memory estimate:  1.57 MiB\n",
       "  allocs estimate:  594\n",
       "  --------------\n",
       "  minimum time:     3.993 ms (0.00% GC)\n",
       "  median time:      4.491 ms (0.00% GC)\n",
       "  mean time:        4.656 ms (4.10% GC)\n",
       "  maximum time:     90.976 ms (94.19% GC)\n",
       "  --------------\n",
       "  samples:          1073\n",
       "  evals/sample:     1"
      ]
     },
     "execution_count": 161,
     "metadata": {},
     "output_type": "execute_result"
    }
   ],
   "source": [
    "@benchmark sum_mult!(s,C_array_const,u,C_conj_array_const)"
   ]
  },
  {
   "cell_type": "code",
   "execution_count": 162,
   "metadata": {},
   "outputs": [
    {
     "data": {
      "text/plain": [
       "sum_mult! (generic function with 1 method)"
      ]
     },
     "execution_count": 162,
     "metadata": {},
     "output_type": "execute_result"
    }
   ],
   "source": [
    "function sum_mult!(result::Array{Complex{Float64},2}, \n",
    "                  A::Array{Complex{Float64},3},\n",
    "                  B::Array{Complex{Float64},2}, \n",
    "                  C::Array{Complex{Float64},3})\n",
    "    @inbounds for i = 1:33\n",
    "        result .= result .+ A[i,:,:]*B*C[i,:,:]\n",
    "    end\n",
    "end"
   ]
  },
  {
   "cell_type": "code",
   "execution_count": 163,
   "metadata": {},
   "outputs": [],
   "source": [
    "s = zeros(ComplexF64,39,39);"
   ]
  },
  {
   "cell_type": "code",
   "execution_count": 164,
   "metadata": {},
   "outputs": [
    {
     "data": {
      "text/plain": [
       "BenchmarkTools.Trial: \n",
       "  memory estimate:  3.08 MiB\n",
       "  allocs estimate:  264\n",
       "  --------------\n",
       "  minimum time:     1.476 ms (0.00% GC)\n",
       "  median time:      2.487 ms (0.00% GC)\n",
       "  mean time:        2.973 ms (19.98% GC)\n",
       "  maximum time:     125.652 ms (98.02% GC)\n",
       "  --------------\n",
       "  samples:          1678\n",
       "  evals/sample:     1"
      ]
     },
     "execution_count": 164,
     "metadata": {},
     "output_type": "execute_result"
    }
   ],
   "source": [
    "@benchmark sum_mult!(s,C_array_const,u,C_conj_array_const)"
   ]
  },
  {
   "cell_type": "code",
   "execution_count": 216,
   "metadata": {},
   "outputs": [
    {
     "data": {
      "text/latex": [
       "36"
      ],
      "text/plain": [
       "36"
      ]
     },
     "execution_count": 216,
     "metadata": {},
     "output_type": "execute_result"
    }
   ],
   "source": [
    "size(C_array_const)[1]"
   ]
  },
  {
   "cell_type": "code",
   "execution_count": 232,
   "metadata": {},
   "outputs": [
    {
     "data": {
      "text/plain": [
       "sum_mult! (generic function with 4 methods)"
      ]
     },
     "execution_count": 232,
     "metadata": {},
     "output_type": "execute_result"
    }
   ],
   "source": [
    "function sum_mult!(result::Array{Complex{Float64},2}, \n",
    "                  A::Array{Complex{Float64},3},\n",
    "                  B::Array{Complex{Float64},2}, \n",
    "                  C::Array{Complex{Float64},3},\n",
    "                  idx_max::Int64,\n",
    "                  shape::Array{Int64,1}\n",
    "    )\n",
    "    intermediate1 = zeros(ComplexF64, shape[1], shape[2])\n",
    "    intermediate2 = zeros(ComplexF64, shape[1], shape[2])\n",
    "    @inbounds for i = 1:idx_max\n",
    "        mul!(intermediate1,B,C[i,:,:])\n",
    "        mul!(intermediate2, A[i,:,:], intermediate1)\n",
    "        result .+= intermediate2\n",
    "    end\n",
    "end"
   ]
  },
  {
   "cell_type": "code",
   "execution_count": 233,
   "metadata": {},
   "outputs": [],
   "source": [
    "s = zeros(ComplexF64,39,39);"
   ]
  },
  {
   "cell_type": "code",
   "execution_count": 234,
   "metadata": {},
   "outputs": [
    {
     "data": {
      "text/plain": [
       "BenchmarkTools.Trial: \n",
       "  memory estimate:  1.59 MiB\n",
       "  allocs estimate:  137\n",
       "  --------------\n",
       "  minimum time:     1.446 ms (0.00% GC)\n",
       "  median time:      1.954 ms (0.00% GC)\n",
       "  mean time:        2.299 ms (16.07% GC)\n",
       "  maximum time:     201.854 ms (99.06% GC)\n",
       "  --------------\n",
       "  samples:          2171\n",
       "  evals/sample:     1"
      ]
     },
     "execution_count": 234,
     "metadata": {},
     "output_type": "execute_result"
    }
   ],
   "source": [
    "@benchmark sum_mult!(s,C_array_const,u,C_conj_array_const, 33,[39,39])"
   ]
  },
  {
   "cell_type": "code",
   "execution_count": 235,
   "metadata": {},
   "outputs": [
    {
     "data": {
      "text/plain": [
       "Lindblad_rhs (generic function with 1 method)"
      ]
     },
     "execution_count": 235,
     "metadata": {},
     "output_type": "execute_result"
    }
   ],
   "source": [
    "function Lindblad_rhs(u::Array{Complex{Float64},2},t::Float64)\n",
    "    s = zeros(ComplexF64,39,39)\n",
    "    sum_mult!(s,C_array_const,u,C_conj_array_const,33,[39,39])\n",
    "    s .= s .- 1im .* Hamiltonian(t)*u\n",
    "    s .= s .+ 1im .* Hamiltonian(t)*u\n",
    "    s .= s .- 0.5 .* Cprecalc_const*u\n",
    "    s .= s .- 0.5 .* u*Cprecalc_const\n",
    "    return s\n",
    "end"
   ]
  },
  {
   "cell_type": "code",
   "execution_count": 236,
   "metadata": {},
   "outputs": [
    {
     "data": {
      "text/plain": [
       "BenchmarkTools.Trial: \n",
       "  memory estimate:  1.89 MiB\n",
       "  allocs estimate:  163\n",
       "  --------------\n",
       "  minimum time:     1.565 ms (0.00% GC)\n",
       "  median time:      2.191 ms (0.00% GC)\n",
       "  mean time:        2.565 ms (14.80% GC)\n",
       "  maximum time:     150.214 ms (98.53% GC)\n",
       "  --------------\n",
       "  samples:          1945\n",
       "  evals/sample:     1"
      ]
     },
     "execution_count": 236,
     "metadata": {},
     "output_type": "execute_result"
    }
   ],
   "source": [
    "@benchmark Lindblad_rhs(u,1e-6)"
   ]
  },
  {
   "cell_type": "code",
   "execution_count": 244,
   "metadata": {},
   "outputs": [
    {
     "data": {
      "text/plain": [
       "Lindblad_rhs! (generic function with 1 method)"
      ]
     },
     "execution_count": 244,
     "metadata": {},
     "output_type": "execute_result"
    }
   ],
   "source": [
    "function Lindblad_rhs!(du::Array{Complex{Float64}}, u::Array{Complex{Float64},2},t::Float64)\n",
    "    intermediate = zeros(ComplexF64,39,39)\n",
    "    fill!(du,0.0)\n",
    "    sum_mult!(du,C_array_const,u,C_conj_array_const,33,[39,39])\n",
    "    mul!(intermediate, Hamiltonian(t), u)\n",
    "    du .-= 1im .* intermediate\n",
    "    mul!(intermediate, u, Hamiltonian(t))\n",
    "    du .+= 1im .* intermediate\n",
    "    mul!(intermediate, Cprecalc_const, u)\n",
    "    du .-= 0.5 .* intermediate\n",
    "    mul!(intermediate, u, Cprecalc_const)\n",
    "    du .-= 0.5 .* intermediate\n",
    "end"
   ]
  },
  {
   "cell_type": "code",
   "execution_count": 245,
   "metadata": {},
   "outputs": [],
   "source": [
    "du = rand(ComplexF64,39,39);"
   ]
  },
  {
   "cell_type": "code",
   "execution_count": 246,
   "metadata": {},
   "outputs": [
    {
     "data": {
      "text/plain": [
       "BenchmarkTools.Trial: \n",
       "  memory estimate:  1.70 MiB\n",
       "  allocs estimate:  147\n",
       "  --------------\n",
       "  minimum time:     1.559 ms (0.00% GC)\n",
       "  median time:      2.101 ms (0.00% GC)\n",
       "  mean time:        2.656 ms (21.85% GC)\n",
       "  maximum time:     368.673 ms (99.44% GC)\n",
       "  --------------\n",
       "  samples:          1879\n",
       "  evals/sample:     1"
      ]
     },
     "execution_count": 246,
     "metadata": {},
     "output_type": "execute_result"
    }
   ],
   "source": [
    "@benchmark Lindblad_rhs!(du, u,1e-6)"
   ]
  },
  {
   "cell_type": "code",
   "execution_count": 242,
   "metadata": {},
   "outputs": [
    {
     "data": {
      "text/plain": [
       "BenchmarkTools.Trial: \n",
       "  memory estimate:  1.87 MiB\n",
       "  allocs estimate:  161\n",
       "  --------------\n",
       "  minimum time:     1.571 ms (0.00% GC)\n",
       "  median time:      2.174 ms (0.00% GC)\n",
       "  mean time:        2.549 ms (15.89% GC)\n",
       "  maximum time:     238.618 ms (99.08% GC)\n",
       "  --------------\n",
       "  samples:          1958\n",
       "  evals/sample:     1"
      ]
     },
     "execution_count": 242,
     "metadata": {},
     "output_type": "execute_result"
    }
   ],
   "source": [
    "@benchmark Lindblad_rhs!(du, u,1e-6)"
   ]
  },
  {
   "cell_type": "code",
   "execution_count": 111,
   "metadata": {},
   "outputs": [
    {
     "data": {
      "text/plain": [
       "square_wave (generic function with 1 method)"
      ]
     },
     "execution_count": 111,
     "metadata": {},
     "output_type": "execute_result"
    }
   ],
   "source": [
    "function square_wave(t::Float64, frequency::Float64, phase::Float64)\n",
    "    0.5.*(1+squarewave(2*pi.*frequency.*t .+ phase))\n",
    "end"
   ]
  },
  {
   "cell_type": "code",
   "execution_count": 112,
   "metadata": {},
   "outputs": [
    {
     "data": {
      "text/plain": [
       "BenchmarkTools.Trial: \n",
       "  memory estimate:  0 bytes\n",
       "  allocs estimate:  0\n",
       "  --------------\n",
       "  minimum time:     2.499 ns (0.00% GC)\n",
       "  median time:      2.600 ns (0.00% GC)\n",
       "  mean time:        2.625 ns (0.00% GC)\n",
       "  maximum time:     10.100 ns (0.00% GC)\n",
       "  --------------\n",
       "  samples:          10000\n",
       "  evals/sample:     1000"
      ]
     },
     "execution_count": 112,
     "metadata": {},
     "output_type": "execute_result"
    }
   ],
   "source": [
    "@benchmark square_wave(1e-6, 1/(2*2e-6), 0.0)"
   ]
  },
  {
   "cell_type": "code",
   "execution_count": 249,
   "metadata": {},
   "outputs": [
    {
     "data": {
      "text/plain": [
       "Hamiltonian (generic function with 1 method)"
      ]
     },
     "execution_count": 249,
     "metadata": {},
     "output_type": "execute_result"
    }
   ],
   "source": [
    "function Hamiltonian(t::Float64)::Array{Complex{Float64},2}\n",
    "    rand(ComplexF64,39,39).*square_wave(t, 1/(2*2e-6), 0.0)\n",
    "end"
   ]
  },
  {
   "cell_type": "code",
   "execution_count": 250,
   "metadata": {},
   "outputs": [
    {
     "data": {
      "text/plain": [
       "Lindblad_rhs! (generic function with 1 method)"
      ]
     },
     "execution_count": 250,
     "metadata": {},
     "output_type": "execute_result"
    }
   ],
   "source": [
    "function Lindblad_rhs!(du::Array{Complex{Float64}}, u::Array{Complex{Float64},2},t::Float64)\n",
    "    intermediate = zeros(ComplexF64,39,39)\n",
    "    fill!(du,0.0)\n",
    "    sum_mult!(du,C_array_const,u,C_conj_array_const,33,[39,39])\n",
    "    mul!(intermediate, Hamiltonian(t), u)\n",
    "    du .-= 1im .* intermediate\n",
    "    mul!(intermediate, u, Hamiltonian(t))\n",
    "    du .+= 1im .* intermediate\n",
    "    mul!(intermediate, Cprecalc_const, u)\n",
    "    du .-= 0.5 .* intermediate\n",
    "    mul!(intermediate, u, Cprecalc_const)\n",
    "    du .-= 0.5 .* intermediate\n",
    "end"
   ]
  },
  {
   "cell_type": "code",
   "execution_count": 251,
   "metadata": {},
   "outputs": [
    {
     "data": {
      "text/plain": [
       "BenchmarkTools.Trial: \n",
       "  memory estimate:  1.70 MiB\n",
       "  allocs estimate:  147\n",
       "  --------------\n",
       "  minimum time:     1.570 ms (0.00% GC)\n",
       "  median time:      2.110 ms (0.00% GC)\n",
       "  mean time:        2.481 ms (15.30% GC)\n",
       "  maximum time:     197.407 ms (98.80% GC)\n",
       "  --------------\n",
       "  samples:          2011\n",
       "  evals/sample:     1"
      ]
     },
     "execution_count": 251,
     "metadata": {},
     "output_type": "execute_result"
    }
   ],
   "source": [
    "@benchmark Lindblad_rhs!(du, u,1e-6)"
   ]
  },
  {
   "cell_type": "markdown",
   "metadata": {},
   "source": [
    "Still about a factor 1.5 to 2 slower than the numpy implementation."
   ]
  },
  {
   "cell_type": "code",
   "execution_count": null,
   "metadata": {},
   "outputs": [],
   "source": []
  }
 ],
 "metadata": {
  "kernelspec": {
   "display_name": "Julia 1.4.2",
   "language": "julia",
   "name": "julia-1.4"
  },
  "language_info": {
   "file_extension": ".jl",
   "mimetype": "application/julia",
   "name": "julia",
   "version": "1.4.2"
  }
 },
 "nbformat": 4,
 "nbformat_minor": 4
}
