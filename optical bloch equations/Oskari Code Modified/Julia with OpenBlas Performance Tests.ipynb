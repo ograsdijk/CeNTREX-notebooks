{
 "cells": [
  {
   "cell_type": "code",
   "execution_count": 1,
   "metadata": {},
   "outputs": [],
   "source": [
    "using Waveforms\n",
    "using DifferentialEquations\n",
    "using StaticArrays\n",
    "using LinearAlgebra\n",
    "using BenchmarkTools\n",
    "using Distributions"
   ]
  },
  {
   "cell_type": "code",
   "execution_count": 2,
   "metadata": {},
   "outputs": [
    {
     "data": {
      "text/plain": [
       ":openblas64"
      ]
     },
     "execution_count": 2,
     "metadata": {},
     "output_type": "execute_result"
    }
   ],
   "source": [
    "BLAS.vendor()"
   ]
  },
  {
   "cell_type": "code",
   "execution_count": 3,
   "metadata": {},
   "outputs": [
    {
     "data": {
      "text/plain": [
       "#1 (generic function with 1 method)"
      ]
     },
     "execution_count": 3,
     "metadata": {},
     "output_type": "execute_result"
    }
   ],
   "source": [
    "const get_num_threads = function() # anonymous so it will be serialized when called\n",
    "    blas = LinearAlgebra.BLAS.vendor()\n",
    "    # Wrap in a try to catch unsupported blas versions\n",
    "    try\n",
    "        if blas == :openblas\n",
    "            return ccall((:openblas_get_num_threads, Base.libblas_name), Cint, ())\n",
    "        elseif blas == :openblas64\n",
    "            return ccall((:openblas_get_num_threads64_, Base.libblas_name), Cint, ())\n",
    "        elseif blas == :mkl\n",
    "            return ccall((:MKL_Get_Max_Num_Threads, Base.libblas_name), Cint, ())\n",
    "        end\n",
    "\n",
    "        # OSX BLAS looks at an environment variable\n",
    "        if Sys.isapple()\n",
    "            return tryparse(Cint, get(ENV, \"VECLIB_MAXIMUM_THREADS\", \"1\"))\n",
    "        end\n",
    "    catch\n",
    "    end\n",
    "\n",
    "    return nothing\n",
    "end"
   ]
  },
  {
   "cell_type": "code",
   "execution_count": 4,
   "metadata": {},
   "outputs": [
    {
     "data": {
      "text/latex": [
       "8"
      ],
      "text/plain": [
       "8"
      ]
     },
     "execution_count": 4,
     "metadata": {},
     "output_type": "execute_result"
    }
   ],
   "source": [
    "get_num_threads()"
   ]
  },
  {
   "cell_type": "code",
   "execution_count": 5,
   "metadata": {},
   "outputs": [],
   "source": [
    "x = rand(5000,5000)\n",
    "y = rand(5000,5000);"
   ]
  },
  {
   "cell_type": "code",
   "execution_count": 6,
   "metadata": {},
   "outputs": [
    {
     "data": {
      "text/plain": [
       "BenchmarkTools.Trial: \n",
       "  memory estimate:  190.73 MiB\n",
       "  allocs estimate:  2\n",
       "  --------------\n",
       "  minimum time:     855.796 ms (0.00% GC)\n",
       "  median time:      874.424 ms (0.00% GC)\n",
       "  mean time:        876.842 ms (0.36% GC)\n",
       "  maximum time:     903.093 ms (2.01% GC)\n",
       "  --------------\n",
       "  samples:          6\n",
       "  evals/sample:     1"
      ]
     },
     "execution_count": 6,
     "metadata": {},
     "output_type": "execute_result"
    }
   ],
   "source": [
    "@benchmark z = x*y"
   ]
  },
  {
   "cell_type": "code",
   "execution_count": 7,
   "metadata": {},
   "outputs": [],
   "source": [
    "z = zeros(5000,5000);"
   ]
  },
  {
   "cell_type": "code",
   "execution_count": 8,
   "metadata": {},
   "outputs": [
    {
     "data": {
      "text/plain": [
       "BenchmarkTools.Trial: \n",
       "  memory estimate:  0 bytes\n",
       "  allocs estimate:  0\n",
       "  --------------\n",
       "  minimum time:     805.031 ms (0.00% GC)\n",
       "  median time:      820.979 ms (0.00% GC)\n",
       "  mean time:        822.798 ms (0.00% GC)\n",
       "  maximum time:     838.818 ms (0.00% GC)\n",
       "  --------------\n",
       "  samples:          7\n",
       "  evals/sample:     1"
      ]
     },
     "execution_count": 8,
     "metadata": {},
     "output_type": "execute_result"
    }
   ],
   "source": [
    "@benchmark mul!(z,x,y)"
   ]
  },
  {
   "cell_type": "markdown",
   "metadata": {},
   "source": [
    "## Static Arrays are faster but only recommended for use of arrays with less than 100 elements"
   ]
  },
  {
   "cell_type": "code",
   "execution_count": 9,
   "metadata": {},
   "outputs": [],
   "source": [
    "x = @SMatrix rand(10,10)\n",
    "y = @SMatrix rand(10,10);"
   ]
  },
  {
   "cell_type": "code",
   "execution_count": 10,
   "metadata": {},
   "outputs": [
    {
     "data": {
      "text/plain": [
       "BenchmarkTools.Trial: \n",
       "  memory estimate:  816 bytes\n",
       "  allocs estimate:  1\n",
       "  --------------\n",
       "  minimum time:     290.217 ns (0.00% GC)\n",
       "  median time:      639.496 ns (0.00% GC)\n",
       "  mean time:        658.391 ns (15.43% GC)\n",
       "  maximum time:     73.588 μs (99.04% GC)\n",
       "  --------------\n",
       "  samples:          10000\n",
       "  evals/sample:     276"
      ]
     },
     "execution_count": 10,
     "metadata": {},
     "output_type": "execute_result"
    }
   ],
   "source": [
    "@benchmark z = x*y"
   ]
  },
  {
   "cell_type": "code",
   "execution_count": 11,
   "metadata": {},
   "outputs": [],
   "source": [
    "x = rand(10,10)\n",
    "y = rand(10,10);"
   ]
  },
  {
   "cell_type": "code",
   "execution_count": 12,
   "metadata": {},
   "outputs": [
    {
     "data": {
      "text/plain": [
       "BenchmarkTools.Trial: \n",
       "  memory estimate:  896 bytes\n",
       "  allocs estimate:  1\n",
       "  --------------\n",
       "  minimum time:     341.284 ns (0.00% GC)\n",
       "  median time:      735.321 ns (0.00% GC)\n",
       "  mean time:        751.507 ns (13.95% GC)\n",
       "  maximum time:     94.697 μs (99.30% GC)\n",
       "  --------------\n",
       "  samples:          10000\n",
       "  evals/sample:     218"
      ]
     },
     "execution_count": 12,
     "metadata": {},
     "output_type": "execute_result"
    }
   ],
   "source": [
    "@benchmark z = x*y"
   ]
  },
  {
   "cell_type": "code",
   "execution_count": 13,
   "metadata": {},
   "outputs": [],
   "source": [
    "x = Hermitian(rand(39,39) + I)\n",
    "y = Hermitian(rand(39,39));"
   ]
  },
  {
   "cell_type": "code",
   "execution_count": 14,
   "metadata": {},
   "outputs": [
    {
     "data": {
      "text/plain": [
       "BenchmarkTools.Trial: \n",
       "  memory estimate:  24.13 KiB\n",
       "  allocs estimate:  2\n",
       "  --------------\n",
       "  minimum time:     72.301 μs (0.00% GC)\n",
       "  median time:      109.800 μs (0.00% GC)\n",
       "  mean time:        115.255 μs (1.68% GC)\n",
       "  maximum time:     19.655 ms (98.28% GC)\n",
       "  --------------\n",
       "  samples:          10000\n",
       "  evals/sample:     1"
      ]
     },
     "execution_count": 14,
     "metadata": {},
     "output_type": "execute_result"
    }
   ],
   "source": [
    "@benchmark z = x*y"
   ]
  },
  {
   "cell_type": "code",
   "execution_count": 15,
   "metadata": {},
   "outputs": [],
   "source": [
    "x = Matrix(Hermitian(rand(39,39) + I))\n",
    "y = Matrix(Hermitian(rand(39,39)));"
   ]
  },
  {
   "cell_type": "code",
   "execution_count": 16,
   "metadata": {},
   "outputs": [
    {
     "data": {
      "text/plain": [
       "BenchmarkTools.Trial: \n",
       "  memory estimate:  12.06 KiB\n",
       "  allocs estimate:  1\n",
       "  --------------\n",
       "  minimum time:     4.171 μs (0.00% GC)\n",
       "  median time:      7.871 μs (0.00% GC)\n",
       "  mean time:        10.839 μs (11.52% GC)\n",
       "  maximum time:     3.797 ms (99.58% GC)\n",
       "  --------------\n",
       "  samples:          10000\n",
       "  evals/sample:     7"
      ]
     },
     "execution_count": 16,
     "metadata": {},
     "output_type": "execute_result"
    }
   ],
   "source": [
    "@benchmark z = x*y"
   ]
  },
  {
   "cell_type": "code",
   "execution_count": 17,
   "metadata": {},
   "outputs": [],
   "source": [
    "x = rand(39,39)\n",
    "y = rand(39,39);"
   ]
  },
  {
   "cell_type": "code",
   "execution_count": 18,
   "metadata": {},
   "outputs": [
    {
     "data": {
      "text/plain": [
       "BenchmarkTools.Trial: \n",
       "  memory estimate:  12.06 KiB\n",
       "  allocs estimate:  1\n",
       "  --------------\n",
       "  minimum time:     4.243 μs (0.00% GC)\n",
       "  median time:      5.386 μs (0.00% GC)\n",
       "  mean time:        7.996 μs (8.34% GC)\n",
       "  maximum time:     2.852 ms (99.68% GC)\n",
       "  --------------\n",
       "  samples:          10000\n",
       "  evals/sample:     7"
      ]
     },
     "execution_count": 18,
     "metadata": {},
     "output_type": "execute_result"
    }
   ],
   "source": [
    "@benchmark z = x*y"
   ]
  },
  {
   "cell_type": "markdown",
   "metadata": {},
   "source": [
    "### Checking some other aspects of the Lindblad RHS"
   ]
  },
  {
   "cell_type": "code",
   "execution_count": 19,
   "metadata": {},
   "outputs": [],
   "source": [
    "x = rand(ComplexF64, 39,39)\n",
    "y = rand(ComplexF64, 39,39);"
   ]
  },
  {
   "cell_type": "code",
   "execution_count": 20,
   "metadata": {},
   "outputs": [
    {
     "data": {
      "text/plain": [
       "BenchmarkTools.Trial: \n",
       "  memory estimate:  95.56 KiB\n",
       "  allocs estimate:  8\n",
       "  --------------\n",
       "  minimum time:     142.600 μs (0.00% GC)\n",
       "  median time:      253.800 μs (0.00% GC)\n",
       "  mean time:        266.165 μs (4.23% GC)\n",
       "  maximum time:     20.869 ms (98.65% GC)\n",
       "  --------------\n",
       "  samples:          10000\n",
       "  evals/sample:     1"
      ]
     },
     "execution_count": 20,
     "metadata": {},
     "output_type": "execute_result"
    }
   ],
   "source": [
    "@benchmark -1im * (x*y-y*x)"
   ]
  },
  {
   "cell_type": "code",
   "execution_count": 21,
   "metadata": {},
   "outputs": [
    {
     "data": {
      "text/plain": [
       "BenchmarkTools.Trial: \n",
       "  memory estimate:  215.02 KiB\n",
       "  allocs estimate:  18\n",
       "  --------------\n",
       "  minimum time:     293.299 μs (0.00% GC)\n",
       "  median time:      517.501 μs (0.00% GC)\n",
       "  mean time:        543.698 μs (4.62% GC)\n",
       "  maximum time:     25.009 ms (96.84% GC)\n",
       "  --------------\n",
       "  samples:          9175\n",
       "  evals/sample:     1"
      ]
     },
     "execution_count": 21,
     "metadata": {},
     "output_type": "execute_result"
    }
   ],
   "source": [
    "@benchmark -1im * (x*y-y*x) - 0.5*(y*x + x*y)"
   ]
  },
  {
   "cell_type": "code",
   "execution_count": 22,
   "metadata": {},
   "outputs": [],
   "source": [
    "x = rand(39,39)\n",
    "y = rand(36,39,39);"
   ]
  },
  {
   "cell_type": "code",
   "execution_count": 23,
   "metadata": {},
   "outputs": [
    {
     "data": {
      "text/plain": [
       "multi_test (generic function with 1 method)"
      ]
     },
     "execution_count": 23,
     "metadata": {},
     "output_type": "execute_result"
    }
   ],
   "source": [
    "function multi_test(x::Array{Complex{Float64},2},y::Array{Complex{Float64},2})::Array{Complex{Float64},2}\n",
    "    -1im *(y*x-x*y) -0.5 * (y*x+x*y)\n",
    "end"
   ]
  },
  {
   "cell_type": "code",
   "execution_count": 24,
   "metadata": {},
   "outputs": [
    {
     "ename": "LoadError",
     "evalue": "MethodError: no method matching multi_test(::Array{Float64,2}, ::Array{Float64,3})",
     "output_type": "error",
     "traceback": [
      "MethodError: no method matching multi_test(::Array{Float64,2}, ::Array{Float64,3})",
      "",
      "Stacktrace:",
      " [1] top-level scope at .\\timing.jl:174 [inlined]",
      " [2] top-level scope at .\\In[24]:0",
      " [3] include_string(::Function, ::Module, ::String, ::String) at .\\loading.jl:1091",
      " [4] execute_code(::String, ::String) at C:\\Users\\Olivier\\.julia\\packages\\IJulia\\rWZ9e\\src\\execute_request.jl:27",
      " [5] execute_request(::ZMQ.Socket, ::IJulia.Msg) at C:\\Users\\Olivier\\.julia\\packages\\IJulia\\rWZ9e\\src\\execute_request.jl:86",
      " [6] #invokelatest#1 at .\\essentials.jl:710 [inlined]",
      " [7] invokelatest at .\\essentials.jl:709 [inlined]",
      " [8] eventloop(::ZMQ.Socket) at C:\\Users\\Olivier\\.julia\\packages\\IJulia\\rWZ9e\\src\\eventloop.jl:8",
      " [9] (::IJulia.var\"#15#18\")() at .\\task.jl:356"
     ]
    }
   ],
   "source": [
    "@time multi_test(x,y);"
   ]
  },
  {
   "cell_type": "code",
   "execution_count": 25,
   "metadata": {},
   "outputs": [
    {
     "ename": "LoadError",
     "evalue": "MethodError: no method matching multi_test(::Array{Float64,2}, ::Array{Float64,3})",
     "output_type": "error",
     "traceback": [
      "MethodError: no method matching multi_test(::Array{Float64,2}, ::Array{Float64,3})",
      "",
      "Stacktrace:",
      " [1] ##core#291() at C:\\Users\\Olivier\\.julia\\packages\\BenchmarkTools\\eCEpo\\src\\execution.jl:371",
      " [2] ##sample#292(::BenchmarkTools.Parameters) at C:\\Users\\Olivier\\.julia\\packages\\BenchmarkTools\\eCEpo\\src\\execution.jl:377",
      " [3] _run(::BenchmarkTools.Benchmark{Symbol(\"##benchmark#290\")}, ::BenchmarkTools.Parameters; verbose::Bool, pad::String, kwargs::Base.Iterators.Pairs{Symbol,Integer,NTuple{4,Symbol},NamedTuple{(:samples, :evals, :gctrial, :gcsample),Tuple{Int64,Int64,Bool,Bool}}}) at C:\\Users\\Olivier\\.julia\\packages\\BenchmarkTools\\eCEpo\\src\\execution.jl:405",
      " [4] (::Base.var\"#inner#2\"{Base.Iterators.Pairs{Symbol,Integer,NTuple{5,Symbol},NamedTuple{(:verbose, :samples, :evals, :gctrial, :gcsample),Tuple{Bool,Int64,Int64,Bool,Bool}}},typeof(BenchmarkTools._run),Tuple{BenchmarkTools.Benchmark{Symbol(\"##benchmark#290\")},BenchmarkTools.Parameters}})() at .\\essentials.jl:713",
      " [5] #invokelatest#1 at .\\essentials.jl:714 [inlined]",
      " [6] #run_result#37 at C:\\Users\\Olivier\\.julia\\packages\\BenchmarkTools\\eCEpo\\src\\execution.jl:32 [inlined]",
      " [7] run(::BenchmarkTools.Benchmark{Symbol(\"##benchmark#290\")}, ::BenchmarkTools.Parameters; progressid::Nothing, nleaves::Float64, ndone::Float64, kwargs::Base.Iterators.Pairs{Symbol,Integer,NTuple{5,Symbol},NamedTuple{(:verbose, :samples, :evals, :gctrial, :gcsample),Tuple{Bool,Int64,Int64,Bool,Bool}}}) at C:\\Users\\Olivier\\.julia\\packages\\BenchmarkTools\\eCEpo\\src\\execution.jl:94",
      " [8] #warmup#45 at C:\\Users\\Olivier\\.julia\\packages\\BenchmarkTools\\eCEpo\\src\\execution.jl:141 [inlined]",
      " [9] warmup(::BenchmarkTools.Benchmark{Symbol(\"##benchmark#290\")}) at C:\\Users\\Olivier\\.julia\\packages\\BenchmarkTools\\eCEpo\\src\\execution.jl:141",
      " [10] top-level scope at C:\\Users\\Olivier\\.julia\\packages\\BenchmarkTools\\eCEpo\\src\\execution.jl:287",
      " [11] include_string(::Function, ::Module, ::String, ::String) at .\\loading.jl:1091",
      " [12] execute_code(::String, ::String) at C:\\Users\\Olivier\\.julia\\packages\\IJulia\\rWZ9e\\src\\execute_request.jl:27",
      " [13] execute_request(::ZMQ.Socket, ::IJulia.Msg) at C:\\Users\\Olivier\\.julia\\packages\\IJulia\\rWZ9e\\src\\execute_request.jl:86",
      " [14] #invokelatest#1 at .\\essentials.jl:710 [inlined]",
      " [15] invokelatest at .\\essentials.jl:709 [inlined]",
      " [16] eventloop(::ZMQ.Socket) at C:\\Users\\Olivier\\.julia\\packages\\IJulia\\rWZ9e\\src\\eventloop.jl:8",
      " [17] (::IJulia.var\"#15#18\")() at .\\task.jl:356"
     ]
    }
   ],
   "source": [
    "@benchmark multi_test(x,y)"
   ]
  },
  {
   "cell_type": "code",
   "execution_count": 26,
   "metadata": {},
   "outputs": [
    {
     "data": {
      "text/plain": [
       "sum_matrix (generic function with 1 method)"
      ]
     },
     "execution_count": 26,
     "metadata": {},
     "output_type": "execute_result"
    }
   ],
   "source": [
    "function sum_matrix(x,y)\n",
    "    s = zeros(39,39)\n",
    "    for i = 1:36\n",
    "        s = s + y[i,:,:]*x*y[i,:,:]\n",
    "    end\n",
    "end"
   ]
  },
  {
   "cell_type": "code",
   "execution_count": 27,
   "metadata": {},
   "outputs": [
    {
     "data": {
      "text/plain": [
       "BenchmarkTools.Trial: \n",
       "  memory estimate:  2.13 MiB\n",
       "  allocs estimate:  181\n",
       "  --------------\n",
       "  minimum time:     473.101 μs (0.00% GC)\n",
       "  median time:      549.600 μs (0.00% GC)\n",
       "  mean time:        796.048 μs (11.86% GC)\n",
       "  maximum time:     9.726 ms (87.44% GC)\n",
       "  --------------\n",
       "  samples:          6266\n",
       "  evals/sample:     1"
      ]
     },
     "execution_count": 27,
     "metadata": {},
     "output_type": "execute_result"
    }
   ],
   "source": [
    "@benchmark sum_matrix(x,y)"
   ]
  },
  {
   "cell_type": "code",
   "execution_count": 28,
   "metadata": {},
   "outputs": [],
   "source": [
    "x = rand(Float64,39,39)\n",
    "y = rand(Float64,36,39,39);"
   ]
  },
  {
   "cell_type": "code",
   "execution_count": 29,
   "metadata": {},
   "outputs": [
    {
     "data": {
      "text/plain": [
       "sum_matrix (generic function with 1 method)"
      ]
     },
     "execution_count": 29,
     "metadata": {},
     "output_type": "execute_result"
    }
   ],
   "source": [
    "function sum_matrix(x,y)\n",
    "    s = zeros(Float64,39,39)\n",
    "    for i = 1:36\n",
    "        s = s + y[i,:,:]*x*y[i,:,:]\n",
    "    end\n",
    "end"
   ]
  },
  {
   "cell_type": "code",
   "execution_count": 30,
   "metadata": {},
   "outputs": [
    {
     "data": {
      "text/plain": [
       "BenchmarkTools.Trial: \n",
       "  memory estimate:  2.13 MiB\n",
       "  allocs estimate:  181\n",
       "  --------------\n",
       "  minimum time:     476.500 μs (0.00% GC)\n",
       "  median time:      564.000 μs (0.00% GC)\n",
       "  mean time:        704.535 μs (10.53% GC)\n",
       "  maximum time:     24.333 ms (96.88% GC)\n",
       "  --------------\n",
       "  samples:          7098\n",
       "  evals/sample:     1"
      ]
     },
     "execution_count": 30,
     "metadata": {},
     "output_type": "execute_result"
    }
   ],
   "source": [
    "@benchmark sum_matrix(x,y)"
   ]
  },
  {
   "cell_type": "code",
   "execution_count": 31,
   "metadata": {},
   "outputs": [
    {
     "data": {
      "text/plain": [
       "sum_matrix (generic function with 2 methods)"
      ]
     },
     "execution_count": 31,
     "metadata": {},
     "output_type": "execute_result"
    }
   ],
   "source": [
    "function sum_matrix(x::Array{Float64,2},y::Array{Float64,3})\n",
    "    s = zeros(Float64,39,39)\n",
    "    for i = 1:36\n",
    "        s = s + y[i,:,:]*x*y[i,:,:]\n",
    "    end\n",
    "end"
   ]
  },
  {
   "cell_type": "code",
   "execution_count": 32,
   "metadata": {},
   "outputs": [
    {
     "data": {
      "text/plain": [
       "BenchmarkTools.Trial: \n",
       "  memory estimate:  2.13 MiB\n",
       "  allocs estimate:  181\n",
       "  --------------\n",
       "  minimum time:     477.000 μs (0.00% GC)\n",
       "  median time:      564.899 μs (0.00% GC)\n",
       "  mean time:        701.659 μs (10.58% GC)\n",
       "  maximum time:     22.228 ms (95.99% GC)\n",
       "  --------------\n",
       "  samples:          7121\n",
       "  evals/sample:     1"
      ]
     },
     "execution_count": 32,
     "metadata": {},
     "output_type": "execute_result"
    }
   ],
   "source": [
    "@benchmark sum_matrix(x,y)"
   ]
  },
  {
   "cell_type": "code",
   "execution_count": 33,
   "metadata": {},
   "outputs": [],
   "source": [
    "x = rand(ComplexF64,39,39)\n",
    "y = rand(ComplexF64,36,39,39);"
   ]
  },
  {
   "cell_type": "code",
   "execution_count": 34,
   "metadata": {},
   "outputs": [
    {
     "data": {
      "text/plain": [
       "sum_matrix (generic function with 3 methods)"
      ]
     },
     "execution_count": 34,
     "metadata": {},
     "output_type": "execute_result"
    }
   ],
   "source": [
    "function sum_matrix(x::Array{Complex{Float64},2},y::Array{Complex{Float64},3})\n",
    "    s = zeros(ComplexF64,39,39)\n",
    "    for i = 1:36\n",
    "        s = s + y[i,:,:]*x*y[i,:,:]\n",
    "    end\n",
    "end"
   ]
  },
  {
   "cell_type": "code",
   "execution_count": 35,
   "metadata": {},
   "outputs": [
    {
     "data": {
      "text/plain": [
       "BenchmarkTools.Trial: \n",
       "  memory estimate:  4.22 MiB\n",
       "  allocs estimate:  362\n",
       "  --------------\n",
       "  minimum time:     7.367 ms (0.00% GC)\n",
       "  median time:      8.763 ms (0.00% GC)\n",
       "  mean time:        9.360 ms (2.42% GC)\n",
       "  maximum time:     27.896 ms (62.98% GC)\n",
       "  --------------\n",
       "  samples:          535\n",
       "  evals/sample:     1"
      ]
     },
     "execution_count": 35,
     "metadata": {},
     "output_type": "execute_result"
    }
   ],
   "source": [
    "@benchmark sum_matrix(x,y)"
   ]
  },
  {
   "cell_type": "code",
   "execution_count": 36,
   "metadata": {},
   "outputs": [
    {
     "data": {
      "text/plain": [
       "sum_matrix_inbounds (generic function with 1 method)"
      ]
     },
     "execution_count": 36,
     "metadata": {},
     "output_type": "execute_result"
    }
   ],
   "source": [
    "function sum_matrix_inbounds(x::Array{Complex{Float64},2},y::Array{Complex{Float64},3})\n",
    "    s = zeros(ComplexF64,39,39)\n",
    "    @inbounds for i = 1:36\n",
    "        s = s + (y[i,:,:]*x)*y[i,:,:]\n",
    "    end\n",
    "end"
   ]
  },
  {
   "cell_type": "code",
   "execution_count": 37,
   "metadata": {},
   "outputs": [
    {
     "data": {
      "text/plain": [
       "BenchmarkTools.Trial: \n",
       "  memory estimate:  4.22 MiB\n",
       "  allocs estimate:  362\n",
       "  --------------\n",
       "  minimum time:     7.706 ms (0.00% GC)\n",
       "  median time:      10.154 ms (0.00% GC)\n",
       "  mean time:        10.573 ms (4.69% GC)\n",
       "  maximum time:     42.839 ms (75.70% GC)\n",
       "  --------------\n",
       "  samples:          473\n",
       "  evals/sample:     1"
      ]
     },
     "execution_count": 37,
     "metadata": {},
     "output_type": "execute_result"
    }
   ],
   "source": [
    "@benchmark sum_matrix_inbounds(x,y)"
   ]
  },
  {
   "cell_type": "code",
   "execution_count": 38,
   "metadata": {},
   "outputs": [
    {
     "data": {
      "text/plain": [
       "sum_matrix_inbounds_sim (generic function with 1 method)"
      ]
     },
     "execution_count": 38,
     "metadata": {},
     "output_type": "execute_result"
    }
   ],
   "source": [
    "function sum_matrix_inbounds_sim(x::Array{Complex{Float64},2},y::Array{Complex{Float64},3})\n",
    "    s = zeros(ComplexF64,39,39)\n",
    "    @inbounds @simd for i = 1:36\n",
    "        s = s + (y[i,:,:]*x)*y[i,:,:]\n",
    "    end\n",
    "end"
   ]
  },
  {
   "cell_type": "code",
   "execution_count": 39,
   "metadata": {},
   "outputs": [
    {
     "data": {
      "text/plain": [
       "BenchmarkTools.Trial: \n",
       "  memory estimate:  4.22 MiB\n",
       "  allocs estimate:  362\n",
       "  --------------\n",
       "  minimum time:     5.484 ms (0.00% GC)\n",
       "  median time:      9.094 ms (0.00% GC)\n",
       "  mean time:        9.444 ms (4.75% GC)\n",
       "  maximum time:     45.671 ms (76.28% GC)\n",
       "  --------------\n",
       "  samples:          531\n",
       "  evals/sample:     1"
      ]
     },
     "execution_count": 39,
     "metadata": {},
     "output_type": "execute_result"
    }
   ],
   "source": [
    "@benchmark sum_matrix_inbounds_sim(x,y)"
   ]
  },
  {
   "cell_type": "code",
   "execution_count": 40,
   "metadata": {},
   "outputs": [
    {
     "data": {
      "text/plain": [
       "sum_matrix_threads (generic function with 1 method)"
      ]
     },
     "execution_count": 40,
     "metadata": {},
     "output_type": "execute_result"
    }
   ],
   "source": [
    "function sum_matrix_threads(x::Array{Complex{Float64},2},y::Array{Complex{Float64},3})\n",
    "    s = zeros(ComplexF64,39,39)\n",
    "    Threads.@threads for i = 1:36\n",
    "        s = s + (y[i,:,:]*x)*y[i,:,:]\n",
    "    end\n",
    "    s\n",
    "end"
   ]
  },
  {
   "cell_type": "code",
   "execution_count": 41,
   "metadata": {},
   "outputs": [],
   "source": [
    "sum_matrix_threads(x,y);"
   ]
  },
  {
   "cell_type": "code",
   "execution_count": 42,
   "metadata": {},
   "outputs": [
    {
     "data": {
      "text/plain": [
       "BenchmarkTools.Trial: \n",
       "  memory estimate:  4.22 MiB\n",
       "  allocs estimate:  369\n",
       "  --------------\n",
       "  minimum time:     6.239 ms (0.00% GC)\n",
       "  median time:      9.247 ms (0.00% GC)\n",
       "  mean time:        9.678 ms (4.47% GC)\n",
       "  maximum time:     38.476 ms (72.09% GC)\n",
       "  --------------\n",
       "  samples:          517\n",
       "  evals/sample:     1"
      ]
     },
     "execution_count": 42,
     "metadata": {},
     "output_type": "execute_result"
    }
   ],
   "source": [
    "@benchmark sum_matrix_threads(x,y)"
   ]
  },
  {
   "cell_type": "code",
   "execution_count": 53,
   "metadata": {},
   "outputs": [
    {
     "data": {
      "text/plain": [
       "BenchmarkTools.Trial: \n",
       "  memory estimate:  4.22 MiB\n",
       "  allocs estimate:  369\n",
       "  --------------\n",
       "  minimum time:     6.952 ms (0.00% GC)\n",
       "  median time:      9.802 ms (0.00% GC)\n",
       "  mean time:        10.204 ms (4.53% GC)\n",
       "  maximum time:     54.762 ms (77.73% GC)\n",
       "  --------------\n",
       "  samples:          490\n",
       "  evals/sample:     1"
      ]
     },
     "execution_count": 53,
     "metadata": {},
     "output_type": "execute_result"
    }
   ],
   "source": [
    "@benchmark sum_matrix_threads(x,y)"
   ]
  },
  {
   "cell_type": "code",
   "execution_count": 54,
   "metadata": {},
   "outputs": [
    {
     "name": "stdout",
     "output_type": "stream",
     "text": [
      "  0.012857 seconds (369 allocations: 4.224 MiB)\n"
     ]
    }
   ],
   "source": [
    "@time sum_matrix_threads(x,y);"
   ]
  },
  {
   "cell_type": "code",
   "execution_count": 55,
   "metadata": {},
   "outputs": [
    {
     "name": "stdout",
     "output_type": "stream",
     "text": [
      "  0.010220 seconds (371 allocations: 4.224 MiB)\n"
     ]
    }
   ],
   "source": [
    "@time sum_matrix_threads(x,y);"
   ]
  },
  {
   "cell_type": "code",
   "execution_count": 56,
   "metadata": {},
   "outputs": [
    {
     "name": "stdout",
     "output_type": "stream",
     "text": [
      "  0.010319 seconds (362 allocations: 4.223 MiB)\n"
     ]
    }
   ],
   "source": [
    "@time sum_matrix_inbounds_sim(x,y)"
   ]
  },
  {
   "cell_type": "code",
   "execution_count": 62,
   "metadata": {},
   "outputs": [
    {
     "data": {
      "text/plain": [
       "sum_matrix_inbounds (generic function with 1 method)"
      ]
     },
     "execution_count": 62,
     "metadata": {},
     "output_type": "execute_result"
    }
   ],
   "source": [
    "function sum_matrix_inbounds(x::Array{Complex{Float64},2},y::Array{Complex{Float64},3})\n",
    "    s = zeros(ComplexF64,39,39)\n",
    "    @inbounds for i = 1:36\n",
    "        s .= s .+ y[i,:,:].*x.*y[i,:,:]\n",
    "    end\n",
    "end"
   ]
  },
  {
   "cell_type": "code",
   "execution_count": 63,
   "metadata": {},
   "outputs": [
    {
     "data": {
      "text/plain": [
       "BenchmarkTools.Trial: \n",
       "  memory estimate:  1.70 MiB\n",
       "  allocs estimate:  146\n",
       "  --------------\n",
       "  minimum time:     336.300 μs (0.00% GC)\n",
       "  median time:      960.300 μs (0.00% GC)\n",
       "  mean time:        977.266 μs (18.93% GC)\n",
       "  maximum time:     37.148 ms (97.36% GC)\n",
       "  --------------\n",
       "  samples:          5147\n",
       "  evals/sample:     1"
      ]
     },
     "execution_count": 63,
     "metadata": {},
     "output_type": "execute_result"
    }
   ],
   "source": [
    "@benchmark sum_matrix_inbounds(x,y)"
   ]
  },
  {
   "cell_type": "code",
   "execution_count": 64,
   "metadata": {},
   "outputs": [
    {
     "data": {
      "text/plain": [
       "sum_matrix_inbounds (generic function with 1 method)"
      ]
     },
     "execution_count": 64,
     "metadata": {},
     "output_type": "execute_result"
    }
   ],
   "source": [
    "function sum_matrix_inbounds(x::Array{Complex{Float64},2},y::Array{Complex{Float64},3})\n",
    "    s = zeros(ComplexF64,39,39)\n",
    "    @inbounds for i = 1:36\n",
    "        a = @view y[i,:,:]\n",
    "        b = @view y[i,:,:]\n",
    "        s .= s .+ a.*x.*b\n",
    "    end\n",
    "end"
   ]
  },
  {
   "cell_type": "code",
   "execution_count": 65,
   "metadata": {},
   "outputs": [
    {
     "data": {
      "text/plain": [
       "BenchmarkTools.Trial: \n",
       "  memory estimate:  23.89 KiB\n",
       "  allocs estimate:  2\n",
       "  --------------\n",
       "  minimum time:     171.200 μs (0.00% GC)\n",
       "  median time:      189.400 μs (0.00% GC)\n",
       "  mean time:        197.745 μs (1.88% GC)\n",
       "  maximum time:     37.411 ms (99.37% GC)\n",
       "  --------------\n",
       "  samples:          10000\n",
       "  evals/sample:     1"
      ]
     },
     "execution_count": 65,
     "metadata": {},
     "output_type": "execute_result"
    }
   ],
   "source": [
    "@benchmark sum_matrix_inbounds(x,y)"
   ]
  },
  {
   "cell_type": "code",
   "execution_count": 61,
   "metadata": {},
   "outputs": [
    {
     "data": {
      "text/plain": [
       "Lindblad_rhs (generic function with 2 methods)"
      ]
     },
     "execution_count": 61,
     "metadata": {},
     "output_type": "execute_result"
    }
   ],
   "source": [
    "function Lindblad_rhs(u::Array{Complex{Float64},2},t::Float64)\n",
    "    s = zeros(ComplexF64,39,39)\n",
    "    @inbounds for i = 1:33\n",
    "        a = @view C_array_const[i,:,:]\n",
    "        b = @view C_conj_array_const[i,:,:]\n",
    "        s .= s .+ a.*u.*b\n",
    "    end\n",
    "    -1im .* (Hamiltonian(t).*u .- u.*Hamiltonian(t)) .- 0.5 .* (Cprecalc_const.*u .+ u.*Cprecalc_const) .+ s\n",
    "end"
   ]
  },
  {
   "cell_type": "code",
   "execution_count": 73,
   "metadata": {},
   "outputs": [
    {
     "name": "stderr",
     "output_type": "stream",
     "text": [
      "WARNING: redefinition of constant Cprecalc_const. This may fail, cause incorrect answers, or produce other errors.\n",
      "WARNING: redefinition of constant C_array_const. This may fail, cause incorrect answers, or produce other errors.\n"
     ]
    }
   ],
   "source": [
    "const Cprecalc_const = rand(ComplexF64,39,39)\n",
    "const C_array_const = rand(ComplexF64,36,39,39)\n",
    "const C_conj_array_const = rand(ComplexF64,36,39,39);"
   ]
  },
  {
   "cell_type": "code",
   "execution_count": 74,
   "metadata": {},
   "outputs": [
    {
     "data": {
      "text/plain": [
       "Hamiltonian (generic function with 1 method)"
      ]
     },
     "execution_count": 74,
     "metadata": {},
     "output_type": "execute_result"
    }
   ],
   "source": [
    "function Hamiltonian(t::Float64)::Array{Complex{Float64},2}\n",
    "    rand(ComplexF64,39,39).*t\n",
    "end"
   ]
  },
  {
   "cell_type": "code",
   "execution_count": 106,
   "metadata": {},
   "outputs": [],
   "source": [
    "u = rand(ComplexF64,39,39);"
   ]
  },
  {
   "cell_type": "code",
   "execution_count": 76,
   "metadata": {},
   "outputs": [
    {
     "data": {
      "text/plain": [
       "BenchmarkTools.Trial: \n",
       "  memory estimate:  143.34 KiB\n",
       "  allocs estimate:  12\n",
       "  --------------\n",
       "  minimum time:     311.801 μs (0.00% GC)\n",
       "  median time:      385.200 μs (0.00% GC)\n",
       "  mean time:        402.042 μs (5.37% GC)\n",
       "  maximum time:     53.020 ms (99.28% GC)\n",
       "  --------------\n",
       "  samples:          10000\n",
       "  evals/sample:     1"
      ]
     },
     "execution_count": 76,
     "metadata": {},
     "output_type": "execute_result"
    }
   ],
   "source": [
    "@benchmark Lindblad_rhs(u,1e-6)"
   ]
  },
  {
   "cell_type": "code",
   "execution_count": 89,
   "metadata": {},
   "outputs": [
    {
     "data": {
      "text/plain": [
       "sum_mult! (generic function with 1 method)"
      ]
     },
     "execution_count": 89,
     "metadata": {},
     "output_type": "execute_result"
    }
   ],
   "source": [
    "function sum_mult!(result::Array{Complex{Float64},2}, \n",
    "                  A::Array{Complex{Float64},3},\n",
    "                  B::Array{Complex{Float64},2}, \n",
    "                  C::Array{Complex{Float64},3})\n",
    "    @inbounds for i = 1:33\n",
    "        a = @view A[i,:,:]\n",
    "        c = @view C[i,:,:]\n",
    "        result .= result .+ a.*B.*c\n",
    "    end\n",
    "end"
   ]
  },
  {
   "cell_type": "code",
   "execution_count": 95,
   "metadata": {},
   "outputs": [],
   "source": [
    "s = zeros(ComplexF64,39,39);"
   ]
  },
  {
   "cell_type": "code",
   "execution_count": 97,
   "metadata": {},
   "outputs": [
    {
     "data": {
      "text/plain": [
       "BenchmarkTools.Trial: \n",
       "  memory estimate:  0 bytes\n",
       "  allocs estimate:  0\n",
       "  --------------\n",
       "  minimum time:     233.900 μs (0.00% GC)\n",
       "  median time:      243.800 μs (0.00% GC)\n",
       "  mean time:        249.805 μs (0.00% GC)\n",
       "  maximum time:     742.301 μs (0.00% GC)\n",
       "  --------------\n",
       "  samples:          10000\n",
       "  evals/sample:     1"
      ]
     },
     "execution_count": 97,
     "metadata": {},
     "output_type": "execute_result"
    }
   ],
   "source": [
    "@benchmark sum_mult!(s,C_array_const,u,C_conj_array_const)"
   ]
  },
  {
   "cell_type": "code",
   "execution_count": 99,
   "metadata": {},
   "outputs": [
    {
     "data": {
      "text/plain": [
       "Lindblad_rhs (generic function with 3 methods)"
      ]
     },
     "execution_count": 99,
     "metadata": {},
     "output_type": "execute_result"
    }
   ],
   "source": [
    "function Lindblad_rhs(u::Array{Complex{Float64},2},t::Float64)\n",
    "    s = zeros(ComplexF64,39,39)\n",
    "    sum_mult!(s,C_array_const,u,C_conj_array_const)\n",
    "    s .= s .- 1im .* Hamiltonian(t).*u\n",
    "    s .= s .+ 1im .* Hamiltonian(t).*u\n",
    "    s .= s .- 0.5 .* Cprecalc_const.*u\n",
    "    s .= s .- 0.5 .* u.*Cprecalc_const\n",
    "    return s\n",
    "end"
   ]
  },
  {
   "cell_type": "code",
   "execution_count": 100,
   "metadata": {},
   "outputs": [
    {
     "data": {
      "text/plain": [
       "BenchmarkTools.Trial: \n",
       "  memory estimate:  119.45 KiB\n",
       "  allocs estimate:  10\n",
       "  --------------\n",
       "  minimum time:     305.900 μs (0.00% GC)\n",
       "  median time:      371.800 μs (0.00% GC)\n",
       "  mean time:        386.310 μs (4.38% GC)\n",
       "  maximum time:     52.048 ms (99.26% GC)\n",
       "  --------------\n",
       "  samples:          10000\n",
       "  evals/sample:     1"
      ]
     },
     "execution_count": 100,
     "metadata": {},
     "output_type": "execute_result"
    }
   ],
   "source": [
    "@benchmark Lindblad_rhs(u,1e-6)"
   ]
  },
  {
   "cell_type": "code",
   "execution_count": 113,
   "metadata": {},
   "outputs": [
    {
     "data": {
      "text/plain": [
       "Lindblad_rhs! (generic function with 1 method)"
      ]
     },
     "execution_count": 113,
     "metadata": {},
     "output_type": "execute_result"
    }
   ],
   "source": [
    "function Lindblad_rhs!(du::Array{Complex{Float64}}, u::Array{Complex{Float64},2},t::Float64)\n",
    "    fill!(du,0.0)\n",
    "    sum_mult!(du,C_array_const,u,C_conj_array_const)\n",
    "    du .= du .- 1im .* Hamiltonian(t).*u\n",
    "    du .= du .+ 1im .* Hamiltonian(t).*u\n",
    "    du .= du .- 0.5 .* Cprecalc_const.*u\n",
    "    du .= du .- 0.5 .* u.*Cprecalc_const\n",
    "end"
   ]
  },
  {
   "cell_type": "code",
   "execution_count": 114,
   "metadata": {},
   "outputs": [],
   "source": [
    "du = rand(ComplexF64,39,39);"
   ]
  },
  {
   "cell_type": "code",
   "execution_count": 115,
   "metadata": {},
   "outputs": [
    {
     "data": {
      "text/plain": [
       "BenchmarkTools.Trial: \n",
       "  memory estimate:  95.56 KiB\n",
       "  allocs estimate:  8\n",
       "  --------------\n",
       "  minimum time:     303.200 μs (0.00% GC)\n",
       "  median time:      360.501 μs (0.00% GC)\n",
       "  mean time:        369.364 μs (2.82% GC)\n",
       "  maximum time:     47.758 ms (98.98% GC)\n",
       "  --------------\n",
       "  samples:          10000\n",
       "  evals/sample:     1"
      ]
     },
     "execution_count": 115,
     "metadata": {},
     "output_type": "execute_result"
    }
   ],
   "source": [
    "@benchmark Lindblad_rhs!(du, u,1e-6)"
   ]
  },
  {
   "cell_type": "code",
   "execution_count": 119,
   "metadata": {},
   "outputs": [
    {
     "data": {
      "text/plain": [
       "square_wave (generic function with 1 method)"
      ]
     },
     "execution_count": 119,
     "metadata": {},
     "output_type": "execute_result"
    }
   ],
   "source": [
    "function square_wave(t::Float64, frequency::Float64, phase::Float64)\n",
    "    0.5.*(1+squarewave(2*pi.*frequency.*t .+ phase))\n",
    "end"
   ]
  },
  {
   "cell_type": "code",
   "execution_count": 121,
   "metadata": {},
   "outputs": [
    {
     "data": {
      "text/plain": [
       "BenchmarkTools.Trial: \n",
       "  memory estimate:  0 bytes\n",
       "  allocs estimate:  0\n",
       "  --------------\n",
       "  minimum time:     3.299 ns (0.00% GC)\n",
       "  median time:      3.400 ns (0.00% GC)\n",
       "  mean time:        3.483 ns (0.00% GC)\n",
       "  maximum time:     19.399 ns (0.00% GC)\n",
       "  --------------\n",
       "  samples:          10000\n",
       "  evals/sample:     1000"
      ]
     },
     "execution_count": 121,
     "metadata": {},
     "output_type": "execute_result"
    }
   ],
   "source": [
    "@benchmark square_wave(1e-6, 1/(2*2e-6), 0.0)"
   ]
  },
  {
   "cell_type": "code",
   "execution_count": 128,
   "metadata": {},
   "outputs": [
    {
     "data": {
      "text/plain": [
       "Hamiltonian (generic function with 1 method)"
      ]
     },
     "execution_count": 128,
     "metadata": {},
     "output_type": "execute_result"
    }
   ],
   "source": [
    "function Hamiltonian(t::Float64)::Array{Complex{Float64},2}\n",
    "    rand(ComplexF64,39,39).*square_wave(t, 1/(2*2e-6), 0.0)\n",
    "end"
   ]
  },
  {
   "cell_type": "code",
   "execution_count": 129,
   "metadata": {},
   "outputs": [
    {
     "data": {
      "text/plain": [
       "Lindblad_rhs! (generic function with 1 method)"
      ]
     },
     "execution_count": 129,
     "metadata": {},
     "output_type": "execute_result"
    }
   ],
   "source": [
    "function Lindblad_rhs!(du::Array{Complex{Float64}}, u::Array{Complex{Float64},2},t::Float64)\n",
    "    fill!(du,0.0)\n",
    "    sum_mult!(du,C_array_const,u,C_conj_array_const)\n",
    "    du .= du .- 1im .* Hamiltonian(t).*u\n",
    "    du .= du .+ 1im .* Hamiltonian(t).*u\n",
    "    du .= du .- 0.5 .* Cprecalc_const.*u\n",
    "    du .= du .- 0.5 .* u.*Cprecalc_const\n",
    "end"
   ]
  },
  {
   "cell_type": "code",
   "execution_count": 130,
   "metadata": {},
   "outputs": [
    {
     "data": {
      "text/plain": [
       "BenchmarkTools.Trial: \n",
       "  memory estimate:  95.56 KiB\n",
       "  allocs estimate:  8\n",
       "  --------------\n",
       "  minimum time:     308.100 μs (0.00% GC)\n",
       "  median time:      364.200 μs (0.00% GC)\n",
       "  mean time:        373.702 μs (2.84% GC)\n",
       "  maximum time:     43.560 ms (99.15% GC)\n",
       "  --------------\n",
       "  samples:          10000\n",
       "  evals/sample:     1"
      ]
     },
     "execution_count": 130,
     "metadata": {},
     "output_type": "execute_result"
    }
   ],
   "source": [
    "@benchmark Lindblad_rhs!(du, u,1e-6)"
   ]
  },
  {
   "cell_type": "code",
   "execution_count": null,
   "metadata": {},
   "outputs": [],
   "source": []
  }
 ],
 "metadata": {
  "kernelspec": {
   "display_name": "Julia 1.5.2",
   "language": "julia",
   "name": "julia-1.5"
  },
  "language_info": {
   "file_extension": ".jl",
   "mimetype": "application/julia",
   "name": "julia",
   "version": "1.5.2"
  }
 },
 "nbformat": 4,
 "nbformat_minor": 4
}
