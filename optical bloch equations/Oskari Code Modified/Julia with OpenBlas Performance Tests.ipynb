{
 "cells": [
  {
   "cell_type": "code",
   "execution_count": 1,
   "metadata": {},
   "outputs": [],
   "source": [
    "using Waveforms\n",
    "using DifferentialEquations\n",
    "using StaticArrays\n",
    "using LinearAlgebra\n",
    "using BenchmarkTools\n",
    "using Distributions"
   ]
  },
  {
   "cell_type": "code",
   "execution_count": 2,
   "metadata": {},
   "outputs": [
    {
     "data": {
      "text/plain": [
       ":openblas64"
      ]
     },
     "execution_count": 2,
     "metadata": {},
     "output_type": "execute_result"
    }
   ],
   "source": [
    "BLAS.vendor()"
   ]
  },
  {
   "cell_type": "code",
   "execution_count": 3,
   "metadata": {},
   "outputs": [
    {
     "data": {
      "text/plain": [
       "#3 (generic function with 1 method)"
      ]
     },
     "execution_count": 3,
     "metadata": {},
     "output_type": "execute_result"
    }
   ],
   "source": [
    "const get_num_threads = function() # anonymous so it will be serialized when called\n",
    "    blas = LinearAlgebra.BLAS.vendor()\n",
    "    # Wrap in a try to catch unsupported blas versions\n",
    "    try\n",
    "        if blas == :openblas\n",
    "            return ccall((:openblas_get_num_threads, Base.libblas_name), Cint, ())\n",
    "        elseif blas == :openblas64\n",
    "            return ccall((:openblas_get_num_threads64_, Base.libblas_name), Cint, ())\n",
    "        elseif blas == :mkl\n",
    "            return ccall((:MKL_Get_Max_Num_Threads, Base.libblas_name), Cint, ())\n",
    "        end\n",
    "\n",
    "        # OSX BLAS looks at an environment variable\n",
    "        if Sys.isapple()\n",
    "            return tryparse(Cint, get(ENV, \"VECLIB_MAXIMUM_THREADS\", \"1\"))\n",
    "        end\n",
    "    catch\n",
    "    end\n",
    "\n",
    "    return nothing\n",
    "end"
   ]
  },
  {
   "cell_type": "code",
   "execution_count": 4,
   "metadata": {},
   "outputs": [
    {
     "data": {
      "text/latex": [
       "8"
      ],
      "text/plain": [
       "8"
      ]
     },
     "execution_count": 4,
     "metadata": {},
     "output_type": "execute_result"
    }
   ],
   "source": [
    "get_num_threads()"
   ]
  },
  {
   "cell_type": "code",
   "execution_count": 5,
   "metadata": {},
   "outputs": [],
   "source": [
    "x = rand(5000,5000)\n",
    "y = rand(5000,5000);"
   ]
  },
  {
   "cell_type": "code",
   "execution_count": 6,
   "metadata": {},
   "outputs": [
    {
     "data": {
      "text/plain": [
       "BenchmarkTools.Trial: \n",
       "  memory estimate:  190.73 MiB\n",
       "  allocs estimate:  2\n",
       "  --------------\n",
       "  minimum time:     1.079 s (0.00% GC)\n",
       "  median time:      1.084 s (0.00% GC)\n",
       "  mean time:        1.090 s (0.44% GC)\n",
       "  maximum time:     1.109 s (2.14% GC)\n",
       "  --------------\n",
       "  samples:          5\n",
       "  evals/sample:     1"
      ]
     },
     "execution_count": 6,
     "metadata": {},
     "output_type": "execute_result"
    }
   ],
   "source": [
    "@benchmark z = x*y"
   ]
  },
  {
   "cell_type": "code",
   "execution_count": 7,
   "metadata": {},
   "outputs": [],
   "source": [
    "z = zeros(5000,5000);"
   ]
  },
  {
   "cell_type": "code",
   "execution_count": 8,
   "metadata": {},
   "outputs": [
    {
     "data": {
      "text/plain": [
       "BenchmarkTools.Trial: \n",
       "  memory estimate:  0 bytes\n",
       "  allocs estimate:  0\n",
       "  --------------\n",
       "  minimum time:     1.070 s (0.00% GC)\n",
       "  median time:      1.071 s (0.00% GC)\n",
       "  mean time:        1.074 s (0.00% GC)\n",
       "  maximum time:     1.083 s (0.00% GC)\n",
       "  --------------\n",
       "  samples:          5\n",
       "  evals/sample:     1"
      ]
     },
     "execution_count": 8,
     "metadata": {},
     "output_type": "execute_result"
    }
   ],
   "source": [
    "@benchmark mul!(z,x,y)"
   ]
  },
  {
   "cell_type": "markdown",
   "metadata": {},
   "source": [
    "## Static Arrays are faster but only recommended for use of arrays with less than 100 elements"
   ]
  },
  {
   "cell_type": "code",
   "execution_count": 9,
   "metadata": {},
   "outputs": [],
   "source": [
    "x = @SMatrix rand(10,10)\n",
    "y = @SMatrix rand(10,10);"
   ]
  },
  {
   "cell_type": "code",
   "execution_count": 10,
   "metadata": {},
   "outputs": [
    {
     "data": {
      "text/plain": [
       "BenchmarkTools.Trial: \n",
       "  memory estimate:  816 bytes\n",
       "  allocs estimate:  1\n",
       "  --------------\n",
       "  minimum time:     260.043 ns (0.00% GC)\n",
       "  median time:      522.833 ns (0.00% GC)\n",
       "  mean time:        539.211 ns (14.35% GC)\n",
       "  maximum time:     39.215 μs (98.54% GC)\n",
       "  --------------\n",
       "  samples:          10000\n",
       "  evals/sample:     438"
      ]
     },
     "execution_count": 10,
     "metadata": {},
     "output_type": "execute_result"
    }
   ],
   "source": [
    "@benchmark z = x*y"
   ]
  },
  {
   "cell_type": "code",
   "execution_count": 11,
   "metadata": {},
   "outputs": [],
   "source": [
    "x = rand(10,10)\n",
    "y = rand(10,10);"
   ]
  },
  {
   "cell_type": "code",
   "execution_count": 12,
   "metadata": {},
   "outputs": [
    {
     "data": {
      "text/plain": [
       "BenchmarkTools.Trial: \n",
       "  memory estimate:  896 bytes\n",
       "  allocs estimate:  1\n",
       "  --------------\n",
       "  minimum time:     342.134 ns (0.00% GC)\n",
       "  median time:      632.403 ns (0.00% GC)\n",
       "  mean time:        652.256 ns (13.19% GC)\n",
       "  maximum time:     76.574 μs (98.50% GC)\n",
       "  --------------\n",
       "  samples:          10000\n",
       "  evals/sample:     216"
      ]
     },
     "execution_count": 12,
     "metadata": {},
     "output_type": "execute_result"
    }
   ],
   "source": [
    "@benchmark z = x*y"
   ]
  },
  {
   "cell_type": "code",
   "execution_count": 13,
   "metadata": {},
   "outputs": [],
   "source": [
    "x = Hermitian(rand(39,39) + I)\n",
    "y = Hermitian(rand(39,39));"
   ]
  },
  {
   "cell_type": "code",
   "execution_count": 14,
   "metadata": {},
   "outputs": [
    {
     "data": {
      "text/plain": [
       "BenchmarkTools.Trial: \n",
       "  memory estimate:  24.13 KiB\n",
       "  allocs estimate:  2\n",
       "  --------------\n",
       "  minimum time:     15.699 μs (0.00% GC)\n",
       "  median time:      25.200 μs (0.00% GC)\n",
       "  mean time:        29.749 μs (5.62% GC)\n",
       "  maximum time:     16.793 ms (99.60% GC)\n",
       "  --------------\n",
       "  samples:          10000\n",
       "  evals/sample:     1"
      ]
     },
     "execution_count": 14,
     "metadata": {},
     "output_type": "execute_result"
    }
   ],
   "source": [
    "@benchmark z = x*y"
   ]
  },
  {
   "cell_type": "code",
   "execution_count": 15,
   "metadata": {},
   "outputs": [],
   "source": [
    "x = Matrix(Hermitian(rand(39,39) + I))\n",
    "y = Matrix(Hermitian(rand(39,39)));"
   ]
  },
  {
   "cell_type": "code",
   "execution_count": 16,
   "metadata": {},
   "outputs": [
    {
     "data": {
      "text/plain": [
       "BenchmarkTools.Trial: \n",
       "  memory estimate:  12.06 KiB\n",
       "  allocs estimate:  1\n",
       "  --------------\n",
       "  minimum time:     5.050 μs (0.00% GC)\n",
       "  median time:      5.300 μs (0.00% GC)\n",
       "  mean time:        6.619 μs (4.64% GC)\n",
       "  maximum time:     1.059 ms (98.36% GC)\n",
       "  --------------\n",
       "  samples:          10000\n",
       "  evals/sample:     6"
      ]
     },
     "execution_count": 16,
     "metadata": {},
     "output_type": "execute_result"
    }
   ],
   "source": [
    "@benchmark z = x*y"
   ]
  },
  {
   "cell_type": "code",
   "execution_count": 17,
   "metadata": {},
   "outputs": [],
   "source": [
    "x = rand(39,39)\n",
    "y = rand(39,39);"
   ]
  },
  {
   "cell_type": "code",
   "execution_count": 18,
   "metadata": {},
   "outputs": [
    {
     "data": {
      "text/plain": [
       "BenchmarkTools.Trial: \n",
       "  memory estimate:  12.06 KiB\n",
       "  allocs estimate:  1\n",
       "  --------------\n",
       "  minimum time:     5.117 μs (0.00% GC)\n",
       "  median time:      5.317 μs (0.00% GC)\n",
       "  mean time:        6.424 μs (3.84% GC)\n",
       "  maximum time:     662.516 μs (98.32% GC)\n",
       "  --------------\n",
       "  samples:          10000\n",
       "  evals/sample:     6"
      ]
     },
     "execution_count": 18,
     "metadata": {},
     "output_type": "execute_result"
    }
   ],
   "source": [
    "@benchmark z = x*y"
   ]
  },
  {
   "cell_type": "markdown",
   "metadata": {},
   "source": [
    "### Checking some other aspects of the Lindblad RHS"
   ]
  },
  {
   "cell_type": "code",
   "execution_count": 95,
   "metadata": {},
   "outputs": [],
   "source": [
    "x = rand(ComplexF64, 39,39)\n",
    "y = rand(ComplexF64, 39,39);"
   ]
  },
  {
   "cell_type": "code",
   "execution_count": 96,
   "metadata": {},
   "outputs": [
    {
     "data": {
      "text/plain": [
       "BenchmarkTools.Trial: \n",
       "  memory estimate:  95.56 KiB\n",
       "  allocs estimate:  8\n",
       "  --------------\n",
       "  minimum time:     39.000 μs (0.00% GC)\n",
       "  median time:      42.801 μs (0.00% GC)\n",
       "  mean time:        58.039 μs (9.98% GC)\n",
       "  maximum time:     40.315 ms (99.79% GC)\n",
       "  --------------\n",
       "  samples:          10000\n",
       "  evals/sample:     1"
      ]
     },
     "execution_count": 96,
     "metadata": {},
     "output_type": "execute_result"
    }
   ],
   "source": [
    "@benchmark -1im * (x*y-y*x)"
   ]
  },
  {
   "cell_type": "code",
   "execution_count": 97,
   "metadata": {},
   "outputs": [
    {
     "data": {
      "text/plain": [
       "BenchmarkTools.Trial: \n",
       "  memory estimate:  215.02 KiB\n",
       "  allocs estimate:  18\n",
       "  --------------\n",
       "  minimum time:     79.701 μs (0.00% GC)\n",
       "  median time:      141.501 μs (0.00% GC)\n",
       "  mean time:        146.891 μs (14.95% GC)\n",
       "  maximum time:     59.140 ms (99.71% GC)\n",
       "  --------------\n",
       "  samples:          10000\n",
       "  evals/sample:     1"
      ]
     },
     "execution_count": 97,
     "metadata": {},
     "output_type": "execute_result"
    }
   ],
   "source": [
    "@benchmark -1im * (x*y-y*x) - 0.5*(y*x + x*y)"
   ]
  },
  {
   "cell_type": "code",
   "execution_count": 54,
   "metadata": {},
   "outputs": [],
   "source": [
    "x = rand(39,39)\n",
    "y = rand(36,39,39);"
   ]
  },
  {
   "cell_type": "code",
   "execution_count": 100,
   "metadata": {},
   "outputs": [
    {
     "data": {
      "text/plain": [
       "multi_test (generic function with 1 method)"
      ]
     },
     "execution_count": 100,
     "metadata": {},
     "output_type": "execute_result"
    }
   ],
   "source": [
    "function multi_test(x::Array{Complex{Float64},2},y::Array{Complex{Float64},2})::Array{Complex{Float64},2}\n",
    "    -1im *(y*x-x*y) -0.5 * (y*x+x*y)\n",
    "end"
   ]
  },
  {
   "cell_type": "code",
   "execution_count": 103,
   "metadata": {},
   "outputs": [
    {
     "name": "stdout",
     "output_type": "stream",
     "text": [
      "  0.000146 seconds (18 allocations: 215.016 KiB)\n"
     ]
    }
   ],
   "source": [
    "@time multi_test(x,y);"
   ]
  },
  {
   "cell_type": "code",
   "execution_count": 104,
   "metadata": {},
   "outputs": [
    {
     "data": {
      "text/plain": [
       "BenchmarkTools.Trial: \n",
       "  memory estimate:  215.02 KiB\n",
       "  allocs estimate:  18\n",
       "  --------------\n",
       "  minimum time:     79.900 μs (0.00% GC)\n",
       "  median time:      142.500 μs (0.00% GC)\n",
       "  mean time:        151.308 μs (14.83% GC)\n",
       "  maximum time:     45.376 ms (99.64% GC)\n",
       "  --------------\n",
       "  samples:          10000\n",
       "  evals/sample:     1"
      ]
     },
     "execution_count": 104,
     "metadata": {},
     "output_type": "execute_result"
    }
   ],
   "source": [
    "@benchmark multi_test(x,y)"
   ]
  },
  {
   "cell_type": "code",
   "execution_count": 55,
   "metadata": {},
   "outputs": [
    {
     "data": {
      "text/plain": [
       "sum_matrix (generic function with 3 methods)"
      ]
     },
     "execution_count": 55,
     "metadata": {},
     "output_type": "execute_result"
    }
   ],
   "source": [
    "function sum_matrix(x,y)\n",
    "    s = zeros(39,39)\n",
    "    for i = 1:36\n",
    "        s = s + y[i,:,:]*x*y[i,:,:]\n",
    "    end\n",
    "end"
   ]
  },
  {
   "cell_type": "code",
   "execution_count": 56,
   "metadata": {},
   "outputs": [
    {
     "data": {
      "text/plain": [
       "BenchmarkTools.Trial: \n",
       "  memory estimate:  2.13 MiB\n",
       "  allocs estimate:  181\n",
       "  --------------\n",
       "  minimum time:     556.101 μs (0.00% GC)\n",
       "  median time:      660.800 μs (0.00% GC)\n",
       "  mean time:        933.203 μs (12.47% GC)\n",
       "  maximum time:     35.667 ms (97.69% GC)\n",
       "  --------------\n",
       "  samples:          5333\n",
       "  evals/sample:     1"
      ]
     },
     "execution_count": 56,
     "metadata": {},
     "output_type": "execute_result"
    }
   ],
   "source": [
    "@benchmark sum_matrix(x,y)"
   ]
  },
  {
   "cell_type": "code",
   "execution_count": 57,
   "metadata": {},
   "outputs": [],
   "source": [
    "x = rand(Float64,39,39)\n",
    "y = rand(Float64,36,39,39);"
   ]
  },
  {
   "cell_type": "code",
   "execution_count": 58,
   "metadata": {},
   "outputs": [
    {
     "data": {
      "text/plain": [
       "sum_matrix (generic function with 3 methods)"
      ]
     },
     "execution_count": 58,
     "metadata": {},
     "output_type": "execute_result"
    }
   ],
   "source": [
    "function sum_matrix(x,y)\n",
    "    s = zeros(Float64,39,39)\n",
    "    for i = 1:36\n",
    "        s = s + y[i,:,:]*x*y[i,:,:]\n",
    "    end\n",
    "end"
   ]
  },
  {
   "cell_type": "code",
   "execution_count": 59,
   "metadata": {},
   "outputs": [
    {
     "data": {
      "text/plain": [
       "BenchmarkTools.Trial: \n",
       "  memory estimate:  2.13 MiB\n",
       "  allocs estimate:  181\n",
       "  --------------\n",
       "  minimum time:     566.400 μs (0.00% GC)\n",
       "  median time:      670.100 μs (0.00% GC)\n",
       "  mean time:        907.798 μs (11.64% GC)\n",
       "  maximum time:     15.400 ms (94.74% GC)\n",
       "  --------------\n",
       "  samples:          5458\n",
       "  evals/sample:     1"
      ]
     },
     "execution_count": 59,
     "metadata": {},
     "output_type": "execute_result"
    }
   ],
   "source": [
    "@benchmark sum_matrix(x,y)"
   ]
  },
  {
   "cell_type": "code",
   "execution_count": 60,
   "metadata": {},
   "outputs": [
    {
     "data": {
      "text/plain": [
       "sum_matrix (generic function with 4 methods)"
      ]
     },
     "execution_count": 60,
     "metadata": {},
     "output_type": "execute_result"
    }
   ],
   "source": [
    "function sum_matrix(x::Array{Float64,2},y::Array{Float64,3})\n",
    "    s = zeros(Float64,39,39)\n",
    "    for i = 1:36\n",
    "        s = s + y[i,:,:]*x*y[i,:,:]\n",
    "    end\n",
    "end"
   ]
  },
  {
   "cell_type": "code",
   "execution_count": 61,
   "metadata": {},
   "outputs": [
    {
     "data": {
      "text/plain": [
       "BenchmarkTools.Trial: \n",
       "  memory estimate:  2.13 MiB\n",
       "  allocs estimate:  181\n",
       "  --------------\n",
       "  minimum time:     563.801 μs (0.00% GC)\n",
       "  median time:      672.399 μs (0.00% GC)\n",
       "  mean time:        914.078 μs (11.84% GC)\n",
       "  maximum time:     33.181 ms (96.56% GC)\n",
       "  --------------\n",
       "  samples:          5446\n",
       "  evals/sample:     1"
      ]
     },
     "execution_count": 61,
     "metadata": {},
     "output_type": "execute_result"
    }
   ],
   "source": [
    "@benchmark sum_matrix(x,y)"
   ]
  },
  {
   "cell_type": "code",
   "execution_count": 62,
   "metadata": {},
   "outputs": [],
   "source": [
    "x = rand(ComplexF64,39,39)\n",
    "y = rand(ComplexF64,36,39,39);"
   ]
  },
  {
   "cell_type": "code",
   "execution_count": 63,
   "metadata": {},
   "outputs": [
    {
     "data": {
      "text/plain": [
       "sum_matrix (generic function with 5 methods)"
      ]
     },
     "execution_count": 63,
     "metadata": {},
     "output_type": "execute_result"
    }
   ],
   "source": [
    "function sum_matrix(x::Array{Complex{Float64},2},y::Array{Complex{Float64},3})\n",
    "    s = zeros(ComplexF64,39,39)\n",
    "    for i = 1:36\n",
    "        s = s + y[i,:,:]*x*y[i,:,:]\n",
    "    end\n",
    "end"
   ]
  },
  {
   "cell_type": "code",
   "execution_count": 64,
   "metadata": {},
   "outputs": [
    {
     "data": {
      "text/plain": [
       "BenchmarkTools.Trial: \n",
       "  memory estimate:  4.22 MiB\n",
       "  allocs estimate:  362\n",
       "  --------------\n",
       "  minimum time:     1.580 ms (0.00% GC)\n",
       "  median time:      2.882 ms (0.00% GC)\n",
       "  mean time:        2.873 ms (13.18% GC)\n",
       "  maximum time:     37.455 ms (91.60% GC)\n",
       "  --------------\n",
       "  samples:          1736\n",
       "  evals/sample:     1"
      ]
     },
     "execution_count": 64,
     "metadata": {},
     "output_type": "execute_result"
    }
   ],
   "source": [
    "@benchmark sum_matrix(x,y)"
   ]
  },
  {
   "cell_type": "code",
   "execution_count": 74,
   "metadata": {},
   "outputs": [
    {
     "data": {
      "text/plain": [
       "sum_matrix_inbounds (generic function with 1 method)"
      ]
     },
     "execution_count": 74,
     "metadata": {},
     "output_type": "execute_result"
    }
   ],
   "source": [
    "function sum_matrix_inbounds(x::Array{Complex{Float64},2},y::Array{Complex{Float64},3})\n",
    "    s = zeros(ComplexF64,39,39)\n",
    "    @inbounds for i = 1:36\n",
    "        s = s + (y[i,:,:]*x)*y[i,:,:]\n",
    "    end\n",
    "end"
   ]
  },
  {
   "cell_type": "code",
   "execution_count": 75,
   "metadata": {},
   "outputs": [
    {
     "data": {
      "text/plain": [
       "BenchmarkTools.Trial: \n",
       "  memory estimate:  4.22 MiB\n",
       "  allocs estimate:  362\n",
       "  --------------\n",
       "  minimum time:     1.633 ms (0.00% GC)\n",
       "  median time:      2.918 ms (0.00% GC)\n",
       "  mean time:        2.870 ms (12.48% GC)\n",
       "  maximum time:     44.947 ms (93.50% GC)\n",
       "  --------------\n",
       "  samples:          1739\n",
       "  evals/sample:     1"
      ]
     },
     "execution_count": 75,
     "metadata": {},
     "output_type": "execute_result"
    }
   ],
   "source": [
    "@benchmark sum_matrix_inbounds(x,y)"
   ]
  },
  {
   "cell_type": "code",
   "execution_count": 72,
   "metadata": {},
   "outputs": [
    {
     "data": {
      "text/plain": [
       "sum_matrix_inbounds_sim (generic function with 1 method)"
      ]
     },
     "execution_count": 72,
     "metadata": {},
     "output_type": "execute_result"
    }
   ],
   "source": [
    "function sum_matrix_inbounds_sim(x::Array{Complex{Float64},2},y::Array{Complex{Float64},3})\n",
    "    s = zeros(ComplexF64,39,39)\n",
    "    @inbounds @simd for i = 1:36\n",
    "        s = s + (y[i,:,:]*x)*y[i,:,:]\n",
    "    end\n",
    "end"
   ]
  },
  {
   "cell_type": "code",
   "execution_count": 73,
   "metadata": {},
   "outputs": [
    {
     "data": {
      "text/plain": [
       "BenchmarkTools.Trial: \n",
       "  memory estimate:  4.22 MiB\n",
       "  allocs estimate:  362\n",
       "  --------------\n",
       "  minimum time:     1.629 ms (0.00% GC)\n",
       "  median time:      2.898 ms (0.00% GC)\n",
       "  mean time:        2.865 ms (12.70% GC)\n",
       "  maximum time:     42.250 ms (93.28% GC)\n",
       "  --------------\n",
       "  samples:          1742\n",
       "  evals/sample:     1"
      ]
     },
     "execution_count": 73,
     "metadata": {},
     "output_type": "execute_result"
    }
   ],
   "source": [
    "@benchmark sum_matrix_inbounds_sim(x,y)"
   ]
  },
  {
   "cell_type": "code",
   "execution_count": 76,
   "metadata": {},
   "outputs": [
    {
     "data": {
      "text/plain": [
       "sum_matrix_threads (generic function with 2 methods)"
      ]
     },
     "execution_count": 76,
     "metadata": {},
     "output_type": "execute_result"
    }
   ],
   "source": [
    "function sum_matrix_threads(x::Array{Complex{Float64},2},y::Array{Complex{Float64},3})\n",
    "    s = zeros(ComplexF64,39,39)\n",
    "    Threads.@threads for i = 1:36\n",
    "        s = s + (y[i,:,:]*x)*y[i,:,:]\n",
    "    end\n",
    "    s\n",
    "end"
   ]
  },
  {
   "cell_type": "code",
   "execution_count": 77,
   "metadata": {},
   "outputs": [],
   "source": [
    "sum_matrix_threads(x,y);"
   ]
  },
  {
   "cell_type": "code",
   "execution_count": 78,
   "metadata": {},
   "outputs": [
    {
     "data": {
      "text/plain": [
       "BenchmarkTools.Trial: \n",
       "  memory estimate:  4.23 MiB\n",
       "  allocs estimate:  396\n",
       "  --------------\n",
       "  minimum time:     557.800 μs (0.00% GC)\n",
       "  median time:      1.872 ms (0.00% GC)\n",
       "  mean time:        46.311 ms (96.15% GC)\n",
       "  maximum time:     19.505 s (99.99% GC)\n",
       "  --------------\n",
       "  samples:          438\n",
       "  evals/sample:     1"
      ]
     },
     "execution_count": 78,
     "metadata": {},
     "output_type": "execute_result"
    }
   ],
   "source": [
    "@benchmark sum_matrix_threads(x,y)"
   ]
  },
  {
   "cell_type": "code",
   "execution_count": 79,
   "metadata": {},
   "outputs": [
    {
     "data": {
      "text/plain": [
       "BenchmarkTools.Trial: \n",
       "  memory estimate:  4.23 MiB\n",
       "  allocs estimate:  396\n",
       "  --------------\n",
       "  minimum time:     546.800 μs (0.00% GC)\n",
       "  median time:      1.849 ms (0.00% GC)\n",
       "  mean time:        47.159 ms (96.24% GC)\n",
       "  maximum time:     20.153 s (99.99% GC)\n",
       "  --------------\n",
       "  samples:          444\n",
       "  evals/sample:     1"
      ]
     },
     "execution_count": 79,
     "metadata": {},
     "output_type": "execute_result"
    }
   ],
   "source": [
    "@benchmark sum_matrix_threads(x,y)"
   ]
  },
  {
   "cell_type": "code",
   "execution_count": 92,
   "metadata": {},
   "outputs": [
    {
     "name": "stdout",
     "output_type": "stream",
     "text": [
      "  0.001335 seconds (399 allocations: 4.228 MiB)\n"
     ]
    }
   ],
   "source": [
    "@time sum_matrix_threads(x,y);"
   ]
  },
  {
   "cell_type": "code",
   "execution_count": 93,
   "metadata": {},
   "outputs": [
    {
     "name": "stdout",
     "output_type": "stream",
     "text": [
      "  0.001399 seconds (397 allocations: 4.228 MiB)\n"
     ]
    }
   ],
   "source": [
    "@time sum_matrix_threads(x,y);"
   ]
  },
  {
   "cell_type": "code",
   "execution_count": 94,
   "metadata": {},
   "outputs": [
    {
     "name": "stdout",
     "output_type": "stream",
     "text": [
      "  0.002848 seconds (362 allocations: 4.223 MiB)\n"
     ]
    }
   ],
   "source": [
    "@time sum_matrix_inbounds_sim(x,y)"
   ]
  }
 ],
 "metadata": {
  "kernelspec": {
   "display_name": "Julia 1.4.2",
   "language": "julia",
   "name": "julia-1.4"
  },
  "language_info": {
   "file_extension": ".jl",
   "mimetype": "application/julia",
   "name": "julia",
   "version": "1.4.2"
  }
 },
 "nbformat": 4,
 "nbformat_minor": 4
}
