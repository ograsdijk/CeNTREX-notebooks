{
 "cells": [
  {
   "cell_type": "code",
   "execution_count": 1,
   "metadata": {},
   "outputs": [
    {
     "name": "stderr",
     "output_type": "stream",
     "text": [
      "┌ Info: Precompiling Waveforms [cb13b1c6-351e-5134-b3ad-d6a530956a82]\n",
      "└ @ Base loading.jl:1278\n",
      "┌ Info: Precompiling DifferentialEquations [0c46a032-eb83-5123-abaf-570d42b7fbaa]\n",
      "└ @ Base loading.jl:1278\n",
      "┌ Info: Precompiling BenchmarkTools [6e4b80f9-dd63-53aa-95a3-0cdb28fa8baf]\n",
      "└ @ Base loading.jl:1278\n"
     ]
    }
   ],
   "source": [
    "using Waveforms\n",
    "using DifferentialEquations\n",
    "using StaticArrays\n",
    "using LinearAlgebra\n",
    "using BenchmarkTools\n",
    "using Distributions"
   ]
  },
  {
   "cell_type": "code",
   "execution_count": 2,
   "metadata": {},
   "outputs": [
    {
     "data": {
      "text/plain": [
       ":mkl"
      ]
     },
     "execution_count": 2,
     "metadata": {},
     "output_type": "execute_result"
    }
   ],
   "source": [
    "BLAS.vendor()"
   ]
  },
  {
   "cell_type": "code",
   "execution_count": 3,
   "metadata": {},
   "outputs": [
    {
     "data": {
      "text/plain": [
       "#1 (generic function with 1 method)"
      ]
     },
     "execution_count": 3,
     "metadata": {},
     "output_type": "execute_result"
    }
   ],
   "source": [
    "const get_num_threads = function() # anonymous so it will be serialized when called\n",
    "    blas = LinearAlgebra.BLAS.vendor()\n",
    "    # Wrap in a try to catch unsupported blas versions\n",
    "    try\n",
    "        if blas == :openblas\n",
    "            return ccall((:openblas_get_num_threads, Base.libblas_name), Cint, ())\n",
    "        elseif blas == :openblas64\n",
    "            return ccall((:openblas_get_num_threads64_, Base.libblas_name), Cint, ())\n",
    "        elseif blas == :mkl\n",
    "            return ccall((:MKL_Get_Max_Num_Threads, Base.libblas_name), Cint, ())\n",
    "        end\n",
    "\n",
    "        # OSX BLAS looks at an environment variable\n",
    "        if Sys.isapple()\n",
    "            return tryparse(Cint, get(ENV, \"VECLIB_MAXIMUM_THREADS\", \"1\"))\n",
    "        end\n",
    "    catch\n",
    "    end\n",
    "\n",
    "    return nothing\n",
    "end"
   ]
  },
  {
   "cell_type": "code",
   "execution_count": 4,
   "metadata": {},
   "outputs": [],
   "source": [
    "get_num_threads()"
   ]
  },
  {
   "cell_type": "code",
   "execution_count": 5,
   "metadata": {},
   "outputs": [],
   "source": [
    "x = rand(5000,5000)\n",
    "y = rand(5000,5000);"
   ]
  },
  {
   "cell_type": "code",
   "execution_count": 6,
   "metadata": {},
   "outputs": [
    {
     "data": {
      "text/plain": [
       "BenchmarkTools.Trial: \n",
       "  memory estimate:  190.73 MiB\n",
       "  allocs estimate:  2\n",
       "  --------------\n",
       "  minimum time:     466.005 ms (0.00% GC)\n",
       "  median time:      516.769 ms (0.00% GC)\n",
       "  mean time:        526.794 ms (3.32% GC)\n",
       "  maximum time:     682.233 ms (14.36% GC)\n",
       "  --------------\n",
       "  samples:          10\n",
       "  evals/sample:     1"
      ]
     },
     "execution_count": 6,
     "metadata": {},
     "output_type": "execute_result"
    }
   ],
   "source": [
    "@benchmark z = x*y"
   ]
  },
  {
   "cell_type": "code",
   "execution_count": 7,
   "metadata": {},
   "outputs": [],
   "source": [
    "z = zeros(5000,5000);"
   ]
  },
  {
   "cell_type": "code",
   "execution_count": 8,
   "metadata": {},
   "outputs": [
    {
     "data": {
      "text/plain": [
       "BenchmarkTools.Trial: \n",
       "  memory estimate:  0 bytes\n",
       "  allocs estimate:  0\n",
       "  --------------\n",
       "  minimum time:     441.218 ms (0.00% GC)\n",
       "  median time:      487.216 ms (0.00% GC)\n",
       "  mean time:        486.287 ms (0.00% GC)\n",
       "  maximum time:     534.134 ms (0.00% GC)\n",
       "  --------------\n",
       "  samples:          11\n",
       "  evals/sample:     1"
      ]
     },
     "execution_count": 8,
     "metadata": {},
     "output_type": "execute_result"
    }
   ],
   "source": [
    "@benchmark mul!(z,x,y)"
   ]
  },
  {
   "cell_type": "markdown",
   "metadata": {},
   "source": [
    "## Static Arrays are faster but only recommended for use of arrays with less than 100 elements"
   ]
  },
  {
   "cell_type": "code",
   "execution_count": 9,
   "metadata": {},
   "outputs": [],
   "source": [
    "x = @SMatrix rand(10,10)\n",
    "y = @SMatrix rand(10,10);"
   ]
  },
  {
   "cell_type": "code",
   "execution_count": 10,
   "metadata": {},
   "outputs": [
    {
     "data": {
      "text/plain": [
       "BenchmarkTools.Trial: \n",
       "  memory estimate:  816 bytes\n",
       "  allocs estimate:  1\n",
       "  --------------\n",
       "  minimum time:     262.983 ns (0.00% GC)\n",
       "  median time:      529.558 ns (0.00% GC)\n",
       "  mean time:        572.633 ns (14.50% GC)\n",
       "  maximum time:     52.927 μs (99.07% GC)\n",
       "  --------------\n",
       "  samples:          10000\n",
       "  evals/sample:     362"
      ]
     },
     "execution_count": 10,
     "metadata": {},
     "output_type": "execute_result"
    }
   ],
   "source": [
    "@benchmark z = x*y"
   ]
  },
  {
   "cell_type": "code",
   "execution_count": 11,
   "metadata": {},
   "outputs": [],
   "source": [
    "x = rand(10,10)\n",
    "y = rand(10,10);"
   ]
  },
  {
   "cell_type": "code",
   "execution_count": 12,
   "metadata": {},
   "outputs": [
    {
     "data": {
      "text/plain": [
       "BenchmarkTools.Trial: \n",
       "  memory estimate:  896 bytes\n",
       "  allocs estimate:  1\n",
       "  --------------\n",
       "  minimum time:     337.904 ns (0.00% GC)\n",
       "  median time:      642.466 ns (0.00% GC)\n",
       "  mean time:        677.353 ns (13.40% GC)\n",
       "  maximum time:     89.700 μs (99.17% GC)\n",
       "  --------------\n",
       "  samples:          10000\n",
       "  evals/sample:     219"
      ]
     },
     "execution_count": 12,
     "metadata": {},
     "output_type": "execute_result"
    }
   ],
   "source": [
    "@benchmark z = x*y"
   ]
  },
  {
   "cell_type": "code",
   "execution_count": 13,
   "metadata": {},
   "outputs": [],
   "source": [
    "x = Hermitian(rand(39,39) + I)\n",
    "y = Hermitian(rand(39,39));"
   ]
  },
  {
   "cell_type": "code",
   "execution_count": 14,
   "metadata": {},
   "outputs": [
    {
     "data": {
      "text/plain": [
       "BenchmarkTools.Trial: \n",
       "  memory estimate:  24.13 KiB\n",
       "  allocs estimate:  2\n",
       "  --------------\n",
       "  minimum time:     17.100 μs (0.00% GC)\n",
       "  median time:      25.401 μs (0.00% GC)\n",
       "  mean time:        30.110 μs (5.69% GC)\n",
       "  maximum time:     17.172 ms (99.69% GC)\n",
       "  --------------\n",
       "  samples:          10000\n",
       "  evals/sample:     1"
      ]
     },
     "execution_count": 14,
     "metadata": {},
     "output_type": "execute_result"
    }
   ],
   "source": [
    "@benchmark z = x*y"
   ]
  },
  {
   "cell_type": "code",
   "execution_count": 15,
   "metadata": {},
   "outputs": [],
   "source": [
    "x = Matrix(Hermitian(rand(39,39) + I))\n",
    "y = Matrix(Hermitian(rand(39,39)));"
   ]
  },
  {
   "cell_type": "code",
   "execution_count": 16,
   "metadata": {},
   "outputs": [
    {
     "data": {
      "text/plain": [
       "BenchmarkTools.Trial: \n",
       "  memory estimate:  12.06 KiB\n",
       "  allocs estimate:  1\n",
       "  --------------\n",
       "  minimum time:     5.050 μs (0.00% GC)\n",
       "  median time:      6.183 μs (0.00% GC)\n",
       "  mean time:        7.396 μs (6.92% GC)\n",
       "  maximum time:     2.910 ms (99.62% GC)\n",
       "  --------------\n",
       "  samples:          10000\n",
       "  evals/sample:     6"
      ]
     },
     "execution_count": 16,
     "metadata": {},
     "output_type": "execute_result"
    }
   ],
   "source": [
    "@benchmark z = x*y"
   ]
  },
  {
   "cell_type": "code",
   "execution_count": 17,
   "metadata": {},
   "outputs": [],
   "source": [
    "x = rand(39,39)\n",
    "y = rand(39,39);"
   ]
  },
  {
   "cell_type": "code",
   "execution_count": 18,
   "metadata": {},
   "outputs": [
    {
     "data": {
      "text/plain": [
       "BenchmarkTools.Trial: \n",
       "  memory estimate:  12.06 KiB\n",
       "  allocs estimate:  1\n",
       "  --------------\n",
       "  minimum time:     5.000 μs (0.00% GC)\n",
       "  median time:      5.217 μs (0.00% GC)\n",
       "  mean time:        5.960 μs (1.34% GC)\n",
       "  maximum time:     806.333 μs (98.77% GC)\n",
       "  --------------\n",
       "  samples:          10000\n",
       "  evals/sample:     6"
      ]
     },
     "execution_count": 18,
     "metadata": {},
     "output_type": "execute_result"
    }
   ],
   "source": [
    "@benchmark z = x*y"
   ]
  },
  {
   "cell_type": "markdown",
   "metadata": {},
   "source": [
    "### Checking some other aspects of the Lindblad RHS"
   ]
  },
  {
   "cell_type": "code",
   "execution_count": 19,
   "metadata": {},
   "outputs": [],
   "source": [
    "x = rand(ComplexF64, 39,39)\n",
    "y = rand(ComplexF64, 39,39);"
   ]
  },
  {
   "cell_type": "code",
   "execution_count": 20,
   "metadata": {},
   "outputs": [
    {
     "data": {
      "text/plain": [
       "BenchmarkTools.Trial: \n",
       "  memory estimate:  95.56 KiB\n",
       "  allocs estimate:  8\n",
       "  --------------\n",
       "  minimum time:     40.699 μs (0.00% GC)\n",
       "  median time:      44.200 μs (0.00% GC)\n",
       "  mean time:        53.716 μs (6.57% GC)\n",
       "  maximum time:     14.998 ms (99.46% GC)\n",
       "  --------------\n",
       "  samples:          10000\n",
       "  evals/sample:     1"
      ]
     },
     "execution_count": 20,
     "metadata": {},
     "output_type": "execute_result"
    }
   ],
   "source": [
    "@benchmark -1im * (x*y-y*x)"
   ]
  },
  {
   "cell_type": "code",
   "execution_count": 21,
   "metadata": {},
   "outputs": [
    {
     "data": {
      "text/plain": [
       "BenchmarkTools.Trial: \n",
       "  memory estimate:  215.02 KiB\n",
       "  allocs estimate:  18\n",
       "  --------------\n",
       "  minimum time:     81.100 μs (0.00% GC)\n",
       "  median time:      145.000 μs (0.00% GC)\n",
       "  mean time:        154.582 μs (13.97% GC)\n",
       "  maximum time:     29.071 ms (99.43% GC)\n",
       "  --------------\n",
       "  samples:          10000\n",
       "  evals/sample:     1"
      ]
     },
     "execution_count": 21,
     "metadata": {},
     "output_type": "execute_result"
    }
   ],
   "source": [
    "@benchmark -1im * (x*y-y*x) - 0.5*(y*x + x*y)"
   ]
  },
  {
   "cell_type": "code",
   "execution_count": 69,
   "metadata": {},
   "outputs": [],
   "source": [
    "x = rand(ComplexF64,39,39)\n",
    "y = rand(ComplexF64,36,39,39);"
   ]
  },
  {
   "cell_type": "code",
   "execution_count": 70,
   "metadata": {},
   "outputs": [
    {
     "data": {
      "text/plain": [
       "multi_test (generic function with 1 method)"
      ]
     },
     "execution_count": 70,
     "metadata": {},
     "output_type": "execute_result"
    }
   ],
   "source": [
    "function multi_test(x::Array{Complex{Float64},2},y::Array{Complex{Float64},2})}\n",
    "    -1im *(y*x-x*y) -0.5 * (y*x+x*y)\n",
    "end"
   ]
  },
  {
   "cell_type": "code",
   "execution_count": 71,
   "metadata": {},
   "outputs": [
    {
     "ename": "MethodError",
     "evalue": "MethodError: no method matching multi_test(::Array{Complex{Float64},2}, ::Array{Complex{Float64},3})\nClosest candidates are:\n  multi_test(::Array{Complex{Float64},2}, !Matched::Array{Complex{Float64},2}) at In[70]:2",
     "output_type": "error",
     "traceback": [
      "MethodError: no method matching multi_test(::Array{Complex{Float64},2}, ::Array{Complex{Float64},3})\nClosest candidates are:\n  multi_test(::Array{Complex{Float64},2}, !Matched::Array{Complex{Float64},2}) at In[70]:2",
      "",
      "Stacktrace:",
      " [1] macro expansion at .\\util.jl:175 [inlined]",
      " [2] top-level scope at .\\In[71]:1"
     ]
    }
   ],
   "source": [
    "@time multi_test(x,y);"
   ]
  },
  {
   "cell_type": "code",
   "execution_count": 72,
   "metadata": {},
   "outputs": [
    {
     "ename": "MethodError",
     "evalue": "MethodError: no method matching multi_test(::Array{Complex{Float64},2}, ::Array{Complex{Float64},3})\nClosest candidates are:\n  multi_test(::Array{Complex{Float64},2}, !Matched::Array{Complex{Float64},2}) at In[70]:2",
     "output_type": "error",
     "traceback": [
      "MethodError: no method matching multi_test(::Array{Complex{Float64},2}, ::Array{Complex{Float64},3})\nClosest candidates are:\n  multi_test(::Array{Complex{Float64},2}, !Matched::Array{Complex{Float64},2}) at In[70]:2",
      "",
      "Stacktrace:",
      " [1] ##core#363() at C:\\Users\\ogras\\.julia\\packages\\BenchmarkTools\\eCEpo\\src\\execution.jl:371",
      " [2] ##sample#364(::BenchmarkTools.Parameters) at C:\\Users\\ogras\\.julia\\packages\\BenchmarkTools\\eCEpo\\src\\execution.jl:377",
      " [3] _run(::BenchmarkTools.Benchmark{Symbol(\"##benchmark#362\")}, ::BenchmarkTools.Parameters; verbose::Bool, pad::String, kwargs::Base.Iterators.Pairs{Symbol,Integer,NTuple{4,Symbol},NamedTuple{(:samples, :evals, :gctrial, :gcsample),Tuple{Int64,Int64,Bool,Bool}}}) at C:\\Users\\ogras\\.julia\\packages\\BenchmarkTools\\eCEpo\\src\\execution.jl:405",
      " [4] (::Base.var\"#inner#2\"{Base.Iterators.Pairs{Symbol,Integer,NTuple{5,Symbol},NamedTuple{(:verbose, :samples, :evals, :gctrial, :gcsample),Tuple{Bool,Int64,Int64,Bool,Bool}}},typeof(BenchmarkTools._run),Tuple{BenchmarkTools.Benchmark{Symbol(\"##benchmark#362\")},BenchmarkTools.Parameters}})() at .\\essentials.jl:715",
      " [5] #invokelatest#1 at .\\essentials.jl:716 [inlined]",
      " [6] #run_result#37 at C:\\Users\\ogras\\.julia\\packages\\BenchmarkTools\\eCEpo\\src\\execution.jl:32 [inlined]",
      " [7] run(::BenchmarkTools.Benchmark{Symbol(\"##benchmark#362\")}, ::BenchmarkTools.Parameters; progressid::Nothing, nleaves::Float64, ndone::Float64, kwargs::Base.Iterators.Pairs{Symbol,Integer,NTuple{5,Symbol},NamedTuple{(:verbose, :samples, :evals, :gctrial, :gcsample),Tuple{Bool,Int64,Int64,Bool,Bool}}}) at C:\\Users\\ogras\\.julia\\packages\\BenchmarkTools\\eCEpo\\src\\execution.jl:94",
      " [8] #warmup#45 at C:\\Users\\ogras\\.julia\\packages\\BenchmarkTools\\eCEpo\\src\\execution.jl:141 [inlined]",
      " [9] warmup(::BenchmarkTools.Benchmark{Symbol(\"##benchmark#362\")}) at C:\\Users\\ogras\\.julia\\packages\\BenchmarkTools\\eCEpo\\src\\execution.jl:141",
      " [10] top-level scope at C:\\Users\\ogras\\.julia\\packages\\BenchmarkTools\\eCEpo\\src\\execution.jl:287",
      " [11] top-level scope at In[72]:1"
     ]
    }
   ],
   "source": [
    "@benchmark multi_test(x,y)"
   ]
  },
  {
   "cell_type": "code",
   "execution_count": 9,
   "metadata": {},
   "outputs": [
    {
     "data": {
      "text/plain": [
       "sum_matrix (generic function with 1 method)"
      ]
     },
     "execution_count": 9,
     "metadata": {},
     "output_type": "execute_result"
    }
   ],
   "source": [
    "function sum_matrix(x,y)\n",
    "    s = zeros(39,39)\n",
    "    for i = 1:36\n",
    "        s = s + y[i,:,:]*x*y[i,:,:]\n",
    "    end\n",
    "end"
   ]
  },
  {
   "cell_type": "code",
   "execution_count": 10,
   "metadata": {},
   "outputs": [
    {
     "ename": "LoadError",
     "evalue": "DimensionMismatch(\"A has dimensions (5000,1) but B has dimensions (5000,5000)\")",
     "output_type": "error",
     "traceback": [
      "DimensionMismatch(\"A has dimensions (5000,1) but B has dimensions (5000,5000)\")",
      "",
      "Stacktrace:",
      " [1] gemm_wrapper!(::Array{Float64,2}, ::Char, ::Char, ::Array{Float64,2}, ::Array{Float64,2}, ::LinearAlgebra.MulAddMul{true,true,Bool,Bool}) at C:\\Users\\Olivier\\AppData\\Local\\Programs\\Julia 1.5.2\\share\\julia\\stdlib\\v1.5\\LinearAlgebra\\src\\matmul.jl:569",
      " [2] mul! at C:\\Users\\Olivier\\AppData\\Local\\Programs\\Julia 1.5.2\\share\\julia\\stdlib\\v1.5\\LinearAlgebra\\src\\matmul.jl:169 [inlined]",
      " [3] mul! at C:\\Users\\Olivier\\AppData\\Local\\Programs\\Julia 1.5.2\\share\\julia\\stdlib\\v1.5\\LinearAlgebra\\src\\matmul.jl:208 [inlined]",
      " [4] * at C:\\Users\\Olivier\\AppData\\Local\\Programs\\Julia 1.5.2\\share\\julia\\stdlib\\v1.5\\LinearAlgebra\\src\\matmul.jl:160 [inlined]",
      " [5] * at .\\operators.jl:538 [inlined]",
      " [6] sum_matrix(::Array{Float64,2}, ::Array{Float64,2}) at .\\In[9]:4",
      " [7] ##core#263() at C:\\Users\\Olivier\\.julia\\packages\\BenchmarkTools\\eCEpo\\src\\execution.jl:371",
      " [8] ##sample#264(::BenchmarkTools.Parameters) at C:\\Users\\Olivier\\.julia\\packages\\BenchmarkTools\\eCEpo\\src\\execution.jl:377",
      " [9] _run(::BenchmarkTools.Benchmark{Symbol(\"##benchmark#262\")}, ::BenchmarkTools.Parameters; verbose::Bool, pad::String, kwargs::Base.Iterators.Pairs{Symbol,Integer,NTuple{4,Symbol},NamedTuple{(:samples, :evals, :gctrial, :gcsample),Tuple{Int64,Int64,Bool,Bool}}}) at C:\\Users\\Olivier\\.julia\\packages\\BenchmarkTools\\eCEpo\\src\\execution.jl:405",
      " [10] (::Base.var\"#inner#2\"{Base.Iterators.Pairs{Symbol,Integer,NTuple{5,Symbol},NamedTuple{(:verbose, :samples, :evals, :gctrial, :gcsample),Tuple{Bool,Int64,Int64,Bool,Bool}}},typeof(BenchmarkTools._run),Tuple{BenchmarkTools.Benchmark{Symbol(\"##benchmark#262\")},BenchmarkTools.Parameters}})() at .\\essentials.jl:713",
      " [11] #invokelatest#1 at .\\essentials.jl:714 [inlined]",
      " [12] #run_result#37 at C:\\Users\\Olivier\\.julia\\packages\\BenchmarkTools\\eCEpo\\src\\execution.jl:32 [inlined]",
      " [13] run(::BenchmarkTools.Benchmark{Symbol(\"##benchmark#262\")}, ::BenchmarkTools.Parameters; progressid::Nothing, nleaves::Float64, ndone::Float64, kwargs::Base.Iterators.Pairs{Symbol,Integer,NTuple{5,Symbol},NamedTuple{(:verbose, :samples, :evals, :gctrial, :gcsample),Tuple{Bool,Int64,Int64,Bool,Bool}}}) at C:\\Users\\Olivier\\.julia\\packages\\BenchmarkTools\\eCEpo\\src\\execution.jl:94",
      " [14] #warmup#45 at C:\\Users\\Olivier\\.julia\\packages\\BenchmarkTools\\eCEpo\\src\\execution.jl:141 [inlined]",
      " [15] warmup(::BenchmarkTools.Benchmark{Symbol(\"##benchmark#262\")}) at C:\\Users\\Olivier\\.julia\\packages\\BenchmarkTools\\eCEpo\\src\\execution.jl:141",
      " [16] top-level scope at C:\\Users\\Olivier\\.julia\\packages\\BenchmarkTools\\eCEpo\\src\\execution.jl:287",
      " [17] include_string(::Function, ::Module, ::String, ::String) at .\\loading.jl:1091",
      " [18] execute_code(::String, ::String) at C:\\Users\\Olivier\\.julia\\packages\\IJulia\\rWZ9e\\src\\execute_request.jl:27",
      " [19] execute_request(::ZMQ.Socket, ::IJulia.Msg) at C:\\Users\\Olivier\\.julia\\packages\\IJulia\\rWZ9e\\src\\execute_request.jl:86",
      " [20] #invokelatest#1 at .\\essentials.jl:710 [inlined]",
      " [21] invokelatest at .\\essentials.jl:709 [inlined]",
      " [22] eventloop(::ZMQ.Socket) at C:\\Users\\Olivier\\.julia\\packages\\IJulia\\rWZ9e\\src\\eventloop.jl:8",
      " [23] (::IJulia.var\"#15#18\")() at .\\task.jl:356"
     ]
    }
   ],
   "source": [
    "@benchmark sum_matrix(x,y)"
   ]
  },
  {
   "cell_type": "code",
   "execution_count": 11,
   "metadata": {},
   "outputs": [],
   "source": [
    "x = rand(Float64,39,39)\n",
    "y = rand(Float64,36,39,39);"
   ]
  },
  {
   "cell_type": "code",
   "execution_count": 12,
   "metadata": {},
   "outputs": [
    {
     "data": {
      "text/plain": [
       "sum_matrix (generic function with 1 method)"
      ]
     },
     "execution_count": 12,
     "metadata": {},
     "output_type": "execute_result"
    }
   ],
   "source": [
    "function sum_matrix(x,y)\n",
    "    s = zeros(Float64,39,39)\n",
    "    for i = 1:36\n",
    "        s = s + y[i,:,:]*x*y[i,:,:]\n",
    "    end\n",
    "end"
   ]
  },
  {
   "cell_type": "code",
   "execution_count": 13,
   "metadata": {},
   "outputs": [
    {
     "data": {
      "text/plain": [
       "BenchmarkTools.Trial: \n",
       "  memory estimate:  2.13 MiB\n",
       "  allocs estimate:  181\n",
       "  --------------\n",
       "  minimum time:     328.700 μs (0.00% GC)\n",
       "  median time:      425.401 μs (0.00% GC)\n",
       "  mean time:        872.616 μs (17.28% GC)\n",
       "  maximum time:     24.193 ms (96.43% GC)\n",
       "  --------------\n",
       "  samples:          5732\n",
       "  evals/sample:     1"
      ]
     },
     "execution_count": 13,
     "metadata": {},
     "output_type": "execute_result"
    }
   ],
   "source": [
    "@benchmark sum_matrix(x,y)"
   ]
  },
  {
   "cell_type": "code",
   "execution_count": 14,
   "metadata": {},
   "outputs": [
    {
     "data": {
      "text/plain": [
       "sum_matrix (generic function with 2 methods)"
      ]
     },
     "execution_count": 14,
     "metadata": {},
     "output_type": "execute_result"
    }
   ],
   "source": [
    "function sum_matrix(x::Array{Float64,2},y::Array{Float64,3})\n",
    "    s = zeros(Float64,39,39)\n",
    "    for i = 1:36\n",
    "        s = s + y[i,:,:]*x*y[i,:,:]\n",
    "    end\n",
    "end"
   ]
  },
  {
   "cell_type": "code",
   "execution_count": 15,
   "metadata": {},
   "outputs": [
    {
     "data": {
      "text/plain": [
       "BenchmarkTools.Trial: \n",
       "  memory estimate:  2.13 MiB\n",
       "  allocs estimate:  181\n",
       "  --------------\n",
       "  minimum time:     325.200 μs (0.00% GC)\n",
       "  median time:      409.601 μs (0.00% GC)\n",
       "  mean time:        487.763 μs (13.10% GC)\n",
       "  maximum time:     22.171 ms (97.36% GC)\n",
       "  --------------\n",
       "  samples:          10000\n",
       "  evals/sample:     1"
      ]
     },
     "execution_count": 15,
     "metadata": {},
     "output_type": "execute_result"
    }
   ],
   "source": [
    "@benchmark sum_matrix(x,y)"
   ]
  },
  {
   "cell_type": "code",
   "execution_count": 16,
   "metadata": {},
   "outputs": [],
   "source": [
    "x = rand(ComplexF64,39,39)\n",
    "y = rand(ComplexF64,36,39,39);"
   ]
  },
  {
   "cell_type": "code",
   "execution_count": 17,
   "metadata": {},
   "outputs": [
    {
     "data": {
      "text/plain": [
       "sum_matrix (generic function with 3 methods)"
      ]
     },
     "execution_count": 17,
     "metadata": {},
     "output_type": "execute_result"
    }
   ],
   "source": [
    "function sum_matrix(x::Array{Complex{Float64},2},y::Array{Complex{Float64},3})\n",
    "    s = zeros(ComplexF64,39,39)\n",
    "    for i = 1:36\n",
    "        s = s + y[i,:,:]*x*y[i,:,:]\n",
    "    end\n",
    "end"
   ]
  },
  {
   "cell_type": "code",
   "execution_count": 18,
   "metadata": {},
   "outputs": [
    {
     "data": {
      "text/plain": [
       "BenchmarkTools.Trial: \n",
       "  memory estimate:  4.22 MiB\n",
       "  allocs estimate:  362\n",
       "  --------------\n",
       "  minimum time:     946.600 μs (0.00% GC)\n",
       "  median time:      1.373 ms (0.00% GC)\n",
       "  mean time:        2.344 ms (16.96% GC)\n",
       "  maximum time:     38.358 ms (90.97% GC)\n",
       "  --------------\n",
       "  samples:          2131\n",
       "  evals/sample:     1"
      ]
     },
     "execution_count": 18,
     "metadata": {},
     "output_type": "execute_result"
    }
   ],
   "source": [
    "@benchmark sum_matrix(x,y)"
   ]
  },
  {
   "cell_type": "code",
   "execution_count": 19,
   "metadata": {},
   "outputs": [
    {
     "data": {
      "text/plain": [
       "sum_matrix_inbounds (generic function with 1 method)"
      ]
     },
     "execution_count": 19,
     "metadata": {},
     "output_type": "execute_result"
    }
   ],
   "source": [
    "function sum_matrix_inbounds(x::Array{Complex{Float64},2},y::Array{Complex{Float64},3})\n",
    "    s = zeros(ComplexF64,39,39)\n",
    "    @inbounds for i = 1:36\n",
    "        s = s + (y[i,:,:]*x)*y[i,:,:]\n",
    "    end\n",
    "end"
   ]
  },
  {
   "cell_type": "code",
   "execution_count": 20,
   "metadata": {},
   "outputs": [
    {
     "data": {
      "text/plain": [
       "BenchmarkTools.Trial: \n",
       "  memory estimate:  4.22 MiB\n",
       "  allocs estimate:  362\n",
       "  --------------\n",
       "  minimum time:     936.800 μs (0.00% GC)\n",
       "  median time:      2.769 ms (0.00% GC)\n",
       "  mean time:        3.069 ms (17.63% GC)\n",
       "  maximum time:     38.225 ms (91.88% GC)\n",
       "  --------------\n",
       "  samples:          1628\n",
       "  evals/sample:     1"
      ]
     },
     "execution_count": 20,
     "metadata": {},
     "output_type": "execute_result"
    }
   ],
   "source": [
    "@benchmark sum_matrix_inbounds(x,y)"
   ]
  },
  {
   "cell_type": "code",
   "execution_count": 21,
   "metadata": {},
   "outputs": [
    {
     "data": {
      "text/plain": [
       "sum_matrix_inbounds_sim (generic function with 1 method)"
      ]
     },
     "execution_count": 21,
     "metadata": {},
     "output_type": "execute_result"
    }
   ],
   "source": [
    "function sum_matrix_inbounds_sim(x::Array{Complex{Float64},2},y::Array{Complex{Float64},3})\n",
    "    s = zeros(ComplexF64,39,39)\n",
    "    @inbounds @simd for i = 1:36\n",
    "        s = s + (y[i,:,:]*x)*y[i,:,:]\n",
    "    end\n",
    "end"
   ]
  },
  {
   "cell_type": "code",
   "execution_count": 22,
   "metadata": {},
   "outputs": [
    {
     "data": {
      "text/plain": [
       "BenchmarkTools.Trial: \n",
       "  memory estimate:  4.22 MiB\n",
       "  allocs estimate:  362\n",
       "  --------------\n",
       "  minimum time:     954.299 μs (0.00% GC)\n",
       "  median time:      2.759 ms (0.00% GC)\n",
       "  mean time:        3.010 ms (17.80% GC)\n",
       "  maximum time:     41.167 ms (94.58% GC)\n",
       "  --------------\n",
       "  samples:          1661\n",
       "  evals/sample:     1"
      ]
     },
     "execution_count": 22,
     "metadata": {},
     "output_type": "execute_result"
    }
   ],
   "source": [
    "@benchmark sum_matrix_inbounds_sim(x,y)"
   ]
  },
  {
   "cell_type": "code",
   "execution_count": 23,
   "metadata": {},
   "outputs": [
    {
     "data": {
      "text/plain": [
       "sum_matrix_threads (generic function with 1 method)"
      ]
     },
     "execution_count": 23,
     "metadata": {},
     "output_type": "execute_result"
    }
   ],
   "source": [
    "function sum_matrix_threads(x::Array{Complex{Float64},2},y::Array{Complex{Float64},3})\n",
    "    s = zeros(ComplexF64,39,39)\n",
    "    Threads.@threads for i = 1:36\n",
    "        s = s + (y[i,:,:]*x)*y[i,:,:]\n",
    "    end\n",
    "    s\n",
    "end"
   ]
  },
  {
   "cell_type": "code",
   "execution_count": 24,
   "metadata": {},
   "outputs": [],
   "source": [
    "sum_matrix_threads(x,y);"
   ]
  },
  {
   "cell_type": "code",
   "execution_count": 25,
   "metadata": {},
   "outputs": [
    {
     "data": {
      "text/plain": [
       "BenchmarkTools.Trial: \n",
       "  memory estimate:  4.22 MiB\n",
       "  allocs estimate:  369\n",
       "  --------------\n",
       "  minimum time:     957.200 μs (0.00% GC)\n",
       "  median time:      2.769 ms (0.00% GC)\n",
       "  mean time:        3.048 ms (18.04% GC)\n",
       "  maximum time:     51.171 ms (94.37% GC)\n",
       "  --------------\n",
       "  samples:          1637\n",
       "  evals/sample:     1"
      ]
     },
     "execution_count": 25,
     "metadata": {},
     "output_type": "execute_result"
    }
   ],
   "source": [
    "@benchmark sum_matrix_threads(x,y)"
   ]
  },
  {
   "cell_type": "code",
   "execution_count": 26,
   "metadata": {},
   "outputs": [
    {
     "data": {
      "text/plain": [
       "BenchmarkTools.Trial: \n",
       "  memory estimate:  4.22 MiB\n",
       "  allocs estimate:  369\n",
       "  --------------\n",
       "  minimum time:     957.100 μs (0.00% GC)\n",
       "  median time:      2.792 ms (0.00% GC)\n",
       "  mean time:        3.097 ms (17.28% GC)\n",
       "  maximum time:     54.905 ms (94.61% GC)\n",
       "  --------------\n",
       "  samples:          1611\n",
       "  evals/sample:     1"
      ]
     },
     "execution_count": 26,
     "metadata": {},
     "output_type": "execute_result"
    }
   ],
   "source": [
    "@benchmark sum_matrix_threads(x,y)"
   ]
  },
  {
   "cell_type": "code",
   "execution_count": 27,
   "metadata": {},
   "outputs": [
    {
     "name": "stdout",
     "output_type": "stream",
     "text": [
      "  0.003789 seconds (371 allocations: 4.224 MiB)\n"
     ]
    }
   ],
   "source": [
    "@time sum_matrix_threads(x,y);"
   ]
  },
  {
   "cell_type": "code",
   "execution_count": 28,
   "metadata": {},
   "outputs": [
    {
     "name": "stdout",
     "output_type": "stream",
     "text": [
      "  0.003713 seconds (369 allocations: 4.224 MiB)\n"
     ]
    }
   ],
   "source": [
    "@time sum_matrix_threads(x,y);"
   ]
  },
  {
   "cell_type": "code",
   "execution_count": 29,
   "metadata": {},
   "outputs": [
    {
     "name": "stdout",
     "output_type": "stream",
     "text": [
      "  0.002935 seconds (362 allocations: 4.223 MiB)\n"
     ]
    }
   ],
   "source": [
    "@time sum_matrix_inbounds_sim(x,y)"
   ]
  },
  {
   "cell_type": "code",
   "execution_count": 30,
   "metadata": {},
   "outputs": [
    {
     "data": {
      "text/plain": [
       "sum_matrix_inbounds (generic function with 1 method)"
      ]
     },
     "execution_count": 30,
     "metadata": {},
     "output_type": "execute_result"
    }
   ],
   "source": [
    "function sum_matrix_inbounds(x::Array{Complex{Float64},2},y::Array{Complex{Float64},3})\n",
    "    s = zeros(ComplexF64,39,39)\n",
    "    @inbounds for i = 1:36\n",
    "        s .= s .+ y[i,:,:]*x*y[i,:,:]\n",
    "    end\n",
    "end"
   ]
  },
  {
   "cell_type": "code",
   "execution_count": 31,
   "metadata": {},
   "outputs": [
    {
     "data": {
      "text/plain": [
       "BenchmarkTools.Trial: \n",
       "  memory estimate:  3.38 MiB\n",
       "  allocs estimate:  290\n",
       "  --------------\n",
       "  minimum time:     856.600 μs (0.00% GC)\n",
       "  median time:      2.346 ms (0.00% GC)\n",
       "  mean time:        2.575 ms (17.42% GC)\n",
       "  maximum time:     55.057 ms (95.79% GC)\n",
       "  --------------\n",
       "  samples:          1941\n",
       "  evals/sample:     1"
      ]
     },
     "execution_count": 31,
     "metadata": {},
     "output_type": "execute_result"
    }
   ],
   "source": [
    "@benchmark sum_matrix_inbounds(x,y)"
   ]
  },
  {
   "cell_type": "code",
   "execution_count": 32,
   "metadata": {},
   "outputs": [
    {
     "data": {
      "text/plain": [
       "sum_matrix_inbounds (generic function with 1 method)"
      ]
     },
     "execution_count": 32,
     "metadata": {},
     "output_type": "execute_result"
    }
   ],
   "source": [
    "function sum_matrix_inbounds(x::Array{Complex{Float64},2},y::Array{Complex{Float64},3})\n",
    "    s = zeros(ComplexF64,39,39)\n",
    "    @inbounds for i = 1:36\n",
    "        a = @view y[i,:,:]\n",
    "        b = @view y[i,:,:]\n",
    "        s .= s .+ a*x*b\n",
    "    end\n",
    "end"
   ]
  },
  {
   "cell_type": "code",
   "execution_count": 33,
   "metadata": {},
   "outputs": [
    {
     "data": {
      "text/plain": [
       "BenchmarkTools.Trial: \n",
       "  memory estimate:  1.73 MiB\n",
       "  allocs estimate:  578\n",
       "  --------------\n",
       "  minimum time:     5.454 ms (0.00% GC)\n",
       "  median time:      6.314 ms (0.00% GC)\n",
       "  mean time:        6.492 ms (4.28% GC)\n",
       "  maximum time:     61.148 ms (89.33% GC)\n",
       "  --------------\n",
       "  samples:          771\n",
       "  evals/sample:     1"
      ]
     },
     "execution_count": 33,
     "metadata": {},
     "output_type": "execute_result"
    }
   ],
   "source": [
    "@benchmark sum_matrix_inbounds(x,y)"
   ]
  },
  {
   "cell_type": "code",
   "execution_count": 34,
   "metadata": {},
   "outputs": [
    {
     "data": {
      "text/plain": [
       "Lindblad_rhs (generic function with 1 method)"
      ]
     },
     "execution_count": 34,
     "metadata": {},
     "output_type": "execute_result"
    }
   ],
   "source": [
    "function Lindblad_rhs(u::Array{Complex{Float64},2},t::Float64)\n",
    "    s = zeros(ComplexF64,39,39)\n",
    "    @inbounds for i = 1:33\n",
    "        a = @view C_array_const[i,:,:]\n",
    "        b = @view C_conj_array_const[i,:,:]\n",
    "        s .= s .+ a*u*b\n",
    "    end\n",
    "    -1im .* (Hamiltonian(t).*u .- u*Hamiltonian(t)) .- 0.5 * (Cprecalc_const*u .+ u*Cprecalc_const) .+ s\n",
    "end"
   ]
  },
  {
   "cell_type": "code",
   "execution_count": 35,
   "metadata": {},
   "outputs": [],
   "source": [
    "const Cprecalc_const = rand(ComplexF64,39,39)\n",
    "const C_array_const = rand(ComplexF64,36,39,39)\n",
    "const C_conj_array_const = rand(ComplexF64,36,39,39);"
   ]
  },
  {
   "cell_type": "code",
   "execution_count": 36,
   "metadata": {},
   "outputs": [
    {
     "data": {
      "text/plain": [
       "Hamiltonian (generic function with 1 method)"
      ]
     },
     "execution_count": 36,
     "metadata": {},
     "output_type": "execute_result"
    }
   ],
   "source": [
    "function Hamiltonian(t::Float64)::Array{Complex{Float64},2}\n",
    "    rand(ComplexF64,39,39)*t\n",
    "end"
   ]
  },
  {
   "cell_type": "code",
   "execution_count": 37,
   "metadata": {},
   "outputs": [],
   "source": [
    "u = rand(ComplexF64,39,39);"
   ]
  },
  {
   "cell_type": "code",
   "execution_count": 38,
   "metadata": {},
   "outputs": [
    {
     "data": {
      "text/plain": [
       "BenchmarkTools.Trial: \n",
       "  memory estimate:  1.82 MiB\n",
       "  allocs estimate:  550\n",
       "  --------------\n",
       "  minimum time:     5.169 ms (0.00% GC)\n",
       "  median time:      6.007 ms (0.00% GC)\n",
       "  mean time:        6.678 ms (3.98% GC)\n",
       "  maximum time:     62.727 ms (90.35% GC)\n",
       "  --------------\n",
       "  samples:          749\n",
       "  evals/sample:     1"
      ]
     },
     "execution_count": 38,
     "metadata": {},
     "output_type": "execute_result"
    }
   ],
   "source": [
    "@benchmark Lindblad_rhs(u,1e-6)"
   ]
  },
  {
   "cell_type": "code",
   "execution_count": 39,
   "metadata": {},
   "outputs": [
    {
     "data": {
      "text/plain": [
       "sum_mult! (generic function with 1 method)"
      ]
     },
     "execution_count": 39,
     "metadata": {},
     "output_type": "execute_result"
    }
   ],
   "source": [
    "function sum_mult!(result::Array{Complex{Float64},2}, \n",
    "                  A::Array{Complex{Float64},3},\n",
    "                  B::Array{Complex{Float64},2}, \n",
    "                  C::Array{Complex{Float64},3})\n",
    "    @inbounds for i = 1:33\n",
    "        a = @view A[i,:,:]\n",
    "        c = @view C[i,:,:]\n",
    "        result .= result .+ a*B*c\n",
    "    end\n",
    "end"
   ]
  },
  {
   "cell_type": "code",
   "execution_count": 40,
   "metadata": {},
   "outputs": [],
   "source": [
    "s = zeros(ComplexF64,39,39);"
   ]
  },
  {
   "cell_type": "code",
   "execution_count": 41,
   "metadata": {},
   "outputs": [
    {
     "data": {
      "text/plain": [
       "BenchmarkTools.Trial: \n",
       "  memory estimate:  1.56 MiB\n",
       "  allocs estimate:  528\n",
       "  --------------\n",
       "  minimum time:     5.014 ms (0.00% GC)\n",
       "  median time:      5.698 ms (0.00% GC)\n",
       "  mean time:        5.930 ms (4.73% GC)\n",
       "  maximum time:     68.740 ms (91.48% GC)\n",
       "  --------------\n",
       "  samples:          844\n",
       "  evals/sample:     1"
      ]
     },
     "execution_count": 41,
     "metadata": {},
     "output_type": "execute_result"
    }
   ],
   "source": [
    "@benchmark sum_mult!(s,C_array_const,u,C_conj_array_const)"
   ]
  },
  {
   "cell_type": "code",
   "execution_count": 42,
   "metadata": {},
   "outputs": [
    {
     "data": {
      "text/plain": [
       "sum_mult! (generic function with 1 method)"
      ]
     },
     "execution_count": 42,
     "metadata": {},
     "output_type": "execute_result"
    }
   ],
   "source": [
    "function sum_mult!(result::Array{Complex{Float64},2}, \n",
    "                  A::Array{Complex{Float64},3},\n",
    "                  B::Array{Complex{Float64},2}, \n",
    "                  C::Array{Complex{Float64},3})\n",
    "    @inbounds for i = 1:33\n",
    "        result .= result .+ A[i,:,:]*B*C[i,:,:]\n",
    "    end\n",
    "end"
   ]
  },
  {
   "cell_type": "code",
   "execution_count": 43,
   "metadata": {},
   "outputs": [],
   "source": [
    "s = zeros(ComplexF64,39,39);"
   ]
  },
  {
   "cell_type": "code",
   "execution_count": 44,
   "metadata": {},
   "outputs": [
    {
     "data": {
      "text/plain": [
       "BenchmarkTools.Trial: \n",
       "  memory estimate:  3.08 MiB\n",
       "  allocs estimate:  264\n",
       "  --------------\n",
       "  minimum time:     845.000 μs (0.00% GC)\n",
       "  median time:      2.147 ms (0.00% GC)\n",
       "  mean time:        2.435 ms (19.04% GC)\n",
       "  maximum time:     62.073 ms (96.64% GC)\n",
       "  --------------\n",
       "  samples:          2050\n",
       "  evals/sample:     1"
      ]
     },
     "execution_count": 44,
     "metadata": {},
     "output_type": "execute_result"
    }
   ],
   "source": [
    "@benchmark sum_mult!(s,C_array_const,u,C_conj_array_const)"
   ]
  },
  {
   "cell_type": "code",
   "execution_count": 45,
   "metadata": {},
   "outputs": [
    {
     "data": {
      "text/latex": [
       "36"
      ],
      "text/plain": [
       "36"
      ]
     },
     "execution_count": 45,
     "metadata": {},
     "output_type": "execute_result"
    }
   ],
   "source": [
    "size(C_array_const)[1]"
   ]
  },
  {
   "cell_type": "code",
   "execution_count": 46,
   "metadata": {},
   "outputs": [
    {
     "data": {
      "text/plain": [
       "sum_mult! (generic function with 2 methods)"
      ]
     },
     "execution_count": 46,
     "metadata": {},
     "output_type": "execute_result"
    }
   ],
   "source": [
    "function sum_mult!(result::Array{Complex{Float64},2}, \n",
    "                  A::Array{Complex{Float64},3},\n",
    "                  B::Array{Complex{Float64},2}, \n",
    "                  C::Array{Complex{Float64},3},\n",
    "                  idx_max::Int64,\n",
    "                  shape::Array{Int64,1}\n",
    "    )\n",
    "    intermediate1 = zeros(ComplexF64, shape[1], shape[2])\n",
    "    intermediate2 = zeros(ComplexF64, shape[1], shape[2])\n",
    "    @inbounds for i = 1:idx_max\n",
    "        mul!(intermediate1,B,C[i,:,:])\n",
    "        mul!(intermediate2, A[i,:,:], intermediate1)\n",
    "        result .+= intermediate2\n",
    "    end\n",
    "end"
   ]
  },
  {
   "cell_type": "code",
   "execution_count": 47,
   "metadata": {},
   "outputs": [],
   "source": [
    "s = zeros(ComplexF64,39,39);"
   ]
  },
  {
   "cell_type": "code",
   "execution_count": 48,
   "metadata": {},
   "outputs": [
    {
     "data": {
      "text/plain": [
       "BenchmarkTools.Trial: \n",
       "  memory estimate:  1.59 MiB\n",
       "  allocs estimate:  137\n",
       "  --------------\n",
       "  minimum time:     663.299 μs (0.00% GC)\n",
       "  median time:      1.479 ms (0.00% GC)\n",
       "  mean time:        1.772 ms (16.73% GC)\n",
       "  maximum time:     81.012 ms (97.85% GC)\n",
       "  --------------\n",
       "  samples:          2818\n",
       "  evals/sample:     1"
      ]
     },
     "execution_count": 48,
     "metadata": {},
     "output_type": "execute_result"
    }
   ],
   "source": [
    "@benchmark sum_mult!(s,C_array_const,u,C_conj_array_const, 33,[39,39])"
   ]
  },
  {
   "cell_type": "code",
   "execution_count": 49,
   "metadata": {},
   "outputs": [
    {
     "data": {
      "text/plain": [
       "Lindblad_rhs (generic function with 1 method)"
      ]
     },
     "execution_count": 49,
     "metadata": {},
     "output_type": "execute_result"
    }
   ],
   "source": [
    "function Lindblad_rhs(u::Array{Complex{Float64},2},t::Float64)\n",
    "    s = zeros(ComplexF64,39,39)\n",
    "    sum_mult!(s,C_array_const,u,C_conj_array_const,33,[39,39])\n",
    "    s .= s .- 1im .* Hamiltonian(t)*u\n",
    "    s .= s .+ 1im .* Hamiltonian(t)*u\n",
    "    s .= s .- 0.5 .* Cprecalc_const*u\n",
    "    s .= s .- 0.5 .* u*Cprecalc_const\n",
    "    return s\n",
    "end"
   ]
  },
  {
   "cell_type": "code",
   "execution_count": 50,
   "metadata": {},
   "outputs": [
    {
     "data": {
      "text/plain": [
       "BenchmarkTools.Trial: \n",
       "  memory estimate:  1.89 MiB\n",
       "  allocs estimate:  163\n",
       "  --------------\n",
       "  minimum time:     768.000 μs (0.00% GC)\n",
       "  median time:      1.697 ms (0.00% GC)\n",
       "  mean time:        2.014 ms (16.32% GC)\n",
       "  maximum time:     70.252 ms (96.75% GC)\n",
       "  --------------\n",
       "  samples:          2485\n",
       "  evals/sample:     1"
      ]
     },
     "execution_count": 50,
     "metadata": {},
     "output_type": "execute_result"
    }
   ],
   "source": [
    "@benchmark Lindblad_rhs(u,1e-6)"
   ]
  },
  {
   "cell_type": "code",
   "execution_count": 51,
   "metadata": {},
   "outputs": [
    {
     "data": {
      "text/plain": [
       "Lindblad_rhs! (generic function with 1 method)"
      ]
     },
     "execution_count": 51,
     "metadata": {},
     "output_type": "execute_result"
    }
   ],
   "source": [
    "function Lindblad_rhs!(du::Array{Complex{Float64}}, u::Array{Complex{Float64},2},t::Float64)\n",
    "    intermediate = zeros(ComplexF64,39,39)\n",
    "    fill!(du,0.0)\n",
    "    sum_mult!(du,C_array_const,u,C_conj_array_const,33,[39,39])\n",
    "    mul!(intermediate, Hamiltonian(t), u)\n",
    "    du .-= 1im .* intermediate\n",
    "    mul!(intermediate, u, Hamiltonian(t))\n",
    "    du .+= 1im .* intermediate\n",
    "    mul!(intermediate, Cprecalc_const, u)\n",
    "    du .-= 0.5 .* intermediate\n",
    "    mul!(intermediate, u, Cprecalc_const)\n",
    "    du .-= 0.5 .* intermediate\n",
    "end"
   ]
  },
  {
   "cell_type": "code",
   "execution_count": 52,
   "metadata": {},
   "outputs": [],
   "source": [
    "du = rand(ComplexF64,39,39);"
   ]
  },
  {
   "cell_type": "code",
   "execution_count": 53,
   "metadata": {},
   "outputs": [
    {
     "data": {
      "text/plain": [
       "BenchmarkTools.Trial: \n",
       "  memory estimate:  1.70 MiB\n",
       "  allocs estimate:  147\n",
       "  --------------\n",
       "  minimum time:     737.900 μs (0.00% GC)\n",
       "  median time:      1.599 ms (0.00% GC)\n",
       "  mean time:        1.853 ms (13.72% GC)\n",
       "  maximum time:     73.833 ms (97.81% GC)\n",
       "  --------------\n",
       "  samples:          2694\n",
       "  evals/sample:     1"
      ]
     },
     "execution_count": 53,
     "metadata": {},
     "output_type": "execute_result"
    }
   ],
   "source": [
    "@benchmark Lindblad_rhs!(du, u,1e-6)"
   ]
  },
  {
   "cell_type": "code",
   "execution_count": 54,
   "metadata": {},
   "outputs": [
    {
     "data": {
      "text/plain": [
       "BenchmarkTools.Trial: \n",
       "  memory estimate:  1.70 MiB\n",
       "  allocs estimate:  147\n",
       "  --------------\n",
       "  minimum time:     726.100 μs (0.00% GC)\n",
       "  median time:      1.538 ms (0.00% GC)\n",
       "  mean time:        1.738 ms (16.15% GC)\n",
       "  maximum time:     82.134 ms (98.05% GC)\n",
       "  --------------\n",
       "  samples:          2876\n",
       "  evals/sample:     1"
      ]
     },
     "execution_count": 54,
     "metadata": {},
     "output_type": "execute_result"
    }
   ],
   "source": [
    "@benchmark Lindblad_rhs!(du, u,1e-6)"
   ]
  },
  {
   "cell_type": "code",
   "execution_count": 55,
   "metadata": {},
   "outputs": [
    {
     "data": {
      "text/plain": [
       "square_wave (generic function with 1 method)"
      ]
     },
     "execution_count": 55,
     "metadata": {},
     "output_type": "execute_result"
    }
   ],
   "source": [
    "function square_wave(t::Float64, frequency::Float64, phase::Float64)\n",
    "    0.5.*(1+squarewave(2*pi.*frequency.*t .+ phase))\n",
    "end"
   ]
  },
  {
   "cell_type": "code",
   "execution_count": 56,
   "metadata": {},
   "outputs": [
    {
     "data": {
      "text/plain": [
       "BenchmarkTools.Trial: \n",
       "  memory estimate:  0 bytes\n",
       "  allocs estimate:  0\n",
       "  --------------\n",
       "  minimum time:     3.099 ns (0.00% GC)\n",
       "  median time:      3.100 ns (0.00% GC)\n",
       "  mean time:        3.135 ns (0.00% GC)\n",
       "  maximum time:     20.201 ns (0.00% GC)\n",
       "  --------------\n",
       "  samples:          10000\n",
       "  evals/sample:     1000"
      ]
     },
     "execution_count": 56,
     "metadata": {},
     "output_type": "execute_result"
    }
   ],
   "source": [
    "@benchmark square_wave(1e-6, 1/(2*2e-6), 0.0)"
   ]
  },
  {
   "cell_type": "code",
   "execution_count": 57,
   "metadata": {},
   "outputs": [
    {
     "data": {
      "text/plain": [
       "Hamiltonian (generic function with 1 method)"
      ]
     },
     "execution_count": 57,
     "metadata": {},
     "output_type": "execute_result"
    }
   ],
   "source": [
    "function Hamiltonian(t::Float64)::Array{Complex{Float64},2}\n",
    "    rand(ComplexF64,39,39).*square_wave(t, 1/(2*2e-6), 0.0)\n",
    "end"
   ]
  },
  {
   "cell_type": "code",
   "execution_count": 58,
   "metadata": {},
   "outputs": [
    {
     "data": {
      "text/plain": [
       "Lindblad_rhs! (generic function with 1 method)"
      ]
     },
     "execution_count": 58,
     "metadata": {},
     "output_type": "execute_result"
    }
   ],
   "source": [
    "function Lindblad_rhs!(du::Array{Complex{Float64}}, u::Array{Complex{Float64},2},t::Float64)\n",
    "    intermediate = zeros(ComplexF64,39,39)\n",
    "    fill!(du,0.0)\n",
    "    sum_mult!(du,C_array_const,u,C_conj_array_const,33,[39,39])\n",
    "    mul!(intermediate, Hamiltonian(t), u)\n",
    "    du .-= 1im .* intermediate\n",
    "    mul!(intermediate, u, Hamiltonian(t))\n",
    "    du .+= 1im .* intermediate\n",
    "    mul!(intermediate, Cprecalc_const, u)\n",
    "    du .-= 0.5 .* intermediate\n",
    "    mul!(intermediate, u, Cprecalc_const)\n",
    "    du .-= 0.5 .* intermediate\n",
    "end"
   ]
  },
  {
   "cell_type": "code",
   "execution_count": 59,
   "metadata": {},
   "outputs": [
    {
     "data": {
      "text/plain": [
       "BenchmarkTools.Trial: \n",
       "  memory estimate:  1.70 MiB\n",
       "  allocs estimate:  147\n",
       "  --------------\n",
       "  minimum time:     732.600 μs (0.00% GC)\n",
       "  median time:      1.542 ms (0.00% GC)\n",
       "  mean time:        1.789 ms (17.05% GC)\n",
       "  maximum time:     93.140 ms (98.32% GC)\n",
       "  --------------\n",
       "  samples:          2788\n",
       "  evals/sample:     1"
      ]
     },
     "execution_count": 59,
     "metadata": {},
     "output_type": "execute_result"
    }
   ],
   "source": [
    "@benchmark Lindblad_rhs!(du, u,1e-6)"
   ]
  },
  {
   "cell_type": "markdown",
   "metadata": {},
   "source": [
    "Still about a factor 1.5 to 2 slower than the numpy implementation."
   ]
  },
  {
   "cell_type": "code",
   "execution_count": null,
   "metadata": {},
   "outputs": [],
   "source": []
  }
 ],
 "metadata": {
  "kernelspec": {
   "display_name": "Julia 1.5.2",
   "language": "julia",
   "name": "julia-1.5"
  },
  "language_info": {
   "file_extension": ".jl",
   "mimetype": "application/julia",
   "name": "julia",
   "version": "1.5.2"
  }
 },
 "nbformat": 4,
 "nbformat_minor": 4
}
