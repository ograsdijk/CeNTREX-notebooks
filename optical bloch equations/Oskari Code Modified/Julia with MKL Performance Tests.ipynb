{
 "cells": [
  {
   "cell_type": "code",
   "execution_count": 1,
   "metadata": {},
   "outputs": [
    {
     "name": "stderr",
     "output_type": "stream",
     "text": [
      "┌ Info: Precompiling Waveforms [cb13b1c6-351e-5134-b3ad-d6a530956a82]\n",
      "└ @ Base loading.jl:1260\n",
      "┌ Info: Precompiling DifferentialEquations [0c46a032-eb83-5123-abaf-570d42b7fbaa]\n",
      "└ @ Base loading.jl:1260\n",
      "┌ Info: Precompiling BenchmarkTools [6e4b80f9-dd63-53aa-95a3-0cdb28fa8baf]\n",
      "└ @ Base loading.jl:1260\n"
     ]
    }
   ],
   "source": [
    "using Waveforms\n",
    "using DifferentialEquations\n",
    "using StaticArrays\n",
    "using LinearAlgebra\n",
    "using BenchmarkTools\n",
    "using Distributions"
   ]
  },
  {
   "cell_type": "code",
   "execution_count": 2,
   "metadata": {},
   "outputs": [
    {
     "data": {
      "text/plain": [
       ":mkl"
      ]
     },
     "execution_count": 2,
     "metadata": {},
     "output_type": "execute_result"
    }
   ],
   "source": [
    "BLAS.vendor()"
   ]
  },
  {
   "cell_type": "code",
   "execution_count": 3,
   "metadata": {},
   "outputs": [
    {
     "data": {
      "text/plain": [
       "#3 (generic function with 1 method)"
      ]
     },
     "execution_count": 3,
     "metadata": {},
     "output_type": "execute_result"
    }
   ],
   "source": [
    "const get_num_threads = function() # anonymous so it will be serialized when called\n",
    "    blas = LinearAlgebra.BLAS.vendor()\n",
    "    # Wrap in a try to catch unsupported blas versions\n",
    "    try\n",
    "        if blas == :openblas\n",
    "            return ccall((:openblas_get_num_threads, Base.libblas_name), Cint, ())\n",
    "        elseif blas == :openblas64\n",
    "            return ccall((:openblas_get_num_threads64_, Base.libblas_name), Cint, ())\n",
    "        elseif blas == :mkl\n",
    "            return ccall((:MKL_Get_Max_Num_Threads, Base.libblas_name), Cint, ())\n",
    "        end\n",
    "\n",
    "        # OSX BLAS looks at an environment variable\n",
    "        if Sys.isapple()\n",
    "            return tryparse(Cint, get(ENV, \"VECLIB_MAXIMUM_THREADS\", \"1\"))\n",
    "        end\n",
    "    catch\n",
    "    end\n",
    "\n",
    "    return nothing\n",
    "end"
   ]
  },
  {
   "cell_type": "code",
   "execution_count": 4,
   "metadata": {},
   "outputs": [],
   "source": [
    "get_num_threads()"
   ]
  },
  {
   "cell_type": "code",
   "execution_count": 5,
   "metadata": {},
   "outputs": [],
   "source": [
    "x = rand(5000,5000)\n",
    "y = rand(5000,5000);"
   ]
  },
  {
   "cell_type": "code",
   "execution_count": 6,
   "metadata": {},
   "outputs": [
    {
     "data": {
      "text/plain": [
       "BenchmarkTools.Trial: \n",
       "  memory estimate:  190.73 MiB\n",
       "  allocs estimate:  2\n",
       "  --------------\n",
       "  minimum time:     786.948 ms (0.00% GC)\n",
       "  median time:      1.141 s (0.00% GC)\n",
       "  mean time:        1.050 s (0.64% GC)\n",
       "  maximum time:     1.253 s (2.66% GC)\n",
       "  --------------\n",
       "  samples:          5\n",
       "  evals/sample:     1"
      ]
     },
     "execution_count": 6,
     "metadata": {},
     "output_type": "execute_result"
    }
   ],
   "source": [
    "@benchmark z = x*y"
   ]
  },
  {
   "cell_type": "code",
   "execution_count": 7,
   "metadata": {},
   "outputs": [],
   "source": [
    "z = zeros(5000,5000);"
   ]
  },
  {
   "cell_type": "code",
   "execution_count": 8,
   "metadata": {},
   "outputs": [
    {
     "data": {
      "text/plain": [
       "BenchmarkTools.Trial: \n",
       "  memory estimate:  0 bytes\n",
       "  allocs estimate:  0\n",
       "  --------------\n",
       "  minimum time:     782.181 ms (0.00% GC)\n",
       "  median time:      873.955 ms (0.00% GC)\n",
       "  mean time:        855.442 ms (0.00% GC)\n",
       "  maximum time:     882.185 ms (0.00% GC)\n",
       "  --------------\n",
       "  samples:          6\n",
       "  evals/sample:     1"
      ]
     },
     "execution_count": 8,
     "metadata": {},
     "output_type": "execute_result"
    }
   ],
   "source": [
    "@benchmark mul!(z,x,y)"
   ]
  },
  {
   "cell_type": "markdown",
   "metadata": {},
   "source": [
    "## Static Arrays are faster but only recommended for use of arrays with less than 100 elements"
   ]
  },
  {
   "cell_type": "code",
   "execution_count": 9,
   "metadata": {},
   "outputs": [],
   "source": [
    "x = @SMatrix rand(10,10)\n",
    "y = @SMatrix rand(10,10);"
   ]
  },
  {
   "cell_type": "code",
   "execution_count": 10,
   "metadata": {},
   "outputs": [
    {
     "data": {
      "text/plain": [
       "BenchmarkTools.Trial: \n",
       "  memory estimate:  816 bytes\n",
       "  allocs estimate:  1\n",
       "  --------------\n",
       "  minimum time:     257.402 ns (0.00% GC)\n",
       "  median time:      521.752 ns (0.00% GC)\n",
       "  mean time:        549.451 ns (15.97% GC)\n",
       "  maximum time:     55.322 μs (98.85% GC)\n",
       "  --------------\n",
       "  samples:          10000\n",
       "  evals/sample:     331"
      ]
     },
     "execution_count": 10,
     "metadata": {},
     "output_type": "execute_result"
    }
   ],
   "source": [
    "@benchmark z = x*y"
   ]
  },
  {
   "cell_type": "code",
   "execution_count": 11,
   "metadata": {},
   "outputs": [],
   "source": [
    "x = rand(10,10)\n",
    "y = rand(10,10);"
   ]
  },
  {
   "cell_type": "code",
   "execution_count": 12,
   "metadata": {},
   "outputs": [
    {
     "data": {
      "text/plain": [
       "BenchmarkTools.Trial: \n",
       "  memory estimate:  896 bytes\n",
       "  allocs estimate:  1\n",
       "  --------------\n",
       "  minimum time:     339.265 ns (0.00% GC)\n",
       "  median time:      636.986 ns (0.00% GC)\n",
       "  mean time:        665.904 ns (13.68% GC)\n",
       "  maximum time:     82.200 μs (99.09% GC)\n",
       "  --------------\n",
       "  samples:          10000\n",
       "  evals/sample:     219"
      ]
     },
     "execution_count": 12,
     "metadata": {},
     "output_type": "execute_result"
    }
   ],
   "source": [
    "@benchmark z = x*y"
   ]
  },
  {
   "cell_type": "code",
   "execution_count": 13,
   "metadata": {},
   "outputs": [],
   "source": [
    "x = Hermitian(rand(39,39) + I)\n",
    "y = Hermitian(rand(39,39));"
   ]
  },
  {
   "cell_type": "code",
   "execution_count": 14,
   "metadata": {},
   "outputs": [
    {
     "data": {
      "text/plain": [
       "BenchmarkTools.Trial: \n",
       "  memory estimate:  24.13 KiB\n",
       "  allocs estimate:  2\n",
       "  --------------\n",
       "  minimum time:     6.700 μs (0.00% GC)\n",
       "  median time:      15.650 μs (0.00% GC)\n",
       "  mean time:        18.478 μs (7.34% GC)\n",
       "  maximum time:     4.788 ms (99.51% GC)\n",
       "  --------------\n",
       "  samples:          10000\n",
       "  evals/sample:     4"
      ]
     },
     "execution_count": 14,
     "metadata": {},
     "output_type": "execute_result"
    }
   ],
   "source": [
    "@benchmark z = x*y"
   ]
  },
  {
   "cell_type": "code",
   "execution_count": 15,
   "metadata": {},
   "outputs": [],
   "source": [
    "x = Matrix(Hermitian(rand(39,39) + I))\n",
    "y = Matrix(Hermitian(rand(39,39)));"
   ]
  },
  {
   "cell_type": "code",
   "execution_count": 16,
   "metadata": {},
   "outputs": [
    {
     "data": {
      "text/plain": [
       "BenchmarkTools.Trial: \n",
       "  memory estimate:  12.06 KiB\n",
       "  allocs estimate:  1\n",
       "  --------------\n",
       "  minimum time:     3.237 μs (0.00% GC)\n",
       "  median time:      4.188 μs (0.00% GC)\n",
       "  mean time:        5.720 μs (8.82% GC)\n",
       "  maximum time:     2.397 ms (99.58% GC)\n",
       "  --------------\n",
       "  samples:          10000\n",
       "  evals/sample:     8"
      ]
     },
     "execution_count": 16,
     "metadata": {},
     "output_type": "execute_result"
    }
   ],
   "source": [
    "@benchmark z = x*y"
   ]
  },
  {
   "cell_type": "code",
   "execution_count": 17,
   "metadata": {},
   "outputs": [],
   "source": [
    "x = rand(39,39)\n",
    "y = rand(39,39);"
   ]
  },
  {
   "cell_type": "code",
   "execution_count": 18,
   "metadata": {},
   "outputs": [
    {
     "data": {
      "text/plain": [
       "BenchmarkTools.Trial: \n",
       "  memory estimate:  12.06 KiB\n",
       "  allocs estimate:  1\n",
       "  --------------\n",
       "  minimum time:     3.225 μs (0.00% GC)\n",
       "  median time:      4.000 μs (0.00% GC)\n",
       "  mean time:        5.002 μs (5.57% GC)\n",
       "  maximum time:     739.300 μs (98.70% GC)\n",
       "  --------------\n",
       "  samples:          10000\n",
       "  evals/sample:     8"
      ]
     },
     "execution_count": 18,
     "metadata": {},
     "output_type": "execute_result"
    }
   ],
   "source": [
    "@benchmark z = x*y"
   ]
  },
  {
   "cell_type": "markdown",
   "metadata": {},
   "source": [
    "### Checking some other aspects of the Lindblad RHS"
   ]
  },
  {
   "cell_type": "code",
   "execution_count": 19,
   "metadata": {},
   "outputs": [],
   "source": [
    "x = rand(ComplexF64, 39,39)\n",
    "y = rand(ComplexF64, 39,39);"
   ]
  },
  {
   "cell_type": "code",
   "execution_count": 20,
   "metadata": {},
   "outputs": [
    {
     "data": {
      "text/plain": [
       "BenchmarkTools.Trial: \n",
       "  memory estimate:  95.56 KiB\n",
       "  allocs estimate:  8\n",
       "  --------------\n",
       "  minimum time:     13.200 μs (0.00% GC)\n",
       "  median time:      40.400 μs (0.00% GC)\n",
       "  mean time:        48.861 μs (24.42% GC)\n",
       "  maximum time:     24.981 ms (99.60% GC)\n",
       "  --------------\n",
       "  samples:          10000\n",
       "  evals/sample:     1"
      ]
     },
     "execution_count": 20,
     "metadata": {},
     "output_type": "execute_result"
    }
   ],
   "source": [
    "@benchmark -1im * (x*y-y*x)"
   ]
  },
  {
   "cell_type": "code",
   "execution_count": 21,
   "metadata": {},
   "outputs": [
    {
     "data": {
      "text/plain": [
       "BenchmarkTools.Trial: \n",
       "  memory estimate:  215.02 KiB\n",
       "  allocs estimate:  18\n",
       "  --------------\n",
       "  minimum time:     28.700 μs (0.00% GC)\n",
       "  median time:      95.200 μs (0.00% GC)\n",
       "  mean time:        132.112 μs (22.43% GC)\n",
       "  maximum time:     38.482 ms (99.61% GC)\n",
       "  --------------\n",
       "  samples:          10000\n",
       "  evals/sample:     1"
      ]
     },
     "execution_count": 21,
     "metadata": {},
     "output_type": "execute_result"
    }
   ],
   "source": [
    "@benchmark -1im * (x*y-y*x) - 0.5*(y*x + x*y)"
   ]
  },
  {
   "cell_type": "code",
   "execution_count": 22,
   "metadata": {},
   "outputs": [],
   "source": [
    "x = rand(ComplexF64,39,39)\n",
    "y = rand(ComplexF64,39,39);"
   ]
  },
  {
   "cell_type": "code",
   "execution_count": 78,
   "metadata": {},
   "outputs": [
    {
     "ename": "LoadError",
     "evalue": "syntax: unexpected \"}\"",
     "output_type": "error",
     "traceback": [
      "syntax: unexpected \"}\"",
      ""
     ]
    }
   ],
   "source": [
    "function multi_test(x::Array{Complex{Float64},2},y::Array{Complex{Float64},2})}\n",
    "    -1im *(y*x-x*y) -0.5 * (y*x+x*y)\n",
    "end"
   ]
  },
  {
   "cell_type": "code",
   "execution_count": 24,
   "metadata": {},
   "outputs": [
    {
     "ename": "UndefVarError",
     "evalue": "UndefVarError: multi_test not defined",
     "output_type": "error",
     "traceback": [
      "UndefVarError: multi_test not defined",
      "",
      "Stacktrace:",
      " [1] macro expansion at .\\util.jl:175 [inlined]",
      " [2] top-level scope at .\\In[24]:1"
     ]
    }
   ],
   "source": [
    "@time multi_test(x,y);"
   ]
  },
  {
   "cell_type": "code",
   "execution_count": 25,
   "metadata": {},
   "outputs": [
    {
     "ename": "UndefVarError",
     "evalue": "UndefVarError: multi_test not defined",
     "output_type": "error",
     "traceback": [
      "UndefVarError: multi_test not defined",
      "",
      "Stacktrace:",
      " [1] ##core#291() at C:\\Users\\ogras\\.julia\\packages\\BenchmarkTools\\eCEpo\\src\\execution.jl:371",
      " [2] ##sample#292(::BenchmarkTools.Parameters) at C:\\Users\\ogras\\.julia\\packages\\BenchmarkTools\\eCEpo\\src\\execution.jl:377",
      " [3] _run(::BenchmarkTools.Benchmark{Symbol(\"##benchmark#290\")}, ::BenchmarkTools.Parameters; verbose::Bool, pad::String, kwargs::Base.Iterators.Pairs{Symbol,Integer,NTuple{4,Symbol},NamedTuple{(:samples, :evals, :gctrial, :gcsample),Tuple{Int64,Int64,Bool,Bool}}}) at C:\\Users\\ogras\\.julia\\packages\\BenchmarkTools\\eCEpo\\src\\execution.jl:405",
      " [4] (::Base.var\"#inner#2\"{Base.Iterators.Pairs{Symbol,Integer,NTuple{5,Symbol},NamedTuple{(:verbose, :samples, :evals, :gctrial, :gcsample),Tuple{Bool,Int64,Int64,Bool,Bool}}},typeof(BenchmarkTools._run),Tuple{BenchmarkTools.Benchmark{Symbol(\"##benchmark#290\")},BenchmarkTools.Parameters}})() at .\\essentials.jl:715",
      " [5] #invokelatest#1 at .\\essentials.jl:716 [inlined]",
      " [6] #run_result#37 at C:\\Users\\ogras\\.julia\\packages\\BenchmarkTools\\eCEpo\\src\\execution.jl:32 [inlined]",
      " [7] run(::BenchmarkTools.Benchmark{Symbol(\"##benchmark#290\")}, ::BenchmarkTools.Parameters; progressid::Nothing, nleaves::Float64, ndone::Float64, kwargs::Base.Iterators.Pairs{Symbol,Integer,NTuple{5,Symbol},NamedTuple{(:verbose, :samples, :evals, :gctrial, :gcsample),Tuple{Bool,Int64,Int64,Bool,Bool}}}) at C:\\Users\\ogras\\.julia\\packages\\BenchmarkTools\\eCEpo\\src\\execution.jl:94",
      " [8] #warmup#45 at C:\\Users\\ogras\\.julia\\packages\\BenchmarkTools\\eCEpo\\src\\execution.jl:141 [inlined]",
      " [9] warmup(::BenchmarkTools.Benchmark{Symbol(\"##benchmark#290\")}) at C:\\Users\\ogras\\.julia\\packages\\BenchmarkTools\\eCEpo\\src\\execution.jl:141",
      " [10] top-level scope at C:\\Users\\ogras\\.julia\\packages\\BenchmarkTools\\eCEpo\\src\\execution.jl:287",
      " [11] top-level scope at In[25]:1"
     ]
    }
   ],
   "source": [
    "@benchmark multi_test(x,y)"
   ]
  },
  {
   "cell_type": "code",
   "execution_count": 26,
   "metadata": {},
   "outputs": [],
   "source": [
    "x = rand(ComplexF64,39,39)\n",
    "y = rand(ComplexF64,36,39,39);"
   ]
  },
  {
   "cell_type": "code",
   "execution_count": 27,
   "metadata": {},
   "outputs": [
    {
     "data": {
      "text/plain": [
       "sum_matrix (generic function with 1 method)"
      ]
     },
     "execution_count": 27,
     "metadata": {},
     "output_type": "execute_result"
    }
   ],
   "source": [
    "function sum_matrix(x,y)\n",
    "    s = zeros(39,39)\n",
    "    for i = 1:36\n",
    "        s = s + y[i,:,:]*x*y[i,:,:]\n",
    "    end\n",
    "end"
   ]
  },
  {
   "cell_type": "code",
   "execution_count": 28,
   "metadata": {},
   "outputs": [
    {
     "data": {
      "text/plain": [
       "BenchmarkTools.Trial: \n",
       "  memory estimate:  4.21 MiB\n",
       "  allocs estimate:  361\n",
       "  --------------\n",
       "  minimum time:     631.800 μs (0.00% GC)\n",
       "  median time:      2.078 ms (0.00% GC)\n",
       "  mean time:        2.489 ms (22.83% GC)\n",
       "  maximum time:     44.272 ms (94.70% GC)\n",
       "  --------------\n",
       "  samples:          2003\n",
       "  evals/sample:     1"
      ]
     },
     "execution_count": 28,
     "metadata": {},
     "output_type": "execute_result"
    }
   ],
   "source": [
    "@benchmark sum_matrix(x,y)"
   ]
  },
  {
   "cell_type": "code",
   "execution_count": 29,
   "metadata": {},
   "outputs": [],
   "source": [
    "x = rand(Float64,39,39)\n",
    "y = rand(Float64,36,39,39);"
   ]
  },
  {
   "cell_type": "code",
   "execution_count": 30,
   "metadata": {},
   "outputs": [
    {
     "data": {
      "text/plain": [
       "sum_matrix (generic function with 1 method)"
      ]
     },
     "execution_count": 30,
     "metadata": {},
     "output_type": "execute_result"
    }
   ],
   "source": [
    "function sum_matrix(x,y)\n",
    "    s = zeros(Float64,39,39)\n",
    "    for i = 1:36\n",
    "        s = s + y[i,:,:]*x*y[i,:,:]\n",
    "    end\n",
    "end"
   ]
  },
  {
   "cell_type": "code",
   "execution_count": 31,
   "metadata": {},
   "outputs": [
    {
     "data": {
      "text/plain": [
       "BenchmarkTools.Trial: \n",
       "  memory estimate:  2.13 MiB\n",
       "  allocs estimate:  181\n",
       "  --------------\n",
       "  minimum time:     407.900 μs (0.00% GC)\n",
       "  median time:      509.700 μs (0.00% GC)\n",
       "  mean time:        706.934 μs (12.75% GC)\n",
       "  maximum time:     25.934 ms (96.34% GC)\n",
       "  --------------\n",
       "  samples:          7053\n",
       "  evals/sample:     1"
      ]
     },
     "execution_count": 31,
     "metadata": {},
     "output_type": "execute_result"
    }
   ],
   "source": [
    "@benchmark sum_matrix(x,y)"
   ]
  },
  {
   "cell_type": "code",
   "execution_count": 32,
   "metadata": {},
   "outputs": [
    {
     "data": {
      "text/plain": [
       "sum_matrix (generic function with 2 methods)"
      ]
     },
     "execution_count": 32,
     "metadata": {},
     "output_type": "execute_result"
    }
   ],
   "source": [
    "function sum_matrix(x::Array{Float64,2},y::Array{Float64,3})\n",
    "    s = zeros(Float64,39,39)\n",
    "    for i = 1:36\n",
    "        s = s + y[i,:,:]*x*y[i,:,:]\n",
    "    end\n",
    "end"
   ]
  },
  {
   "cell_type": "code",
   "execution_count": 33,
   "metadata": {},
   "outputs": [
    {
     "data": {
      "text/plain": [
       "BenchmarkTools.Trial: \n",
       "  memory estimate:  2.13 MiB\n",
       "  allocs estimate:  181\n",
       "  --------------\n",
       "  minimum time:     428.401 μs (0.00% GC)\n",
       "  median time:      523.250 μs (0.00% GC)\n",
       "  mean time:        633.673 μs (10.80% GC)\n",
       "  maximum time:     25.173 ms (96.17% GC)\n",
       "  --------------\n",
       "  samples:          7866\n",
       "  evals/sample:     1"
      ]
     },
     "execution_count": 33,
     "metadata": {},
     "output_type": "execute_result"
    }
   ],
   "source": [
    "@benchmark sum_matrix(x,y)"
   ]
  },
  {
   "cell_type": "code",
   "execution_count": 34,
   "metadata": {},
   "outputs": [],
   "source": [
    "x = rand(ComplexF64,39,39)\n",
    "y = rand(ComplexF64,36,39,39);"
   ]
  },
  {
   "cell_type": "code",
   "execution_count": 35,
   "metadata": {},
   "outputs": [
    {
     "data": {
      "text/plain": [
       "sum_matrix (generic function with 3 methods)"
      ]
     },
     "execution_count": 35,
     "metadata": {},
     "output_type": "execute_result"
    }
   ],
   "source": [
    "function sum_matrix(x::Array{Complex{Float64},2},y::Array{Complex{Float64},3})\n",
    "    s = zeros(ComplexF64,39,39)\n",
    "    for i = 1:36\n",
    "        s = s + y[i,:,:]*x*y[i,:,:]\n",
    "    end\n",
    "end"
   ]
  },
  {
   "cell_type": "code",
   "execution_count": 36,
   "metadata": {},
   "outputs": [
    {
     "data": {
      "text/plain": [
       "BenchmarkTools.Trial: \n",
       "  memory estimate:  4.22 MiB\n",
       "  allocs estimate:  362\n",
       "  --------------\n",
       "  minimum time:     661.200 μs (0.00% GC)\n",
       "  median time:      1.021 ms (0.00% GC)\n",
       "  mean time:        1.572 ms (16.43% GC)\n",
       "  maximum time:     44.661 ms (96.03% GC)\n",
       "  --------------\n",
       "  samples:          3173\n",
       "  evals/sample:     1"
      ]
     },
     "execution_count": 36,
     "metadata": {},
     "output_type": "execute_result"
    }
   ],
   "source": [
    "@benchmark sum_matrix(x,y)"
   ]
  },
  {
   "cell_type": "code",
   "execution_count": 37,
   "metadata": {},
   "outputs": [
    {
     "data": {
      "text/plain": [
       "sum_matrix_inbounds (generic function with 1 method)"
      ]
     },
     "execution_count": 37,
     "metadata": {},
     "output_type": "execute_result"
    }
   ],
   "source": [
    "function sum_matrix_inbounds(x::Array{Complex{Float64},2},y::Array{Complex{Float64},3})\n",
    "    s = zeros(ComplexF64,39,39)\n",
    "    @inbounds for i = 1:36\n",
    "        s = s + (y[i,:,:]*x)*y[i,:,:]\n",
    "    end\n",
    "end"
   ]
  },
  {
   "cell_type": "code",
   "execution_count": 38,
   "metadata": {},
   "outputs": [
    {
     "data": {
      "text/plain": [
       "BenchmarkTools.Trial: \n",
       "  memory estimate:  4.22 MiB\n",
       "  allocs estimate:  362\n",
       "  --------------\n",
       "  minimum time:     659.000 μs (0.00% GC)\n",
       "  median time:      1.988 ms (0.00% GC)\n",
       "  mean time:        2.214 ms (19.55% GC)\n",
       "  maximum time:     40.473 ms (95.01% GC)\n",
       "  --------------\n",
       "  samples:          2253\n",
       "  evals/sample:     1"
      ]
     },
     "execution_count": 38,
     "metadata": {},
     "output_type": "execute_result"
    }
   ],
   "source": [
    "@benchmark sum_matrix_inbounds(x,y)"
   ]
  },
  {
   "cell_type": "code",
   "execution_count": 39,
   "metadata": {},
   "outputs": [
    {
     "data": {
      "text/plain": [
       "sum_matrix_inbounds_sim (generic function with 1 method)"
      ]
     },
     "execution_count": 39,
     "metadata": {},
     "output_type": "execute_result"
    }
   ],
   "source": [
    "function sum_matrix_inbounds_sim(x::Array{Complex{Float64},2},y::Array{Complex{Float64},3})\n",
    "    s = zeros(ComplexF64,39,39)\n",
    "    @inbounds @simd for i = 1:36\n",
    "        s = s + (y[i,:,:]*x)*y[i,:,:]\n",
    "    end\n",
    "end"
   ]
  },
  {
   "cell_type": "code",
   "execution_count": 40,
   "metadata": {},
   "outputs": [
    {
     "data": {
      "text/plain": [
       "BenchmarkTools.Trial: \n",
       "  memory estimate:  4.22 MiB\n",
       "  allocs estimate:  362\n",
       "  --------------\n",
       "  minimum time:     704.600 μs (0.00% GC)\n",
       "  median time:      2.084 ms (0.00% GC)\n",
       "  mean time:        2.508 ms (22.63% GC)\n",
       "  maximum time:     56.761 ms (96.71% GC)\n",
       "  --------------\n",
       "  samples:          1988\n",
       "  evals/sample:     1"
      ]
     },
     "execution_count": 40,
     "metadata": {},
     "output_type": "execute_result"
    }
   ],
   "source": [
    "@benchmark sum_matrix_inbounds_sim(x,y)"
   ]
  },
  {
   "cell_type": "code",
   "execution_count": 41,
   "metadata": {},
   "outputs": [
    {
     "data": {
      "text/plain": [
       "sum_matrix_threads (generic function with 1 method)"
      ]
     },
     "execution_count": 41,
     "metadata": {},
     "output_type": "execute_result"
    }
   ],
   "source": [
    "function sum_matrix_threads(x::Array{Complex{Float64},2},y::Array{Complex{Float64},3})\n",
    "    s = zeros(ComplexF64,39,39)\n",
    "    Threads.@threads for i = 1:36\n",
    "        s = s + (y[i,:,:]*x)*y[i,:,:]\n",
    "    end\n",
    "    s\n",
    "end"
   ]
  },
  {
   "cell_type": "code",
   "execution_count": 42,
   "metadata": {},
   "outputs": [],
   "source": [
    "sum_matrix_threads(x,y);"
   ]
  },
  {
   "cell_type": "code",
   "execution_count": 43,
   "metadata": {},
   "outputs": [
    {
     "data": {
      "text/plain": [
       "BenchmarkTools.Trial: \n",
       "  memory estimate:  4.23 MiB\n",
       "  allocs estimate:  396\n",
       "  --------------\n",
       "  minimum time:     594.200 μs (0.00% GC)\n",
       "  median time:      1.907 ms (0.00% GC)\n",
       "  mean time:        36.671 ms (94.86% GC)\n",
       "  maximum time:     12.039 s (99.98% GC)\n",
       "  --------------\n",
       "  samples:          346\n",
       "  evals/sample:     1"
      ]
     },
     "execution_count": 43,
     "metadata": {},
     "output_type": "execute_result"
    }
   ],
   "source": [
    "@benchmark sum_matrix_threads(x,y)"
   ]
  },
  {
   "cell_type": "code",
   "execution_count": 44,
   "metadata": {},
   "outputs": [
    {
     "data": {
      "text/plain": [
       "BenchmarkTools.Trial: \n",
       "  memory estimate:  4.23 MiB\n",
       "  allocs estimate:  396\n",
       "  --------------\n",
       "  minimum time:     569.400 μs (0.00% GC)\n",
       "  median time:      1.934 ms (0.00% GC)\n",
       "  mean time:        37.321 ms (94.95% GC)\n",
       "  maximum time:     12.404 s (99.98% GC)\n",
       "  --------------\n",
       "  samples:          350\n",
       "  evals/sample:     1"
      ]
     },
     "execution_count": 44,
     "metadata": {},
     "output_type": "execute_result"
    }
   ],
   "source": [
    "@benchmark sum_matrix_threads(x,y)"
   ]
  },
  {
   "cell_type": "code",
   "execution_count": 45,
   "metadata": {},
   "outputs": [
    {
     "name": "stdout",
     "output_type": "stream",
     "text": [
      "  0.001147 seconds (397 allocations: 4.228 MiB)\n"
     ]
    }
   ],
   "source": [
    "@time sum_matrix_threads(x,y);"
   ]
  },
  {
   "cell_type": "code",
   "execution_count": 46,
   "metadata": {},
   "outputs": [
    {
     "name": "stdout",
     "output_type": "stream",
     "text": [
      "  0.001083 seconds (398 allocations: 4.228 MiB)\n"
     ]
    }
   ],
   "source": [
    "@time sum_matrix_threads(x,y);"
   ]
  },
  {
   "cell_type": "code",
   "execution_count": 47,
   "metadata": {},
   "outputs": [
    {
     "name": "stdout",
     "output_type": "stream",
     "text": [
      "  0.002887 seconds (362 allocations: 4.223 MiB)\n"
     ]
    }
   ],
   "source": [
    "@time sum_matrix_inbounds_sim(x,y)"
   ]
  },
  {
   "cell_type": "code",
   "execution_count": 48,
   "metadata": {},
   "outputs": [
    {
     "data": {
      "text/plain": [
       "sum_matrix_inbounds (generic function with 1 method)"
      ]
     },
     "execution_count": 48,
     "metadata": {},
     "output_type": "execute_result"
    }
   ],
   "source": [
    "function sum_matrix_inbounds(x::Array{Complex{Float64},2},y::Array{Complex{Float64},3})\n",
    "    s = zeros(ComplexF64,39,39)\n",
    "    @inbounds for i = 1:36\n",
    "        s .= s .+ y[i,:,:]*x*y[i,:,:]\n",
    "    end\n",
    "end"
   ]
  },
  {
   "cell_type": "code",
   "execution_count": 49,
   "metadata": {},
   "outputs": [
    {
     "data": {
      "text/plain": [
       "BenchmarkTools.Trial: \n",
       "  memory estimate:  3.38 MiB\n",
       "  allocs estimate:  290\n",
       "  --------------\n",
       "  minimum time:     629.500 μs (0.00% GC)\n",
       "  median time:      1.719 ms (0.00% GC)\n",
       "  mean time:        1.957 ms (15.74% GC)\n",
       "  maximum time:     46.789 ms (95.90% GC)\n",
       "  --------------\n",
       "  samples:          2546\n",
       "  evals/sample:     1"
      ]
     },
     "execution_count": 49,
     "metadata": {},
     "output_type": "execute_result"
    }
   ],
   "source": [
    "@benchmark sum_matrix_inbounds(x,y)"
   ]
  },
  {
   "cell_type": "code",
   "execution_count": 50,
   "metadata": {},
   "outputs": [
    {
     "data": {
      "text/plain": [
       "sum_matrix_inbounds (generic function with 1 method)"
      ]
     },
     "execution_count": 50,
     "metadata": {},
     "output_type": "execute_result"
    }
   ],
   "source": [
    "function sum_matrix_inbounds(x::Array{Complex{Float64},2},y::Array{Complex{Float64},3})\n",
    "    s = zeros(ComplexF64,39,39)\n",
    "    @inbounds for i = 1:36\n",
    "        a = @view y[i,:,:]\n",
    "        b = @view y[i,:,:]\n",
    "        s .= s .+ a*x*b\n",
    "    end\n",
    "end"
   ]
  },
  {
   "cell_type": "code",
   "execution_count": 51,
   "metadata": {},
   "outputs": [
    {
     "data": {
      "text/plain": [
       "BenchmarkTools.Trial: \n",
       "  memory estimate:  1.73 MiB\n",
       "  allocs estimate:  650\n",
       "  --------------\n",
       "  minimum time:     4.221 ms (0.00% GC)\n",
       "  median time:      4.806 ms (0.00% GC)\n",
       "  mean time:        4.777 ms (2.57% GC)\n",
       "  maximum time:     32.743 ms (84.65% GC)\n",
       "  --------------\n",
       "  samples:          1046\n",
       "  evals/sample:     1"
      ]
     },
     "execution_count": 51,
     "metadata": {},
     "output_type": "execute_result"
    }
   ],
   "source": [
    "@benchmark sum_matrix_inbounds(x,y)"
   ]
  },
  {
   "cell_type": "code",
   "execution_count": 52,
   "metadata": {},
   "outputs": [
    {
     "data": {
      "text/plain": [
       "Lindblad_rhs (generic function with 1 method)"
      ]
     },
     "execution_count": 52,
     "metadata": {},
     "output_type": "execute_result"
    }
   ],
   "source": [
    "function Lindblad_rhs(u::Array{Complex{Float64},2},t::Float64)\n",
    "    s = zeros(ComplexF64,39,39)\n",
    "    @inbounds for i = 1:33\n",
    "        a = @view C_array_const[i,:,:]\n",
    "        b = @view C_conj_array_const[i,:,:]\n",
    "        s .= s .+ a*u*b\n",
    "    end\n",
    "    -1im .* (Hamiltonian(t).*u .- u*Hamiltonian(t)) .- 0.5 * (Cprecalc_const*u .+ u*Cprecalc_const) .+ s\n",
    "end"
   ]
  },
  {
   "cell_type": "code",
   "execution_count": 53,
   "metadata": {},
   "outputs": [],
   "source": [
    "const Cprecalc_const = rand(ComplexF64,39,39)\n",
    "const C_array_const = rand(ComplexF64,36,39,39)\n",
    "const C_conj_array_const = rand(ComplexF64,36,39,39);"
   ]
  },
  {
   "cell_type": "code",
   "execution_count": 54,
   "metadata": {},
   "outputs": [
    {
     "data": {
      "text/plain": [
       "Hamiltonian (generic function with 1 method)"
      ]
     },
     "execution_count": 54,
     "metadata": {},
     "output_type": "execute_result"
    }
   ],
   "source": [
    "function Hamiltonian(t::Float64)::Array{Complex{Float64},2}\n",
    "    rand(ComplexF64,39,39)*t\n",
    "end"
   ]
  },
  {
   "cell_type": "code",
   "execution_count": 55,
   "metadata": {},
   "outputs": [],
   "source": [
    "u = rand(ComplexF64,39,39);"
   ]
  },
  {
   "cell_type": "code",
   "execution_count": 56,
   "metadata": {},
   "outputs": [
    {
     "data": {
      "text/plain": [
       "BenchmarkTools.Trial: \n",
       "  memory estimate:  1.82 MiB\n",
       "  allocs estimate:  616\n",
       "  --------------\n",
       "  minimum time:     3.997 ms (0.00% GC)\n",
       "  median time:      4.893 ms (0.00% GC)\n",
       "  mean time:        6.365 ms (2.91% GC)\n",
       "  maximum time:     51.295 ms (83.89% GC)\n",
       "  --------------\n",
       "  samples:          785\n",
       "  evals/sample:     1"
      ]
     },
     "execution_count": 56,
     "metadata": {},
     "output_type": "execute_result"
    }
   ],
   "source": [
    "@benchmark Lindblad_rhs(u,1e-6)"
   ]
  },
  {
   "cell_type": "code",
   "execution_count": 57,
   "metadata": {},
   "outputs": [
    {
     "data": {
      "text/plain": [
       "sum_mult! (generic function with 1 method)"
      ]
     },
     "execution_count": 57,
     "metadata": {},
     "output_type": "execute_result"
    }
   ],
   "source": [
    "function sum_mult!(result::Array{Complex{Float64},2}, \n",
    "                  A::Array{Complex{Float64},3},\n",
    "                  B::Array{Complex{Float64},2}, \n",
    "                  C::Array{Complex{Float64},3})\n",
    "    @inbounds for i = 1:33\n",
    "        a = @view A[i,:,:]\n",
    "        c = @view C[i,:,:]\n",
    "        result .= result .+ a*B*c\n",
    "    end\n",
    "end"
   ]
  },
  {
   "cell_type": "code",
   "execution_count": 58,
   "metadata": {},
   "outputs": [],
   "source": [
    "s = zeros(ComplexF64,39,39);"
   ]
  },
  {
   "cell_type": "code",
   "execution_count": 59,
   "metadata": {},
   "outputs": [
    {
     "data": {
      "text/plain": [
       "BenchmarkTools.Trial: \n",
       "  memory estimate:  1.57 MiB\n",
       "  allocs estimate:  594\n",
       "  --------------\n",
       "  minimum time:     3.890 ms (0.00% GC)\n",
       "  median time:      4.484 ms (0.00% GC)\n",
       "  mean time:        4.506 ms (3.01% GC)\n",
       "  maximum time:     39.643 ms (88.73% GC)\n",
       "  --------------\n",
       "  samples:          1109\n",
       "  evals/sample:     1"
      ]
     },
     "execution_count": 59,
     "metadata": {},
     "output_type": "execute_result"
    }
   ],
   "source": [
    "@benchmark sum_mult!(s,C_array_const,u,C_conj_array_const)"
   ]
  },
  {
   "cell_type": "code",
   "execution_count": 60,
   "metadata": {},
   "outputs": [
    {
     "data": {
      "text/plain": [
       "sum_mult! (generic function with 1 method)"
      ]
     },
     "execution_count": 60,
     "metadata": {},
     "output_type": "execute_result"
    }
   ],
   "source": [
    "function sum_mult!(result::Array{Complex{Float64},2}, \n",
    "                  A::Array{Complex{Float64},3},\n",
    "                  B::Array{Complex{Float64},2}, \n",
    "                  C::Array{Complex{Float64},3})\n",
    "    @inbounds for i = 1:33\n",
    "        result .= result .+ A[i,:,:]*B*C[i,:,:]\n",
    "    end\n",
    "end"
   ]
  },
  {
   "cell_type": "code",
   "execution_count": 61,
   "metadata": {},
   "outputs": [],
   "source": [
    "s = zeros(ComplexF64,39,39);"
   ]
  },
  {
   "cell_type": "code",
   "execution_count": 62,
   "metadata": {},
   "outputs": [
    {
     "data": {
      "text/plain": [
       "BenchmarkTools.Trial: \n",
       "  memory estimate:  3.08 MiB\n",
       "  allocs estimate:  264\n",
       "  --------------\n",
       "  minimum time:     644.000 μs (0.00% GC)\n",
       "  median time:      1.585 ms (0.00% GC)\n",
       "  mean time:        1.777 ms (16.75% GC)\n",
       "  maximum time:     52.727 ms (95.74% GC)\n",
       "  --------------\n",
       "  samples:          2805\n",
       "  evals/sample:     1"
      ]
     },
     "execution_count": 62,
     "metadata": {},
     "output_type": "execute_result"
    }
   ],
   "source": [
    "@benchmark sum_mult!(s,C_array_const,u,C_conj_array_const)"
   ]
  },
  {
   "cell_type": "code",
   "execution_count": 63,
   "metadata": {},
   "outputs": [
    {
     "data": {
      "text/latex": [
       "36"
      ],
      "text/plain": [
       "36"
      ]
     },
     "execution_count": 63,
     "metadata": {},
     "output_type": "execute_result"
    }
   ],
   "source": [
    "size(C_array_const)[1]"
   ]
  },
  {
   "cell_type": "code",
   "execution_count": 64,
   "metadata": {},
   "outputs": [
    {
     "data": {
      "text/plain": [
       "sum_mult! (generic function with 2 methods)"
      ]
     },
     "execution_count": 64,
     "metadata": {},
     "output_type": "execute_result"
    }
   ],
   "source": [
    "function sum_mult!(result::Array{Complex{Float64},2}, \n",
    "                  A::Array{Complex{Float64},3},\n",
    "                  B::Array{Complex{Float64},2}, \n",
    "                  C::Array{Complex{Float64},3},\n",
    "                  idx_max::Int64,\n",
    "                  shape::Array{Int64,1}\n",
    "    )\n",
    "    intermediate1 = zeros(ComplexF64, shape[1], shape[2])\n",
    "    intermediate2 = zeros(ComplexF64, shape[1], shape[2])\n",
    "    @inbounds for i = 1:idx_max\n",
    "        mul!(intermediate1,B,C[i,:,:])\n",
    "        mul!(intermediate2, A[i,:,:], intermediate1)\n",
    "        result .+= intermediate2\n",
    "    end\n",
    "end"
   ]
  },
  {
   "cell_type": "code",
   "execution_count": 65,
   "metadata": {},
   "outputs": [],
   "source": [
    "s = zeros(ComplexF64,39,39);"
   ]
  },
  {
   "cell_type": "code",
   "execution_count": 66,
   "metadata": {},
   "outputs": [
    {
     "data": {
      "text/plain": [
       "BenchmarkTools.Trial: \n",
       "  memory estimate:  1.59 MiB\n",
       "  allocs estimate:  137\n",
       "  --------------\n",
       "  minimum time:     570.700 μs (0.00% GC)\n",
       "  median time:      1.189 ms (0.00% GC)\n",
       "  mean time:        1.312 ms (11.01% GC)\n",
       "  maximum time:     60.194 ms (97.29% GC)\n",
       "  --------------\n",
       "  samples:          3801\n",
       "  evals/sample:     1"
      ]
     },
     "execution_count": 66,
     "metadata": {},
     "output_type": "execute_result"
    }
   ],
   "source": [
    "@benchmark sum_mult!(s,C_array_const,u,C_conj_array_const, 33,[39,39])"
   ]
  },
  {
   "cell_type": "code",
   "execution_count": 67,
   "metadata": {},
   "outputs": [
    {
     "data": {
      "text/plain": [
       "Lindblad_rhs (generic function with 1 method)"
      ]
     },
     "execution_count": 67,
     "metadata": {},
     "output_type": "execute_result"
    }
   ],
   "source": [
    "function Lindblad_rhs(u::Array{Complex{Float64},2},t::Float64)\n",
    "    s = zeros(ComplexF64,39,39)\n",
    "    sum_mult!(s,C_array_const,u,C_conj_array_const,33,[39,39])\n",
    "    s .= s .- 1im .* Hamiltonian(t)*u\n",
    "    s .= s .+ 1im .* Hamiltonian(t)*u\n",
    "    s .= s .- 0.5 .* Cprecalc_const*u\n",
    "    s .= s .- 0.5 .* u*Cprecalc_const\n",
    "    return s\n",
    "end"
   ]
  },
  {
   "cell_type": "code",
   "execution_count": 68,
   "metadata": {},
   "outputs": [
    {
     "data": {
      "text/plain": [
       "BenchmarkTools.Trial: \n",
       "  memory estimate:  1.89 MiB\n",
       "  allocs estimate:  163\n",
       "  --------------\n",
       "  minimum time:     664.400 μs (0.00% GC)\n",
       "  median time:      1.370 ms (0.00% GC)\n",
       "  mean time:        1.564 ms (12.59% GC)\n",
       "  maximum time:     80.659 ms (97.91% GC)\n",
       "  --------------\n",
       "  samples:          3188\n",
       "  evals/sample:     1"
      ]
     },
     "execution_count": 68,
     "metadata": {},
     "output_type": "execute_result"
    }
   ],
   "source": [
    "@benchmark Lindblad_rhs(u,1e-6)"
   ]
  },
  {
   "cell_type": "code",
   "execution_count": 69,
   "metadata": {},
   "outputs": [
    {
     "data": {
      "text/plain": [
       "Lindblad_rhs! (generic function with 1 method)"
      ]
     },
     "execution_count": 69,
     "metadata": {},
     "output_type": "execute_result"
    }
   ],
   "source": [
    "function Lindblad_rhs!(du::Array{Complex{Float64}}, u::Array{Complex{Float64},2},t::Float64)\n",
    "    intermediate = zeros(ComplexF64,39,39)\n",
    "    fill!(du,0.0)\n",
    "    sum_mult!(du,C_array_const,u,C_conj_array_const,33,[39,39])\n",
    "    mul!(intermediate, Hamiltonian(t), u)\n",
    "    du .-= 1im .* intermediate\n",
    "    mul!(intermediate, u, Hamiltonian(t))\n",
    "    du .+= 1im .* intermediate\n",
    "    mul!(intermediate, Cprecalc_const, u)\n",
    "    du .-= 0.5 .* intermediate\n",
    "    mul!(intermediate, u, Cprecalc_const)\n",
    "    du .-= 0.5 .* intermediate\n",
    "end"
   ]
  },
  {
   "cell_type": "code",
   "execution_count": 70,
   "metadata": {},
   "outputs": [],
   "source": [
    "du = rand(ComplexF64,39,39);"
   ]
  },
  {
   "cell_type": "code",
   "execution_count": 71,
   "metadata": {},
   "outputs": [
    {
     "data": {
      "text/plain": [
       "BenchmarkTools.Trial: \n",
       "  memory estimate:  1.70 MiB\n",
       "  allocs estimate:  147\n",
       "  --------------\n",
       "  minimum time:     678.400 μs (0.00% GC)\n",
       "  median time:      1.327 ms (0.00% GC)\n",
       "  mean time:        1.510 ms (11.07% GC)\n",
       "  maximum time:     63.619 ms (96.65% GC)\n",
       "  --------------\n",
       "  samples:          3297\n",
       "  evals/sample:     1"
      ]
     },
     "execution_count": 71,
     "metadata": {},
     "output_type": "execute_result"
    }
   ],
   "source": [
    "@benchmark Lindblad_rhs!(du, u,1e-6)"
   ]
  },
  {
   "cell_type": "code",
   "execution_count": 72,
   "metadata": {},
   "outputs": [
    {
     "data": {
      "text/plain": [
       "BenchmarkTools.Trial: \n",
       "  memory estimate:  1.70 MiB\n",
       "  allocs estimate:  147\n",
       "  --------------\n",
       "  minimum time:     644.700 μs (0.00% GC)\n",
       "  median time:      1.327 ms (0.00% GC)\n",
       "  mean time:        1.506 ms (9.97% GC)\n",
       "  maximum time:     50.044 ms (95.96% GC)\n",
       "  --------------\n",
       "  samples:          3307\n",
       "  evals/sample:     1"
      ]
     },
     "execution_count": 72,
     "metadata": {},
     "output_type": "execute_result"
    }
   ],
   "source": [
    "@benchmark Lindblad_rhs!(du, u,1e-6)"
   ]
  },
  {
   "cell_type": "code",
   "execution_count": 73,
   "metadata": {},
   "outputs": [
    {
     "data": {
      "text/plain": [
       "square_wave (generic function with 1 method)"
      ]
     },
     "execution_count": 73,
     "metadata": {},
     "output_type": "execute_result"
    }
   ],
   "source": [
    "function square_wave(t::Float64, frequency::Float64, phase::Float64)\n",
    "    0.5.*(1+squarewave(2*pi.*frequency.*t .+ phase))\n",
    "end"
   ]
  },
  {
   "cell_type": "code",
   "execution_count": 74,
   "metadata": {},
   "outputs": [
    {
     "data": {
      "text/plain": [
       "BenchmarkTools.Trial: \n",
       "  memory estimate:  0 bytes\n",
       "  allocs estimate:  0\n",
       "  --------------\n",
       "  minimum time:     2.799 ns (0.00% GC)\n",
       "  median time:      2.801 ns (0.00% GC)\n",
       "  mean time:        2.853 ns (0.00% GC)\n",
       "  maximum time:     7.700 ns (0.00% GC)\n",
       "  --------------\n",
       "  samples:          10000\n",
       "  evals/sample:     1000"
      ]
     },
     "execution_count": 74,
     "metadata": {},
     "output_type": "execute_result"
    }
   ],
   "source": [
    "@benchmark square_wave(1e-6, 1/(2*2e-6), 0.0)"
   ]
  },
  {
   "cell_type": "code",
   "execution_count": 75,
   "metadata": {},
   "outputs": [
    {
     "data": {
      "text/plain": [
       "Hamiltonian (generic function with 1 method)"
      ]
     },
     "execution_count": 75,
     "metadata": {},
     "output_type": "execute_result"
    }
   ],
   "source": [
    "function Hamiltonian(t::Float64)::Array{Complex{Float64},2}\n",
    "    rand(ComplexF64,39,39).*square_wave(t, 1/(2*2e-6), 0.0)\n",
    "end"
   ]
  },
  {
   "cell_type": "code",
   "execution_count": 76,
   "metadata": {},
   "outputs": [
    {
     "data": {
      "text/plain": [
       "Lindblad_rhs! (generic function with 1 method)"
      ]
     },
     "execution_count": 76,
     "metadata": {},
     "output_type": "execute_result"
    }
   ],
   "source": [
    "function Lindblad_rhs!(du::Array{Complex{Float64}}, u::Array{Complex{Float64},2},t::Float64)\n",
    "    intermediate = zeros(ComplexF64,39,39)\n",
    "    fill!(du,0.0)\n",
    "    sum_mult!(du,C_array_const,u,C_conj_array_const,33,[39,39])\n",
    "    mul!(intermediate, Hamiltonian(t), u)\n",
    "    du .-= 1im .* intermediate\n",
    "    mul!(intermediate, u, Hamiltonian(t))\n",
    "    du .+= 1im .* intermediate\n",
    "    mul!(intermediate, Cprecalc_const, u)\n",
    "    du .-= 0.5 .* intermediate\n",
    "    mul!(intermediate, u, Cprecalc_const)\n",
    "    du .-= 0.5 .* intermediate\n",
    "end"
   ]
  },
  {
   "cell_type": "code",
   "execution_count": 77,
   "metadata": {},
   "outputs": [
    {
     "data": {
      "text/plain": [
       "BenchmarkTools.Trial: \n",
       "  memory estimate:  1.70 MiB\n",
       "  allocs estimate:  147\n",
       "  --------------\n",
       "  minimum time:     635.001 μs (0.00% GC)\n",
       "  median time:      1.317 ms (0.00% GC)\n",
       "  mean time:        1.487 ms (11.68% GC)\n",
       "  maximum time:     61.371 ms (97.20% GC)\n",
       "  --------------\n",
       "  samples:          3351\n",
       "  evals/sample:     1"
      ]
     },
     "execution_count": 77,
     "metadata": {},
     "output_type": "execute_result"
    }
   ],
   "source": [
    "@benchmark Lindblad_rhs!(du, u,1e-6)"
   ]
  },
  {
   "cell_type": "markdown",
   "metadata": {},
   "source": [
    "Still about a factor 1.5 to 2 slower than the numpy implementation."
   ]
  },
  {
   "cell_type": "code",
   "execution_count": null,
   "metadata": {},
   "outputs": [],
   "source": []
  }
 ],
 "metadata": {
  "kernelspec": {
   "display_name": "Julia 1.4.2",
   "language": "julia",
   "name": "julia-1.4"
  },
  "language_info": {
   "file_extension": ".jl",
   "mimetype": "application/julia",
   "name": "julia",
   "version": "1.4.2"
  }
 },
 "nbformat": 4,
 "nbformat_minor": 4
}
