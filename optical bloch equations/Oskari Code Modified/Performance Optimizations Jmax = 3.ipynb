{
 "cells": [
  {
   "cell_type": "code",
   "execution_count": 1,
   "metadata": {},
   "outputs": [],
   "source": [
    "%load_ext autoreload\n",
    "%autoreload 2"
   ]
  },
  {
   "cell_type": "code",
   "execution_count": 2,
   "metadata": {},
   "outputs": [],
   "source": [
    "import sys\n",
    "sys.path.append('./molecular-state-classes-and-functions/')"
   ]
  },
  {
   "cell_type": "code",
   "execution_count": 3,
   "metadata": {},
   "outputs": [],
   "source": [
    "import pickle\n",
    "import numpy as np\n",
    "import scipy.signal as signal\n",
    "import matplotlib.pyplot as plt\n",
    "from collapse_functions import collapse_matrices\n",
    "from density_functions import generate_density_matrix\n",
    "from state_functions import find_exact_states, calculate_BR\n",
    "from hamiltonian_functions import reduced_basis_hamiltonian\n",
    "from classes import UncoupledBasisState, CoupledBasisState, State\n",
    "from functions import make_hamiltonian, make_hamiltonian_B, ni_range, matrix_to_states, vector_to_state,\\\n",
    "                      find_state_idx_from_state, make_transform_matrix\n",
    "from laser_functions import optical_coupling_matrix, ED_ME_mixed_state, calculate_power_needed, laser_field"
   ]
  },
  {
   "cell_type": "markdown",
   "metadata": {},
   "source": [
    "## X State Hamiltonian"
   ]
  },
  {
   "cell_type": "code",
   "execution_count": 4,
   "metadata": {},
   "outputs": [],
   "source": [
    "H_X_uc = make_hamiltonian(\"./stored_data/TlF_X_state_hamiltonian_J0to4.pickle\")"
   ]
  },
  {
   "cell_type": "code",
   "execution_count": 5,
   "metadata": {},
   "outputs": [],
   "source": [
    "Jmin = 0\n",
    "Jmax = 4\n",
    "I_F = 1/2\n",
    "I_Tl = 1/2\n",
    "QN_X = [CoupledBasisState(F,mF,F1,J,I_F,I_Tl, electronic_state='X', P = (-1)**J, Omega = 0)\n",
    "      for J  in ni_range(Jmin, Jmax+1)\n",
    "      for F1 in ni_range(np.abs(J-I_F),J+I_F+1)\n",
    "      for F in ni_range(np.abs(F1-I_Tl),F1+I_Tl+1)\n",
    "      for mF in ni_range(-F, F+1)\n",
    "     ]"
   ]
  },
  {
   "cell_type": "code",
   "execution_count": 6,
   "metadata": {},
   "outputs": [],
   "source": [
    "### Transform Hamiltonian to coupled basis ###\n",
    "#Load transform matrix\n",
    "with open(\"./stored_data/UC_to_C_j0to4.pickle\",\"rb\") as f:\n",
    "    S_trans = pickle.load(f)"
   ]
  },
  {
   "cell_type": "code",
   "execution_count": 7,
   "metadata": {},
   "outputs": [],
   "source": [
    "#Transform matrix\n",
    "E = np.array((0,0,0))\n",
    "B = np.array((0,0,0.001))\n",
    "H_X =  S_trans.conj().T @ H_X_uc(E, B) @ S_trans"
   ]
  },
  {
   "cell_type": "code",
   "execution_count": 8,
   "metadata": {},
   "outputs": [],
   "source": [
    "D, V = np.linalg.eigh(H_X)\n",
    "\n",
    "# Diagonalize the Hamiltonian\n",
    "H_X_diag = V.conj().T @ H_X @ V\n",
    "\n",
    "# Remove very small entries from V\n",
    "# V[np.abs(V) < 1e-5] = 0\n",
    "\n",
    "# New set of quantum numbers:\n",
    "QN_X_diag = matrix_to_states(V, QN_X)\n",
    "\n",
    "state = vector_to_state(V[:,1],QN_X)"
   ]
  },
  {
   "cell_type": "code",
   "execution_count": 9,
   "metadata": {},
   "outputs": [],
   "source": [
    "# Define what states are to be included in the simulation\n",
    "Js_g = [0,1,2,3]\n",
    "ground_states_approx = [1*CoupledBasisState(F,mF,F1,J,I_F,I_Tl, electronic_state='X', P = (-1)**J, Omega = 0)\n",
    "                  for J  in Js_g\n",
    "                  for F1 in ni_range(np.abs(J-I_F),J+I_F+1)\n",
    "                  for F in ni_range(np.abs(F1-I_Tl),F1+I_Tl+1)\n",
    "                  for mF in ni_range(-F, F+1)\n",
    "                 ]\n",
    "\n",
    "ground_states = find_exact_states(ground_states_approx, H_X_diag, QN_X_diag)"
   ]
  },
  {
   "cell_type": "code",
   "execution_count": 10,
   "metadata": {},
   "outputs": [],
   "source": [
    "H_X_red = reduced_basis_hamiltonian(QN_X_diag, H_X_diag, ground_states)\n",
    "\n",
    "# Set small off diagonal terms to zero\n",
    "H_X_red[np.abs(H_X_red) < 0.1] = 0"
   ]
  },
  {
   "cell_type": "markdown",
   "metadata": {},
   "source": [
    "## B State Hamiltonian"
   ]
  },
  {
   "cell_type": "code",
   "execution_count": 11,
   "metadata": {},
   "outputs": [],
   "source": [
    "H_B = make_hamiltonian_B(\"./stored_data/B_hamiltonians_symbolic_coupled_P_1to3.pickle\")"
   ]
  },
  {
   "cell_type": "code",
   "execution_count": 12,
   "metadata": {},
   "outputs": [],
   "source": [
    "Jmin = 1\n",
    "Jmax = 3\n",
    "I_F = 1/2\n",
    "I_Tl = 1/2\n",
    "Ps = [-1, 1]\n",
    "QN_B = [CoupledBasisState(F,mF,F1,J,I_F,I_Tl,P = P, Omega = 1, electronic_state='B')\n",
    "      for J  in ni_range(Jmin, Jmax+1)\n",
    "      for F1 in ni_range(np.abs(J-I_F),J+I_F+1)\n",
    "      for F in ni_range(np.abs(F1-I_Tl),F1+I_Tl+1)\n",
    "      for mF in ni_range(-F, F+1)\n",
    "      for P in Ps\n",
    "     ]"
   ]
  },
  {
   "cell_type": "code",
   "execution_count": 13,
   "metadata": {},
   "outputs": [],
   "source": [
    "D,V = np.linalg.eigh(H_B)\n",
    "\n",
    "# Diagonalize the Hamiltonian\n",
    "H_B_diag = V.conj().T @ H_B @ V\n",
    "\n",
    "# New set of quantum numbers:\n",
    "QN_B_diag = matrix_to_states(V, QN_B)\n",
    "\n",
    "state = vector_to_state(V[:,1],QN_B)"
   ]
  },
  {
   "cell_type": "code",
   "execution_count": 14,
   "metadata": {},
   "outputs": [],
   "source": [
    "# Define what states are to be included in the simulation\n",
    "J = 1\n",
    "F1 = 3/2\n",
    "F = 1\n",
    "excited_states_approx = [1*CoupledBasisState(F,mF,F1,J,I_F,I_Tl, electronic_state='B', P = -1, Omega = 1)\n",
    "                  for mF in ni_range(-F, F+1)\n",
    "                 ]\n",
    "\n",
    "excited_states = find_exact_states(excited_states_approx, H_B_diag, QN_B_diag)"
   ]
  },
  {
   "cell_type": "code",
   "execution_count": 15,
   "metadata": {},
   "outputs": [],
   "source": [
    "H_B_red = reduced_basis_hamiltonian(QN_B_diag, H_B_diag, excited_states)"
   ]
  },
  {
   "cell_type": "markdown",
   "metadata": {},
   "source": [
    "## Optical Couplings\n",
    "Generating the matrix of optical couplings here. Assuming rotating frame so no $\\exp(i\\omega t)$ time-dependence"
   ]
  },
  {
   "cell_type": "code",
   "execution_count": 16,
   "metadata": {},
   "outputs": [],
   "source": [
    "# Define QN for the total Hamiltonian that includes both X and B\n",
    "QN = ground_states + excited_states\n",
    "\n",
    "# Define ground states for laser driven transition\n",
    "Js = [2]\n",
    "ground_states_laser_approx =  [1*CoupledBasisState(F,mF,F1,J,I_F,I_Tl, electronic_state='X', P = (-1)**J, Omega = 0)\n",
    "                                  for J  in Js\n",
    "                                  for F1 in ni_range(np.abs(J-I_F),J+I_F+1)\n",
    "                                  for F in ni_range(np.abs(F1-I_Tl),F1+I_Tl+1)\n",
    "                                  for mF in ni_range(-F, F+1)\n",
    "                                 ]\n",
    "\n",
    "ground_states_laser = find_exact_states(ground_states_laser_approx, H_X_diag, QN_X_diag)\n",
    "\n",
    "#Excited states for laser\n",
    "excited_states_laser = excited_states"
   ]
  },
  {
   "cell_type": "code",
   "execution_count": 17,
   "metadata": {},
   "outputs": [
    {
     "name": "stdout",
     "output_type": "stream",
     "text": [
      "True\n",
      "(16,)\n",
      "Wall time: 34.6 s\n"
     ]
    }
   ],
   "source": [
    "%%time\n",
    "# Coupling laser for z-polarized\n",
    "H_laser_z = optical_coupling_matrix(QN, ground_states_laser, excited_states_laser, pol_vec = np.array([0,0,1]), \n",
    "                                             reduced = False)\n",
    "H_laser_z[np.abs(H_laser_z) < 1e-3*np.max(np.abs(H_laser_z))] = 0\n",
    "\n",
    "# Check that coupling matrix is hermitian\n",
    "print(np.allclose(H_laser_z, H_laser_z.conj().T))\n",
    "\n",
    "# Check number of couplings added\n",
    "print(H_laser_z[np.abs(H_laser_z)>0].shape)"
   ]
  },
  {
   "cell_type": "code",
   "execution_count": 18,
   "metadata": {},
   "outputs": [
    {
     "name": "stdout",
     "output_type": "stream",
     "text": [
      "True\n",
      "(32,)\n",
      "Wall time: 34.1 s\n"
     ]
    }
   ],
   "source": [
    "%%time\n",
    "H_laser_x = optical_coupling_matrix(QN, ground_states_laser, excited_states_laser, pol_vec = np.array([1,0,0]), \n",
    "                                             reduced = False)\n",
    "H_laser_x[np.abs(H_laser_x) < 1e-3*np.max(np.abs(H_laser_x))] = 0\n",
    "\n",
    "# Check that coupling matrix is hermitian\n",
    "print(np.allclose(H_laser_x, H_laser_x.conj().T))\n",
    "\n",
    "# Check number of couplings added\n",
    "print(H_laser_x[np.abs(H_laser_x)>0].shape)"
   ]
  },
  {
   "cell_type": "code",
   "execution_count": 19,
   "metadata": {},
   "outputs": [],
   "source": [
    "# Calculate the matrix element for the \"main\" transition so that coupling matrix can be scaled to have appropriate rabi rate\n",
    "\n",
    "# Define approximate form of main ground state\n",
    "ground_main_approx = 1*CoupledBasisState(J=2,F1=5/2,F=2,mF=0,I1=1/2,I2=1/2,electronic_state='X', P = 1, Omega = 0)\n",
    "ground_main_i = find_state_idx_from_state(H_X_diag,ground_main_approx, QN_X_diag)\n",
    "ground_main = QN_X_diag[ground_main_i]\n",
    "\n",
    "# Define approximate form of main excited state\n",
    "excited_main_approx = 1*CoupledBasisState(J = 1,F1=3/2,F=1,mF=0,I1=1/2,I2=1/2, electronic_state='B', P = -1, Omega = 1)\n",
    "excited_main_i = find_state_idx_from_state(H_B_diag,excited_main_approx, QN_B_diag)\n",
    "excited_main = QN_B_diag[excited_main_i]\n",
    "\n",
    "ME_main = ED_ME_mixed_state(excited_main, ground_main, pol_vec = np.array([0,0,1]))"
   ]
  },
  {
   "cell_type": "markdown",
   "metadata": {},
   "source": [
    "## Collapse Operators"
   ]
  },
  {
   "cell_type": "code",
   "execution_count": 20,
   "metadata": {},
   "outputs": [],
   "source": [
    "Gamma = 1/100e-9 # 2*pi [Hz]"
   ]
  },
  {
   "cell_type": "code",
   "execution_count": 21,
   "metadata": {},
   "outputs": [],
   "source": [
    "excited_test_approx = 1*CoupledBasisState(J = 1, F1=3/2, F=1, mF=0, I1=1/2, I2=1/2, electronic_state='B', P = -1, Omega = 1)\n",
    "excited_test_i = find_state_idx_from_state(H_B_diag,excited_test_approx, QN_B_diag)\n",
    "excited_test = QN_B_diag[excited_test_i]\n",
    "\n",
    "ground_test_approx = 1*CoupledBasisState(J=0,F1=1/2,F=1,mF=0,I1=1/2,I2=1/2,electronic_state='X', P = 1, Omega = 0)\n",
    "ground_test_i = find_state_idx_from_state(H_X_diag,ground_test_approx, QN_X_diag)\n",
    "ground_test = QN_X_diag[ground_test_i]\n",
    "\n",
    "BRs = calculate_BR(excited_test, ground_states)"
   ]
  },
  {
   "cell_type": "code",
   "execution_count": 22,
   "metadata": {},
   "outputs": [],
   "source": [
    "C_array = collapse_matrices(QN, ground_states, excited_states, gamma = Gamma)\n",
    "C_conj_array = np.einsum('ijk->ikj', C_array.conj())"
   ]
  },
  {
   "cell_type": "markdown",
   "metadata": {},
   "source": [
    "## Density Matrix"
   ]
  },
  {
   "cell_type": "code",
   "execution_count": 23,
   "metadata": {},
   "outputs": [],
   "source": [
    "# Define states that are populated initially\n",
    "Js = [0,1,2,3]\n",
    "states_pop_approx = [1*CoupledBasisState(F,mF,F1,J,I_F,I_Tl, electronic_state='X', P = (-1)**J, Omega = 0)\n",
    "              for J  in Js\n",
    "              for F1 in ni_range(np.abs(J-I_Tl),J+I_Tl+1)\n",
    "              for F in ni_range(np.abs(F1-I_F),F1+I_F+1)\n",
    "              for mF in ni_range(-F, F+1)\n",
    "             ]\n",
    "\n",
    "states_pop = []\n",
    "for state in states_pop_approx:\n",
    "    i = find_state_idx_from_state(H_X_diag,state, QN_X_diag)\n",
    "    states_pop.append(QN_X_diag[i])\n",
    "    \n",
    "pops = np.ones(len(states_pop))/len(states_pop)\n",
    "\n",
    "rho_ini = generate_density_matrix(QN,states_pop,pops)"
   ]
  },
  {
   "cell_type": "code",
   "execution_count": 24,
   "metadata": {},
   "outputs": [],
   "source": [
    "import scipy.constants as cst\n",
    "\n",
    "def boltzmann_distribution(rot_constant, temperature, J_list):\n",
    "    init = np.zeros(len(J_list))\n",
    "    Z = 0\n",
    "    g = 1\n",
    "    for J in J_list:\n",
    "        g = 4*(2*J+1)\n",
    "        Z += g*np.exp(-rot_constant*J*(J+1)*2*np.pi*cst.hbar/(temperature*cst.k))\n",
    "    for idx, J in enumerate(J_list):\n",
    "        g = 4*(2*J+1)\n",
    "        init[idx] = g*np.exp(-rot_constant*J*(J+1)*2*np.pi*cst.hbar/(temperature*cst.k))/Z\n",
    "    return init"
   ]
  },
  {
   "cell_type": "code",
   "execution_count": 25,
   "metadata": {},
   "outputs": [],
   "source": [
    "B_0 = 6.68667*1e9 # Hz\n",
    "T = 7\n",
    "boltz_dist = boltzmann_distribution(B_0,T, np.arange(0,150,1))"
   ]
  },
  {
   "cell_type": "code",
   "execution_count": 26,
   "metadata": {},
   "outputs": [
    {
     "data": {
      "text/plain": [
       "[<matplotlib.lines.Line2D at 0x25d81e9fcd0>]"
      ]
     },
     "execution_count": 26,
     "metadata": {},
     "output_type": "execute_result"
    },
    {
     "data": {
      "image/png": "[encoded data removed]",
      "text/plain": [
       "<Figure size 432x288 with 1 Axes>"
      ]
     },
     "metadata": {
      "needs_background": "light"
     },
     "output_type": "display_data"
    }
   ],
   "source": [
    "plt.plot(boltz_dist[:20], '.', ms = 15)"
   ]
  },
  {
   "cell_type": "code",
   "execution_count": 27,
   "metadata": {},
   "outputs": [],
   "source": [
    "def get_J_indices(J_list):\n",
    "    spans = []\n",
    "    for J in J_list:\n",
    "        spans.append(4*(2*J+1))\n",
    "    indices = [(0,spans[0])]\n",
    "    for idx,span in enumerate(spans[1:]):\n",
    "        s = np.sum(spans[:idx+1])\n",
    "        indices.append((s, s+span))\n",
    "    return indices"
   ]
  },
  {
   "cell_type": "code",
   "execution_count": 28,
   "metadata": {},
   "outputs": [
    {
     "name": "stdout",
     "output_type": "stream",
     "text": [
      "0 4 0.011286978903789161\n",
      "1 12 0.01029811954327005\n",
      "2 20 0.008572714492675116\n",
      "3 28 0.006511169587483691\n"
     ]
    }
   ],
   "source": [
    "for idx, (idx_min, idx_max) in enumerate(get_J_indices([0,1,2,3])):\n",
    "    sl = np.s_[idx_min:idx_max, idx_min:idx_max]\n",
    "    print(idx, idx_max-idx_min, boltz_dist[idx]/(idx_max-idx_min))\n",
    "    np.fill_diagonal(rho_ini[sl], boltz_dist[idx]/(idx_max-idx_min))\n",
    "rho_ini /= np.diag(rho_ini).sum()"
   ]
  },
  {
   "cell_type": "code",
   "execution_count": 29,
   "metadata": {},
   "outputs": [
    {
     "data": {
      "image/png": "[encoded data removed]",
      "text/plain": [
       "<Figure size 432x288 with 1 Axes>"
      ]
     },
     "metadata": {
      "needs_background": "light"
     },
     "output_type": "display_data"
    }
   ],
   "source": [
    "for idx, (idx_min, idx_max) in enumerate(get_J_indices([0,1,2,3])):\n",
    "    sl = np.s_[idx_min:idx_max, idx_min:idx_max]\n",
    "    plt.plot(idx, np.sum(np.diag(rho_ini[sl])).real, '.', ms = 15)"
   ]
  },
  {
   "cell_type": "markdown",
   "metadata": {},
   "source": [
    "## Setting Up ODE Function"
   ]
  },
  {
   "cell_type": "code",
   "execution_count": 30,
   "metadata": {},
   "outputs": [],
   "source": [
    "def square_wave(t, frequency, phase = 0):\n",
    "    return 0.5*(1+signal.square(2*np.pi*frequency*t+phase))"
   ]
  },
  {
   "cell_type": "code",
   "execution_count": 31,
   "metadata": {},
   "outputs": [],
   "source": [
    "# Generate optical coupling matrix with set rabi rate\n",
    "Omega = np.abs(4.5*Gamma*ME_main)\n",
    "\n",
    "# Define frequency for polarization switching\n",
    "omega_p = Gamma\n",
    "wp = omega_p/(2*np.pi)\n",
    "\n",
    "H_oc_t = lambda t: (Omega/ME_main/2)*(H_laser_z*square_wave(t, wp, 0) + H_laser_x*square_wave(t, wp, np.pi))\n",
    "\n",
    "H_oc = Omega*H_laser_z/ME_main"
   ]
  },
  {
   "cell_type": "code",
   "execution_count": 32,
   "metadata": {},
   "outputs": [],
   "source": [
    "H_X_shifted = H_X_red - H_X_red[ground_main_i,ground_main_i]*np.eye(H_X_red.shape[0])\n",
    "\n",
    "detuning = 0\n",
    "H_B_shifted = np.diag(np.diag(H_B_red - H_B_diag[excited_main_i,excited_main_i] + detuning))"
   ]
  },
  {
   "cell_type": "code",
   "execution_count": 33,
   "metadata": {},
   "outputs": [],
   "source": [
    "_H = np.zeros([67,67], dtype = 'complex')\n",
    "_H[:64, :64] = H_X_shifted\n",
    "_H[64:,64:] = H_B_shifted\n",
    "\n",
    "def Hamiltonian(t):\n",
    "    return _H + H_oc_t(t)"
   ]
  },
  {
   "cell_type": "code",
   "execution_count": 34,
   "metadata": {},
   "outputs": [],
   "source": [
    "# rhs of the Lindblad equation\n",
    "opt = 'greedy'\n",
    "def Lindblad_rhs(t, rho_vec):\n",
    "    dim = int(np.sqrt(len(rho_vec)))\n",
    "    rho = rho_vec.reshape((dim,dim))\n",
    "    rhs = (-1j* (Hamiltonian(t) @ rho - rho @ Hamiltonian(t)) + \n",
    "           np.einsum('ijk,kl,ilm',C_array, rho, C_conj_array,optimize = opt)\n",
    "           -0.5 * (np.einsum('ijk,ikl,lm', C_conj_array, C_array, rho, optimize = opt)\n",
    "                   + np.einsum('jk,ikl,ilm', rho, C_conj_array, C_array, optimize = opt))).flatten()\n",
    "    \n",
    "    \n",
    "    return rhs.flatten()"
   ]
  },
  {
   "cell_type": "code",
   "execution_count": 35,
   "metadata": {},
   "outputs": [
    {
     "name": "stdout",
     "output_type": "stream",
     "text": [
      "5.82 ms ± 246 µs per loop (mean ± std. dev. of 7 runs, 100 loops each)\n"
     ]
    }
   ],
   "source": [
    "%%timeit\n",
    "Lindblad_rhs(1e-6,rho_ini.flatten())"
   ]
  },
  {
   "cell_type": "code",
   "execution_count": 36,
   "metadata": {},
   "outputs": [
    {
     "data": {
      "text/plain": [
       "<matplotlib.image.AxesImage at 0x25d81f94910>"
      ]
     },
     "execution_count": 36,
     "metadata": {},
     "output_type": "execute_result"
    },
    {
     "data": {
      "image/png": "[encoded data removed]",
      "text/plain": [
       "<Figure size 432x288 with 1 Axes>"
      ]
     },
     "metadata": {
      "needs_background": "light"
     },
     "output_type": "display_data"
    }
   ],
   "source": [
    "plt.imshow(Lindblad_rhs(1e-6,rho_ini.flatten()).real.reshape(rho_ini.shape))"
   ]
  },
  {
   "cell_type": "code",
   "execution_count": 37,
   "metadata": {},
   "outputs": [
    {
     "data": {
      "text/plain": [
       "<matplotlib.image.AxesImage at 0x25d81ff9c70>"
      ]
     },
     "execution_count": 37,
     "metadata": {},
     "output_type": "execute_result"
    },
    {
     "data": {
      "image/png": "[encoded data removed]",
      "text/plain": [
       "<Figure size 432x288 with 1 Axes>"
      ]
     },
     "metadata": {
      "needs_background": "light"
     },
     "output_type": "display_data"
    }
   ],
   "source": [
    "plt.imshow(Lindblad_rhs(1e-6,rho_ini.flatten()).imag.reshape(rho_ini.shape))"
   ]
  },
  {
   "cell_type": "markdown",
   "metadata": {},
   "source": [
    "## Speed testing some optimizations for Lindblad_rhs\n",
    "The first line is\n",
    "```python\n",
    "(-1j* (Hamiltonian(t) @ rho - rho @ Hamiltonian(t))\n",
    "```\n",
    "and the only way to get significant speedups here is by optimizing Hamiltonian(t).  \n",
    "Subsequently \n",
    "```python\n",
    "np.einsum('ijk,kl,ilm',C_array, rho, C_conj_array,optimize = opt)\n",
    "```\n",
    "is calculated. The `opt` parameter is set to greedy, which significantly speeds up the computation:"
   ]
  },
  {
   "cell_type": "code",
   "execution_count": 38,
   "metadata": {},
   "outputs": [],
   "source": [
    "# generate a random\n",
    "_x = np.random.random(rho_ini.shape).astype('complex')\n",
    "opt = 'greedy'"
   ]
  },
  {
   "cell_type": "code",
   "execution_count": 39,
   "metadata": {},
   "outputs": [
    {
     "name": "stdout",
     "output_type": "stream",
     "text": [
      "3.76 ms ± 143 µs per loop (mean ± std. dev. of 7 runs, 100 loops each)\n"
     ]
    }
   ],
   "source": [
    "%%timeit\n",
    "np.einsum('ijk,kl,ilm',C_array, _x, C_conj_array,optimize = opt)"
   ]
  },
  {
   "cell_type": "code",
   "execution_count": 40,
   "metadata": {},
   "outputs": [
    {
     "name": "stdout",
     "output_type": "stream",
     "text": [
      "2.19 s ± 9.11 ms per loop (mean ± std. dev. of 7 runs, 1 loop each)\n"
     ]
    }
   ],
   "source": [
    "%%timeit\n",
    "np.einsum('ijk,kl,ilm',C_array, _x, C_conj_array)"
   ]
  },
  {
   "cell_type": "markdown",
   "metadata": {},
   "source": [
    "around a factor 560 faster computation.  \n",
    "It is also possible to precalculate the optimization path:"
   ]
  },
  {
   "cell_type": "code",
   "execution_count": 41,
   "metadata": {},
   "outputs": [],
   "source": [
    "# precalculating the optimum multiplication path\n",
    "path = np.einsum_path('ijk,kl,ilm',C_array, _x, C_conj_array, optimize='optimal')[0]"
   ]
  },
  {
   "cell_type": "code",
   "execution_count": 42,
   "metadata": {},
   "outputs": [
    {
     "name": "stdout",
     "output_type": "stream",
     "text": [
      "3.73 ms ± 398 µs per loop (mean ± std. dev. of 7 runs, 100 loops each)\n"
     ]
    }
   ],
   "source": [
    "%%timeit\n",
    "np.einsum('ijk,kl,ilm',C_array, _x, C_conj_array,optimize = path)"
   ]
  },
  {
   "cell_type": "markdown",
   "metadata": {},
   "source": [
    "But this doesn't result in much speedup over using the `greedy` optimization.  \n",
    "\n",
    "Precompiling the function with numba:"
   ]
  },
  {
   "cell_type": "code",
   "execution_count": 43,
   "metadata": {},
   "outputs": [],
   "source": [
    "# naive replacement using numba\n",
    "from numba import njit\n",
    "\n",
    "@njit\n",
    "def multi_faster(result, C, C_conj, rho):\n",
    "    r1 = C.shape[0]\n",
    "    r2 = C.shape[1]\n",
    "    \n",
    "    for j in range(r2):\n",
    "        for m in range(r2):\n",
    "            for i in range(r1):\n",
    "                for k in range(r2):\n",
    "                    for l in range(r2):\n",
    "                        result[j,m] += C[i,j,k]*rho[k,l]*C_conj[i,l,m]"
   ]
  },
  {
   "cell_type": "code",
   "execution_count": 44,
   "metadata": {},
   "outputs": [
    {
     "name": "stdout",
     "output_type": "stream",
     "text": [
      "1.35 s ± 18.1 ms per loop (mean ± std. dev. of 7 runs, 1 loop each)\n"
     ]
    }
   ],
   "source": [
    "%%timeit\n",
    "# naive replacement using numba\n",
    "result = np.zeros(_x.shape, dtype = 'complex')\n",
    "multi_faster(result, C_array, C_conj_array, _x)"
   ]
  },
  {
   "cell_type": "markdown",
   "metadata": {},
   "source": [
    "This is only slightly faster than using unoptimized `einsum`, and significantly slower than einsum with the `opt` parameter.\n",
    "\n",
    "Now using the numpy dot product while using a for loop over the first axis of the arrays:"
   ]
  },
  {
   "cell_type": "code",
   "execution_count": 45,
   "metadata": {},
   "outputs": [
    {
     "name": "stdout",
     "output_type": "stream",
     "text": [
      "1.57 ms ± 103 µs per loop (mean ± std. dev. of 7 runs, 1000 loops each)\n"
     ]
    }
   ],
   "source": [
    "%%timeit\n",
    "# replace einsum with a for loop and matrix product\n",
    "# fastest for Jmax > 2\n",
    "s = np.zeros(rho_ini.shape, dtype = 'complex')\n",
    "for idx in range(C_array.shape[0]):\n",
    "    s += C_array[idx]@_x@C_conj_array[idx]"
   ]
  },
  {
   "cell_type": "markdown",
   "metadata": {},
   "source": [
    "The overhead for the python for loop results in it being slightly slower than optimized einsum for $J\\leq 2$, but when $J>2$ the speedup from using the numpy dot product overcomes this overhead. The numpy dot product uses Intel MKL if possible, which automatically uses multiple cores to do matrix operations, which einsum does not do.\n",
    "\n",
    "Finally we can also multiply the matrices and then sum over the first axis:"
   ]
  },
  {
   "cell_type": "code",
   "execution_count": 46,
   "metadata": {},
   "outputs": [
    {
     "name": "stdout",
     "output_type": "stream",
     "text": [
      "3.06 ms ± 72.7 µs per loop (mean ± std. dev. of 7 runs, 100 loops each)\n"
     ]
    }
   ],
   "source": [
    "%%timeit\n",
    "# replace einsum with a matrix mult and sum\n",
    "(C_array@_x@C_conj_array).sum(axis = 0)"
   ]
  },
  {
   "cell_type": "markdown",
   "metadata": {},
   "source": [
    "Because of the way `C_conj_array` was made (with `einsum`) the array is not layed out C contiguous in memory which might slow down computation a bit. Making `C_conj_array` C contiguous:"
   ]
  },
  {
   "cell_type": "code",
   "execution_count": 47,
   "metadata": {},
   "outputs": [],
   "source": [
    "_t = np.ascontiguousarray(C_conj_array)"
   ]
  },
  {
   "cell_type": "code",
   "execution_count": 48,
   "metadata": {},
   "outputs": [
    {
     "name": "stdout",
     "output_type": "stream",
     "text": [
      "3.12 ms ± 198 µs per loop (mean ± std. dev. of 7 runs, 100 loops each)\n"
     ]
    }
   ],
   "source": [
    "%%timeit\n",
    "# replace einsum with a matrix mult and sum\n",
    "(C_array@_x@_t).sum(axis = 0)"
   ]
  },
  {
   "cell_type": "markdown",
   "metadata": {},
   "source": [
    "Using numpy for the dot product and `einsum` for the sum:"
   ]
  },
  {
   "cell_type": "code",
   "execution_count": 49,
   "metadata": {},
   "outputs": [
    {
     "name": "stdout",
     "output_type": "stream",
     "text": [
      "3.15 ms ± 110 µs per loop (mean ± std. dev. of 7 runs, 100 loops each)\n"
     ]
    }
   ],
   "source": [
    "%%timeit\n",
    "# replace einsum with a matrix mult and einsum\n",
    "# fastest for Jmax <= 2\n",
    "np.einsum('ijk->jk',C_array@_x@C_conj_array)"
   ]
  },
  {
   "cell_type": "code",
   "execution_count": 50,
   "metadata": {},
   "outputs": [
    {
     "name": "stdout",
     "output_type": "stream",
     "text": [
      "3.2 ms ± 143 µs per loop (mean ± std. dev. of 7 runs, 100 loops each)\n"
     ]
    }
   ],
   "source": [
    "%%timeit\n",
    "# replace einsum with a matrix mult and einsum\n",
    "# fastest for Jmax <= 2\n",
    "np.einsum('ijk->jk',C_array@_x@_t)"
   ]
  },
  {
   "cell_type": "markdown",
   "metadata": {},
   "source": [
    "The numpy sum has a small overhead due to checks to function performs on input variables, which results in a slight speedup using `einsum`. Here it is clear that for $J > 3$ the for loop wins.\n",
    "\n",
    "Now checking if the results are the same after optimization."
   ]
  },
  {
   "cell_type": "code",
   "execution_count": 51,
   "metadata": {},
   "outputs": [
    {
     "data": {
      "text/plain": [
       "True"
      ]
     },
     "execution_count": 51,
     "metadata": {},
     "output_type": "execute_result"
    }
   ],
   "source": [
    "# replace einsum witha numba @njit function\n",
    "result = np.zeros(_x.shape, dtype = 'complex')\n",
    "multi_faster(result, C_array, C_conj_array, _x)\n",
    "np.array_equal(result, np.einsum('ijk,kl,ilm',C_array, _x, C_conj_array))"
   ]
  },
  {
   "cell_type": "code",
   "execution_count": 52,
   "metadata": {},
   "outputs": [
    {
     "data": {
      "text/plain": [
       "True"
      ]
     },
     "execution_count": 52,
     "metadata": {},
     "output_type": "execute_result"
    }
   ],
   "source": [
    "# replace einsum with a for loop\n",
    "s = np.zeros(rho_ini.shape, dtype = 'complex')\n",
    "for idx in range(C_array.shape[0]):\n",
    "    s += C_array[idx]@_x@C_conj_array[idx]\n",
    "np.array_equal(np.einsum('ijk,kl,ilm',C_array, _x, C_conj_array), s)"
   ]
  },
  {
   "cell_type": "code",
   "execution_count": 53,
   "metadata": {},
   "outputs": [
    {
     "data": {
      "text/plain": [
       "True"
      ]
     },
     "execution_count": 53,
     "metadata": {},
     "output_type": "execute_result"
    }
   ],
   "source": [
    "# replace einsum with a matrix mult and sum\n",
    "np.array_equal(np.einsum('ijk,kl,ilm',C_array, _x, C_conj_array), (C_array@_x@C_conj_array).sum(axis = 0))"
   ]
  },
  {
   "cell_type": "code",
   "execution_count": 54,
   "metadata": {},
   "outputs": [
    {
     "data": {
      "text/plain": [
       "True"
      ]
     },
     "execution_count": 54,
     "metadata": {},
     "output_type": "execute_result"
    }
   ],
   "source": [
    "# replace einsum with a matrix mult and einsum\n",
    "np.array_equal(np.einsum('ijk->jk',C_array@_x@C_conj_array), np.einsum('ijk,kl,ilm',C_array, _x, C_conj_array))"
   ]
  },
  {
   "cell_type": "markdown",
   "metadata": {},
   "source": [
    "Now looking at \n",
    "```python\n",
    "np.einsum('ijk,ikl,lm', C_conj_array, C_array, rho, optimize = opt)\n",
    "```"
   ]
  },
  {
   "cell_type": "code",
   "execution_count": 55,
   "metadata": {},
   "outputs": [
    {
     "name": "stdout",
     "output_type": "stream",
     "text": [
      "560 µs ± 53.3 µs per loop (mean ± std. dev. of 7 runs, 1000 loops each)\n"
     ]
    }
   ],
   "source": [
    "%%timeit\n",
    "np.einsum('ijk,ikl,lm', C_conj_array, C_array, _x, optimize = opt)"
   ]
  },
  {
   "cell_type": "markdown",
   "metadata": {},
   "source": [
    "Because `C_conj_array` and `C_array` don't change we can precompute that multiplication:"
   ]
  },
  {
   "cell_type": "code",
   "execution_count": 56,
   "metadata": {},
   "outputs": [],
   "source": [
    "Cprecalc = np.einsum('ijk,ikl', C_conj_array, C_array)"
   ]
  },
  {
   "cell_type": "code",
   "execution_count": 57,
   "metadata": {},
   "outputs": [
    {
     "name": "stdout",
     "output_type": "stream",
     "text": [
      "16.4 µs ± 986 ns per loop (mean ± std. dev. of 7 runs, 100000 loops each)\n"
     ]
    }
   ],
   "source": [
    "%%timeit\n",
    "Cprecalc@_x"
   ]
  },
  {
   "cell_type": "markdown",
   "metadata": {},
   "source": [
    "resulting in a factor 30 speedup.\n",
    "\n",
    "Checking the results after optimization:"
   ]
  },
  {
   "cell_type": "code",
   "execution_count": 58,
   "metadata": {},
   "outputs": [
    {
     "name": "stdout",
     "output_type": "stream",
     "text": [
      "False\n",
      "False\n"
     ]
    }
   ],
   "source": [
    "# not the same result\n",
    "print(np.array_equal(np.einsum('ijk,ikl,lm', C_conj_array, C_array, _x), Cprecalc@_x))\n",
    "print(np.array_equal(np.einsum('jk,ikl,ilm', _x, C_conj_array, C_array), _x@Cprecalc))"
   ]
  },
  {
   "cell_type": "code",
   "execution_count": 59,
   "metadata": {},
   "outputs": [
    {
     "name": "stdout",
     "output_type": "stream",
     "text": [
      "True\n",
      "True\n"
     ]
    }
   ],
   "source": [
    "# but within 1e-8, within rounding error\n",
    "print(np.all(np.isclose(np.einsum('ijk,ikl,lm', C_conj_array, C_array, _x), Cprecalc@_x, 1e-8)))\n",
    "print(np.all(np.isclose(np.einsum('jk,ikl,ilm', _x, C_conj_array, C_array), _x@Cprecalc, 1e-8)))"
   ]
  },
  {
   "cell_type": "markdown",
   "metadata": {},
   "source": [
    "## Testing the optimized function"
   ]
  },
  {
   "cell_type": "code",
   "execution_count": 60,
   "metadata": {},
   "outputs": [],
   "source": [
    "Cprecalc = np.einsum('ijk,ikl', C_conj_array, C_array)\n",
    "\n",
    "#Define the rhs of the Lindblad equation\n",
    "def Lindblad_rhs(t, rho_vec):\n",
    "    dim = int(np.sqrt(len(rho_vec)))\n",
    "    rho = rho_vec.reshape((dim,dim))\n",
    "    \n",
    "    _s = np.zeros(rho_ini.shape, dtype = 'complex')\n",
    "    for idx in range(C_array.shape[0]):\n",
    "        _s[:,:] += C_array[idx]@rho@C_conj_array[idx]\n",
    "        \n",
    "    rhs = (-1j* (Hamiltonian(t) @ rho - rho @ Hamiltonian(t)) + \n",
    "           _s\n",
    "           -0.5 * (Cprecalc@rho + rho@Cprecalc)).flatten()\n",
    "    return rhs"
   ]
  },
  {
   "cell_type": "code",
   "execution_count": 61,
   "metadata": {},
   "outputs": [
    {
     "name": "stdout",
     "output_type": "stream",
     "text": [
      "2.02 ms ± 85.9 µs per loop (mean ± std. dev. of 7 runs, 100 loops each)\n"
     ]
    }
   ],
   "source": [
    "%%timeit\n",
    "Lindblad_rhs(1e-6,rho_ini.flatten())"
   ]
  },
  {
   "cell_type": "markdown",
   "metadata": {},
   "source": [
    "with numpy sum instead of for loop:"
   ]
  },
  {
   "cell_type": "code",
   "execution_count": 62,
   "metadata": {},
   "outputs": [],
   "source": [
    "Cprecalc = np.einsum('ijk,ikl', C_conj_array, C_array)\n",
    "\n",
    "#Define the rhs of the Lindblad equation\n",
    "def Lindblad_rhs(t, rho_vec):\n",
    "    dim = int(np.sqrt(len(rho_vec)))\n",
    "    rho = rho_vec.reshape((dim,dim))\n",
    "        \n",
    "    rhs = (-1j* (Hamiltonian(t) @ rho - rho @ Hamiltonian(t)) + \n",
    "           (C_array@rho@C_conj_array).sum(axis = 0)\n",
    "           -0.5 * (Cprecalc@rho + rho@Cprecalc)).flatten()\n",
    "    return rhs"
   ]
  },
  {
   "cell_type": "code",
   "execution_count": 63,
   "metadata": {},
   "outputs": [
    {
     "name": "stdout",
     "output_type": "stream",
     "text": [
      "3.81 ms ± 166 µs per loop (mean ± std. dev. of 7 runs, 100 loops each)\n"
     ]
    }
   ],
   "source": [
    "%%timeit\n",
    "Lindblad_rhs(1e-6,rho_ini.flatten())"
   ]
  },
  {
   "cell_type": "code",
   "execution_count": null,
   "metadata": {},
   "outputs": [],
   "source": []
  }
 ],
 "metadata": {
  "kernelspec": {
   "display_name": "Python 3",
   "language": "python",
   "name": "python3"
  },
  "language_info": {
   "codemirror_mode": {
    "name": "ipython",
    "version": 3
   },
   "file_extension": ".py",
   "mimetype": "text/x-python",
   "name": "python",
   "nbconvert_exporter": "python",
   "pygments_lexer": "ipython3",
   "version": "3.8.5"
  }
 },
 "nbformat": 4,
 "nbformat_minor": 4
}
