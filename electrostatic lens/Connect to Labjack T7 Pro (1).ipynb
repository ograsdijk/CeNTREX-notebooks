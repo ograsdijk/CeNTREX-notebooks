{
 "cells": [
  {
   "cell_type": "code",
   "execution_count": 1,
   "metadata": {},
   "outputs": [],
   "source": [
    "from labjack import ljm"
   ]
  },
  {
   "cell_type": "code",
   "execution_count": 5,
   "metadata": {},
   "outputs": [],
   "source": [
    "handle = ljm.openS(\"T7\", \"ETHERNET\", \"172.28.169.152\")"
   ]
  },
  {
   "cell_type": "code",
   "execution_count": 16,
   "metadata": {},
   "outputs": [],
   "source": [
    "name = \"SERIAL_NUMBER\"\n",
    "result = int(ljm.eReadName(handle, name))"
   ]
  },
  {
   "cell_type": "code",
   "execution_count": 17,
   "metadata": {},
   "outputs": [
    {
     "name": "stdout",
     "output_type": "stream",
     "text": [
      "\n",
      "eReadName result: \n",
      "    SERIAL_NUMBER = 470010806.000000\n"
     ]
    }
   ],
   "source": [
    "print(\"\\neReadName result: \")\n",
    "print(\"    %s = %f\" % (name, result))"
   ]
  },
  {
   "cell_type": "code",
   "execution_count": 19,
   "metadata": {},
   "outputs": [
    {
     "data": {
      "text/plain": [
       "190004858.0"
      ]
     },
     "execution_count": 19,
     "metadata": {},
     "output_type": "execute_result"
    }
   ],
   "source": [
    "ljm.eReadName(handle, \"TDAC_SERIAL_NUMBER\")"
   ]
  },
  {
   "cell_type": "code",
   "execution_count": 20,
   "metadata": {},
   "outputs": [
    {
     "data": {
      "text/plain": [
       "65516.0"
      ]
     },
     "execution_count": 20,
     "metadata": {},
     "output_type": "execute_result"
    }
   ],
   "source": [
    "ljm.eReadName(handle, \"TDAC_SPEED_THROTTLE\")"
   ]
  },
  {
   "cell_type": "code",
   "execution_count": 22,
   "metadata": {},
   "outputs": [
    {
     "data": {
      "text/plain": [
       "\u001b[1;31mSignature:\u001b[0m \u001b[0mljm\u001b[0m\u001b[1;33m.\u001b[0m\u001b[0meReadAddress\u001b[0m\u001b[1;33m(\u001b[0m\u001b[0mhandle\u001b[0m\u001b[1;33m,\u001b[0m \u001b[0maddress\u001b[0m\u001b[1;33m,\u001b[0m \u001b[0mdataType\u001b[0m\u001b[1;33m)\u001b[0m\u001b[1;33m\u001b[0m\u001b[1;33m\u001b[0m\u001b[0m\n",
       "\u001b[1;31mDocstring:\u001b[0m\n",
       "Performs Modbus operations that reads a value from a device.\n",
       "\n",
       "Args:\n",
       "    handle: A valid handle to an open device.\n",
       "    address: An address to read.\n",
       "    dataTypes: The data type corresponding to the address\n",
       "        (labjack.ljm.constants.FLOAT32, labjack.ljm.constants.INT32,\n",
       "        etc.).\n",
       "\n",
       "Returns:\n",
       "    The read value.\n",
       "\n",
       "Raises:\n",
       "    LJMError: An error was returned from the LJM library call.\n",
       "\u001b[1;31mFile:\u001b[0m      c:\\users\\centrex\\anaconda3\\lib\\site-packages\\labjack\\ljm\\ljm.py\n",
       "\u001b[1;31mType:\u001b[0m      function\n"
      ]
     },
     "metadata": {},
     "output_type": "display_data"
    }
   ],
   "source": [
    "ljm.eReadAddress?"
   ]
  },
  {
   "cell_type": "code",
   "execution_count": 2,
   "metadata": {},
   "outputs": [
    {
     "data": {
      "text/plain": [
       "\u001b[1;31mSignature:\u001b[0m \u001b[0mljm\u001b[0m\u001b[1;33m.\u001b[0m\u001b[0meStreamStart\u001b[0m\u001b[1;33m(\u001b[0m\u001b[0mhandle\u001b[0m\u001b[1;33m,\u001b[0m \u001b[0mscansPerRead\u001b[0m\u001b[1;33m,\u001b[0m \u001b[0mnumAddresses\u001b[0m\u001b[1;33m,\u001b[0m \u001b[0maScanList\u001b[0m\u001b[1;33m,\u001b[0m \u001b[0mscanRate\u001b[0m\u001b[1;33m)\u001b[0m\u001b[1;33m\u001b[0m\u001b[1;33m\u001b[0m\u001b[0m\n",
       "\u001b[1;31mDocstring:\u001b[0m\n",
       "Initializes a stream object and begins streaming. This includes\n",
       "   creating a buffer in LJM that collects data from the device.\n",
       "\n",
       "Args:\n",
       "    handle: A valid handle to an open device.\n",
       "    scansPerRead: Number of scans returned by each call to the\n",
       "        eStreamRead function. This is not tied to the maximum\n",
       "        packet size for the device.\n",
       "    numAddresses: The size of aScanList. The number of addresses to\n",
       "        scan.\n",
       "    aScanList: List of Modbus addresses to collect samples from,\n",
       "        per scan.\n",
       "    scanRate: Sets the desired number of scans per second.\n",
       "\n",
       "Returns:\n",
       "    The actual scan rate the device will scan at.\n",
       "\n",
       "Raises:\n",
       "    LJMError: An error was returned from the LJM library call.\n",
       "\n",
       "Notes:\n",
       "    Address configuration such as range, resolution, and\n",
       "    differential voltages must be handled elsewhere.\n",
       "    Check your device's documentation for valid aScanList channels.\n",
       "\u001b[1;31mFile:\u001b[0m      c:\\users\\centrex\\anaconda3\\lib\\site-packages\\labjack\\ljm\\ljm.py\n",
       "\u001b[1;31mType:\u001b[0m      function\n"
      ]
     },
     "metadata": {},
     "output_type": "display_data"
    }
   ],
   "source": [
    "ljm.eStreamStart?"
   ]
  },
  {
   "cell_type": "code",
   "execution_count": 9,
   "metadata": {},
   "outputs": [
    {
     "name": "stdout",
     "output_type": "stream",
     "text": [
      "Opened a LabJack with Device type: 7, Connection type: 3,\n",
      "Serial number: 470010806, IP address: 172.28.169.152, Port: 502,\n",
      "Max bytes per MB: 1040\n"
     ]
    }
   ],
   "source": [
    "info = ljm.getHandleInfo(handle)\n",
    "print(\"Opened a LabJack with Device type: %i, Connection type: %i,\\n\"\n",
    "      \"Serial number: %i, IP address: %s, Port: %i,\\nMax bytes per MB: %i\" %\n",
    "      (info[0], info[1], info[2], ljm.numberToIP(info[3]), info[4], info[5]))"
   ]
  },
  {
   "cell_type": "code",
   "execution_count": 11,
   "metadata": {},
   "outputs": [
    {
     "data": {
      "text/plain": [
       "7"
      ]
     },
     "execution_count": 11,
     "metadata": {},
     "output_type": "execute_result"
    }
   ],
   "source": [
    "info[0]"
   ]
  },
  {
   "cell_type": "code",
   "execution_count": null,
   "metadata": {},
   "outputs": [],
   "source": []
  }
 ],
 "metadata": {
  "kernelspec": {
   "display_name": "Python 3",
   "language": "python",
   "name": "python3"
  },
  "language_info": {
   "codemirror_mode": {
    "name": "ipython",
    "version": 3
   },
   "file_extension": ".py",
   "mimetype": "text/x-python",
   "name": "python",
   "nbconvert_exporter": "python",
   "pygments_lexer": "ipython3",
   "version": "3.7.1"
  }
 },
 "nbformat": 4,
 "nbformat_minor": 2
}
