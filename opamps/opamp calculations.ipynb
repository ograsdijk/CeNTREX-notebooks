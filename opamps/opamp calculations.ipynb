{
 "cells": [
  {
   "cell_type": "code",
   "execution_count": 2,
   "metadata": {},
   "outputs": [],
   "source": [
    "class calculateOpamp(object):\n",
    "    def __init__(self, Vinzs, Vinfs, Voutzs, Voutfs):\n",
    "        self.Vizs = Vinzs\n",
    "        self.Vozs = Voutzs\n",
    "        self.Vifs = Vinfs\n",
    "        self.Vofs = Voutfs\n",
    "        self.m = None\n",
    "        self.b = None\n",
    " \n",
    "    def calculateM(self):\n",
    "        self.m = (self.Vofs - self.Vozs)/(self.Vifs - self.Vizs)\n",
    "        return self.m\n",
    " \n",
    "    def calculateB(self):\n",
    "        if not self.m:\n",
    "            self.calculateM()\n",
    "        self.b = self.Vozs - self.m * self.Vizs\n",
    "        return self.b"
   ]
  },
  {
   "cell_type": "code",
   "execution_count": 7,
   "metadata": {},
   "outputs": [
    {
     "name": "stdout",
     "output_type": "stream",
     "text": [
      " 5V Vout fs : m = 2.5; b = 2.5\n",
      "10V Vout fs : m = 5.0; b = 5.0\n"
     ]
    }
   ],
   "source": [
    "opa5V = calculateOpamp(-1,1,0,5)\n",
    "opa10V = calculateOpamp(-1,1,0,10)\n",
    "opamps = [opa5V, opa10V]\n",
    "for opamp in opamps:\n",
    "    opamp.calculateB()\n",
    "    print(f'{opamp.Vofs:2}V Vout fs : m = {opamp.m}; b = {opamp.b}')"
   ]
  },
  {
   "cell_type": "markdown",
   "metadata": {},
   "source": [
    "## Positive m and Positive b\n",
    "<img src=\"posmposb.PNG\" alt=\"positive m and positive b\"  align=\"left\" style=\"width: 500px;\"/>"
   ]
  },
  {
   "cell_type": "code",
   "execution_count": 8,
   "metadata": {},
   "outputs": [],
   "source": [
    "class posMposB(object):\n",
    "    def __init__(self, opamp, Vref, R1, Rf):\n",
    "        self.opamp = opamp\n",
    "        self.Vref = Vref\n",
    "        self.R1 = R1\n",
    "        self.Rf = Rf\n",
    "    \n",
    "    def R2(self):\n",
    "        return self.Vref*self.R1*self.opamp.m/self.opamp.b\n",
    "    \n",
    "    def Rg(self):\n",
    "        return self.R2()*self.Rf/(self.opamp.m*(self.R1+self.R2())-self.R2())"
   ]
  },
  {
   "cell_type": "code",
   "execution_count": 26,
   "metadata": {},
   "outputs": [
    {
     "name": "stdout",
     "output_type": "stream",
     "text": [
      " 5V Vout fs;  1V Vref : R2 =  1000 Ohm; Rg = 250 Ohm\n",
      " 5V Vout fs;  2V Vref : R2 =  2000 Ohm; Rg = 363 Ohm\n",
      " 5V Vout fs;  3V Vref : R2 =  3000 Ohm; Rg = 428 Ohm\n",
      " 5V Vout fs;  4V Vref : R2 =  4000 Ohm; Rg = 470 Ohm\n",
      " 5V Vout fs;  5V Vref : R2 =  5000 Ohm; Rg = 500 Ohm\n",
      " 5V Vout fs;  6V Vref : R2 =  6000 Ohm; Rg = 521 Ohm\n",
      " 5V Vout fs;  7V Vref : R2 =  7000 Ohm; Rg = 538 Ohm\n",
      " 5V Vout fs;  8V Vref : R2 =  8000 Ohm; Rg = 551 Ohm\n",
      " 5V Vout fs;  9V Vref : R2 =  9000 Ohm; Rg = 562 Ohm\n",
      " 5V Vout fs; 10V Vref : R2 = 10000 Ohm; Rg = 571 Ohm\n",
      "10V Vout fs;  1V Vref : R2 =  1000 Ohm; Rg = 111 Ohm\n",
      "10V Vout fs;  2V Vref : R2 =  2000 Ohm; Rg = 153 Ohm\n",
      "10V Vout fs;  3V Vref : R2 =  3000 Ohm; Rg = 176 Ohm\n",
      "10V Vout fs;  4V Vref : R2 =  4000 Ohm; Rg = 190 Ohm\n",
      "10V Vout fs;  5V Vref : R2 =  5000 Ohm; Rg = 200 Ohm\n",
      "10V Vout fs;  6V Vref : R2 =  6000 Ohm; Rg = 206 Ohm\n",
      "10V Vout fs;  7V Vref : R2 =  7000 Ohm; Rg = 212 Ohm\n",
      "10V Vout fs;  8V Vref : R2 =  8000 Ohm; Rg = 216 Ohm\n",
      "10V Vout fs;  9V Vref : R2 =  9000 Ohm; Rg = 219 Ohm\n",
      "10V Vout fs; 10V Vref : R2 = 10000 Ohm; Rg = 222 Ohm\n"
     ]
    }
   ],
   "source": [
    "posmposb = [posMposB(opamp, Vref, 1e3, 1e3) for opamp in opamps for Vref in [1,2,3,4,5,6,7,8,9,10]]\n",
    "for pmpb in posmposb:\n",
    "    print(f'{pmpb.opamp.Vofs:2}V Vout fs; {pmpb.Vref:2}V Vref : R2 = {pmpb.R2():5n} Ohm; Rg = {int(pmpb.Rg()):3n} Ohm')"
   ]
  },
  {
   "cell_type": "code",
   "execution_count": null,
   "metadata": {},
   "outputs": [],
   "source": []
  }
 ],
 "metadata": {
  "kernelspec": {
   "display_name": "Python 3",
   "language": "python",
   "name": "python3"
  },
  "language_info": {
   "codemirror_mode": {
    "name": "ipython",
    "version": 3
   },
   "file_extension": ".py",
   "mimetype": "text/x-python",
   "name": "python",
   "nbconvert_exporter": "python",
   "pygments_lexer": "ipython3",
   "version": "3.7.3"
  }
 },
 "nbformat": 4,
 "nbformat_minor": 4
}
