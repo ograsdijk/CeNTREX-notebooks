{
 "cells": [
  {
   "cell_type": "markdown",
   "id": "961905ad-abb8-4599-beaa-cac0ef497cfc",
   "metadata": {},
   "source": [
    "# Single ended input to differential output with level shifting\n",
    "Formulas from https://www.analog.com/en/design-notes/single-ended-to-differential-amplifier-design-tips.html, Figure 2.\n",
    "\n",
    "Requires Vref that's the common mode voltage of the input.\n",
    "Amplifies signal with gain GN and shifts the output common mode voltage to Vocm"
   ]
  },
  {
   "cell_type": "code",
   "execution_count": 1,
   "id": "c589d19e-6994-4b3d-a84f-52b8684dbb44",
   "metadata": {},
   "outputs": [],
   "source": [
    "import numpy as np\n",
    "import sympy as smp\n",
    "import matplotlib.pyplot as plt"
   ]
  },
  {
   "cell_type": "code",
   "execution_count": 2,
   "id": "5b1a45fd-30ad-4de9-a8fb-663cfc5faca7",
   "metadata": {},
   "outputs": [],
   "source": [
    "GN = 5\n",
    "R1val = 1e3\n",
    "Rsval = 50"
   ]
  },
  {
   "cell_type": "code",
   "execution_count": 3,
   "id": "0b0990ba-2704-4ca7-acff-fb6457cff45f",
   "metadata": {},
   "outputs": [],
   "source": [
    "Rf, R1, R2, Rs, Rt = smp.symbols(\"RF R1 R2 Rs Rt\")\n",
    "Vopp, Vipp, Vincm, Vocm = smp.symbols(\"Vopp Vipp Vicm Vocm\")"
   ]
  },
  {
   "cell_type": "code",
   "execution_count": 4,
   "id": "99d7fa7b-1c37-4b94-a385-8b621836a8bc",
   "metadata": {},
   "outputs": [
    {
     "data": {
      "text/latex": [
       "$\\displaystyle \\frac{9 R_{1}}{2} + \\frac{5 Rs}{2} + \\frac{\\sqrt{101 R_{1}^{2} + 10 R_{1} \\cdot \\left(2 R_{1} - Rs\\right) + 25 Rs^{2}}}{2}$"
      ],
      "text/plain": [
       "9*R1/2 + 5*Rs/2 + sqrt(101*R1**2 + 10*R1*(2*R1 - Rs) + 25*Rs**2)/2"
      ]
     },
     "execution_count": 4,
     "metadata": {},
     "output_type": "execute_result"
    }
   ],
   "source": [
    "Rf = (smp.sqrt((GN**2 * (4*R1**2 + Rs**2) + 2*GN*R1*(2*R1-Rs)+R1**2)) + GN*(2*R1+Rs)-R1) / 2\n",
    "Rf"
   ]
  },
  {
   "cell_type": "code",
   "execution_count": 5,
   "id": "b32ee7a0-6fb6-49a9-b462-543222eecc85",
   "metadata": {},
   "outputs": [
    {
     "data": {
      "text/latex": [
       "$\\displaystyle \\frac{Rs \\left(\\frac{11 R_{1}}{2} + \\frac{5 Rs}{2} + \\frac{\\sqrt{101 R_{1}^{2} + 10 R_{1} \\cdot \\left(2 R_{1} - Rs\\right) + 25 Rs^{2}}}{2}\\right)}{\\frac{11 R_{1}}{2} - \\frac{7 Rs}{2} + \\frac{\\sqrt{101 R_{1}^{2} + 10 R_{1} \\cdot \\left(2 R_{1} - Rs\\right) + 25 Rs^{2}}}{2}}$"
      ],
      "text/plain": [
       "Rs*(11*R1/2 + 5*Rs/2 + sqrt(101*R1**2 + 10*R1*(2*R1 - Rs) + 25*Rs**2)/2)/(11*R1/2 - 7*Rs/2 + sqrt(101*R1**2 + 10*R1*(2*R1 - Rs) + 25*Rs**2)/2)"
      ]
     },
     "execution_count": 5,
     "metadata": {},
     "output_type": "execute_result"
    }
   ],
   "source": [
    "Rt = Rs*(R1+Rf) / (R1 + Rf - Rs*(GN+1))\n",
    "Rt"
   ]
  },
  {
   "cell_type": "code",
   "execution_count": 6,
   "id": "57960149-5cb1-48a6-bcec-7ee87db03f35",
   "metadata": {},
   "outputs": [],
   "source": [
    "R2 = Rs*Rf / (Rs + Rt)"
   ]
  },
  {
   "cell_type": "code",
   "execution_count": 7,
   "id": "e4480993-77d2-4be8-a2fe-457428821586",
   "metadata": {},
   "outputs": [
    {
     "name": "stdout",
     "output_type": "stream",
     "text": [
      "Rf = 10115.0 Ω\n"
     ]
    }
   ],
   "source": [
    "print(f\"Rf = {float(Rf.subs(R1, R1val).subs(Rs, Rsval)):.1f} Ω\")"
   ]
  },
  {
   "cell_type": "code",
   "execution_count": 8,
   "id": "efdb486b-8805-4fc1-a9fd-fd22b73bf3f7",
   "metadata": {},
   "outputs": [
    {
     "name": "stdout",
     "output_type": "stream",
     "text": [
      "Rt = 51.4 Ω\n"
     ]
    }
   ],
   "source": [
    "print(f\"Rt = {float(Rt.subs(R1, R1val).subs(Rs, Rsval)):.1f} Ω\")"
   ]
  },
  {
   "cell_type": "code",
   "execution_count": 9,
   "id": "b6c9a338-a827-4292-9c2a-78aaa486e6c7",
   "metadata": {},
   "outputs": [
    {
     "name": "stdout",
     "output_type": "stream",
     "text": [
      "R2 = 4988.3 Ω\n"
     ]
    }
   ],
   "source": [
    "print(f\"R2 = {float(R2.subs(R1, R1val).subs(Rs, Rsval)):.1f} Ω\")"
   ]
  },
  {
   "cell_type": "code",
   "execution_count": 10,
   "id": "b107e958-64c9-4a65-aa60-24b9d4635119",
   "metadata": {},
   "outputs": [],
   "source": [
    "_R1val = 1e3\n",
    "_Rs = np.logspace(np.log10(50),5,201)\n",
    "\n",
    "_Rf = [Rf.subs(R1,_R1val).subs(Rs,v) for v in _Rs]\n",
    "_Rt = [Rt.subs(R1,_R1val).subs(Rs,v) for v in _Rs]\n",
    "_R2 = [R2.subs(R1,_R1val).subs(Rs,v) for v in _Rs]"
   ]
  },
  {
   "cell_type": "code",
   "execution_count": 11,
   "id": "22ccdf54-48ff-48ed-a1b9-885013ac9abf",
   "metadata": {},
   "outputs": [
    {
     "data": {
      "image/png": "[encoded data removed]",
      "text/plain": [
       "<Figure size 576x360 with 1 Axes>"
      ]
     },
     "metadata": {
      "needs_background": "light"
     },
     "output_type": "display_data"
    }
   ],
   "source": [
    "fig, ax = plt.subplots(figsize = (8,5))\n",
    "ax.plot(_Rs, _Rf, lw = 3, label = 'Rf')\n",
    "ax.plot(_Rs, _Rt, lw = 3, label = 'Rt')\n",
    "ax.plot(_Rs, _R2, lw = 3, label = 'R2')\n",
    "ax.set_xlabel(\"Rs [Ω]\")\n",
    "ax.set_ylabel(\"[Ω]\")\n",
    "ax.legend(fontsize = 14);\n",
    "ax.grid(True)\n",
    "ax.set_xscale('log')\n",
    "ax.set_yscale('log')"
   ]
  },
  {
   "cell_type": "code",
   "execution_count": null,
   "id": "77ce15a4-b477-4d6f-aa05-48ee3fd94008",
   "metadata": {},
   "outputs": [],
   "source": []
  }
 ],
 "metadata": {
  "kernelspec": {
   "display_name": "Python 3 (ipykernel)",
   "language": "python",
   "name": "python3"
  },
  "language_info": {
   "codemirror_mode": {
    "name": "ipython",
    "version": 3
   },
   "file_extension": ".py",
   "mimetype": "text/x-python",
   "name": "python",
   "nbconvert_exporter": "python",
   "pygments_lexer": "ipython3",
   "version": "3.8.13"
  }
 },
 "nbformat": 4,
 "nbformat_minor": 5
}
