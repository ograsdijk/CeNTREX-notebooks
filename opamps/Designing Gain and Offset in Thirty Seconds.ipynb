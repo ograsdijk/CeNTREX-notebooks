{
 "cells": [
  {
   "cell_type": "markdown",
   "id": "cce0c59f-8cae-49f8-b30b-cef711163560",
   "metadata": {},
   "source": [
    "# Designing Gain and Offset in Thirty Seconds\n",
    "Based on https://www.ti.com/lit/an/sloa097/sloa097.pdf"
   ]
  },
  {
   "cell_type": "code",
   "execution_count": 1,
   "id": "4f55aca1-0886-4c10-8b85-996788b7b60b",
   "metadata": {},
   "outputs": [],
   "source": [
    "import numpy as np\n",
    "import sympy as smp\n",
    "import matplotlib.pyplot as plt\n",
    "from dataclasses import dataclass"
   ]
  },
  {
   "cell_type": "code",
   "execution_count": 2,
   "id": "149acc6b-fef3-4a4a-bab2-d1783419b515",
   "metadata": {},
   "outputs": [],
   "source": [
    "def calculate_m(Vin, Vout):\n",
    "    m = (Vout.full_scale - Vout.zero_scale) / (Vin.full_scale - Vin.zero_scale)\n",
    "    return m\n",
    "\n",
    "def calculate_b(Vin, Vout):\n",
    "    m = calculate_m(Vin, Vout)\n",
    "    b = Vout.zero_scale - m*Vin.zero_scale\n",
    "    return b\n",
    "\n",
    "@dataclass\n",
    "class VoltageSpan:\n",
    "    zero_scale: float\n",
    "    full_scale: float"
   ]
  },
  {
   "cell_type": "code",
   "execution_count": 23,
   "id": "16ab528b-aec1-45df-ac66-81de8ebe9ecf",
   "metadata": {},
   "outputs": [],
   "source": [
    "def calculate_pos_m_pos_b(Vin, Vout, Rf, R1, Vref):\n",
    "    m = calculate_m(Vin, Vout)\n",
    "    b = calculate_b(Vin, Vout)\n",
    "    assert m>=0\n",
    "    assert b>=0\n",
    "    R2 = Vref*R1*m/b\n",
    "    Rg = R2*Rf / (m*(R1+R2) - R2)\n",
    "    return {\"R2\": R2, \"Rg\": Rg}\n",
    "\n",
    "def calculate_pos_m_neg_b(Vin, Vout, Rf, Vref):\n",
    "    m = calculate_m(Vin, Vout)\n",
    "    b = calculate_b(Vin, Vout)\n",
    "    assert m >= 0\n",
    "    assert b <= 0\n",
    "    Rg = Rf / (m-1)\n",
    "    Rg2 = Rg / 10\n",
    "    Rg1 = Rg-Rg2\n",
    "    Vref_ = abs(b)*Rg1 / (Rg1+Rf)\n",
    "    R1 = Rg2*(Vref - Vref_) / Vref_\n",
    "    return {'Rg': Rg, 'Rg1': Rg1, 'Rg2': Rg2, \"R1\": R1, \"Vref'\": Vref_}"
   ]
  },
  {
   "cell_type": "code",
   "execution_count": 26,
   "id": "8aeafd88-ca2d-4885-8f2c-805995e74113",
   "metadata": {},
   "outputs": [
    {
     "name": "stdout",
     "output_type": "stream",
     "text": [
      "m = 1.0, b = 8.0\n"
     ]
    }
   ],
   "source": [
    "Vin = VoltageSpan(0,2)\n",
    "Vout = VoltageSpan(8,10)\n",
    "m = calculate_m(Vin, Vout)\n",
    "b = calculate_b(Vin, Vout)\n",
    "print(f\"m = {m:.1f}, b = {b:.1f}\")"
   ]
  },
  {
   "cell_type": "code",
   "execution_count": 27,
   "id": "5ab69c23-9496-4a8c-b273-442bfc05aef5",
   "metadata": {},
   "outputs": [
    {
     "data": {
      "text/plain": [
       "{'R2': 1250.0, 'Rg': 2500.0}"
      ]
     },
     "execution_count": 27,
     "metadata": {},
     "output_type": "execute_result"
    }
   ],
   "source": [
    "calculate_pos_m_pos_b(Vin, Vout, Rf = 2e3, Vref = 10, R1 = 1e3)"
   ]
  },
  {
   "cell_type": "code",
   "execution_count": null,
   "id": "25ff0674-2972-4971-9df5-cf85748c5be7",
   "metadata": {},
   "outputs": [],
   "source": []
  }
 ],
 "metadata": {
  "kernelspec": {
   "display_name": "Python 3 (ipykernel)",
   "language": "python",
   "name": "python3"
  },
  "language_info": {
   "codemirror_mode": {
    "name": "ipython",
    "version": 3
   },
   "file_extension": ".py",
   "mimetype": "text/x-python",
   "name": "python",
   "nbconvert_exporter": "python",
   "pygments_lexer": "ipython3",
   "version": "3.8.13"
  }
 },
 "nbformat": 4,
 "nbformat_minor": 5
}
