{
 "cells": [
  {
   "cell_type": "code",
   "execution_count": 7,
   "metadata": {},
   "outputs": [],
   "source": [
    "import time\n",
    "import pyvisa\n",
    "import logging\n",
    "import functools\n",
    "import numpy as np\n",
    "\n",
    "class ESP8266Accelerometer:\n",
    "    def __init__(self, time_offset, COM_port):\n",
    "        self.time_offset = time_offset\n",
    "        self.rm = pyvisa.ResourceManager()\n",
    "\n",
    "        try:\n",
    "            self.instr = self.rm.open_resource(COM_port)\n",
    "            self.instr.parity = pyvisa.constants.Parity.none\n",
    "            self.instr.data_bits = 8\n",
    "            self.instr.write_termination = '\\r\\n'\n",
    "            self.instr.read_termination = '\\r\\n'\n",
    "            self.instr.baud_rate = 9600\n",
    "            self.verification_string = \"True\"\n",
    "        except pyvisa.errors.VisaIOError:\n",
    "            self.verification_string = \"False\"\n",
    "            self.instr = False\n",
    "            return\n",
    "\n",
    "        # shape and type of the array of returned data\n",
    "        self.dtype = 'f4'\n",
    "        self.shape = (3, )\n",
    "\n",
    "        self.warnings = []\n",
    "\n",
    "    def __enter__(self):\n",
    "        return self\n",
    "\n",
    "    def __exit__(self, *exc):\n",
    "        if self.instr:\n",
    "            self.instr.close()\n",
    "\n",
    "    def ReadValue(self):\n",
    "        values = self.instr.query('m').split(',')\n",
    "        t = time.time() - self.time_offset\n",
    "        values = [int(val) for val in values]\n",
    "        return [t]+values"
   ]
  },
  {
   "cell_type": "code",
   "execution_count": 166,
   "metadata": {},
   "outputs": [],
   "source": [
    "import h5py\n",
    "\n",
    "def create_hdf_grp(fname, grp_name, attrs):\n",
    "    with h5py.File(fname, 'a') as f:\n",
    "        grp = f.create_group(grp_name)\n",
    "        for k,v in attrs.items():\n",
    "            grp.attrs[k] = v\n",
    "\n",
    "def create_hdf_dset(fname, grp_name, dset_name, dtype, attrs):\n",
    "    with h5py.File(fname, 'a') as f:\n",
    "        grp = f[grp_name]\n",
    "        dset = grp.create_dataset(dset_name, (0,), dtype = dtype, maxshape = (None,))\n",
    "        for k,v in attrs.items():\n",
    "            dset.attrs[k] = v \n",
    "\n",
    "def save_to_hdf(fname, grp_name, dset_name, data, dtype):\n",
    "    with h5py.File(fname, 'a') as f:\n",
    "        dset = f[grp_name][dset_name]\n",
    "        dset.resize(dset.shape[0]+d.shape[0], axis = 0)\n",
    "        dset[-data.shape[0]:] = data"
   ]
  },
  {
   "cell_type": "code",
   "execution_count": 167,
   "metadata": {},
   "outputs": [
    {
     "data": {
      "application/vnd.jupyter.widget-view+json": {
       "model_id": "4018f27e6bb640ab81eb3ce808acdbdb",
       "version_major": 2,
       "version_minor": 0
      },
      "text/plain": [
       "Canvas(toolbar=Toolbar(toolitems=[('Home', 'Reset original view', 'home', 'home'), ('Back', 'Back to previous …"
      ]
     },
     "metadata": {},
     "output_type": "display_data"
    }
   ],
   "source": [
    "%matplotlib ipympl\n",
    "# %matplotlib widget\n",
    "\n",
    "import numpy as np\n",
    "import matplotlib.pyplot as plt\n",
    "import time\n",
    "\n",
    "def plot_data(ax, x,y, colors=['C0']):\n",
    "    if ax.lines:\n",
    "        for line in ax.lines:\n",
    "            line.set_xdata(x)\n",
    "            line.set_ydata(y)\n",
    "    else:\n",
    "        for color in colors:\n",
    "            ax.plot(x, y, color)\n",
    "    fig.canvas.draw()\n",
    "\n",
    "fig, ax = plt.subplots()\n",
    "fig.canvas.layout.height = '600px'\n",
    "fig.canvas.layout.width = '1000px'\n",
    "\n",
    "ax.set_xlabel('time')\n",
    "ax.set_ylabel('accelerometer')\n",
    "ax.set_xlim(0,1)\n",
    "ax.set_ylim(0,1);\n",
    "plt.show()"
   ]
  },
  {
   "cell_type": "code",
   "execution_count": 168,
   "metadata": {},
   "outputs": [
    {
     "data": {
      "application/vnd.jupyter.widget-view+json": {
       "model_id": "0ce6cb629d634023b4ec659d5dd9d1cf",
       "version_major": 2,
       "version_minor": 0
      },
      "text/plain": [
       "HBox(children=(IntProgress(value=0, max=5), HTML(value='')))"
      ]
     },
     "metadata": {},
     "output_type": "display_data"
    },
    {
     "name": "stdout",
     "output_type": "stream",
     "text": [
      "\n"
     ]
    }
   ],
   "source": [
    "from tqdm import tqdm_notebook as tqdm\n",
    "\n",
    "nr_measurements = 5\n",
    "nr_sections = 33*5\n",
    "\n",
    "vib = ESP8266Accelerometer(time.time(), 'COM5')\n",
    "\n",
    "conv = 4*9.81/(2**14 -1)\n",
    "\n",
    "fname = 'vibration_measurement.hdf5'\n",
    "run_name = 'measurement 1'\n",
    "description = \"Measurement of vibration in SPL7 next to laser table adjacent to beam source \"+\\\n",
    "              \"with an MMA8451 sensor\"\n",
    "names = \"time, x acceleration, y acceleration, z acceleration\".split(\",\")\n",
    "units = \"s, m/s^2, m/s^2, m/s^2\".split(\",\")\n",
    "dtypes = ['float', 'float', 'float', 'float']\n",
    "\n",
    "attrs_measurement = { \"description\": description}\n",
    "attrs = { 'units': f\"{dict((name, unit) for name, unit in zip(names, units))}\"}\n",
    "\n",
    "data_type = np.dtype([(name.strip(\"\"), eval(ty)) for name, ty in zip(names, dtypes)])\n",
    "\n",
    "create_hdf_grp(fname, run_name, attrs_measurement)\n",
    "create_hdf_dset(fname, run_name, \"MMA8451\", data_type, attrs = attrs)\n",
    "\n",
    "for _ in tqdm(range(nr_measurements)):\n",
    "    d = np.empty([nr_sections,4])\n",
    "    for i in range(nr_sections):\n",
    "        d[i,:] = np.array(vib.ReadValue())\n",
    "    d[:,1:] *= conv\n",
    "    dhdf = np.array([tuple(di) for di in list(d)], dtype = data_type)\n",
    "    norm = np.linalg.norm(d[:,1:], axis = 1)\n",
    "    offset = norm.ptp()*0.01\n",
    "    ax.set_xlim([np.min(d[:,0]), np.max(d[:,0])])\n",
    "    ax.set_ylim([norm.min()-offset, norm.max()+offset]);\n",
    "    plot_data(ax, d[:,0], norm)\n",
    "    save_to_hdf(fname, run_name, 'MMA8451', dhdf, data_type)"
   ]
  },
  {
   "cell_type": "code",
   "execution_count": null,
   "metadata": {},
   "outputs": [],
   "source": []
  }
 ],
 "metadata": {
  "kernelspec": {
   "display_name": "Python 3",
   "language": "python",
   "name": "python3"
  },
  "language_info": {
   "codemirror_mode": {
    "name": "ipython",
    "version": 3
   },
   "file_extension": ".py",
   "mimetype": "text/x-python",
   "name": "python",
   "nbconvert_exporter": "python",
   "pygments_lexer": "ipython3",
   "version": "3.7.3"
  }
 },
 "nbformat": 4,
 "nbformat_minor": 4
}
