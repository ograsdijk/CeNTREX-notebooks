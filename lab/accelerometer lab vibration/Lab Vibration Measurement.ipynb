{
 "cells": [
  {
   "cell_type": "markdown",
   "metadata": {},
   "source": [
    "# Investigating Vibration of the floor in SPL7\n",
    "The floor next to the lasertable adjacent to the beamsource was vibrating at certain times during the day.  \n",
    "A MMA8481 accelerometer was attached to a NodeMCU and attached to the floor, the script below grabs roughly 6s worth of accelerometer data every 6 other seconds.\n",
    "I found out that it was probably correlated with the Vertiv (Liebert) fan spinning up to 100%, and wanted to check with the accelerometer."
   ]
  },
  {
   "cell_type": "code",
   "execution_count": 1,
   "metadata": {},
   "outputs": [],
   "source": [
    "from urllib.error import URLError, HTTPError\n",
    "import urllib.request\n",
    "from socket import timeout\n",
    "import time\n",
    "import functools\n",
    "import logging\n",
    "import numpy as np\n",
    "\n",
    "def CatchUrllibErrors(func):\n",
    "    @functools.wraps(func)\n",
    "    def wrapper(*args, **kwargs):\n",
    "        try:\n",
    "            return func(*args, **kwargs)\n",
    "        except (URLError, HTTPError, timeout) as err:\n",
    "            logging.warning('WirelessSensorStationLasertable warning in {0}() : '.format(func.__name__) \\\n",
    "                            +str(err))\n",
    "            return np.nan\n",
    "    return wrapper\n",
    "\n",
    "class ESP8266AccelerometerHTTP:\n",
    "    def __init__(self, time_offset, ip):\n",
    "        self.time_offset = time_offset\n",
    "        \n",
    "        self.ip = ip\n",
    "        \n",
    "        self.verification_string = self.VerifyOperation()\n",
    "        \n",
    "        # shape and type of the array of returned data\n",
    "        self.dtype = 'f4'\n",
    "        self.shape = (3, )\n",
    "        \n",
    "        self.start = False\n",
    "\n",
    "        self.warnings = []\n",
    "\n",
    "    def __enter__(self):\n",
    "        return self\n",
    "\n",
    "    def __exit__(self, *exc):\n",
    "        if self.instr:\n",
    "            self.StopMeasurement()\n",
    "            \n",
    "    @CatchUrllibErrors\n",
    "    def VerifyOperation(self):\n",
    "        self.StopMeasurement()\n",
    "        with urllib.request.urlopen(\"http://\"+self.ip+\"/STATUS\") as response:\n",
    "            status = response.read().decode()\n",
    "        return status.split(',')[0]\n",
    "    \n",
    "    @CatchUrllibErrors\n",
    "    def StopMeasurement(self):\n",
    "        with urllib.request.urlopen(\"http://\"+self.ip+\"/STOP\") as response:\n",
    "            stop = response.read().decode()\n",
    "            \n",
    "    @CatchUrllibErrors\n",
    "    def StartMeasurement(self):\n",
    "        with urllib.request.urlopen(\"http://\"+self.ip+\"/START\") as response:\n",
    "            start = response.read().decode()\n",
    "            \n",
    "    @CatchUrllibErrors\n",
    "    def MMA8451Data(self):\n",
    "        with urllib.request.urlopen(\"http://\"+self.ip+\"/MMA8451\") as response:\n",
    "            data = response.read().decode()\n",
    "        return np.array([[float(di) for di in d.split(\",\")] for d in data.split(';')[:-1]])\n",
    "        \n",
    "    def ReadValues(self):\n",
    "        if not self.start:\n",
    "            self.StartMeasurement()\n",
    "            self.start = True\n",
    "        data = self.MMA8451Data()\n",
    "        t = time.time()\n",
    "        data[:,0] = data[:,0]/1e6 - data[-1,0]/1e6 + (t - self.time_offset)\n",
    "        return data"
   ]
  },
  {
   "cell_type": "code",
   "execution_count": 2,
   "metadata": {},
   "outputs": [],
   "source": [
    "import h5py\n",
    "\n",
    "def create_hdf_grp(fname, grp_name, attrs):\n",
    "    with h5py.File(fname, 'a') as f:\n",
    "        grp = f.create_group(grp_name)\n",
    "        for k,v in attrs.items():\n",
    "            grp.attrs[k] = v\n",
    "\n",
    "def create_hdf_dset(fname, grp_name, dset_name, dtype, attrs):\n",
    "    with h5py.File(fname, 'a') as f:\n",
    "        grp = f[grp_name]\n",
    "        dset = grp.create_dataset(dset_name, (0,), dtype = dtype, maxshape = (None,))\n",
    "        for k,v in attrs.items():\n",
    "            dset.attrs[k] = v \n",
    "\n",
    "def save_to_hdf(fname, grp_name, dset_name, data, dtype):\n",
    "    with h5py.File(fname, 'a') as f:\n",
    "        dset = f[grp_name][dset_name]\n",
    "        dset.resize(dset.shape[0]+d.shape[0], axis = 0)\n",
    "        dset[-data.shape[0]:] = data"
   ]
  },
  {
   "cell_type": "code",
   "execution_count": 3,
   "metadata": {},
   "outputs": [
    {
     "data": {
      "application/vnd.jupyter.widget-view+json": {
       "model_id": "",
       "version_major": 2,
       "version_minor": 0
      },
      "text/plain": [
       "Canvas(toolbar=Toolbar(toolitems=[('Home', 'Reset original view', 'home', 'home'), ('Back', 'Back to previous …"
      ]
     },
     "metadata": {},
     "output_type": "display_data"
    }
   ],
   "source": [
    "%matplotlib ipympl\n",
    "# %matplotlib widget\n",
    "\n",
    "import numpy as np\n",
    "import matplotlib.pyplot as plt\n",
    "import time\n",
    "\n",
    "def plot_data(ax, x,y, colors=['C0']):\n",
    "    if ax.lines:\n",
    "        for line in ax.lines:\n",
    "            line.set_xdata(x)\n",
    "            line.set_ydata(y)\n",
    "    else:\n",
    "        for color in colors:\n",
    "            ax.plot(x, y, color)\n",
    "    fig.canvas.draw()\n",
    "\n",
    "fig, ax = plt.subplots()\n",
    "fig.canvas.layout.height = '600px'\n",
    "fig.canvas.layout.width = '1000px'\n",
    "\n",
    "ax.set_xlabel('time')\n",
    "ax.set_ylabel('accelerometer')\n",
    "ax.set_xlim(0,1)\n",
    "ax.set_ylim(0,1);\n",
    "plt.show()"
   ]
  },
  {
   "cell_type": "code",
   "execution_count": null,
   "metadata": {},
   "outputs": [],
   "source": [
    "from tqdm import tqdm_notebook as tqdm\n",
    "\n",
    "measurement_time_minutes = 60\n",
    "nr_measurements = measurement_time_minutes*60//10\n",
    "\n",
    "vib = ESP8266AccelerometerHTTP(time.time(), '172.29.133.49')\n",
    "\n",
    "conv = 4*9.81/(2**14 -1)\n",
    "\n",
    "fname = 'vibration_measurement.hdf5'\n",
    "run_name = 'measurement 1'\n",
    "description = \"Measurement of vibration in SPL7 next to laser table adjacent to beam source \"+\\\n",
    "              \"with an MMA8451 sensor\"\n",
    "names = \"time, x acceleration, y acceleration, z acceleration\".split(\",\")\n",
    "units = \"s, m/s^2, m/s^2, m/s^2\".split(\",\")\n",
    "dtypes = ['float', 'float', 'float', 'float']\n",
    "\n",
    "attrs_measurement = { \"description\": description}\n",
    "attrs = { 'units': f\"{dict((name, unit) for name, unit in zip(names, units))}\", 'start_time': vib.time_offset}\n",
    "\n",
    "data_type = np.dtype([(name.strip(\"\"), eval(ty)) for name, ty in zip(names, dtypes)])\n",
    "\n",
    "create_hdf_grp(fname, run_name, attrs_measurement)\n",
    "create_hdf_dset(fname, run_name, \"MMA8451\", data_type, attrs = attrs)\n",
    "\n",
    "for _ in tqdm(range(nr_measurements)):\n",
    "    d = vib.ReadValues()\n",
    "    d[:,1:] *= conv\n",
    "    dhdf = np.array([tuple(di) for di in list(d)], dtype = data_type)\n",
    "    norm = np.linalg.norm(d[:,1:], axis = 1)\n",
    "    offset = norm.ptp()*0.1\n",
    "    ax.set_xlim([np.min(d[:,0]), np.max(d[:,0])])\n",
    "    ax.set_ylim([norm.min()-offset, norm.max()+offset]);\n",
    "    plot_data(ax, d[:,0], norm)\n",
    "    save_to_hdf(fname, run_name, 'MMA8451', dhdf, data_type)\n",
    "vib.StopMeasurement()"
   ]
  },
  {
   "cell_type": "code",
   "execution_count": null,
   "metadata": {},
   "outputs": [],
   "source": [
    "from tqdm import tqdm_notebook as tqdm\n",
    "\n",
    "measurement_time_minutes = 60*12\n",
    "nr_measurements = measurement_time_minutes*60//13\n",
    "\n",
    "vib = ESP8266AccelerometerHTTP(time.time(), '172.29.133.49')\n",
    "\n",
    "conv = 4*9.81/(2**14 -1)\n",
    "\n",
    "fname = 'vibration_measurement.hdf5'\n",
    "run_name = 'measurement 2'\n",
    "description = \"Measurement of vibration in SPL7 next to laser table adjacent to beam source \"+\\\n",
    "              \"with an MMA8451 sensor\"\n",
    "names = \"time, x acceleration, y acceleration, z acceleration\".split(\",\")\n",
    "units = \"s, m/s^2, m/s^2, m/s^2\".split(\",\")\n",
    "dtypes = ['float', 'float', 'float', 'float']\n",
    "\n",
    "attrs_measurement = { \"description\": description}\n",
    "attrs = { 'units': f\"{dict((name, unit) for name, unit in zip(names, units))}\", 'start_time': vib.time_offset}\n",
    "\n",
    "data_type = np.dtype([(name.strip(\"\"), eval(ty)) for name, ty in zip(names, dtypes)])\n",
    "\n",
    "create_hdf_grp(fname, run_name, attrs_measurement)\n",
    "create_hdf_dset(fname, run_name, \"MMA8451\", data_type, attrs = attrs)\n",
    "\n",
    "for _ in tqdm(range(nr_measurements)):\n",
    "    d = vib.ReadValues()\n",
    "    d[:,1:] *= conv\n",
    "    dhdf = np.array([tuple(di) for di in list(d)], dtype = data_type)\n",
    "    norm = np.linalg.norm(d[:,1:], axis = 1)\n",
    "    offset = norm.ptp()*0.1\n",
    "    ax.set_xlim([np.min(d[:,0]), np.max(d[:,0])])\n",
    "    ax.set_ylim([norm.min()-offset, norm.max()+offset]);\n",
    "    plot_data(ax, d[:,0], norm)\n",
    "    save_to_hdf(fname, run_name, 'MMA8451', dhdf, data_type)\n",
    "vib.StopMeasurement()"
   ]
  },
  {
   "cell_type": "code",
   "execution_count": 5,
   "metadata": {},
   "outputs": [
    {
     "data": {
      "application/vnd.jupyter.widget-view+json": {
       "model_id": "e38ecde24513428eb2bc2233b0b8a586",
       "version_major": 2,
       "version_minor": 0
      },
      "text/plain": [
       "HBox(children=(IntProgress(value=0, max=3323), HTML(value='')))"
      ]
     },
     "metadata": {},
     "output_type": "display_data"
    },
    {
     "ename": "OSError",
     "evalue": "Unable to create file (unable to open file: name = 'vibration_measurement.hdf5', errno = 17, error message = 'File exists', flags = 15, o_flags = 502)",
     "output_type": "error",
     "traceback": [
      "\u001b[1;31m---------------------------------------------------------------------------\u001b[0m",
      "\u001b[1;31mOSError\u001b[0m                                   Traceback (most recent call last)",
      "\u001b[1;32mC:\\ProgramData\\Anaconda3\\lib\\site-packages\\h5py\\_hl\\files.py\u001b[0m in \u001b[0;36mmake_fid\u001b[1;34m(name, mode, userblock_size, fapl, fcpl, swmr)\u001b[0m\n\u001b[0;32m    153\u001b[0m         \u001b[1;32mtry\u001b[0m\u001b[1;33m:\u001b[0m\u001b[1;33m\u001b[0m\u001b[1;33m\u001b[0m\u001b[0m\n\u001b[1;32m--> 154\u001b[1;33m             \u001b[0mfid\u001b[0m \u001b[1;33m=\u001b[0m \u001b[0mh5f\u001b[0m\u001b[1;33m.\u001b[0m\u001b[0mopen\u001b[0m\u001b[1;33m(\u001b[0m\u001b[0mname\u001b[0m\u001b[1;33m,\u001b[0m \u001b[0mh5f\u001b[0m\u001b[1;33m.\u001b[0m\u001b[0mACC_RDWR\u001b[0m\u001b[1;33m,\u001b[0m \u001b[0mfapl\u001b[0m\u001b[1;33m=\u001b[0m\u001b[0mfapl\u001b[0m\u001b[1;33m)\u001b[0m\u001b[1;33m\u001b[0m\u001b[1;33m\u001b[0m\u001b[0m\n\u001b[0m\u001b[0;32m    155\u001b[0m         \u001b[1;32mexcept\u001b[0m \u001b[0mIOError\u001b[0m\u001b[1;33m:\u001b[0m\u001b[1;33m\u001b[0m\u001b[1;33m\u001b[0m\u001b[0m\n",
      "\u001b[1;32mh5py\\_objects.pyx\u001b[0m in \u001b[0;36mh5py._objects.with_phil.wrapper\u001b[1;34m()\u001b[0m\n",
      "\u001b[1;32mh5py\\_objects.pyx\u001b[0m in \u001b[0;36mh5py._objects.with_phil.wrapper\u001b[1;34m()\u001b[0m\n",
      "\u001b[1;32mh5py\\h5f.pyx\u001b[0m in \u001b[0;36mh5py.h5f.open\u001b[1;34m()\u001b[0m\n",
      "\u001b[1;31mOSError\u001b[0m: Unable to open file (file signature not found)",
      "\nDuring handling of the above exception, another exception occurred:\n",
      "\u001b[1;31mOSError\u001b[0m                                   Traceback (most recent call last)",
      "\u001b[1;32m<ipython-input-5-1633cdea56bb>\u001b[0m in \u001b[0;36m<module>\u001b[1;34m\u001b[0m\n\u001b[0;32m     33\u001b[0m     \u001b[0max\u001b[0m\u001b[1;33m.\u001b[0m\u001b[0mset_ylim\u001b[0m\u001b[1;33m(\u001b[0m\u001b[1;33m[\u001b[0m\u001b[0mnorm\u001b[0m\u001b[1;33m.\u001b[0m\u001b[0mmin\u001b[0m\u001b[1;33m(\u001b[0m\u001b[1;33m)\u001b[0m\u001b[1;33m-\u001b[0m\u001b[0moffset\u001b[0m\u001b[1;33m,\u001b[0m \u001b[0mnorm\u001b[0m\u001b[1;33m.\u001b[0m\u001b[0mmax\u001b[0m\u001b[1;33m(\u001b[0m\u001b[1;33m)\u001b[0m\u001b[1;33m+\u001b[0m\u001b[0moffset\u001b[0m\u001b[1;33m]\u001b[0m\u001b[1;33m)\u001b[0m\u001b[1;33m;\u001b[0m\u001b[1;33m\u001b[0m\u001b[1;33m\u001b[0m\u001b[0m\n\u001b[0;32m     34\u001b[0m     \u001b[0mplot_data\u001b[0m\u001b[1;33m(\u001b[0m\u001b[0max\u001b[0m\u001b[1;33m,\u001b[0m \u001b[0md\u001b[0m\u001b[1;33m[\u001b[0m\u001b[1;33m:\u001b[0m\u001b[1;33m,\u001b[0m\u001b[1;36m0\u001b[0m\u001b[1;33m]\u001b[0m\u001b[1;33m,\u001b[0m \u001b[0mnorm\u001b[0m\u001b[1;33m)\u001b[0m\u001b[1;33m\u001b[0m\u001b[1;33m\u001b[0m\u001b[0m\n\u001b[1;32m---> 35\u001b[1;33m     \u001b[0msave_to_hdf\u001b[0m\u001b[1;33m(\u001b[0m\u001b[0mfname\u001b[0m\u001b[1;33m,\u001b[0m \u001b[0mrun_name\u001b[0m\u001b[1;33m,\u001b[0m \u001b[1;34m'MMA8451'\u001b[0m\u001b[1;33m,\u001b[0m \u001b[0mdhdf\u001b[0m\u001b[1;33m,\u001b[0m \u001b[0mdata_type\u001b[0m\u001b[1;33m)\u001b[0m\u001b[1;33m\u001b[0m\u001b[1;33m\u001b[0m\u001b[0m\n\u001b[0m\u001b[0;32m     36\u001b[0m \u001b[0mvib\u001b[0m\u001b[1;33m.\u001b[0m\u001b[0mStopMeasurement\u001b[0m\u001b[1;33m(\u001b[0m\u001b[1;33m)\u001b[0m\u001b[1;33m\u001b[0m\u001b[1;33m\u001b[0m\u001b[0m\n",
      "\u001b[1;32m<ipython-input-2-a6ba8b7cba11>\u001b[0m in \u001b[0;36msave_to_hdf\u001b[1;34m(fname, grp_name, dset_name, data, dtype)\u001b[0m\n\u001b[0;32m     15\u001b[0m \u001b[1;33m\u001b[0m\u001b[0m\n\u001b[0;32m     16\u001b[0m \u001b[1;32mdef\u001b[0m \u001b[0msave_to_hdf\u001b[0m\u001b[1;33m(\u001b[0m\u001b[0mfname\u001b[0m\u001b[1;33m,\u001b[0m \u001b[0mgrp_name\u001b[0m\u001b[1;33m,\u001b[0m \u001b[0mdset_name\u001b[0m\u001b[1;33m,\u001b[0m \u001b[0mdata\u001b[0m\u001b[1;33m,\u001b[0m \u001b[0mdtype\u001b[0m\u001b[1;33m)\u001b[0m\u001b[1;33m:\u001b[0m\u001b[1;33m\u001b[0m\u001b[1;33m\u001b[0m\u001b[0m\n\u001b[1;32m---> 17\u001b[1;33m     \u001b[1;32mwith\u001b[0m \u001b[0mh5py\u001b[0m\u001b[1;33m.\u001b[0m\u001b[0mFile\u001b[0m\u001b[1;33m(\u001b[0m\u001b[0mfname\u001b[0m\u001b[1;33m,\u001b[0m \u001b[1;34m'a'\u001b[0m\u001b[1;33m)\u001b[0m \u001b[1;32mas\u001b[0m \u001b[0mf\u001b[0m\u001b[1;33m:\u001b[0m\u001b[1;33m\u001b[0m\u001b[1;33m\u001b[0m\u001b[0m\n\u001b[0m\u001b[0;32m     18\u001b[0m         \u001b[0mdset\u001b[0m \u001b[1;33m=\u001b[0m \u001b[0mf\u001b[0m\u001b[1;33m[\u001b[0m\u001b[0mgrp_name\u001b[0m\u001b[1;33m]\u001b[0m\u001b[1;33m[\u001b[0m\u001b[0mdset_name\u001b[0m\u001b[1;33m]\u001b[0m\u001b[1;33m\u001b[0m\u001b[1;33m\u001b[0m\u001b[0m\n\u001b[0;32m     19\u001b[0m         \u001b[0mdset\u001b[0m\u001b[1;33m.\u001b[0m\u001b[0mresize\u001b[0m\u001b[1;33m(\u001b[0m\u001b[0mdset\u001b[0m\u001b[1;33m.\u001b[0m\u001b[0mshape\u001b[0m\u001b[1;33m[\u001b[0m\u001b[1;36m0\u001b[0m\u001b[1;33m]\u001b[0m\u001b[1;33m+\u001b[0m\u001b[0md\u001b[0m\u001b[1;33m.\u001b[0m\u001b[0mshape\u001b[0m\u001b[1;33m[\u001b[0m\u001b[1;36m0\u001b[0m\u001b[1;33m]\u001b[0m\u001b[1;33m,\u001b[0m \u001b[0maxis\u001b[0m \u001b[1;33m=\u001b[0m \u001b[1;36m0\u001b[0m\u001b[1;33m)\u001b[0m\u001b[1;33m\u001b[0m\u001b[1;33m\u001b[0m\u001b[0m\n",
      "\u001b[1;32mC:\\ProgramData\\Anaconda3\\lib\\site-packages\\h5py\\_hl\\files.py\u001b[0m in \u001b[0;36m__init__\u001b[1;34m(self, name, mode, driver, libver, userblock_size, swmr, **kwds)\u001b[0m\n\u001b[0;32m    310\u001b[0m             \u001b[1;32mwith\u001b[0m \u001b[0mphil\u001b[0m\u001b[1;33m:\u001b[0m\u001b[1;33m\u001b[0m\u001b[1;33m\u001b[0m\u001b[0m\n\u001b[0;32m    311\u001b[0m                 \u001b[0mfapl\u001b[0m \u001b[1;33m=\u001b[0m \u001b[0mmake_fapl\u001b[0m\u001b[1;33m(\u001b[0m\u001b[0mdriver\u001b[0m\u001b[1;33m,\u001b[0m \u001b[0mlibver\u001b[0m\u001b[1;33m,\u001b[0m \u001b[1;33m**\u001b[0m\u001b[0mkwds\u001b[0m\u001b[1;33m)\u001b[0m\u001b[1;33m\u001b[0m\u001b[1;33m\u001b[0m\u001b[0m\n\u001b[1;32m--> 312\u001b[1;33m                 \u001b[0mfid\u001b[0m \u001b[1;33m=\u001b[0m \u001b[0mmake_fid\u001b[0m\u001b[1;33m(\u001b[0m\u001b[0mname\u001b[0m\u001b[1;33m,\u001b[0m \u001b[0mmode\u001b[0m\u001b[1;33m,\u001b[0m \u001b[0muserblock_size\u001b[0m\u001b[1;33m,\u001b[0m \u001b[0mfapl\u001b[0m\u001b[1;33m,\u001b[0m \u001b[0mswmr\u001b[0m\u001b[1;33m=\u001b[0m\u001b[0mswmr\u001b[0m\u001b[1;33m)\u001b[0m\u001b[1;33m\u001b[0m\u001b[1;33m\u001b[0m\u001b[0m\n\u001b[0m\u001b[0;32m    313\u001b[0m \u001b[1;33m\u001b[0m\u001b[0m\n\u001b[0;32m    314\u001b[0m                 \u001b[1;32mif\u001b[0m \u001b[0mswmr_support\u001b[0m\u001b[1;33m:\u001b[0m\u001b[1;33m\u001b[0m\u001b[1;33m\u001b[0m\u001b[0m\n",
      "\u001b[1;32mC:\\ProgramData\\Anaconda3\\lib\\site-packages\\h5py\\_hl\\files.py\u001b[0m in \u001b[0;36mmake_fid\u001b[1;34m(name, mode, userblock_size, fapl, fcpl, swmr)\u001b[0m\n\u001b[0;32m    154\u001b[0m             \u001b[0mfid\u001b[0m \u001b[1;33m=\u001b[0m \u001b[0mh5f\u001b[0m\u001b[1;33m.\u001b[0m\u001b[0mopen\u001b[0m\u001b[1;33m(\u001b[0m\u001b[0mname\u001b[0m\u001b[1;33m,\u001b[0m \u001b[0mh5f\u001b[0m\u001b[1;33m.\u001b[0m\u001b[0mACC_RDWR\u001b[0m\u001b[1;33m,\u001b[0m \u001b[0mfapl\u001b[0m\u001b[1;33m=\u001b[0m\u001b[0mfapl\u001b[0m\u001b[1;33m)\u001b[0m\u001b[1;33m\u001b[0m\u001b[1;33m\u001b[0m\u001b[0m\n\u001b[0;32m    155\u001b[0m         \u001b[1;32mexcept\u001b[0m \u001b[0mIOError\u001b[0m\u001b[1;33m:\u001b[0m\u001b[1;33m\u001b[0m\u001b[1;33m\u001b[0m\u001b[0m\n\u001b[1;32m--> 156\u001b[1;33m             \u001b[0mfid\u001b[0m \u001b[1;33m=\u001b[0m \u001b[0mh5f\u001b[0m\u001b[1;33m.\u001b[0m\u001b[0mcreate\u001b[0m\u001b[1;33m(\u001b[0m\u001b[0mname\u001b[0m\u001b[1;33m,\u001b[0m \u001b[0mh5f\u001b[0m\u001b[1;33m.\u001b[0m\u001b[0mACC_EXCL\u001b[0m\u001b[1;33m,\u001b[0m \u001b[0mfapl\u001b[0m\u001b[1;33m=\u001b[0m\u001b[0mfapl\u001b[0m\u001b[1;33m,\u001b[0m \u001b[0mfcpl\u001b[0m\u001b[1;33m=\u001b[0m\u001b[0mfcpl\u001b[0m\u001b[1;33m)\u001b[0m\u001b[1;33m\u001b[0m\u001b[1;33m\u001b[0m\u001b[0m\n\u001b[0m\u001b[0;32m    157\u001b[0m     \u001b[1;32melif\u001b[0m \u001b[0mmode\u001b[0m \u001b[1;32mis\u001b[0m \u001b[1;32mNone\u001b[0m\u001b[1;33m:\u001b[0m\u001b[1;33m\u001b[0m\u001b[1;33m\u001b[0m\u001b[0m\n\u001b[0;32m    158\u001b[0m         \u001b[1;31m# Try to open in append mode (read/write).\u001b[0m\u001b[1;33m\u001b[0m\u001b[1;33m\u001b[0m\u001b[1;33m\u001b[0m\u001b[0m\n",
      "\u001b[1;32mh5py\\_objects.pyx\u001b[0m in \u001b[0;36mh5py._objects.with_phil.wrapper\u001b[1;34m()\u001b[0m\n",
      "\u001b[1;32mh5py\\_objects.pyx\u001b[0m in \u001b[0;36mh5py._objects.with_phil.wrapper\u001b[1;34m()\u001b[0m\n",
      "\u001b[1;32mh5py\\h5f.pyx\u001b[0m in \u001b[0;36mh5py.h5f.create\u001b[1;34m()\u001b[0m\n",
      "\u001b[1;31mOSError\u001b[0m: Unable to create file (unable to open file: name = 'vibration_measurement.hdf5', errno = 17, error message = 'File exists', flags = 15, o_flags = 502)"
     ]
    }
   ],
   "source": [
    "from tqdm import tqdm_notebook as tqdm\n",
    "\n",
    "measurement_time_minutes = 60*12\n",
    "nr_measurements = measurement_time_minutes*60//13\n",
    "\n",
    "vib = ESP8266AccelerometerHTTP(time.time(), '172.29.133.49')\n",
    "\n",
    "conv = 4*9.81/(2**14 -1)\n",
    "\n",
    "fname = 'vibration_measurement.hdf5'\n",
    "run_name = 'measurement 3'\n",
    "description = \"Measurement of vibration in SPL7 next to laser table adjacent to beam source \"+\\\n",
    "              \"with an MMA8451 sensor\"\n",
    "names = \"time, x acceleration, y acceleration, z acceleration\".split(\",\")\n",
    "units = \"s, m/s^2, m/s^2, m/s^2\".split(\",\")\n",
    "dtypes = ['float', 'float', 'float', 'float']\n",
    "\n",
    "attrs_measurement = { \"description\": description}\n",
    "attrs = { 'units': f\"{dict((name, unit) for name, unit in zip(names, units))}\", 'start_time': vib.time_offset}\n",
    "\n",
    "data_type = np.dtype([(name.strip(\"\"), eval(ty)) for name, ty in zip(names, dtypes)])\n",
    "\n",
    "create_hdf_grp(fname, run_name, attrs_measurement)\n",
    "create_hdf_dset(fname, run_name, \"MMA8451\", data_type, attrs = attrs)\n",
    "\n",
    "for _ in tqdm(range(nr_measurements)):\n",
    "    d = vib.ReadValues()\n",
    "    d[:,1:] *= conv\n",
    "    dhdf = np.array([tuple(di) for di in list(d)], dtype = data_type)\n",
    "    norm = np.linalg.norm(d[:,1:], axis = 1)\n",
    "    offset = norm.ptp()*0.1\n",
    "    ax.set_xlim([np.min(d[:,0]), np.max(d[:,0])])\n",
    "    ax.set_ylim([norm.min()-offset, norm.max()+offset]);\n",
    "    plot_data(ax, d[:,0], norm)\n",
    "    save_to_hdf(fname, run_name, 'MMA8451', dhdf, data_type)\n",
    "vib.StopMeasurement()"
   ]
  },
  {
   "cell_type": "code",
   "execution_count": 7,
   "metadata": {},
   "outputs": [
    {
     "data": {
      "application/vnd.jupyter.widget-view+json": {
       "model_id": "2d27937cf1ea44bfac6d07adc970a53a",
       "version_major": 2,
       "version_minor": 0
      },
      "text/plain": [
       "HBox(children=(IntProgress(value=0, max=3323), HTML(value='')))"
      ]
     },
     "metadata": {},
     "output_type": "display_data"
    }
   ],
   "source": [
    "from tqdm import tqdm_notebook as tqdm\n",
    "\n",
    "measurement_time_minutes = 60*12\n",
    "nr_measurements = measurement_time_minutes*60//13\n",
    "\n",
    "vib = ESP8266AccelerometerHTTP(time.time(), '172.29.133.49')\n",
    "\n",
    "conv = 4*9.81/(2**14 -1)\n",
    "\n",
    "fname = 'vibration_measurement.hdf5'\n",
    "run_name = 'measurement 4'\n",
    "description = \"Measurement of vibration in SPL7 next to laser table adjacent to beam source \"+\\\n",
    "              \"with an MMA8451 sensor\"\n",
    "names = \"time, x acceleration, y acceleration, z acceleration\".split(\",\")\n",
    "units = \"s, m/s^2, m/s^2, m/s^2\".split(\",\")\n",
    "dtypes = ['float', 'float', 'float', 'float']\n",
    "\n",
    "attrs_measurement = { \"description\": description}\n",
    "attrs = { 'units': f\"{dict((name, unit) for name, unit in zip(names, units))}\", 'start_time': vib.time_offset}\n",
    "\n",
    "data_type = np.dtype([(name.strip(\"\"), eval(ty)) for name, ty in zip(names, dtypes)])\n",
    "\n",
    "create_hdf_grp(fname, run_name, attrs_measurement)\n",
    "create_hdf_dset(fname, run_name, \"MMA8451\", data_type, attrs = attrs)\n",
    "\n",
    "for _ in tqdm(range(nr_measurements)):\n",
    "    d = vib.ReadValues()\n",
    "    d[:,1:] *= conv\n",
    "    dhdf = np.array([tuple(di) for di in list(d)], dtype = data_type)\n",
    "    norm = np.linalg.norm(d[:,1:], axis = 1)\n",
    "    offset = norm.ptp()*0.1\n",
    "    ax.set_xlim([np.min(d[:,0]), np.max(d[:,0])])\n",
    "    ax.set_ylim([norm.min()-offset, norm.max()+offset]);\n",
    "    plot_data(ax, d[:,0], norm)\n",
    "    save_to_hdf(fname, run_name, 'MMA8451', dhdf, data_type)\n",
    "vib.StopMeasurement()"
   ]
  },
  {
   "cell_type": "code",
   "execution_count": 4,
   "metadata": {},
   "outputs": [
    {
     "data": {
      "application/vnd.jupyter.widget-view+json": {
       "model_id": "5cfca6d65e3f443e80c16b8b99e98a1f",
       "version_major": 2,
       "version_minor": 0
      },
      "text/plain": [
       "Canvas(toolbar=Toolbar(toolitems=[('Home', 'Reset original view', 'home', 'home'), ('Back', 'Back to previous …"
      ]
     },
     "metadata": {},
     "output_type": "display_data"
    }
   ],
   "source": [
    "%matplotlib ipympl\n",
    "# %matplotlib widget\n",
    "\n",
    "import numpy as np\n",
    "import matplotlib.pyplot as plt\n",
    "import time\n",
    "\n",
    "def plot_data(ax, x,y, colors=['C0']):\n",
    "    if ax.lines:\n",
    "        for line in ax.lines:\n",
    "            line.set_xdata(x)\n",
    "            line.set_ydata(y)\n",
    "    else:\n",
    "        for color in colors:\n",
    "            ax.plot(x, y, color)\n",
    "    fig.canvas.draw()\n",
    "\n",
    "fig, ax = plt.subplots()\n",
    "fig.canvas.layout.height = '600px'\n",
    "fig.canvas.layout.width = '1000px'\n",
    "\n",
    "ax.set_xlabel('time')\n",
    "ax.set_ylabel('accelerometer')\n",
    "ax.set_xlim(0,1)\n",
    "ax.set_ylim(0,1);\n",
    "plt.show()"
   ]
  },
  {
   "cell_type": "markdown",
   "metadata": {},
   "source": [
    "## Analyzing data\n",
    "First two measurements the timestamping went wrong, and the fan of the Vertiv wasn't spinning up anyway.\n",
    "Only looking at last two measurements."
   ]
  },
  {
   "cell_type": "code",
   "execution_count": 46,
   "metadata": {},
   "outputs": [],
   "source": [
    "data_hdf = []\n",
    "with h5py.File(fname) as f:\n",
    "    for m in [f'measurement {i}' for i in range(3,5)]:\n",
    "        dset = f[m]['MMA8451']\n",
    "        data_hdf.append((m, dset.attrs['start_time'], dset.value))"
   ]
  },
  {
   "cell_type": "code",
   "execution_count": 47,
   "metadata": {},
   "outputs": [],
   "source": [
    "data = []\n",
    "for d in data_hdf:\n",
    "    d_tmp = d[2]\n",
    "    d_tmp['time'] += d[1]\n",
    "    data.append(d_tmp)"
   ]
  },
  {
   "cell_type": "code",
   "execution_count": 89,
   "metadata": {},
   "outputs": [],
   "source": [
    "d = data[0]\n",
    "norm1 = np.linalg.norm(d.view((float, len(d.dtype.names)))[:,1:], axis = 1)\n",
    "d0 = datetime.fromtimestamp(d['time'][0])\n",
    "times1 = [d0+timedelta(seconds = dt) for dt in d['time']-d['time'][0]]\n",
    "\n",
    "d = data[1]\n",
    "norm2 = np.linalg.norm(d.view((float, len(d.dtype.names)))[:,1:], axis = 1)\n",
    "d0 = datetime.fromtimestamp(d['time'][0])\n",
    "times2 = [d0+timedelta(seconds = dt) for dt in d['time']-d['time'][0]]"
   ]
  },
  {
   "cell_type": "code",
   "execution_count": 93,
   "metadata": {},
   "outputs": [
    {
     "data": {
      "application/vnd.jupyter.widget-view+json": {
       "model_id": "30229e234f0749dd9dd8b262864cb903",
       "version_major": 2,
       "version_minor": 0
      },
      "text/plain": [
       "Canvas(toolbar=Toolbar(toolitems=[('Home', 'Reset original view', 'home', 'home'), ('Back', 'Back to previous …"
      ]
     },
     "metadata": {},
     "output_type": "display_data"
    },
    {
     "data": {
      "text/plain": [
       "[<matplotlib.lines.Line2D at 0x1fff455c128>]"
      ]
     },
     "execution_count": 93,
     "metadata": {},
     "output_type": "execute_result"
    }
   ],
   "source": [
    "fig, ax = plt.subplots(figsize = (12,8))\n",
    "ax.plot(times1[::5], norm1[::5])\n",
    "ax.plot(times2[::5], norm2[::5])"
   ]
  },
  {
   "cell_type": "markdown",
   "metadata": {},
   "source": [
    "Looks like there is some structure here, but going to try to filter it a bit by taking the peak-to-peak over every 1000 samples (which is the nr of samples I grab every 6 other seconds)\n",
    "\n",
    "## Filtering data with ptp"
   ]
  },
  {
   "cell_type": "code",
   "execution_count": 146,
   "metadata": {},
   "outputs": [],
   "source": [
    "t_mean = d['time'].reshape(norm.size//1000, 1000).mean(axis = 1)\n",
    "norm_ptp= norm.reshape(norm.size//1000, 1000).ptp(axis = 1)"
   ]
  },
  {
   "cell_type": "code",
   "execution_count": 155,
   "metadata": {},
   "outputs": [
    {
     "name": "stderr",
     "output_type": "stream",
     "text": [
      "C:\\ProgramData\\Anaconda3\\lib\\site-packages\\ipykernel_launcher.py:1: RuntimeWarning: More than 20 figures have been opened. Figures created through the pyplot interface (`matplotlib.pyplot.figure`) are retained until explicitly closed and may consume too much memory. (To control this warning, see the rcParam `figure.max_open_warning`).\n",
      "  \"\"\"Entry point for launching an IPython kernel.\n"
     ]
    },
    {
     "data": {
      "application/vnd.jupyter.widget-view+json": {
       "model_id": "8605433bb5ea474d85a6221351232cf2",
       "version_major": 2,
       "version_minor": 0
      },
      "text/plain": [
       "Canvas(toolbar=Toolbar(toolitems=[('Home', 'Reset original view', 'home', 'home'), ('Back', 'Back to previous …"
      ]
     },
     "metadata": {},
     "output_type": "display_data"
    }
   ],
   "source": [
    "fig, ax = plt.subplots(figsize = (12,8))\n",
    "\n",
    "for d in data:\n",
    "    norm = np.linalg.norm(d.view((float, len(d.dtype.names)))[:,1:], axis = 1)\n",
    "    t_mean = d['time'].reshape(norm.size//1000, 1000).mean(axis = 1)\n",
    "    norm_ptp= norm.reshape(norm.size//1000, 1000).ptp(axis = 1) \n",
    "    d0 = datetime.fromtimestamp(d['time'][0])\n",
    "    times = [d0+timedelta(seconds = dt) for dt in t_mean - t_mean[0]]\n",
    "    \n",
    "    ax.plot(times, norm_ptp)\n",
    "ax.set_xlabel('time')\n",
    "ax.set_ylabel('accelerometer \"noise\" [m/s^2]');"
   ]
  },
  {
   "cell_type": "markdown",
   "metadata": {},
   "source": [
    "<img src=\"vertiv_params.png\" />"
   ]
  },
  {
   "cell_type": "markdown",
   "metadata": {},
   "source": [
    "Now it seems pretty clear the vibration correlates with the Vertiv fan spinning up.  \n",
    "Vertiv sent some engineers on the 3rd of November to make sure the unit was operating properly after a sudden 5C temperature drop a few weeks back, and while they didn't find anything wrong with the unit (the issue was probably the hot water supply), the unit itself noticable shakes less after their visit, where they opened the unit up as wel"
   ]
  },
  {
   "cell_type": "code",
   "execution_count": null,
   "metadata": {},
   "outputs": [],
   "source": []
  }
 ],
 "metadata": {
  "kernelspec": {
   "display_name": "Python 3",
   "language": "python",
   "name": "python3"
  },
  "language_info": {
   "codemirror_mode": {
    "name": "ipython",
    "version": 3
   },
   "file_extension": ".py",
   "mimetype": "text/x-python",
   "name": "python",
   "nbconvert_exporter": "python",
   "pygments_lexer": "ipython3",
   "version": "3.7.3"
  }
 },
 "nbformat": 4,
 "nbformat_minor": 4
}
