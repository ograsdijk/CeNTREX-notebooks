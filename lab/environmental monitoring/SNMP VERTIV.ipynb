{
 "cells": [
  {
   "cell_type": "code",
   "execution_count": 2,
   "metadata": {},
   "outputs": [],
   "source": [
    "host = '172.28.173.181'\n",
    "\n",
    "\"\"\"\n",
    "Commands with *.1.* return in celcius\n",
    "Commands with *.2.* return in fahrenheit\n",
    "\"\"\"\n",
    "command = '1.3.6.1.4.1.476.1.42.3.9.20.1.20.1.2.1.5028' # Return Humidity\n",
    "command = '1.3.6.1.4.1.476.1.42.3.9.20.1.20.1.2.2.5008' # Air temperature setpoint\n",
    "command = '1.3.6.1.4.1.476.1.42.3.9.20.1.20.1.2.2.5011' # Air temperature deadband\n",
    "command = '1.3.6.1.4.1.476.1.42.3.9.20.1.20.1.2.2.5059.2' # Remote sensor temperature 1 change last number from 1 to 10 for other temps\n",
    "command = '1.3.6.1.4.1.476.1.42.3.9.20.1.20.1.2.2.5325' # Air temperature proportional band\n",
    "command = '1.3.6.1.4.1.476.1.42.3.9.20.1.20.1.2.2.5336' # Ext Air sensor C temperature\n",
    "command = '1.3.6.1.4.1.476.1.42.3.9.20.1.20.1.2.2.5356' # Free cooling internal temperature delta\n",
    "command = '1.3.6.1.4.1.476.1.42.3.9.20.1.20.1.2.2.5358' # Free cooling fluid temperature\n",
    "command = '1.3.6.1.4.1.476.1.42.3.9.20.1.20.1.2.2.5574' # Outside air temperature\n",
    "command = '1.3.6.1.4.1.476.1.42.3.9.20.1.20.1.2.2.5585' # Fan speed temperature set point\n",
    "command = '1.3.6.1.4.1.476.1.42.3.9.20.1.20.1.2.2.5607' # Actual air temperature set point\n",
    "command = '1.3.6.1.4.1.476.1.42.3.9.20.1.20.1.2.2.5615' # Cooling control temperature\n",
    "command = '1.3.6.1.4.1.476.1.42.3.9.20.1.20.1.2.2.5616' # Fan speed control temperature\n",
    "command = '1.3.6.1.4.1.476.1.42.3.9.20.1.20.1.2.2.5626' # Static Pressure Set Point\n",
    "command = '1.3.6.1.4.1.476.1.42.3.9.20.1.20.1.2.2.5627' # Unit Static Pressure -> Unavailable\n",
    "command = '1.3.6.1.4.1.476.1.42.3.9.20.1.20.1.2.2.5628' # System Static Pressure -> Unavailable\n",
    "command = '1.3.6.1.4.1.476.1.42.2.1.1.0' # Manufacturer\n",
    "command = '1.3.6.1.4.1.476.1.42.2.1.2.0' # Model\n",
    "command = '1.3.6.1.4.1.476.1.42.2.1.3.0' # Firmware\n",
    "command = '1.3.6.1.4.1.476.1.42.2.1.4.0' # Serial\n",
    "command = '1.3.6.1.4.1.476.1.42.2.1.5.0' # Part\n",
    "command = '1.3.6.1.4.1.476.1.42.3.4.1.3.3.1.2.1'\n",
    "command = '1.3.6.1.4.1.476.1.42.3.4.1.3.3.1.53.1' # Temperature Set Point Tenths Degree C\n",
    "command = '1.3.6.1.4.1.476.1.42.3.4.1.3.3.1.60.1' # Temperature Deadband Tenths Degree C\n",
    "command = '1.3.6.1.4.1.476.1.42.3.4.1.3.1.0' # Temperature Setting Degree C\n",
    "command = '1.3.6.1.4.1.476.1.42.3.4.1.3.2.0' # Temperature Tolarance Degree C\n",
    "command = '1.3.6.1.4.1.476.1.42.3.4.2.2.3.1.6.1' # Humidity Set Point\n",
    "command = '1.3.6.1.4.1.476.1.42.3.4.2.2.3.1.15.1' # Humidity Dead Band\n",
    "command = '1.3.6.1.4.1.476.1.42.3.4.2.2.3.1.16.1' # Humidity Proportional Band\n",
    "command = '1.3.6.1.4.1.476.1.42.3.4.2.2.3.1.50.1' # Humidity Measurement Relative Tenths\n",
    "command = '1.3.6.1.4.1.476.1.42.3.4.2.2.3.1.50.5' # Humidity Measurement Relative Tenths\n",
    "command = '1.3.6.1.4.1.476.1.42.3.4.3.1.0' # System State\n",
    "command = '1.3.6.1.4.1.476.1.42.3.4.3.2.0' # System Cooling State\n",
    "command = '1.3.6.1.4.1.476.1.42.3.4.3.4.0' # System Humidifying\n",
    "command = '1.3.6.1.4.1.476.1.42.3.4.3.5.0' # System Dehumidifying\n",
    "command = '1.3.6.1.4.1.476.1.42.3.4.3.7.0' # System Fan\n",
    "command = '1.3.6.1.4.1.476.1.42.3.4.3.9.0' # System Cooling Capacity \n",
    "command = '1.3.6.1.4.1.476.1.42.3.4.3.10.0' # System Heating Capacity \n",
    "command = '1.3.6.1.4.1.476.1.42.3.4.3.14.0' # System Operating Reason\n",
    "command = '1.3.6.1.4.1.476.1.42.3.4.3.16.0' # System Fan Capacity\n",
    "command = '1.3.6.1.4.1.476.1.42.3.4.3.17.0' # System Cooling Capacity\n",
    "command = '1.3.6.1.4.1.476.1.42.3.4.3.18.0' # System Dehumidifying Capacity\n",
    "command = '1.3.6.1.4.1.476.1.42.3.4.3.19.0' # System Humidifying Capacity\n",
    "command = '1.3.6.1.4.1.476.1.42.3.4.3.20.0' # State Free Cooling\n",
    "command = '1.3.6.1.4.1.476.1.42.3.4.3.21.0' # State Electric Heater\n",
    "command = '1.3.6.1.4.1.476.1.42.3.4.4.15.0' # Config Temperature Integration Time\n",
    "command = '1.3.6.1.4.1.476.1.42.3.9.20.1.20.1.2.1.4293' # System Date and Time\n",
    "command = '1.3.6.1.4.1.476.1.42.3.9.20.1.20.1.2.1.4594' # External Air Sensor A Temperature -> Unavailable\n",
    "command = '1.3.6.1.4.1.476.1.42.3.9.20.1.20.1.2.1.4597' # External Air Sensor B Temperature -> Unavailable\n",
    "command = '1.3.6.1.4.1.476.1.42.3.9.20.1.20.1.2.1.4614' # External Dew Point Over Temp Threshold\n",
    "command = '1.3.6.1.4.1.476.1.42.3.9.20.1.20.1.2.1.4715' # Shutdown - Loss of Power - Event Control\n",
    "command = '1.3.6.1.4.1.476.1.42.3.9.20.1.20.1.2.1.4716' # Shutdown - Loss of Power - Event Type\n",
    "command = '1.3.6.1.4.1.476.1.42.3.9.20.1.20.1.2.1.5006' # Remote Sensor Maximum Temperature -> Unavailable\n",
    "command = '1.3.6.1.4.1.476.1.42.3.9.20.1.20.1.2.1.5080' # Reheat Utilization -> Unavailable\n",
    "command = '1.3.6.1.4.1.476.1.42.3.9.20.1.20.1.2.1.5265.1' # Compressor Capacity Control State\n",
    "command = '1.3.6.1.4.1.476.1.42.3.9.20.1.20.1.2.1.5265.2' # Compressor Capacity Control State\n",
    "command = '1.3.6.1.4.1.476.1.42.3.9.20.1.20.1.2.1.5327' # Today High Air Temperature\n",
    "command = '1.3.6.1.4.1.476.1.42.3.9.20.1.20.1.2.1.5328' # Today High Air Temperature Time\n",
    "command = '1.3.6.1.4.1.476.1.42.3.9.20.1.20.1.2.1.5329' # Today Low AIr Temperature\n",
    "command = '1.3.6.1.4.1.476.1.42.3.9.20.1.20.1.2.1.5330' # Today Low AIr Temperature Time\n",
    "command = '1.3.6.1.4.1.476.1.42.3.9.20.1.20.1.2.1.5334' # Low Return Air Temp Threshold\n",
    "command = '1.3.6.1.4.1.476.1.42.3.9.20.1.20.1.2.1.5336' # Ext Air Sensor C Temperature -> Unavailable\n",
    "command = '1.3.6.1.4.1.476.1.42.3.9.20.1.20.1.2.1.5341' # Humidity Proportional Band\n",
    "command = '1.3.6.1.4.1.476.1.42.3.9.20.1.20.1.2.1.5342' # Humidity Control Integration Time\n",
    "command = '1.3.6.1.4.1.476.1.42.3.9.20.1.20.1.2.1.5343' # Today High Humidity\n",
    "command = '1.3.6.1.4.1.476.1.42.3.9.20.1.20.1.2.1.5344' # Today High Humidity Time\n",
    "command = '1.3.6.1.4.1.476.1.42.3.9.20.1.20.1.2.1.5345' # Today Low Humidity\n",
    "command = '1.3.6.1.4.1.476.1.42.3.9.20.1.20.1.2.1.5346' # Today Low Humidity Time\n",
    "command = '1.3.6.1.4.1.476.1.42.3.9.20.1.20.1.2.1.5353.1' # Dgi Scroll Comp Discharge Temp -> Unavailable\n",
    "command = '1.3.6.1.4.1.476.1.42.3.9.20.1.20.1.2.1.5356' # Free Cooling Internal Temperature Delta\n",
    "command = '1.3.6.1.4.1.476.1.42.3.9.20.1.20.1.2.1.5358' # Free Cooling Fluid Temperature -> Unavailable\n",
    "command = '1.3.6.1.4.1.476.1.42.3.9.20.1.20.1.2.1.5359' # Minimum Chilled Water Set Point Enable\n",
    "command = '1.3.6.1.4.1.476.1.42.3.9.20.1.20.1.2.1.5360' # Minimum Chilled Water Set Point\n",
    "command = '1.3.6.1.4.1.476.1.42.3.9.20.1.20.1.2.1.5363' # Hot Water / Hot Gas Valve Hours\n",
    "command = '1.3.6.1.4.1.476.1.42.3.9.20.1.20.1.2.1.5364' # Hot Water / Hot Gas Valve Hours Threshold\n",
    "command = '1.3.6.1.4.1.476.1.42.3.9.20.1.20.1.2.1.5366.1' # Electric Reheater Hours\n",
    "command = '1.3.6.1.4.1.476.1.42.3.9.20.1.20.1.2.1.5366.2' # Electric Reheater Hours\n",
    "command = '1.3.6.1.4.1.476.1.42.3.9.20.1.20.1.2.1.5366.3' # Electric Reheater Hours\n",
    "command = '1.3.6.1.4.1.476.1.42.3.9.20.1.20.1.2.1.5367.1' # Electric Reheater Hours Threshold\n",
    "command = '1.3.6.1.4.1.476.1.42.3.9.20.1.20.1.2.1.5367.2' # Electric Reheater Hours Threshold\n",
    "command = '1.3.6.1.4.1.476.1.42.3.9.20.1.20.1.2.1.5367.3' # Electric Reheater Hours Threshold\n",
    "command = '1.3.6.1.4.1.476.1.42.3.9.20.1.20.1.2.1.5369' # Humidifier Hours\n",
    "command = '1.3.6.1.4.1.476.1.42.3.9.20.1.20.1.2.1.5370' # Humidifier Hours Threshold\n",
    "command = '1.3.6.1.4.1.476.1.42.3.9.20.1.20.1.2.1.5371' # Dehumidifier Hours\n",
    "command = '1.3.6.1.4.1.476.1.42.3.9.20.1.20.1.2.1.5372' # Dehumidifier Hours Threshold\n",
    "command = '1.3.6.1.4.1.476.1.42.3.9.20.1.20.1.2.1.5374' # Fan Hours\n",
    "command = '1.3.6.1.4.1.476.1.42.3.9.20.1.20.1.2.1.5375' # Fan Hours Threshold\n",
    "command = '1.3.6.1.4.1.476.1.42.3.9.20.1.20.1.2.1.5379' # Free Cooling Valve Open Position -> Unavailable\n",
    "command = '1.3.6.1.4.1.476.1.42.3.9.20.1.20.1.2.1.5380' # Hot Water / Hot Gas valve Open Position\n",
    "command = '1.3.6.1.4.1.476.1.42.3.9.20.1.20.1.2.1.5384' # Maintenance Tracking State\n",
    "command = '1.3.6.1.4.1.476.1.42.3.9.20.1.20.1.2.1.5402' # Return Air Sensor Event Control\n",
    "command = '1.3.6.1.4.1.476.1.42.3.9.20.1.20.1.2.1.5445' # Infrared Humidifier Flush Rate\n",
    "command = '1.3.6.1.4.1.476.1.42.3.9.20.1.20.1.2.1.5574' # Outside Air Temperature -> Unavailable\n",
    "command = '1.3.6.1.4.1.476.1.42.3.9.20.1.20.1.2.1.5576' # Ext Dew point Under Temp Threshold\n",
    "command = '1.3.6.1.4.1.476.1.42.3.9.20.1.20.1.2.1.5580' # Compressor Lockout\n",
    "command = '1.3.6.1.4.1.476.1.42.3.9.20.1.20.1.2.1.5581' # Free Cooling Internal Control Mode\n",
    "command = '1.3.6.1.4.1.476.1.42.3.9.20.1.20.1.2.1.5585' # Fan Speed Temeperature Set Point\n",
    "command = '1.3.6.1.4.1.476.1.42.3.9.20.1.20.1.2.1.5586' # Fan Control Sensor\n",
    "command = '1.3.6.1.4.1.476.1.42.3.9.20.1.20.1.2.1.5587' # Supply Air Over/Under Temperature - Event Control\n",
    "command = '1.3.6.1.4.1.476.1.42.3.9.20.1.20.1.2.1.5599' # Air Economizer Availability -> Not Available\n",
    "command = '1.3.6.1.4.1.476.1.42.3.9.20.1.20.1.2.1.5603' # Humidity Control Type\n",
    "command = '1.3.6.1.4.1.476.1.42.3.9.20.1.20.1.2.1.5605' # Main Chilled Water Valve\n",
    "command = '1.3.6.1.4.1.476.1.42.3.9.20.1.20.1.2.1.5607' # Actual Air Temperature Set Point\n",
    "command = '1.3.6.1.4.1.476.1.42.3.9.20.1.20.1.2.1.5608' # Actual Humidity Set Point\n",
    "command = '1.3.6.1.4.1.476.1.42.3.9.20.1.20.1.2.1.5614' # Chilled Water Valve Hours\n",
    "command = '1.3.6.1.4.1.476.1.42.3.9.20.1.20.1.2.1.5615' # Cooling Control Temperature\n",
    "command = '1.3.6.1.4.1.476.1.42.3.9.20.1.20.1.2.1.5616' # Fan Speed Control Temperature\n",
    "command = '1.3.6.1.4.1.476.1.42.3.9.20.1.20.1.2.1.5618' # Humidity Control Temperature\n",
    "command = '1.3.6.1.4.1.476.1.42.3.9.20.1.20.1.2.1.5619.1' # Digital Scroll Compressure Loading\n",
    "command = '1.3.6.1.4.1.476.1.42.3.9.20.1.20.1.2.1.5619.2' # Digital Scroll Compressure Loading\n",
    "command = '1.3.6.1.4.1.476.1.42.3.9.20.1.20.1.2.1.5626' # Static Pressure Set Point\n",
    "command = '1.3.6.1.4.1.476.1.42.3.9.20.1.20.1.2.1.5627' # Unit Static Pressure -> Unavailable\n",
    "command = '1.3.6.1.4.1.476.1.42.3.9.20.1.20.1.2.1.5628' # System Static Pressure -> Unavailable\n",
    "command = '1.3.6.1.4.1.476.1.42.3.9.20.1.20.1.2.2.5897.1' # Fluid Input Temperature -> Unavailable\n",
    "command = '1.3.6.1.4.1.476.1.42.3.9.20.1.20.1.2.2.5897.2' # Fluid Input Temperature -> Unavailable\n",
    "command = '1.3.6.1.4.1.476.1.42.3.9.20.1.20.1.2.2.5898.1' # Fluid Ouput Temperature -> Unavailable\n",
    "command = '1.3.6.1.4.1.476.1.42.3.9.20.1.20.1.2.2.5898.2' # Fluid Ouput Temperature -> Unavailable\n",
    "command = '1.3.6.1.4.1.476.1.42.3.9.20.1.20.1.2.1.5899.1' # Fluid Flow Rate -> Unavailable\n",
    "command = '1.3.6.1.4.1.476.1.42.3.9.20.1.20.1.2.1.5899.2' # Fluid Flow Rate -> Unavailable\n",
    "command = '1.3.6.1.4.1.476.1.42.3.9.20.1.20.1.2.1.5900.1' # Energy Consumption -> Unavailable\n",
    "command = '1.3.6.1.4.1.476.1.42.3.9.20.1.20.1.2.1.5900.2' # Energy Consumption -> Unavailable\n",
    "command = '1.3.6.1.4.1.476.1.42.3.9.20.1.20.1.2.1.5900.3' # Energy Consumption -> Unavailable\n",
    "command = '1.3.6.1.4.1.476.1.42.3.9.20.1.20.1.2.1.5900.4' # Energy Consumption -> Unavailable\n",
    "command = '1.3.6.1.4.1.476.1.42.3.9.20.1.20.1.2.1.5900.5' # Energy Consumption -> Unavailable\n",
    "command = '1.3.6.1.4.1.476.1.42.3.9.20.1.20.1.2.1.5900.6' # Energy Consumption -> Unavailable\n",
    "command = '1.3.6.1.4.1.476.1.42.3.9.20.1.20.1.2.1.5901.1' # Instantaneous Power -> Unavailable\n",
    "command = '1.3.6.1.4.1.476.1.42.3.9.20.1.20.1.2.1.5901.2' # Instantaneous Power -> Unavailable\n",
    "command = '1.3.6.1.4.1.476.1.42.3.9.20.1.20.1.2.1.5901.3' # Instantaneous Power -> Unavailable\n",
    "command = '1.3.6.1.4.1.476.1.42.3.9.20.1.20.1.2.1.5901.4' # Instantaneous Power -> Unavailable\n",
    "command = '1.3.6.1.4.1.476.1.42.3.9.20.1.20.1.2.1.5901.5' # Instantaneous Power -> Unavailable\n",
    "command = '1.3.6.1.4.1.476.1.42.3.9.20.1.20.1.2.1.5901.6' # Instantaneous Power -> Unavailable\n",
    "command = '1.3.6.1.4.1.476.1.42.3.9.20.1.20.1.2.1.5904' # Unit Cooling Load -> Unavailable\n",
    "command = '1.3.6.1.4.1.476.1.42.3.9.20.1.20.1.2.1.5905.1' # Circuit Cooling Load -> Unavailable\n",
    "command = '1.3.6.1.4.1.476.1.42.3.9.20.1.20.1.2.1.5905.2' # Circuit Cooling Load -> Unavailable\n",
    "command = '1.3.6.1.4.1.476.1.42.3.9.20.1.20.1.2.2.5964' # Raw Auxiliary AIr Temperature -> Unavailable\n",
    "command = '1.3.6.1.4.1.476.1.42.3.9.20.1.20.1.2.2.5965' # Actual Auxiliary Air Temperature -> Unavailable\n",
    "command = '1.3.6.1.4.1.476.1.42.3.9.20.1.20.1.2.1.6134' # Unit Calculated Air Flow -> Unavailable\n",
    "command = '1.3.6.1.4.1.476.1.42.3.9.20.1.20.1.2.1.6260' # Free Cooling Status -> Unavailable\n",
    "command = '1.3.6.1.4.1.476.1.42.3.9.20.1.20.1.2.2.4291' # Return Air Temperature\n",
    "command = '1.3.6.1.4.1.476.1.42.3.9.20.1.20.1.2.2.5002' # Supply Air Temperature\n",
    "command = '1.3.6.1.4.1.476.1.42.3.9.20.1.20.1.2.100.4626' # Supply Chilled Water Over Temp -> Inactive Event\n",
    "command = '1.3.6.1.4.1.476.1.42.3.9.20.1.20.1.2.100.4980' # Supply Chilled Water Loss of Flow -> Inactive Event\n",
    "command = '1.3.6.1.4.1.476.1.42.3.9.20.1.20.1.2.100.5015' # Supply Air Over Temperature -> Inactive Event\n",
    "command = '1.3.6.1.4.1.476.1.42.3.9.20.1.20.1.2.100.5053' # Loss of Air Flow\n",
    "command = '1.3.6.1.4.1.476.1.42.3.9.20.1.20.1.2.100.5109' # Unit On\n",
    "command = '1.3.6.1.4.1.476.1.42.3.9.20.1.20.1.2.100.5110' # Unit Off\n",
    "command = '1.3.6.1.4.1.476.1.42.3.9.20.1.20.1.2.100.5113' # Unit Shutdown\n",
    "command = '1.3.6.1.4.1.476.1.42.3.9.20.1.20.1.2.100.5116' # Mainenance Due\n",
    "command = '1.3.6.1.4.1.476.1.42.3.9.20.1.20.1.2.100.5147' # Return Air Sensor Issue\n",
    "command = '1.3.6.1.4.1.476.1.42.3.9.20.1.20.1.3.20.1.4123' # System Status\n",
    "command = '1.3.6.1.4.1.476.1.42.3.9.20.1.20.1.3.20.1.4240' # System Model Number\n",
    "command = '1.3.6.1.4.1.476.1.42.3.9.20.1.20.1.3.20.1.4553' # Server Class\n",
    "command = '1.3.6.1.4.1.476.1.42.3.9.20.1.20.1.3.20.1.6109' # Sensor Order Identifier - Slot 01\n",
    "command = '1.3.6.1.4.1.476.1.42.3.9.20.1.20.1.3.20.1.6110' # Sensor Order Identifier - Slot 02\n",
    "command = '1.3.6.1.4.1.476.1.42.3.9.20.1.20.1.3.20.1.6111' # Sensor Order Identifier - Slot 03\n",
    "command = '1.3.6.1.4.1.476.1.42.3.9.20.1.20.1.3.20.1.6112' # Sensor Order Identifier - Slot 04\n",
    "command = '1.3.6.1.4.1.476.1.42.3.9.20.1.20.1.3.20.1.6113' # Sensor Order Identifier - Slot 05\n",
    "command = '1.3.6.1.4.1.476.1.42.3.9.20.1.20.1.3.20.1.6114' # Sensor Order Identifier - Slot 06\n",
    "command = '1.3.6.1.4.1.476.1.42.3.9.20.1.20.1.3.20.1.6115' # Sensor Order Identifier - Slot 07\n",
    "command = '1.3.6.1.4.1.476.1.42.3.9.20.1.20.1.3.20.1.6116' # Sensor Order Identifier - Slot 08\n",
    "command = '1.3.6.1.4.1.476.1.42.3.9.20.1.20.1.3.20.1.6117' # Sensor Order Identifier - Slot 09\n",
    "command = '1.3.6.1.4.1.476.1.42.3.9.20.1.20.1.3.20.1.6118' # Sensor Order Identifier - Slot 10\n",
    "command = '1.3.6.1.4.1.476.1.42.3.9.20.1.20.1.3.20.100.5423' # Too Many Sensors\n",
    "command = '1.3.6.1.4.1.476.1.42.3.9.20.1.20.1.3.20.100.6119' # Slots Not Available"
   ]
  },
  {
   "cell_type": "code",
   "execution_count": 27,
   "metadata": {},
   "outputs": [
    {
     "name": "stdout",
     "output_type": "stream",
     "text": [
      "SNMPv2-SMI::enterprises.476.1.42.2.1.2.0 = IS-UNITY-DP\n"
     ]
    }
   ],
   "source": [
    "from pysnmp.hlapi import *\n",
    "\n",
    "command =  '1.3.6.1.4.1.476.1.42.3.9.20.1.20.1.2.1.4614'\n",
    "command = '1.3.6.1.4.1.476.1.42.3.9.20.1.20.1.2.1.5080'\n",
    "command = '1.3.6.1.4.1.476.1.42.2.1.2.0'\n",
    "\n",
    "errorIndication, errorStatus, errorIndex, varBinds = next(\n",
    "    getCmd(SnmpEngine(),\n",
    "           CommunityData('centrex'),\n",
    "           UdpTransportTarget((host, 161)),\n",
    "           ContextData(),\n",
    "           ObjectType(ObjectIdentity(command)))\n",
    ")\n",
    "\n",
    "if errorIndication:\n",
    "    print(errorIndication)\n",
    "elif errorStatus:\n",
    "    print('%s at %s' % (errorStatus.prettyPrint(),\n",
    "                        errorIndex and varBinds[int(errorIndex) - 1][0] or '?'))\n",
    "else:\n",
    "    for varBind in varBinds:\n",
    "        print(' = '.join([x.prettyPrint() for x in varBind]))"
   ]
  },
  {
   "cell_type": "code",
   "execution_count": 26,
   "metadata": {},
   "outputs": [
    {
     "name": "stdout",
     "output_type": "stream",
     "text": [
      "notWritable at 1.3.6.1.4.1.476.1.42.2.1.2.0\n"
     ]
    }
   ],
   "source": [
    "from pysnmp.hlapi import *\n",
    "command = '1.3.6.1.4.1.476.1.42.3.4.2.2.3.1.15.1'\n",
    "\n",
    "errorIndication, errorStatus, errorIndex, varBinds = next(\n",
    "    setCmd(SnmpEngine(),\n",
    "           CommunityData('centrex'),\n",
    "           UdpTransportTarget((host, 161)),\n",
    "           ContextData(),\n",
    "           ObjectType(ObjectIdentity(command), Integer32(15)))\n",
    ")\n",
    "\n",
    "if errorIndication:\n",
    "    print(errorIndication)\n",
    "elif errorStatus:\n",
    "    print('%s at %s' % (errorStatus.prettyPrint(),\n",
    "                        errorIndex and varBinds[int(errorIndex) - 1][0] or '?'))\n",
    "else:\n",
    "    for varBind in varBinds:\n",
    "        print(' = '.join([x.prettyPrint() for x in varBind]))"
   ]
  },
  {
   "cell_type": "code",
   "execution_count": 23,
   "metadata": {},
   "outputs": [],
   "source": [
    "from VERTIV import *\n",
    "host = '172.28.173.181'\n",
    "community = 'centrex'\n",
    "trap = 161"
   ]
  },
  {
   "cell_type": "code",
   "execution_count": 24,
   "metadata": {},
   "outputs": [
    {
     "name": "stdout",
     "output_type": "stream",
     "text": [
      "Normal Operation\n",
      "1\n",
      "on\n",
      "19.9\n",
      "18.9\n",
      "100\n",
      "0\n",
      "Internal (Auto)\n",
      "5\n"
     ]
    }
   ],
   "source": [
    "unit = VERTIV(host, community, trap)\n",
    "print(unit.GetSystemStatus())\n",
    "print(unit.GetSystemState())\n",
    "print(unit.GetUnitOperatingState())\n",
    "print(unit.GetReturnAirTemperature())\n",
    "print(unit.GetSupplyAirTemperature())\n",
    "print(unit.GetFanSpeed())\n",
    "print(unit.GetDehumidifierUtilization())\n",
    "print(unit.GetUnitControlMode())\n",
    "print(unit.GetCoolingCapacity())"
   ]
  },
  {
   "cell_type": "code",
   "execution_count": 25,
   "metadata": {},
   "outputs": [
    {
     "data": {
      "text/plain": [
       "'Sensor'"
      ]
     },
     "execution_count": 25,
     "metadata": {},
     "output_type": "execute_result"
    }
   ],
   "source": [
    "unit.GetSystemModelNumber()"
   ]
  },
  {
   "cell_type": "code",
   "execution_count": 111,
   "metadata": {},
   "outputs": [],
   "source": [
    "from pysnmp.hlapi import *"
   ]
  },
  {
   "cell_type": "code",
   "execution_count": 115,
   "metadata": {},
   "outputs": [
    {
     "name": "stdout",
     "output_type": "stream",
     "text": [
      "SNMPv2-SMI::enterprises.476.1.42.3.9.20.1.20.1.2.1.4293 = 2018-10-31 01:56:29\n",
      "SNMPv2-SMI::enterprises.476.1.42.3.9.20.1.20.1.2.1.5006 = Unavailable\n"
     ]
    }
   ],
   "source": [
    "commands = ['1.3.6.1.4.1.476.1.42.3.9.20.1.20.1.2.1.4291', '1.3.6.1.4.1.476.1.42.3.9.20.1.20.1.2.1.5004']\n",
    "OTypes = [ObjectType(ObjectIdentity(cmd)) for cmd in commands]\n",
    "OType = ObjectType(ObjectIdentity(commands[0]))\n",
    "\n",
    "errorIndication, errorStatus, errorIndex, varBinds = next(bulkCmd(SnmpEngine(),\n",
    "           CommunityData('centrex'),\n",
    "           UdpTransportTarget((host, 161)),\n",
    "           ContextData(),\n",
    "           0, 1,\n",
    "           *OTypes))\n",
    "\n",
    "if errorIndication:\n",
    "    print(errorIndication)\n",
    "elif errorStatus:\n",
    "    print('%s at %s' % (errorStatus.prettyPrint(),\n",
    "                        errorIndex and varBinds[int(errorIndex) - 1][0] or '?'))\n",
    "else:\n",
    "    for varBind in varBinds:\n",
    "        print(' = '.join([x.prettyPrint() for x in varBind]))"
   ]
  },
  {
   "cell_type": "code",
   "execution_count": 118,
   "metadata": {},
   "outputs": [
    {
     "name": "stdout",
     "output_type": "stream",
     "text": [
      "156 ms ± 5.53 ms per loop (mean ± std. dev. of 7 runs, 10 loops each)\n"
     ]
    }
   ],
   "source": [
    "%%timeit\n",
    "errorIndication, errorStatus, errorIndex, varBinds = next(\n",
    "    getCmd(SnmpEngine(),\n",
    "           CommunityData('centrex'),\n",
    "           UdpTransportTarget((host, 161)),\n",
    "           ContextData(),\n",
    "           ObjectType(ObjectIdentity(command)))\n",
    ")"
   ]
  },
  {
   "cell_type": "code",
   "execution_count": 119,
   "metadata": {},
   "outputs": [
    {
     "name": "stdout",
     "output_type": "stream",
     "text": [
      "152 ms ± 5.03 ms per loop (mean ± std. dev. of 7 runs, 10 loops each)\n"
     ]
    }
   ],
   "source": [
    "%%timeit\n",
    "errorIndication, errorStatus, errorIndex, varBinds = next(\n",
    "    getCmd(SnmpEngine(),\n",
    "           CommunityData('centrex'),\n",
    "           UdpTransportTarget((host, 161)),\n",
    "           ContextData(),\n",
    "           *OTypes)\n",
    ")"
   ]
  },
  {
   "cell_type": "code",
   "execution_count": 120,
   "metadata": {},
   "outputs": [],
   "source": [
    "commands = ['1.3.6.1.4.1.476.1.42.3.9.20.1.20.1.2.1.4291', '1.3.6.1.4.1.476.1.42.3.9.20.1.20.1.2.1.5004',\n",
    "            '1.3.6.1.4.1.476.1.42.3.9.20.1.20.1.2.1.5028', '1.3.6.1.4.1.476.1.42.3.9.20.1.20.1.2.1.5002']\n",
    "OTypes = [ObjectType(ObjectIdentity(cmd)) for cmd in commands]"
   ]
  },
  {
   "cell_type": "code",
   "execution_count": 121,
   "metadata": {},
   "outputs": [
    {
     "name": "stdout",
     "output_type": "stream",
     "text": [
      "166 ms ± 4.3 ms per loop (mean ± std. dev. of 7 runs, 10 loops each)\n"
     ]
    }
   ],
   "source": [
    "%%timeit\n",
    "errorIndication, errorStatus, errorIndex, varBinds = next(\n",
    "    getCmd(SnmpEngine(),\n",
    "           CommunityData('centrex'),\n",
    "           UdpTransportTarget((host, 161)),\n",
    "           ContextData(),\n",
    "           *OTypes)\n",
    ")"
   ]
  },
  {
   "cell_type": "code",
   "execution_count": 8,
   "metadata": {},
   "outputs": [],
   "source": [
    "commandsSQL = ['1.3.6.1.4.1.476.1.42.3.9.20.1.20.1.2.1.4291', '1.3.6.1.4.1.476.1.42.3.9.20.1.20.1.2.1.5028', \n",
    "               '1.3.6.1.4.1.476.1.42.3.9.20.1.20.1.2.1.5004', '1.3.6.1.4.1.476.1.42.3.9.20.1.20.1.2.1.5002',\n",
    "               '1.3.6.1.4.1.476.1.42.3.9.20.1.20.1.2.1.5490', '1.3.6.1.4.1.476.1.42.3.9.20.1.20.1.2.1.5079',\n",
    "               '1.3.6.1.4.1.476.1.42.3.9.20.1.20.1.2.1.5081', '1.3.6.1.4.1.476.1.42.3.9.20.1.20.1.2.1.5077',\n",
    "               '1.3.6.1.4.1.476.1.42.3.9.20.1.20.1.2.1.5008', '1.3.6.1.4.1.476.1.42.3.9.20.1.20.1.2.1.5011',\n",
    "               '1.3.6.1.4.1.476.1.42.3.9.20.1.20.1.2.1.5325', '1.3.6.1.4.1.476.1.42.3.9.20.1.20.1.2.1.5326',\n",
    "               '1.3.6.1.4.1.476.1.42.3.9.20.1.20.1.2.1.5324', '1.3.6.1.4.1.476.1.42.3.9.20.1.20.1.2.1.5029',\n",
    "               '1.3.6.1.4.1.476.1.42.3.9.20.1.20.1.2.1.5032', '1.3.6.1.4.1.476.1.42.3.9.20.1.20.1.2.1.5341',\n",
    "               '1.3.6.1.4.1.476.1.42.3.9.20.1.20.1.2.1.5342', '1.3.6.1.4.1.476.1.42.3.9.20.1.20.1.2.1.5603',\n",
    "               '1.3.6.1.4.1.476.1.42.3.9.20.1.20.1.2.1.5585']\n",
    "OTypes = [ObjectType(ObjectIdentity(cmd)) for cmd in commandsSQL]"
   ]
  },
  {
   "cell_type": "code",
   "execution_count": 10,
   "metadata": {},
   "outputs": [
    {
     "name": "stdout",
     "output_type": "stream",
     "text": [
      "206 ms ± 14.9 ms per loop (mean ± std. dev. of 7 runs, 1 loop each)\n"
     ]
    }
   ],
   "source": [
    "%%timeit\n",
    "errorIndication, errorStatus, errorIndex, varBinds = next(\n",
    "    getCmd(SnmpEngine(),\n",
    "           CommunityData('centrex'),\n",
    "           UdpTransportTarget((host, 161)),\n",
    "           ContextData(),\n",
    "           *OTypes)\n",
    ")"
   ]
  },
  {
   "cell_type": "code",
   "execution_count": 11,
   "metadata": {},
   "outputs": [
    {
     "name": "stdout",
     "output_type": "stream",
     "text": [
      "SNMPv2-SMI::enterprises.476.1.42.3.9.20.1.20.1.2.1.4291 = 20.4\n",
      "SNMPv2-SMI::enterprises.476.1.42.3.9.20.1.20.1.2.1.5028 = 58.1\n",
      "SNMPv2-SMI::enterprises.476.1.42.3.9.20.1.20.1.2.1.5004 = 11.8\n",
      "SNMPv2-SMI::enterprises.476.1.42.3.9.20.1.20.1.2.1.5002 = 20.3\n",
      "SNMPv2-SMI::enterprises.476.1.42.3.9.20.1.20.1.2.1.5490 = 29\n",
      "SNMPv2-SMI::enterprises.476.1.42.3.9.20.1.20.1.2.1.5079 = 0\n",
      "SNMPv2-SMI::enterprises.476.1.42.3.9.20.1.20.1.2.1.5081 = 100\n",
      "SNMPv2-SMI::enterprises.476.1.42.3.9.20.1.20.1.2.1.5077 = 100\n",
      "SNMPv2-SMI::enterprises.476.1.42.3.9.20.1.20.1.2.1.5008 = 20.0\n",
      "SNMPv2-SMI::enterprises.476.1.42.3.9.20.1.20.1.2.1.5011 = 0.0\n",
      "SNMPv2-SMI::enterprises.476.1.42.3.9.20.1.20.1.2.1.5325 = 32.0\n",
      "SNMPv2-SMI::enterprises.476.1.42.3.9.20.1.20.1.2.1.5326 = 8.0\n",
      "SNMPv2-SMI::enterprises.476.1.42.3.9.20.1.20.1.2.1.5324 = Prop+Integral\n",
      "SNMPv2-SMI::enterprises.476.1.42.3.9.20.1.20.1.2.1.5029 = 50\n",
      "SNMPv2-SMI::enterprises.476.1.42.3.9.20.1.20.1.2.1.5032 = 10.0\n",
      "SNMPv2-SMI::enterprises.476.1.42.3.9.20.1.20.1.2.1.5341 = 15\n",
      "SNMPv2-SMI::enterprises.476.1.42.3.9.20.1.20.1.2.1.5342 = 20.0\n",
      "SNMPv2-SMI::enterprises.476.1.42.3.9.20.1.20.1.2.1.5603 = Relative\n",
      "SNMPv2-SMI::enterprises.476.1.42.3.9.20.1.20.1.2.1.5585 = 23.3\n"
     ]
    }
   ],
   "source": [
    "errorIndication, errorStatus, errorIndex, varBinds = next(\n",
    "    getCmd(SnmpEngine(),\n",
    "           CommunityData('centrex'),\n",
    "           UdpTransportTarget((host, 161)),\n",
    "           ContextData(),\n",
    "           *OTypes)\n",
    ")\n",
    "\n",
    "if errorIndication:\n",
    "    print(errorIndication)\n",
    "elif errorStatus:\n",
    "    print('%s at %s' % (errorStatus.prettyPrint(),\n",
    "                        errorIndex and varBinds[int(errorIndex) - 1][0] or '?'))\n",
    "else:\n",
    "    []\n",
    "    for varBind in varBinds:\n",
    "        print(' = '.join([x.prettyPrint() for x in varBind]))"
   ]
  },
  {
   "cell_type": "code",
   "execution_count": 24,
   "metadata": {},
   "outputs": [],
   "source": [
    "errorIndication, errorStatus, errorIndex, varBinds = next(\n",
    "    getCmd(SnmpEngine(),\n",
    "    CommunityData('centrex'),\n",
    "    UdpTransportTarget((host, 161)),\n",
    "    ContextData(),\n",
    "    *OTypes)\n",
    ")\n",
    "if errorIndication:\n",
    "    print(errorIndication)\n",
    "elif errorStatus:\n",
    "    print('%s at %s' % (errorStatus.prettyPrint(),\n",
    "                        errorIndex and varBinds[int(errorIndex) - 1][0] or '?'))\n",
    "else:\n",
    "    names, values = [], []\n",
    "    for varBind in varBinds:\n",
    "        name, value = varBind\n",
    "        names.append(name)\n",
    "        values.append(value)"
   ]
  },
  {
   "cell_type": "code",
   "execution_count": 25,
   "metadata": {},
   "outputs": [],
   "source": [
    "conv = [float, float, float, float, int, int, int, int, float, float, float, float, str, int, float, int, float, str, float]\n",
    "values = [c(v) for c, v in zip(conv, values)]"
   ]
  },
  {
   "cell_type": "code",
   "execution_count": 26,
   "metadata": {},
   "outputs": [
    {
     "data": {
      "text/plain": [
       "[19.5,\n",
       " 51.2,\n",
       " 9.1,\n",
       " 19.0,\n",
       " 16,\n",
       " 0,\n",
       " 0,\n",
       " 76,\n",
       " 20.0,\n",
       " 0.0,\n",
       " 30.0,\n",
       " 8.0,\n",
       " 'Prop+Integral',\n",
       " 50,\n",
       " 20.0,\n",
       " 15,\n",
       " 20.0,\n",
       " 'Relative',\n",
       " 23.3]"
      ]
     },
     "execution_count": 26,
     "metadata": {},
     "output_type": "execute_result"
    }
   ],
   "source": [
    "values"
   ]
  },
  {
   "cell_type": "code",
   "execution_count": null,
   "metadata": {},
   "outputs": [],
   "source": []
  }
 ],
 "metadata": {
  "kernelspec": {
   "display_name": "Python 3",
   "language": "python",
   "name": "python3"
  },
  "language_info": {
   "codemirror_mode": {
    "name": "ipython",
    "version": 3
   },
   "file_extension": ".py",
   "mimetype": "text/x-python",
   "name": "python",
   "nbconvert_exporter": "python",
   "pygments_lexer": "ipython3",
   "version": "3.6.5"
  }
 },
 "nbformat": 4,
 "nbformat_minor": 2
}
