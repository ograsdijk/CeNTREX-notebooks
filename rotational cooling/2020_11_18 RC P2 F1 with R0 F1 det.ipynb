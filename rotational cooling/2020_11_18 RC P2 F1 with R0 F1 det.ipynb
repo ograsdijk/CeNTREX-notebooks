{
 "cells": [
  {
   "cell_type": "code",
   "execution_count": 1,
   "metadata": {},
   "outputs": [],
   "source": [
    "import copy\n",
    "import numpy as np\n",
    "from tqdm import tqdm\n",
    "import matplotlib.pyplot as plt\n",
    "from collections import OrderedDict\n",
    "from scipy.signal import savgol_filter\n",
    "from utils.plot_utils import set_fontsize\n",
    "from utils.binning_utils import bin_dataset_switching\n",
    "from utils.hdf_utils import load_measurement_data_devices_attrs\n",
    "from utils.plot_utils import plot_binned_dataset_switching\n",
    "from utils.binning_utils import bin_data, find_nearest_idx, combine_arrays_irregular, \\\n",
    "                                average_binned_data, bin_dataset_switching"
   ]
  },
  {
   "cell_type": "code",
   "execution_count": 2,
   "metadata": {},
   "outputs": [],
   "source": [
    "fname = \"2020_11_18.hdf\"\n",
    "dset_name = \"1605818836 RC P2 F1 with R0 F1 det\"\n",
    "\n",
    "devices = ()"
   ]
  },
  {
   "cell_type": "code",
   "execution_count": 3,
   "metadata": {},
   "outputs": [],
   "source": [
    "pmt_channel = 1\n",
    "shutter_channel = 2\n",
    "\n",
    "pxie, pxie_time, pxie_attrs, data_devices = load_measurement_data_devices_attrs(fname, dset_name, devices)"
   ]
  },
  {
   "cell_type": "code",
   "execution_count": 4,
   "metadata": {},
   "outputs": [],
   "source": [
    "pmt_data = -np.array([pxie[idx][:,pmt_channel].astype(float) for idx in range(1,len(pxie)+1)])\n",
    "pmt_data -= pmt_data[:,150:250].mean(axis = 1)[:, np.newaxis]\n",
    "shutter_data = np.array([pxie[idx][:,shutter_channel].mean() for idx in range(1,len(pxie)+1)])"
   ]
  },
  {
   "cell_type": "code",
   "execution_count": 74,
   "metadata": {},
   "outputs": [],
   "source": [
    "def get_shutter_slice(val):\n",
    "    state = val > 2e4\n",
    "    if state:\n",
    "        return np.s_[::2], np.s_[1::2]\n",
    "    else:\n",
    "        return np.s_[1::2], np.s_[::2]"
   ]
  },
  {
   "cell_type": "code",
   "execution_count": 119,
   "metadata": {},
   "outputs": [],
   "source": [
    "nbunched = 50\n",
    "bunched = pmt_data[:int(len(pmt_data)//nbunched * nbunched),:].reshape(-1,nbunched,2000)"
   ]
  },
  {
   "cell_type": "code",
   "execution_count": 121,
   "metadata": {},
   "outputs": [
    {
     "name": "stdout",
     "output_type": "stream",
     "text": [
      "2.833 +/- 1.019\n"
     ]
    }
   ],
   "source": [
    "integrals_open = []\n",
    "integrals_closed = []\n",
    "\n",
    "for idx, bunch in enumerate(bunched):\n",
    "    slice_open, slice_closed = get_shutter_slice(shutter_data[idx*nbunched])\n",
    "    so = bunch[slice_open\n",
    "    io = np.trapz(so, axis = 1)\n",
    "    ic = np.trapz(sc, axis = 1)]\n",
    "    sc = bunch[slice_closed]\n",
    "    integrals_open.extend(io)\n",
    "    integrals_closed.extend(ic)\n",
    "    \n",
    "integrals_open = np.array(integrals_open)\n",
    "integrals_closed = np.array(integrals_closed)\n",
    "print(f'{np.mean(integrals_open)/np.mean(integrals_closed):.3f} +/- {np.std(ratios):.3f}')"
   ]
  },
  {
   "cell_type": "code",
   "execution_count": 122,
   "metadata": {},
   "outputs": [
    {
     "data": {
      "image/png": "[encoded data removed]",
      "text/plain": [
       "<Figure size 432x288 with 1 Axes>"
      ]
     },
     "metadata": {
      "needs_background": "light"
     },
     "output_type": "display_data"
    }
   ],
   "source": [
    "plt.hist(integrals_open)\n",
    "plt.hist(integrals_closed, alpha = 0.7);"
   ]
  },
  {
   "cell_type": "code",
   "execution_count": 123,
   "metadata": {},
   "outputs": [],
   "source": [
    "ratios = []\n",
    "for idx, bunch in enumerate(bunched):\n",
    "    slice_open, slice_closed = get_shutter_slice(shutter_data[idx*nbunched])\n",
    "    mo = bunch[slice_open].mean(axis = 0)\n",
    "    mc = bunch[slice_closed].mean(axis = 0)\n",
    "    io = np.trapz(mo)\n",
    "    ic = np.trapz(mc)\n",
    "    ratios.append(io/ic)"
   ]
  },
  {
   "cell_type": "code",
   "execution_count": 124,
   "metadata": {},
   "outputs": [
    {
     "name": "stdout",
     "output_type": "stream",
     "text": [
      "2.864 +/- 0.396\n"
     ]
    },
    {
     "data": {
      "image/png": "[encoded data removed]",
      "text/plain": [
       "<Figure size 576x360 with 1 Axes>"
      ]
     },
     "metadata": {
      "needs_background": "light"
     },
     "output_type": "display_data"
    }
   ],
   "source": [
    "fig, ax = plt.subplots(figsize = (8,5))\n",
    "ax.hist(ratios, bins = 15)\n",
    "\n",
    "ax.set_xlabel('ratio rc on / rc off')\n",
    "\n",
    "set_fontsize(ax, 14)\n",
    "print(f'{np.mean(ratios):.3f} +/- {np.std(ratios):.3f}')"
   ]
  },
  {
   "cell_type": "code",
   "execution_count": 125,
   "metadata": {},
   "outputs": [],
   "source": [
    "ratios = []\n",
    "for idx, bunch in enumerate(bunched):\n",
    "    slice_open, slice_closed = get_shutter_slice(shutter_data[idx*nbunched])\n",
    "    so = bunch[slice_open]\n",
    "    sc = bunch[slice_closed]\n",
    "    io = np.trapz(so, axis = 1)\n",
    "    ic = np.trapz(sc, axis = 1)\n",
    "    ratios.extend(io/ic)\n",
    "ratios = np.array(ratios)"
   ]
  },
  {
   "cell_type": "code",
   "execution_count": 126,
   "metadata": {},
   "outputs": [
    {
     "data": {
      "text/plain": [
       "(array([ 10.,  69., 324., 483., 335., 190.,  96.,  66.,  32.,  21.,  12.,\n",
       "          7.,   9.,   5.]),\n",
       " array([ 0.        ,  0.71428571,  1.42857143,  2.14285714,  2.85714286,\n",
       "         3.57142857,  4.28571429,  5.        ,  5.71428571,  6.42857143,\n",
       "         7.14285714,  7.85714286,  8.57142857,  9.28571429, 10.        ]),\n",
       " <BarContainer object of 14 artists>)"
      ]
     },
     "execution_count": 126,
     "metadata": {},
     "output_type": "execute_result"
    },
    {
     "data": {
      "image/png": "[encoded data removed]",
      "text/plain": [
       "<Figure size 432x288 with 1 Axes>"
      ]
     },
     "metadata": {
      "needs_background": "light"
     },
     "output_type": "display_data"
    }
   ],
   "source": [
    "plt.hist(ratios, bins = np.linspace(0,10,15))"
   ]
  },
  {
   "cell_type": "code",
   "execution_count": 127,
   "metadata": {},
   "outputs": [],
   "source": [
    "ratios_filtered = ratios[(ratios > 0) & (ratios < (np.mean(ratios)+2*np.std(ratios)))]"
   ]
  },
  {
   "cell_type": "code",
   "execution_count": 128,
   "metadata": {},
   "outputs": [
    {
     "data": {
      "text/plain": [
       "(array([ 10.,  69., 324., 483., 335., 190.,  96.,  66.,  32.,  21.,  12.,\n",
       "          7.,   9.,   5.]),\n",
       " array([ 0.        ,  0.71428571,  1.42857143,  2.14285714,  2.85714286,\n",
       "         3.57142857,  4.28571429,  5.        ,  5.71428571,  6.42857143,\n",
       "         7.14285714,  7.85714286,  8.57142857,  9.28571429, 10.        ]),\n",
       " <BarContainer object of 14 artists>)"
      ]
     },
     "execution_count": 128,
     "metadata": {},
     "output_type": "execute_result"
    },
    {
     "data": {
      "image/png": "[encoded data removed]",
      "text/plain": [
       "<Figure size 432x288 with 1 Axes>"
      ]
     },
     "metadata": {
      "needs_background": "light"
     },
     "output_type": "display_data"
    }
   ],
   "source": [
    "plt.hist(ratios_filtered, bins = np.linspace(0,10,15))"
   ]
  },
  {
   "cell_type": "code",
   "execution_count": 129,
   "metadata": {},
   "outputs": [
    {
     "data": {
      "text/plain": [
       "3.253634716238691"
      ]
     },
     "execution_count": 129,
     "metadata": {},
     "output_type": "execute_result"
    }
   ],
   "source": [
    "ratios_filtered.mean()"
   ]
  },
  {
   "cell_type": "code",
   "execution_count": null,
   "metadata": {},
   "outputs": [],
   "source": []
  }
 ],
 "metadata": {
  "kernelspec": {
   "display_name": "Python 3",
   "language": "python",
   "name": "python3"
  },
  "language_info": {
   "codemirror_mode": {
    "name": "ipython",
    "version": 3
   },
   "file_extension": ".py",
   "mimetype": "text/x-python",
   "name": "python",
   "nbconvert_exporter": "python",
   "pygments_lexer": "ipython3",
   "version": "3.8.5"
  }
 },
 "nbformat": 4,
 "nbformat_minor": 4
}
