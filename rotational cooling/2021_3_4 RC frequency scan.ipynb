{
 "cells": [
  {
   "cell_type": "code",
   "execution_count": 1,
   "metadata": {},
   "outputs": [],
   "source": [
    "import h5py\n",
    "import copy\n",
    "import lmfit\n",
    "import numpy as np\n",
    "from pathlib import Path\n",
    "import matplotlib.pyplot as plt\n",
    "from rich.progress import Progress\n",
    "from scipy.stats import binned_statistic\n",
    "from utils.plot_utils import set_fontsize\n",
    "from utils.hdf_utils import load_measurement_data_devices_attrs"
   ]
  },
  {
   "cell_type": "code",
   "execution_count": 2,
   "metadata": {},
   "outputs": [],
   "source": [
    "def ratio_with_error(a,b,σa,σb):\n",
    "    ratio = a/b\n",
    "    err = ratio * np.sqrt((σa/a)**2 + (σb/b)**2)\n",
    "    return ratio, err"
   ]
  },
  {
   "cell_type": "code",
   "execution_count": 3,
   "metadata": {},
   "outputs": [],
   "source": [
    "hdf_dir = Path(\"../data\")"
   ]
  },
  {
   "cell_type": "code",
   "execution_count": 4,
   "metadata": {},
   "outputs": [],
   "source": [
    "yag_channel = 0\n",
    "pmt_channel = 1\n",
    "pd_channel = 2\n",
    "pdn_channel = 3\n",
    "shutter_channel = 4"
   ]
  },
  {
   "cell_type": "code",
   "execution_count": 5,
   "metadata": {},
   "outputs": [
    {
     "data": {
      "text/plain": [
       "['1614893051 scan R0 F1',\n",
       " '1614893269 scan R0 F1',\n",
       " '1614896743 scan P2 F1',\n",
       " '1614898342 scan P2 F1',\n",
       " '1614898389 scan P2 F1 with shutter',\n",
       " '1614905284 scan P2 F1 with shutter',\n",
       " '1614907957 scan R0 F1 with shutter',\n",
       " '1614908670 scan P2 F1 with shutter',\n",
       " '1614908698 scan P2 F1 with shutter']"
      ]
     },
     "execution_count": 5,
     "metadata": {},
     "output_type": "execute_result"
    }
   ],
   "source": [
    "fname = \"2021_3_4.hdf\"\n",
    "\n",
    "with h5py.File(hdf_dir / fname, 'r') as f:\n",
    "    dset_names = list(f.keys())\n",
    "dset_names"
   ]
  },
  {
   "cell_type": "markdown",
   "metadata": {},
   "source": [
    "# Run 1 with 60 mW DET and 40 mW RC"
   ]
  },
  {
   "cell_type": "code",
   "execution_count": 6,
   "metadata": {},
   "outputs": [],
   "source": [
    "dset_name = \"1614898389 scan P2 F1 with shutter\"\n",
    "devices = ()"
   ]
  },
  {
   "cell_type": "code",
   "execution_count": 7,
   "metadata": {},
   "outputs": [],
   "source": [
    "slice_flm  = np.s_[100:250]\n",
    "slice_absm = np.s_[-500:]\n",
    "slice_fli  = np.s_[100:]\n",
    "slice_absi = np.s_[10:]\n",
    "\n",
    "nbunch = 5"
   ]
  },
  {
   "cell_type": "code",
   "execution_count": 8,
   "metadata": {},
   "outputs": [],
   "source": [
    "scan_parameter = \"Laser Lock 1 SetLockPointSeed1\""
   ]
  },
  {
   "cell_type": "code",
   "execution_count": 9,
   "metadata": {},
   "outputs": [],
   "source": [
    "pxie, pxie_time, pxie_attrs, data_devices = load_measurement_data_devices_attrs(hdf_dir / fname, dset_name, devices)\n",
    "\n",
    "yag_data = np.array([pxie[idx][:,yag_channel] for idx in range(1,len(pxie)+1)])\n",
    "pmt_data = -np.array([pxie[idx][:,pmt_channel].astype(float) for idx in range(1,len(pxie)+1)])\n",
    "pd_data = np.array([pxie[idx][:,pd_channel].astype(float) for idx in range(1,len(pxie)+1)])\n",
    "pdn_data = np.array([pxie[idx][:,pdn_channel].astype(float) for idx in range(1,len(pxie)+1)])\n",
    "shutter_data = np.array([pxie[idx][:,shutter_channel].astype(float) for idx in range(1,len(pxie)+1)])\n",
    "\n",
    "scan_parameters = np.array([float(pxie_attrs[idx][scan_parameter]) for idx in range(1,len(pxie)+1)])\n",
    "\n",
    "norm_data = -pd_data/pdn_data\n",
    "\n",
    "dset_len = yag_data[0].size\n",
    "\n",
    "total_len = int((nbunch) * (yag_data.size//(dset_len*nbunch)))\n",
    "\n",
    "yag_data = yag_data[:total_len]\n",
    "pmt_data = pmt_data[:total_len]\n",
    "pd_data = pd_data[:total_len]\n",
    "pdn_data = pdn_data[:total_len]\n",
    "norm_data = norm_data[:total_len]\n",
    "shutter_data = shutter_data[:total_len]"
   ]
  },
  {
   "cell_type": "code",
   "execution_count": 10,
   "metadata": {},
   "outputs": [],
   "source": [
    "pmt_data_norm = pmt_data.copy()\n",
    "norm_data_norm = norm_data.copy()\n",
    "\n",
    "pmt_data_norm -= pmt_data_norm[:,slice_flm].mean(axis = 1)[:, np.newaxis]\n",
    "norm_data_norm -= norm_data_norm[:,slice_absm].mean(axis = 1)[:, np.newaxis]\n",
    "\n",
    "mask_yag = yag_data.max(axis = 1) < 500\n",
    "mask_abs = np.trapz(norm_data_norm[:,slice_absi], axis = 1) < 0.7\n",
    "\n",
    "mask = mask_yag | mask_abs\n",
    "\n",
    "pmt_data_norm[mask] = np.nan\n",
    "norm_data_norm[mask] = np.nan"
   ]
  },
  {
   "cell_type": "code",
   "execution_count": 11,
   "metadata": {},
   "outputs": [],
   "source": [
    "fluorescence_integral = np.trapz(pmt_data_norm[:,slice_fli], axis = 1)\n",
    "absorption_integral = np.trapz(norm_data_norm[:,slice_absi], axis = 1)\n",
    "\n",
    "mask_sh_open = shutter_data.max(axis = 1) > 10000\n",
    "mask_sh_closed = ~mask_sh_open\n",
    "\n",
    "bin_width = np.diff(np.unique(scan_parameters)).min()\n",
    "bins = np.arange(np.unique(scan_parameters).min()-bin_width/2, np.unique(scan_parameters).max()+bin_width/2, bin_width)\n",
    "\n",
    "results = []\n",
    "for m in [mask_sh_open, mask_sh_closed]:\n",
    "    stat, bin_edges, bin_number = binned_statistic(scan_parameters[m], (fluorescence_integral/absorption_integral)[m], lambda x: np.nanmean(x), bins = bins)\n",
    "    err, _, _ = binned_statistic(scan_parameters[m], (fluorescence_integral/absorption_integral)[m], lambda x: np.nanstd(x)/np.sqrt(len(x)-1), bins = bins)\n",
    "    results.append((stat, err, bin_number))\n",
    "    \n",
    "bin_means = bin_edges[:-1]+bin_width/2"
   ]
  },
  {
   "cell_type": "code",
   "execution_count": 12,
   "metadata": {},
   "outputs": [
    {
     "data": {
      "image/png": "[encoded data removed]",
      "text/plain": [
       "<Figure size 576x360 with 1 Axes>"
      ]
     },
     "metadata": {
      "needs_background": "light"
     },
     "output_type": "display_data"
    },
    {
     "data": {
      "image/png": "[encoded data removed]",
      "text/plain": [
       "<Figure size 576x360 with 1 Axes>"
      ]
     },
     "metadata": {
      "needs_background": "light"
     },
     "output_type": "display_data"
    }
   ],
   "source": [
    "fig, ax = plt.subplots(figsize = (8,5))\n",
    "ax.errorbar(bin_means, results[0][0], yerr = results[0][1], fmt = '.', label = 'RC on')\n",
    "ax.errorbar(bin_means, results[1][0], yerr = results[1][1], fmt = '.', label = 'RC off')\n",
    "\n",
    "ax.set_xlabel('IR frequency [MHz]')\n",
    "ax.set_ylabel('normalized signal [arb.]')\n",
    "\n",
    "set_fontsize(ax, 14)\n",
    "\n",
    "ratio, err = ratio_with_error(results[0][0], results[1][0], results[0][1], results[1][1])\n",
    "\n",
    "fig, ax = plt.subplots(figsize = (8,5))\n",
    "ax.errorbar(bin_means, ratio, yerr = err, fmt = '.')\n",
    "\n",
    "ax.set_xlabel('IR frequency [MHz]')\n",
    "ax.set_ylabel('ratio')\n",
    "\n",
    "set_fontsize(ax, 14)"
   ]
  },
  {
   "cell_type": "markdown",
   "metadata": {},
   "source": [
    "# Run 2 with 60 mW DET and 37 mW RC"
   ]
  },
  {
   "cell_type": "code",
   "execution_count": 13,
   "metadata": {},
   "outputs": [],
   "source": [
    "dset_name = \"1614905284 scan P2 F1 with shutter\"\n",
    "devices = ()"
   ]
  },
  {
   "cell_type": "code",
   "execution_count": 14,
   "metadata": {},
   "outputs": [],
   "source": [
    "slice_flm  = np.s_[100:250]\n",
    "slice_absm = np.s_[-500:]\n",
    "slice_fli  = np.s_[100:]\n",
    "slice_absi = np.s_[10:]"
   ]
  },
  {
   "cell_type": "code",
   "execution_count": 15,
   "metadata": {},
   "outputs": [],
   "source": [
    "scan_parameter = \"Laser Lock 1 SetLockPointSeed1\""
   ]
  },
  {
   "cell_type": "code",
   "execution_count": 16,
   "metadata": {},
   "outputs": [
    {
     "name": "stderr",
     "output_type": "stream",
     "text": [
      "C:\\Users\\CeNTREX\\Anaconda3\\lib\\site-packages\\ipykernel_launcher.py:11: RuntimeWarning: divide by zero encountered in true_divide\n",
      "  # This is added back by InteractiveShellApp.init_path()\n"
     ]
    }
   ],
   "source": [
    "pxie, pxie_time, pxie_attrs, data_devices = load_measurement_data_devices_attrs(hdf_dir / fname, dset_name, devices)\n",
    "\n",
    "yag_data = np.array([pxie[idx][:,yag_channel] for idx in range(1,len(pxie)+1)])\n",
    "pmt_data = -np.array([pxie[idx][:,pmt_channel].astype(float) for idx in range(1,len(pxie)+1)])\n",
    "pd_data = np.array([pxie[idx][:,pd_channel].astype(float) for idx in range(1,len(pxie)+1)])\n",
    "pdn_data = np.array([pxie[idx][:,pdn_channel].astype(float) for idx in range(1,len(pxie)+1)])\n",
    "shutter_data = np.array([pxie[idx][:,shutter_channel].astype(float) for idx in range(1,len(pxie)+1)])\n",
    "\n",
    "scan_parameters = np.array([float(pxie_attrs[idx][scan_parameter]) for idx in range(1,len(pxie)+1)])\n",
    "\n",
    "norm_data = -pd_data/pdn_data"
   ]
  },
  {
   "cell_type": "code",
   "execution_count": 17,
   "metadata": {},
   "outputs": [
    {
     "name": "stderr",
     "output_type": "stream",
     "text": [
      "C:\\Users\\CeNTREX\\Anaconda3\\lib\\site-packages\\ipykernel_launcher.py:5: RuntimeWarning: invalid value encountered in subtract\n",
      "  \"\"\"\n"
     ]
    }
   ],
   "source": [
    "pmt_data_norm = pmt_data.copy()\n",
    "norm_data_norm = norm_data.copy()\n",
    "\n",
    "pmt_data_norm -= pmt_data_norm[:,slice_flm].mean(axis = 1)[:, np.newaxis]\n",
    "norm_data_norm -= norm_data_norm[:,slice_absm].mean(axis = 1)[:, np.newaxis]\n",
    "\n",
    "mask_yag = yag_data.max(axis = 1) < 500\n",
    "mask_abs = np.trapz(norm_data_norm[:,slice_absi], axis = 1) < 0.7\n",
    "\n",
    "mask = mask_yag | mask_abs\n",
    "\n",
    "pmt_data_norm[mask] = np.nan\n",
    "norm_data_norm[mask] = np.nan"
   ]
  },
  {
   "cell_type": "code",
   "execution_count": 18,
   "metadata": {},
   "outputs": [],
   "source": [
    "fluorescence_integral = np.trapz(pmt_data_norm[:,slice_fli], axis = 1)\n",
    "absorption_integral = np.trapz(norm_data_norm[:,slice_absi], axis = 1)\n",
    "\n",
    "mask_sh_open = shutter_data.max(axis = 1) > 10000\n",
    "mask_sh_closed = ~mask_sh_open\n",
    "\n",
    "bin_width = np.diff(np.unique(scan_parameters)).min()\n",
    "bins = np.arange(np.unique(scan_parameters).min()-bin_width/2, np.unique(scan_parameters).max()+bin_width/2, bin_width)\n",
    "\n",
    "results = []\n",
    "for m in [mask_sh_open, mask_sh_closed]:\n",
    "    stat, bin_edges, bin_number = binned_statistic(scan_parameters[m], (fluorescence_integral/absorption_integral)[m], lambda x: np.nanmean(x), bins = bins)\n",
    "    err, _, _ = binned_statistic(scan_parameters[m], (fluorescence_integral/absorption_integral)[m], lambda x: np.nanstd(x)/np.sqrt(len(x)-1), bins = bins)\n",
    "    results.append((stat, err, bin_number))\n",
    "    \n",
    "bin_means = bin_edges[:-1]+bin_width/2"
   ]
  },
  {
   "cell_type": "code",
   "execution_count": 19,
   "metadata": {},
   "outputs": [
    {
     "data": {
      "image/png": "[encoded data removed]",
      "text/plain": [
       "<Figure size 576x360 with 1 Axes>"
      ]
     },
     "metadata": {
      "needs_background": "light"
     },
     "output_type": "display_data"
    },
    {
     "data": {
      "image/png": "[encoded data removed]",
      "text/plain": [
       "<Figure size 576x360 with 1 Axes>"
      ]
     },
     "metadata": {
      "needs_background": "light"
     },
     "output_type": "display_data"
    }
   ],
   "source": [
    "fig, ax = plt.subplots(figsize = (8,5))\n",
    "ax.errorbar(bin_means, results[0][0], yerr = results[0][1], fmt = '.', label = 'RC on')\n",
    "ax.errorbar(bin_means, results[1][0], yerr = results[1][1], fmt = '.', label = 'RC off')\n",
    "\n",
    "ax.set_xlabel('IR frequency [MHz]')\n",
    "ax.set_ylabel('normalized signal [arb.]')\n",
    "\n",
    "set_fontsize(ax, 14)\n",
    "\n",
    "ratio, err = ratio_with_error(results[0][0], results[1][0], results[0][1], results[1][1])\n",
    "\n",
    "ratio, err = ratio_with_error(results[0][0], results[1][0], results[0][1], results[1][1])\n",
    "\n",
    "fig, ax = plt.subplots(figsize = (8,5))\n",
    "ax.errorbar(bin_means, ratio, yerr = err, fmt = '.')\n",
    "\n",
    "ax.set_xlabel('IR frequency [MHz]')\n",
    "ax.set_ylabel('ratio')\n",
    "\n",
    "set_fontsize(ax, 14)"
   ]
  },
  {
   "cell_type": "markdown",
   "metadata": {},
   "source": [
    "# Run 3 with 60 mW DET and 37 mW RC, scanning R0 F1"
   ]
  },
  {
   "cell_type": "code",
   "execution_count": 20,
   "metadata": {},
   "outputs": [],
   "source": [
    "dset_name = \"1614907957 scan R0 F1 with shutter\"\n",
    "devices = ()"
   ]
  },
  {
   "cell_type": "code",
   "execution_count": 21,
   "metadata": {},
   "outputs": [],
   "source": [
    "slice_flm  = np.s_[100:250]\n",
    "slice_absm = np.s_[-500:]\n",
    "slice_fli  = np.s_[100:]\n",
    "slice_absi = np.s_[10:]"
   ]
  },
  {
   "cell_type": "code",
   "execution_count": 22,
   "metadata": {},
   "outputs": [],
   "source": [
    "scan_parameter = \"Laser Lock 1 SetLockPointSeed2\""
   ]
  },
  {
   "cell_type": "code",
   "execution_count": 23,
   "metadata": {},
   "outputs": [
    {
     "name": "stderr",
     "output_type": "stream",
     "text": [
      "C:\\Users\\CeNTREX\\Anaconda3\\lib\\site-packages\\ipykernel_launcher.py:11: RuntimeWarning: divide by zero encountered in true_divide\n",
      "  # This is added back by InteractiveShellApp.init_path()\n"
     ]
    }
   ],
   "source": [
    "pxie, pxie_time, pxie_attrs, data_devices = load_measurement_data_devices_attrs(hdf_dir / fname, dset_name, devices)\n",
    "\n",
    "yag_data = np.array([pxie[idx][:,yag_channel] for idx in range(1,len(pxie)+1)])\n",
    "pmt_data = -np.array([pxie[idx][:,pmt_channel].astype(float) for idx in range(1,len(pxie)+1)])\n",
    "pd_data = np.array([pxie[idx][:,pd_channel].astype(float) for idx in range(1,len(pxie)+1)])\n",
    "pdn_data = np.array([pxie[idx][:,pdn_channel].astype(float) for idx in range(1,len(pxie)+1)])\n",
    "shutter_data = np.array([pxie[idx][:,shutter_channel].astype(float) for idx in range(1,len(pxie)+1)])\n",
    "\n",
    "scan_parameters = np.array([float(pxie_attrs[idx][scan_parameter]) for idx in range(1,len(pxie)+1)])\n",
    "\n",
    "norm_data = -pd_data/pdn_data"
   ]
  },
  {
   "cell_type": "code",
   "execution_count": 24,
   "metadata": {},
   "outputs": [],
   "source": [
    "pmt_data_norm = pmt_data.copy()\n",
    "norm_data_norm = norm_data.copy()\n",
    "\n",
    "pmt_data_norm -= pmt_data_norm[:,slice_flm].mean(axis = 1)[:, np.newaxis]\n",
    "norm_data_norm -= norm_data_norm[:,slice_absm].mean(axis = 1)[:, np.newaxis]\n",
    "\n",
    "mask_yag = yag_data.max(axis = 1) < 500\n",
    "mask_abs = np.trapz(norm_data_norm[:,slice_absi], axis = 1) < 0.7\n",
    "mask_pdn = pdn_data.max(axis =1) > 20000\n",
    "\n",
    "mask = mask_yag | mask_abs\n",
    "\n",
    "pmt_data_norm[mask] = np.nan\n",
    "norm_data_norm[mask] = np.nan"
   ]
  },
  {
   "cell_type": "code",
   "execution_count": 25,
   "metadata": {},
   "outputs": [],
   "source": [
    "fluorescence_integral = np.trapz(pmt_data_norm[:,slice_fli], axis = 1)\n",
    "absorption_integral = np.trapz(norm_data_norm[:,slice_absi], axis = 1)\n",
    "\n",
    "mask_sh_open = shutter_data.max(axis = 1) > 10000\n",
    "mask_sh_closed = ~mask_sh_open\n",
    "\n",
    "bin_width = np.diff(np.unique(scan_parameters)).min()\n",
    "bins = np.arange(np.unique(scan_parameters).min()-bin_width/2, np.unique(scan_parameters).max()+bin_width/2, bin_width)\n",
    "\n",
    "results = []\n",
    "for m in [mask_sh_open, mask_sh_closed]:\n",
    "    stat, bin_edges, bin_number = binned_statistic(scan_parameters[m], (fluorescence_integral/absorption_integral)[m], lambda x: np.nanmean(x), bins = bins)\n",
    "    err, _, _ = binned_statistic(scan_parameters[m], (fluorescence_integral/absorption_integral)[m], lambda x: np.nanstd(x)/np.sqrt(len(x)-1), bins = bins)\n",
    "    results.append((stat, err, bin_number))\n",
    "    \n",
    "bin_means = bin_edges[:-1]+bin_width/2"
   ]
  },
  {
   "cell_type": "code",
   "execution_count": 26,
   "metadata": {},
   "outputs": [
    {
     "data": {
      "image/png": "[encoded data removed]",
      "text/plain": [
       "<Figure size 576x360 with 1 Axes>"
      ]
     },
     "metadata": {
      "needs_background": "light"
     },
     "output_type": "display_data"
    },
    {
     "data": {
      "image/png": "[encoded data removed]",
      "text/plain": [
       "<Figure size 576x360 with 1 Axes>"
      ]
     },
     "metadata": {
      "needs_background": "light"
     },
     "output_type": "display_data"
    }
   ],
   "source": [
    "fig, ax = plt.subplots(figsize = (8,5))\n",
    "ax.errorbar(bin_means, results[0][0], yerr = results[0][1], fmt = '.', label = 'RC on')\n",
    "ax.errorbar(bin_means, results[1][0], yerr = results[1][1], fmt = '.', label = 'RC off')\n",
    "\n",
    "ax.set_xlabel('IR frequency [MHz]')\n",
    "ax.set_ylabel('normalized signal [arb.]')\n",
    "\n",
    "set_fontsize(ax, 14)\n",
    "\n",
    "ratio, err = ratio_with_error(results[0][0], results[1][0], results[0][1], results[1][1])\n",
    "\n",
    "fig, ax = plt.subplots(figsize = (8,5))\n",
    "ax.errorbar(bin_means, ratio, yerr = err, fmt = '.')\n",
    "\n",
    "ax.set_xlabel('IR frequency [MHz]')\n",
    "ax.set_ylabel('ratio')\n",
    "\n",
    "set_fontsize(ax, 14)"
   ]
  },
  {
   "cell_type": "markdown",
   "metadata": {},
   "source": [
    "# Run 4 with 60 mW DET and 34 mW RC"
   ]
  },
  {
   "cell_type": "code",
   "execution_count": 27,
   "metadata": {},
   "outputs": [],
   "source": [
    "dset_name = '1614908698 scan P2 F1 with shutter'\n",
    "devices = ()"
   ]
  },
  {
   "cell_type": "code",
   "execution_count": 28,
   "metadata": {},
   "outputs": [],
   "source": [
    "slice_flm  = np.s_[100:250]\n",
    "slice_absm = np.s_[-500:]\n",
    "slice_fli  = np.s_[100:]\n",
    "slice_absi = np.s_[10:]"
   ]
  },
  {
   "cell_type": "code",
   "execution_count": 29,
   "metadata": {},
   "outputs": [],
   "source": [
    "scan_parameter = \"Laser Lock 1 SetLockPointSeed1\""
   ]
  },
  {
   "cell_type": "code",
   "execution_count": 30,
   "metadata": {},
   "outputs": [
    {
     "name": "stderr",
     "output_type": "stream",
     "text": [
      "C:\\Users\\CeNTREX\\Anaconda3\\lib\\site-packages\\ipykernel_launcher.py:11: RuntimeWarning: divide by zero encountered in true_divide\n",
      "  # This is added back by InteractiveShellApp.init_path()\n"
     ]
    }
   ],
   "source": [
    "pxie, pxie_time, pxie_attrs, data_devices = load_measurement_data_devices_attrs(hdf_dir / fname, dset_name, devices)\n",
    "\n",
    "yag_data = np.array([pxie[idx][:,yag_channel] for idx in range(1,len(pxie)+1)])\n",
    "pmt_data = -np.array([pxie[idx][:,pmt_channel].astype(float) for idx in range(1,len(pxie)+1)])\n",
    "pd_data = np.array([pxie[idx][:,pd_channel].astype(float) for idx in range(1,len(pxie)+1)])\n",
    "pdn_data = np.array([pxie[idx][:,pdn_channel].astype(float) for idx in range(1,len(pxie)+1)])\n",
    "shutter_data = np.array([pxie[idx][:,shutter_channel].astype(float) for idx in range(1,len(pxie)+1)])\n",
    "\n",
    "scan_parameters = np.array([float(pxie_attrs[idx][scan_parameter]) for idx in range(1,len(pxie)+1)])\n",
    "\n",
    "norm_data = -pd_data/pdn_data"
   ]
  },
  {
   "cell_type": "code",
   "execution_count": 31,
   "metadata": {},
   "outputs": [
    {
     "name": "stderr",
     "output_type": "stream",
     "text": [
      "C:\\Users\\CeNTREX\\Anaconda3\\lib\\site-packages\\ipykernel_launcher.py:5: RuntimeWarning: invalid value encountered in subtract\n",
      "  \"\"\"\n"
     ]
    }
   ],
   "source": [
    "pmt_data_norm = pmt_data.copy()\n",
    "norm_data_norm = norm_data.copy()\n",
    "\n",
    "pmt_data_norm -= pmt_data_norm[:,slice_flm].mean(axis = 1)[:, np.newaxis]\n",
    "norm_data_norm -= norm_data_norm[:,slice_absm].mean(axis = 1)[:, np.newaxis]\n",
    "\n",
    "mask_yag = yag_data.max(axis = 1) < 500\n",
    "mask_abs = (np.trapz(norm_data_norm[:,slice_absi], axis = 1) < 0.7) | (np.trapz(norm_data_norm[:,slice_absi], axis = 1) > 10)\n",
    "\n",
    "mask = mask_yag | mask_abs\n",
    "\n",
    "pmt_data_norm[mask] = np.nan\n",
    "norm_data_norm[mask] = np.nan"
   ]
  },
  {
   "cell_type": "code",
   "execution_count": 32,
   "metadata": {},
   "outputs": [],
   "source": [
    "def filter_per_bin(bin_numbers, fluorescence, absorption, deviation = 1.5):\n",
    "    filtered = {}\n",
    "    for bn in np.unique(bin_numbers):\n",
    "        ab_bn = absorption[bin_numbers == bn]\n",
    "        μ, σ = np.nanmean(ab_bn), np.nanmean(ab_bn)\n",
    "        mask = (ab_bn <= μ + σ*deviation) & (ab_bn >= μ-σ*deviation)\n",
    "        filtered[bn] = fluorescence[bin_numbers == bn][mask]/ab_bn[mask]\n",
    "    return filtered"
   ]
  },
  {
   "cell_type": "code",
   "execution_count": 33,
   "metadata": {},
   "outputs": [],
   "source": [
    "fluorescence_integral = np.trapz(pmt_data_norm[:,slice_fli], axis = 1)\n",
    "absorption_integral = np.trapz(norm_data_norm[:,slice_absi], axis = 1)\n",
    "\n",
    "mask_sh_open = shutter_data.max(axis = 1) > 10000\n",
    "mask_sh_closed = ~mask_sh_open\n",
    "\n",
    "bin_width = np.diff(np.unique(scan_parameters)).min()\n",
    "bins = np.arange(np.unique(scan_parameters).min()-bin_width/2, np.unique(scan_parameters).max()+bin_width, bin_width)\n",
    "\n",
    "filtered = []\n",
    "results = []\n",
    "for m in [mask_sh_open, mask_sh_closed]:\n",
    "    stat, bin_edges, bin_number = binned_statistic(scan_parameters[m], (fluorescence_integral/absorption_integral)[m], lambda x: np.nanmean(x), bins = bins)\n",
    "    err, _, _ = binned_statistic(scan_parameters[m], (fluorescence_integral/absorption_integral)[m], lambda x: np.nanstd(x)/np.sqrt(len(x)-1), bins = bins)\n",
    "    results.append((stat, err, bin_number))\n",
    "    filtered.append(filter_per_bin(bin_number, fluorescence_integral[m], absorption_integral[m]))\n",
    "    \n",
    "bin_means = bin_edges[:-1]+bin_width/2"
   ]
  },
  {
   "cell_type": "code",
   "execution_count": 34,
   "metadata": {},
   "outputs": [
    {
     "data": {
      "image/png": "[encoded data removed]",
      "text/plain": [
       "<Figure size 432x288 with 1 Axes>"
      ]
     },
     "metadata": {
      "needs_background": "light"
     },
     "output_type": "display_data"
    }
   ],
   "source": [
    "plt.hist(absorption_integral[~np.isnan(absorption_integral)], bins = np.arange(-2,20,0.5));"
   ]
  },
  {
   "cell_type": "code",
   "execution_count": 35,
   "metadata": {},
   "outputs": [
    {
     "data": {
      "image/png": "[encoded data removed]",
      "text/plain": [
       "<Figure size 576x360 with 1 Axes>"
      ]
     },
     "metadata": {
      "needs_background": "light"
     },
     "output_type": "display_data"
    },
    {
     "data": {
      "image/png": "[encoded data removed]",
      "text/plain": [
       "<Figure size 576x360 with 1 Axes>"
      ]
     },
     "metadata": {
      "needs_background": "light"
     },
     "output_type": "display_data"
    }
   ],
   "source": [
    "fig, ax = plt.subplots(figsize = (8,5))\n",
    "ax.errorbar(bin_means, results[0][0], yerr = results[0][1], fmt = '.', label = 'RC on')\n",
    "ax.errorbar(bin_means, results[1][0], yerr = results[1][1], fmt = '.', label = 'RC off')\n",
    "\n",
    "ax.set_xlabel('IR frequency [MHz]')\n",
    "ax.set_ylabel('normalized signal [arb.]')\n",
    "\n",
    "set_fontsize(ax, 14)\n",
    "\n",
    "ratio, err = ratio_with_error(results[0][0], results[1][0], results[0][1], results[1][1])\n",
    "\n",
    "fig, ax = plt.subplots(figsize = (8,5))\n",
    "ax.errorbar(bin_means, ratio, yerr = err, fmt = '.')\n",
    "\n",
    "ax.set_xlabel('IR frequency [MHz]')\n",
    "ax.set_ylabel('ratio')\n",
    "\n",
    "set_fontsize(ax, 14)"
   ]
  },
  {
   "cell_type": "code",
   "execution_count": 36,
   "metadata": {},
   "outputs": [
    {
     "ename": "MemoryError",
     "evalue": "",
     "output_type": "error",
     "traceback": [
      "\u001b[1;31m---------------------------------------------------------------------------\u001b[0m",
      "\u001b[1;31mMemoryError\u001b[0m                               Traceback (most recent call last)",
      "\u001b[1;32m<ipython-input-36-609fed28efbf>\u001b[0m in \u001b[0;36m<module>\u001b[1;34m()\u001b[0m\n\u001b[0;32m     10\u001b[0m \u001b[1;33m\u001b[0m\u001b[0m\n\u001b[0;32m     11\u001b[0m \u001b[0mys\u001b[0m \u001b[1;33m=\u001b[0m \u001b[0mnp\u001b[0m\u001b[1;33m.\u001b[0m\u001b[0masarray\u001b[0m\u001b[1;33m(\u001b[0m\u001b[0mys\u001b[0m\u001b[1;33m)\u001b[0m\u001b[1;33m\u001b[0m\u001b[0m\n\u001b[1;32m---> 12\u001b[1;33m \u001b[0myerrs\u001b[0m \u001b[1;33m=\u001b[0m \u001b[0mnp\u001b[0m\u001b[1;33m.\u001b[0m\u001b[0masarray\u001b[0m\u001b[1;33m(\u001b[0m\u001b[0myerrs\u001b[0m\u001b[1;33m)\u001b[0m\u001b[1;33m\u001b[0m\u001b[0m\n\u001b[0m\u001b[0;32m     13\u001b[0m \u001b[1;33m\u001b[0m\u001b[0m\n\u001b[0;32m     14\u001b[0m \u001b[0max\u001b[0m\u001b[1;33m.\u001b[0m\u001b[0mset_xlabel\u001b[0m\u001b[1;33m(\u001b[0m\u001b[1;34m'IR frequency [MHz]'\u001b[0m\u001b[1;33m)\u001b[0m\u001b[1;33m\u001b[0m\u001b[0m\n",
      "\u001b[1;32m~\\Anaconda3\\lib\\site-packages\\numpy\\core\\_asarray.py\u001b[0m in \u001b[0;36masarray\u001b[1;34m(a, dtype, order, like)\u001b[0m\n\u001b[0;32m    100\u001b[0m         \u001b[1;32mreturn\u001b[0m \u001b[0m_asarray_with_like\u001b[0m\u001b[1;33m(\u001b[0m\u001b[0ma\u001b[0m\u001b[1;33m,\u001b[0m \u001b[0mdtype\u001b[0m\u001b[1;33m=\u001b[0m\u001b[0mdtype\u001b[0m\u001b[1;33m,\u001b[0m \u001b[0morder\u001b[0m\u001b[1;33m=\u001b[0m\u001b[0morder\u001b[0m\u001b[1;33m,\u001b[0m \u001b[0mlike\u001b[0m\u001b[1;33m=\u001b[0m\u001b[0mlike\u001b[0m\u001b[1;33m)\u001b[0m\u001b[1;33m\u001b[0m\u001b[0m\n\u001b[0;32m    101\u001b[0m \u001b[1;33m\u001b[0m\u001b[0m\n\u001b[1;32m--> 102\u001b[1;33m     \u001b[1;32mreturn\u001b[0m \u001b[0marray\u001b[0m\u001b[1;33m(\u001b[0m\u001b[0ma\u001b[0m\u001b[1;33m,\u001b[0m \u001b[0mdtype\u001b[0m\u001b[1;33m,\u001b[0m \u001b[0mcopy\u001b[0m\u001b[1;33m=\u001b[0m\u001b[1;32mFalse\u001b[0m\u001b[1;33m,\u001b[0m \u001b[0morder\u001b[0m\u001b[1;33m=\u001b[0m\u001b[0morder\u001b[0m\u001b[1;33m)\u001b[0m\u001b[1;33m\u001b[0m\u001b[0m\n\u001b[0m\u001b[0;32m    103\u001b[0m \u001b[1;33m\u001b[0m\u001b[0m\n\u001b[0;32m    104\u001b[0m \u001b[1;33m\u001b[0m\u001b[0m\n",
      "\u001b[1;31mMemoryError\u001b[0m: "
     ]
    },
    {
     "data": {
      "image/png": "[encoded data removed]",
      "text/plain": [
       "<Figure size 576x360 with 1 Axes>"
      ]
     },
     "metadata": {
      "needs_background": "light"
     },
     "output_type": "display_data"
    }
   ],
   "source": [
    "fig, ax = plt.subplots(figsize = (8,5))\n",
    "\n",
    "ys, yerrs = [],[]\n",
    "for f,l in zip(filtered, ['RC on', 'RC off']):\n",
    "    y = [np.nanmean(vals) for vals in f.values()]\n",
    "    yerr = [np.nanstd(vals)/np.sqrt(len(vals)-1) for vals in f.values()]\n",
    "    ys.append(y)\n",
    "    yerrs.append(yerrs)\n",
    "    ax.errorbar(bin_means, y, yerr, fmt = '.', label = l)\n",
    "\n",
    "ys = np.asarray(ys)\n",
    "yerrs = np.asarray(yerrs)\n",
    "    \n",
    "ax.set_xlabel('IR frequency [MHz]')\n",
    "ax.set_ylabel('normalized signal [arb.]')\n",
    "\n",
    "set_fontsize(ax, 14)\n",
    "\n",
    "ratio, err = ratio_with_error(ys[0], ys[1], yerrs[0], yerrs[1])\n",
    "\n",
    "fig, ax = plt.subplots(figsize = (8,5))\n",
    "ax.errorbar(bin_means, ratio, yerr = err, fmt = '.')\n",
    "\n",
    "ax.set_xlabel('IR frequency [MHz]')\n",
    "ax.set_ylabel('ratio')\n",
    "\n",
    "set_fontsize(ax, 14)"
   ]
  },
  {
   "cell_type": "code",
   "execution_count": null,
   "metadata": {},
   "outputs": [],
   "source": []
  },
  {
   "cell_type": "code",
   "execution_count": null,
   "metadata": {},
   "outputs": [],
   "source": []
  }
 ],
 "metadata": {
  "kernelspec": {
   "display_name": "Python 3",
   "language": "python",
   "name": "python3"
  },
  "language_info": {
   "codemirror_mode": {
    "name": "ipython",
    "version": 3
   },
   "file_extension": ".py",
   "mimetype": "text/x-python",
   "name": "python",
   "nbconvert_exporter": "python",
   "pygments_lexer": "ipython3",
   "version": "3.7.0"
  }
 },
 "nbformat": 4,
 "nbformat_minor": 2
}
