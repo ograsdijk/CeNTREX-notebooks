{
 "cells": [
  {
   "cell_type": "code",
   "execution_count": 190,
   "metadata": {},
   "outputs": [],
   "source": [
    "import h5py\n",
    "import copy\n",
    "import lmfit\n",
    "import numpy as np\n",
    "from pathlib import Path\n",
    "import matplotlib.pyplot as plt\n",
    "from rich.progress import Progress\n",
    "from scipy.stats import binned_statistic\n",
    "from utils.plot_utils import set_fontsize\n",
    "from utils.hdf_utils import load_measurement_data_devices_attrs"
   ]
  },
  {
   "cell_type": "code",
   "execution_count": 191,
   "metadata": {},
   "outputs": [],
   "source": [
    "def ratio_with_error(a,b,σa,σb):\n",
    "    ratio = a/b\n",
    "    err = ratio * np.sqrt((σa/a)**2 + (σb/b)**2)\n",
    "    return ratio, err"
   ]
  },
  {
   "cell_type": "code",
   "execution_count": 192,
   "metadata": {},
   "outputs": [],
   "source": [
    "hdf_dir = Path(\"../data\")"
   ]
  },
  {
   "cell_type": "code",
   "execution_count": 193,
   "metadata": {},
   "outputs": [],
   "source": [
    "yag_channel = 0\n",
    "pmt_channel = 1\n",
    "pd_channel = 2\n",
    "pdn_channel = 3\n",
    "shutter_channel = 4\n",
    "pdrc_channel = 5"
   ]
  },
  {
   "cell_type": "code",
   "execution_count": 333,
   "metadata": {},
   "outputs": [
    {
     "name": "stdout",
     "output_type": "stream",
     "text": [
      "0  <> 1615922769 scan R0 F1 (J12 and J23 microwaves and P2 F1 RC)  : 321\n",
      "1  <> 1615923107 scan P2 F1 (J12 and J23 microwaves and P2 F1 RC and R0 F1 DET) : 321\n",
      "2  <> 1615923360 scan P2 F1 (J12 and J23 microwaves and P2 F1 RC and R0 F1 DET) : 641\n",
      "3  <> 1615923807 scan P2 F1 (J12 and J23 microwaves and P2 F1 RC and R0 F1 DET) : 1601\n",
      "4  <> 1615924487 scan P2 F1 no laser pol switch (J12 and J23 microwaves and P2 F1 RC and R0 F1 DET) : 1281\n",
      "5  <> 1615925203 scan polarizatn switching frequencies (J12 and J23 microwaves and P2 F1 RC and R0 F1 DET) : 4201\n",
      "6  <> 1615926264 scan polarizatn switching frequencies (J12 and J23 microwaves and P2 F1 RC and R0 F1 DET) : 1\n",
      "7  <> 1615926314 RC pol 15 MHz (J12 and J23 microwaves and P2 F1 RC and R0 F1 DET) : 1281\n",
      "8  <> 1615926937 R0 F1 data for gain calculation (J12 and J23 microwaves and P2 F1 RC and R0 F1 DET) : 501\n",
      "9  <> 1615927089 R0 F1 data for gain calculation (J12 and J23 microwaves and P2 F1 RC and R0 F1 DET) : 1092\n",
      "10 <> 1615928084 find R0 F1                                        : 1241\n",
      "11 <> 1615929063 get ratio R0 F2                                   : 501\n",
      "12 <> 1615929311 get ratio R0 F2                                   : 1001\n",
      "13 <> 1615930057 find P2 F1 (with R0 F1 DET and J12 J23 microwaves) : 2246\n",
      "14 <> 1615932150 find P2 F1 (with R0 F1 DET)                       : 551\n",
      "15 <> 1615932784 scan P2 F1 narrow with shutter (with R0 F1 DET)   : 1866\n",
      "16 <> 1615933769 scan pol switching frequency (with R0 F1 DET and P2 F1 RC) : 6001\n",
      "17 <> 1615934859 no pol switching (with R0 F1 DET and P2 F1 RC)    : 1001\n",
      "18 <> 1615935116 pol switching (with R0 F1 DET and P2 F1 RC)       : 1001\n",
      "19 <> 1615935515 P2 F1 narrow scan (with R0 F1 DET and P2 F1 RC and J12) : 81\n",
      "20 <> 1615935567 P2 F1 narrow scan (with R0 F1 DET and P2 F1 RC and J12) : 1601\n",
      "21 <> 1615936201 scan J12 power (with R0 F1 DET and P2 F1 RC and J12) : 3501\n",
      "22 <> 1615937061 P2 F1 narrow scan (with R0 F1 DET and P2 F1 RC and J12 and J23) : 1601\n",
      "23 <> 1615937673 scan microwave power J23 (with R0 F1 DET and P2 F1 RC and J12 and J23) : 4001\n",
      "24 <> 1615938406 scan pol switch frequencies (with R0 F1 DET and P2 F1 RC and J12 and J23) : 6001\n",
      "25 <> 1615939408 no RC laser pol switch (with R0 F1 DET and P2 F1 RC and J12 and J23) : 1001\n",
      "26 <> 1615939819 with RC laser pol switch (with R0 F1 DET and P2 F1 RC and J12 and J23) : 1001\n",
      "27 <> 1615940378 quick R0 F2 scan (with R0 F1 DET and P2 F1 RC and J12 and J23) : 321\n",
      "28 <> 1615940749 R0 F2 ratio measurement (with R0 F2 DET and P2 F1 RC and J12 and J23) : 1011\n",
      "29 <> 1615941853 find Q1 (Q1 DET and P2 F1 RC and J12 and J23)     : 506\n",
      "30 <> 1615942283 find Q1 (Q1 DET and P2 F1 RC and J12 and J23 at very low power) : 1\n",
      "31 <> 1615942302 find Q1 (Q1 DET and P2 F1 RC and J12 and J23 at very low power) : 481\n",
      "32 <> 1615942658 Q1 with microwaves (Q1 DET and P2 F1 RC and J12 and J23) : 1001\n",
      "33 <> 1615943238 Q1 with microwaves (Q1 DET and P2 F1 RC and J12 and J23) : 1001\n",
      "34 <> 1615943482 Q1 no microwaves or RC laser                      : 501\n",
      "35 <> 1615943937 scan P2 F1 DET (no microwaves or RC laser)        : 421\n",
      "36 <> 1615944278 scan P2 F1 RC (no microwaves)                     : 641\n",
      "37 <> 1615944723 P2 F1 DET  with RC P2 F1 shuttered                : 71\n",
      "38 <> 1615944785 P2 F1 DET  with RC P2 F1 shuttered                : 2381\n",
      "39 <> 1615945888 P2 F1 DET  with RC P2 F1 shuttered (J12 and J23 microwaves) : 1761\n",
      "40 <> 1615947204 R0 F4 DET without RC P2 F1 shuttered (J12 and J23 microwaves) : 1\n",
      "41 <> 1615947210 R3 F4 DET without RC P2 F1 shuttered (J12 and J23 microwaves) : 1601\n",
      "42 <> 1615948157 R3 F4 DET without RC P2 F1 (J12 and J23 microwaves) : 1036\n",
      "43 <> 1615948658 R3 F4 DET narrow scan without RC P2 F1 (J12 and J23 microwaves) : 301\n",
      "44 <> 1615949014 scan P2 F1 RC with shutter for J3 depletion (R3 F4 DET P2 F1 RC and J12 and J23 microwaves) : 1071\n",
      "45 <> 1615949608 find R0 F1 (R0 F1 DET P2 F1 RC and J12 and J23 microwaves) : 411\n",
      "46 <> 1615949935 R0 F1 ratio and population (R0 F1 DET P2 F1 RC and J12 and J23 microwaves) : 1201\n",
      "47 <> 1615950342 find R0 F2 (R0 F2 DET P2 F1 RC and J12 and J23 microwaves) : 741\n",
      "48 <> 1615950904 R0 F2 ratio and population with RC shuttered (R0 F2 DET P2 F1 RC and J12 and J23 microwaves) : 1201\n",
      "49 <> 1615951266 R0 F2 ratio and population with RC shuttered (R0 F2 DET P2 F1 RC 53 mW and J12 and J23 microwaves) : 1201\n",
      "50 <> 1615951571 R0 F1 ratio and population with RC shuttered (R0 F1 DET P2 F1 RC 53 mW and J12 and J23 microwaves) : 2401\n",
      "51 <> 1615952184 R0 F1 ratio RC shuttered (R0 F1 DET P2 F1 RC 53 mW) : 346\n"
     ]
    }
   ],
   "source": [
    "fname = \"2021_3_16.hdf\"\n",
    "\n",
    "with h5py.File(hdf_dir / fname, 'r') as f:\n",
    "    dset_names = list(f.keys())\n",
    "    for idn, name in enumerate(f.keys()):\n",
    "        print(f\"{idn:<2} <> {name:<60} : {len(f[name]['readout']['PXIe-5171'])}\")"
   ]
  },
  {
   "cell_type": "markdown",
   "metadata": {},
   "source": [
    "## R0 F1 ratio and population\n",
    "Accidentally had RC on P2 F2 instead of P2 F1"
   ]
  },
  {
   "cell_type": "code",
   "execution_count": 559,
   "metadata": {},
   "outputs": [],
   "source": [
    "dset_name = dset_names[9]\n",
    "devices = ()"
   ]
  },
  {
   "cell_type": "code",
   "execution_count": 560,
   "metadata": {},
   "outputs": [],
   "source": [
    "slice_flm  = np.s_[-250:]\n",
    "slice_absm = np.s_[-500:]\n",
    "slice_fli  = np.s_[100:]\n",
    "slice_absi = np.s_[10:]"
   ]
  },
  {
   "cell_type": "code",
   "execution_count": 561,
   "metadata": {},
   "outputs": [],
   "source": [
    "pxie, pxie_time, pxie_attrs, data_devices = load_measurement_data_devices_attrs(hdf_dir / fname, dset_name, devices)\n",
    "\n",
    "yag_data = np.array([pxie[idx][:,yag_channel] for idx in range(1,len(pxie)+1)])\n",
    "pmt_data = -np.array([pxie[idx][:,pmt_channel].astype(float) for idx in range(1,len(pxie)+1)])\n",
    "pd_data = np.array([pxie[idx][:,pd_channel].astype(float) for idx in range(1,len(pxie)+1)])\n",
    "pdn_data = np.array([pxie[idx][:,pdn_channel].astype(float) for idx in range(1,len(pxie)+1)])\n",
    "shutter_data = np.array([pxie[idx][:,shutter_channel].astype(float) for idx in range(1,len(pxie)+1)])\n",
    "pdrc_data = np.array([pxie[idx][:,pdrc_channel].astype(float) for idx in range(1,len(pxie)+1)])\n",
    "\n",
    "norm_data = -pd_data/pdn_data"
   ]
  },
  {
   "cell_type": "code",
   "execution_count": 562,
   "metadata": {},
   "outputs": [],
   "source": [
    "yag_cutoff = 250\n",
    "ptn_cutoff = 19000\n",
    "abs_cutoff = 5\n",
    "fl_cutoff = -5000"
   ]
  },
  {
   "cell_type": "code",
   "execution_count": 563,
   "metadata": {},
   "outputs": [],
   "source": [
    "pmt_data_norm = pmt_data.copy()\n",
    "norm_data_norm = norm_data.copy()\n",
    "\n",
    "mask_yag = yag_data.max(axis = 1) < yag_cutoff\n",
    "mask_pdn = pdn_data.min(axis = 1) < ptn_cutoff\n",
    "mask_abs = np.trapz(norm_data[:,slice_absi] - norm_data[:,slice_absm].mean(axis = 1)[:, np.newaxis]) < abs_cutoff\n",
    "mask_fl = np.trapz(pmt_data[:,slice_fli] - pmt_data[:,slice_flm].mean(axis = 1)[:, np.newaxis]) < fl_cutoff\n",
    "\n",
    "mask = mask_yag | mask_pdn | mask_abs | mask_fl\n",
    "\n",
    "norm_data_norm[mask] = np.nan\n",
    "norm_data_norm -= norm_data_norm[:,slice_absm].mean(axis = 1)[:, np.newaxis]\n",
    "\n",
    "pmt_data_norm[mask] = np.nan\n",
    "pmt_data_norm -= pmt_data_norm[:,slice_flm].mean(axis = 1)[:, np.newaxis]"
   ]
  },
  {
   "cell_type": "code",
   "execution_count": 565,
   "metadata": {},
   "outputs": [],
   "source": [
    "fluorescence_integral = np.trapz(pmt_data_norm[:,slice_fli], axis = 1)\n",
    "absorption_integral = np.trapz(norm_data_norm[:,slice_absi], axis = 1)\n",
    "\n",
    "mask_sh_open = shutter_data.max(axis = 1) > 10000\n",
    "\n",
    "nbunch = 10\n",
    "mask_sh_open = mask_sh_open[:(len(mask_sh_open)//nbunch) * nbunch]\n",
    "mask_sh_closed = ~mask_sh_open"
   ]
  },
  {
   "cell_type": "code",
   "execution_count": 566,
   "metadata": {},
   "outputs": [],
   "source": [
    "dat = (fluorescence_integral/absorption_integral)\n",
    "dat = dat[:len(dat)//nbunch * nbunch]"
   ]
  },
  {
   "cell_type": "code",
   "execution_count": 567,
   "metadata": {},
   "outputs": [
    {
     "name": "stdout",
     "output_type": "stream",
     "text": [
      "ratio is 8.19 +/- 0.15\n"
     ]
    },
    {
     "data": {
      "image/png": "[encoded data removed]",
      "text/plain": [
       "<Figure size 576x360 with 1 Axes>"
      ]
     },
     "metadata": {
      "needs_background": "light"
     },
     "output_type": "display_data"
    }
   ],
   "source": [
    "o = np.nanmean(dat[mask_sh_open])\n",
    "ostd = np.nanstd(dat[mask_sh_open])/np.sqrt(np.sum(~np.isnan(dat[mask_sh_open]))-1)\n",
    "c = np.nanmean(dat[mask_sh_closed])\n",
    "cstd = np.nanstd(dat[mask_sh_closed])/np.sqrt(np.sum(~np.isnan(dat[mask_sh_closed]))-1)\n",
    "\n",
    "fig, ax = plt.subplots(figsize = (8,5))\n",
    "d = dat[mask_sh_closed]\n",
    "d = d[~np.isnan(d)]\n",
    "ax.hist(d, alpha = 0.7, bins = 15)\n",
    "ax.axvline(c, color = 'k')\n",
    "d = dat[mask_sh_open]\n",
    "d = d[~np.isnan(d)]\n",
    "ax.hist(d, alpha = 0.8, bins = 15)\n",
    "ax.axvline(o, color = 'k')\n",
    "\n",
    "set_fontsize(ax, 14)\n",
    "\n",
    "r, rstd = ratio_with_error(o, c, ostd, cstd)\n",
    "print(f\"ratio is {r:.2f} +/- {rstd:.2f}\")"
   ]
  },
  {
   "cell_type": "code",
   "execution_count": 568,
   "metadata": {},
   "outputs": [
    {
     "name": "stdout",
     "output_type": "stream",
     "text": [
      "ratio is 8.49 +/- 0.13\n"
     ]
    },
    {
     "data": {
      "image/png": "[encoded data removed]",
      "text/plain": [
       "<Figure size 576x360 with 1 Axes>"
      ]
     },
     "metadata": {
      "needs_background": "light"
     },
     "output_type": "display_data"
    }
   ],
   "source": [
    "ratio = dat[mask_sh_open]/dat[mask_sh_closed]\n",
    "ratio = ratio[~np.isnan(ratio)]\n",
    "\n",
    "fig, ax = plt.subplots(figsize = (8,5))\n",
    "ax.hist(ratio[ratio < 20], bins = 21);\n",
    "ax.axvline(r, color = 'k')\n",
    "\n",
    "rr = np.nanmean(ratio[ratio < 20])\n",
    "rrstd = np.nanstd(ratio[ratio < 20])/np.sqrt(len(ratio)-1)\n",
    "\n",
    "ax.axvline(rr, color = 'C3')\n",
    "\n",
    "set_fontsize(ax, 14)\n",
    "\n",
    "print(f\"ratio is {rr:.2f} +/- {rrstd:.2f}\")"
   ]
  },
  {
   "cell_type": "markdown",
   "metadata": {},
   "source": [
    "## R0 F2 ratio and population\n",
    "Accidentally had RC on P2 F2 instead of P2 F1"
   ]
  },
  {
   "cell_type": "code",
   "execution_count": 538,
   "metadata": {},
   "outputs": [],
   "source": [
    "dset_name = dset_names[12]\n",
    "devices = ()"
   ]
  },
  {
   "cell_type": "code",
   "execution_count": 539,
   "metadata": {},
   "outputs": [],
   "source": [
    "slice_flm  = np.s_[-250:]\n",
    "slice_absm = np.s_[-500:]\n",
    "slice_fli  = np.s_[100:]\n",
    "slice_absi = np.s_[10:]"
   ]
  },
  {
   "cell_type": "code",
   "execution_count": 540,
   "metadata": {},
   "outputs": [],
   "source": [
    "pxie, pxie_time, pxie_attrs, data_devices = load_measurement_data_devices_attrs(hdf_dir / fname, dset_name, devices)\n",
    "\n",
    "yag_data = np.array([pxie[idx][:,yag_channel] for idx in range(1,len(pxie)+1)])\n",
    "pmt_data = -np.array([pxie[idx][:,pmt_channel].astype(float) for idx in range(1,len(pxie)+1)])\n",
    "pd_data = np.array([pxie[idx][:,pd_channel].astype(float) for idx in range(1,len(pxie)+1)])\n",
    "pdn_data = np.array([pxie[idx][:,pdn_channel].astype(float) for idx in range(1,len(pxie)+1)])\n",
    "shutter_data = np.array([pxie[idx][:,shutter_channel].astype(float) for idx in range(1,len(pxie)+1)])\n",
    "pdrc_data = np.array([pxie[idx][:,pdrc_channel].astype(float) for idx in range(1,len(pxie)+1)])\n",
    "\n",
    "norm_data = -pd_data/pdn_data"
   ]
  },
  {
   "cell_type": "code",
   "execution_count": 541,
   "metadata": {},
   "outputs": [],
   "source": [
    "yag_cutoff = 250\n",
    "ptn_cutoff = 19000\n",
    "abs_cutoff = 5\n",
    "fl_cutoff = -5000"
   ]
  },
  {
   "cell_type": "code",
   "execution_count": 542,
   "metadata": {},
   "outputs": [],
   "source": [
    "pmt_data_norm = pmt_data.copy()\n",
    "norm_data_norm = norm_data.copy()\n",
    "\n",
    "mask_yag = yag_data.max(axis = 1) < yag_cutoff\n",
    "mask_pdn = pdn_data.min(axis = 1) < ptn_cutoff\n",
    "mask_abs = np.trapz(norm_data[:,slice_absi] - norm_data[:,slice_absm].mean(axis = 1)[:, np.newaxis]) < abs_cutoff\n",
    "mask_fl = np.trapz(pmt_data[:,slice_fli] - pmt_data[:,slice_flm].mean(axis = 1)[:, np.newaxis]) < fl_cutoff\n",
    "\n",
    "mask = mask_yag | mask_pdn | mask_abs | mask_fl\n",
    "\n",
    "norm_data_norm[mask] = np.nan\n",
    "norm_data_norm -= norm_data_norm[:,slice_absm].mean(axis = 1)[:, np.newaxis]\n",
    "\n",
    "pmt_data_norm[mask] = np.nan\n",
    "pmt_data_norm -= pmt_data_norm[:,slice_flm].mean(axis = 1)[:, np.newaxis]"
   ]
  },
  {
   "cell_type": "code",
   "execution_count": 543,
   "metadata": {},
   "outputs": [],
   "source": [
    "fluorescence_integral = np.trapz(pmt_data_norm[:,slice_fli], axis = 1)\n",
    "absorption_integral = np.trapz(norm_data_norm[:,slice_absi], axis = 1)\n",
    "\n",
    "mask_sh_open = shutter_data.max(axis = 1) > 10000\n",
    "\n",
    "nbunch = 10\n",
    "mask_sh_open = mask_sh_open[:(len(mask_sh_open)//nbunch) * nbunch]\n",
    "mask_sh_closed = ~mask_sh_open"
   ]
  },
  {
   "cell_type": "code",
   "execution_count": 544,
   "metadata": {},
   "outputs": [],
   "source": [
    "dat = (fluorescence_integral/absorption_integral)\n",
    "dat = dat[:len(dat)//nbunch * nbunch]"
   ]
  },
  {
   "cell_type": "code",
   "execution_count": 547,
   "metadata": {},
   "outputs": [
    {
     "name": "stdout",
     "output_type": "stream",
     "text": [
      "ratio is 10.06 +/- 0.17\n"
     ]
    },
    {
     "data": {
      "image/png": "[encoded data removed]",
      "text/plain": [
       "<Figure size 576x360 with 1 Axes>"
      ]
     },
     "metadata": {
      "needs_background": "light"
     },
     "output_type": "display_data"
    }
   ],
   "source": [
    "o = np.nanmean(dat[mask_sh_open])\n",
    "ostd = np.nanstd(dat[mask_sh_open])/np.sqrt(np.sum(~np.isnan(dat[mask_sh_open]))-1)\n",
    "c = np.nanmean(dat[mask_sh_closed])\n",
    "cstd = np.nanstd(dat[mask_sh_closed])/np.sqrt(np.sum(~np.isnan(dat[mask_sh_closed]))-1)\n",
    "\n",
    "fig, ax = plt.subplots(figsize = (8,5))\n",
    "d = dat[mask_sh_closed]\n",
    "d = d[~np.isnan(d)]\n",
    "ax.hist(d, alpha = 0.7, bins = 15)\n",
    "ax.axvline(c, color = 'k')\n",
    "d = dat[mask_sh_open]\n",
    "d = d[~np.isnan(d)]\n",
    "ax.hist(d, alpha = 0.8, bins = 15)\n",
    "ax.axvline(o, color = 'k')\n",
    "\n",
    "set_fontsize(ax, 14)\n",
    "\n",
    "r, rstd = ratio_with_error(o, c, ostd, cstd)\n",
    "print(f\"ratio is {r:.2f} +/- {rstd:.2f}\")"
   ]
  },
  {
   "cell_type": "code",
   "execution_count": 548,
   "metadata": {},
   "outputs": [
    {
     "name": "stdout",
     "output_type": "stream",
     "text": [
      "ratio is 10.24 +/- 0.14\n"
     ]
    },
    {
     "data": {
      "image/png": "[encoded data removed]",
      "text/plain": [
       "<Figure size 576x360 with 1 Axes>"
      ]
     },
     "metadata": {
      "needs_background": "light"
     },
     "output_type": "display_data"
    }
   ],
   "source": [
    "ratio = dat[mask_sh_open]/dat[mask_sh_closed]\n",
    "ratio = ratio[~np.isnan(ratio)]\n",
    "\n",
    "fig, ax = plt.subplots(figsize = (8,5))\n",
    "ax.hist(ratio[ratio < 20], bins = 21);\n",
    "ax.axvline(r, color = 'k')\n",
    "\n",
    "rr = np.nanmean(ratio[ratio < 20])\n",
    "rrstd = np.nanstd(ratio[ratio < 20])/np.sqrt(len(ratio)-1)\n",
    "\n",
    "ax.axvline(rr, color = 'C3')\n",
    "\n",
    "set_fontsize(ax, 14)\n",
    "\n",
    "print(f\"ratio is {rr:.2f} +/- {rrstd:.2f}\")"
   ]
  },
  {
   "cell_type": "markdown",
   "metadata": {},
   "source": [
    "## Check effect polarization switching frequency (Laser RC P2 F1 only)"
   ]
  },
  {
   "cell_type": "code",
   "execution_count": 764,
   "metadata": {},
   "outputs": [],
   "source": [
    "dset_name = dset_names[16]\n",
    "devices = ()"
   ]
  },
  {
   "cell_type": "code",
   "execution_count": 765,
   "metadata": {},
   "outputs": [],
   "source": [
    "slice_flm  = np.s_[-250:]\n",
    "slice_absm = np.s_[-500:]\n",
    "slice_fli  = np.s_[100:]\n",
    "slice_absi = np.s_[10:]"
   ]
  },
  {
   "cell_type": "code",
   "execution_count": 766,
   "metadata": {},
   "outputs": [],
   "source": [
    "pxie, pxie_time, pxie_attrs, data_devices = load_measurement_data_devices_attrs(hdf_dir / fname, dset_name, devices)\n",
    "\n",
    "yag_data = np.array([pxie[idx][:,yag_channel] for idx in range(1,len(pxie)+1)])\n",
    "pmt_data = -np.array([pxie[idx][:,pmt_channel].astype(float) for idx in range(1,len(pxie)+1)])\n",
    "pd_data = np.array([pxie[idx][:,pd_channel].astype(float) for idx in range(1,len(pxie)+1)])\n",
    "pdn_data = np.array([pxie[idx][:,pdn_channel].astype(float) for idx in range(1,len(pxie)+1)])\n",
    "shutter_data = np.array([pxie[idx][:,shutter_channel].astype(float) for idx in range(1,len(pxie)+1)])\n",
    "pdrc_data = np.array([pxie[idx][:,pdrc_channel].astype(float) for idx in range(1,len(pxie)+1)])\n",
    "\n",
    "norm_data = -pd_data/pdn_data"
   ]
  },
  {
   "cell_type": "code",
   "execution_count": 768,
   "metadata": {},
   "outputs": [],
   "source": [
    "scan_parameter = 'BK4063 SetChannel1Frequency'\n",
    "scan_parameters = np.array([float(pxie_attrs[idx][scan_parameter]) for idx in range(1,len(pxie)+1)])"
   ]
  },
  {
   "cell_type": "code",
   "execution_count": 774,
   "metadata": {},
   "outputs": [],
   "source": [
    "yag_cutoff = 250\n",
    "ptn_cutoff = 19000\n",
    "abs_cutoff = 4\n",
    "fl_cutoff = -5000\n",
    "shutter_cutoff = 10000"
   ]
  },
  {
   "cell_type": "code",
   "execution_count": 770,
   "metadata": {},
   "outputs": [],
   "source": [
    "pmt_data_norm = pmt_data.copy()\n",
    "norm_data_norm = norm_data.copy()\n",
    "\n",
    "mask_yag = yag_data.max(axis = 1) < yag_cutoff\n",
    "mask_pdn = pdn_data.min(axis = 1) < ptn_cutoff\n",
    "mask_abs = np.trapz(norm_data[:,slice_absi] - norm_data[:,slice_absm].mean(axis = 1)[:, np.newaxis]) < abs_cutoff\n",
    "mask_fl = np.trapz(pmt_data[:,slice_fli] - pmt_data[:,slice_flm].mean(axis = 1)[:, np.newaxis]) < fl_cutoff\n",
    "\n",
    "mask = mask_yag | mask_pdn | mask_abs | mask_fl\n",
    "\n",
    "norm_data_norm[mask] = np.nan\n",
    "norm_data_norm -= norm_data_norm[:,slice_absm].mean(axis = 1)[:, np.newaxis]\n",
    "\n",
    "pmt_data_norm[mask] = np.nan\n",
    "pmt_data_norm -= pmt_data_norm[:,slice_flm].mean(axis = 1)[:, np.newaxis]"
   ]
  },
  {
   "cell_type": "code",
   "execution_count": 775,
   "metadata": {},
   "outputs": [],
   "source": [
    "fluorescence_integral = np.trapz(pmt_data_norm[:,slice_fli], axis = 1)\n",
    "absorption_integral = np.trapz(norm_data_norm[:,slice_absi], axis = 1)\n",
    "\n",
    "mask_sh_open = shutter_data.max(axis = 1) > shutter_cutoff\n",
    "mask_sh_closed = ~mask_sh_open\n",
    "\n",
    "results = []\n",
    "for m in [mask_sh_open, mask_sh_closed]:\n",
    "    stat = []\n",
    "    err = []\n",
    "    for f in np.unique(scan_parameters):\n",
    "        mask_frequency = scan_parameters == f\n",
    "        mt = m & mask_frequency\n",
    "        dat = (fluorescence_integral/absorption_integral)[mt]\n",
    "        stat.append(np.nanmean(dat))\n",
    "        err.append(np.nanstd(dat)/np.sqrt(len(dat)-1))\n",
    "    stat = np.array(stat)\n",
    "    err = np.array(err)\n",
    "    results.append((stat, err))\n",
    "    \n",
    "bin_means = np.unique(scan_parameters)"
   ]
  },
  {
   "cell_type": "code",
   "execution_count": 779,
   "metadata": {},
   "outputs": [
    {
     "data": {
      "image/png": "[encoded data removed]",
      "text/plain": [
       "<Figure size 576x360 with 1 Axes>"
      ]
     },
     "metadata": {
      "needs_background": "light"
     },
     "output_type": "display_data"
    },
    {
     "data": {
      "image/png": "[encoded data removed]",
      "text/plain": [
       "<Figure size 576x360 with 1 Axes>"
      ]
     },
     "metadata": {
      "needs_background": "light"
     },
     "output_type": "display_data"
    }
   ],
   "source": [
    "fig, ax = plt.subplots(figsize = (8,5))\n",
    "ax.errorbar(bin_means/1e6, results[0][0], yerr = results[0][1], fmt = '.', label = 'RC on')\n",
    "ax.errorbar(bin_means/1e6, results[1][0], yerr = results[1][1], fmt = '.', label = 'RC off')\n",
    "\n",
    "ax.set_xlabel('pol. switch frequency [MHz]')\n",
    "ax.set_ylabel('normalized signal [arb.]')\n",
    "\n",
    "ax.grid(True)\n",
    "\n",
    "set_fontsize(ax, 14)\n",
    "\n",
    "ratio, err = ratio_with_error(results[0][0], results[1][0], results[0][1], results[1][1])\n",
    "\n",
    "fig, ax = plt.subplots(figsize = (8,5))\n",
    "ax.errorbar(bin_means/1e6, ratio, yerr = err, fmt = '.')\n",
    "\n",
    "ax.set_xlabel('pol. switch frequency [MHz]')\n",
    "ax.set_ylabel('ratio')\n",
    "\n",
    "ax.grid(True)\n",
    "set_fontsize(ax, 14)"
   ]
  },
  {
   "cell_type": "markdown",
   "metadata": {},
   "source": [
    "## R0 F1 ratio and population without pol switching RC\n",
    "Now with RC on P2 F1"
   ]
  },
  {
   "cell_type": "code",
   "execution_count": 529,
   "metadata": {},
   "outputs": [],
   "source": [
    "dset_name = dset_names[17]\n",
    "devices = ()"
   ]
  },
  {
   "cell_type": "code",
   "execution_count": 530,
   "metadata": {},
   "outputs": [],
   "source": [
    "slice_flm  = np.s_[-250:]\n",
    "slice_absm = np.s_[-500:]\n",
    "slice_fli  = np.s_[100:]\n",
    "slice_absi = np.s_[10:]"
   ]
  },
  {
   "cell_type": "code",
   "execution_count": 531,
   "metadata": {},
   "outputs": [],
   "source": [
    "pxie, pxie_time, pxie_attrs, data_devices = load_measurement_data_devices_attrs(hdf_dir / fname, dset_name, devices)\n",
    "\n",
    "yag_data = np.array([pxie[idx][:,yag_channel] for idx in range(1,len(pxie)+1)])\n",
    "pmt_data = -np.array([pxie[idx][:,pmt_channel].astype(float) for idx in range(1,len(pxie)+1)])\n",
    "pd_data = np.array([pxie[idx][:,pd_channel].astype(float) for idx in range(1,len(pxie)+1)])\n",
    "pdn_data = np.array([pxie[idx][:,pdn_channel].astype(float) for idx in range(1,len(pxie)+1)])\n",
    "shutter_data = np.array([pxie[idx][:,shutter_channel].astype(float) for idx in range(1,len(pxie)+1)])\n",
    "pdrc_data = np.array([pxie[idx][:,pdrc_channel].astype(float) for idx in range(1,len(pxie)+1)])\n",
    "\n",
    "norm_data = -pd_data/pdn_data"
   ]
  },
  {
   "cell_type": "code",
   "execution_count": 532,
   "metadata": {},
   "outputs": [],
   "source": [
    "yag_cutoff = 250\n",
    "ptn_cutoff = 19000\n",
    "abs_cutoff = 5\n",
    "fl_cutoff = -5000"
   ]
  },
  {
   "cell_type": "code",
   "execution_count": 533,
   "metadata": {},
   "outputs": [],
   "source": [
    "pmt_data_norm = pmt_data.copy()\n",
    "norm_data_norm = norm_data.copy()\n",
    "\n",
    "mask_yag = yag_data.max(axis = 1) < yag_cutoff\n",
    "mask_pdn = pdn_data.min(axis = 1) < ptn_cutoff\n",
    "mask_abs = np.trapz(norm_data[:,slice_absi] - norm_data[:,slice_absm].mean(axis = 1)[:, np.newaxis]) < abs_cutoff\n",
    "mask_fl = np.trapz(pmt_data[:,slice_fli] - pmt_data[:,slice_flm].mean(axis = 1)[:, np.newaxis]) < fl_cutoff\n",
    "\n",
    "mask = mask_yag | mask_pdn | mask_abs | mask_fl\n",
    "\n",
    "norm_data_norm[mask] = np.nan\n",
    "norm_data_norm -= norm_data_norm[:,slice_absm].mean(axis = 1)[:, np.newaxis]\n",
    "\n",
    "pmt_data_norm[mask] = np.nan\n",
    "pmt_data_norm -= pmt_data_norm[:,slice_flm].mean(axis = 1)[:, np.newaxis]"
   ]
  },
  {
   "cell_type": "code",
   "execution_count": 534,
   "metadata": {},
   "outputs": [],
   "source": [
    "fluorescence_integral = np.trapz(pmt_data_norm[:,slice_fli], axis = 1)\n",
    "absorption_integral = np.trapz(norm_data_norm[:,slice_absi], axis = 1)\n",
    "\n",
    "mask_sh_open = shutter_data.max(axis = 1) > 10000\n",
    "\n",
    "nbunch = 10\n",
    "mask_sh_open = mask_sh_open[:(len(mask_sh_open)//nbunch) * nbunch]\n",
    "mask_sh_closed = ~mask_sh_open"
   ]
  },
  {
   "cell_type": "code",
   "execution_count": 535,
   "metadata": {},
   "outputs": [],
   "source": [
    "dat = (fluorescence_integral/absorption_integral)\n",
    "dat = dat[:len(dat)//nbunch * nbunch]"
   ]
  },
  {
   "cell_type": "code",
   "execution_count": 536,
   "metadata": {},
   "outputs": [
    {
     "name": "stdout",
     "output_type": "stream",
     "text": [
      "ratio is 2.28 +/- 0.04\n"
     ]
    },
    {
     "data": {
      "image/png": "[encoded data removed]",
      "text/plain": [
       "<Figure size 576x360 with 1 Axes>"
      ]
     },
     "metadata": {
      "needs_background": "light"
     },
     "output_type": "display_data"
    }
   ],
   "source": [
    "o = np.nanmean(dat[mask_sh_open])\n",
    "ostd = np.nanstd(dat[mask_sh_open])/np.sqrt(np.sum(~np.isnan(dat[mask_sh_open]))-1)\n",
    "c = np.nanmean(dat[mask_sh_closed])\n",
    "cstd = np.nanstd(dat[mask_sh_closed])/np.sqrt(np.sum(~np.isnan(dat[mask_sh_closed]))-1)\n",
    "\n",
    "fig, ax = plt.subplots(figsize = (8,5))\n",
    "d = dat[mask_sh_closed]\n",
    "d = d[~np.isnan(d)]\n",
    "ax.hist(d, alpha = 0.7, bins = 15)\n",
    "ax.axvline(c, color = 'k')\n",
    "d = dat[mask_sh_open]\n",
    "d = d[~np.isnan(d)]\n",
    "ax.hist(d, alpha = 0.8, bins = 15)\n",
    "ax.axvline(o, color = 'k')\n",
    "\n",
    "set_fontsize(ax, 14)\n",
    "\n",
    "r, rstd = ratio_with_error(o, c, ostd, cstd)\n",
    "print(f\"ratio is {r:.2f} +/- {rstd:.2f}\")"
   ]
  },
  {
   "cell_type": "code",
   "execution_count": 537,
   "metadata": {},
   "outputs": [
    {
     "name": "stdout",
     "output_type": "stream",
     "text": [
      "ratio is 2.39 +/- 0.05\n"
     ]
    },
    {
     "data": {
      "image/png": "[encoded data removed]",
      "text/plain": [
       "<Figure size 576x360 with 1 Axes>"
      ]
     },
     "metadata": {
      "needs_background": "light"
     },
     "output_type": "display_data"
    }
   ],
   "source": [
    "ratio = dat[mask_sh_open]/dat[mask_sh_closed]\n",
    "ratio = ratio[~np.isnan(ratio)]\n",
    "\n",
    "fig, ax = plt.subplots(figsize = (8,5))\n",
    "ax.hist(ratio[ratio < 20], bins = 21);\n",
    "ax.axvline(r, color = 'k')\n",
    "\n",
    "rr = np.nanmean(ratio[ratio < 20])\n",
    "rrstd = np.nanstd(ratio[ratio < 20])/np.sqrt(len(ratio)-1)\n",
    "\n",
    "ax.axvline(rr, color = 'C3')\n",
    "\n",
    "set_fontsize(ax, 14)\n",
    "\n",
    "print(f\"ratio is {rr:.2f} +/- {rrstd:.2f}\")"
   ]
  },
  {
   "cell_type": "markdown",
   "metadata": {},
   "source": [
    "## R0 F1 ratio and population with pol switching RC"
   ]
  },
  {
   "cell_type": "code",
   "execution_count": 569,
   "metadata": {},
   "outputs": [],
   "source": [
    "dset_name = dset_names[18]\n",
    "devices = ()"
   ]
  },
  {
   "cell_type": "code",
   "execution_count": 570,
   "metadata": {},
   "outputs": [],
   "source": [
    "slice_flm  = np.s_[-250:]\n",
    "slice_absm = np.s_[-500:]\n",
    "slice_fli  = np.s_[100:]\n",
    "slice_absi = np.s_[10:]"
   ]
  },
  {
   "cell_type": "code",
   "execution_count": 571,
   "metadata": {},
   "outputs": [
    {
     "name": "stderr",
     "output_type": "stream",
     "text": [
      "C:\\Users\\CeNTREX\\Anaconda3\\lib\\site-packages\\ipykernel_launcher.py:10: RuntimeWarning: divide by zero encountered in true_divide\n",
      "  # Remove the CWD from sys.path while we load stuff.\n"
     ]
    }
   ],
   "source": [
    "pxie, pxie_time, pxie_attrs, data_devices = load_measurement_data_devices_attrs(hdf_dir / fname, dset_name, devices)\n",
    "\n",
    "yag_data = np.array([pxie[idx][:,yag_channel] for idx in range(1,len(pxie)+1)])\n",
    "pmt_data = -np.array([pxie[idx][:,pmt_channel].astype(float) for idx in range(1,len(pxie)+1)])\n",
    "pd_data = np.array([pxie[idx][:,pd_channel].astype(float) for idx in range(1,len(pxie)+1)])\n",
    "pdn_data = np.array([pxie[idx][:,pdn_channel].astype(float) for idx in range(1,len(pxie)+1)])\n",
    "shutter_data = np.array([pxie[idx][:,shutter_channel].astype(float) for idx in range(1,len(pxie)+1)])\n",
    "pdrc_data = np.array([pxie[idx][:,pdrc_channel].astype(float) for idx in range(1,len(pxie)+1)])\n",
    "\n",
    "norm_data = -pd_data/pdn_data"
   ]
  },
  {
   "cell_type": "code",
   "execution_count": 572,
   "metadata": {},
   "outputs": [],
   "source": [
    "yag_cutoff = 250\n",
    "ptn_cutoff = 19000\n",
    "abs_cutoff = 5\n",
    "fl_cutoff = -5000"
   ]
  },
  {
   "cell_type": "code",
   "execution_count": 573,
   "metadata": {},
   "outputs": [
    {
     "name": "stderr",
     "output_type": "stream",
     "text": [
      "C:\\Users\\CeNTREX\\Anaconda3\\lib\\site-packages\\ipykernel_launcher.py:6: RuntimeWarning: invalid value encountered in subtract\n",
      "  \n"
     ]
    }
   ],
   "source": [
    "pmt_data_norm = pmt_data.copy()\n",
    "norm_data_norm = norm_data.copy()\n",
    "\n",
    "mask_yag = yag_data.max(axis = 1) < yag_cutoff\n",
    "mask_pdn = pdn_data.min(axis = 1) < ptn_cutoff\n",
    "mask_abs = np.trapz(norm_data[:,slice_absi] - norm_data[:,slice_absm].mean(axis = 1)[:, np.newaxis]) < abs_cutoff\n",
    "mask_fl = np.trapz(pmt_data[:,slice_fli] - pmt_data[:,slice_flm].mean(axis = 1)[:, np.newaxis]) < fl_cutoff\n",
    "\n",
    "mask = mask_yag | mask_pdn | mask_abs | mask_fl\n",
    "\n",
    "norm_data_norm[mask] = np.nan\n",
    "norm_data_norm -= norm_data_norm[:,slice_absm].mean(axis = 1)[:, np.newaxis]\n",
    "\n",
    "pmt_data_norm[mask] = np.nan\n",
    "pmt_data_norm -= pmt_data_norm[:,slice_flm].mean(axis = 1)[:, np.newaxis]"
   ]
  },
  {
   "cell_type": "code",
   "execution_count": 574,
   "metadata": {},
   "outputs": [],
   "source": [
    "fluorescence_integral = np.trapz(pmt_data_norm[:,slice_fli], axis = 1)\n",
    "absorption_integral = np.trapz(norm_data_norm[:,slice_absi], axis = 1)\n",
    "\n",
    "mask_sh_open = shutter_data.max(axis = 1) > 10000\n",
    "\n",
    "nbunch = 10\n",
    "mask_sh_open = mask_sh_open[:(len(mask_sh_open)//nbunch) * nbunch]\n",
    "mask_sh_closed = ~mask_sh_open"
   ]
  },
  {
   "cell_type": "code",
   "execution_count": 575,
   "metadata": {},
   "outputs": [],
   "source": [
    "dat = (fluorescence_integral/absorption_integral)\n",
    "dat = dat[:len(dat)//nbunch * nbunch]"
   ]
  },
  {
   "cell_type": "code",
   "execution_count": 576,
   "metadata": {},
   "outputs": [
    {
     "name": "stdout",
     "output_type": "stream",
     "text": [
      "ratio is 2.69 +/- 0.05\n"
     ]
    },
    {
     "data": {
      "image/png": "[encoded data removed]",
      "text/plain": [
       "<Figure size 576x360 with 1 Axes>"
      ]
     },
     "metadata": {
      "needs_background": "light"
     },
     "output_type": "display_data"
    }
   ],
   "source": [
    "o = np.nanmean(dat[mask_sh_open])\n",
    "ostd = np.nanstd(dat[mask_sh_open])/np.sqrt(np.sum(~np.isnan(dat[mask_sh_open]))-1)\n",
    "c = np.nanmean(dat[mask_sh_closed])\n",
    "cstd = np.nanstd(dat[mask_sh_closed])/np.sqrt(np.sum(~np.isnan(dat[mask_sh_closed]))-1)\n",
    "\n",
    "fig, ax = plt.subplots(figsize = (8,5))\n",
    "d = dat[mask_sh_closed]\n",
    "d = d[~np.isnan(d)]\n",
    "ax.hist(d, alpha = 0.7, bins = 15)\n",
    "ax.axvline(c, color = 'k')\n",
    "d = dat[mask_sh_open]\n",
    "d = d[~np.isnan(d)]\n",
    "ax.hist(d, alpha = 0.8, bins = 15)\n",
    "ax.axvline(o, color = 'k')\n",
    "\n",
    "set_fontsize(ax, 14)\n",
    "\n",
    "r, rstd = ratio_with_error(o, c, ostd, cstd)\n",
    "print(f\"ratio is {r:.2f} +/- {rstd:.2f}\")"
   ]
  },
  {
   "cell_type": "code",
   "execution_count": 577,
   "metadata": {},
   "outputs": [
    {
     "name": "stdout",
     "output_type": "stream",
     "text": [
      "ratio is 2.86 +/- 0.06\n"
     ]
    },
    {
     "data": {
      "image/png": "[encoded data removed]",
      "text/plain": [
       "<Figure size 576x360 with 1 Axes>"
      ]
     },
     "metadata": {
      "needs_background": "light"
     },
     "output_type": "display_data"
    }
   ],
   "source": [
    "ratio = dat[mask_sh_open]/dat[mask_sh_closed]\n",
    "ratio = ratio[~np.isnan(ratio)]\n",
    "\n",
    "fig, ax = plt.subplots(figsize = (8,5))\n",
    "ax.hist(ratio[ratio < 20], bins = 21);\n",
    "ax.axvline(r, color = 'k')\n",
    "\n",
    "rr = np.nanmean(ratio[ratio < 20])\n",
    "rrstd = np.nanstd(ratio[ratio < 20])/np.sqrt(len(ratio)-1)\n",
    "\n",
    "ax.axvline(rr, color = 'C3')\n",
    "\n",
    "set_fontsize(ax, 14)\n",
    "\n",
    "print(f\"ratio is {rr:.2f} +/- {rrstd:.2f}\")"
   ]
  },
  {
   "cell_type": "markdown",
   "metadata": {},
   "source": [
    "## Check effect J12 microwave power"
   ]
  },
  {
   "cell_type": "code",
   "execution_count": 792,
   "metadata": {},
   "outputs": [],
   "source": [
    "dset_name = dset_names[21]\n",
    "devices = ()"
   ]
  },
  {
   "cell_type": "code",
   "execution_count": 793,
   "metadata": {},
   "outputs": [],
   "source": [
    "slice_flm  = np.s_[-250:]\n",
    "slice_absm = np.s_[-500:]\n",
    "slice_fli  = np.s_[100:]\n",
    "slice_absi = np.s_[10:]"
   ]
  },
  {
   "cell_type": "code",
   "execution_count": 794,
   "metadata": {},
   "outputs": [],
   "source": [
    "pxie, pxie_time, pxie_attrs, data_devices = load_measurement_data_devices_attrs(hdf_dir / fname, dset_name, devices)\n",
    "\n",
    "yag_data = np.array([pxie[idx][:,yag_channel] for idx in range(1,len(pxie)+1)])\n",
    "pmt_data = -np.array([pxie[idx][:,pmt_channel].astype(float) for idx in range(1,len(pxie)+1)])\n",
    "pd_data = np.array([pxie[idx][:,pd_channel].astype(float) for idx in range(1,len(pxie)+1)])\n",
    "pdn_data = np.array([pxie[idx][:,pdn_channel].astype(float) for idx in range(1,len(pxie)+1)])\n",
    "shutter_data = np.array([pxie[idx][:,shutter_channel].astype(float) for idx in range(1,len(pxie)+1)])\n",
    "pdrc_data = np.array([pxie[idx][:,pdrc_channel].astype(float) for idx in range(1,len(pxie)+1)])\n",
    "\n",
    "norm_data = -pd_data/pdn_data"
   ]
  },
  {
   "cell_type": "code",
   "execution_count": 797,
   "metadata": {},
   "outputs": [],
   "source": [
    "scan_parameter = 'SynthHD Pro SetPowerCHAGUI'\n",
    "scan_parameters = np.array([float(pxie_attrs[idx][scan_parameter]) for idx in range(1,len(pxie)+1)])"
   ]
  },
  {
   "cell_type": "code",
   "execution_count": 798,
   "metadata": {},
   "outputs": [],
   "source": [
    "yag_cutoff = 250\n",
    "ptn_cutoff = 19000\n",
    "abs_cutoff = 4\n",
    "fl_cutoff = -5000\n",
    "shutter_cutoff = 10000"
   ]
  },
  {
   "cell_type": "code",
   "execution_count": 799,
   "metadata": {},
   "outputs": [],
   "source": [
    "pmt_data_norm = pmt_data.copy()\n",
    "norm_data_norm = norm_data.copy()\n",
    "\n",
    "mask_yag = yag_data.max(axis = 1) < yag_cutoff\n",
    "mask_pdn = pdn_data.min(axis = 1) < ptn_cutoff\n",
    "mask_abs = np.trapz(norm_data[:,slice_absi] - norm_data[:,slice_absm].mean(axis = 1)[:, np.newaxis]) < abs_cutoff\n",
    "mask_fl = np.trapz(pmt_data[:,slice_fli] - pmt_data[:,slice_flm].mean(axis = 1)[:, np.newaxis]) < fl_cutoff\n",
    "\n",
    "mask = mask_yag | mask_pdn | mask_abs | mask_fl\n",
    "\n",
    "norm_data_norm[mask] = np.nan\n",
    "norm_data_norm -= norm_data_norm[:,slice_absm].mean(axis = 1)[:, np.newaxis]\n",
    "\n",
    "pmt_data_norm[mask] = np.nan\n",
    "pmt_data_norm -= pmt_data_norm[:,slice_flm].mean(axis = 1)[:, np.newaxis]"
   ]
  },
  {
   "cell_type": "code",
   "execution_count": 800,
   "metadata": {},
   "outputs": [],
   "source": [
    "fluorescence_integral = np.trapz(pmt_data_norm[:,slice_fli], axis = 1)\n",
    "absorption_integral = np.trapz(norm_data_norm[:,slice_absi], axis = 1)\n",
    "\n",
    "mask_sh_open = shutter_data.max(axis = 1) > shutter_cutoff\n",
    "mask_sh_closed = ~mask_sh_open\n",
    "\n",
    "results = []\n",
    "for m in [mask_sh_open, mask_sh_closed]:\n",
    "    stat = []\n",
    "    err = []\n",
    "    for f in np.unique(scan_parameters):\n",
    "        mask_frequency = scan_parameters == f\n",
    "        mt = m & mask_frequency\n",
    "        dat = (fluorescence_integral/absorption_integral)[mt]\n",
    "        stat.append(np.nanmean(dat))\n",
    "        err.append(np.nanstd(dat)/np.sqrt(len(dat)-1))\n",
    "    stat = np.array(stat)\n",
    "    err = np.array(err)\n",
    "    results.append((stat, err))\n",
    "    \n",
    "bin_means = np.unique(scan_parameters)"
   ]
  },
  {
   "cell_type": "code",
   "execution_count": 802,
   "metadata": {},
   "outputs": [
    {
     "data": {
      "image/png": "[encoded data removed]",
      "text/plain": [
       "<Figure size 576x360 with 1 Axes>"
      ]
     },
     "metadata": {
      "needs_background": "light"
     },
     "output_type": "display_data"
    },
    {
     "data": {
      "image/png": "[encoded data removed]",
      "text/plain": [
       "<Figure size 576x360 with 1 Axes>"
      ]
     },
     "metadata": {
      "needs_background": "light"
     },
     "output_type": "display_data"
    }
   ],
   "source": [
    "fig, ax = plt.subplots(figsize = (8,5))\n",
    "ax.errorbar(bin_means, results[0][0], yerr = results[0][1], fmt = '.', label = 'RC on')\n",
    "ax.errorbar(bin_means, results[1][0], yerr = results[1][1], fmt = '.', label = 'RC off')\n",
    "\n",
    "ax.set_xlabel('microwave power [dBm]')\n",
    "ax.set_ylabel('normalized signal [arb.]')\n",
    "\n",
    "ax.grid(True)\n",
    "\n",
    "set_fontsize(ax, 14)\n",
    "\n",
    "ratio, err = ratio_with_error(results[0][0], results[1][0], results[0][1], results[1][1])\n",
    "\n",
    "fig, ax = plt.subplots(figsize = (8,5))\n",
    "ax.errorbar(bin_means, ratio, yerr = err, fmt = '.')\n",
    "\n",
    "ax.set_xlabel('microwave power [dBm]')\n",
    "ax.set_ylabel('ratio')\n",
    "\n",
    "ax.grid(True)\n",
    "set_fontsize(ax, 14)"
   ]
  },
  {
   "cell_type": "code",
   "execution_count": 804,
   "metadata": {},
   "outputs": [
    {
     "data": {
      "image/png": "[encoded data removed]",
      "text/plain": [
       "<Figure size 576x360 with 1 Axes>"
      ]
     },
     "metadata": {
      "needs_background": "light"
     },
     "output_type": "display_data"
    }
   ],
   "source": [
    "# power conversion\n",
    "conv_26 = {-22: 0, -20:10, -18: 16, -16: 23, -14: 26, -12: 27, -10: 30}\n",
    "conv_40 = {-15.26: 0, -13.9: 5, -11.71: 10, -10.57: 15, -9.82: 20, -9.55: 22, -9.35: 24, -8.8: 28}\n",
    "x = np.array([conv_26[bm] for bm in bin_means])\n",
    "\n",
    "fig, ax = plt.subplots(figsize = (8,5))\n",
    "ax.errorbar(x, ratio, yerr = err, fmt = '.')\n",
    "\n",
    "ax.set_xlabel('microwave power [dBm]')\n",
    "ax.set_ylabel('ratio')\n",
    "\n",
    "ax.grid(True)\n",
    "set_fontsize(ax, 14)"
   ]
  },
  {
   "cell_type": "code",
   "execution_count": 810,
   "metadata": {},
   "outputs": [
    {
     "data": {
      "image/png": "[encoded data removed]",
      "text/plain": [
       "<Figure size 576x360 with 1 Axes>"
      ]
     },
     "metadata": {
      "needs_background": "light"
     },
     "output_type": "display_data"
    }
   ],
   "source": [
    "# power conversion\n",
    "conv_26 = {-22: 0, -20:10, -18: 16, -16: 23, -14: 26, -12: 27, -10: 30}\n",
    "conv_40 = {-15.26: 0, -13.9: 5, -11.71: 10, -10.57: 15, -9.82: 20, -9.55: 22, -9.35: 24, -8.8: 28}\n",
    "x = np.array([conv_26[bm] for bm in bin_means])\n",
    "x = 10**(x/10)\n",
    "\n",
    "fig, ax = plt.subplots(figsize = (8,5))\n",
    "ax.errorbar(x, ratio, yerr = err, fmt = '.')\n",
    "\n",
    "ax.set_xlabel('microwave power [mW]')\n",
    "ax.set_ylabel('ratio')\n",
    "\n",
    "ax.grid(True)\n",
    "ax.set_xscale('log')\n",
    "set_fontsize(ax, 14)"
   ]
  },
  {
   "cell_type": "markdown",
   "metadata": {},
   "source": [
    "## Check effect J23 microwave power"
   ]
  },
  {
   "cell_type": "code",
   "execution_count": 811,
   "metadata": {},
   "outputs": [],
   "source": [
    "dset_name = dset_names[23]\n",
    "devices = ()"
   ]
  },
  {
   "cell_type": "code",
   "execution_count": 812,
   "metadata": {},
   "outputs": [],
   "source": [
    "slice_flm  = np.s_[-250:]\n",
    "slice_absm = np.s_[-500:]\n",
    "slice_fli  = np.s_[100:]\n",
    "slice_absi = np.s_[10:]"
   ]
  },
  {
   "cell_type": "code",
   "execution_count": 813,
   "metadata": {},
   "outputs": [],
   "source": [
    "pxie, pxie_time, pxie_attrs, data_devices = load_measurement_data_devices_attrs(hdf_dir / fname, dset_name, devices)\n",
    "\n",
    "yag_data = np.array([pxie[idx][:,yag_channel] for idx in range(1,len(pxie)+1)])\n",
    "pmt_data = -np.array([pxie[idx][:,pmt_channel].astype(float) for idx in range(1,len(pxie)+1)])\n",
    "pd_data = np.array([pxie[idx][:,pd_channel].astype(float) for idx in range(1,len(pxie)+1)])\n",
    "pdn_data = np.array([pxie[idx][:,pdn_channel].astype(float) for idx in range(1,len(pxie)+1)])\n",
    "shutter_data = np.array([pxie[idx][:,shutter_channel].astype(float) for idx in range(1,len(pxie)+1)])\n",
    "pdrc_data = np.array([pxie[idx][:,pdrc_channel].astype(float) for idx in range(1,len(pxie)+1)])\n",
    "\n",
    "norm_data = -pd_data/pdn_data"
   ]
  },
  {
   "cell_type": "code",
   "execution_count": 816,
   "metadata": {},
   "outputs": [],
   "source": [
    "scan_parameter = 'SynthHD Pro SetPowerCHBGUI'\n",
    "scan_parameters = np.array([float(pxie_attrs[idx][scan_parameter]) for idx in range(1,len(pxie)+1)])"
   ]
  },
  {
   "cell_type": "code",
   "execution_count": 817,
   "metadata": {},
   "outputs": [],
   "source": [
    "yag_cutoff = 250\n",
    "ptn_cutoff = 19000\n",
    "abs_cutoff = 4\n",
    "fl_cutoff = -5000\n",
    "shutter_cutoff = 10000"
   ]
  },
  {
   "cell_type": "code",
   "execution_count": 818,
   "metadata": {},
   "outputs": [],
   "source": [
    "pmt_data_norm = pmt_data.copy()\n",
    "norm_data_norm = norm_data.copy()\n",
    "\n",
    "mask_yag = yag_data.max(axis = 1) < yag_cutoff\n",
    "mask_pdn = pdn_data.min(axis = 1) < ptn_cutoff\n",
    "mask_abs = np.trapz(norm_data[:,slice_absi] - norm_data[:,slice_absm].mean(axis = 1)[:, np.newaxis]) < abs_cutoff\n",
    "mask_fl = np.trapz(pmt_data[:,slice_fli] - pmt_data[:,slice_flm].mean(axis = 1)[:, np.newaxis]) < fl_cutoff\n",
    "\n",
    "mask = mask_yag | mask_pdn | mask_abs | mask_fl\n",
    "\n",
    "norm_data_norm[mask] = np.nan\n",
    "norm_data_norm -= norm_data_norm[:,slice_absm].mean(axis = 1)[:, np.newaxis]\n",
    "\n",
    "pmt_data_norm[mask] = np.nan\n",
    "pmt_data_norm -= pmt_data_norm[:,slice_flm].mean(axis = 1)[:, np.newaxis]"
   ]
  },
  {
   "cell_type": "code",
   "execution_count": 819,
   "metadata": {},
   "outputs": [],
   "source": [
    "fluorescence_integral = np.trapz(pmt_data_norm[:,slice_fli], axis = 1)\n",
    "absorption_integral = np.trapz(norm_data_norm[:,slice_absi], axis = 1)\n",
    "\n",
    "mask_sh_open = shutter_data.max(axis = 1) > shutter_cutoff\n",
    "mask_sh_closed = ~mask_sh_open\n",
    "\n",
    "results = []\n",
    "for m in [mask_sh_open, mask_sh_closed]:\n",
    "    stat = []\n",
    "    err = []\n",
    "    for f in np.unique(scan_parameters):\n",
    "        mask_frequency = scan_parameters == f\n",
    "        mt = m & mask_frequency\n",
    "        dat = (fluorescence_integral/absorption_integral)[mt]\n",
    "        stat.append(np.nanmean(dat))\n",
    "        err.append(np.nanstd(dat)/np.sqrt(len(dat)-1))\n",
    "    stat = np.array(stat)\n",
    "    err = np.array(err)\n",
    "    results.append((stat, err))\n",
    "    \n",
    "bin_means = np.unique(scan_parameters)"
   ]
  },
  {
   "cell_type": "code",
   "execution_count": 820,
   "metadata": {},
   "outputs": [
    {
     "data": {
      "image/png": "[encoded data removed]",
      "text/plain": [
       "<Figure size 576x360 with 1 Axes>"
      ]
     },
     "metadata": {
      "needs_background": "light"
     },
     "output_type": "display_data"
    },
    {
     "data": {
      "image/png": "[encoded data removed]",
      "text/plain": [
       "<Figure size 576x360 with 1 Axes>"
      ]
     },
     "metadata": {
      "needs_background": "light"
     },
     "output_type": "display_data"
    }
   ],
   "source": [
    "fig, ax = plt.subplots(figsize = (8,5))\n",
    "ax.errorbar(bin_means, results[0][0], yerr = results[0][1], fmt = '.', label = 'RC on')\n",
    "ax.errorbar(bin_means, results[1][0], yerr = results[1][1], fmt = '.', label = 'RC off')\n",
    "\n",
    "ax.set_xlabel('microwave power [dBm]')\n",
    "ax.set_ylabel('normalized signal [arb.]')\n",
    "\n",
    "ax.grid(True)\n",
    "\n",
    "set_fontsize(ax, 14)\n",
    "\n",
    "ratio, err = ratio_with_error(results[0][0], results[1][0], results[0][1], results[1][1])\n",
    "\n",
    "fig, ax = plt.subplots(figsize = (8,5))\n",
    "ax.errorbar(bin_means, ratio, yerr = err, fmt = '.')\n",
    "\n",
    "ax.set_xlabel('microwave power [dBm]')\n",
    "ax.set_ylabel('ratio')\n",
    "\n",
    "ax.grid(True)\n",
    "set_fontsize(ax, 14)"
   ]
  },
  {
   "cell_type": "code",
   "execution_count": 821,
   "metadata": {},
   "outputs": [
    {
     "data": {
      "image/png": "[encoded data removed]",
      "text/plain": [
       "<Figure size 576x360 with 1 Axes>"
      ]
     },
     "metadata": {
      "needs_background": "light"
     },
     "output_type": "display_data"
    }
   ],
   "source": [
    "# power conversion\n",
    "conv_26 = {-22: 0, -20:10, -18: 16, -16: 23, -14: 26, -12: 27, -10: 30}\n",
    "conv_40 = {-15.26: 0, -13.9: 5, -11.71: 10, -10.57: 15, -9.82: 20, -9.55: 22, -9.35: 24, -8.8: 28}\n",
    "x = np.array([conv_40[bm] for bm in bin_means])\n",
    "\n",
    "fig, ax = plt.subplots(figsize = (8,5))\n",
    "ax.errorbar(x, ratio, yerr = err, fmt = '.')\n",
    "\n",
    "ax.set_xlabel('microwave power [dBm]')\n",
    "ax.set_ylabel('ratio')\n",
    "\n",
    "ax.grid(True)\n",
    "set_fontsize(ax, 14)"
   ]
  },
  {
   "cell_type": "code",
   "execution_count": 822,
   "metadata": {},
   "outputs": [
    {
     "data": {
      "image/png": "[encoded data removed]",
      "text/plain": [
       "<Figure size 576x360 with 1 Axes>"
      ]
     },
     "metadata": {
      "needs_background": "light"
     },
     "output_type": "display_data"
    }
   ],
   "source": [
    "# power conversion\n",
    "conv_26 = {-22: 0, -20:10, -18: 16, -16: 23, -14: 26, -12: 27, -10: 30}\n",
    "conv_40 = {-15.26: 0, -13.9: 5, -11.71: 10, -10.57: 15, -9.82: 20, -9.55: 22, -9.35: 24, -8.8: 28}\n",
    "x = np.array([conv_40[bm] for bm in bin_means])\n",
    "x = 10**(x/10)\n",
    "\n",
    "fig, ax = plt.subplots(figsize = (8,5))\n",
    "ax.errorbar(x, ratio, yerr = err, fmt = '.')\n",
    "\n",
    "ax.set_xlabel('microwave power [mW]')\n",
    "ax.set_ylabel('ratio')\n",
    "\n",
    "ax.grid(True)\n",
    "ax.set_xscale('log')\n",
    "set_fontsize(ax, 14)"
   ]
  },
  {
   "cell_type": "markdown",
   "metadata": {},
   "source": [
    "## Check effect polarization switching frequency (Laser RC P2 F1 and J12 J23 microwaves)"
   ]
  },
  {
   "cell_type": "code",
   "execution_count": 780,
   "metadata": {},
   "outputs": [],
   "source": [
    "dset_name = dset_names[24]\n",
    "devices = ()"
   ]
  },
  {
   "cell_type": "code",
   "execution_count": 781,
   "metadata": {},
   "outputs": [],
   "source": [
    "slice_flm  = np.s_[-250:]\n",
    "slice_absm = np.s_[-500:]\n",
    "slice_fli  = np.s_[100:]\n",
    "slice_absi = np.s_[10:]"
   ]
  },
  {
   "cell_type": "code",
   "execution_count": 782,
   "metadata": {},
   "outputs": [],
   "source": [
    "pxie, pxie_time, pxie_attrs, data_devices = load_measurement_data_devices_attrs(hdf_dir / fname, dset_name, devices)\n",
    "\n",
    "yag_data = np.array([pxie[idx][:,yag_channel] for idx in range(1,len(pxie)+1)])\n",
    "pmt_data = -np.array([pxie[idx][:,pmt_channel].astype(float) for idx in range(1,len(pxie)+1)])\n",
    "pd_data = np.array([pxie[idx][:,pd_channel].astype(float) for idx in range(1,len(pxie)+1)])\n",
    "pdn_data = np.array([pxie[idx][:,pdn_channel].astype(float) for idx in range(1,len(pxie)+1)])\n",
    "shutter_data = np.array([pxie[idx][:,shutter_channel].astype(float) for idx in range(1,len(pxie)+1)])\n",
    "pdrc_data = np.array([pxie[idx][:,pdrc_channel].astype(float) for idx in range(1,len(pxie)+1)])\n",
    "\n",
    "norm_data = -pd_data/pdn_data"
   ]
  },
  {
   "cell_type": "code",
   "execution_count": 783,
   "metadata": {},
   "outputs": [],
   "source": [
    "scan_parameter = 'BK4063 SetChannel1Frequency'\n",
    "scan_parameters = np.array([float(pxie_attrs[idx][scan_parameter]) for idx in range(1,len(pxie)+1)])"
   ]
  },
  {
   "cell_type": "code",
   "execution_count": 784,
   "metadata": {},
   "outputs": [],
   "source": [
    "yag_cutoff = 250\n",
    "ptn_cutoff = 19000\n",
    "abs_cutoff = 4\n",
    "fl_cutoff = -5000\n",
    "shutter_cutoff = 10000"
   ]
  },
  {
   "cell_type": "code",
   "execution_count": 785,
   "metadata": {},
   "outputs": [],
   "source": [
    "pmt_data_norm = pmt_data.copy()\n",
    "norm_data_norm = norm_data.copy()\n",
    "\n",
    "mask_yag = yag_data.max(axis = 1) < yag_cutoff\n",
    "mask_pdn = pdn_data.min(axis = 1) < ptn_cutoff\n",
    "mask_abs = np.trapz(norm_data[:,slice_absi] - norm_data[:,slice_absm].mean(axis = 1)[:, np.newaxis]) < abs_cutoff\n",
    "mask_fl = np.trapz(pmt_data[:,slice_fli] - pmt_data[:,slice_flm].mean(axis = 1)[:, np.newaxis]) < fl_cutoff\n",
    "\n",
    "mask = mask_yag | mask_pdn | mask_abs | mask_fl\n",
    "\n",
    "norm_data_norm[mask] = np.nan\n",
    "norm_data_norm -= norm_data_norm[:,slice_absm].mean(axis = 1)[:, np.newaxis]\n",
    "\n",
    "pmt_data_norm[mask] = np.nan\n",
    "pmt_data_norm -= pmt_data_norm[:,slice_flm].mean(axis = 1)[:, np.newaxis]"
   ]
  },
  {
   "cell_type": "code",
   "execution_count": 786,
   "metadata": {},
   "outputs": [],
   "source": [
    "fluorescence_integral = np.trapz(pmt_data_norm[:,slice_fli], axis = 1)\n",
    "absorption_integral = np.trapz(norm_data_norm[:,slice_absi], axis = 1)\n",
    "\n",
    "mask_sh_open = shutter_data.max(axis = 1) > shutter_cutoff\n",
    "mask_sh_closed = ~mask_sh_open\n",
    "\n",
    "results = []\n",
    "for m in [mask_sh_open, mask_sh_closed]:\n",
    "    stat = []\n",
    "    err = []\n",
    "    for f in np.unique(scan_parameters):\n",
    "        mask_frequency = scan_parameters == f\n",
    "        mt = m & mask_frequency\n",
    "        dat = (fluorescence_integral/absorption_integral)[mt]\n",
    "        stat.append(np.nanmean(dat))\n",
    "        err.append(np.nanstd(dat)/np.sqrt(len(dat)-1))\n",
    "    stat = np.array(stat)\n",
    "    err = np.array(err)\n",
    "    results.append((stat, err))\n",
    "    \n",
    "bin_means = np.unique(scan_parameters)"
   ]
  },
  {
   "cell_type": "code",
   "execution_count": 787,
   "metadata": {},
   "outputs": [
    {
     "data": {
      "image/png": "[encoded data removed]",
      "text/plain": [
       "<Figure size 576x360 with 1 Axes>"
      ]
     },
     "metadata": {
      "needs_background": "light"
     },
     "output_type": "display_data"
    },
    {
     "data": {
      "image/png": "[encoded data removed]",
      "text/plain": [
       "<Figure size 576x360 with 1 Axes>"
      ]
     },
     "metadata": {
      "needs_background": "light"
     },
     "output_type": "display_data"
    }
   ],
   "source": [
    "fig, ax = plt.subplots(figsize = (8,5))\n",
    "ax.errorbar(bin_means/1e6, results[0][0], yerr = results[0][1], fmt = '.', label = 'RC on')\n",
    "ax.errorbar(bin_means/1e6, results[1][0], yerr = results[1][1], fmt = '.', label = 'RC off')\n",
    "\n",
    "ax.set_xlabel('pol. switch frequency [MHz]')\n",
    "ax.set_ylabel('normalized signal [arb.]')\n",
    "\n",
    "ax.grid(True)\n",
    "\n",
    "set_fontsize(ax, 14)\n",
    "\n",
    "ratio, err = ratio_with_error(results[0][0], results[1][0], results[0][1], results[1][1])\n",
    "\n",
    "fig, ax = plt.subplots(figsize = (8,5))\n",
    "ax.errorbar(bin_means/1e6, ratio, yerr = err, fmt = '.')\n",
    "\n",
    "ax.set_xlabel('pol. switch frequency [MHz]')\n",
    "ax.set_ylabel('ratio')\n",
    "\n",
    "ax.grid(True)\n",
    "set_fontsize(ax, 14)"
   ]
  },
  {
   "cell_type": "markdown",
   "metadata": {},
   "source": [
    "## R0 F1 ratio and population without RC laser pol switching\n",
    "With J12 and J23 microwaves"
   ]
  },
  {
   "cell_type": "code",
   "execution_count": 621,
   "metadata": {},
   "outputs": [],
   "source": [
    "dset_name = dset_names[25]\n",
    "devices = ()"
   ]
  },
  {
   "cell_type": "code",
   "execution_count": 622,
   "metadata": {},
   "outputs": [],
   "source": [
    "slice_flm  = np.s_[-250:]\n",
    "slice_absm = np.s_[-500:]\n",
    "slice_fli  = np.s_[100:]\n",
    "slice_absi = np.s_[10:]"
   ]
  },
  {
   "cell_type": "code",
   "execution_count": 623,
   "metadata": {},
   "outputs": [],
   "source": [
    "pxie, pxie_time, pxie_attrs, data_devices = load_measurement_data_devices_attrs(hdf_dir / fname, dset_name, devices)\n",
    "\n",
    "yag_data = np.array([pxie[idx][:,yag_channel] for idx in range(1,len(pxie)+1)])\n",
    "pmt_data = -np.array([pxie[idx][:,pmt_channel].astype(float) for idx in range(1,len(pxie)+1)])\n",
    "pd_data = np.array([pxie[idx][:,pd_channel].astype(float) for idx in range(1,len(pxie)+1)])\n",
    "pdn_data = np.array([pxie[idx][:,pdn_channel].astype(float) for idx in range(1,len(pxie)+1)])\n",
    "shutter_data = np.array([pxie[idx][:,shutter_channel].astype(float) for idx in range(1,len(pxie)+1)])\n",
    "pdrc_data = np.array([pxie[idx][:,pdrc_channel].astype(float) for idx in range(1,len(pxie)+1)])\n",
    "\n",
    "norm_data = -pd_data/pdn_data"
   ]
  },
  {
   "cell_type": "code",
   "execution_count": 624,
   "metadata": {},
   "outputs": [],
   "source": [
    "yag_cutoff = 250\n",
    "ptn_cutoff = 19000\n",
    "abs_cutoff = 4\n",
    "fl_cutoff = -5000"
   ]
  },
  {
   "cell_type": "code",
   "execution_count": 625,
   "metadata": {},
   "outputs": [],
   "source": [
    "pmt_data_norm = pmt_data.copy()\n",
    "norm_data_norm = norm_data.copy()\n",
    "\n",
    "mask_yag = yag_data.max(axis = 1) < yag_cutoff\n",
    "mask_pdn = pdn_data.min(axis = 1) < ptn_cutoff\n",
    "mask_abs = np.trapz(norm_data[:,slice_absi] - norm_data[:,slice_absm].mean(axis = 1)[:, np.newaxis]) < abs_cutoff\n",
    "mask_fl = np.trapz(pmt_data[:,slice_fli] - pmt_data[:,slice_flm].mean(axis = 1)[:, np.newaxis]) < fl_cutoff\n",
    "\n",
    "mask = mask_yag | mask_pdn | mask_abs | mask_fl\n",
    "\n",
    "norm_data_norm[mask] = np.nan\n",
    "norm_data_norm -= norm_data_norm[:,slice_absm].mean(axis = 1)[:, np.newaxis]\n",
    "\n",
    "pmt_data_norm[mask] = np.nan\n",
    "pmt_data_norm -= pmt_data_norm[:,slice_flm].mean(axis = 1)[:, np.newaxis]"
   ]
  },
  {
   "cell_type": "code",
   "execution_count": 626,
   "metadata": {},
   "outputs": [],
   "source": [
    "fluorescence_integral = np.trapz(pmt_data_norm[:,slice_fli], axis = 1)\n",
    "absorption_integral = np.trapz(norm_data_norm[:,slice_absi], axis = 1)\n",
    "\n",
    "mask_sh_open = shutter_data.max(axis = 1) > 10000\n",
    "\n",
    "nbunch = 10\n",
    "mask_sh_open = mask_sh_open[:(len(mask_sh_open)//nbunch) * nbunch]\n",
    "mask_sh_closed = ~mask_sh_open"
   ]
  },
  {
   "cell_type": "code",
   "execution_count": 627,
   "metadata": {},
   "outputs": [],
   "source": [
    "dat = (fluorescence_integral/absorption_integral)\n",
    "dat = dat[:len(dat)//nbunch * nbunch]"
   ]
  },
  {
   "cell_type": "code",
   "execution_count": 628,
   "metadata": {},
   "outputs": [
    {
     "name": "stdout",
     "output_type": "stream",
     "text": [
      "ratio is 7.82 +/- 0.16\n"
     ]
    },
    {
     "data": {
      "image/png": "[encoded data removed]",
      "text/plain": [
       "<Figure size 576x360 with 1 Axes>"
      ]
     },
     "metadata": {
      "needs_background": "light"
     },
     "output_type": "display_data"
    }
   ],
   "source": [
    "o = np.nanmean(dat[mask_sh_open])\n",
    "ostd = np.nanstd(dat[mask_sh_open])/np.sqrt(np.sum(~np.isnan(dat[mask_sh_open]))-1)\n",
    "c = np.nanmean(dat[mask_sh_closed])\n",
    "cstd = np.nanstd(dat[mask_sh_closed])/np.sqrt(np.sum(~np.isnan(dat[mask_sh_closed]))-1)\n",
    "\n",
    "fig, ax = plt.subplots(figsize = (8,5))\n",
    "d = dat[mask_sh_closed]\n",
    "d = d[~np.isnan(d)]\n",
    "ax.hist(d, alpha = 0.7, bins = 15, label = 'RC off')\n",
    "ax.axvline(c, color = 'k')\n",
    "d = dat[mask_sh_open]\n",
    "d = d[~np.isnan(d)]\n",
    "ax.hist(d, alpha = 0.8, bins = 15, label = 'RC on')\n",
    "ax.axvline(o, color = 'k')\n",
    "\n",
    "ax.legend(fontsize = 14)\n",
    "set_fontsize(ax, 14)\n",
    "\n",
    "r, rstd = ratio_with_error(o, c, ostd, cstd)\n",
    "print(f\"ratio is {r:.2f} +/- {rstd:.2f}\")"
   ]
  },
  {
   "cell_type": "code",
   "execution_count": 629,
   "metadata": {},
   "outputs": [
    {
     "name": "stdout",
     "output_type": "stream",
     "text": [
      "ratio is 8.48 +/- 0.16\n"
     ]
    },
    {
     "data": {
      "image/png": "[encoded data removed]",
      "text/plain": [
       "<Figure size 576x360 with 1 Axes>"
      ]
     },
     "metadata": {
      "needs_background": "light"
     },
     "output_type": "display_data"
    }
   ],
   "source": [
    "ratio = dat[mask_sh_open]/dat[mask_sh_closed]\n",
    "ratio = ratio[~np.isnan(ratio)]\n",
    "\n",
    "fig, ax = plt.subplots(figsize = (8,5))\n",
    "ax.hist(ratio[ratio < 20], bins = 21);\n",
    "ax.axvline(r, color = 'k')\n",
    "\n",
    "rr = np.nanmean(ratio[ratio < 20])\n",
    "rrstd = np.nanstd(ratio[ratio < 20])/np.sqrt(len(ratio)-1)\n",
    "\n",
    "ax.axvline(rr, color = 'C3')\n",
    "\n",
    "set_fontsize(ax, 14)\n",
    "\n",
    "print(f\"ratio is {rr:.2f} +/- {rrstd:.2f}\")"
   ]
  },
  {
   "cell_type": "markdown",
   "metadata": {},
   "source": [
    "## R0 F1 ratio and population with RC laser pol switching\n",
    "With J12 and J23 microwaves"
   ]
  },
  {
   "cell_type": "code",
   "execution_count": 613,
   "metadata": {},
   "outputs": [],
   "source": [
    "dset_name = dset_names[26]\n",
    "devices = ()"
   ]
  },
  {
   "cell_type": "code",
   "execution_count": 614,
   "metadata": {},
   "outputs": [],
   "source": [
    "slice_flm  = np.s_[-250:]\n",
    "slice_absm = np.s_[-500:]\n",
    "slice_fli  = np.s_[100:]\n",
    "slice_absi = np.s_[10:]"
   ]
  },
  {
   "cell_type": "code",
   "execution_count": 615,
   "metadata": {},
   "outputs": [],
   "source": [
    "pxie, pxie_time, pxie_attrs, data_devices = load_measurement_data_devices_attrs(hdf_dir / fname, dset_name, devices)\n",
    "\n",
    "yag_data = np.array([pxie[idx][:,yag_channel] for idx in range(1,len(pxie)+1)])\n",
    "pmt_data = -np.array([pxie[idx][:,pmt_channel].astype(float) for idx in range(1,len(pxie)+1)])\n",
    "pd_data = np.array([pxie[idx][:,pd_channel].astype(float) for idx in range(1,len(pxie)+1)])\n",
    "pdn_data = np.array([pxie[idx][:,pdn_channel].astype(float) for idx in range(1,len(pxie)+1)])\n",
    "shutter_data = np.array([pxie[idx][:,shutter_channel].astype(float) for idx in range(1,len(pxie)+1)])\n",
    "pdrc_data = np.array([pxie[idx][:,pdrc_channel].astype(float) for idx in range(1,len(pxie)+1)])\n",
    "\n",
    "norm_data = -pd_data/pdn_data"
   ]
  },
  {
   "cell_type": "code",
   "execution_count": 616,
   "metadata": {},
   "outputs": [],
   "source": [
    "yag_cutoff = 250\n",
    "ptn_cutoff = 19000\n",
    "abs_cutoff = 4\n",
    "fl_cutoff = -5000"
   ]
  },
  {
   "cell_type": "code",
   "execution_count": 617,
   "metadata": {},
   "outputs": [],
   "source": [
    "pmt_data_norm = pmt_data.copy()\n",
    "norm_data_norm = norm_data.copy()\n",
    "\n",
    "mask_yag = yag_data.max(axis = 1) < yag_cutoff\n",
    "mask_pdn = pdn_data.min(axis = 1) < ptn_cutoff\n",
    "mask_abs = np.trapz(norm_data[:,slice_absi] - norm_data[:,slice_absm].mean(axis = 1)[:, np.newaxis]) < abs_cutoff\n",
    "mask_fl = np.trapz(pmt_data[:,slice_fli] - pmt_data[:,slice_flm].mean(axis = 1)[:, np.newaxis]) < fl_cutoff\n",
    "\n",
    "mask = mask_yag | mask_pdn | mask_abs | mask_fl\n",
    "\n",
    "norm_data_norm[mask] = np.nan\n",
    "norm_data_norm -= norm_data_norm[:,slice_absm].mean(axis = 1)[:, np.newaxis]\n",
    "\n",
    "pmt_data_norm[mask] = np.nan\n",
    "pmt_data_norm -= pmt_data_norm[:,slice_flm].mean(axis = 1)[:, np.newaxis]"
   ]
  },
  {
   "cell_type": "code",
   "execution_count": 618,
   "metadata": {},
   "outputs": [],
   "source": [
    "fluorescence_integral = np.trapz(pmt_data_norm[:,slice_fli], axis = 1)\n",
    "absorption_integral = np.trapz(norm_data_norm[:,slice_absi], axis = 1)\n",
    "\n",
    "mask_sh_open = shutter_data.max(axis = 1) > 10000\n",
    "\n",
    "nbunch = 10\n",
    "mask_sh_open = mask_sh_open[:(len(mask_sh_open)//nbunch) * nbunch]\n",
    "mask_sh_closed = ~mask_sh_open"
   ]
  },
  {
   "cell_type": "code",
   "execution_count": 619,
   "metadata": {},
   "outputs": [],
   "source": [
    "dat = (fluorescence_integral/absorption_integral)\n",
    "dat = dat[:len(dat)//nbunch * nbunch]"
   ]
  },
  {
   "cell_type": "code",
   "execution_count": 620,
   "metadata": {},
   "outputs": [
    {
     "name": "stdout",
     "output_type": "stream",
     "text": [
      "ratio is 8.12 +/- 0.16\n"
     ]
    },
    {
     "data": {
      "image/png": "[encoded data removed]",
      "text/plain": [
       "<Figure size 576x360 with 1 Axes>"
      ]
     },
     "metadata": {
      "needs_background": "light"
     },
     "output_type": "display_data"
    }
   ],
   "source": [
    "o = np.nanmean(dat[mask_sh_open])\n",
    "ostd = np.nanstd(dat[mask_sh_open])/np.sqrt(np.sum(~np.isnan(dat[mask_sh_open]))-1)\n",
    "c = np.nanmean(dat[mask_sh_closed])\n",
    "cstd = np.nanstd(dat[mask_sh_closed])/np.sqrt(np.sum(~np.isnan(dat[mask_sh_closed]))-1)\n",
    "\n",
    "fig, ax = plt.subplots(figsize = (8,5))\n",
    "d = dat[mask_sh_closed]\n",
    "d = d[~np.isnan(d)]\n",
    "ax.hist(d, alpha = 0.7, bins = 15, label = 'RC off')\n",
    "ax.axvline(c, color = 'k')\n",
    "d = dat[mask_sh_open]\n",
    "d = d[~np.isnan(d)]\n",
    "ax.hist(d, alpha = 0.8, bins = 15, label = 'RC on')\n",
    "ax.axvline(o, color = 'k')\n",
    "\n",
    "ax.legend(fontsize = 14)\n",
    "set_fontsize(ax, 14)\n",
    "\n",
    "r, rstd = ratio_with_error(o, c, ostd, cstd)\n",
    "print(f\"ratio is {r:.2f} +/- {rstd:.2f}\")\n"
   ]
  },
  {
   "cell_type": "code",
   "execution_count": 595,
   "metadata": {},
   "outputs": [
    {
     "name": "stdout",
     "output_type": "stream",
     "text": [
      "ratio is 8.72 +/- 0.16\n"
     ]
    },
    {
     "data": {
      "image/png": "[encoded data removed]",
      "text/plain": [
       "<Figure size 576x360 with 1 Axes>"
      ]
     },
     "metadata": {
      "needs_background": "light"
     },
     "output_type": "display_data"
    }
   ],
   "source": [
    "ratio = dat[mask_sh_open]/dat[mask_sh_closed]\n",
    "ratio = ratio[~np.isnan(ratio)]\n",
    "\n",
    "fig, ax = plt.subplots(figsize = (8,5))\n",
    "ax.hist(ratio[ratio < 20], bins = 21);\n",
    "ax.axvline(r, color = 'k')\n",
    "\n",
    "rr = np.nanmean(ratio[ratio < 20])\n",
    "rrstd = np.nanstd(ratio[ratio < 20])/np.sqrt(len(ratio)-1)\n",
    "\n",
    "ax.axvline(rr, color = 'C3')\n",
    "\n",
    "set_fontsize(ax, 14)\n",
    "\n",
    "print(f\"ratio is {rr:.2f} +/- {rrstd:.2f}\")"
   ]
  },
  {
   "cell_type": "markdown",
   "metadata": {},
   "source": [
    "## R0 F2 ratio and population with RC laser pol switching\n",
    "With J12 and J23 microwaves"
   ]
  },
  {
   "cell_type": "code",
   "execution_count": 630,
   "metadata": {},
   "outputs": [],
   "source": [
    "dset_name = dset_names[28]\n",
    "devices = ()"
   ]
  },
  {
   "cell_type": "code",
   "execution_count": 631,
   "metadata": {},
   "outputs": [],
   "source": [
    "slice_flm  = np.s_[-250:]\n",
    "slice_absm = np.s_[-500:]\n",
    "slice_fli  = np.s_[100:]\n",
    "slice_absi = np.s_[10:]"
   ]
  },
  {
   "cell_type": "code",
   "execution_count": 632,
   "metadata": {},
   "outputs": [],
   "source": [
    "pxie, pxie_time, pxie_attrs, data_devices = load_measurement_data_devices_attrs(hdf_dir / fname, dset_name, devices)\n",
    "\n",
    "yag_data = np.array([pxie[idx][:,yag_channel] for idx in range(1,len(pxie)+1)])\n",
    "pmt_data = -np.array([pxie[idx][:,pmt_channel].astype(float) for idx in range(1,len(pxie)+1)])\n",
    "pd_data = np.array([pxie[idx][:,pd_channel].astype(float) for idx in range(1,len(pxie)+1)])\n",
    "pdn_data = np.array([pxie[idx][:,pdn_channel].astype(float) for idx in range(1,len(pxie)+1)])\n",
    "shutter_data = np.array([pxie[idx][:,shutter_channel].astype(float) for idx in range(1,len(pxie)+1)])\n",
    "pdrc_data = np.array([pxie[idx][:,pdrc_channel].astype(float) for idx in range(1,len(pxie)+1)])\n",
    "\n",
    "norm_data = -pd_data/pdn_data"
   ]
  },
  {
   "cell_type": "code",
   "execution_count": 633,
   "metadata": {},
   "outputs": [],
   "source": [
    "yag_cutoff = 250\n",
    "ptn_cutoff = 19000\n",
    "abs_cutoff = 4\n",
    "fl_cutoff = -5000"
   ]
  },
  {
   "cell_type": "code",
   "execution_count": 634,
   "metadata": {},
   "outputs": [],
   "source": [
    "pmt_data_norm = pmt_data.copy()\n",
    "norm_data_norm = norm_data.copy()\n",
    "\n",
    "mask_yag = yag_data.max(axis = 1) < yag_cutoff\n",
    "mask_pdn = pdn_data.min(axis = 1) < ptn_cutoff\n",
    "mask_abs = np.trapz(norm_data[:,slice_absi] - norm_data[:,slice_absm].mean(axis = 1)[:, np.newaxis]) < abs_cutoff\n",
    "mask_fl = np.trapz(pmt_data[:,slice_fli] - pmt_data[:,slice_flm].mean(axis = 1)[:, np.newaxis]) < fl_cutoff\n",
    "\n",
    "mask = mask_yag | mask_pdn | mask_abs | mask_fl\n",
    "\n",
    "norm_data_norm[mask] = np.nan\n",
    "norm_data_norm -= norm_data_norm[:,slice_absm].mean(axis = 1)[:, np.newaxis]\n",
    "\n",
    "pmt_data_norm[mask] = np.nan\n",
    "pmt_data_norm -= pmt_data_norm[:,slice_flm].mean(axis = 1)[:, np.newaxis]"
   ]
  },
  {
   "cell_type": "code",
   "execution_count": 635,
   "metadata": {},
   "outputs": [],
   "source": [
    "fluorescence_integral = np.trapz(pmt_data_norm[:,slice_fli], axis = 1)\n",
    "absorption_integral = np.trapz(norm_data_norm[:,slice_absi], axis = 1)\n",
    "\n",
    "mask_sh_open = shutter_data.max(axis = 1) > 10000\n",
    "\n",
    "nbunch = 10\n",
    "mask_sh_open = mask_sh_open[:(len(mask_sh_open)//nbunch) * nbunch]\n",
    "mask_sh_closed = ~mask_sh_open"
   ]
  },
  {
   "cell_type": "code",
   "execution_count": 636,
   "metadata": {},
   "outputs": [],
   "source": [
    "dat = (fluorescence_integral/absorption_integral)\n",
    "dat = dat[:len(dat)//nbunch * nbunch]"
   ]
  },
  {
   "cell_type": "code",
   "execution_count": 637,
   "metadata": {},
   "outputs": [
    {
     "name": "stdout",
     "output_type": "stream",
     "text": [
      "ratio is 3.48 +/- 0.07\n"
     ]
    },
    {
     "data": {
      "image/png": "[encoded data removed]",
      "text/plain": [
       "<Figure size 576x360 with 1 Axes>"
      ]
     },
     "metadata": {
      "needs_background": "light"
     },
     "output_type": "display_data"
    }
   ],
   "source": [
    "o = np.nanmean(dat[mask_sh_open])\n",
    "ostd = np.nanstd(dat[mask_sh_open])/np.sqrt(np.sum(~np.isnan(dat[mask_sh_open]))-1)\n",
    "c = np.nanmean(dat[mask_sh_closed])\n",
    "cstd = np.nanstd(dat[mask_sh_closed])/np.sqrt(np.sum(~np.isnan(dat[mask_sh_closed]))-1)\n",
    "\n",
    "fig, ax = plt.subplots(figsize = (8,5))\n",
    "d = dat[mask_sh_closed]\n",
    "d = d[~np.isnan(d)]\n",
    "ax.hist(d, alpha = 0.7, bins = 15, label = 'RC off')\n",
    "ax.axvline(c, color = 'k')\n",
    "d = dat[mask_sh_open]\n",
    "d = d[~np.isnan(d)]\n",
    "ax.hist(d, alpha = 0.8, bins = 15, label = 'RC on')\n",
    "ax.axvline(o, color = 'k')\n",
    "\n",
    "ax.legend(fontsize = 14)\n",
    "set_fontsize(ax, 14)\n",
    "\n",
    "r, rstd = ratio_with_error(o, c, ostd, cstd)\n",
    "print(f\"ratio is {r:.2f} +/- {rstd:.2f}\")"
   ]
  },
  {
   "cell_type": "code",
   "execution_count": 638,
   "metadata": {},
   "outputs": [
    {
     "name": "stdout",
     "output_type": "stream",
     "text": [
      "ratio is 3.95 +/- 0.10\n"
     ]
    },
    {
     "data": {
      "image/png": "[encoded data removed]",
      "text/plain": [
       "<Figure size 576x360 with 1 Axes>"
      ]
     },
     "metadata": {
      "needs_background": "light"
     },
     "output_type": "display_data"
    }
   ],
   "source": [
    "ratio = dat[mask_sh_open]/dat[mask_sh_closed]\n",
    "ratio = ratio[~np.isnan(ratio)]\n",
    "\n",
    "fig, ax = plt.subplots(figsize = (8,5))\n",
    "ax.hist(ratio[ratio < 20], bins = 21);\n",
    "ax.axvline(r, color = 'k')\n",
    "\n",
    "rr = np.nanmean(ratio[ratio < 20])\n",
    "rrstd = np.nanstd(ratio[ratio < 20])/np.sqrt(len(ratio)-1)\n",
    "\n",
    "ax.axvline(rr, color = 'C3')\n",
    "\n",
    "set_fontsize(ax, 14)\n",
    "\n",
    "print(f\"ratio is {rr:.2f} +/- {rrstd:.2f}\")"
   ]
  },
  {
   "cell_type": "markdown",
   "metadata": {},
   "source": [
    "## Q1 F1 ratio and population with RC laser pol switching"
   ]
  },
  {
   "cell_type": "code",
   "execution_count": 639,
   "metadata": {},
   "outputs": [],
   "source": [
    "dset_name = dset_names[33]\n",
    "devices = ()"
   ]
  },
  {
   "cell_type": "code",
   "execution_count": 640,
   "metadata": {},
   "outputs": [],
   "source": [
    "slice_flm  = np.s_[-250:]\n",
    "slice_absm = np.s_[-500:]\n",
    "slice_fli  = np.s_[100:]\n",
    "slice_absi = np.s_[10:]"
   ]
  },
  {
   "cell_type": "code",
   "execution_count": 641,
   "metadata": {},
   "outputs": [],
   "source": [
    "pxie, pxie_time, pxie_attrs, data_devices = load_measurement_data_devices_attrs(hdf_dir / fname, dset_name, devices)\n",
    "\n",
    "yag_data = np.array([pxie[idx][:,yag_channel] for idx in range(1,len(pxie)+1)])\n",
    "pmt_data = -np.array([pxie[idx][:,pmt_channel].astype(float) for idx in range(1,len(pxie)+1)])\n",
    "pd_data = np.array([pxie[idx][:,pd_channel].astype(float) for idx in range(1,len(pxie)+1)])\n",
    "pdn_data = np.array([pxie[idx][:,pdn_channel].astype(float) for idx in range(1,len(pxie)+1)])\n",
    "shutter_data = np.array([pxie[idx][:,shutter_channel].astype(float) for idx in range(1,len(pxie)+1)])\n",
    "pdrc_data = np.array([pxie[idx][:,pdrc_channel].astype(float) for idx in range(1,len(pxie)+1)])\n",
    "\n",
    "norm_data = -pd_data/pdn_data"
   ]
  },
  {
   "cell_type": "code",
   "execution_count": 642,
   "metadata": {},
   "outputs": [],
   "source": [
    "yag_cutoff = 250\n",
    "ptn_cutoff = 19000\n",
    "abs_cutoff = 4\n",
    "fl_cutoff = -5000"
   ]
  },
  {
   "cell_type": "code",
   "execution_count": 643,
   "metadata": {},
   "outputs": [],
   "source": [
    "pmt_data_norm = pmt_data.copy()\n",
    "norm_data_norm = norm_data.copy()\n",
    "\n",
    "mask_yag = yag_data.max(axis = 1) < yag_cutoff\n",
    "mask_pdn = pdn_data.min(axis = 1) < ptn_cutoff\n",
    "mask_abs = np.trapz(norm_data[:,slice_absi] - norm_data[:,slice_absm].mean(axis = 1)[:, np.newaxis]) < abs_cutoff\n",
    "mask_fl = np.trapz(pmt_data[:,slice_fli] - pmt_data[:,slice_flm].mean(axis = 1)[:, np.newaxis]) < fl_cutoff\n",
    "\n",
    "mask = mask_yag | mask_pdn | mask_abs | mask_fl\n",
    "\n",
    "norm_data_norm[mask] = np.nan\n",
    "norm_data_norm -= norm_data_norm[:,slice_absm].mean(axis = 1)[:, np.newaxis]\n",
    "\n",
    "pmt_data_norm[mask] = np.nan\n",
    "pmt_data_norm -= pmt_data_norm[:,slice_flm].mean(axis = 1)[:, np.newaxis]"
   ]
  },
  {
   "cell_type": "code",
   "execution_count": 644,
   "metadata": {},
   "outputs": [],
   "source": [
    "fluorescence_integral = np.trapz(pmt_data_norm[:,slice_fli], axis = 1)\n",
    "absorption_integral = np.trapz(norm_data_norm[:,slice_absi], axis = 1)\n",
    "\n",
    "mask_sh_open = shutter_data.max(axis = 1) > 10000\n",
    "\n",
    "nbunch = 10\n",
    "mask_sh_open = mask_sh_open[:(len(mask_sh_open)//nbunch) * nbunch]\n",
    "mask_sh_closed = ~mask_sh_open"
   ]
  },
  {
   "cell_type": "code",
   "execution_count": 645,
   "metadata": {},
   "outputs": [],
   "source": [
    "dat = (fluorescence_integral/absorption_integral)\n",
    "dat = dat[:len(dat)//nbunch * nbunch]"
   ]
  },
  {
   "cell_type": "code",
   "execution_count": 649,
   "metadata": {},
   "outputs": [
    {
     "name": "stdout",
     "output_type": "stream",
     "text": [
      "ratio is 0.14 +/- 0.00\n"
     ]
    },
    {
     "data": {
      "image/png": "[encoded data removed]",
      "text/plain": [
       "<Figure size 576x360 with 1 Axes>"
      ]
     },
     "metadata": {
      "needs_background": "light"
     },
     "output_type": "display_data"
    }
   ],
   "source": [
    "o = np.nanmean(dat[mask_sh_open])\n",
    "ostd = np.nanstd(dat[mask_sh_open])/np.sqrt(np.sum(~np.isnan(dat[mask_sh_open]))-1)\n",
    "c = np.nanmean(dat[mask_sh_closed])\n",
    "cstd = np.nanstd(dat[mask_sh_closed])/np.sqrt(np.sum(~np.isnan(dat[mask_sh_closed]))-1)\n",
    "\n",
    "fig, ax = plt.subplots(figsize = (8,5))\n",
    "d = dat[mask_sh_closed]\n",
    "d = d[~np.isnan(d)]\n",
    "ax.hist(d, alpha = 0.7, bins = 15, label = 'RC off')\n",
    "ax.axvline(c, color = 'k')\n",
    "d = dat[mask_sh_open]\n",
    "d = d[~np.isnan(d)]\n",
    "ax.hist(d, alpha = 0.8, bins = 15, label = 'RC on')\n",
    "ax.axvline(o, color = 'k')\n",
    "\n",
    "ax.legend(fontsize = 14)\n",
    "set_fontsize(ax, 14)\n",
    "\n",
    "r, rstd = ratio_with_error(o, c, ostd, cstd)\n",
    "print(f\"ratio is {r:.2f} +/- {rstd:.2f}\")"
   ]
  },
  {
   "cell_type": "code",
   "execution_count": 650,
   "metadata": {},
   "outputs": [
    {
     "name": "stdout",
     "output_type": "stream",
     "text": [
      "ratio is 0.14 +/- 0.002\n"
     ]
    },
    {
     "data": {
      "image/png": "[encoded data removed]",
      "text/plain": [
       "<Figure size 576x360 with 1 Axes>"
      ]
     },
     "metadata": {
      "needs_background": "light"
     },
     "output_type": "display_data"
    }
   ],
   "source": [
    "ratio = dat[mask_sh_open]/dat[mask_sh_closed]\n",
    "ratio = ratio[~np.isnan(ratio)]\n",
    "\n",
    "fig, ax = plt.subplots(figsize = (8,5))\n",
    "ax.hist(ratio[ratio < 20], bins = 21);\n",
    "ax.axvline(r, color = 'k')\n",
    "\n",
    "rr = np.nanmean(ratio[ratio < 20])\n",
    "rrstd = np.nanstd(ratio[ratio < 20])/np.sqrt(len(ratio)-1)\n",
    "\n",
    "ax.axvline(rr, color = 'C3')\n",
    "\n",
    "set_fontsize(ax, 14)\n",
    "\n",
    "print(f\"ratio is {rr:.2f} +/- {rrstd:.3f}\")"
   ]
  },
  {
   "cell_type": "code",
   "execution_count": 648,
   "metadata": {},
   "outputs": [
    {
     "data": {
      "text/plain": [
       "15639.149759975282"
      ]
     },
     "execution_count": 648,
     "metadata": {},
     "output_type": "execute_result"
    }
   ],
   "source": [
    "np.nanmean(dat[mask_sh_open])"
   ]
  },
  {
   "cell_type": "markdown",
   "metadata": {},
   "source": [
    "## Q1 F1 ratio and population no microwaves or RC laser"
   ]
  },
  {
   "cell_type": "code",
   "execution_count": 651,
   "metadata": {},
   "outputs": [],
   "source": [
    "dset_name = dset_names[34]\n",
    "devices = ()"
   ]
  },
  {
   "cell_type": "code",
   "execution_count": 652,
   "metadata": {},
   "outputs": [],
   "source": [
    "slice_flm  = np.s_[-250:]\n",
    "slice_absm = np.s_[-500:]\n",
    "slice_fli  = np.s_[100:]\n",
    "slice_absi = np.s_[10:]"
   ]
  },
  {
   "cell_type": "code",
   "execution_count": 653,
   "metadata": {},
   "outputs": [],
   "source": [
    "pxie, pxie_time, pxie_attrs, data_devices = load_measurement_data_devices_attrs(hdf_dir / fname, dset_name, devices)\n",
    "\n",
    "yag_data = np.array([pxie[idx][:,yag_channel] for idx in range(1,len(pxie)+1)])\n",
    "pmt_data = -np.array([pxie[idx][:,pmt_channel].astype(float) for idx in range(1,len(pxie)+1)])\n",
    "pd_data = np.array([pxie[idx][:,pd_channel].astype(float) for idx in range(1,len(pxie)+1)])\n",
    "pdn_data = np.array([pxie[idx][:,pdn_channel].astype(float) for idx in range(1,len(pxie)+1)])\n",
    "shutter_data = np.array([pxie[idx][:,shutter_channel].astype(float) for idx in range(1,len(pxie)+1)])\n",
    "pdrc_data = np.array([pxie[idx][:,pdrc_channel].astype(float) for idx in range(1,len(pxie)+1)])\n",
    "\n",
    "norm_data = -pd_data/pdn_data"
   ]
  },
  {
   "cell_type": "code",
   "execution_count": 654,
   "metadata": {},
   "outputs": [],
   "source": [
    "yag_cutoff = 250\n",
    "ptn_cutoff = 19000\n",
    "abs_cutoff = 4\n",
    "fl_cutoff = -5000"
   ]
  },
  {
   "cell_type": "code",
   "execution_count": 655,
   "metadata": {},
   "outputs": [],
   "source": [
    "pmt_data_norm = pmt_data.copy()\n",
    "norm_data_norm = norm_data.copy()\n",
    "\n",
    "mask_yag = yag_data.max(axis = 1) < yag_cutoff\n",
    "mask_pdn = pdn_data.min(axis = 1) < ptn_cutoff\n",
    "mask_abs = np.trapz(norm_data[:,slice_absi] - norm_data[:,slice_absm].mean(axis = 1)[:, np.newaxis]) < abs_cutoff\n",
    "mask_fl = np.trapz(pmt_data[:,slice_fli] - pmt_data[:,slice_flm].mean(axis = 1)[:, np.newaxis]) < fl_cutoff\n",
    "\n",
    "mask = mask_yag | mask_pdn | mask_abs | mask_fl\n",
    "\n",
    "norm_data_norm[mask] = np.nan\n",
    "norm_data_norm -= norm_data_norm[:,slice_absm].mean(axis = 1)[:, np.newaxis]\n",
    "\n",
    "pmt_data_norm[mask] = np.nan\n",
    "pmt_data_norm -= pmt_data_norm[:,slice_flm].mean(axis = 1)[:, np.newaxis]"
   ]
  },
  {
   "cell_type": "code",
   "execution_count": 656,
   "metadata": {},
   "outputs": [],
   "source": [
    "fluorescence_integral = np.trapz(pmt_data_norm[:,slice_fli], axis = 1)\n",
    "absorption_integral = np.trapz(norm_data_norm[:,slice_absi], axis = 1)"
   ]
  },
  {
   "cell_type": "code",
   "execution_count": 657,
   "metadata": {},
   "outputs": [],
   "source": [
    "dat = (fluorescence_integral/absorption_integral)"
   ]
  },
  {
   "cell_type": "code",
   "execution_count": 217,
   "metadata": {},
   "outputs": [
    {
     "data": {
      "image/png": "[encoded data removed]",
      "text/plain": [
       "<Figure size 576x360 with 1 Axes>"
      ]
     },
     "metadata": {
      "needs_background": "light"
     },
     "output_type": "display_data"
    }
   ],
   "source": [
    "fig, ax = plt.subplots(figsize = (8,5))\n",
    "ax.hist(dat[~np.isnan(dat)]);"
   ]
  },
  {
   "cell_type": "markdown",
   "metadata": {},
   "source": [
    "## Check depletion in J2 with P2 F1 (no microwaves)"
   ]
  },
  {
   "cell_type": "code",
   "execution_count": 744,
   "metadata": {},
   "outputs": [],
   "source": [
    "dset_name = dset_names[38]\n",
    "devices = ()"
   ]
  },
  {
   "cell_type": "code",
   "execution_count": 745,
   "metadata": {},
   "outputs": [],
   "source": [
    "slice_flm  = np.s_[-250:]\n",
    "slice_absm = np.s_[-500:]\n",
    "slice_fli  = np.s_[100:]\n",
    "slice_absi = np.s_[10:]"
   ]
  },
  {
   "cell_type": "code",
   "execution_count": 746,
   "metadata": {},
   "outputs": [],
   "source": [
    "pxie, pxie_time, pxie_attrs, data_devices = load_measurement_data_devices_attrs(hdf_dir / fname, dset_name, devices)\n",
    "\n",
    "yag_data = np.array([pxie[idx][:,yag_channel] for idx in range(1,len(pxie)+1)])\n",
    "pmt_data = -np.array([pxie[idx][:,pmt_channel].astype(float) for idx in range(1,len(pxie)+1)])\n",
    "pd_data = np.array([pxie[idx][:,pd_channel].astype(float) for idx in range(1,len(pxie)+1)])\n",
    "pdn_data = np.array([pxie[idx][:,pdn_channel].astype(float) for idx in range(1,len(pxie)+1)])\n",
    "shutter_data = np.array([pxie[idx][:,shutter_channel].astype(float) for idx in range(1,len(pxie)+1)])\n",
    "pdrc_data = np.array([pxie[idx][:,pdrc_channel].astype(float) for idx in range(1,len(pxie)+1)])\n",
    "\n",
    "norm_data = -pd_data/pdn_data"
   ]
  },
  {
   "cell_type": "code",
   "execution_count": 747,
   "metadata": {},
   "outputs": [],
   "source": [
    "scan_parameter = 'Laser Lock 1 SetLockPointSeed1'\n",
    "scan_parameters = np.array([float(pxie_attrs[idx][scan_parameter]) for idx in range(1,len(pxie)+1)])"
   ]
  },
  {
   "cell_type": "code",
   "execution_count": 748,
   "metadata": {},
   "outputs": [],
   "source": [
    "yag_cutoff = 250\n",
    "ptn_cutoff = 19000\n",
    "abs_cutoff = 4\n",
    "fl_cutoff = -5000"
   ]
  },
  {
   "cell_type": "code",
   "execution_count": 749,
   "metadata": {},
   "outputs": [],
   "source": [
    "pmt_data_norm = pmt_data.copy()\n",
    "norm_data_norm = norm_data.copy()\n",
    "\n",
    "mask_yag = yag_data.max(axis = 1) < yag_cutoff\n",
    "mask_pdn = pdn_data.min(axis = 1) < ptn_cutoff\n",
    "mask_abs = np.trapz(norm_data[:,slice_absi] - norm_data[:,slice_absm].mean(axis = 1)[:, np.newaxis]) < abs_cutoff\n",
    "mask_fl = np.trapz(pmt_data[:,slice_fli] - pmt_data[:,slice_flm].mean(axis = 1)[:, np.newaxis]) < fl_cutoff\n",
    "\n",
    "mask = mask_yag | mask_pdn | mask_abs | mask_fl\n",
    "\n",
    "norm_data_norm[mask] = np.nan\n",
    "norm_data_norm -= norm_data_norm[:,slice_absm].mean(axis = 1)[:, np.newaxis]\n",
    "\n",
    "pmt_data_norm[mask] = np.nan\n",
    "pmt_data_norm -= pmt_data_norm[:,slice_flm].mean(axis = 1)[:, np.newaxis]"
   ]
  },
  {
   "cell_type": "code",
   "execution_count": 750,
   "metadata": {},
   "outputs": [],
   "source": [
    "fluorescence_integral = np.trapz(pmt_data_norm[:,slice_fli], axis = 1)\n",
    "absorption_integral = np.trapz(norm_data_norm[:,slice_absi], axis = 1)\n",
    "\n",
    "mask_sh_open = shutter_data.max(axis = 1) > 10000\n",
    "mask_sh_closed = ~mask_sh_open\n",
    "\n",
    "bin_width = np.diff(np.unique(scan_parameters)).min()\n",
    "bins = np.arange(np.unique(scan_parameters).min()-bin_width/2, np.unique(scan_parameters).max()+bin_width, bin_width)\n",
    "\n",
    "results = []\n",
    "for m in [mask_sh_open, mask_sh_closed]:\n",
    "    stat, bin_edges, bin_number = binned_statistic(scan_parameters[m], (fluorescence_integral/absorption_integral)[m], lambda x: np.nanmean(x), bins = bins)\n",
    "    err, _, _ = binned_statistic(scan_parameters[m], (fluorescence_integral/absorption_integral)[m], lambda x: np.nanstd(x)/np.sqrt(len(x)-1), bins = bins)\n",
    "    results.append((stat, err, bin_number))\n",
    "    \n",
    "bin_means = bin_edges[:-1]+bin_width/2"
   ]
  },
  {
   "cell_type": "code",
   "execution_count": 751,
   "metadata": {},
   "outputs": [
    {
     "data": {
      "image/png": "[encoded data removed]",
      "text/plain": [
       "<Figure size 576x360 with 1 Axes>"
      ]
     },
     "metadata": {
      "needs_background": "light"
     },
     "output_type": "display_data"
    },
    {
     "data": {
      "image/png": "[encoded data removed]",
      "text/plain": [
       "<Figure size 576x360 with 1 Axes>"
      ]
     },
     "metadata": {
      "needs_background": "light"
     },
     "output_type": "display_data"
    }
   ],
   "source": [
    "fig, ax = plt.subplots(figsize = (8,5))\n",
    "ax.errorbar(bin_means, results[0][0], yerr = results[0][1], fmt = '.', label = 'RC on')\n",
    "ax.errorbar(bin_means, results[1][0], yerr = results[1][1], fmt = '.', label = 'RC off')\n",
    "\n",
    "ax.set_xlabel('IR frequency [MHz]')\n",
    "ax.set_ylabel('normalized signal [arb.]')\n",
    "ax.legend(fontsize = 14)\n",
    "\n",
    "ax.grid(True)\n",
    "set_fontsize(ax, 14)\n",
    "\n",
    "ratio, err = ratio_with_error(results[0][0], results[1][0], results[0][1], results[1][1])\n",
    "\n",
    "fig, ax = plt.subplots(figsize = (8,5))\n",
    "ax.errorbar(bin_means, ratio, yerr = err, fmt = '.')\n",
    "\n",
    "ax.set_xlabel('IR frequency [MHz]')\n",
    "ax.set_ylabel('ratio')\n",
    "\n",
    "ax.grid(True)\n",
    "\n",
    "set_fontsize(ax, 14)"
   ]
  },
  {
   "cell_type": "markdown",
   "metadata": {},
   "source": [
    "## Check depletion in J2 with P2 F1 (with microwaves)"
   ]
  },
  {
   "cell_type": "code",
   "execution_count": 730,
   "metadata": {},
   "outputs": [],
   "source": [
    "dset_name = dset_names[39]\n",
    "devices = ()"
   ]
  },
  {
   "cell_type": "code",
   "execution_count": 731,
   "metadata": {},
   "outputs": [],
   "source": [
    "slice_flm  = np.s_[-250:]\n",
    "slice_absm = np.s_[-500:]\n",
    "slice_fli  = np.s_[100:]\n",
    "slice_absi = np.s_[10:]"
   ]
  },
  {
   "cell_type": "code",
   "execution_count": 732,
   "metadata": {},
   "outputs": [],
   "source": [
    "pxie, pxie_time, pxie_attrs, data_devices = load_measurement_data_devices_attrs(hdf_dir / fname, dset_name, devices)\n",
    "\n",
    "yag_data = np.array([pxie[idx][:,yag_channel] for idx in range(1,len(pxie)+1)])\n",
    "pmt_data = -np.array([pxie[idx][:,pmt_channel].astype(float) for idx in range(1,len(pxie)+1)])\n",
    "pd_data = np.array([pxie[idx][:,pd_channel].astype(float) for idx in range(1,len(pxie)+1)])\n",
    "pdn_data = np.array([pxie[idx][:,pdn_channel].astype(float) for idx in range(1,len(pxie)+1)])\n",
    "shutter_data = np.array([pxie[idx][:,shutter_channel].astype(float) for idx in range(1,len(pxie)+1)])\n",
    "pdrc_data = np.array([pxie[idx][:,pdrc_channel].astype(float) for idx in range(1,len(pxie)+1)])\n",
    "\n",
    "norm_data = -pd_data/pdn_data"
   ]
  },
  {
   "cell_type": "code",
   "execution_count": 733,
   "metadata": {},
   "outputs": [],
   "source": [
    "scan_parameter = 'Laser Lock 1 SetLockPointSeed1'\n",
    "scan_parameters = np.array([float(pxie_attrs[idx][scan_parameter]) for idx in range(1,len(pxie)+1)])"
   ]
  },
  {
   "cell_type": "code",
   "execution_count": 734,
   "metadata": {},
   "outputs": [],
   "source": [
    "yag_cutoff = 250\n",
    "ptn_cutoff = 19000\n",
    "abs_cutoff = 4\n",
    "fl_cutoff = -5000"
   ]
  },
  {
   "cell_type": "code",
   "execution_count": 735,
   "metadata": {},
   "outputs": [],
   "source": [
    "pmt_data_norm = pmt_data.copy()\n",
    "norm_data_norm = norm_data.copy()\n",
    "\n",
    "mask_yag = yag_data.max(axis = 1) < yag_cutoff\n",
    "mask_pdn = pdn_data.min(axis = 1) < ptn_cutoff\n",
    "mask_abs = np.trapz(norm_data[:,slice_absi] - norm_data[:,slice_absm].mean(axis = 1)[:, np.newaxis]) < abs_cutoff\n",
    "mask_fl = np.trapz(pmt_data[:,slice_fli] - pmt_data[:,slice_flm].mean(axis = 1)[:, np.newaxis]) < fl_cutoff\n",
    "\n",
    "mask = mask_yag | mask_pdn | mask_abs | mask_fl\n",
    "\n",
    "norm_data_norm[mask] = np.nan\n",
    "norm_data_norm -= norm_data_norm[:,slice_absm].mean(axis = 1)[:, np.newaxis]\n",
    "\n",
    "pmt_data_norm[mask] = np.nan\n",
    "pmt_data_norm -= pmt_data_norm[:,slice_flm].mean(axis = 1)[:, np.newaxis]"
   ]
  },
  {
   "cell_type": "code",
   "execution_count": 736,
   "metadata": {},
   "outputs": [],
   "source": [
    "fluorescence_integral = np.trapz(pmt_data_norm[:,slice_fli], axis = 1)\n",
    "absorption_integral = np.trapz(norm_data_norm[:,slice_absi], axis = 1)\n",
    "\n",
    "mask_sh_open = shutter_data.max(axis = 1) > 10000\n",
    "mask_sh_closed = ~mask_sh_open\n",
    "\n",
    "bin_width = np.diff(np.unique(scan_parameters)).min()\n",
    "bins = np.arange(np.unique(scan_parameters).min()-bin_width/2, np.unique(scan_parameters).max()+bin_width, bin_width)\n",
    "\n",
    "results = []\n",
    "for m in [mask_sh_open, mask_sh_closed]:\n",
    "    stat, bin_edges, bin_number = binned_statistic(scan_parameters[m], (fluorescence_integral/absorption_integral)[m], lambda x: np.nanmean(x), bins = bins)\n",
    "    err, _, _ = binned_statistic(scan_parameters[m], (fluorescence_integral/absorption_integral)[m], lambda x: np.nanstd(x)/np.sqrt(len(x)-1), bins = bins)\n",
    "    results.append((stat, err, bin_number))\n",
    "    \n",
    "bin_means = bin_edges[:-1]+bin_width/2"
   ]
  },
  {
   "cell_type": "code",
   "execution_count": 737,
   "metadata": {},
   "outputs": [
    {
     "data": {
      "image/png": "[encoded data removed]",
      "text/plain": [
       "<Figure size 576x360 with 1 Axes>"
      ]
     },
     "metadata": {
      "needs_background": "light"
     },
     "output_type": "display_data"
    },
    {
     "data": {
      "image/png": "[encoded data removed]",
      "text/plain": [
       "<Figure size 576x360 with 1 Axes>"
      ]
     },
     "metadata": {
      "needs_background": "light"
     },
     "output_type": "display_data"
    }
   ],
   "source": [
    "fig, ax = plt.subplots(figsize = (8,5))\n",
    "ax.errorbar(bin_means, results[0][0], yerr = results[0][1], fmt = '.', label = 'RC on')\n",
    "ax.errorbar(bin_means, results[1][0], yerr = results[1][1], fmt = '.', label = 'RC off')\n",
    "\n",
    "ax.set_xlabel('IR frequency [MHz]')\n",
    "ax.set_ylabel('normalized signal [arb.]')\n",
    "ax.legend(fontsize = 14)\n",
    "\n",
    "ax.grid(True)\n",
    "set_fontsize(ax, 14)\n",
    "\n",
    "ratio, err = ratio_with_error(results[0][0], results[1][0], results[0][1], results[1][1])\n",
    "\n",
    "fig, ax = plt.subplots(figsize = (8,5))\n",
    "ax.errorbar(bin_means, ratio, yerr = err, fmt = '.')\n",
    "\n",
    "ax.set_xlabel('IR frequency [MHz]')\n",
    "ax.set_ylabel('ratio')\n",
    "\n",
    "ax.grid(True)\n",
    "\n",
    "set_fontsize(ax, 14)"
   ]
  },
  {
   "cell_type": "markdown",
   "metadata": {},
   "source": [
    "## Check depletion in J3 with R3 F4 (with microwaves)"
   ]
  },
  {
   "cell_type": "code",
   "execution_count": 754,
   "metadata": {},
   "outputs": [],
   "source": [
    "dset_name = dset_names[44]\n",
    "devices = ()"
   ]
  },
  {
   "cell_type": "code",
   "execution_count": 755,
   "metadata": {},
   "outputs": [],
   "source": [
    "slice_flm  = np.s_[-250:]\n",
    "slice_absm = np.s_[-500:]\n",
    "slice_fli  = np.s_[100:]\n",
    "slice_absi = np.s_[10:]"
   ]
  },
  {
   "cell_type": "code",
   "execution_count": 756,
   "metadata": {},
   "outputs": [],
   "source": [
    "pxie, pxie_time, pxie_attrs, data_devices = load_measurement_data_devices_attrs(hdf_dir / fname, dset_name, devices)\n",
    "\n",
    "yag_data = np.array([pxie[idx][:,yag_channel] for idx in range(1,len(pxie)+1)])\n",
    "pmt_data = -np.array([pxie[idx][:,pmt_channel].astype(float) for idx in range(1,len(pxie)+1)])\n",
    "pd_data = np.array([pxie[idx][:,pd_channel].astype(float) for idx in range(1,len(pxie)+1)])\n",
    "pdn_data = np.array([pxie[idx][:,pdn_channel].astype(float) for idx in range(1,len(pxie)+1)])\n",
    "shutter_data = np.array([pxie[idx][:,shutter_channel].astype(float) for idx in range(1,len(pxie)+1)])\n",
    "pdrc_data = np.array([pxie[idx][:,pdrc_channel].astype(float) for idx in range(1,len(pxie)+1)])\n",
    "\n",
    "norm_data = -pd_data/pdn_data"
   ]
  },
  {
   "cell_type": "code",
   "execution_count": 757,
   "metadata": {},
   "outputs": [],
   "source": [
    "scan_parameter = 'Laser Lock 1 SetLockPointSeed1'\n",
    "scan_parameters = np.array([float(pxie_attrs[idx][scan_parameter]) for idx in range(1,len(pxie)+1)])"
   ]
  },
  {
   "cell_type": "code",
   "execution_count": 758,
   "metadata": {},
   "outputs": [],
   "source": [
    "yag_cutoff = 250\n",
    "ptn_cutoff = 19000\n",
    "abs_cutoff = 4\n",
    "fl_cutoff = -5000"
   ]
  },
  {
   "cell_type": "code",
   "execution_count": 759,
   "metadata": {},
   "outputs": [],
   "source": [
    "pmt_data_norm = pmt_data.copy()\n",
    "norm_data_norm = norm_data.copy()\n",
    "\n",
    "mask_yag = yag_data.max(axis = 1) < yag_cutoff\n",
    "mask_pdn = pdn_data.min(axis = 1) < ptn_cutoff\n",
    "mask_abs = np.trapz(norm_data[:,slice_absi] - norm_data[:,slice_absm].mean(axis = 1)[:, np.newaxis]) < abs_cutoff\n",
    "mask_fl = np.trapz(pmt_data[:,slice_fli] - pmt_data[:,slice_flm].mean(axis = 1)[:, np.newaxis]) < fl_cutoff\n",
    "\n",
    "mask = mask_yag | mask_pdn | mask_abs | mask_fl\n",
    "\n",
    "norm_data_norm[mask] = np.nan\n",
    "norm_data_norm -= norm_data_norm[:,slice_absm].mean(axis = 1)[:, np.newaxis]\n",
    "\n",
    "pmt_data_norm[mask] = np.nan\n",
    "pmt_data_norm -= pmt_data_norm[:,slice_flm].mean(axis = 1)[:, np.newaxis]"
   ]
  },
  {
   "cell_type": "code",
   "execution_count": 760,
   "metadata": {},
   "outputs": [],
   "source": [
    "fluorescence_integral = np.trapz(pmt_data_norm[:,slice_fli], axis = 1)\n",
    "absorption_integral = np.trapz(norm_data_norm[:,slice_absi], axis = 1)\n",
    "\n",
    "mask_sh_open = shutter_data.max(axis = 1) > 10000\n",
    "mask_sh_closed = ~mask_sh_open\n",
    "\n",
    "bin_width = np.diff(np.unique(scan_parameters)).min()\n",
    "bins = np.arange(np.unique(scan_parameters).min()-bin_width/2, np.unique(scan_parameters).max()+bin_width, bin_width)\n",
    "\n",
    "results = []\n",
    "for m in [mask_sh_open, mask_sh_closed]:\n",
    "    stat, bin_edges, bin_number = binned_statistic(scan_parameters[m], (fluorescence_integral/absorption_integral)[m], lambda x: np.nanmean(x), bins = bins)\n",
    "    err, _, _ = binned_statistic(scan_parameters[m], (fluorescence_integral/absorption_integral)[m], lambda x: np.nanstd(x)/np.sqrt(len(x)-1), bins = bins)\n",
    "    results.append((stat, err, bin_number))\n",
    "    \n",
    "bin_means = bin_edges[:-1]+bin_width/2"
   ]
  },
  {
   "cell_type": "code",
   "execution_count": 761,
   "metadata": {},
   "outputs": [
    {
     "data": {
      "image/png": "[encoded data removed]",
      "text/plain": [
       "<Figure size 576x360 with 1 Axes>"
      ]
     },
     "metadata": {
      "needs_background": "light"
     },
     "output_type": "display_data"
    },
    {
     "data": {
      "image/png": "[encoded data removed]",
      "text/plain": [
       "<Figure size 576x360 with 1 Axes>"
      ]
     },
     "metadata": {
      "needs_background": "light"
     },
     "output_type": "display_data"
    }
   ],
   "source": [
    "fig, ax = plt.subplots(figsize = (8,5))\n",
    "ax.errorbar(bin_means, results[0][0], yerr = results[0][1], fmt = '.', label = 'RC on')\n",
    "ax.errorbar(bin_means, results[1][0], yerr = results[1][1], fmt = '.', label = 'RC off')\n",
    "\n",
    "ax.set_xlabel('IR frequency [MHz]')\n",
    "ax.set_ylabel('normalized signal [arb.]')\n",
    "ax.legend(fontsize = 14)\n",
    "\n",
    "ax.grid(True)\n",
    "set_fontsize(ax, 14)\n",
    "\n",
    "ratio, err = ratio_with_error(results[0][0], results[1][0], results[0][1], results[1][1])\n",
    "\n",
    "fig, ax = plt.subplots(figsize = (8,5))\n",
    "ax.errorbar(bin_means, ratio, yerr = err, fmt = '.')\n",
    "\n",
    "ax.set_xlabel('IR frequency [MHz]')\n",
    "ax.set_ylabel('ratio')\n",
    "\n",
    "ax.grid(True)\n",
    "\n",
    "set_fontsize(ax, 14)"
   ]
  },
  {
   "cell_type": "markdown",
   "metadata": {},
   "source": [
    "## R0 F1 ratio and population with RC laser pol switching (49 mW)"
   ]
  },
  {
   "cell_type": "code",
   "execution_count": 658,
   "metadata": {},
   "outputs": [],
   "source": [
    "dset_name = dset_names[46]\n",
    "devices = ()"
   ]
  },
  {
   "cell_type": "code",
   "execution_count": 659,
   "metadata": {},
   "outputs": [],
   "source": [
    "slice_flm  = np.s_[-250:]\n",
    "slice_absm = np.s_[-500:]\n",
    "slice_fli  = np.s_[100:]\n",
    "slice_absi = np.s_[10:]"
   ]
  },
  {
   "cell_type": "code",
   "execution_count": 660,
   "metadata": {},
   "outputs": [],
   "source": [
    "pxie, pxie_time, pxie_attrs, data_devices = load_measurement_data_devices_attrs(hdf_dir / fname, dset_name, devices)\n",
    "\n",
    "yag_data = np.array([pxie[idx][:,yag_channel] for idx in range(1,len(pxie)+1)])\n",
    "pmt_data = -np.array([pxie[idx][:,pmt_channel].astype(float) for idx in range(1,len(pxie)+1)])\n",
    "pd_data = np.array([pxie[idx][:,pd_channel].astype(float) for idx in range(1,len(pxie)+1)])\n",
    "pdn_data = np.array([pxie[idx][:,pdn_channel].astype(float) for idx in range(1,len(pxie)+1)])\n",
    "shutter_data = np.array([pxie[idx][:,shutter_channel].astype(float) for idx in range(1,len(pxie)+1)])\n",
    "pdrc_data = np.array([pxie[idx][:,pdrc_channel].astype(float) for idx in range(1,len(pxie)+1)])\n",
    "\n",
    "norm_data = -pd_data/pdn_data"
   ]
  },
  {
   "cell_type": "code",
   "execution_count": 661,
   "metadata": {},
   "outputs": [],
   "source": [
    "yag_cutoff = 250\n",
    "ptn_cutoff = 19000\n",
    "abs_cutoff = 5\n",
    "fl_cutoff = -5000"
   ]
  },
  {
   "cell_type": "code",
   "execution_count": 662,
   "metadata": {},
   "outputs": [],
   "source": [
    "pmt_data_norm = pmt_data.copy()\n",
    "norm_data_norm = norm_data.copy()\n",
    "\n",
    "mask_yag = yag_data.max(axis = 1) < yag_cutoff\n",
    "mask_pdn = pdn_data.min(axis = 1) < ptn_cutoff\n",
    "mask_abs = np.trapz(norm_data[:,slice_absi] - norm_data[:,slice_absm].mean(axis = 1)[:, np.newaxis]) < abs_cutoff\n",
    "mask_fl = np.trapz(pmt_data[:,slice_fli] - pmt_data[:,slice_flm].mean(axis = 1)[:, np.newaxis]) < fl_cutoff\n",
    "\n",
    "mask = mask_yag | mask_pdn | mask_abs | mask_fl\n",
    "\n",
    "norm_data_norm[mask] = np.nan\n",
    "norm_data_norm -= norm_data_norm[:,slice_absm].mean(axis = 1)[:, np.newaxis]\n",
    "\n",
    "pmt_data_norm[mask] = np.nan\n",
    "pmt_data_norm -= pmt_data_norm[:,slice_flm].mean(axis = 1)[:, np.newaxis]"
   ]
  },
  {
   "cell_type": "code",
   "execution_count": 663,
   "metadata": {},
   "outputs": [],
   "source": [
    "fluorescence_integral = np.trapz(pmt_data_norm[:,slice_fli], axis = 1)\n",
    "absorption_integral = np.trapz(norm_data_norm[:,slice_absi], axis = 1)\n",
    "\n",
    "mask_sh_open = shutter_data.max(axis = 1) > 10000\n",
    "\n",
    "nbunch = 10\n",
    "mask_sh_open = mask_sh_open[:(len(mask_sh_open)//nbunch) * nbunch]\n",
    "mask_sh_closed = ~mask_sh_open"
   ]
  },
  {
   "cell_type": "code",
   "execution_count": 664,
   "metadata": {},
   "outputs": [],
   "source": [
    "dat = (fluorescence_integral/absorption_integral)\n",
    "dat = dat[:len(dat)//nbunch * nbunch]"
   ]
  },
  {
   "cell_type": "code",
   "execution_count": 665,
   "metadata": {},
   "outputs": [
    {
     "name": "stdout",
     "output_type": "stream",
     "text": [
      "ratio is 8.41 +/- 0.16\n"
     ]
    },
    {
     "data": {
      "image/png": "[encoded data removed]",
      "text/plain": [
       "<Figure size 576x360 with 1 Axes>"
      ]
     },
     "metadata": {
      "needs_background": "light"
     },
     "output_type": "display_data"
    }
   ],
   "source": [
    "o = np.nanmean(dat[mask_sh_open])\n",
    "ostd = np.nanstd(dat[mask_sh_open])/np.sqrt(np.sum(~np.isnan(dat[mask_sh_open]))-1)\n",
    "c = np.nanmean(dat[mask_sh_closed])\n",
    "cstd = np.nanstd(dat[mask_sh_closed])/np.sqrt(np.sum(~np.isnan(dat[mask_sh_closed]))-1)\n",
    "\n",
    "fig, ax = plt.subplots(figsize = (8,5))\n",
    "d = dat[mask_sh_closed]\n",
    "d = d[~np.isnan(d)]\n",
    "ax.hist(d, alpha = 0.7, bins = 15, label = 'RC off')\n",
    "ax.axvline(c, color = 'k')\n",
    "d = dat[mask_sh_open]\n",
    "d = d[~np.isnan(d)]\n",
    "ax.hist(d, alpha = 0.8, bins = 15, label = 'RC on')\n",
    "ax.axvline(o, color = 'k')\n",
    "\n",
    "ax.legend(fontsize = 14)\n",
    "set_fontsize(ax, 14)\n",
    "\n",
    "r, rstd = ratio_with_error(o, c, ostd, cstd)\n",
    "print(f\"ratio is {r:.2f} +/- {rstd:.2f}\")"
   ]
  },
  {
   "cell_type": "code",
   "execution_count": 666,
   "metadata": {},
   "outputs": [
    {
     "name": "stdout",
     "output_type": "stream",
     "text": [
      "ratio is 8.94 +/- 0.16\n"
     ]
    },
    {
     "data": {
      "image/png": "[encoded data removed]",
      "text/plain": [
       "<Figure size 576x360 with 1 Axes>"
      ]
     },
     "metadata": {
      "needs_background": "light"
     },
     "output_type": "display_data"
    }
   ],
   "source": [
    "ratio = dat[mask_sh_open]/dat[mask_sh_closed]\n",
    "ratio = ratio[~np.isnan(ratio)]\n",
    "\n",
    "fig, ax = plt.subplots(figsize = (8,5))\n",
    "ax.hist(ratio[ratio < 20], bins = 21);\n",
    "ax.axvline(r, color = 'k')\n",
    "\n",
    "rr = np.nanmean(ratio[ratio < 20])\n",
    "rrstd = np.nanstd(ratio[ratio < 20])/np.sqrt(len(ratio)-1)\n",
    "\n",
    "ax.axvline(rr, color = 'C3')\n",
    "\n",
    "set_fontsize(ax, 14)\n",
    "\n",
    "print(f\"ratio is {rr:.2f} +/- {rrstd:.2f}\")"
   ]
  },
  {
   "cell_type": "markdown",
   "metadata": {},
   "source": [
    "## R0 F2 ratio and population with RC laser pol switching (49 mW)"
   ]
  },
  {
   "cell_type": "code",
   "execution_count": 667,
   "metadata": {},
   "outputs": [],
   "source": [
    "dset_name = dset_names[48]\n",
    "devices = ()"
   ]
  },
  {
   "cell_type": "code",
   "execution_count": 668,
   "metadata": {},
   "outputs": [],
   "source": [
    "slice_flm  = np.s_[-250:]\n",
    "slice_absm = np.s_[-500:]\n",
    "slice_fli  = np.s_[100:]\n",
    "slice_absi = np.s_[10:]"
   ]
  },
  {
   "cell_type": "code",
   "execution_count": 669,
   "metadata": {},
   "outputs": [],
   "source": [
    "pxie, pxie_time, pxie_attrs, data_devices = load_measurement_data_devices_attrs(hdf_dir / fname, dset_name, devices)\n",
    "\n",
    "yag_data = np.array([pxie[idx][:,yag_channel] for idx in range(1,len(pxie)+1)])\n",
    "pmt_data = -np.array([pxie[idx][:,pmt_channel].astype(float) for idx in range(1,len(pxie)+1)])\n",
    "pd_data = np.array([pxie[idx][:,pd_channel].astype(float) for idx in range(1,len(pxie)+1)])\n",
    "pdn_data = np.array([pxie[idx][:,pdn_channel].astype(float) for idx in range(1,len(pxie)+1)])\n",
    "shutter_data = np.array([pxie[idx][:,shutter_channel].astype(float) for idx in range(1,len(pxie)+1)])\n",
    "pdrc_data = np.array([pxie[idx][:,pdrc_channel].astype(float) for idx in range(1,len(pxie)+1)])\n",
    "\n",
    "norm_data = -pd_data/pdn_data"
   ]
  },
  {
   "cell_type": "code",
   "execution_count": 670,
   "metadata": {},
   "outputs": [],
   "source": [
    "yag_cutoff = 250\n",
    "ptn_cutoff = 19000\n",
    "abs_cutoff = 4\n",
    "fl_cutoff = -5000"
   ]
  },
  {
   "cell_type": "code",
   "execution_count": 671,
   "metadata": {},
   "outputs": [],
   "source": [
    "pmt_data_norm = pmt_data.copy()\n",
    "norm_data_norm = norm_data.copy()\n",
    "\n",
    "mask_yag = yag_data.max(axis = 1) < yag_cutoff\n",
    "mask_pdn = pdn_data.min(axis = 1) < ptn_cutoff\n",
    "mask_abs = np.trapz(norm_data[:,slice_absi] - norm_data[:,slice_absm].mean(axis = 1)[:, np.newaxis]) < abs_cutoff\n",
    "mask_fl = np.trapz(pmt_data[:,slice_fli] - pmt_data[:,slice_flm].mean(axis = 1)[:, np.newaxis]) < fl_cutoff\n",
    "\n",
    "mask = mask_yag | mask_pdn | mask_abs | mask_fl\n",
    "\n",
    "norm_data_norm[mask] = np.nan\n",
    "norm_data_norm -= norm_data_norm[:,slice_absm].mean(axis = 1)[:, np.newaxis]\n",
    "\n",
    "pmt_data_norm[mask] = np.nan\n",
    "pmt_data_norm -= pmt_data_norm[:,slice_flm].mean(axis = 1)[:, np.newaxis]"
   ]
  },
  {
   "cell_type": "code",
   "execution_count": 672,
   "metadata": {},
   "outputs": [],
   "source": [
    "fluorescence_integral = np.trapz(pmt_data_norm[:,slice_fli], axis = 1)\n",
    "absorption_integral = np.trapz(norm_data_norm[:,slice_absi], axis = 1)\n",
    "\n",
    "mask_sh_open = shutter_data.max(axis = 1) > 10000\n",
    "\n",
    "nbunch = 10\n",
    "mask_sh_open = mask_sh_open[:(len(mask_sh_open)//nbunch) * nbunch]\n",
    "mask_sh_closed = ~mask_sh_open"
   ]
  },
  {
   "cell_type": "code",
   "execution_count": 673,
   "metadata": {},
   "outputs": [],
   "source": [
    "dat = (fluorescence_integral/absorption_integral)\n",
    "dat = dat[:len(dat)//nbunch * nbunch]"
   ]
  },
  {
   "cell_type": "code",
   "execution_count": 674,
   "metadata": {},
   "outputs": [
    {
     "name": "stdout",
     "output_type": "stream",
     "text": [
      "ratio is 3.60 +/- 0.07\n"
     ]
    },
    {
     "data": {
      "image/png": "[encoded data removed]",
      "text/plain": [
       "<Figure size 576x360 with 1 Axes>"
      ]
     },
     "metadata": {
      "needs_background": "light"
     },
     "output_type": "display_data"
    }
   ],
   "source": [
    "o = np.nanmean(dat[mask_sh_open])\n",
    "ostd = np.nanstd(dat[mask_sh_open])/np.sqrt(np.sum(~np.isnan(dat[mask_sh_open]))-1)\n",
    "c = np.nanmean(dat[mask_sh_closed])\n",
    "cstd = np.nanstd(dat[mask_sh_closed])/np.sqrt(np.sum(~np.isnan(dat[mask_sh_closed]))-1)\n",
    "\n",
    "fig, ax = plt.subplots(figsize = (8,5))\n",
    "d = dat[mask_sh_closed]\n",
    "d = d[~np.isnan(d)]\n",
    "ax.hist(d, alpha = 0.7, bins = 15, label = 'RC off')\n",
    "ax.axvline(c, color = 'k')\n",
    "d = dat[mask_sh_open]\n",
    "d = d[~np.isnan(d)]\n",
    "ax.hist(d, alpha = 0.8, bins = 15, label = 'RC on')\n",
    "ax.axvline(o, color = 'k')\n",
    "\n",
    "ax.legend(fontsize = 14)\n",
    "set_fontsize(ax, 14)\n",
    "\n",
    "r, rstd = ratio_with_error(o, c, ostd, cstd)\n",
    "print(f\"ratio is {r:.2f} +/- {rstd:.2f}\")"
   ]
  },
  {
   "cell_type": "code",
   "execution_count": 675,
   "metadata": {},
   "outputs": [
    {
     "name": "stdout",
     "output_type": "stream",
     "text": [
      "ratio is 3.89 +/- 0.08\n"
     ]
    },
    {
     "data": {
      "image/png": "[encoded data removed]",
      "text/plain": [
       "<Figure size 576x360 with 1 Axes>"
      ]
     },
     "metadata": {
      "needs_background": "light"
     },
     "output_type": "display_data"
    }
   ],
   "source": [
    "ratio = dat[mask_sh_open]/dat[mask_sh_closed]\n",
    "ratio = ratio[~np.isnan(ratio)]\n",
    "\n",
    "fig, ax = plt.subplots(figsize = (8,5))\n",
    "ax.hist(ratio[ratio < 20], bins = 21);\n",
    "ax.axvline(r, color = 'k')\n",
    "\n",
    "rr = np.nanmean(ratio[ratio < 20])\n",
    "rrstd = np.nanstd(ratio[ratio < 20])/np.sqrt(len(ratio)-1)\n",
    "\n",
    "ax.axvline(rr, color = 'C3')\n",
    "\n",
    "set_fontsize(ax, 14)\n",
    "\n",
    "print(f\"ratio is {rr:.2f} +/- {rrstd:.2f}\")"
   ]
  },
  {
   "cell_type": "markdown",
   "metadata": {},
   "source": [
    "## R0 F2 ratio and population with RC laser pol switching (53 mW)"
   ]
  },
  {
   "cell_type": "code",
   "execution_count": 676,
   "metadata": {},
   "outputs": [],
   "source": [
    "dset_name = dset_names[49]\n",
    "devices = ()"
   ]
  },
  {
   "cell_type": "code",
   "execution_count": 677,
   "metadata": {},
   "outputs": [],
   "source": [
    "slice_flm  = np.s_[-250:]\n",
    "slice_absm = np.s_[-500:]\n",
    "slice_fli  = np.s_[100:]\n",
    "slice_absi = np.s_[10:]"
   ]
  },
  {
   "cell_type": "code",
   "execution_count": 678,
   "metadata": {},
   "outputs": [],
   "source": [
    "pxie, pxie_time, pxie_attrs, data_devices = load_measurement_data_devices_attrs(hdf_dir / fname, dset_name, devices)\n",
    "\n",
    "yag_data = np.array([pxie[idx][:,yag_channel] for idx in range(1,len(pxie)+1)])\n",
    "pmt_data = -np.array([pxie[idx][:,pmt_channel].astype(float) for idx in range(1,len(pxie)+1)])\n",
    "pd_data = np.array([pxie[idx][:,pd_channel].astype(float) for idx in range(1,len(pxie)+1)])\n",
    "pdn_data = np.array([pxie[idx][:,pdn_channel].astype(float) for idx in range(1,len(pxie)+1)])\n",
    "shutter_data = np.array([pxie[idx][:,shutter_channel].astype(float) for idx in range(1,len(pxie)+1)])\n",
    "pdrc_data = np.array([pxie[idx][:,pdrc_channel].astype(float) for idx in range(1,len(pxie)+1)])\n",
    "\n",
    "norm_data = -pd_data/pdn_data"
   ]
  },
  {
   "cell_type": "code",
   "execution_count": 679,
   "metadata": {},
   "outputs": [],
   "source": [
    "yag_cutoff = 250\n",
    "ptn_cutoff = 19000\n",
    "abs_cutoff = 4\n",
    "fl_cutoff = -5000"
   ]
  },
  {
   "cell_type": "code",
   "execution_count": 680,
   "metadata": {},
   "outputs": [],
   "source": [
    "pmt_data_norm = pmt_data.copy()\n",
    "norm_data_norm = norm_data.copy()\n",
    "\n",
    "mask_yag = yag_data.max(axis = 1) < yag_cutoff\n",
    "mask_pdn = pdn_data.min(axis = 1) < ptn_cutoff\n",
    "mask_abs = np.trapz(norm_data[:,slice_absi] - norm_data[:,slice_absm].mean(axis = 1)[:, np.newaxis]) < abs_cutoff\n",
    "mask_fl = np.trapz(pmt_data[:,slice_fli] - pmt_data[:,slice_flm].mean(axis = 1)[:, np.newaxis]) < fl_cutoff\n",
    "\n",
    "mask = mask_yag | mask_pdn | mask_abs | mask_fl\n",
    "\n",
    "norm_data_norm[mask] = np.nan\n",
    "norm_data_norm -= norm_data_norm[:,slice_absm].mean(axis = 1)[:, np.newaxis]\n",
    "\n",
    "pmt_data_norm[mask] = np.nan\n",
    "pmt_data_norm -= pmt_data_norm[:,slice_flm].mean(axis = 1)[:, np.newaxis]"
   ]
  },
  {
   "cell_type": "code",
   "execution_count": 681,
   "metadata": {},
   "outputs": [],
   "source": [
    "fluorescence_integral = np.trapz(pmt_data_norm[:,slice_fli], axis = 1)\n",
    "absorption_integral = np.trapz(norm_data_norm[:,slice_absi], axis = 1)\n",
    "\n",
    "mask_sh_open = shutter_data.max(axis = 1) > 10000\n",
    "\n",
    "nbunch = 10\n",
    "mask_sh_open = mask_sh_open[:(len(mask_sh_open)//nbunch) * nbunch]\n",
    "mask_sh_closed = ~mask_sh_open"
   ]
  },
  {
   "cell_type": "code",
   "execution_count": 682,
   "metadata": {},
   "outputs": [],
   "source": [
    "dat = (fluorescence_integral/absorption_integral)\n",
    "dat = dat[:len(dat)//nbunch * nbunch]"
   ]
  },
  {
   "cell_type": "code",
   "execution_count": 683,
   "metadata": {},
   "outputs": [
    {
     "name": "stdout",
     "output_type": "stream",
     "text": [
      "ratio is 3.76 +/- 0.08\n"
     ]
    },
    {
     "data": {
      "image/png": "[encoded data removed]",
      "text/plain": [
       "<Figure size 576x360 with 1 Axes>"
      ]
     },
     "metadata": {
      "needs_background": "light"
     },
     "output_type": "display_data"
    }
   ],
   "source": [
    "o = np.nanmean(dat[mask_sh_open])\n",
    "ostd = np.nanstd(dat[mask_sh_open])/np.sqrt(np.sum(~np.isnan(dat[mask_sh_open]))-1)\n",
    "c = np.nanmean(dat[mask_sh_closed])\n",
    "cstd = np.nanstd(dat[mask_sh_closed])/np.sqrt(np.sum(~np.isnan(dat[mask_sh_closed]))-1)\n",
    "\n",
    "fig, ax = plt.subplots(figsize = (8,5))\n",
    "d = dat[mask_sh_closed]\n",
    "d = d[~np.isnan(d)]\n",
    "ax.hist(d, alpha = 0.7, bins = 15, label = 'RC off')\n",
    "ax.axvline(c, color = 'k')\n",
    "d = dat[mask_sh_open]\n",
    "d = d[~np.isnan(d)]\n",
    "ax.hist(d, alpha = 0.8, bins = 15, label = 'RC on')\n",
    "ax.axvline(o, color = 'k')\n",
    "\n",
    "ax.legend(fontsize = 14)\n",
    "set_fontsize(ax, 14)\n",
    "\n",
    "r, rstd = ratio_with_error(o, c, ostd, cstd)\n",
    "print(f\"ratio is {r:.2f} +/- {rstd:.2f}\")"
   ]
  },
  {
   "cell_type": "code",
   "execution_count": 684,
   "metadata": {},
   "outputs": [
    {
     "name": "stdout",
     "output_type": "stream",
     "text": [
      "ratio is 4.17 +/- 0.10\n"
     ]
    },
    {
     "data": {
      "image/png": "[encoded data removed]",
      "text/plain": [
       "<Figure size 576x360 with 1 Axes>"
      ]
     },
     "metadata": {
      "needs_background": "light"
     },
     "output_type": "display_data"
    }
   ],
   "source": [
    "ratio = dat[mask_sh_open]/dat[mask_sh_closed]\n",
    "ratio = ratio[~np.isnan(ratio)]\n",
    "\n",
    "fig, ax = plt.subplots(figsize = (8,5))\n",
    "ax.hist(ratio[ratio < 20], bins = 21);\n",
    "ax.axvline(r, color = 'k')\n",
    "\n",
    "rr = np.nanmean(ratio[ratio < 20])\n",
    "rrstd = np.nanstd(ratio[ratio < 20])/np.sqrt(len(ratio)-1)\n",
    "\n",
    "ax.axvline(rr, color = 'C3')\n",
    "\n",
    "set_fontsize(ax, 14)\n",
    "\n",
    "print(f\"ratio is {rr:.2f} +/- {rrstd:.2f}\")"
   ]
  },
  {
   "cell_type": "markdown",
   "metadata": {},
   "source": [
    "## R0 F1 ratio and population with RC laser pol switching (53 mW)"
   ]
  },
  {
   "cell_type": "code",
   "execution_count": 685,
   "metadata": {},
   "outputs": [],
   "source": [
    "dset_name = dset_names[50]\n",
    "devices = ('SynthHD Pro',)"
   ]
  },
  {
   "cell_type": "code",
   "execution_count": 686,
   "metadata": {},
   "outputs": [],
   "source": [
    "slice_flm  = np.s_[-250:]\n",
    "slice_absm = np.s_[-500:]\n",
    "slice_fli  = np.s_[100:]\n",
    "slice_absi = np.s_[10:]"
   ]
  },
  {
   "cell_type": "code",
   "execution_count": 687,
   "metadata": {},
   "outputs": [],
   "source": [
    "pxie, pxie_time, pxie_attrs, data_devices = load_measurement_data_devices_attrs(hdf_dir / fname, dset_name, devices)\n",
    "\n",
    "yag_data = np.array([pxie[idx][:,yag_channel] for idx in range(1,len(pxie)+1)])\n",
    "pmt_data = -np.array([pxie[idx][:,pmt_channel].astype(float) for idx in range(1,len(pxie)+1)])\n",
    "pd_data = np.array([pxie[idx][:,pd_channel].astype(float) for idx in range(1,len(pxie)+1)])\n",
    "pdn_data = np.array([pxie[idx][:,pdn_channel].astype(float) for idx in range(1,len(pxie)+1)])\n",
    "shutter_data = np.array([pxie[idx][:,shutter_channel].astype(float) for idx in range(1,len(pxie)+1)])\n",
    "pdrc_data = np.array([pxie[idx][:,pdrc_channel].astype(float) for idx in range(1,len(pxie)+1)])\n",
    "\n",
    "norm_data = -pd_data/pdn_data"
   ]
  },
  {
   "cell_type": "code",
   "execution_count": 688,
   "metadata": {},
   "outputs": [],
   "source": [
    "yag_cutoff = 250\n",
    "ptn_cutoff = 19000\n",
    "abs_cutoff = 4\n",
    "fl_cutoff = -5000"
   ]
  },
  {
   "cell_type": "code",
   "execution_count": 689,
   "metadata": {},
   "outputs": [],
   "source": [
    "pmt_data_norm = pmt_data.copy()\n",
    "norm_data_norm = norm_data.copy()\n",
    "\n",
    "mask_yag = yag_data.max(axis = 1) < yag_cutoff\n",
    "mask_pdn = pdn_data.min(axis = 1) < ptn_cutoff\n",
    "mask_abs = np.trapz(norm_data[:,slice_absi] - norm_data[:,slice_absm].mean(axis = 1)[:, np.newaxis]) < abs_cutoff\n",
    "mask_fl = np.trapz(pmt_data[:,slice_fli] - pmt_data[:,slice_flm].mean(axis = 1)[:, np.newaxis]) < fl_cutoff\n",
    "\n",
    "mask = mask_yag | mask_pdn | mask_abs | mask_fl\n",
    "\n",
    "norm_data_norm[mask] = np.nan\n",
    "norm_data_norm -= norm_data_norm[:,slice_absm].mean(axis = 1)[:, np.newaxis]\n",
    "\n",
    "pmt_data_norm[mask] = np.nan\n",
    "pmt_data_norm -= pmt_data_norm[:,slice_flm].mean(axis = 1)[:, np.newaxis]"
   ]
  },
  {
   "cell_type": "code",
   "execution_count": 690,
   "metadata": {},
   "outputs": [],
   "source": [
    "fluorescence_integral = np.trapz(pmt_data_norm[:,slice_fli], axis = 1)\n",
    "absorption_integral = np.trapz(norm_data_norm[:,slice_absi], axis = 1)\n",
    "\n",
    "mask_sh_open = shutter_data.max(axis = 1) > 10000\n",
    "\n",
    "nbunch = 10\n",
    "mask_sh_open = mask_sh_open[:(len(mask_sh_open)//nbunch) * nbunch]\n",
    "mask_sh_closed = ~mask_sh_open"
   ]
  },
  {
   "cell_type": "code",
   "execution_count": 691,
   "metadata": {},
   "outputs": [],
   "source": [
    "dat = (fluorescence_integral/absorption_integral)\n",
    "dat = dat[:len(dat)//nbunch * nbunch]"
   ]
  },
  {
   "cell_type": "code",
   "execution_count": 692,
   "metadata": {},
   "outputs": [
    {
     "name": "stdout",
     "output_type": "stream",
     "text": [
      "ratio is 8.10 +/- 0.11\n"
     ]
    },
    {
     "data": {
      "image/png": "[encoded data removed]",
      "text/plain": [
       "<Figure size 576x360 with 1 Axes>"
      ]
     },
     "metadata": {
      "needs_background": "light"
     },
     "output_type": "display_data"
    }
   ],
   "source": [
    "o = np.nanmean(dat[mask_sh_open])\n",
    "ostd = np.nanstd(dat[mask_sh_open])/np.sqrt(np.sum(~np.isnan(dat[mask_sh_open]))-1)\n",
    "c = np.nanmean(dat[mask_sh_closed])\n",
    "cstd = np.nanstd(dat[mask_sh_closed])/np.sqrt(np.sum(~np.isnan(dat[mask_sh_closed]))-1)\n",
    "\n",
    "fig, ax = plt.subplots(figsize = (8,5))\n",
    "d = dat[mask_sh_closed]\n",
    "d = d[~np.isnan(d)]\n",
    "ax.hist(d, alpha = 0.7, bins = 15, label = 'RC off')\n",
    "ax.axvline(c, color = 'k')\n",
    "d = dat[mask_sh_open]\n",
    "d = d[~np.isnan(d)]\n",
    "ax.hist(d, alpha = 0.8, bins = 15, label = 'RC on')\n",
    "ax.axvline(o, color = 'k')\n",
    "\n",
    "ax.legend(fontsize = 14)\n",
    "set_fontsize(ax, 14)\n",
    "\n",
    "r, rstd = ratio_with_error(o, c, ostd, cstd)\n",
    "print(f\"ratio is {r:.2f} +/- {rstd:.2f}\")"
   ]
  },
  {
   "cell_type": "code",
   "execution_count": 693,
   "metadata": {},
   "outputs": [
    {
     "name": "stdout",
     "output_type": "stream",
     "text": [
      "ratio is 8.54 +/- 0.10\n"
     ]
    },
    {
     "data": {
      "image/png": "[encoded data removed]",
      "text/plain": [
       "<Figure size 576x360 with 1 Axes>"
      ]
     },
     "metadata": {
      "needs_background": "light"
     },
     "output_type": "display_data"
    }
   ],
   "source": [
    "ratio = dat[mask_sh_open]/dat[mask_sh_closed]\n",
    "ratio = ratio[~np.isnan(ratio)]\n",
    "\n",
    "fig, ax = plt.subplots(figsize = (8,5))\n",
    "ax.hist(ratio[ratio < 20], bins = 21);\n",
    "ax.axvline(r, color = 'k')\n",
    "\n",
    "rr = np.nanmean(ratio[ratio < 20])\n",
    "rrstd = np.nanstd(ratio[ratio < 20])/np.sqrt(len(ratio)-1)\n",
    "\n",
    "ax.axvline(rr, color = 'C3')\n",
    "\n",
    "set_fontsize(ax, 14)\n",
    "\n",
    "print(f\"ratio is {rr:.2f} +/- {rrstd:.2f}\")"
   ]
  },
  {
   "cell_type": "markdown",
   "metadata": {},
   "source": [
    "## R0 F1 ratio and population with RC laser pol switching (53 mW) no microwaves"
   ]
  },
  {
   "cell_type": "code",
   "execution_count": 694,
   "metadata": {},
   "outputs": [],
   "source": [
    "dset_name = dset_names[51]\n",
    "devices = ()"
   ]
  },
  {
   "cell_type": "code",
   "execution_count": 695,
   "metadata": {},
   "outputs": [],
   "source": [
    "slice_flm  = np.s_[-250:]\n",
    "slice_absm = np.s_[-500:]\n",
    "slice_fli  = np.s_[100:]\n",
    "slice_absi = np.s_[10:]"
   ]
  },
  {
   "cell_type": "code",
   "execution_count": 696,
   "metadata": {},
   "outputs": [],
   "source": [
    "pxie, pxie_time, pxie_attrs, data_devices = load_measurement_data_devices_attrs(hdf_dir / fname, dset_name, devices)\n",
    "\n",
    "yag_data = np.array([pxie[idx][:,yag_channel] for idx in range(1,len(pxie)+1)])\n",
    "pmt_data = -np.array([pxie[idx][:,pmt_channel].astype(float) for idx in range(1,len(pxie)+1)])\n",
    "pd_data = np.array([pxie[idx][:,pd_channel].astype(float) for idx in range(1,len(pxie)+1)])\n",
    "pdn_data = np.array([pxie[idx][:,pdn_channel].astype(float) for idx in range(1,len(pxie)+1)])\n",
    "shutter_data = np.array([pxie[idx][:,shutter_channel].astype(float) for idx in range(1,len(pxie)+1)])\n",
    "pdrc_data = np.array([pxie[idx][:,pdrc_channel].astype(float) for idx in range(1,len(pxie)+1)])\n",
    "\n",
    "norm_data = -pd_data/pdn_data"
   ]
  },
  {
   "cell_type": "code",
   "execution_count": 697,
   "metadata": {},
   "outputs": [],
   "source": [
    "yag_cutoff = 250\n",
    "ptn_cutoff = 19000\n",
    "abs_cutoff = 4\n",
    "fl_cutoff = -5000"
   ]
  },
  {
   "cell_type": "code",
   "execution_count": 698,
   "metadata": {},
   "outputs": [],
   "source": [
    "pmt_data_norm = pmt_data.copy()\n",
    "norm_data_norm = norm_data.copy()\n",
    "\n",
    "mask_yag = yag_data.max(axis = 1) < yag_cutoff\n",
    "mask_pdn = pdn_data.min(axis = 1) < ptn_cutoff\n",
    "mask_abs = np.trapz(norm_data[:,slice_absi] - norm_data[:,slice_absm].mean(axis = 1)[:, np.newaxis]) < abs_cutoff\n",
    "mask_fl = np.trapz(pmt_data[:,slice_fli] - pmt_data[:,slice_flm].mean(axis = 1)[:, np.newaxis]) < fl_cutoff\n",
    "\n",
    "mask = mask_yag | mask_pdn | mask_abs | mask_fl\n",
    "\n",
    "norm_data_norm[mask] = np.nan\n",
    "norm_data_norm -= norm_data_norm[:,slice_absm].mean(axis = 1)[:, np.newaxis]\n",
    "\n",
    "pmt_data_norm[mask] = np.nan\n",
    "pmt_data_norm -= pmt_data_norm[:,slice_flm].mean(axis = 1)[:, np.newaxis]"
   ]
  },
  {
   "cell_type": "code",
   "execution_count": 699,
   "metadata": {},
   "outputs": [],
   "source": [
    "fluorescence_integral = np.trapz(pmt_data_norm[:,slice_fli], axis = 1)\n",
    "absorption_integral = np.trapz(norm_data_norm[:,slice_absi], axis = 1)\n",
    "\n",
    "mask_sh_open = shutter_data.max(axis = 1) > 10000\n",
    "\n",
    "nbunch = 10\n",
    "mask_sh_open = mask_sh_open[:(len(mask_sh_open)//nbunch) * nbunch]\n",
    "mask_sh_closed = ~mask_sh_open"
   ]
  },
  {
   "cell_type": "code",
   "execution_count": 700,
   "metadata": {},
   "outputs": [],
   "source": [
    "dat = (fluorescence_integral/absorption_integral)\n",
    "dat = dat[:len(dat)//nbunch * nbunch]"
   ]
  },
  {
   "cell_type": "code",
   "execution_count": 701,
   "metadata": {},
   "outputs": [
    {
     "name": "stdout",
     "output_type": "stream",
     "text": [
      "ratio is 2.76 +/- 0.06\n"
     ]
    },
    {
     "data": {
      "image/png": "[encoded data removed]",
      "text/plain": [
       "<Figure size 576x360 with 1 Axes>"
      ]
     },
     "metadata": {
      "needs_background": "light"
     },
     "output_type": "display_data"
    }
   ],
   "source": [
    "o = np.nanmean(dat[mask_sh_open])\n",
    "ostd = np.nanstd(dat[mask_sh_open])/np.sqrt(np.sum(~np.isnan(dat[mask_sh_open]))-1)\n",
    "c = np.nanmean(dat[mask_sh_closed])\n",
    "cstd = np.nanstd(dat[mask_sh_closed])/np.sqrt(np.sum(~np.isnan(dat[mask_sh_closed]))-1)\n",
    "\n",
    "fig, ax = plt.subplots(figsize = (8,5))\n",
    "d = dat[mask_sh_closed]\n",
    "d = d[~np.isnan(d)]\n",
    "ax.hist(d, alpha = 0.7, bins = 15, label = 'RC off')\n",
    "ax.axvline(c, color = 'k')\n",
    "d = dat[mask_sh_open]\n",
    "d = d[~np.isnan(d)]\n",
    "ax.hist(d, alpha = 0.8, bins = 15, label = 'RC on')\n",
    "ax.axvline(o, color = 'k')\n",
    "\n",
    "ax.legend(fontsize = 14)\n",
    "set_fontsize(ax, 14)\n",
    "\n",
    "r, rstd = ratio_with_error(o, c, ostd, cstd)\n",
    "print(f\"ratio is {r:.2f} +/- {rstd:.2f}\")"
   ]
  },
  {
   "cell_type": "code",
   "execution_count": 702,
   "metadata": {},
   "outputs": [
    {
     "name": "stdout",
     "output_type": "stream",
     "text": [
      "ratio is 3.07 +/- 0.08\n"
     ]
    },
    {
     "data": {
      "image/png": "[encoded data removed]",
      "text/plain": [
       "<Figure size 576x360 with 1 Axes>"
      ]
     },
     "metadata": {
      "needs_background": "light"
     },
     "output_type": "display_data"
    }
   ],
   "source": [
    "ratio = dat[mask_sh_open]/dat[mask_sh_closed]\n",
    "ratio = ratio[~np.isnan(ratio)]\n",
    "\n",
    "fig, ax = plt.subplots(figsize = (8,5))\n",
    "ax.hist(ratio[ratio < 20], bins = 21);\n",
    "ax.axvline(r, color = 'k')\n",
    "\n",
    "rr = np.nanmean(ratio[ratio < 20])\n",
    "rrstd = np.nanstd(ratio[ratio < 20])/np.sqrt(len(ratio)-1)\n",
    "\n",
    "ax.axvline(rr, color = 'C3')\n",
    "\n",
    "set_fontsize(ax, 14)\n",
    "\n",
    "print(f\"ratio is {rr:.2f} +/- {rrstd:.2f}\")"
   ]
  },
  {
   "cell_type": "code",
   "execution_count": null,
   "metadata": {},
   "outputs": [],
   "source": []
  }
 ],
 "metadata": {
  "kernelspec": {
   "display_name": "Python 3",
   "language": "python",
   "name": "python3"
  },
  "language_info": {
   "codemirror_mode": {
    "name": "ipython",
    "version": 3
   },
   "file_extension": ".py",
   "mimetype": "text/x-python",
   "name": "python",
   "nbconvert_exporter": "python",
   "pygments_lexer": "ipython3",
   "version": "3.7.0"
  }
 },
 "nbformat": 4,
 "nbformat_minor": 2
}
