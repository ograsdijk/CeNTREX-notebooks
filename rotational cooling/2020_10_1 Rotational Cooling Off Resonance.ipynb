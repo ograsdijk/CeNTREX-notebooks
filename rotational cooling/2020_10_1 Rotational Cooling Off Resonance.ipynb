{
 "cells": [
  {
   "cell_type": "code",
   "execution_count": 1,
   "metadata": {},
   "outputs": [],
   "source": [
    "import numpy as np\n",
    "from tqdm import tqdm\n",
    "import matplotlib.pyplot as plt\n",
    "from utils.plot_utils import set_fontsize\n",
    "from utils.binning_utils import bin_dataset_switching\n",
    "from utils.hdf_utils import load_measurement_data_devices_attrs\n",
    "from utils.plot_utils import plot_binned_dataset_switching\n",
    "from utils.binning_utils import bin_data, find_nearest_idx, combine_arrays_irregular, \\\n",
    "                                average_binned_data, bin_dataset_switching"
   ]
  },
  {
   "cell_type": "code",
   "execution_count": 2,
   "metadata": {},
   "outputs": [
    {
     "data": {
      "text/html": [
       "<style>\n",
       "    table {\n",
       "        display: inline-block\n",
       "    }\n",
       "</style>\n"
      ],
      "text/plain": [
       "<IPython.core.display.HTML object>"
      ]
     },
     "metadata": {},
     "output_type": "display_data"
    }
   ],
   "source": [
    "%%html\n",
    "<style>\n",
    "    table {\n",
    "        display: inline-block\n",
    "    }\n",
    "</style>"
   ]
  },
  {
   "cell_type": "code",
   "execution_count": 3,
   "metadata": {},
   "outputs": [],
   "source": [
    "fname = \"2020_10_1.hdf\"\n",
    "dset_name = \"1601575396 shutter rc off resonance\"\n",
    "title = \"shutter rotational cooling laser off resonance\"\n",
    "\n",
    "dset_names = [dset_name]\n",
    "devices = ('Laser Lock', 'Wavelength', 'ZaberTMM')"
   ]
  },
  {
   "cell_type": "code",
   "execution_count": 4,
   "metadata": {},
   "outputs": [],
   "source": [
    "pmt_channel = 1\n",
    "pxie, pxie_time, pxie_attrs, data_devices = load_measurement_data_devices_attrs(fname, dset_name, devices)"
   ]
  },
  {
   "cell_type": "code",
   "execution_count": 5,
   "metadata": {},
   "outputs": [],
   "source": [
    "qswitch_fired = []\n",
    "qswitch_not_fired = []\n",
    "for key, val in pxie.items():\n",
    "    if np.max(val[:,0]) > 500:\n",
    "        qswitch_fired.append(key)\n",
    "    else:\n",
    "        qswitch_not_fired.append(key)\n",
    "qswitch_fired.sort()\n",
    "qswitch_not_fired.sort()"
   ]
  },
  {
   "cell_type": "code",
   "execution_count": 6,
   "metadata": {},
   "outputs": [],
   "source": [
    "ch = 1\n",
    "powers = np.linspace(5,6.5,7)\n",
    "indices_grouped = {p: {'open': [], 'closed': []} for p in powers}\n",
    "data_grouped = {p: {'open': [], 'closed': []} for p in powers}\n",
    "\n",
    "for idx in qswitch_fired:\n",
    "    attrs = pxie_attrs[idx]\n",
    "    p = attrs['Seed1Amplifier SetCurrent']\n",
    "    if attrs['ShutterControl SetVoltage'] == '0':\n",
    "        indices_grouped[p]['closed'].append(idx)\n",
    "        data_grouped[p]['closed'].append(pxie[idx][:,ch])\n",
    "    elif attrs['ShutterControl SetVoltage'] == '5':\n",
    "        indices_grouped[p]['open'].append(idx)\n",
    "        data_grouped[p]['open'].append(pxie[idx][:,ch])"
   ]
  },
  {
   "cell_type": "code",
   "execution_count": 7,
   "metadata": {},
   "outputs": [
    {
     "ename": "NameError",
     "evalue": "name 'axf' is not defined",
     "output_type": "error",
     "traceback": [
      "\u001b[1;31m---------------------------------------------------------------------------\u001b[0m",
      "\u001b[1;31mNameError\u001b[0m                                 Traceback (most recent call last)",
      "\u001b[1;32m<ipython-input-7-666d67dcb9a2>\u001b[0m in \u001b[0;36m<module>\u001b[1;34m\u001b[0m\n\u001b[1;32m----> 1\u001b[1;33m \u001b[0maxf\u001b[0m\u001b[1;33m.\u001b[0m\u001b[0mflatten\u001b[0m\u001b[1;33m(\u001b[0m\u001b[1;33m)\u001b[0m\u001b[1;33m\u001b[0m\u001b[1;33m\u001b[0m\u001b[0m\n\u001b[0m",
      "\u001b[1;31mNameError\u001b[0m: name 'axf' is not defined"
     ]
    }
   ],
   "source": [
    "axf.flatten()"
   ]
  },
  {
   "cell_type": "code",
   "execution_count": null,
   "metadata": {},
   "outputs": [],
   "source": [
    "from scipy.signal import savgol_filter\n",
    "\n",
    "figf, axf = plt.subplots(2,3,figsize = (19,10), sharex = True, \n",
    "            gridspec_kw={'hspace': 0, 'wspace': .26, 'height_ratios': [1,1]})\n",
    "\n",
    "axp = {p:ax for p,ax in zip(powers, axf.flatten())}\n",
    "\n",
    "ratios = []\n",
    "\n",
    "for p in powers:\n",
    "    yo = np.mean(data_grouped[p]['open'], axis = 0)\n",
    "    yc = np.mean(data_grouped[p]['closed'], axis = 0)\n",
    "    yo -= np.mean(yo[:300])\n",
    "    yc -= np.mean(yc[:300])\n",
    "\n",
    "    lo = len(data_grouped[p]['open'])\n",
    "    lc = len(data_grouped[p]['closed'])\n",
    "\n",
    "    syo = np.std(data_grouped[p]['open'], axis = 0)\n",
    "    syo /= np.sqrt(lo)\n",
    "    syc = np.std(data_grouped[p]['closed'], axis = 0)\n",
    "    syc /= np.sqrt(lc)\n",
    "\n",
    "    x = np.linspace(0,1999,2000)/100\n",
    "    \n",
    "    trapzo = np.trapz(-yo)\n",
    "    trapzc = np.trapz(-yc)\n",
    "    trapz_error = (trapzo/trapzc)*np.sqrt((np.sum(syo)/trapzo)**2 + (np.sum(syc)/trapzc)**2)\n",
    "    \n",
    "    ratios.append((np.trapz(-yo)/np.trapz(-yc), trapz_error))\n",
    "    \n",
    "    print(f'{p:.1f} A -> integral ratio : {np.trapz(-yo)/np.trapz(-yc):.5f} +/- {trapz_error:.5f}')\n",
    "    \n",
    "    if p in axp:\n",
    "        axp[p].fill_between(x, -yo-syo, -yo+syo, alpha = .7)\n",
    "        axp[p].fill_between(x, -yc-syc, -yc+syc, alpha = .7)\n",
    "        axp[p].plot(x, -savgol_filter(yo, 51, 3), lw = 3, label= 'rc on')\n",
    "        axp[p].plot(x, -savgol_filter(yc, 51, 3), lw = 3, label = 'rc off')\n",
    "        axp[p].set_xlabel('time [ms]')\n",
    "        axp[p].set_ylabel('signal [adc]')\n",
    "        axp[p].text(0.5, 0.05, f'amplifier {p:.1f} A', transform=axp[p].transAxes, fontsize = 15,\n",
    "                   ha = 'center', va = 'bottom')\n",
    "        \n",
    "        axp[p].legend(fontsize = 15)\n",
    "        set_fontsize(axp[p], 15)\n",
    "for ax in list(axp.values())[:len(axp)//2]:\n",
    "    ax.tick_params(direction = 'in')\n",
    "\n",
    "figf.align_ylabels()\n",
    "    \n",
    "# figf.savefig(f'linearity.png', dpi = 300, bbox_inches='tight')"
   ]
  },
  {
   "cell_type": "code",
   "execution_count": null,
   "metadata": {},
   "outputs": [],
   "source": [
    "y,yerr = zip(*ratios)\n",
    "\n",
    "ymean = np.mean(y)\n",
    "yerr = np.array(yerr)\n",
    "ymeanerr = np.sqrt(np.sum(yerr**2))/len(yerr)\n",
    "\n",
    "fig, ax = plt.subplots(figsize = (8,5))\n",
    "\n",
    "ax.errorbar(powers, y, yerr, fmt = '.', ms = 15, ecolor = 'C3', lw = 3)\n",
    "ax.axhline(ymean, color = 'k', lw = 3, zorder = 0)\n",
    "ax.fill_between(powers, ymean - ymeanerr, ymean+ymeanerr, zorder = 0, alpha = 0.4, color = 'k')\n",
    "\n",
    "ax.set_ylabel('rc on/rc off')\n",
    "ax.set_xlabel('amplifier power [A]')\n",
    "\n",
    "set_fontsize(ax, 15)"
   ]
  },
  {
   "cell_type": "code",
   "execution_count": null,
   "metadata": {},
   "outputs": [],
   "source": [
    "investigate = []\n",
    "integrals = []\n",
    "for idx in qswitch_fired:\n",
    "    y = pxie[idx][:,ch]\n",
    "    integral = np.trapz(-(y-np.mean(y[:300])))\n",
    "    integrals.append(integral)\n",
    "    if integral < 7e4:\n",
    "        investigate.append(idx)"
   ]
  },
  {
   "cell_type": "code",
   "execution_count": null,
   "metadata": {},
   "outputs": [],
   "source": [
    "fig, ax = plt.subplots(figsize = (10,7))\n",
    "ax.plot(integrals, '.')\n",
    "\n",
    "ax.set_xlabel('time [ms]')\n",
    "\n",
    "ax.axhline(7e4, color = 'k', lw = 3)\n",
    "\n",
    "set_fontsize(ax, 15)"
   ]
  },
  {
   "cell_type": "code",
   "execution_count": null,
   "metadata": {},
   "outputs": [],
   "source": [
    "print(f'{len(investigate)} shots with small integral')\n",
    "for idx in investigate:\n",
    "    fig, ax = plt.subplots(figsize = (10,7))\n",
    "    ax.plot(pxie[idx][:,ch], lw = 3)\n",
    "    \n",
    "    ax.set_title(f'shot {idx}')\n",
    "\n",
    "    ax.set_xlabel('time [ms]')"
   ]
  },
  {
   "cell_type": "code",
   "execution_count": null,
   "metadata": {},
   "outputs": [],
   "source": []
  }
 ],
 "metadata": {
  "kernelspec": {
   "display_name": "Python 3",
   "language": "python",
   "name": "python3"
  },
  "language_info": {
   "codemirror_mode": {
    "name": "ipython",
    "version": 3
   },
   "file_extension": ".py",
   "mimetype": "text/x-python",
   "name": "python",
   "nbconvert_exporter": "python",
   "pygments_lexer": "ipython3",
   "version": "3.8.5"
  }
 },
 "nbformat": 4,
 "nbformat_minor": 4
}
