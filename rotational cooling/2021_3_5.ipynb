{
 "cells": [
  {
   "cell_type": "code",
   "execution_count": 1,
   "metadata": {},
   "outputs": [],
   "source": [
    "import h5py\n",
    "import copy\n",
    "import lmfit\n",
    "import numpy as np\n",
    "from pathlib import Path\n",
    "import matplotlib.pyplot as plt\n",
    "from rich.progress import Progress\n",
    "from scipy.stats import binned_statistic\n",
    "from utils.plot_utils import set_fontsize\n",
    "from utils.hdf_utils import load_measurement_data_devices_attrs"
   ]
  },
  {
   "cell_type": "code",
   "execution_count": 2,
   "metadata": {},
   "outputs": [],
   "source": [
    "def ratio_with_error(a,b,σa,σb):\n",
    "    ratio = a/b\n",
    "    err = ratio * np.sqrt((σa/a)**2 + (σb/b)**2)\n",
    "    return ratio, err"
   ]
  },
  {
   "cell_type": "code",
   "execution_count": 3,
   "metadata": {},
   "outputs": [],
   "source": [
    "hdf_dir = Path(\"../data\")"
   ]
  },
  {
   "cell_type": "code",
   "execution_count": 7,
   "metadata": {},
   "outputs": [],
   "source": [
    "yag_channel = 0\n",
    "pmt_channel = 1\n",
    "pd_channel = 2\n",
    "pdn_channel = 3\n",
    "shutter_channel = 4\n",
    "pdrc_channel = 5"
   ]
  },
  {
   "cell_type": "code",
   "execution_count": 8,
   "metadata": {},
   "outputs": [
    {
     "data": {
      "text/plain": [
       "['1614977805 scan R0 F1',\n",
       " '1614978907 scan P2 F1',\n",
       " '1614978965 scan P2 F1',\n",
       " '1614980016 scan J12 microwaves',\n",
       " '1614983082 scan P2 F1 with microwaves']"
      ]
     },
     "execution_count": 8,
     "metadata": {},
     "output_type": "execute_result"
    }
   ],
   "source": [
    "fname = \"2021_3_5.hdf\"\n",
    "\n",
    "with h5py.File(hdf_dir / fname, 'r') as f:\n",
    "    dset_names = list(f.keys())\n",
    "dset_names"
   ]
  },
  {
   "cell_type": "code",
   "execution_count": 9,
   "metadata": {},
   "outputs": [],
   "source": [
    "dset_name = \"1614983082 scan P2 F1 with microwaves\"\n",
    "devices = ()"
   ]
  },
  {
   "cell_type": "code",
   "execution_count": 10,
   "metadata": {},
   "outputs": [],
   "source": [
    "slice_flm  = np.s_[100:250]\n",
    "slice_absm = np.s_[-500:]\n",
    "slice_fli  = np.s_[100:]\n",
    "slice_absi = np.s_[10:]"
   ]
  },
  {
   "cell_type": "code",
   "execution_count": 8,
   "metadata": {},
   "outputs": [],
   "source": [
    "scan_parameter = \"Laser Lock 1 SetLockPointSeed1\""
   ]
  },
  {
   "cell_type": "code",
   "execution_count": 9,
   "metadata": {},
   "outputs": [],
   "source": [
    "pxie, pxie_time, pxie_attrs, data_devices = load_measurement_data_devices_attrs(hdf_dir / fname, dset_name, devices)\n",
    "\n",
    "yag_data = np.array([pxie[idx][:,yag_channel] for idx in range(1,len(pxie)+1)])\n",
    "pmt_data = -np.array([pxie[idx][:,pmt_channel].astype(float) for idx in range(1,len(pxie)+1)])\n",
    "pd_data = np.array([pxie[idx][:,pd_channel].astype(float) for idx in range(1,len(pxie)+1)])\n",
    "pdn_data = np.array([pxie[idx][:,pdn_channel].astype(float) for idx in range(1,len(pxie)+1)])\n",
    "shutter_data = np.array([pxie[idx][:,shutter_channel].astype(float) for idx in range(1,len(pxie)+1)])\n",
    "pdrc_data = np.array([pxie[idx][:,pdrc_channel].astype(float) for idx in range(1,len(pxie)+1)])\n",
    "\n",
    "scan_parameters = np.array([float(pxie_attrs[idx][scan_parameter]) for idx in range(1,len(pxie)+1)])\n",
    "\n",
    "norm_data = -pd_data/pdn_data\n",
    "\n",
    "dset_len = yag_data[0].size\n",
    "\n",
    "total_len = int((nbunch) * (yag_data.size//(dset_len*nbunch)))\n",
    "\n",
    "yag_data = yag_data[:total_len]\n",
    "pmt_data = pmt_data[:total_len]\n",
    "pd_data = pd_data[:total_len]\n",
    "pdn_data = pdn_data[:total_len]\n",
    "norm_data = norm_data[:total_len]\n",
    "shutter_data = shutter_data[:total_len]"
   ]
  },
  {
   "cell_type": "code",
   "execution_count": 10,
   "metadata": {},
   "outputs": [],
   "source": [
    "pmt_data_norm = pmt_data.copy()\n",
    "norm_data_norm = norm_data.copy()\n",
    "\n",
    "pmt_data_norm -= pmt_data_norm[:,slice_flm].mean(axis = 1)[:, np.newaxis]\n",
    "norm_data_norm -= norm_data_norm[:,slice_absm].mean(axis = 1)[:, np.newaxis]\n",
    "\n",
    "mask_yag = yag_data.max(axis = 1) < 500\n",
    "mask_abs = np.trapz(norm_data_norm[:,slice_absi], axis = 1) < 0.7\n",
    "\n",
    "mask = mask_yag | mask_abs\n",
    "\n",
    "pmt_data_norm[mask] = np.nan\n",
    "norm_data_norm[mask] = np.nan"
   ]
  },
  {
   "cell_type": "code",
   "execution_count": 11,
   "metadata": {},
   "outputs": [],
   "source": [
    "fluorescence_integral = np.trapz(pmt_data_norm[:,slice_fli], axis = 1)\n",
    "absorption_integral = np.trapz(norm_data_norm[:,slice_absi], axis = 1)\n",
    "\n",
    "mask_sh_open = shutter_data.max(axis = 1) > 10000\n",
    "mask_sh_closed = ~mask_sh_open\n",
    "\n",
    "bin_width = np.diff(np.unique(scan_parameters)).min()\n",
    "bins = np.arange(np.unique(scan_parameters).min()-bin_width/2, np.unique(scan_parameters).max()+bin_width/2, bin_width)\n",
    "\n",
    "results = []\n",
    "for m in [mask_sh_open, mask_sh_closed]:\n",
    "    stat, bin_edges, bin_number = binned_statistic(scan_parameters[m], (fluorescence_integral/absorption_integral)[m], lambda x: np.nanmean(x), bins = bins)\n",
    "    err, _, _ = binned_statistic(scan_parameters[m], (fluorescence_integral/absorption_integral)[m], lambda x: np.nanstd(x)/np.sqrt(len(x)-1), bins = bins)\n",
    "    results.append((stat, err, bin_number))\n",
    "    \n",
    "bin_means = bin_edges[:-1]+bin_width/2"
   ]
  },
  {
   "cell_type": "code",
   "execution_count": 12,
   "metadata": {},
   "outputs": [
    {
     "data": {
      "image/png": "[encoded data removed]",
      "text/plain": [
       "<Figure size 576x360 with 1 Axes>"
      ]
     },
     "metadata": {
      "needs_background": "light"
     },
     "output_type": "display_data"
    },
    {
     "data": {
      "image/png": "[encoded data removed]",
      "text/plain": [
       "<Figure size 576x360 with 1 Axes>"
      ]
     },
     "metadata": {
      "needs_background": "light"
     },
     "output_type": "display_data"
    }
   ],
   "source": [
    "fig, ax = plt.subplots(figsize = (8,5))\n",
    "ax.errorbar(bin_means, results[0][0], yerr = results[0][1], fmt = '.', label = 'RC on')\n",
    "ax.errorbar(bin_means, results[1][0], yerr = results[1][1], fmt = '.', label = 'RC off')\n",
    "\n",
    "ax.set_xlabel('IR frequency [MHz]')\n",
    "ax.set_ylabel('normalized signal [arb.]')\n",
    "\n",
    "set_fontsize(ax, 14)\n",
    "\n",
    "ratio, err = ratio_with_error(results[0][0], results[1][0], results[0][1], results[1][1])\n",
    "\n",
    "fig, ax = plt.subplots(figsize = (8,5))\n",
    "ax.errorbar(bin_means, ratio, yerr = err, fmt = '.')\n",
    "\n",
    "ax.set_xlabel('IR frequency [MHz]')\n",
    "ax.set_ylabel('ratio')\n",
    "\n",
    "set_fontsize(ax, 14)"
   ]
  }
 ],
 "metadata": {
  "kernelspec": {
   "display_name": "Python 3",
   "language": "python",
   "name": "python3"
  },
  "language_info": {
   "codemirror_mode": {
    "name": "ipython",
    "version": 3
   },
   "file_extension": ".py",
   "mimetype": "text/x-python",
   "name": "python",
   "nbconvert_exporter": "python",
   "pygments_lexer": "ipython3",
   "version": "3.7.0"
  }
 },
 "nbformat": 4,
 "nbformat_minor": 2
}
