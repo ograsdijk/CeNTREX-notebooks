{
 "cells": [
  {
   "cell_type": "code",
   "execution_count": 1,
   "id": "b76815bf-9523-40ee-9963-4371596c2172",
   "metadata": {},
   "outputs": [
    {
     "name": "stderr",
     "output_type": "stream",
     "text": [
      "C:\\Users\\ogras\\anaconda3\\lib\\site-packages\\scipy\\__init__.py:146: UserWarning: A NumPy version >=1.16.5 and <1.23.0 is required for this version of SciPy (detected version 1.23.1\n",
      "  warnings.warn(f\"A NumPy version >={np_minversion} and <{np_maxversion}\"\n"
     ]
    },
    {
     "ename": "FileNotFoundError",
     "evalue": "[WinError 2] The system cannot find the file specified",
     "output_type": "error",
     "traceback": [
      "\u001b[1;31m---------------------------------------------------------------------------\u001b[0m",
      "\u001b[1;31mFileNotFoundError\u001b[0m                         Traceback (most recent call last)",
      "Input \u001b[1;32mIn [1]\u001b[0m, in \u001b[0;36m<cell line: 2>\u001b[1;34m()\u001b[0m\n\u001b[0;32m      1\u001b[0m \u001b[38;5;28;01mimport\u001b[39;00m \u001b[38;5;21;01mnumpy\u001b[39;00m \u001b[38;5;28;01mas\u001b[39;00m \u001b[38;5;21;01mnp\u001b[39;00m\n\u001b[1;32m----> 2\u001b[0m \u001b[38;5;28;01mimport\u001b[39;00m \u001b[38;5;21;01mcentrex_TlF\u001b[39;00m \u001b[38;5;28;01mas\u001b[39;00m \u001b[38;5;21;01mcentrex\u001b[39;00m\n\u001b[0;32m      3\u001b[0m \u001b[38;5;28;01mimport\u001b[39;00m \u001b[38;5;21;01mmatplotlib\u001b[39;00m\u001b[38;5;21;01m.\u001b[39;00m\u001b[38;5;21;01mpyplot\u001b[39;00m \u001b[38;5;28;01mas\u001b[39;00m \u001b[38;5;21;01mplt\u001b[39;00m\n\u001b[0;32m      4\u001b[0m \u001b[38;5;28;01mfrom\u001b[39;00m \u001b[38;5;21;01mtqdm\u001b[39;00m \u001b[38;5;28;01mimport\u001b[39;00m tqdm\n",
      "File \u001b[1;32m~\\anaconda3\\lib\\site-packages\\centrex_tlf-0.2-py3.8.egg\\centrex_TlF\\__init__.py:9\u001b[0m, in \u001b[0;36m<module>\u001b[1;34m\u001b[0m\n\u001b[0;32m      7\u001b[0m \u001b[38;5;28;01mfrom\u001b[39;00m \u001b[38;5;21;01m.\u001b[39;00m \u001b[38;5;28;01mimport\u001b[39;00m couplings\n\u001b[0;32m      8\u001b[0m \u001b[38;5;28;01mfrom\u001b[39;00m \u001b[38;5;21;01m.\u001b[39;00m \u001b[38;5;28;01mimport\u001b[39;00m constants\n\u001b[1;32m----> 9\u001b[0m \u001b[38;5;28;01mfrom\u001b[39;00m \u001b[38;5;21;01m.\u001b[39;00m \u001b[38;5;28;01mimport\u001b[39;00m lindblad\n\u001b[0;32m     10\u001b[0m \u001b[38;5;28;01mfrom\u001b[39;00m \u001b[38;5;21;01m.\u001b[39;00m \u001b[38;5;28;01mimport\u001b[39;00m utils\n\u001b[0;32m     11\u001b[0m \u001b[38;5;28;01mfrom\u001b[39;00m \u001b[38;5;21;01m.\u001b[39;00m \u001b[38;5;28;01mimport\u001b[39;00m transitions\n",
      "File \u001b[1;32m~\\anaconda3\\lib\\site-packages\\centrex_tlf-0.2-py3.8.egg\\centrex_TlF\\lindblad\\__init__.py:1\u001b[0m, in \u001b[0;36m<module>\u001b[1;34m\u001b[0m\n\u001b[1;32m----> 1\u001b[0m \u001b[38;5;28;01mfrom\u001b[39;00m \u001b[38;5;21;01m.\u001b[39;00m \u001b[38;5;28;01mimport\u001b[39;00m (\n\u001b[0;32m      2\u001b[0m     generate_hamiltonian,\n\u001b[0;32m      3\u001b[0m     generate_julia_code,\n\u001b[0;32m      4\u001b[0m     generate_system_of_equations,\n\u001b[0;32m      5\u001b[0m     utils,\n\u001b[0;32m      6\u001b[0m     utils_decay,\n\u001b[0;32m      7\u001b[0m     utils_julia,\n\u001b[0;32m      8\u001b[0m     utils_julia_progressbar,\n\u001b[0;32m      9\u001b[0m     utils_setup,\n\u001b[0;32m     10\u001b[0m )\n\u001b[0;32m     11\u001b[0m \u001b[38;5;28;01mfrom\u001b[39;00m \u001b[38;5;21;01m.\u001b[39;00m\u001b[38;5;21;01mgenerate_hamiltonian\u001b[39;00m \u001b[38;5;28;01mimport\u001b[39;00m \u001b[38;5;241m*\u001b[39m\n\u001b[0;32m     12\u001b[0m \u001b[38;5;28;01mfrom\u001b[39;00m \u001b[38;5;21;01m.\u001b[39;00m\u001b[38;5;21;01mgenerate_julia_code\u001b[39;00m \u001b[38;5;28;01mimport\u001b[39;00m \u001b[38;5;241m*\u001b[39m\n",
      "File \u001b[1;32m~\\anaconda3\\lib\\site-packages\\centrex_tlf-0.2-py3.8.egg\\centrex_TlF\\lindblad\\generate_julia_code.py:5\u001b[0m, in \u001b[0;36m<module>\u001b[1;34m\u001b[0m\n\u001b[0;32m      2\u001b[0m \u001b[38;5;28;01mfrom\u001b[39;00m \u001b[38;5;21;01mcollections\u001b[39;00m \u001b[38;5;28;01mimport\u001b[39;00m OrderedDict\n\u001b[0;32m      4\u001b[0m \u001b[38;5;28;01mfrom\u001b[39;00m \u001b[38;5;21;01mcentrex_TlF\u001b[39;00m\u001b[38;5;21;01m.\u001b[39;00m\u001b[38;5;21;01mlindblad\u001b[39;00m\u001b[38;5;21;01m.\u001b[39;00m\u001b[38;5;21;01mutils\u001b[39;00m \u001b[38;5;28;01mimport\u001b[39;00m generate_density_matrix_symbolic\n\u001b[1;32m----> 5\u001b[0m \u001b[38;5;28;01mfrom\u001b[39;00m \u001b[38;5;21;01mcentrex_TlF\u001b[39;00m\u001b[38;5;21;01m.\u001b[39;00m\u001b[38;5;21;01mlindblad\u001b[39;00m\u001b[38;5;21;01m.\u001b[39;00m\u001b[38;5;21;01mutils_julia\u001b[39;00m \u001b[38;5;28;01mimport\u001b[39;00m odeParameters\n\u001b[0;32m      6\u001b[0m \u001b[38;5;28;01mfrom\u001b[39;00m \u001b[38;5;21;01mcentrex_TlF\u001b[39;00m\u001b[38;5;21;01m.\u001b[39;00m\u001b[38;5;21;01mlindblad\u001b[39;00m\u001b[38;5;21;01m.\u001b[39;00m\u001b[38;5;21;01mutils_multiprocessing\u001b[39;00m \u001b[38;5;28;01mimport\u001b[39;00m (\n\u001b[0;32m      7\u001b[0m     multi_system_of_equations_to_lines,\n\u001b[0;32m      8\u001b[0m )\n\u001b[0;32m     10\u001b[0m __all__ \u001b[38;5;241m=\u001b[39m [\u001b[38;5;124m\"\u001b[39m\u001b[38;5;124msystem_of_equations_to_lines\u001b[39m\u001b[38;5;124m\"\u001b[39m, \u001b[38;5;124m\"\u001b[39m\u001b[38;5;124mgenerate_preamble\u001b[39m\u001b[38;5;124m\"\u001b[39m]\n",
      "File \u001b[1;32m~\\anaconda3\\lib\\site-packages\\centrex_tlf-0.2-py3.8.egg\\centrex_TlF\\lindblad\\utils_julia.py:5\u001b[0m, in \u001b[0;36m<module>\u001b[1;34m\u001b[0m\n\u001b[0;32m      3\u001b[0m \u001b[38;5;28;01mimport\u001b[39;00m \u001b[38;5;21;01mnumpy\u001b[39;00m \u001b[38;5;28;01mas\u001b[39;00m \u001b[38;5;21;01mnp\u001b[39;00m\n\u001b[0;32m      4\u001b[0m \u001b[38;5;28;01mimport\u001b[39;00m \u001b[38;5;21;01msympy\u001b[39;00m \u001b[38;5;28;01mas\u001b[39;00m \u001b[38;5;21;01msmp\u001b[39;00m\n\u001b[1;32m----> 5\u001b[0m \u001b[38;5;28;01mfrom\u001b[39;00m \u001b[38;5;21;01mjulia\u001b[39;00m \u001b[38;5;28;01mimport\u001b[39;00m Main\n\u001b[0;32m      6\u001b[0m \u001b[38;5;28;01mfrom\u001b[39;00m \u001b[38;5;21;01msympy\u001b[39;00m \u001b[38;5;28;01mimport\u001b[39;00m Symbol\n\u001b[0;32m      7\u001b[0m \u001b[38;5;28;01mfrom\u001b[39;00m \u001b[38;5;21;01msympy\u001b[39;00m\u001b[38;5;21;01m.\u001b[39;00m\u001b[38;5;21;01mutilities\u001b[39;00m\u001b[38;5;21;01m.\u001b[39;00m\u001b[38;5;21;01mlambdify\u001b[39;00m \u001b[38;5;28;01mimport\u001b[39;00m lambdify\n",
      "File \u001b[1;32m<frozen importlib._bootstrap>:1007\u001b[0m, in \u001b[0;36m_find_and_load\u001b[1;34m(name, import_)\u001b[0m\n",
      "File \u001b[1;32m<frozen importlib._bootstrap>:986\u001b[0m, in \u001b[0;36m_find_and_load_unlocked\u001b[1;34m(name, import_)\u001b[0m\n",
      "File \u001b[1;32m<frozen importlib._bootstrap>:664\u001b[0m, in \u001b[0;36m_load_unlocked\u001b[1;34m(spec)\u001b[0m\n",
      "File \u001b[1;32m<frozen importlib._bootstrap>:627\u001b[0m, in \u001b[0;36m_load_backward_compatible\u001b[1;34m(spec)\u001b[0m\n",
      "File \u001b[1;32m~\\anaconda3\\lib\\site-packages\\julia\\core.py:247\u001b[0m, in \u001b[0;36mJuliaModuleLoader.load_module\u001b[1;34m(self, fullname)\u001b[0m\n\u001b[0;32m    244\u001b[0m juliapath \u001b[38;5;241m=\u001b[39m remove_prefix(fullname, \u001b[38;5;124m\"\u001b[39m\u001b[38;5;124mjulia.\u001b[39m\u001b[38;5;124m\"\u001b[39m)\n\u001b[0;32m    245\u001b[0m \u001b[38;5;28;01mif\u001b[39;00m juliapath \u001b[38;5;241m==\u001b[39m \u001b[38;5;124m'\u001b[39m\u001b[38;5;124mMain\u001b[39m\u001b[38;5;124m'\u001b[39m:\n\u001b[0;32m    246\u001b[0m     \u001b[38;5;28;01mreturn\u001b[39;00m sys\u001b[38;5;241m.\u001b[39mmodules\u001b[38;5;241m.\u001b[39msetdefault(fullname,\n\u001b[1;32m--> 247\u001b[0m                                   \u001b[43mJuliaMainModule\u001b[49m\u001b[43m(\u001b[49m\u001b[38;5;28;43mself\u001b[39;49m\u001b[43m,\u001b[49m\u001b[43m \u001b[49m\u001b[43mfullname\u001b[49m\u001b[43m)\u001b[49m)\n\u001b[0;32m    248\u001b[0m \u001b[38;5;28;01melif\u001b[39;00m \u001b[38;5;28mself\u001b[39m\u001b[38;5;241m.\u001b[39mjulia\u001b[38;5;241m.\u001b[39misafunction(juliapath):\n\u001b[0;32m    249\u001b[0m     \u001b[38;5;28;01mreturn\u001b[39;00m \u001b[38;5;28mself\u001b[39m\u001b[38;5;241m.\u001b[39mjulia\u001b[38;5;241m.\u001b[39meval(juliapath)\n",
      "File \u001b[1;32m~\\anaconda3\\lib\\site-packages\\julia\\core.py:149\u001b[0m, in \u001b[0;36mJuliaModule.__init__\u001b[1;34m(self, loader, *args, **kwargs)\u001b[0m\n\u001b[0;32m    147\u001b[0m \u001b[38;5;28;01mdef\u001b[39;00m \u001b[38;5;21m__init__\u001b[39m(\u001b[38;5;28mself\u001b[39m, loader, \u001b[38;5;241m*\u001b[39margs, \u001b[38;5;241m*\u001b[39m\u001b[38;5;241m*\u001b[39mkwargs):\n\u001b[0;32m    148\u001b[0m     \u001b[38;5;28msuper\u001b[39m(JuliaModule, \u001b[38;5;28mself\u001b[39m)\u001b[38;5;241m.\u001b[39m\u001b[38;5;21m__init__\u001b[39m(\u001b[38;5;241m*\u001b[39margs, \u001b[38;5;241m*\u001b[39m\u001b[38;5;241m*\u001b[39mkwargs)\n\u001b[1;32m--> 149\u001b[0m     \u001b[38;5;28mself\u001b[39m\u001b[38;5;241m.\u001b[39m_julia \u001b[38;5;241m=\u001b[39m \u001b[43mloader\u001b[49m\u001b[38;5;241;43m.\u001b[39;49m\u001b[43mjulia\u001b[49m\n\u001b[0;32m    150\u001b[0m     \u001b[38;5;28mself\u001b[39m\u001b[38;5;241m.\u001b[39m__loader__ \u001b[38;5;241m=\u001b[39m loader\n",
      "File \u001b[1;32m~\\anaconda3\\lib\\site-packages\\julia\\core.py:239\u001b[0m, in \u001b[0;36mJuliaModuleLoader.julia\u001b[1;34m(self)\u001b[0m\n\u001b[0;32m    237\u001b[0m \u001b[38;5;129m@property\u001b[39m\n\u001b[0;32m    238\u001b[0m \u001b[38;5;28;01mdef\u001b[39;00m \u001b[38;5;21mjulia\u001b[39m(\u001b[38;5;28mself\u001b[39m):\n\u001b[1;32m--> 239\u001b[0m     \u001b[38;5;28mself\u001b[39m\u001b[38;5;241m.\u001b[39m\u001b[38;5;18m__class__\u001b[39m\u001b[38;5;241m.\u001b[39mjulia \u001b[38;5;241m=\u001b[39m julia \u001b[38;5;241m=\u001b[39m \u001b[43mJulia\u001b[49m\u001b[43m(\u001b[49m\u001b[43m)\u001b[49m\n\u001b[0;32m    240\u001b[0m     \u001b[38;5;28;01mreturn\u001b[39;00m julia\n",
      "File \u001b[1;32m~\\anaconda3\\lib\\site-packages\\julia\\core.py:468\u001b[0m, in \u001b[0;36mJulia.__init__\u001b[1;34m(self, init_julia, jl_init_path, runtime, jl_runtime_path, debug, **julia_options)\u001b[0m\n\u001b[0;32m    466\u001b[0m     \u001b[38;5;28mself\u001b[39m\u001b[38;5;241m.\u001b[39mapi \u001b[38;5;241m=\u001b[39m get_libjulia()\n\u001b[0;32m    467\u001b[0m \u001b[38;5;28;01melif\u001b[39;00m init_julia:\n\u001b[1;32m--> 468\u001b[0m     jlinfo \u001b[38;5;241m=\u001b[39m \u001b[43mJuliaInfo\u001b[49m\u001b[38;5;241;43m.\u001b[39;49m\u001b[43mload\u001b[49m\u001b[43m(\u001b[49m\u001b[43mruntime\u001b[49m\u001b[43m)\u001b[49m\n\u001b[0;32m    469\u001b[0m     \u001b[38;5;28;01mif\u001b[39;00m jlinfo\u001b[38;5;241m.\u001b[39mversion_info \u001b[38;5;241m<\u001b[39m (\u001b[38;5;241m0\u001b[39m, \u001b[38;5;241m7\u001b[39m):\n\u001b[0;32m    470\u001b[0m         \u001b[38;5;28;01mraise\u001b[39;00m \u001b[38;5;167;01mRuntimeError\u001b[39;00m(\u001b[38;5;124m\"\u001b[39m\u001b[38;5;124mPyJulia does not support Julia < 0.7 anymore\u001b[39m\u001b[38;5;124m\"\u001b[39m)\n",
      "File \u001b[1;32m~\\anaconda3\\lib\\site-packages\\julia\\juliainfo.py:68\u001b[0m, in \u001b[0;36mJuliaInfo.load\u001b[1;34m(cls, julia, **popen_kwargs)\u001b[0m\n\u001b[0;32m     61\u001b[0m \u001b[38;5;124;03m\"\"\"\u001b[39;00m\n\u001b[0;32m     62\u001b[0m \u001b[38;5;124;03mGet basic information from `julia`.\u001b[39;00m\n\u001b[0;32m     63\u001b[0m \u001b[38;5;124;03m\"\"\"\u001b[39;00m\n\u001b[0;32m     65\u001b[0m juliainfo_script \u001b[38;5;241m=\u001b[39m os\u001b[38;5;241m.\u001b[39mpath\u001b[38;5;241m.\u001b[39mjoin(\n\u001b[0;32m     66\u001b[0m     os\u001b[38;5;241m.\u001b[39mpath\u001b[38;5;241m.\u001b[39mdirname(os\u001b[38;5;241m.\u001b[39mpath\u001b[38;5;241m.\u001b[39mrealpath(\u001b[38;5;18m__file__\u001b[39m)), \u001b[38;5;124m\"\u001b[39m\u001b[38;5;124mjuliainfo.jl\u001b[39m\u001b[38;5;124m\"\u001b[39m\n\u001b[0;32m     67\u001b[0m )\n\u001b[1;32m---> 68\u001b[0m proc \u001b[38;5;241m=\u001b[39m subprocess\u001b[38;5;241m.\u001b[39mPopen(\n\u001b[0;32m     69\u001b[0m     [julia, \u001b[38;5;124m\"\u001b[39m\u001b[38;5;124m--startup-file=no\u001b[39m\u001b[38;5;124m\"\u001b[39m, juliainfo_script],\n\u001b[0;32m     70\u001b[0m     stdout\u001b[38;5;241m=\u001b[39msubprocess\u001b[38;5;241m.\u001b[39mPIPE,\n\u001b[0;32m     71\u001b[0m     stderr\u001b[38;5;241m=\u001b[39msubprocess\u001b[38;5;241m.\u001b[39mPIPE,\n\u001b[0;32m     72\u001b[0m     universal_newlines\u001b[38;5;241m=\u001b[39m\u001b[38;5;28;01mTrue\u001b[39;00m,\n\u001b[0;32m     73\u001b[0m     \u001b[38;5;241m*\u001b[39m\u001b[38;5;241m*\u001b[39mpopen_kwargs\n\u001b[0;32m     74\u001b[0m )\n\u001b[0;32m     76\u001b[0m stdout, stderr \u001b[38;5;241m=\u001b[39m proc\u001b[38;5;241m.\u001b[39mcommunicate()\n\u001b[0;32m     77\u001b[0m retcode \u001b[38;5;241m=\u001b[39m proc\u001b[38;5;241m.\u001b[39mwait()\n",
      "File \u001b[1;32m~\\anaconda3\\lib\\subprocess.py:951\u001b[0m, in \u001b[0;36mPopen.__init__\u001b[1;34m(self, args, bufsize, executable, stdin, stdout, stderr, preexec_fn, close_fds, shell, cwd, env, universal_newlines, startupinfo, creationflags, restore_signals, start_new_session, pass_fds, user, group, extra_groups, encoding, errors, text, umask)\u001b[0m\n\u001b[0;32m    947\u001b[0m         \u001b[38;5;28;01mif\u001b[39;00m \u001b[38;5;28mself\u001b[39m\u001b[38;5;241m.\u001b[39mtext_mode:\n\u001b[0;32m    948\u001b[0m             \u001b[38;5;28mself\u001b[39m\u001b[38;5;241m.\u001b[39mstderr \u001b[38;5;241m=\u001b[39m io\u001b[38;5;241m.\u001b[39mTextIOWrapper(\u001b[38;5;28mself\u001b[39m\u001b[38;5;241m.\u001b[39mstderr,\n\u001b[0;32m    949\u001b[0m                     encoding\u001b[38;5;241m=\u001b[39mencoding, errors\u001b[38;5;241m=\u001b[39merrors)\n\u001b[1;32m--> 951\u001b[0m     \u001b[38;5;28;43mself\u001b[39;49m\u001b[38;5;241;43m.\u001b[39;49m\u001b[43m_execute_child\u001b[49m\u001b[43m(\u001b[49m\u001b[43margs\u001b[49m\u001b[43m,\u001b[49m\u001b[43m \u001b[49m\u001b[43mexecutable\u001b[49m\u001b[43m,\u001b[49m\u001b[43m \u001b[49m\u001b[43mpreexec_fn\u001b[49m\u001b[43m,\u001b[49m\u001b[43m \u001b[49m\u001b[43mclose_fds\u001b[49m\u001b[43m,\u001b[49m\n\u001b[0;32m    952\u001b[0m \u001b[43m                        \u001b[49m\u001b[43mpass_fds\u001b[49m\u001b[43m,\u001b[49m\u001b[43m \u001b[49m\u001b[43mcwd\u001b[49m\u001b[43m,\u001b[49m\u001b[43m \u001b[49m\u001b[43menv\u001b[49m\u001b[43m,\u001b[49m\n\u001b[0;32m    953\u001b[0m \u001b[43m                        \u001b[49m\u001b[43mstartupinfo\u001b[49m\u001b[43m,\u001b[49m\u001b[43m \u001b[49m\u001b[43mcreationflags\u001b[49m\u001b[43m,\u001b[49m\u001b[43m \u001b[49m\u001b[43mshell\u001b[49m\u001b[43m,\u001b[49m\n\u001b[0;32m    954\u001b[0m \u001b[43m                        \u001b[49m\u001b[43mp2cread\u001b[49m\u001b[43m,\u001b[49m\u001b[43m \u001b[49m\u001b[43mp2cwrite\u001b[49m\u001b[43m,\u001b[49m\n\u001b[0;32m    955\u001b[0m \u001b[43m                        \u001b[49m\u001b[43mc2pread\u001b[49m\u001b[43m,\u001b[49m\u001b[43m \u001b[49m\u001b[43mc2pwrite\u001b[49m\u001b[43m,\u001b[49m\n\u001b[0;32m    956\u001b[0m \u001b[43m                        \u001b[49m\u001b[43merrread\u001b[49m\u001b[43m,\u001b[49m\u001b[43m \u001b[49m\u001b[43merrwrite\u001b[49m\u001b[43m,\u001b[49m\n\u001b[0;32m    957\u001b[0m \u001b[43m                        \u001b[49m\u001b[43mrestore_signals\u001b[49m\u001b[43m,\u001b[49m\n\u001b[0;32m    958\u001b[0m \u001b[43m                        \u001b[49m\u001b[43mgid\u001b[49m\u001b[43m,\u001b[49m\u001b[43m \u001b[49m\u001b[43mgids\u001b[49m\u001b[43m,\u001b[49m\u001b[43m \u001b[49m\u001b[43muid\u001b[49m\u001b[43m,\u001b[49m\u001b[43m \u001b[49m\u001b[43mumask\u001b[49m\u001b[43m,\u001b[49m\n\u001b[0;32m    959\u001b[0m \u001b[43m                        \u001b[49m\u001b[43mstart_new_session\u001b[49m\u001b[43m)\u001b[49m\n\u001b[0;32m    960\u001b[0m \u001b[38;5;28;01mexcept\u001b[39;00m:\n\u001b[0;32m    961\u001b[0m     \u001b[38;5;66;03m# Cleanup if the child failed starting.\u001b[39;00m\n\u001b[0;32m    962\u001b[0m     \u001b[38;5;28;01mfor\u001b[39;00m f \u001b[38;5;129;01min\u001b[39;00m \u001b[38;5;28mfilter\u001b[39m(\u001b[38;5;28;01mNone\u001b[39;00m, (\u001b[38;5;28mself\u001b[39m\u001b[38;5;241m.\u001b[39mstdin, \u001b[38;5;28mself\u001b[39m\u001b[38;5;241m.\u001b[39mstdout, \u001b[38;5;28mself\u001b[39m\u001b[38;5;241m.\u001b[39mstderr)):\n",
      "File \u001b[1;32m~\\anaconda3\\lib\\subprocess.py:1420\u001b[0m, in \u001b[0;36mPopen._execute_child\u001b[1;34m(self, args, executable, preexec_fn, close_fds, pass_fds, cwd, env, startupinfo, creationflags, shell, p2cread, p2cwrite, c2pread, c2pwrite, errread, errwrite, unused_restore_signals, unused_gid, unused_gids, unused_uid, unused_umask, unused_start_new_session)\u001b[0m\n\u001b[0;32m   1418\u001b[0m \u001b[38;5;66;03m# Start the process\u001b[39;00m\n\u001b[0;32m   1419\u001b[0m \u001b[38;5;28;01mtry\u001b[39;00m:\n\u001b[1;32m-> 1420\u001b[0m     hp, ht, pid, tid \u001b[38;5;241m=\u001b[39m \u001b[43m_winapi\u001b[49m\u001b[38;5;241;43m.\u001b[39;49m\u001b[43mCreateProcess\u001b[49m\u001b[43m(\u001b[49m\u001b[43mexecutable\u001b[49m\u001b[43m,\u001b[49m\u001b[43m \u001b[49m\u001b[43margs\u001b[49m\u001b[43m,\u001b[49m\n\u001b[0;32m   1421\u001b[0m \u001b[43m                             \u001b[49m\u001b[38;5;66;43;03m# no special security\u001b[39;49;00m\n\u001b[0;32m   1422\u001b[0m \u001b[43m                             \u001b[49m\u001b[38;5;28;43;01mNone\u001b[39;49;00m\u001b[43m,\u001b[49m\u001b[43m \u001b[49m\u001b[38;5;28;43;01mNone\u001b[39;49;00m\u001b[43m,\u001b[49m\n\u001b[0;32m   1423\u001b[0m \u001b[43m                             \u001b[49m\u001b[38;5;28;43mint\u001b[39;49m\u001b[43m(\u001b[49m\u001b[38;5;129;43;01mnot\u001b[39;49;00m\u001b[43m \u001b[49m\u001b[43mclose_fds\u001b[49m\u001b[43m)\u001b[49m\u001b[43m,\u001b[49m\n\u001b[0;32m   1424\u001b[0m \u001b[43m                             \u001b[49m\u001b[43mcreationflags\u001b[49m\u001b[43m,\u001b[49m\n\u001b[0;32m   1425\u001b[0m \u001b[43m                             \u001b[49m\u001b[43menv\u001b[49m\u001b[43m,\u001b[49m\n\u001b[0;32m   1426\u001b[0m \u001b[43m                             \u001b[49m\u001b[43mcwd\u001b[49m\u001b[43m,\u001b[49m\n\u001b[0;32m   1427\u001b[0m \u001b[43m                             \u001b[49m\u001b[43mstartupinfo\u001b[49m\u001b[43m)\u001b[49m\n\u001b[0;32m   1428\u001b[0m \u001b[38;5;28;01mfinally\u001b[39;00m:\n\u001b[0;32m   1429\u001b[0m     \u001b[38;5;66;03m# Child is launched. Close the parent's copy of those pipe\u001b[39;00m\n\u001b[0;32m   1430\u001b[0m     \u001b[38;5;66;03m# handles that only the child should have open.  You need\u001b[39;00m\n\u001b[1;32m   (...)\u001b[0m\n\u001b[0;32m   1433\u001b[0m     \u001b[38;5;66;03m# pipe will not close when the child process exits and the\u001b[39;00m\n\u001b[0;32m   1434\u001b[0m     \u001b[38;5;66;03m# ReadFile will hang.\u001b[39;00m\n\u001b[0;32m   1435\u001b[0m     \u001b[38;5;28mself\u001b[39m\u001b[38;5;241m.\u001b[39m_close_pipe_fds(p2cread, p2cwrite,\n\u001b[0;32m   1436\u001b[0m                          c2pread, c2pwrite,\n\u001b[0;32m   1437\u001b[0m                          errread, errwrite)\n",
      "\u001b[1;31mFileNotFoundError\u001b[0m: [WinError 2] The system cannot find the file specified"
     ]
    }
   ],
   "source": [
    "import numpy as np\n",
    "import centrex_TlF as centrex\n",
    "import matplotlib.pyplot as plt\n",
    "from tqdm import tqdm\n",
    "import pandas as pd"
   ]
  },
  {
   "cell_type": "code",
   "execution_count": 2,
   "id": "066865d8-2805-4488-837a-4ce794f0b98f",
   "metadata": {},
   "outputs": [],
   "source": [
    "gnd_sel = centrex.states.QuantumSelector(J = [0,1,2,3,4,5,6], mF = 0)\n",
    "exc_sel = centrex.states.QuantumSelector(J = [1,2,3,4,5], mF = 0, P = [-1,+1])"
   ]
  },
  {
   "cell_type": "code",
   "execution_count": 3,
   "id": "35b548c5-aeb6-4a87-b87d-0fdb49524935",
   "metadata": {},
   "outputs": [],
   "source": [
    "gnd = centrex.states.generate_coupled_states_ground_X(gnd_sel)\n",
    "exc = centrex.states.generate_coupled_states_excited_B(exc_sel)"
   ]
  },
  {
   "cell_type": "code",
   "execution_count": 4,
   "id": "62fb3b6d-aec5-4d44-9ec9-ade555eebd3b",
   "metadata": {},
   "outputs": [
    {
     "name": "stderr",
     "output_type": "stream",
     "text": [
      "100%|██████████████████████████████████████████████████████████████████████| 26/26 [00:03<00:00,  6.84it/s]\n"
     ]
    }
   ],
   "source": [
    "transitions = []\n",
    "for idg, g in tqdm(enumerate(gnd), total = len(gnd)):\n",
    "    for ide, e in enumerate(exc):\n",
    "        ret = centrex.transitions.check_transition_coupled_allowed(g, e, 0)\n",
    "        t = centrex.transitions.identify_transition(g,e)\n",
    "        if t is not None:\n",
    "            transitions.append([idg, ide, t])\n",
    "transitions = np.array(transitions)"
   ]
  },
  {
   "cell_type": "code",
   "execution_count": 5,
   "id": "167454fd-9a48-4d67-ba63-236eb02de072",
   "metadata": {},
   "outputs": [
    {
     "name": "stdout",
     "output_type": "stream",
     "text": [
      "Wall time: 30.3 s\n"
     ]
    }
   ],
   "source": [
    "%%time\n",
    "# get frequencies in Hz\n",
    "frequencies = centrex.transitions.generate_transition_frequencies(\n",
    "    1.*gnd[transitions[:,0].astype(int)], \n",
    "    1.*exc[transitions[:,1].astype(int)]).real / (2*np.pi)"
   ]
  },
  {
   "cell_type": "code",
   "execution_count": 6,
   "id": "3ecf2485-2737-40e5-a483-88c2925805e7",
   "metadata": {},
   "outputs": [],
   "source": [
    "def unique(array):\n",
    "    \"\"\"Get unique values and indices of those values from an \n",
    "    arbitrary list/array/tuple.\n",
    "    Numpy unique requires that the objects are sortable, this \n",
    "    doesn't.\n",
    "    \n",
    "    Args:\n",
    "        array (np.ndarray, list): array/list to get unique items from\n",
    "        \n",
    "    Returns:\n",
    "        (list, list): unique values and indices corresponding\n",
    "                                    to those unique values\n",
    "    \"\"\"\n",
    "    indices = []\n",
    "    values = []\n",
    "    for a in array:\n",
    "        if a not in values:\n",
    "            indices.append(np.where(array == a)[0])\n",
    "            values.append(a)\n",
    "    return values, indices"
   ]
  },
  {
   "cell_type": "code",
   "execution_count": 7,
   "id": "541852ab-527f-43ab-a622-e5691e879aa1",
   "metadata": {},
   "outputs": [],
   "source": [
    "frequencies_unique = []\n",
    "transitions_unique = []\n",
    "for uni, indices in zip(*unique(transitions[:,2])):\n",
    "    transitions_unique.append(transitions[:,2][indices[0]])\n",
    "    frequencies_unique.append(frequencies[indices].mean())\n",
    "frequencies_unique = np.array(frequencies_unique)\n",
    "transitions_unique = np.array(transitions_unique)"
   ]
  },
  {
   "cell_type": "code",
   "execution_count": 8,
   "id": "d374f0e3-6547-4f0b-811c-c451e99a9b93",
   "metadata": {},
   "outputs": [
    {
     "data": {
      "text/html": [
       "<div>\n",
       "<style scoped>\n",
       "    .dataframe tbody tr th:only-of-type {\n",
       "        vertical-align: middle;\n",
       "    }\n",
       "\n",
       "    .dataframe tbody tr th {\n",
       "        vertical-align: top;\n",
       "    }\n",
       "\n",
       "    .dataframe thead th {\n",
       "        text-align: right;\n",
       "    }\n",
       "</style>\n",
       "<table border=\"1\" class=\"dataframe\">\n",
       "  <thead>\n",
       "    <tr style=\"text-align: right;\">\n",
       "      <th></th>\n",
       "      <th>frequency</th>\n",
       "    </tr>\n",
       "  </thead>\n",
       "  <tbody>\n",
       "    <tr>\n",
       "      <th>Transition(O(6) F1'=9/2 F'=4)</th>\n",
       "      <td>1.103248e+15</td>\n",
       "    </tr>\n",
       "    <tr>\n",
       "      <th>Transition(O(6) F1'=9/2 F'=5)</th>\n",
       "      <td>1.103249e+15</td>\n",
       "    </tr>\n",
       "    <tr>\n",
       "      <th>Transition(O(6) F1'=7/2 F'=3)</th>\n",
       "      <td>1.103249e+15</td>\n",
       "    </tr>\n",
       "    <tr>\n",
       "      <th>Transition(O(6) F1'=7/2 F'=4)</th>\n",
       "      <td>1.103249e+15</td>\n",
       "    </tr>\n",
       "    <tr>\n",
       "      <th>Transition(O(5) F1'=7/2 F'=3)</th>\n",
       "      <td>1.103275e+15</td>\n",
       "    </tr>\n",
       "    <tr>\n",
       "      <th>...</th>\n",
       "      <td>...</td>\n",
       "    </tr>\n",
       "    <tr>\n",
       "      <th>Transition(S(3) F1'=9/2 F'=5)</th>\n",
       "      <td>1.103516e+15</td>\n",
       "    </tr>\n",
       "    <tr>\n",
       "      <th>Transition(T(2) F1'=11/2 F'=5)</th>\n",
       "      <td>1.103555e+15</td>\n",
       "    </tr>\n",
       "    <tr>\n",
       "      <th>Transition(T(2) F1'=11/2 F'=6)</th>\n",
       "      <td>1.103555e+15</td>\n",
       "    </tr>\n",
       "    <tr>\n",
       "      <th>Transition(T(2) F1'=9/2 F'=4)</th>\n",
       "      <td>1.103556e+15</td>\n",
       "    </tr>\n",
       "    <tr>\n",
       "      <th>Transition(T(2) F1'=9/2 F'=5)</th>\n",
       "      <td>1.103556e+15</td>\n",
       "    </tr>\n",
       "  </tbody>\n",
       "</table>\n",
       "<p>104 rows × 1 columns</p>\n",
       "</div>"
      ],
      "text/plain": [
       "                                   frequency\n",
       "Transition(O(6) F1'=9/2 F'=4)   1.103248e+15\n",
       "Transition(O(6) F1'=9/2 F'=5)   1.103249e+15\n",
       "Transition(O(6) F1'=7/2 F'=3)   1.103249e+15\n",
       "Transition(O(6) F1'=7/2 F'=4)   1.103249e+15\n",
       "Transition(O(5) F1'=7/2 F'=3)   1.103275e+15\n",
       "...                                      ...\n",
       "Transition(S(3) F1'=9/2 F'=5)   1.103516e+15\n",
       "Transition(T(2) F1'=11/2 F'=5)  1.103555e+15\n",
       "Transition(T(2) F1'=11/2 F'=6)  1.103555e+15\n",
       "Transition(T(2) F1'=9/2 F'=4)   1.103556e+15\n",
       "Transition(T(2) F1'=9/2 F'=5)   1.103556e+15\n",
       "\n",
       "[104 rows x 1 columns]"
      ]
     },
     "execution_count": 8,
     "metadata": {},
     "output_type": "execute_result"
    }
   ],
   "source": [
    "indices = np.argsort(frequencies_unique)\n",
    "\n",
    "df_unique = pd.DataFrame(\n",
    "    {\n",
    "        \"frequency\": frequencies_unique\n",
    "    }\n",
    ")\n",
    "df_unique.index = transitions_unique\n",
    "df_unique = df_unique.sort_values(\"frequency\" )\n",
    "df_unique"
   ]
  },
  {
   "cell_type": "code",
   "execution_count": 9,
   "id": "016da64c-25da-4658-84b5-6214271aa06a",
   "metadata": {},
   "outputs": [],
   "source": [
    "def find_nearby_transitions(transition, Δfrequency, transitions, frequencies):\n",
    "    \"\"\"Find transitions that are within Δfrequency of the specified transition\n",
    "    \n",
    "    Args:\n",
    "        transition (LaserTransition): transition of interest\n",
    "        Δfrequency (float): frequency range to within to search\n",
    "        transitions (np.ndarray): LaserTransitions in a np.ndarray corresponding\n",
    "                                    to the frequencies array\n",
    "        frequencies (np.ndarray): frequencies corresponding to transitions\n",
    "    \n",
    "    Returns:\n",
    "        (np.ndarray, np.ndarray): array of frequencies and array of transitions\n",
    "                                    that are within Δfrequency of the transition\n",
    "                                    of interest\n",
    "    \"\"\"\n",
    "    # find index of transition of interest\n",
    "    transition_idx = [idx for idx, t in enumerate(transitions) if t == transition]\n",
    "    # frequency of transition of interest\n",
    "    frequency_transition = frequencies[transition_idx]\n",
    "    # find indices of transitions within Δfrequency of the transition of interest\n",
    "    indices = np.where(np.abs(frequencies - frequency_transition) <= Δfrequency)[0]\n",
    "    # filter transition of interest index\n",
    "    indices = [idx for idx in indices if idx != transition_idx]\n",
    "    return transitions[indices], frequencies[indices]\n",
    "\n",
    "def find_nearby_transitions_df(transition, Δfrequency, transitions, frequencies):\n",
    "    ts, fs = find_nearby_transitions(transition, Δfrequency, transitions, frequencies)\n",
    "    df = pd.DataFrame(\n",
    "        {\"frequency\": [transition.get_frequency()]}\n",
    "    )\n",
    "    df1 = pd.DataFrame(\n",
    "        {\"frequency\": fs}\n",
    "    )\n",
    "    df = pd.concat([df, df1])\n",
    "    df.index = [transition] + list(ts)\n",
    "    df['Δfrequency [MHz]'] = (df.frequency - transition.get_frequency())/1e6\n",
    "    return df"
   ]
  },
  {
   "cell_type": "code",
   "execution_count": 10,
   "id": "65bd6713-d865-4f56-b9b3-dfff35f918b9",
   "metadata": {},
   "outputs": [],
   "source": [
    "def gaussian(x, mu, sig):\n",
    "    return np.exp(-np.power(x - mu, 2.) / (2 * np.power(sig, 2.)))\n",
    "\n",
    "def plot_nearby_transitions(transition, frequency, other_transitions, other_frequencies, Δfrequency = None):\n",
    "    \"\"\"Plot the transition of interest and nearby transitions\n",
    "    \n",
    "    Args:\n",
    "        transition (LaserTransition): transition of interest\n",
    "        frequency (float): frequency of transition of interest\n",
    "        other_transitions (np.ndarray, list): array/list of nearby transitions\n",
    "        other_frequencies (np.ndarray, list): array/list of frequencies of nearby transitions\n",
    "        Δfrequency (float, optional): frequency range to within was searched\n",
    "    \"\"\"\n",
    "    Δf = 25e6\n",
    "    σg = 5e6\n",
    "    frequency_offset = frequency\n",
    "    \n",
    "    freq_linspace = np.linspace(-Δf,Δf,201)\n",
    "    g = gaussian(freq_linspace, 0, σg)\n",
    "    \n",
    "    fig, ax = plt.subplots(figsize = (8,5))\n",
    "    \n",
    "    # plot transition of interest\n",
    "    ax.plot( (freq_linspace + frequency - frequency_offset ) / 1e6, g, '-',\n",
    "            color = 'k', lw = 2, label = transition.get_string())\n",
    "    \n",
    "    # plot nearby transitions\n",
    "    # find transitions that are too close to distinghuish in plot\n",
    "    # current method is slightly overkill, now creates essentially a\n",
    "    # directed graph in dictonary form, could be used for more intracte\n",
    "    # plotting later\n",
    "    indices_close = []\n",
    "    for idx, f in enumerate(other_frequencies):\n",
    "        idc = np.where(np.abs(other_frequencies - f) <= σg)[0]\n",
    "        idc = [i for i in idc if i != idx]\n",
    "        if len(idc) > 0:\n",
    "            _  = [idx]\n",
    "            _.extend(idc)\n",
    "            indices_close.append(sorted(_))\n",
    "    indices_close = np.unique(indices_close, axis = 0)\n",
    "    indices_close = dict(indices_close)\n",
    "    \n",
    "    lines = []\n",
    "    for idx, (freq, trans) in enumerate(zip(other_frequencies, other_transitions)):\n",
    "        lines.append(\n",
    "            ax.plot( (freq_linspace + freq - frequency_offset ) / 1e6, g, lw = 2, label = trans.get_string())[0]\n",
    "        )\n",
    "    for i,j in indices_close.items():\n",
    "        lines[j].set_linestyle('--')\n",
    "    \n",
    "    \n",
    "    ax.legend(fontsize = 13)\n",
    "    ax.set_xlabel(\"[MHz]\")\n",
    "    ax.set_ylim(ymin = 0)\n",
    "    ax.set_yticks([])\n",
    "    if Δfrequency is not None:\n",
    "        ax.set_xlim(\n",
    "            (-Δfrequency -Δf + (frequency - frequency_offset) ) / 1e6, \n",
    "            (Δfrequency + Δf + (frequency - frequency_offset) ) / 1e6\n",
    "        )\n",
    "    ax.set_title(f\"{transition.get_string()}\", fontsize = 14)\n",
    "    return fig, ax"
   ]
  },
  {
   "cell_type": "code",
   "execution_count": 11,
   "id": "dcd92ab8-74d8-4b0f-936c-ef6ded1c5e0c",
   "metadata": {},
   "outputs": [],
   "source": [
    "amherst_transitions = [\n",
    "    centrex.transitions.LaserTransition(\"R1\", F1 = 3/2, F = 1),\n",
    "    centrex.transitions.LaserTransition(\"R1\", F1 = 3/2, F = 2),\n",
    "    centrex.transitions.LaserTransition(\"R1\", F1 = 5/2, F = 2),\n",
    "    centrex.transitions.LaserTransition(\"R1\", F1 = 5/2, F = 3),\n",
    "    centrex.transitions.LaserTransition(\"Q1\", F1 = 1/2, F = 0),\n",
    "    centrex.transitions.LaserTransition(\"Q1\", F1 = 1/2, F = 1),\n",
    "    centrex.transitions.LaserTransition(\"Q1\", F1 = 3/2, F = 1),\n",
    "]"
   ]
  },
  {
   "cell_type": "code",
   "execution_count": 12,
   "id": "8622437e-fd9f-4ed2-8258-dce5ab65b458",
   "metadata": {},
   "outputs": [],
   "source": [
    "def style_row_transition_of_interest(v, props = \"\", **kwargs):\n",
    "    transition = kwargs.get(\"transition\", None)\n",
    "    if v.name == transition:\n",
    "        return [props] * len(v)\n",
    "    else:\n",
    "        return [None] * len(v)\n",
    "        "
   ]
  },
  {
   "cell_type": "code",
   "execution_count": 13,
   "id": "ee6e7fc8-5f58-4b7f-8584-04622c61bdf6",
   "metadata": {},
   "outputs": [
    {
     "data": {
      "text/html": [
       "<style type=\"text/css\">\n",
       "#T_2aef1_row1_col0, #T_2aef1_row1_col1 {\n",
       "  color: white;\n",
       "  background-color: blue;\n",
       "  opacity: 50%;\n",
       "}\n",
       "</style>\n",
       "<table id=\"T_2aef1\">\n",
       "  <caption>Nearby transitions for R(1) F1'=3/2 F'=1</caption>\n",
       "  <thead>\n",
       "    <tr>\n",
       "      <th class=\"blank level0\" >&nbsp;</th>\n",
       "      <th id=\"T_2aef1_level0_col0\" class=\"col_heading level0 col0\" >frequency</th>\n",
       "      <th id=\"T_2aef1_level0_col1\" class=\"col_heading level0 col1\" >Δfrequency [MHz]</th>\n",
       "    </tr>\n",
       "  </thead>\n",
       "  <tbody>\n",
       "    <tr>\n",
       "      <th id=\"T_2aef1_level0_row0\" class=\"row_heading level0 row0\" >R(1) F1'=5/2 F'=3</th>\n",
       "      <td id=\"T_2aef1_row0_col0\" class=\"data row0 col0\" >1103421532520416.125000</td>\n",
       "      <td id=\"T_2aef1_row0_col1\" class=\"data row0 col1\" >-458.658993</td>\n",
       "    </tr>\n",
       "    <tr>\n",
       "      <th id=\"T_2aef1_level0_row1\" class=\"row_heading level0 row1\" >R(1) F1'=3/2 F'=1</th>\n",
       "      <td id=\"T_2aef1_row1_col0\" class=\"data row1 col0\" >1103421991179409.000000</td>\n",
       "      <td id=\"T_2aef1_row1_col1\" class=\"data row1 col1\" >0.000000</td>\n",
       "    </tr>\n",
       "  </tbody>\n",
       "</table>\n"
      ],
      "text/plain": [
       "<pandas.io.formats.style.Styler at 0x17fd0820f40>"
      ]
     },
     "metadata": {},
     "output_type": "display_data"
    },
    {
     "name": "stdout",
     "output_type": "stream",
     "text": [
      "\n",
      "\n",
      "\n"
     ]
    },
    {
     "data": {
      "text/html": [
       "<style type=\"text/css\">\n",
       "#T_b697b_row0_col0, #T_b697b_row0_col1 {\n",
       "  color: white;\n",
       "  background-color: blue;\n",
       "  opacity: 50%;\n",
       "}\n",
       "</style>\n",
       "<table id=\"T_b697b\">\n",
       "  <caption>Nearby transitions for R(1) F1'=3/2 F'=2</caption>\n",
       "  <thead>\n",
       "    <tr>\n",
       "      <th class=\"blank level0\" >&nbsp;</th>\n",
       "      <th id=\"T_b697b_level0_col0\" class=\"col_heading level0 col0\" >frequency</th>\n",
       "      <th id=\"T_b697b_level0_col1\" class=\"col_heading level0 col1\" >Δfrequency [MHz]</th>\n",
       "    </tr>\n",
       "  </thead>\n",
       "  <tbody>\n",
       "    <tr>\n",
       "      <th id=\"T_b697b_level0_row0\" class=\"row_heading level0 row0\" >R(1) F1'=3/2 F'=2</th>\n",
       "      <td id=\"T_b697b_row0_col0\" class=\"data row0 col0\" >1103422572788902.250000</td>\n",
       "      <td id=\"T_b697b_row0_col1\" class=\"data row0 col1\" >0.000000</td>\n",
       "    </tr>\n",
       "  </tbody>\n",
       "</table>\n"
      ],
      "text/plain": [
       "<pandas.io.formats.style.Styler at 0x17fd0b3b3a0>"
      ]
     },
     "metadata": {},
     "output_type": "display_data"
    },
    {
     "name": "stdout",
     "output_type": "stream",
     "text": [
      "\n",
      "\n",
      "\n"
     ]
    },
    {
     "data": {
      "text/html": [
       "<style type=\"text/css\">\n",
       "#T_3f9d6_row0_col0, #T_3f9d6_row0_col1 {\n",
       "  color: white;\n",
       "  background-color: blue;\n",
       "  opacity: 50%;\n",
       "}\n",
       "</style>\n",
       "<table id=\"T_3f9d6\">\n",
       "  <caption>Nearby transitions for R(1) F1'=5/2 F'=2</caption>\n",
       "  <thead>\n",
       "    <tr>\n",
       "      <th class=\"blank level0\" >&nbsp;</th>\n",
       "      <th id=\"T_3f9d6_level0_col0\" class=\"col_heading level0 col0\" >frequency</th>\n",
       "      <th id=\"T_3f9d6_level0_col1\" class=\"col_heading level0 col1\" >Δfrequency [MHz]</th>\n",
       "    </tr>\n",
       "  </thead>\n",
       "  <tbody>\n",
       "    <tr>\n",
       "      <th id=\"T_3f9d6_level0_row0\" class=\"row_heading level0 row0\" >R(1) F1'=5/2 F'=2</th>\n",
       "      <td id=\"T_3f9d6_row0_col0\" class=\"data row0 col0\" >1103421296070618.500000</td>\n",
       "      <td id=\"T_3f9d6_row0_col1\" class=\"data row0 col1\" >0.000000</td>\n",
       "    </tr>\n",
       "    <tr>\n",
       "      <th id=\"T_3f9d6_level0_row1\" class=\"row_heading level0 row1\" >R(1) F1'=5/2 F'=3</th>\n",
       "      <td id=\"T_3f9d6_row1_col0\" class=\"data row1 col0\" >1103421532520416.125000</td>\n",
       "      <td id=\"T_3f9d6_row1_col1\" class=\"data row1 col1\" >236.449798</td>\n",
       "    </tr>\n",
       "  </tbody>\n",
       "</table>\n"
      ],
      "text/plain": [
       "<pandas.io.formats.style.Styler at 0x17fa4b4ef70>"
      ]
     },
     "metadata": {},
     "output_type": "display_data"
    },
    {
     "name": "stdout",
     "output_type": "stream",
     "text": [
      "\n",
      "\n",
      "\n"
     ]
    },
    {
     "data": {
      "text/html": [
       "<style type=\"text/css\">\n",
       "#T_6cd29_row1_col0, #T_6cd29_row1_col1 {\n",
       "  color: white;\n",
       "  background-color: blue;\n",
       "  opacity: 50%;\n",
       "}\n",
       "</style>\n",
       "<table id=\"T_6cd29\">\n",
       "  <caption>Nearby transitions for R(1) F1'=5/2 F'=3</caption>\n",
       "  <thead>\n",
       "    <tr>\n",
       "      <th class=\"blank level0\" >&nbsp;</th>\n",
       "      <th id=\"T_6cd29_level0_col0\" class=\"col_heading level0 col0\" >frequency</th>\n",
       "      <th id=\"T_6cd29_level0_col1\" class=\"col_heading level0 col1\" >Δfrequency [MHz]</th>\n",
       "    </tr>\n",
       "  </thead>\n",
       "  <tbody>\n",
       "    <tr>\n",
       "      <th id=\"T_6cd29_level0_row0\" class=\"row_heading level0 row0\" >R(1) F1'=5/2 F'=2</th>\n",
       "      <td id=\"T_6cd29_row0_col0\" class=\"data row0 col0\" >1103421303113299.000000</td>\n",
       "      <td id=\"T_6cd29_row0_col1\" class=\"data row0 col1\" >-222.258022</td>\n",
       "    </tr>\n",
       "    <tr>\n",
       "      <th id=\"T_6cd29_level0_row1\" class=\"row_heading level0 row1\" >R(1) F1'=5/2 F'=3</th>\n",
       "      <td id=\"T_6cd29_row1_col0\" class=\"data row1 col0\" >1103421525371320.875000</td>\n",
       "      <td id=\"T_6cd29_row1_col1\" class=\"data row1 col1\" >0.000000</td>\n",
       "    </tr>\n",
       "    <tr>\n",
       "      <th id=\"T_6cd29_level0_row2\" class=\"row_heading level0 row2\" >R(1) F1'=3/2 F'=1</th>\n",
       "      <td id=\"T_6cd29_row2_col0\" class=\"data row2 col0\" >1103421984120009.500000</td>\n",
       "      <td id=\"T_6cd29_row2_col1\" class=\"data row2 col1\" >458.748689</td>\n",
       "    </tr>\n",
       "  </tbody>\n",
       "</table>\n"
      ],
      "text/plain": [
       "<pandas.io.formats.style.Styler at 0x17fa4ab8d60>"
      ]
     },
     "metadata": {},
     "output_type": "display_data"
    },
    {
     "name": "stdout",
     "output_type": "stream",
     "text": [
      "\n",
      "\n",
      "\n"
     ]
    },
    {
     "data": {
      "text/html": [
       "<style type=\"text/css\">\n",
       "#T_5a015_row0_col0, #T_5a015_row0_col1 {\n",
       "  color: white;\n",
       "  background-color: blue;\n",
       "  opacity: 50%;\n",
       "}\n",
       "</style>\n",
       "<table id=\"T_5a015\">\n",
       "  <caption>Nearby transitions for Q(1) F1'=1/2 F'=0</caption>\n",
       "  <thead>\n",
       "    <tr>\n",
       "      <th class=\"blank level0\" >&nbsp;</th>\n",
       "      <th id=\"T_5a015_level0_col0\" class=\"col_heading level0 col0\" >frequency</th>\n",
       "      <th id=\"T_5a015_level0_col1\" class=\"col_heading level0 col1\" >Δfrequency [MHz]</th>\n",
       "    </tr>\n",
       "  </thead>\n",
       "  <tbody>\n",
       "    <tr>\n",
       "      <th id=\"T_5a015_level0_row0\" class=\"row_heading level0 row0\" >Q(1) F1'=1/2 F'=0</th>\n",
       "      <td id=\"T_5a015_row0_col0\" class=\"data row0 col0\" >1103380227821895.250000</td>\n",
       "      <td id=\"T_5a015_row0_col1\" class=\"data row0 col1\" >0.000000</td>\n",
       "    </tr>\n",
       "  </tbody>\n",
       "</table>\n"
      ],
      "text/plain": [
       "<pandas.io.formats.style.Styler at 0x17fa4b4ef70>"
      ]
     },
     "metadata": {},
     "output_type": "display_data"
    },
    {
     "name": "stdout",
     "output_type": "stream",
     "text": [
      "\n",
      "\n",
      "\n"
     ]
    },
    {
     "data": {
      "text/html": [
       "<style type=\"text/css\">\n",
       "#T_62e6a_row0_col0, #T_62e6a_row0_col1 {\n",
       "  color: white;\n",
       "  background-color: blue;\n",
       "  opacity: 50%;\n",
       "}\n",
       "</style>\n",
       "<table id=\"T_62e6a\">\n",
       "  <caption>Nearby transitions for Q(1) F1'=1/2 F'=1</caption>\n",
       "  <thead>\n",
       "    <tr>\n",
       "      <th class=\"blank level0\" >&nbsp;</th>\n",
       "      <th id=\"T_62e6a_level0_col0\" class=\"col_heading level0 col0\" >frequency</th>\n",
       "      <th id=\"T_62e6a_level0_col1\" class=\"col_heading level0 col1\" >Δfrequency [MHz]</th>\n",
       "    </tr>\n",
       "  </thead>\n",
       "  <tbody>\n",
       "    <tr>\n",
       "      <th id=\"T_62e6a_level0_row0\" class=\"row_heading level0 row0\" >Q(1) F1'=1/2 F'=1</th>\n",
       "      <td id=\"T_62e6a_row0_col0\" class=\"data row0 col0\" >1103380791500099.500000</td>\n",
       "      <td id=\"T_62e6a_row0_col1\" class=\"data row0 col1\" >0.000000</td>\n",
       "    </tr>\n",
       "  </tbody>\n",
       "</table>\n"
      ],
      "text/plain": [
       "<pandas.io.formats.style.Styler at 0x17fa4ab8d60>"
      ]
     },
     "metadata": {},
     "output_type": "display_data"
    },
    {
     "name": "stdout",
     "output_type": "stream",
     "text": [
      "\n",
      "\n",
      "\n"
     ]
    },
    {
     "data": {
      "text/html": [
       "<style type=\"text/css\">\n",
       "#T_e2f21_row1_col0, #T_e2f21_row1_col1 {\n",
       "  color: white;\n",
       "  background-color: blue;\n",
       "  opacity: 50%;\n",
       "}\n",
       "</style>\n",
       "<table id=\"T_e2f21\">\n",
       "  <caption>Nearby transitions for Q(1) F1'=3/2 F'=1</caption>\n",
       "  <thead>\n",
       "    <tr>\n",
       "      <th class=\"blank level0\" >&nbsp;</th>\n",
       "      <th id=\"T_e2f21_level0_col0\" class=\"col_heading level0 col0\" >frequency</th>\n",
       "      <th id=\"T_e2f21_level0_col1\" class=\"col_heading level0 col1\" >Δfrequency [MHz]</th>\n",
       "    </tr>\n",
       "  </thead>\n",
       "  <tbody>\n",
       "    <tr>\n",
       "      <th id=\"T_e2f21_level0_row0\" class=\"row_heading level0 row0\" >R(0) F1'=1/2 F'=1</th>\n",
       "      <td id=\"T_e2f21_row0_col0\" class=\"data row0 col0\" >1103394134206586.250000</td>\n",
       "      <td id=\"T_e2f21_row0_col1\" class=\"data row0 col1\" >-191.949765</td>\n",
       "    </tr>\n",
       "    <tr>\n",
       "      <th id=\"T_e2f21_level0_row1\" class=\"row_heading level0 row1\" >Q(1) F1'=3/2 F'=1</th>\n",
       "      <td id=\"T_e2f21_row1_col0\" class=\"data row1 col0\" >1103394326156351.500000</td>\n",
       "      <td id=\"T_e2f21_row1_col1\" class=\"data row1 col1\" >0.000000</td>\n",
       "    </tr>\n",
       "    <tr>\n",
       "      <th id=\"T_e2f21_level0_row2\" class=\"row_heading level0 row2\" >Q(2) F1'=5/2 F'=2</th>\n",
       "      <td id=\"T_e2f21_row2_col0\" class=\"data row2 col0\" >1103394633790299.000000</td>\n",
       "      <td id=\"T_e2f21_row2_col1\" class=\"data row2 col1\" >307.633947</td>\n",
       "    </tr>\n",
       "    <tr>\n",
       "      <th id=\"T_e2f21_level0_row3\" class=\"row_heading level0 row3\" >Q(1) F1'=3/2 F'=2</th>\n",
       "      <td id=\"T_e2f21_row3_col0\" class=\"data row3 col0\" >1103394634357852.250000</td>\n",
       "      <td id=\"T_e2f21_row3_col1\" class=\"data row3 col1\" >308.201501</td>\n",
       "    </tr>\n",
       "  </tbody>\n",
       "</table>\n"
      ],
      "text/plain": [
       "<pandas.io.formats.style.Styler at 0x17fa4b4ef70>"
      ]
     },
     "metadata": {},
     "output_type": "display_data"
    },
    {
     "name": "stdout",
     "output_type": "stream",
     "text": [
      "\n",
      "\n",
      "\n"
     ]
    }
   ],
   "source": [
    "Δfrequency = 500e6\n",
    "for t in amherst_transitions:\n",
    "    df_nearby = find_nearby_transitions_df(t, Δfrequency, df_unique.index.values, df_unique.frequency.values)\n",
    "    df_nearby = df_nearby.sort_values(by = \"frequency\")\n",
    "    df_nearby.index = [v.get_string() for v in df_nearby.index.values]\n",
    "    styled = df_nearby.style.set_caption(f\"Nearby transitions for {t.get_string()}\").apply(\n",
    "        style_row_transition_of_interest,\n",
    "        props = 'color:white;background-color:blue;opacity: 50%;',\n",
    "        transition = t.get_string(),\n",
    "        axis = 1\n",
    "    )\n",
    "    display(styled)\n",
    "    print(\"\\n\"*2)"
   ]
  },
  {
   "cell_type": "code",
   "execution_count": 14,
   "id": "ac46b48b-9cf3-4535-9ce2-dde921a202c4",
   "metadata": {},
   "outputs": [
    {
     "data": {
      "image/png": "[encoded data removed]",
      "text/plain": [
       "<Figure size 576x360 with 1 Axes>"
      ]
     },
     "metadata": {
      "needs_background": "light"
     },
     "output_type": "display_data"
    },
    {
     "data": {
      "image/png": "[encoded data removed]",
      "text/plain": [
       "<Figure size 576x360 with 1 Axes>"
      ]
     },
     "metadata": {
      "needs_background": "light"
     },
     "output_type": "display_data"
    },
    {
     "data": {
      "image/png": "[encoded data removed]",
      "text/plain": [
       "<Figure size 576x360 with 1 Axes>"
      ]
     },
     "metadata": {
      "needs_background": "light"
     },
     "output_type": "display_data"
    },
    {
     "data": {
      "image/png": "[encoded data removed]",
      "text/plain": [
       "<Figure size 576x360 with 1 Axes>"
      ]
     },
     "metadata": {
      "needs_background": "light"
     },
     "output_type": "display_data"
    },
    {
     "data": {
      "image/png": "[encoded data removed]",
      "text/plain": [
       "<Figure size 576x360 with 1 Axes>"
      ]
     },
     "metadata": {
      "needs_background": "light"
     },
     "output_type": "display_data"
    },
    {
     "data": {
      "image/png": "[encoded data removed]",
      "text/plain": [
       "<Figure size 576x360 with 1 Axes>"
      ]
     },
     "metadata": {
      "needs_background": "light"
     },
     "output_type": "display_data"
    },
    {
     "data": {
      "image/png": "[encoded data removed]",
      "text/plain": [
       "<Figure size 576x360 with 1 Axes>"
      ]
     },
     "metadata": {
      "needs_background": "light"
     },
     "output_type": "display_data"
    }
   ],
   "source": [
    "Δfrequency = 500e6\n",
    "for t in amherst_transitions:\n",
    "    plot_nearby_transitions(\n",
    "        t, \n",
    "        t.get_frequency(), \n",
    "        *(find_nearby_transitions(\n",
    "            t, Δfrequency, df_unique.index.values, df_unique.frequency.values\n",
    "        )),\n",
    "        Δfrequency = Δfrequency\n",
    "    )"
   ]
  },
  {
   "cell_type": "code",
   "execution_count": 27,
   "id": "29e89c1b-bf7f-4564-8056-17356a9ec71b",
   "metadata": {},
   "outputs": [
    {
     "data": {
      "text/html": [
       "<style type=\"text/css\">\n",
       "#T_7d2e7_row1_col0, #T_7d2e7_row1_col1 {\n",
       "  color: white;\n",
       "  background-color: blue;\n",
       "  opacity: 50%;\n",
       "}\n",
       "</style>\n",
       "<table id=\"T_7d2e7\">\n",
       "  <caption>Nearby transitions for R(0) F1'=3/2 F'=2</caption>\n",
       "  <thead>\n",
       "    <tr>\n",
       "      <th class=\"blank level0\" >&nbsp;</th>\n",
       "      <th id=\"T_7d2e7_level0_col0\" class=\"col_heading level0 col0\" >frequency</th>\n",
       "      <th id=\"T_7d2e7_level0_col1\" class=\"col_heading level0 col1\" >Δfrequency [MHz]</th>\n",
       "    </tr>\n",
       "  </thead>\n",
       "  <tbody>\n",
       "    <tr>\n",
       "      <th id=\"T_7d2e7_level0_row0\" class=\"row_heading level0 row0\" >R(0) F1'=3/2 F'=1</th>\n",
       "      <td id=\"T_7d2e7_row0_col0\" class=\"data row0 col0\" >1103407652016809.000000</td>\n",
       "      <td id=\"T_7d2e7_row0_col1\" class=\"data row0 col1\" >-307.969891</td>\n",
       "    </tr>\n",
       "    <tr>\n",
       "      <th id=\"T_7d2e7_level0_row1\" class=\"row_heading level0 row1\" >R(0) F1'=3/2 F'=2</th>\n",
       "      <td id=\"T_7d2e7_row1_col0\" class=\"data row1 col0\" >1103407959986700.250000</td>\n",
       "      <td id=\"T_7d2e7_row1_col1\" class=\"data row1 col1\" >0.000000</td>\n",
       "    </tr>\n",
       "  </tbody>\n",
       "</table>\n"
      ],
      "text/plain": [
       "<pandas.io.formats.style.Styler at 0x17fa4d27ca0>"
      ]
     },
     "metadata": {},
     "output_type": "display_data"
    },
    {
     "data": {
      "image/png": "[encoded data removed]",
      "text/plain": [
       "<Figure size 576x360 with 1 Axes>"
      ]
     },
     "metadata": {
      "needs_background": "light"
     },
     "output_type": "display_data"
    }
   ],
   "source": [
    "t = centrex.transitions.LaserTransition(\"R0\", F1 = 3/2, F=2)\n",
    "Δfrequency = 1e9\n",
    "\n",
    "plot_nearby_transitions(\n",
    "    t, \n",
    "    t.get_frequency(), \n",
    "    *(find_nearby_transitions(\n",
    "        t, Δfrequency, df_unique.index.values, df_unique.frequency.values\n",
    "    )),\n",
    "    Δfrequency = Δfrequency\n",
    ");\n",
    "df_nearby = find_nearby_transitions_df(t, Δfrequency, df_unique.index.values, df_unique.frequency.values)\n",
    "df_nearby = df_nearby.sort_values(by = \"frequency\")\n",
    "df_nearby.index = [v.get_string() for v in df_nearby.index.values]\n",
    "styled = df_nearby.style.set_caption(f\"Nearby transitions for {t.get_string()}\").apply(\n",
    "    style_row_transition_of_interest,\n",
    "    props = 'color:white;background-color:blue;opacity: 50%;',\n",
    "    transition = t.get_string(),\n",
    "    axis = 1\n",
    ")\n",
    "display(styled)"
   ]
  },
  {
   "cell_type": "code",
   "execution_count": null,
   "id": "2ef69c3b-b182-40db-b90f-44952a0670d9",
   "metadata": {},
   "outputs": [],
   "source": []
  }
 ],
 "metadata": {
  "kernelspec": {
   "display_name": "Python 3 (ipykernel)",
   "language": "python",
   "name": "python3"
  },
  "language_info": {
   "codemirror_mode": {
    "name": "ipython",
    "version": 3
   },
   "file_extension": ".py",
   "mimetype": "text/x-python",
   "name": "python",
   "nbconvert_exporter": "python",
   "pygments_lexer": "ipython3",
   "version": "3.9.13"
  }
 },
 "nbformat": 4,
 "nbformat_minor": 5
}
